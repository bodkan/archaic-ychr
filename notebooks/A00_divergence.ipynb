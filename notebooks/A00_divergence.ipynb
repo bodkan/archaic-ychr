{
 "cells": [
  {
   "cell_type": "code",
   "execution_count": 4,
   "metadata": {},
   "outputs": [],
   "source": [
    "suppressPackageStartupMessages({\n",
    "\n",
    "    library(tidyverse)\n",
    "    library(here)\n",
    "    library(bdkn)\n",
    "    library(VariantAnnotation)\n",
    "\n",
    "})"
   ]
  },
  {
   "cell_type": "code",
   "execution_count": 5,
   "metadata": {},
   "outputs": [],
   "source": [
    "vcf <- readVcf(here(\"data/vcf/merged_full.vcf.gz\"))"
   ]
  },
  {
   "cell_type": "code",
   "execution_count": 6,
   "metadata": {},
   "outputs": [],
   "source": [
    "gt <- geno(vcf)$GT %>% replace(. == \".\", NA)"
   ]
  },
  {
   "cell_type": "code",
   "execution_count": 7,
   "metadata": {},
   "outputs": [],
   "source": [
    "mode(gt) <- \"numeric\""
   ]
  },
  {
   "cell_type": "code",
   "execution_count": 8,
   "metadata": {},
   "outputs": [],
   "source": [
    "gt <- as_tibble(gt)"
   ]
  },
  {
   "cell_type": "code",
   "execution_count": 9,
   "metadata": {},
   "outputs": [
    {
     "data": {
      "text/html": [
       "<table>\n",
       "<thead><tr><th scope=col>Chimp</th><th scope=col>spy1</th><th scope=col>mez2</th><th scope=col>denisova8</th><th scope=col>S_French-1</th><th scope=col>S_Sardinian-1</th><th scope=col>S_Han-2</th><th scope=col>S_Dai-2</th><th scope=col>S_Papuan-2</th><th scope=col>S_Karitiana-1</th><th scope=col>⋯</th><th scope=col>S_Mbuti-1</th><th scope=col>S_Yoruba-2</th><th scope=col>S_Mandenka-1</th><th scope=col>ustishim</th><th scope=col>a00_1</th><th scope=col>a00_2</th><th scope=col>kk1</th><th scope=col>mota</th><th scope=col>bichon</th><th scope=col>loschbour</th></tr></thead>\n",
       "<tbody>\n",
       "\t<tr><td>NA</td><td>NA</td><td>NA</td><td>0 </td><td>0 </td><td>0 </td><td>0 </td><td>0 </td><td>0 </td><td>0 </td><td>⋯ </td><td>0 </td><td>0 </td><td>0 </td><td>0 </td><td>0 </td><td>0 </td><td>0 </td><td>0 </td><td>0 </td><td>0 </td></tr>\n",
       "\t<tr><td>NA</td><td>NA</td><td>NA</td><td>0 </td><td>0 </td><td>0 </td><td>0 </td><td>0 </td><td>0 </td><td>0 </td><td>⋯ </td><td>0 </td><td>0 </td><td>0 </td><td>0 </td><td>0 </td><td>0 </td><td>0 </td><td>0 </td><td>0 </td><td>0 </td></tr>\n",
       "\t<tr><td>NA</td><td>NA</td><td>NA</td><td>0 </td><td>0 </td><td>0 </td><td>0 </td><td>0 </td><td>0 </td><td>0 </td><td>⋯ </td><td>0 </td><td>0 </td><td>0 </td><td>0 </td><td>0 </td><td>0 </td><td>0 </td><td>0 </td><td>0 </td><td>0 </td></tr>\n",
       "\t<tr><td>NA</td><td>NA</td><td>NA</td><td>0 </td><td>0 </td><td>0 </td><td>0 </td><td>0 </td><td>0 </td><td>0 </td><td>⋯ </td><td>0 </td><td>0 </td><td>0 </td><td>0 </td><td>0 </td><td>0 </td><td>0 </td><td>0 </td><td>0 </td><td>0 </td></tr>\n",
       "\t<tr><td> 0</td><td>NA</td><td>NA</td><td>0 </td><td>0 </td><td>0 </td><td>0 </td><td>0 </td><td>0 </td><td>0 </td><td>⋯ </td><td>0 </td><td>0 </td><td>0 </td><td>0 </td><td>0 </td><td>0 </td><td>0 </td><td>0 </td><td>0 </td><td>0 </td></tr>\n",
       "\t<tr><td> 0</td><td>NA</td><td>NA</td><td>0 </td><td>0 </td><td>0 </td><td>0 </td><td>0 </td><td>0 </td><td>0 </td><td>⋯ </td><td>0 </td><td>0 </td><td>0 </td><td>0 </td><td>0 </td><td>0 </td><td>0 </td><td>0 </td><td>0 </td><td>0 </td></tr>\n",
       "</tbody>\n",
       "</table>\n"
      ],
      "text/latex": [
       "\\begin{tabular}{r|lllllllllllllllllllll}\n",
       " Chimp & spy1 & mez2 & denisova8 & S\\_French-1 & S\\_Sardinian-1 & S\\_Han-2 & S\\_Dai-2 & S\\_Papuan-2 & S\\_Karitiana-1 & ⋯ & S\\_Mbuti-1 & S\\_Yoruba-2 & S\\_Mandenka-1 & ustishim & a00\\_1 & a00\\_2 & kk1 & mota & bichon & loschbour\\\\\n",
       "\\hline\n",
       "\t NA & NA & NA & 0  & 0  & 0  & 0  & 0  & 0  & 0  & ⋯  & 0  & 0  & 0  & 0  & 0  & 0  & 0  & 0  & 0  & 0 \\\\\n",
       "\t NA & NA & NA & 0  & 0  & 0  & 0  & 0  & 0  & 0  & ⋯  & 0  & 0  & 0  & 0  & 0  & 0  & 0  & 0  & 0  & 0 \\\\\n",
       "\t NA & NA & NA & 0  & 0  & 0  & 0  & 0  & 0  & 0  & ⋯  & 0  & 0  & 0  & 0  & 0  & 0  & 0  & 0  & 0  & 0 \\\\\n",
       "\t NA & NA & NA & 0  & 0  & 0  & 0  & 0  & 0  & 0  & ⋯  & 0  & 0  & 0  & 0  & 0  & 0  & 0  & 0  & 0  & 0 \\\\\n",
       "\t  0 & NA & NA & 0  & 0  & 0  & 0  & 0  & 0  & 0  & ⋯  & 0  & 0  & 0  & 0  & 0  & 0  & 0  & 0  & 0  & 0 \\\\\n",
       "\t  0 & NA & NA & 0  & 0  & 0  & 0  & 0  & 0  & 0  & ⋯  & 0  & 0  & 0  & 0  & 0  & 0  & 0  & 0  & 0  & 0 \\\\\n",
       "\\end{tabular}\n"
      ],
      "text/markdown": [
       "\n",
       "| Chimp | spy1 | mez2 | denisova8 | S_French-1 | S_Sardinian-1 | S_Han-2 | S_Dai-2 | S_Papuan-2 | S_Karitiana-1 | ⋯ | S_Mbuti-1 | S_Yoruba-2 | S_Mandenka-1 | ustishim | a00_1 | a00_2 | kk1 | mota | bichon | loschbour |\n",
       "|---|---|---|---|---|---|---|---|---|---|---|---|---|---|---|---|---|---|---|---|---|\n",
       "| NA | NA | NA | 0  | 0  | 0  | 0  | 0  | 0  | 0  | ⋯  | 0  | 0  | 0  | 0  | 0  | 0  | 0  | 0  | 0  | 0  |\n",
       "| NA | NA | NA | 0  | 0  | 0  | 0  | 0  | 0  | 0  | ⋯  | 0  | 0  | 0  | 0  | 0  | 0  | 0  | 0  | 0  | 0  |\n",
       "| NA | NA | NA | 0  | 0  | 0  | 0  | 0  | 0  | 0  | ⋯  | 0  | 0  | 0  | 0  | 0  | 0  | 0  | 0  | 0  | 0  |\n",
       "| NA | NA | NA | 0  | 0  | 0  | 0  | 0  | 0  | 0  | ⋯  | 0  | 0  | 0  | 0  | 0  | 0  | 0  | 0  | 0  | 0  |\n",
       "|  0 | NA | NA | 0  | 0  | 0  | 0  | 0  | 0  | 0  | ⋯  | 0  | 0  | 0  | 0  | 0  | 0  | 0  | 0  | 0  | 0  |\n",
       "|  0 | NA | NA | 0  | 0  | 0  | 0  | 0  | 0  | 0  | ⋯  | 0  | 0  | 0  | 0  | 0  | 0  | 0  | 0  | 0  | 0  |\n",
       "\n"
      ],
      "text/plain": [
       "  Chimp spy1 mez2 denisova8 S_French-1 S_Sardinian-1 S_Han-2 S_Dai-2 S_Papuan-2\n",
       "1 NA    NA   NA   0         0          0             0       0       0         \n",
       "2 NA    NA   NA   0         0          0             0       0       0         \n",
       "3 NA    NA   NA   0         0          0             0       0       0         \n",
       "4 NA    NA   NA   0         0          0             0       0       0         \n",
       "5  0    NA   NA   0         0          0             0       0       0         \n",
       "6  0    NA   NA   0         0          0             0       0       0         \n",
       "  S_Karitiana-1 ⋯ S_Mbuti-1 S_Yoruba-2 S_Mandenka-1 ustishim a00_1 a00_2 kk1\n",
       "1 0             ⋯ 0         0          0            0        0     0     0  \n",
       "2 0             ⋯ 0         0          0            0        0     0     0  \n",
       "3 0             ⋯ 0         0          0            0        0     0     0  \n",
       "4 0             ⋯ 0         0          0            0        0     0     0  \n",
       "5 0             ⋯ 0         0          0            0        0     0     0  \n",
       "6 0             ⋯ 0         0          0            0        0     0     0  \n",
       "  mota bichon loschbour\n",
       "1 0    0      0        \n",
       "2 0    0      0        \n",
       "3 0    0      0        \n",
       "4 0    0      0        \n",
       "5 0    0      0        \n",
       "6 0    0      0        "
      ]
     },
     "metadata": {},
     "output_type": "display_data"
    }
   ],
   "source": [
    "gt %>% head"
   ]
  },
  {
   "cell_type": "code",
   "execution_count": 10,
   "metadata": {},
   "outputs": [
    {
     "data": {
      "text/html": [
       "6912056"
      ],
      "text/latex": [
       "6912056"
      ],
      "text/markdown": [
       "6912056"
      ],
      "text/plain": [
       "[1] 6912056"
      ]
     },
     "metadata": {},
     "output_type": "display_data"
    }
   ],
   "source": [
    "nrow(gt)"
   ]
  },
  {
   "cell_type": "code",
   "execution_count": 22,
   "metadata": {},
   "outputs": [],
   "source": [
    "gt <- gt %>% dplyr::select(-c(spy1, mez2, denisova8, kk1, mota, bichon, loschbour)) %>% .[complete.cases(.), ]"
   ]
  },
  {
   "cell_type": "code",
   "execution_count": 25,
   "metadata": {},
   "outputs": [
    {
     "data": {
      "text/html": [
       "<dl>\n",
       "\t<dt>$a</dt>\n",
       "\t\t<dd>876</dd>\n",
       "\t<dt>$d</dt>\n",
       "\t\t<dd>202</dd>\n",
       "\t<dt>$e</dt>\n",
       "\t\t<dd>21</dd>\n",
       "\t<dt>$f</dt>\n",
       "\t\t<dd>1016</dd>\n",
       "</dl>\n"
      ],
      "text/latex": [
       "\\begin{description}\n",
       "\\item[\\$a] 876\n",
       "\\item[\\$d] 202\n",
       "\\item[\\$e] 21\n",
       "\\item[\\$f] 1016\n",
       "\\end{description}\n"
      ],
      "text/markdown": [
       "$a\n",
       ":   876\n",
       "$d\n",
       ":   202\n",
       "$e\n",
       ":   21\n",
       "$f\n",
       ":   1016\n",
       "\n",
       "\n"
      ],
      "text/plain": [
       "$a\n",
       "[1] 876\n",
       "\n",
       "$d\n",
       "[1] 202\n",
       "\n",
       "$e\n",
       "[1] 21\n",
       "\n",
       "$f\n",
       "[1] 1016\n"
      ]
     },
     "metadata": {},
     "output_type": "display_data"
    }
   ],
   "source": [
    "counts <- list(\n",
    "    a = sum((gt$ustishim == 0) & (gt$Chimp == gt$a00_1) & (gt$Chimp != 0), na.rm = TRUE),\n",
    "    d = sum((gt$Chimp != 0) & (gt$a00_1 != 0) & (gt$ustishim != 0), na.rm = TRUE),\n",
    "    e = sum((gt$Chimp == 0) & (gt$a00_1 == 0) & (gt$ustishim == 1), na.rm = TRUE),\n",
    "    f = sum((gt$Chimp == 0) & (gt$a00_1 == 1) & (gt$ustishim == 0), na.rm = TRUE)\n",
    ")\n",
    "counts"
   ]
  },
  {
   "cell_type": "code",
   "execution_count": 23,
   "metadata": {},
   "outputs": [
    {
     "data": {
      "text/html": [
       "<dl>\n",
       "\t<dt>$a</dt>\n",
       "\t\t<dd>875</dd>\n",
       "\t<dt>$d</dt>\n",
       "\t\t<dd>202</dd>\n",
       "\t<dt>$e</dt>\n",
       "\t\t<dd>21</dd>\n",
       "\t<dt>$f</dt>\n",
       "\t\t<dd>962</dd>\n",
       "</dl>\n"
      ],
      "text/latex": [
       "\\begin{description}\n",
       "\\item[\\$a] 875\n",
       "\\item[\\$d] 202\n",
       "\\item[\\$e] 21\n",
       "\\item[\\$f] 962\n",
       "\\end{description}\n"
      ],
      "text/markdown": [
       "$a\n",
       ":   875\n",
       "$d\n",
       ":   202\n",
       "$e\n",
       ":   21\n",
       "$f\n",
       ":   962\n",
       "\n",
       "\n"
      ],
      "text/plain": [
       "$a\n",
       "[1] 875\n",
       "\n",
       "$d\n",
       "[1] 202\n",
       "\n",
       "$e\n",
       "[1] 21\n",
       "\n",
       "$f\n",
       "[1] 962\n"
      ]
     },
     "metadata": {},
     "output_type": "display_data"
    }
   ],
   "source": [
    "counts <- list(\n",
    "    a = sum((gt$ustishim == 0) & (gt$Chimp == gt$a00_2) & (gt$Chimp != 0), na.rm = TRUE),\n",
    "    d = sum((gt$Chimp != 0) & (gt$a00_2 != 0) & (gt$ustishim != 0), na.rm = TRUE),\n",
    "    e = sum((gt$Chimp == 0) & (gt$a00_2 == 0) & (gt$ustishim == 1), na.rm = TRUE),\n",
    "    f = sum((gt$Chimp == 0) & (gt$a00_2 == 1) & (gt$ustishim == 0), na.rm = TRUE)\n",
    ")\n",
    "counts"
   ]
  },
  {
   "cell_type": "code",
   "execution_count": 15,
   "metadata": {},
   "outputs": [],
   "source": [
    "mutation_rate <- 7.4e-10"
   ]
  },
  {
   "cell_type": "code",
   "execution_count": 16,
   "metadata": {},
   "outputs": [
    {
     "data": {
      "text/html": [
       "249661.703504091"
      ],
      "text/latex": [
       "249661.703504091"
      ],
      "text/markdown": [
       "249661.703504091"
      ],
      "text/plain": [
       "[1] 249661.7"
      ]
     },
     "metadata": {},
     "output_type": "display_data"
    }
   ],
   "source": [
    "(counts$a + counts$d) / (nrow(gt) * mutation_rate)"
   ]
  },
  {
   "cell_type": "code",
   "execution_count": 24,
   "metadata": {},
   "outputs": [
    {
     "data": {
      "text/html": [
       "241731.57159364"
      ],
      "text/latex": [
       "241731.57159364"
      ],
      "text/markdown": [
       "241731.57159364"
      ],
      "text/plain": [
       "[1] 241731.6"
      ]
     },
     "metadata": {},
     "output_type": "display_data"
    }
   ],
   "source": [
    "counts$f / (nrow(gt) * mutation_rate)"
   ]
  }
 ],
 "metadata": {
  "kernelspec": {
   "display_name": "R",
   "language": "R",
   "name": "ir"
  },
  "language_info": {
   "codemirror_mode": "r",
   "file_extension": ".r",
   "mimetype": "text/x-r-source",
   "name": "R",
   "pygments_lexer": "r",
   "version": "3.5.1"
  }
 },
 "nbformat": 4,
 "nbformat_minor": 2
}
