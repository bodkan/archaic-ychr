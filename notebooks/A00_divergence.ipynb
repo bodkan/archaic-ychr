{
 "cells": [
  {
   "cell_type": "code",
   "execution_count": 1,
   "metadata": {},
   "outputs": [],
   "source": [
    "suppressPackageStartupMessages({\n",
    "\n",
    "    library(VariantAnnotation)\n",
    "    library(tidyverse)\n",
    "    library(magrittr)\n",
    "    library(here)\n",
    "    library(bdkn)\n",
    "    library(rtracklayer)\n",
    "\n",
    "})"
   ]
  },
  {
   "cell_type": "code",
   "execution_count": 2,
   "metadata": {},
   "outputs": [],
   "source": [
    "mendez_a00_counts <- tibble(a = 1434, d = 305, e = 19, f = 1591)"
   ]
  },
  {
   "cell_type": "code",
   "execution_count": 3,
   "metadata": {},
   "outputs": [
    {
     "data": {
      "text/html": [
       "<table>\n",
       "<thead><tr><th scope=col>a</th><th scope=col>d</th><th scope=col>e</th><th scope=col>f</th><th scope=col>e/d</th><th scope=col>d/a</th><th scope=col>(a + d)/f</th></tr></thead>\n",
       "<tbody>\n",
       "\t<tr><td>1434      </td><td>305       </td><td>19        </td><td>1591      </td><td>0.06229508</td><td>0.2126918 </td><td>1.093023  </td></tr>\n",
       "</tbody>\n",
       "</table>\n"
      ],
      "text/latex": [
       "\\begin{tabular}{r|lllllll}\n",
       " a & d & e & f & e/d & d/a & (a + d)/f\\\\\n",
       "\\hline\n",
       "\t 1434       & 305        & 19         & 1591       & 0.06229508 & 0.2126918  & 1.093023  \\\\\n",
       "\\end{tabular}\n"
      ],
      "text/markdown": [
       "\n",
       "| a | d | e | f | e/d | d/a | (a + d)/f |\n",
       "|---|---|---|---|---|---|---|\n",
       "| 1434       | 305        | 19         | 1591       | 0.06229508 | 0.2126918  | 1.093023   |\n",
       "\n"
      ],
      "text/plain": [
       "  a    d   e  f    e/d        d/a       (a + d)/f\n",
       "1 1434 305 19 1591 0.06229508 0.2126918 1.093023 "
      ]
     },
     "metadata": {},
     "output_type": "display_data"
    }
   ],
   "source": [
    "mendez_a00_counts %>% mutate(e / d, d / a, (a + d) / f)"
   ]
  },
  {
   "cell_type": "code",
   "execution_count": 4,
   "metadata": {},
   "outputs": [
    {
     "data": {
      "text/html": [
       "<table>\n",
       "<thead><tr><th scope=col>ustishim</th><th scope=col>bichon</th><th scope=col>kk1</th><th scope=col>loschbour</th><th scope=col>mota</th></tr></thead>\n",
       "<tbody>\n",
       "\t<tr><td>45000</td><td>13665</td><td>9720 </td><td>8050 </td><td>4500 </td></tr>\n",
       "</tbody>\n",
       "</table>\n"
      ],
      "text/latex": [
       "\\begin{tabular}{r|lllll}\n",
       " ustishim & bichon & kk1 & loschbour & mota\\\\\n",
       "\\hline\n",
       "\t 45000 & 13665 & 9720  & 8050  & 4500 \\\\\n",
       "\\end{tabular}\n"
      ],
      "text/markdown": [
       "\n",
       "| ustishim | bichon | kk1 | loschbour | mota |\n",
       "|---|---|---|---|---|\n",
       "| 45000 | 13665 | 9720  | 8050  | 4500  |\n",
       "\n"
      ],
      "text/plain": [
       "  ustishim bichon kk1  loschbour mota\n",
       "1 45000    13665  9720 8050      4500"
      ]
     },
     "metadata": {},
     "output_type": "display_data"
    }
   ],
   "source": [
    "emh_ages <- tribble(\n",
    "    ~ustishim, ~bichon, ~kk1, ~loschbour, ~mota,\n",
    "    45000, 13665, 9720, 8050, 4500\n",
    ")\n",
    "emh_ages"
   ]
  },
  {
   "cell_type": "code",
   "execution_count": 5,
   "metadata": {},
   "outputs": [],
   "source": [
    "source(here(\"src/utils.R\"))"
   ]
  },
  {
   "cell_type": "code",
   "execution_count": 6,
   "metadata": {},
   "outputs": [],
   "source": [
    "gt <- read_gt(here(\"data/vcf/merged_full.vcf.gz\"))"
   ]
  },
  {
   "cell_type": "code",
   "execution_count": 7,
   "metadata": {},
   "outputs": [],
   "source": [
    "modern <- colnames(gt) %>% str_subset(\"reference|^S_\")"
   ]
  },
  {
   "cell_type": "code",
   "execution_count": 8,
   "metadata": {},
   "outputs": [],
   "source": [
    "ancient <- c(\"kk1\", \"mota\", \"bichon\", \"loschbour\", \"ustishim\")"
   ]
  },
  {
   "cell_type": "code",
   "execution_count": 9,
   "metadata": {},
   "outputs": [],
   "source": [
    "site_patterns <- function(df, w, x, y, z) {\n",
    "    tibble(\n",
    "        a = as.integer(df[[w]] == df[[x]] & df[[y]] == df[[z]] & df[[w]] != df[[y]]),\n",
    "        d = as.integer(df[[w]] == df[[x]] & df[[w]] == df[[z]] & df[[w]] != df[[y]]),\n",
    "        e = as.integer(df[[w]] == df[[x]] & df[[w]] == df[[y]] & df[[w]] != df[[z]]),\n",
    "        f = as.integer(df[[w]] == df[[y]] & df[[w]] == df[[z]] & df[[w]] != df[[x]])\n",
    "    )\n",
    "}"
   ]
  },
  {
   "cell_type": "code",
   "execution_count": 10,
   "metadata": {},
   "outputs": [],
   "source": [
    "count_patterns <- function(gt, w, x, y, z) {\n",
    "    df <- gt[, c(w, x, y, z)] %>% .[complete.cases(.), ]\n",
    "    site_patterns(df, w, x, y, z) %>% summarise_all(sum) %>% mutate(total = nrow(df))\n",
    "}"
   ]
  },
  {
   "cell_type": "code",
   "execution_count": 11,
   "metadata": {},
   "outputs": [],
   "source": [
    "a00_pat <- count_patterns(gt, w = \"chimp\", x = \"a00\", y = \"reference\", z = \"ustishim\")"
   ]
  },
  {
   "cell_type": "code",
   "execution_count": 12,
   "metadata": {},
   "outputs": [
    {
     "data": {
      "text/html": [
       "<table>\n",
       "<thead><tr><th scope=col>a</th><th scope=col>d</th><th scope=col>e</th><th scope=col>f</th><th scope=col>total</th></tr></thead>\n",
       "<tbody>\n",
       "\t<tr><td>1015  </td><td>230   </td><td>10    </td><td>1046  </td><td>203096</td></tr>\n",
       "</tbody>\n",
       "</table>\n"
      ],
      "text/latex": [
       "\\begin{tabular}{r|lllll}\n",
       " a & d & e & f & total\\\\\n",
       "\\hline\n",
       "\t 1015   & 230    & 10     & 1046   & 203096\\\\\n",
       "\\end{tabular}\n"
      ],
      "text/markdown": [
       "\n",
       "| a | d | e | f | total |\n",
       "|---|---|---|---|---|\n",
       "| 1015   | 230    | 10     | 1046   | 203096 |\n",
       "\n"
      ],
      "text/plain": [
       "  a    d   e  f    total \n",
       "1 1015 230 10 1046 203096"
      ]
     },
     "metadata": {},
     "output_type": "display_data"
    }
   ],
   "source": [
    "a00_pat"
   ]
  },
  {
   "cell_type": "code",
   "execution_count": 17,
   "metadata": {},
   "outputs": [],
   "source": [
    "a00_counts <- \n",
    "    map_dfr(modern, function(ref) {\n",
    "        map_dfr(ancient, function(anc) {\n",
    "            count_patterns(gt, w = \"chimp\", x = \"a00\", y = ref, z = anc) %>%\n",
    "                mutate(ref = ref, anc = anc)\n",
    "        })\n",
    "    })"
   ]
  },
  {
   "cell_type": "code",
   "execution_count": 13,
   "metadata": {},
   "outputs": [
    {
     "ename": "ERROR",
     "evalue": "Error in eval(lhs, parent, parent): object 'a00_counts' not found\n",
     "output_type": "error",
     "traceback": [
      "Error in eval(lhs, parent, parent): object 'a00_counts' not found\nTraceback:\n",
      "1. a00_counts %>% filter(ref == \"reference\") %>% arrange(e) %>% \n .     mutate(e/d, d/a, (a + d)/f)",
      "2. eval(lhs, parent, parent)",
      "3. eval(lhs, parent, parent)"
     ]
    }
   ],
   "source": [
    "a00_counts %>% filter(ref == \"reference\") %>% arrange(e) %>% mutate(e / d, d / a, (a + d) / f)"
   ]
  },
  {
   "cell_type": "code",
   "execution_count": 81,
   "metadata": {},
   "outputs": [
    {
     "data": {
      "text/html": [
       "<table>\n",
       "<thead><tr><th scope=col>a</th><th scope=col>d</th><th scope=col>e</th><th scope=col>f</th><th scope=col>total</th><th scope=col>ref</th><th scope=col>anc</th><th scope=col>e/d</th><th scope=col>d/a</th><th scope=col>(a + d)/f</th></tr></thead>\n",
       "<tbody>\n",
       "\t<tr><td>1015      </td><td>230       </td><td> 10       </td><td>1046      </td><td>203096    </td><td>reference </td><td>ustishim  </td><td>0.04347826</td><td>0.2266010 </td><td>1.190249  </td></tr>\n",
       "\t<tr><td> 550      </td><td>113       </td><td> 65       </td><td> 580      </td><td>113943    </td><td>reference </td><td>bichon    </td><td>0.57522124</td><td>0.2054545 </td><td>1.143103  </td></tr>\n",
       "\t<tr><td> 841      </td><td>148       </td><td>108       </td><td> 870      </td><td>168057    </td><td>reference </td><td>kk1       </td><td>0.72972973</td><td>0.1759810 </td><td>1.136782  </td></tr>\n",
       "\t<tr><td>1008      </td><td>239       </td><td>157       </td><td>1061      </td><td>201974    </td><td>reference </td><td>loschbour </td><td>0.65690377</td><td>0.2371032 </td><td>1.175306  </td></tr>\n",
       "\t<tr><td> 804      </td><td>220       </td><td>217       </td><td> 931      </td><td>175849    </td><td>reference </td><td>mota      </td><td>0.98636364</td><td>0.2736318 </td><td>1.099893  </td></tr>\n",
       "</tbody>\n",
       "</table>\n"
      ],
      "text/latex": [
       "\\begin{tabular}{r|llllllllll}\n",
       " a & d & e & f & total & ref & anc & e/d & d/a & (a + d)/f\\\\\n",
       "\\hline\n",
       "\t 1015       & 230        &  10        & 1046       & 203096     & reference  & ustishim   & 0.04347826 & 0.2266010  & 1.190249  \\\\\n",
       "\t  550       & 113        &  65        &  580       & 113943     & reference  & bichon     & 0.57522124 & 0.2054545  & 1.143103  \\\\\n",
       "\t  841       & 148        & 108        &  870       & 168057     & reference  & kk1        & 0.72972973 & 0.1759810  & 1.136782  \\\\\n",
       "\t 1008       & 239        & 157        & 1061       & 201974     & reference  & loschbour  & 0.65690377 & 0.2371032  & 1.175306  \\\\\n",
       "\t  804       & 220        & 217        &  931       & 175849     & reference  & mota       & 0.98636364 & 0.2736318  & 1.099893  \\\\\n",
       "\\end{tabular}\n"
      ],
      "text/markdown": [
       "\n",
       "| a | d | e | f | total | ref | anc | e/d | d/a | (a + d)/f |\n",
       "|---|---|---|---|---|---|---|---|---|---|\n",
       "| 1015       | 230        |  10        | 1046       | 203096     | reference  | ustishim   | 0.04347826 | 0.2266010  | 1.190249   |\n",
       "|  550       | 113        |  65        |  580       | 113943     | reference  | bichon     | 0.57522124 | 0.2054545  | 1.143103   |\n",
       "|  841       | 148        | 108        |  870       | 168057     | reference  | kk1        | 0.72972973 | 0.1759810  | 1.136782   |\n",
       "| 1008       | 239        | 157        | 1061       | 201974     | reference  | loschbour  | 0.65690377 | 0.2371032  | 1.175306   |\n",
       "|  804       | 220        | 217        |  931       | 175849     | reference  | mota       | 0.98636364 | 0.2736318  | 1.099893   |\n",
       "\n"
      ],
      "text/plain": [
       "  a    d   e   f    total  ref       anc       e/d        d/a       (a + d)/f\n",
       "1 1015 230  10 1046 203096 reference ustishim  0.04347826 0.2266010 1.190249 \n",
       "2  550 113  65  580 113943 reference bichon    0.57522124 0.2054545 1.143103 \n",
       "3  841 148 108  870 168057 reference kk1       0.72972973 0.1759810 1.136782 \n",
       "4 1008 239 157 1061 201974 reference loschbour 0.65690377 0.2371032 1.175306 \n",
       "5  804 220 217  931 175849 reference mota      0.98636364 0.2736318 1.099893 "
      ]
     },
     "metadata": {},
     "output_type": "display_data"
    }
   ],
   "source": [
    "a00_counts %>% filter(ref == \"reference\") %>% arrange(e) %>% mutate(e / d, d / a, (a + d) / f)"
   ]
  },
  {
   "cell_type": "code",
   "execution_count": 82,
   "metadata": {},
   "outputs": [
    {
     "data": {
      "text/html": [
       "<table>\n",
       "<thead><tr><th scope=col>a</th><th scope=col>d</th><th scope=col>e</th><th scope=col>f</th><th scope=col>total</th><th scope=col>ref</th><th scope=col>anc</th><th scope=col>e/d</th><th scope=col>d/a</th><th scope=col>(a + d)/f</th></tr></thead>\n",
       "<tbody>\n",
       "\t<tr><td>1009      </td><td>190       </td><td>  8       </td><td>1040      </td><td>201874    </td><td>S_Han-2   </td><td>ustishim  </td><td>0.04210526</td><td>0.1883053 </td><td>1.152885  </td></tr>\n",
       "\t<tr><td> 544      </td><td>110       </td><td> 63       </td><td> 577      </td><td>113245    </td><td>S_Han-2   </td><td>bichon    </td><td>0.57272727</td><td>0.2022059 </td><td>1.133449  </td></tr>\n",
       "\t<tr><td> 835      </td><td>165       </td><td>104       </td><td> 864      </td><td>167029    </td><td>S_Han-2   </td><td>kk1       </td><td>0.63030303</td><td>0.1976048 </td><td>1.157407  </td></tr>\n",
       "\t<tr><td>1000      </td><td>203       </td><td>155       </td><td>1055      </td><td>200748    </td><td>S_Han-2   </td><td>loschbour </td><td>0.76354680</td><td>0.2030000 </td><td>1.140284  </td></tr>\n",
       "\t<tr><td> 796      </td><td>228       </td><td>214       </td><td> 925      </td><td>174787    </td><td>S_Han-2   </td><td>mota      </td><td>0.93859649</td><td>0.2864322 </td><td>1.107027  </td></tr>\n",
       "</tbody>\n",
       "</table>\n"
      ],
      "text/latex": [
       "\\begin{tabular}{r|llllllllll}\n",
       " a & d & e & f & total & ref & anc & e/d & d/a & (a + d)/f\\\\\n",
       "\\hline\n",
       "\t 1009       & 190        &   8        & 1040       & 201874     & S\\_Han-2  & ustishim   & 0.04210526 & 0.1883053  & 1.152885  \\\\\n",
       "\t  544       & 110        &  63        &  577       & 113245     & S\\_Han-2  & bichon     & 0.57272727 & 0.2022059  & 1.133449  \\\\\n",
       "\t  835       & 165        & 104        &  864       & 167029     & S\\_Han-2  & kk1        & 0.63030303 & 0.1976048  & 1.157407  \\\\\n",
       "\t 1000       & 203        & 155        & 1055       & 200748     & S\\_Han-2  & loschbour  & 0.76354680 & 0.2030000  & 1.140284  \\\\\n",
       "\t  796       & 228        & 214        &  925       & 174787     & S\\_Han-2  & mota       & 0.93859649 & 0.2864322  & 1.107027  \\\\\n",
       "\\end{tabular}\n"
      ],
      "text/markdown": [
       "\n",
       "| a | d | e | f | total | ref | anc | e/d | d/a | (a + d)/f |\n",
       "|---|---|---|---|---|---|---|---|---|---|\n",
       "| 1009       | 190        |   8        | 1040       | 201874     | S_Han-2    | ustishim   | 0.04210526 | 0.1883053  | 1.152885   |\n",
       "|  544       | 110        |  63        |  577       | 113245     | S_Han-2    | bichon     | 0.57272727 | 0.2022059  | 1.133449   |\n",
       "|  835       | 165        | 104        |  864       | 167029     | S_Han-2    | kk1        | 0.63030303 | 0.1976048  | 1.157407   |\n",
       "| 1000       | 203        | 155        | 1055       | 200748     | S_Han-2    | loschbour  | 0.76354680 | 0.2030000  | 1.140284   |\n",
       "|  796       | 228        | 214        |  925       | 174787     | S_Han-2    | mota       | 0.93859649 | 0.2864322  | 1.107027   |\n",
       "\n"
      ],
      "text/plain": [
       "  a    d   e   f    total  ref     anc       e/d        d/a       (a + d)/f\n",
       "1 1009 190   8 1040 201874 S_Han-2 ustishim  0.04210526 0.1883053 1.152885 \n",
       "2  544 110  63  577 113245 S_Han-2 bichon    0.57272727 0.2022059 1.133449 \n",
       "3  835 165 104  864 167029 S_Han-2 kk1       0.63030303 0.1976048 1.157407 \n",
       "4 1000 203 155 1055 200748 S_Han-2 loschbour 0.76354680 0.2030000 1.140284 \n",
       "5  796 228 214  925 174787 S_Han-2 mota      0.93859649 0.2864322 1.107027 "
      ]
     },
     "metadata": {},
     "output_type": "display_data"
    }
   ],
   "source": [
    "a00_counts %>% filter(ref == \"S_Han-2\") %>% arrange(e) %>% mutate(e / d, d / a, (a + d) / f)"
   ]
  },
  {
   "cell_type": "code",
   "execution_count": 197,
   "metadata": {},
   "outputs": [
    {
     "data": {
      "text/html": [
       "<table>\n",
       "<thead><tr><th scope=col>ustishim</th><th scope=col>bichon</th><th scope=col>kk1</th><th scope=col>loschbour</th><th scope=col>mota</th></tr></thead>\n",
       "<tbody>\n",
       "\t<tr><td>45000</td><td>13665</td><td>9720 </td><td>8050 </td><td>4500 </td></tr>\n",
       "</tbody>\n",
       "</table>\n"
      ],
      "text/latex": [
       "\\begin{tabular}{r|lllll}\n",
       " ustishim & bichon & kk1 & loschbour & mota\\\\\n",
       "\\hline\n",
       "\t 45000 & 13665 & 9720  & 8050  & 4500 \\\\\n",
       "\\end{tabular}\n"
      ],
      "text/markdown": [
       "\n",
       "| ustishim | bichon | kk1 | loschbour | mota |\n",
       "|---|---|---|---|---|\n",
       "| 45000 | 13665 | 9720  | 8050  | 4500  |\n",
       "\n"
      ],
      "text/plain": [
       "  ustishim bichon kk1  loschbour mota\n",
       "1 45000    13665  9720 8050      4500"
      ]
     },
     "metadata": {},
     "output_type": "display_data"
    }
   ],
   "source": [
    "emh_ages"
   ]
  },
  {
   "cell_type": "code",
   "execution_count": 134,
   "metadata": {},
   "outputs": [],
   "source": [
    "total <- 6913053"
   ]
  },
  {
   "cell_type": "code",
   "execution_count": 219,
   "metadata": {},
   "outputs": [],
   "source": [
    "ancient <- \"ustishim\""
   ]
  },
  {
   "cell_type": "code",
   "execution_count": 220,
   "metadata": {},
   "outputs": [],
   "source": [
    "counts <- a00_counts %>% filter(ref == \"reference\", anc == ancient)"
   ]
  },
  {
   "cell_type": "code",
   "execution_count": 221,
   "metadata": {},
   "outputs": [
    {
     "data": {
      "text/html": [
       "<table>\n",
       "<thead><tr><th scope=col>a</th><th scope=col>d</th><th scope=col>e</th><th scope=col>f</th><th scope=col>total</th><th scope=col>ref</th><th scope=col>anc</th></tr></thead>\n",
       "<tbody>\n",
       "\t<tr><td>1015     </td><td>230      </td><td>10       </td><td>1046     </td><td>203096   </td><td>reference</td><td>ustishim </td></tr>\n",
       "</tbody>\n",
       "</table>\n"
      ],
      "text/latex": [
       "\\begin{tabular}{r|lllllll}\n",
       " a & d & e & f & total & ref & anc\\\\\n",
       "\\hline\n",
       "\t 1015      & 230       & 10        & 1046      & 203096    & reference & ustishim \\\\\n",
       "\\end{tabular}\n"
      ],
      "text/markdown": [
       "\n",
       "| a | d | e | f | total | ref | anc |\n",
       "|---|---|---|---|---|---|---|\n",
       "| 1015      | 230       | 10        | 1046      | 203096    | reference | ustishim  |\n",
       "\n"
      ],
      "text/plain": [
       "  a    d   e  f    total  ref       anc     \n",
       "1 1015 230 10 1046 203096 reference ustishim"
      ]
     },
     "metadata": {},
     "output_type": "display_data"
    }
   ],
   "source": [
    "counts"
   ]
  },
  {
   "cell_type": "code",
   "execution_count": 222,
   "metadata": {},
   "outputs": [
    {
     "data": {
      "text/html": [
       "0.00488888888888889"
      ],
      "text/latex": [
       "0.00488888888888889"
      ],
      "text/markdown": [
       "0.00488888888888889"
      ],
      "text/plain": [
       "[1] 0.004888889"
      ]
     },
     "metadata": {},
     "output_type": "display_data"
    }
   ],
   "source": [
    "(muts_per_year <- (counts$d - counts$e) / emh_ages[[ancient]])"
   ]
  },
  {
   "cell_type": "code",
   "execution_count": 223,
   "metadata": {},
   "outputs": [
    {
     "data": {
      "text/html": [
       "7.07196789738035e-10"
      ],
      "text/latex": [
       "7.07196789738035e-10"
      ],
      "text/markdown": [
       "7.07196789738035e-10"
      ],
      "text/plain": [
       "[1] 7.071968e-10"
      ]
     },
     "metadata": {},
     "output_type": "display_data"
    }
   ],
   "source": [
    "muts_per_year / total # mutation rate within a region (get the proper total amount of sequence\n",
    "# don't filter out for only het sites!)"
   ]
  },
  {
   "cell_type": "code",
   "execution_count": 224,
   "metadata": {},
   "outputs": [
    {
     "data": {
      "text/html": [
       "213954.545454545"
      ],
      "text/latex": [
       "213954.545454545"
      ],
      "text/markdown": [
       "213954.545454545"
      ],
      "text/plain": [
       "[1] 213954.5"
      ]
     },
     "metadata": {},
     "output_type": "display_data"
    }
   ],
   "source": [
    "counts$f / muts_per_year"
   ]
  },
  {
   "cell_type": "code",
   "execution_count": 225,
   "metadata": {},
   "outputs": [
    {
     "data": {
      "text/html": [
       "254659.090909091"
      ],
      "text/latex": [
       "254659.090909091"
      ],
      "text/markdown": [
       "254659.090909091"
      ],
      "text/plain": [
       "[1] 254659.1"
      ]
     },
     "metadata": {},
     "output_type": "display_data"
    }
   ],
   "source": [
    "(counts$a + counts$d) / muts_per_year "
   ]
  },
  {
   "cell_type": "code",
   "execution_count": 226,
   "metadata": {},
   "outputs": [
    {
     "data": {
      "text/html": [
       "47045.4545454545"
      ],
      "text/latex": [
       "47045.4545454545"
      ],
      "text/markdown": [
       "47045.4545454545"
      ],
      "text/plain": [
       "[1] 47045.45"
      ]
     },
     "metadata": {},
     "output_type": "display_data"
    }
   ],
   "source": [
    "counts$d / muts_per_year "
   ]
  },
  {
   "cell_type": "code",
   "execution_count": null,
   "metadata": {},
   "outputs": [],
   "source": []
  },
  {
   "cell_type": "code",
   "execution_count": null,
   "metadata": {},
   "outputs": [],
   "source": []
  },
  {
   "cell_type": "code",
   "execution_count": null,
   "metadata": {},
   "outputs": [],
   "source": []
  },
  {
   "cell_type": "code",
   "execution_count": 227,
   "metadata": {},
   "outputs": [
    {
     "data": {
      "text/html": [
       "0.00411522633744856"
      ],
      "text/latex": [
       "0.00411522633744856"
      ],
      "text/markdown": [
       "0.00411522633744856"
      ],
      "text/plain": [
       "[1] 0.004115226"
      ]
     },
     "metadata": {},
     "output_type": "display_data"
    }
   ],
   "source": [
    "filter(a00_counts, ref == \"reference\", anc == \"kk1\") %>%\n",
    "    { (.$d - .$e) / emh_ages[[.$anc]] }"
   ]
  },
  {
   "cell_type": "code",
   "execution_count": 228,
   "metadata": {},
   "outputs": [
    {
     "data": {
      "text/html": [
       "0.00351262349066959"
      ],
      "text/latex": [
       "0.00351262349066959"
      ],
      "text/markdown": [
       "0.00351262349066959"
      ],
      "text/plain": [
       "[1] 0.003512623"
      ]
     },
     "metadata": {},
     "output_type": "display_data"
    }
   ],
   "source": [
    "filter(a00_counts, ref == \"reference\", anc == \"bichon\") %>%\n",
    "    { (.$d - .$e) / emh_ages[[.$anc]] }"
   ]
  },
  {
   "cell_type": "code",
   "execution_count": 229,
   "metadata": {},
   "outputs": [
    {
     "data": {
      "text/html": [
       "0.0101863354037267"
      ],
      "text/latex": [
       "0.0101863354037267"
      ],
      "text/markdown": [
       "0.0101863354037267"
      ],
      "text/plain": [
       "[1] 0.01018634"
      ]
     },
     "metadata": {},
     "output_type": "display_data"
    }
   ],
   "source": [
    "filter(a00_counts, ref == \"reference\", anc == \"loschbour\") %>%\n",
    "    { (.$d - .$e) / emh_ages[[.$anc]] }"
   ]
  },
  {
   "cell_type": "code",
   "execution_count": null,
   "metadata": {},
   "outputs": [],
   "source": []
  },
  {
   "cell_type": "code",
   "execution_count": null,
   "metadata": {},
   "outputs": [],
   "source": []
  },
  {
   "cell_type": "code",
   "execution_count": 240,
   "metadata": {},
   "outputs": [
    {
     "name": "stderr",
     "output_type": "stream",
     "text": [
      "Joining, by = \"anc\"\n"
     ]
    },
    {
     "data": {
      "image/png": "[encoded data removed]",
      "text/plain": [
       "plot without title"
      ]
     },
     "metadata": {},
     "output_type": "display_data"
    }
   ],
   "source": [
    "filter(a00_counts, ref == \"S_Han-2\") %>%\n",
    "    inner_join(gather(emh_ages, anc, age)) %>%\n",
    "    ggplot(aes(age, e)) + geom_label(aes(label = anc)) + geom_point() +\n",
    "    ylim(0, 250) + xlim(0, 47000)"
   ]
  }
 ],
 "metadata": {
  "kernelspec": {
   "display_name": "R",
   "language": "R",
   "name": "ir"
  },
  "language_info": {
   "codemirror_mode": "r",
   "file_extension": ".r",
   "mimetype": "text/x-r-source",
   "name": "R",
   "pygments_lexer": "r",
   "version": "3.5.2"
  }
 },
 "nbformat": 4,
 "nbformat_minor": 2
}
