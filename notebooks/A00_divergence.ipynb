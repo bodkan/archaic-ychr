{
 "cells": [
  {
   "cell_type": "code",
   "execution_count": 1,
   "metadata": {},
   "outputs": [],
   "source": [
    "suppressPackageStartupMessages({\n",
    "\n",
    "    library(VariantAnnotation)\n",
    "    library(tidyverse)\n",
    "    library(magrittr)\n",
    "    library(here)\n",
    "    library(bdkn)\n",
    "    library(rtracklayer)\n",
    "\n",
    "})"
   ]
  },
  {
   "cell_type": "code",
   "execution_count": 2,
   "metadata": {},
   "outputs": [],
   "source": [
    "mendez_a00_counts <- tibble(a = 1434, d = 305, e = 19, f = 1591)"
   ]
  },
  {
   "cell_type": "code",
   "execution_count": 3,
   "metadata": {},
   "outputs": [
    {
     "data": {
      "text/html": [
       "<table>\n",
       "<thead><tr><th scope=col>a</th><th scope=col>d</th><th scope=col>e</th><th scope=col>f</th><th scope=col>e/d</th><th scope=col>d/a</th><th scope=col>(a + d)/f</th></tr></thead>\n",
       "<tbody>\n",
       "\t<tr><td>1434      </td><td>305       </td><td>19        </td><td>1591      </td><td>0.06229508</td><td>0.2126918 </td><td>1.093023  </td></tr>\n",
       "</tbody>\n",
       "</table>\n"
      ],
      "text/latex": [
       "\\begin{tabular}{r|lllllll}\n",
       " a & d & e & f & e/d & d/a & (a + d)/f\\\\\n",
       "\\hline\n",
       "\t 1434       & 305        & 19         & 1591       & 0.06229508 & 0.2126918  & 1.093023  \\\\\n",
       "\\end{tabular}\n"
      ],
      "text/markdown": [
       "\n",
       "| a | d | e | f | e/d | d/a | (a + d)/f |\n",
       "|---|---|---|---|---|---|---|\n",
       "| 1434       | 305        | 19         | 1591       | 0.06229508 | 0.2126918  | 1.093023   |\n",
       "\n"
      ],
      "text/plain": [
       "  a    d   e  f    e/d        d/a       (a + d)/f\n",
       "1 1434 305 19 1591 0.06229508 0.2126918 1.093023 "
      ]
     },
     "metadata": {},
     "output_type": "display_data"
    }
   ],
   "source": [
    "mendez_a00_counts %>% mutate(e / d, d / a, (a + d) / f)"
   ]
  },
  {
   "cell_type": "code",
   "execution_count": 4,
   "metadata": {},
   "outputs": [
    {
     "data": {
      "text/html": [
       "<table>\n",
       "<thead><tr><th scope=col>ustishim</th><th scope=col>bichon</th><th scope=col>kk1</th><th scope=col>loschbour</th><th scope=col>mota</th></tr></thead>\n",
       "<tbody>\n",
       "\t<tr><td>45000</td><td>13665</td><td>9720 </td><td>8050 </td><td>4500 </td></tr>\n",
       "</tbody>\n",
       "</table>\n"
      ],
      "text/latex": [
       "\\begin{tabular}{r|lllll}\n",
       " ustishim & bichon & kk1 & loschbour & mota\\\\\n",
       "\\hline\n",
       "\t 45000 & 13665 & 9720  & 8050  & 4500 \\\\\n",
       "\\end{tabular}\n"
      ],
      "text/markdown": [
       "\n",
       "| ustishim | bichon | kk1 | loschbour | mota |\n",
       "|---|---|---|---|---|\n",
       "| 45000 | 13665 | 9720  | 8050  | 4500  |\n",
       "\n"
      ],
      "text/plain": [
       "  ustishim bichon kk1  loschbour mota\n",
       "1 45000    13665  9720 8050      4500"
      ]
     },
     "metadata": {},
     "output_type": "display_data"
    }
   ],
   "source": [
    "emh_ages <- tribble(\n",
    "    ~ustishim, ~bichon, ~kk1, ~loschbour, ~mota,\n",
    "    45000, 13665, 9720, 8050, 4500\n",
    ")\n",
    "emh_ages"
   ]
  },
  {
   "cell_type": "code",
   "execution_count": 5,
   "metadata": {},
   "outputs": [],
   "source": [
    "source(here(\"src/utils.R\"))"
   ]
  },
  {
   "cell_type": "code",
   "execution_count": 6,
   "metadata": {},
   "outputs": [],
   "source": [
    "gt <- read_gt(here(\"data/vcf/merged_full.vcf.gz\"))"
   ]
  },
  {
   "cell_type": "code",
   "execution_count": 7,
   "metadata": {},
   "outputs": [],
   "source": [
    "modern <- colnames(gt) %>% str_subset(\"reference|^S_\")"
   ]
  },
  {
   "cell_type": "code",
   "execution_count": 8,
   "metadata": {},
   "outputs": [],
   "source": [
    "ancient <- c(\"kk1\", \"mota\", \"bichon\", \"loschbour\", \"ustishim\")"
   ]
  },
  {
   "cell_type": "code",
   "execution_count": 9,
   "metadata": {},
   "outputs": [],
   "source": [
    "site_patterns <- function(df, w, x, y, z) {\n",
    "    tibble(\n",
    "        a = as.integer(df[[w]] == df[[x]] & df[[y]] == df[[z]] & df[[w]] != df[[y]]),\n",
    "        d = as.integer(df[[w]] == df[[x]] & df[[w]] == df[[z]] & df[[w]] != df[[y]]),\n",
    "        e = as.integer(df[[w]] == df[[x]] & df[[w]] == df[[y]] & df[[w]] != df[[z]]),\n",
    "        f = as.integer(df[[w]] == df[[y]] & df[[w]] == df[[z]] & df[[w]] != df[[x]])\n",
    "    )\n",
    "}"
   ]
  },
  {
   "cell_type": "code",
   "execution_count": 10,
   "metadata": {},
   "outputs": [],
   "source": [
    "count_patterns <- function(gt, w, x, y, z) {\n",
    "    df <- gt[, c(w, x, y, z)] %>% .[complete.cases(.), ]\n",
    "    site_patterns(df, w, x, y, z) %>% summarise_all(sum) %>% mutate(total = nrow(df))\n",
    "}"
   ]
  },
  {
   "cell_type": "code",
   "execution_count": 11,
   "metadata": {},
   "outputs": [],
   "source": [
    "a00_pat <- count_patterns(gt, w = \"chimp\", x = \"a00\", y = \"reference\", z = \"ustishim\")"
   ]
  },
  {
   "cell_type": "code",
   "execution_count": 12,
   "metadata": {},
   "outputs": [
    {
     "data": {
      "text/html": [
       "<table>\n",
       "<thead><tr><th scope=col>a</th><th scope=col>d</th><th scope=col>e</th><th scope=col>f</th><th scope=col>total</th></tr></thead>\n",
       "<tbody>\n",
       "\t<tr><td>1015   </td><td>230    </td><td>10     </td><td>1046   </td><td>6104566</td></tr>\n",
       "</tbody>\n",
       "</table>\n"
      ],
      "text/latex": [
       "\\begin{tabular}{r|lllll}\n",
       " a & d & e & f & total\\\\\n",
       "\\hline\n",
       "\t 1015    & 230     & 10      & 1046    & 6104566\\\\\n",
       "\\end{tabular}\n"
      ],
      "text/markdown": [
       "\n",
       "| a | d | e | f | total |\n",
       "|---|---|---|---|---|\n",
       "| 1015    | 230     | 10      | 1046    | 6104566 |\n",
       "\n"
      ],
      "text/plain": [
       "  a    d   e  f    total  \n",
       "1 1015 230 10 1046 6104566"
      ]
     },
     "metadata": {},
     "output_type": "display_data"
    }
   ],
   "source": [
    "a00_pat"
   ]
  },
  {
   "cell_type": "code",
   "execution_count": 13,
   "metadata": {},
   "outputs": [],
   "source": [
    "a00_counts <- \n",
    "    map_dfr(modern, function(ref) {\n",
    "        map_dfr(ancient, function(anc) {\n",
    "            count_patterns(gt, w = \"chimp\", x = \"a00\", y = ref, z = anc) %>%\n",
    "                mutate(ref = ref, anc = anc)\n",
    "        })\n",
    "    })"
   ]
  },
  {
   "cell_type": "code",
   "execution_count": 14,
   "metadata": {},
   "outputs": [
    {
     "data": {
      "text/html": [
       "<table>\n",
       "<thead><tr><th scope=col>a</th><th scope=col>d</th><th scope=col>e</th><th scope=col>f</th><th scope=col>total</th><th scope=col>ref</th><th scope=col>anc</th><th scope=col>e/d</th><th scope=col>d/a</th><th scope=col>(a + d)/f</th></tr></thead>\n",
       "<tbody>\n",
       "\t<tr><td>1015      </td><td>230       </td><td> 10       </td><td>1046      </td><td>6104566   </td><td>reference </td><td>ustishim  </td><td>0.04347826</td><td>0.2266010 </td><td>1.190249  </td></tr>\n",
       "\t<tr><td> 550      </td><td>113       </td><td> 65       </td><td> 580      </td><td>3185493   </td><td>reference </td><td>bichon    </td><td>0.57522124</td><td>0.2054545 </td><td>1.143103  </td></tr>\n",
       "\t<tr><td> 841      </td><td>148       </td><td>108       </td><td> 870      </td><td>4944630   </td><td>reference </td><td>kk1       </td><td>0.72972973</td><td>0.1759810 </td><td>1.136782  </td></tr>\n",
       "\t<tr><td>1008      </td><td>239       </td><td>157       </td><td>1061      </td><td>6060418   </td><td>reference </td><td>loschbour </td><td>0.65690377</td><td>0.2371032 </td><td>1.175306  </td></tr>\n",
       "\t<tr><td> 804      </td><td>220       </td><td>217       </td><td> 931      </td><td>5294810   </td><td>reference </td><td>mota      </td><td>0.98636364</td><td>0.2736318 </td><td>1.099893  </td></tr>\n",
       "</tbody>\n",
       "</table>\n"
      ],
      "text/latex": [
       "\\begin{tabular}{r|llllllllll}\n",
       " a & d & e & f & total & ref & anc & e/d & d/a & (a + d)/f\\\\\n",
       "\\hline\n",
       "\t 1015       & 230        &  10        & 1046       & 6104566    & reference  & ustishim   & 0.04347826 & 0.2266010  & 1.190249  \\\\\n",
       "\t  550       & 113        &  65        &  580       & 3185493    & reference  & bichon     & 0.57522124 & 0.2054545  & 1.143103  \\\\\n",
       "\t  841       & 148        & 108        &  870       & 4944630    & reference  & kk1        & 0.72972973 & 0.1759810  & 1.136782  \\\\\n",
       "\t 1008       & 239        & 157        & 1061       & 6060418    & reference  & loschbour  & 0.65690377 & 0.2371032  & 1.175306  \\\\\n",
       "\t  804       & 220        & 217        &  931       & 5294810    & reference  & mota       & 0.98636364 & 0.2736318  & 1.099893  \\\\\n",
       "\\end{tabular}\n"
      ],
      "text/markdown": [
       "\n",
       "| a | d | e | f | total | ref | anc | e/d | d/a | (a + d)/f |\n",
       "|---|---|---|---|---|---|---|---|---|---|\n",
       "| 1015       | 230        |  10        | 1046       | 6104566    | reference  | ustishim   | 0.04347826 | 0.2266010  | 1.190249   |\n",
       "|  550       | 113        |  65        |  580       | 3185493    | reference  | bichon     | 0.57522124 | 0.2054545  | 1.143103   |\n",
       "|  841       | 148        | 108        |  870       | 4944630    | reference  | kk1        | 0.72972973 | 0.1759810  | 1.136782   |\n",
       "| 1008       | 239        | 157        | 1061       | 6060418    | reference  | loschbour  | 0.65690377 | 0.2371032  | 1.175306   |\n",
       "|  804       | 220        | 217        |  931       | 5294810    | reference  | mota       | 0.98636364 | 0.2736318  | 1.099893   |\n",
       "\n"
      ],
      "text/plain": [
       "  a    d   e   f    total   ref       anc       e/d        d/a       (a + d)/f\n",
       "1 1015 230  10 1046 6104566 reference ustishim  0.04347826 0.2266010 1.190249 \n",
       "2  550 113  65  580 3185493 reference bichon    0.57522124 0.2054545 1.143103 \n",
       "3  841 148 108  870 4944630 reference kk1       0.72972973 0.1759810 1.136782 \n",
       "4 1008 239 157 1061 6060418 reference loschbour 0.65690377 0.2371032 1.175306 \n",
       "5  804 220 217  931 5294810 reference mota      0.98636364 0.2736318 1.099893 "
      ]
     },
     "metadata": {},
     "output_type": "display_data"
    }
   ],
   "source": [
    "a00_counts %>% filter(ref == \"reference\") %>% arrange(e) %>% mutate(e / d, d / a, (a + d) / f)"
   ]
  },
  {
   "cell_type": "code",
   "execution_count": 35,
   "metadata": {},
   "outputs": [],
   "source": [
    "ancient <- \"ustishim\""
   ]
  },
  {
   "cell_type": "code",
   "execution_count": 36,
   "metadata": {},
   "outputs": [],
   "source": [
    "counts <- a00_counts %>% filter(ref == \"reference\", anc == ancient)"
   ]
  },
  {
   "cell_type": "code",
   "execution_count": 37,
   "metadata": {},
   "outputs": [
    {
     "data": {
      "text/html": [
       "<table>\n",
       "<thead><tr><th scope=col>a</th><th scope=col>d</th><th scope=col>e</th><th scope=col>f</th><th scope=col>total</th><th scope=col>ref</th><th scope=col>anc</th></tr></thead>\n",
       "<tbody>\n",
       "\t<tr><td>1015     </td><td>230      </td><td>10       </td><td>1046     </td><td>6104566  </td><td>reference</td><td>ustishim </td></tr>\n",
       "</tbody>\n",
       "</table>\n"
      ],
      "text/latex": [
       "\\begin{tabular}{r|lllllll}\n",
       " a & d & e & f & total & ref & anc\\\\\n",
       "\\hline\n",
       "\t 1015      & 230       & 10        & 1046      & 6104566   & reference & ustishim \\\\\n",
       "\\end{tabular}\n"
      ],
      "text/markdown": [
       "\n",
       "| a | d | e | f | total | ref | anc |\n",
       "|---|---|---|---|---|---|---|\n",
       "| 1015      | 230       | 10        | 1046      | 6104566   | reference | ustishim  |\n",
       "\n"
      ],
      "text/plain": [
       "  a    d   e  f    total   ref       anc     \n",
       "1 1015 230 10 1046 6104566 reference ustishim"
      ]
     },
     "metadata": {},
     "output_type": "display_data"
    }
   ],
   "source": [
    "counts"
   ]
  },
  {
   "cell_type": "code",
   "execution_count": 38,
   "metadata": {},
   "outputs": [
    {
     "data": {
      "text/html": [
       "0.00488888888888889"
      ],
      "text/latex": [
       "0.00488888888888889"
      ],
      "text/markdown": [
       "0.00488888888888889"
      ],
      "text/plain": [
       "[1] 0.004888889"
      ]
     },
     "metadata": {},
     "output_type": "display_data"
    }
   ],
   "source": [
    "(muts_per_year <- (counts$d - counts$e) / emh_ages[[ancient]])"
   ]
  },
  {
   "cell_type": "code",
   "execution_count": 39,
   "metadata": {},
   "outputs": [
    {
     "data": {
      "text/html": [
       "8.008577331933e-10"
      ],
      "text/latex": [
       "8.008577331933e-10"
      ],
      "text/markdown": [
       "8.008577331933e-10"
      ],
      "text/plain": [
       "[1] 8.008577e-10"
      ]
     },
     "metadata": {},
     "output_type": "display_data"
    }
   ],
   "source": [
    "(mut_rate <- muts_per_year / counts$total)"
   ]
  },
  {
   "cell_type": "code",
   "execution_count": 40,
   "metadata": {},
   "outputs": [
    {
     "data": {
      "text/html": [
       "254659.090909091"
      ],
      "text/latex": [
       "254659.090909091"
      ],
      "text/markdown": [
       "254659.090909091"
      ],
      "text/plain": [
       "[1] 254659.1"
      ]
     },
     "metadata": {},
     "output_type": "display_data"
    }
   ],
   "source": [
    "(counts$a + counts$d) / (mut_rate * counts$total)"
   ]
  },
  {
   "cell_type": "code",
   "execution_count": 41,
   "metadata": {},
   "outputs": [
    {
     "data": {
      "text/html": [
       "213954.545454545"
      ],
      "text/latex": [
       "213954.545454545"
      ],
      "text/markdown": [
       "213954.545454545"
      ],
      "text/plain": [
       "[1] 213954.5"
      ]
     },
     "metadata": {},
     "output_type": "display_data"
    }
   ],
   "source": [
    "counts$f / (mut_rate * counts$total)"
   ]
  },
  {
   "cell_type": "code",
   "execution_count": 42,
   "metadata": {},
   "outputs": [
    {
     "data": {
      "text/html": [
       "47045.4545454545"
      ],
      "text/latex": [
       "47045.4545454545"
      ],
      "text/markdown": [
       "47045.4545454545"
      ],
      "text/plain": [
       "[1] 47045.45"
      ]
     },
     "metadata": {},
     "output_type": "display_data"
    }
   ],
   "source": [
    "counts$d / (mut_rate * counts$total)"
   ]
  },
  {
   "cell_type": "code",
   "execution_count": null,
   "metadata": {},
   "outputs": [],
   "source": []
  },
  {
   "cell_type": "code",
   "execution_count": null,
   "metadata": {},
   "outputs": [],
   "source": []
  },
  {
   "cell_type": "code",
   "execution_count": null,
   "metadata": {},
   "outputs": [],
   "source": []
  },
  {
   "cell_type": "code",
   "execution_count": 228,
   "metadata": {},
   "outputs": [
    {
     "data": {
      "text/html": [
       "0.00351262349066959"
      ],
      "text/latex": [
       "0.00351262349066959"
      ],
      "text/markdown": [
       "0.00351262349066959"
      ],
      "text/plain": [
       "[1] 0.003512623"
      ]
     },
     "metadata": {},
     "output_type": "display_data"
    }
   ],
   "source": [
    "filter(a00_counts, ref == \"reference\", anc == \"bichon\") %>%\n",
    "    { (.$d - .$e) / emh_ages[[.$anc]] }"
   ]
  },
  {
   "cell_type": "code",
   "execution_count": 229,
   "metadata": {},
   "outputs": [
    {
     "data": {
      "text/html": [
       "0.0101863354037267"
      ],
      "text/latex": [
       "0.0101863354037267"
      ],
      "text/markdown": [
       "0.0101863354037267"
      ],
      "text/plain": [
       "[1] 0.01018634"
      ]
     },
     "metadata": {},
     "output_type": "display_data"
    }
   ],
   "source": [
    "filter(a00_counts, ref == \"reference\", anc == \"loschbour\") %>%\n",
    "    { (.$d - .$e) / emh_ages[[.$anc]] }"
   ]
  },
  {
   "cell_type": "code",
   "execution_count": null,
   "metadata": {},
   "outputs": [],
   "source": []
  },
  {
   "cell_type": "code",
   "execution_count": null,
   "metadata": {},
   "outputs": [],
   "source": []
  },
  {
   "cell_type": "code",
   "execution_count": 27,
   "metadata": {},
   "outputs": [
    {
     "name": "stderr",
     "output_type": "stream",
     "text": [
      "Joining, by = \"anc\"\n"
     ]
    },
    {
     "data": {
      "image/png": "[encoded data removed]",
      "text/plain": [
       "plot without title"
      ]
     },
     "metadata": {},
     "output_type": "display_data"
    }
   ],
   "source": [
    "filter(a00_counts, ref == \"S_Han-2\") %>%\n",
    "    inner_join(gather(emh_ages, anc, age)) %>%\n",
    "    ggplot(aes(age, e)) + geom_label(aes(label = anc)) + geom_point() +\n",
    "    ylim(0, 250) + xlim(0, 47000)"
   ]
  }
 ],
 "metadata": {
  "kernelspec": {
   "display_name": "R",
   "language": "R",
   "name": "ir"
  },
  "language_info": {
   "codemirror_mode": "r",
   "file_extension": ".r",
   "mimetype": "text/x-r-source",
   "name": "R",
   "pygments_lexer": "r",
   "version": "3.5.1"
  }
 },
 "nbformat": 4,
 "nbformat_minor": 2
}
