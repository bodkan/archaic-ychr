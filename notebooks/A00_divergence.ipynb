{
 "cells": [
  {
   "cell_type": "code",
   "execution_count": 1,
   "metadata": {},
   "outputs": [],
   "source": [
    "suppressPackageStartupMessages({\n",
    "\n",
    "    library(VariantAnnotation)\n",
    "    library(tidyverse)\n",
    "    library(magrittr)\n",
    "    library(here)\n",
    "    library(bdkn)\n",
    "    library(rtracklayer)\n",
    "\n",
    "})"
   ]
  },
  {
   "cell_type": "code",
   "execution_count": 2,
   "metadata": {},
   "outputs": [],
   "source": [
    "source(here(\"src/utils.R\"))"
   ]
  },
  {
   "cell_type": "code",
   "execution_count": 3,
   "metadata": {},
   "outputs": [],
   "source": [
    "gt <- read_gt(here(\"data/vcf/merged_full.vcf.gz\"))"
   ]
  },
  {
   "cell_type": "code",
   "execution_count": 4,
   "metadata": {},
   "outputs": [],
   "source": [
    "refnames <- colnames(gt) %>% str_subset(\"reference|kk1|mota|bichon|loschbour|ustishim|^S_\")"
   ]
  },
  {
   "cell_type": "code",
   "execution_count": null,
   "metadata": {},
   "outputs": [],
   "source": []
  },
  {
   "cell_type": "code",
   "execution_count": 3,
   "metadata": {},
   "outputs": [],
   "source": [
    "vcf <- readVcf(here(\"data/vcf/merged_full.vcf.gz\"))"
   ]
  },
  {
   "cell_type": "code",
   "execution_count": 4,
   "metadata": {},
   "outputs": [],
   "source": [
    "gt <- geno(vcf)$GT %>% replace(. == \".\", NA)"
   ]
  },
  {
   "cell_type": "code",
   "execution_count": 5,
   "metadata": {},
   "outputs": [],
   "source": [
    "mode(gt) <- \"numeric\""
   ]
  },
  {
   "cell_type": "code",
   "execution_count": 6,
   "metadata": {},
   "outputs": [],
   "source": [
    "gt <- as_tibble(gt) %>% mutate(ref = 0)"
   ]
  },
  {
   "cell_type": "code",
   "execution_count": 10,
   "metadata": {},
   "outputs": [],
   "source": [
    "refnames <- colnames(gt) %>% str_subset(\"reference|kk1|mota|bichon|loschbour|ustishim|^S_\")"
   ]
  },
  {
   "cell_type": "code",
   "execution_count": 8,
   "metadata": {},
   "outputs": [
    {
     "data": {
      "text/html": [
       "219820"
      ],
      "text/latex": [
       "219820"
      ],
      "text/markdown": [
       "219820"
      ],
      "text/plain": [
       "[1] 219820"
      ]
     },
     "metadata": {},
     "output_type": "display_data"
    }
   ],
   "source": [
    "nrow(gt)"
   ]
  },
  {
   "cell_type": "code",
   "execution_count": null,
   "metadata": {},
   "outputs": [],
   "source": []
  },
  {
   "cell_type": "code",
   "execution_count": 6,
   "metadata": {},
   "outputs": [],
   "source": [
    "mutation_rate <- 7.4e-10"
   ]
  },
  {
   "cell_type": "code",
   "execution_count": 7,
   "metadata": {},
   "outputs": [],
   "source": [
    "total_seq <- import.bed(here(\"data/coord/capture_full.bed\")) %>% width %>% sum"
   ]
  },
  {
   "cell_type": "markdown",
   "metadata": {},
   "source": [
    "# A00 divergence time ($T_{AR}$)"
   ]
  },
  {
   "cell_type": "code",
   "execution_count": 8,
   "metadata": {},
   "outputs": [],
   "source": [
    "divergence_a00 <- function(gt, ref) {\n",
    "    list(\n",
    "        a = sum((gt$ustishim == gt[[ref]]) & (gt$Chimp == gt$a00) & (gt$Chimp != gt[[ref]]), na.rm = TRUE),\n",
    "        d = sum((gt$Chimp != gt[[ref]]) & (gt$a00 != gt[[ref]]) & (gt$ustishim != gt[[ref]]), na.rm = TRUE),\n",
    "        e = sum((gt$Chimp == gt[[ref]]) & (gt$a00 == gt[[ref]]) & (gt$ustishim != gt[[ref]]), na.rm = TRUE),\n",
    "        f = sum((gt$Chimp == gt[[ref]]) & (gt$a00 != gt[[ref]]) & (gt$ustishim == gt[[ref]]), na.rm = TRUE)\n",
    "    )\n",
    "}"
   ]
  },
  {
   "cell_type": "code",
   "execution_count": 9,
   "metadata": {},
   "outputs": [],
   "source": [
    "t_AR_ad <- map_dbl(refnames, ~ divergence_a00(gt, .x) %>% { (.$a + .$d) / (total_seq * mutation_rate) }) %>% setNames(refnames)"
   ]
  },
  {
   "cell_type": "code",
   "execution_count": 67,
   "metadata": {},
   "outputs": [],
   "source": [
    "t_AR_ad <- map_dbl(refnames, ~ divergence_a00(gt, .x) %>% { (.$a + .$d) / (total_seq * mutation_rate) }) %>% setNames(refnames)"
   ]
  },
  {
   "cell_type": "code",
   "execution_count": 10,
   "metadata": {},
   "outputs": [
    {
     "data": {
      "text/html": [
       "<dl class=dl-horizontal>\n",
       "\t<dt>S_French-1</dt>\n",
       "\t\t<dd>236333.177799126</dd>\n",
       "\t<dt>S_Sardinian-1</dt>\n",
       "\t\t<dd>242783.959327142</dd>\n",
       "\t<dt>S_Han-2</dt>\n",
       "\t\t<dd>237115.090711613</dd>\n",
       "\t<dt>S_Dai-2</dt>\n",
       "\t\t<dd>240633.698817804</dd>\n",
       "\t<dt>S_Papuan-2</dt>\n",
       "\t\t<dd>239851.785905317</dd>\n",
       "\t<dt>S_Karitiana-1</dt>\n",
       "\t\t<dd>241415.61173029</dd>\n",
       "\t<dt>S_Dinka-1</dt>\n",
       "\t\t<dd>237897.0036241</dd>\n",
       "\t<dt>S_Mbuti-1</dt>\n",
       "\t\t<dd>243370.394011507</dd>\n",
       "\t<dt>S_Yoruba-2</dt>\n",
       "\t\t<dd>238483.438308465</dd>\n",
       "\t<dt>S_Mandenka-1</dt>\n",
       "\t\t<dd>239265.351220952</dd>\n",
       "\t<dt>ustishim</dt>\n",
       "\t\t<dd>202710.922562195</dd>\n",
       "\t<dt>kk1</dt>\n",
       "\t\t<dd>197823.966859153</dd>\n",
       "\t<dt>mota</dt>\n",
       "\t\t<dd>213071.268652645</dd>\n",
       "\t<dt>bichon</dt>\n",
       "\t\t<dd>150322.757425582</dd>\n",
       "\t<dt>loschbour</dt>\n",
       "\t\t<dd>221672.310689999</dd>\n",
       "\t<dt>reference</dt>\n",
       "\t\t<dd>245911.610977089</dd>\n",
       "</dl>\n"
      ],
      "text/latex": [
       "\\begin{description*}\n",
       "\\item[S\\textbackslash{}\\_French-1] 236333.177799126\n",
       "\\item[S\\textbackslash{}\\_Sardinian-1] 242783.959327142\n",
       "\\item[S\\textbackslash{}\\_Han-2] 237115.090711613\n",
       "\\item[S\\textbackslash{}\\_Dai-2] 240633.698817804\n",
       "\\item[S\\textbackslash{}\\_Papuan-2] 239851.785905317\n",
       "\\item[S\\textbackslash{}\\_Karitiana-1] 241415.61173029\n",
       "\\item[S\\textbackslash{}\\_Dinka-1] 237897.0036241\n",
       "\\item[S\\textbackslash{}\\_Mbuti-1] 243370.394011507\n",
       "\\item[S\\textbackslash{}\\_Yoruba-2] 238483.438308465\n",
       "\\item[S\\textbackslash{}\\_Mandenka-1] 239265.351220952\n",
       "\\item[ustishim] 202710.922562195\n",
       "\\item[kk1] 197823.966859153\n",
       "\\item[mota] 213071.268652645\n",
       "\\item[bichon] 150322.757425582\n",
       "\\item[loschbour] 221672.310689999\n",
       "\\item[reference] 245911.610977089\n",
       "\\end{description*}\n"
      ],
      "text/markdown": [
       "S_French-1\n",
       ":   236333.177799126S_Sardinian-1\n",
       ":   242783.959327142S_Han-2\n",
       ":   237115.090711613S_Dai-2\n",
       ":   240633.698817804S_Papuan-2\n",
       ":   239851.785905317S_Karitiana-1\n",
       ":   241415.61173029S_Dinka-1\n",
       ":   237897.0036241S_Mbuti-1\n",
       ":   243370.394011507S_Yoruba-2\n",
       ":   238483.438308465S_Mandenka-1\n",
       ":   239265.351220952ustishim\n",
       ":   202710.922562195kk1\n",
       ":   197823.966859153mota\n",
       ":   213071.268652645bichon\n",
       ":   150322.757425582loschbour\n",
       ":   221672.310689999reference\n",
       ":   245911.610977089\n",
       "\n"
      ],
      "text/plain": [
       "   S_French-1 S_Sardinian-1       S_Han-2       S_Dai-2    S_Papuan-2 \n",
       "     236333.2      242784.0      237115.1      240633.7      239851.8 \n",
       "S_Karitiana-1     S_Dinka-1     S_Mbuti-1    S_Yoruba-2  S_Mandenka-1 \n",
       "     241415.6      237897.0      243370.4      238483.4      239265.4 \n",
       "     ustishim           kk1          mota        bichon     loschbour \n",
       "     202710.9      197824.0      213071.3      150322.8      221672.3 \n",
       "    reference \n",
       "     245911.6 "
      ]
     },
     "metadata": {},
     "output_type": "display_data"
    }
   ],
   "source": [
    "t_AR_ad"
   ]
  },
  {
   "cell_type": "code",
   "execution_count": 12,
   "metadata": {},
   "outputs": [
    {
     "data": {
      "text/html": [
       "226791.396788936"
      ],
      "text/latex": [
       "226791.396788936"
      ],
      "text/markdown": [
       "226791.396788936"
      ],
      "text/plain": [
       "[1] 226791.4"
      ]
     },
     "metadata": {},
     "output_type": "display_data"
    }
   ],
   "source": [
    "mean(t_AR_ad)"
   ]
  },
  {
   "cell_type": "code",
   "execution_count": 69,
   "metadata": {},
   "outputs": [
    {
     "data": {
      "text/html": [
       "241557.777714379"
      ],
      "text/latex": [
       "241557.777714379"
      ],
      "text/markdown": [
       "241557.777714379"
      ],
      "text/plain": [
       "[1] 241557.8"
      ]
     },
     "metadata": {},
     "output_type": "display_data"
    }
   ],
   "source": [
    "mean(t_AR_ad)"
   ]
  },
  {
   "cell_type": "code",
   "execution_count": null,
   "metadata": {},
   "outputs": [],
   "source": []
  },
  {
   "cell_type": "code",
   "execution_count": 13,
   "metadata": {},
   "outputs": [],
   "source": [
    "tAR <- function(gt, d, e) {\n",
    "    list(\n",
    "        a = sum((gt[[e]] == gt[[d]]) & (gt$Chimp == gt$a00) & (gt$Chimp != gt[[d]]), na.rm = TRUE),\n",
    "        d = sum((gt$Chimp != gt[[d]]) & (gt$a00 != gt[[d]]) & (gt[[e]] != gt[[d]]), na.rm = TRUE),\n",
    "        e = sum((gt$Chimp == gt[[d]]) & (gt$a00 == gt[[d]]) & (gt[[e]] != gt[[d]]), na.rm = TRUE),\n",
    "        f = sum((gt$Chimp == gt[[d]]) & (gt$a00 != gt[[d]]) & (gt[[e]] == gt[[d]]), na.rm = TRUE)\n",
    "    )\n",
    "}"
   ]
  },
  {
   "cell_type": "code",
   "execution_count": 16,
   "metadata": {},
   "outputs": [],
   "source": [
    "df_tAR <- crossing(d = str_subset(refnames, \"ref|S_\"), e = refnames) %>%\n",
    "    filter(d != e) %>%\n",
    "    mutate(t_da = map2_dbl(d, e, ~ tAR(gt, .x, .y) %>% { (.$a + .$d) / (total_seq * mutation_rate) }),\n",
    "           t_f = map2_dbl(d, e, ~ tAR(gt, .x, .y) %>% { .$f / (total_seq * mutation_rate) }))"
   ]
  },
  {
   "cell_type": "code",
   "execution_count": 17,
   "metadata": {},
   "outputs": [
    {
     "data": {
      "text/plain": [
       "   Min. 1st Qu.  Median    Mean 3rd Qu.    Max. \n",
       " 171239  241416  251776  243202  254513  260377 "
      ]
     },
     "metadata": {},
     "output_type": "display_data"
    },
    {
     "data": {
      "text/plain": [
       "   Min. 1st Qu.  Median    Mean 3rd Qu.    Max. \n",
       " 147391  207207  217763  209746  218545  221672 "
      ]
     },
     "metadata": {},
     "output_type": "display_data"
    }
   ],
   "source": [
    "summary(df_tAR$t_da)\n",
    "summary(df_tAR$t_f)"
   ]
  },
  {
   "cell_type": "code",
   "execution_count": 18,
   "metadata": {
    "scrolled": false
   },
   "outputs": [
    {
     "name": "stdout",
     "output_type": "stream",
     "text": [
      "# A tibble: 165 x 4\n",
      "    d             e                t_da     t_f\n",
      "    <chr>         <chr>           <dbl>   <dbl>\n",
      "  1 S_French-1    bichon        171239. 149150.\n",
      "  2 S_Han-2       bichon        172021. 148954.\n",
      "  3 S_Dinka-1     bichon        172607. 148759.\n",
      "  4 S_Karitiana-1 bichon        172607. 148954.\n",
      "  5 reference     bichon        173585. 149736.\n",
      "  6 S_Yoruba-2    bichon        174758. 148368.\n",
      "  7 S_Mandenka-1  bichon        175735. 148563.\n",
      "  8 S_Papuan-2    bichon        175735. 149150.\n",
      "  9 S_Dai-2       bichon        175930. 148954.\n",
      " 10 S_Sardinian-1 bichon        178081. 147391.\n",
      " 11 S_Mbuti-1     bichon        178667. 148172.\n",
      " 12 S_French-1    kk1           216785. 193132.\n",
      " 13 S_Dinka-1     kk1           219327. 191764.\n",
      " 14 S_Han-2       kk1           219718. 192351.\n",
      " 15 S_Karitiana-1 kk1           220304. 192937.\n",
      " 16 reference     kk1           221086. 193523.\n",
      " 17 S_Papuan-2    kk1           221672. 192351.\n",
      " 18 S_Yoruba-2    kk1           222063. 192155.\n",
      " 19 S_Mandenka-1  kk1           222259. 191960.\n",
      " 20 S_Sardinian-1 kk1           222845. 191569.\n",
      " 21 S_French-1    mota          223041. 200952.\n",
      " 22 S_Dai-2       kk1           223627. 192351.\n",
      " 23 S_Han-2       mota          223627. 201147.\n",
      " 24 S_Mandenka-1  mota          225973. 200952.\n",
      " 25 S_Mbuti-1     kk1           226168. 191764.\n",
      " 26 S_Karitiana-1 mota          226559. 201343.\n",
      " 27 S_Yoruba-2    mota          226755. 201147.\n",
      " 28 reference     mota          226755. 202320.\n",
      " 29 S_Papuan-2    mota          226950. 200952.\n",
      " 30 S_Dinka-1     mota          227146. 199974.\n",
      " 31 S_Sardinian-1 mota          227732. 199583.\n",
      " 32 S_Dai-2       mota          228710. 200952.\n",
      " 33 S_Mbuti-1     mota          231055. 200756.\n",
      " 34 S_French-1    ustishim      236333. 207207.\n",
      " 35 S_Han-2       ustishim      237115. 207011.\n",
      " 36 S_Dinka-1     ustishim      237897. 205839.\n",
      " 37 S_Yoruba-2    ustishim      238483. 206816.\n",
      " 38 S_Mandenka-1  ustishim      239265. 206620.\n",
      " 39 S_Papuan-2    ustishim      239852. 207011.\n",
      " 40 S_Dai-2       ustishim      240634. 207207.\n",
      " 41 S_French-1    loschbour     240829. 213658.\n",
      " 42 S_Han-2       loschbour     241416. 213462.\n",
      " 43 S_Karitiana-1 ustishim      241416. 207207.\n",
      " 44 S_Sardinian-1 ustishim      242784. 205448.\n",
      " 45 S_Mbuti-1     ustishim      243370. 206620.\n",
      " 46 S_Dinka-1     loschbour     244543. 212485.\n",
      " 47 S_Mandenka-1  loschbour     245130. 213071.\n",
      " 48 S_Yoruba-2    loschbour     245130. 213071.\n",
      " 49 S_Papuan-2    loschbour     245325. 213267.\n",
      " 50 S_Dai-2       loschbour     245912. 213462.\n",
      " 51 reference     ustishim      245912. 208184.\n",
      " 52 S_Sardinian-1 loschbour     246107. 212094.\n",
      " 53 S_Karitiana-1 loschbour     247280. 213658.\n",
      " 54 S_French-1    S_Dinka-1     247866. 217372.\n",
      " 55 S_Han-2       S_Dinka-1     248648. 217567.\n",
      " 56 S_French-1    S_Sardinian-1 248844. 217763.\n",
      " 57 S_French-1    S_Yoruba-2    249039. 218154.\n",
      " 58 S_Mbuti-1     loschbour     249039. 212876.\n",
      " 59 S_French-1    S_Papuan-2    249235. 218349.\n",
      " 60 S_Han-2       S_Sardinian-1 249430. 217176.\n",
      " 61 S_French-1    S_Han-2       249626. 218545.\n",
      " 62 S_French-1    S_Karitiana-1 249821. 218740.\n",
      " 63 S_French-1    S_Mbuti-1     249821. 217958.\n",
      " 64 S_Han-2       S_Yoruba-2    249821. 218349.\n",
      " 65 S_French-1    S_Dai-2       250212. 218349.\n",
      " 66 S_Han-2       S_French-1    250212. 218545.\n",
      " 67 S_Han-2       S_Papuan-2    250212. 218545.\n",
      " 68 S_Han-2       S_Dai-2       250408. 218740.\n",
      " 69 S_French-1    S_Mandenka-1  250603. 217958.\n",
      " 70 S_Han-2       S_Karitiana-1 250603. 218936.\n",
      " 71 S_Han-2       S_Mandenka-1  250799. 218154.\n",
      " 72 S_Han-2       S_Mbuti-1     250799. 218154.\n",
      " 73 S_Dinka-1     S_Sardinian-1 250994. 216003.\n",
      " 74 S_Dinka-1     S_French-1    251190. 217372.\n",
      " 75 S_Dinka-1     S_Han-2       251190. 217567.\n",
      " 76 S_Dinka-1     S_Papuan-2    251190. 217763.\n",
      " 77 S_Dinka-1     S_Yoruba-2    251190. 218154.\n",
      " 78 S_Mandenka-1  S_Dinka-1     251580. 217958.\n",
      " 79 S_Yoruba-2    S_Dinka-1     251580. 218154.\n",
      " 80 reference     loschbour     251580. 214635.\n",
      " 81 S_French-1    reference     251776. 219718.\n",
      " 82 S_Papuan-2    S_Dinka-1     251776. 217763.\n",
      " 83 S_Yoruba-2    S_French-1    251776. 218154.\n",
      " 84 S_Mandenka-1  S_French-1    251971. 217958.\n",
      " 85 S_Dinka-1     S_Dai-2       252167. 217176.\n",
      " 86 S_Dinka-1     S_Karitiana-1 252167. 217763.\n",
      " 87 S_Dinka-1     S_Mandenka-1  252362. 217958.\n",
      " 88 S_Mandenka-1  S_Papuan-2    252362. 218545.\n",
      " 89 S_Mandenka-1  S_Yoruba-2    252362. 221672.\n",
      " 90 S_Yoruba-2    S_Papuan-2    252362. 218545.\n",
      " 91 S_Yoruba-2    S_Sardinian-1 252362. 216785.\n",
      " 92 S_Dai-2       S_Dinka-1     252558. 217176.\n",
      " 93 S_Han-2       reference     252558. 219913.\n",
      " 94 S_Mandenka-1  S_Dai-2       252558. 217763.\n",
      " 95 S_Mandenka-1  S_Sardinian-1 252558. 216590.\n",
      " 96 S_Dinka-1     S_Mbuti-1     252753. 217567.\n",
      " 97 S_Mandenka-1  S_Han-2       252753. 218154.\n",
      " 98 S_Yoruba-2    S_Han-2       252753. 218349.\n",
      " 99 S_Yoruba-2    S_Karitiana-1 252753. 218545.\n",
      "100 S_Mandenka-1  S_Karitiana-1 252949. 218349.\n",
      "101 S_Yoruba-2    S_Dai-2       252949. 217958.\n",
      "102 S_Dai-2       S_Sardinian-1 253144. 216785.\n",
      "103 S_Dai-2       S_Yoruba-2    253144. 217958.\n",
      "104 S_Papuan-2    S_Sardinian-1 253144. 216981.\n",
      "105 S_Papuan-2    S_Yoruba-2    253144. 218545.\n",
      "106 S_Yoruba-2    S_Mandenka-1  253144. 221672.\n",
      "107 S_Karitiana-1 S_Dinka-1     253340. 217763.\n",
      "108 S_Karitiana-1 S_Sardinian-1 253340. 217372.\n",
      "109 S_Mandenka-1  S_Mbuti-1     253340. 221477.\n",
      "110 S_Papuan-2    S_French-1    253340. 218349.\n",
      "111 S_Yoruba-2    S_Mbuti-1     253340. 221086.\n",
      "112 S_Papuan-2    S_Han-2       253926. 218545.\n",
      "113 S_Papuan-2    S_Karitiana-1 253926. 218936.\n",
      "114 S_Dai-2       S_French-1    254122. 218349.\n",
      "115 S_Dai-2       S_Han-2       254122. 218740.\n",
      "116 S_Dinka-1     reference     254122. 219131.\n",
      "117 S_Dai-2       S_Karitiana-1 254317. 218545.\n",
      "118 S_Dai-2       S_Mandenka-1  254317. 217763.\n",
      "119 S_Dai-2       S_Papuan-2    254317. 218154.\n",
      "120 S_Papuan-2    S_Dai-2       254317. 218154.\n",
      "121 S_Papuan-2    S_Mbuti-1     254317. 217958.\n",
      "122 S_Sardinian-1 S_Dinka-1     254317. 216003.\n",
      "123 S_Karitiana-1 S_Yoruba-2    254513. 218545.\n",
      "124 S_Papuan-2    S_Mandenka-1  254513. 218545.\n",
      "125 S_Dai-2       S_Mbuti-1     254708. 217763.\n",
      "126 S_Karitiana-1 S_French-1    254904. 218740.\n",
      "127 S_Karitiana-1 S_Han-2       254904. 218936.\n",
      "128 S_Sardinian-1 S_Papuan-2    254904. 216981.\n",
      "129 S_Karitiana-1 S_Dai-2       255099. 218545.\n",
      "130 S_Karitiana-1 S_Mbuti-1     255099. 218349.\n",
      "131 S_Mandenka-1  reference     255099. 219718.\n",
      "132 S_Yoruba-2    reference     255099. 219913.\n",
      "133 S_Karitiana-1 S_Papuan-2    255295. 218936.\n",
      "134 S_Karitiana-1 S_Mandenka-1  255490. 218349.\n",
      "135 S_Sardinian-1 S_Yoruba-2    255490. 216785.\n",
      "136 S_Sardinian-1 S_Karitiana-1 255686. 217372.\n",
      "137 S_Sardinian-1 S_French-1    255881. 217763.\n",
      "138 S_Mbuti-1     S_Dinka-1     256076. 217567.\n",
      "139 S_Papuan-2    reference     256076. 220304.\n",
      "140 S_Sardinian-1 S_Han-2       256076. 217176.\n",
      "141 S_Dai-2       reference     256272. 219522.\n",
      "142 S_Mbuti-1     S_French-1    256272. 217958.\n",
      "143 S_Sardinian-1 S_Dai-2       256272. 216785.\n",
      "144 S_Sardinian-1 S_Mbuti-1     256272. 216590.\n",
      "145 S_Sardinian-1 S_Mandenka-1  256467. 216590.\n",
      "146 S_Mbuti-1     S_Karitiana-1 256858. 218349.\n",
      "147 S_Mbuti-1     S_Papuan-2    256858. 217958.\n",
      "148 S_Mbuti-1     S_Sardinian-1 256858. 216590.\n",
      "149 S_Karitiana-1 reference     257054. 220695.\n",
      "150 S_Mbuti-1     S_Dai-2       257054. 217763.\n",
      "151 S_Mbuti-1     S_Yoruba-2    257054. 221086.\n",
      "152 S_Mbuti-1     S_Han-2       257249. 218154.\n",
      "153 reference     S_Dinka-1     257836. 219131.\n",
      "154 S_Mbuti-1     S_Mandenka-1  258031. 221477.\n",
      "155 S_Sardinian-1 reference     258227. 218349.\n",
      "156 reference     S_Sardinian-1 259204. 218349.\n",
      "157 reference     S_French-1    259400. 219718.\n",
      "158 S_Mbuti-1     reference     259595. 219327.\n",
      "159 reference     S_Karitiana-1 259595. 220695.\n",
      "160 reference     S_Dai-2       259986. 219522.\n",
      "161 reference     S_Mandenka-1  259986. 219718.\n",
      "162 reference     S_Papuan-2    259986. 220304.\n",
      "163 reference     S_Yoruba-2    259986. 219913.\n",
      "164 reference     S_Mbuti-1     260182. 219327.\n",
      "165 reference     S_Han-2       260377. 219913.\n"
     ]
    }
   ],
   "source": [
    "arrange(df_tAR, t_da) %>% print(n = nrow(.))"
   ]
  },
  {
   "cell_type": "code",
   "execution_count": null,
   "metadata": {},
   "outputs": [],
   "source": []
  },
  {
   "cell_type": "code",
   "execution_count": null,
   "metadata": {},
   "outputs": [],
   "source": []
  },
  {
   "cell_type": "code",
   "execution_count": null,
   "metadata": {},
   "outputs": [],
   "source": []
  },
  {
   "cell_type": "code",
   "execution_count": null,
   "metadata": {},
   "outputs": [],
   "source": []
  },
  {
   "cell_type": "code",
   "execution_count": null,
   "metadata": {},
   "outputs": [],
   "source": []
  },
  {
   "cell_type": "code",
   "execution_count": null,
   "metadata": {},
   "outputs": [],
   "source": []
  },
  {
   "cell_type": "code",
   "execution_count": null,
   "metadata": {},
   "outputs": [],
   "source": []
  },
  {
   "cell_type": "code",
   "execution_count": null,
   "metadata": {},
   "outputs": [],
   "source": []
  },
  {
   "cell_type": "code",
   "execution_count": null,
   "metadata": {},
   "outputs": [],
   "source": []
  },
  {
   "cell_type": "code",
   "execution_count": 70,
   "metadata": {},
   "outputs": [],
   "source": [
    "t_AR_f <- map_dbl(refnames, ~ divergence_a00(gt, .x) %>% { .$f / (total_seq * mutation_rate) }) %>% setNames(refnames)"
   ]
  },
  {
   "cell_type": "code",
   "execution_count": 71,
   "metadata": {},
   "outputs": [
    {
     "data": {
      "text/html": [
       "<dl class=dl-horizontal>\n",
       "\t<dt>S_French-1</dt>\n",
       "\t\t<dd>207402.400037116</dd>\n",
       "\t<dt>S_Sardinian-1</dt>\n",
       "\t\t<dd>205643.095984021</dd>\n",
       "\t<dt>S_Han-2</dt>\n",
       "\t\t<dd>207206.921808994</dd>\n",
       "\t<dt>S_Dai-2</dt>\n",
       "\t\t<dd>207402.400037116</dd>\n",
       "\t<dt>S_Papuan-2</dt>\n",
       "\t\t<dd>207206.921808994</dd>\n",
       "\t<dt>S_Karitiana-1</dt>\n",
       "\t\t<dd>207402.400037116</dd>\n",
       "\t<dt>S_Dinka-1</dt>\n",
       "\t\t<dd>206034.052440264</dd>\n",
       "\t<dt>S_Mbuti-1</dt>\n",
       "\t\t<dd>206815.965352751</dd>\n",
       "\t<dt>S_Yoruba-2</dt>\n",
       "\t\t<dd>207011.443580872</dd>\n",
       "\t<dt>S_Mandenka-1</dt>\n",
       "\t\t<dd>206815.965352751</dd>\n",
       "\t<dt>ref</dt>\n",
       "\t\t<dd>208379.791177724</dd>\n",
       "</dl>\n"
      ],
      "text/latex": [
       "\\begin{description*}\n",
       "\\item[S\\textbackslash{}\\_French-1] 207402.400037116\n",
       "\\item[S\\textbackslash{}\\_Sardinian-1] 205643.095984021\n",
       "\\item[S\\textbackslash{}\\_Han-2] 207206.921808994\n",
       "\\item[S\\textbackslash{}\\_Dai-2] 207402.400037116\n",
       "\\item[S\\textbackslash{}\\_Papuan-2] 207206.921808994\n",
       "\\item[S\\textbackslash{}\\_Karitiana-1] 207402.400037116\n",
       "\\item[S\\textbackslash{}\\_Dinka-1] 206034.052440264\n",
       "\\item[S\\textbackslash{}\\_Mbuti-1] 206815.965352751\n",
       "\\item[S\\textbackslash{}\\_Yoruba-2] 207011.443580872\n",
       "\\item[S\\textbackslash{}\\_Mandenka-1] 206815.965352751\n",
       "\\item[ref] 208379.791177724\n",
       "\\end{description*}\n"
      ],
      "text/markdown": [
       "S_French-1\n",
       ":   207402.400037116S_Sardinian-1\n",
       ":   205643.095984021S_Han-2\n",
       ":   207206.921808994S_Dai-2\n",
       ":   207402.400037116S_Papuan-2\n",
       ":   207206.921808994S_Karitiana-1\n",
       ":   207402.400037116S_Dinka-1\n",
       ":   206034.052440264S_Mbuti-1\n",
       ":   206815.965352751S_Yoruba-2\n",
       ":   207011.443580872S_Mandenka-1\n",
       ":   206815.965352751ref\n",
       ":   208379.791177724\n",
       "\n"
      ],
      "text/plain": [
       "   S_French-1 S_Sardinian-1       S_Han-2       S_Dai-2    S_Papuan-2 \n",
       "     207402.4      205643.1      207206.9      207402.4      207206.9 \n",
       "S_Karitiana-1     S_Dinka-1     S_Mbuti-1    S_Yoruba-2  S_Mandenka-1 \n",
       "     207402.4      206034.1      206816.0      207011.4      206816.0 \n",
       "          ref \n",
       "     208379.8 "
      ]
     },
     "metadata": {},
     "output_type": "display_data"
    }
   ],
   "source": [
    "t_AR_f"
   ]
  },
  {
   "cell_type": "code",
   "execution_count": 72,
   "metadata": {},
   "outputs": [
    {
     "data": {
      "text/html": [
       "207029.214328884"
      ],
      "text/latex": [
       "207029.214328884"
      ],
      "text/markdown": [
       "207029.214328884"
      ],
      "text/plain": [
       "[1] 207029.2"
      ]
     },
     "metadata": {},
     "output_type": "display_data"
    }
   ],
   "source": [
    "mean(t_AR_f)"
   ]
  },
  {
   "cell_type": "code",
   "execution_count": null,
   "metadata": {},
   "outputs": [],
   "source": []
  },
  {
   "cell_type": "code",
   "execution_count": 75,
   "metadata": {},
   "outputs": [
    {
     "data": {
      "text/html": [
       "300127.713920817"
      ],
      "text/latex": [
       "300127.713920817"
      ],
      "text/markdown": [
       "300127.713920817"
      ],
      "text/plain": [
       "[1] 300127.7"
      ]
     },
     "metadata": {},
     "output_type": "display_data"
    }
   ],
   "source": [
    "(1434 + 305) / (7.83e6 * mutation_rate)"
   ]
  },
  {
   "cell_type": "code",
   "execution_count": 76,
   "metadata": {},
   "outputs": [
    {
     "data": {
      "text/html": [
       "274584.929757344"
      ],
      "text/latex": [
       "274584.929757344"
      ],
      "text/markdown": [
       "274584.929757344"
      ],
      "text/plain": [
       "[1] 274584.9"
      ]
     },
     "metadata": {},
     "output_type": "display_data"
    }
   ],
   "source": [
    "1591 / (7.83e6 * mutation_rate)"
   ]
  }
 ],
 "metadata": {
  "kernelspec": {
   "display_name": "R",
   "language": "R",
   "name": "ir"
  },
  "language_info": {
   "codemirror_mode": "r",
   "file_extension": ".r",
   "mimetype": "text/x-r-source",
   "name": "R",
   "pygments_lexer": "r",
   "version": "3.5.2"
  }
 },
 "nbformat": 4,
 "nbformat_minor": 2
}
