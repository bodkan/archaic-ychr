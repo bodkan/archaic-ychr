{
 "cells": [
  {
   "cell_type": "code",
   "execution_count": 1,
   "metadata": {},
   "outputs": [
    {
     "name": "stderr",
     "output_type": "stream",
     "text": [
      "── \u001b[1mAttaching packages\u001b[22m ─────────────────────────────────────── tidyverse 1.2.1 ──\n",
      "\u001b[32m✔\u001b[39m \u001b[34mggplot2\u001b[39m 3.1.1     \u001b[32m✔\u001b[39m \u001b[34mpurrr  \u001b[39m 0.3.0\n",
      "\u001b[32m✔\u001b[39m \u001b[34mtibble \u001b[39m 2.1.1     \u001b[32m✔\u001b[39m \u001b[34mdplyr  \u001b[39m 0.7.8\n",
      "\u001b[32m✔\u001b[39m \u001b[34mtidyr  \u001b[39m 0.8.2     \u001b[32m✔\u001b[39m \u001b[34mstringr\u001b[39m 1.4.0\n",
      "\u001b[32m✔\u001b[39m \u001b[34mreadr  \u001b[39m 1.3.1     \u001b[32m✔\u001b[39m \u001b[34mforcats\u001b[39m 0.3.0\n",
      "── \u001b[1mConflicts\u001b[22m ────────────────────────────────────────── tidyverse_conflicts() ──\n",
      "\u001b[31m✖\u001b[39m \u001b[34mdplyr\u001b[39m::\u001b[32mfilter()\u001b[39m masks \u001b[34mstats\u001b[39m::filter()\n",
      "\u001b[31m✖\u001b[39m \u001b[34mdplyr\u001b[39m::\u001b[32mlag()\u001b[39m    masks \u001b[34mstats\u001b[39m::lag()\n",
      "\n",
      "Attaching package: ‘magrittr’\n",
      "\n",
      "The following object is masked from ‘package:purrr’:\n",
      "\n",
      "    set_names\n",
      "\n",
      "The following object is masked from ‘package:tidyr’:\n",
      "\n",
      "    extract\n",
      "\n",
      "here() starts at /mnt/expressions/mp/ychr\n",
      "Loading required package: future\n",
      "Loading ychr\n",
      "Warning message:\n",
      "“no function found corresponding to methods exports from ‘GenomicRanges’ for: ‘concatenateObjects’”"
     ]
    }
   ],
   "source": [
    "library(tidyverse)\n",
    "library(magrittr)\n",
    "library(here)\n",
    "library(furrr)\n",
    "\n",
    "devtools::load_all(\".\")\n",
    "\n",
    "plan(multiprocess)\n",
    "\n",
    "options(future.globals.maxSize= 600*1024^2)"
   ]
  },
  {
   "cell_type": "markdown",
   "metadata": {},
   "source": [
    "# Lineage assignment (Mez2 vs A00 vs chimp)"
   ]
  },
  {
   "cell_type": "code",
   "execution_count": 2,
   "metadata": {},
   "outputs": [],
   "source": [
    "df <- read_genotypes(\"mez2\", \"full\", mindp = 5, maxdp = 0.975, tv_only = TRUE) %>%\n",
    "    select(chrom, pos, REF, ALT, mez2, chimp, a00) %>%\n",
    "    filter(complete.cases(.))"
   ]
  },
  {
   "cell_type": "code",
   "execution_count": 3,
   "metadata": {},
   "outputs": [
    {
     "data": {
      "text/html": [
       "<table>\n",
       "<thead><tr><th scope=col>chrom</th><th scope=col>pos</th><th scope=col>REF</th><th scope=col>ALT</th><th scope=col>mez2</th><th scope=col>chimp</th><th scope=col>a00</th></tr></thead>\n",
       "<tbody>\n",
       "\t<tr><td>Y      </td><td>2649827</td><td>G      </td><td>       </td><td>0      </td><td>0      </td><td>0      </td></tr>\n",
       "\t<tr><td>Y      </td><td>2649828</td><td>T      </td><td>       </td><td>0      </td><td>0      </td><td>0      </td></tr>\n",
       "\t<tr><td>Y      </td><td>2649829</td><td>T      </td><td>       </td><td>0      </td><td>0      </td><td>0      </td></tr>\n",
       "\t<tr><td>Y      </td><td>2649830</td><td>A      </td><td>       </td><td>0      </td><td>0      </td><td>0      </td></tr>\n",
       "\t<tr><td>Y      </td><td>2649831</td><td>A      </td><td>       </td><td>0      </td><td>0      </td><td>0      </td></tr>\n",
       "\t<tr><td>Y      </td><td>2649832</td><td>T      </td><td>       </td><td>0      </td><td>0      </td><td>0      </td></tr>\n",
       "</tbody>\n",
       "</table>\n"
      ],
      "text/latex": [
       "\\begin{tabular}{r|lllllll}\n",
       " chrom & pos & REF & ALT & mez2 & chimp & a00\\\\\n",
       "\\hline\n",
       "\t Y       & 2649827 & G       &         & 0       & 0       & 0      \\\\\n",
       "\t Y       & 2649828 & T       &         & 0       & 0       & 0      \\\\\n",
       "\t Y       & 2649829 & T       &         & 0       & 0       & 0      \\\\\n",
       "\t Y       & 2649830 & A       &         & 0       & 0       & 0      \\\\\n",
       "\t Y       & 2649831 & A       &         & 0       & 0       & 0      \\\\\n",
       "\t Y       & 2649832 & T       &         & 0       & 0       & 0      \\\\\n",
       "\\end{tabular}\n"
      ],
      "text/markdown": [
       "\n",
       "| chrom | pos | REF | ALT | mez2 | chimp | a00 |\n",
       "|---|---|---|---|---|---|---|\n",
       "| Y       | 2649827 | G       |         | 0       | 0       | 0       |\n",
       "| Y       | 2649828 | T       |         | 0       | 0       | 0       |\n",
       "| Y       | 2649829 | T       |         | 0       | 0       | 0       |\n",
       "| Y       | 2649830 | A       |         | 0       | 0       | 0       |\n",
       "| Y       | 2649831 | A       |         | 0       | 0       | 0       |\n",
       "| Y       | 2649832 | T       |         | 0       | 0       | 0       |\n",
       "\n"
      ],
      "text/plain": [
       "  chrom pos     REF ALT mez2 chimp a00\n",
       "1 Y     2649827 G       0    0     0  \n",
       "2 Y     2649828 T       0    0     0  \n",
       "3 Y     2649829 T       0    0     0  \n",
       "4 Y     2649830 A       0    0     0  \n",
       "5 Y     2649831 A       0    0     0  \n",
       "6 Y     2649832 T       0    0     0  "
      ]
     },
     "metadata": {},
     "output_type": "display_data"
    }
   ],
   "source": [
    "head(df)"
   ]
  },
  {
   "cell_type": "code",
   "execution_count": 6,
   "metadata": {},
   "outputs": [
    {
     "data": {
      "text/html": [
       "4332909"
      ],
      "text/latex": [
       "4332909"
      ],
      "text/markdown": [
       "4332909"
      ],
      "text/plain": [
       "[1] 4332909"
      ]
     },
     "metadata": {},
     "output_type": "display_data"
    }
   ],
   "source": [
    "nrow(df)"
   ]
  },
  {
   "cell_type": "code",
   "execution_count": 7,
   "metadata": {},
   "outputs": [],
   "source": [
    "props <- future_map_dfr(c(\"den4\", \"den8\", \"spy1\", \"elsidron2\", \"shotgun_spy1\", \"shotgun_mez2\"), function(arch) {\n",
    "    capture <- ifelse(arch == \"elsidron2\", \"lippold\", \"full\")\n",
    "\n",
    "    arch_df <- read_vcf(here(paste0(\"data/vcf/\", capture, \"_\", arch, \".vcf.gz\")), mindp = 3, maxdp = 0.975)\n",
    "    joined <- inner_join(df, arch_df, by = c(\"chrom\", \"pos\", \"REF\")) %>% filter(ALT.y == \"\" | ALT.x == ALT.y)\n",
    "\n",
    "    joined <- filter(joined, complete.cases(joined))\n",
    "\n",
    "    tibble(\n",
    "        hum   = sum(joined[[\"mez2\"]] == joined[[\"chimp\"]] & joined[[\"a00\"]] != joined[[\"mez2\"]]  & joined[[arch]] == joined[[\"a00\"]]),\n",
    "        neand = sum(joined[[\"a00\"]]  == joined[[\"chimp\"]] & joined[[\"a00\"]] != joined[[\"mez2\"]]  & joined[[arch]] == joined[[\"mez2\"]]),\n",
    "        anc   = sum(joined[[\"mez2\"]] == joined[[\"a00\"]]   & joined[[\"a00\"]] != joined[[\"chimp\"]] & joined[[arch]] == joined[[\"chimp\"]]),\n",
    "        total = hum + neand + anc\n",
    "    ) %>%\n",
    "        gather(lineage, count, -total) %>%\n",
    "        mutate(name = arch, prop = count / total) %>%\n",
    "        select(name, everything())\n",
    "})"
   ]
  },
  {
   "cell_type": "code",
   "execution_count": 8,
   "metadata": {},
   "outputs": [
    {
     "data": {
      "text/html": [
       "<table>\n",
       "<thead><tr><th scope=col>name</th><th scope=col>total</th><th scope=col>anc</th><th scope=col>hum</th><th scope=col>neand</th></tr></thead>\n",
       "<tbody>\n",
       "\t<tr><td>den4        </td><td>112         </td><td>110         </td><td>1           </td><td> 1          </td></tr>\n",
       "\t<tr><td>den8        </td><td>355         </td><td>339         </td><td>6           </td><td>10          </td></tr>\n",
       "\t<tr><td>elsidron2   </td><td> 24         </td><td>  0         </td><td>0           </td><td>24          </td></tr>\n",
       "\t<tr><td>shotgun_mez2</td><td> 30         </td><td>  0         </td><td>0           </td><td>30          </td></tr>\n",
       "\t<tr><td>shotgun_spy1</td><td>  9         </td><td>  0         </td><td>0           </td><td> 9          </td></tr>\n",
       "\t<tr><td>spy1        </td><td> 18         </td><td>  0         </td><td>1           </td><td>17          </td></tr>\n",
       "</tbody>\n",
       "</table>\n"
      ],
      "text/latex": [
       "\\begin{tabular}{r|lllll}\n",
       " name & total & anc & hum & neand\\\\\n",
       "\\hline\n",
       "\t den4         & 112          & 110          & 1            &  1          \\\\\n",
       "\t den8         & 355          & 339          & 6            & 10          \\\\\n",
       "\t elsidron2    &  24          &   0          & 0            & 24          \\\\\n",
       "\t shotgun\\_mez2 &  30            &   0            & 0              & 30            \\\\\n",
       "\t shotgun\\_spy1 &   9            &   0            & 0              &  9            \\\\\n",
       "\t spy1         &  18          &   0          & 1            & 17          \\\\\n",
       "\\end{tabular}\n"
      ],
      "text/markdown": [
       "\n",
       "| name | total | anc | hum | neand |\n",
       "|---|---|---|---|---|\n",
       "| den4         | 112          | 110          | 1            |  1           |\n",
       "| den8         | 355          | 339          | 6            | 10           |\n",
       "| elsidron2    |  24          |   0          | 0            | 24           |\n",
       "| shotgun_mez2 |  30          |   0          | 0            | 30           |\n",
       "| shotgun_spy1 |   9          |   0          | 0            |  9           |\n",
       "| spy1         |  18          |   0          | 1            | 17           |\n",
       "\n"
      ],
      "text/plain": [
       "  name         total anc hum neand\n",
       "1 den4         112   110 1    1   \n",
       "2 den8         355   339 6   10   \n",
       "3 elsidron2     24     0 0   24   \n",
       "4 shotgun_mez2  30     0 0   30   \n",
       "5 shotgun_spy1   9     0 0    9   \n",
       "6 spy1          18     0 1   17   "
      ]
     },
     "metadata": {},
     "output_type": "display_data"
    }
   ],
   "source": [
    "props %>% select(-prop) %>% spread(lineage, count)"
   ]
  },
  {
   "cell_type": "code",
   "execution_count": 9,
   "metadata": {},
   "outputs": [
    {
     "data": {
      "text/html": [
       "<table>\n",
       "<thead><tr><th scope=col>name</th><th scope=col>total</th><th scope=col>anc</th><th scope=col>hum</th><th scope=col>neand</th></tr></thead>\n",
       "<tbody>\n",
       "\t<tr><td>den4        </td><td>112         </td><td>0.9821429   </td><td>0.008928571 </td><td>0.008928571 </td></tr>\n",
       "\t<tr><td>den8        </td><td>355         </td><td>0.9549296   </td><td>0.016901408 </td><td>0.028169014 </td></tr>\n",
       "\t<tr><td>elsidron2   </td><td> 24         </td><td>0.0000000   </td><td>0.000000000 </td><td>1.000000000 </td></tr>\n",
       "\t<tr><td>shotgun_mez2</td><td> 30         </td><td>0.0000000   </td><td>0.000000000 </td><td>1.000000000 </td></tr>\n",
       "\t<tr><td>shotgun_spy1</td><td>  9         </td><td>0.0000000   </td><td>0.000000000 </td><td>1.000000000 </td></tr>\n",
       "\t<tr><td>spy1        </td><td> 18         </td><td>0.0000000   </td><td>0.055555556 </td><td>0.944444444 </td></tr>\n",
       "</tbody>\n",
       "</table>\n"
      ],
      "text/latex": [
       "\\begin{tabular}{r|lllll}\n",
       " name & total & anc & hum & neand\\\\\n",
       "\\hline\n",
       "\t den4         & 112          & 0.9821429    & 0.008928571  & 0.008928571 \\\\\n",
       "\t den8         & 355          & 0.9549296    & 0.016901408  & 0.028169014 \\\\\n",
       "\t elsidron2    &  24          & 0.0000000    & 0.000000000  & 1.000000000 \\\\\n",
       "\t shotgun\\_mez2 &  30            & 0.0000000      & 0.000000000    & 1.000000000   \\\\\n",
       "\t shotgun\\_spy1 &   9            & 0.0000000      & 0.000000000    & 1.000000000   \\\\\n",
       "\t spy1         &  18          & 0.0000000    & 0.055555556  & 0.944444444 \\\\\n",
       "\\end{tabular}\n"
      ],
      "text/markdown": [
       "\n",
       "| name | total | anc | hum | neand |\n",
       "|---|---|---|---|---|\n",
       "| den4         | 112          | 0.9821429    | 0.008928571  | 0.008928571  |\n",
       "| den8         | 355          | 0.9549296    | 0.016901408  | 0.028169014  |\n",
       "| elsidron2    |  24          | 0.0000000    | 0.000000000  | 1.000000000  |\n",
       "| shotgun_mez2 |  30          | 0.0000000    | 0.000000000  | 1.000000000  |\n",
       "| shotgun_spy1 |   9          | 0.0000000    | 0.000000000  | 1.000000000  |\n",
       "| spy1         |  18          | 0.0000000    | 0.055555556  | 0.944444444  |\n",
       "\n"
      ],
      "text/plain": [
       "  name         total anc       hum         neand      \n",
       "1 den4         112   0.9821429 0.008928571 0.008928571\n",
       "2 den8         355   0.9549296 0.016901408 0.028169014\n",
       "3 elsidron2     24   0.0000000 0.000000000 1.000000000\n",
       "4 shotgun_mez2  30   0.0000000 0.000000000 1.000000000\n",
       "5 shotgun_spy1   9   0.0000000 0.000000000 1.000000000\n",
       "6 spy1          18   0.0000000 0.055555556 0.944444444"
      ]
     },
     "metadata": {},
     "output_type": "display_data"
    }
   ],
   "source": [
    "props %>% select(-count) %>% spread(lineage, prop)"
   ]
  },
  {
   "cell_type": "markdown",
   "metadata": {},
   "source": [
    "Both Denisovan Y chromosomes fall with close to 100% certainty to a branch ancestral to AMH and Neanderthals.\n",
    "\n",
    "The small number of sites falling on human or Neanderthal branches is easily explained by DNA damage - a truly ancestral site carrying a damage substitution will flip with 50% probability to one or the other, which is what we see for both Denisova 4 and Denisova 8."
   ]
  },
  {
   "cell_type": "code",
   "execution_count": null,
   "metadata": {},
   "outputs": [],
   "source": []
  },
  {
   "cell_type": "code",
   "execution_count": null,
   "metadata": {},
   "outputs": [],
   "source": []
  },
  {
   "cell_type": "code",
   "execution_count": 32,
   "metadata": {},
   "outputs": [],
   "source": [
    "gt <- read_genotypes(\"den8\", \"full\", mindp = 5, maxdp = 0.975, tv_only = TRUE) %>% filter(complete.cases(.))"
   ]
  },
  {
   "cell_type": "code",
   "execution_count": 33,
   "metadata": {},
   "outputs": [
    {
     "data": {
      "text/html": [
       "<table>\n",
       "<thead><tr><th scope=col>chrom</th><th scope=col>pos</th><th scope=col>REF</th><th scope=col>ALT</th><th scope=col>den8</th><th scope=col>chimp</th><th scope=col>ustishim</th><th scope=col>a00</th><th scope=col>S_BedouinB_1</th><th scope=col>S_Turkish_1</th><th scope=col>⋯</th><th scope=col>S_Punjabi_1</th><th scope=col>S_Saami_2</th><th scope=col>S_Papuan_2</th><th scope=col>S_Karitiana_1</th><th scope=col>S_Dinka_1</th><th scope=col>S_Mbuti_1</th><th scope=col>S_Yoruba_2</th><th scope=col>S_Gambian_1</th><th scope=col>S_Mandenka_1</th><th scope=col>S_Ju_hoan_North_1</th></tr></thead>\n",
       "<tbody>\n",
       "\t<tr><td>Y      </td><td>2649899</td><td>A      </td><td>       </td><td>0      </td><td>0      </td><td>0      </td><td>0      </td><td>0      </td><td>0      </td><td>⋯      </td><td>0      </td><td>0      </td><td>0      </td><td>0      </td><td>0      </td><td>0      </td><td>0      </td><td>0      </td><td>0      </td><td>0      </td></tr>\n",
       "\t<tr><td>Y      </td><td>2649901</td><td>A      </td><td>       </td><td>0      </td><td>0      </td><td>0      </td><td>0      </td><td>0      </td><td>0      </td><td>⋯      </td><td>0      </td><td>0      </td><td>0      </td><td>0      </td><td>0      </td><td>0      </td><td>0      </td><td>0      </td><td>0      </td><td>0      </td></tr>\n",
       "\t<tr><td>Y      </td><td>2649902</td><td>A      </td><td>       </td><td>0      </td><td>0      </td><td>0      </td><td>0      </td><td>0      </td><td>0      </td><td>⋯      </td><td>0      </td><td>0      </td><td>0      </td><td>0      </td><td>0      </td><td>0      </td><td>0      </td><td>0      </td><td>0      </td><td>0      </td></tr>\n",
       "\t<tr><td>Y      </td><td>2649903</td><td>A      </td><td>       </td><td>0      </td><td>0      </td><td>0      </td><td>0      </td><td>0      </td><td>0      </td><td>⋯      </td><td>0      </td><td>0      </td><td>0      </td><td>0      </td><td>0      </td><td>0      </td><td>0      </td><td>0      </td><td>0      </td><td>0      </td></tr>\n",
       "\t<tr><td>Y      </td><td>2649908</td><td>T      </td><td>       </td><td>0      </td><td>0      </td><td>0      </td><td>0      </td><td>0      </td><td>0      </td><td>⋯      </td><td>0      </td><td>0      </td><td>0      </td><td>0      </td><td>0      </td><td>0      </td><td>0      </td><td>0      </td><td>0      </td><td>0      </td></tr>\n",
       "\t<tr><td>Y      </td><td>2649910</td><td>T      </td><td>       </td><td>0      </td><td>0      </td><td>0      </td><td>0      </td><td>0      </td><td>0      </td><td>⋯      </td><td>0      </td><td>0      </td><td>0      </td><td>0      </td><td>0      </td><td>0      </td><td>0      </td><td>0      </td><td>0      </td><td>0      </td></tr>\n",
       "</tbody>\n",
       "</table>\n"
      ],
      "text/latex": [
       "\\begin{tabular}{r|lllllllllllllllllllllllllll}\n",
       " chrom & pos & REF & ALT & den8 & chimp & ustishim & a00 & S\\_BedouinB\\_1 & S\\_Turkish\\_1 & ⋯ & S\\_Punjabi\\_1 & S\\_Saami\\_2 & S\\_Papuan\\_2 & S\\_Karitiana\\_1 & S\\_Dinka\\_1 & S\\_Mbuti\\_1 & S\\_Yoruba\\_2 & S\\_Gambian\\_1 & S\\_Mandenka\\_1 & S\\_Ju\\_hoan\\_North\\_1\\\\\n",
       "\\hline\n",
       "\t Y       & 2649899 & A       &         & 0       & 0       & 0       & 0       & 0       & 0       & ⋯       & 0       & 0       & 0       & 0       & 0       & 0       & 0       & 0       & 0       & 0      \\\\\n",
       "\t Y       & 2649901 & A       &         & 0       & 0       & 0       & 0       & 0       & 0       & ⋯       & 0       & 0       & 0       & 0       & 0       & 0       & 0       & 0       & 0       & 0      \\\\\n",
       "\t Y       & 2649902 & A       &         & 0       & 0       & 0       & 0       & 0       & 0       & ⋯       & 0       & 0       & 0       & 0       & 0       & 0       & 0       & 0       & 0       & 0      \\\\\n",
       "\t Y       & 2649903 & A       &         & 0       & 0       & 0       & 0       & 0       & 0       & ⋯       & 0       & 0       & 0       & 0       & 0       & 0       & 0       & 0       & 0       & 0      \\\\\n",
       "\t Y       & 2649908 & T       &         & 0       & 0       & 0       & 0       & 0       & 0       & ⋯       & 0       & 0       & 0       & 0       & 0       & 0       & 0       & 0       & 0       & 0      \\\\\n",
       "\t Y       & 2649910 & T       &         & 0       & 0       & 0       & 0       & 0       & 0       & ⋯       & 0       & 0       & 0       & 0       & 0       & 0       & 0       & 0       & 0       & 0      \\\\\n",
       "\\end{tabular}\n"
      ],
      "text/markdown": [
       "\n",
       "| chrom | pos | REF | ALT | den8 | chimp | ustishim | a00 | S_BedouinB_1 | S_Turkish_1 | ⋯ | S_Punjabi_1 | S_Saami_2 | S_Papuan_2 | S_Karitiana_1 | S_Dinka_1 | S_Mbuti_1 | S_Yoruba_2 | S_Gambian_1 | S_Mandenka_1 | S_Ju_hoan_North_1 |\n",
       "|---|---|---|---|---|---|---|---|---|---|---|---|---|---|---|---|---|---|---|---|---|\n",
       "| Y       | 2649899 | A       |         | 0       | 0       | 0       | 0       | 0       | 0       | ⋯       | 0       | 0       | 0       | 0       | 0       | 0       | 0       | 0       | 0       | 0       |\n",
       "| Y       | 2649901 | A       |         | 0       | 0       | 0       | 0       | 0       | 0       | ⋯       | 0       | 0       | 0       | 0       | 0       | 0       | 0       | 0       | 0       | 0       |\n",
       "| Y       | 2649902 | A       |         | 0       | 0       | 0       | 0       | 0       | 0       | ⋯       | 0       | 0       | 0       | 0       | 0       | 0       | 0       | 0       | 0       | 0       |\n",
       "| Y       | 2649903 | A       |         | 0       | 0       | 0       | 0       | 0       | 0       | ⋯       | 0       | 0       | 0       | 0       | 0       | 0       | 0       | 0       | 0       | 0       |\n",
       "| Y       | 2649908 | T       |         | 0       | 0       | 0       | 0       | 0       | 0       | ⋯       | 0       | 0       | 0       | 0       | 0       | 0       | 0       | 0       | 0       | 0       |\n",
       "| Y       | 2649910 | T       |         | 0       | 0       | 0       | 0       | 0       | 0       | ⋯       | 0       | 0       | 0       | 0       | 0       | 0       | 0       | 0       | 0       | 0       |\n",
       "\n"
      ],
      "text/plain": [
       "  chrom pos     REF ALT den8 chimp ustishim a00 S_BedouinB_1 S_Turkish_1 ⋯\n",
       "1 Y     2649899 A       0    0     0        0   0            0           ⋯\n",
       "2 Y     2649901 A       0    0     0        0   0            0           ⋯\n",
       "3 Y     2649902 A       0    0     0        0   0            0           ⋯\n",
       "4 Y     2649903 A       0    0     0        0   0            0           ⋯\n",
       "5 Y     2649908 T       0    0     0        0   0            0           ⋯\n",
       "6 Y     2649910 T       0    0     0        0   0            0           ⋯\n",
       "  S_Punjabi_1 S_Saami_2 S_Papuan_2 S_Karitiana_1 S_Dinka_1 S_Mbuti_1 S_Yoruba_2\n",
       "1 0           0         0          0             0         0         0         \n",
       "2 0           0         0          0             0         0         0         \n",
       "3 0           0         0          0             0         0         0         \n",
       "4 0           0         0          0             0         0         0         \n",
       "5 0           0         0          0             0         0         0         \n",
       "6 0           0         0          0             0         0         0         \n",
       "  S_Gambian_1 S_Mandenka_1 S_Ju_hoan_North_1\n",
       "1 0           0            0                \n",
       "2 0           0            0                \n",
       "3 0           0            0                \n",
       "4 0           0            0                \n",
       "5 0           0            0                \n",
       "6 0           0            0                "
      ]
     },
     "metadata": {},
     "output_type": "display_data"
    }
   ],
   "source": [
    "head(gt)"
   ]
  },
  {
   "cell_type": "code",
   "execution_count": 34,
   "metadata": {},
   "outputs": [],
   "source": [
    "tafr <-\n",
    "    calculate_tafr(gt) %>%\n",
    "    filter(afr == \"a00\") %>%\n",
    "    unnest(counts_afr) %>%\n",
    "    group_by(afr) %>%\n",
    "    summarise_if(is.numeric, mean)"
   ]
  },
  {
   "cell_type": "code",
   "execution_count": 35,
   "metadata": {},
   "outputs": [
    {
     "data": {
      "text/html": [
       "<table>\n",
       "<thead><tr><th scope=col>afr</th><th scope=col>tmrca_afr</th><th scope=col>tmrca_ad</th><th scope=col>tmrca_f</th><th scope=col>mut_rate</th><th scope=col>age</th><th scope=col>a</th><th scope=col>b</th><th scope=col>c</th><th scope=col>d</th><th scope=col>e</th><th scope=col>f</th><th scope=col>total</th></tr></thead>\n",
       "<tbody>\n",
       "\t<tr><td>a00         </td><td>239496      </td><td>190500.2    </td><td>288491.8    </td><td>4.535624e-10</td><td>45000       </td><td>57          </td><td>0           </td><td>0.6923077   </td><td>20.07692    </td><td>1           </td><td>115         </td><td>934671      </td></tr>\n",
       "</tbody>\n",
       "</table>\n"
      ],
      "text/latex": [
       "\\begin{tabular}{r|lllllllllllll}\n",
       " afr & tmrca\\_afr & tmrca\\_ad & tmrca\\_f & mut\\_rate & age & a & b & c & d & e & f & total\\\\\n",
       "\\hline\n",
       "\t a00          & 239496       & 190500.2     & 288491.8     & 4.535624e-10 & 45000        & 57           & 0            & 0.6923077    & 20.07692     & 1            & 115          & 934671      \\\\\n",
       "\\end{tabular}\n"
      ],
      "text/markdown": [
       "\n",
       "| afr | tmrca_afr | tmrca_ad | tmrca_f | mut_rate | age | a | b | c | d | e | f | total |\n",
       "|---|---|---|---|---|---|---|---|---|---|---|---|---|\n",
       "| a00          | 239496       | 190500.2     | 288491.8     | 4.535624e-10 | 45000        | 57           | 0            | 0.6923077    | 20.07692     | 1            | 115          | 934671       |\n",
       "\n"
      ],
      "text/plain": [
       "  afr tmrca_afr tmrca_ad tmrca_f  mut_rate     age   a  b c         d        e\n",
       "1 a00 239496    190500.2 288491.8 4.535624e-10 45000 57 0 0.6923077 20.07692 1\n",
       "  f   total \n",
       "1 115 934671"
      ]
     },
     "metadata": {},
     "output_type": "display_data"
    }
   ],
   "source": [
    "tafr"
   ]
  },
  {
   "cell_type": "code",
   "execution_count": null,
   "metadata": {},
   "outputs": [],
   "source": []
  },
  {
   "cell_type": "code",
   "execution_count": 31,
   "metadata": {},
   "outputs": [
    {
     "data": {
      "text/html": [
       "<table>\n",
       "<thead><tr><th scope=col>afr</th><th scope=col>tmrca_afr</th><th scope=col>tmrca_ad</th><th scope=col>tmrca_f</th><th scope=col>mut_rate</th><th scope=col>age</th><th scope=col>a</th><th scope=col>b</th><th scope=col>c</th><th scope=col>d</th><th scope=col>e</th><th scope=col>f</th><th scope=col>total</th></tr></thead>\n",
       "<tbody>\n",
       "\t<tr><td>a00         </td><td>237587.3    </td><td>207793.4    </td><td>267381.3    </td><td>4.432091e-10</td><td>45000       </td><td>177.2308    </td><td>0           </td><td>1.153846    </td><td>51.84615    </td><td>1.769231    </td><td>294         </td><td>2510825     </td></tr>\n",
       "</tbody>\n",
       "</table>\n"
      ],
      "text/latex": [
       "\\begin{tabular}{r|lllllllllllll}\n",
       " afr & tmrca\\_afr & tmrca\\_ad & tmrca\\_f & mut\\_rate & age & a & b & c & d & e & f & total\\\\\n",
       "\\hline\n",
       "\t a00          & 237587.3     & 207793.4     & 267381.3     & 4.432091e-10 & 45000        & 177.2308     & 0            & 1.153846     & 51.84615     & 1.769231     & 294          & 2510825     \\\\\n",
       "\\end{tabular}\n"
      ],
      "text/markdown": [
       "\n",
       "| afr | tmrca_afr | tmrca_ad | tmrca_f | mut_rate | age | a | b | c | d | e | f | total |\n",
       "|---|---|---|---|---|---|---|---|---|---|---|---|---|\n",
       "| a00          | 237587.3     | 207793.4     | 267381.3     | 4.432091e-10 | 45000        | 177.2308     | 0            | 1.153846     | 51.84615     | 1.769231     | 294          | 2510825      |\n",
       "\n"
      ],
      "text/plain": [
       "  afr tmrca_afr tmrca_ad tmrca_f  mut_rate     age   a        b c       \n",
       "1 a00 237587.3  207793.4 267381.3 4.432091e-10 45000 177.2308 0 1.153846\n",
       "  d        e        f   total  \n",
       "1 51.84615 1.769231 294 2510825"
      ]
     },
     "metadata": {},
     "output_type": "display_data"
    }
   ],
   "source": [
    "tafr"
   ]
  },
  {
   "cell_type": "code",
   "execution_count": null,
   "metadata": {},
   "outputs": [],
   "source": []
  },
  {
   "cell_type": "code",
   "execution_count": 24,
   "metadata": {},
   "outputs": [],
   "source": [
    "counts <- tibble(\n",
    "    arch = sum(gt$a00 == gt$chimp & gt$mez2 != gt$chimp),\n",
    "    hum = sum(gt$mez2 == gt$chimp & gt$a00 != gt$chimp),\n",
    "    anc = sum(gt$mez2 == gt$a00 & gt$a00 != gt$chimp),\n",
    "    total = nrow(gt)\n",
    ")"
   ]
  },
  {
   "cell_type": "code",
   "execution_count": 25,
   "metadata": {},
   "outputs": [
    {
     "data": {
      "text/html": [
       "<table>\n",
       "<thead><tr><th scope=col>neand</th><th scope=col>hum</th><th scope=col>anc</th><th scope=col>total</th></tr></thead>\n",
       "<tbody>\n",
       "\t<tr><td>259    </td><td>403    </td><td>65347  </td><td>2510825</td></tr>\n",
       "</tbody>\n",
       "</table>\n"
      ],
      "text/latex": [
       "\\begin{tabular}{r|llll}\n",
       " neand & hum & anc & total\\\\\n",
       "\\hline\n",
       "\t 259     & 403     & 65347   & 2510825\\\\\n",
       "\\end{tabular}\n"
      ],
      "text/markdown": [
       "\n",
       "| neand | hum | anc | total |\n",
       "|---|---|---|---|\n",
       "| 259     | 403     | 65347   | 2510825 |\n",
       "\n"
      ],
      "text/plain": [
       "  neand hum anc   total  \n",
       "1 259   403 65347 2510825"
      ]
     },
     "metadata": {},
     "output_type": "display_data"
    }
   ],
   "source": [
    "counts"
   ]
  },
  {
   "cell_type": "code",
   "execution_count": 27,
   "metadata": {},
   "outputs": [
    {
     "data": {
      "text/html": [
       "362142.86505499"
      ],
      "text/latex": [
       "362142.86505499"
      ],
      "text/markdown": [
       "362142.86505499"
      ],
      "text/plain": [
       "[1] 362142.9"
      ]
     },
     "metadata": {},
     "output_type": "display_data"
    }
   ],
   "source": [
    "counts$hum / (counts$total * 4.432091e-10)"
   ]
  },
  {
   "cell_type": "code",
   "execution_count": null,
   "metadata": {},
   "outputs": [],
   "source": []
  },
  {
   "cell_type": "code",
   "execution_count": 38,
   "metadata": {},
   "outputs": [],
   "source": [
    "archaic <- \"den8\"\n",
    "\n",
    "counts <- tibble(\n",
    "    arch = sum(gt$a00 == gt$chimp & gt[[archaic]] != gt$chimp),\n",
    "    hum = sum(gt[[archaic]] == gt$chimp & gt$a00 != gt$chimp),\n",
    "    anc = sum(gt[[archaic]] == gt$a00 & gt$a00 != gt$chimp),\n",
    "    total = nrow(gt)\n",
    ")"
   ]
  },
  {
   "cell_type": "code",
   "execution_count": 39,
   "metadata": {},
   "outputs": [
    {
     "data": {
      "text/html": [
       "<table>\n",
       "<thead><tr><th scope=col>arch</th><th scope=col>hum</th><th scope=col>anc</th><th scope=col>total</th></tr></thead>\n",
       "<tbody>\n",
       "\t<tr><td>125   </td><td>234   </td><td>23809 </td><td>934671</td></tr>\n",
       "</tbody>\n",
       "</table>\n"
      ],
      "text/latex": [
       "\\begin{tabular}{r|llll}\n",
       " arch & hum & anc & total\\\\\n",
       "\\hline\n",
       "\t 125    & 234    & 23809  & 934671\\\\\n",
       "\\end{tabular}\n"
      ],
      "text/markdown": [
       "\n",
       "| arch | hum | anc | total |\n",
       "|---|---|---|---|\n",
       "| 125    | 234    | 23809  | 934671 |\n",
       "\n"
      ],
      "text/plain": [
       "  arch hum anc   total \n",
       "1 125  234 23809 934671"
      ]
     },
     "metadata": {},
     "output_type": "display_data"
    }
   ],
   "source": [
    "counts"
   ]
  },
  {
   "cell_type": "code",
   "execution_count": 40,
   "metadata": {},
   "outputs": [
    {
     "data": {
      "text/html": [
       "551975.806451613"
      ],
      "text/latex": [
       "551975.806451613"
      ],
      "text/markdown": [
       "551975.806451613"
      ],
      "text/plain": [
       "[1] 551975.8"
      ]
     },
     "metadata": {},
     "output_type": "display_data"
    }
   ],
   "source": [
    "counts$hum / (counts$total * tafr$mut_rate)"
   ]
  },
  {
   "cell_type": "code",
   "execution_count": null,
   "metadata": {},
   "outputs": [],
   "source": []
  },
  {
   "cell_type": "code",
   "execution_count": null,
   "metadata": {},
   "outputs": [],
   "source": []
  },
  {
   "cell_type": "code",
   "execution_count": null,
   "metadata": {},
   "outputs": [],
   "source": []
  },
  {
   "cell_type": "code",
   "execution_count": 2,
   "metadata": {},
   "outputs": [],
   "source": [
    "calculate_direct <- function(archaic, mindp) {\n",
    "    gt <- read_genotypes(archaic, \"full\", mindp = mindp, maxdp = 0.975, tv_only = TRUE) %>% filter(complete.cases(.))\n",
    "\n",
    "    tafr <-\n",
    "        calculate_tafr(gt) %>%\n",
    "        filter(afr == \"a00\") %>%\n",
    "        unnest(counts_afr) %>%\n",
    "        group_by(afr) %>%\n",
    "        summarise_if(is.numeric, mean)\n",
    "    \n",
    "    tibble(\n",
    "        name = archaic,\n",
    "        arch = sum(gt$a00 == gt$chimp & gt[[archaic]] != gt$chimp),\n",
    "        hum = sum(gt[[archaic]] == gt$chimp & gt$a00 != gt$chimp),\n",
    "        anc = sum(gt[[archaic]] == gt$a00 & gt$a00 != gt$chimp),\n",
    "        total = nrow(gt),\n",
    "        mut_rate = tafr$mut_rate,\n",
    "        tmrca = hum / (total * mut_rate)\n",
    "     )\n",
    "}"
   ]
  },
  {
   "cell_type": "code",
   "execution_count": 82,
   "metadata": {},
   "outputs": [
    {
     "ename": "ERROR",
     "evalue": "Error: Failed to retrieve the result of MulticoreFuture (<none>) from the forked worker (on localhost; PID 46428). Post-mortem diagnostic: No process exists with this PID, i.e. the forked localhost worker is no longer alive.\n",
     "output_type": "error",
     "traceback": [
      "Error: Failed to retrieve the result of MulticoreFuture (<none>) from the forked worker (on localhost; PID 46428). Post-mortem diagnostic: No process exists with this PID, i.e. the forked localhost worker is no longer alive.\nTraceback:\n",
      "1. future_map_dfr(1:10, function(i) calculate_direct(\"mez2\", i))",
      "2. future_map(.x, .f, ..., .progress = .progress, .options = .options)",
      "3. future_map_template(purrr::map, \"list\", .x, .f, ..., .progress = .progress, \n .     .options = .options)",
      "4. multi_resolve(fs, names(.x))",
      "5. values(fs)",
      "6. values.list(fs)",
      "7. value(tmp, ...)",
      "8. value.Future(tmp, ...)",
      "9. result(future)",
      "10. result.MulticoreFuture(future)"
     ]
    }
   ],
   "source": [
    "direct_tmrca <- future_map_dfr(1:8, function(i) calculate_direct(\"mez2\", i))"
   ]
  },
  {
   "cell_type": "code",
   "execution_count": null,
   "metadata": {},
   "outputs": [],
   "source": [
    "direct_tmrca"
   ]
  },
  {
   "cell_type": "code",
   "execution_count": null,
   "metadata": {},
   "outputs": [],
   "source": []
  },
  {
   "cell_type": "code",
   "execution_count": null,
   "metadata": {},
   "outputs": [],
   "source": []
  },
  {
   "cell_type": "code",
   "execution_count": 80,
   "metadata": {},
   "outputs": [
    {
     "data": {
      "text/html": [
       "<table>\n",
       "<thead><tr><th scope=col>name</th><th scope=col>arch</th><th scope=col>hum</th><th scope=col>anc</th><th scope=col>total</th><th scope=col>mut_rate</th><th scope=col>tmrca</th></tr></thead>\n",
       "<tbody>\n",
       "\t<tr><td>mez2        </td><td>259         </td><td>403         </td><td>65347       </td><td>2510825     </td><td>4.432091e-10</td><td>362142.9    </td></tr>\n",
       "</tbody>\n",
       "</table>\n"
      ],
      "text/latex": [
       "\\begin{tabular}{r|lllllll}\n",
       " name & arch & hum & anc & total & mut\\_rate & tmrca\\\\\n",
       "\\hline\n",
       "\t mez2         & 259          & 403          & 65347        & 2510825      & 4.432091e-10 & 362142.9    \\\\\n",
       "\\end{tabular}\n"
      ],
      "text/markdown": [
       "\n",
       "| name | arch | hum | anc | total | mut_rate | tmrca |\n",
       "|---|---|---|---|---|---|---|\n",
       "| mez2         | 259          | 403          | 65347        | 2510825      | 4.432091e-10 | 362142.9     |\n",
       "\n"
      ],
      "text/plain": [
       "  name arch hum anc   total   mut_rate     tmrca   \n",
       "1 mez2 259  403 65347 2510825 4.432091e-10 362142.9"
      ]
     },
     "metadata": {},
     "output_type": "display_data"
    }
   ],
   "source": [
    "calculate_direct(\"mez2\", 5)"
   ]
  },
  {
   "cell_type": "code",
   "execution_count": null,
   "metadata": {},
   "outputs": [],
   "source": []
  },
  {
   "cell_type": "code",
   "execution_count": null,
   "metadata": {},
   "outputs": [],
   "source": []
  },
  {
   "cell_type": "code",
   "execution_count": null,
   "metadata": {},
   "outputs": [],
   "source": []
  },
  {
   "cell_type": "code",
   "execution_count": null,
   "metadata": {},
   "outputs": [],
   "source": []
  },
  {
   "cell_type": "code",
   "execution_count": null,
   "metadata": {},
   "outputs": [],
   "source": []
  },
  {
   "cell_type": "code",
   "execution_count": null,
   "metadata": {},
   "outputs": [],
   "source": [
    "tmrca_df <-\n",
    "    map_dfr(1:8, function(dp) {\n",
    "        future_map_dfr(c(\"den4\", \"den8\", \"spy1\", \"mez2\", \"shotgun_spy1\", \"shotgun_mez2\"),\n",
    "                       calculate_direct, mindp = dp) %>%\n",
    "            mutate(dp = dp)\n",
    "    })"
   ]
  },
  {
   "cell_type": "code",
   "execution_count": null,
   "metadata": {},
   "outputs": [],
   "source": [
    "tmrca_df"
   ]
  },
  {
   "cell_type": "code",
   "execution_count": 68,
   "metadata": {},
   "outputs": [
    {
     "data": {
      "text/html": [
       "<table>\n",
       "<thead><tr><th scope=col>arch</th><th scope=col>tmrca</th></tr></thead>\n",
       "<tbody>\n",
       "\t<tr><td>mez2        </td><td>362489.6    </td></tr>\n",
       "\t<tr><td>shotgun_spy1</td><td>390549.3    </td></tr>\n",
       "\t<tr><td>shotgun_mez2</td><td>429080.6    </td></tr>\n",
       "\t<tr><td>spy1        </td><td>435584.4    </td></tr>\n",
       "\t<tr><td>den4        </td><td>809932.9    </td></tr>\n",
       "\t<tr><td>den8        </td><td>847429.9    </td></tr>\n",
       "</tbody>\n",
       "</table>\n"
      ],
      "text/latex": [
       "\\begin{tabular}{r|ll}\n",
       " arch & tmrca\\\\\n",
       "\\hline\n",
       "\t mez2         & 362489.6    \\\\\n",
       "\t shotgun\\_spy1 & 390549.3      \\\\\n",
       "\t shotgun\\_mez2 & 429080.6      \\\\\n",
       "\t spy1         & 435584.4    \\\\\n",
       "\t den4         & 809932.9    \\\\\n",
       "\t den8         & 847429.9    \\\\\n",
       "\\end{tabular}\n"
      ],
      "text/markdown": [
       "\n",
       "| arch | tmrca |\n",
       "|---|---|\n",
       "| mez2         | 362489.6     |\n",
       "| shotgun_spy1 | 390549.3     |\n",
       "| shotgun_mez2 | 429080.6     |\n",
       "| spy1         | 435584.4     |\n",
       "| den4         | 809932.9     |\n",
       "| den8         | 847429.9     |\n",
       "\n"
      ],
      "text/plain": [
       "  arch         tmrca   \n",
       "1 mez2         362489.6\n",
       "2 shotgun_spy1 390549.3\n",
       "3 shotgun_mez2 429080.6\n",
       "4 spy1         435584.4\n",
       "5 den4         809932.9\n",
       "6 den8         847429.9"
      ]
     },
     "metadata": {},
     "output_type": "display_data"
    }
   ],
   "source": [
    "tmrca_df %>% arrange(tmrca)"
   ]
  },
  {
   "cell_type": "code",
   "execution_count": 65,
   "metadata": {},
   "outputs": [
    {
     "data": {
      "text/html": [
       "<table>\n",
       "<thead><tr><th scope=col>arch</th><th scope=col>tmrca</th></tr></thead>\n",
       "<tbody>\n",
       "\t<tr><td>shotgun_spy1</td><td>146250.0    </td></tr>\n",
       "\t<tr><td>spy1        </td><td>240157.9    </td></tr>\n",
       "\t<tr><td>shotgun_mez2</td><td>342931.0    </td></tr>\n",
       "\t<tr><td>mez2        </td><td>366157.2    </td></tr>\n",
       "\t<tr><td>den4        </td><td>541189.4    </td></tr>\n",
       "\t<tr><td>den8        </td><td>695579.3    </td></tr>\n",
       "</tbody>\n",
       "</table>\n"
      ],
      "text/latex": [
       "\\begin{tabular}{r|ll}\n",
       " arch & tmrca\\\\\n",
       "\\hline\n",
       "\t shotgun\\_spy1 & 146250.0      \\\\\n",
       "\t spy1         & 240157.9    \\\\\n",
       "\t shotgun\\_mez2 & 342931.0      \\\\\n",
       "\t mez2         & 366157.2    \\\\\n",
       "\t den4         & 541189.4    \\\\\n",
       "\t den8         & 695579.3    \\\\\n",
       "\\end{tabular}\n"
      ],
      "text/markdown": [
       "\n",
       "| arch | tmrca |\n",
       "|---|---|\n",
       "| shotgun_spy1 | 146250.0     |\n",
       "| spy1         | 240157.9     |\n",
       "| shotgun_mez2 | 342931.0     |\n",
       "| mez2         | 366157.2     |\n",
       "| den4         | 541189.4     |\n",
       "| den8         | 695579.3     |\n",
       "\n"
      ],
      "text/plain": [
       "  arch         tmrca   \n",
       "1 shotgun_spy1 146250.0\n",
       "2 spy1         240157.9\n",
       "3 shotgun_mez2 342931.0\n",
       "4 mez2         366157.2\n",
       "5 den4         541189.4\n",
       "6 den8         695579.3"
      ]
     },
     "metadata": {},
     "output_type": "display_data"
    }
   ],
   "source": [
    "tmrca_df %>% arrange(tmrca)"
   ]
  }
 ],
 "metadata": {
  "kernelspec": {
   "display_name": "R",
   "language": "R",
   "name": "ir"
  },
  "language_info": {
   "codemirror_mode": "r",
   "file_extension": ".r",
   "mimetype": "text/x-r-source",
   "name": "R",
   "pygments_lexer": "r",
   "version": "3.5.1"
  }
 },
 "nbformat": 4,
 "nbformat_minor": 2
}
