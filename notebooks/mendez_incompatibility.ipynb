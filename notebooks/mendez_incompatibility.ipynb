{
 "cells": [
  {
   "cell_type": "code",
   "execution_count": 1,
   "metadata": {},
   "outputs": [
    {
     "name": "stderr",
     "output_type": "stream",
     "text": [
      "── \u001b[1mAttaching packages\u001b[22m ─────────────────────────────────────── tidyverse 1.2.1 ──\n",
      "\u001b[32m✔\u001b[39m \u001b[34mggplot2\u001b[39m 3.2.0     \u001b[32m✔\u001b[39m \u001b[34mpurrr  \u001b[39m 0.3.2\n",
      "\u001b[32m✔\u001b[39m \u001b[34mtibble \u001b[39m 2.1.3     \u001b[32m✔\u001b[39m \u001b[34mdplyr  \u001b[39m 0.8.3\n",
      "\u001b[32m✔\u001b[39m \u001b[34mtidyr  \u001b[39m 0.8.3     \u001b[32m✔\u001b[39m \u001b[34mstringr\u001b[39m 1.4.0\n",
      "\u001b[32m✔\u001b[39m \u001b[34mreadr  \u001b[39m 1.3.1     \u001b[32m✔\u001b[39m \u001b[34mforcats\u001b[39m 0.4.0\n",
      "── \u001b[1mConflicts\u001b[22m ────────────────────────────────────────── tidyverse_conflicts() ──\n",
      "\u001b[31m✖\u001b[39m \u001b[34mdplyr\u001b[39m::\u001b[32mfilter()\u001b[39m masks \u001b[34mstats\u001b[39m::filter()\n",
      "\u001b[31m✖\u001b[39m \u001b[34mdplyr\u001b[39m::\u001b[32mlag()\u001b[39m    masks \u001b[34mstats\u001b[39m::lag()\n",
      "\n",
      "Attaching package: ‘magrittr’\n",
      "\n",
      "The following object is masked from ‘package:purrr’:\n",
      "\n",
      "    set_names\n",
      "\n",
      "The following object is masked from ‘package:tidyr’:\n",
      "\n",
      "    extract\n",
      "\n",
      "here() starts at /mnt/expressions/mp/ychr\n",
      "Loading ychr\n"
     ]
    }
   ],
   "source": [
    "library(tidyverse)\n",
    "library(magrittr)\n",
    "library(here)\n",
    "suppressPackageStartupMessages(library(rtracklayer))\n",
    "\n",
    "devtools::load_all(\".\")"
   ]
  },
  {
   "cell_type": "markdown",
   "metadata": {},
   "source": [
    "Read functionally important positions from Mendez et al.:"
   ]
  },
  {
   "cell_type": "code",
   "execution_count": 2,
   "metadata": {},
   "outputs": [
    {
     "name": "stderr",
     "output_type": "stream",
     "text": [
      "Parsed with column specification:\n",
      "cols(\n",
      "  pos = \u001b[32mcol_double()\u001b[39m,\n",
      "  REF = \u001b[31mcol_character()\u001b[39m,\n",
      "  mendez_a00 = \u001b[31mcol_character()\u001b[39m,\n",
      "  mendez_elsidron1 = \u001b[31mcol_character()\u001b[39m,\n",
      "  mendez_chimp = \u001b[31mcol_character()\u001b[39m,\n",
      "  branch = \u001b[31mcol_character()\u001b[39m,\n",
      "  cov_ef = \u001b[32mcol_double()\u001b[39m,\n",
      "  neanderhal_discordant_base_calls = \u001b[32mcol_double()\u001b[39m,\n",
      "  Filter2 = \u001b[31mcol_character()\u001b[39m,\n",
      "  Filter3 = \u001b[31mcol_character()\u001b[39m,\n",
      "  Filter4 = \u001b[31mcol_character()\u001b[39m,\n",
      "  `Genomic_location/effect/functional_prediction` = \u001b[31mcol_character()\u001b[39m\n",
      ")\n"
     ]
    }
   ],
   "source": [
    "temp <- tempfile()\n",
    "download.file(\"https://ars.els-cdn.com/content/image/1-s2.0-S0002929716300337-mmc6.zip\", temp)\n",
    "df <- read_tsv(unz(temp, \"ajhg2064mmc6_V1.txt\"),\n",
    "               col_names = c(\"pos\", \"REF\", \"mendez_a00\", \"mendez_elsidron1\", \"mendez_chimp\", \"branch\", \"cov_ef\",\n",
    "                             \"neanderhal_discordant_base_calls\",\n",
    "                             \"Filter2\", \"Filter3\", \"Filter4\", \"Genomic_location/effect/functional_prediction\"),\n",
    "               skip = 1) %>%\n",
    "    select(-starts_with(\"Filter\")) %>%\n",
    "    mutate(chrom = \"Y\") %>%\n",
    "    select(chrom, pos, everything())\n",
    "unlink(temp)"
   ]
  },
  {
   "cell_type": "code",
   "execution_count": 3,
   "metadata": {},
   "outputs": [],
   "source": [
    "positions <- c(\"2,844,774\", \"2,847,322\", \"4,967,724\", \"5,605,569\", \"6,932,032\", \"14,832,610\",\n",
    "         \"14,832,620\", \"14,838,553\", \"15,816,262\", \"21,868,167\", \"21,905,071\", \"23,545,399\") %>%\n",
    "    str_replace_all(\",\", \"\") %>% as.integer"
   ]
  },
  {
   "cell_type": "code",
   "execution_count": 4,
   "metadata": {},
   "outputs": [],
   "source": [
    "mez2 <- read_vcf(here(\"data/vcf/full_mez2.vcf.gz\"), mindp = 1, maxdp = 1)"
   ]
  },
  {
   "cell_type": "code",
   "execution_count": 5,
   "metadata": {},
   "outputs": [
    {
     "data": {
      "text/html": [
       "146"
      ],
      "text/latex": [
       "146"
      ],
      "text/markdown": [
       "146"
      ],
      "text/plain": [
       "[1] 146"
      ]
     },
     "metadata": {},
     "output_type": "display_data"
    },
    {
     "data": {
      "text/html": [
       "6198512"
      ],
      "text/latex": [
       "6198512"
      ],
      "text/markdown": [
       "6198512"
      ],
      "text/plain": [
       "[1] 6198512"
      ]
     },
     "metadata": {},
     "output_type": "display_data"
    }
   ],
   "source": [
    "nrow(df)\n",
    "nrow(mez2)"
   ]
  },
  {
   "cell_type": "code",
   "execution_count": 16,
   "metadata": {},
   "outputs": [
    {
     "data": {
      "text/html": [
       "146"
      ],
      "text/latex": [
       "146"
      ],
      "text/markdown": [
       "146"
      ],
      "text/plain": [
       "[1] 146"
      ]
     },
     "metadata": {},
     "output_type": "display_data"
    },
    {
     "data": {
      "text/html": [
       "6912756"
      ],
      "text/latex": [
       "6912756"
      ],
      "text/markdown": [
       "6912756"
      ],
      "text/plain": [
       "[1] 6912756"
      ]
     },
     "metadata": {},
     "output_type": "display_data"
    }
   ],
   "source": [
    "nrow(df)\n",
    "nrow(mez2)"
   ]
  },
  {
   "cell_type": "markdown",
   "metadata": {},
   "source": [
    "### Which positions of functional importance according to Mendez did we capture?"
   ]
  },
  {
   "cell_type": "code",
   "execution_count": 23,
   "metadata": {},
   "outputs": [],
   "source": [
    "capture <- import.bed(here(\"data/coord/capture_full.bed\"))"
   ]
  },
  {
   "cell_type": "code",
   "execution_count": 24,
   "metadata": {},
   "outputs": [],
   "source": [
    "positions_gr <- GRanges(seqnames = \"Y\", ranges = IRanges(start = positions, width = 1))"
   ]
  },
  {
   "cell_type": "code",
   "execution_count": 25,
   "metadata": {},
   "outputs": [
    {
     "data": {
      "text/plain": [
       "GRanges object with 7 ranges and 0 metadata columns:\n",
       "      seqnames    ranges strand\n",
       "         <Rle> <IRanges>  <Rle>\n",
       "  [1]        Y   6932032      *\n",
       "  [2]        Y  14832610      *\n",
       "  [3]        Y  14832620      *\n",
       "  [4]        Y  14838553      *\n",
       "  [5]        Y  21868167      *\n",
       "  [6]        Y  21905071      *\n",
       "  [7]        Y  23545399      *\n",
       "  -------\n",
       "  seqinfo: 1 sequence from an unspecified genome; no seqlengths"
      ]
     },
     "metadata": {},
     "output_type": "display_data"
    }
   ],
   "source": [
    "positions_covered <- positions_gr[positions_gr %over% capture]\n",
    "positions_covered"
   ]
  },
  {
   "cell_type": "code",
   "execution_count": null,
   "metadata": {},
   "outputs": [],
   "source": []
  },
  {
   "cell_type": "code",
   "execution_count": null,
   "metadata": {},
   "outputs": [],
   "source": []
  },
  {
   "cell_type": "code",
   "execution_count": 5,
   "metadata": {},
   "outputs": [
    {
     "data": {
      "text/html": [
       "146"
      ],
      "text/latex": [
       "146"
      ],
      "text/markdown": [
       "146"
      ],
      "text/plain": [
       "[1] 146"
      ]
     },
     "metadata": {},
     "output_type": "display_data"
    },
    {
     "data": {
      "text/html": [
       "6912756"
      ],
      "text/latex": [
       "6912756"
      ],
      "text/markdown": [
       "6912756"
      ],
      "text/plain": [
       "[1] 6912756"
      ]
     },
     "metadata": {},
     "output_type": "display_data"
    }
   ],
   "source": [
    "nrow(df)\n",
    "nrow(mez2)"
   ]
  },
  {
   "cell_type": "code",
   "execution_count": 27,
   "metadata": {},
   "outputs": [],
   "source": [
    "merged <- right_join(mez2, df, by = c(\"chrom\", \"pos\", \"REF\")) %>%\n",
    "    select(chrom, pos, REF, ALT, chimp, mendez_a00, a00, mendez_elsidron1, mez2, everything()) %>%\n",
    "    mutate(\n",
    "        mendez_elsidron1 = as.integer(mendez_elsidron1 != REF),\n",
    "        mendez_chimp = as.integer(mendez_chimp != REF),\n",
    "        mendez_a00 = as.integer(mendez_a00 != REF)\n",
    "    )"
   ]
  },
  {
   "cell_type": "code",
   "execution_count": 28,
   "metadata": {},
   "outputs": [
    {
     "data": {
      "text/html": [
       "<table>\n",
       "<caption>A tibble: 12 × 29</caption>\n",
       "<thead>\n",
       "\t<tr><th scope=col>chrom</th><th scope=col>pos</th><th scope=col>REF</th><th scope=col>ALT</th><th scope=col>chimp</th><th scope=col>mendez_a00</th><th scope=col>a00</th><th scope=col>mendez_elsidron1</th><th scope=col>mez2</th><th scope=col>ustishim</th><th scope=col>⋯</th><th scope=col>S_Punjabi_1</th><th scope=col>S_Saami_2</th><th scope=col>S_Papuan_2</th><th scope=col>S_Karitiana_1</th><th scope=col>S_Ju_hoan_North_1</th><th scope=col>mendez_chimp</th><th scope=col>branch</th><th scope=col>cov_ef</th><th scope=col>neanderhal_discordant_base_calls</th><th scope=col>Genomic_location/effect/functional_prediction</th></tr>\n",
       "\t<tr><th scope=col>&lt;chr&gt;</th><th scope=col>&lt;dbl&gt;</th><th scope=col>&lt;chr&gt;</th><th scope=col>&lt;chr&gt;</th><th scope=col>&lt;dbl&gt;</th><th scope=col>&lt;int&gt;</th><th scope=col>&lt;dbl&gt;</th><th scope=col>&lt;int&gt;</th><th scope=col>&lt;dbl&gt;</th><th scope=col>&lt;dbl&gt;</th><th scope=col>⋯</th><th scope=col>&lt;dbl&gt;</th><th scope=col>&lt;dbl&gt;</th><th scope=col>&lt;dbl&gt;</th><th scope=col>&lt;dbl&gt;</th><th scope=col>&lt;dbl&gt;</th><th scope=col>&lt;int&gt;</th><th scope=col>&lt;chr&gt;</th><th scope=col>&lt;dbl&gt;</th><th scope=col>&lt;dbl&gt;</th><th scope=col>&lt;chr&gt;</th></tr>\n",
       "</thead>\n",
       "<tbody>\n",
       "\t<tr><td>Y</td><td> 2844774</td><td>T</td><td>NA</td><td>NA</td><td>0</td><td>NA</td><td>1</td><td>NA</td><td>NA</td><td>⋯</td><td>NA</td><td>NA</td><td>NA</td><td>NA</td><td>NA</td><td>0</td><td>f</td><td> 1</td><td>0</td><td>ZFY/coding_intronic/Non-synonymous</td></tr>\n",
       "\t<tr><td>Y</td><td> 2847322</td><td>T</td><td>NA</td><td>NA</td><td>1</td><td>NA</td><td>0</td><td>NA</td><td>NA</td><td>⋯</td><td>NA</td><td>NA</td><td>NA</td><td>NA</td><td>NA</td><td>0</td><td>e</td><td>19</td><td>0</td><td>ZFY/coding/Non-synonymous         </td></tr>\n",
       "\t<tr><td>Y</td><td> 4967724</td><td>A</td><td>NA</td><td>NA</td><td>0</td><td>NA</td><td>1</td><td>NA</td><td>NA</td><td>⋯</td><td>NA</td><td>NA</td><td>NA</td><td>NA</td><td>NA</td><td>0</td><td>f</td><td> 1</td><td>0</td><td>PCDH11Y/coding/Non-synonymous     </td></tr>\n",
       "\t<tr><td>Y</td><td> 5605569</td><td>C</td><td>NA</td><td>NA</td><td>0</td><td>NA</td><td>1</td><td>NA</td><td>NA</td><td>⋯</td><td>NA</td><td>NA</td><td>NA</td><td>NA</td><td>NA</td><td>0</td><td>f</td><td> 1</td><td>0</td><td>PCDH11Y/coding/Non-synonymous     </td></tr>\n",
       "\t<tr><td>Y</td><td> 6932032</td><td>G</td><td>  </td><td> 0</td><td>0</td><td> 0</td><td>1</td><td>NA</td><td> 0</td><td>⋯</td><td> 0</td><td> 0</td><td> 0</td><td> 0</td><td> 0</td><td>0</td><td>f</td><td> 5</td><td>0</td><td>TBL1Y/coding/Non-synonymous       </td></tr>\n",
       "\t<tr><td>Y</td><td>14832610</td><td>A</td><td>  </td><td> 0</td><td>0</td><td> 0</td><td>1</td><td>NA</td><td> 0</td><td>⋯</td><td> 0</td><td> 0</td><td> 0</td><td> 0</td><td> 0</td><td>0</td><td>f</td><td> 3</td><td>0</td><td>USP9Y/coding/Non-synonymous       </td></tr>\n",
       "\t<tr><td>Y</td><td>14832620</td><td>G</td><td>T </td><td> 1</td><td>1</td><td> 1</td><td>1</td><td> 1</td><td> 0</td><td>⋯</td><td> 0</td><td> 0</td><td> 0</td><td> 0</td><td> 1</td><td>1</td><td>d</td><td>NA</td><td>0</td><td>USP9Y/coding/Non-synonymous       </td></tr>\n",
       "\t<tr><td>Y</td><td>14838553</td><td>G</td><td>  </td><td> 0</td><td>0</td><td> 0</td><td>1</td><td> 0</td><td> 0</td><td>⋯</td><td> 0</td><td> 0</td><td> 0</td><td> 0</td><td> 0</td><td>0</td><td>f</td><td> 4</td><td>0</td><td>USP9Y/coding/Non-synonymous       </td></tr>\n",
       "\t<tr><td>Y</td><td>15816262</td><td>C</td><td>NA</td><td>NA</td><td>0</td><td>NA</td><td>1</td><td>NA</td><td>NA</td><td>⋯</td><td>NA</td><td>NA</td><td>NA</td><td>NA</td><td>NA</td><td>0</td><td>f</td><td> 3</td><td>0</td><td>TMSB4Y/coding/Stop                </td></tr>\n",
       "\t<tr><td>Y</td><td>21868167</td><td>C</td><td>T </td><td> 1</td><td>0</td><td> 0</td><td>1</td><td> 1</td><td> 0</td><td>⋯</td><td> 0</td><td> 0</td><td> 0</td><td> 0</td><td> 0</td><td>1</td><td>a</td><td>NA</td><td>0</td><td>KDM5D/coding/Non-synonymous       </td></tr>\n",
       "\t<tr><td>Y</td><td>21905071</td><td>C</td><td>T </td><td> 1</td><td>0</td><td> 0</td><td>1</td><td> 1</td><td> 0</td><td>⋯</td><td> 0</td><td> 0</td><td> 0</td><td> 0</td><td> 0</td><td>1</td><td>a</td><td>NA</td><td>0</td><td>KDM5D/coding/Non-synonymous       </td></tr>\n",
       "\t<tr><td>Y</td><td>23545399</td><td>G</td><td>A </td><td> 0</td><td>1</td><td> 1</td><td>0</td><td> 0</td><td> 0</td><td>⋯</td><td> 0</td><td> 0</td><td> 0</td><td> 0</td><td> 0</td><td>0</td><td>e</td><td>16</td><td>0</td><td>PRORY/coding/Non-synonymous       </td></tr>\n",
       "</tbody>\n",
       "</table>\n"
      ],
      "text/latex": [
       "A tibble: 12 × 29\n",
       "\\begin{tabular}{r|lllllllllllllllllllllllllllll}\n",
       " chrom & pos & REF & ALT & chimp & mendez\\_a00 & a00 & mendez\\_elsidron1 & mez2 & ustishim & S\\_BedouinB\\_1 & S\\_Turkish\\_1 & S\\_French\\_1 & S\\_Burmese\\_1 & S\\_Thai\\_1 & S\\_Finnish\\_2 & S\\_Sardinian\\_1 & S\\_Han\\_2 & S\\_Dai\\_2 & S\\_Punjabi\\_1 & S\\_Saami\\_2 & S\\_Papuan\\_2 & S\\_Karitiana\\_1 & S\\_Ju\\_hoan\\_North\\_1 & mendez\\_chimp & branch & cov\\_ef & neanderhal\\_discordant\\_base\\_calls & Genomic\\_location/effect/functional\\_prediction\\\\\n",
       " <chr> & <dbl> & <chr> & <chr> & <dbl> & <int> & <dbl> & <int> & <dbl> & <dbl> & <dbl> & <dbl> & <dbl> & <dbl> & <dbl> & <dbl> & <dbl> & <dbl> & <dbl> & <dbl> & <dbl> & <dbl> & <dbl> & <dbl> & <int> & <chr> & <dbl> & <dbl> & <chr>\\\\\n",
       "\\hline\n",
       "\t Y &  2844774 & T & NA & NA & 0 & NA & 1 & NA & NA & NA & NA & NA & NA & NA & NA & NA & NA & NA & NA & NA & NA & NA & NA & 0 & f &  1 & 0 & ZFY/coding\\_intronic/Non-synonymous\\\\\n",
       "\t Y &  2847322 & T & NA & NA & 1 & NA & 0 & NA & NA & NA & NA & NA & NA & NA & NA & NA & NA & NA & NA & NA & NA & NA & NA & 0 & e & 19 & 0 & ZFY/coding/Non-synonymous         \\\\\n",
       "\t Y &  4967724 & A & NA & NA & 0 & NA & 1 & NA & NA & NA & NA & NA & NA & NA & NA & NA & NA & NA & NA & NA & NA & NA & NA & 0 & f &  1 & 0 & PCDH11Y/coding/Non-synonymous     \\\\\n",
       "\t Y &  5605569 & C & NA & NA & 0 & NA & 1 & NA & NA & NA & NA & NA & NA & NA & NA & NA & NA & NA & NA & NA & NA & NA & NA & 0 & f &  1 & 0 & PCDH11Y/coding/Non-synonymous     \\\\\n",
       "\t Y &  6932032 & G &    &  0 & 0 &  0 & 1 & NA &  0 &  0 &  0 &  0 &  0 &  0 &  0 &  0 &  0 &  0 &  0 &  0 &  0 &  0 &  0 & 0 & f &  5 & 0 & TBL1Y/coding/Non-synonymous       \\\\\n",
       "\t Y & 14832610 & A &    &  0 & 0 &  0 & 1 & NA &  0 &  0 &  0 &  0 &  0 &  0 &  0 &  0 &  0 &  0 &  0 &  0 &  0 &  0 &  0 & 0 & f &  3 & 0 & USP9Y/coding/Non-synonymous       \\\\\n",
       "\t Y & 14832620 & G & T  &  1 & 1 &  1 & 1 &  1 &  0 &  0 &  0 &  0 &  0 &  0 &  0 &  0 &  0 &  0 &  0 &  0 &  0 &  0 &  1 & 1 & d & NA & 0 & USP9Y/coding/Non-synonymous       \\\\\n",
       "\t Y & 14838553 & G &    &  0 & 0 &  0 & 1 &  0 &  0 &  0 &  0 &  0 &  0 &  0 & NA &  0 &  0 &  0 &  0 &  0 &  0 &  0 &  0 & 0 & f &  4 & 0 & USP9Y/coding/Non-synonymous       \\\\\n",
       "\t Y & 15816262 & C & NA & NA & 0 & NA & 1 & NA & NA & NA & NA & NA & NA & NA & NA & NA & NA & NA & NA & NA & NA & NA & NA & 0 & f &  3 & 0 & TMSB4Y/coding/Stop                \\\\\n",
       "\t Y & 21868167 & C & T  &  1 & 0 &  0 & 1 &  1 &  0 &  0 &  0 &  0 &  0 &  0 &  0 &  0 &  0 &  0 &  0 &  0 &  0 &  0 &  0 & 1 & a & NA & 0 & KDM5D/coding/Non-synonymous       \\\\\n",
       "\t Y & 21905071 & C & T  &  1 & 0 &  0 & 1 &  1 &  0 &  0 &  0 &  0 &  0 &  0 &  0 &  0 &  0 &  0 &  0 &  0 &  0 &  0 &  0 & 1 & a & NA & 0 & KDM5D/coding/Non-synonymous       \\\\\n",
       "\t Y & 23545399 & G & A  &  0 & 1 &  1 & 0 &  0 &  0 &  0 &  0 &  0 &  0 &  0 &  0 &  0 &  0 &  0 &  0 &  0 &  0 &  0 &  0 & 0 & e & 16 & 0 & PRORY/coding/Non-synonymous       \\\\\n",
       "\\end{tabular}\n"
      ],
      "text/markdown": [
       "\n",
       "A tibble: 12 × 29\n",
       "\n",
       "| chrom &lt;chr&gt; | pos &lt;dbl&gt; | REF &lt;chr&gt; | ALT &lt;chr&gt; | chimp &lt;dbl&gt; | mendez_a00 &lt;int&gt; | a00 &lt;dbl&gt; | mendez_elsidron1 &lt;int&gt; | mez2 &lt;dbl&gt; | ustishim &lt;dbl&gt; | ⋯ ⋯ | S_Punjabi_1 &lt;dbl&gt; | S_Saami_2 &lt;dbl&gt; | S_Papuan_2 &lt;dbl&gt; | S_Karitiana_1 &lt;dbl&gt; | S_Ju_hoan_North_1 &lt;dbl&gt; | mendez_chimp &lt;int&gt; | branch &lt;chr&gt; | cov_ef &lt;dbl&gt; | neanderhal_discordant_base_calls &lt;dbl&gt; | Genomic_location/effect/functional_prediction &lt;chr&gt; |\n",
       "|---|---|---|---|---|---|---|---|---|---|---|---|---|---|---|---|---|---|---|---|---|\n",
       "| Y |  2844774 | T | NA | NA | 0 | NA | 1 | NA | NA | ⋯ | NA | NA | NA | NA | NA | 0 | f |  1 | 0 | ZFY/coding_intronic/Non-synonymous |\n",
       "| Y |  2847322 | T | NA | NA | 1 | NA | 0 | NA | NA | ⋯ | NA | NA | NA | NA | NA | 0 | e | 19 | 0 | ZFY/coding/Non-synonymous          |\n",
       "| Y |  4967724 | A | NA | NA | 0 | NA | 1 | NA | NA | ⋯ | NA | NA | NA | NA | NA | 0 | f |  1 | 0 | PCDH11Y/coding/Non-synonymous      |\n",
       "| Y |  5605569 | C | NA | NA | 0 | NA | 1 | NA | NA | ⋯ | NA | NA | NA | NA | NA | 0 | f |  1 | 0 | PCDH11Y/coding/Non-synonymous      |\n",
       "| Y |  6932032 | G | <!----> |  0 | 0 |  0 | 1 | NA |  0 | ⋯ |  0 |  0 |  0 |  0 |  0 | 0 | f |  5 | 0 | TBL1Y/coding/Non-synonymous        |\n",
       "| Y | 14832610 | A | <!----> |  0 | 0 |  0 | 1 | NA |  0 | ⋯ |  0 |  0 |  0 |  0 |  0 | 0 | f |  3 | 0 | USP9Y/coding/Non-synonymous        |\n",
       "| Y | 14832620 | G | T  |  1 | 1 |  1 | 1 |  1 |  0 | ⋯ |  0 |  0 |  0 |  0 |  1 | 1 | d | NA | 0 | USP9Y/coding/Non-synonymous        |\n",
       "| Y | 14838553 | G | <!----> |  0 | 0 |  0 | 1 |  0 |  0 | ⋯ |  0 |  0 |  0 |  0 |  0 | 0 | f |  4 | 0 | USP9Y/coding/Non-synonymous        |\n",
       "| Y | 15816262 | C | NA | NA | 0 | NA | 1 | NA | NA | ⋯ | NA | NA | NA | NA | NA | 0 | f |  3 | 0 | TMSB4Y/coding/Stop                 |\n",
       "| Y | 21868167 | C | T  |  1 | 0 |  0 | 1 |  1 |  0 | ⋯ |  0 |  0 |  0 |  0 |  0 | 1 | a | NA | 0 | KDM5D/coding/Non-synonymous        |\n",
       "| Y | 21905071 | C | T  |  1 | 0 |  0 | 1 |  1 |  0 | ⋯ |  0 |  0 |  0 |  0 |  0 | 1 | a | NA | 0 | KDM5D/coding/Non-synonymous        |\n",
       "| Y | 23545399 | G | A  |  0 | 1 |  1 | 0 |  0 |  0 | ⋯ |  0 |  0 |  0 |  0 |  0 | 0 | e | 16 | 0 | PRORY/coding/Non-synonymous        |\n",
       "\n"
      ],
      "text/plain": [
       "   chrom pos      REF ALT chimp mendez_a00 a00 mendez_elsidron1 mez2 ustishim ⋯\n",
       "1  Y      2844774 T   NA  NA    0          NA  1                NA   NA       ⋯\n",
       "2  Y      2847322 T   NA  NA    1          NA  0                NA   NA       ⋯\n",
       "3  Y      4967724 A   NA  NA    0          NA  1                NA   NA       ⋯\n",
       "4  Y      5605569 C   NA  NA    0          NA  1                NA   NA       ⋯\n",
       "5  Y      6932032 G        0    0           0  1                NA    0       ⋯\n",
       "6  Y     14832610 A        0    0           0  1                NA    0       ⋯\n",
       "7  Y     14832620 G   T    1    1           1  1                 1    0       ⋯\n",
       "8  Y     14838553 G        0    0           0  1                 0    0       ⋯\n",
       "9  Y     15816262 C   NA  NA    0          NA  1                NA   NA       ⋯\n",
       "10 Y     21868167 C   T    1    0           0  1                 1    0       ⋯\n",
       "11 Y     21905071 C   T    1    0           0  1                 1    0       ⋯\n",
       "12 Y     23545399 G   A    0    1           1  0                 0    0       ⋯\n",
       "   S_Punjabi_1 S_Saami_2 S_Papuan_2 S_Karitiana_1 S_Ju_hoan_North_1\n",
       "1  NA          NA        NA         NA            NA               \n",
       "2  NA          NA        NA         NA            NA               \n",
       "3  NA          NA        NA         NA            NA               \n",
       "4  NA          NA        NA         NA            NA               \n",
       "5   0           0         0          0             0               \n",
       "6   0           0         0          0             0               \n",
       "7   0           0         0          0             1               \n",
       "8   0           0         0          0             0               \n",
       "9  NA          NA        NA         NA            NA               \n",
       "10  0           0         0          0             0               \n",
       "11  0           0         0          0             0               \n",
       "12  0           0         0          0             0               \n",
       "   mendez_chimp branch cov_ef neanderhal_discordant_base_calls\n",
       "1  0            f       1     0                               \n",
       "2  0            e      19     0                               \n",
       "3  0            f       1     0                               \n",
       "4  0            f       1     0                               \n",
       "5  0            f       5     0                               \n",
       "6  0            f       3     0                               \n",
       "7  1            d      NA     0                               \n",
       "8  0            f       4     0                               \n",
       "9  0            f       3     0                               \n",
       "10 1            a      NA     0                               \n",
       "11 1            a      NA     0                               \n",
       "12 0            e      16     0                               \n",
       "   Genomic_location/effect/functional_prediction\n",
       "1  ZFY/coding_intronic/Non-synonymous           \n",
       "2  ZFY/coding/Non-synonymous                    \n",
       "3  PCDH11Y/coding/Non-synonymous                \n",
       "4  PCDH11Y/coding/Non-synonymous                \n",
       "5  TBL1Y/coding/Non-synonymous                  \n",
       "6  USP9Y/coding/Non-synonymous                  \n",
       "7  USP9Y/coding/Non-synonymous                  \n",
       "8  USP9Y/coding/Non-synonymous                  \n",
       "9  TMSB4Y/coding/Stop                           \n",
       "10 KDM5D/coding/Non-synonymous                  \n",
       "11 KDM5D/coding/Non-synonymous                  \n",
       "12 PRORY/coding/Non-synonymous                  "
      ]
     },
     "metadata": {},
     "output_type": "display_data"
    }
   ],
   "source": [
    "merged %>% filter(pos %in% positions)"
   ]
  },
  {
   "cell_type": "code",
   "execution_count": 34,
   "metadata": {},
   "outputs": [],
   "source": [
    "tibble(chrom = \"Y\", start = positions - 1, end = positions) %>% write_tsv(\"../asd.bed\", col_names = F)"
   ]
  },
  {
   "cell_type": "code",
   "execution_count": 100,
   "metadata": {
    "scrolled": false
   },
   "outputs": [],
   "source": [
    "x <- merged %>% mutate(\n",
    "        mendez_elsidron1 = as.integer(mendez_elsidron1 != REF),\n",
    "        mendez_chimp = as.integer(mendez_chimp != REF),\n",
    "        mendez_a00 = as.integer(mendez_a00 != REF)\n",
    "    )"
   ]
  },
  {
   "cell_type": "code",
   "execution_count": 103,
   "metadata": {
    "scrolled": false
   },
   "outputs": [
    {
     "data": {
      "text/html": [
       "12"
      ],
      "text/latex": [
       "12"
      ],
      "text/markdown": [
       "12"
      ],
      "text/plain": [
       "[1] 12"
      ]
     },
     "metadata": {},
     "output_type": "display_data"
    }
   ],
   "source": [
    "x %>% filter(pos %in% positions) %>% nrow"
   ]
  },
  {
   "cell_type": "code",
   "execution_count": null,
   "metadata": {},
   "outputs": [],
   "source": []
  },
  {
   "cell_type": "code",
   "execution_count": null,
   "metadata": {},
   "outputs": [],
   "source": []
  },
  {
   "cell_type": "code",
   "execution_count": null,
   "metadata": {},
   "outputs": [],
   "source": []
  },
  {
   "cell_type": "code",
   "execution_count": null,
   "metadata": {},
   "outputs": [],
   "source": []
  },
  {
   "cell_type": "code",
   "execution_count": 6,
   "metadata": {},
   "outputs": [],
   "source": [
    "p <- read_tsv(\"../data/pileup//full_mez2.txt.gz\", col_types = \"cicciiii\")"
   ]
  },
  {
   "cell_type": "code",
   "execution_count": 7,
   "metadata": {},
   "outputs": [
    {
     "data": {
      "text/html": [
       "<table>\n",
       "<caption>A tibble: 6 × 8</caption>\n",
       "<thead>\n",
       "\t<tr><th scope=col>chrom</th><th scope=col>pos</th><th scope=col>ref</th><th scope=col>pileup</th><th scope=col>A</th><th scope=col>C</th><th scope=col>G</th><th scope=col>T</th></tr>\n",
       "\t<tr><th scope=col>&lt;chr&gt;</th><th scope=col>&lt;int&gt;</th><th scope=col>&lt;chr&gt;</th><th scope=col>&lt;chr&gt;</th><th scope=col>&lt;int&gt;</th><th scope=col>&lt;int&gt;</th><th scope=col>&lt;int&gt;</th><th scope=col>&lt;int&gt;</th></tr>\n",
       "</thead>\n",
       "<tbody>\n",
       "\t<tr><td>Y</td><td>2649811</td><td>A</td><td>A   </td><td>1</td><td>0</td><td>0</td><td>0</td></tr>\n",
       "\t<tr><td>Y</td><td>2649812</td><td>A</td><td>AA  </td><td>2</td><td>0</td><td>0</td><td>0</td></tr>\n",
       "\t<tr><td>Y</td><td>2649813</td><td>A</td><td>AAA </td><td>3</td><td>0</td><td>0</td><td>0</td></tr>\n",
       "\t<tr><td>Y</td><td>2649814</td><td>A</td><td>AAAA</td><td>4</td><td>0</td><td>0</td><td>0</td></tr>\n",
       "\t<tr><td>Y</td><td>2649815</td><td>A</td><td>AAAA</td><td>4</td><td>0</td><td>0</td><td>0</td></tr>\n",
       "\t<tr><td>Y</td><td>2649816</td><td>A</td><td>AAAA</td><td>4</td><td>0</td><td>0</td><td>0</td></tr>\n",
       "</tbody>\n",
       "</table>\n"
      ],
      "text/latex": [
       "A tibble: 6 × 8\n",
       "\\begin{tabular}{r|llllllll}\n",
       " chrom & pos & ref & pileup & A & C & G & T\\\\\n",
       " <chr> & <int> & <chr> & <chr> & <int> & <int> & <int> & <int>\\\\\n",
       "\\hline\n",
       "\t Y & 2649811 & A & A    & 1 & 0 & 0 & 0\\\\\n",
       "\t Y & 2649812 & A & AA   & 2 & 0 & 0 & 0\\\\\n",
       "\t Y & 2649813 & A & AAA  & 3 & 0 & 0 & 0\\\\\n",
       "\t Y & 2649814 & A & AAAA & 4 & 0 & 0 & 0\\\\\n",
       "\t Y & 2649815 & A & AAAA & 4 & 0 & 0 & 0\\\\\n",
       "\t Y & 2649816 & A & AAAA & 4 & 0 & 0 & 0\\\\\n",
       "\\end{tabular}\n"
      ],
      "text/markdown": [
       "\n",
       "A tibble: 6 × 8\n",
       "\n",
       "| chrom &lt;chr&gt; | pos &lt;int&gt; | ref &lt;chr&gt; | pileup &lt;chr&gt; | A &lt;int&gt; | C &lt;int&gt; | G &lt;int&gt; | T &lt;int&gt; |\n",
       "|---|---|---|---|---|---|---|---|\n",
       "| Y | 2649811 | A | A    | 1 | 0 | 0 | 0 |\n",
       "| Y | 2649812 | A | AA   | 2 | 0 | 0 | 0 |\n",
       "| Y | 2649813 | A | AAA  | 3 | 0 | 0 | 0 |\n",
       "| Y | 2649814 | A | AAAA | 4 | 0 | 0 | 0 |\n",
       "| Y | 2649815 | A | AAAA | 4 | 0 | 0 | 0 |\n",
       "| Y | 2649816 | A | AAAA | 4 | 0 | 0 | 0 |\n",
       "\n"
      ],
      "text/plain": [
       "  chrom pos     ref pileup A C G T\n",
       "1 Y     2649811 A   A      1 0 0 0\n",
       "2 Y     2649812 A   AA     2 0 0 0\n",
       "3 Y     2649813 A   AAA    3 0 0 0\n",
       "4 Y     2649814 A   AAAA   4 0 0 0\n",
       "5 Y     2649815 A   AAAA   4 0 0 0\n",
       "6 Y     2649816 A   AAAA   4 0 0 0"
      ]
     },
     "metadata": {},
     "output_type": "display_data"
    }
   ],
   "source": [
    "head(p)"
   ]
  },
  {
   "cell_type": "code",
   "execution_count": 20,
   "metadata": {},
   "outputs": [],
   "source": [
    "merged <- left_join(df, p, by = c(\"chrom\", \"pos\", \"REF\" = \"ref\")) %>%\n",
    "    left_join(mez2, by = c(\"chrom\", \"pos\", \"REF\")) %>%\n",
    "    select(chrom, pos, REF, ALT, mendez_elsidron1, mez2, A, C, G, T, pileup, everything())"
   ]
  },
  {
   "cell_type": "code",
   "execution_count": 31,
   "metadata": {},
   "outputs": [
    {
     "data": {
      "text/html": [
       "<table>\n",
       "<caption>A spec_tbl_df: 7 × 17</caption>\n",
       "<thead>\n",
       "\t<tr><th scope=col>chrom</th><th scope=col>pos</th><th scope=col>REF</th><th scope=col>ALT</th><th scope=col>mendez_elsidron1</th><th scope=col>mez2</th><th scope=col>A</th><th scope=col>C</th><th scope=col>G</th><th scope=col>T</th><th scope=col>pileup</th><th scope=col>mendez_a00</th><th scope=col>mendez_chimp</th><th scope=col>branch</th><th scope=col>cov_ef</th><th scope=col>neanderhal_discordant_base_calls</th><th scope=col>Genomic_location/effect/functional_prediction</th></tr>\n",
       "\t<tr><th scope=col>&lt;chr&gt;</th><th scope=col>&lt;dbl&gt;</th><th scope=col>&lt;chr&gt;</th><th scope=col>&lt;chr&gt;</th><th scope=col>&lt;chr&gt;</th><th scope=col>&lt;dbl&gt;</th><th scope=col>&lt;int&gt;</th><th scope=col>&lt;int&gt;</th><th scope=col>&lt;int&gt;</th><th scope=col>&lt;int&gt;</th><th scope=col>&lt;chr&gt;</th><th scope=col>&lt;chr&gt;</th><th scope=col>&lt;chr&gt;</th><th scope=col>&lt;chr&gt;</th><th scope=col>&lt;dbl&gt;</th><th scope=col>&lt;dbl&gt;</th><th scope=col>&lt;chr&gt;</th></tr>\n",
       "</thead>\n",
       "<tbody>\n",
       "\t<tr><td>Y</td><td> 6932032</td><td>G</td><td>NA</td><td>C</td><td>NA</td><td>0</td><td>15</td><td> 0</td><td> 2</td><td>CCCCCCCTCCCCCCCTC         </td><td>G</td><td>G</td><td>f</td><td> 5</td><td>0</td><td>TBL1Y/coding/Non-synonymous</td></tr>\n",
       "\t<tr><td>Y</td><td>14832610</td><td>A</td><td>NA</td><td>G</td><td>NA</td><td>1</td><td> 0</td><td> 5</td><td> 0</td><td>GGGGGA                    </td><td>A</td><td>A</td><td>f</td><td> 3</td><td>0</td><td>USP9Y/coding/Non-synonymous</td></tr>\n",
       "\t<tr><td>Y</td><td>14832620</td><td>G</td><td>T </td><td>T</td><td> 1</td><td>0</td><td> 0</td><td> 0</td><td> 7</td><td>TTTTTTT                   </td><td>T</td><td>T</td><td>d</td><td>NA</td><td>0</td><td>USP9Y/coding/Non-synonymous</td></tr>\n",
       "\t<tr><td>Y</td><td>14838553</td><td>G</td><td>  </td><td>A</td><td> 0</td><td>0</td><td> 0</td><td>18</td><td> 0</td><td>GGGGGGGGGGGGGGGGGG        </td><td>G</td><td>G</td><td>f</td><td> 4</td><td>0</td><td>USP9Y/coding/Non-synonymous</td></tr>\n",
       "\t<tr><td>Y</td><td>21868167</td><td>C</td><td>T </td><td>T</td><td> 1</td><td>0</td><td> 0</td><td> 0</td><td>12</td><td>TTTTTTTTTTTT              </td><td>C</td><td>T</td><td>a</td><td>NA</td><td>0</td><td>KDM5D/coding/Non-synonymous</td></tr>\n",
       "\t<tr><td>Y</td><td>21905071</td><td>C</td><td>T </td><td>T</td><td> 1</td><td>0</td><td> 0</td><td> 0</td><td>16</td><td>TTTTTTTTTTTTTTTT          </td><td>C</td><td>T</td><td>a</td><td>NA</td><td>0</td><td>KDM5D/coding/Non-synonymous</td></tr>\n",
       "\t<tr><td>Y</td><td>23545399</td><td>G</td><td>  </td><td>G</td><td> 0</td><td>0</td><td> 0</td><td>26</td><td> 0</td><td>GGGGGGGGGGGGGGGGGGGGGGGGGG</td><td>A</td><td>G</td><td>e</td><td>16</td><td>0</td><td>PRORY/coding/Non-synonymous</td></tr>\n",
       "</tbody>\n",
       "</table>\n"
      ],
      "text/latex": [
       "A spec_tbl_df: 7 × 17\n",
       "\\begin{tabular}{r|lllllllllllllllll}\n",
       " chrom & pos & REF & ALT & mendez\\_elsidron1 & mez2 & A & C & G & T & pileup & mendez\\_a00 & mendez\\_chimp & branch & cov\\_ef & neanderhal\\_discordant\\_base\\_calls & Genomic\\_location/effect/functional\\_prediction\\\\\n",
       " <chr> & <dbl> & <chr> & <chr> & <chr> & <dbl> & <int> & <int> & <int> & <int> & <chr> & <chr> & <chr> & <chr> & <dbl> & <dbl> & <chr>\\\\\n",
       "\\hline\n",
       "\t Y &  6932032 & G & NA & C & NA & 0 & 15 &  0 &  2 & CCCCCCCTCCCCCCCTC          & G & G & f &  5 & 0 & TBL1Y/coding/Non-synonymous\\\\\n",
       "\t Y & 14832610 & A & NA & G & NA & 1 &  0 &  5 &  0 & GGGGGA                     & A & A & f &  3 & 0 & USP9Y/coding/Non-synonymous\\\\\n",
       "\t Y & 14832620 & G & T  & T &  1 & 0 &  0 &  0 &  7 & TTTTTTT                    & T & T & d & NA & 0 & USP9Y/coding/Non-synonymous\\\\\n",
       "\t Y & 14838553 & G &    & A &  0 & 0 &  0 & 18 &  0 & GGGGGGGGGGGGGGGGGG         & G & G & f &  4 & 0 & USP9Y/coding/Non-synonymous\\\\\n",
       "\t Y & 21868167 & C & T  & T &  1 & 0 &  0 &  0 & 12 & TTTTTTTTTTTT               & C & T & a & NA & 0 & KDM5D/coding/Non-synonymous\\\\\n",
       "\t Y & 21905071 & C & T  & T &  1 & 0 &  0 &  0 & 16 & TTTTTTTTTTTTTTTT           & C & T & a & NA & 0 & KDM5D/coding/Non-synonymous\\\\\n",
       "\t Y & 23545399 & G &    & G &  0 & 0 &  0 & 26 &  0 & GGGGGGGGGGGGGGGGGGGGGGGGGG & A & G & e & 16 & 0 & PRORY/coding/Non-synonymous\\\\\n",
       "\\end{tabular}\n"
      ],
      "text/markdown": [
       "\n",
       "A spec_tbl_df: 7 × 17\n",
       "\n",
       "| chrom &lt;chr&gt; | pos &lt;dbl&gt; | REF &lt;chr&gt; | ALT &lt;chr&gt; | mendez_elsidron1 &lt;chr&gt; | mez2 &lt;dbl&gt; | A &lt;int&gt; | C &lt;int&gt; | G &lt;int&gt; | T &lt;int&gt; | pileup &lt;chr&gt; | mendez_a00 &lt;chr&gt; | mendez_chimp &lt;chr&gt; | branch &lt;chr&gt; | cov_ef &lt;dbl&gt; | neanderhal_discordant_base_calls &lt;dbl&gt; | Genomic_location/effect/functional_prediction &lt;chr&gt; |\n",
       "|---|---|---|---|---|---|---|---|---|---|---|---|---|---|---|---|---|\n",
       "| Y |  6932032 | G | NA | C | NA | 0 | 15 |  0 |  2 | CCCCCCCTCCCCCCCTC          | G | G | f |  5 | 0 | TBL1Y/coding/Non-synonymous |\n",
       "| Y | 14832610 | A | NA | G | NA | 1 |  0 |  5 |  0 | GGGGGA                     | A | A | f |  3 | 0 | USP9Y/coding/Non-synonymous |\n",
       "| Y | 14832620 | G | T  | T |  1 | 0 |  0 |  0 |  7 | TTTTTTT                    | T | T | d | NA | 0 | USP9Y/coding/Non-synonymous |\n",
       "| Y | 14838553 | G | <!----> | A |  0 | 0 |  0 | 18 |  0 | GGGGGGGGGGGGGGGGGG         | G | G | f |  4 | 0 | USP9Y/coding/Non-synonymous |\n",
       "| Y | 21868167 | C | T  | T |  1 | 0 |  0 |  0 | 12 | TTTTTTTTTTTT               | C | T | a | NA | 0 | KDM5D/coding/Non-synonymous |\n",
       "| Y | 21905071 | C | T  | T |  1 | 0 |  0 |  0 | 16 | TTTTTTTTTTTTTTTT           | C | T | a | NA | 0 | KDM5D/coding/Non-synonymous |\n",
       "| Y | 23545399 | G | <!----> | G |  0 | 0 |  0 | 26 |  0 | GGGGGGGGGGGGGGGGGGGGGGGGGG | A | G | e | 16 | 0 | PRORY/coding/Non-synonymous |\n",
       "\n"
      ],
      "text/plain": [
       "  chrom pos      REF ALT mendez_elsidron1 mez2 A C  G  T \n",
       "1 Y      6932032 G   NA  C                NA   0 15  0  2\n",
       "2 Y     14832610 A   NA  G                NA   1  0  5  0\n",
       "3 Y     14832620 G   T   T                 1   0  0  0  7\n",
       "4 Y     14838553 G       A                 0   0  0 18  0\n",
       "5 Y     21868167 C   T   T                 1   0  0  0 12\n",
       "6 Y     21905071 C   T   T                 1   0  0  0 16\n",
       "7 Y     23545399 G       G                 0   0  0 26  0\n",
       "  pileup                     mendez_a00 mendez_chimp branch cov_ef\n",
       "1 CCCCCCCTCCCCCCCTC          G          G            f       5    \n",
       "2 GGGGGA                     A          A            f       3    \n",
       "3 TTTTTTT                    T          T            d      NA    \n",
       "4 GGGGGGGGGGGGGGGGGG         G          G            f       4    \n",
       "5 TTTTTTTTTTTT               C          T            a      NA    \n",
       "6 TTTTTTTTTTTTTTTT           C          T            a      NA    \n",
       "7 GGGGGGGGGGGGGGGGGGGGGGGGGG A          G            e      16    \n",
       "  neanderhal_discordant_base_calls\n",
       "1 0                               \n",
       "2 0                               \n",
       "3 0                               \n",
       "4 0                               \n",
       "5 0                               \n",
       "6 0                               \n",
       "7 0                               \n",
       "  Genomic_location/effect/functional_prediction\n",
       "1 TBL1Y/coding/Non-synonymous                  \n",
       "2 USP9Y/coding/Non-synonymous                  \n",
       "3 USP9Y/coding/Non-synonymous                  \n",
       "4 USP9Y/coding/Non-synonymous                  \n",
       "5 KDM5D/coding/Non-synonymous                  \n",
       "6 KDM5D/coding/Non-synonymous                  \n",
       "7 PRORY/coding/Non-synonymous                  "
      ]
     },
     "metadata": {},
     "output_type": "display_data"
    }
   ],
   "source": [
    "merged %>% filter(pos %in% start(positions_covered))"
   ]
  },
  {
   "cell_type": "code",
   "execution_count": null,
   "metadata": {},
   "outputs": [],
   "source": []
  }
 ],
 "metadata": {
  "kernelspec": {
   "display_name": "R",
   "language": "R",
   "name": "ir"
  },
  "language_info": {
   "codemirror_mode": "r",
   "file_extension": ".r",
   "mimetype": "text/x-r-source",
   "name": "R",
   "pygments_lexer": "r",
   "version": "3.6.0"
  }
 },
 "nbformat": 4,
 "nbformat_minor": 2
}
