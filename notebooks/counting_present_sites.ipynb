{
 "cells": [
  {
   "cell_type": "code",
   "execution_count": 1,
   "metadata": {},
   "outputs": [
    {
     "name": "stderr",
     "output_type": "stream",
     "text": [
      "── \u001b[1mAttaching packages\u001b[22m ─────────────────────────────────────── tidyverse 1.2.1 ──\n",
      "\n",
      "\u001b[32m✔\u001b[39m \u001b[34mggplot2\u001b[39m 3.3.0     \u001b[32m✔\u001b[39m \u001b[34mpurrr  \u001b[39m 0.3.3\n",
      "\u001b[32m✔\u001b[39m \u001b[34mtibble \u001b[39m 3.0.0     \u001b[32m✔\u001b[39m \u001b[34mdplyr  \u001b[39m 0.8.5\n",
      "\u001b[32m✔\u001b[39m \u001b[34mtidyr  \u001b[39m 1.0.0     \u001b[32m✔\u001b[39m \u001b[34mstringr\u001b[39m 1.4.0\n",
      "\u001b[32m✔\u001b[39m \u001b[34mreadr  \u001b[39m 1.3.1     \u001b[32m✔\u001b[39m \u001b[34mforcats\u001b[39m 0.5.0\n",
      "\n",
      "── \u001b[1mConflicts\u001b[22m ────────────────────────────────────────── tidyverse_conflicts() ──\n",
      "\u001b[31m✖\u001b[39m \u001b[34mdplyr\u001b[39m::\u001b[32mfilter()\u001b[39m masks \u001b[34mstats\u001b[39m::filter()\n",
      "\u001b[31m✖\u001b[39m \u001b[34mdplyr\u001b[39m::\u001b[32mlag()\u001b[39m    masks \u001b[34mstats\u001b[39m::lag()\n",
      "\n",
      "here() starts at /mnt/expressions/mp/archaic-ychr\n",
      "\n",
      "\n",
      "Attaching package: ‘glue’\n",
      "\n",
      "\n",
      "The following object is masked from ‘package:dplyr’:\n",
      "\n",
      "    collapse\n",
      "\n",
      "\n",
      "Loading required package: future\n",
      "\n",
      "Loading ychr\n",
      "\n"
     ]
    }
   ],
   "source": [
    "library(tidyverse)\n",
    "library(here)\n",
    "library(glue)\n",
    "library(furrr)\n",
    "suppressPackageStartupMessages(library(rtracklayer))\n",
    "devtools::load_all(\".\")\n",
    "\n",
    "plan(multiprocess, workers = 20)"
   ]
  },
  {
   "cell_type": "markdown",
   "metadata": {},
   "source": [
    "# Full 6.9 Mb capture"
   ]
  },
  {
   "cell_type": "code",
   "execution_count": 2,
   "metadata": {},
   "outputs": [],
   "source": [
    "samples_full <- list.files(here(\"data/vcf\"), \"full_.*.vcf.gz$\") %>%\n",
    "    str_subset(\"mez2_dp|modern|merged|deam\", negate = T) %>%\n",
    "    str_replace(\"full_(.*).vcf.gz\", \"\\\\1\")"
   ]
  },
  {
   "cell_type": "code",
   "execution_count": 3,
   "metadata": {},
   "outputs": [
    {
     "data": {
      "text/html": [
       "<style>\n",
       ".list-inline {list-style: none; margin:0; padding: 0}\n",
       ".list-inline>li {display: inline-block}\n",
       ".list-inline>li:not(:last-child)::after {content: \"\\00b7\"; padding: 0 .5ex}\n",
       "</style>\n",
       "<ol class=list-inline><li>'a00_1'</li><li>'a00_2'</li><li>'a00'</li><li>'chimp'</li><li>'den4_snpad'</li><li>'den4'</li><li>'den8_snpad'</li><li>'den8'</li><li>'mez2_snpad'</li><li>'mez2'</li><li>'S_BedouinB-1'</li><li>'S_Burmese-1'</li><li>'S_Dai-2'</li><li>'S_Dinka-1'</li><li>'S_Finnish-2'</li><li>'S_French-1'</li><li>'S_Gambian-1'</li><li>'S_Han-2'</li><li>'S_Ju_hoan_North-1'</li><li>'S_Karitiana-1'</li><li>'S_Mandenka-1'</li><li>'S_Mbuti-1'</li><li>'S_Papuan-2'</li><li>'S_Punjabi-1'</li><li>'S_Saami-2'</li><li>'S_Sardinian-1'</li><li>'S_Thai-1'</li><li>'S_Turkish-1'</li><li>'S_Yoruba-2'</li><li>'shotgun_mez2'</li><li>'shotgun_spy1'</li><li>'spy1_snpad'</li><li>'spy1'</li><li>'ustishim'</li></ol>\n"
      ],
      "text/latex": [
       "\\begin{enumerate*}\n",
       "\\item 'a00\\_1'\n",
       "\\item 'a00\\_2'\n",
       "\\item 'a00'\n",
       "\\item 'chimp'\n",
       "\\item 'den4\\_snpad'\n",
       "\\item 'den4'\n",
       "\\item 'den8\\_snpad'\n",
       "\\item 'den8'\n",
       "\\item 'mez2\\_snpad'\n",
       "\\item 'mez2'\n",
       "\\item 'S\\_BedouinB-1'\n",
       "\\item 'S\\_Burmese-1'\n",
       "\\item 'S\\_Dai-2'\n",
       "\\item 'S\\_Dinka-1'\n",
       "\\item 'S\\_Finnish-2'\n",
       "\\item 'S\\_French-1'\n",
       "\\item 'S\\_Gambian-1'\n",
       "\\item 'S\\_Han-2'\n",
       "\\item 'S\\_Ju\\_hoan\\_North-1'\n",
       "\\item 'S\\_Karitiana-1'\n",
       "\\item 'S\\_Mandenka-1'\n",
       "\\item 'S\\_Mbuti-1'\n",
       "\\item 'S\\_Papuan-2'\n",
       "\\item 'S\\_Punjabi-1'\n",
       "\\item 'S\\_Saami-2'\n",
       "\\item 'S\\_Sardinian-1'\n",
       "\\item 'S\\_Thai-1'\n",
       "\\item 'S\\_Turkish-1'\n",
       "\\item 'S\\_Yoruba-2'\n",
       "\\item 'shotgun\\_mez2'\n",
       "\\item 'shotgun\\_spy1'\n",
       "\\item 'spy1\\_snpad'\n",
       "\\item 'spy1'\n",
       "\\item 'ustishim'\n",
       "\\end{enumerate*}\n"
      ],
      "text/markdown": [
       "1. 'a00_1'\n",
       "2. 'a00_2'\n",
       "3. 'a00'\n",
       "4. 'chimp'\n",
       "5. 'den4_snpad'\n",
       "6. 'den4'\n",
       "7. 'den8_snpad'\n",
       "8. 'den8'\n",
       "9. 'mez2_snpad'\n",
       "10. 'mez2'\n",
       "11. 'S_BedouinB-1'\n",
       "12. 'S_Burmese-1'\n",
       "13. 'S_Dai-2'\n",
       "14. 'S_Dinka-1'\n",
       "15. 'S_Finnish-2'\n",
       "16. 'S_French-1'\n",
       "17. 'S_Gambian-1'\n",
       "18. 'S_Han-2'\n",
       "19. 'S_Ju_hoan_North-1'\n",
       "20. 'S_Karitiana-1'\n",
       "21. 'S_Mandenka-1'\n",
       "22. 'S_Mbuti-1'\n",
       "23. 'S_Papuan-2'\n",
       "24. 'S_Punjabi-1'\n",
       "25. 'S_Saami-2'\n",
       "26. 'S_Sardinian-1'\n",
       "27. 'S_Thai-1'\n",
       "28. 'S_Turkish-1'\n",
       "29. 'S_Yoruba-2'\n",
       "30. 'shotgun_mez2'\n",
       "31. 'shotgun_spy1'\n",
       "32. 'spy1_snpad'\n",
       "33. 'spy1'\n",
       "34. 'ustishim'\n",
       "\n",
       "\n"
      ],
      "text/plain": [
       " [1] \"a00_1\"             \"a00_2\"             \"a00\"              \n",
       " [4] \"chimp\"             \"den4_snpad\"        \"den4\"             \n",
       " [7] \"den8_snpad\"        \"den8\"              \"mez2_snpad\"       \n",
       "[10] \"mez2\"              \"S_BedouinB-1\"      \"S_Burmese-1\"      \n",
       "[13] \"S_Dai-2\"           \"S_Dinka-1\"         \"S_Finnish-2\"      \n",
       "[16] \"S_French-1\"        \"S_Gambian-1\"       \"S_Han-2\"          \n",
       "[19] \"S_Ju_hoan_North-1\" \"S_Karitiana-1\"     \"S_Mandenka-1\"     \n",
       "[22] \"S_Mbuti-1\"         \"S_Papuan-2\"        \"S_Punjabi-1\"      \n",
       "[25] \"S_Saami-2\"         \"S_Sardinian-1\"     \"S_Thai-1\"         \n",
       "[28] \"S_Turkish-1\"       \"S_Yoruba-2\"        \"shotgun_mez2\"     \n",
       "[31] \"shotgun_spy1\"      \"spy1_snpad\"        \"spy1\"             \n",
       "[34] \"ustishim\"         "
      ]
     },
     "metadata": {},
     "output_type": "display_data"
    }
   ],
   "source": [
    "samples_full"
   ]
  },
  {
   "cell_type": "code",
   "execution_count": 4,
   "metadata": {},
   "outputs": [],
   "source": [
    "bed_full <- here(\"data/coord/capture_full.bed\")"
   ]
  },
  {
   "cell_type": "code",
   "execution_count": 5,
   "metadata": {},
   "outputs": [],
   "source": [
    "capture_full <- import.bed(bed_full)"
   ]
  },
  {
   "cell_type": "code",
   "execution_count": 6,
   "metadata": {},
   "outputs": [
    {
     "data": {
      "text/html": [
       "6912728"
      ],
      "text/latex": [
       "6912728"
      ],
      "text/markdown": [
       "6912728"
      ],
      "text/plain": [
       "[1] 6912728"
      ]
     },
     "metadata": {},
     "output_type": "display_data"
    }
   ],
   "source": [
    "sum(width(capture_full))"
   ]
  },
  {
   "cell_type": "code",
   "execution_count": 7,
   "metadata": {},
   "outputs": [],
   "source": [
    "counts_full <- future_map_dfr(samples_full, function(ind) {\n",
    "    gt_all <- read_vcf(here(glue(\"data/vcf/full_{ind}.vcf.gz\")), mindp = 0, maxdp = 1, bed_filter = bed_full)\n",
    "    gt_nodmg <- read_vcf(here(glue(\"data/vcf/full_{ind}.vcf.gz\")), mindp = 0, maxdp = 1, nodmg = T, bed_filter = bed_full)\n",
    "\n",
    "    tibble(\n",
    "        individual = ind,\n",
    "        total = sum(width(capture_full)),\n",
    "        all = sum(!is.na(gt_all[[ind]])),\n",
    "        all_prop = all / total,\n",
    "        nodmg = sum(!is.na(gt_nodmg[[ind]])),\n",
    "        nodmg_prop = nodmg / total\n",
    "    )\n",
    "})"
   ]
  },
  {
   "cell_type": "code",
   "execution_count": 8,
   "metadata": {},
   "outputs": [],
   "source": [
    "mindp_counts_full <- future_map_dfr(samples_full, function(ind) {\n",
    "    gt_all <- read_vcf(here(glue(\"data/vcf/full_{ind}.vcf.gz\")), mindp = 3, maxdp = 1, bed_filter = bed_full)\n",
    "    gt_nodmg <- read_vcf(here(glue(\"data/vcf/full_{ind}.vcf.gz\")), mindp = 3, maxdp = 1, nodmg = T, bed_filter = bed_full)\n",
    "\n",
    "    tibble(\n",
    "        individual = ind,\n",
    "        total = sum(width(capture_full)),\n",
    "        all = sum(!is.na(gt_all[[ind]])),\n",
    "        all_prop = all / total,\n",
    "        nodmg = sum(!is.na(gt_nodmg[[ind]])),\n",
    "        nodmg_prop = nodmg / total\n",
    "    )\n",
    "})"
   ]
  },
  {
   "cell_type": "code",
   "execution_count": 9,
   "metadata": {},
   "outputs": [],
   "source": [
    "maxdp_mindp_counts_full <- future_map_dfr(samples_full, function(ind) {\n",
    "    gt_all <- read_vcf(here(glue(\"data/vcf/full_{ind}.vcf.gz\")), mindp = 3, maxdp = 0.98, bed_filter = bed_full)\n",
    "    gt_nodmg <- read_vcf(here(glue(\"data/vcf/full_{ind}.vcf.gz\")), mindp = 3, maxdp = 0.98, nodmg = T, bed_filter = bed_full)\n",
    "\n",
    "    tibble(\n",
    "        individual = ind,\n",
    "        total = sum(width(capture_full)),\n",
    "        all = sum(!is.na(gt_all[[ind]])),\n",
    "        all_prop = all / total,\n",
    "        nodmg = sum(!is.na(gt_nodmg[[ind]])),\n",
    "        nodmg_prop = nodmg / total\n",
    "    )\n",
    "})"
   ]
  },
  {
   "cell_type": "code",
   "execution_count": 10,
   "metadata": {},
   "outputs": [],
   "source": [
    "counts_full_archaic_df <- counts_full %>% filter(str_detect(individual, \"^([Ss]py|[Dd]en|[Mm]ez|shotgun)\"))"
   ]
  },
  {
   "cell_type": "code",
   "execution_count": 11,
   "metadata": {},
   "outputs": [],
   "source": [
    "mindp_counts_full_archaic_df <- mindp_counts_full %>% filter(str_detect(individual, \"^([Ss]py|[Dd]en|[Mm]ez|shotgun)\"))"
   ]
  },
  {
   "cell_type": "code",
   "execution_count": 12,
   "metadata": {},
   "outputs": [],
   "source": [
    "maxdp_mindp_counts_full_archaic_df <- maxdp_mindp_counts_full %>% filter(str_detect(individual, \"^([Ss]py|[Dd]en|[Mm]ez|shotgun)\"))"
   ]
  },
  {
   "cell_type": "code",
   "execution_count": 13,
   "metadata": {},
   "outputs": [],
   "source": [
    "full_unfiltered <- counts_full_archaic_df %>%\n",
    "    arrange(all) %>%\n",
    "    mutate_at(vars(contains(\"prop\")), ~ sprintf(\"%.1f%%\", 100 * .)) %>%\n",
    "    select(-total) %>%\n",
    "    mutate(name = fix_name(individual)) %>%\n",
    "    select(name, everything(), -individual) %>%\n",
    "    mutate(all = format(all, big.mark = \",\", scientific = F),\n",
    "           nodmg = format(nodmg, big.mark = \",\", scientific = F)) %>%\n",
    "    mutate(filter = \"unfiltered\")"
   ]
  },
  {
   "cell_type": "code",
   "execution_count": 14,
   "metadata": {},
   "outputs": [],
   "source": [
    "full_mindp <- mindp_counts_full_archaic_df %>%\n",
    "    arrange(all) %>%\n",
    "    mutate_at(vars(contains(\"prop\")), ~ sprintf(\"%.1f%%\", 100 * .)) %>%\n",
    "    select(-total) %>%\n",
    "    mutate(name = fix_name(individual)) %>%\n",
    "    select(name, everything(), -individual) %>%\n",
    "    mutate(all = format(all, big.mark = \",\", scientific = F),\n",
    "           nodmg = format(nodmg, big.mark = \",\", scientific = F)) %>%\n",
    "    mutate(filter = \"min DP >= 3\")"
   ]
  },
  {
   "cell_type": "code",
   "execution_count": 15,
   "metadata": {},
   "outputs": [],
   "source": [
    "full_maxdp <- maxdp_mindp_counts_full_archaic_df %>%\n",
    "    arrange(all) %>%\n",
    "    mutate_at(vars(contains(\"prop\")), ~ sprintf(\"%.1f%%\", 100 * .)) %>%\n",
    "    select(-total) %>%\n",
    "    mutate(name = fix_name(individual)) %>%\n",
    "    select(name, everything(), -individual) %>%\n",
    "    mutate(all = format(all, big.mark = \",\", scientific = F),\n",
    "           nodmg = format(nodmg, big.mark = \",\", scientific = F)) %>%\n",
    "    mutate(filter = \"min DP >= 3 and max DP <= 98% quantile\")"
   ]
  },
  {
   "cell_type": "code",
   "execution_count": 16,
   "metadata": {},
   "outputs": [
    {
     "data": {
      "text/html": [
       "<table>\n",
       "<caption>A tibble: 30 × 6</caption>\n",
       "<thead>\n",
       "\t<tr><th scope=col>name</th><th scope=col>all</th><th scope=col>all_prop</th><th scope=col>nodmg</th><th scope=col>nodmg_prop</th><th scope=col>filter</th></tr>\n",
       "\t<tr><th scope=col>&lt;chr&gt;</th><th scope=col>&lt;chr&gt;</th><th scope=col>&lt;chr&gt;</th><th scope=col>&lt;chr&gt;</th><th scope=col>&lt;chr&gt;</th><th scope=col>&lt;chr&gt;</th></tr>\n",
       "</thead>\n",
       "<tbody>\n",
       "\t<tr><td>Spy 94a (shotgun)      </td><td>2,664,787</td><td>38.5%</td><td>2,636,405</td><td>38.1%</td><td>unfiltered                            </td></tr>\n",
       "\t<tr><td>Spy 94a                </td><td>3,502,380</td><td>50.7%</td><td>3,470,671</td><td>50.2%</td><td>unfiltered                            </td></tr>\n",
       "\t<tr><td>Spy 94a (snpAD)        </td><td>3,556,151</td><td>51.4%</td><td>3,522,222</td><td>51.0%</td><td>unfiltered                            </td></tr>\n",
       "\t<tr><td>Mezmaiskaya 2 (shotgun)</td><td>3,822,106</td><td>55.3%</td><td>3,762,768</td><td>54.4%</td><td>unfiltered                            </td></tr>\n",
       "\t<tr><td>Denisova 4             </td><td>4,731,302</td><td>68.4%</td><td>4,705,860</td><td>68.1%</td><td>unfiltered                            </td></tr>\n",
       "\t<tr><td>Denisova 4 (snpAD)     </td><td>4,823,855</td><td>69.8%</td><td>4,797,798</td><td>69.4%</td><td>unfiltered                            </td></tr>\n",
       "\t<tr><td>Denisova 8             </td><td>5,851,332</td><td>84.6%</td><td>5,828,356</td><td>84.3%</td><td>unfiltered                            </td></tr>\n",
       "\t<tr><td>Denisova 8 (snpAD)     </td><td>6,259,573</td><td>90.6%</td><td>6,235,802</td><td>90.2%</td><td>unfiltered                            </td></tr>\n",
       "\t<tr><td>Mezmaiskaya 2          </td><td>6,348,948</td><td>91.8%</td><td>6,346,684</td><td>91.8%</td><td>unfiltered                            </td></tr>\n",
       "\t<tr><td>Mezmaiskaya 2 (snpAD)  </td><td>6,669,431</td><td>96.5%</td><td>6,667,075</td><td>96.4%</td><td>unfiltered                            </td></tr>\n",
       "\t<tr><td><span style=white-space:pre-wrap>Spy 94a (shotgun)      </span></td><td><span style=white-space:pre-wrap>  150,642</span></td><td>2.2% </td><td><span style=white-space:pre-wrap>  150,606</span></td><td>2.2% </td><td><span style=white-space:pre-wrap>min DP &gt;= 3                           </span></td></tr>\n",
       "\t<tr><td>Mezmaiskaya 2 (shotgun)</td><td><span style=white-space:pre-wrap>  450,609</span></td><td>6.5% </td><td><span style=white-space:pre-wrap>  450,510</span></td><td>6.5% </td><td><span style=white-space:pre-wrap>min DP &gt;= 3                           </span></td></tr>\n",
       "\t<tr><td><span style=white-space:pre-wrap>Spy 94a                </span></td><td><span style=white-space:pre-wrap>  628,697</span></td><td>9.1% </td><td><span style=white-space:pre-wrap>  628,007</span></td><td>9.1% </td><td><span style=white-space:pre-wrap>min DP &gt;= 3                           </span></td></tr>\n",
       "\t<tr><td><span style=white-space:pre-wrap>Spy 94a (snpAD)        </span></td><td><span style=white-space:pre-wrap>  656,745</span></td><td>9.5% </td><td><span style=white-space:pre-wrap>  654,847</span></td><td>9.5% </td><td><span style=white-space:pre-wrap>min DP &gt;= 3                           </span></td></tr>\n",
       "\t<tr><td><span style=white-space:pre-wrap>Denisova 4             </span></td><td>1,311,857</td><td>19.0%</td><td>1,311,543</td><td>19.0%</td><td><span style=white-space:pre-wrap>min DP &gt;= 3                           </span></td></tr>\n",
       "\t<tr><td><span style=white-space:pre-wrap>Denisova 4 (snpAD)     </span></td><td>1,370,096</td><td>19.8%</td><td>1,369,413</td><td>19.8%</td><td><span style=white-space:pre-wrap>min DP &gt;= 3                           </span></td></tr>\n",
       "\t<tr><td><span style=white-space:pre-wrap>Denisova 8             </span></td><td>3,902,126</td><td>56.4%</td><td>3,901,009</td><td>56.4%</td><td><span style=white-space:pre-wrap>min DP &gt;= 3                           </span></td></tr>\n",
       "\t<tr><td><span style=white-space:pre-wrap>Denisova 8 (snpAD)     </span></td><td>4,263,466</td><td>61.7%</td><td>4,261,828</td><td>61.7%</td><td><span style=white-space:pre-wrap>min DP &gt;= 3                           </span></td></tr>\n",
       "\t<tr><td><span style=white-space:pre-wrap>Mezmaiskaya 2          </span></td><td>6,141,494</td><td>88.8%</td><td>6,140,382</td><td>88.8%</td><td><span style=white-space:pre-wrap>min DP &gt;= 3                           </span></td></tr>\n",
       "\t<tr><td><span style=white-space:pre-wrap>Mezmaiskaya 2 (snpAD)  </span></td><td>6,458,882</td><td>93.4%</td><td>6,457,709</td><td>93.4%</td><td><span style=white-space:pre-wrap>min DP &gt;= 3                           </span></td></tr>\n",
       "\t<tr><td><span style=white-space:pre-wrap>Spy 94a (shotgun)      </span></td><td><span style=white-space:pre-wrap>  121,423</span></td><td>1.8% </td><td><span style=white-space:pre-wrap>  121,391</span></td><td>1.8% </td><td>min DP &gt;= 3 and max DP &lt;= 98% quantile</td></tr>\n",
       "\t<tr><td>Mezmaiskaya 2 (shotgun)</td><td><span style=white-space:pre-wrap>  425,654</span></td><td>6.2% </td><td><span style=white-space:pre-wrap>  425,561</span></td><td>6.2% </td><td>min DP &gt;= 3 and max DP &lt;= 98% quantile</td></tr>\n",
       "\t<tr><td><span style=white-space:pre-wrap>Spy 94a                </span></td><td><span style=white-space:pre-wrap>  580,501</span></td><td>8.4% </td><td><span style=white-space:pre-wrap>  579,836</span></td><td>8.4% </td><td>min DP &gt;= 3 and max DP &lt;= 98% quantile</td></tr>\n",
       "\t<tr><td><span style=white-space:pre-wrap>Spy 94a (snpAD)        </span></td><td><span style=white-space:pre-wrap>  605,324</span></td><td>8.8% </td><td><span style=white-space:pre-wrap>  603,476</span></td><td>8.7% </td><td>min DP &gt;= 3 and max DP &lt;= 98% quantile</td></tr>\n",
       "\t<tr><td><span style=white-space:pre-wrap>Denisova 4             </span></td><td>1,222,241</td><td>17.7%</td><td>1,221,944</td><td>17.7%</td><td>min DP &gt;= 3 and max DP &lt;= 98% quantile</td></tr>\n",
       "\t<tr><td><span style=white-space:pre-wrap>Denisova 4 (snpAD)     </span></td><td>1,274,242</td><td>18.4%</td><td>1,273,579</td><td>18.4%</td><td>min DP &gt;= 3 and max DP &lt;= 98% quantile</td></tr>\n",
       "\t<tr><td><span style=white-space:pre-wrap>Denisova 8             </span></td><td>3,809,899</td><td>55.1%</td><td>3,808,791</td><td>55.1%</td><td>min DP &gt;= 3 and max DP &lt;= 98% quantile</td></tr>\n",
       "\t<tr><td><span style=white-space:pre-wrap>Denisova 8 (snpAD)     </span></td><td>4,167,667</td><td>60.3%</td><td>4,166,038</td><td>60.3%</td><td>min DP &gt;= 3 and max DP &lt;= 98% quantile</td></tr>\n",
       "\t<tr><td><span style=white-space:pre-wrap>Mezmaiskaya 2          </span></td><td>6,038,340</td><td>87.4%</td><td>6,037,229</td><td>87.3%</td><td>min DP &gt;= 3 and max DP &lt;= 98% quantile</td></tr>\n",
       "\t<tr><td><span style=white-space:pre-wrap>Mezmaiskaya 2 (snpAD)  </span></td><td>6,352,744</td><td>91.9%</td><td>6,351,572</td><td>91.9%</td><td>min DP &gt;= 3 and max DP &lt;= 98% quantile</td></tr>\n",
       "</tbody>\n",
       "</table>\n"
      ],
      "text/latex": [
       "A tibble: 30 × 6\n",
       "\\begin{tabular}{llllll}\n",
       " name & all & all\\_prop & nodmg & nodmg\\_prop & filter\\\\\n",
       " <chr> & <chr> & <chr> & <chr> & <chr> & <chr>\\\\\n",
       "\\hline\n",
       "\t Spy 94a (shotgun)       & 2,664,787 & 38.5\\% & 2,636,405 & 38.1\\% & unfiltered                            \\\\\n",
       "\t Spy 94a                 & 3,502,380 & 50.7\\% & 3,470,671 & 50.2\\% & unfiltered                            \\\\\n",
       "\t Spy 94a (snpAD)         & 3,556,151 & 51.4\\% & 3,522,222 & 51.0\\% & unfiltered                            \\\\\n",
       "\t Mezmaiskaya 2 (shotgun) & 3,822,106 & 55.3\\% & 3,762,768 & 54.4\\% & unfiltered                            \\\\\n",
       "\t Denisova 4              & 4,731,302 & 68.4\\% & 4,705,860 & 68.1\\% & unfiltered                            \\\\\n",
       "\t Denisova 4 (snpAD)      & 4,823,855 & 69.8\\% & 4,797,798 & 69.4\\% & unfiltered                            \\\\\n",
       "\t Denisova 8              & 5,851,332 & 84.6\\% & 5,828,356 & 84.3\\% & unfiltered                            \\\\\n",
       "\t Denisova 8 (snpAD)      & 6,259,573 & 90.6\\% & 6,235,802 & 90.2\\% & unfiltered                            \\\\\n",
       "\t Mezmaiskaya 2           & 6,348,948 & 91.8\\% & 6,346,684 & 91.8\\% & unfiltered                            \\\\\n",
       "\t Mezmaiskaya 2 (snpAD)   & 6,669,431 & 96.5\\% & 6,667,075 & 96.4\\% & unfiltered                            \\\\\n",
       "\t Spy 94a (shotgun)       &   150,642 & 2.2\\%  &   150,606 & 2.2\\%  & min DP >= 3                           \\\\\n",
       "\t Mezmaiskaya 2 (shotgun) &   450,609 & 6.5\\%  &   450,510 & 6.5\\%  & min DP >= 3                           \\\\\n",
       "\t Spy 94a                 &   628,697 & 9.1\\%  &   628,007 & 9.1\\%  & min DP >= 3                           \\\\\n",
       "\t Spy 94a (snpAD)         &   656,745 & 9.5\\%  &   654,847 & 9.5\\%  & min DP >= 3                           \\\\\n",
       "\t Denisova 4              & 1,311,857 & 19.0\\% & 1,311,543 & 19.0\\% & min DP >= 3                           \\\\\n",
       "\t Denisova 4 (snpAD)      & 1,370,096 & 19.8\\% & 1,369,413 & 19.8\\% & min DP >= 3                           \\\\\n",
       "\t Denisova 8              & 3,902,126 & 56.4\\% & 3,901,009 & 56.4\\% & min DP >= 3                           \\\\\n",
       "\t Denisova 8 (snpAD)      & 4,263,466 & 61.7\\% & 4,261,828 & 61.7\\% & min DP >= 3                           \\\\\n",
       "\t Mezmaiskaya 2           & 6,141,494 & 88.8\\% & 6,140,382 & 88.8\\% & min DP >= 3                           \\\\\n",
       "\t Mezmaiskaya 2 (snpAD)   & 6,458,882 & 93.4\\% & 6,457,709 & 93.4\\% & min DP >= 3                           \\\\\n",
       "\t Spy 94a (shotgun)       &   121,423 & 1.8\\%  &   121,391 & 1.8\\%  & min DP >= 3 and max DP <= 98\\% quantile\\\\\n",
       "\t Mezmaiskaya 2 (shotgun) &   425,654 & 6.2\\%  &   425,561 & 6.2\\%  & min DP >= 3 and max DP <= 98\\% quantile\\\\\n",
       "\t Spy 94a                 &   580,501 & 8.4\\%  &   579,836 & 8.4\\%  & min DP >= 3 and max DP <= 98\\% quantile\\\\\n",
       "\t Spy 94a (snpAD)         &   605,324 & 8.8\\%  &   603,476 & 8.7\\%  & min DP >= 3 and max DP <= 98\\% quantile\\\\\n",
       "\t Denisova 4              & 1,222,241 & 17.7\\% & 1,221,944 & 17.7\\% & min DP >= 3 and max DP <= 98\\% quantile\\\\\n",
       "\t Denisova 4 (snpAD)      & 1,274,242 & 18.4\\% & 1,273,579 & 18.4\\% & min DP >= 3 and max DP <= 98\\% quantile\\\\\n",
       "\t Denisova 8              & 3,809,899 & 55.1\\% & 3,808,791 & 55.1\\% & min DP >= 3 and max DP <= 98\\% quantile\\\\\n",
       "\t Denisova 8 (snpAD)      & 4,167,667 & 60.3\\% & 4,166,038 & 60.3\\% & min DP >= 3 and max DP <= 98\\% quantile\\\\\n",
       "\t Mezmaiskaya 2           & 6,038,340 & 87.4\\% & 6,037,229 & 87.3\\% & min DP >= 3 and max DP <= 98\\% quantile\\\\\n",
       "\t Mezmaiskaya 2 (snpAD)   & 6,352,744 & 91.9\\% & 6,351,572 & 91.9\\% & min DP >= 3 and max DP <= 98\\% quantile\\\\\n",
       "\\end{tabular}\n"
      ],
      "text/markdown": [
       "\n",
       "A tibble: 30 × 6\n",
       "\n",
       "| name &lt;chr&gt; | all &lt;chr&gt; | all_prop &lt;chr&gt; | nodmg &lt;chr&gt; | nodmg_prop &lt;chr&gt; | filter &lt;chr&gt; |\n",
       "|---|---|---|---|---|---|\n",
       "| Spy 94a (shotgun)       | 2,664,787 | 38.5% | 2,636,405 | 38.1% | unfiltered                             |\n",
       "| Spy 94a                 | 3,502,380 | 50.7% | 3,470,671 | 50.2% | unfiltered                             |\n",
       "| Spy 94a (snpAD)         | 3,556,151 | 51.4% | 3,522,222 | 51.0% | unfiltered                             |\n",
       "| Mezmaiskaya 2 (shotgun) | 3,822,106 | 55.3% | 3,762,768 | 54.4% | unfiltered                             |\n",
       "| Denisova 4              | 4,731,302 | 68.4% | 4,705,860 | 68.1% | unfiltered                             |\n",
       "| Denisova 4 (snpAD)      | 4,823,855 | 69.8% | 4,797,798 | 69.4% | unfiltered                             |\n",
       "| Denisova 8              | 5,851,332 | 84.6% | 5,828,356 | 84.3% | unfiltered                             |\n",
       "| Denisova 8 (snpAD)      | 6,259,573 | 90.6% | 6,235,802 | 90.2% | unfiltered                             |\n",
       "| Mezmaiskaya 2           | 6,348,948 | 91.8% | 6,346,684 | 91.8% | unfiltered                             |\n",
       "| Mezmaiskaya 2 (snpAD)   | 6,669,431 | 96.5% | 6,667,075 | 96.4% | unfiltered                             |\n",
       "| Spy 94a (shotgun)       |   150,642 | 2.2%  |   150,606 | 2.2%  | min DP &gt;= 3                            |\n",
       "| Mezmaiskaya 2 (shotgun) |   450,609 | 6.5%  |   450,510 | 6.5%  | min DP &gt;= 3                            |\n",
       "| Spy 94a                 |   628,697 | 9.1%  |   628,007 | 9.1%  | min DP &gt;= 3                            |\n",
       "| Spy 94a (snpAD)         |   656,745 | 9.5%  |   654,847 | 9.5%  | min DP &gt;= 3                            |\n",
       "| Denisova 4              | 1,311,857 | 19.0% | 1,311,543 | 19.0% | min DP &gt;= 3                            |\n",
       "| Denisova 4 (snpAD)      | 1,370,096 | 19.8% | 1,369,413 | 19.8% | min DP &gt;= 3                            |\n",
       "| Denisova 8              | 3,902,126 | 56.4% | 3,901,009 | 56.4% | min DP &gt;= 3                            |\n",
       "| Denisova 8 (snpAD)      | 4,263,466 | 61.7% | 4,261,828 | 61.7% | min DP &gt;= 3                            |\n",
       "| Mezmaiskaya 2           | 6,141,494 | 88.8% | 6,140,382 | 88.8% | min DP &gt;= 3                            |\n",
       "| Mezmaiskaya 2 (snpAD)   | 6,458,882 | 93.4% | 6,457,709 | 93.4% | min DP &gt;= 3                            |\n",
       "| Spy 94a (shotgun)       |   121,423 | 1.8%  |   121,391 | 1.8%  | min DP &gt;= 3 and max DP &lt;= 98% quantile |\n",
       "| Mezmaiskaya 2 (shotgun) |   425,654 | 6.2%  |   425,561 | 6.2%  | min DP &gt;= 3 and max DP &lt;= 98% quantile |\n",
       "| Spy 94a                 |   580,501 | 8.4%  |   579,836 | 8.4%  | min DP &gt;= 3 and max DP &lt;= 98% quantile |\n",
       "| Spy 94a (snpAD)         |   605,324 | 8.8%  |   603,476 | 8.7%  | min DP &gt;= 3 and max DP &lt;= 98% quantile |\n",
       "| Denisova 4              | 1,222,241 | 17.7% | 1,221,944 | 17.7% | min DP &gt;= 3 and max DP &lt;= 98% quantile |\n",
       "| Denisova 4 (snpAD)      | 1,274,242 | 18.4% | 1,273,579 | 18.4% | min DP &gt;= 3 and max DP &lt;= 98% quantile |\n",
       "| Denisova 8              | 3,809,899 | 55.1% | 3,808,791 | 55.1% | min DP &gt;= 3 and max DP &lt;= 98% quantile |\n",
       "| Denisova 8 (snpAD)      | 4,167,667 | 60.3% | 4,166,038 | 60.3% | min DP &gt;= 3 and max DP &lt;= 98% quantile |\n",
       "| Mezmaiskaya 2           | 6,038,340 | 87.4% | 6,037,229 | 87.3% | min DP &gt;= 3 and max DP &lt;= 98% quantile |\n",
       "| Mezmaiskaya 2 (snpAD)   | 6,352,744 | 91.9% | 6,351,572 | 91.9% | min DP &gt;= 3 and max DP &lt;= 98% quantile |\n",
       "\n"
      ],
      "text/plain": [
       "   name                    all       all_prop nodmg     nodmg_prop\n",
       "1  Spy 94a (shotgun)       2,664,787 38.5%    2,636,405 38.1%     \n",
       "2  Spy 94a                 3,502,380 50.7%    3,470,671 50.2%     \n",
       "3  Spy 94a (snpAD)         3,556,151 51.4%    3,522,222 51.0%     \n",
       "4  Mezmaiskaya 2 (shotgun) 3,822,106 55.3%    3,762,768 54.4%     \n",
       "5  Denisova 4              4,731,302 68.4%    4,705,860 68.1%     \n",
       "6  Denisova 4 (snpAD)      4,823,855 69.8%    4,797,798 69.4%     \n",
       "7  Denisova 8              5,851,332 84.6%    5,828,356 84.3%     \n",
       "8  Denisova 8 (snpAD)      6,259,573 90.6%    6,235,802 90.2%     \n",
       "9  Mezmaiskaya 2           6,348,948 91.8%    6,346,684 91.8%     \n",
       "10 Mezmaiskaya 2 (snpAD)   6,669,431 96.5%    6,667,075 96.4%     \n",
       "11 Spy 94a (shotgun)         150,642 2.2%       150,606 2.2%      \n",
       "12 Mezmaiskaya 2 (shotgun)   450,609 6.5%       450,510 6.5%      \n",
       "13 Spy 94a                   628,697 9.1%       628,007 9.1%      \n",
       "14 Spy 94a (snpAD)           656,745 9.5%       654,847 9.5%      \n",
       "15 Denisova 4              1,311,857 19.0%    1,311,543 19.0%     \n",
       "16 Denisova 4 (snpAD)      1,370,096 19.8%    1,369,413 19.8%     \n",
       "17 Denisova 8              3,902,126 56.4%    3,901,009 56.4%     \n",
       "18 Denisova 8 (snpAD)      4,263,466 61.7%    4,261,828 61.7%     \n",
       "19 Mezmaiskaya 2           6,141,494 88.8%    6,140,382 88.8%     \n",
       "20 Mezmaiskaya 2 (snpAD)   6,458,882 93.4%    6,457,709 93.4%     \n",
       "21 Spy 94a (shotgun)         121,423 1.8%       121,391 1.8%      \n",
       "22 Mezmaiskaya 2 (shotgun)   425,654 6.2%       425,561 6.2%      \n",
       "23 Spy 94a                   580,501 8.4%       579,836 8.4%      \n",
       "24 Spy 94a (snpAD)           605,324 8.8%       603,476 8.7%      \n",
       "25 Denisova 4              1,222,241 17.7%    1,221,944 17.7%     \n",
       "26 Denisova 4 (snpAD)      1,274,242 18.4%    1,273,579 18.4%     \n",
       "27 Denisova 8              3,809,899 55.1%    3,808,791 55.1%     \n",
       "28 Denisova 8 (snpAD)      4,167,667 60.3%    4,166,038 60.3%     \n",
       "29 Mezmaiskaya 2           6,038,340 87.4%    6,037,229 87.3%     \n",
       "30 Mezmaiskaya 2 (snpAD)   6,352,744 91.9%    6,351,572 91.9%     \n",
       "   filter                                \n",
       "1  unfiltered                            \n",
       "2  unfiltered                            \n",
       "3  unfiltered                            \n",
       "4  unfiltered                            \n",
       "5  unfiltered                            \n",
       "6  unfiltered                            \n",
       "7  unfiltered                            \n",
       "8  unfiltered                            \n",
       "9  unfiltered                            \n",
       "10 unfiltered                            \n",
       "11 min DP >= 3                           \n",
       "12 min DP >= 3                           \n",
       "13 min DP >= 3                           \n",
       "14 min DP >= 3                           \n",
       "15 min DP >= 3                           \n",
       "16 min DP >= 3                           \n",
       "17 min DP >= 3                           \n",
       "18 min DP >= 3                           \n",
       "19 min DP >= 3                           \n",
       "20 min DP >= 3                           \n",
       "21 min DP >= 3 and max DP <= 98% quantile\n",
       "22 min DP >= 3 and max DP <= 98% quantile\n",
       "23 min DP >= 3 and max DP <= 98% quantile\n",
       "24 min DP >= 3 and max DP <= 98% quantile\n",
       "25 min DP >= 3 and max DP <= 98% quantile\n",
       "26 min DP >= 3 and max DP <= 98% quantile\n",
       "27 min DP >= 3 and max DP <= 98% quantile\n",
       "28 min DP >= 3 and max DP <= 98% quantile\n",
       "29 min DP >= 3 and max DP <= 98% quantile\n",
       "30 min DP >= 3 and max DP <= 98% quantile"
      ]
     },
     "metadata": {},
     "output_type": "display_data"
    }
   ],
   "source": [
    "bind_rows(full_unfiltered, full_mindp, full_maxdp)"
   ]
  },
  {
   "cell_type": "markdown",
   "metadata": {},
   "source": [
    "# 560 kb capture of regions from Lippold et al."
   ]
  },
  {
   "cell_type": "code",
   "execution_count": 17,
   "metadata": {},
   "outputs": [],
   "source": [
    "samples_lippold <- list.files(here(\"data/vcf\"), \"lippold_.*.vcf.gz$\") %>%\n",
    "    str_subset(\"mez2_dp|modern|merged|elsidron2_dp\", negate = T) %>%\n",
    "    str_replace(\"lippold_(.*).vcf.gz\", \"\\\\1\")"
   ]
  },
  {
   "cell_type": "code",
   "execution_count": 18,
   "metadata": {},
   "outputs": [],
   "source": [
    "samples_lippold <- \"elsidron2\""
   ]
  },
  {
   "cell_type": "code",
   "execution_count": 19,
   "metadata": {},
   "outputs": [],
   "source": [
    "bed_lippold <- here(\"data/coord/capture_lippold.bed\")"
   ]
  },
  {
   "cell_type": "code",
   "execution_count": 20,
   "metadata": {},
   "outputs": [],
   "source": [
    "capture_lippold <- import.bed(bed_lippold)"
   ]
  },
  {
   "cell_type": "code",
   "execution_count": 21,
   "metadata": {},
   "outputs": [
    {
     "data": {
      "text/html": [
       "556259"
      ],
      "text/latex": [
       "556259"
      ],
      "text/markdown": [
       "556259"
      ],
      "text/plain": [
       "[1] 556259"
      ]
     },
     "metadata": {},
     "output_type": "display_data"
    }
   ],
   "source": [
    "sum(width(capture_lippold))"
   ]
  },
  {
   "cell_type": "code",
   "execution_count": 22,
   "metadata": {},
   "outputs": [],
   "source": [
    "counts_lippold <- future_map_dfr(samples_lippold, function(ind) {\n",
    "    gt_all <- read_vcf(here(glue(\"data/vcf/lippold_{ind}.vcf.gz\")), mindp = 0, maxdp = 1, bed_filter = bed_lippold)\n",
    "    gt_nodmg <- read_vcf(here(glue(\"data/vcf/lippold_{ind}.vcf.gz\")), mindp = 0, maxdp = 1, nodmg = T, bed_filter = bed_lippold)\n",
    "\n",
    "    tibble(\n",
    "        individual = ind,\n",
    "        total = sum(width(capture_lippold)),\n",
    "        all = sum(!is.na(gt_all[[ind]])),\n",
    "        all_prop = all / total,\n",
    "        nodmg = sum(!is.na(gt_nodmg[[ind]])),\n",
    "        nodmg_prop = nodmg / total\n",
    "    )\n",
    "})"
   ]
  },
  {
   "cell_type": "code",
   "execution_count": 23,
   "metadata": {},
   "outputs": [],
   "source": [
    "mindp_counts_lippold <- future_map_dfr(samples_lippold, function(ind) {\n",
    "    gt_all <- read_vcf(here(glue(\"data/vcf/lippold_{ind}.vcf.gz\")), mindp = 3, maxdp = 1, bed_filter = bed_lippold)\n",
    "    gt_nodmg <- read_vcf(here(glue(\"data/vcf/lippold_{ind}.vcf.gz\")), mindp = 3, maxdp = 1, nodmg = T, bed_filter = bed_lippold)\n",
    "\n",
    "    tibble(\n",
    "        individual = ind,\n",
    "        total = sum(width(capture_lippold)),\n",
    "        all = sum(!is.na(gt_all[[ind]])),\n",
    "        all_prop = all / total,\n",
    "        nodmg = sum(!is.na(gt_nodmg[[ind]])),\n",
    "        nodmg_prop = nodmg / total\n",
    "    )\n",
    "})"
   ]
  },
  {
   "cell_type": "code",
   "execution_count": 24,
   "metadata": {},
   "outputs": [],
   "source": [
    "maxdp_mindp_counts_lippold <- future_map_dfr(samples_lippold, function(ind) {\n",
    "    gt_all <- read_vcf(here(glue(\"data/vcf/lippold_{ind}.vcf.gz\")), mindp = 3, maxdp = 0.98, bed_filter = bed_lippold)\n",
    "    gt_nodmg <- read_vcf(here(glue(\"data/vcf/lippold_{ind}.vcf.gz\")), mindp = 3, maxdp = 0.98, nodmg = T, bed_filter = bed_lippold)\n",
    "\n",
    "    tibble(\n",
    "        individual = ind,\n",
    "        total = sum(width(capture_lippold)),\n",
    "        all = sum(!is.na(gt_all[[ind]])),\n",
    "        all_prop = all / total,\n",
    "        nodmg = sum(!is.na(gt_nodmg[[ind]])),\n",
    "        nodmg_prop = nodmg / total\n",
    "    )\n",
    "})"
   ]
  },
  {
   "cell_type": "code",
   "execution_count": 25,
   "metadata": {},
   "outputs": [],
   "source": [
    "counts_lippold_archaic_df <- counts_lippold %>% filter(str_detect(individual, \"^([Ss]py|[Dd]en|[Mm]ez|shotgun|elsidron)\"))"
   ]
  },
  {
   "cell_type": "code",
   "execution_count": 26,
   "metadata": {},
   "outputs": [],
   "source": [
    "mindp_counts_lippold_archaic_df <- mindp_counts_lippold %>% filter(str_detect(individual, \"^([Ss]py|[Dd]en|[Mm]ez|shotgun|elsidron)\"))"
   ]
  },
  {
   "cell_type": "code",
   "execution_count": 27,
   "metadata": {},
   "outputs": [],
   "source": [
    "maxdp_mindp_counts_lippold_archaic_df <- maxdp_mindp_counts_lippold %>% filter(str_detect(individual, \"^([Ss]py|[Dd]en|[Mm]ez|shotgun|elsidron)\"))"
   ]
  },
  {
   "cell_type": "code",
   "execution_count": 28,
   "metadata": {},
   "outputs": [],
   "source": [
    "lippold_unfiltered <- counts_lippold_archaic_df %>%\n",
    "    arrange(all) %>%\n",
    "    mutate_at(vars(contains(\"prop\")), ~ sprintf(\"%.1f%%\", 100 * .)) %>%\n",
    "    select(-total) %>%\n",
    "    mutate(name = fix_name(individual)) %>%\n",
    "    select(name, everything(), -individual) %>%\n",
    "    mutate(all = format(all, big.mark = \",\", scientific = F),\n",
    "           nodmg = format(nodmg, big.mark = \",\", scientific = F)) %>%\n",
    "    mutate(filter = \"unfiltered\")"
   ]
  },
  {
   "cell_type": "code",
   "execution_count": 29,
   "metadata": {},
   "outputs": [],
   "source": [
    "lippold_mindp <- mindp_counts_lippold_archaic_df %>%\n",
    "    arrange(all) %>%\n",
    "    mutate_at(vars(contains(\"prop\")), ~ sprintf(\"%.1f%%\", 100 * .)) %>%\n",
    "    select(-total) %>%\n",
    "    mutate(name = fix_name(individual)) %>%\n",
    "    select(name, everything(), -individual) %>%\n",
    "    mutate(all = format(all, big.mark = \",\", scientific = F),\n",
    "           nodmg = format(nodmg, big.mark = \",\", scientific = F)) %>%\n",
    "    mutate(filter = \"min DP >= 3\")"
   ]
  },
  {
   "cell_type": "code",
   "execution_count": 30,
   "metadata": {},
   "outputs": [],
   "source": [
    "lippold_maxdp <- maxdp_mindp_counts_lippold_archaic_df %>%\n",
    "    arrange(all) %>%\n",
    "    mutate_at(vars(contains(\"prop\")), ~ sprintf(\"%.1f%%\", 100 * .)) %>%\n",
    "    select(-total) %>%\n",
    "    mutate(name = fix_name(individual)) %>%\n",
    "    select(name, everything(), -individual) %>%\n",
    "    mutate(all = format(all, big.mark = \",\", scientific = F),\n",
    "           nodmg = format(nodmg, big.mark = \",\", scientific = F)) %>%\n",
    "    mutate(filter = \"min DP >= 3 and max DP <= 98% quantile\")"
   ]
  },
  {
   "cell_type": "code",
   "execution_count": 31,
   "metadata": {},
   "outputs": [
    {
     "data": {
      "text/html": [
       "<table>\n",
       "<caption>A tibble: 3 × 6</caption>\n",
       "<thead>\n",
       "\t<tr><th scope=col>name</th><th scope=col>all</th><th scope=col>all_prop</th><th scope=col>nodmg</th><th scope=col>nodmg_prop</th><th scope=col>filter</th></tr>\n",
       "\t<tr><th scope=col>&lt;chr&gt;</th><th scope=col>&lt;chr&gt;</th><th scope=col>&lt;chr&gt;</th><th scope=col>&lt;chr&gt;</th><th scope=col>&lt;chr&gt;</th><th scope=col>&lt;chr&gt;</th></tr>\n",
       "</thead>\n",
       "<tbody>\n",
       "\t<tr><td>El Sidrón 1253 (560 kb)</td><td>530,172</td><td>95.3%</td><td>530,046</td><td>95.3%</td><td>unfiltered                            </td></tr>\n",
       "\t<tr><td>El Sidrón 1253 (560 kb)</td><td>477,397</td><td>85.8%</td><td>477,293</td><td>85.8%</td><td><span style=white-space:pre-wrap>min DP &gt;= 3                           </span></td></tr>\n",
       "\t<tr><td>El Sidrón 1253 (560 kb)</td><td>467,563</td><td>84.1%</td><td>467,461</td><td>84.0%</td><td>min DP &gt;= 3 and max DP &lt;= 98% quantile</td></tr>\n",
       "</tbody>\n",
       "</table>\n"
      ],
      "text/latex": [
       "A tibble: 3 × 6\n",
       "\\begin{tabular}{llllll}\n",
       " name & all & all\\_prop & nodmg & nodmg\\_prop & filter\\\\\n",
       " <chr> & <chr> & <chr> & <chr> & <chr> & <chr>\\\\\n",
       "\\hline\n",
       "\t El Sidrón 1253 (560 kb) & 530,172 & 95.3\\% & 530,046 & 95.3\\% & unfiltered                            \\\\\n",
       "\t El Sidrón 1253 (560 kb) & 477,397 & 85.8\\% & 477,293 & 85.8\\% & min DP >= 3                           \\\\\n",
       "\t El Sidrón 1253 (560 kb) & 467,563 & 84.1\\% & 467,461 & 84.0\\% & min DP >= 3 and max DP <= 98\\% quantile\\\\\n",
       "\\end{tabular}\n"
      ],
      "text/markdown": [
       "\n",
       "A tibble: 3 × 6\n",
       "\n",
       "| name &lt;chr&gt; | all &lt;chr&gt; | all_prop &lt;chr&gt; | nodmg &lt;chr&gt; | nodmg_prop &lt;chr&gt; | filter &lt;chr&gt; |\n",
       "|---|---|---|---|---|---|\n",
       "| El Sidrón 1253 (560 kb) | 530,172 | 95.3% | 530,046 | 95.3% | unfiltered                             |\n",
       "| El Sidrón 1253 (560 kb) | 477,397 | 85.8% | 477,293 | 85.8% | min DP &gt;= 3                            |\n",
       "| El Sidrón 1253 (560 kb) | 467,563 | 84.1% | 467,461 | 84.0% | min DP &gt;= 3 and max DP &lt;= 98% quantile |\n",
       "\n"
      ],
      "text/plain": [
       "  name                    all     all_prop nodmg   nodmg_prop\n",
       "1 El Sidrón 1253 (560 kb) 530,172 95.3%    530,046 95.3%     \n",
       "2 El Sidrón 1253 (560 kb) 477,397 85.8%    477,293 85.8%     \n",
       "3 El Sidrón 1253 (560 kb) 467,563 84.1%    467,461 84.0%     \n",
       "  filter                                \n",
       "1 unfiltered                            \n",
       "2 min DP >= 3                           \n",
       "3 min DP >= 3 and max DP <= 98% quantile"
      ]
     },
     "metadata": {},
     "output_type": "display_data"
    }
   ],
   "source": [
    "bind_rows(lippold_unfiltered, lippold_mindp, lippold_maxdp)"
   ]
  }
 ],
 "metadata": {
  "kernelspec": {
   "display_name": "R",
   "language": "R",
   "name": "ir"
  },
  "language_info": {
   "codemirror_mode": "r",
   "file_extension": ".r",
   "mimetype": "text/x-r-source",
   "name": "R",
   "pygments_lexer": "r",
   "version": "3.6.0"
  }
 },
 "nbformat": 4,
 "nbformat_minor": 2
}
