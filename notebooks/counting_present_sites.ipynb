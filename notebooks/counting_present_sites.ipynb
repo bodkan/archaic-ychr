{
 "cells": [
  {
   "cell_type": "code",
   "execution_count": 1,
   "metadata": {},
   "outputs": [
    {
     "name": "stderr",
     "output_type": "stream",
     "text": [
      "── \u001b[1mAttaching packages\u001b[22m ─────────────────────────────────────── tidyverse 1.2.1 ──\n",
      "\u001b[32m✔\u001b[39m \u001b[34mggplot2\u001b[39m 3.2.1     \u001b[32m✔\u001b[39m \u001b[34mpurrr  \u001b[39m 0.3.2\n",
      "\u001b[32m✔\u001b[39m \u001b[34mtibble \u001b[39m 2.1.3     \u001b[32m✔\u001b[39m \u001b[34mdplyr  \u001b[39m 0.8.3\n",
      "\u001b[32m✔\u001b[39m \u001b[34mtidyr  \u001b[39m 1.0.0     \u001b[32m✔\u001b[39m \u001b[34mstringr\u001b[39m 1.4.0\n",
      "\u001b[32m✔\u001b[39m \u001b[34mreadr  \u001b[39m 1.3.1     \u001b[32m✔\u001b[39m \u001b[34mforcats\u001b[39m 0.4.0\n",
      "── \u001b[1mConflicts\u001b[22m ────────────────────────────────────────── tidyverse_conflicts() ──\n",
      "\u001b[31m✖\u001b[39m \u001b[34mdplyr\u001b[39m::\u001b[32mfilter()\u001b[39m masks \u001b[34mstats\u001b[39m::filter()\n",
      "\u001b[31m✖\u001b[39m \u001b[34mdplyr\u001b[39m::\u001b[32mlag()\u001b[39m    masks \u001b[34mstats\u001b[39m::lag()\n",
      "here() starts at /mnt/expressions/mp/archaic-ychr\n",
      "\n",
      "Attaching package: ‘glue’\n",
      "\n",
      "The following object is masked from ‘package:dplyr’:\n",
      "\n",
      "    collapse\n",
      "\n",
      "Loading required package: future\n",
      "Loading ychr\n"
     ]
    }
   ],
   "source": [
    "library(tidyverse)\n",
    "library(here)\n",
    "library(glue)\n",
    "library(furrr)\n",
    "suppressPackageStartupMessages(library(rtracklayer))\n",
    "devtools::load_all(\".\")\n",
    "\n",
    "plan(multiprocess, workers = 20)"
   ]
  },
  {
   "cell_type": "markdown",
   "metadata": {},
   "source": [
    "# Full 6.9 Mb capture"
   ]
  },
  {
   "cell_type": "code",
   "execution_count": 2,
   "metadata": {},
   "outputs": [],
   "source": [
    "samples_full <- list.files(here(\"data/vcf\"), \"full_.*.vcf.gz$\") %>%\n",
    "    str_subset(\"mez2_dp|modern|merged\", negate = T) %>%\n",
    "    str_replace(\"full_(.*).vcf.gz\", \"\\\\1\")"
   ]
  },
  {
   "cell_type": "code",
   "execution_count": 3,
   "metadata": {},
   "outputs": [
    {
     "data": {
      "text/html": [
       "<style>\n",
       ".list-inline {list-style: none; margin:0; padding: 0}\n",
       ".list-inline>li {display: inline-block}\n",
       ".list-inline>li:not(:last-child)::after {content: \"\\00b7\"; padding: 0 .5ex}\n",
       "</style>\n",
       "<ol class=list-inline><li>'a00_1'</li><li>'a00_2'</li><li>'a00'</li><li>'chimp'</li><li>'den4_snpad'</li><li>'den4'</li><li>'den8_snpad'</li><li>'den8'</li><li>'mez2_snpad'</li><li>'mez2'</li><li>'S_BedouinB-1'</li><li>'S_Burmese-1'</li><li>'S_Dai-2'</li><li>'S_Dinka-1'</li><li>'S_Finnish-2'</li><li>'S_French-1'</li><li>'S_Gambian-1'</li><li>'S_Han-2'</li><li>'S_Ju_hoan_North-1'</li><li>'S_Karitiana-1'</li><li>'S_Mandenka-1'</li><li>'S_Mbuti-1'</li><li>'S_Papuan-2'</li><li>'S_Punjabi-1'</li><li>'S_Saami-2'</li><li>'S_Sardinian-1'</li><li>'S_Thai-1'</li><li>'S_Turkish-1'</li><li>'S_Yoruba-2'</li><li>'shotgun_mez2'</li><li>'shotgun_spy1'</li><li>'spy1_snpad'</li><li>'spy1'</li><li>'ustishim'</li></ol>\n"
      ],
      "text/latex": [
       "\\begin{enumerate*}\n",
       "\\item 'a00\\_1'\n",
       "\\item 'a00\\_2'\n",
       "\\item 'a00'\n",
       "\\item 'chimp'\n",
       "\\item 'den4\\_snpad'\n",
       "\\item 'den4'\n",
       "\\item 'den8\\_snpad'\n",
       "\\item 'den8'\n",
       "\\item 'mez2\\_snpad'\n",
       "\\item 'mez2'\n",
       "\\item 'S\\_BedouinB-1'\n",
       "\\item 'S\\_Burmese-1'\n",
       "\\item 'S\\_Dai-2'\n",
       "\\item 'S\\_Dinka-1'\n",
       "\\item 'S\\_Finnish-2'\n",
       "\\item 'S\\_French-1'\n",
       "\\item 'S\\_Gambian-1'\n",
       "\\item 'S\\_Han-2'\n",
       "\\item 'S\\_Ju\\_hoan\\_North-1'\n",
       "\\item 'S\\_Karitiana-1'\n",
       "\\item 'S\\_Mandenka-1'\n",
       "\\item 'S\\_Mbuti-1'\n",
       "\\item 'S\\_Papuan-2'\n",
       "\\item 'S\\_Punjabi-1'\n",
       "\\item 'S\\_Saami-2'\n",
       "\\item 'S\\_Sardinian-1'\n",
       "\\item 'S\\_Thai-1'\n",
       "\\item 'S\\_Turkish-1'\n",
       "\\item 'S\\_Yoruba-2'\n",
       "\\item 'shotgun\\_mez2'\n",
       "\\item 'shotgun\\_spy1'\n",
       "\\item 'spy1\\_snpad'\n",
       "\\item 'spy1'\n",
       "\\item 'ustishim'\n",
       "\\end{enumerate*}\n"
      ],
      "text/markdown": [
       "1. 'a00_1'\n",
       "2. 'a00_2'\n",
       "3. 'a00'\n",
       "4. 'chimp'\n",
       "5. 'den4_snpad'\n",
       "6. 'den4'\n",
       "7. 'den8_snpad'\n",
       "8. 'den8'\n",
       "9. 'mez2_snpad'\n",
       "10. 'mez2'\n",
       "11. 'S_BedouinB-1'\n",
       "12. 'S_Burmese-1'\n",
       "13. 'S_Dai-2'\n",
       "14. 'S_Dinka-1'\n",
       "15. 'S_Finnish-2'\n",
       "16. 'S_French-1'\n",
       "17. 'S_Gambian-1'\n",
       "18. 'S_Han-2'\n",
       "19. 'S_Ju_hoan_North-1'\n",
       "20. 'S_Karitiana-1'\n",
       "21. 'S_Mandenka-1'\n",
       "22. 'S_Mbuti-1'\n",
       "23. 'S_Papuan-2'\n",
       "24. 'S_Punjabi-1'\n",
       "25. 'S_Saami-2'\n",
       "26. 'S_Sardinian-1'\n",
       "27. 'S_Thai-1'\n",
       "28. 'S_Turkish-1'\n",
       "29. 'S_Yoruba-2'\n",
       "30. 'shotgun_mez2'\n",
       "31. 'shotgun_spy1'\n",
       "32. 'spy1_snpad'\n",
       "33. 'spy1'\n",
       "34. 'ustishim'\n",
       "\n",
       "\n"
      ],
      "text/plain": [
       " [1] \"a00_1\"             \"a00_2\"             \"a00\"              \n",
       " [4] \"chimp\"             \"den4_snpad\"        \"den4\"             \n",
       " [7] \"den8_snpad\"        \"den8\"              \"mez2_snpad\"       \n",
       "[10] \"mez2\"              \"S_BedouinB-1\"      \"S_Burmese-1\"      \n",
       "[13] \"S_Dai-2\"           \"S_Dinka-1\"         \"S_Finnish-2\"      \n",
       "[16] \"S_French-1\"        \"S_Gambian-1\"       \"S_Han-2\"          \n",
       "[19] \"S_Ju_hoan_North-1\" \"S_Karitiana-1\"     \"S_Mandenka-1\"     \n",
       "[22] \"S_Mbuti-1\"         \"S_Papuan-2\"        \"S_Punjabi-1\"      \n",
       "[25] \"S_Saami-2\"         \"S_Sardinian-1\"     \"S_Thai-1\"         \n",
       "[28] \"S_Turkish-1\"       \"S_Yoruba-2\"        \"shotgun_mez2\"     \n",
       "[31] \"shotgun_spy1\"      \"spy1_snpad\"        \"spy1\"             \n",
       "[34] \"ustishim\"         "
      ]
     },
     "metadata": {},
     "output_type": "display_data"
    }
   ],
   "source": [
    "samples_full"
   ]
  },
  {
   "cell_type": "code",
   "execution_count": 4,
   "metadata": {},
   "outputs": [],
   "source": [
    "bed_full <- here(\"data/coord/capture_full.bed\")"
   ]
  },
  {
   "cell_type": "code",
   "execution_count": 5,
   "metadata": {},
   "outputs": [],
   "source": [
    "capture_full <- import.bed(bed_full)"
   ]
  },
  {
   "cell_type": "code",
   "execution_count": 6,
   "metadata": {},
   "outputs": [
    {
     "data": {
      "text/html": [
       "6912728"
      ],
      "text/latex": [
       "6912728"
      ],
      "text/markdown": [
       "6912728"
      ],
      "text/plain": [
       "[1] 6912728"
      ]
     },
     "metadata": {},
     "output_type": "display_data"
    }
   ],
   "source": [
    "sum(width(capture_full))"
   ]
  },
  {
   "cell_type": "code",
   "execution_count": 7,
   "metadata": {},
   "outputs": [],
   "source": [
    "counts_full <- future_map_dfr(samples_full, function(ind) {\n",
    "    gt_all <- read_vcf(here(glue(\"data/vcf/full_{ind}.vcf.gz\")), mindp = 3, maxdp = 0.98, bed_filter = bed_full)\n",
    "    gt_nodmg <- read_vcf(here(glue(\"data/vcf/full_{ind}.vcf.gz\")), mindp = 3, maxdp = 0.98, nodmg = T, bed_filter = bed_full)\n",
    "\n",
    "    tibble(\n",
    "        individual = ind,\n",
    "        total = sum(width(capture_full)),\n",
    "        all = nrow(gt_all),\n",
    "        all_prop = all / total,\n",
    "        nodmg = nrow(gt_nodmg),\n",
    "        nodmg_prop = nodmg / total\n",
    "    )\n",
    "})"
   ]
  },
  {
   "cell_type": "code",
   "execution_count": 8,
   "metadata": {},
   "outputs": [],
   "source": [
    "full_archaic_df <- counts_full %>% filter(str_detect(individual, \"^([Ss]py|[Dd]en|[Mm]ez|shotgun)\"))\n",
    "full_modern_df <- counts_full %>% filter(!str_detect(individual, \"^([Ss]py|[Dd]en|[Mm]ez|chimp|shotgun)\"))"
   ]
  },
  {
   "cell_type": "code",
   "execution_count": 9,
   "metadata": {},
   "outputs": [
    {
     "data": {
      "text/html": [
       "<table>\n",
       "<caption>A tibble: 10 × 5</caption>\n",
       "<thead>\n",
       "\t<tr><th scope=col>name</th><th scope=col>all</th><th scope=col>all_prop</th><th scope=col>nodmg</th><th scope=col>nodmg_prop</th></tr>\n",
       "\t<tr><th scope=col>&lt;chr&gt;</th><th scope=col>&lt;chr&gt;</th><th scope=col>&lt;chr&gt;</th><th scope=col>&lt;chr&gt;</th><th scope=col>&lt;chr&gt;</th></tr>\n",
       "</thead>\n",
       "<tbody>\n",
       "\t<tr><td>Spy 94a (shotgun)      </td><td>2,664,787</td><td>38.5%</td><td>2,636,405</td><td>38.1%</td></tr>\n",
       "\t<tr><td>Spy 94a                </td><td>3,502,380</td><td>50.7%</td><td>3,470,671</td><td>50.2%</td></tr>\n",
       "\t<tr><td>Spy 94a (snpAD)        </td><td>3,557,124</td><td>51.5%</td><td>3,522,759</td><td>51.0%</td></tr>\n",
       "\t<tr><td>Mezmaiskaya 2 (shotgun)</td><td>3,822,106</td><td>55.3%</td><td>3,762,768</td><td>54.4%</td></tr>\n",
       "\t<tr><td>Denisova 4             </td><td>4,731,302</td><td>68.4%</td><td>4,705,860</td><td>68.1%</td></tr>\n",
       "\t<tr><td>Denisova 4 (snpAD)     </td><td>4,824,242</td><td>69.8%</td><td>4,798,037</td><td>69.4%</td></tr>\n",
       "\t<tr><td>Denisova 8             </td><td>5,851,332</td><td>84.6%</td><td>5,828,356</td><td>84.3%</td></tr>\n",
       "\t<tr><td>Denisova 8 (snpAD)     </td><td>6,260,242</td><td>90.6%</td><td>6,236,272</td><td>90.2%</td></tr>\n",
       "\t<tr><td>Mezmaiskaya 2          </td><td>6,348,948</td><td>91.8%</td><td>6,346,684</td><td>91.8%</td></tr>\n",
       "\t<tr><td>Mezmaiskaya 2 (snpAD)  </td><td>6,669,912</td><td>96.5%</td><td>6,667,441</td><td>96.5%</td></tr>\n",
       "</tbody>\n",
       "</table>\n"
      ],
      "text/latex": [
       "A tibble: 10 × 5\n",
       "\\begin{tabular}{lllll}\n",
       " name & all & all\\_prop & nodmg & nodmg\\_prop\\\\\n",
       " <chr> & <chr> & <chr> & <chr> & <chr>\\\\\n",
       "\\hline\n",
       "\t Spy 94a (shotgun)       & 2,664,787 & 38.5\\% & 2,636,405 & 38.1\\%\\\\\n",
       "\t Spy 94a                 & 3,502,380 & 50.7\\% & 3,470,671 & 50.2\\%\\\\\n",
       "\t Spy 94a (snpAD)         & 3,557,124 & 51.5\\% & 3,522,759 & 51.0\\%\\\\\n",
       "\t Mezmaiskaya 2 (shotgun) & 3,822,106 & 55.3\\% & 3,762,768 & 54.4\\%\\\\\n",
       "\t Denisova 4              & 4,731,302 & 68.4\\% & 4,705,860 & 68.1\\%\\\\\n",
       "\t Denisova 4 (snpAD)      & 4,824,242 & 69.8\\% & 4,798,037 & 69.4\\%\\\\\n",
       "\t Denisova 8              & 5,851,332 & 84.6\\% & 5,828,356 & 84.3\\%\\\\\n",
       "\t Denisova 8 (snpAD)      & 6,260,242 & 90.6\\% & 6,236,272 & 90.2\\%\\\\\n",
       "\t Mezmaiskaya 2           & 6,348,948 & 91.8\\% & 6,346,684 & 91.8\\%\\\\\n",
       "\t Mezmaiskaya 2 (snpAD)   & 6,669,912 & 96.5\\% & 6,667,441 & 96.5\\%\\\\\n",
       "\\end{tabular}\n"
      ],
      "text/markdown": [
       "\n",
       "A tibble: 10 × 5\n",
       "\n",
       "| name &lt;chr&gt; | all &lt;chr&gt; | all_prop &lt;chr&gt; | nodmg &lt;chr&gt; | nodmg_prop &lt;chr&gt; |\n",
       "|---|---|---|---|---|\n",
       "| Spy 94a (shotgun)       | 2,664,787 | 38.5% | 2,636,405 | 38.1% |\n",
       "| Spy 94a                 | 3,502,380 | 50.7% | 3,470,671 | 50.2% |\n",
       "| Spy 94a (snpAD)         | 3,557,124 | 51.5% | 3,522,759 | 51.0% |\n",
       "| Mezmaiskaya 2 (shotgun) | 3,822,106 | 55.3% | 3,762,768 | 54.4% |\n",
       "| Denisova 4              | 4,731,302 | 68.4% | 4,705,860 | 68.1% |\n",
       "| Denisova 4 (snpAD)      | 4,824,242 | 69.8% | 4,798,037 | 69.4% |\n",
       "| Denisova 8              | 5,851,332 | 84.6% | 5,828,356 | 84.3% |\n",
       "| Denisova 8 (snpAD)      | 6,260,242 | 90.6% | 6,236,272 | 90.2% |\n",
       "| Mezmaiskaya 2           | 6,348,948 | 91.8% | 6,346,684 | 91.8% |\n",
       "| Mezmaiskaya 2 (snpAD)   | 6,669,912 | 96.5% | 6,667,441 | 96.5% |\n",
       "\n"
      ],
      "text/plain": [
       "   name                    all       all_prop nodmg     nodmg_prop\n",
       "1  Spy 94a (shotgun)       2,664,787 38.5%    2,636,405 38.1%     \n",
       "2  Spy 94a                 3,502,380 50.7%    3,470,671 50.2%     \n",
       "3  Spy 94a (snpAD)         3,557,124 51.5%    3,522,759 51.0%     \n",
       "4  Mezmaiskaya 2 (shotgun) 3,822,106 55.3%    3,762,768 54.4%     \n",
       "5  Denisova 4              4,731,302 68.4%    4,705,860 68.1%     \n",
       "6  Denisova 4 (snpAD)      4,824,242 69.8%    4,798,037 69.4%     \n",
       "7  Denisova 8              5,851,332 84.6%    5,828,356 84.3%     \n",
       "8  Denisova 8 (snpAD)      6,260,242 90.6%    6,236,272 90.2%     \n",
       "9  Mezmaiskaya 2           6,348,948 91.8%    6,346,684 91.8%     \n",
       "10 Mezmaiskaya 2 (snpAD)   6,669,912 96.5%    6,667,441 96.5%     "
      ]
     },
     "metadata": {},
     "output_type": "display_data"
    }
   ],
   "source": [
    "full_archaic_df %>%\n",
    "    arrange(all) %>%\n",
    "    mutate_at(vars(contains(\"prop\")), ~ sprintf(\"%.1f%%\", 100 * .)) %>%\n",
    "    select(-total) %>%\n",
    "    mutate(name = fix_name(individual)) %>%\n",
    "    select(name, everything(), -individual) %>%\n",
    "    mutate(all = format(all, big.mark = \",\", scientific = F),\n",
    "           nodmg = format(nodmg, big.mark = \",\", scientific = F))"
   ]
  },
  {
   "cell_type": "code",
   "execution_count": 10,
   "metadata": {},
   "outputs": [
    {
     "data": {
      "text/html": [
       "<table>\n",
       "<caption>A tibble: 23 × 5</caption>\n",
       "<thead>\n",
       "\t<tr><th scope=col>name</th><th scope=col>all</th><th scope=col>all_prop</th><th scope=col>nodmg</th><th scope=col>nodmg_prop</th></tr>\n",
       "\t<tr><th scope=col>&lt;chr&gt;</th><th scope=col>&lt;chr&gt;</th><th scope=col>&lt;chr&gt;</th><th scope=col>&lt;chr&gt;</th><th scope=col>&lt;chr&gt;</th></tr>\n",
       "</thead>\n",
       "<tbody>\n",
       "\t<tr><td>A00-1            </td><td>6,852,077</td><td>99.12%</td><td>6,851,175</td><td>99.11%</td></tr>\n",
       "\t<tr><td>A00-2            </td><td>6,867,616</td><td>99.35%</td><td>6,866,716</td><td>99.33%</td></tr>\n",
       "\t<tr><td>A00              </td><td>6,873,078</td><td>99.43%</td><td>6,872,184</td><td>99.41%</td></tr>\n",
       "\t<tr><td>Ust'-Ishim       </td><td>6,888,071</td><td>99.64%</td><td>6,887,986</td><td>99.64%</td></tr>\n",
       "\t<tr><td>S_Yoruba-2       </td><td>6,897,101</td><td>99.77%</td><td>6,896,820</td><td>99.77%</td></tr>\n",
       "\t<tr><td>S_Mandenka-1     </td><td>6,898,162</td><td>99.79%</td><td>6,897,879</td><td>99.79%</td></tr>\n",
       "\t<tr><td>S_Mbuti-1        </td><td>6,898,694</td><td>99.80%</td><td>6,898,400</td><td>99.79%</td></tr>\n",
       "\t<tr><td>S_Gambian-1      </td><td>6,899,210</td><td>99.80%</td><td>6,898,929</td><td>99.80%</td></tr>\n",
       "\t<tr><td>S_Papuan-2       </td><td>6,904,393</td><td>99.88%</td><td>6,904,208</td><td>99.88%</td></tr>\n",
       "\t<tr><td>S_Thai-1         </td><td>6,905,023</td><td>99.89%</td><td>6,904,846</td><td>99.89%</td></tr>\n",
       "\t<tr><td>S_BedouinB-1     </td><td>6,905,031</td><td>99.89%</td><td>6,904,820</td><td>99.89%</td></tr>\n",
       "\t<tr><td>S_Saami-2        </td><td>6,905,291</td><td>99.89%</td><td>6,905,102</td><td>99.89%</td></tr>\n",
       "\t<tr><td>S_Sardinian-1    </td><td>6,905,558</td><td>99.90%</td><td>6,905,352</td><td>99.89%</td></tr>\n",
       "\t<tr><td>S_Ju_hoan_North-1</td><td>6,906,228</td><td>99.91%</td><td>6,905,872</td><td>99.90%</td></tr>\n",
       "\t<tr><td>S_Karitiana-1    </td><td>6,906,409</td><td>99.91%</td><td>6,906,258</td><td>99.91%</td></tr>\n",
       "\t<tr><td>S_Dai-2          </td><td>6,906,414</td><td>99.91%</td><td>6,906,248</td><td>99.91%</td></tr>\n",
       "\t<tr><td>S_Burmese-1      </td><td>6,906,438</td><td>99.91%</td><td>6,906,260</td><td>99.91%</td></tr>\n",
       "\t<tr><td>S_Dinka-1        </td><td>6,906,507</td><td>99.91%</td><td>6,906,225</td><td>99.91%</td></tr>\n",
       "\t<tr><td>S_French-1       </td><td>6,906,914</td><td>99.92%</td><td>6,906,738</td><td>99.91%</td></tr>\n",
       "\t<tr><td>S_Punjabi-1      </td><td>6,907,065</td><td>99.92%</td><td>6,906,885</td><td>99.92%</td></tr>\n",
       "\t<tr><td>S_Finnish-2      </td><td>6,907,088</td><td>99.92%</td><td>6,906,889</td><td>99.92%</td></tr>\n",
       "\t<tr><td>S_Han-2          </td><td>6,907,603</td><td>99.93%</td><td>6,907,417</td><td>99.92%</td></tr>\n",
       "\t<tr><td>S_Turkish-1      </td><td>6,907,751</td><td>99.93%</td><td>6,907,717</td><td>99.93%</td></tr>\n",
       "</tbody>\n",
       "</table>\n"
      ],
      "text/latex": [
       "A tibble: 23 × 5\n",
       "\\begin{tabular}{lllll}\n",
       " name & all & all\\_prop & nodmg & nodmg\\_prop\\\\\n",
       " <chr> & <chr> & <chr> & <chr> & <chr>\\\\\n",
       "\\hline\n",
       "\t A00-1             & 6,852,077 & 99.12\\% & 6,851,175 & 99.11\\%\\\\\n",
       "\t A00-2             & 6,867,616 & 99.35\\% & 6,866,716 & 99.33\\%\\\\\n",
       "\t A00               & 6,873,078 & 99.43\\% & 6,872,184 & 99.41\\%\\\\\n",
       "\t Ust'-Ishim        & 6,888,071 & 99.64\\% & 6,887,986 & 99.64\\%\\\\\n",
       "\t S\\_Yoruba-2        & 6,897,101 & 99.77\\% & 6,896,820 & 99.77\\%\\\\\n",
       "\t S\\_Mandenka-1      & 6,898,162 & 99.79\\% & 6,897,879 & 99.79\\%\\\\\n",
       "\t S\\_Mbuti-1         & 6,898,694 & 99.80\\% & 6,898,400 & 99.79\\%\\\\\n",
       "\t S\\_Gambian-1       & 6,899,210 & 99.80\\% & 6,898,929 & 99.80\\%\\\\\n",
       "\t S\\_Papuan-2        & 6,904,393 & 99.88\\% & 6,904,208 & 99.88\\%\\\\\n",
       "\t S\\_Thai-1          & 6,905,023 & 99.89\\% & 6,904,846 & 99.89\\%\\\\\n",
       "\t S\\_BedouinB-1      & 6,905,031 & 99.89\\% & 6,904,820 & 99.89\\%\\\\\n",
       "\t S\\_Saami-2         & 6,905,291 & 99.89\\% & 6,905,102 & 99.89\\%\\\\\n",
       "\t S\\_Sardinian-1     & 6,905,558 & 99.90\\% & 6,905,352 & 99.89\\%\\\\\n",
       "\t S\\_Ju\\_hoan\\_North-1 & 6,906,228 & 99.91\\% & 6,905,872 & 99.90\\%\\\\\n",
       "\t S\\_Karitiana-1     & 6,906,409 & 99.91\\% & 6,906,258 & 99.91\\%\\\\\n",
       "\t S\\_Dai-2           & 6,906,414 & 99.91\\% & 6,906,248 & 99.91\\%\\\\\n",
       "\t S\\_Burmese-1       & 6,906,438 & 99.91\\% & 6,906,260 & 99.91\\%\\\\\n",
       "\t S\\_Dinka-1         & 6,906,507 & 99.91\\% & 6,906,225 & 99.91\\%\\\\\n",
       "\t S\\_French-1        & 6,906,914 & 99.92\\% & 6,906,738 & 99.91\\%\\\\\n",
       "\t S\\_Punjabi-1       & 6,907,065 & 99.92\\% & 6,906,885 & 99.92\\%\\\\\n",
       "\t S\\_Finnish-2       & 6,907,088 & 99.92\\% & 6,906,889 & 99.92\\%\\\\\n",
       "\t S\\_Han-2           & 6,907,603 & 99.93\\% & 6,907,417 & 99.92\\%\\\\\n",
       "\t S\\_Turkish-1       & 6,907,751 & 99.93\\% & 6,907,717 & 99.93\\%\\\\\n",
       "\\end{tabular}\n"
      ],
      "text/markdown": [
       "\n",
       "A tibble: 23 × 5\n",
       "\n",
       "| name &lt;chr&gt; | all &lt;chr&gt; | all_prop &lt;chr&gt; | nodmg &lt;chr&gt; | nodmg_prop &lt;chr&gt; |\n",
       "|---|---|---|---|---|\n",
       "| A00-1             | 6,852,077 | 99.12% | 6,851,175 | 99.11% |\n",
       "| A00-2             | 6,867,616 | 99.35% | 6,866,716 | 99.33% |\n",
       "| A00               | 6,873,078 | 99.43% | 6,872,184 | 99.41% |\n",
       "| Ust'-Ishim        | 6,888,071 | 99.64% | 6,887,986 | 99.64% |\n",
       "| S_Yoruba-2        | 6,897,101 | 99.77% | 6,896,820 | 99.77% |\n",
       "| S_Mandenka-1      | 6,898,162 | 99.79% | 6,897,879 | 99.79% |\n",
       "| S_Mbuti-1         | 6,898,694 | 99.80% | 6,898,400 | 99.79% |\n",
       "| S_Gambian-1       | 6,899,210 | 99.80% | 6,898,929 | 99.80% |\n",
       "| S_Papuan-2        | 6,904,393 | 99.88% | 6,904,208 | 99.88% |\n",
       "| S_Thai-1          | 6,905,023 | 99.89% | 6,904,846 | 99.89% |\n",
       "| S_BedouinB-1      | 6,905,031 | 99.89% | 6,904,820 | 99.89% |\n",
       "| S_Saami-2         | 6,905,291 | 99.89% | 6,905,102 | 99.89% |\n",
       "| S_Sardinian-1     | 6,905,558 | 99.90% | 6,905,352 | 99.89% |\n",
       "| S_Ju_hoan_North-1 | 6,906,228 | 99.91% | 6,905,872 | 99.90% |\n",
       "| S_Karitiana-1     | 6,906,409 | 99.91% | 6,906,258 | 99.91% |\n",
       "| S_Dai-2           | 6,906,414 | 99.91% | 6,906,248 | 99.91% |\n",
       "| S_Burmese-1       | 6,906,438 | 99.91% | 6,906,260 | 99.91% |\n",
       "| S_Dinka-1         | 6,906,507 | 99.91% | 6,906,225 | 99.91% |\n",
       "| S_French-1        | 6,906,914 | 99.92% | 6,906,738 | 99.91% |\n",
       "| S_Punjabi-1       | 6,907,065 | 99.92% | 6,906,885 | 99.92% |\n",
       "| S_Finnish-2       | 6,907,088 | 99.92% | 6,906,889 | 99.92% |\n",
       "| S_Han-2           | 6,907,603 | 99.93% | 6,907,417 | 99.92% |\n",
       "| S_Turkish-1       | 6,907,751 | 99.93% | 6,907,717 | 99.93% |\n",
       "\n"
      ],
      "text/plain": [
       "   name              all       all_prop nodmg     nodmg_prop\n",
       "1  A00-1             6,852,077 99.12%   6,851,175 99.11%    \n",
       "2  A00-2             6,867,616 99.35%   6,866,716 99.33%    \n",
       "3  A00               6,873,078 99.43%   6,872,184 99.41%    \n",
       "4  Ust'-Ishim        6,888,071 99.64%   6,887,986 99.64%    \n",
       "5  S_Yoruba-2        6,897,101 99.77%   6,896,820 99.77%    \n",
       "6  S_Mandenka-1      6,898,162 99.79%   6,897,879 99.79%    \n",
       "7  S_Mbuti-1         6,898,694 99.80%   6,898,400 99.79%    \n",
       "8  S_Gambian-1       6,899,210 99.80%   6,898,929 99.80%    \n",
       "9  S_Papuan-2        6,904,393 99.88%   6,904,208 99.88%    \n",
       "10 S_Thai-1          6,905,023 99.89%   6,904,846 99.89%    \n",
       "11 S_BedouinB-1      6,905,031 99.89%   6,904,820 99.89%    \n",
       "12 S_Saami-2         6,905,291 99.89%   6,905,102 99.89%    \n",
       "13 S_Sardinian-1     6,905,558 99.90%   6,905,352 99.89%    \n",
       "14 S_Ju_hoan_North-1 6,906,228 99.91%   6,905,872 99.90%    \n",
       "15 S_Karitiana-1     6,906,409 99.91%   6,906,258 99.91%    \n",
       "16 S_Dai-2           6,906,414 99.91%   6,906,248 99.91%    \n",
       "17 S_Burmese-1       6,906,438 99.91%   6,906,260 99.91%    \n",
       "18 S_Dinka-1         6,906,507 99.91%   6,906,225 99.91%    \n",
       "19 S_French-1        6,906,914 99.92%   6,906,738 99.91%    \n",
       "20 S_Punjabi-1       6,907,065 99.92%   6,906,885 99.92%    \n",
       "21 S_Finnish-2       6,907,088 99.92%   6,906,889 99.92%    \n",
       "22 S_Han-2           6,907,603 99.93%   6,907,417 99.92%    \n",
       "23 S_Turkish-1       6,907,751 99.93%   6,907,717 99.93%    "
      ]
     },
     "metadata": {},
     "output_type": "display_data"
    }
   ],
   "source": [
    "full_modern_df %>%\n",
    "    arrange(all) %>%\n",
    "    mutate_at(vars(contains(\"prop\")), ~ sprintf(\"%.2f%%\", 100 * .)) %>%\n",
    "    select(-total) %>%\n",
    "    filter(!individual %in% c(\"den_snpad\", \"den\")) %>%\n",
    "    mutate(name = fix_name(individual)) %>%\n",
    "    select(name, everything(), -individual) %>%\n",
    "    mutate(all = format(all, big.mark = \",\", scientific = F),\n",
    "           nodmg = format(nodmg, big.mark = \",\", scientific = F))"
   ]
  },
  {
   "cell_type": "markdown",
   "metadata": {},
   "source": [
    "# 560 kb capture of regions from Lippold et al."
   ]
  },
  {
   "cell_type": "code",
   "execution_count": 11,
   "metadata": {},
   "outputs": [],
   "source": [
    "samples_lippold <- list.files(here(\"data/vcf\"), \"lippold_.*.vcf.gz$\") %>%\n",
    "    str_subset(\"mez2_dp|modern|merged|elsidron2_dp\", negate = T) %>%\n",
    "    str_replace(\"lippold_(.*).vcf.gz\", \"\\\\1\")"
   ]
  },
  {
   "cell_type": "code",
   "execution_count": 12,
   "metadata": {},
   "outputs": [
    {
     "data": {
      "text/html": [
       "<style>\n",
       ".list-inline {list-style: none; margin:0; padding: 0}\n",
       ".list-inline>li {display: inline-block}\n",
       ".list-inline>li:not(:last-child)::after {content: \"\\00b7\"; padding: 0 .5ex}\n",
       "</style>\n",
       "<ol class=list-inline><li>'a00_1'</li><li>'a00_2'</li><li>'a00'</li><li>'chimp'</li><li>'den4'</li><li>'den8'</li><li>'elsidron2'</li><li>'mez2'</li><li>'S_BedouinB-1'</li><li>'S_Burmese-1'</li><li>'S_Dai-2'</li><li>'S_Dinka-1'</li><li>'S_Finnish-2'</li><li>'S_French-1'</li><li>'S_Gambian-1'</li><li>'S_Han-2'</li><li>'S_Ju_hoan_North-1'</li><li>'S_Karitiana-1'</li><li>'S_Mandenka-1'</li><li>'S_Mbuti-1'</li><li>'S_Papuan-2'</li><li>'S_Punjabi-1'</li><li>'S_Saami-2'</li><li>'S_Sardinian-1'</li><li>'S_Thai-1'</li><li>'S_Turkish-1'</li><li>'S_Yoruba-2'</li><li>'spy1'</li><li>'ustishim'</li></ol>\n"
      ],
      "text/latex": [
       "\\begin{enumerate*}\n",
       "\\item 'a00\\_1'\n",
       "\\item 'a00\\_2'\n",
       "\\item 'a00'\n",
       "\\item 'chimp'\n",
       "\\item 'den4'\n",
       "\\item 'den8'\n",
       "\\item 'elsidron2'\n",
       "\\item 'mez2'\n",
       "\\item 'S\\_BedouinB-1'\n",
       "\\item 'S\\_Burmese-1'\n",
       "\\item 'S\\_Dai-2'\n",
       "\\item 'S\\_Dinka-1'\n",
       "\\item 'S\\_Finnish-2'\n",
       "\\item 'S\\_French-1'\n",
       "\\item 'S\\_Gambian-1'\n",
       "\\item 'S\\_Han-2'\n",
       "\\item 'S\\_Ju\\_hoan\\_North-1'\n",
       "\\item 'S\\_Karitiana-1'\n",
       "\\item 'S\\_Mandenka-1'\n",
       "\\item 'S\\_Mbuti-1'\n",
       "\\item 'S\\_Papuan-2'\n",
       "\\item 'S\\_Punjabi-1'\n",
       "\\item 'S\\_Saami-2'\n",
       "\\item 'S\\_Sardinian-1'\n",
       "\\item 'S\\_Thai-1'\n",
       "\\item 'S\\_Turkish-1'\n",
       "\\item 'S\\_Yoruba-2'\n",
       "\\item 'spy1'\n",
       "\\item 'ustishim'\n",
       "\\end{enumerate*}\n"
      ],
      "text/markdown": [
       "1. 'a00_1'\n",
       "2. 'a00_2'\n",
       "3. 'a00'\n",
       "4. 'chimp'\n",
       "5. 'den4'\n",
       "6. 'den8'\n",
       "7. 'elsidron2'\n",
       "8. 'mez2'\n",
       "9. 'S_BedouinB-1'\n",
       "10. 'S_Burmese-1'\n",
       "11. 'S_Dai-2'\n",
       "12. 'S_Dinka-1'\n",
       "13. 'S_Finnish-2'\n",
       "14. 'S_French-1'\n",
       "15. 'S_Gambian-1'\n",
       "16. 'S_Han-2'\n",
       "17. 'S_Ju_hoan_North-1'\n",
       "18. 'S_Karitiana-1'\n",
       "19. 'S_Mandenka-1'\n",
       "20. 'S_Mbuti-1'\n",
       "21. 'S_Papuan-2'\n",
       "22. 'S_Punjabi-1'\n",
       "23. 'S_Saami-2'\n",
       "24. 'S_Sardinian-1'\n",
       "25. 'S_Thai-1'\n",
       "26. 'S_Turkish-1'\n",
       "27. 'S_Yoruba-2'\n",
       "28. 'spy1'\n",
       "29. 'ustishim'\n",
       "\n",
       "\n"
      ],
      "text/plain": [
       " [1] \"a00_1\"             \"a00_2\"             \"a00\"              \n",
       " [4] \"chimp\"             \"den4\"              \"den8\"             \n",
       " [7] \"elsidron2\"         \"mez2\"              \"S_BedouinB-1\"     \n",
       "[10] \"S_Burmese-1\"       \"S_Dai-2\"           \"S_Dinka-1\"        \n",
       "[13] \"S_Finnish-2\"       \"S_French-1\"        \"S_Gambian-1\"      \n",
       "[16] \"S_Han-2\"           \"S_Ju_hoan_North-1\" \"S_Karitiana-1\"    \n",
       "[19] \"S_Mandenka-1\"      \"S_Mbuti-1\"         \"S_Papuan-2\"       \n",
       "[22] \"S_Punjabi-1\"       \"S_Saami-2\"         \"S_Sardinian-1\"    \n",
       "[25] \"S_Thai-1\"          \"S_Turkish-1\"       \"S_Yoruba-2\"       \n",
       "[28] \"spy1\"              \"ustishim\"         "
      ]
     },
     "metadata": {},
     "output_type": "display_data"
    }
   ],
   "source": [
    "samples_lippold"
   ]
  },
  {
   "cell_type": "code",
   "execution_count": 13,
   "metadata": {},
   "outputs": [],
   "source": [
    "bed_lippold <- here(\"data/coord/capture_lippold.bed\")"
   ]
  },
  {
   "cell_type": "code",
   "execution_count": 14,
   "metadata": {},
   "outputs": [],
   "source": [
    "capture_lippold <- import.bed(bed_lippold)"
   ]
  },
  {
   "cell_type": "code",
   "execution_count": 15,
   "metadata": {},
   "outputs": [
    {
     "data": {
      "text/html": [
       "556259"
      ],
      "text/latex": [
       "556259"
      ],
      "text/markdown": [
       "556259"
      ],
      "text/plain": [
       "[1] 556259"
      ]
     },
     "metadata": {},
     "output_type": "display_data"
    }
   ],
   "source": [
    "sum(width(capture_lippold))"
   ]
  },
  {
   "cell_type": "code",
   "execution_count": 16,
   "metadata": {},
   "outputs": [],
   "source": [
    "counts_lippold <- future_map_dfr(samples_lippold, function(ind) {\n",
    "    gt_all <- read_vcf(here(glue(\"data/vcf/lippold_{ind}.vcf.gz\")), mindp = 3, maxdp = 0.98, bed_filter = bed_lippold)\n",
    "    gt_nodmg <- read_vcf(here(glue(\"data/vcf/lippold_{ind}.vcf.gz\")), mindp = 3, maxdp = 0.98, nodmg = T, bed_filter = bed_lippold)\n",
    "\n",
    "    tibble(\n",
    "        individual = ind,\n",
    "        total = sum(width(capture_lippold)),\n",
    "        all = nrow(gt_all),\n",
    "        all_prop = all / total,\n",
    "        nodmg = nrow(gt_nodmg),\n",
    "        nodmg_prop = nodmg / total\n",
    "    )\n",
    "})"
   ]
  },
  {
   "cell_type": "code",
   "execution_count": 17,
   "metadata": {},
   "outputs": [],
   "source": [
    "lippold_archaic_df <- counts_lippold %>% filter(str_detect(individual, \"^([Ss]py|[Dd]en|[Mm]ez|shotgun|elsidron)\"))\n",
    "lippold_modern_df <- counts_lippold %>% filter(!str_detect(individual, \"^([Ss]py|[Dd]en|[Mm]ez|chimp|shotgun|elsidron)\"))"
   ]
  },
  {
   "cell_type": "code",
   "execution_count": 18,
   "metadata": {},
   "outputs": [
    {
     "data": {
      "text/html": [
       "<table>\n",
       "<caption>A tibble: 5 × 5</caption>\n",
       "<thead>\n",
       "\t<tr><th scope=col>name</th><th scope=col>all</th><th scope=col>all_prop</th><th scope=col>nodmg</th><th scope=col>nodmg_prop</th></tr>\n",
       "\t<tr><th scope=col>&lt;chr&gt;</th><th scope=col>&lt;chr&gt;</th><th scope=col>&lt;chr&gt;</th><th scope=col>&lt;chr&gt;</th><th scope=col>&lt;chr&gt;</th></tr>\n",
       "</thead>\n",
       "<tbody>\n",
       "\t<tr><td>Spy 94a                </td><td>275,626</td><td>49.55%</td><td>272,798</td><td>49.04%</td></tr>\n",
       "\t<tr><td>Denisova 4             </td><td>408,775</td><td>73.49%</td><td>406,508</td><td>73.08%</td></tr>\n",
       "\t<tr><td>Denisova 8             </td><td>484,377</td><td>87.08%</td><td>482,608</td><td>86.76%</td></tr>\n",
       "\t<tr><td>Mezmaiskaya 2          </td><td>509,145</td><td>91.53%</td><td>508,962</td><td>91.50%</td></tr>\n",
       "\t<tr><td>El Sidrón 1253 (560 kb)</td><td>530,172</td><td>95.31%</td><td>530,046</td><td>95.29%</td></tr>\n",
       "</tbody>\n",
       "</table>\n"
      ],
      "text/latex": [
       "A tibble: 5 × 5\n",
       "\\begin{tabular}{lllll}\n",
       " name & all & all\\_prop & nodmg & nodmg\\_prop\\\\\n",
       " <chr> & <chr> & <chr> & <chr> & <chr>\\\\\n",
       "\\hline\n",
       "\t Spy 94a                 & 275,626 & 49.55\\% & 272,798 & 49.04\\%\\\\\n",
       "\t Denisova 4              & 408,775 & 73.49\\% & 406,508 & 73.08\\%\\\\\n",
       "\t Denisova 8              & 484,377 & 87.08\\% & 482,608 & 86.76\\%\\\\\n",
       "\t Mezmaiskaya 2           & 509,145 & 91.53\\% & 508,962 & 91.50\\%\\\\\n",
       "\t El Sidrón 1253 (560 kb) & 530,172 & 95.31\\% & 530,046 & 95.29\\%\\\\\n",
       "\\end{tabular}\n"
      ],
      "text/markdown": [
       "\n",
       "A tibble: 5 × 5\n",
       "\n",
       "| name &lt;chr&gt; | all &lt;chr&gt; | all_prop &lt;chr&gt; | nodmg &lt;chr&gt; | nodmg_prop &lt;chr&gt; |\n",
       "|---|---|---|---|---|\n",
       "| Spy 94a                 | 275,626 | 49.55% | 272,798 | 49.04% |\n",
       "| Denisova 4              | 408,775 | 73.49% | 406,508 | 73.08% |\n",
       "| Denisova 8              | 484,377 | 87.08% | 482,608 | 86.76% |\n",
       "| Mezmaiskaya 2           | 509,145 | 91.53% | 508,962 | 91.50% |\n",
       "| El Sidrón 1253 (560 kb) | 530,172 | 95.31% | 530,046 | 95.29% |\n",
       "\n"
      ],
      "text/plain": [
       "  name                    all     all_prop nodmg   nodmg_prop\n",
       "1 Spy 94a                 275,626 49.55%   272,798 49.04%    \n",
       "2 Denisova 4              408,775 73.49%   406,508 73.08%    \n",
       "3 Denisova 8              484,377 87.08%   482,608 86.76%    \n",
       "4 Mezmaiskaya 2           509,145 91.53%   508,962 91.50%    \n",
       "5 El Sidrón 1253 (560 kb) 530,172 95.31%   530,046 95.29%    "
      ]
     },
     "metadata": {},
     "output_type": "display_data"
    }
   ],
   "source": [
    "lippold_archaic_df %>%\n",
    "    arrange(all) %>%\n",
    "    mutate_at(vars(contains(\"prop\")), ~ sprintf(\"%.2f%%\", 100 * .)) %>%\n",
    "    select(-total) %>%\n",
    "    filter(!individual %in% c(\"den_snpad\", \"den\")) %>%\n",
    "    mutate(name = fix_name(individual)) %>%\n",
    "    select(name, everything(), -individual) %>%\n",
    "    mutate(all = format(all, big.mark = \",\", scientific = F),\n",
    "           nodmg = format(nodmg, big.mark = \",\", scientific = F))"
   ]
  },
  {
   "cell_type": "code",
   "execution_count": 19,
   "metadata": {},
   "outputs": [
    {
     "data": {
      "text/html": [
       "<table>\n",
       "<caption>A tibble: 23 × 5</caption>\n",
       "<thead>\n",
       "\t<tr><th scope=col>name</th><th scope=col>all</th><th scope=col>all_prop</th><th scope=col>nodmg</th><th scope=col>nodmg_prop</th></tr>\n",
       "\t<tr><th scope=col>&lt;chr&gt;</th><th scope=col>&lt;chr&gt;</th><th scope=col>&lt;chr&gt;</th><th scope=col>&lt;chr&gt;</th><th scope=col>&lt;chr&gt;</th></tr>\n",
       "</thead>\n",
       "<tbody>\n",
       "\t<tr><td>A00-1            </td><td>552,557</td><td>99.33%</td><td>552,456</td><td>99.32%</td></tr>\n",
       "\t<tr><td>S_Yoruba-2       </td><td>553,203</td><td>99.45%</td><td>553,112</td><td>99.43%</td></tr>\n",
       "\t<tr><td>S_Mandenka-1     </td><td>553,348</td><td>99.48%</td><td>553,257</td><td>99.46%</td></tr>\n",
       "\t<tr><td>S_Gambian-1      </td><td>553,365</td><td>99.48%</td><td>553,275</td><td>99.46%</td></tr>\n",
       "\t<tr><td>S_Mbuti-1        </td><td>553,381</td><td>99.48%</td><td>553,288</td><td>99.47%</td></tr>\n",
       "\t<tr><td>A00-2            </td><td>553,422</td><td>99.49%</td><td>553,321</td><td>99.47%</td></tr>\n",
       "\t<tr><td>A00              </td><td>553,618</td><td>99.53%</td><td>553,517</td><td>99.51%</td></tr>\n",
       "\t<tr><td>Ust'-Ishim       </td><td>554,575</td><td>99.70%</td><td>554,550</td><td>99.69%</td></tr>\n",
       "\t<tr><td>S_Thai-1         </td><td>555,830</td><td>99.92%</td><td>555,787</td><td>99.92%</td></tr>\n",
       "\t<tr><td>S_Dinka-1        </td><td>555,842</td><td>99.93%</td><td>555,785</td><td>99.91%</td></tr>\n",
       "\t<tr><td>S_BedouinB-1     </td><td>555,850</td><td>99.93%</td><td>555,806</td><td>99.92%</td></tr>\n",
       "\t<tr><td>S_Sardinian-1    </td><td>555,855</td><td>99.93%</td><td>555,813</td><td>99.92%</td></tr>\n",
       "\t<tr><td>S_Burmese-1      </td><td>555,862</td><td>99.93%</td><td>555,818</td><td>99.92%</td></tr>\n",
       "\t<tr><td>S_Dai-2          </td><td>555,864</td><td>99.93%</td><td>555,819</td><td>99.92%</td></tr>\n",
       "\t<tr><td>S_Ju_hoan_North-1</td><td>555,870</td><td>99.93%</td><td>555,818</td><td>99.92%</td></tr>\n",
       "\t<tr><td>S_Karitiana-1    </td><td>555,876</td><td>99.93%</td><td>555,848</td><td>99.93%</td></tr>\n",
       "\t<tr><td>S_Saami-2        </td><td>555,927</td><td>99.94%</td><td>555,891</td><td>99.93%</td></tr>\n",
       "\t<tr><td>S_French-1       </td><td>555,942</td><td>99.94%</td><td>555,902</td><td>99.94%</td></tr>\n",
       "\t<tr><td>S_Finnish-2      </td><td>555,945</td><td>99.94%</td><td>555,906</td><td>99.94%</td></tr>\n",
       "\t<tr><td>S_Papuan-2       </td><td>555,951</td><td>99.94%</td><td>555,918</td><td>99.94%</td></tr>\n",
       "\t<tr><td>S_Punjabi-1      </td><td>555,958</td><td>99.95%</td><td>555,920</td><td>99.94%</td></tr>\n",
       "\t<tr><td>S_Turkish-1      </td><td>555,971</td><td>99.95%</td><td>555,966</td><td>99.95%</td></tr>\n",
       "\t<tr><td>S_Han-2          </td><td>556,022</td><td>99.96%</td><td>555,978</td><td>99.95%</td></tr>\n",
       "</tbody>\n",
       "</table>\n"
      ],
      "text/latex": [
       "A tibble: 23 × 5\n",
       "\\begin{tabular}{lllll}\n",
       " name & all & all\\_prop & nodmg & nodmg\\_prop\\\\\n",
       " <chr> & <chr> & <chr> & <chr> & <chr>\\\\\n",
       "\\hline\n",
       "\t A00-1             & 552,557 & 99.33\\% & 552,456 & 99.32\\%\\\\\n",
       "\t S\\_Yoruba-2        & 553,203 & 99.45\\% & 553,112 & 99.43\\%\\\\\n",
       "\t S\\_Mandenka-1      & 553,348 & 99.48\\% & 553,257 & 99.46\\%\\\\\n",
       "\t S\\_Gambian-1       & 553,365 & 99.48\\% & 553,275 & 99.46\\%\\\\\n",
       "\t S\\_Mbuti-1         & 553,381 & 99.48\\% & 553,288 & 99.47\\%\\\\\n",
       "\t A00-2             & 553,422 & 99.49\\% & 553,321 & 99.47\\%\\\\\n",
       "\t A00               & 553,618 & 99.53\\% & 553,517 & 99.51\\%\\\\\n",
       "\t Ust'-Ishim        & 554,575 & 99.70\\% & 554,550 & 99.69\\%\\\\\n",
       "\t S\\_Thai-1          & 555,830 & 99.92\\% & 555,787 & 99.92\\%\\\\\n",
       "\t S\\_Dinka-1         & 555,842 & 99.93\\% & 555,785 & 99.91\\%\\\\\n",
       "\t S\\_BedouinB-1      & 555,850 & 99.93\\% & 555,806 & 99.92\\%\\\\\n",
       "\t S\\_Sardinian-1     & 555,855 & 99.93\\% & 555,813 & 99.92\\%\\\\\n",
       "\t S\\_Burmese-1       & 555,862 & 99.93\\% & 555,818 & 99.92\\%\\\\\n",
       "\t S\\_Dai-2           & 555,864 & 99.93\\% & 555,819 & 99.92\\%\\\\\n",
       "\t S\\_Ju\\_hoan\\_North-1 & 555,870 & 99.93\\% & 555,818 & 99.92\\%\\\\\n",
       "\t S\\_Karitiana-1     & 555,876 & 99.93\\% & 555,848 & 99.93\\%\\\\\n",
       "\t S\\_Saami-2         & 555,927 & 99.94\\% & 555,891 & 99.93\\%\\\\\n",
       "\t S\\_French-1        & 555,942 & 99.94\\% & 555,902 & 99.94\\%\\\\\n",
       "\t S\\_Finnish-2       & 555,945 & 99.94\\% & 555,906 & 99.94\\%\\\\\n",
       "\t S\\_Papuan-2        & 555,951 & 99.94\\% & 555,918 & 99.94\\%\\\\\n",
       "\t S\\_Punjabi-1       & 555,958 & 99.95\\% & 555,920 & 99.94\\%\\\\\n",
       "\t S\\_Turkish-1       & 555,971 & 99.95\\% & 555,966 & 99.95\\%\\\\\n",
       "\t S\\_Han-2           & 556,022 & 99.96\\% & 555,978 & 99.95\\%\\\\\n",
       "\\end{tabular}\n"
      ],
      "text/markdown": [
       "\n",
       "A tibble: 23 × 5\n",
       "\n",
       "| name &lt;chr&gt; | all &lt;chr&gt; | all_prop &lt;chr&gt; | nodmg &lt;chr&gt; | nodmg_prop &lt;chr&gt; |\n",
       "|---|---|---|---|---|\n",
       "| A00-1             | 552,557 | 99.33% | 552,456 | 99.32% |\n",
       "| S_Yoruba-2        | 553,203 | 99.45% | 553,112 | 99.43% |\n",
       "| S_Mandenka-1      | 553,348 | 99.48% | 553,257 | 99.46% |\n",
       "| S_Gambian-1       | 553,365 | 99.48% | 553,275 | 99.46% |\n",
       "| S_Mbuti-1         | 553,381 | 99.48% | 553,288 | 99.47% |\n",
       "| A00-2             | 553,422 | 99.49% | 553,321 | 99.47% |\n",
       "| A00               | 553,618 | 99.53% | 553,517 | 99.51% |\n",
       "| Ust'-Ishim        | 554,575 | 99.70% | 554,550 | 99.69% |\n",
       "| S_Thai-1          | 555,830 | 99.92% | 555,787 | 99.92% |\n",
       "| S_Dinka-1         | 555,842 | 99.93% | 555,785 | 99.91% |\n",
       "| S_BedouinB-1      | 555,850 | 99.93% | 555,806 | 99.92% |\n",
       "| S_Sardinian-1     | 555,855 | 99.93% | 555,813 | 99.92% |\n",
       "| S_Burmese-1       | 555,862 | 99.93% | 555,818 | 99.92% |\n",
       "| S_Dai-2           | 555,864 | 99.93% | 555,819 | 99.92% |\n",
       "| S_Ju_hoan_North-1 | 555,870 | 99.93% | 555,818 | 99.92% |\n",
       "| S_Karitiana-1     | 555,876 | 99.93% | 555,848 | 99.93% |\n",
       "| S_Saami-2         | 555,927 | 99.94% | 555,891 | 99.93% |\n",
       "| S_French-1        | 555,942 | 99.94% | 555,902 | 99.94% |\n",
       "| S_Finnish-2       | 555,945 | 99.94% | 555,906 | 99.94% |\n",
       "| S_Papuan-2        | 555,951 | 99.94% | 555,918 | 99.94% |\n",
       "| S_Punjabi-1       | 555,958 | 99.95% | 555,920 | 99.94% |\n",
       "| S_Turkish-1       | 555,971 | 99.95% | 555,966 | 99.95% |\n",
       "| S_Han-2           | 556,022 | 99.96% | 555,978 | 99.95% |\n",
       "\n"
      ],
      "text/plain": [
       "   name              all     all_prop nodmg   nodmg_prop\n",
       "1  A00-1             552,557 99.33%   552,456 99.32%    \n",
       "2  S_Yoruba-2        553,203 99.45%   553,112 99.43%    \n",
       "3  S_Mandenka-1      553,348 99.48%   553,257 99.46%    \n",
       "4  S_Gambian-1       553,365 99.48%   553,275 99.46%    \n",
       "5  S_Mbuti-1         553,381 99.48%   553,288 99.47%    \n",
       "6  A00-2             553,422 99.49%   553,321 99.47%    \n",
       "7  A00               553,618 99.53%   553,517 99.51%    \n",
       "8  Ust'-Ishim        554,575 99.70%   554,550 99.69%    \n",
       "9  S_Thai-1          555,830 99.92%   555,787 99.92%    \n",
       "10 S_Dinka-1         555,842 99.93%   555,785 99.91%    \n",
       "11 S_BedouinB-1      555,850 99.93%   555,806 99.92%    \n",
       "12 S_Sardinian-1     555,855 99.93%   555,813 99.92%    \n",
       "13 S_Burmese-1       555,862 99.93%   555,818 99.92%    \n",
       "14 S_Dai-2           555,864 99.93%   555,819 99.92%    \n",
       "15 S_Ju_hoan_North-1 555,870 99.93%   555,818 99.92%    \n",
       "16 S_Karitiana-1     555,876 99.93%   555,848 99.93%    \n",
       "17 S_Saami-2         555,927 99.94%   555,891 99.93%    \n",
       "18 S_French-1        555,942 99.94%   555,902 99.94%    \n",
       "19 S_Finnish-2       555,945 99.94%   555,906 99.94%    \n",
       "20 S_Papuan-2        555,951 99.94%   555,918 99.94%    \n",
       "21 S_Punjabi-1       555,958 99.95%   555,920 99.94%    \n",
       "22 S_Turkish-1       555,971 99.95%   555,966 99.95%    \n",
       "23 S_Han-2           556,022 99.96%   555,978 99.95%    "
      ]
     },
     "metadata": {},
     "output_type": "display_data"
    }
   ],
   "source": [
    "lippold_modern_df %>%\n",
    "    arrange(all) %>%\n",
    "    mutate_at(vars(contains(\"prop\")), ~ sprintf(\"%.2f%%\", 100 * .)) %>%\n",
    "    select(-total) %>%\n",
    "    filter(!individual %in% c(\"den_snpad\", \"den\")) %>%\n",
    "    mutate(name = fix_name(individual)) %>%\n",
    "    select(name, everything(), -individual) %>%\n",
    "    mutate(all = format(all, big.mark = \",\", scientific = F),\n",
    "           nodmg = format(nodmg, big.mark = \",\", scientific = F))"
   ]
  }
 ],
 "metadata": {
  "kernelspec": {
   "display_name": "R",
   "language": "R",
   "name": "ir"
  },
  "language_info": {
   "codemirror_mode": "r",
   "file_extension": ".r",
   "mimetype": "text/x-r-source",
   "name": "R",
   "pygments_lexer": "r",
   "version": "3.6.0"
  }
 },
 "nbformat": 4,
 "nbformat_minor": 2
}
