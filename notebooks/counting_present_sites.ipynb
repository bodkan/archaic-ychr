{
 "cells": [
  {
   "cell_type": "code",
   "execution_count": 1,
   "metadata": {},
   "outputs": [
    {
     "name": "stderr",
     "output_type": "stream",
     "text": [
      "── \u001b[1mAttaching packages\u001b[22m ─────────────────────────────────────── tidyverse 1.2.1 ──\n",
      "\u001b[32m✔\u001b[39m \u001b[34mggplot2\u001b[39m 3.2.1     \u001b[32m✔\u001b[39m \u001b[34mpurrr  \u001b[39m 0.3.2\n",
      "\u001b[32m✔\u001b[39m \u001b[34mtibble \u001b[39m 2.1.3     \u001b[32m✔\u001b[39m \u001b[34mdplyr  \u001b[39m 0.8.3\n",
      "\u001b[32m✔\u001b[39m \u001b[34mtidyr  \u001b[39m 1.0.0     \u001b[32m✔\u001b[39m \u001b[34mstringr\u001b[39m 1.4.0\n",
      "\u001b[32m✔\u001b[39m \u001b[34mreadr  \u001b[39m 1.3.1     \u001b[32m✔\u001b[39m \u001b[34mforcats\u001b[39m 0.4.0\n",
      "── \u001b[1mConflicts\u001b[22m ────────────────────────────────────────── tidyverse_conflicts() ──\n",
      "\u001b[31m✖\u001b[39m \u001b[34mdplyr\u001b[39m::\u001b[32mfilter()\u001b[39m masks \u001b[34mstats\u001b[39m::filter()\n",
      "\u001b[31m✖\u001b[39m \u001b[34mdplyr\u001b[39m::\u001b[32mlag()\u001b[39m    masks \u001b[34mstats\u001b[39m::lag()\n",
      "here() starts at /mnt/expressions/mp/archaic-ychr\n",
      "\n",
      "Attaching package: ‘glue’\n",
      "\n",
      "The following object is masked from ‘package:dplyr’:\n",
      "\n",
      "    collapse\n",
      "\n",
      "Loading required package: future\n",
      "Loading ychr\n"
     ]
    }
   ],
   "source": [
    "library(tidyverse)\n",
    "library(here)\n",
    "library(glue)\n",
    "library(furrr)\n",
    "suppressPackageStartupMessages(library(rtracklayer))\n",
    "devtools::load_all(\".\")\n",
    "\n",
    "plan(multiprocess, workers = 20)"
   ]
  },
  {
   "cell_type": "markdown",
   "metadata": {},
   "source": [
    "# Full 6.9 Mb capture"
   ]
  },
  {
   "cell_type": "code",
   "execution_count": 2,
   "metadata": {},
   "outputs": [],
   "source": [
    "samples_full <- list.files(here(\"data/vcf\"), \"full_.*.vcf.gz$\") %>%\n",
    "    str_subset(\"mez2_dp|modern|merged\", negate = T) %>%\n",
    "    str_replace(\"full_(.*).vcf.gz\", \"\\\\1\")"
   ]
  },
  {
   "cell_type": "code",
   "execution_count": 3,
   "metadata": {},
   "outputs": [
    {
     "data": {
      "text/html": [
       "<ol class=list-inline>\n",
       "\t<li>'a00_1'</li>\n",
       "\t<li>'a00_2'</li>\n",
       "\t<li>'a00'</li>\n",
       "\t<li>'chimp'</li>\n",
       "\t<li>'den_snpad'</li>\n",
       "\t<li>'den'</li>\n",
       "\t<li>'den4'</li>\n",
       "\t<li>'den8'</li>\n",
       "\t<li>'mez2_snpad'</li>\n",
       "\t<li>'mez2'</li>\n",
       "\t<li>'S_BedouinB-1'</li>\n",
       "\t<li>'S_Burmese-1'</li>\n",
       "\t<li>'S_Dai-2'</li>\n",
       "\t<li>'S_Dinka-1'</li>\n",
       "\t<li>'S_Finnish-2'</li>\n",
       "\t<li>'S_French-1'</li>\n",
       "\t<li>'S_Gambian-1'</li>\n",
       "\t<li>'S_Han-2'</li>\n",
       "\t<li>'S_Ju_hoan_North-1'</li>\n",
       "\t<li>'S_Karitiana-1'</li>\n",
       "\t<li>'S_Mandenka-1'</li>\n",
       "\t<li>'S_Mbuti-1'</li>\n",
       "\t<li>'S_Papuan-2'</li>\n",
       "\t<li>'S_Punjabi-1'</li>\n",
       "\t<li>'S_Saami-2'</li>\n",
       "\t<li>'S_Sardinian-1'</li>\n",
       "\t<li>'S_Thai-1'</li>\n",
       "\t<li>'S_Turkish-1'</li>\n",
       "\t<li>'S_Yoruba-2'</li>\n",
       "\t<li>'shotgun_mez2'</li>\n",
       "\t<li>'shotgun_spy1'</li>\n",
       "\t<li>'spy1'</li>\n",
       "\t<li>'ustishim'</li>\n",
       "</ol>\n"
      ],
      "text/latex": [
       "\\begin{enumerate*}\n",
       "\\item 'a00\\_1'\n",
       "\\item 'a00\\_2'\n",
       "\\item 'a00'\n",
       "\\item 'chimp'\n",
       "\\item 'den\\_snpad'\n",
       "\\item 'den'\n",
       "\\item 'den4'\n",
       "\\item 'den8'\n",
       "\\item 'mez2\\_snpad'\n",
       "\\item 'mez2'\n",
       "\\item 'S\\_BedouinB-1'\n",
       "\\item 'S\\_Burmese-1'\n",
       "\\item 'S\\_Dai-2'\n",
       "\\item 'S\\_Dinka-1'\n",
       "\\item 'S\\_Finnish-2'\n",
       "\\item 'S\\_French-1'\n",
       "\\item 'S\\_Gambian-1'\n",
       "\\item 'S\\_Han-2'\n",
       "\\item 'S\\_Ju\\_hoan\\_North-1'\n",
       "\\item 'S\\_Karitiana-1'\n",
       "\\item 'S\\_Mandenka-1'\n",
       "\\item 'S\\_Mbuti-1'\n",
       "\\item 'S\\_Papuan-2'\n",
       "\\item 'S\\_Punjabi-1'\n",
       "\\item 'S\\_Saami-2'\n",
       "\\item 'S\\_Sardinian-1'\n",
       "\\item 'S\\_Thai-1'\n",
       "\\item 'S\\_Turkish-1'\n",
       "\\item 'S\\_Yoruba-2'\n",
       "\\item 'shotgun\\_mez2'\n",
       "\\item 'shotgun\\_spy1'\n",
       "\\item 'spy1'\n",
       "\\item 'ustishim'\n",
       "\\end{enumerate*}\n"
      ],
      "text/markdown": [
       "1. 'a00_1'\n",
       "2. 'a00_2'\n",
       "3. 'a00'\n",
       "4. 'chimp'\n",
       "5. 'den_snpad'\n",
       "6. 'den'\n",
       "7. 'den4'\n",
       "8. 'den8'\n",
       "9. 'mez2_snpad'\n",
       "10. 'mez2'\n",
       "11. 'S_BedouinB-1'\n",
       "12. 'S_Burmese-1'\n",
       "13. 'S_Dai-2'\n",
       "14. 'S_Dinka-1'\n",
       "15. 'S_Finnish-2'\n",
       "16. 'S_French-1'\n",
       "17. 'S_Gambian-1'\n",
       "18. 'S_Han-2'\n",
       "19. 'S_Ju_hoan_North-1'\n",
       "20. 'S_Karitiana-1'\n",
       "21. 'S_Mandenka-1'\n",
       "22. 'S_Mbuti-1'\n",
       "23. 'S_Papuan-2'\n",
       "24. 'S_Punjabi-1'\n",
       "25. 'S_Saami-2'\n",
       "26. 'S_Sardinian-1'\n",
       "27. 'S_Thai-1'\n",
       "28. 'S_Turkish-1'\n",
       "29. 'S_Yoruba-2'\n",
       "30. 'shotgun_mez2'\n",
       "31. 'shotgun_spy1'\n",
       "32. 'spy1'\n",
       "33. 'ustishim'\n",
       "\n",
       "\n"
      ],
      "text/plain": [
       " [1] \"a00_1\"             \"a00_2\"             \"a00\"              \n",
       " [4] \"chimp\"             \"den_snpad\"         \"den\"              \n",
       " [7] \"den4\"              \"den8\"              \"mez2_snpad\"       \n",
       "[10] \"mez2\"              \"S_BedouinB-1\"      \"S_Burmese-1\"      \n",
       "[13] \"S_Dai-2\"           \"S_Dinka-1\"         \"S_Finnish-2\"      \n",
       "[16] \"S_French-1\"        \"S_Gambian-1\"       \"S_Han-2\"          \n",
       "[19] \"S_Ju_hoan_North-1\" \"S_Karitiana-1\"     \"S_Mandenka-1\"     \n",
       "[22] \"S_Mbuti-1\"         \"S_Papuan-2\"        \"S_Punjabi-1\"      \n",
       "[25] \"S_Saami-2\"         \"S_Sardinian-1\"     \"S_Thai-1\"         \n",
       "[28] \"S_Turkish-1\"       \"S_Yoruba-2\"        \"shotgun_mez2\"     \n",
       "[31] \"shotgun_spy1\"      \"spy1\"              \"ustishim\"         "
      ]
     },
     "metadata": {},
     "output_type": "display_data"
    }
   ],
   "source": [
    "samples_full"
   ]
  },
  {
   "cell_type": "code",
   "execution_count": 4,
   "metadata": {},
   "outputs": [],
   "source": [
    "bed_full <- here(\"data/coord/capture_full.bed\")"
   ]
  },
  {
   "cell_type": "code",
   "execution_count": 5,
   "metadata": {},
   "outputs": [],
   "source": [
    "capture_full <- import.bed(bed_full)"
   ]
  },
  {
   "cell_type": "code",
   "execution_count": 6,
   "metadata": {},
   "outputs": [
    {
     "data": {
      "text/html": [
       "6913053"
      ],
      "text/latex": [
       "6913053"
      ],
      "text/markdown": [
       "6913053"
      ],
      "text/plain": [
       "[1] 6913053"
      ]
     },
     "metadata": {},
     "output_type": "display_data"
    }
   ],
   "source": [
    "sum(width(capture_full))"
   ]
  },
  {
   "cell_type": "code",
   "execution_count": 7,
   "metadata": {},
   "outputs": [],
   "source": [
    "full_counts <- future_map_dfr(samples_full, function(ind) {\n",
    "    gt_all <- read_vcf(here(glue(\"data/vcf/full_{ind}.vcf.gz\")), mindp = 3, maxdp = 0.98, bed_filter = bed_full)\n",
    "    gt_nodmg <- read_vcf(here(glue(\"data/vcf/full_{ind}.vcf.gz\")), mindp = 3, maxdp = 0.98, nodmg = T, bed_filter = bed_full)\n",
    "\n",
    "    tibble(\n",
    "        individual = ind,\n",
    "        total = sum(width(capture_full)),\n",
    "        all = nrow(gt_all),\n",
    "        all_prop = all / total,\n",
    "        nodmg = nrow(gt_nodmg),\n",
    "        nodmg_prop = nodmg / total\n",
    "    )\n",
    "})"
   ]
  },
  {
   "cell_type": "code",
   "execution_count": 8,
   "metadata": {},
   "outputs": [
    {
     "data": {
      "text/html": [
       "<table>\n",
       "<caption>A tibble: 28 × 5</caption>\n",
       "<thead>\n",
       "\t<tr><th scope=col>name</th><th scope=col>all</th><th scope=col>all_prop</th><th scope=col>nodmg</th><th scope=col>nodmg_prop</th></tr>\n",
       "\t<tr><th scope=col>&lt;chr&gt;</th><th scope=col>&lt;int&gt;</th><th scope=col>&lt;chr&gt;</th><th scope=col>&lt;int&gt;</th><th scope=col>&lt;chr&gt;</th></tr>\n",
       "</thead>\n",
       "<tbody>\n",
       "\t<tr><td>Spy 94a (shotgun)      </td><td>2664973</td><td>38.55%</td><td>2636589</td><td>38.14%</td></tr>\n",
       "\t<tr><td>Spy 94a                </td><td>3502527</td><td>50.67%</td><td>3470817</td><td>50.21%</td></tr>\n",
       "\t<tr><td>Mezmaiskaya 2 (shotgun)</td><td>3822247</td><td>55.29%</td><td>3762906</td><td>54.43%</td></tr>\n",
       "\t<tr><td>Denisova 4             </td><td>4731419</td><td>68.44%</td><td>4705977</td><td>68.07%</td></tr>\n",
       "\t<tr><td>Denisova 8             </td><td>5851442</td><td>84.64%</td><td>5828466</td><td>84.31%</td></tr>\n",
       "\t<tr><td>Mezmaiskaya 2          </td><td>6349143</td><td>91.84%</td><td>6346879</td><td>91.81%</td></tr>\n",
       "\t<tr><td>Mezmaiskaya 2 (snpAD)  </td><td>6670132</td><td>96.49%</td><td>6667661</td><td>96.45%</td></tr>\n",
       "\t<tr><td>A00                    </td><td>6873362</td><td>99.43%</td><td>6872468</td><td>99.41%</td></tr>\n",
       "\t<tr><td>Ust'-Ishim             </td><td>6888333</td><td>99.64%</td><td>6888248</td><td>99.64%</td></tr>\n",
       "\t<tr><td>S_Yoruba-2             </td><td>6897403</td><td>99.77%</td><td>6897122</td><td>99.77%</td></tr>\n",
       "\t<tr><td>S_Mandenka-1           </td><td>6898460</td><td>99.79%</td><td>6898177</td><td>99.78%</td></tr>\n",
       "\t<tr><td>S_Mbuti-1              </td><td>6898994</td><td>99.80%</td><td>6898700</td><td>99.79%</td></tr>\n",
       "\t<tr><td>S_Gambian-1            </td><td>6899495</td><td>99.80%</td><td>6899214</td><td>99.80%</td></tr>\n",
       "\t<tr><td>S_Papuan-2             </td><td>6904693</td><td>99.88%</td><td>6904508</td><td>99.88%</td></tr>\n",
       "\t<tr><td>S_Thai-1               </td><td>6905325</td><td>99.89%</td><td>6905148</td><td>99.89%</td></tr>\n",
       "\t<tr><td>S_BedouinB-1           </td><td>6905334</td><td>99.89%</td><td>6905123</td><td>99.89%</td></tr>\n",
       "\t<tr><td>S_Saami-2              </td><td>6905592</td><td>99.89%</td><td>6905403</td><td>99.89%</td></tr>\n",
       "\t<tr><td>S_Sardinian-1          </td><td>6905861</td><td>99.90%</td><td>6905655</td><td>99.89%</td></tr>\n",
       "\t<tr><td>S_Ju_hoan_North-1      </td><td>6906526</td><td>99.91%</td><td>6906170</td><td>99.90%</td></tr>\n",
       "\t<tr><td>S_Karitiana-1          </td><td>6906711</td><td>99.91%</td><td>6906560</td><td>99.91%</td></tr>\n",
       "\t<tr><td>S_Dai-2                </td><td>6906717</td><td>99.91%</td><td>6906551</td><td>99.91%</td></tr>\n",
       "\t<tr><td>S_Burmese-1            </td><td>6906741</td><td>99.91%</td><td>6906563</td><td>99.91%</td></tr>\n",
       "\t<tr><td>S_Dinka-1              </td><td>6906808</td><td>99.91%</td><td>6906526</td><td>99.91%</td></tr>\n",
       "\t<tr><td>S_French-1             </td><td>6907217</td><td>99.92%</td><td>6907041</td><td>99.91%</td></tr>\n",
       "\t<tr><td>S_Punjabi-1            </td><td>6907365</td><td>99.92%</td><td>6907185</td><td>99.92%</td></tr>\n",
       "\t<tr><td>S_Finnish-2            </td><td>6907389</td><td>99.92%</td><td>6907190</td><td>99.92%</td></tr>\n",
       "\t<tr><td>S_Han-2                </td><td>6907905</td><td>99.93%</td><td>6907719</td><td>99.92%</td></tr>\n",
       "\t<tr><td>S_Turkish-1            </td><td>6908052</td><td>99.93%</td><td>6908018</td><td>99.93%</td></tr>\n",
       "</tbody>\n",
       "</table>\n"
      ],
      "text/latex": [
       "A tibble: 28 × 5\n",
       "\\begin{tabular}{r|lllll}\n",
       " name & all & all\\_prop & nodmg & nodmg\\_prop\\\\\n",
       " <chr> & <int> & <chr> & <int> & <chr>\\\\\n",
       "\\hline\n",
       "\t Spy 94a (shotgun)       & 2664973 & 38.55\\% & 2636589 & 38.14\\%\\\\\n",
       "\t Spy 94a                 & 3502527 & 50.67\\% & 3470817 & 50.21\\%\\\\\n",
       "\t Mezmaiskaya 2 (shotgun) & 3822247 & 55.29\\% & 3762906 & 54.43\\%\\\\\n",
       "\t Denisova 4              & 4731419 & 68.44\\% & 4705977 & 68.07\\%\\\\\n",
       "\t Denisova 8              & 5851442 & 84.64\\% & 5828466 & 84.31\\%\\\\\n",
       "\t Mezmaiskaya 2           & 6349143 & 91.84\\% & 6346879 & 91.81\\%\\\\\n",
       "\t Mezmaiskaya 2 (snpAD)   & 6670132 & 96.49\\% & 6667661 & 96.45\\%\\\\\n",
       "\t A00                     & 6873362 & 99.43\\% & 6872468 & 99.41\\%\\\\\n",
       "\t Ust'-Ishim              & 6888333 & 99.64\\% & 6888248 & 99.64\\%\\\\\n",
       "\t S\\_Yoruba-2              & 6897403 & 99.77\\% & 6897122 & 99.77\\%\\\\\n",
       "\t S\\_Mandenka-1            & 6898460 & 99.79\\% & 6898177 & 99.78\\%\\\\\n",
       "\t S\\_Mbuti-1               & 6898994 & 99.80\\% & 6898700 & 99.79\\%\\\\\n",
       "\t S\\_Gambian-1             & 6899495 & 99.80\\% & 6899214 & 99.80\\%\\\\\n",
       "\t S\\_Papuan-2              & 6904693 & 99.88\\% & 6904508 & 99.88\\%\\\\\n",
       "\t S\\_Thai-1                & 6905325 & 99.89\\% & 6905148 & 99.89\\%\\\\\n",
       "\t S\\_BedouinB-1            & 6905334 & 99.89\\% & 6905123 & 99.89\\%\\\\\n",
       "\t S\\_Saami-2               & 6905592 & 99.89\\% & 6905403 & 99.89\\%\\\\\n",
       "\t S\\_Sardinian-1           & 6905861 & 99.90\\% & 6905655 & 99.89\\%\\\\\n",
       "\t S\\_Ju\\_hoan\\_North-1       & 6906526 & 99.91\\% & 6906170 & 99.90\\%\\\\\n",
       "\t S\\_Karitiana-1           & 6906711 & 99.91\\% & 6906560 & 99.91\\%\\\\\n",
       "\t S\\_Dai-2                 & 6906717 & 99.91\\% & 6906551 & 99.91\\%\\\\\n",
       "\t S\\_Burmese-1             & 6906741 & 99.91\\% & 6906563 & 99.91\\%\\\\\n",
       "\t S\\_Dinka-1               & 6906808 & 99.91\\% & 6906526 & 99.91\\%\\\\\n",
       "\t S\\_French-1              & 6907217 & 99.92\\% & 6907041 & 99.91\\%\\\\\n",
       "\t S\\_Punjabi-1             & 6907365 & 99.92\\% & 6907185 & 99.92\\%\\\\\n",
       "\t S\\_Finnish-2             & 6907389 & 99.92\\% & 6907190 & 99.92\\%\\\\\n",
       "\t S\\_Han-2                 & 6907905 & 99.93\\% & 6907719 & 99.92\\%\\\\\n",
       "\t S\\_Turkish-1             & 6908052 & 99.93\\% & 6908018 & 99.93\\%\\\\\n",
       "\\end{tabular}\n"
      ],
      "text/markdown": [
       "\n",
       "A tibble: 28 × 5\n",
       "\n",
       "| name &lt;chr&gt; | all &lt;int&gt; | all_prop &lt;chr&gt; | nodmg &lt;int&gt; | nodmg_prop &lt;chr&gt; |\n",
       "|---|---|---|---|---|\n",
       "| Spy 94a (shotgun)       | 2664973 | 38.55% | 2636589 | 38.14% |\n",
       "| Spy 94a                 | 3502527 | 50.67% | 3470817 | 50.21% |\n",
       "| Mezmaiskaya 2 (shotgun) | 3822247 | 55.29% | 3762906 | 54.43% |\n",
       "| Denisova 4              | 4731419 | 68.44% | 4705977 | 68.07% |\n",
       "| Denisova 8              | 5851442 | 84.64% | 5828466 | 84.31% |\n",
       "| Mezmaiskaya 2           | 6349143 | 91.84% | 6346879 | 91.81% |\n",
       "| Mezmaiskaya 2 (snpAD)   | 6670132 | 96.49% | 6667661 | 96.45% |\n",
       "| A00                     | 6873362 | 99.43% | 6872468 | 99.41% |\n",
       "| Ust'-Ishim              | 6888333 | 99.64% | 6888248 | 99.64% |\n",
       "| S_Yoruba-2              | 6897403 | 99.77% | 6897122 | 99.77% |\n",
       "| S_Mandenka-1            | 6898460 | 99.79% | 6898177 | 99.78% |\n",
       "| S_Mbuti-1               | 6898994 | 99.80% | 6898700 | 99.79% |\n",
       "| S_Gambian-1             | 6899495 | 99.80% | 6899214 | 99.80% |\n",
       "| S_Papuan-2              | 6904693 | 99.88% | 6904508 | 99.88% |\n",
       "| S_Thai-1                | 6905325 | 99.89% | 6905148 | 99.89% |\n",
       "| S_BedouinB-1            | 6905334 | 99.89% | 6905123 | 99.89% |\n",
       "| S_Saami-2               | 6905592 | 99.89% | 6905403 | 99.89% |\n",
       "| S_Sardinian-1           | 6905861 | 99.90% | 6905655 | 99.89% |\n",
       "| S_Ju_hoan_North-1       | 6906526 | 99.91% | 6906170 | 99.90% |\n",
       "| S_Karitiana-1           | 6906711 | 99.91% | 6906560 | 99.91% |\n",
       "| S_Dai-2                 | 6906717 | 99.91% | 6906551 | 99.91% |\n",
       "| S_Burmese-1             | 6906741 | 99.91% | 6906563 | 99.91% |\n",
       "| S_Dinka-1               | 6906808 | 99.91% | 6906526 | 99.91% |\n",
       "| S_French-1              | 6907217 | 99.92% | 6907041 | 99.91% |\n",
       "| S_Punjabi-1             | 6907365 | 99.92% | 6907185 | 99.92% |\n",
       "| S_Finnish-2             | 6907389 | 99.92% | 6907190 | 99.92% |\n",
       "| S_Han-2                 | 6907905 | 99.93% | 6907719 | 99.92% |\n",
       "| S_Turkish-1             | 6908052 | 99.93% | 6908018 | 99.93% |\n",
       "\n"
      ],
      "text/plain": [
       "   name                    all     all_prop nodmg   nodmg_prop\n",
       "1  Spy 94a (shotgun)       2664973 38.55%   2636589 38.14%    \n",
       "2  Spy 94a                 3502527 50.67%   3470817 50.21%    \n",
       "3  Mezmaiskaya 2 (shotgun) 3822247 55.29%   3762906 54.43%    \n",
       "4  Denisova 4              4731419 68.44%   4705977 68.07%    \n",
       "5  Denisova 8              5851442 84.64%   5828466 84.31%    \n",
       "6  Mezmaiskaya 2           6349143 91.84%   6346879 91.81%    \n",
       "7  Mezmaiskaya 2 (snpAD)   6670132 96.49%   6667661 96.45%    \n",
       "8  A00                     6873362 99.43%   6872468 99.41%    \n",
       "9  Ust'-Ishim              6888333 99.64%   6888248 99.64%    \n",
       "10 S_Yoruba-2              6897403 99.77%   6897122 99.77%    \n",
       "11 S_Mandenka-1            6898460 99.79%   6898177 99.78%    \n",
       "12 S_Mbuti-1               6898994 99.80%   6898700 99.79%    \n",
       "13 S_Gambian-1             6899495 99.80%   6899214 99.80%    \n",
       "14 S_Papuan-2              6904693 99.88%   6904508 99.88%    \n",
       "15 S_Thai-1                6905325 99.89%   6905148 99.89%    \n",
       "16 S_BedouinB-1            6905334 99.89%   6905123 99.89%    \n",
       "17 S_Saami-2               6905592 99.89%   6905403 99.89%    \n",
       "18 S_Sardinian-1           6905861 99.90%   6905655 99.89%    \n",
       "19 S_Ju_hoan_North-1       6906526 99.91%   6906170 99.90%    \n",
       "20 S_Karitiana-1           6906711 99.91%   6906560 99.91%    \n",
       "21 S_Dai-2                 6906717 99.91%   6906551 99.91%    \n",
       "22 S_Burmese-1             6906741 99.91%   6906563 99.91%    \n",
       "23 S_Dinka-1               6906808 99.91%   6906526 99.91%    \n",
       "24 S_French-1              6907217 99.92%   6907041 99.91%    \n",
       "25 S_Punjabi-1             6907365 99.92%   6907185 99.92%    \n",
       "26 S_Finnish-2             6907389 99.92%   6907190 99.92%    \n",
       "27 S_Han-2                 6907905 99.93%   6907719 99.92%    \n",
       "28 S_Turkish-1             6908052 99.93%   6908018 99.93%    "
      ]
     },
     "metadata": {},
     "output_type": "display_data"
    }
   ],
   "source": [
    "full_counts %>%\n",
    "    arrange(all) %>%\n",
    "    mutate_at(vars(contains(\"prop\")), ~ sprintf(\"%.2f%%\", 100 * .)) %>%\n",
    "    select(-total) %>%\n",
    "    filter(!individual %in% c(\"den\", \"den_snpad\", \"a00_1\", \"a00_2\", \"chimp\")) %>%\n",
    "    mutate(name = fix_name(individual)) %>%\n",
    "    select(name, everything(), -individual)"
   ]
  },
  {
   "cell_type": "markdown",
   "metadata": {},
   "source": [
    "# 560 kb capture of regions from Lippold et al."
   ]
  },
  {
   "cell_type": "code",
   "execution_count": 9,
   "metadata": {},
   "outputs": [],
   "source": [
    "samples_lippold <- list.files(here(\"data/vcf\"), \"lippold_.*.vcf.gz$\") %>%\n",
    "    str_subset(\"mez2_dp|modern|merged\", negate = T) %>%\n",
    "    str_replace(\"lippold_(.*).vcf.gz\", \"\\\\1\")"
   ]
  },
  {
   "cell_type": "code",
   "execution_count": 10,
   "metadata": {},
   "outputs": [
    {
     "data": {
      "text/html": [
       "<ol class=list-inline>\n",
       "\t<li>'a00_1'</li>\n",
       "\t<li>'a00_2'</li>\n",
       "\t<li>'a00'</li>\n",
       "\t<li>'chimp'</li>\n",
       "\t<li>'den4'</li>\n",
       "\t<li>'den8'</li>\n",
       "\t<li>'elsidron2'</li>\n",
       "\t<li>'mez2'</li>\n",
       "\t<li>'S_BedouinB-1'</li>\n",
       "\t<li>'S_Burmese-1'</li>\n",
       "\t<li>'S_Dai-2'</li>\n",
       "\t<li>'S_Dinka-1'</li>\n",
       "\t<li>'S_Finnish-2'</li>\n",
       "\t<li>'S_French-1'</li>\n",
       "\t<li>'S_Gambian-1'</li>\n",
       "\t<li>'S_Han-2'</li>\n",
       "\t<li>'S_Ju_hoan_North-1'</li>\n",
       "\t<li>'S_Karitiana-1'</li>\n",
       "\t<li>'S_Mandenka-1'</li>\n",
       "\t<li>'S_Mbuti-1'</li>\n",
       "\t<li>'S_Papuan-2'</li>\n",
       "\t<li>'S_Punjabi-1'</li>\n",
       "\t<li>'S_Saami-2'</li>\n",
       "\t<li>'S_Sardinian-1'</li>\n",
       "\t<li>'S_Thai-1'</li>\n",
       "\t<li>'S_Turkish-1'</li>\n",
       "\t<li>'S_Yoruba-2'</li>\n",
       "\t<li>'spy1'</li>\n",
       "\t<li>'ustishim'</li>\n",
       "</ol>\n"
      ],
      "text/latex": [
       "\\begin{enumerate*}\n",
       "\\item 'a00\\_1'\n",
       "\\item 'a00\\_2'\n",
       "\\item 'a00'\n",
       "\\item 'chimp'\n",
       "\\item 'den4'\n",
       "\\item 'den8'\n",
       "\\item 'elsidron2'\n",
       "\\item 'mez2'\n",
       "\\item 'S\\_BedouinB-1'\n",
       "\\item 'S\\_Burmese-1'\n",
       "\\item 'S\\_Dai-2'\n",
       "\\item 'S\\_Dinka-1'\n",
       "\\item 'S\\_Finnish-2'\n",
       "\\item 'S\\_French-1'\n",
       "\\item 'S\\_Gambian-1'\n",
       "\\item 'S\\_Han-2'\n",
       "\\item 'S\\_Ju\\_hoan\\_North-1'\n",
       "\\item 'S\\_Karitiana-1'\n",
       "\\item 'S\\_Mandenka-1'\n",
       "\\item 'S\\_Mbuti-1'\n",
       "\\item 'S\\_Papuan-2'\n",
       "\\item 'S\\_Punjabi-1'\n",
       "\\item 'S\\_Saami-2'\n",
       "\\item 'S\\_Sardinian-1'\n",
       "\\item 'S\\_Thai-1'\n",
       "\\item 'S\\_Turkish-1'\n",
       "\\item 'S\\_Yoruba-2'\n",
       "\\item 'spy1'\n",
       "\\item 'ustishim'\n",
       "\\end{enumerate*}\n"
      ],
      "text/markdown": [
       "1. 'a00_1'\n",
       "2. 'a00_2'\n",
       "3. 'a00'\n",
       "4. 'chimp'\n",
       "5. 'den4'\n",
       "6. 'den8'\n",
       "7. 'elsidron2'\n",
       "8. 'mez2'\n",
       "9. 'S_BedouinB-1'\n",
       "10. 'S_Burmese-1'\n",
       "11. 'S_Dai-2'\n",
       "12. 'S_Dinka-1'\n",
       "13. 'S_Finnish-2'\n",
       "14. 'S_French-1'\n",
       "15. 'S_Gambian-1'\n",
       "16. 'S_Han-2'\n",
       "17. 'S_Ju_hoan_North-1'\n",
       "18. 'S_Karitiana-1'\n",
       "19. 'S_Mandenka-1'\n",
       "20. 'S_Mbuti-1'\n",
       "21. 'S_Papuan-2'\n",
       "22. 'S_Punjabi-1'\n",
       "23. 'S_Saami-2'\n",
       "24. 'S_Sardinian-1'\n",
       "25. 'S_Thai-1'\n",
       "26. 'S_Turkish-1'\n",
       "27. 'S_Yoruba-2'\n",
       "28. 'spy1'\n",
       "29. 'ustishim'\n",
       "\n",
       "\n"
      ],
      "text/plain": [
       " [1] \"a00_1\"             \"a00_2\"             \"a00\"              \n",
       " [4] \"chimp\"             \"den4\"              \"den8\"             \n",
       " [7] \"elsidron2\"         \"mez2\"              \"S_BedouinB-1\"     \n",
       "[10] \"S_Burmese-1\"       \"S_Dai-2\"           \"S_Dinka-1\"        \n",
       "[13] \"S_Finnish-2\"       \"S_French-1\"        \"S_Gambian-1\"      \n",
       "[16] \"S_Han-2\"           \"S_Ju_hoan_North-1\" \"S_Karitiana-1\"    \n",
       "[19] \"S_Mandenka-1\"      \"S_Mbuti-1\"         \"S_Papuan-2\"       \n",
       "[22] \"S_Punjabi-1\"       \"S_Saami-2\"         \"S_Sardinian-1\"    \n",
       "[25] \"S_Thai-1\"          \"S_Turkish-1\"       \"S_Yoruba-2\"       \n",
       "[28] \"spy1\"              \"ustishim\"         "
      ]
     },
     "metadata": {},
     "output_type": "display_data"
    }
   ],
   "source": [
    "samples_lippold"
   ]
  },
  {
   "cell_type": "code",
   "execution_count": 11,
   "metadata": {},
   "outputs": [],
   "source": [
    "bed_lippold <- here(\"data/coord/capture_lippold.bed\")"
   ]
  },
  {
   "cell_type": "code",
   "execution_count": 12,
   "metadata": {},
   "outputs": [],
   "source": [
    "capture_lippold <- import.bed(bed_lippold)"
   ]
  },
  {
   "cell_type": "code",
   "execution_count": 13,
   "metadata": {},
   "outputs": [
    {
     "data": {
      "text/html": [
       "556259"
      ],
      "text/latex": [
       "556259"
      ],
      "text/markdown": [
       "556259"
      ],
      "text/plain": [
       "[1] 556259"
      ]
     },
     "metadata": {},
     "output_type": "display_data"
    }
   ],
   "source": [
    "sum(width(capture_lippold))"
   ]
  },
  {
   "cell_type": "code",
   "execution_count": 14,
   "metadata": {},
   "outputs": [],
   "source": [
    "counts_lippold <- future_map_dfr(samples_lippold, function(ind) {\n",
    "    gt_all <- read_vcf(here(glue(\"data/vcf/lippold_{ind}.vcf.gz\")), mindp = 3, maxdp = 0.98, bed_filter = bed_lippold)\n",
    "    gt_nodmg <- read_vcf(here(glue(\"data/vcf/lippold_{ind}.vcf.gz\")), mindp = 3, maxdp = 0.98, nodmg = T, bed_filter = bed_lippold)\n",
    "\n",
    "    tibble(\n",
    "        individual = ind,\n",
    "        total = sum(width(capture_lippold)),\n",
    "        all = nrow(gt_all),\n",
    "        all_prop = all / total,\n",
    "        nodmg = nrow(gt_nodmg),\n",
    "        nodmg_prop = nodmg / total\n",
    "    )\n",
    "})"
   ]
  },
  {
   "cell_type": "code",
   "execution_count": 15,
   "metadata": {},
   "outputs": [
    {
     "data": {
      "text/html": [
       "<table>\n",
       "<caption>A tibble: 26 × 5</caption>\n",
       "<thead>\n",
       "\t<tr><th scope=col>name</th><th scope=col>all</th><th scope=col>all_prop</th><th scope=col>nodmg</th><th scope=col>nodmg_prop</th></tr>\n",
       "\t<tr><th scope=col>&lt;chr&gt;</th><th scope=col>&lt;int&gt;</th><th scope=col>&lt;chr&gt;</th><th scope=col>&lt;int&gt;</th><th scope=col>&lt;chr&gt;</th></tr>\n",
       "</thead>\n",
       "<tbody>\n",
       "\t<tr><td>Spy 94a                </td><td>275626</td><td>49.55%</td><td>272798</td><td>49.04%</td></tr>\n",
       "\t<tr><td>Denisova 4             </td><td>408775</td><td>73.49%</td><td>406508</td><td>73.08%</td></tr>\n",
       "\t<tr><td>Denisova 8             </td><td>484377</td><td>87.08%</td><td>482608</td><td>86.76%</td></tr>\n",
       "\t<tr><td>Mezmaiskaya 2          </td><td>509145</td><td>91.53%</td><td>508962</td><td>91.50%</td></tr>\n",
       "\t<tr><td>El Sidrón 1253 (560 kb)</td><td>530172</td><td>95.31%</td><td>530046</td><td>95.29%</td></tr>\n",
       "\t<tr><td>S_Yoruba-2             </td><td>553203</td><td>99.45%</td><td>553112</td><td>99.43%</td></tr>\n",
       "\t<tr><td>S_Mandenka-1           </td><td>553348</td><td>99.48%</td><td>553257</td><td>99.46%</td></tr>\n",
       "\t<tr><td>S_Gambian-1            </td><td>553365</td><td>99.48%</td><td>553275</td><td>99.46%</td></tr>\n",
       "\t<tr><td>S_Mbuti-1              </td><td>553381</td><td>99.48%</td><td>553288</td><td>99.47%</td></tr>\n",
       "\t<tr><td>A00                    </td><td>553618</td><td>99.53%</td><td>553517</td><td>99.51%</td></tr>\n",
       "\t<tr><td>Ust'-Ishim             </td><td>554575</td><td>99.70%</td><td>554550</td><td>99.69%</td></tr>\n",
       "\t<tr><td>S_Thai-1               </td><td>555830</td><td>99.92%</td><td>555787</td><td>99.92%</td></tr>\n",
       "\t<tr><td>S_Dinka-1              </td><td>555842</td><td>99.93%</td><td>555785</td><td>99.91%</td></tr>\n",
       "\t<tr><td>S_BedouinB-1           </td><td>555850</td><td>99.93%</td><td>555806</td><td>99.92%</td></tr>\n",
       "\t<tr><td>S_Sardinian-1          </td><td>555855</td><td>99.93%</td><td>555813</td><td>99.92%</td></tr>\n",
       "\t<tr><td>S_Burmese-1            </td><td>555862</td><td>99.93%</td><td>555818</td><td>99.92%</td></tr>\n",
       "\t<tr><td>S_Dai-2                </td><td>555864</td><td>99.93%</td><td>555819</td><td>99.92%</td></tr>\n",
       "\t<tr><td>S_Ju_hoan_North-1      </td><td>555870</td><td>99.93%</td><td>555818</td><td>99.92%</td></tr>\n",
       "\t<tr><td>S_Karitiana-1          </td><td>555876</td><td>99.93%</td><td>555848</td><td>99.93%</td></tr>\n",
       "\t<tr><td>S_Saami-2              </td><td>555927</td><td>99.94%</td><td>555891</td><td>99.93%</td></tr>\n",
       "\t<tr><td>S_French-1             </td><td>555942</td><td>99.94%</td><td>555902</td><td>99.94%</td></tr>\n",
       "\t<tr><td>S_Finnish-2            </td><td>555945</td><td>99.94%</td><td>555906</td><td>99.94%</td></tr>\n",
       "\t<tr><td>S_Papuan-2             </td><td>555951</td><td>99.94%</td><td>555918</td><td>99.94%</td></tr>\n",
       "\t<tr><td>S_Punjabi-1            </td><td>555958</td><td>99.95%</td><td>555920</td><td>99.94%</td></tr>\n",
       "\t<tr><td>S_Turkish-1            </td><td>555971</td><td>99.95%</td><td>555966</td><td>99.95%</td></tr>\n",
       "\t<tr><td>S_Han-2                </td><td>556022</td><td>99.96%</td><td>555978</td><td>99.95%</td></tr>\n",
       "</tbody>\n",
       "</table>\n"
      ],
      "text/latex": [
       "A tibble: 26 × 5\n",
       "\\begin{tabular}{r|lllll}\n",
       " name & all & all\\_prop & nodmg & nodmg\\_prop\\\\\n",
       " <chr> & <int> & <chr> & <int> & <chr>\\\\\n",
       "\\hline\n",
       "\t Spy 94a                 & 275626 & 49.55\\% & 272798 & 49.04\\%\\\\\n",
       "\t Denisova 4              & 408775 & 73.49\\% & 406508 & 73.08\\%\\\\\n",
       "\t Denisova 8              & 484377 & 87.08\\% & 482608 & 86.76\\%\\\\\n",
       "\t Mezmaiskaya 2           & 509145 & 91.53\\% & 508962 & 91.50\\%\\\\\n",
       "\t El Sidrón 1253 (560 kb) & 530172 & 95.31\\% & 530046 & 95.29\\%\\\\\n",
       "\t S\\_Yoruba-2              & 553203 & 99.45\\% & 553112 & 99.43\\%\\\\\n",
       "\t S\\_Mandenka-1            & 553348 & 99.48\\% & 553257 & 99.46\\%\\\\\n",
       "\t S\\_Gambian-1             & 553365 & 99.48\\% & 553275 & 99.46\\%\\\\\n",
       "\t S\\_Mbuti-1               & 553381 & 99.48\\% & 553288 & 99.47\\%\\\\\n",
       "\t A00                     & 553618 & 99.53\\% & 553517 & 99.51\\%\\\\\n",
       "\t Ust'-Ishim              & 554575 & 99.70\\% & 554550 & 99.69\\%\\\\\n",
       "\t S\\_Thai-1                & 555830 & 99.92\\% & 555787 & 99.92\\%\\\\\n",
       "\t S\\_Dinka-1               & 555842 & 99.93\\% & 555785 & 99.91\\%\\\\\n",
       "\t S\\_BedouinB-1            & 555850 & 99.93\\% & 555806 & 99.92\\%\\\\\n",
       "\t S\\_Sardinian-1           & 555855 & 99.93\\% & 555813 & 99.92\\%\\\\\n",
       "\t S\\_Burmese-1             & 555862 & 99.93\\% & 555818 & 99.92\\%\\\\\n",
       "\t S\\_Dai-2                 & 555864 & 99.93\\% & 555819 & 99.92\\%\\\\\n",
       "\t S\\_Ju\\_hoan\\_North-1       & 555870 & 99.93\\% & 555818 & 99.92\\%\\\\\n",
       "\t S\\_Karitiana-1           & 555876 & 99.93\\% & 555848 & 99.93\\%\\\\\n",
       "\t S\\_Saami-2               & 555927 & 99.94\\% & 555891 & 99.93\\%\\\\\n",
       "\t S\\_French-1              & 555942 & 99.94\\% & 555902 & 99.94\\%\\\\\n",
       "\t S\\_Finnish-2             & 555945 & 99.94\\% & 555906 & 99.94\\%\\\\\n",
       "\t S\\_Papuan-2              & 555951 & 99.94\\% & 555918 & 99.94\\%\\\\\n",
       "\t S\\_Punjabi-1             & 555958 & 99.95\\% & 555920 & 99.94\\%\\\\\n",
       "\t S\\_Turkish-1             & 555971 & 99.95\\% & 555966 & 99.95\\%\\\\\n",
       "\t S\\_Han-2                 & 556022 & 99.96\\% & 555978 & 99.95\\%\\\\\n",
       "\\end{tabular}\n"
      ],
      "text/markdown": [
       "\n",
       "A tibble: 26 × 5\n",
       "\n",
       "| name &lt;chr&gt; | all &lt;int&gt; | all_prop &lt;chr&gt; | nodmg &lt;int&gt; | nodmg_prop &lt;chr&gt; |\n",
       "|---|---|---|---|---|\n",
       "| Spy 94a                 | 275626 | 49.55% | 272798 | 49.04% |\n",
       "| Denisova 4              | 408775 | 73.49% | 406508 | 73.08% |\n",
       "| Denisova 8              | 484377 | 87.08% | 482608 | 86.76% |\n",
       "| Mezmaiskaya 2           | 509145 | 91.53% | 508962 | 91.50% |\n",
       "| El Sidrón 1253 (560 kb) | 530172 | 95.31% | 530046 | 95.29% |\n",
       "| S_Yoruba-2              | 553203 | 99.45% | 553112 | 99.43% |\n",
       "| S_Mandenka-1            | 553348 | 99.48% | 553257 | 99.46% |\n",
       "| S_Gambian-1             | 553365 | 99.48% | 553275 | 99.46% |\n",
       "| S_Mbuti-1               | 553381 | 99.48% | 553288 | 99.47% |\n",
       "| A00                     | 553618 | 99.53% | 553517 | 99.51% |\n",
       "| Ust'-Ishim              | 554575 | 99.70% | 554550 | 99.69% |\n",
       "| S_Thai-1                | 555830 | 99.92% | 555787 | 99.92% |\n",
       "| S_Dinka-1               | 555842 | 99.93% | 555785 | 99.91% |\n",
       "| S_BedouinB-1            | 555850 | 99.93% | 555806 | 99.92% |\n",
       "| S_Sardinian-1           | 555855 | 99.93% | 555813 | 99.92% |\n",
       "| S_Burmese-1             | 555862 | 99.93% | 555818 | 99.92% |\n",
       "| S_Dai-2                 | 555864 | 99.93% | 555819 | 99.92% |\n",
       "| S_Ju_hoan_North-1       | 555870 | 99.93% | 555818 | 99.92% |\n",
       "| S_Karitiana-1           | 555876 | 99.93% | 555848 | 99.93% |\n",
       "| S_Saami-2               | 555927 | 99.94% | 555891 | 99.93% |\n",
       "| S_French-1              | 555942 | 99.94% | 555902 | 99.94% |\n",
       "| S_Finnish-2             | 555945 | 99.94% | 555906 | 99.94% |\n",
       "| S_Papuan-2              | 555951 | 99.94% | 555918 | 99.94% |\n",
       "| S_Punjabi-1             | 555958 | 99.95% | 555920 | 99.94% |\n",
       "| S_Turkish-1             | 555971 | 99.95% | 555966 | 99.95% |\n",
       "| S_Han-2                 | 556022 | 99.96% | 555978 | 99.95% |\n",
       "\n"
      ],
      "text/plain": [
       "   name                    all    all_prop nodmg  nodmg_prop\n",
       "1  Spy 94a                 275626 49.55%   272798 49.04%    \n",
       "2  Denisova 4              408775 73.49%   406508 73.08%    \n",
       "3  Denisova 8              484377 87.08%   482608 86.76%    \n",
       "4  Mezmaiskaya 2           509145 91.53%   508962 91.50%    \n",
       "5  El Sidrón 1253 (560 kb) 530172 95.31%   530046 95.29%    \n",
       "6  S_Yoruba-2              553203 99.45%   553112 99.43%    \n",
       "7  S_Mandenka-1            553348 99.48%   553257 99.46%    \n",
       "8  S_Gambian-1             553365 99.48%   553275 99.46%    \n",
       "9  S_Mbuti-1               553381 99.48%   553288 99.47%    \n",
       "10 A00                     553618 99.53%   553517 99.51%    \n",
       "11 Ust'-Ishim              554575 99.70%   554550 99.69%    \n",
       "12 S_Thai-1                555830 99.92%   555787 99.92%    \n",
       "13 S_Dinka-1               555842 99.93%   555785 99.91%    \n",
       "14 S_BedouinB-1            555850 99.93%   555806 99.92%    \n",
       "15 S_Sardinian-1           555855 99.93%   555813 99.92%    \n",
       "16 S_Burmese-1             555862 99.93%   555818 99.92%    \n",
       "17 S_Dai-2                 555864 99.93%   555819 99.92%    \n",
       "18 S_Ju_hoan_North-1       555870 99.93%   555818 99.92%    \n",
       "19 S_Karitiana-1           555876 99.93%   555848 99.93%    \n",
       "20 S_Saami-2               555927 99.94%   555891 99.93%    \n",
       "21 S_French-1              555942 99.94%   555902 99.94%    \n",
       "22 S_Finnish-2             555945 99.94%   555906 99.94%    \n",
       "23 S_Papuan-2              555951 99.94%   555918 99.94%    \n",
       "24 S_Punjabi-1             555958 99.95%   555920 99.94%    \n",
       "25 S_Turkish-1             555971 99.95%   555966 99.95%    \n",
       "26 S_Han-2                 556022 99.96%   555978 99.95%    "
      ]
     },
     "metadata": {},
     "output_type": "display_data"
    }
   ],
   "source": [
    "counts_lippold %>%\n",
    "    arrange(all) %>%\n",
    "    mutate_at(vars(contains(\"prop\")), ~ sprintf(\"%.2f%%\", 100 * .)) %>%\n",
    "    select(-total) %>%\n",
    "    filter(!individual %in% c(\"den\", \"den_snpad\", \"mez2_snpad\", \"a00_1\", \"a00_2\", \"chimp\")) %>%\n",
    "    mutate(name = fix_name(individual)) %>%\n",
    "    select(name, everything(), -individual)"
   ]
  }
 ],
 "metadata": {
  "kernelspec": {
   "display_name": "R",
   "language": "R",
   "name": "ir"
  }
 },
 "nbformat": 4,
 "nbformat_minor": 2
}
