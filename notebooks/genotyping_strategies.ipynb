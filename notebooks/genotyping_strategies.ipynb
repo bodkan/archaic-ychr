{
 "cells": [
  {
   "cell_type": "markdown",
   "metadata": {},
   "source": [
    "# Comparing various genotyping strategies"
   ]
  },
  {
   "cell_type": "code",
   "execution_count": 1,
   "metadata": {},
   "outputs": [
    {
     "name": "stderr",
     "output_type": "stream",
     "text": [
      "── \u001b[1mAttaching packages\u001b[22m ─────────────────────────────────────── tidyverse 1.2.1 ──\n",
      "\u001b[32m✔\u001b[39m \u001b[34mggplot2\u001b[39m 3.2.1     \u001b[32m✔\u001b[39m \u001b[34mpurrr  \u001b[39m 0.3.2\n",
      "\u001b[32m✔\u001b[39m \u001b[34mtibble \u001b[39m 2.1.3     \u001b[32m✔\u001b[39m \u001b[34mdplyr  \u001b[39m 0.8.3\n",
      "\u001b[32m✔\u001b[39m \u001b[34mtidyr  \u001b[39m 1.0.0     \u001b[32m✔\u001b[39m \u001b[34mstringr\u001b[39m 1.4.0\n",
      "\u001b[32m✔\u001b[39m \u001b[34mreadr  \u001b[39m 1.3.1     \u001b[32m✔\u001b[39m \u001b[34mforcats\u001b[39m 0.4.0\n",
      "── \u001b[1mConflicts\u001b[22m ────────────────────────────────────────── tidyverse_conflicts() ──\n",
      "\u001b[31m✖\u001b[39m \u001b[34mdplyr\u001b[39m::\u001b[32mfilter()\u001b[39m masks \u001b[34mstats\u001b[39m::filter()\n",
      "\u001b[31m✖\u001b[39m \u001b[34mdplyr\u001b[39m::\u001b[32mlag()\u001b[39m    masks \u001b[34mstats\u001b[39m::lag()\n",
      "here() starts at /mnt/expressions/mp/archaic-ychr\n",
      "Loading ychr\n"
     ]
    }
   ],
   "source": [
    "library(tidyverse)\n",
    "library(here)\n",
    "\n",
    "devtools::load_all(\".\")"
   ]
  },
  {
   "cell_type": "markdown",
   "metadata": {},
   "source": [
    "# A00"
   ]
  },
  {
   "cell_type": "markdown",
   "metadata": {},
   "source": [
    "We can clearly see that the strict consensus produces the smalles number of genotypes. The fact that the difference is fairly small is because the rate of sequencing errors is expected to be relatively low. However, the consensus-vs-tolerance difference is much more extreme for the ancient Y chromosomes below due to significant proportion of false aDNA damage alleles in many of the reads."
   ]
  },
  {
   "cell_type": "code",
   "execution_count": 2,
   "metadata": {},
   "outputs": [
    {
     "data": {
      "text/html": [
       "6909242"
      ],
      "text/latex": [
       "6909242"
      ],
      "text/markdown": [
       "6909242"
      ],
      "text/plain": [
       "[1] 6909242"
      ]
     },
     "metadata": {},
     "output_type": "display_data"
    }
   ],
   "source": [
    "read_vcf(here(\"test/a00_baq.vcf.gz\"), mindp = 3, maxdp = 0.98) %>% nrow"
   ]
  },
  {
   "cell_type": "code",
   "execution_count": 3,
   "metadata": {},
   "outputs": [
    {
     "data": {
      "text/html": [
       "6909242"
      ],
      "text/latex": [
       "6909242"
      ],
      "text/markdown": [
       "6909242"
      ],
      "text/plain": [
       "[1] 6909242"
      ]
     },
     "metadata": {},
     "output_type": "display_data"
    }
   ],
   "source": [
    "read_vcf(here(\"test/a00_nobaq.vcf.gz\"), mindp = 3, maxdp = 0.98) %>% nrow"
   ]
  },
  {
   "cell_type": "code",
   "execution_count": 4,
   "metadata": {},
   "outputs": [
    {
     "data": {
      "text/html": [
       "6789749"
      ],
      "text/latex": [
       "6789749"
      ],
      "text/markdown": [
       "6789749"
      ],
      "text/plain": [
       "[1] 6789749"
      ]
     },
     "metadata": {},
     "output_type": "display_data"
    }
   ],
   "source": [
    "read_vcf(here(\"test/a00_consensus.vcf.gz\"), mindp = 3, maxdp = 0.98) %>% nrow"
   ]
  },
  {
   "cell_type": "code",
   "execution_count": 5,
   "metadata": {},
   "outputs": [
    {
     "data": {
      "text/html": [
       "6873078"
      ],
      "text/latex": [
       "6873078"
      ],
      "text/markdown": [
       "6873078"
      ],
      "text/plain": [
       "[1] 6873078"
      ]
     },
     "metadata": {},
     "output_type": "display_data"
    }
   ],
   "source": [
    "read_vcf(here(\"test/a00_tolerance.vcf.gz\"), mindp = 3, maxdp = 0.98) %>% nrow"
   ]
  },
  {
   "cell_type": "code",
   "execution_count": 6,
   "metadata": {},
   "outputs": [],
   "source": [
    "a00 <- read_vcf(here(\"test/genotyping_a00.vcf.gz\"), mindp = 3, maxdp = 0.98) %>%\n",
    "    filter(!is.na(baq) | !is.na(nobaq) | !is.na(cons) | !is.na(tol))"
   ]
  },
  {
   "cell_type": "code",
   "execution_count": 7,
   "metadata": {},
   "outputs": [
    {
     "data": {
      "text/html": [
       "6777849"
      ],
      "text/latex": [
       "6777849"
      ],
      "text/markdown": [
       "6777849"
      ],
      "text/plain": [
       "[1] 6777849"
      ]
     },
     "metadata": {},
     "output_type": "display_data"
    }
   ],
   "source": [
    "nrow(a00)"
   ]
  },
  {
   "cell_type": "markdown",
   "metadata": {},
   "source": [
    "Sites which are differently called under bcftools with or without BAQ option are very weird and manual inspection of the alignments shows that it's pretty much impossible to tell which are the true variants sites and which are errors. I don't really understand why does bcftools even call an allele in cases like this, but I guess they decided on slightly higher false positive rate and put the responsibility for filtering on the user.\n",
    "\n",
    "I'd say being conservative in these particular cases is a good thing (note that my bam-caller decides to rather not call anything at these weird sites). The situation is even worse for the archaic samples below, where we often have a 50:50 mixture of two alleles and bcftools calls pretty much randomly one or another, which is not great."
   ]
  },
  {
   "cell_type": "code",
   "execution_count": 8,
   "metadata": {},
   "outputs": [
    {
     "data": {
      "text/html": [
       "<table>\n",
       "<caption>A tibble: 6 × 8</caption>\n",
       "<thead>\n",
       "\t<tr><th scope=col>chrom</th><th scope=col>pos</th><th scope=col>REF</th><th scope=col>ALT</th><th scope=col>baq</th><th scope=col>nobaq</th><th scope=col>cons</th><th scope=col>tol</th></tr>\n",
       "\t<tr><th scope=col>&lt;chr&gt;</th><th scope=col>&lt;int&gt;</th><th scope=col>&lt;chr&gt;</th><th scope=col>&lt;chr&gt;</th><th scope=col>&lt;dbl&gt;</th><th scope=col>&lt;dbl&gt;</th><th scope=col>&lt;dbl&gt;</th><th scope=col>&lt;dbl&gt;</th></tr>\n",
       "</thead>\n",
       "<tbody>\n",
       "\t<tr><td>Y</td><td> 2805552</td><td>G</td><td>A</td><td>0</td><td>1</td><td>NA</td><td>NA</td></tr>\n",
       "\t<tr><td>Y</td><td> 3715248</td><td>A</td><td>G</td><td>0</td><td>1</td><td>NA</td><td>NA</td></tr>\n",
       "\t<tr><td>Y</td><td> 8561368</td><td>C</td><td>T</td><td>0</td><td>1</td><td>NA</td><td>NA</td></tr>\n",
       "\t<tr><td>Y</td><td> 8561376</td><td>C</td><td>T</td><td>0</td><td>1</td><td>NA</td><td>NA</td></tr>\n",
       "\t<tr><td>Y</td><td>17029481</td><td>G</td><td>A</td><td>0</td><td>1</td><td>NA</td><td>NA</td></tr>\n",
       "\t<tr><td>Y</td><td>17029484</td><td>T</td><td>A</td><td>0</td><td>1</td><td>NA</td><td>NA</td></tr>\n",
       "</tbody>\n",
       "</table>\n"
      ],
      "text/latex": [
       "A tibble: 6 × 8\n",
       "\\begin{tabular}{llllllll}\n",
       " chrom & pos & REF & ALT & baq & nobaq & cons & tol\\\\\n",
       " <chr> & <int> & <chr> & <chr> & <dbl> & <dbl> & <dbl> & <dbl>\\\\\n",
       "\\hline\n",
       "\t Y &  2805552 & G & A & 0 & 1 & NA & NA\\\\\n",
       "\t Y &  3715248 & A & G & 0 & 1 & NA & NA\\\\\n",
       "\t Y &  8561368 & C & T & 0 & 1 & NA & NA\\\\\n",
       "\t Y &  8561376 & C & T & 0 & 1 & NA & NA\\\\\n",
       "\t Y & 17029481 & G & A & 0 & 1 & NA & NA\\\\\n",
       "\t Y & 17029484 & T & A & 0 & 1 & NA & NA\\\\\n",
       "\\end{tabular}\n"
      ],
      "text/markdown": [
       "\n",
       "A tibble: 6 × 8\n",
       "\n",
       "| chrom &lt;chr&gt; | pos &lt;int&gt; | REF &lt;chr&gt; | ALT &lt;chr&gt; | baq &lt;dbl&gt; | nobaq &lt;dbl&gt; | cons &lt;dbl&gt; | tol &lt;dbl&gt; |\n",
       "|---|---|---|---|---|---|---|---|\n",
       "| Y |  2805552 | G | A | 0 | 1 | NA | NA |\n",
       "| Y |  3715248 | A | G | 0 | 1 | NA | NA |\n",
       "| Y |  8561368 | C | T | 0 | 1 | NA | NA |\n",
       "| Y |  8561376 | C | T | 0 | 1 | NA | NA |\n",
       "| Y | 17029481 | G | A | 0 | 1 | NA | NA |\n",
       "| Y | 17029484 | T | A | 0 | 1 | NA | NA |\n",
       "\n"
      ],
      "text/plain": [
       "  chrom pos      REF ALT baq nobaq cons tol\n",
       "1 Y      2805552 G   A   0   1     NA   NA \n",
       "2 Y      3715248 A   G   0   1     NA   NA \n",
       "3 Y      8561368 C   T   0   1     NA   NA \n",
       "4 Y      8561376 C   T   0   1     NA   NA \n",
       "5 Y     17029481 G   A   0   1     NA   NA \n",
       "6 Y     17029484 T   A   0   1     NA   NA "
      ]
     },
     "metadata": {},
     "output_type": "display_data"
    }
   ],
   "source": [
    "filter(a00, baq != nobaq)"
   ]
  },
  {
   "cell_type": "code",
   "execution_count": 9,
   "metadata": {},
   "outputs": [
    {
     "data": {
      "text/html": [
       "<table>\n",
       "<caption>A grouped_df: 1 × 3</caption>\n",
       "<thead>\n",
       "\t<tr><th scope=col>baq</th><th scope=col>nobaq</th><th scope=col>n</th></tr>\n",
       "\t<tr><th scope=col>&lt;dbl&gt;</th><th scope=col>&lt;dbl&gt;</th><th scope=col>&lt;int&gt;</th></tr>\n",
       "</thead>\n",
       "<tbody>\n",
       "\t<tr><td>0</td><td>1</td><td>6</td></tr>\n",
       "</tbody>\n",
       "</table>\n"
      ],
      "text/latex": [
       "A grouped\\_df: 1 × 3\n",
       "\\begin{tabular}{lll}\n",
       " baq & nobaq & n\\\\\n",
       " <dbl> & <dbl> & <int>\\\\\n",
       "\\hline\n",
       "\t 0 & 1 & 6\\\\\n",
       "\\end{tabular}\n"
      ],
      "text/markdown": [
       "\n",
       "A grouped_df: 1 × 3\n",
       "\n",
       "| baq &lt;dbl&gt; | nobaq &lt;dbl&gt; | n &lt;int&gt; |\n",
       "|---|---|---|\n",
       "| 0 | 1 | 6 |\n",
       "\n"
      ],
      "text/plain": [
       "  baq nobaq n\n",
       "1 0   1     6"
      ]
     },
     "metadata": {},
     "output_type": "display_data"
    }
   ],
   "source": [
    "filter(a00, baq != nobaq) %>% group_by(baq, nobaq) %>% tally"
   ]
  },
  {
   "cell_type": "code",
   "execution_count": 10,
   "metadata": {},
   "outputs": [
    {
     "data": {
      "text/html": [
       "<table>\n",
       "<caption>A tibble: 20 × 8</caption>\n",
       "<thead>\n",
       "\t<tr><th scope=col>chrom</th><th scope=col>pos</th><th scope=col>REF</th><th scope=col>ALT</th><th scope=col>baq</th><th scope=col>nobaq</th><th scope=col>cons</th><th scope=col>tol</th></tr>\n",
       "\t<tr><th scope=col>&lt;chr&gt;</th><th scope=col>&lt;int&gt;</th><th scope=col>&lt;chr&gt;</th><th scope=col>&lt;chr&gt;</th><th scope=col>&lt;dbl&gt;</th><th scope=col>&lt;dbl&gt;</th><th scope=col>&lt;dbl&gt;</th><th scope=col>&lt;dbl&gt;</th></tr>\n",
       "</thead>\n",
       "<tbody>\n",
       "\t<tr><td>Y</td><td> 8525740</td><td>T</td><td>C</td><td> 1</td><td>1</td><td>NA</td><td>1</td></tr>\n",
       "\t<tr><td>Y</td><td> 9872017</td><td>T</td><td>C</td><td> 1</td><td>1</td><td>NA</td><td>1</td></tr>\n",
       "\t<tr><td>Y</td><td>18069115</td><td>A</td><td>G</td><td> 1</td><td>1</td><td>NA</td><td>1</td></tr>\n",
       "\t<tr><td>Y</td><td> 7180949</td><td>G</td><td>A</td><td> 1</td><td>1</td><td>NA</td><td>1</td></tr>\n",
       "\t<tr><td>Y</td><td>19128936</td><td>A</td><td>C</td><td>NA</td><td>1</td><td>NA</td><td>1</td></tr>\n",
       "\t<tr><td>Y</td><td>23052802</td><td>A</td><td>G</td><td> 1</td><td>1</td><td>NA</td><td>1</td></tr>\n",
       "\t<tr><td>Y</td><td> 8124473</td><td>T</td><td>G</td><td> 1</td><td>1</td><td>NA</td><td>1</td></tr>\n",
       "\t<tr><td>Y</td><td>14076115</td><td>C</td><td>G</td><td> 1</td><td>1</td><td>NA</td><td>1</td></tr>\n",
       "\t<tr><td>Y</td><td> 6868118</td><td>A</td><td>G</td><td> 1</td><td>1</td><td>NA</td><td>1</td></tr>\n",
       "\t<tr><td>Y</td><td>18193279</td><td>C</td><td>T</td><td> 1</td><td>1</td><td>NA</td><td>1</td></tr>\n",
       "\t<tr><td>Y</td><td> 7265670</td><td>T</td><td> </td><td> 0</td><td>0</td><td>NA</td><td>0</td></tr>\n",
       "\t<tr><td>Y</td><td> 8026130</td><td>T</td><td> </td><td> 0</td><td>0</td><td>NA</td><td>0</td></tr>\n",
       "\t<tr><td>Y</td><td>14453743</td><td>T</td><td> </td><td> 0</td><td>0</td><td>NA</td><td>0</td></tr>\n",
       "\t<tr><td>Y</td><td>14033614</td><td>C</td><td> </td><td> 0</td><td>0</td><td>NA</td><td>0</td></tr>\n",
       "\t<tr><td>Y</td><td> 8789283</td><td>C</td><td> </td><td> 0</td><td>0</td><td>NA</td><td>0</td></tr>\n",
       "\t<tr><td>Y</td><td> 8396047</td><td>T</td><td> </td><td> 0</td><td>0</td><td>NA</td><td>0</td></tr>\n",
       "\t<tr><td>Y</td><td> 7251227</td><td>T</td><td> </td><td> 0</td><td>0</td><td>NA</td><td>0</td></tr>\n",
       "\t<tr><td>Y</td><td> 6659161</td><td>T</td><td> </td><td> 0</td><td>0</td><td>NA</td><td>0</td></tr>\n",
       "\t<tr><td>Y</td><td> 2860453</td><td>G</td><td> </td><td> 0</td><td>0</td><td>NA</td><td>0</td></tr>\n",
       "\t<tr><td>Y</td><td>16805689</td><td>G</td><td> </td><td> 0</td><td>0</td><td>NA</td><td>0</td></tr>\n",
       "</tbody>\n",
       "</table>\n"
      ],
      "text/latex": [
       "A tibble: 20 × 8\n",
       "\\begin{tabular}{llllllll}\n",
       " chrom & pos & REF & ALT & baq & nobaq & cons & tol\\\\\n",
       " <chr> & <int> & <chr> & <chr> & <dbl> & <dbl> & <dbl> & <dbl>\\\\\n",
       "\\hline\n",
       "\t Y &  8525740 & T & C &  1 & 1 & NA & 1\\\\\n",
       "\t Y &  9872017 & T & C &  1 & 1 & NA & 1\\\\\n",
       "\t Y & 18069115 & A & G &  1 & 1 & NA & 1\\\\\n",
       "\t Y &  7180949 & G & A &  1 & 1 & NA & 1\\\\\n",
       "\t Y & 19128936 & A & C & NA & 1 & NA & 1\\\\\n",
       "\t Y & 23052802 & A & G &  1 & 1 & NA & 1\\\\\n",
       "\t Y &  8124473 & T & G &  1 & 1 & NA & 1\\\\\n",
       "\t Y & 14076115 & C & G &  1 & 1 & NA & 1\\\\\n",
       "\t Y &  6868118 & A & G &  1 & 1 & NA & 1\\\\\n",
       "\t Y & 18193279 & C & T &  1 & 1 & NA & 1\\\\\n",
       "\t Y &  7265670 & T &   &  0 & 0 & NA & 0\\\\\n",
       "\t Y &  8026130 & T &   &  0 & 0 & NA & 0\\\\\n",
       "\t Y & 14453743 & T &   &  0 & 0 & NA & 0\\\\\n",
       "\t Y & 14033614 & C &   &  0 & 0 & NA & 0\\\\\n",
       "\t Y &  8789283 & C &   &  0 & 0 & NA & 0\\\\\n",
       "\t Y &  8396047 & T &   &  0 & 0 & NA & 0\\\\\n",
       "\t Y &  7251227 & T &   &  0 & 0 & NA & 0\\\\\n",
       "\t Y &  6659161 & T &   &  0 & 0 & NA & 0\\\\\n",
       "\t Y &  2860453 & G &   &  0 & 0 & NA & 0\\\\\n",
       "\t Y & 16805689 & G &   &  0 & 0 & NA & 0\\\\\n",
       "\\end{tabular}\n"
      ],
      "text/markdown": [
       "\n",
       "A tibble: 20 × 8\n",
       "\n",
       "| chrom &lt;chr&gt; | pos &lt;int&gt; | REF &lt;chr&gt; | ALT &lt;chr&gt; | baq &lt;dbl&gt; | nobaq &lt;dbl&gt; | cons &lt;dbl&gt; | tol &lt;dbl&gt; |\n",
       "|---|---|---|---|---|---|---|---|\n",
       "| Y |  8525740 | T | C |  1 | 1 | NA | 1 |\n",
       "| Y |  9872017 | T | C |  1 | 1 | NA | 1 |\n",
       "| Y | 18069115 | A | G |  1 | 1 | NA | 1 |\n",
       "| Y |  7180949 | G | A |  1 | 1 | NA | 1 |\n",
       "| Y | 19128936 | A | C | NA | 1 | NA | 1 |\n",
       "| Y | 23052802 | A | G |  1 | 1 | NA | 1 |\n",
       "| Y |  8124473 | T | G |  1 | 1 | NA | 1 |\n",
       "| Y | 14076115 | C | G |  1 | 1 | NA | 1 |\n",
       "| Y |  6868118 | A | G |  1 | 1 | NA | 1 |\n",
       "| Y | 18193279 | C | T |  1 | 1 | NA | 1 |\n",
       "| Y |  7265670 | T | <!----> |  0 | 0 | NA | 0 |\n",
       "| Y |  8026130 | T | <!----> |  0 | 0 | NA | 0 |\n",
       "| Y | 14453743 | T | <!----> |  0 | 0 | NA | 0 |\n",
       "| Y | 14033614 | C | <!----> |  0 | 0 | NA | 0 |\n",
       "| Y |  8789283 | C | <!----> |  0 | 0 | NA | 0 |\n",
       "| Y |  8396047 | T | <!----> |  0 | 0 | NA | 0 |\n",
       "| Y |  7251227 | T | <!----> |  0 | 0 | NA | 0 |\n",
       "| Y |  6659161 | T | <!----> |  0 | 0 | NA | 0 |\n",
       "| Y |  2860453 | G | <!----> |  0 | 0 | NA | 0 |\n",
       "| Y | 16805689 | G | <!----> |  0 | 0 | NA | 0 |\n",
       "\n"
      ],
      "text/plain": [
       "   chrom pos      REF ALT baq nobaq cons tol\n",
       "1  Y      8525740 T   C    1  1     NA   1  \n",
       "2  Y      9872017 T   C    1  1     NA   1  \n",
       "3  Y     18069115 A   G    1  1     NA   1  \n",
       "4  Y      7180949 G   A    1  1     NA   1  \n",
       "5  Y     19128936 A   C   NA  1     NA   1  \n",
       "6  Y     23052802 A   G    1  1     NA   1  \n",
       "7  Y      8124473 T   G    1  1     NA   1  \n",
       "8  Y     14076115 C   G    1  1     NA   1  \n",
       "9  Y      6868118 A   G    1  1     NA   1  \n",
       "10 Y     18193279 C   T    1  1     NA   1  \n",
       "11 Y      7265670 T        0  0     NA   0  \n",
       "12 Y      8026130 T        0  0     NA   0  \n",
       "13 Y     14453743 T        0  0     NA   0  \n",
       "14 Y     14033614 C        0  0     NA   0  \n",
       "15 Y      8789283 C        0  0     NA   0  \n",
       "16 Y      8396047 T        0  0     NA   0  \n",
       "17 Y      7251227 T        0  0     NA   0  \n",
       "18 Y      6659161 T        0  0     NA   0  \n",
       "19 Y      2860453 G        0  0     NA   0  \n",
       "20 Y     16805689 G        0  0     NA   0  "
      ]
     },
     "metadata": {},
     "output_type": "display_data"
    }
   ],
   "source": [
    "filter(a00, is.na(cons) & !(is.na(cons) & is.na(tol))) %>%\n",
    "    group_by(alts = ALT == \"\") %>% sample_n(10) %>% ungroup %>% select(-alts)"
   ]
  },
  {
   "cell_type": "code",
   "execution_count": 11,
   "metadata": {},
   "outputs": [
    {
     "data": {
      "text/html": [
       "<table>\n",
       "<caption>A tibble: 0 × 8</caption>\n",
       "<thead>\n",
       "\t<tr><th scope=col>chrom</th><th scope=col>pos</th><th scope=col>REF</th><th scope=col>ALT</th><th scope=col>baq</th><th scope=col>nobaq</th><th scope=col>cons</th><th scope=col>tol</th></tr>\n",
       "\t<tr><th scope=col>&lt;chr&gt;</th><th scope=col>&lt;int&gt;</th><th scope=col>&lt;chr&gt;</th><th scope=col>&lt;chr&gt;</th><th scope=col>&lt;dbl&gt;</th><th scope=col>&lt;dbl&gt;</th><th scope=col>&lt;dbl&gt;</th><th scope=col>&lt;dbl&gt;</th></tr>\n",
       "</thead>\n",
       "<tbody>\n",
       "</tbody>\n",
       "</table>\n"
      ],
      "text/latex": [
       "A tibble: 0 × 8\n",
       "\\begin{tabular}{llllllll}\n",
       " chrom & pos & REF & ALT & baq & nobaq & cons & tol\\\\\n",
       " <chr> & <int> & <chr> & <chr> & <dbl> & <dbl> & <dbl> & <dbl>\\\\\n",
       "\\hline\n",
       "\\end{tabular}\n"
      ],
      "text/markdown": [
       "\n",
       "A tibble: 0 × 8\n",
       "\n",
       "| chrom &lt;chr&gt; | pos &lt;int&gt; | REF &lt;chr&gt; | ALT &lt;chr&gt; | baq &lt;dbl&gt; | nobaq &lt;dbl&gt; | cons &lt;dbl&gt; | tol &lt;dbl&gt; |\n",
       "|---|---|---|---|---|---|---|---|\n",
       "\n"
      ],
      "text/plain": [
       "     chrom pos REF ALT baq nobaq cons tol"
      ]
     },
     "metadata": {},
     "output_type": "display_data"
    }
   ],
   "source": [
    "filter(a00, tol != baq | tol != nobaq)"
   ]
  },
  {
   "cell_type": "markdown",
   "metadata": {},
   "source": [
    "Based on the table right above, whenever we call an allele with the 90% tolerance consensus cutoff these calls are consistent with bcftools. So the only thing we are losing are calls which would be unreliable anyway, based on the manual inspection of alignments above."
   ]
  },
  {
   "cell_type": "markdown",
   "metadata": {},
   "source": [
    "# Mezmaiskaya 2 (high-coverage archaic, ideal case)"
   ]
  },
  {
   "cell_type": "code",
   "execution_count": 12,
   "metadata": {},
   "outputs": [
    {
     "data": {
      "text/html": [
       "6670383"
      ],
      "text/latex": [
       "6670383"
      ],
      "text/markdown": [
       "6670383"
      ],
      "text/plain": [
       "[1] 6670383"
      ]
     },
     "metadata": {},
     "output_type": "display_data"
    }
   ],
   "source": [
    "read_vcf(here(\"test/mez2_baq.vcf.gz\"), mindp = 3, maxdp = 0.98) %>% nrow"
   ]
  },
  {
   "cell_type": "code",
   "execution_count": 13,
   "metadata": {},
   "outputs": [
    {
     "data": {
      "text/html": [
       "6670383"
      ],
      "text/latex": [
       "6670383"
      ],
      "text/markdown": [
       "6670383"
      ],
      "text/plain": [
       "[1] 6670383"
      ]
     },
     "metadata": {},
     "output_type": "display_data"
    }
   ],
   "source": [
    "read_vcf(here(\"test/mez2_nobaq.vcf.gz\"), mindp = 3, maxdp = 0.98) %>% nrow"
   ]
  },
  {
   "cell_type": "markdown",
   "metadata": {},
   "source": [
    "Notice the crazy drop in called SNPs when we do 100% strict consensus! This is the effect of aDNA damage SNPs throughout aDNA reads."
   ]
  },
  {
   "cell_type": "code",
   "execution_count": 14,
   "metadata": {},
   "outputs": [
    {
     "data": {
      "text/html": [
       "5502319"
      ],
      "text/latex": [
       "5502319"
      ],
      "text/markdown": [
       "5502319"
      ],
      "text/plain": [
       "[1] 5502319"
      ]
     },
     "metadata": {},
     "output_type": "display_data"
    }
   ],
   "source": [
    "read_vcf(here(\"test/mez2_consensus.vcf.gz\"), mindp = 3, maxdp = 0.98) %>% nrow"
   ]
  },
  {
   "cell_type": "code",
   "execution_count": 15,
   "metadata": {},
   "outputs": [
    {
     "data": {
      "text/html": [
       "6348948"
      ],
      "text/latex": [
       "6348948"
      ],
      "text/markdown": [
       "6348948"
      ],
      "text/plain": [
       "[1] 6348948"
      ]
     },
     "metadata": {},
     "output_type": "display_data"
    }
   ],
   "source": [
    "read_vcf(here(\"test/mez2_tolerance.vcf.gz\"), mindp = 3, maxdp = 0.98) %>% nrow"
   ]
  },
  {
   "cell_type": "code",
   "execution_count": 16,
   "metadata": {},
   "outputs": [],
   "source": [
    "mez2 <- read_vcf(here(\"test/genotyping_mez2.vcf.gz\"), mindp = 3, maxdp = 0.98) %>%\n",
    "    filter(!is.na(baq) | !is.na(nobaq) | !is.na(cons) | !is.na(tol))"
   ]
  },
  {
   "cell_type": "code",
   "execution_count": 17,
   "metadata": {},
   "outputs": [
    {
     "data": {
      "text/html": [
       "6359829"
      ],
      "text/latex": [
       "6359829"
      ],
      "text/markdown": [
       "6359829"
      ],
      "text/plain": [
       "[1] 6359829"
      ]
     },
     "metadata": {},
     "output_type": "display_data"
    }
   ],
   "source": [
    "nrow(mez2)"
   ]
  },
  {
   "cell_type": "markdown",
   "metadata": {},
   "source": [
    "Again, sites where baq recalibration leads to different genotype calls than nobaq are weird and often look like heterozygotes (we correctly ignore them as suspicious):"
   ]
  },
  {
   "cell_type": "code",
   "execution_count": 18,
   "metadata": {},
   "outputs": [
    {
     "data": {
      "text/html": [
       "<table>\n",
       "<caption>A tibble: 20 × 8</caption>\n",
       "<thead>\n",
       "\t<tr><th scope=col>chrom</th><th scope=col>pos</th><th scope=col>REF</th><th scope=col>ALT</th><th scope=col>baq</th><th scope=col>nobaq</th><th scope=col>cons</th><th scope=col>tol</th></tr>\n",
       "\t<tr><th scope=col>&lt;chr&gt;</th><th scope=col>&lt;int&gt;</th><th scope=col>&lt;chr&gt;</th><th scope=col>&lt;chr&gt;</th><th scope=col>&lt;dbl&gt;</th><th scope=col>&lt;dbl&gt;</th><th scope=col>&lt;dbl&gt;</th><th scope=col>&lt;dbl&gt;</th></tr>\n",
       "</thead>\n",
       "<tbody>\n",
       "\t<tr><td>Y</td><td>15363020</td><td>T</td><td>C</td><td>0</td><td>1</td><td>NA</td><td>NA</td></tr>\n",
       "\t<tr><td>Y</td><td>19089753</td><td>T</td><td>C</td><td>0</td><td>1</td><td>NA</td><td>NA</td></tr>\n",
       "\t<tr><td>Y</td><td>17572425</td><td>C</td><td>T</td><td>0</td><td>1</td><td>NA</td><td>NA</td></tr>\n",
       "\t<tr><td>Y</td><td>18614096</td><td>A</td><td>G</td><td>0</td><td>1</td><td>NA</td><td>NA</td></tr>\n",
       "\t<tr><td>Y</td><td> 9984843</td><td>G</td><td>A</td><td>0</td><td>1</td><td>NA</td><td>NA</td></tr>\n",
       "\t<tr><td>Y</td><td>15516284</td><td>C</td><td>T</td><td>0</td><td>1</td><td>NA</td><td>NA</td></tr>\n",
       "\t<tr><td>Y</td><td>18038445</td><td>C</td><td>T</td><td>0</td><td>1</td><td>NA</td><td>NA</td></tr>\n",
       "\t<tr><td>Y</td><td>22160922</td><td>C</td><td>T</td><td>1</td><td>0</td><td>NA</td><td>NA</td></tr>\n",
       "\t<tr><td>Y</td><td> 7280606</td><td>T</td><td>C</td><td>0</td><td>1</td><td>NA</td><td>NA</td></tr>\n",
       "\t<tr><td>Y</td><td>15028570</td><td>T</td><td>C</td><td>0</td><td>1</td><td>NA</td><td>NA</td></tr>\n",
       "\t<tr><td>Y</td><td> 9417686</td><td>C</td><td>T</td><td>0</td><td>1</td><td>NA</td><td>NA</td></tr>\n",
       "\t<tr><td>Y</td><td>15787832</td><td>G</td><td>A</td><td>1</td><td>0</td><td>NA</td><td>NA</td></tr>\n",
       "\t<tr><td>Y</td><td>16779295</td><td>A</td><td>C</td><td>0</td><td>1</td><td>NA</td><td>NA</td></tr>\n",
       "\t<tr><td>Y</td><td>22894136</td><td>G</td><td>A</td><td>0</td><td>1</td><td>NA</td><td>NA</td></tr>\n",
       "\t<tr><td>Y</td><td> 9087687</td><td>G</td><td>A</td><td>0</td><td>1</td><td>NA</td><td>NA</td></tr>\n",
       "\t<tr><td>Y</td><td>16642127</td><td>G</td><td>A</td><td>0</td><td>1</td><td>NA</td><td>NA</td></tr>\n",
       "\t<tr><td>Y</td><td>23540925</td><td>C</td><td>T</td><td>0</td><td>1</td><td>NA</td><td>NA</td></tr>\n",
       "\t<tr><td>Y</td><td>18083168</td><td>G</td><td>A</td><td>0</td><td>1</td><td>NA</td><td>NA</td></tr>\n",
       "\t<tr><td>Y</td><td>15946979</td><td>G</td><td>A</td><td>0</td><td>1</td><td>NA</td><td>NA</td></tr>\n",
       "\t<tr><td>Y</td><td>16366102</td><td>A</td><td>G</td><td>0</td><td>1</td><td>NA</td><td>NA</td></tr>\n",
       "</tbody>\n",
       "</table>\n"
      ],
      "text/latex": [
       "A tibble: 20 × 8\n",
       "\\begin{tabular}{llllllll}\n",
       " chrom & pos & REF & ALT & baq & nobaq & cons & tol\\\\\n",
       " <chr> & <int> & <chr> & <chr> & <dbl> & <dbl> & <dbl> & <dbl>\\\\\n",
       "\\hline\n",
       "\t Y & 15363020 & T & C & 0 & 1 & NA & NA\\\\\n",
       "\t Y & 19089753 & T & C & 0 & 1 & NA & NA\\\\\n",
       "\t Y & 17572425 & C & T & 0 & 1 & NA & NA\\\\\n",
       "\t Y & 18614096 & A & G & 0 & 1 & NA & NA\\\\\n",
       "\t Y &  9984843 & G & A & 0 & 1 & NA & NA\\\\\n",
       "\t Y & 15516284 & C & T & 0 & 1 & NA & NA\\\\\n",
       "\t Y & 18038445 & C & T & 0 & 1 & NA & NA\\\\\n",
       "\t Y & 22160922 & C & T & 1 & 0 & NA & NA\\\\\n",
       "\t Y &  7280606 & T & C & 0 & 1 & NA & NA\\\\\n",
       "\t Y & 15028570 & T & C & 0 & 1 & NA & NA\\\\\n",
       "\t Y &  9417686 & C & T & 0 & 1 & NA & NA\\\\\n",
       "\t Y & 15787832 & G & A & 1 & 0 & NA & NA\\\\\n",
       "\t Y & 16779295 & A & C & 0 & 1 & NA & NA\\\\\n",
       "\t Y & 22894136 & G & A & 0 & 1 & NA & NA\\\\\n",
       "\t Y &  9087687 & G & A & 0 & 1 & NA & NA\\\\\n",
       "\t Y & 16642127 & G & A & 0 & 1 & NA & NA\\\\\n",
       "\t Y & 23540925 & C & T & 0 & 1 & NA & NA\\\\\n",
       "\t Y & 18083168 & G & A & 0 & 1 & NA & NA\\\\\n",
       "\t Y & 15946979 & G & A & 0 & 1 & NA & NA\\\\\n",
       "\t Y & 16366102 & A & G & 0 & 1 & NA & NA\\\\\n",
       "\\end{tabular}\n"
      ],
      "text/markdown": [
       "\n",
       "A tibble: 20 × 8\n",
       "\n",
       "| chrom &lt;chr&gt; | pos &lt;int&gt; | REF &lt;chr&gt; | ALT &lt;chr&gt; | baq &lt;dbl&gt; | nobaq &lt;dbl&gt; | cons &lt;dbl&gt; | tol &lt;dbl&gt; |\n",
       "|---|---|---|---|---|---|---|---|\n",
       "| Y | 15363020 | T | C | 0 | 1 | NA | NA |\n",
       "| Y | 19089753 | T | C | 0 | 1 | NA | NA |\n",
       "| Y | 17572425 | C | T | 0 | 1 | NA | NA |\n",
       "| Y | 18614096 | A | G | 0 | 1 | NA | NA |\n",
       "| Y |  9984843 | G | A | 0 | 1 | NA | NA |\n",
       "| Y | 15516284 | C | T | 0 | 1 | NA | NA |\n",
       "| Y | 18038445 | C | T | 0 | 1 | NA | NA |\n",
       "| Y | 22160922 | C | T | 1 | 0 | NA | NA |\n",
       "| Y |  7280606 | T | C | 0 | 1 | NA | NA |\n",
       "| Y | 15028570 | T | C | 0 | 1 | NA | NA |\n",
       "| Y |  9417686 | C | T | 0 | 1 | NA | NA |\n",
       "| Y | 15787832 | G | A | 1 | 0 | NA | NA |\n",
       "| Y | 16779295 | A | C | 0 | 1 | NA | NA |\n",
       "| Y | 22894136 | G | A | 0 | 1 | NA | NA |\n",
       "| Y |  9087687 | G | A | 0 | 1 | NA | NA |\n",
       "| Y | 16642127 | G | A | 0 | 1 | NA | NA |\n",
       "| Y | 23540925 | C | T | 0 | 1 | NA | NA |\n",
       "| Y | 18083168 | G | A | 0 | 1 | NA | NA |\n",
       "| Y | 15946979 | G | A | 0 | 1 | NA | NA |\n",
       "| Y | 16366102 | A | G | 0 | 1 | NA | NA |\n",
       "\n"
      ],
      "text/plain": [
       "   chrom pos      REF ALT baq nobaq cons tol\n",
       "1  Y     15363020 T   C   0   1     NA   NA \n",
       "2  Y     19089753 T   C   0   1     NA   NA \n",
       "3  Y     17572425 C   T   0   1     NA   NA \n",
       "4  Y     18614096 A   G   0   1     NA   NA \n",
       "5  Y      9984843 G   A   0   1     NA   NA \n",
       "6  Y     15516284 C   T   0   1     NA   NA \n",
       "7  Y     18038445 C   T   0   1     NA   NA \n",
       "8  Y     22160922 C   T   1   0     NA   NA \n",
       "9  Y      7280606 T   C   0   1     NA   NA \n",
       "10 Y     15028570 T   C   0   1     NA   NA \n",
       "11 Y      9417686 C   T   0   1     NA   NA \n",
       "12 Y     15787832 G   A   1   0     NA   NA \n",
       "13 Y     16779295 A   C   0   1     NA   NA \n",
       "14 Y     22894136 G   A   0   1     NA   NA \n",
       "15 Y      9087687 G   A   0   1     NA   NA \n",
       "16 Y     16642127 G   A   0   1     NA   NA \n",
       "17 Y     23540925 C   T   0   1     NA   NA \n",
       "18 Y     18083168 G   A   0   1     NA   NA \n",
       "19 Y     15946979 G   A   0   1     NA   NA \n",
       "20 Y     16366102 A   G   0   1     NA   NA "
      ]
     },
     "metadata": {},
     "output_type": "display_data"
    }
   ],
   "source": [
    "filter(mez2, baq != nobaq) %>% sample_n(20)"
   ]
  },
  {
   "cell_type": "code",
   "execution_count": 19,
   "metadata": {},
   "outputs": [
    {
     "data": {
      "text/html": [
       "<table>\n",
       "<caption>A grouped_df: 2 × 3</caption>\n",
       "<thead>\n",
       "\t<tr><th scope=col>baq</th><th scope=col>nobaq</th><th scope=col>n</th></tr>\n",
       "\t<tr><th scope=col>&lt;dbl&gt;</th><th scope=col>&lt;dbl&gt;</th><th scope=col>&lt;int&gt;</th></tr>\n",
       "</thead>\n",
       "<tbody>\n",
       "\t<tr><td>0</td><td>1</td><td>35</td></tr>\n",
       "\t<tr><td>1</td><td>0</td><td> 5</td></tr>\n",
       "</tbody>\n",
       "</table>\n"
      ],
      "text/latex": [
       "A grouped\\_df: 2 × 3\n",
       "\\begin{tabular}{lll}\n",
       " baq & nobaq & n\\\\\n",
       " <dbl> & <dbl> & <int>\\\\\n",
       "\\hline\n",
       "\t 0 & 1 & 35\\\\\n",
       "\t 1 & 0 &  5\\\\\n",
       "\\end{tabular}\n"
      ],
      "text/markdown": [
       "\n",
       "A grouped_df: 2 × 3\n",
       "\n",
       "| baq &lt;dbl&gt; | nobaq &lt;dbl&gt; | n &lt;int&gt; |\n",
       "|---|---|---|\n",
       "| 0 | 1 | 35 |\n",
       "| 1 | 0 |  5 |\n",
       "\n"
      ],
      "text/plain": [
       "  baq nobaq n \n",
       "1 0   1     35\n",
       "2 1   0      5"
      ]
     },
     "metadata": {},
     "output_type": "display_data"
    }
   ],
   "source": [
    "filter(mez2, baq != nobaq) %>% group_by(baq, nobaq) %>% tally"
   ]
  },
  {
   "cell_type": "markdown",
   "metadata": {},
   "source": [
    "There shouldn't be any difference between strict and less strict consensus at sites called by both:"
   ]
  },
  {
   "cell_type": "code",
   "execution_count": 20,
   "metadata": {},
   "outputs": [
    {
     "data": {
      "text/html": [
       "<table>\n",
       "<caption>A tibble: 0 × 8</caption>\n",
       "<thead>\n",
       "\t<tr><th scope=col>chrom</th><th scope=col>pos</th><th scope=col>REF</th><th scope=col>ALT</th><th scope=col>baq</th><th scope=col>nobaq</th><th scope=col>cons</th><th scope=col>tol</th></tr>\n",
       "\t<tr><th scope=col>&lt;chr&gt;</th><th scope=col>&lt;int&gt;</th><th scope=col>&lt;chr&gt;</th><th scope=col>&lt;chr&gt;</th><th scope=col>&lt;dbl&gt;</th><th scope=col>&lt;dbl&gt;</th><th scope=col>&lt;dbl&gt;</th><th scope=col>&lt;dbl&gt;</th></tr>\n",
       "</thead>\n",
       "<tbody>\n",
       "</tbody>\n",
       "</table>\n"
      ],
      "text/latex": [
       "A tibble: 0 × 8\n",
       "\\begin{tabular}{llllllll}\n",
       " chrom & pos & REF & ALT & baq & nobaq & cons & tol\\\\\n",
       " <chr> & <int> & <chr> & <chr> & <dbl> & <dbl> & <dbl> & <dbl>\\\\\n",
       "\\hline\n",
       "\\end{tabular}\n"
      ],
      "text/markdown": [
       "\n",
       "A tibble: 0 × 8\n",
       "\n",
       "| chrom &lt;chr&gt; | pos &lt;int&gt; | REF &lt;chr&gt; | ALT &lt;chr&gt; | baq &lt;dbl&gt; | nobaq &lt;dbl&gt; | cons &lt;dbl&gt; | tol &lt;dbl&gt; |\n",
       "|---|---|---|---|---|---|---|---|\n",
       "\n"
      ],
      "text/plain": [
       "     chrom pos REF ALT baq nobaq cons tol"
      ]
     },
     "metadata": {},
     "output_type": "display_data"
    }
   ],
   "source": [
    "filter(mez2, cons != tol)"
   ]
  },
  {
   "cell_type": "code",
   "execution_count": 21,
   "metadata": {},
   "outputs": [
    {
     "data": {
      "text/html": [
       "<table>\n",
       "<caption>A tibble: 20 × 8</caption>\n",
       "<thead>\n",
       "\t<tr><th scope=col>chrom</th><th scope=col>pos</th><th scope=col>REF</th><th scope=col>ALT</th><th scope=col>baq</th><th scope=col>nobaq</th><th scope=col>cons</th><th scope=col>tol</th></tr>\n",
       "\t<tr><th scope=col>&lt;chr&gt;</th><th scope=col>&lt;int&gt;</th><th scope=col>&lt;chr&gt;</th><th scope=col>&lt;chr&gt;</th><th scope=col>&lt;dbl&gt;</th><th scope=col>&lt;dbl&gt;</th><th scope=col>&lt;dbl&gt;</th><th scope=col>&lt;dbl&gt;</th></tr>\n",
       "</thead>\n",
       "<tbody>\n",
       "\t<tr><td>Y</td><td>18596979</td><td>A</td><td>G</td><td>1</td><td>1</td><td>NA</td><td>1</td></tr>\n",
       "\t<tr><td>Y</td><td>20837722</td><td>A</td><td>G</td><td>1</td><td>1</td><td>NA</td><td>1</td></tr>\n",
       "\t<tr><td>Y</td><td>19141658</td><td>T</td><td>C</td><td>1</td><td>1</td><td>NA</td><td>1</td></tr>\n",
       "\t<tr><td>Y</td><td>21460975</td><td>G</td><td>A</td><td>1</td><td>1</td><td>NA</td><td>1</td></tr>\n",
       "\t<tr><td>Y</td><td>18060417</td><td>C</td><td>G</td><td>1</td><td>1</td><td>NA</td><td>1</td></tr>\n",
       "\t<tr><td>Y</td><td>19481868</td><td>A</td><td>C</td><td>1</td><td>1</td><td>NA</td><td>1</td></tr>\n",
       "\t<tr><td>Y</td><td> 8193347</td><td>C</td><td>G</td><td>1</td><td>1</td><td>NA</td><td>1</td></tr>\n",
       "\t<tr><td>Y</td><td>18113973</td><td>A</td><td>G</td><td>1</td><td>1</td><td>NA</td><td>1</td></tr>\n",
       "\t<tr><td>Y</td><td>17594650</td><td>T</td><td>C</td><td>1</td><td>1</td><td>NA</td><td>1</td></tr>\n",
       "\t<tr><td>Y</td><td> 7821054</td><td>T</td><td>C</td><td>1</td><td>1</td><td>NA</td><td>1</td></tr>\n",
       "\t<tr><td>Y</td><td>18736244</td><td>C</td><td> </td><td>0</td><td>0</td><td>NA</td><td>0</td></tr>\n",
       "\t<tr><td>Y</td><td>14988407</td><td>G</td><td> </td><td>0</td><td>0</td><td>NA</td><td>0</td></tr>\n",
       "\t<tr><td>Y</td><td> 7043390</td><td>C</td><td> </td><td>0</td><td>0</td><td>NA</td><td>0</td></tr>\n",
       "\t<tr><td>Y</td><td>15356703</td><td>A</td><td> </td><td>0</td><td>0</td><td>NA</td><td>0</td></tr>\n",
       "\t<tr><td>Y</td><td> 8542474</td><td>C</td><td> </td><td>0</td><td>0</td><td>NA</td><td>0</td></tr>\n",
       "\t<tr><td>Y</td><td>23147959</td><td>T</td><td> </td><td>0</td><td>0</td><td>NA</td><td>0</td></tr>\n",
       "\t<tr><td>Y</td><td>15069635</td><td>C</td><td> </td><td>0</td><td>0</td><td>NA</td><td>0</td></tr>\n",
       "\t<tr><td>Y</td><td>17145927</td><td>G</td><td> </td><td>0</td><td>0</td><td>NA</td><td>0</td></tr>\n",
       "\t<tr><td>Y</td><td>18163636</td><td>C</td><td> </td><td>0</td><td>0</td><td>NA</td><td>0</td></tr>\n",
       "\t<tr><td>Y</td><td>15299245</td><td>C</td><td> </td><td>0</td><td>0</td><td>NA</td><td>0</td></tr>\n",
       "</tbody>\n",
       "</table>\n"
      ],
      "text/latex": [
       "A tibble: 20 × 8\n",
       "\\begin{tabular}{llllllll}\n",
       " chrom & pos & REF & ALT & baq & nobaq & cons & tol\\\\\n",
       " <chr> & <int> & <chr> & <chr> & <dbl> & <dbl> & <dbl> & <dbl>\\\\\n",
       "\\hline\n",
       "\t Y & 18596979 & A & G & 1 & 1 & NA & 1\\\\\n",
       "\t Y & 20837722 & A & G & 1 & 1 & NA & 1\\\\\n",
       "\t Y & 19141658 & T & C & 1 & 1 & NA & 1\\\\\n",
       "\t Y & 21460975 & G & A & 1 & 1 & NA & 1\\\\\n",
       "\t Y & 18060417 & C & G & 1 & 1 & NA & 1\\\\\n",
       "\t Y & 19481868 & A & C & 1 & 1 & NA & 1\\\\\n",
       "\t Y &  8193347 & C & G & 1 & 1 & NA & 1\\\\\n",
       "\t Y & 18113973 & A & G & 1 & 1 & NA & 1\\\\\n",
       "\t Y & 17594650 & T & C & 1 & 1 & NA & 1\\\\\n",
       "\t Y &  7821054 & T & C & 1 & 1 & NA & 1\\\\\n",
       "\t Y & 18736244 & C &   & 0 & 0 & NA & 0\\\\\n",
       "\t Y & 14988407 & G &   & 0 & 0 & NA & 0\\\\\n",
       "\t Y &  7043390 & C &   & 0 & 0 & NA & 0\\\\\n",
       "\t Y & 15356703 & A &   & 0 & 0 & NA & 0\\\\\n",
       "\t Y &  8542474 & C &   & 0 & 0 & NA & 0\\\\\n",
       "\t Y & 23147959 & T &   & 0 & 0 & NA & 0\\\\\n",
       "\t Y & 15069635 & C &   & 0 & 0 & NA & 0\\\\\n",
       "\t Y & 17145927 & G &   & 0 & 0 & NA & 0\\\\\n",
       "\t Y & 18163636 & C &   & 0 & 0 & NA & 0\\\\\n",
       "\t Y & 15299245 & C &   & 0 & 0 & NA & 0\\\\\n",
       "\\end{tabular}\n"
      ],
      "text/markdown": [
       "\n",
       "A tibble: 20 × 8\n",
       "\n",
       "| chrom &lt;chr&gt; | pos &lt;int&gt; | REF &lt;chr&gt; | ALT &lt;chr&gt; | baq &lt;dbl&gt; | nobaq &lt;dbl&gt; | cons &lt;dbl&gt; | tol &lt;dbl&gt; |\n",
       "|---|---|---|---|---|---|---|---|\n",
       "| Y | 18596979 | A | G | 1 | 1 | NA | 1 |\n",
       "| Y | 20837722 | A | G | 1 | 1 | NA | 1 |\n",
       "| Y | 19141658 | T | C | 1 | 1 | NA | 1 |\n",
       "| Y | 21460975 | G | A | 1 | 1 | NA | 1 |\n",
       "| Y | 18060417 | C | G | 1 | 1 | NA | 1 |\n",
       "| Y | 19481868 | A | C | 1 | 1 | NA | 1 |\n",
       "| Y |  8193347 | C | G | 1 | 1 | NA | 1 |\n",
       "| Y | 18113973 | A | G | 1 | 1 | NA | 1 |\n",
       "| Y | 17594650 | T | C | 1 | 1 | NA | 1 |\n",
       "| Y |  7821054 | T | C | 1 | 1 | NA | 1 |\n",
       "| Y | 18736244 | C | <!----> | 0 | 0 | NA | 0 |\n",
       "| Y | 14988407 | G | <!----> | 0 | 0 | NA | 0 |\n",
       "| Y |  7043390 | C | <!----> | 0 | 0 | NA | 0 |\n",
       "| Y | 15356703 | A | <!----> | 0 | 0 | NA | 0 |\n",
       "| Y |  8542474 | C | <!----> | 0 | 0 | NA | 0 |\n",
       "| Y | 23147959 | T | <!----> | 0 | 0 | NA | 0 |\n",
       "| Y | 15069635 | C | <!----> | 0 | 0 | NA | 0 |\n",
       "| Y | 17145927 | G | <!----> | 0 | 0 | NA | 0 |\n",
       "| Y | 18163636 | C | <!----> | 0 | 0 | NA | 0 |\n",
       "| Y | 15299245 | C | <!----> | 0 | 0 | NA | 0 |\n",
       "\n"
      ],
      "text/plain": [
       "   chrom pos      REF ALT baq nobaq cons tol\n",
       "1  Y     18596979 A   G   1   1     NA   1  \n",
       "2  Y     20837722 A   G   1   1     NA   1  \n",
       "3  Y     19141658 T   C   1   1     NA   1  \n",
       "4  Y     21460975 G   A   1   1     NA   1  \n",
       "5  Y     18060417 C   G   1   1     NA   1  \n",
       "6  Y     19481868 A   C   1   1     NA   1  \n",
       "7  Y      8193347 C   G   1   1     NA   1  \n",
       "8  Y     18113973 A   G   1   1     NA   1  \n",
       "9  Y     17594650 T   C   1   1     NA   1  \n",
       "10 Y      7821054 T   C   1   1     NA   1  \n",
       "11 Y     18736244 C       0   0     NA   0  \n",
       "12 Y     14988407 G       0   0     NA   0  \n",
       "13 Y      7043390 C       0   0     NA   0  \n",
       "14 Y     15356703 A       0   0     NA   0  \n",
       "15 Y      8542474 C       0   0     NA   0  \n",
       "16 Y     23147959 T       0   0     NA   0  \n",
       "17 Y     15069635 C       0   0     NA   0  \n",
       "18 Y     17145927 G       0   0     NA   0  \n",
       "19 Y     18163636 C       0   0     NA   0  \n",
       "20 Y     15299245 C       0   0     NA   0  "
      ]
     },
     "metadata": {},
     "output_type": "display_data"
    }
   ],
   "source": [
    "filter(mez2, is.na(cons) & !(is.na(cons) & is.na(tol))) %>%\n",
    "    group_by(alts = ALT == \"\") %>% sample_n(10) %>% ungroup %>% select(-alts)"
   ]
  },
  {
   "cell_type": "markdown",
   "metadata": {},
   "source": [
    "The looser 90% tolerance consensus matches perfectly the calls made by bcftools."
   ]
  },
  {
   "cell_type": "code",
   "execution_count": 22,
   "metadata": {},
   "outputs": [
    {
     "data": {
      "text/html": [
       "<table>\n",
       "<caption>A tibble: 0 × 8</caption>\n",
       "<thead>\n",
       "\t<tr><th scope=col>chrom</th><th scope=col>pos</th><th scope=col>REF</th><th scope=col>ALT</th><th scope=col>baq</th><th scope=col>nobaq</th><th scope=col>cons</th><th scope=col>tol</th></tr>\n",
       "\t<tr><th scope=col>&lt;chr&gt;</th><th scope=col>&lt;int&gt;</th><th scope=col>&lt;chr&gt;</th><th scope=col>&lt;chr&gt;</th><th scope=col>&lt;dbl&gt;</th><th scope=col>&lt;dbl&gt;</th><th scope=col>&lt;dbl&gt;</th><th scope=col>&lt;dbl&gt;</th></tr>\n",
       "</thead>\n",
       "<tbody>\n",
       "</tbody>\n",
       "</table>\n"
      ],
      "text/latex": [
       "A tibble: 0 × 8\n",
       "\\begin{tabular}{llllllll}\n",
       " chrom & pos & REF & ALT & baq & nobaq & cons & tol\\\\\n",
       " <chr> & <int> & <chr> & <chr> & <dbl> & <dbl> & <dbl> & <dbl>\\\\\n",
       "\\hline\n",
       "\\end{tabular}\n"
      ],
      "text/markdown": [
       "\n",
       "A tibble: 0 × 8\n",
       "\n",
       "| chrom &lt;chr&gt; | pos &lt;int&gt; | REF &lt;chr&gt; | ALT &lt;chr&gt; | baq &lt;dbl&gt; | nobaq &lt;dbl&gt; | cons &lt;dbl&gt; | tol &lt;dbl&gt; |\n",
       "|---|---|---|---|---|---|---|---|\n",
       "\n"
      ],
      "text/plain": [
       "     chrom pos REF ALT baq nobaq cons tol"
      ]
     },
     "metadata": {},
     "output_type": "display_data"
    }
   ],
   "source": [
    "filter(mez2, tol != baq | tol != nobaq)"
   ]
  },
  {
   "cell_type": "markdown",
   "metadata": {},
   "source": [
    "# Denisova 8 (low coverage archaic, extreme case)\n",
    "\n",
    "At 90% consensus cutoff we expect the lower coverage genotypes to be very similar to strict 100% consensus (unlike high-coverage Mezmaiskaya 2)."
   ]
  },
  {
   "cell_type": "code",
   "execution_count": 23,
   "metadata": {},
   "outputs": [
    {
     "data": {
      "text/html": [
       "6261470"
      ],
      "text/latex": [
       "6261470"
      ],
      "text/markdown": [
       "6261470"
      ],
      "text/plain": [
       "[1] 6261470"
      ]
     },
     "metadata": {},
     "output_type": "display_data"
    }
   ],
   "source": [
    "read_vcf(here(\"test/den8_baq.vcf.gz\"), mindp = 3, maxdp = 0.98) %>% nrow"
   ]
  },
  {
   "cell_type": "code",
   "execution_count": 24,
   "metadata": {},
   "outputs": [
    {
     "data": {
      "text/html": [
       "6261470"
      ],
      "text/latex": [
       "6261470"
      ],
      "text/markdown": [
       "6261470"
      ],
      "text/plain": [
       "[1] 6261470"
      ]
     },
     "metadata": {},
     "output_type": "display_data"
    }
   ],
   "source": [
    "read_vcf(here(\"test/den8_nobaq.vcf.gz\"), mindp = 3, maxdp = 0.98) %>% nrow"
   ]
  },
  {
   "cell_type": "code",
   "execution_count": 25,
   "metadata": {},
   "outputs": [
    {
     "data": {
      "text/html": [
       "5831935"
      ],
      "text/latex": [
       "5831935"
      ],
      "text/markdown": [
       "5831935"
      ],
      "text/plain": [
       "[1] 5831935"
      ]
     },
     "metadata": {},
     "output_type": "display_data"
    }
   ],
   "source": [
    "read_vcf(here(\"test/den8_consensus.vcf.gz\"), mindp = 3, maxdp = 0.98) %>% nrow"
   ]
  },
  {
   "cell_type": "code",
   "execution_count": 26,
   "metadata": {},
   "outputs": [
    {
     "data": {
      "text/html": [
       "5851332"
      ],
      "text/latex": [
       "5851332"
      ],
      "text/markdown": [
       "5851332"
      ],
      "text/plain": [
       "[1] 5851332"
      ]
     },
     "metadata": {},
     "output_type": "display_data"
    }
   ],
   "source": [
    "read_vcf(here(\"test/den8_tolerance.vcf.gz\"), mindp = 3, maxdp = 0.98) %>% nrow"
   ]
  },
  {
   "cell_type": "code",
   "execution_count": 27,
   "metadata": {},
   "outputs": [],
   "source": [
    "den8 <- read_vcf(here(\"test/genotyping_den8.vcf.gz\"), mindp = 3, maxdp = 0.98) %>%\n",
    "    filter(!is.na(baq) | !is.na(nobaq) | !is.na(cons) | !is.na(tol))"
   ]
  },
  {
   "cell_type": "code",
   "execution_count": 28,
   "metadata": {},
   "outputs": [
    {
     "data": {
      "text/html": [
       "4185738"
      ],
      "text/latex": [
       "4185738"
      ],
      "text/markdown": [
       "4185738"
      ],
      "text/plain": [
       "[1] 4185738"
      ]
     },
     "metadata": {},
     "output_type": "display_data"
    }
   ],
   "source": [
    "nrow(den8)"
   ]
  },
  {
   "cell_type": "code",
   "execution_count": 29,
   "metadata": {},
   "outputs": [
    {
     "data": {
      "text/html": [
       "<table>\n",
       "<caption>A tibble: 20 × 8</caption>\n",
       "<thead>\n",
       "\t<tr><th scope=col>chrom</th><th scope=col>pos</th><th scope=col>REF</th><th scope=col>ALT</th><th scope=col>baq</th><th scope=col>nobaq</th><th scope=col>cons</th><th scope=col>tol</th></tr>\n",
       "\t<tr><th scope=col>&lt;chr&gt;</th><th scope=col>&lt;int&gt;</th><th scope=col>&lt;chr&gt;</th><th scope=col>&lt;chr&gt;</th><th scope=col>&lt;dbl&gt;</th><th scope=col>&lt;dbl&gt;</th><th scope=col>&lt;dbl&gt;</th><th scope=col>&lt;dbl&gt;</th></tr>\n",
       "</thead>\n",
       "<tbody>\n",
       "\t<tr><td>Y</td><td>15002613</td><td>C</td><td>G</td><td>0</td><td>1</td><td>NA</td><td>NA</td></tr>\n",
       "\t<tr><td>Y</td><td> 3717723</td><td>C</td><td>T</td><td>0</td><td>1</td><td>NA</td><td>NA</td></tr>\n",
       "\t<tr><td>Y</td><td>16340614</td><td>C</td><td>T</td><td>0</td><td>1</td><td>NA</td><td>NA</td></tr>\n",
       "\t<tr><td>Y</td><td>14115977</td><td>C</td><td>T</td><td>0</td><td>1</td><td>NA</td><td>NA</td></tr>\n",
       "\t<tr><td>Y</td><td>17097106</td><td>C</td><td>T</td><td>0</td><td>1</td><td>NA</td><td>NA</td></tr>\n",
       "\t<tr><td>Y</td><td>18822816</td><td>C</td><td>T</td><td>0</td><td>1</td><td>NA</td><td>NA</td></tr>\n",
       "\t<tr><td>Y</td><td> 8735945</td><td>G</td><td>A</td><td>0</td><td>1</td><td>NA</td><td>NA</td></tr>\n",
       "\t<tr><td>Y</td><td>22702086</td><td>C</td><td>G</td><td>0</td><td>1</td><td>NA</td><td>NA</td></tr>\n",
       "\t<tr><td>Y</td><td>15435772</td><td>G</td><td>A</td><td>0</td><td>1</td><td>NA</td><td>NA</td></tr>\n",
       "\t<tr><td>Y</td><td>16725174</td><td>G</td><td>A</td><td>0</td><td>1</td><td>NA</td><td>NA</td></tr>\n",
       "\t<tr><td>Y</td><td> 6675827</td><td>G</td><td>A</td><td>0</td><td>1</td><td>NA</td><td>NA</td></tr>\n",
       "\t<tr><td>Y</td><td>18007854</td><td>G</td><td>A</td><td>0</td><td>1</td><td>NA</td><td>NA</td></tr>\n",
       "\t<tr><td>Y</td><td>17334694</td><td>T</td><td>G</td><td>0</td><td>1</td><td>NA</td><td>NA</td></tr>\n",
       "\t<tr><td>Y</td><td>15506443</td><td>C</td><td>T</td><td>0</td><td>1</td><td>NA</td><td>NA</td></tr>\n",
       "\t<tr><td>Y</td><td>23312244</td><td>G</td><td>A</td><td>0</td><td>1</td><td>NA</td><td>NA</td></tr>\n",
       "\t<tr><td>Y</td><td> 2664276</td><td>C</td><td>T</td><td>0</td><td>1</td><td>NA</td><td>NA</td></tr>\n",
       "\t<tr><td>Y</td><td>23620176</td><td>G</td><td>A</td><td>0</td><td>1</td><td>NA</td><td>NA</td></tr>\n",
       "\t<tr><td>Y</td><td>18936054</td><td>G</td><td>A</td><td>0</td><td>1</td><td>NA</td><td>NA</td></tr>\n",
       "\t<tr><td>Y</td><td>23131222</td><td>C</td><td>T</td><td>0</td><td>1</td><td>NA</td><td>NA</td></tr>\n",
       "\t<tr><td>Y</td><td> 7702118</td><td>C</td><td>T</td><td>0</td><td>1</td><td>NA</td><td>NA</td></tr>\n",
       "</tbody>\n",
       "</table>\n"
      ],
      "text/latex": [
       "A tibble: 20 × 8\n",
       "\\begin{tabular}{llllllll}\n",
       " chrom & pos & REF & ALT & baq & nobaq & cons & tol\\\\\n",
       " <chr> & <int> & <chr> & <chr> & <dbl> & <dbl> & <dbl> & <dbl>\\\\\n",
       "\\hline\n",
       "\t Y & 15002613 & C & G & 0 & 1 & NA & NA\\\\\n",
       "\t Y &  3717723 & C & T & 0 & 1 & NA & NA\\\\\n",
       "\t Y & 16340614 & C & T & 0 & 1 & NA & NA\\\\\n",
       "\t Y & 14115977 & C & T & 0 & 1 & NA & NA\\\\\n",
       "\t Y & 17097106 & C & T & 0 & 1 & NA & NA\\\\\n",
       "\t Y & 18822816 & C & T & 0 & 1 & NA & NA\\\\\n",
       "\t Y &  8735945 & G & A & 0 & 1 & NA & NA\\\\\n",
       "\t Y & 22702086 & C & G & 0 & 1 & NA & NA\\\\\n",
       "\t Y & 15435772 & G & A & 0 & 1 & NA & NA\\\\\n",
       "\t Y & 16725174 & G & A & 0 & 1 & NA & NA\\\\\n",
       "\t Y &  6675827 & G & A & 0 & 1 & NA & NA\\\\\n",
       "\t Y & 18007854 & G & A & 0 & 1 & NA & NA\\\\\n",
       "\t Y & 17334694 & T & G & 0 & 1 & NA & NA\\\\\n",
       "\t Y & 15506443 & C & T & 0 & 1 & NA & NA\\\\\n",
       "\t Y & 23312244 & G & A & 0 & 1 & NA & NA\\\\\n",
       "\t Y &  2664276 & C & T & 0 & 1 & NA & NA\\\\\n",
       "\t Y & 23620176 & G & A & 0 & 1 & NA & NA\\\\\n",
       "\t Y & 18936054 & G & A & 0 & 1 & NA & NA\\\\\n",
       "\t Y & 23131222 & C & T & 0 & 1 & NA & NA\\\\\n",
       "\t Y &  7702118 & C & T & 0 & 1 & NA & NA\\\\\n",
       "\\end{tabular}\n"
      ],
      "text/markdown": [
       "\n",
       "A tibble: 20 × 8\n",
       "\n",
       "| chrom &lt;chr&gt; | pos &lt;int&gt; | REF &lt;chr&gt; | ALT &lt;chr&gt; | baq &lt;dbl&gt; | nobaq &lt;dbl&gt; | cons &lt;dbl&gt; | tol &lt;dbl&gt; |\n",
       "|---|---|---|---|---|---|---|---|\n",
       "| Y | 15002613 | C | G | 0 | 1 | NA | NA |\n",
       "| Y |  3717723 | C | T | 0 | 1 | NA | NA |\n",
       "| Y | 16340614 | C | T | 0 | 1 | NA | NA |\n",
       "| Y | 14115977 | C | T | 0 | 1 | NA | NA |\n",
       "| Y | 17097106 | C | T | 0 | 1 | NA | NA |\n",
       "| Y | 18822816 | C | T | 0 | 1 | NA | NA |\n",
       "| Y |  8735945 | G | A | 0 | 1 | NA | NA |\n",
       "| Y | 22702086 | C | G | 0 | 1 | NA | NA |\n",
       "| Y | 15435772 | G | A | 0 | 1 | NA | NA |\n",
       "| Y | 16725174 | G | A | 0 | 1 | NA | NA |\n",
       "| Y |  6675827 | G | A | 0 | 1 | NA | NA |\n",
       "| Y | 18007854 | G | A | 0 | 1 | NA | NA |\n",
       "| Y | 17334694 | T | G | 0 | 1 | NA | NA |\n",
       "| Y | 15506443 | C | T | 0 | 1 | NA | NA |\n",
       "| Y | 23312244 | G | A | 0 | 1 | NA | NA |\n",
       "| Y |  2664276 | C | T | 0 | 1 | NA | NA |\n",
       "| Y | 23620176 | G | A | 0 | 1 | NA | NA |\n",
       "| Y | 18936054 | G | A | 0 | 1 | NA | NA |\n",
       "| Y | 23131222 | C | T | 0 | 1 | NA | NA |\n",
       "| Y |  7702118 | C | T | 0 | 1 | NA | NA |\n",
       "\n"
      ],
      "text/plain": [
       "   chrom pos      REF ALT baq nobaq cons tol\n",
       "1  Y     15002613 C   G   0   1     NA   NA \n",
       "2  Y      3717723 C   T   0   1     NA   NA \n",
       "3  Y     16340614 C   T   0   1     NA   NA \n",
       "4  Y     14115977 C   T   0   1     NA   NA \n",
       "5  Y     17097106 C   T   0   1     NA   NA \n",
       "6  Y     18822816 C   T   0   1     NA   NA \n",
       "7  Y      8735945 G   A   0   1     NA   NA \n",
       "8  Y     22702086 C   G   0   1     NA   NA \n",
       "9  Y     15435772 G   A   0   1     NA   NA \n",
       "10 Y     16725174 G   A   0   1     NA   NA \n",
       "11 Y      6675827 G   A   0   1     NA   NA \n",
       "12 Y     18007854 G   A   0   1     NA   NA \n",
       "13 Y     17334694 T   G   0   1     NA   NA \n",
       "14 Y     15506443 C   T   0   1     NA   NA \n",
       "15 Y     23312244 G   A   0   1     NA   NA \n",
       "16 Y      2664276 C   T   0   1     NA   NA \n",
       "17 Y     23620176 G   A   0   1     NA   NA \n",
       "18 Y     18936054 G   A   0   1     NA   NA \n",
       "19 Y     23131222 C   T   0   1     NA   NA \n",
       "20 Y      7702118 C   T   0   1     NA   NA "
      ]
     },
     "metadata": {},
     "output_type": "display_data"
    }
   ],
   "source": [
    "filter(den8, baq != nobaq) %>% sample_n(20)"
   ]
  },
  {
   "cell_type": "code",
   "execution_count": 30,
   "metadata": {},
   "outputs": [
    {
     "data": {
      "text/html": [
       "<table>\n",
       "<caption>A grouped_df: 2 × 3</caption>\n",
       "<thead>\n",
       "\t<tr><th scope=col>baq</th><th scope=col>nobaq</th><th scope=col>n</th></tr>\n",
       "\t<tr><th scope=col>&lt;dbl&gt;</th><th scope=col>&lt;dbl&gt;</th><th scope=col>&lt;int&gt;</th></tr>\n",
       "</thead>\n",
       "<tbody>\n",
       "\t<tr><td>0</td><td>1</td><td>224</td></tr>\n",
       "\t<tr><td>1</td><td>0</td><td> 11</td></tr>\n",
       "</tbody>\n",
       "</table>\n"
      ],
      "text/latex": [
       "A grouped\\_df: 2 × 3\n",
       "\\begin{tabular}{lll}\n",
       " baq & nobaq & n\\\\\n",
       " <dbl> & <dbl> & <int>\\\\\n",
       "\\hline\n",
       "\t 0 & 1 & 224\\\\\n",
       "\t 1 & 0 &  11\\\\\n",
       "\\end{tabular}\n"
      ],
      "text/markdown": [
       "\n",
       "A grouped_df: 2 × 3\n",
       "\n",
       "| baq &lt;dbl&gt; | nobaq &lt;dbl&gt; | n &lt;int&gt; |\n",
       "|---|---|---|\n",
       "| 0 | 1 | 224 |\n",
       "| 1 | 0 |  11 |\n",
       "\n"
      ],
      "text/plain": [
       "  baq nobaq n  \n",
       "1 0   1     224\n",
       "2 1   0      11"
      ]
     },
     "metadata": {},
     "output_type": "display_data"
    }
   ],
   "source": [
    "filter(den8, baq != nobaq) %>% group_by(baq, nobaq) %>% tally"
   ]
  },
  {
   "cell_type": "code",
   "execution_count": 31,
   "metadata": {},
   "outputs": [
    {
     "data": {
      "text/html": [
       "<table>\n",
       "<caption>A tibble: 0 × 8</caption>\n",
       "<thead>\n",
       "\t<tr><th scope=col>chrom</th><th scope=col>pos</th><th scope=col>REF</th><th scope=col>ALT</th><th scope=col>baq</th><th scope=col>nobaq</th><th scope=col>cons</th><th scope=col>tol</th></tr>\n",
       "\t<tr><th scope=col>&lt;chr&gt;</th><th scope=col>&lt;int&gt;</th><th scope=col>&lt;chr&gt;</th><th scope=col>&lt;chr&gt;</th><th scope=col>&lt;dbl&gt;</th><th scope=col>&lt;dbl&gt;</th><th scope=col>&lt;dbl&gt;</th><th scope=col>&lt;dbl&gt;</th></tr>\n",
       "</thead>\n",
       "<tbody>\n",
       "</tbody>\n",
       "</table>\n"
      ],
      "text/latex": [
       "A tibble: 0 × 8\n",
       "\\begin{tabular}{llllllll}\n",
       " chrom & pos & REF & ALT & baq & nobaq & cons & tol\\\\\n",
       " <chr> & <int> & <chr> & <chr> & <dbl> & <dbl> & <dbl> & <dbl>\\\\\n",
       "\\hline\n",
       "\\end{tabular}\n"
      ],
      "text/markdown": [
       "\n",
       "A tibble: 0 × 8\n",
       "\n",
       "| chrom &lt;chr&gt; | pos &lt;int&gt; | REF &lt;chr&gt; | ALT &lt;chr&gt; | baq &lt;dbl&gt; | nobaq &lt;dbl&gt; | cons &lt;dbl&gt; | tol &lt;dbl&gt; |\n",
       "|---|---|---|---|---|---|---|---|\n",
       "\n"
      ],
      "text/plain": [
       "     chrom pos REF ALT baq nobaq cons tol"
      ]
     },
     "metadata": {},
     "output_type": "display_data"
    }
   ],
   "source": [
    "filter(den8, cons != tol)"
   ]
  },
  {
   "cell_type": "code",
   "execution_count": 32,
   "metadata": {},
   "outputs": [
    {
     "data": {
      "text/html": [
       "<table>\n",
       "<caption>A tibble: 6 × 8</caption>\n",
       "<thead>\n",
       "\t<tr><th scope=col>chrom</th><th scope=col>pos</th><th scope=col>REF</th><th scope=col>ALT</th><th scope=col>baq</th><th scope=col>nobaq</th><th scope=col>cons</th><th scope=col>tol</th></tr>\n",
       "\t<tr><th scope=col>&lt;chr&gt;</th><th scope=col>&lt;int&gt;</th><th scope=col>&lt;chr&gt;</th><th scope=col>&lt;chr&gt;</th><th scope=col>&lt;dbl&gt;</th><th scope=col>&lt;dbl&gt;</th><th scope=col>&lt;dbl&gt;</th><th scope=col>&lt;dbl&gt;</th></tr>\n",
       "</thead>\n",
       "<tbody>\n",
       "\t<tr><td>Y</td><td> 8396636</td><td>A</td><td>G</td><td>1</td><td>1</td><td>NA</td><td>1</td></tr>\n",
       "\t<tr><td>Y</td><td>17517362</td><td>A</td><td>G</td><td>1</td><td>1</td><td>NA</td><td>1</td></tr>\n",
       "\t<tr><td>Y</td><td>18759298</td><td>A</td><td>G</td><td>1</td><td>1</td><td>NA</td><td>1</td></tr>\n",
       "\t<tr><td>Y</td><td>15941841</td><td>C</td><td> </td><td>0</td><td>0</td><td>NA</td><td>0</td></tr>\n",
       "\t<tr><td>Y</td><td> 2710399</td><td>G</td><td> </td><td>0</td><td>0</td><td>NA</td><td>0</td></tr>\n",
       "\t<tr><td>Y</td><td>22550838</td><td>G</td><td> </td><td>0</td><td>0</td><td>NA</td><td>0</td></tr>\n",
       "</tbody>\n",
       "</table>\n"
      ],
      "text/latex": [
       "A tibble: 6 × 8\n",
       "\\begin{tabular}{llllllll}\n",
       " chrom & pos & REF & ALT & baq & nobaq & cons & tol\\\\\n",
       " <chr> & <int> & <chr> & <chr> & <dbl> & <dbl> & <dbl> & <dbl>\\\\\n",
       "\\hline\n",
       "\t Y &  8396636 & A & G & 1 & 1 & NA & 1\\\\\n",
       "\t Y & 17517362 & A & G & 1 & 1 & NA & 1\\\\\n",
       "\t Y & 18759298 & A & G & 1 & 1 & NA & 1\\\\\n",
       "\t Y & 15941841 & C &   & 0 & 0 & NA & 0\\\\\n",
       "\t Y &  2710399 & G &   & 0 & 0 & NA & 0\\\\\n",
       "\t Y & 22550838 & G &   & 0 & 0 & NA & 0\\\\\n",
       "\\end{tabular}\n"
      ],
      "text/markdown": [
       "\n",
       "A tibble: 6 × 8\n",
       "\n",
       "| chrom &lt;chr&gt; | pos &lt;int&gt; | REF &lt;chr&gt; | ALT &lt;chr&gt; | baq &lt;dbl&gt; | nobaq &lt;dbl&gt; | cons &lt;dbl&gt; | tol &lt;dbl&gt; |\n",
       "|---|---|---|---|---|---|---|---|\n",
       "| Y |  8396636 | A | G | 1 | 1 | NA | 1 |\n",
       "| Y | 17517362 | A | G | 1 | 1 | NA | 1 |\n",
       "| Y | 18759298 | A | G | 1 | 1 | NA | 1 |\n",
       "| Y | 15941841 | C | <!----> | 0 | 0 | NA | 0 |\n",
       "| Y |  2710399 | G | <!----> | 0 | 0 | NA | 0 |\n",
       "| Y | 22550838 | G | <!----> | 0 | 0 | NA | 0 |\n",
       "\n"
      ],
      "text/plain": [
       "  chrom pos      REF ALT baq nobaq cons tol\n",
       "1 Y      8396636 A   G   1   1     NA   1  \n",
       "2 Y     17517362 A   G   1   1     NA   1  \n",
       "3 Y     18759298 A   G   1   1     NA   1  \n",
       "4 Y     15941841 C       0   0     NA   0  \n",
       "5 Y      2710399 G       0   0     NA   0  \n",
       "6 Y     22550838 G       0   0     NA   0  "
      ]
     },
     "metadata": {},
     "output_type": "display_data"
    }
   ],
   "source": [
    "filter(den8, is.na(cons) & !(is.na(cons) & is.na(tol))) %>%\n",
    "    group_by(alts = ALT == \"\") %>% sample_n(3) %>% ungroup %>% select(-alts)"
   ]
  },
  {
   "cell_type": "code",
   "execution_count": 33,
   "metadata": {},
   "outputs": [
    {
     "data": {
      "text/html": [
       "<table>\n",
       "<caption>A tibble: 0 × 8</caption>\n",
       "<thead>\n",
       "\t<tr><th scope=col>chrom</th><th scope=col>pos</th><th scope=col>REF</th><th scope=col>ALT</th><th scope=col>baq</th><th scope=col>nobaq</th><th scope=col>cons</th><th scope=col>tol</th></tr>\n",
       "\t<tr><th scope=col>&lt;chr&gt;</th><th scope=col>&lt;int&gt;</th><th scope=col>&lt;chr&gt;</th><th scope=col>&lt;chr&gt;</th><th scope=col>&lt;dbl&gt;</th><th scope=col>&lt;dbl&gt;</th><th scope=col>&lt;dbl&gt;</th><th scope=col>&lt;dbl&gt;</th></tr>\n",
       "</thead>\n",
       "<tbody>\n",
       "</tbody>\n",
       "</table>\n"
      ],
      "text/latex": [
       "A tibble: 0 × 8\n",
       "\\begin{tabular}{llllllll}\n",
       " chrom & pos & REF & ALT & baq & nobaq & cons & tol\\\\\n",
       " <chr> & <int> & <chr> & <chr> & <dbl> & <dbl> & <dbl> & <dbl>\\\\\n",
       "\\hline\n",
       "\\end{tabular}\n"
      ],
      "text/markdown": [
       "\n",
       "A tibble: 0 × 8\n",
       "\n",
       "| chrom &lt;chr&gt; | pos &lt;int&gt; | REF &lt;chr&gt; | ALT &lt;chr&gt; | baq &lt;dbl&gt; | nobaq &lt;dbl&gt; | cons &lt;dbl&gt; | tol &lt;dbl&gt; |\n",
       "|---|---|---|---|---|---|---|---|\n",
       "\n"
      ],
      "text/plain": [
       "     chrom pos REF ALT baq nobaq cons tol"
      ]
     },
     "metadata": {},
     "output_type": "display_data"
    }
   ],
   "source": [
    "filter(den8, tol != baq | tol != nobaq)"
   ]
  },
  {
   "cell_type": "markdown",
   "metadata": {},
   "source": [
    "# Spy 1 (low coverage archaic, even more extreme case)\n",
    "\n",
    "At 90% consensus cutoff we expect the lower coverage genotypes to be the same as strict 100% consensus, same as for Denisova 8 analysed above."
   ]
  },
  {
   "cell_type": "code",
   "execution_count": 34,
   "metadata": {},
   "outputs": [
    {
     "data": {
      "text/html": [
       "3558957"
      ],
      "text/latex": [
       "3558957"
      ],
      "text/markdown": [
       "3558957"
      ],
      "text/plain": [
       "[1] 3558957"
      ]
     },
     "metadata": {},
     "output_type": "display_data"
    }
   ],
   "source": [
    "read_vcf(here(\"test/spy1_baq.vcf.gz\"), mindp = 3, maxdp = 0.98) %>% nrow"
   ]
  },
  {
   "cell_type": "code",
   "execution_count": 35,
   "metadata": {},
   "outputs": [
    {
     "data": {
      "text/html": [
       "3558957"
      ],
      "text/latex": [
       "3558957"
      ],
      "text/markdown": [
       "3558957"
      ],
      "text/plain": [
       "[1] 3558957"
      ]
     },
     "metadata": {},
     "output_type": "display_data"
    }
   ],
   "source": [
    "read_vcf(here(\"test/spy1_nobaq.vcf.gz\"), mindp = 3, maxdp = 0.98) %>% nrow"
   ]
  },
  {
   "cell_type": "code",
   "execution_count": 36,
   "metadata": {},
   "outputs": [
    {
     "data": {
      "text/html": [
       "3502149"
      ],
      "text/latex": [
       "3502149"
      ],
      "text/markdown": [
       "3502149"
      ],
      "text/plain": [
       "[1] 3502149"
      ]
     },
     "metadata": {},
     "output_type": "display_data"
    }
   ],
   "source": [
    "read_vcf(here(\"test/spy1_consensus.vcf.gz\"), mindp = 3, maxdp = 0.98) %>% nrow"
   ]
  },
  {
   "cell_type": "code",
   "execution_count": 37,
   "metadata": {},
   "outputs": [
    {
     "data": {
      "text/html": [
       "3502380"
      ],
      "text/latex": [
       "3502380"
      ],
      "text/markdown": [
       "3502380"
      ],
      "text/plain": [
       "[1] 3502380"
      ]
     },
     "metadata": {},
     "output_type": "display_data"
    }
   ],
   "source": [
    "read_vcf(here(\"test/spy1_tolerance.vcf.gz\"), mindp = 3, maxdp = 0.98) %>% nrow"
   ]
  },
  {
   "cell_type": "code",
   "execution_count": 38,
   "metadata": {},
   "outputs": [],
   "source": [
    "spy1 <- read_vcf(here(\"test/genotyping_spy1.vcf.gz\"), mindp = 3, maxdp = 0.98) %>%\n",
    "    filter(!is.na(baq) | !is.na(nobaq) | !is.na(cons) | !is.na(tol))"
   ]
  },
  {
   "cell_type": "code",
   "execution_count": 39,
   "metadata": {},
   "outputs": [
    {
     "data": {
      "text/html": [
       "611817"
      ],
      "text/latex": [
       "611817"
      ],
      "text/markdown": [
       "611817"
      ],
      "text/plain": [
       "[1] 611817"
      ]
     },
     "metadata": {},
     "output_type": "display_data"
    }
   ],
   "source": [
    "nrow(spy1)"
   ]
  },
  {
   "cell_type": "code",
   "execution_count": 40,
   "metadata": {},
   "outputs": [
    {
     "data": {
      "text/html": [
       "<table>\n",
       "<caption>A tibble: 20 × 8</caption>\n",
       "<thead>\n",
       "\t<tr><th scope=col>chrom</th><th scope=col>pos</th><th scope=col>REF</th><th scope=col>ALT</th><th scope=col>baq</th><th scope=col>nobaq</th><th scope=col>cons</th><th scope=col>tol</th></tr>\n",
       "\t<tr><th scope=col>&lt;chr&gt;</th><th scope=col>&lt;int&gt;</th><th scope=col>&lt;chr&gt;</th><th scope=col>&lt;chr&gt;</th><th scope=col>&lt;dbl&gt;</th><th scope=col>&lt;dbl&gt;</th><th scope=col>&lt;dbl&gt;</th><th scope=col>&lt;dbl&gt;</th></tr>\n",
       "</thead>\n",
       "<tbody>\n",
       "\t<tr><td>Y</td><td>21843326</td><td>G</td><td>A</td><td>1</td><td>0</td><td>NA</td><td>NA</td></tr>\n",
       "\t<tr><td>Y</td><td>15833781</td><td>G</td><td>A</td><td>1</td><td>0</td><td>NA</td><td>NA</td></tr>\n",
       "\t<tr><td>Y</td><td> 6792204</td><td>G</td><td>A</td><td>0</td><td>1</td><td>NA</td><td>NA</td></tr>\n",
       "\t<tr><td>Y</td><td> 8458374</td><td>C</td><td>T</td><td>0</td><td>1</td><td>NA</td><td>NA</td></tr>\n",
       "\t<tr><td>Y</td><td> 8707564</td><td>G</td><td>A</td><td>0</td><td>1</td><td>NA</td><td>NA</td></tr>\n",
       "\t<tr><td>Y</td><td>23030051</td><td>C</td><td>T</td><td>0</td><td>1</td><td>NA</td><td>NA</td></tr>\n",
       "\t<tr><td>Y</td><td> 7198293</td><td>C</td><td>A</td><td>0</td><td>1</td><td>NA</td><td>NA</td></tr>\n",
       "\t<tr><td>Y</td><td>19341925</td><td>G</td><td>A</td><td>0</td><td>1</td><td>NA</td><td>NA</td></tr>\n",
       "\t<tr><td>Y</td><td>15315939</td><td>G</td><td>A</td><td>0</td><td>1</td><td>NA</td><td>NA</td></tr>\n",
       "\t<tr><td>Y</td><td>23158566</td><td>C</td><td>G</td><td>1</td><td>0</td><td>NA</td><td>NA</td></tr>\n",
       "\t<tr><td>Y</td><td>22567991</td><td>G</td><td>A</td><td>0</td><td>1</td><td>NA</td><td>NA</td></tr>\n",
       "\t<tr><td>Y</td><td>19519649</td><td>C</td><td>T</td><td>0</td><td>1</td><td>NA</td><td>NA</td></tr>\n",
       "\t<tr><td>Y</td><td> 8299933</td><td>G</td><td>T</td><td>0</td><td>1</td><td>NA</td><td>NA</td></tr>\n",
       "\t<tr><td>Y</td><td>23617251</td><td>C</td><td>T</td><td>0</td><td>1</td><td>NA</td><td>NA</td></tr>\n",
       "\t<tr><td>Y</td><td>15315942</td><td>G</td><td>A</td><td>0</td><td>1</td><td>NA</td><td>NA</td></tr>\n",
       "\t<tr><td>Y</td><td>22825818</td><td>G</td><td>A</td><td>0</td><td>1</td><td>NA</td><td>NA</td></tr>\n",
       "\t<tr><td>Y</td><td>23385489</td><td>C</td><td>A</td><td>0</td><td>1</td><td>NA</td><td>NA</td></tr>\n",
       "\t<tr><td>Y</td><td>15241736</td><td>G</td><td>A</td><td>0</td><td>1</td><td>NA</td><td>NA</td></tr>\n",
       "\t<tr><td>Y</td><td>15535943</td><td>C</td><td>T</td><td>0</td><td>1</td><td>NA</td><td>NA</td></tr>\n",
       "\t<tr><td>Y</td><td>21242313</td><td>C</td><td>T</td><td>0</td><td>1</td><td>NA</td><td>NA</td></tr>\n",
       "</tbody>\n",
       "</table>\n"
      ],
      "text/latex": [
       "A tibble: 20 × 8\n",
       "\\begin{tabular}{llllllll}\n",
       " chrom & pos & REF & ALT & baq & nobaq & cons & tol\\\\\n",
       " <chr> & <int> & <chr> & <chr> & <dbl> & <dbl> & <dbl> & <dbl>\\\\\n",
       "\\hline\n",
       "\t Y & 21843326 & G & A & 1 & 0 & NA & NA\\\\\n",
       "\t Y & 15833781 & G & A & 1 & 0 & NA & NA\\\\\n",
       "\t Y &  6792204 & G & A & 0 & 1 & NA & NA\\\\\n",
       "\t Y &  8458374 & C & T & 0 & 1 & NA & NA\\\\\n",
       "\t Y &  8707564 & G & A & 0 & 1 & NA & NA\\\\\n",
       "\t Y & 23030051 & C & T & 0 & 1 & NA & NA\\\\\n",
       "\t Y &  7198293 & C & A & 0 & 1 & NA & NA\\\\\n",
       "\t Y & 19341925 & G & A & 0 & 1 & NA & NA\\\\\n",
       "\t Y & 15315939 & G & A & 0 & 1 & NA & NA\\\\\n",
       "\t Y & 23158566 & C & G & 1 & 0 & NA & NA\\\\\n",
       "\t Y & 22567991 & G & A & 0 & 1 & NA & NA\\\\\n",
       "\t Y & 19519649 & C & T & 0 & 1 & NA & NA\\\\\n",
       "\t Y &  8299933 & G & T & 0 & 1 & NA & NA\\\\\n",
       "\t Y & 23617251 & C & T & 0 & 1 & NA & NA\\\\\n",
       "\t Y & 15315942 & G & A & 0 & 1 & NA & NA\\\\\n",
       "\t Y & 22825818 & G & A & 0 & 1 & NA & NA\\\\\n",
       "\t Y & 23385489 & C & A & 0 & 1 & NA & NA\\\\\n",
       "\t Y & 15241736 & G & A & 0 & 1 & NA & NA\\\\\n",
       "\t Y & 15535943 & C & T & 0 & 1 & NA & NA\\\\\n",
       "\t Y & 21242313 & C & T & 0 & 1 & NA & NA\\\\\n",
       "\\end{tabular}\n"
      ],
      "text/markdown": [
       "\n",
       "A tibble: 20 × 8\n",
       "\n",
       "| chrom &lt;chr&gt; | pos &lt;int&gt; | REF &lt;chr&gt; | ALT &lt;chr&gt; | baq &lt;dbl&gt; | nobaq &lt;dbl&gt; | cons &lt;dbl&gt; | tol &lt;dbl&gt; |\n",
       "|---|---|---|---|---|---|---|---|\n",
       "| Y | 21843326 | G | A | 1 | 0 | NA | NA |\n",
       "| Y | 15833781 | G | A | 1 | 0 | NA | NA |\n",
       "| Y |  6792204 | G | A | 0 | 1 | NA | NA |\n",
       "| Y |  8458374 | C | T | 0 | 1 | NA | NA |\n",
       "| Y |  8707564 | G | A | 0 | 1 | NA | NA |\n",
       "| Y | 23030051 | C | T | 0 | 1 | NA | NA |\n",
       "| Y |  7198293 | C | A | 0 | 1 | NA | NA |\n",
       "| Y | 19341925 | G | A | 0 | 1 | NA | NA |\n",
       "| Y | 15315939 | G | A | 0 | 1 | NA | NA |\n",
       "| Y | 23158566 | C | G | 1 | 0 | NA | NA |\n",
       "| Y | 22567991 | G | A | 0 | 1 | NA | NA |\n",
       "| Y | 19519649 | C | T | 0 | 1 | NA | NA |\n",
       "| Y |  8299933 | G | T | 0 | 1 | NA | NA |\n",
       "| Y | 23617251 | C | T | 0 | 1 | NA | NA |\n",
       "| Y | 15315942 | G | A | 0 | 1 | NA | NA |\n",
       "| Y | 22825818 | G | A | 0 | 1 | NA | NA |\n",
       "| Y | 23385489 | C | A | 0 | 1 | NA | NA |\n",
       "| Y | 15241736 | G | A | 0 | 1 | NA | NA |\n",
       "| Y | 15535943 | C | T | 0 | 1 | NA | NA |\n",
       "| Y | 21242313 | C | T | 0 | 1 | NA | NA |\n",
       "\n"
      ],
      "text/plain": [
       "   chrom pos      REF ALT baq nobaq cons tol\n",
       "1  Y     21843326 G   A   1   0     NA   NA \n",
       "2  Y     15833781 G   A   1   0     NA   NA \n",
       "3  Y      6792204 G   A   0   1     NA   NA \n",
       "4  Y      8458374 C   T   0   1     NA   NA \n",
       "5  Y      8707564 G   A   0   1     NA   NA \n",
       "6  Y     23030051 C   T   0   1     NA   NA \n",
       "7  Y      7198293 C   A   0   1     NA   NA \n",
       "8  Y     19341925 G   A   0   1     NA   NA \n",
       "9  Y     15315939 G   A   0   1     NA   NA \n",
       "10 Y     23158566 C   G   1   0     NA   NA \n",
       "11 Y     22567991 G   A   0   1     NA   NA \n",
       "12 Y     19519649 C   T   0   1     NA   NA \n",
       "13 Y      8299933 G   T   0   1     NA   NA \n",
       "14 Y     23617251 C   T   0   1     NA   NA \n",
       "15 Y     15315942 G   A   0   1     NA   NA \n",
       "16 Y     22825818 G   A   0   1     NA   NA \n",
       "17 Y     23385489 C   A   0   1     NA   NA \n",
       "18 Y     15241736 G   A   0   1     NA   NA \n",
       "19 Y     15535943 C   T   0   1     NA   NA \n",
       "20 Y     21242313 C   T   0   1     NA   NA "
      ]
     },
     "metadata": {},
     "output_type": "display_data"
    }
   ],
   "source": [
    "filter(spy1, baq != nobaq) %>% sample_n(20)"
   ]
  },
  {
   "cell_type": "code",
   "execution_count": 41,
   "metadata": {},
   "outputs": [
    {
     "data": {
      "text/html": [
       "<table>\n",
       "<caption>A grouped_df: 2 × 3</caption>\n",
       "<thead>\n",
       "\t<tr><th scope=col>baq</th><th scope=col>nobaq</th><th scope=col>n</th></tr>\n",
       "\t<tr><th scope=col>&lt;dbl&gt;</th><th scope=col>&lt;dbl&gt;</th><th scope=col>&lt;int&gt;</th></tr>\n",
       "</thead>\n",
       "<tbody>\n",
       "\t<tr><td>0</td><td>1</td><td>61</td></tr>\n",
       "\t<tr><td>1</td><td>0</td><td>14</td></tr>\n",
       "</tbody>\n",
       "</table>\n"
      ],
      "text/latex": [
       "A grouped\\_df: 2 × 3\n",
       "\\begin{tabular}{lll}\n",
       " baq & nobaq & n\\\\\n",
       " <dbl> & <dbl> & <int>\\\\\n",
       "\\hline\n",
       "\t 0 & 1 & 61\\\\\n",
       "\t 1 & 0 & 14\\\\\n",
       "\\end{tabular}\n"
      ],
      "text/markdown": [
       "\n",
       "A grouped_df: 2 × 3\n",
       "\n",
       "| baq &lt;dbl&gt; | nobaq &lt;dbl&gt; | n &lt;int&gt; |\n",
       "|---|---|---|\n",
       "| 0 | 1 | 61 |\n",
       "| 1 | 0 | 14 |\n",
       "\n"
      ],
      "text/plain": [
       "  baq nobaq n \n",
       "1 0   1     61\n",
       "2 1   0     14"
      ]
     },
     "metadata": {},
     "output_type": "display_data"
    }
   ],
   "source": [
    "filter(spy1, baq != nobaq) %>% group_by(baq, nobaq) %>% tally"
   ]
  },
  {
   "cell_type": "code",
   "execution_count": 42,
   "metadata": {},
   "outputs": [
    {
     "data": {
      "text/html": [
       "<table>\n",
       "<caption>A tibble: 0 × 8</caption>\n",
       "<thead>\n",
       "\t<tr><th scope=col>chrom</th><th scope=col>pos</th><th scope=col>REF</th><th scope=col>ALT</th><th scope=col>baq</th><th scope=col>nobaq</th><th scope=col>cons</th><th scope=col>tol</th></tr>\n",
       "\t<tr><th scope=col>&lt;chr&gt;</th><th scope=col>&lt;int&gt;</th><th scope=col>&lt;chr&gt;</th><th scope=col>&lt;chr&gt;</th><th scope=col>&lt;dbl&gt;</th><th scope=col>&lt;dbl&gt;</th><th scope=col>&lt;dbl&gt;</th><th scope=col>&lt;dbl&gt;</th></tr>\n",
       "</thead>\n",
       "<tbody>\n",
       "</tbody>\n",
       "</table>\n"
      ],
      "text/latex": [
       "A tibble: 0 × 8\n",
       "\\begin{tabular}{llllllll}\n",
       " chrom & pos & REF & ALT & baq & nobaq & cons & tol\\\\\n",
       " <chr> & <int> & <chr> & <chr> & <dbl> & <dbl> & <dbl> & <dbl>\\\\\n",
       "\\hline\n",
       "\\end{tabular}\n"
      ],
      "text/markdown": [
       "\n",
       "A tibble: 0 × 8\n",
       "\n",
       "| chrom &lt;chr&gt; | pos &lt;int&gt; | REF &lt;chr&gt; | ALT &lt;chr&gt; | baq &lt;dbl&gt; | nobaq &lt;dbl&gt; | cons &lt;dbl&gt; | tol &lt;dbl&gt; |\n",
       "|---|---|---|---|---|---|---|---|\n",
       "\n"
      ],
      "text/plain": [
       "     chrom pos REF ALT baq nobaq cons tol"
      ]
     },
     "metadata": {},
     "output_type": "display_data"
    }
   ],
   "source": [
    "filter(spy1, cons != tol)"
   ]
  },
  {
   "cell_type": "code",
   "execution_count": 43,
   "metadata": {},
   "outputs": [
    {
     "data": {
      "text/html": [
       "<table>\n",
       "<caption>A tibble: 0 × 8</caption>\n",
       "<thead>\n",
       "\t<tr><th scope=col>chrom</th><th scope=col>pos</th><th scope=col>REF</th><th scope=col>ALT</th><th scope=col>baq</th><th scope=col>nobaq</th><th scope=col>cons</th><th scope=col>tol</th></tr>\n",
       "\t<tr><th scope=col>&lt;chr&gt;</th><th scope=col>&lt;int&gt;</th><th scope=col>&lt;chr&gt;</th><th scope=col>&lt;chr&gt;</th><th scope=col>&lt;dbl&gt;</th><th scope=col>&lt;dbl&gt;</th><th scope=col>&lt;dbl&gt;</th><th scope=col>&lt;dbl&gt;</th></tr>\n",
       "</thead>\n",
       "<tbody>\n",
       "</tbody>\n",
       "</table>\n"
      ],
      "text/latex": [
       "A tibble: 0 × 8\n",
       "\\begin{tabular}{llllllll}\n",
       " chrom & pos & REF & ALT & baq & nobaq & cons & tol\\\\\n",
       " <chr> & <int> & <chr> & <chr> & <dbl> & <dbl> & <dbl> & <dbl>\\\\\n",
       "\\hline\n",
       "\\end{tabular}\n"
      ],
      "text/markdown": [
       "\n",
       "A tibble: 0 × 8\n",
       "\n",
       "| chrom &lt;chr&gt; | pos &lt;int&gt; | REF &lt;chr&gt; | ALT &lt;chr&gt; | baq &lt;dbl&gt; | nobaq &lt;dbl&gt; | cons &lt;dbl&gt; | tol &lt;dbl&gt; |\n",
       "|---|---|---|---|---|---|---|---|\n",
       "\n"
      ],
      "text/plain": [
       "     chrom pos REF ALT baq nobaq cons tol"
      ]
     },
     "metadata": {},
     "output_type": "display_data"
    }
   ],
   "source": [
    "filter(spy1, is.na(cons) & !(is.na(cons) & is.na(tol))) %>%\n",
    "    group_by(alts = ALT == \"\") %>% sample_n(10) %>% ungroup %>% select(-alts)"
   ]
  },
  {
   "cell_type": "code",
   "execution_count": 44,
   "metadata": {},
   "outputs": [
    {
     "data": {
      "text/html": [
       "<table>\n",
       "<caption>A tibble: 0 × 8</caption>\n",
       "<thead>\n",
       "\t<tr><th scope=col>chrom</th><th scope=col>pos</th><th scope=col>REF</th><th scope=col>ALT</th><th scope=col>baq</th><th scope=col>nobaq</th><th scope=col>cons</th><th scope=col>tol</th></tr>\n",
       "\t<tr><th scope=col>&lt;chr&gt;</th><th scope=col>&lt;int&gt;</th><th scope=col>&lt;chr&gt;</th><th scope=col>&lt;chr&gt;</th><th scope=col>&lt;dbl&gt;</th><th scope=col>&lt;dbl&gt;</th><th scope=col>&lt;dbl&gt;</th><th scope=col>&lt;dbl&gt;</th></tr>\n",
       "</thead>\n",
       "<tbody>\n",
       "</tbody>\n",
       "</table>\n"
      ],
      "text/latex": [
       "A tibble: 0 × 8\n",
       "\\begin{tabular}{llllllll}\n",
       " chrom & pos & REF & ALT & baq & nobaq & cons & tol\\\\\n",
       " <chr> & <int> & <chr> & <chr> & <dbl> & <dbl> & <dbl> & <dbl>\\\\\n",
       "\\hline\n",
       "\\end{tabular}\n"
      ],
      "text/markdown": [
       "\n",
       "A tibble: 0 × 8\n",
       "\n",
       "| chrom &lt;chr&gt; | pos &lt;int&gt; | REF &lt;chr&gt; | ALT &lt;chr&gt; | baq &lt;dbl&gt; | nobaq &lt;dbl&gt; | cons &lt;dbl&gt; | tol &lt;dbl&gt; |\n",
       "|---|---|---|---|---|---|---|---|\n",
       "\n"
      ],
      "text/plain": [
       "     chrom pos REF ALT baq nobaq cons tol"
      ]
     },
     "metadata": {},
     "output_type": "display_data"
    }
   ],
   "source": [
    "filter(spy1, tol != baq | tol != nobaq)"
   ]
  }
 ],
 "metadata": {
  "kernelspec": {
   "display_name": "R",
   "language": "R",
   "name": "ir"
  },
  "language_info": {
   "codemirror_mode": "r",
   "file_extension": ".r",
   "mimetype": "text/x-r-source",
   "name": "R",
   "pygments_lexer": "r",
   "version": "3.6.0"
  }
 },
 "nbformat": 4,
 "nbformat_minor": 2
}
