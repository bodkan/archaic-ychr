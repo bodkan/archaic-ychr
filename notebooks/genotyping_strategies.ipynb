{
 "cells": [
  {
   "cell_type": "markdown",
   "metadata": {},
   "source": [
    "# Comparing various genotyping strategies"
   ]
  },
  {
   "cell_type": "code",
   "execution_count": 1,
   "metadata": {},
   "outputs": [
    {
     "name": "stderr",
     "output_type": "stream",
     "text": [
      "── \u001b[1mAttaching packages\u001b[22m ─────────────────────────────────────── tidyverse 1.2.1 ──\n",
      "\u001b[32m✔\u001b[39m \u001b[34mggplot2\u001b[39m 3.2.1     \u001b[32m✔\u001b[39m \u001b[34mpurrr  \u001b[39m 0.3.2\n",
      "\u001b[32m✔\u001b[39m \u001b[34mtibble \u001b[39m 2.1.3     \u001b[32m✔\u001b[39m \u001b[34mdplyr  \u001b[39m 0.8.3\n",
      "\u001b[32m✔\u001b[39m \u001b[34mtidyr  \u001b[39m 1.0.0     \u001b[32m✔\u001b[39m \u001b[34mstringr\u001b[39m 1.4.0\n",
      "\u001b[32m✔\u001b[39m \u001b[34mreadr  \u001b[39m 1.3.1     \u001b[32m✔\u001b[39m \u001b[34mforcats\u001b[39m 0.4.0\n",
      "── \u001b[1mConflicts\u001b[22m ────────────────────────────────────────── tidyverse_conflicts() ──\n",
      "\u001b[31m✖\u001b[39m \u001b[34mdplyr\u001b[39m::\u001b[32mfilter()\u001b[39m masks \u001b[34mstats\u001b[39m::filter()\n",
      "\u001b[31m✖\u001b[39m \u001b[34mdplyr\u001b[39m::\u001b[32mlag()\u001b[39m    masks \u001b[34mstats\u001b[39m::lag()\n",
      "here() starts at /mnt/expressions/mp/ychr\n",
      "Loading ychr\n"
     ]
    }
   ],
   "source": [
    "library(tidyverse)\n",
    "library(here)\n",
    "\n",
    "devtools::load_all(\".\")"
   ]
  },
  {
   "cell_type": "markdown",
   "metadata": {},
   "source": [
    "# A00"
   ]
  },
  {
   "cell_type": "markdown",
   "metadata": {},
   "source": [
    "We can clearly see that the strict consensus produces the smalles number of genotypes. The fact that the difference is fairly small is because the rate of sequencing errors is expected to be relatively low. However, the consensus-vs-tolerance difference is much more extreme for the ancient Y chromosomes below due to significant proportion of false aDNA damage alleles in many of the reads."
   ]
  },
  {
   "cell_type": "code",
   "execution_count": 2,
   "metadata": {},
   "outputs": [
    {
     "data": {
      "text/html": [
       "6909567"
      ],
      "text/latex": [
       "6909567"
      ],
      "text/markdown": [
       "6909567"
      ],
      "text/plain": [
       "[1] 6909567"
      ]
     },
     "metadata": {},
     "output_type": "display_data"
    }
   ],
   "source": [
    "read_vcf(here(\"test/a00_baq.vcf.gz\"), mindp = 3, maxdp = 0.98) %>% nrow"
   ]
  },
  {
   "cell_type": "code",
   "execution_count": 3,
   "metadata": {},
   "outputs": [
    {
     "data": {
      "text/html": [
       "6909567"
      ],
      "text/latex": [
       "6909567"
      ],
      "text/markdown": [
       "6909567"
      ],
      "text/plain": [
       "[1] 6909567"
      ]
     },
     "metadata": {},
     "output_type": "display_data"
    }
   ],
   "source": [
    "read_vcf(here(\"test/a00_nobaq.vcf.gz\"), mindp = 3, maxdp = 0.98) %>% nrow"
   ]
  },
  {
   "cell_type": "code",
   "execution_count": 4,
   "metadata": {},
   "outputs": [
    {
     "data": {
      "text/html": [
       "6789999"
      ],
      "text/latex": [
       "6789999"
      ],
      "text/markdown": [
       "6789999"
      ],
      "text/plain": [
       "[1] 6789999"
      ]
     },
     "metadata": {},
     "output_type": "display_data"
    }
   ],
   "source": [
    "read_vcf(here(\"test/a00_consensus.vcf.gz\"), mindp = 3, maxdp = 0.98) %>% nrow"
   ]
  },
  {
   "cell_type": "code",
   "execution_count": 5,
   "metadata": {},
   "outputs": [
    {
     "data": {
      "text/html": [
       "6873362"
      ],
      "text/latex": [
       "6873362"
      ],
      "text/markdown": [
       "6873362"
      ],
      "text/plain": [
       "[1] 6873362"
      ]
     },
     "metadata": {},
     "output_type": "display_data"
    }
   ],
   "source": [
    "read_vcf(here(\"test/a00_tolerance.vcf.gz\"), mindp = 3, maxdp = 0.98) %>% nrow"
   ]
  },
  {
   "cell_type": "code",
   "execution_count": 6,
   "metadata": {},
   "outputs": [],
   "source": [
    "a00 <- read_vcf(here(\"test/genotyping_a00.vcf.gz\"), mindp = 3, maxdp = 0.98) %>%\n",
    "    filter(!is.na(baq) | !is.na(nobaq) | !is.na(cons) | !is.na(tol))"
   ]
  },
  {
   "cell_type": "code",
   "execution_count": 7,
   "metadata": {},
   "outputs": [
    {
     "data": {
      "text/html": [
       "6777850"
      ],
      "text/latex": [
       "6777850"
      ],
      "text/markdown": [
       "6777850"
      ],
      "text/plain": [
       "[1] 6777850"
      ]
     },
     "metadata": {},
     "output_type": "display_data"
    }
   ],
   "source": [
    "nrow(a00)"
   ]
  },
  {
   "cell_type": "markdown",
   "metadata": {},
   "source": [
    "Sites which are differently called under bcftools with or without BAQ option are very weird and manual inspection of the alignments shows that it's pretty much impossible to tell which are the true variants sites and which are errors. I don't really understand why does bcftools even call an allele in cases like this, but I guess they decided on slightly higher false positive rate and put the responsibility for filtering on the user.\n",
    "\n",
    "I'd say being conservative in these particular cases is a good thing (note that my bam-caller decides to rather not call anything at these weird sites). The situation is even worse for the archaic samples below, where we often have a 50:50 mixture of two alleles and bcftools calls pretty much randomly one or another, which is not great."
   ]
  },
  {
   "cell_type": "code",
   "execution_count": 8,
   "metadata": {},
   "outputs": [
    {
     "data": {
      "text/html": [
       "<table>\n",
       "<caption>A tibble: 6 × 8</caption>\n",
       "<thead>\n",
       "\t<tr><th scope=col>chrom</th><th scope=col>pos</th><th scope=col>REF</th><th scope=col>ALT</th><th scope=col>baq</th><th scope=col>nobaq</th><th scope=col>cons</th><th scope=col>tol</th></tr>\n",
       "\t<tr><th scope=col>&lt;chr&gt;</th><th scope=col>&lt;int&gt;</th><th scope=col>&lt;chr&gt;</th><th scope=col>&lt;chr&gt;</th><th scope=col>&lt;dbl&gt;</th><th scope=col>&lt;dbl&gt;</th><th scope=col>&lt;dbl&gt;</th><th scope=col>&lt;dbl&gt;</th></tr>\n",
       "</thead>\n",
       "<tbody>\n",
       "\t<tr><td>Y</td><td> 2805552</td><td>G</td><td>A</td><td>0</td><td>1</td><td>NA</td><td>NA</td></tr>\n",
       "\t<tr><td>Y</td><td> 3715248</td><td>A</td><td>G</td><td>0</td><td>1</td><td>NA</td><td>NA</td></tr>\n",
       "\t<tr><td>Y</td><td> 8561368</td><td>C</td><td>T</td><td>0</td><td>1</td><td>NA</td><td>NA</td></tr>\n",
       "\t<tr><td>Y</td><td> 8561376</td><td>C</td><td>T</td><td>0</td><td>1</td><td>NA</td><td>NA</td></tr>\n",
       "\t<tr><td>Y</td><td>17029481</td><td>G</td><td>A</td><td>0</td><td>1</td><td>NA</td><td>NA</td></tr>\n",
       "\t<tr><td>Y</td><td>17029484</td><td>T</td><td>A</td><td>0</td><td>1</td><td>NA</td><td>NA</td></tr>\n",
       "</tbody>\n",
       "</table>\n"
      ],
      "text/latex": [
       "A tibble: 6 × 8\n",
       "\\begin{tabular}{r|llllllll}\n",
       " chrom & pos & REF & ALT & baq & nobaq & cons & tol\\\\\n",
       " <chr> & <int> & <chr> & <chr> & <dbl> & <dbl> & <dbl> & <dbl>\\\\\n",
       "\\hline\n",
       "\t Y &  2805552 & G & A & 0 & 1 & NA & NA\\\\\n",
       "\t Y &  3715248 & A & G & 0 & 1 & NA & NA\\\\\n",
       "\t Y &  8561368 & C & T & 0 & 1 & NA & NA\\\\\n",
       "\t Y &  8561376 & C & T & 0 & 1 & NA & NA\\\\\n",
       "\t Y & 17029481 & G & A & 0 & 1 & NA & NA\\\\\n",
       "\t Y & 17029484 & T & A & 0 & 1 & NA & NA\\\\\n",
       "\\end{tabular}\n"
      ],
      "text/markdown": [
       "\n",
       "A tibble: 6 × 8\n",
       "\n",
       "| chrom &lt;chr&gt; | pos &lt;int&gt; | REF &lt;chr&gt; | ALT &lt;chr&gt; | baq &lt;dbl&gt; | nobaq &lt;dbl&gt; | cons &lt;dbl&gt; | tol &lt;dbl&gt; |\n",
       "|---|---|---|---|---|---|---|---|\n",
       "| Y |  2805552 | G | A | 0 | 1 | NA | NA |\n",
       "| Y |  3715248 | A | G | 0 | 1 | NA | NA |\n",
       "| Y |  8561368 | C | T | 0 | 1 | NA | NA |\n",
       "| Y |  8561376 | C | T | 0 | 1 | NA | NA |\n",
       "| Y | 17029481 | G | A | 0 | 1 | NA | NA |\n",
       "| Y | 17029484 | T | A | 0 | 1 | NA | NA |\n",
       "\n"
      ],
      "text/plain": [
       "  chrom pos      REF ALT baq nobaq cons tol\n",
       "1 Y      2805552 G   A   0   1     NA   NA \n",
       "2 Y      3715248 A   G   0   1     NA   NA \n",
       "3 Y      8561368 C   T   0   1     NA   NA \n",
       "4 Y      8561376 C   T   0   1     NA   NA \n",
       "5 Y     17029481 G   A   0   1     NA   NA \n",
       "6 Y     17029484 T   A   0   1     NA   NA "
      ]
     },
     "metadata": {},
     "output_type": "display_data"
    }
   ],
   "source": [
    "filter(a00, baq != nobaq)"
   ]
  },
  {
   "cell_type": "code",
   "execution_count": 9,
   "metadata": {},
   "outputs": [
    {
     "data": {
      "text/html": [
       "<table>\n",
       "<caption>A grouped_df: 1 × 3</caption>\n",
       "<thead>\n",
       "\t<tr><th scope=col>baq</th><th scope=col>nobaq</th><th scope=col>n</th></tr>\n",
       "\t<tr><th scope=col>&lt;dbl&gt;</th><th scope=col>&lt;dbl&gt;</th><th scope=col>&lt;int&gt;</th></tr>\n",
       "</thead>\n",
       "<tbody>\n",
       "\t<tr><td>0</td><td>1</td><td>6</td></tr>\n",
       "</tbody>\n",
       "</table>\n"
      ],
      "text/latex": [
       "A grouped_df: 1 × 3\n",
       "\\begin{tabular}{r|lll}\n",
       " baq & nobaq & n\\\\\n",
       " <dbl> & <dbl> & <int>\\\\\n",
       "\\hline\n",
       "\t 0 & 1 & 6\\\\\n",
       "\\end{tabular}\n"
      ],
      "text/markdown": [
       "\n",
       "A grouped_df: 1 × 3\n",
       "\n",
       "| baq &lt;dbl&gt; | nobaq &lt;dbl&gt; | n &lt;int&gt; |\n",
       "|---|---|---|\n",
       "| 0 | 1 | 6 |\n",
       "\n"
      ],
      "text/plain": [
       "  baq nobaq n\n",
       "1 0   1     6"
      ]
     },
     "metadata": {},
     "output_type": "display_data"
    }
   ],
   "source": [
    "filter(a00, baq != nobaq) %>% group_by(baq, nobaq) %>% tally"
   ]
  },
  {
   "cell_type": "code",
   "execution_count": 10,
   "metadata": {},
   "outputs": [
    {
     "data": {
      "text/html": [
       "<table>\n",
       "<caption>A tibble: 20 × 8</caption>\n",
       "<thead>\n",
       "\t<tr><th scope=col>chrom</th><th scope=col>pos</th><th scope=col>REF</th><th scope=col>ALT</th><th scope=col>baq</th><th scope=col>nobaq</th><th scope=col>cons</th><th scope=col>tol</th></tr>\n",
       "\t<tr><th scope=col>&lt;chr&gt;</th><th scope=col>&lt;int&gt;</th><th scope=col>&lt;chr&gt;</th><th scope=col>&lt;chr&gt;</th><th scope=col>&lt;dbl&gt;</th><th scope=col>&lt;dbl&gt;</th><th scope=col>&lt;dbl&gt;</th><th scope=col>&lt;dbl&gt;</th></tr>\n",
       "</thead>\n",
       "<tbody>\n",
       "\t<tr><td>Y</td><td>17566434</td><td>C</td><td>A</td><td> 1</td><td>1</td><td>NA</td><td>1</td></tr>\n",
       "\t<tr><td>Y</td><td>22815525</td><td>T</td><td>A</td><td>NA</td><td>1</td><td>NA</td><td>1</td></tr>\n",
       "\t<tr><td>Y</td><td> 7622916</td><td>A</td><td>T</td><td> 1</td><td>1</td><td>NA</td><td>1</td></tr>\n",
       "\t<tr><td>Y</td><td>15169439</td><td>T</td><td>A</td><td> 1</td><td>1</td><td>NA</td><td>1</td></tr>\n",
       "\t<tr><td>Y</td><td>23973594</td><td>G</td><td>T</td><td> 1</td><td>1</td><td>NA</td><td>1</td></tr>\n",
       "\t<tr><td>Y</td><td> 9863471</td><td>C</td><td>T</td><td> 1</td><td>1</td><td>NA</td><td>1</td></tr>\n",
       "\t<tr><td>Y</td><td>22733758</td><td>G</td><td>C</td><td> 1</td><td>1</td><td>NA</td><td>1</td></tr>\n",
       "\t<tr><td>Y</td><td> 9872017</td><td>T</td><td>C</td><td> 1</td><td>1</td><td>NA</td><td>1</td></tr>\n",
       "\t<tr><td>Y</td><td> 7072995</td><td>T</td><td>G</td><td> 1</td><td>1</td><td>NA</td><td>1</td></tr>\n",
       "\t<tr><td>Y</td><td>16789613</td><td>A</td><td>T</td><td> 1</td><td>1</td><td>NA</td><td>1</td></tr>\n",
       "\t<tr><td>Y</td><td>15656910</td><td>A</td><td> </td><td> 0</td><td>0</td><td>NA</td><td>0</td></tr>\n",
       "\t<tr><td>Y</td><td>14728027</td><td>G</td><td> </td><td> 0</td><td>0</td><td>NA</td><td>0</td></tr>\n",
       "\t<tr><td>Y</td><td>15659670</td><td>A</td><td> </td><td> 0</td><td>0</td><td>NA</td><td>0</td></tr>\n",
       "\t<tr><td>Y</td><td>16481282</td><td>A</td><td> </td><td> 0</td><td>0</td><td>NA</td><td>0</td></tr>\n",
       "\t<tr><td>Y</td><td>17252777</td><td>T</td><td> </td><td> 0</td><td>0</td><td>NA</td><td>0</td></tr>\n",
       "\t<tr><td>Y</td><td>15635414</td><td>T</td><td> </td><td> 0</td><td>0</td><td>NA</td><td>0</td></tr>\n",
       "\t<tr><td>Y</td><td>18815207</td><td>A</td><td> </td><td> 0</td><td>0</td><td>NA</td><td>0</td></tr>\n",
       "\t<tr><td>Y</td><td>18620308</td><td>T</td><td> </td><td> 0</td><td>0</td><td>NA</td><td>0</td></tr>\n",
       "\t<tr><td>Y</td><td> 9169227</td><td>A</td><td> </td><td> 0</td><td>0</td><td>NA</td><td>0</td></tr>\n",
       "\t<tr><td>Y</td><td>23259958</td><td>A</td><td> </td><td> 0</td><td>0</td><td>NA</td><td>0</td></tr>\n",
       "</tbody>\n",
       "</table>\n"
      ],
      "text/latex": [
       "A tibble: 20 × 8\n",
       "\\begin{tabular}{r|llllllll}\n",
       " chrom & pos & REF & ALT & baq & nobaq & cons & tol\\\\\n",
       " <chr> & <int> & <chr> & <chr> & <dbl> & <dbl> & <dbl> & <dbl>\\\\\n",
       "\\hline\n",
       "\t Y & 17566434 & C & A &  1 & 1 & NA & 1\\\\\n",
       "\t Y & 22815525 & T & A & NA & 1 & NA & 1\\\\\n",
       "\t Y &  7622916 & A & T &  1 & 1 & NA & 1\\\\\n",
       "\t Y & 15169439 & T & A &  1 & 1 & NA & 1\\\\\n",
       "\t Y & 23973594 & G & T &  1 & 1 & NA & 1\\\\\n",
       "\t Y &  9863471 & C & T &  1 & 1 & NA & 1\\\\\n",
       "\t Y & 22733758 & G & C &  1 & 1 & NA & 1\\\\\n",
       "\t Y &  9872017 & T & C &  1 & 1 & NA & 1\\\\\n",
       "\t Y &  7072995 & T & G &  1 & 1 & NA & 1\\\\\n",
       "\t Y & 16789613 & A & T &  1 & 1 & NA & 1\\\\\n",
       "\t Y & 15656910 & A &   &  0 & 0 & NA & 0\\\\\n",
       "\t Y & 14728027 & G &   &  0 & 0 & NA & 0\\\\\n",
       "\t Y & 15659670 & A &   &  0 & 0 & NA & 0\\\\\n",
       "\t Y & 16481282 & A &   &  0 & 0 & NA & 0\\\\\n",
       "\t Y & 17252777 & T &   &  0 & 0 & NA & 0\\\\\n",
       "\t Y & 15635414 & T &   &  0 & 0 & NA & 0\\\\\n",
       "\t Y & 18815207 & A &   &  0 & 0 & NA & 0\\\\\n",
       "\t Y & 18620308 & T &   &  0 & 0 & NA & 0\\\\\n",
       "\t Y &  9169227 & A &   &  0 & 0 & NA & 0\\\\\n",
       "\t Y & 23259958 & A &   &  0 & 0 & NA & 0\\\\\n",
       "\\end{tabular}\n"
      ],
      "text/markdown": [
       "\n",
       "A tibble: 20 × 8\n",
       "\n",
       "| chrom &lt;chr&gt; | pos &lt;int&gt; | REF &lt;chr&gt; | ALT &lt;chr&gt; | baq &lt;dbl&gt; | nobaq &lt;dbl&gt; | cons &lt;dbl&gt; | tol &lt;dbl&gt; |\n",
       "|---|---|---|---|---|---|---|---|\n",
       "| Y | 17566434 | C | A |  1 | 1 | NA | 1 |\n",
       "| Y | 22815525 | T | A | NA | 1 | NA | 1 |\n",
       "| Y |  7622916 | A | T |  1 | 1 | NA | 1 |\n",
       "| Y | 15169439 | T | A |  1 | 1 | NA | 1 |\n",
       "| Y | 23973594 | G | T |  1 | 1 | NA | 1 |\n",
       "| Y |  9863471 | C | T |  1 | 1 | NA | 1 |\n",
       "| Y | 22733758 | G | C |  1 | 1 | NA | 1 |\n",
       "| Y |  9872017 | T | C |  1 | 1 | NA | 1 |\n",
       "| Y |  7072995 | T | G |  1 | 1 | NA | 1 |\n",
       "| Y | 16789613 | A | T |  1 | 1 | NA | 1 |\n",
       "| Y | 15656910 | A | <!----> |  0 | 0 | NA | 0 |\n",
       "| Y | 14728027 | G | <!----> |  0 | 0 | NA | 0 |\n",
       "| Y | 15659670 | A | <!----> |  0 | 0 | NA | 0 |\n",
       "| Y | 16481282 | A | <!----> |  0 | 0 | NA | 0 |\n",
       "| Y | 17252777 | T | <!----> |  0 | 0 | NA | 0 |\n",
       "| Y | 15635414 | T | <!----> |  0 | 0 | NA | 0 |\n",
       "| Y | 18815207 | A | <!----> |  0 | 0 | NA | 0 |\n",
       "| Y | 18620308 | T | <!----> |  0 | 0 | NA | 0 |\n",
       "| Y |  9169227 | A | <!----> |  0 | 0 | NA | 0 |\n",
       "| Y | 23259958 | A | <!----> |  0 | 0 | NA | 0 |\n",
       "\n"
      ],
      "text/plain": [
       "   chrom pos      REF ALT baq nobaq cons tol\n",
       "1  Y     17566434 C   A    1  1     NA   1  \n",
       "2  Y     22815525 T   A   NA  1     NA   1  \n",
       "3  Y      7622916 A   T    1  1     NA   1  \n",
       "4  Y     15169439 T   A    1  1     NA   1  \n",
       "5  Y     23973594 G   T    1  1     NA   1  \n",
       "6  Y      9863471 C   T    1  1     NA   1  \n",
       "7  Y     22733758 G   C    1  1     NA   1  \n",
       "8  Y      9872017 T   C    1  1     NA   1  \n",
       "9  Y      7072995 T   G    1  1     NA   1  \n",
       "10 Y     16789613 A   T    1  1     NA   1  \n",
       "11 Y     15656910 A        0  0     NA   0  \n",
       "12 Y     14728027 G        0  0     NA   0  \n",
       "13 Y     15659670 A        0  0     NA   0  \n",
       "14 Y     16481282 A        0  0     NA   0  \n",
       "15 Y     17252777 T        0  0     NA   0  \n",
       "16 Y     15635414 T        0  0     NA   0  \n",
       "17 Y     18815207 A        0  0     NA   0  \n",
       "18 Y     18620308 T        0  0     NA   0  \n",
       "19 Y      9169227 A        0  0     NA   0  \n",
       "20 Y     23259958 A        0  0     NA   0  "
      ]
     },
     "metadata": {},
     "output_type": "display_data"
    }
   ],
   "source": [
    "filter(a00, is.na(cons) & !(is.na(cons) & is.na(tol))) %>%\n",
    "    group_by(alts = ALT == \"\") %>% sample_n(10) %>% ungroup %>% select(-alts)"
   ]
  },
  {
   "cell_type": "code",
   "execution_count": 11,
   "metadata": {},
   "outputs": [
    {
     "data": {
      "text/html": [
       "<table>\n",
       "<caption>A tibble: 0 × 8</caption>\n",
       "<thead>\n",
       "\t<tr><th scope=col>chrom</th><th scope=col>pos</th><th scope=col>REF</th><th scope=col>ALT</th><th scope=col>baq</th><th scope=col>nobaq</th><th scope=col>cons</th><th scope=col>tol</th></tr>\n",
       "\t<tr><th scope=col>&lt;chr&gt;</th><th scope=col>&lt;int&gt;</th><th scope=col>&lt;chr&gt;</th><th scope=col>&lt;chr&gt;</th><th scope=col>&lt;dbl&gt;</th><th scope=col>&lt;dbl&gt;</th><th scope=col>&lt;dbl&gt;</th><th scope=col>&lt;dbl&gt;</th></tr>\n",
       "</thead>\n",
       "<tbody>\n",
       "</tbody>\n",
       "</table>\n"
      ],
      "text/latex": [
       "A tibble: 0 × 8\n",
       "\\begin{tabular}{r|llllllll}\n",
       " chrom & pos & REF & ALT & baq & nobaq & cons & tol\\\\\n",
       " <chr> & <int> & <chr> & <chr> & <dbl> & <dbl> & <dbl> & <dbl>\\\\\n",
       "\\hline\n",
       "\\end{tabular}\n"
      ],
      "text/markdown": [
       "\n",
       "A tibble: 0 × 8\n",
       "\n",
       "| chrom &lt;chr&gt; | pos &lt;int&gt; | REF &lt;chr&gt; | ALT &lt;chr&gt; | baq &lt;dbl&gt; | nobaq &lt;dbl&gt; | cons &lt;dbl&gt; | tol &lt;dbl&gt; |\n",
       "|---|---|---|---|---|---|---|---|\n",
       "\n"
      ],
      "text/plain": [
       "     chrom pos REF ALT baq nobaq cons tol"
      ]
     },
     "metadata": {},
     "output_type": "display_data"
    }
   ],
   "source": [
    "filter(a00, tol != baq | tol != nobaq)"
   ]
  },
  {
   "cell_type": "markdown",
   "metadata": {},
   "source": [
    "Based on the table right above, whenever we call an allele with the 90% tolerance consensus cutoff these calls are consistent with bcftools. So the only thing we are losing are calls which would be unreliable anyway, based on the manual inspection of alignments above."
   ]
  },
  {
   "cell_type": "markdown",
   "metadata": {},
   "source": [
    "# Mezmaiskaya 2 (high-coverage archaic, ideal case)"
   ]
  },
  {
   "cell_type": "code",
   "execution_count": 12,
   "metadata": {},
   "outputs": [
    {
     "data": {
      "text/html": [
       "6670600"
      ],
      "text/latex": [
       "6670600"
      ],
      "text/markdown": [
       "6670600"
      ],
      "text/plain": [
       "[1] 6670600"
      ]
     },
     "metadata": {},
     "output_type": "display_data"
    }
   ],
   "source": [
    "read_vcf(here(\"test/mez2_baq.vcf.gz\"), mindp = 3, maxdp = 0.98) %>% nrow"
   ]
  },
  {
   "cell_type": "code",
   "execution_count": 13,
   "metadata": {},
   "outputs": [
    {
     "data": {
      "text/html": [
       "6670600"
      ],
      "text/latex": [
       "6670600"
      ],
      "text/markdown": [
       "6670600"
      ],
      "text/plain": [
       "[1] 6670600"
      ]
     },
     "metadata": {},
     "output_type": "display_data"
    }
   ],
   "source": [
    "read_vcf(here(\"test/mez2_nobaq.vcf.gz\"), mindp = 3, maxdp = 0.98) %>% nrow"
   ]
  },
  {
   "cell_type": "markdown",
   "metadata": {},
   "source": [
    "Notice the crazy drop in called SNPs when we do 100% strict consensus! This is the effect of aDNA damage SNPs throughout aDNA reads."
   ]
  },
  {
   "cell_type": "code",
   "execution_count": 14,
   "metadata": {},
   "outputs": [
    {
     "data": {
      "text/html": [
       "5502469"
      ],
      "text/latex": [
       "5502469"
      ],
      "text/markdown": [
       "5502469"
      ],
      "text/plain": [
       "[1] 5502469"
      ]
     },
     "metadata": {},
     "output_type": "display_data"
    }
   ],
   "source": [
    "read_vcf(here(\"test/mez2_consensus.vcf.gz\"), mindp = 3, maxdp = 0.98) %>% nrow"
   ]
  },
  {
   "cell_type": "code",
   "execution_count": 15,
   "metadata": {},
   "outputs": [
    {
     "data": {
      "text/html": [
       "6349143"
      ],
      "text/latex": [
       "6349143"
      ],
      "text/markdown": [
       "6349143"
      ],
      "text/plain": [
       "[1] 6349143"
      ]
     },
     "metadata": {},
     "output_type": "display_data"
    }
   ],
   "source": [
    "read_vcf(here(\"test/mez2_tolerance.vcf.gz\"), mindp = 3, maxdp = 0.98) %>% nrow"
   ]
  },
  {
   "cell_type": "code",
   "execution_count": 16,
   "metadata": {},
   "outputs": [],
   "source": [
    "mez2 <- read_vcf(here(\"test/genotyping_mez2.vcf.gz\"), mindp = 3, maxdp = 0.98) %>%\n",
    "    filter(!is.na(baq) | !is.na(nobaq) | !is.na(cons) | !is.na(tol))"
   ]
  },
  {
   "cell_type": "code",
   "execution_count": 17,
   "metadata": {},
   "outputs": [
    {
     "data": {
      "text/html": [
       "6359946"
      ],
      "text/latex": [
       "6359946"
      ],
      "text/markdown": [
       "6359946"
      ],
      "text/plain": [
       "[1] 6359946"
      ]
     },
     "metadata": {},
     "output_type": "display_data"
    }
   ],
   "source": [
    "nrow(mez2)"
   ]
  },
  {
   "cell_type": "code",
   "execution_count": 18,
   "metadata": {},
   "outputs": [
    {
     "data": {
      "text/html": [
       "<table>\n",
       "<caption>A tibble: 20 × 8</caption>\n",
       "<thead>\n",
       "\t<tr><th scope=col>chrom</th><th scope=col>pos</th><th scope=col>REF</th><th scope=col>ALT</th><th scope=col>baq</th><th scope=col>nobaq</th><th scope=col>cons</th><th scope=col>tol</th></tr>\n",
       "\t<tr><th scope=col>&lt;chr&gt;</th><th scope=col>&lt;int&gt;</th><th scope=col>&lt;chr&gt;</th><th scope=col>&lt;chr&gt;</th><th scope=col>&lt;dbl&gt;</th><th scope=col>&lt;dbl&gt;</th><th scope=col>&lt;dbl&gt;</th><th scope=col>&lt;dbl&gt;</th></tr>\n",
       "</thead>\n",
       "<tbody>\n",
       "\t<tr><td>Y</td><td>18938293</td><td>T</td><td>C</td><td>0</td><td>1</td><td>NA</td><td>NA</td></tr>\n",
       "\t<tr><td>Y</td><td> 8363429</td><td>G</td><td>A</td><td>0</td><td>1</td><td>NA</td><td>NA</td></tr>\n",
       "\t<tr><td>Y</td><td>14860080</td><td>A</td><td>G</td><td>0</td><td>1</td><td>NA</td><td>NA</td></tr>\n",
       "\t<tr><td>Y</td><td>15028570</td><td>T</td><td>C</td><td>0</td><td>1</td><td>NA</td><td>NA</td></tr>\n",
       "\t<tr><td>Y</td><td>15787832</td><td>G</td><td>A</td><td>1</td><td>0</td><td>NA</td><td>NA</td></tr>\n",
       "\t<tr><td>Y</td><td> 8316824</td><td>A</td><td>G</td><td>0</td><td>1</td><td>NA</td><td>NA</td></tr>\n",
       "\t<tr><td>Y</td><td> 7386706</td><td>A</td><td>G</td><td>0</td><td>1</td><td>NA</td><td>NA</td></tr>\n",
       "\t<tr><td>Y</td><td>18614096</td><td>A</td><td>G</td><td>0</td><td>1</td><td>NA</td><td>NA</td></tr>\n",
       "\t<tr><td>Y</td><td>23540925</td><td>C</td><td>T</td><td>0</td><td>1</td><td>NA</td><td>NA</td></tr>\n",
       "\t<tr><td>Y</td><td> 7280606</td><td>T</td><td>C</td><td>0</td><td>1</td><td>NA</td><td>NA</td></tr>\n",
       "\t<tr><td>Y</td><td>18083168</td><td>G</td><td>A</td><td>0</td><td>1</td><td>NA</td><td>NA</td></tr>\n",
       "\t<tr><td>Y</td><td>23052718</td><td>G</td><td>A</td><td>0</td><td>1</td><td>NA</td><td>NA</td></tr>\n",
       "\t<tr><td>Y</td><td> 3720007</td><td>C</td><td>A</td><td>0</td><td>1</td><td>NA</td><td>NA</td></tr>\n",
       "\t<tr><td>Y</td><td>22894136</td><td>G</td><td>A</td><td>0</td><td>1</td><td>NA</td><td>NA</td></tr>\n",
       "\t<tr><td>Y</td><td>14729690</td><td>A</td><td>T</td><td>1</td><td>0</td><td>NA</td><td>NA</td></tr>\n",
       "\t<tr><td>Y</td><td>16331533</td><td>G</td><td>A</td><td>0</td><td>1</td><td>NA</td><td>NA</td></tr>\n",
       "\t<tr><td>Y</td><td>16779295</td><td>A</td><td>C</td><td>0</td><td>1</td><td>NA</td><td>NA</td></tr>\n",
       "\t<tr><td>Y</td><td>19564220</td><td>G</td><td>A</td><td>0</td><td>1</td><td>NA</td><td>NA</td></tr>\n",
       "\t<tr><td>Y</td><td> 9984845</td><td>G</td><td>A</td><td>0</td><td>1</td><td>NA</td><td>NA</td></tr>\n",
       "\t<tr><td>Y</td><td>16642127</td><td>G</td><td>A</td><td>0</td><td>1</td><td>NA</td><td>NA</td></tr>\n",
       "</tbody>\n",
       "</table>\n"
      ],
      "text/latex": [
       "A tibble: 20 × 8\n",
       "\\begin{tabular}{r|llllllll}\n",
       " chrom & pos & REF & ALT & baq & nobaq & cons & tol\\\\\n",
       " <chr> & <int> & <chr> & <chr> & <dbl> & <dbl> & <dbl> & <dbl>\\\\\n",
       "\\hline\n",
       "\t Y & 18938293 & T & C & 0 & 1 & NA & NA\\\\\n",
       "\t Y &  8363429 & G & A & 0 & 1 & NA & NA\\\\\n",
       "\t Y & 14860080 & A & G & 0 & 1 & NA & NA\\\\\n",
       "\t Y & 15028570 & T & C & 0 & 1 & NA & NA\\\\\n",
       "\t Y & 15787832 & G & A & 1 & 0 & NA & NA\\\\\n",
       "\t Y &  8316824 & A & G & 0 & 1 & NA & NA\\\\\n",
       "\t Y &  7386706 & A & G & 0 & 1 & NA & NA\\\\\n",
       "\t Y & 18614096 & A & G & 0 & 1 & NA & NA\\\\\n",
       "\t Y & 23540925 & C & T & 0 & 1 & NA & NA\\\\\n",
       "\t Y &  7280606 & T & C & 0 & 1 & NA & NA\\\\\n",
       "\t Y & 18083168 & G & A & 0 & 1 & NA & NA\\\\\n",
       "\t Y & 23052718 & G & A & 0 & 1 & NA & NA\\\\\n",
       "\t Y &  3720007 & C & A & 0 & 1 & NA & NA\\\\\n",
       "\t Y & 22894136 & G & A & 0 & 1 & NA & NA\\\\\n",
       "\t Y & 14729690 & A & T & 1 & 0 & NA & NA\\\\\n",
       "\t Y & 16331533 & G & A & 0 & 1 & NA & NA\\\\\n",
       "\t Y & 16779295 & A & C & 0 & 1 & NA & NA\\\\\n",
       "\t Y & 19564220 & G & A & 0 & 1 & NA & NA\\\\\n",
       "\t Y &  9984845 & G & A & 0 & 1 & NA & NA\\\\\n",
       "\t Y & 16642127 & G & A & 0 & 1 & NA & NA\\\\\n",
       "\\end{tabular}\n"
      ],
      "text/markdown": [
       "\n",
       "A tibble: 20 × 8\n",
       "\n",
       "| chrom &lt;chr&gt; | pos &lt;int&gt; | REF &lt;chr&gt; | ALT &lt;chr&gt; | baq &lt;dbl&gt; | nobaq &lt;dbl&gt; | cons &lt;dbl&gt; | tol &lt;dbl&gt; |\n",
       "|---|---|---|---|---|---|---|---|\n",
       "| Y | 18938293 | T | C | 0 | 1 | NA | NA |\n",
       "| Y |  8363429 | G | A | 0 | 1 | NA | NA |\n",
       "| Y | 14860080 | A | G | 0 | 1 | NA | NA |\n",
       "| Y | 15028570 | T | C | 0 | 1 | NA | NA |\n",
       "| Y | 15787832 | G | A | 1 | 0 | NA | NA |\n",
       "| Y |  8316824 | A | G | 0 | 1 | NA | NA |\n",
       "| Y |  7386706 | A | G | 0 | 1 | NA | NA |\n",
       "| Y | 18614096 | A | G | 0 | 1 | NA | NA |\n",
       "| Y | 23540925 | C | T | 0 | 1 | NA | NA |\n",
       "| Y |  7280606 | T | C | 0 | 1 | NA | NA |\n",
       "| Y | 18083168 | G | A | 0 | 1 | NA | NA |\n",
       "| Y | 23052718 | G | A | 0 | 1 | NA | NA |\n",
       "| Y |  3720007 | C | A | 0 | 1 | NA | NA |\n",
       "| Y | 22894136 | G | A | 0 | 1 | NA | NA |\n",
       "| Y | 14729690 | A | T | 1 | 0 | NA | NA |\n",
       "| Y | 16331533 | G | A | 0 | 1 | NA | NA |\n",
       "| Y | 16779295 | A | C | 0 | 1 | NA | NA |\n",
       "| Y | 19564220 | G | A | 0 | 1 | NA | NA |\n",
       "| Y |  9984845 | G | A | 0 | 1 | NA | NA |\n",
       "| Y | 16642127 | G | A | 0 | 1 | NA | NA |\n",
       "\n"
      ],
      "text/plain": [
       "   chrom pos      REF ALT baq nobaq cons tol\n",
       "1  Y     18938293 T   C   0   1     NA   NA \n",
       "2  Y      8363429 G   A   0   1     NA   NA \n",
       "3  Y     14860080 A   G   0   1     NA   NA \n",
       "4  Y     15028570 T   C   0   1     NA   NA \n",
       "5  Y     15787832 G   A   1   0     NA   NA \n",
       "6  Y      8316824 A   G   0   1     NA   NA \n",
       "7  Y      7386706 A   G   0   1     NA   NA \n",
       "8  Y     18614096 A   G   0   1     NA   NA \n",
       "9  Y     23540925 C   T   0   1     NA   NA \n",
       "10 Y      7280606 T   C   0   1     NA   NA \n",
       "11 Y     18083168 G   A   0   1     NA   NA \n",
       "12 Y     23052718 G   A   0   1     NA   NA \n",
       "13 Y      3720007 C   A   0   1     NA   NA \n",
       "14 Y     22894136 G   A   0   1     NA   NA \n",
       "15 Y     14729690 A   T   1   0     NA   NA \n",
       "16 Y     16331533 G   A   0   1     NA   NA \n",
       "17 Y     16779295 A   C   0   1     NA   NA \n",
       "18 Y     19564220 G   A   0   1     NA   NA \n",
       "19 Y      9984845 G   A   0   1     NA   NA \n",
       "20 Y     16642127 G   A   0   1     NA   NA "
      ]
     },
     "metadata": {},
     "output_type": "display_data"
    }
   ],
   "source": [
    "filter(mez2, baq != nobaq) %>% sample_n(20)"
   ]
  },
  {
   "cell_type": "code",
   "execution_count": 19,
   "metadata": {},
   "outputs": [
    {
     "data": {
      "text/html": [
       "<table>\n",
       "<caption>A grouped_df: 2 × 3</caption>\n",
       "<thead>\n",
       "\t<tr><th scope=col>baq</th><th scope=col>nobaq</th><th scope=col>n</th></tr>\n",
       "\t<tr><th scope=col>&lt;dbl&gt;</th><th scope=col>&lt;dbl&gt;</th><th scope=col>&lt;int&gt;</th></tr>\n",
       "</thead>\n",
       "<tbody>\n",
       "\t<tr><td>0</td><td>1</td><td>35</td></tr>\n",
       "\t<tr><td>1</td><td>0</td><td> 5</td></tr>\n",
       "</tbody>\n",
       "</table>\n"
      ],
      "text/latex": [
       "A grouped_df: 2 × 3\n",
       "\\begin{tabular}{r|lll}\n",
       " baq & nobaq & n\\\\\n",
       " <dbl> & <dbl> & <int>\\\\\n",
       "\\hline\n",
       "\t 0 & 1 & 35\\\\\n",
       "\t 1 & 0 &  5\\\\\n",
       "\\end{tabular}\n"
      ],
      "text/markdown": [
       "\n",
       "A grouped_df: 2 × 3\n",
       "\n",
       "| baq &lt;dbl&gt; | nobaq &lt;dbl&gt; | n &lt;int&gt; |\n",
       "|---|---|---|\n",
       "| 0 | 1 | 35 |\n",
       "| 1 | 0 |  5 |\n",
       "\n"
      ],
      "text/plain": [
       "  baq nobaq n \n",
       "1 0   1     35\n",
       "2 1   0      5"
      ]
     },
     "metadata": {},
     "output_type": "display_data"
    }
   ],
   "source": [
    "filter(mez2, baq != nobaq) %>% group_by(baq, nobaq) %>% tally"
   ]
  },
  {
   "cell_type": "markdown",
   "metadata": {},
   "source": [
    "There shouldn't be any difference between strict and less strict consensus at sites called by both:"
   ]
  },
  {
   "cell_type": "code",
   "execution_count": 20,
   "metadata": {},
   "outputs": [
    {
     "data": {
      "text/html": [
       "<table>\n",
       "<caption>A tibble: 0 × 8</caption>\n",
       "<thead>\n",
       "\t<tr><th scope=col>chrom</th><th scope=col>pos</th><th scope=col>REF</th><th scope=col>ALT</th><th scope=col>baq</th><th scope=col>nobaq</th><th scope=col>cons</th><th scope=col>tol</th></tr>\n",
       "\t<tr><th scope=col>&lt;chr&gt;</th><th scope=col>&lt;int&gt;</th><th scope=col>&lt;chr&gt;</th><th scope=col>&lt;chr&gt;</th><th scope=col>&lt;dbl&gt;</th><th scope=col>&lt;dbl&gt;</th><th scope=col>&lt;dbl&gt;</th><th scope=col>&lt;dbl&gt;</th></tr>\n",
       "</thead>\n",
       "<tbody>\n",
       "</tbody>\n",
       "</table>\n"
      ],
      "text/latex": [
       "A tibble: 0 × 8\n",
       "\\begin{tabular}{r|llllllll}\n",
       " chrom & pos & REF & ALT & baq & nobaq & cons & tol\\\\\n",
       " <chr> & <int> & <chr> & <chr> & <dbl> & <dbl> & <dbl> & <dbl>\\\\\n",
       "\\hline\n",
       "\\end{tabular}\n"
      ],
      "text/markdown": [
       "\n",
       "A tibble: 0 × 8\n",
       "\n",
       "| chrom &lt;chr&gt; | pos &lt;int&gt; | REF &lt;chr&gt; | ALT &lt;chr&gt; | baq &lt;dbl&gt; | nobaq &lt;dbl&gt; | cons &lt;dbl&gt; | tol &lt;dbl&gt; |\n",
       "|---|---|---|---|---|---|---|---|\n",
       "\n"
      ],
      "text/plain": [
       "     chrom pos REF ALT baq nobaq cons tol"
      ]
     },
     "metadata": {},
     "output_type": "display_data"
    }
   ],
   "source": [
    "filter(mez2, cons != tol)"
   ]
  },
  {
   "cell_type": "code",
   "execution_count": 21,
   "metadata": {},
   "outputs": [
    {
     "data": {
      "text/html": [
       "<table>\n",
       "<caption>A tibble: 20 × 8</caption>\n",
       "<thead>\n",
       "\t<tr><th scope=col>chrom</th><th scope=col>pos</th><th scope=col>REF</th><th scope=col>ALT</th><th scope=col>baq</th><th scope=col>nobaq</th><th scope=col>cons</th><th scope=col>tol</th></tr>\n",
       "\t<tr><th scope=col>&lt;chr&gt;</th><th scope=col>&lt;int&gt;</th><th scope=col>&lt;chr&gt;</th><th scope=col>&lt;chr&gt;</th><th scope=col>&lt;dbl&gt;</th><th scope=col>&lt;dbl&gt;</th><th scope=col>&lt;dbl&gt;</th><th scope=col>&lt;dbl&gt;</th></tr>\n",
       "</thead>\n",
       "<tbody>\n",
       "\t<tr><td>Y</td><td>21460975</td><td>G</td><td>A</td><td> 1</td><td>1</td><td>NA</td><td>1</td></tr>\n",
       "\t<tr><td>Y</td><td>18181558</td><td>T</td><td>A</td><td> 1</td><td>1</td><td>NA</td><td>1</td></tr>\n",
       "\t<tr><td>Y</td><td>18754657</td><td>T</td><td>A</td><td>NA</td><td>1</td><td>NA</td><td>1</td></tr>\n",
       "\t<tr><td>Y</td><td>22062576</td><td>G</td><td>C</td><td> 1</td><td>1</td><td>NA</td><td>1</td></tr>\n",
       "\t<tr><td>Y</td><td>14811234</td><td>G</td><td>C</td><td> 1</td><td>1</td><td>NA</td><td>1</td></tr>\n",
       "\t<tr><td>Y</td><td> 8193347</td><td>C</td><td>G</td><td> 1</td><td>1</td><td>NA</td><td>1</td></tr>\n",
       "\t<tr><td>Y</td><td> 7913260</td><td>A</td><td>G</td><td> 1</td><td>1</td><td>NA</td><td>1</td></tr>\n",
       "\t<tr><td>Y</td><td> 9758726</td><td>A</td><td>G</td><td> 1</td><td>1</td><td>NA</td><td>1</td></tr>\n",
       "\t<tr><td>Y</td><td>21346733</td><td>G</td><td>A</td><td> 1</td><td>1</td><td>NA</td><td>1</td></tr>\n",
       "\t<tr><td>Y</td><td>21749329</td><td>A</td><td>G</td><td> 1</td><td>1</td><td>NA</td><td>1</td></tr>\n",
       "\t<tr><td>Y</td><td> 2750897</td><td>C</td><td> </td><td> 0</td><td>0</td><td>NA</td><td>0</td></tr>\n",
       "\t<tr><td>Y</td><td> 7790634</td><td>G</td><td> </td><td> 0</td><td>0</td><td>NA</td><td>0</td></tr>\n",
       "\t<tr><td>Y</td><td>23255198</td><td>G</td><td> </td><td> 0</td><td>0</td><td>NA</td><td>0</td></tr>\n",
       "\t<tr><td>Y</td><td>21407049</td><td>G</td><td> </td><td> 0</td><td>0</td><td>NA</td><td>0</td></tr>\n",
       "\t<tr><td>Y</td><td>14006386</td><td>C</td><td> </td><td> 0</td><td>0</td><td>NA</td><td>0</td></tr>\n",
       "\t<tr><td>Y</td><td>22207948</td><td>C</td><td> </td><td> 0</td><td>0</td><td>NA</td><td>0</td></tr>\n",
       "\t<tr><td>Y</td><td> 8190013</td><td>G</td><td> </td><td> 0</td><td>0</td><td>NA</td><td>0</td></tr>\n",
       "\t<tr><td>Y</td><td> 8132690</td><td>G</td><td> </td><td> 0</td><td>0</td><td>NA</td><td>0</td></tr>\n",
       "\t<tr><td>Y</td><td>15451757</td><td>G</td><td> </td><td> 0</td><td>0</td><td>NA</td><td>0</td></tr>\n",
       "\t<tr><td>Y</td><td>23637927</td><td>T</td><td> </td><td> 0</td><td>0</td><td>NA</td><td>0</td></tr>\n",
       "</tbody>\n",
       "</table>\n"
      ],
      "text/latex": [
       "A tibble: 20 × 8\n",
       "\\begin{tabular}{r|llllllll}\n",
       " chrom & pos & REF & ALT & baq & nobaq & cons & tol\\\\\n",
       " <chr> & <int> & <chr> & <chr> & <dbl> & <dbl> & <dbl> & <dbl>\\\\\n",
       "\\hline\n",
       "\t Y & 21460975 & G & A &  1 & 1 & NA & 1\\\\\n",
       "\t Y & 18181558 & T & A &  1 & 1 & NA & 1\\\\\n",
       "\t Y & 18754657 & T & A & NA & 1 & NA & 1\\\\\n",
       "\t Y & 22062576 & G & C &  1 & 1 & NA & 1\\\\\n",
       "\t Y & 14811234 & G & C &  1 & 1 & NA & 1\\\\\n",
       "\t Y &  8193347 & C & G &  1 & 1 & NA & 1\\\\\n",
       "\t Y &  7913260 & A & G &  1 & 1 & NA & 1\\\\\n",
       "\t Y &  9758726 & A & G &  1 & 1 & NA & 1\\\\\n",
       "\t Y & 21346733 & G & A &  1 & 1 & NA & 1\\\\\n",
       "\t Y & 21749329 & A & G &  1 & 1 & NA & 1\\\\\n",
       "\t Y &  2750897 & C &   &  0 & 0 & NA & 0\\\\\n",
       "\t Y &  7790634 & G &   &  0 & 0 & NA & 0\\\\\n",
       "\t Y & 23255198 & G &   &  0 & 0 & NA & 0\\\\\n",
       "\t Y & 21407049 & G &   &  0 & 0 & NA & 0\\\\\n",
       "\t Y & 14006386 & C &   &  0 & 0 & NA & 0\\\\\n",
       "\t Y & 22207948 & C &   &  0 & 0 & NA & 0\\\\\n",
       "\t Y &  8190013 & G &   &  0 & 0 & NA & 0\\\\\n",
       "\t Y &  8132690 & G &   &  0 & 0 & NA & 0\\\\\n",
       "\t Y & 15451757 & G &   &  0 & 0 & NA & 0\\\\\n",
       "\t Y & 23637927 & T &   &  0 & 0 & NA & 0\\\\\n",
       "\\end{tabular}\n"
      ],
      "text/markdown": [
       "\n",
       "A tibble: 20 × 8\n",
       "\n",
       "| chrom &lt;chr&gt; | pos &lt;int&gt; | REF &lt;chr&gt; | ALT &lt;chr&gt; | baq &lt;dbl&gt; | nobaq &lt;dbl&gt; | cons &lt;dbl&gt; | tol &lt;dbl&gt; |\n",
       "|---|---|---|---|---|---|---|---|\n",
       "| Y | 21460975 | G | A |  1 | 1 | NA | 1 |\n",
       "| Y | 18181558 | T | A |  1 | 1 | NA | 1 |\n",
       "| Y | 18754657 | T | A | NA | 1 | NA | 1 |\n",
       "| Y | 22062576 | G | C |  1 | 1 | NA | 1 |\n",
       "| Y | 14811234 | G | C |  1 | 1 | NA | 1 |\n",
       "| Y |  8193347 | C | G |  1 | 1 | NA | 1 |\n",
       "| Y |  7913260 | A | G |  1 | 1 | NA | 1 |\n",
       "| Y |  9758726 | A | G |  1 | 1 | NA | 1 |\n",
       "| Y | 21346733 | G | A |  1 | 1 | NA | 1 |\n",
       "| Y | 21749329 | A | G |  1 | 1 | NA | 1 |\n",
       "| Y |  2750897 | C | <!----> |  0 | 0 | NA | 0 |\n",
       "| Y |  7790634 | G | <!----> |  0 | 0 | NA | 0 |\n",
       "| Y | 23255198 | G | <!----> |  0 | 0 | NA | 0 |\n",
       "| Y | 21407049 | G | <!----> |  0 | 0 | NA | 0 |\n",
       "| Y | 14006386 | C | <!----> |  0 | 0 | NA | 0 |\n",
       "| Y | 22207948 | C | <!----> |  0 | 0 | NA | 0 |\n",
       "| Y |  8190013 | G | <!----> |  0 | 0 | NA | 0 |\n",
       "| Y |  8132690 | G | <!----> |  0 | 0 | NA | 0 |\n",
       "| Y | 15451757 | G | <!----> |  0 | 0 | NA | 0 |\n",
       "| Y | 23637927 | T | <!----> |  0 | 0 | NA | 0 |\n",
       "\n"
      ],
      "text/plain": [
       "   chrom pos      REF ALT baq nobaq cons tol\n",
       "1  Y     21460975 G   A    1  1     NA   1  \n",
       "2  Y     18181558 T   A    1  1     NA   1  \n",
       "3  Y     18754657 T   A   NA  1     NA   1  \n",
       "4  Y     22062576 G   C    1  1     NA   1  \n",
       "5  Y     14811234 G   C    1  1     NA   1  \n",
       "6  Y      8193347 C   G    1  1     NA   1  \n",
       "7  Y      7913260 A   G    1  1     NA   1  \n",
       "8  Y      9758726 A   G    1  1     NA   1  \n",
       "9  Y     21346733 G   A    1  1     NA   1  \n",
       "10 Y     21749329 A   G    1  1     NA   1  \n",
       "11 Y      2750897 C        0  0     NA   0  \n",
       "12 Y      7790634 G        0  0     NA   0  \n",
       "13 Y     23255198 G        0  0     NA   0  \n",
       "14 Y     21407049 G        0  0     NA   0  \n",
       "15 Y     14006386 C        0  0     NA   0  \n",
       "16 Y     22207948 C        0  0     NA   0  \n",
       "17 Y      8190013 G        0  0     NA   0  \n",
       "18 Y      8132690 G        0  0     NA   0  \n",
       "19 Y     15451757 G        0  0     NA   0  \n",
       "20 Y     23637927 T        0  0     NA   0  "
      ]
     },
     "metadata": {},
     "output_type": "display_data"
    }
   ],
   "source": [
    "filter(mez2, is.na(cons) & !(is.na(cons) & is.na(tol))) %>%\n",
    "    group_by(alts = ALT == \"\") %>% sample_n(10) %>% ungroup %>% select(-alts)"
   ]
  },
  {
   "cell_type": "markdown",
   "metadata": {},
   "source": [
    "The looser 90% tolerance consensus matches perfectly the calls made by bcftools."
   ]
  },
  {
   "cell_type": "code",
   "execution_count": 22,
   "metadata": {},
   "outputs": [
    {
     "data": {
      "text/html": [
       "<table>\n",
       "<caption>A tibble: 0 × 8</caption>\n",
       "<thead>\n",
       "\t<tr><th scope=col>chrom</th><th scope=col>pos</th><th scope=col>REF</th><th scope=col>ALT</th><th scope=col>baq</th><th scope=col>nobaq</th><th scope=col>cons</th><th scope=col>tol</th></tr>\n",
       "\t<tr><th scope=col>&lt;chr&gt;</th><th scope=col>&lt;int&gt;</th><th scope=col>&lt;chr&gt;</th><th scope=col>&lt;chr&gt;</th><th scope=col>&lt;dbl&gt;</th><th scope=col>&lt;dbl&gt;</th><th scope=col>&lt;dbl&gt;</th><th scope=col>&lt;dbl&gt;</th></tr>\n",
       "</thead>\n",
       "<tbody>\n",
       "</tbody>\n",
       "</table>\n"
      ],
      "text/latex": [
       "A tibble: 0 × 8\n",
       "\\begin{tabular}{r|llllllll}\n",
       " chrom & pos & REF & ALT & baq & nobaq & cons & tol\\\\\n",
       " <chr> & <int> & <chr> & <chr> & <dbl> & <dbl> & <dbl> & <dbl>\\\\\n",
       "\\hline\n",
       "\\end{tabular}\n"
      ],
      "text/markdown": [
       "\n",
       "A tibble: 0 × 8\n",
       "\n",
       "| chrom &lt;chr&gt; | pos &lt;int&gt; | REF &lt;chr&gt; | ALT &lt;chr&gt; | baq &lt;dbl&gt; | nobaq &lt;dbl&gt; | cons &lt;dbl&gt; | tol &lt;dbl&gt; |\n",
       "|---|---|---|---|---|---|---|---|\n",
       "\n"
      ],
      "text/plain": [
       "     chrom pos REF ALT baq nobaq cons tol"
      ]
     },
     "metadata": {},
     "output_type": "display_data"
    }
   ],
   "source": [
    "filter(mez2, tol != baq | tol != nobaq)"
   ]
  },
  {
   "cell_type": "markdown",
   "metadata": {},
   "source": [
    "# Denisova 8 (low coverage archaic, extreme case)\n",
    "\n",
    "At 90% consensus cutoff we expect the lower coverage genotypes to be the same as strict 100% consensus."
   ]
  },
  {
   "cell_type": "code",
   "execution_count": 23,
   "metadata": {},
   "outputs": [
    {
     "data": {
      "text/html": [
       "6261598"
      ],
      "text/latex": [
       "6261598"
      ],
      "text/markdown": [
       "6261598"
      ],
      "text/plain": [
       "[1] 6261598"
      ]
     },
     "metadata": {},
     "output_type": "display_data"
    }
   ],
   "source": [
    "read_vcf(here(\"test/den8_baq.vcf.gz\"), mindp = 3, maxdp = 0.98) %>% nrow"
   ]
  },
  {
   "cell_type": "code",
   "execution_count": 24,
   "metadata": {},
   "outputs": [
    {
     "data": {
      "text/html": [
       "6261598"
      ],
      "text/latex": [
       "6261598"
      ],
      "text/markdown": [
       "6261598"
      ],
      "text/plain": [
       "[1] 6261598"
      ]
     },
     "metadata": {},
     "output_type": "display_data"
    }
   ],
   "source": [
    "read_vcf(here(\"test/den8_nobaq.vcf.gz\"), mindp = 3, maxdp = 0.98) %>% nrow"
   ]
  },
  {
   "cell_type": "code",
   "execution_count": 25,
   "metadata": {},
   "outputs": [
    {
     "data": {
      "text/html": [
       "5832045"
      ],
      "text/latex": [
       "5832045"
      ],
      "text/markdown": [
       "5832045"
      ],
      "text/plain": [
       "[1] 5832045"
      ]
     },
     "metadata": {},
     "output_type": "display_data"
    }
   ],
   "source": [
    "read_vcf(here(\"test/den8_consensus.vcf.gz\"), mindp = 3, maxdp = 0.98) %>% nrow"
   ]
  },
  {
   "cell_type": "code",
   "execution_count": 26,
   "metadata": {},
   "outputs": [
    {
     "data": {
      "text/html": [
       "5851442"
      ],
      "text/latex": [
       "5851442"
      ],
      "text/markdown": [
       "5851442"
      ],
      "text/plain": [
       "[1] 5851442"
      ]
     },
     "metadata": {},
     "output_type": "display_data"
    }
   ],
   "source": [
    "read_vcf(here(\"test/den8_tolerance.vcf.gz\"), mindp = 3, maxdp = 0.98) %>% nrow"
   ]
  },
  {
   "cell_type": "code",
   "execution_count": 27,
   "metadata": {},
   "outputs": [],
   "source": [
    "den8 <- read_vcf(here(\"test/genotyping_den8.vcf.gz\"), mindp = 3, maxdp = 0.98) %>%\n",
    "    filter(!is.na(baq) | !is.na(nobaq) | !is.na(cons) | !is.na(tol))"
   ]
  },
  {
   "cell_type": "code",
   "execution_count": 28,
   "metadata": {},
   "outputs": [
    {
     "data": {
      "text/html": [
       "4185842"
      ],
      "text/latex": [
       "4185842"
      ],
      "text/markdown": [
       "4185842"
      ],
      "text/plain": [
       "[1] 4185842"
      ]
     },
     "metadata": {},
     "output_type": "display_data"
    }
   ],
   "source": [
    "nrow(den8)"
   ]
  },
  {
   "cell_type": "code",
   "execution_count": 29,
   "metadata": {},
   "outputs": [
    {
     "data": {
      "text/html": [
       "<table>\n",
       "<caption>A tibble: 20 × 8</caption>\n",
       "<thead>\n",
       "\t<tr><th scope=col>chrom</th><th scope=col>pos</th><th scope=col>REF</th><th scope=col>ALT</th><th scope=col>baq</th><th scope=col>nobaq</th><th scope=col>cons</th><th scope=col>tol</th></tr>\n",
       "\t<tr><th scope=col>&lt;chr&gt;</th><th scope=col>&lt;int&gt;</th><th scope=col>&lt;chr&gt;</th><th scope=col>&lt;chr&gt;</th><th scope=col>&lt;dbl&gt;</th><th scope=col>&lt;dbl&gt;</th><th scope=col>&lt;dbl&gt;</th><th scope=col>&lt;dbl&gt;</th></tr>\n",
       "</thead>\n",
       "<tbody>\n",
       "\t<tr><td>Y</td><td>17657366</td><td>C</td><td>T</td><td>0</td><td>1</td><td>NA</td><td>NA</td></tr>\n",
       "\t<tr><td>Y</td><td>15524955</td><td>G</td><td>A</td><td>0</td><td>1</td><td>NA</td><td>NA</td></tr>\n",
       "\t<tr><td>Y</td><td>17106025</td><td>G</td><td>A</td><td>0</td><td>1</td><td>NA</td><td>NA</td></tr>\n",
       "\t<tr><td>Y</td><td>21845641</td><td>C</td><td>T</td><td>1</td><td>0</td><td>NA</td><td>NA</td></tr>\n",
       "\t<tr><td>Y</td><td>21177335</td><td>C</td><td>A</td><td>1</td><td>0</td><td>NA</td><td>NA</td></tr>\n",
       "\t<tr><td>Y</td><td>13449815</td><td>T</td><td>C</td><td>0</td><td>1</td><td>NA</td><td>NA</td></tr>\n",
       "\t<tr><td>Y</td><td>15785368</td><td>G</td><td>A</td><td>0</td><td>1</td><td>NA</td><td>NA</td></tr>\n",
       "\t<tr><td>Y</td><td> 6762288</td><td>G</td><td>A</td><td>0</td><td>1</td><td>NA</td><td>NA</td></tr>\n",
       "\t<tr><td>Y</td><td>13206359</td><td>G</td><td>A</td><td>0</td><td>1</td><td>NA</td><td>NA</td></tr>\n",
       "\t<tr><td>Y</td><td>14115977</td><td>C</td><td>T</td><td>0</td><td>1</td><td>NA</td><td>NA</td></tr>\n",
       "\t<tr><td>Y</td><td> 7545105</td><td>C</td><td>T</td><td>0</td><td>1</td><td>NA</td><td>NA</td></tr>\n",
       "\t<tr><td>Y</td><td>15211776</td><td>C</td><td>T</td><td>0</td><td>1</td><td>NA</td><td>NA</td></tr>\n",
       "\t<tr><td>Y</td><td>19096667</td><td>C</td><td>T</td><td>0</td><td>1</td><td>NA</td><td>NA</td></tr>\n",
       "\t<tr><td>Y</td><td>15593301</td><td>A</td><td>G</td><td>0</td><td>1</td><td>NA</td><td>NA</td></tr>\n",
       "\t<tr><td>Y</td><td> 2717720</td><td>C</td><td>T</td><td>0</td><td>1</td><td>NA</td><td>NA</td></tr>\n",
       "\t<tr><td>Y</td><td> 9764547</td><td>C</td><td>T</td><td>0</td><td>1</td><td>NA</td><td>NA</td></tr>\n",
       "\t<tr><td>Y</td><td>21808295</td><td>C</td><td>T</td><td>0</td><td>1</td><td>NA</td><td>NA</td></tr>\n",
       "\t<tr><td>Y</td><td>14733453</td><td>G</td><td>A</td><td>0</td><td>1</td><td>NA</td><td>NA</td></tr>\n",
       "\t<tr><td>Y</td><td> 7928046</td><td>C</td><td>T</td><td>0</td><td>1</td><td>NA</td><td>NA</td></tr>\n",
       "\t<tr><td>Y</td><td> 6426410</td><td>C</td><td>T</td><td>0</td><td>1</td><td>NA</td><td>NA</td></tr>\n",
       "</tbody>\n",
       "</table>\n"
      ],
      "text/latex": [
       "A tibble: 20 × 8\n",
       "\\begin{tabular}{r|llllllll}\n",
       " chrom & pos & REF & ALT & baq & nobaq & cons & tol\\\\\n",
       " <chr> & <int> & <chr> & <chr> & <dbl> & <dbl> & <dbl> & <dbl>\\\\\n",
       "\\hline\n",
       "\t Y & 17657366 & C & T & 0 & 1 & NA & NA\\\\\n",
       "\t Y & 15524955 & G & A & 0 & 1 & NA & NA\\\\\n",
       "\t Y & 17106025 & G & A & 0 & 1 & NA & NA\\\\\n",
       "\t Y & 21845641 & C & T & 1 & 0 & NA & NA\\\\\n",
       "\t Y & 21177335 & C & A & 1 & 0 & NA & NA\\\\\n",
       "\t Y & 13449815 & T & C & 0 & 1 & NA & NA\\\\\n",
       "\t Y & 15785368 & G & A & 0 & 1 & NA & NA\\\\\n",
       "\t Y &  6762288 & G & A & 0 & 1 & NA & NA\\\\\n",
       "\t Y & 13206359 & G & A & 0 & 1 & NA & NA\\\\\n",
       "\t Y & 14115977 & C & T & 0 & 1 & NA & NA\\\\\n",
       "\t Y &  7545105 & C & T & 0 & 1 & NA & NA\\\\\n",
       "\t Y & 15211776 & C & T & 0 & 1 & NA & NA\\\\\n",
       "\t Y & 19096667 & C & T & 0 & 1 & NA & NA\\\\\n",
       "\t Y & 15593301 & A & G & 0 & 1 & NA & NA\\\\\n",
       "\t Y &  2717720 & C & T & 0 & 1 & NA & NA\\\\\n",
       "\t Y &  9764547 & C & T & 0 & 1 & NA & NA\\\\\n",
       "\t Y & 21808295 & C & T & 0 & 1 & NA & NA\\\\\n",
       "\t Y & 14733453 & G & A & 0 & 1 & NA & NA\\\\\n",
       "\t Y &  7928046 & C & T & 0 & 1 & NA & NA\\\\\n",
       "\t Y &  6426410 & C & T & 0 & 1 & NA & NA\\\\\n",
       "\\end{tabular}\n"
      ],
      "text/markdown": [
       "\n",
       "A tibble: 20 × 8\n",
       "\n",
       "| chrom &lt;chr&gt; | pos &lt;int&gt; | REF &lt;chr&gt; | ALT &lt;chr&gt; | baq &lt;dbl&gt; | nobaq &lt;dbl&gt; | cons &lt;dbl&gt; | tol &lt;dbl&gt; |\n",
       "|---|---|---|---|---|---|---|---|\n",
       "| Y | 17657366 | C | T | 0 | 1 | NA | NA |\n",
       "| Y | 15524955 | G | A | 0 | 1 | NA | NA |\n",
       "| Y | 17106025 | G | A | 0 | 1 | NA | NA |\n",
       "| Y | 21845641 | C | T | 1 | 0 | NA | NA |\n",
       "| Y | 21177335 | C | A | 1 | 0 | NA | NA |\n",
       "| Y | 13449815 | T | C | 0 | 1 | NA | NA |\n",
       "| Y | 15785368 | G | A | 0 | 1 | NA | NA |\n",
       "| Y |  6762288 | G | A | 0 | 1 | NA | NA |\n",
       "| Y | 13206359 | G | A | 0 | 1 | NA | NA |\n",
       "| Y | 14115977 | C | T | 0 | 1 | NA | NA |\n",
       "| Y |  7545105 | C | T | 0 | 1 | NA | NA |\n",
       "| Y | 15211776 | C | T | 0 | 1 | NA | NA |\n",
       "| Y | 19096667 | C | T | 0 | 1 | NA | NA |\n",
       "| Y | 15593301 | A | G | 0 | 1 | NA | NA |\n",
       "| Y |  2717720 | C | T | 0 | 1 | NA | NA |\n",
       "| Y |  9764547 | C | T | 0 | 1 | NA | NA |\n",
       "| Y | 21808295 | C | T | 0 | 1 | NA | NA |\n",
       "| Y | 14733453 | G | A | 0 | 1 | NA | NA |\n",
       "| Y |  7928046 | C | T | 0 | 1 | NA | NA |\n",
       "| Y |  6426410 | C | T | 0 | 1 | NA | NA |\n",
       "\n"
      ],
      "text/plain": [
       "   chrom pos      REF ALT baq nobaq cons tol\n",
       "1  Y     17657366 C   T   0   1     NA   NA \n",
       "2  Y     15524955 G   A   0   1     NA   NA \n",
       "3  Y     17106025 G   A   0   1     NA   NA \n",
       "4  Y     21845641 C   T   1   0     NA   NA \n",
       "5  Y     21177335 C   A   1   0     NA   NA \n",
       "6  Y     13449815 T   C   0   1     NA   NA \n",
       "7  Y     15785368 G   A   0   1     NA   NA \n",
       "8  Y      6762288 G   A   0   1     NA   NA \n",
       "9  Y     13206359 G   A   0   1     NA   NA \n",
       "10 Y     14115977 C   T   0   1     NA   NA \n",
       "11 Y      7545105 C   T   0   1     NA   NA \n",
       "12 Y     15211776 C   T   0   1     NA   NA \n",
       "13 Y     19096667 C   T   0   1     NA   NA \n",
       "14 Y     15593301 A   G   0   1     NA   NA \n",
       "15 Y      2717720 C   T   0   1     NA   NA \n",
       "16 Y      9764547 C   T   0   1     NA   NA \n",
       "17 Y     21808295 C   T   0   1     NA   NA \n",
       "18 Y     14733453 G   A   0   1     NA   NA \n",
       "19 Y      7928046 C   T   0   1     NA   NA \n",
       "20 Y      6426410 C   T   0   1     NA   NA "
      ]
     },
     "metadata": {},
     "output_type": "display_data"
    }
   ],
   "source": [
    "filter(den8, baq != nobaq) %>% sample_n(20)"
   ]
  },
  {
   "cell_type": "code",
   "execution_count": 30,
   "metadata": {},
   "outputs": [
    {
     "data": {
      "text/html": [
       "<table>\n",
       "<caption>A grouped_df: 2 × 3</caption>\n",
       "<thead>\n",
       "\t<tr><th scope=col>baq</th><th scope=col>nobaq</th><th scope=col>n</th></tr>\n",
       "\t<tr><th scope=col>&lt;dbl&gt;</th><th scope=col>&lt;dbl&gt;</th><th scope=col>&lt;int&gt;</th></tr>\n",
       "</thead>\n",
       "<tbody>\n",
       "\t<tr><td>0</td><td>1</td><td>224</td></tr>\n",
       "\t<tr><td>1</td><td>0</td><td> 11</td></tr>\n",
       "</tbody>\n",
       "</table>\n"
      ],
      "text/latex": [
       "A grouped_df: 2 × 3\n",
       "\\begin{tabular}{r|lll}\n",
       " baq & nobaq & n\\\\\n",
       " <dbl> & <dbl> & <int>\\\\\n",
       "\\hline\n",
       "\t 0 & 1 & 224\\\\\n",
       "\t 1 & 0 &  11\\\\\n",
       "\\end{tabular}\n"
      ],
      "text/markdown": [
       "\n",
       "A grouped_df: 2 × 3\n",
       "\n",
       "| baq &lt;dbl&gt; | nobaq &lt;dbl&gt; | n &lt;int&gt; |\n",
       "|---|---|---|\n",
       "| 0 | 1 | 224 |\n",
       "| 1 | 0 |  11 |\n",
       "\n"
      ],
      "text/plain": [
       "  baq nobaq n  \n",
       "1 0   1     224\n",
       "2 1   0      11"
      ]
     },
     "metadata": {},
     "output_type": "display_data"
    }
   ],
   "source": [
    "filter(den8, baq != nobaq) %>% group_by(baq, nobaq) %>% tally"
   ]
  },
  {
   "cell_type": "code",
   "execution_count": 31,
   "metadata": {},
   "outputs": [
    {
     "data": {
      "text/html": [
       "<table>\n",
       "<caption>A tibble: 0 × 8</caption>\n",
       "<thead>\n",
       "\t<tr><th scope=col>chrom</th><th scope=col>pos</th><th scope=col>REF</th><th scope=col>ALT</th><th scope=col>baq</th><th scope=col>nobaq</th><th scope=col>cons</th><th scope=col>tol</th></tr>\n",
       "\t<tr><th scope=col>&lt;chr&gt;</th><th scope=col>&lt;int&gt;</th><th scope=col>&lt;chr&gt;</th><th scope=col>&lt;chr&gt;</th><th scope=col>&lt;dbl&gt;</th><th scope=col>&lt;dbl&gt;</th><th scope=col>&lt;dbl&gt;</th><th scope=col>&lt;dbl&gt;</th></tr>\n",
       "</thead>\n",
       "<tbody>\n",
       "</tbody>\n",
       "</table>\n"
      ],
      "text/latex": [
       "A tibble: 0 × 8\n",
       "\\begin{tabular}{r|llllllll}\n",
       " chrom & pos & REF & ALT & baq & nobaq & cons & tol\\\\\n",
       " <chr> & <int> & <chr> & <chr> & <dbl> & <dbl> & <dbl> & <dbl>\\\\\n",
       "\\hline\n",
       "\\end{tabular}\n"
      ],
      "text/markdown": [
       "\n",
       "A tibble: 0 × 8\n",
       "\n",
       "| chrom &lt;chr&gt; | pos &lt;int&gt; | REF &lt;chr&gt; | ALT &lt;chr&gt; | baq &lt;dbl&gt; | nobaq &lt;dbl&gt; | cons &lt;dbl&gt; | tol &lt;dbl&gt; |\n",
       "|---|---|---|---|---|---|---|---|\n",
       "\n"
      ],
      "text/plain": [
       "     chrom pos REF ALT baq nobaq cons tol"
      ]
     },
     "metadata": {},
     "output_type": "display_data"
    }
   ],
   "source": [
    "filter(den8, cons != tol)"
   ]
  },
  {
   "cell_type": "code",
   "execution_count": 32,
   "metadata": {},
   "outputs": [
    {
     "data": {
      "text/html": [
       "<table>\n",
       "<caption>A tibble: 6 × 8</caption>\n",
       "<thead>\n",
       "\t<tr><th scope=col>chrom</th><th scope=col>pos</th><th scope=col>REF</th><th scope=col>ALT</th><th scope=col>baq</th><th scope=col>nobaq</th><th scope=col>cons</th><th scope=col>tol</th></tr>\n",
       "\t<tr><th scope=col>&lt;chr&gt;</th><th scope=col>&lt;int&gt;</th><th scope=col>&lt;chr&gt;</th><th scope=col>&lt;chr&gt;</th><th scope=col>&lt;dbl&gt;</th><th scope=col>&lt;dbl&gt;</th><th scope=col>&lt;dbl&gt;</th><th scope=col>&lt;dbl&gt;</th></tr>\n",
       "</thead>\n",
       "<tbody>\n",
       "\t<tr><td>Y</td><td>17517362</td><td>A</td><td>G</td><td>1</td><td>1</td><td>NA</td><td>1</td></tr>\n",
       "\t<tr><td>Y</td><td>18759298</td><td>A</td><td>G</td><td>1</td><td>1</td><td>NA</td><td>1</td></tr>\n",
       "\t<tr><td>Y</td><td> 8396636</td><td>A</td><td>G</td><td>1</td><td>1</td><td>NA</td><td>1</td></tr>\n",
       "\t<tr><td>Y</td><td>21675413</td><td>C</td><td> </td><td>0</td><td>0</td><td>NA</td><td>0</td></tr>\n",
       "\t<tr><td>Y</td><td>22574581</td><td>C</td><td> </td><td>0</td><td>0</td><td>NA</td><td>0</td></tr>\n",
       "\t<tr><td>Y</td><td>17491747</td><td>G</td><td> </td><td>0</td><td>0</td><td>NA</td><td>0</td></tr>\n",
       "</tbody>\n",
       "</table>\n"
      ],
      "text/latex": [
       "A tibble: 6 × 8\n",
       "\\begin{tabular}{r|llllllll}\n",
       " chrom & pos & REF & ALT & baq & nobaq & cons & tol\\\\\n",
       " <chr> & <int> & <chr> & <chr> & <dbl> & <dbl> & <dbl> & <dbl>\\\\\n",
       "\\hline\n",
       "\t Y & 17517362 & A & G & 1 & 1 & NA & 1\\\\\n",
       "\t Y & 18759298 & A & G & 1 & 1 & NA & 1\\\\\n",
       "\t Y &  8396636 & A & G & 1 & 1 & NA & 1\\\\\n",
       "\t Y & 21675413 & C &   & 0 & 0 & NA & 0\\\\\n",
       "\t Y & 22574581 & C &   & 0 & 0 & NA & 0\\\\\n",
       "\t Y & 17491747 & G &   & 0 & 0 & NA & 0\\\\\n",
       "\\end{tabular}\n"
      ],
      "text/markdown": [
       "\n",
       "A tibble: 6 × 8\n",
       "\n",
       "| chrom &lt;chr&gt; | pos &lt;int&gt; | REF &lt;chr&gt; | ALT &lt;chr&gt; | baq &lt;dbl&gt; | nobaq &lt;dbl&gt; | cons &lt;dbl&gt; | tol &lt;dbl&gt; |\n",
       "|---|---|---|---|---|---|---|---|\n",
       "| Y | 17517362 | A | G | 1 | 1 | NA | 1 |\n",
       "| Y | 18759298 | A | G | 1 | 1 | NA | 1 |\n",
       "| Y |  8396636 | A | G | 1 | 1 | NA | 1 |\n",
       "| Y | 21675413 | C | <!----> | 0 | 0 | NA | 0 |\n",
       "| Y | 22574581 | C | <!----> | 0 | 0 | NA | 0 |\n",
       "| Y | 17491747 | G | <!----> | 0 | 0 | NA | 0 |\n",
       "\n"
      ],
      "text/plain": [
       "  chrom pos      REF ALT baq nobaq cons tol\n",
       "1 Y     17517362 A   G   1   1     NA   1  \n",
       "2 Y     18759298 A   G   1   1     NA   1  \n",
       "3 Y      8396636 A   G   1   1     NA   1  \n",
       "4 Y     21675413 C       0   0     NA   0  \n",
       "5 Y     22574581 C       0   0     NA   0  \n",
       "6 Y     17491747 G       0   0     NA   0  "
      ]
     },
     "metadata": {},
     "output_type": "display_data"
    }
   ],
   "source": [
    "filter(den8, is.na(cons) & !(is.na(cons) & is.na(tol))) %>%\n",
    "    group_by(alts = ALT == \"\") %>% sample_n(3) %>% ungroup %>% select(-alts)"
   ]
  },
  {
   "cell_type": "code",
   "execution_count": 33,
   "metadata": {},
   "outputs": [
    {
     "data": {
      "text/html": [
       "<table>\n",
       "<caption>A tibble: 0 × 8</caption>\n",
       "<thead>\n",
       "\t<tr><th scope=col>chrom</th><th scope=col>pos</th><th scope=col>REF</th><th scope=col>ALT</th><th scope=col>baq</th><th scope=col>nobaq</th><th scope=col>cons</th><th scope=col>tol</th></tr>\n",
       "\t<tr><th scope=col>&lt;chr&gt;</th><th scope=col>&lt;int&gt;</th><th scope=col>&lt;chr&gt;</th><th scope=col>&lt;chr&gt;</th><th scope=col>&lt;dbl&gt;</th><th scope=col>&lt;dbl&gt;</th><th scope=col>&lt;dbl&gt;</th><th scope=col>&lt;dbl&gt;</th></tr>\n",
       "</thead>\n",
       "<tbody>\n",
       "</tbody>\n",
       "</table>\n"
      ],
      "text/latex": [
       "A tibble: 0 × 8\n",
       "\\begin{tabular}{r|llllllll}\n",
       " chrom & pos & REF & ALT & baq & nobaq & cons & tol\\\\\n",
       " <chr> & <int> & <chr> & <chr> & <dbl> & <dbl> & <dbl> & <dbl>\\\\\n",
       "\\hline\n",
       "\\end{tabular}\n"
      ],
      "text/markdown": [
       "\n",
       "A tibble: 0 × 8\n",
       "\n",
       "| chrom &lt;chr&gt; | pos &lt;int&gt; | REF &lt;chr&gt; | ALT &lt;chr&gt; | baq &lt;dbl&gt; | nobaq &lt;dbl&gt; | cons &lt;dbl&gt; | tol &lt;dbl&gt; |\n",
       "|---|---|---|---|---|---|---|---|\n",
       "\n"
      ],
      "text/plain": [
       "     chrom pos REF ALT baq nobaq cons tol"
      ]
     },
     "metadata": {},
     "output_type": "display_data"
    }
   ],
   "source": [
    "filter(den8, tol != baq | tol != nobaq)"
   ]
  },
  {
   "cell_type": "markdown",
   "metadata": {},
   "source": [
    "# Spy 1 (low coverage archaic, even more extreme case)\n",
    "\n",
    "At 90% consensus cutoff we expect the lower coverage genotypes to be the same as strict 100% consensus."
   ]
  },
  {
   "cell_type": "code",
   "execution_count": 34,
   "metadata": {},
   "outputs": [
    {
     "data": {
      "text/html": [
       "3559111"
      ],
      "text/latex": [
       "3559111"
      ],
      "text/markdown": [
       "3559111"
      ],
      "text/plain": [
       "[1] 3559111"
      ]
     },
     "metadata": {},
     "output_type": "display_data"
    }
   ],
   "source": [
    "read_vcf(here(\"test/spy1_baq.vcf.gz\"), mindp = 3, maxdp = 0.98) %>% nrow"
   ]
  },
  {
   "cell_type": "code",
   "execution_count": 35,
   "metadata": {},
   "outputs": [
    {
     "data": {
      "text/html": [
       "3559111"
      ],
      "text/latex": [
       "3559111"
      ],
      "text/markdown": [
       "3559111"
      ],
      "text/plain": [
       "[1] 3559111"
      ]
     },
     "metadata": {},
     "output_type": "display_data"
    }
   ],
   "source": [
    "read_vcf(here(\"test/spy1_nobaq.vcf.gz\"), mindp = 3, maxdp = 0.98) %>% nrow"
   ]
  },
  {
   "cell_type": "code",
   "execution_count": 36,
   "metadata": {},
   "outputs": [
    {
     "data": {
      "text/html": [
       "3502296"
      ],
      "text/latex": [
       "3502296"
      ],
      "text/markdown": [
       "3502296"
      ],
      "text/plain": [
       "[1] 3502296"
      ]
     },
     "metadata": {},
     "output_type": "display_data"
    }
   ],
   "source": [
    "read_vcf(here(\"test/spy1_consensus.vcf.gz\"), mindp = 3, maxdp = 0.98) %>% nrow"
   ]
  },
  {
   "cell_type": "code",
   "execution_count": 37,
   "metadata": {},
   "outputs": [
    {
     "data": {
      "text/html": [
       "3502527"
      ],
      "text/latex": [
       "3502527"
      ],
      "text/markdown": [
       "3502527"
      ],
      "text/plain": [
       "[1] 3502527"
      ]
     },
     "metadata": {},
     "output_type": "display_data"
    }
   ],
   "source": [
    "read_vcf(here(\"test/spy1_tolerance.vcf.gz\"), mindp = 3, maxdp = 0.98) %>% nrow"
   ]
  },
  {
   "cell_type": "code",
   "execution_count": 38,
   "metadata": {},
   "outputs": [],
   "source": [
    "spy1 <- read_vcf(here(\"test/genotyping_spy1.vcf.gz\"), mindp = 3, maxdp = 0.98) %>%\n",
    "    filter(!is.na(baq) | !is.na(nobaq) | !is.na(cons) | !is.na(tol))"
   ]
  },
  {
   "cell_type": "code",
   "execution_count": 39,
   "metadata": {},
   "outputs": [
    {
     "data": {
      "text/html": [
       "611901"
      ],
      "text/latex": [
       "611901"
      ],
      "text/markdown": [
       "611901"
      ],
      "text/plain": [
       "[1] 611901"
      ]
     },
     "metadata": {},
     "output_type": "display_data"
    }
   ],
   "source": [
    "nrow(spy1)"
   ]
  },
  {
   "cell_type": "code",
   "execution_count": 40,
   "metadata": {},
   "outputs": [
    {
     "data": {
      "text/html": [
       "<table>\n",
       "<caption>A tibble: 20 × 8</caption>\n",
       "<thead>\n",
       "\t<tr><th scope=col>chrom</th><th scope=col>pos</th><th scope=col>REF</th><th scope=col>ALT</th><th scope=col>baq</th><th scope=col>nobaq</th><th scope=col>cons</th><th scope=col>tol</th></tr>\n",
       "\t<tr><th scope=col>&lt;chr&gt;</th><th scope=col>&lt;int&gt;</th><th scope=col>&lt;chr&gt;</th><th scope=col>&lt;chr&gt;</th><th scope=col>&lt;dbl&gt;</th><th scope=col>&lt;dbl&gt;</th><th scope=col>&lt;dbl&gt;</th><th scope=col>&lt;dbl&gt;</th></tr>\n",
       "</thead>\n",
       "<tbody>\n",
       "\t<tr><td>Y</td><td>22827138</td><td>C</td><td>T</td><td>0</td><td>1</td><td>NA</td><td>NA</td></tr>\n",
       "\t<tr><td>Y</td><td>23158566</td><td>C</td><td>G</td><td>1</td><td>0</td><td>NA</td><td>NA</td></tr>\n",
       "\t<tr><td>Y</td><td>15833781</td><td>G</td><td>A</td><td>1</td><td>0</td><td>NA</td><td>NA</td></tr>\n",
       "\t<tr><td>Y</td><td>15535943</td><td>C</td><td>T</td><td>0</td><td>1</td><td>NA</td><td>NA</td></tr>\n",
       "\t<tr><td>Y</td><td>16975207</td><td>C</td><td>T</td><td>0</td><td>1</td><td>NA</td><td>NA</td></tr>\n",
       "\t<tr><td>Y</td><td>19519649</td><td>C</td><td>T</td><td>0</td><td>1</td><td>NA</td><td>NA</td></tr>\n",
       "\t<tr><td>Y</td><td> 7328421</td><td>G</td><td>A</td><td>1</td><td>0</td><td>NA</td><td>NA</td></tr>\n",
       "\t<tr><td>Y</td><td>22567991</td><td>G</td><td>A</td><td>0</td><td>1</td><td>NA</td><td>NA</td></tr>\n",
       "\t<tr><td>Y</td><td>22771813</td><td>C</td><td>T</td><td>0</td><td>1</td><td>NA</td><td>NA</td></tr>\n",
       "\t<tr><td>Y</td><td>16941195</td><td>C</td><td>G</td><td>0</td><td>1</td><td>NA</td><td>NA</td></tr>\n",
       "\t<tr><td>Y</td><td>18184489</td><td>C</td><td>G</td><td>0</td><td>1</td><td>NA</td><td>NA</td></tr>\n",
       "\t<tr><td>Y</td><td>23509937</td><td>C</td><td>T</td><td>0</td><td>1</td><td>NA</td><td>NA</td></tr>\n",
       "\t<tr><td>Y</td><td>22748358</td><td>G</td><td>A</td><td>0</td><td>1</td><td>NA</td><td>NA</td></tr>\n",
       "\t<tr><td>Y</td><td>17159537</td><td>C</td><td>T</td><td>0</td><td>1</td><td>NA</td><td>NA</td></tr>\n",
       "\t<tr><td>Y</td><td>22564280</td><td>C</td><td>T</td><td>1</td><td>0</td><td>NA</td><td>NA</td></tr>\n",
       "\t<tr><td>Y</td><td> 8299933</td><td>G</td><td>T</td><td>0</td><td>1</td><td>NA</td><td>NA</td></tr>\n",
       "\t<tr><td>Y</td><td>17906889</td><td>G</td><td>A</td><td>0</td><td>1</td><td>NA</td><td>NA</td></tr>\n",
       "\t<tr><td>Y</td><td>16186251</td><td>G</td><td>A</td><td>1</td><td>0</td><td>NA</td><td>NA</td></tr>\n",
       "\t<tr><td>Y</td><td>18178705</td><td>G</td><td>A</td><td>0</td><td>1</td><td>NA</td><td>NA</td></tr>\n",
       "\t<tr><td>Y</td><td>16712574</td><td>C</td><td>T</td><td>0</td><td>1</td><td>NA</td><td>NA</td></tr>\n",
       "</tbody>\n",
       "</table>\n"
      ],
      "text/latex": [
       "A tibble: 20 × 8\n",
       "\\begin{tabular}{r|llllllll}\n",
       " chrom & pos & REF & ALT & baq & nobaq & cons & tol\\\\\n",
       " <chr> & <int> & <chr> & <chr> & <dbl> & <dbl> & <dbl> & <dbl>\\\\\n",
       "\\hline\n",
       "\t Y & 22827138 & C & T & 0 & 1 & NA & NA\\\\\n",
       "\t Y & 23158566 & C & G & 1 & 0 & NA & NA\\\\\n",
       "\t Y & 15833781 & G & A & 1 & 0 & NA & NA\\\\\n",
       "\t Y & 15535943 & C & T & 0 & 1 & NA & NA\\\\\n",
       "\t Y & 16975207 & C & T & 0 & 1 & NA & NA\\\\\n",
       "\t Y & 19519649 & C & T & 0 & 1 & NA & NA\\\\\n",
       "\t Y &  7328421 & G & A & 1 & 0 & NA & NA\\\\\n",
       "\t Y & 22567991 & G & A & 0 & 1 & NA & NA\\\\\n",
       "\t Y & 22771813 & C & T & 0 & 1 & NA & NA\\\\\n",
       "\t Y & 16941195 & C & G & 0 & 1 & NA & NA\\\\\n",
       "\t Y & 18184489 & C & G & 0 & 1 & NA & NA\\\\\n",
       "\t Y & 23509937 & C & T & 0 & 1 & NA & NA\\\\\n",
       "\t Y & 22748358 & G & A & 0 & 1 & NA & NA\\\\\n",
       "\t Y & 17159537 & C & T & 0 & 1 & NA & NA\\\\\n",
       "\t Y & 22564280 & C & T & 1 & 0 & NA & NA\\\\\n",
       "\t Y &  8299933 & G & T & 0 & 1 & NA & NA\\\\\n",
       "\t Y & 17906889 & G & A & 0 & 1 & NA & NA\\\\\n",
       "\t Y & 16186251 & G & A & 1 & 0 & NA & NA\\\\\n",
       "\t Y & 18178705 & G & A & 0 & 1 & NA & NA\\\\\n",
       "\t Y & 16712574 & C & T & 0 & 1 & NA & NA\\\\\n",
       "\\end{tabular}\n"
      ],
      "text/markdown": [
       "\n",
       "A tibble: 20 × 8\n",
       "\n",
       "| chrom &lt;chr&gt; | pos &lt;int&gt; | REF &lt;chr&gt; | ALT &lt;chr&gt; | baq &lt;dbl&gt; | nobaq &lt;dbl&gt; | cons &lt;dbl&gt; | tol &lt;dbl&gt; |\n",
       "|---|---|---|---|---|---|---|---|\n",
       "| Y | 22827138 | C | T | 0 | 1 | NA | NA |\n",
       "| Y | 23158566 | C | G | 1 | 0 | NA | NA |\n",
       "| Y | 15833781 | G | A | 1 | 0 | NA | NA |\n",
       "| Y | 15535943 | C | T | 0 | 1 | NA | NA |\n",
       "| Y | 16975207 | C | T | 0 | 1 | NA | NA |\n",
       "| Y | 19519649 | C | T | 0 | 1 | NA | NA |\n",
       "| Y |  7328421 | G | A | 1 | 0 | NA | NA |\n",
       "| Y | 22567991 | G | A | 0 | 1 | NA | NA |\n",
       "| Y | 22771813 | C | T | 0 | 1 | NA | NA |\n",
       "| Y | 16941195 | C | G | 0 | 1 | NA | NA |\n",
       "| Y | 18184489 | C | G | 0 | 1 | NA | NA |\n",
       "| Y | 23509937 | C | T | 0 | 1 | NA | NA |\n",
       "| Y | 22748358 | G | A | 0 | 1 | NA | NA |\n",
       "| Y | 17159537 | C | T | 0 | 1 | NA | NA |\n",
       "| Y | 22564280 | C | T | 1 | 0 | NA | NA |\n",
       "| Y |  8299933 | G | T | 0 | 1 | NA | NA |\n",
       "| Y | 17906889 | G | A | 0 | 1 | NA | NA |\n",
       "| Y | 16186251 | G | A | 1 | 0 | NA | NA |\n",
       "| Y | 18178705 | G | A | 0 | 1 | NA | NA |\n",
       "| Y | 16712574 | C | T | 0 | 1 | NA | NA |\n",
       "\n"
      ],
      "text/plain": [
       "   chrom pos      REF ALT baq nobaq cons tol\n",
       "1  Y     22827138 C   T   0   1     NA   NA \n",
       "2  Y     23158566 C   G   1   0     NA   NA \n",
       "3  Y     15833781 G   A   1   0     NA   NA \n",
       "4  Y     15535943 C   T   0   1     NA   NA \n",
       "5  Y     16975207 C   T   0   1     NA   NA \n",
       "6  Y     19519649 C   T   0   1     NA   NA \n",
       "7  Y      7328421 G   A   1   0     NA   NA \n",
       "8  Y     22567991 G   A   0   1     NA   NA \n",
       "9  Y     22771813 C   T   0   1     NA   NA \n",
       "10 Y     16941195 C   G   0   1     NA   NA \n",
       "11 Y     18184489 C   G   0   1     NA   NA \n",
       "12 Y     23509937 C   T   0   1     NA   NA \n",
       "13 Y     22748358 G   A   0   1     NA   NA \n",
       "14 Y     17159537 C   T   0   1     NA   NA \n",
       "15 Y     22564280 C   T   1   0     NA   NA \n",
       "16 Y      8299933 G   T   0   1     NA   NA \n",
       "17 Y     17906889 G   A   0   1     NA   NA \n",
       "18 Y     16186251 G   A   1   0     NA   NA \n",
       "19 Y     18178705 G   A   0   1     NA   NA \n",
       "20 Y     16712574 C   T   0   1     NA   NA "
      ]
     },
     "metadata": {},
     "output_type": "display_data"
    }
   ],
   "source": [
    "filter(spy1, baq != nobaq) %>% sample_n(20)"
   ]
  },
  {
   "cell_type": "code",
   "execution_count": 41,
   "metadata": {},
   "outputs": [
    {
     "data": {
      "text/html": [
       "<table>\n",
       "<caption>A grouped_df: 2 × 3</caption>\n",
       "<thead>\n",
       "\t<tr><th scope=col>baq</th><th scope=col>nobaq</th><th scope=col>n</th></tr>\n",
       "\t<tr><th scope=col>&lt;dbl&gt;</th><th scope=col>&lt;dbl&gt;</th><th scope=col>&lt;int&gt;</th></tr>\n",
       "</thead>\n",
       "<tbody>\n",
       "\t<tr><td>0</td><td>1</td><td>61</td></tr>\n",
       "\t<tr><td>1</td><td>0</td><td>14</td></tr>\n",
       "</tbody>\n",
       "</table>\n"
      ],
      "text/latex": [
       "A grouped_df: 2 × 3\n",
       "\\begin{tabular}{r|lll}\n",
       " baq & nobaq & n\\\\\n",
       " <dbl> & <dbl> & <int>\\\\\n",
       "\\hline\n",
       "\t 0 & 1 & 61\\\\\n",
       "\t 1 & 0 & 14\\\\\n",
       "\\end{tabular}\n"
      ],
      "text/markdown": [
       "\n",
       "A grouped_df: 2 × 3\n",
       "\n",
       "| baq &lt;dbl&gt; | nobaq &lt;dbl&gt; | n &lt;int&gt; |\n",
       "|---|---|---|\n",
       "| 0 | 1 | 61 |\n",
       "| 1 | 0 | 14 |\n",
       "\n"
      ],
      "text/plain": [
       "  baq nobaq n \n",
       "1 0   1     61\n",
       "2 1   0     14"
      ]
     },
     "metadata": {},
     "output_type": "display_data"
    }
   ],
   "source": [
    "filter(spy1, baq != nobaq) %>% group_by(baq, nobaq) %>% tally"
   ]
  },
  {
   "cell_type": "code",
   "execution_count": 42,
   "metadata": {},
   "outputs": [
    {
     "data": {
      "text/html": [
       "<table>\n",
       "<caption>A tibble: 0 × 8</caption>\n",
       "<thead>\n",
       "\t<tr><th scope=col>chrom</th><th scope=col>pos</th><th scope=col>REF</th><th scope=col>ALT</th><th scope=col>baq</th><th scope=col>nobaq</th><th scope=col>cons</th><th scope=col>tol</th></tr>\n",
       "\t<tr><th scope=col>&lt;chr&gt;</th><th scope=col>&lt;int&gt;</th><th scope=col>&lt;chr&gt;</th><th scope=col>&lt;chr&gt;</th><th scope=col>&lt;dbl&gt;</th><th scope=col>&lt;dbl&gt;</th><th scope=col>&lt;dbl&gt;</th><th scope=col>&lt;dbl&gt;</th></tr>\n",
       "</thead>\n",
       "<tbody>\n",
       "</tbody>\n",
       "</table>\n"
      ],
      "text/latex": [
       "A tibble: 0 × 8\n",
       "\\begin{tabular}{r|llllllll}\n",
       " chrom & pos & REF & ALT & baq & nobaq & cons & tol\\\\\n",
       " <chr> & <int> & <chr> & <chr> & <dbl> & <dbl> & <dbl> & <dbl>\\\\\n",
       "\\hline\n",
       "\\end{tabular}\n"
      ],
      "text/markdown": [
       "\n",
       "A tibble: 0 × 8\n",
       "\n",
       "| chrom &lt;chr&gt; | pos &lt;int&gt; | REF &lt;chr&gt; | ALT &lt;chr&gt; | baq &lt;dbl&gt; | nobaq &lt;dbl&gt; | cons &lt;dbl&gt; | tol &lt;dbl&gt; |\n",
       "|---|---|---|---|---|---|---|---|\n",
       "\n"
      ],
      "text/plain": [
       "     chrom pos REF ALT baq nobaq cons tol"
      ]
     },
     "metadata": {},
     "output_type": "display_data"
    }
   ],
   "source": [
    "filter(spy1, cons != tol)"
   ]
  },
  {
   "cell_type": "code",
   "execution_count": 43,
   "metadata": {},
   "outputs": [
    {
     "data": {
      "text/html": [
       "<table>\n",
       "<caption>A tibble: 0 × 8</caption>\n",
       "<thead>\n",
       "\t<tr><th scope=col>chrom</th><th scope=col>pos</th><th scope=col>REF</th><th scope=col>ALT</th><th scope=col>baq</th><th scope=col>nobaq</th><th scope=col>cons</th><th scope=col>tol</th></tr>\n",
       "\t<tr><th scope=col>&lt;chr&gt;</th><th scope=col>&lt;int&gt;</th><th scope=col>&lt;chr&gt;</th><th scope=col>&lt;chr&gt;</th><th scope=col>&lt;dbl&gt;</th><th scope=col>&lt;dbl&gt;</th><th scope=col>&lt;dbl&gt;</th><th scope=col>&lt;dbl&gt;</th></tr>\n",
       "</thead>\n",
       "<tbody>\n",
       "</tbody>\n",
       "</table>\n"
      ],
      "text/latex": [
       "A tibble: 0 × 8\n",
       "\\begin{tabular}{r|llllllll}\n",
       " chrom & pos & REF & ALT & baq & nobaq & cons & tol\\\\\n",
       " <chr> & <int> & <chr> & <chr> & <dbl> & <dbl> & <dbl> & <dbl>\\\\\n",
       "\\hline\n",
       "\\end{tabular}\n"
      ],
      "text/markdown": [
       "\n",
       "A tibble: 0 × 8\n",
       "\n",
       "| chrom &lt;chr&gt; | pos &lt;int&gt; | REF &lt;chr&gt; | ALT &lt;chr&gt; | baq &lt;dbl&gt; | nobaq &lt;dbl&gt; | cons &lt;dbl&gt; | tol &lt;dbl&gt; |\n",
       "|---|---|---|---|---|---|---|---|\n",
       "\n"
      ],
      "text/plain": [
       "     chrom pos REF ALT baq nobaq cons tol"
      ]
     },
     "metadata": {},
     "output_type": "display_data"
    }
   ],
   "source": [
    "filter(spy1, is.na(cons) & !(is.na(cons) & is.na(tol))) %>%\n",
    "    group_by(alts = ALT == \"\") %>% sample_n(10) %>% ungroup %>% select(-alts)"
   ]
  },
  {
   "cell_type": "code",
   "execution_count": 44,
   "metadata": {},
   "outputs": [
    {
     "data": {
      "text/html": [
       "<table>\n",
       "<caption>A tibble: 0 × 8</caption>\n",
       "<thead>\n",
       "\t<tr><th scope=col>chrom</th><th scope=col>pos</th><th scope=col>REF</th><th scope=col>ALT</th><th scope=col>baq</th><th scope=col>nobaq</th><th scope=col>cons</th><th scope=col>tol</th></tr>\n",
       "\t<tr><th scope=col>&lt;chr&gt;</th><th scope=col>&lt;int&gt;</th><th scope=col>&lt;chr&gt;</th><th scope=col>&lt;chr&gt;</th><th scope=col>&lt;dbl&gt;</th><th scope=col>&lt;dbl&gt;</th><th scope=col>&lt;dbl&gt;</th><th scope=col>&lt;dbl&gt;</th></tr>\n",
       "</thead>\n",
       "<tbody>\n",
       "</tbody>\n",
       "</table>\n"
      ],
      "text/latex": [
       "A tibble: 0 × 8\n",
       "\\begin{tabular}{r|llllllll}\n",
       " chrom & pos & REF & ALT & baq & nobaq & cons & tol\\\\\n",
       " <chr> & <int> & <chr> & <chr> & <dbl> & <dbl> & <dbl> & <dbl>\\\\\n",
       "\\hline\n",
       "\\end{tabular}\n"
      ],
      "text/markdown": [
       "\n",
       "A tibble: 0 × 8\n",
       "\n",
       "| chrom &lt;chr&gt; | pos &lt;int&gt; | REF &lt;chr&gt; | ALT &lt;chr&gt; | baq &lt;dbl&gt; | nobaq &lt;dbl&gt; | cons &lt;dbl&gt; | tol &lt;dbl&gt; |\n",
       "|---|---|---|---|---|---|---|---|\n",
       "\n"
      ],
      "text/plain": [
       "     chrom pos REF ALT baq nobaq cons tol"
      ]
     },
     "metadata": {},
     "output_type": "display_data"
    }
   ],
   "source": [
    "filter(spy1, tol != baq | tol != nobaq)"
   ]
  }
 ],
 "metadata": {
  "kernelspec": {
   "display_name": "R",
   "language": "R",
   "name": "ir"
  },
  "language_info": {
   "codemirror_mode": "r",
   "file_extension": ".r",
   "mimetype": "text/x-r-source",
   "name": "R",
   "pygments_lexer": "r",
   "version": "3.6.0"
  }
 },
 "nbformat": 4,
 "nbformat_minor": 2
}
