{
 "cells": [
  {
   "cell_type": "markdown",
   "metadata": {},
   "source": [
    "# Comparing various genotyping strategies"
   ]
  },
  {
   "cell_type": "code",
   "execution_count": 1,
   "metadata": {},
   "outputs": [
    {
     "name": "stderr",
     "output_type": "stream",
     "text": [
      "── \u001b[1mAttaching packages\u001b[22m ─────────────────────────────────────── tidyverse 1.2.1 ──\n",
      "\u001b[32m✔\u001b[39m \u001b[34mggplot2\u001b[39m 3.2.1     \u001b[32m✔\u001b[39m \u001b[34mpurrr  \u001b[39m 0.3.2\n",
      "\u001b[32m✔\u001b[39m \u001b[34mtibble \u001b[39m 2.1.3     \u001b[32m✔\u001b[39m \u001b[34mdplyr  \u001b[39m 0.8.3\n",
      "\u001b[32m✔\u001b[39m \u001b[34mtidyr  \u001b[39m 1.0.0     \u001b[32m✔\u001b[39m \u001b[34mstringr\u001b[39m 1.4.0\n",
      "\u001b[32m✔\u001b[39m \u001b[34mreadr  \u001b[39m 1.3.1     \u001b[32m✔\u001b[39m \u001b[34mforcats\u001b[39m 0.4.0\n",
      "── \u001b[1mConflicts\u001b[22m ────────────────────────────────────────── tidyverse_conflicts() ──\n",
      "\u001b[31m✖\u001b[39m \u001b[34mdplyr\u001b[39m::\u001b[32mfilter()\u001b[39m masks \u001b[34mstats\u001b[39m::filter()\n",
      "\u001b[31m✖\u001b[39m \u001b[34mdplyr\u001b[39m::\u001b[32mlag()\u001b[39m    masks \u001b[34mstats\u001b[39m::lag()\n",
      "here() starts at /mnt/expressions/mp/ychr\n",
      "Loading ychr\n"
     ]
    }
   ],
   "source": [
    "library(tidyverse)\n",
    "library(here)\n",
    "\n",
    "devtools::load_all(\".\")"
   ]
  },
  {
   "cell_type": "markdown",
   "metadata": {},
   "source": [
    "# A00"
   ]
  },
  {
   "cell_type": "code",
   "execution_count": 2,
   "metadata": {},
   "outputs": [
    {
     "data": {
      "text/html": [
       "6909567"
      ],
      "text/latex": [
       "6909567"
      ],
      "text/markdown": [
       "6909567"
      ],
      "text/plain": [
       "[1] 6909567"
      ]
     },
     "metadata": {},
     "output_type": "display_data"
    }
   ],
   "source": [
    "read_vcf(here(\"test/a00_baq.vcf.gz\"), mindp = 3, maxdp = 0.98) %>% nrow"
   ]
  },
  {
   "cell_type": "code",
   "execution_count": 3,
   "metadata": {},
   "outputs": [
    {
     "data": {
      "text/html": [
       "6909567"
      ],
      "text/latex": [
       "6909567"
      ],
      "text/markdown": [
       "6909567"
      ],
      "text/plain": [
       "[1] 6909567"
      ]
     },
     "metadata": {},
     "output_type": "display_data"
    }
   ],
   "source": [
    "read_vcf(here(\"test/a00_nobaq.vcf.gz\"), mindp = 3, maxdp = 0.98) %>% nrow"
   ]
  },
  {
   "cell_type": "code",
   "execution_count": 4,
   "metadata": {},
   "outputs": [
    {
     "data": {
      "text/html": [
       "6789999"
      ],
      "text/latex": [
       "6789999"
      ],
      "text/markdown": [
       "6789999"
      ],
      "text/plain": [
       "[1] 6789999"
      ]
     },
     "metadata": {},
     "output_type": "display_data"
    }
   ],
   "source": [
    "read_vcf(here(\"test/a00_consensus.vcf.gz\"), mindp = 3, maxdp = 0.98) %>% nrow"
   ]
  },
  {
   "cell_type": "code",
   "execution_count": 5,
   "metadata": {},
   "outputs": [
    {
     "data": {
      "text/html": [
       "6873362"
      ],
      "text/latex": [
       "6873362"
      ],
      "text/markdown": [
       "6873362"
      ],
      "text/plain": [
       "[1] 6873362"
      ]
     },
     "metadata": {},
     "output_type": "display_data"
    }
   ],
   "source": [
    "read_vcf(here(\"test/a00_tolerance.vcf.gz\"), mindp = 3, maxdp = 0.98) %>% nrow"
   ]
  },
  {
   "cell_type": "code",
   "execution_count": 18,
   "metadata": {},
   "outputs": [],
   "source": [
    "a00 <- read_vcf(here(\"test/genotyping_a00.vcf.gz\"), mindp = 3, maxdp = 0.98) %>%\n",
    "    filter(!is.na(baq) | !is.na(nobaq) | !is.na(cons) | !is.na(tol))"
   ]
  },
  {
   "cell_type": "code",
   "execution_count": 19,
   "metadata": {},
   "outputs": [
    {
     "data": {
      "text/html": [
       "6777850"
      ],
      "text/latex": [
       "6777850"
      ],
      "text/markdown": [
       "6777850"
      ],
      "text/plain": [
       "[1] 6777850"
      ]
     },
     "metadata": {},
     "output_type": "display_data"
    }
   ],
   "source": [
    "nrow(a00)"
   ]
  },
  {
   "cell_type": "code",
   "execution_count": 23,
   "metadata": {},
   "outputs": [
    {
     "data": {
      "text/html": [
       "<table>\n",
       "<caption>A tibble: 6 × 8</caption>\n",
       "<thead>\n",
       "\t<tr><th scope=col>chrom</th><th scope=col>pos</th><th scope=col>REF</th><th scope=col>ALT</th><th scope=col>baq</th><th scope=col>nobaq</th><th scope=col>cons</th><th scope=col>tol</th></tr>\n",
       "\t<tr><th scope=col>&lt;chr&gt;</th><th scope=col>&lt;int&gt;</th><th scope=col>&lt;chr&gt;</th><th scope=col>&lt;chr&gt;</th><th scope=col>&lt;dbl&gt;</th><th scope=col>&lt;dbl&gt;</th><th scope=col>&lt;dbl&gt;</th><th scope=col>&lt;dbl&gt;</th></tr>\n",
       "</thead>\n",
       "<tbody>\n",
       "\t<tr><td>Y</td><td> 2805552</td><td>G</td><td>A</td><td>0</td><td>1</td><td>NA</td><td>NA</td></tr>\n",
       "\t<tr><td>Y</td><td> 3715248</td><td>A</td><td>G</td><td>0</td><td>1</td><td>NA</td><td>NA</td></tr>\n",
       "\t<tr><td>Y</td><td> 8561368</td><td>C</td><td>T</td><td>0</td><td>1</td><td>NA</td><td>NA</td></tr>\n",
       "\t<tr><td>Y</td><td> 8561376</td><td>C</td><td>T</td><td>0</td><td>1</td><td>NA</td><td>NA</td></tr>\n",
       "\t<tr><td>Y</td><td>17029481</td><td>G</td><td>A</td><td>0</td><td>1</td><td>NA</td><td>NA</td></tr>\n",
       "\t<tr><td>Y</td><td>17029484</td><td>T</td><td>A</td><td>0</td><td>1</td><td>NA</td><td>NA</td></tr>\n",
       "</tbody>\n",
       "</table>\n"
      ],
      "text/latex": [
       "A tibble: 6 × 8\n",
       "\\begin{tabular}{r|llllllll}\n",
       " chrom & pos & REF & ALT & baq & nobaq & cons & tol\\\\\n",
       " <chr> & <int> & <chr> & <chr> & <dbl> & <dbl> & <dbl> & <dbl>\\\\\n",
       "\\hline\n",
       "\t Y &  2805552 & G & A & 0 & 1 & NA & NA\\\\\n",
       "\t Y &  3715248 & A & G & 0 & 1 & NA & NA\\\\\n",
       "\t Y &  8561368 & C & T & 0 & 1 & NA & NA\\\\\n",
       "\t Y &  8561376 & C & T & 0 & 1 & NA & NA\\\\\n",
       "\t Y & 17029481 & G & A & 0 & 1 & NA & NA\\\\\n",
       "\t Y & 17029484 & T & A & 0 & 1 & NA & NA\\\\\n",
       "\\end{tabular}\n"
      ],
      "text/markdown": [
       "\n",
       "A tibble: 6 × 8\n",
       "\n",
       "| chrom &lt;chr&gt; | pos &lt;int&gt; | REF &lt;chr&gt; | ALT &lt;chr&gt; | baq &lt;dbl&gt; | nobaq &lt;dbl&gt; | cons &lt;dbl&gt; | tol &lt;dbl&gt; |\n",
       "|---|---|---|---|---|---|---|---|\n",
       "| Y |  2805552 | G | A | 0 | 1 | NA | NA |\n",
       "| Y |  3715248 | A | G | 0 | 1 | NA | NA |\n",
       "| Y |  8561368 | C | T | 0 | 1 | NA | NA |\n",
       "| Y |  8561376 | C | T | 0 | 1 | NA | NA |\n",
       "| Y | 17029481 | G | A | 0 | 1 | NA | NA |\n",
       "| Y | 17029484 | T | A | 0 | 1 | NA | NA |\n",
       "\n"
      ],
      "text/plain": [
       "  chrom pos      REF ALT baq nobaq cons tol\n",
       "1 Y      2805552 G   A   0   1     NA   NA \n",
       "2 Y      3715248 A   G   0   1     NA   NA \n",
       "3 Y      8561368 C   T   0   1     NA   NA \n",
       "4 Y      8561376 C   T   0   1     NA   NA \n",
       "5 Y     17029481 G   A   0   1     NA   NA \n",
       "6 Y     17029484 T   A   0   1     NA   NA "
      ]
     },
     "metadata": {},
     "output_type": "display_data"
    }
   ],
   "source": [
    "filter(a00, baq != nobaq)"
   ]
  },
  {
   "cell_type": "code",
   "execution_count": 38,
   "metadata": {},
   "outputs": [
    {
     "data": {
      "text/html": [
       "<table>\n",
       "<caption>A grouped_df: 1 × 3</caption>\n",
       "<thead>\n",
       "\t<tr><th scope=col>baq</th><th scope=col>nobaq</th><th scope=col>n</th></tr>\n",
       "\t<tr><th scope=col>&lt;dbl&gt;</th><th scope=col>&lt;dbl&gt;</th><th scope=col>&lt;int&gt;</th></tr>\n",
       "</thead>\n",
       "<tbody>\n",
       "\t<tr><td>0</td><td>1</td><td>6</td></tr>\n",
       "</tbody>\n",
       "</table>\n"
      ],
      "text/latex": [
       "A grouped_df: 1 × 3\n",
       "\\begin{tabular}{r|lll}\n",
       " baq & nobaq & n\\\\\n",
       " <dbl> & <dbl> & <int>\\\\\n",
       "\\hline\n",
       "\t 0 & 1 & 6\\\\\n",
       "\\end{tabular}\n"
      ],
      "text/markdown": [
       "\n",
       "A grouped_df: 1 × 3\n",
       "\n",
       "| baq &lt;dbl&gt; | nobaq &lt;dbl&gt; | n &lt;int&gt; |\n",
       "|---|---|---|\n",
       "| 0 | 1 | 6 |\n",
       "\n"
      ],
      "text/plain": [
       "  baq nobaq n\n",
       "1 0   1     6"
      ]
     },
     "metadata": {},
     "output_type": "display_data"
    }
   ],
   "source": [
    "filter(a00, baq != nobaq) %>% group_by(baq, nobaq) %>% tally"
   ]
  },
  {
   "cell_type": "code",
   "execution_count": 74,
   "metadata": {},
   "outputs": [
    {
     "data": {
      "text/html": [
       "<table>\n",
       "<caption>A tibble: 20 × 8</caption>\n",
       "<thead>\n",
       "\t<tr><th scope=col>chrom</th><th scope=col>pos</th><th scope=col>REF</th><th scope=col>ALT</th><th scope=col>baq</th><th scope=col>nobaq</th><th scope=col>cons</th><th scope=col>tol</th></tr>\n",
       "\t<tr><th scope=col>&lt;chr&gt;</th><th scope=col>&lt;int&gt;</th><th scope=col>&lt;chr&gt;</th><th scope=col>&lt;chr&gt;</th><th scope=col>&lt;dbl&gt;</th><th scope=col>&lt;dbl&gt;</th><th scope=col>&lt;dbl&gt;</th><th scope=col>&lt;dbl&gt;</th></tr>\n",
       "</thead>\n",
       "<tbody>\n",
       "\t<tr><td>Y</td><td>19128936</td><td>A</td><td>C</td><td>NA</td><td>1</td><td>NA</td><td>1</td></tr>\n",
       "\t<tr><td>Y</td><td>10035969</td><td>C</td><td>T</td><td> 1</td><td>1</td><td>NA</td><td>1</td></tr>\n",
       "\t<tr><td>Y</td><td>14243754</td><td>C</td><td>T</td><td> 1</td><td>1</td><td>NA</td><td>1</td></tr>\n",
       "\t<tr><td>Y</td><td>10031638</td><td>C</td><td>G</td><td> 1</td><td>1</td><td>NA</td><td>1</td></tr>\n",
       "\t<tr><td>Y</td><td>23466468</td><td>T</td><td>C</td><td> 1</td><td>1</td><td>NA</td><td>1</td></tr>\n",
       "\t<tr><td>Y</td><td>22549620</td><td>G</td><td>A</td><td> 1</td><td>1</td><td>NA</td><td>1</td></tr>\n",
       "\t<tr><td>Y</td><td> 8388616</td><td>A</td><td>C</td><td>NA</td><td>1</td><td>NA</td><td>1</td></tr>\n",
       "\t<tr><td>Y</td><td> 7759364</td><td>T</td><td>C</td><td> 1</td><td>1</td><td>NA</td><td>1</td></tr>\n",
       "\t<tr><td>Y</td><td> 9930635</td><td>C</td><td>G</td><td> 1</td><td>1</td><td>NA</td><td>1</td></tr>\n",
       "\t<tr><td>Y</td><td>17566434</td><td>C</td><td>A</td><td> 1</td><td>1</td><td>NA</td><td>1</td></tr>\n",
       "\t<tr><td>Y</td><td>15828090</td><td>C</td><td> </td><td> 0</td><td>0</td><td>NA</td><td>0</td></tr>\n",
       "\t<tr><td>Y</td><td>14608797</td><td>T</td><td> </td><td> 0</td><td>0</td><td>NA</td><td>0</td></tr>\n",
       "\t<tr><td>Y</td><td>19288811</td><td>T</td><td> </td><td> 0</td><td>0</td><td>NA</td><td>0</td></tr>\n",
       "\t<tr><td>Y</td><td>14943031</td><td>C</td><td> </td><td> 0</td><td>0</td><td>NA</td><td>0</td></tr>\n",
       "\t<tr><td>Y</td><td> 6804459</td><td>C</td><td> </td><td> 0</td><td>0</td><td>NA</td><td>0</td></tr>\n",
       "\t<tr><td>Y</td><td>21164114</td><td>A</td><td> </td><td> 0</td><td>0</td><td>NA</td><td>0</td></tr>\n",
       "\t<tr><td>Y</td><td>16259377</td><td>T</td><td> </td><td> 0</td><td>0</td><td>NA</td><td>0</td></tr>\n",
       "\t<tr><td>Y</td><td>17691131</td><td>T</td><td> </td><td> 0</td><td>0</td><td>NA</td><td>0</td></tr>\n",
       "\t<tr><td>Y</td><td>22808898</td><td>G</td><td> </td><td> 0</td><td>0</td><td>NA</td><td>0</td></tr>\n",
       "\t<tr><td>Y</td><td> 8427025</td><td>T</td><td> </td><td> 0</td><td>0</td><td>NA</td><td>0</td></tr>\n",
       "</tbody>\n",
       "</table>\n"
      ],
      "text/latex": [
       "A tibble: 20 × 8\n",
       "\\begin{tabular}{r|llllllll}\n",
       " chrom & pos & REF & ALT & baq & nobaq & cons & tol\\\\\n",
       " <chr> & <int> & <chr> & <chr> & <dbl> & <dbl> & <dbl> & <dbl>\\\\\n",
       "\\hline\n",
       "\t Y & 19128936 & A & C & NA & 1 & NA & 1\\\\\n",
       "\t Y & 10035969 & C & T &  1 & 1 & NA & 1\\\\\n",
       "\t Y & 14243754 & C & T &  1 & 1 & NA & 1\\\\\n",
       "\t Y & 10031638 & C & G &  1 & 1 & NA & 1\\\\\n",
       "\t Y & 23466468 & T & C &  1 & 1 & NA & 1\\\\\n",
       "\t Y & 22549620 & G & A &  1 & 1 & NA & 1\\\\\n",
       "\t Y &  8388616 & A & C & NA & 1 & NA & 1\\\\\n",
       "\t Y &  7759364 & T & C &  1 & 1 & NA & 1\\\\\n",
       "\t Y &  9930635 & C & G &  1 & 1 & NA & 1\\\\\n",
       "\t Y & 17566434 & C & A &  1 & 1 & NA & 1\\\\\n",
       "\t Y & 15828090 & C &   &  0 & 0 & NA & 0\\\\\n",
       "\t Y & 14608797 & T &   &  0 & 0 & NA & 0\\\\\n",
       "\t Y & 19288811 & T &   &  0 & 0 & NA & 0\\\\\n",
       "\t Y & 14943031 & C &   &  0 & 0 & NA & 0\\\\\n",
       "\t Y &  6804459 & C &   &  0 & 0 & NA & 0\\\\\n",
       "\t Y & 21164114 & A &   &  0 & 0 & NA & 0\\\\\n",
       "\t Y & 16259377 & T &   &  0 & 0 & NA & 0\\\\\n",
       "\t Y & 17691131 & T &   &  0 & 0 & NA & 0\\\\\n",
       "\t Y & 22808898 & G &   &  0 & 0 & NA & 0\\\\\n",
       "\t Y &  8427025 & T &   &  0 & 0 & NA & 0\\\\\n",
       "\\end{tabular}\n"
      ],
      "text/markdown": [
       "\n",
       "A tibble: 20 × 8\n",
       "\n",
       "| chrom &lt;chr&gt; | pos &lt;int&gt; | REF &lt;chr&gt; | ALT &lt;chr&gt; | baq &lt;dbl&gt; | nobaq &lt;dbl&gt; | cons &lt;dbl&gt; | tol &lt;dbl&gt; |\n",
       "|---|---|---|---|---|---|---|---|\n",
       "| Y | 19128936 | A | C | NA | 1 | NA | 1 |\n",
       "| Y | 10035969 | C | T |  1 | 1 | NA | 1 |\n",
       "| Y | 14243754 | C | T |  1 | 1 | NA | 1 |\n",
       "| Y | 10031638 | C | G |  1 | 1 | NA | 1 |\n",
       "| Y | 23466468 | T | C |  1 | 1 | NA | 1 |\n",
       "| Y | 22549620 | G | A |  1 | 1 | NA | 1 |\n",
       "| Y |  8388616 | A | C | NA | 1 | NA | 1 |\n",
       "| Y |  7759364 | T | C |  1 | 1 | NA | 1 |\n",
       "| Y |  9930635 | C | G |  1 | 1 | NA | 1 |\n",
       "| Y | 17566434 | C | A |  1 | 1 | NA | 1 |\n",
       "| Y | 15828090 | C | <!----> |  0 | 0 | NA | 0 |\n",
       "| Y | 14608797 | T | <!----> |  0 | 0 | NA | 0 |\n",
       "| Y | 19288811 | T | <!----> |  0 | 0 | NA | 0 |\n",
       "| Y | 14943031 | C | <!----> |  0 | 0 | NA | 0 |\n",
       "| Y |  6804459 | C | <!----> |  0 | 0 | NA | 0 |\n",
       "| Y | 21164114 | A | <!----> |  0 | 0 | NA | 0 |\n",
       "| Y | 16259377 | T | <!----> |  0 | 0 | NA | 0 |\n",
       "| Y | 17691131 | T | <!----> |  0 | 0 | NA | 0 |\n",
       "| Y | 22808898 | G | <!----> |  0 | 0 | NA | 0 |\n",
       "| Y |  8427025 | T | <!----> |  0 | 0 | NA | 0 |\n",
       "\n"
      ],
      "text/plain": [
       "   chrom pos      REF ALT baq nobaq cons tol\n",
       "1  Y     19128936 A   C   NA  1     NA   1  \n",
       "2  Y     10035969 C   T    1  1     NA   1  \n",
       "3  Y     14243754 C   T    1  1     NA   1  \n",
       "4  Y     10031638 C   G    1  1     NA   1  \n",
       "5  Y     23466468 T   C    1  1     NA   1  \n",
       "6  Y     22549620 G   A    1  1     NA   1  \n",
       "7  Y      8388616 A   C   NA  1     NA   1  \n",
       "8  Y      7759364 T   C    1  1     NA   1  \n",
       "9  Y      9930635 C   G    1  1     NA   1  \n",
       "10 Y     17566434 C   A    1  1     NA   1  \n",
       "11 Y     15828090 C        0  0     NA   0  \n",
       "12 Y     14608797 T        0  0     NA   0  \n",
       "13 Y     19288811 T        0  0     NA   0  \n",
       "14 Y     14943031 C        0  0     NA   0  \n",
       "15 Y      6804459 C        0  0     NA   0  \n",
       "16 Y     21164114 A        0  0     NA   0  \n",
       "17 Y     16259377 T        0  0     NA   0  \n",
       "18 Y     17691131 T        0  0     NA   0  \n",
       "19 Y     22808898 G        0  0     NA   0  \n",
       "20 Y      8427025 T        0  0     NA   0  "
      ]
     },
     "metadata": {},
     "output_type": "display_data"
    }
   ],
   "source": [
    "filter(a00, is.na(cons) & !(is.na(cons) & is.na(tol))) %>%\n",
    "    group_by(alts = ALT == \"\") %>% sample_n(10) %>% ungroup %>% select(-alts)"
   ]
  },
  {
   "cell_type": "markdown",
   "metadata": {},
   "source": [
    "Based on the table right above, tolerance 90% cutoff produces calls consistent with bcftools."
   ]
  },
  {
   "cell_type": "markdown",
   "metadata": {},
   "source": [
    "# Mezmaiskaya 2 (high-coverage archaic, ideal case)"
   ]
  },
  {
   "cell_type": "code",
   "execution_count": 28,
   "metadata": {},
   "outputs": [
    {
     "data": {
      "text/html": [
       "6670600"
      ],
      "text/latex": [
       "6670600"
      ],
      "text/markdown": [
       "6670600"
      ],
      "text/plain": [
       "[1] 6670600"
      ]
     },
     "metadata": {},
     "output_type": "display_data"
    }
   ],
   "source": [
    "read_vcf(here(\"test/mez2_baq.vcf.gz\"), mindp = 3, maxdp = 0.98) %>% nrow"
   ]
  },
  {
   "cell_type": "code",
   "execution_count": 29,
   "metadata": {},
   "outputs": [
    {
     "data": {
      "text/html": [
       "6670600"
      ],
      "text/latex": [
       "6670600"
      ],
      "text/markdown": [
       "6670600"
      ],
      "text/plain": [
       "[1] 6670600"
      ]
     },
     "metadata": {},
     "output_type": "display_data"
    }
   ],
   "source": [
    "read_vcf(here(\"test/mez2_nobaq.vcf.gz\"), mindp = 3, maxdp = 0.98) %>% nrow"
   ]
  },
  {
   "cell_type": "code",
   "execution_count": 30,
   "metadata": {},
   "outputs": [
    {
     "data": {
      "text/html": [
       "5502469"
      ],
      "text/latex": [
       "5502469"
      ],
      "text/markdown": [
       "5502469"
      ],
      "text/plain": [
       "[1] 5502469"
      ]
     },
     "metadata": {},
     "output_type": "display_data"
    }
   ],
   "source": [
    "read_vcf(here(\"test/mez2_consensus.vcf.gz\"), mindp = 3, maxdp = 0.98) %>% nrow"
   ]
  },
  {
   "cell_type": "code",
   "execution_count": 31,
   "metadata": {},
   "outputs": [
    {
     "data": {
      "text/html": [
       "6349143"
      ],
      "text/latex": [
       "6349143"
      ],
      "text/markdown": [
       "6349143"
      ],
      "text/plain": [
       "[1] 6349143"
      ]
     },
     "metadata": {},
     "output_type": "display_data"
    }
   ],
   "source": [
    "read_vcf(here(\"test/mez2_tolerance.vcf.gz\"), mindp = 3, maxdp = 0.98) %>% nrow"
   ]
  },
  {
   "cell_type": "code",
   "execution_count": 32,
   "metadata": {},
   "outputs": [],
   "source": [
    "mez2 <- read_vcf(here(\"test/genotyping_mez2.vcf.gz\"), mindp = 3, maxdp = 0.98) %>%\n",
    "    filter(!is.na(baq) | !is.na(nobaq) | !is.na(cons) | !is.na(tol))"
   ]
  },
  {
   "cell_type": "code",
   "execution_count": 35,
   "metadata": {},
   "outputs": [
    {
     "data": {
      "text/html": [
       "6359946"
      ],
      "text/latex": [
       "6359946"
      ],
      "text/markdown": [
       "6359946"
      ],
      "text/plain": [
       "[1] 6359946"
      ]
     },
     "metadata": {},
     "output_type": "display_data"
    }
   ],
   "source": [
    "nrow(mez2)"
   ]
  },
  {
   "cell_type": "code",
   "execution_count": 39,
   "metadata": {},
   "outputs": [
    {
     "data": {
      "text/html": [
       "<table>\n",
       "<caption>A tibble: 20 × 8</caption>\n",
       "<thead>\n",
       "\t<tr><th scope=col>chrom</th><th scope=col>pos</th><th scope=col>REF</th><th scope=col>ALT</th><th scope=col>baq</th><th scope=col>nobaq</th><th scope=col>cons</th><th scope=col>tol</th></tr>\n",
       "\t<tr><th scope=col>&lt;chr&gt;</th><th scope=col>&lt;int&gt;</th><th scope=col>&lt;chr&gt;</th><th scope=col>&lt;chr&gt;</th><th scope=col>&lt;dbl&gt;</th><th scope=col>&lt;dbl&gt;</th><th scope=col>&lt;dbl&gt;</th><th scope=col>&lt;dbl&gt;</th></tr>\n",
       "</thead>\n",
       "<tbody>\n",
       "\t<tr><td>Y</td><td>21153166</td><td>T</td><td>A</td><td>0</td><td>1</td><td>NA</td><td>NA</td></tr>\n",
       "\t<tr><td>Y</td><td> 9417686</td><td>C</td><td>T</td><td>0</td><td>1</td><td>NA</td><td>NA</td></tr>\n",
       "\t<tr><td>Y</td><td>19564220</td><td>G</td><td>A</td><td>0</td><td>1</td><td>NA</td><td>NA</td></tr>\n",
       "\t<tr><td>Y</td><td>15787832</td><td>G</td><td>A</td><td>1</td><td>0</td><td>NA</td><td>NA</td></tr>\n",
       "\t<tr><td>Y</td><td>15516284</td><td>C</td><td>T</td><td>0</td><td>1</td><td>NA</td><td>NA</td></tr>\n",
       "\t<tr><td>Y</td><td> 8316824</td><td>A</td><td>G</td><td>0</td><td>1</td><td>NA</td><td>NA</td></tr>\n",
       "\t<tr><td>Y</td><td> 8455563</td><td>T</td><td>C</td><td>1</td><td>0</td><td>NA</td><td>NA</td></tr>\n",
       "\t<tr><td>Y</td><td> 9984843</td><td>G</td><td>A</td><td>0</td><td>1</td><td>NA</td><td>NA</td></tr>\n",
       "\t<tr><td>Y</td><td> 7280606</td><td>T</td><td>C</td><td>0</td><td>1</td><td>NA</td><td>NA</td></tr>\n",
       "\t<tr><td>Y</td><td>23540925</td><td>C</td><td>T</td><td>0</td><td>1</td><td>NA</td><td>NA</td></tr>\n",
       "\t<tr><td>Y</td><td>23052718</td><td>G</td><td>A</td><td>0</td><td>1</td><td>NA</td><td>NA</td></tr>\n",
       "\t<tr><td>Y</td><td>16366102</td><td>A</td><td>G</td><td>0</td><td>1</td><td>NA</td><td>NA</td></tr>\n",
       "\t<tr><td>Y</td><td>23577050</td><td>C</td><td>T</td><td>0</td><td>1</td><td>NA</td><td>NA</td></tr>\n",
       "\t<tr><td>Y</td><td>18938293</td><td>T</td><td>C</td><td>0</td><td>1</td><td>NA</td><td>NA</td></tr>\n",
       "\t<tr><td>Y</td><td>15028570</td><td>T</td><td>C</td><td>0</td><td>1</td><td>NA</td><td>NA</td></tr>\n",
       "\t<tr><td>Y</td><td> 3720007</td><td>C</td><td>A</td><td>0</td><td>1</td><td>NA</td><td>NA</td></tr>\n",
       "\t<tr><td>Y</td><td>22160922</td><td>C</td><td>T</td><td>1</td><td>0</td><td>NA</td><td>NA</td></tr>\n",
       "\t<tr><td>Y</td><td>16642127</td><td>G</td><td>A</td><td>0</td><td>1</td><td>NA</td><td>NA</td></tr>\n",
       "\t<tr><td>Y</td><td>18038445</td><td>C</td><td>T</td><td>0</td><td>1</td><td>NA</td><td>NA</td></tr>\n",
       "\t<tr><td>Y</td><td>18083168</td><td>G</td><td>A</td><td>0</td><td>1</td><td>NA</td><td>NA</td></tr>\n",
       "</tbody>\n",
       "</table>\n"
      ],
      "text/latex": [
       "A tibble: 20 × 8\n",
       "\\begin{tabular}{r|llllllll}\n",
       " chrom & pos & REF & ALT & baq & nobaq & cons & tol\\\\\n",
       " <chr> & <int> & <chr> & <chr> & <dbl> & <dbl> & <dbl> & <dbl>\\\\\n",
       "\\hline\n",
       "\t Y & 21153166 & T & A & 0 & 1 & NA & NA\\\\\n",
       "\t Y &  9417686 & C & T & 0 & 1 & NA & NA\\\\\n",
       "\t Y & 19564220 & G & A & 0 & 1 & NA & NA\\\\\n",
       "\t Y & 15787832 & G & A & 1 & 0 & NA & NA\\\\\n",
       "\t Y & 15516284 & C & T & 0 & 1 & NA & NA\\\\\n",
       "\t Y &  8316824 & A & G & 0 & 1 & NA & NA\\\\\n",
       "\t Y &  8455563 & T & C & 1 & 0 & NA & NA\\\\\n",
       "\t Y &  9984843 & G & A & 0 & 1 & NA & NA\\\\\n",
       "\t Y &  7280606 & T & C & 0 & 1 & NA & NA\\\\\n",
       "\t Y & 23540925 & C & T & 0 & 1 & NA & NA\\\\\n",
       "\t Y & 23052718 & G & A & 0 & 1 & NA & NA\\\\\n",
       "\t Y & 16366102 & A & G & 0 & 1 & NA & NA\\\\\n",
       "\t Y & 23577050 & C & T & 0 & 1 & NA & NA\\\\\n",
       "\t Y & 18938293 & T & C & 0 & 1 & NA & NA\\\\\n",
       "\t Y & 15028570 & T & C & 0 & 1 & NA & NA\\\\\n",
       "\t Y &  3720007 & C & A & 0 & 1 & NA & NA\\\\\n",
       "\t Y & 22160922 & C & T & 1 & 0 & NA & NA\\\\\n",
       "\t Y & 16642127 & G & A & 0 & 1 & NA & NA\\\\\n",
       "\t Y & 18038445 & C & T & 0 & 1 & NA & NA\\\\\n",
       "\t Y & 18083168 & G & A & 0 & 1 & NA & NA\\\\\n",
       "\\end{tabular}\n"
      ],
      "text/markdown": [
       "\n",
       "A tibble: 20 × 8\n",
       "\n",
       "| chrom &lt;chr&gt; | pos &lt;int&gt; | REF &lt;chr&gt; | ALT &lt;chr&gt; | baq &lt;dbl&gt; | nobaq &lt;dbl&gt; | cons &lt;dbl&gt; | tol &lt;dbl&gt; |\n",
       "|---|---|---|---|---|---|---|---|\n",
       "| Y | 21153166 | T | A | 0 | 1 | NA | NA |\n",
       "| Y |  9417686 | C | T | 0 | 1 | NA | NA |\n",
       "| Y | 19564220 | G | A | 0 | 1 | NA | NA |\n",
       "| Y | 15787832 | G | A | 1 | 0 | NA | NA |\n",
       "| Y | 15516284 | C | T | 0 | 1 | NA | NA |\n",
       "| Y |  8316824 | A | G | 0 | 1 | NA | NA |\n",
       "| Y |  8455563 | T | C | 1 | 0 | NA | NA |\n",
       "| Y |  9984843 | G | A | 0 | 1 | NA | NA |\n",
       "| Y |  7280606 | T | C | 0 | 1 | NA | NA |\n",
       "| Y | 23540925 | C | T | 0 | 1 | NA | NA |\n",
       "| Y | 23052718 | G | A | 0 | 1 | NA | NA |\n",
       "| Y | 16366102 | A | G | 0 | 1 | NA | NA |\n",
       "| Y | 23577050 | C | T | 0 | 1 | NA | NA |\n",
       "| Y | 18938293 | T | C | 0 | 1 | NA | NA |\n",
       "| Y | 15028570 | T | C | 0 | 1 | NA | NA |\n",
       "| Y |  3720007 | C | A | 0 | 1 | NA | NA |\n",
       "| Y | 22160922 | C | T | 1 | 0 | NA | NA |\n",
       "| Y | 16642127 | G | A | 0 | 1 | NA | NA |\n",
       "| Y | 18038445 | C | T | 0 | 1 | NA | NA |\n",
       "| Y | 18083168 | G | A | 0 | 1 | NA | NA |\n",
       "\n"
      ],
      "text/plain": [
       "   chrom pos      REF ALT baq nobaq cons tol\n",
       "1  Y     21153166 T   A   0   1     NA   NA \n",
       "2  Y      9417686 C   T   0   1     NA   NA \n",
       "3  Y     19564220 G   A   0   1     NA   NA \n",
       "4  Y     15787832 G   A   1   0     NA   NA \n",
       "5  Y     15516284 C   T   0   1     NA   NA \n",
       "6  Y      8316824 A   G   0   1     NA   NA \n",
       "7  Y      8455563 T   C   1   0     NA   NA \n",
       "8  Y      9984843 G   A   0   1     NA   NA \n",
       "9  Y      7280606 T   C   0   1     NA   NA \n",
       "10 Y     23540925 C   T   0   1     NA   NA \n",
       "11 Y     23052718 G   A   0   1     NA   NA \n",
       "12 Y     16366102 A   G   0   1     NA   NA \n",
       "13 Y     23577050 C   T   0   1     NA   NA \n",
       "14 Y     18938293 T   C   0   1     NA   NA \n",
       "15 Y     15028570 T   C   0   1     NA   NA \n",
       "16 Y      3720007 C   A   0   1     NA   NA \n",
       "17 Y     22160922 C   T   1   0     NA   NA \n",
       "18 Y     16642127 G   A   0   1     NA   NA \n",
       "19 Y     18038445 C   T   0   1     NA   NA \n",
       "20 Y     18083168 G   A   0   1     NA   NA "
      ]
     },
     "metadata": {},
     "output_type": "display_data"
    }
   ],
   "source": [
    "filter(mez2, baq != nobaq) %>% sample_n(20)"
   ]
  },
  {
   "cell_type": "code",
   "execution_count": 40,
   "metadata": {},
   "outputs": [
    {
     "data": {
      "text/html": [
       "<table>\n",
       "<caption>A grouped_df: 2 × 3</caption>\n",
       "<thead>\n",
       "\t<tr><th scope=col>baq</th><th scope=col>nobaq</th><th scope=col>n</th></tr>\n",
       "\t<tr><th scope=col>&lt;dbl&gt;</th><th scope=col>&lt;dbl&gt;</th><th scope=col>&lt;int&gt;</th></tr>\n",
       "</thead>\n",
       "<tbody>\n",
       "\t<tr><td>0</td><td>1</td><td>35</td></tr>\n",
       "\t<tr><td>1</td><td>0</td><td> 5</td></tr>\n",
       "</tbody>\n",
       "</table>\n"
      ],
      "text/latex": [
       "A grouped_df: 2 × 3\n",
       "\\begin{tabular}{r|lll}\n",
       " baq & nobaq & n\\\\\n",
       " <dbl> & <dbl> & <int>\\\\\n",
       "\\hline\n",
       "\t 0 & 1 & 35\\\\\n",
       "\t 1 & 0 &  5\\\\\n",
       "\\end{tabular}\n"
      ],
      "text/markdown": [
       "\n",
       "A grouped_df: 2 × 3\n",
       "\n",
       "| baq &lt;dbl&gt; | nobaq &lt;dbl&gt; | n &lt;int&gt; |\n",
       "|---|---|---|\n",
       "| 0 | 1 | 35 |\n",
       "| 1 | 0 |  5 |\n",
       "\n"
      ],
      "text/plain": [
       "  baq nobaq n \n",
       "1 0   1     35\n",
       "2 1   0      5"
      ]
     },
     "metadata": {},
     "output_type": "display_data"
    }
   ],
   "source": [
    "filter(mez2, baq != nobaq) %>% group_by(baq, nobaq) %>% tally"
   ]
  },
  {
   "cell_type": "code",
   "execution_count": 41,
   "metadata": {},
   "outputs": [
    {
     "data": {
      "text/html": [
       "<table>\n",
       "<caption>A tibble: 0 × 8</caption>\n",
       "<thead>\n",
       "\t<tr><th scope=col>chrom</th><th scope=col>pos</th><th scope=col>REF</th><th scope=col>ALT</th><th scope=col>baq</th><th scope=col>nobaq</th><th scope=col>cons</th><th scope=col>tol</th></tr>\n",
       "\t<tr><th scope=col>&lt;chr&gt;</th><th scope=col>&lt;int&gt;</th><th scope=col>&lt;chr&gt;</th><th scope=col>&lt;chr&gt;</th><th scope=col>&lt;dbl&gt;</th><th scope=col>&lt;dbl&gt;</th><th scope=col>&lt;dbl&gt;</th><th scope=col>&lt;dbl&gt;</th></tr>\n",
       "</thead>\n",
       "<tbody>\n",
       "</tbody>\n",
       "</table>\n"
      ],
      "text/latex": [
       "A tibble: 0 × 8\n",
       "\\begin{tabular}{r|llllllll}\n",
       " chrom & pos & REF & ALT & baq & nobaq & cons & tol\\\\\n",
       " <chr> & <int> & <chr> & <chr> & <dbl> & <dbl> & <dbl> & <dbl>\\\\\n",
       "\\hline\n",
       "\\end{tabular}\n"
      ],
      "text/markdown": [
       "\n",
       "A tibble: 0 × 8\n",
       "\n",
       "| chrom &lt;chr&gt; | pos &lt;int&gt; | REF &lt;chr&gt; | ALT &lt;chr&gt; | baq &lt;dbl&gt; | nobaq &lt;dbl&gt; | cons &lt;dbl&gt; | tol &lt;dbl&gt; |\n",
       "|---|---|---|---|---|---|---|---|\n",
       "\n"
      ],
      "text/plain": [
       "     chrom pos REF ALT baq nobaq cons tol"
      ]
     },
     "metadata": {},
     "output_type": "display_data"
    }
   ],
   "source": [
    "filter(mez2, cons != tol)"
   ]
  },
  {
   "cell_type": "code",
   "execution_count": 75,
   "metadata": {},
   "outputs": [
    {
     "data": {
      "text/html": [
       "<table>\n",
       "<caption>A tibble: 20 × 8</caption>\n",
       "<thead>\n",
       "\t<tr><th scope=col>chrom</th><th scope=col>pos</th><th scope=col>REF</th><th scope=col>ALT</th><th scope=col>baq</th><th scope=col>nobaq</th><th scope=col>cons</th><th scope=col>tol</th></tr>\n",
       "\t<tr><th scope=col>&lt;chr&gt;</th><th scope=col>&lt;int&gt;</th><th scope=col>&lt;chr&gt;</th><th scope=col>&lt;chr&gt;</th><th scope=col>&lt;dbl&gt;</th><th scope=col>&lt;dbl&gt;</th><th scope=col>&lt;dbl&gt;</th><th scope=col>&lt;dbl&gt;</th></tr>\n",
       "</thead>\n",
       "<tbody>\n",
       "\t<tr><td>Y</td><td>15304343</td><td>T</td><td>C</td><td>1</td><td>1</td><td>NA</td><td>1</td></tr>\n",
       "\t<tr><td>Y</td><td> 3718196</td><td>C</td><td>T</td><td>1</td><td>1</td><td>NA</td><td>1</td></tr>\n",
       "\t<tr><td>Y</td><td>17028173</td><td>C</td><td>T</td><td>1</td><td>1</td><td>NA</td><td>1</td></tr>\n",
       "\t<tr><td>Y</td><td>22646080</td><td>A</td><td>G</td><td>1</td><td>1</td><td>NA</td><td>1</td></tr>\n",
       "\t<tr><td>Y</td><td>23575707</td><td>T</td><td>C</td><td>1</td><td>1</td><td>NA</td><td>1</td></tr>\n",
       "\t<tr><td>Y</td><td>17032088</td><td>T</td><td>C</td><td>1</td><td>1</td><td>NA</td><td>1</td></tr>\n",
       "\t<tr><td>Y</td><td>18109555</td><td>A</td><td>C</td><td>1</td><td>1</td><td>NA</td><td>1</td></tr>\n",
       "\t<tr><td>Y</td><td>22889018</td><td>A</td><td>G</td><td>1</td><td>1</td><td>NA</td><td>1</td></tr>\n",
       "\t<tr><td>Y</td><td>18025230</td><td>A</td><td>C</td><td>1</td><td>1</td><td>NA</td><td>1</td></tr>\n",
       "\t<tr><td>Y</td><td>18113272</td><td>T</td><td>C</td><td>1</td><td>1</td><td>NA</td><td>1</td></tr>\n",
       "\t<tr><td>Y</td><td> 7032186</td><td>G</td><td> </td><td>0</td><td>0</td><td>NA</td><td>0</td></tr>\n",
       "\t<tr><td>Y</td><td> 2875693</td><td>C</td><td> </td><td>0</td><td>0</td><td>NA</td><td>0</td></tr>\n",
       "\t<tr><td>Y</td><td>15601477</td><td>C</td><td> </td><td>0</td><td>0</td><td>NA</td><td>0</td></tr>\n",
       "\t<tr><td>Y</td><td>21622526</td><td>C</td><td> </td><td>0</td><td>0</td><td>NA</td><td>0</td></tr>\n",
       "\t<tr><td>Y</td><td>15548930</td><td>C</td><td> </td><td>0</td><td>0</td><td>NA</td><td>0</td></tr>\n",
       "\t<tr><td>Y</td><td>18091730</td><td>C</td><td> </td><td>0</td><td>0</td><td>NA</td><td>0</td></tr>\n",
       "\t<tr><td>Y</td><td>15038216</td><td>G</td><td> </td><td>0</td><td>0</td><td>NA</td><td>0</td></tr>\n",
       "\t<tr><td>Y</td><td>22631467</td><td>G</td><td> </td><td>0</td><td>0</td><td>NA</td><td>0</td></tr>\n",
       "\t<tr><td>Y</td><td> 8048835</td><td>C</td><td> </td><td>0</td><td>0</td><td>NA</td><td>0</td></tr>\n",
       "\t<tr><td>Y</td><td>17361834</td><td>C</td><td> </td><td>0</td><td>0</td><td>NA</td><td>0</td></tr>\n",
       "</tbody>\n",
       "</table>\n"
      ],
      "text/latex": [
       "A tibble: 20 × 8\n",
       "\\begin{tabular}{r|llllllll}\n",
       " chrom & pos & REF & ALT & baq & nobaq & cons & tol\\\\\n",
       " <chr> & <int> & <chr> & <chr> & <dbl> & <dbl> & <dbl> & <dbl>\\\\\n",
       "\\hline\n",
       "\t Y & 15304343 & T & C & 1 & 1 & NA & 1\\\\\n",
       "\t Y &  3718196 & C & T & 1 & 1 & NA & 1\\\\\n",
       "\t Y & 17028173 & C & T & 1 & 1 & NA & 1\\\\\n",
       "\t Y & 22646080 & A & G & 1 & 1 & NA & 1\\\\\n",
       "\t Y & 23575707 & T & C & 1 & 1 & NA & 1\\\\\n",
       "\t Y & 17032088 & T & C & 1 & 1 & NA & 1\\\\\n",
       "\t Y & 18109555 & A & C & 1 & 1 & NA & 1\\\\\n",
       "\t Y & 22889018 & A & G & 1 & 1 & NA & 1\\\\\n",
       "\t Y & 18025230 & A & C & 1 & 1 & NA & 1\\\\\n",
       "\t Y & 18113272 & T & C & 1 & 1 & NA & 1\\\\\n",
       "\t Y &  7032186 & G &   & 0 & 0 & NA & 0\\\\\n",
       "\t Y &  2875693 & C &   & 0 & 0 & NA & 0\\\\\n",
       "\t Y & 15601477 & C &   & 0 & 0 & NA & 0\\\\\n",
       "\t Y & 21622526 & C &   & 0 & 0 & NA & 0\\\\\n",
       "\t Y & 15548930 & C &   & 0 & 0 & NA & 0\\\\\n",
       "\t Y & 18091730 & C &   & 0 & 0 & NA & 0\\\\\n",
       "\t Y & 15038216 & G &   & 0 & 0 & NA & 0\\\\\n",
       "\t Y & 22631467 & G &   & 0 & 0 & NA & 0\\\\\n",
       "\t Y &  8048835 & C &   & 0 & 0 & NA & 0\\\\\n",
       "\t Y & 17361834 & C &   & 0 & 0 & NA & 0\\\\\n",
       "\\end{tabular}\n"
      ],
      "text/markdown": [
       "\n",
       "A tibble: 20 × 8\n",
       "\n",
       "| chrom &lt;chr&gt; | pos &lt;int&gt; | REF &lt;chr&gt; | ALT &lt;chr&gt; | baq &lt;dbl&gt; | nobaq &lt;dbl&gt; | cons &lt;dbl&gt; | tol &lt;dbl&gt; |\n",
       "|---|---|---|---|---|---|---|---|\n",
       "| Y | 15304343 | T | C | 1 | 1 | NA | 1 |\n",
       "| Y |  3718196 | C | T | 1 | 1 | NA | 1 |\n",
       "| Y | 17028173 | C | T | 1 | 1 | NA | 1 |\n",
       "| Y | 22646080 | A | G | 1 | 1 | NA | 1 |\n",
       "| Y | 23575707 | T | C | 1 | 1 | NA | 1 |\n",
       "| Y | 17032088 | T | C | 1 | 1 | NA | 1 |\n",
       "| Y | 18109555 | A | C | 1 | 1 | NA | 1 |\n",
       "| Y | 22889018 | A | G | 1 | 1 | NA | 1 |\n",
       "| Y | 18025230 | A | C | 1 | 1 | NA | 1 |\n",
       "| Y | 18113272 | T | C | 1 | 1 | NA | 1 |\n",
       "| Y |  7032186 | G | <!----> | 0 | 0 | NA | 0 |\n",
       "| Y |  2875693 | C | <!----> | 0 | 0 | NA | 0 |\n",
       "| Y | 15601477 | C | <!----> | 0 | 0 | NA | 0 |\n",
       "| Y | 21622526 | C | <!----> | 0 | 0 | NA | 0 |\n",
       "| Y | 15548930 | C | <!----> | 0 | 0 | NA | 0 |\n",
       "| Y | 18091730 | C | <!----> | 0 | 0 | NA | 0 |\n",
       "| Y | 15038216 | G | <!----> | 0 | 0 | NA | 0 |\n",
       "| Y | 22631467 | G | <!----> | 0 | 0 | NA | 0 |\n",
       "| Y |  8048835 | C | <!----> | 0 | 0 | NA | 0 |\n",
       "| Y | 17361834 | C | <!----> | 0 | 0 | NA | 0 |\n",
       "\n"
      ],
      "text/plain": [
       "   chrom pos      REF ALT baq nobaq cons tol\n",
       "1  Y     15304343 T   C   1   1     NA   1  \n",
       "2  Y      3718196 C   T   1   1     NA   1  \n",
       "3  Y     17028173 C   T   1   1     NA   1  \n",
       "4  Y     22646080 A   G   1   1     NA   1  \n",
       "5  Y     23575707 T   C   1   1     NA   1  \n",
       "6  Y     17032088 T   C   1   1     NA   1  \n",
       "7  Y     18109555 A   C   1   1     NA   1  \n",
       "8  Y     22889018 A   G   1   1     NA   1  \n",
       "9  Y     18025230 A   C   1   1     NA   1  \n",
       "10 Y     18113272 T   C   1   1     NA   1  \n",
       "11 Y      7032186 G       0   0     NA   0  \n",
       "12 Y      2875693 C       0   0     NA   0  \n",
       "13 Y     15601477 C       0   0     NA   0  \n",
       "14 Y     21622526 C       0   0     NA   0  \n",
       "15 Y     15548930 C       0   0     NA   0  \n",
       "16 Y     18091730 C       0   0     NA   0  \n",
       "17 Y     15038216 G       0   0     NA   0  \n",
       "18 Y     22631467 G       0   0     NA   0  \n",
       "19 Y      8048835 C       0   0     NA   0  \n",
       "20 Y     17361834 C       0   0     NA   0  "
      ]
     },
     "metadata": {},
     "output_type": "display_data"
    }
   ],
   "source": [
    "filter(mez2, is.na(cons) & !(is.na(cons) & is.na(tol))) %>%\n",
    "    group_by(alts = ALT == \"\") %>% sample_n(10) %>% ungroup %>% select(-alts)"
   ]
  },
  {
   "cell_type": "markdown",
   "metadata": {},
   "source": [
    "# Denisova 8 (low coverage archaic, extreme case)\n",
    "\n",
    "At 90% consensus cutoff we expect the lower coverage genotypes to be the same as strict 100% consensus."
   ]
  },
  {
   "cell_type": "code",
   "execution_count": 51,
   "metadata": {},
   "outputs": [
    {
     "data": {
      "text/html": [
       "6261598"
      ],
      "text/latex": [
       "6261598"
      ],
      "text/markdown": [
       "6261598"
      ],
      "text/plain": [
       "[1] 6261598"
      ]
     },
     "metadata": {},
     "output_type": "display_data"
    }
   ],
   "source": [
    "read_vcf(here(\"test/den8_baq.vcf.gz\"), mindp = 3, maxdp = 0.98) %>% nrow"
   ]
  },
  {
   "cell_type": "code",
   "execution_count": 52,
   "metadata": {},
   "outputs": [
    {
     "data": {
      "text/html": [
       "6261598"
      ],
      "text/latex": [
       "6261598"
      ],
      "text/markdown": [
       "6261598"
      ],
      "text/plain": [
       "[1] 6261598"
      ]
     },
     "metadata": {},
     "output_type": "display_data"
    }
   ],
   "source": [
    "read_vcf(here(\"test/den8_nobaq.vcf.gz\"), mindp = 3, maxdp = 0.98) %>% nrow"
   ]
  },
  {
   "cell_type": "code",
   "execution_count": 53,
   "metadata": {},
   "outputs": [
    {
     "data": {
      "text/html": [
       "5832045"
      ],
      "text/latex": [
       "5832045"
      ],
      "text/markdown": [
       "5832045"
      ],
      "text/plain": [
       "[1] 5832045"
      ]
     },
     "metadata": {},
     "output_type": "display_data"
    }
   ],
   "source": [
    "read_vcf(here(\"test/den8_consensus.vcf.gz\"), mindp = 3, maxdp = 0.98) %>% nrow"
   ]
  },
  {
   "cell_type": "code",
   "execution_count": 54,
   "metadata": {},
   "outputs": [
    {
     "data": {
      "text/html": [
       "5851442"
      ],
      "text/latex": [
       "5851442"
      ],
      "text/markdown": [
       "5851442"
      ],
      "text/plain": [
       "[1] 5851442"
      ]
     },
     "metadata": {},
     "output_type": "display_data"
    }
   ],
   "source": [
    "read_vcf(here(\"test/den8_tolerance.vcf.gz\"), mindp = 3, maxdp = 0.98) %>% nrow"
   ]
  },
  {
   "cell_type": "code",
   "execution_count": 55,
   "metadata": {},
   "outputs": [],
   "source": [
    "den8 <- read_vcf(here(\"test/genotyping_den8.vcf.gz\"), mindp = 3, maxdp = 0.98) %>%\n",
    "    filter(!is.na(baq) | !is.na(nobaq) | !is.na(cons) | !is.na(tol))"
   ]
  },
  {
   "cell_type": "code",
   "execution_count": 56,
   "metadata": {},
   "outputs": [
    {
     "data": {
      "text/html": [
       "4185842"
      ],
      "text/latex": [
       "4185842"
      ],
      "text/markdown": [
       "4185842"
      ],
      "text/plain": [
       "[1] 4185842"
      ]
     },
     "metadata": {},
     "output_type": "display_data"
    }
   ],
   "source": [
    "nrow(den8)"
   ]
  },
  {
   "cell_type": "code",
   "execution_count": 57,
   "metadata": {},
   "outputs": [
    {
     "data": {
      "text/html": [
       "<table>\n",
       "<caption>A tibble: 20 × 8</caption>\n",
       "<thead>\n",
       "\t<tr><th scope=col>chrom</th><th scope=col>pos</th><th scope=col>REF</th><th scope=col>ALT</th><th scope=col>baq</th><th scope=col>nobaq</th><th scope=col>cons</th><th scope=col>tol</th></tr>\n",
       "\t<tr><th scope=col>&lt;chr&gt;</th><th scope=col>&lt;int&gt;</th><th scope=col>&lt;chr&gt;</th><th scope=col>&lt;chr&gt;</th><th scope=col>&lt;dbl&gt;</th><th scope=col>&lt;dbl&gt;</th><th scope=col>&lt;dbl&gt;</th><th scope=col>&lt;dbl&gt;</th></tr>\n",
       "</thead>\n",
       "<tbody>\n",
       "\t<tr><td>Y</td><td>18822816</td><td>C</td><td>T</td><td>0</td><td>1</td><td>NA</td><td>NA</td></tr>\n",
       "\t<tr><td>Y</td><td> 2664276</td><td>C</td><td>T</td><td>0</td><td>1</td><td>NA</td><td>NA</td></tr>\n",
       "\t<tr><td>Y</td><td> 8516147</td><td>G</td><td>A</td><td>0</td><td>1</td><td>NA</td><td>NA</td></tr>\n",
       "\t<tr><td>Y</td><td>18650271</td><td>C</td><td>T</td><td>0</td><td>1</td><td>NA</td><td>NA</td></tr>\n",
       "\t<tr><td>Y</td><td> 6426410</td><td>C</td><td>T</td><td>0</td><td>1</td><td>NA</td><td>NA</td></tr>\n",
       "\t<tr><td>Y</td><td>16462198</td><td>G</td><td>A</td><td>0</td><td>1</td><td>NA</td><td>NA</td></tr>\n",
       "\t<tr><td>Y</td><td>22786283</td><td>C</td><td>T</td><td>0</td><td>1</td><td>NA</td><td>NA</td></tr>\n",
       "\t<tr><td>Y</td><td>15524224</td><td>C</td><td>T</td><td>0</td><td>1</td><td>NA</td><td>NA</td></tr>\n",
       "\t<tr><td>Y</td><td>21373591</td><td>C</td><td>T</td><td>0</td><td>1</td><td>NA</td><td>NA</td></tr>\n",
       "\t<tr><td>Y</td><td>14997141</td><td>C</td><td>T</td><td>0</td><td>1</td><td>NA</td><td>NA</td></tr>\n",
       "\t<tr><td>Y</td><td>18240603</td><td>C</td><td>T</td><td>0</td><td>1</td><td>NA</td><td>NA</td></tr>\n",
       "\t<tr><td>Y</td><td> 6954338</td><td>G</td><td>A</td><td>0</td><td>1</td><td>NA</td><td>NA</td></tr>\n",
       "\t<tr><td>Y</td><td> 7412044</td><td>C</td><td>T</td><td>0</td><td>1</td><td>NA</td><td>NA</td></tr>\n",
       "\t<tr><td>Y</td><td>17082068</td><td>C</td><td>T</td><td>0</td><td>1</td><td>NA</td><td>NA</td></tr>\n",
       "\t<tr><td>Y</td><td>21239342</td><td>G</td><td>A</td><td>0</td><td>1</td><td>NA</td><td>NA</td></tr>\n",
       "\t<tr><td>Y</td><td>19321194</td><td>G</td><td>A</td><td>0</td><td>1</td><td>NA</td><td>NA</td></tr>\n",
       "\t<tr><td>Y</td><td>18929845</td><td>C</td><td>T</td><td>0</td><td>1</td><td>NA</td><td>NA</td></tr>\n",
       "\t<tr><td>Y</td><td>19096668</td><td>C</td><td>T</td><td>0</td><td>1</td><td>NA</td><td>NA</td></tr>\n",
       "\t<tr><td>Y</td><td> 2776075</td><td>G</td><td>A</td><td>0</td><td>1</td><td>NA</td><td>NA</td></tr>\n",
       "\t<tr><td>Y</td><td>15523573</td><td>G</td><td>A</td><td>0</td><td>1</td><td>NA</td><td>NA</td></tr>\n",
       "</tbody>\n",
       "</table>\n"
      ],
      "text/latex": [
       "A tibble: 20 × 8\n",
       "\\begin{tabular}{r|llllllll}\n",
       " chrom & pos & REF & ALT & baq & nobaq & cons & tol\\\\\n",
       " <chr> & <int> & <chr> & <chr> & <dbl> & <dbl> & <dbl> & <dbl>\\\\\n",
       "\\hline\n",
       "\t Y & 18822816 & C & T & 0 & 1 & NA & NA\\\\\n",
       "\t Y &  2664276 & C & T & 0 & 1 & NA & NA\\\\\n",
       "\t Y &  8516147 & G & A & 0 & 1 & NA & NA\\\\\n",
       "\t Y & 18650271 & C & T & 0 & 1 & NA & NA\\\\\n",
       "\t Y &  6426410 & C & T & 0 & 1 & NA & NA\\\\\n",
       "\t Y & 16462198 & G & A & 0 & 1 & NA & NA\\\\\n",
       "\t Y & 22786283 & C & T & 0 & 1 & NA & NA\\\\\n",
       "\t Y & 15524224 & C & T & 0 & 1 & NA & NA\\\\\n",
       "\t Y & 21373591 & C & T & 0 & 1 & NA & NA\\\\\n",
       "\t Y & 14997141 & C & T & 0 & 1 & NA & NA\\\\\n",
       "\t Y & 18240603 & C & T & 0 & 1 & NA & NA\\\\\n",
       "\t Y &  6954338 & G & A & 0 & 1 & NA & NA\\\\\n",
       "\t Y &  7412044 & C & T & 0 & 1 & NA & NA\\\\\n",
       "\t Y & 17082068 & C & T & 0 & 1 & NA & NA\\\\\n",
       "\t Y & 21239342 & G & A & 0 & 1 & NA & NA\\\\\n",
       "\t Y & 19321194 & G & A & 0 & 1 & NA & NA\\\\\n",
       "\t Y & 18929845 & C & T & 0 & 1 & NA & NA\\\\\n",
       "\t Y & 19096668 & C & T & 0 & 1 & NA & NA\\\\\n",
       "\t Y &  2776075 & G & A & 0 & 1 & NA & NA\\\\\n",
       "\t Y & 15523573 & G & A & 0 & 1 & NA & NA\\\\\n",
       "\\end{tabular}\n"
      ],
      "text/markdown": [
       "\n",
       "A tibble: 20 × 8\n",
       "\n",
       "| chrom &lt;chr&gt; | pos &lt;int&gt; | REF &lt;chr&gt; | ALT &lt;chr&gt; | baq &lt;dbl&gt; | nobaq &lt;dbl&gt; | cons &lt;dbl&gt; | tol &lt;dbl&gt; |\n",
       "|---|---|---|---|---|---|---|---|\n",
       "| Y | 18822816 | C | T | 0 | 1 | NA | NA |\n",
       "| Y |  2664276 | C | T | 0 | 1 | NA | NA |\n",
       "| Y |  8516147 | G | A | 0 | 1 | NA | NA |\n",
       "| Y | 18650271 | C | T | 0 | 1 | NA | NA |\n",
       "| Y |  6426410 | C | T | 0 | 1 | NA | NA |\n",
       "| Y | 16462198 | G | A | 0 | 1 | NA | NA |\n",
       "| Y | 22786283 | C | T | 0 | 1 | NA | NA |\n",
       "| Y | 15524224 | C | T | 0 | 1 | NA | NA |\n",
       "| Y | 21373591 | C | T | 0 | 1 | NA | NA |\n",
       "| Y | 14997141 | C | T | 0 | 1 | NA | NA |\n",
       "| Y | 18240603 | C | T | 0 | 1 | NA | NA |\n",
       "| Y |  6954338 | G | A | 0 | 1 | NA | NA |\n",
       "| Y |  7412044 | C | T | 0 | 1 | NA | NA |\n",
       "| Y | 17082068 | C | T | 0 | 1 | NA | NA |\n",
       "| Y | 21239342 | G | A | 0 | 1 | NA | NA |\n",
       "| Y | 19321194 | G | A | 0 | 1 | NA | NA |\n",
       "| Y | 18929845 | C | T | 0 | 1 | NA | NA |\n",
       "| Y | 19096668 | C | T | 0 | 1 | NA | NA |\n",
       "| Y |  2776075 | G | A | 0 | 1 | NA | NA |\n",
       "| Y | 15523573 | G | A | 0 | 1 | NA | NA |\n",
       "\n"
      ],
      "text/plain": [
       "   chrom pos      REF ALT baq nobaq cons tol\n",
       "1  Y     18822816 C   T   0   1     NA   NA \n",
       "2  Y      2664276 C   T   0   1     NA   NA \n",
       "3  Y      8516147 G   A   0   1     NA   NA \n",
       "4  Y     18650271 C   T   0   1     NA   NA \n",
       "5  Y      6426410 C   T   0   1     NA   NA \n",
       "6  Y     16462198 G   A   0   1     NA   NA \n",
       "7  Y     22786283 C   T   0   1     NA   NA \n",
       "8  Y     15524224 C   T   0   1     NA   NA \n",
       "9  Y     21373591 C   T   0   1     NA   NA \n",
       "10 Y     14997141 C   T   0   1     NA   NA \n",
       "11 Y     18240603 C   T   0   1     NA   NA \n",
       "12 Y      6954338 G   A   0   1     NA   NA \n",
       "13 Y      7412044 C   T   0   1     NA   NA \n",
       "14 Y     17082068 C   T   0   1     NA   NA \n",
       "15 Y     21239342 G   A   0   1     NA   NA \n",
       "16 Y     19321194 G   A   0   1     NA   NA \n",
       "17 Y     18929845 C   T   0   1     NA   NA \n",
       "18 Y     19096668 C   T   0   1     NA   NA \n",
       "19 Y      2776075 G   A   0   1     NA   NA \n",
       "20 Y     15523573 G   A   0   1     NA   NA "
      ]
     },
     "metadata": {},
     "output_type": "display_data"
    }
   ],
   "source": [
    "filter(den8, baq != nobaq) %>% sample_n(20)"
   ]
  },
  {
   "cell_type": "code",
   "execution_count": 58,
   "metadata": {},
   "outputs": [
    {
     "data": {
      "text/html": [
       "<table>\n",
       "<caption>A grouped_df: 2 × 3</caption>\n",
       "<thead>\n",
       "\t<tr><th scope=col>baq</th><th scope=col>nobaq</th><th scope=col>n</th></tr>\n",
       "\t<tr><th scope=col>&lt;dbl&gt;</th><th scope=col>&lt;dbl&gt;</th><th scope=col>&lt;int&gt;</th></tr>\n",
       "</thead>\n",
       "<tbody>\n",
       "\t<tr><td>0</td><td>1</td><td>224</td></tr>\n",
       "\t<tr><td>1</td><td>0</td><td> 11</td></tr>\n",
       "</tbody>\n",
       "</table>\n"
      ],
      "text/latex": [
       "A grouped_df: 2 × 3\n",
       "\\begin{tabular}{r|lll}\n",
       " baq & nobaq & n\\\\\n",
       " <dbl> & <dbl> & <int>\\\\\n",
       "\\hline\n",
       "\t 0 & 1 & 224\\\\\n",
       "\t 1 & 0 &  11\\\\\n",
       "\\end{tabular}\n"
      ],
      "text/markdown": [
       "\n",
       "A grouped_df: 2 × 3\n",
       "\n",
       "| baq &lt;dbl&gt; | nobaq &lt;dbl&gt; | n &lt;int&gt; |\n",
       "|---|---|---|\n",
       "| 0 | 1 | 224 |\n",
       "| 1 | 0 |  11 |\n",
       "\n"
      ],
      "text/plain": [
       "  baq nobaq n  \n",
       "1 0   1     224\n",
       "2 1   0      11"
      ]
     },
     "metadata": {},
     "output_type": "display_data"
    }
   ],
   "source": [
    "filter(den8, baq != nobaq) %>% group_by(baq, nobaq) %>% tally"
   ]
  },
  {
   "cell_type": "code",
   "execution_count": 59,
   "metadata": {},
   "outputs": [
    {
     "data": {
      "text/html": [
       "<table>\n",
       "<caption>A tibble: 0 × 8</caption>\n",
       "<thead>\n",
       "\t<tr><th scope=col>chrom</th><th scope=col>pos</th><th scope=col>REF</th><th scope=col>ALT</th><th scope=col>baq</th><th scope=col>nobaq</th><th scope=col>cons</th><th scope=col>tol</th></tr>\n",
       "\t<tr><th scope=col>&lt;chr&gt;</th><th scope=col>&lt;int&gt;</th><th scope=col>&lt;chr&gt;</th><th scope=col>&lt;chr&gt;</th><th scope=col>&lt;dbl&gt;</th><th scope=col>&lt;dbl&gt;</th><th scope=col>&lt;dbl&gt;</th><th scope=col>&lt;dbl&gt;</th></tr>\n",
       "</thead>\n",
       "<tbody>\n",
       "</tbody>\n",
       "</table>\n"
      ],
      "text/latex": [
       "A tibble: 0 × 8\n",
       "\\begin{tabular}{r|llllllll}\n",
       " chrom & pos & REF & ALT & baq & nobaq & cons & tol\\\\\n",
       " <chr> & <int> & <chr> & <chr> & <dbl> & <dbl> & <dbl> & <dbl>\\\\\n",
       "\\hline\n",
       "\\end{tabular}\n"
      ],
      "text/markdown": [
       "\n",
       "A tibble: 0 × 8\n",
       "\n",
       "| chrom &lt;chr&gt; | pos &lt;int&gt; | REF &lt;chr&gt; | ALT &lt;chr&gt; | baq &lt;dbl&gt; | nobaq &lt;dbl&gt; | cons &lt;dbl&gt; | tol &lt;dbl&gt; |\n",
       "|---|---|---|---|---|---|---|---|\n",
       "\n"
      ],
      "text/plain": [
       "     chrom pos REF ALT baq nobaq cons tol"
      ]
     },
     "metadata": {},
     "output_type": "display_data"
    }
   ],
   "source": [
    "filter(den8, cons != tol)"
   ]
  },
  {
   "cell_type": "code",
   "execution_count": 83,
   "metadata": {},
   "outputs": [
    {
     "data": {
      "text/html": [
       "<table>\n",
       "<caption>A tibble: 6 × 8</caption>\n",
       "<thead>\n",
       "\t<tr><th scope=col>chrom</th><th scope=col>pos</th><th scope=col>REF</th><th scope=col>ALT</th><th scope=col>baq</th><th scope=col>nobaq</th><th scope=col>cons</th><th scope=col>tol</th></tr>\n",
       "\t<tr><th scope=col>&lt;chr&gt;</th><th scope=col>&lt;int&gt;</th><th scope=col>&lt;chr&gt;</th><th scope=col>&lt;chr&gt;</th><th scope=col>&lt;dbl&gt;</th><th scope=col>&lt;dbl&gt;</th><th scope=col>&lt;dbl&gt;</th><th scope=col>&lt;dbl&gt;</th></tr>\n",
       "</thead>\n",
       "<tbody>\n",
       "\t<tr><td>Y</td><td>17517362</td><td>A</td><td>G</td><td>1</td><td>1</td><td>NA</td><td>1</td></tr>\n",
       "\t<tr><td>Y</td><td> 8396636</td><td>A</td><td>G</td><td>1</td><td>1</td><td>NA</td><td>1</td></tr>\n",
       "\t<tr><td>Y</td><td>18759298</td><td>A</td><td>G</td><td>1</td><td>1</td><td>NA</td><td>1</td></tr>\n",
       "\t<tr><td>Y</td><td>17243535</td><td>C</td><td> </td><td>0</td><td>0</td><td>NA</td><td>0</td></tr>\n",
       "\t<tr><td>Y</td><td>21489690</td><td>C</td><td> </td><td>0</td><td>0</td><td>NA</td><td>0</td></tr>\n",
       "\t<tr><td>Y</td><td> 9415633</td><td>C</td><td> </td><td>0</td><td>0</td><td>NA</td><td>0</td></tr>\n",
       "</tbody>\n",
       "</table>\n"
      ],
      "text/latex": [
       "A tibble: 6 × 8\n",
       "\\begin{tabular}{r|llllllll}\n",
       " chrom & pos & REF & ALT & baq & nobaq & cons & tol\\\\\n",
       " <chr> & <int> & <chr> & <chr> & <dbl> & <dbl> & <dbl> & <dbl>\\\\\n",
       "\\hline\n",
       "\t Y & 17517362 & A & G & 1 & 1 & NA & 1\\\\\n",
       "\t Y &  8396636 & A & G & 1 & 1 & NA & 1\\\\\n",
       "\t Y & 18759298 & A & G & 1 & 1 & NA & 1\\\\\n",
       "\t Y & 17243535 & C &   & 0 & 0 & NA & 0\\\\\n",
       "\t Y & 21489690 & C &   & 0 & 0 & NA & 0\\\\\n",
       "\t Y &  9415633 & C &   & 0 & 0 & NA & 0\\\\\n",
       "\\end{tabular}\n"
      ],
      "text/markdown": [
       "\n",
       "A tibble: 6 × 8\n",
       "\n",
       "| chrom &lt;chr&gt; | pos &lt;int&gt; | REF &lt;chr&gt; | ALT &lt;chr&gt; | baq &lt;dbl&gt; | nobaq &lt;dbl&gt; | cons &lt;dbl&gt; | tol &lt;dbl&gt; |\n",
       "|---|---|---|---|---|---|---|---|\n",
       "| Y | 17517362 | A | G | 1 | 1 | NA | 1 |\n",
       "| Y |  8396636 | A | G | 1 | 1 | NA | 1 |\n",
       "| Y | 18759298 | A | G | 1 | 1 | NA | 1 |\n",
       "| Y | 17243535 | C | <!----> | 0 | 0 | NA | 0 |\n",
       "| Y | 21489690 | C | <!----> | 0 | 0 | NA | 0 |\n",
       "| Y |  9415633 | C | <!----> | 0 | 0 | NA | 0 |\n",
       "\n"
      ],
      "text/plain": [
       "  chrom pos      REF ALT baq nobaq cons tol\n",
       "1 Y     17517362 A   G   1   1     NA   1  \n",
       "2 Y      8396636 A   G   1   1     NA   1  \n",
       "3 Y     18759298 A   G   1   1     NA   1  \n",
       "4 Y     17243535 C       0   0     NA   0  \n",
       "5 Y     21489690 C       0   0     NA   0  \n",
       "6 Y      9415633 C       0   0     NA   0  "
      ]
     },
     "metadata": {},
     "output_type": "display_data"
    }
   ],
   "source": [
    "filter(den8, is.na(cons) & !(is.na(cons) & is.na(tol))) %>%\n",
    "    group_by(alts = ALT == \"\") %>% sample_n(3) %>% ungroup %>% select(-alts)"
   ]
  },
  {
   "cell_type": "markdown",
   "metadata": {},
   "source": [
    "# Spy 1 (low coverage archaic, even more extreme case)\n",
    "\n",
    "At 90% consensus cutoff we expect the lower coverage genotypes to be the same as strict 100% consensus."
   ]
  },
  {
   "cell_type": "code",
   "execution_count": 84,
   "metadata": {},
   "outputs": [
    {
     "data": {
      "text/html": [
       "3559111"
      ],
      "text/latex": [
       "3559111"
      ],
      "text/markdown": [
       "3559111"
      ],
      "text/plain": [
       "[1] 3559111"
      ]
     },
     "metadata": {},
     "output_type": "display_data"
    }
   ],
   "source": [
    "read_vcf(here(\"test/spy1_baq.vcf.gz\"), mindp = 3, maxdp = 0.98) %>% nrow"
   ]
  },
  {
   "cell_type": "code",
   "execution_count": 85,
   "metadata": {},
   "outputs": [
    {
     "data": {
      "text/html": [
       "3559111"
      ],
      "text/latex": [
       "3559111"
      ],
      "text/markdown": [
       "3559111"
      ],
      "text/plain": [
       "[1] 3559111"
      ]
     },
     "metadata": {},
     "output_type": "display_data"
    }
   ],
   "source": [
    "read_vcf(here(\"test/spy1_nobaq.vcf.gz\"), mindp = 3, maxdp = 0.98) %>% nrow"
   ]
  },
  {
   "cell_type": "code",
   "execution_count": 86,
   "metadata": {},
   "outputs": [
    {
     "data": {
      "text/html": [
       "3502296"
      ],
      "text/latex": [
       "3502296"
      ],
      "text/markdown": [
       "3502296"
      ],
      "text/plain": [
       "[1] 3502296"
      ]
     },
     "metadata": {},
     "output_type": "display_data"
    }
   ],
   "source": [
    "read_vcf(here(\"test/spy1_consensus.vcf.gz\"), mindp = 3, maxdp = 0.98) %>% nrow"
   ]
  },
  {
   "cell_type": "code",
   "execution_count": 87,
   "metadata": {},
   "outputs": [
    {
     "data": {
      "text/html": [
       "3502527"
      ],
      "text/latex": [
       "3502527"
      ],
      "text/markdown": [
       "3502527"
      ],
      "text/plain": [
       "[1] 3502527"
      ]
     },
     "metadata": {},
     "output_type": "display_data"
    }
   ],
   "source": [
    "read_vcf(here(\"test/spy1_tolerance.vcf.gz\"), mindp = 3, maxdp = 0.98) %>% nrow"
   ]
  },
  {
   "cell_type": "code",
   "execution_count": 88,
   "metadata": {},
   "outputs": [],
   "source": [
    "spy1 <- read_vcf(here(\"test/genotyping_spy1.vcf.gz\"), mindp = 3, maxdp = 0.98) %>%\n",
    "    filter(!is.na(baq) | !is.na(nobaq) | !is.na(cons) | !is.na(tol))"
   ]
  },
  {
   "cell_type": "code",
   "execution_count": 90,
   "metadata": {},
   "outputs": [
    {
     "data": {
      "text/html": [
       "611901"
      ],
      "text/latex": [
       "611901"
      ],
      "text/markdown": [
       "611901"
      ],
      "text/plain": [
       "[1] 611901"
      ]
     },
     "metadata": {},
     "output_type": "display_data"
    }
   ],
   "source": [
    "nrow(spy1)"
   ]
  },
  {
   "cell_type": "code",
   "execution_count": 91,
   "metadata": {},
   "outputs": [
    {
     "data": {
      "text/html": [
       "<table>\n",
       "<caption>A tibble: 20 × 8</caption>\n",
       "<thead>\n",
       "\t<tr><th scope=col>chrom</th><th scope=col>pos</th><th scope=col>REF</th><th scope=col>ALT</th><th scope=col>baq</th><th scope=col>nobaq</th><th scope=col>cons</th><th scope=col>tol</th></tr>\n",
       "\t<tr><th scope=col>&lt;chr&gt;</th><th scope=col>&lt;int&gt;</th><th scope=col>&lt;chr&gt;</th><th scope=col>&lt;chr&gt;</th><th scope=col>&lt;dbl&gt;</th><th scope=col>&lt;dbl&gt;</th><th scope=col>&lt;dbl&gt;</th><th scope=col>&lt;dbl&gt;</th></tr>\n",
       "</thead>\n",
       "<tbody>\n",
       "\t<tr><td>Y</td><td>21242313</td><td>C</td><td>T</td><td>0</td><td>1</td><td>NA</td><td>NA</td></tr>\n",
       "\t<tr><td>Y</td><td> 8458374</td><td>C</td><td>T</td><td>0</td><td>1</td><td>NA</td><td>NA</td></tr>\n",
       "\t<tr><td>Y</td><td>14621853</td><td>G</td><td>A</td><td>0</td><td>1</td><td>NA</td><td>NA</td></tr>\n",
       "\t<tr><td>Y</td><td> 8586539</td><td>C</td><td>T</td><td>1</td><td>0</td><td>NA</td><td>NA</td></tr>\n",
       "\t<tr><td>Y</td><td>21398150</td><td>C</td><td>G</td><td>1</td><td>0</td><td>NA</td><td>NA</td></tr>\n",
       "\t<tr><td>Y</td><td>15551255</td><td>G</td><td>A</td><td>0</td><td>1</td><td>NA</td><td>NA</td></tr>\n",
       "\t<tr><td>Y</td><td> 8566258</td><td>C</td><td>T</td><td>0</td><td>1</td><td>NA</td><td>NA</td></tr>\n",
       "\t<tr><td>Y</td><td>18126700</td><td>G</td><td>A</td><td>0</td><td>1</td><td>NA</td><td>NA</td></tr>\n",
       "\t<tr><td>Y</td><td>19519649</td><td>C</td><td>T</td><td>0</td><td>1</td><td>NA</td><td>NA</td></tr>\n",
       "\t<tr><td>Y</td><td>23509937</td><td>C</td><td>T</td><td>0</td><td>1</td><td>NA</td><td>NA</td></tr>\n",
       "\t<tr><td>Y</td><td> 2845526</td><td>G</td><td>A</td><td>1</td><td>0</td><td>NA</td><td>NA</td></tr>\n",
       "\t<tr><td>Y</td><td>18691390</td><td>G</td><td>A</td><td>0</td><td>1</td><td>NA</td><td>NA</td></tr>\n",
       "\t<tr><td>Y</td><td> 3713918</td><td>G</td><td>C</td><td>0</td><td>1</td><td>NA</td><td>NA</td></tr>\n",
       "\t<tr><td>Y</td><td>21211656</td><td>C</td><td>T</td><td>0</td><td>1</td><td>NA</td><td>NA</td></tr>\n",
       "\t<tr><td>Y</td><td> 7198293</td><td>C</td><td>A</td><td>0</td><td>1</td><td>NA</td><td>NA</td></tr>\n",
       "\t<tr><td>Y</td><td>21195481</td><td>G</td><td>A</td><td>0</td><td>1</td><td>NA</td><td>NA</td></tr>\n",
       "\t<tr><td>Y</td><td>15331139</td><td>G</td><td>A</td><td>0</td><td>1</td><td>NA</td><td>NA</td></tr>\n",
       "\t<tr><td>Y</td><td> 2740233</td><td>C</td><td>T</td><td>0</td><td>1</td><td>NA</td><td>NA</td></tr>\n",
       "\t<tr><td>Y</td><td>15241736</td><td>G</td><td>A</td><td>0</td><td>1</td><td>NA</td><td>NA</td></tr>\n",
       "\t<tr><td>Y</td><td>15551254</td><td>G</td><td>A</td><td>0</td><td>1</td><td>NA</td><td>NA</td></tr>\n",
       "</tbody>\n",
       "</table>\n"
      ],
      "text/latex": [
       "A tibble: 20 × 8\n",
       "\\begin{tabular}{r|llllllll}\n",
       " chrom & pos & REF & ALT & baq & nobaq & cons & tol\\\\\n",
       " <chr> & <int> & <chr> & <chr> & <dbl> & <dbl> & <dbl> & <dbl>\\\\\n",
       "\\hline\n",
       "\t Y & 21242313 & C & T & 0 & 1 & NA & NA\\\\\n",
       "\t Y &  8458374 & C & T & 0 & 1 & NA & NA\\\\\n",
       "\t Y & 14621853 & G & A & 0 & 1 & NA & NA\\\\\n",
       "\t Y &  8586539 & C & T & 1 & 0 & NA & NA\\\\\n",
       "\t Y & 21398150 & C & G & 1 & 0 & NA & NA\\\\\n",
       "\t Y & 15551255 & G & A & 0 & 1 & NA & NA\\\\\n",
       "\t Y &  8566258 & C & T & 0 & 1 & NA & NA\\\\\n",
       "\t Y & 18126700 & G & A & 0 & 1 & NA & NA\\\\\n",
       "\t Y & 19519649 & C & T & 0 & 1 & NA & NA\\\\\n",
       "\t Y & 23509937 & C & T & 0 & 1 & NA & NA\\\\\n",
       "\t Y &  2845526 & G & A & 1 & 0 & NA & NA\\\\\n",
       "\t Y & 18691390 & G & A & 0 & 1 & NA & NA\\\\\n",
       "\t Y &  3713918 & G & C & 0 & 1 & NA & NA\\\\\n",
       "\t Y & 21211656 & C & T & 0 & 1 & NA & NA\\\\\n",
       "\t Y &  7198293 & C & A & 0 & 1 & NA & NA\\\\\n",
       "\t Y & 21195481 & G & A & 0 & 1 & NA & NA\\\\\n",
       "\t Y & 15331139 & G & A & 0 & 1 & NA & NA\\\\\n",
       "\t Y &  2740233 & C & T & 0 & 1 & NA & NA\\\\\n",
       "\t Y & 15241736 & G & A & 0 & 1 & NA & NA\\\\\n",
       "\t Y & 15551254 & G & A & 0 & 1 & NA & NA\\\\\n",
       "\\end{tabular}\n"
      ],
      "text/markdown": [
       "\n",
       "A tibble: 20 × 8\n",
       "\n",
       "| chrom &lt;chr&gt; | pos &lt;int&gt; | REF &lt;chr&gt; | ALT &lt;chr&gt; | baq &lt;dbl&gt; | nobaq &lt;dbl&gt; | cons &lt;dbl&gt; | tol &lt;dbl&gt; |\n",
       "|---|---|---|---|---|---|---|---|\n",
       "| Y | 21242313 | C | T | 0 | 1 | NA | NA |\n",
       "| Y |  8458374 | C | T | 0 | 1 | NA | NA |\n",
       "| Y | 14621853 | G | A | 0 | 1 | NA | NA |\n",
       "| Y |  8586539 | C | T | 1 | 0 | NA | NA |\n",
       "| Y | 21398150 | C | G | 1 | 0 | NA | NA |\n",
       "| Y | 15551255 | G | A | 0 | 1 | NA | NA |\n",
       "| Y |  8566258 | C | T | 0 | 1 | NA | NA |\n",
       "| Y | 18126700 | G | A | 0 | 1 | NA | NA |\n",
       "| Y | 19519649 | C | T | 0 | 1 | NA | NA |\n",
       "| Y | 23509937 | C | T | 0 | 1 | NA | NA |\n",
       "| Y |  2845526 | G | A | 1 | 0 | NA | NA |\n",
       "| Y | 18691390 | G | A | 0 | 1 | NA | NA |\n",
       "| Y |  3713918 | G | C | 0 | 1 | NA | NA |\n",
       "| Y | 21211656 | C | T | 0 | 1 | NA | NA |\n",
       "| Y |  7198293 | C | A | 0 | 1 | NA | NA |\n",
       "| Y | 21195481 | G | A | 0 | 1 | NA | NA |\n",
       "| Y | 15331139 | G | A | 0 | 1 | NA | NA |\n",
       "| Y |  2740233 | C | T | 0 | 1 | NA | NA |\n",
       "| Y | 15241736 | G | A | 0 | 1 | NA | NA |\n",
       "| Y | 15551254 | G | A | 0 | 1 | NA | NA |\n",
       "\n"
      ],
      "text/plain": [
       "   chrom pos      REF ALT baq nobaq cons tol\n",
       "1  Y     21242313 C   T   0   1     NA   NA \n",
       "2  Y      8458374 C   T   0   1     NA   NA \n",
       "3  Y     14621853 G   A   0   1     NA   NA \n",
       "4  Y      8586539 C   T   1   0     NA   NA \n",
       "5  Y     21398150 C   G   1   0     NA   NA \n",
       "6  Y     15551255 G   A   0   1     NA   NA \n",
       "7  Y      8566258 C   T   0   1     NA   NA \n",
       "8  Y     18126700 G   A   0   1     NA   NA \n",
       "9  Y     19519649 C   T   0   1     NA   NA \n",
       "10 Y     23509937 C   T   0   1     NA   NA \n",
       "11 Y      2845526 G   A   1   0     NA   NA \n",
       "12 Y     18691390 G   A   0   1     NA   NA \n",
       "13 Y      3713918 G   C   0   1     NA   NA \n",
       "14 Y     21211656 C   T   0   1     NA   NA \n",
       "15 Y      7198293 C   A   0   1     NA   NA \n",
       "16 Y     21195481 G   A   0   1     NA   NA \n",
       "17 Y     15331139 G   A   0   1     NA   NA \n",
       "18 Y      2740233 C   T   0   1     NA   NA \n",
       "19 Y     15241736 G   A   0   1     NA   NA \n",
       "20 Y     15551254 G   A   0   1     NA   NA "
      ]
     },
     "metadata": {},
     "output_type": "display_data"
    }
   ],
   "source": [
    "filter(spy1, baq != nobaq) %>% sample_n(20)"
   ]
  },
  {
   "cell_type": "code",
   "execution_count": 92,
   "metadata": {},
   "outputs": [
    {
     "data": {
      "text/html": [
       "<table>\n",
       "<caption>A grouped_df: 2 × 3</caption>\n",
       "<thead>\n",
       "\t<tr><th scope=col>baq</th><th scope=col>nobaq</th><th scope=col>n</th></tr>\n",
       "\t<tr><th scope=col>&lt;dbl&gt;</th><th scope=col>&lt;dbl&gt;</th><th scope=col>&lt;int&gt;</th></tr>\n",
       "</thead>\n",
       "<tbody>\n",
       "\t<tr><td>0</td><td>1</td><td>61</td></tr>\n",
       "\t<tr><td>1</td><td>0</td><td>14</td></tr>\n",
       "</tbody>\n",
       "</table>\n"
      ],
      "text/latex": [
       "A grouped_df: 2 × 3\n",
       "\\begin{tabular}{r|lll}\n",
       " baq & nobaq & n\\\\\n",
       " <dbl> & <dbl> & <int>\\\\\n",
       "\\hline\n",
       "\t 0 & 1 & 61\\\\\n",
       "\t 1 & 0 & 14\\\\\n",
       "\\end{tabular}\n"
      ],
      "text/markdown": [
       "\n",
       "A grouped_df: 2 × 3\n",
       "\n",
       "| baq &lt;dbl&gt; | nobaq &lt;dbl&gt; | n &lt;int&gt; |\n",
       "|---|---|---|\n",
       "| 0 | 1 | 61 |\n",
       "| 1 | 0 | 14 |\n",
       "\n"
      ],
      "text/plain": [
       "  baq nobaq n \n",
       "1 0   1     61\n",
       "2 1   0     14"
      ]
     },
     "metadata": {},
     "output_type": "display_data"
    }
   ],
   "source": [
    "filter(spy1, baq != nobaq) %>% group_by(baq, nobaq) %>% tally"
   ]
  },
  {
   "cell_type": "code",
   "execution_count": 93,
   "metadata": {},
   "outputs": [
    {
     "data": {
      "text/html": [
       "<table>\n",
       "<caption>A tibble: 0 × 8</caption>\n",
       "<thead>\n",
       "\t<tr><th scope=col>chrom</th><th scope=col>pos</th><th scope=col>REF</th><th scope=col>ALT</th><th scope=col>baq</th><th scope=col>nobaq</th><th scope=col>cons</th><th scope=col>tol</th></tr>\n",
       "\t<tr><th scope=col>&lt;chr&gt;</th><th scope=col>&lt;int&gt;</th><th scope=col>&lt;chr&gt;</th><th scope=col>&lt;chr&gt;</th><th scope=col>&lt;dbl&gt;</th><th scope=col>&lt;dbl&gt;</th><th scope=col>&lt;dbl&gt;</th><th scope=col>&lt;dbl&gt;</th></tr>\n",
       "</thead>\n",
       "<tbody>\n",
       "</tbody>\n",
       "</table>\n"
      ],
      "text/latex": [
       "A tibble: 0 × 8\n",
       "\\begin{tabular}{r|llllllll}\n",
       " chrom & pos & REF & ALT & baq & nobaq & cons & tol\\\\\n",
       " <chr> & <int> & <chr> & <chr> & <dbl> & <dbl> & <dbl> & <dbl>\\\\\n",
       "\\hline\n",
       "\\end{tabular}\n"
      ],
      "text/markdown": [
       "\n",
       "A tibble: 0 × 8\n",
       "\n",
       "| chrom &lt;chr&gt; | pos &lt;int&gt; | REF &lt;chr&gt; | ALT &lt;chr&gt; | baq &lt;dbl&gt; | nobaq &lt;dbl&gt; | cons &lt;dbl&gt; | tol &lt;dbl&gt; |\n",
       "|---|---|---|---|---|---|---|---|\n",
       "\n"
      ],
      "text/plain": [
       "     chrom pos REF ALT baq nobaq cons tol"
      ]
     },
     "metadata": {},
     "output_type": "display_data"
    }
   ],
   "source": [
    "filter(spy1, cons != tol)"
   ]
  },
  {
   "cell_type": "code",
   "execution_count": 100,
   "metadata": {},
   "outputs": [
    {
     "data": {
      "text/html": [
       "<table>\n",
       "<caption>A tibble: 0 × 8</caption>\n",
       "<thead>\n",
       "\t<tr><th scope=col>chrom</th><th scope=col>pos</th><th scope=col>REF</th><th scope=col>ALT</th><th scope=col>baq</th><th scope=col>nobaq</th><th scope=col>cons</th><th scope=col>tol</th></tr>\n",
       "\t<tr><th scope=col>&lt;chr&gt;</th><th scope=col>&lt;int&gt;</th><th scope=col>&lt;chr&gt;</th><th scope=col>&lt;chr&gt;</th><th scope=col>&lt;dbl&gt;</th><th scope=col>&lt;dbl&gt;</th><th scope=col>&lt;dbl&gt;</th><th scope=col>&lt;dbl&gt;</th></tr>\n",
       "</thead>\n",
       "<tbody>\n",
       "</tbody>\n",
       "</table>\n"
      ],
      "text/latex": [
       "A tibble: 0 × 8\n",
       "\\begin{tabular}{r|llllllll}\n",
       " chrom & pos & REF & ALT & baq & nobaq & cons & tol\\\\\n",
       " <chr> & <int> & <chr> & <chr> & <dbl> & <dbl> & <dbl> & <dbl>\\\\\n",
       "\\hline\n",
       "\\end{tabular}\n"
      ],
      "text/markdown": [
       "\n",
       "A tibble: 0 × 8\n",
       "\n",
       "| chrom &lt;chr&gt; | pos &lt;int&gt; | REF &lt;chr&gt; | ALT &lt;chr&gt; | baq &lt;dbl&gt; | nobaq &lt;dbl&gt; | cons &lt;dbl&gt; | tol &lt;dbl&gt; |\n",
       "|---|---|---|---|---|---|---|---|\n",
       "\n"
      ],
      "text/plain": [
       "     chrom pos REF ALT baq nobaq cons tol"
      ]
     },
     "metadata": {},
     "output_type": "display_data"
    }
   ],
   "source": [
    "filter(spy1, is.na(cons) & !(is.na(cons) & is.na(tol))) %>%\n",
    "    group_by(alts = ALT == \"\") %>% sample_n(10) %>% ungroup %>% select(-alts)"
   ]
  }
 ],
 "metadata": {
  "kernelspec": {
   "display_name": "R",
   "language": "R",
   "name": "ir"
  },
  "language_info": {
   "codemirror_mode": "r",
   "file_extension": ".r",
   "mimetype": "text/x-r-source",
   "name": "R",
   "pygments_lexer": "r",
   "version": "3.6.0"
  }
 },
 "nbformat": 4,
 "nbformat_minor": 2
}
