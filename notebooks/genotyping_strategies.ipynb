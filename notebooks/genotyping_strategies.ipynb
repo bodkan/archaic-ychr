{
 "cells": [
  {
   "cell_type": "markdown",
   "metadata": {},
   "source": [
    "# Comparing various genotyping strategies"
   ]
  },
  {
   "cell_type": "code",
   "execution_count": 1,
   "metadata": {},
   "outputs": [
    {
     "name": "stderr",
     "output_type": "stream",
     "text": [
      "── \u001b[1mAttaching packages\u001b[22m ─────────────────────────────────────── tidyverse 1.2.1 ──\n",
      "\u001b[32m✔\u001b[39m \u001b[34mggplot2\u001b[39m 3.2.1     \u001b[32m✔\u001b[39m \u001b[34mpurrr  \u001b[39m 0.3.2\n",
      "\u001b[32m✔\u001b[39m \u001b[34mtibble \u001b[39m 2.1.3     \u001b[32m✔\u001b[39m \u001b[34mdplyr  \u001b[39m 0.8.3\n",
      "\u001b[32m✔\u001b[39m \u001b[34mtidyr  \u001b[39m 1.0.0     \u001b[32m✔\u001b[39m \u001b[34mstringr\u001b[39m 1.4.0\n",
      "\u001b[32m✔\u001b[39m \u001b[34mreadr  \u001b[39m 1.3.1     \u001b[32m✔\u001b[39m \u001b[34mforcats\u001b[39m 0.4.0\n",
      "── \u001b[1mConflicts\u001b[22m ────────────────────────────────────────── tidyverse_conflicts() ──\n",
      "\u001b[31m✖\u001b[39m \u001b[34mdplyr\u001b[39m::\u001b[32mfilter()\u001b[39m masks \u001b[34mstats\u001b[39m::filter()\n",
      "\u001b[31m✖\u001b[39m \u001b[34mdplyr\u001b[39m::\u001b[32mlag()\u001b[39m    masks \u001b[34mstats\u001b[39m::lag()\n",
      "here() starts at /mnt/expressions/mp/ychr\n",
      "Loading ychr\n"
     ]
    }
   ],
   "source": [
    "library(tidyverse)\n",
    "library(here)\n",
    "\n",
    "devtools::load_all(\".\")"
   ]
  },
  {
   "cell_type": "markdown",
   "metadata": {},
   "source": [
    "# A00"
   ]
  },
  {
   "cell_type": "markdown",
   "metadata": {},
   "source": [
    "We can clearly see that the strict consensus produces the smalles number of genotypes. This is even more extreme for the ancient Y chromosomes below due to significant proportion of false aDNA damage alleles."
   ]
  },
  {
   "cell_type": "code",
   "execution_count": 2,
   "metadata": {},
   "outputs": [
    {
     "data": {
      "text/html": [
       "6909567"
      ],
      "text/latex": [
       "6909567"
      ],
      "text/markdown": [
       "6909567"
      ],
      "text/plain": [
       "[1] 6909567"
      ]
     },
     "metadata": {},
     "output_type": "display_data"
    }
   ],
   "source": [
    "read_vcf(here(\"test/a00_baq.vcf.gz\"), mindp = 3, maxdp = 0.98) %>% nrow"
   ]
  },
  {
   "cell_type": "code",
   "execution_count": 3,
   "metadata": {},
   "outputs": [
    {
     "data": {
      "text/html": [
       "6909567"
      ],
      "text/latex": [
       "6909567"
      ],
      "text/markdown": [
       "6909567"
      ],
      "text/plain": [
       "[1] 6909567"
      ]
     },
     "metadata": {},
     "output_type": "display_data"
    }
   ],
   "source": [
    "read_vcf(here(\"test/a00_nobaq.vcf.gz\"), mindp = 3, maxdp = 0.98) %>% nrow"
   ]
  },
  {
   "cell_type": "code",
   "execution_count": 4,
   "metadata": {},
   "outputs": [
    {
     "data": {
      "text/html": [
       "6789999"
      ],
      "text/latex": [
       "6789999"
      ],
      "text/markdown": [
       "6789999"
      ],
      "text/plain": [
       "[1] 6789999"
      ]
     },
     "metadata": {},
     "output_type": "display_data"
    }
   ],
   "source": [
    "read_vcf(here(\"test/a00_consensus.vcf.gz\"), mindp = 3, maxdp = 0.98) %>% nrow"
   ]
  },
  {
   "cell_type": "code",
   "execution_count": 5,
   "metadata": {},
   "outputs": [
    {
     "data": {
      "text/html": [
       "6873362"
      ],
      "text/latex": [
       "6873362"
      ],
      "text/markdown": [
       "6873362"
      ],
      "text/plain": [
       "[1] 6873362"
      ]
     },
     "metadata": {},
     "output_type": "display_data"
    }
   ],
   "source": [
    "read_vcf(here(\"test/a00_tolerance.vcf.gz\"), mindp = 3, maxdp = 0.98) %>% nrow"
   ]
  },
  {
   "cell_type": "code",
   "execution_count": 6,
   "metadata": {},
   "outputs": [],
   "source": [
    "a00 <- read_vcf(here(\"test/genotyping_a00.vcf.gz\"), mindp = 3, maxdp = 0.98) %>%\n",
    "    filter(!is.na(baq) | !is.na(nobaq) | !is.na(cons) | !is.na(tol))"
   ]
  },
  {
   "cell_type": "code",
   "execution_count": 7,
   "metadata": {},
   "outputs": [
    {
     "data": {
      "text/html": [
       "6777850"
      ],
      "text/latex": [
       "6777850"
      ],
      "text/markdown": [
       "6777850"
      ],
      "text/plain": [
       "[1] 6777850"
      ]
     },
     "metadata": {},
     "output_type": "display_data"
    }
   ],
   "source": [
    "nrow(a00)"
   ]
  },
  {
   "cell_type": "markdown",
   "metadata": {},
   "source": [
    "Sites which are differently called under bcftools with or without BAQ option are very weird and manual inspection of the alignments shows that it's pretty much impossible to tell which are the true variants sites and which are errors. Many look like strange alignment errors. I'd say being conservative in these particular cases is a good thing. The situation is even worse for the archaic samples below, where we often have a 50:50 mixture of two alleles and bcftools calls pretty much randomly one or another."
   ]
  },
  {
   "cell_type": "code",
   "execution_count": 8,
   "metadata": {},
   "outputs": [
    {
     "data": {
      "text/html": [
       "<table>\n",
       "<caption>A tibble: 6 × 8</caption>\n",
       "<thead>\n",
       "\t<tr><th scope=col>chrom</th><th scope=col>pos</th><th scope=col>REF</th><th scope=col>ALT</th><th scope=col>baq</th><th scope=col>nobaq</th><th scope=col>cons</th><th scope=col>tol</th></tr>\n",
       "\t<tr><th scope=col>&lt;chr&gt;</th><th scope=col>&lt;int&gt;</th><th scope=col>&lt;chr&gt;</th><th scope=col>&lt;chr&gt;</th><th scope=col>&lt;dbl&gt;</th><th scope=col>&lt;dbl&gt;</th><th scope=col>&lt;dbl&gt;</th><th scope=col>&lt;dbl&gt;</th></tr>\n",
       "</thead>\n",
       "<tbody>\n",
       "\t<tr><td>Y</td><td> 2805552</td><td>G</td><td>A</td><td>0</td><td>1</td><td>NA</td><td>NA</td></tr>\n",
       "\t<tr><td>Y</td><td> 3715248</td><td>A</td><td>G</td><td>0</td><td>1</td><td>NA</td><td>NA</td></tr>\n",
       "\t<tr><td>Y</td><td> 8561368</td><td>C</td><td>T</td><td>0</td><td>1</td><td>NA</td><td>NA</td></tr>\n",
       "\t<tr><td>Y</td><td> 8561376</td><td>C</td><td>T</td><td>0</td><td>1</td><td>NA</td><td>NA</td></tr>\n",
       "\t<tr><td>Y</td><td>17029481</td><td>G</td><td>A</td><td>0</td><td>1</td><td>NA</td><td>NA</td></tr>\n",
       "\t<tr><td>Y</td><td>17029484</td><td>T</td><td>A</td><td>0</td><td>1</td><td>NA</td><td>NA</td></tr>\n",
       "</tbody>\n",
       "</table>\n"
      ],
      "text/latex": [
       "A tibble: 6 × 8\n",
       "\\begin{tabular}{r|llllllll}\n",
       " chrom & pos & REF & ALT & baq & nobaq & cons & tol\\\\\n",
       " <chr> & <int> & <chr> & <chr> & <dbl> & <dbl> & <dbl> & <dbl>\\\\\n",
       "\\hline\n",
       "\t Y &  2805552 & G & A & 0 & 1 & NA & NA\\\\\n",
       "\t Y &  3715248 & A & G & 0 & 1 & NA & NA\\\\\n",
       "\t Y &  8561368 & C & T & 0 & 1 & NA & NA\\\\\n",
       "\t Y &  8561376 & C & T & 0 & 1 & NA & NA\\\\\n",
       "\t Y & 17029481 & G & A & 0 & 1 & NA & NA\\\\\n",
       "\t Y & 17029484 & T & A & 0 & 1 & NA & NA\\\\\n",
       "\\end{tabular}\n"
      ],
      "text/markdown": [
       "\n",
       "A tibble: 6 × 8\n",
       "\n",
       "| chrom &lt;chr&gt; | pos &lt;int&gt; | REF &lt;chr&gt; | ALT &lt;chr&gt; | baq &lt;dbl&gt; | nobaq &lt;dbl&gt; | cons &lt;dbl&gt; | tol &lt;dbl&gt; |\n",
       "|---|---|---|---|---|---|---|---|\n",
       "| Y |  2805552 | G | A | 0 | 1 | NA | NA |\n",
       "| Y |  3715248 | A | G | 0 | 1 | NA | NA |\n",
       "| Y |  8561368 | C | T | 0 | 1 | NA | NA |\n",
       "| Y |  8561376 | C | T | 0 | 1 | NA | NA |\n",
       "| Y | 17029481 | G | A | 0 | 1 | NA | NA |\n",
       "| Y | 17029484 | T | A | 0 | 1 | NA | NA |\n",
       "\n"
      ],
      "text/plain": [
       "  chrom pos      REF ALT baq nobaq cons tol\n",
       "1 Y      2805552 G   A   0   1     NA   NA \n",
       "2 Y      3715248 A   G   0   1     NA   NA \n",
       "3 Y      8561368 C   T   0   1     NA   NA \n",
       "4 Y      8561376 C   T   0   1     NA   NA \n",
       "5 Y     17029481 G   A   0   1     NA   NA \n",
       "6 Y     17029484 T   A   0   1     NA   NA "
      ]
     },
     "metadata": {},
     "output_type": "display_data"
    }
   ],
   "source": [
    "filter(a00, baq != nobaq)"
   ]
  },
  {
   "cell_type": "code",
   "execution_count": 9,
   "metadata": {},
   "outputs": [
    {
     "data": {
      "text/html": [
       "<table>\n",
       "<caption>A grouped_df: 1 × 3</caption>\n",
       "<thead>\n",
       "\t<tr><th scope=col>baq</th><th scope=col>nobaq</th><th scope=col>n</th></tr>\n",
       "\t<tr><th scope=col>&lt;dbl&gt;</th><th scope=col>&lt;dbl&gt;</th><th scope=col>&lt;int&gt;</th></tr>\n",
       "</thead>\n",
       "<tbody>\n",
       "\t<tr><td>0</td><td>1</td><td>6</td></tr>\n",
       "</tbody>\n",
       "</table>\n"
      ],
      "text/latex": [
       "A grouped_df: 1 × 3\n",
       "\\begin{tabular}{r|lll}\n",
       " baq & nobaq & n\\\\\n",
       " <dbl> & <dbl> & <int>\\\\\n",
       "\\hline\n",
       "\t 0 & 1 & 6\\\\\n",
       "\\end{tabular}\n"
      ],
      "text/markdown": [
       "\n",
       "A grouped_df: 1 × 3\n",
       "\n",
       "| baq &lt;dbl&gt; | nobaq &lt;dbl&gt; | n &lt;int&gt; |\n",
       "|---|---|---|\n",
       "| 0 | 1 | 6 |\n",
       "\n"
      ],
      "text/plain": [
       "  baq nobaq n\n",
       "1 0   1     6"
      ]
     },
     "metadata": {},
     "output_type": "display_data"
    }
   ],
   "source": [
    "filter(a00, baq != nobaq) %>% group_by(baq, nobaq) %>% tally"
   ]
  },
  {
   "cell_type": "code",
   "execution_count": 10,
   "metadata": {},
   "outputs": [
    {
     "data": {
      "text/html": [
       "<table>\n",
       "<caption>A tibble: 20 × 8</caption>\n",
       "<thead>\n",
       "\t<tr><th scope=col>chrom</th><th scope=col>pos</th><th scope=col>REF</th><th scope=col>ALT</th><th scope=col>baq</th><th scope=col>nobaq</th><th scope=col>cons</th><th scope=col>tol</th></tr>\n",
       "\t<tr><th scope=col>&lt;chr&gt;</th><th scope=col>&lt;int&gt;</th><th scope=col>&lt;chr&gt;</th><th scope=col>&lt;chr&gt;</th><th scope=col>&lt;dbl&gt;</th><th scope=col>&lt;dbl&gt;</th><th scope=col>&lt;dbl&gt;</th><th scope=col>&lt;dbl&gt;</th></tr>\n",
       "</thead>\n",
       "<tbody>\n",
       "\t<tr><td>Y</td><td>19119198</td><td>A</td><td>G</td><td> 1</td><td>1</td><td>NA</td><td>1</td></tr>\n",
       "\t<tr><td>Y</td><td>10035969</td><td>C</td><td>T</td><td> 1</td><td>1</td><td>NA</td><td>1</td></tr>\n",
       "\t<tr><td>Y</td><td> 8388616</td><td>A</td><td>C</td><td>NA</td><td>1</td><td>NA</td><td>1</td></tr>\n",
       "\t<tr><td>Y</td><td>23466468</td><td>T</td><td>C</td><td> 1</td><td>1</td><td>NA</td><td>1</td></tr>\n",
       "\t<tr><td>Y</td><td> 3720176</td><td>C</td><td>T</td><td> 1</td><td>1</td><td>NA</td><td>1</td></tr>\n",
       "\t<tr><td>Y</td><td>19504659</td><td>A</td><td>T</td><td> 1</td><td>1</td><td>NA</td><td>1</td></tr>\n",
       "\t<tr><td>Y</td><td> 6868118</td><td>A</td><td>G</td><td> 1</td><td>1</td><td>NA</td><td>1</td></tr>\n",
       "\t<tr><td>Y</td><td> 7180949</td><td>G</td><td>A</td><td> 1</td><td>1</td><td>NA</td><td>1</td></tr>\n",
       "\t<tr><td>Y</td><td>17566434</td><td>C</td><td>A</td><td> 1</td><td>1</td><td>NA</td><td>1</td></tr>\n",
       "\t<tr><td>Y</td><td> 9930635</td><td>C</td><td>G</td><td> 1</td><td>1</td><td>NA</td><td>1</td></tr>\n",
       "\t<tr><td>Y</td><td>22794684</td><td>A</td><td> </td><td> 0</td><td>0</td><td>NA</td><td>0</td></tr>\n",
       "\t<tr><td>Y</td><td>17477645</td><td>A</td><td> </td><td> 0</td><td>0</td><td>NA</td><td>0</td></tr>\n",
       "\t<tr><td>Y</td><td> 7263155</td><td>G</td><td> </td><td> 0</td><td>0</td><td>NA</td><td>0</td></tr>\n",
       "\t<tr><td>Y</td><td>24483114</td><td>T</td><td> </td><td> 0</td><td>0</td><td>NA</td><td>0</td></tr>\n",
       "\t<tr><td>Y</td><td> 6850192</td><td>T</td><td> </td><td> 0</td><td>0</td><td>NA</td><td>0</td></tr>\n",
       "\t<tr><td>Y</td><td>16954856</td><td>T</td><td> </td><td> 0</td><td>0</td><td>NA</td><td>0</td></tr>\n",
       "\t<tr><td>Y</td><td>16900294</td><td>A</td><td> </td><td> 0</td><td>0</td><td>NA</td><td>0</td></tr>\n",
       "\t<tr><td>Y</td><td>14388224</td><td>A</td><td> </td><td> 0</td><td>0</td><td>NA</td><td>0</td></tr>\n",
       "\t<tr><td>Y</td><td>14794822</td><td>T</td><td> </td><td> 0</td><td>0</td><td>NA</td><td>0</td></tr>\n",
       "\t<tr><td>Y</td><td>15012042</td><td>G</td><td> </td><td> 0</td><td>0</td><td>NA</td><td>0</td></tr>\n",
       "</tbody>\n",
       "</table>\n"
      ],
      "text/latex": [
       "A tibble: 20 × 8\n",
       "\\begin{tabular}{r|llllllll}\n",
       " chrom & pos & REF & ALT & baq & nobaq & cons & tol\\\\\n",
       " <chr> & <int> & <chr> & <chr> & <dbl> & <dbl> & <dbl> & <dbl>\\\\\n",
       "\\hline\n",
       "\t Y & 19119198 & A & G &  1 & 1 & NA & 1\\\\\n",
       "\t Y & 10035969 & C & T &  1 & 1 & NA & 1\\\\\n",
       "\t Y &  8388616 & A & C & NA & 1 & NA & 1\\\\\n",
       "\t Y & 23466468 & T & C &  1 & 1 & NA & 1\\\\\n",
       "\t Y &  3720176 & C & T &  1 & 1 & NA & 1\\\\\n",
       "\t Y & 19504659 & A & T &  1 & 1 & NA & 1\\\\\n",
       "\t Y &  6868118 & A & G &  1 & 1 & NA & 1\\\\\n",
       "\t Y &  7180949 & G & A &  1 & 1 & NA & 1\\\\\n",
       "\t Y & 17566434 & C & A &  1 & 1 & NA & 1\\\\\n",
       "\t Y &  9930635 & C & G &  1 & 1 & NA & 1\\\\\n",
       "\t Y & 22794684 & A &   &  0 & 0 & NA & 0\\\\\n",
       "\t Y & 17477645 & A &   &  0 & 0 & NA & 0\\\\\n",
       "\t Y &  7263155 & G &   &  0 & 0 & NA & 0\\\\\n",
       "\t Y & 24483114 & T &   &  0 & 0 & NA & 0\\\\\n",
       "\t Y &  6850192 & T &   &  0 & 0 & NA & 0\\\\\n",
       "\t Y & 16954856 & T &   &  0 & 0 & NA & 0\\\\\n",
       "\t Y & 16900294 & A &   &  0 & 0 & NA & 0\\\\\n",
       "\t Y & 14388224 & A &   &  0 & 0 & NA & 0\\\\\n",
       "\t Y & 14794822 & T &   &  0 & 0 & NA & 0\\\\\n",
       "\t Y & 15012042 & G &   &  0 & 0 & NA & 0\\\\\n",
       "\\end{tabular}\n"
      ],
      "text/markdown": [
       "\n",
       "A tibble: 20 × 8\n",
       "\n",
       "| chrom &lt;chr&gt; | pos &lt;int&gt; | REF &lt;chr&gt; | ALT &lt;chr&gt; | baq &lt;dbl&gt; | nobaq &lt;dbl&gt; | cons &lt;dbl&gt; | tol &lt;dbl&gt; |\n",
       "|---|---|---|---|---|---|---|---|\n",
       "| Y | 19119198 | A | G |  1 | 1 | NA | 1 |\n",
       "| Y | 10035969 | C | T |  1 | 1 | NA | 1 |\n",
       "| Y |  8388616 | A | C | NA | 1 | NA | 1 |\n",
       "| Y | 23466468 | T | C |  1 | 1 | NA | 1 |\n",
       "| Y |  3720176 | C | T |  1 | 1 | NA | 1 |\n",
       "| Y | 19504659 | A | T |  1 | 1 | NA | 1 |\n",
       "| Y |  6868118 | A | G |  1 | 1 | NA | 1 |\n",
       "| Y |  7180949 | G | A |  1 | 1 | NA | 1 |\n",
       "| Y | 17566434 | C | A |  1 | 1 | NA | 1 |\n",
       "| Y |  9930635 | C | G |  1 | 1 | NA | 1 |\n",
       "| Y | 22794684 | A | <!----> |  0 | 0 | NA | 0 |\n",
       "| Y | 17477645 | A | <!----> |  0 | 0 | NA | 0 |\n",
       "| Y |  7263155 | G | <!----> |  0 | 0 | NA | 0 |\n",
       "| Y | 24483114 | T | <!----> |  0 | 0 | NA | 0 |\n",
       "| Y |  6850192 | T | <!----> |  0 | 0 | NA | 0 |\n",
       "| Y | 16954856 | T | <!----> |  0 | 0 | NA | 0 |\n",
       "| Y | 16900294 | A | <!----> |  0 | 0 | NA | 0 |\n",
       "| Y | 14388224 | A | <!----> |  0 | 0 | NA | 0 |\n",
       "| Y | 14794822 | T | <!----> |  0 | 0 | NA | 0 |\n",
       "| Y | 15012042 | G | <!----> |  0 | 0 | NA | 0 |\n",
       "\n"
      ],
      "text/plain": [
       "   chrom pos      REF ALT baq nobaq cons tol\n",
       "1  Y     19119198 A   G    1  1     NA   1  \n",
       "2  Y     10035969 C   T    1  1     NA   1  \n",
       "3  Y      8388616 A   C   NA  1     NA   1  \n",
       "4  Y     23466468 T   C    1  1     NA   1  \n",
       "5  Y      3720176 C   T    1  1     NA   1  \n",
       "6  Y     19504659 A   T    1  1     NA   1  \n",
       "7  Y      6868118 A   G    1  1     NA   1  \n",
       "8  Y      7180949 G   A    1  1     NA   1  \n",
       "9  Y     17566434 C   A    1  1     NA   1  \n",
       "10 Y      9930635 C   G    1  1     NA   1  \n",
       "11 Y     22794684 A        0  0     NA   0  \n",
       "12 Y     17477645 A        0  0     NA   0  \n",
       "13 Y      7263155 G        0  0     NA   0  \n",
       "14 Y     24483114 T        0  0     NA   0  \n",
       "15 Y      6850192 T        0  0     NA   0  \n",
       "16 Y     16954856 T        0  0     NA   0  \n",
       "17 Y     16900294 A        0  0     NA   0  \n",
       "18 Y     14388224 A        0  0     NA   0  \n",
       "19 Y     14794822 T        0  0     NA   0  \n",
       "20 Y     15012042 G        0  0     NA   0  "
      ]
     },
     "metadata": {},
     "output_type": "display_data"
    }
   ],
   "source": [
    "filter(a00, is.na(cons) & !(is.na(cons) & is.na(tol))) %>%\n",
    "    group_by(alts = ALT == \"\") %>% sample_n(10) %>% ungroup %>% select(-alts)"
   ]
  },
  {
   "cell_type": "markdown",
   "metadata": {},
   "source": [
    "Based on the table right above, whenever we call an allele with the 90% tolerance consensus cutoff these calls are consistent with bcftools. So the only thing we are losing are calls which would be unreliable anyway, based on the manual inspection of alignments above."
   ]
  },
  {
   "cell_type": "markdown",
   "metadata": {},
   "source": [
    "# Mezmaiskaya 2 (high-coverage archaic, ideal case)"
   ]
  },
  {
   "cell_type": "code",
   "execution_count": 11,
   "metadata": {},
   "outputs": [
    {
     "data": {
      "text/html": [
       "6670600"
      ],
      "text/latex": [
       "6670600"
      ],
      "text/markdown": [
       "6670600"
      ],
      "text/plain": [
       "[1] 6670600"
      ]
     },
     "metadata": {},
     "output_type": "display_data"
    }
   ],
   "source": [
    "read_vcf(here(\"test/mez2_baq.vcf.gz\"), mindp = 3, maxdp = 0.98) %>% nrow"
   ]
  },
  {
   "cell_type": "code",
   "execution_count": 12,
   "metadata": {},
   "outputs": [
    {
     "data": {
      "text/html": [
       "6670600"
      ],
      "text/latex": [
       "6670600"
      ],
      "text/markdown": [
       "6670600"
      ],
      "text/plain": [
       "[1] 6670600"
      ]
     },
     "metadata": {},
     "output_type": "display_data"
    }
   ],
   "source": [
    "read_vcf(here(\"test/mez2_nobaq.vcf.gz\"), mindp = 3, maxdp = 0.98) %>% nrow"
   ]
  },
  {
   "cell_type": "code",
   "execution_count": 13,
   "metadata": {},
   "outputs": [
    {
     "data": {
      "text/html": [
       "5502469"
      ],
      "text/latex": [
       "5502469"
      ],
      "text/markdown": [
       "5502469"
      ],
      "text/plain": [
       "[1] 5502469"
      ]
     },
     "metadata": {},
     "output_type": "display_data"
    }
   ],
   "source": [
    "read_vcf(here(\"test/mez2_consensus.vcf.gz\"), mindp = 3, maxdp = 0.98) %>% nrow"
   ]
  },
  {
   "cell_type": "code",
   "execution_count": 14,
   "metadata": {},
   "outputs": [
    {
     "data": {
      "text/html": [
       "6349143"
      ],
      "text/latex": [
       "6349143"
      ],
      "text/markdown": [
       "6349143"
      ],
      "text/plain": [
       "[1] 6349143"
      ]
     },
     "metadata": {},
     "output_type": "display_data"
    }
   ],
   "source": [
    "read_vcf(here(\"test/mez2_tolerance.vcf.gz\"), mindp = 3, maxdp = 0.98) %>% nrow"
   ]
  },
  {
   "cell_type": "code",
   "execution_count": 15,
   "metadata": {},
   "outputs": [],
   "source": [
    "mez2 <- read_vcf(here(\"test/genotyping_mez2.vcf.gz\"), mindp = 3, maxdp = 0.98) %>%\n",
    "    filter(!is.na(baq) | !is.na(nobaq) | !is.na(cons) | !is.na(tol))"
   ]
  },
  {
   "cell_type": "code",
   "execution_count": 16,
   "metadata": {},
   "outputs": [
    {
     "data": {
      "text/html": [
       "6359946"
      ],
      "text/latex": [
       "6359946"
      ],
      "text/markdown": [
       "6359946"
      ],
      "text/plain": [
       "[1] 6359946"
      ]
     },
     "metadata": {},
     "output_type": "display_data"
    }
   ],
   "source": [
    "nrow(mez2)"
   ]
  },
  {
   "cell_type": "code",
   "execution_count": 17,
   "metadata": {},
   "outputs": [
    {
     "data": {
      "text/html": [
       "<table>\n",
       "<caption>A tibble: 20 × 8</caption>\n",
       "<thead>\n",
       "\t<tr><th scope=col>chrom</th><th scope=col>pos</th><th scope=col>REF</th><th scope=col>ALT</th><th scope=col>baq</th><th scope=col>nobaq</th><th scope=col>cons</th><th scope=col>tol</th></tr>\n",
       "\t<tr><th scope=col>&lt;chr&gt;</th><th scope=col>&lt;int&gt;</th><th scope=col>&lt;chr&gt;</th><th scope=col>&lt;chr&gt;</th><th scope=col>&lt;dbl&gt;</th><th scope=col>&lt;dbl&gt;</th><th scope=col>&lt;dbl&gt;</th><th scope=col>&lt;dbl&gt;</th></tr>\n",
       "</thead>\n",
       "<tbody>\n",
       "\t<tr><td>Y</td><td>15946979</td><td>G</td><td>A</td><td>0</td><td>1</td><td>NA</td><td>NA</td></tr>\n",
       "\t<tr><td>Y</td><td> 8455563</td><td>T</td><td>C</td><td>1</td><td>0</td><td>NA</td><td>NA</td></tr>\n",
       "\t<tr><td>Y</td><td> 3720007</td><td>C</td><td>A</td><td>0</td><td>1</td><td>NA</td><td>NA</td></tr>\n",
       "\t<tr><td>Y</td><td>22894136</td><td>G</td><td>A</td><td>0</td><td>1</td><td>NA</td><td>NA</td></tr>\n",
       "\t<tr><td>Y</td><td>14860080</td><td>A</td><td>G</td><td>0</td><td>1</td><td>NA</td><td>NA</td></tr>\n",
       "\t<tr><td>Y</td><td>18083168</td><td>G</td><td>A</td><td>0</td><td>1</td><td>NA</td><td>NA</td></tr>\n",
       "\t<tr><td>Y</td><td> 8363429</td><td>G</td><td>A</td><td>0</td><td>1</td><td>NA</td><td>NA</td></tr>\n",
       "\t<tr><td>Y</td><td>23540925</td><td>C</td><td>T</td><td>0</td><td>1</td><td>NA</td><td>NA</td></tr>\n",
       "\t<tr><td>Y</td><td>19420838</td><td>G</td><td>A</td><td>0</td><td>1</td><td>NA</td><td>NA</td></tr>\n",
       "\t<tr><td>Y</td><td> 3719194</td><td>C</td><td>A</td><td>0</td><td>1</td><td>NA</td><td>NA</td></tr>\n",
       "\t<tr><td>Y</td><td>22705009</td><td>T</td><td>C</td><td>0</td><td>1</td><td>NA</td><td>NA</td></tr>\n",
       "\t<tr><td>Y</td><td>16779295</td><td>A</td><td>C</td><td>0</td><td>1</td><td>NA</td><td>NA</td></tr>\n",
       "\t<tr><td>Y</td><td>23776914</td><td>G</td><td>A</td><td>0</td><td>1</td><td>NA</td><td>NA</td></tr>\n",
       "\t<tr><td>Y</td><td>15516284</td><td>C</td><td>T</td><td>0</td><td>1</td><td>NA</td><td>NA</td></tr>\n",
       "\t<tr><td>Y</td><td> 9984845</td><td>G</td><td>A</td><td>0</td><td>1</td><td>NA</td><td>NA</td></tr>\n",
       "\t<tr><td>Y</td><td>16366102</td><td>A</td><td>G</td><td>0</td><td>1</td><td>NA</td><td>NA</td></tr>\n",
       "\t<tr><td>Y</td><td>21153166</td><td>T</td><td>A</td><td>0</td><td>1</td><td>NA</td><td>NA</td></tr>\n",
       "\t<tr><td>Y</td><td>14729690</td><td>A</td><td>T</td><td>1</td><td>0</td><td>NA</td><td>NA</td></tr>\n",
       "\t<tr><td>Y</td><td> 6922468</td><td>A</td><td>G</td><td>1</td><td>0</td><td>NA</td><td>NA</td></tr>\n",
       "\t<tr><td>Y</td><td> 7280606</td><td>T</td><td>C</td><td>0</td><td>1</td><td>NA</td><td>NA</td></tr>\n",
       "</tbody>\n",
       "</table>\n"
      ],
      "text/latex": [
       "A tibble: 20 × 8\n",
       "\\begin{tabular}{r|llllllll}\n",
       " chrom & pos & REF & ALT & baq & nobaq & cons & tol\\\\\n",
       " <chr> & <int> & <chr> & <chr> & <dbl> & <dbl> & <dbl> & <dbl>\\\\\n",
       "\\hline\n",
       "\t Y & 15946979 & G & A & 0 & 1 & NA & NA\\\\\n",
       "\t Y &  8455563 & T & C & 1 & 0 & NA & NA\\\\\n",
       "\t Y &  3720007 & C & A & 0 & 1 & NA & NA\\\\\n",
       "\t Y & 22894136 & G & A & 0 & 1 & NA & NA\\\\\n",
       "\t Y & 14860080 & A & G & 0 & 1 & NA & NA\\\\\n",
       "\t Y & 18083168 & G & A & 0 & 1 & NA & NA\\\\\n",
       "\t Y &  8363429 & G & A & 0 & 1 & NA & NA\\\\\n",
       "\t Y & 23540925 & C & T & 0 & 1 & NA & NA\\\\\n",
       "\t Y & 19420838 & G & A & 0 & 1 & NA & NA\\\\\n",
       "\t Y &  3719194 & C & A & 0 & 1 & NA & NA\\\\\n",
       "\t Y & 22705009 & T & C & 0 & 1 & NA & NA\\\\\n",
       "\t Y & 16779295 & A & C & 0 & 1 & NA & NA\\\\\n",
       "\t Y & 23776914 & G & A & 0 & 1 & NA & NA\\\\\n",
       "\t Y & 15516284 & C & T & 0 & 1 & NA & NA\\\\\n",
       "\t Y &  9984845 & G & A & 0 & 1 & NA & NA\\\\\n",
       "\t Y & 16366102 & A & G & 0 & 1 & NA & NA\\\\\n",
       "\t Y & 21153166 & T & A & 0 & 1 & NA & NA\\\\\n",
       "\t Y & 14729690 & A & T & 1 & 0 & NA & NA\\\\\n",
       "\t Y &  6922468 & A & G & 1 & 0 & NA & NA\\\\\n",
       "\t Y &  7280606 & T & C & 0 & 1 & NA & NA\\\\\n",
       "\\end{tabular}\n"
      ],
      "text/markdown": [
       "\n",
       "A tibble: 20 × 8\n",
       "\n",
       "| chrom &lt;chr&gt; | pos &lt;int&gt; | REF &lt;chr&gt; | ALT &lt;chr&gt; | baq &lt;dbl&gt; | nobaq &lt;dbl&gt; | cons &lt;dbl&gt; | tol &lt;dbl&gt; |\n",
       "|---|---|---|---|---|---|---|---|\n",
       "| Y | 15946979 | G | A | 0 | 1 | NA | NA |\n",
       "| Y |  8455563 | T | C | 1 | 0 | NA | NA |\n",
       "| Y |  3720007 | C | A | 0 | 1 | NA | NA |\n",
       "| Y | 22894136 | G | A | 0 | 1 | NA | NA |\n",
       "| Y | 14860080 | A | G | 0 | 1 | NA | NA |\n",
       "| Y | 18083168 | G | A | 0 | 1 | NA | NA |\n",
       "| Y |  8363429 | G | A | 0 | 1 | NA | NA |\n",
       "| Y | 23540925 | C | T | 0 | 1 | NA | NA |\n",
       "| Y | 19420838 | G | A | 0 | 1 | NA | NA |\n",
       "| Y |  3719194 | C | A | 0 | 1 | NA | NA |\n",
       "| Y | 22705009 | T | C | 0 | 1 | NA | NA |\n",
       "| Y | 16779295 | A | C | 0 | 1 | NA | NA |\n",
       "| Y | 23776914 | G | A | 0 | 1 | NA | NA |\n",
       "| Y | 15516284 | C | T | 0 | 1 | NA | NA |\n",
       "| Y |  9984845 | G | A | 0 | 1 | NA | NA |\n",
       "| Y | 16366102 | A | G | 0 | 1 | NA | NA |\n",
       "| Y | 21153166 | T | A | 0 | 1 | NA | NA |\n",
       "| Y | 14729690 | A | T | 1 | 0 | NA | NA |\n",
       "| Y |  6922468 | A | G | 1 | 0 | NA | NA |\n",
       "| Y |  7280606 | T | C | 0 | 1 | NA | NA |\n",
       "\n"
      ],
      "text/plain": [
       "   chrom pos      REF ALT baq nobaq cons tol\n",
       "1  Y     15946979 G   A   0   1     NA   NA \n",
       "2  Y      8455563 T   C   1   0     NA   NA \n",
       "3  Y      3720007 C   A   0   1     NA   NA \n",
       "4  Y     22894136 G   A   0   1     NA   NA \n",
       "5  Y     14860080 A   G   0   1     NA   NA \n",
       "6  Y     18083168 G   A   0   1     NA   NA \n",
       "7  Y      8363429 G   A   0   1     NA   NA \n",
       "8  Y     23540925 C   T   0   1     NA   NA \n",
       "9  Y     19420838 G   A   0   1     NA   NA \n",
       "10 Y      3719194 C   A   0   1     NA   NA \n",
       "11 Y     22705009 T   C   0   1     NA   NA \n",
       "12 Y     16779295 A   C   0   1     NA   NA \n",
       "13 Y     23776914 G   A   0   1     NA   NA \n",
       "14 Y     15516284 C   T   0   1     NA   NA \n",
       "15 Y      9984845 G   A   0   1     NA   NA \n",
       "16 Y     16366102 A   G   0   1     NA   NA \n",
       "17 Y     21153166 T   A   0   1     NA   NA \n",
       "18 Y     14729690 A   T   1   0     NA   NA \n",
       "19 Y      6922468 A   G   1   0     NA   NA \n",
       "20 Y      7280606 T   C   0   1     NA   NA "
      ]
     },
     "metadata": {},
     "output_type": "display_data"
    }
   ],
   "source": [
    "filter(mez2, baq != nobaq) %>% sample_n(20)"
   ]
  },
  {
   "cell_type": "code",
   "execution_count": 18,
   "metadata": {},
   "outputs": [
    {
     "data": {
      "text/html": [
       "<table>\n",
       "<caption>A grouped_df: 2 × 3</caption>\n",
       "<thead>\n",
       "\t<tr><th scope=col>baq</th><th scope=col>nobaq</th><th scope=col>n</th></tr>\n",
       "\t<tr><th scope=col>&lt;dbl&gt;</th><th scope=col>&lt;dbl&gt;</th><th scope=col>&lt;int&gt;</th></tr>\n",
       "</thead>\n",
       "<tbody>\n",
       "\t<tr><td>0</td><td>1</td><td>35</td></tr>\n",
       "\t<tr><td>1</td><td>0</td><td> 5</td></tr>\n",
       "</tbody>\n",
       "</table>\n"
      ],
      "text/latex": [
       "A grouped_df: 2 × 3\n",
       "\\begin{tabular}{r|lll}\n",
       " baq & nobaq & n\\\\\n",
       " <dbl> & <dbl> & <int>\\\\\n",
       "\\hline\n",
       "\t 0 & 1 & 35\\\\\n",
       "\t 1 & 0 &  5\\\\\n",
       "\\end{tabular}\n"
      ],
      "text/markdown": [
       "\n",
       "A grouped_df: 2 × 3\n",
       "\n",
       "| baq &lt;dbl&gt; | nobaq &lt;dbl&gt; | n &lt;int&gt; |\n",
       "|---|---|---|\n",
       "| 0 | 1 | 35 |\n",
       "| 1 | 0 |  5 |\n",
       "\n"
      ],
      "text/plain": [
       "  baq nobaq n \n",
       "1 0   1     35\n",
       "2 1   0      5"
      ]
     },
     "metadata": {},
     "output_type": "display_data"
    }
   ],
   "source": [
    "filter(mez2, baq != nobaq) %>% group_by(baq, nobaq) %>% tally"
   ]
  },
  {
   "cell_type": "code",
   "execution_count": 19,
   "metadata": {},
   "outputs": [
    {
     "data": {
      "text/html": [
       "<table>\n",
       "<caption>A tibble: 0 × 8</caption>\n",
       "<thead>\n",
       "\t<tr><th scope=col>chrom</th><th scope=col>pos</th><th scope=col>REF</th><th scope=col>ALT</th><th scope=col>baq</th><th scope=col>nobaq</th><th scope=col>cons</th><th scope=col>tol</th></tr>\n",
       "\t<tr><th scope=col>&lt;chr&gt;</th><th scope=col>&lt;int&gt;</th><th scope=col>&lt;chr&gt;</th><th scope=col>&lt;chr&gt;</th><th scope=col>&lt;dbl&gt;</th><th scope=col>&lt;dbl&gt;</th><th scope=col>&lt;dbl&gt;</th><th scope=col>&lt;dbl&gt;</th></tr>\n",
       "</thead>\n",
       "<tbody>\n",
       "</tbody>\n",
       "</table>\n"
      ],
      "text/latex": [
       "A tibble: 0 × 8\n",
       "\\begin{tabular}{r|llllllll}\n",
       " chrom & pos & REF & ALT & baq & nobaq & cons & tol\\\\\n",
       " <chr> & <int> & <chr> & <chr> & <dbl> & <dbl> & <dbl> & <dbl>\\\\\n",
       "\\hline\n",
       "\\end{tabular}\n"
      ],
      "text/markdown": [
       "\n",
       "A tibble: 0 × 8\n",
       "\n",
       "| chrom &lt;chr&gt; | pos &lt;int&gt; | REF &lt;chr&gt; | ALT &lt;chr&gt; | baq &lt;dbl&gt; | nobaq &lt;dbl&gt; | cons &lt;dbl&gt; | tol &lt;dbl&gt; |\n",
       "|---|---|---|---|---|---|---|---|\n",
       "\n"
      ],
      "text/plain": [
       "     chrom pos REF ALT baq nobaq cons tol"
      ]
     },
     "metadata": {},
     "output_type": "display_data"
    }
   ],
   "source": [
    "filter(mez2, cons != tol)"
   ]
  },
  {
   "cell_type": "code",
   "execution_count": 20,
   "metadata": {},
   "outputs": [
    {
     "data": {
      "text/html": [
       "<table>\n",
       "<caption>A tibble: 20 × 8</caption>\n",
       "<thead>\n",
       "\t<tr><th scope=col>chrom</th><th scope=col>pos</th><th scope=col>REF</th><th scope=col>ALT</th><th scope=col>baq</th><th scope=col>nobaq</th><th scope=col>cons</th><th scope=col>tol</th></tr>\n",
       "\t<tr><th scope=col>&lt;chr&gt;</th><th scope=col>&lt;int&gt;</th><th scope=col>&lt;chr&gt;</th><th scope=col>&lt;chr&gt;</th><th scope=col>&lt;dbl&gt;</th><th scope=col>&lt;dbl&gt;</th><th scope=col>&lt;dbl&gt;</th><th scope=col>&lt;dbl&gt;</th></tr>\n",
       "</thead>\n",
       "<tbody>\n",
       "\t<tr><td>Y</td><td>16790509</td><td>A</td><td>G</td><td> 1</td><td>1</td><td>NA</td><td>1</td></tr>\n",
       "\t<tr><td>Y</td><td> 6993202</td><td>T</td><td>C</td><td> 1</td><td>1</td><td>NA</td><td>1</td></tr>\n",
       "\t<tr><td>Y</td><td>21070230</td><td>A</td><td>G</td><td> 1</td><td>1</td><td>NA</td><td>1</td></tr>\n",
       "\t<tr><td>Y</td><td> 2889149</td><td>T</td><td>C</td><td> 1</td><td>1</td><td>NA</td><td>1</td></tr>\n",
       "\t<tr><td>Y</td><td> 2889635</td><td>G</td><td>C</td><td> 1</td><td>1</td><td>NA</td><td>1</td></tr>\n",
       "\t<tr><td>Y</td><td>18127181</td><td>A</td><td>G</td><td> 1</td><td>1</td><td>NA</td><td>1</td></tr>\n",
       "\t<tr><td>Y</td><td>18081586</td><td>C</td><td>G</td><td> 1</td><td>1</td><td>NA</td><td>1</td></tr>\n",
       "\t<tr><td>Y</td><td>19130311</td><td>T</td><td>C</td><td> 1</td><td>1</td><td>NA</td><td>1</td></tr>\n",
       "\t<tr><td>Y</td><td> 9642406</td><td>A</td><td>G</td><td> 1</td><td>1</td><td>NA</td><td>1</td></tr>\n",
       "\t<tr><td>Y</td><td>18069115</td><td>A</td><td>G</td><td> 1</td><td>1</td><td>NA</td><td>1</td></tr>\n",
       "\t<tr><td>Y</td><td>17108434</td><td>C</td><td> </td><td> 0</td><td>0</td><td>NA</td><td>0</td></tr>\n",
       "\t<tr><td>Y</td><td>21310538</td><td>A</td><td> </td><td>NA</td><td>0</td><td>NA</td><td>0</td></tr>\n",
       "\t<tr><td>Y</td><td>15830220</td><td>C</td><td> </td><td> 0</td><td>0</td><td>NA</td><td>0</td></tr>\n",
       "\t<tr><td>Y</td><td>15033721</td><td>G</td><td> </td><td> 0</td><td>0</td><td>NA</td><td>0</td></tr>\n",
       "\t<tr><td>Y</td><td>18588874</td><td>G</td><td> </td><td> 0</td><td>0</td><td>NA</td><td>0</td></tr>\n",
       "\t<tr><td>Y</td><td>15075648</td><td>G</td><td> </td><td> 0</td><td>0</td><td>NA</td><td>0</td></tr>\n",
       "\t<tr><td>Y</td><td>15602471</td><td>G</td><td> </td><td> 0</td><td>0</td><td>NA</td><td>0</td></tr>\n",
       "\t<tr><td>Y</td><td> 7591594</td><td>C</td><td> </td><td> 0</td><td>0</td><td>NA</td><td>0</td></tr>\n",
       "\t<tr><td>Y</td><td>17076418</td><td>C</td><td> </td><td> 0</td><td>0</td><td>NA</td><td>0</td></tr>\n",
       "\t<tr><td>Y</td><td>23322464</td><td>C</td><td> </td><td> 0</td><td>0</td><td>NA</td><td>0</td></tr>\n",
       "</tbody>\n",
       "</table>\n"
      ],
      "text/latex": [
       "A tibble: 20 × 8\n",
       "\\begin{tabular}{r|llllllll}\n",
       " chrom & pos & REF & ALT & baq & nobaq & cons & tol\\\\\n",
       " <chr> & <int> & <chr> & <chr> & <dbl> & <dbl> & <dbl> & <dbl>\\\\\n",
       "\\hline\n",
       "\t Y & 16790509 & A & G &  1 & 1 & NA & 1\\\\\n",
       "\t Y &  6993202 & T & C &  1 & 1 & NA & 1\\\\\n",
       "\t Y & 21070230 & A & G &  1 & 1 & NA & 1\\\\\n",
       "\t Y &  2889149 & T & C &  1 & 1 & NA & 1\\\\\n",
       "\t Y &  2889635 & G & C &  1 & 1 & NA & 1\\\\\n",
       "\t Y & 18127181 & A & G &  1 & 1 & NA & 1\\\\\n",
       "\t Y & 18081586 & C & G &  1 & 1 & NA & 1\\\\\n",
       "\t Y & 19130311 & T & C &  1 & 1 & NA & 1\\\\\n",
       "\t Y &  9642406 & A & G &  1 & 1 & NA & 1\\\\\n",
       "\t Y & 18069115 & A & G &  1 & 1 & NA & 1\\\\\n",
       "\t Y & 17108434 & C &   &  0 & 0 & NA & 0\\\\\n",
       "\t Y & 21310538 & A &   & NA & 0 & NA & 0\\\\\n",
       "\t Y & 15830220 & C &   &  0 & 0 & NA & 0\\\\\n",
       "\t Y & 15033721 & G &   &  0 & 0 & NA & 0\\\\\n",
       "\t Y & 18588874 & G &   &  0 & 0 & NA & 0\\\\\n",
       "\t Y & 15075648 & G &   &  0 & 0 & NA & 0\\\\\n",
       "\t Y & 15602471 & G &   &  0 & 0 & NA & 0\\\\\n",
       "\t Y &  7591594 & C &   &  0 & 0 & NA & 0\\\\\n",
       "\t Y & 17076418 & C &   &  0 & 0 & NA & 0\\\\\n",
       "\t Y & 23322464 & C &   &  0 & 0 & NA & 0\\\\\n",
       "\\end{tabular}\n"
      ],
      "text/markdown": [
       "\n",
       "A tibble: 20 × 8\n",
       "\n",
       "| chrom &lt;chr&gt; | pos &lt;int&gt; | REF &lt;chr&gt; | ALT &lt;chr&gt; | baq &lt;dbl&gt; | nobaq &lt;dbl&gt; | cons &lt;dbl&gt; | tol &lt;dbl&gt; |\n",
       "|---|---|---|---|---|---|---|---|\n",
       "| Y | 16790509 | A | G |  1 | 1 | NA | 1 |\n",
       "| Y |  6993202 | T | C |  1 | 1 | NA | 1 |\n",
       "| Y | 21070230 | A | G |  1 | 1 | NA | 1 |\n",
       "| Y |  2889149 | T | C |  1 | 1 | NA | 1 |\n",
       "| Y |  2889635 | G | C |  1 | 1 | NA | 1 |\n",
       "| Y | 18127181 | A | G |  1 | 1 | NA | 1 |\n",
       "| Y | 18081586 | C | G |  1 | 1 | NA | 1 |\n",
       "| Y | 19130311 | T | C |  1 | 1 | NA | 1 |\n",
       "| Y |  9642406 | A | G |  1 | 1 | NA | 1 |\n",
       "| Y | 18069115 | A | G |  1 | 1 | NA | 1 |\n",
       "| Y | 17108434 | C | <!----> |  0 | 0 | NA | 0 |\n",
       "| Y | 21310538 | A | <!----> | NA | 0 | NA | 0 |\n",
       "| Y | 15830220 | C | <!----> |  0 | 0 | NA | 0 |\n",
       "| Y | 15033721 | G | <!----> |  0 | 0 | NA | 0 |\n",
       "| Y | 18588874 | G | <!----> |  0 | 0 | NA | 0 |\n",
       "| Y | 15075648 | G | <!----> |  0 | 0 | NA | 0 |\n",
       "| Y | 15602471 | G | <!----> |  0 | 0 | NA | 0 |\n",
       "| Y |  7591594 | C | <!----> |  0 | 0 | NA | 0 |\n",
       "| Y | 17076418 | C | <!----> |  0 | 0 | NA | 0 |\n",
       "| Y | 23322464 | C | <!----> |  0 | 0 | NA | 0 |\n",
       "\n"
      ],
      "text/plain": [
       "   chrom pos      REF ALT baq nobaq cons tol\n",
       "1  Y     16790509 A   G    1  1     NA   1  \n",
       "2  Y      6993202 T   C    1  1     NA   1  \n",
       "3  Y     21070230 A   G    1  1     NA   1  \n",
       "4  Y      2889149 T   C    1  1     NA   1  \n",
       "5  Y      2889635 G   C    1  1     NA   1  \n",
       "6  Y     18127181 A   G    1  1     NA   1  \n",
       "7  Y     18081586 C   G    1  1     NA   1  \n",
       "8  Y     19130311 T   C    1  1     NA   1  \n",
       "9  Y      9642406 A   G    1  1     NA   1  \n",
       "10 Y     18069115 A   G    1  1     NA   1  \n",
       "11 Y     17108434 C        0  0     NA   0  \n",
       "12 Y     21310538 A       NA  0     NA   0  \n",
       "13 Y     15830220 C        0  0     NA   0  \n",
       "14 Y     15033721 G        0  0     NA   0  \n",
       "15 Y     18588874 G        0  0     NA   0  \n",
       "16 Y     15075648 G        0  0     NA   0  \n",
       "17 Y     15602471 G        0  0     NA   0  \n",
       "18 Y      7591594 C        0  0     NA   0  \n",
       "19 Y     17076418 C        0  0     NA   0  \n",
       "20 Y     23322464 C        0  0     NA   0  "
      ]
     },
     "metadata": {},
     "output_type": "display_data"
    }
   ],
   "source": [
    "filter(mez2, is.na(cons) & !(is.na(cons) & is.na(tol))) %>%\n",
    "    group_by(alts = ALT == \"\") %>% sample_n(10) %>% ungroup %>% select(-alts)"
   ]
  },
  {
   "cell_type": "markdown",
   "metadata": {},
   "source": [
    "# Denisova 8 (low coverage archaic, extreme case)\n",
    "\n",
    "At 90% consensus cutoff we expect the lower coverage genotypes to be the same as strict 100% consensus."
   ]
  },
  {
   "cell_type": "code",
   "execution_count": 21,
   "metadata": {},
   "outputs": [
    {
     "data": {
      "text/html": [
       "6261598"
      ],
      "text/latex": [
       "6261598"
      ],
      "text/markdown": [
       "6261598"
      ],
      "text/plain": [
       "[1] 6261598"
      ]
     },
     "metadata": {},
     "output_type": "display_data"
    }
   ],
   "source": [
    "read_vcf(here(\"test/den8_baq.vcf.gz\"), mindp = 3, maxdp = 0.98) %>% nrow"
   ]
  },
  {
   "cell_type": "code",
   "execution_count": 22,
   "metadata": {},
   "outputs": [
    {
     "data": {
      "text/html": [
       "6261598"
      ],
      "text/latex": [
       "6261598"
      ],
      "text/markdown": [
       "6261598"
      ],
      "text/plain": [
       "[1] 6261598"
      ]
     },
     "metadata": {},
     "output_type": "display_data"
    }
   ],
   "source": [
    "read_vcf(here(\"test/den8_nobaq.vcf.gz\"), mindp = 3, maxdp = 0.98) %>% nrow"
   ]
  },
  {
   "cell_type": "code",
   "execution_count": 23,
   "metadata": {},
   "outputs": [
    {
     "data": {
      "text/html": [
       "5832045"
      ],
      "text/latex": [
       "5832045"
      ],
      "text/markdown": [
       "5832045"
      ],
      "text/plain": [
       "[1] 5832045"
      ]
     },
     "metadata": {},
     "output_type": "display_data"
    }
   ],
   "source": [
    "read_vcf(here(\"test/den8_consensus.vcf.gz\"), mindp = 3, maxdp = 0.98) %>% nrow"
   ]
  },
  {
   "cell_type": "code",
   "execution_count": 24,
   "metadata": {},
   "outputs": [
    {
     "data": {
      "text/html": [
       "5851442"
      ],
      "text/latex": [
       "5851442"
      ],
      "text/markdown": [
       "5851442"
      ],
      "text/plain": [
       "[1] 5851442"
      ]
     },
     "metadata": {},
     "output_type": "display_data"
    }
   ],
   "source": [
    "read_vcf(here(\"test/den8_tolerance.vcf.gz\"), mindp = 3, maxdp = 0.98) %>% nrow"
   ]
  },
  {
   "cell_type": "code",
   "execution_count": 25,
   "metadata": {},
   "outputs": [],
   "source": [
    "den8 <- read_vcf(here(\"test/genotyping_den8.vcf.gz\"), mindp = 3, maxdp = 0.98) %>%\n",
    "    filter(!is.na(baq) | !is.na(nobaq) | !is.na(cons) | !is.na(tol))"
   ]
  },
  {
   "cell_type": "code",
   "execution_count": 26,
   "metadata": {},
   "outputs": [
    {
     "data": {
      "text/html": [
       "4185842"
      ],
      "text/latex": [
       "4185842"
      ],
      "text/markdown": [
       "4185842"
      ],
      "text/plain": [
       "[1] 4185842"
      ]
     },
     "metadata": {},
     "output_type": "display_data"
    }
   ],
   "source": [
    "nrow(den8)"
   ]
  },
  {
   "cell_type": "code",
   "execution_count": 27,
   "metadata": {},
   "outputs": [
    {
     "data": {
      "text/html": [
       "<table>\n",
       "<caption>A tibble: 20 × 8</caption>\n",
       "<thead>\n",
       "\t<tr><th scope=col>chrom</th><th scope=col>pos</th><th scope=col>REF</th><th scope=col>ALT</th><th scope=col>baq</th><th scope=col>nobaq</th><th scope=col>cons</th><th scope=col>tol</th></tr>\n",
       "\t<tr><th scope=col>&lt;chr&gt;</th><th scope=col>&lt;int&gt;</th><th scope=col>&lt;chr&gt;</th><th scope=col>&lt;chr&gt;</th><th scope=col>&lt;dbl&gt;</th><th scope=col>&lt;dbl&gt;</th><th scope=col>&lt;dbl&gt;</th><th scope=col>&lt;dbl&gt;</th></tr>\n",
       "</thead>\n",
       "<tbody>\n",
       "\t<tr><td>Y</td><td>21570706</td><td>G</td><td>A</td><td>0</td><td>1</td><td>NA</td><td>NA</td></tr>\n",
       "\t<tr><td>Y</td><td>17097106</td><td>C</td><td>T</td><td>0</td><td>1</td><td>NA</td><td>NA</td></tr>\n",
       "\t<tr><td>Y</td><td>14533615</td><td>T</td><td>C</td><td>0</td><td>1</td><td>NA</td><td>NA</td></tr>\n",
       "\t<tr><td>Y</td><td> 7146238</td><td>G</td><td>A</td><td>0</td><td>1</td><td>NA</td><td>NA</td></tr>\n",
       "\t<tr><td>Y</td><td>13206359</td><td>G</td><td>A</td><td>0</td><td>1</td><td>NA</td><td>NA</td></tr>\n",
       "\t<tr><td>Y</td><td>15021654</td><td>C</td><td>T</td><td>0</td><td>1</td><td>NA</td><td>NA</td></tr>\n",
       "\t<tr><td>Y</td><td>15494975</td><td>G</td><td>A</td><td>0</td><td>1</td><td>NA</td><td>NA</td></tr>\n",
       "\t<tr><td>Y</td><td>19471407</td><td>C</td><td>T</td><td>0</td><td>1</td><td>NA</td><td>NA</td></tr>\n",
       "\t<tr><td>Y</td><td>19119665</td><td>G</td><td>A</td><td>0</td><td>1</td><td>NA</td><td>NA</td></tr>\n",
       "\t<tr><td>Y</td><td> 7054697</td><td>G</td><td>A</td><td>0</td><td>1</td><td>NA</td><td>NA</td></tr>\n",
       "\t<tr><td>Y</td><td>19258051</td><td>G</td><td>A</td><td>0</td><td>1</td><td>NA</td><td>NA</td></tr>\n",
       "\t<tr><td>Y</td><td> 3718595</td><td>T</td><td>G</td><td>0</td><td>1</td><td>NA</td><td>NA</td></tr>\n",
       "\t<tr><td>Y</td><td> 7412044</td><td>C</td><td>T</td><td>0</td><td>1</td><td>NA</td><td>NA</td></tr>\n",
       "\t<tr><td>Y</td><td>17550404</td><td>G</td><td>A</td><td>0</td><td>1</td><td>NA</td><td>NA</td></tr>\n",
       "\t<tr><td>Y</td><td> 7009976</td><td>G</td><td>A</td><td>0</td><td>1</td><td>NA</td><td>NA</td></tr>\n",
       "\t<tr><td>Y</td><td>17170659</td><td>G</td><td>A</td><td>1</td><td>0</td><td>NA</td><td>NA</td></tr>\n",
       "\t<tr><td>Y</td><td>14794843</td><td>C</td><td>T</td><td>0</td><td>1</td><td>NA</td><td>NA</td></tr>\n",
       "\t<tr><td>Y</td><td> 6762288</td><td>G</td><td>A</td><td>0</td><td>1</td><td>NA</td><td>NA</td></tr>\n",
       "\t<tr><td>Y</td><td>23761973</td><td>G</td><td>A</td><td>0</td><td>1</td><td>NA</td><td>NA</td></tr>\n",
       "\t<tr><td>Y</td><td>15593301</td><td>A</td><td>G</td><td>0</td><td>1</td><td>NA</td><td>NA</td></tr>\n",
       "</tbody>\n",
       "</table>\n"
      ],
      "text/latex": [
       "A tibble: 20 × 8\n",
       "\\begin{tabular}{r|llllllll}\n",
       " chrom & pos & REF & ALT & baq & nobaq & cons & tol\\\\\n",
       " <chr> & <int> & <chr> & <chr> & <dbl> & <dbl> & <dbl> & <dbl>\\\\\n",
       "\\hline\n",
       "\t Y & 21570706 & G & A & 0 & 1 & NA & NA\\\\\n",
       "\t Y & 17097106 & C & T & 0 & 1 & NA & NA\\\\\n",
       "\t Y & 14533615 & T & C & 0 & 1 & NA & NA\\\\\n",
       "\t Y &  7146238 & G & A & 0 & 1 & NA & NA\\\\\n",
       "\t Y & 13206359 & G & A & 0 & 1 & NA & NA\\\\\n",
       "\t Y & 15021654 & C & T & 0 & 1 & NA & NA\\\\\n",
       "\t Y & 15494975 & G & A & 0 & 1 & NA & NA\\\\\n",
       "\t Y & 19471407 & C & T & 0 & 1 & NA & NA\\\\\n",
       "\t Y & 19119665 & G & A & 0 & 1 & NA & NA\\\\\n",
       "\t Y &  7054697 & G & A & 0 & 1 & NA & NA\\\\\n",
       "\t Y & 19258051 & G & A & 0 & 1 & NA & NA\\\\\n",
       "\t Y &  3718595 & T & G & 0 & 1 & NA & NA\\\\\n",
       "\t Y &  7412044 & C & T & 0 & 1 & NA & NA\\\\\n",
       "\t Y & 17550404 & G & A & 0 & 1 & NA & NA\\\\\n",
       "\t Y &  7009976 & G & A & 0 & 1 & NA & NA\\\\\n",
       "\t Y & 17170659 & G & A & 1 & 0 & NA & NA\\\\\n",
       "\t Y & 14794843 & C & T & 0 & 1 & NA & NA\\\\\n",
       "\t Y &  6762288 & G & A & 0 & 1 & NA & NA\\\\\n",
       "\t Y & 23761973 & G & A & 0 & 1 & NA & NA\\\\\n",
       "\t Y & 15593301 & A & G & 0 & 1 & NA & NA\\\\\n",
       "\\end{tabular}\n"
      ],
      "text/markdown": [
       "\n",
       "A tibble: 20 × 8\n",
       "\n",
       "| chrom &lt;chr&gt; | pos &lt;int&gt; | REF &lt;chr&gt; | ALT &lt;chr&gt; | baq &lt;dbl&gt; | nobaq &lt;dbl&gt; | cons &lt;dbl&gt; | tol &lt;dbl&gt; |\n",
       "|---|---|---|---|---|---|---|---|\n",
       "| Y | 21570706 | G | A | 0 | 1 | NA | NA |\n",
       "| Y | 17097106 | C | T | 0 | 1 | NA | NA |\n",
       "| Y | 14533615 | T | C | 0 | 1 | NA | NA |\n",
       "| Y |  7146238 | G | A | 0 | 1 | NA | NA |\n",
       "| Y | 13206359 | G | A | 0 | 1 | NA | NA |\n",
       "| Y | 15021654 | C | T | 0 | 1 | NA | NA |\n",
       "| Y | 15494975 | G | A | 0 | 1 | NA | NA |\n",
       "| Y | 19471407 | C | T | 0 | 1 | NA | NA |\n",
       "| Y | 19119665 | G | A | 0 | 1 | NA | NA |\n",
       "| Y |  7054697 | G | A | 0 | 1 | NA | NA |\n",
       "| Y | 19258051 | G | A | 0 | 1 | NA | NA |\n",
       "| Y |  3718595 | T | G | 0 | 1 | NA | NA |\n",
       "| Y |  7412044 | C | T | 0 | 1 | NA | NA |\n",
       "| Y | 17550404 | G | A | 0 | 1 | NA | NA |\n",
       "| Y |  7009976 | G | A | 0 | 1 | NA | NA |\n",
       "| Y | 17170659 | G | A | 1 | 0 | NA | NA |\n",
       "| Y | 14794843 | C | T | 0 | 1 | NA | NA |\n",
       "| Y |  6762288 | G | A | 0 | 1 | NA | NA |\n",
       "| Y | 23761973 | G | A | 0 | 1 | NA | NA |\n",
       "| Y | 15593301 | A | G | 0 | 1 | NA | NA |\n",
       "\n"
      ],
      "text/plain": [
       "   chrom pos      REF ALT baq nobaq cons tol\n",
       "1  Y     21570706 G   A   0   1     NA   NA \n",
       "2  Y     17097106 C   T   0   1     NA   NA \n",
       "3  Y     14533615 T   C   0   1     NA   NA \n",
       "4  Y      7146238 G   A   0   1     NA   NA \n",
       "5  Y     13206359 G   A   0   1     NA   NA \n",
       "6  Y     15021654 C   T   0   1     NA   NA \n",
       "7  Y     15494975 G   A   0   1     NA   NA \n",
       "8  Y     19471407 C   T   0   1     NA   NA \n",
       "9  Y     19119665 G   A   0   1     NA   NA \n",
       "10 Y      7054697 G   A   0   1     NA   NA \n",
       "11 Y     19258051 G   A   0   1     NA   NA \n",
       "12 Y      3718595 T   G   0   1     NA   NA \n",
       "13 Y      7412044 C   T   0   1     NA   NA \n",
       "14 Y     17550404 G   A   0   1     NA   NA \n",
       "15 Y      7009976 G   A   0   1     NA   NA \n",
       "16 Y     17170659 G   A   1   0     NA   NA \n",
       "17 Y     14794843 C   T   0   1     NA   NA \n",
       "18 Y      6762288 G   A   0   1     NA   NA \n",
       "19 Y     23761973 G   A   0   1     NA   NA \n",
       "20 Y     15593301 A   G   0   1     NA   NA "
      ]
     },
     "metadata": {},
     "output_type": "display_data"
    }
   ],
   "source": [
    "filter(den8, baq != nobaq) %>% sample_n(20)"
   ]
  },
  {
   "cell_type": "code",
   "execution_count": 28,
   "metadata": {},
   "outputs": [
    {
     "data": {
      "text/html": [
       "<table>\n",
       "<caption>A grouped_df: 2 × 3</caption>\n",
       "<thead>\n",
       "\t<tr><th scope=col>baq</th><th scope=col>nobaq</th><th scope=col>n</th></tr>\n",
       "\t<tr><th scope=col>&lt;dbl&gt;</th><th scope=col>&lt;dbl&gt;</th><th scope=col>&lt;int&gt;</th></tr>\n",
       "</thead>\n",
       "<tbody>\n",
       "\t<tr><td>0</td><td>1</td><td>224</td></tr>\n",
       "\t<tr><td>1</td><td>0</td><td> 11</td></tr>\n",
       "</tbody>\n",
       "</table>\n"
      ],
      "text/latex": [
       "A grouped_df: 2 × 3\n",
       "\\begin{tabular}{r|lll}\n",
       " baq & nobaq & n\\\\\n",
       " <dbl> & <dbl> & <int>\\\\\n",
       "\\hline\n",
       "\t 0 & 1 & 224\\\\\n",
       "\t 1 & 0 &  11\\\\\n",
       "\\end{tabular}\n"
      ],
      "text/markdown": [
       "\n",
       "A grouped_df: 2 × 3\n",
       "\n",
       "| baq &lt;dbl&gt; | nobaq &lt;dbl&gt; | n &lt;int&gt; |\n",
       "|---|---|---|\n",
       "| 0 | 1 | 224 |\n",
       "| 1 | 0 |  11 |\n",
       "\n"
      ],
      "text/plain": [
       "  baq nobaq n  \n",
       "1 0   1     224\n",
       "2 1   0      11"
      ]
     },
     "metadata": {},
     "output_type": "display_data"
    }
   ],
   "source": [
    "filter(den8, baq != nobaq) %>% group_by(baq, nobaq) %>% tally"
   ]
  },
  {
   "cell_type": "code",
   "execution_count": 29,
   "metadata": {},
   "outputs": [
    {
     "data": {
      "text/html": [
       "<table>\n",
       "<caption>A tibble: 0 × 8</caption>\n",
       "<thead>\n",
       "\t<tr><th scope=col>chrom</th><th scope=col>pos</th><th scope=col>REF</th><th scope=col>ALT</th><th scope=col>baq</th><th scope=col>nobaq</th><th scope=col>cons</th><th scope=col>tol</th></tr>\n",
       "\t<tr><th scope=col>&lt;chr&gt;</th><th scope=col>&lt;int&gt;</th><th scope=col>&lt;chr&gt;</th><th scope=col>&lt;chr&gt;</th><th scope=col>&lt;dbl&gt;</th><th scope=col>&lt;dbl&gt;</th><th scope=col>&lt;dbl&gt;</th><th scope=col>&lt;dbl&gt;</th></tr>\n",
       "</thead>\n",
       "<tbody>\n",
       "</tbody>\n",
       "</table>\n"
      ],
      "text/latex": [
       "A tibble: 0 × 8\n",
       "\\begin{tabular}{r|llllllll}\n",
       " chrom & pos & REF & ALT & baq & nobaq & cons & tol\\\\\n",
       " <chr> & <int> & <chr> & <chr> & <dbl> & <dbl> & <dbl> & <dbl>\\\\\n",
       "\\hline\n",
       "\\end{tabular}\n"
      ],
      "text/markdown": [
       "\n",
       "A tibble: 0 × 8\n",
       "\n",
       "| chrom &lt;chr&gt; | pos &lt;int&gt; | REF &lt;chr&gt; | ALT &lt;chr&gt; | baq &lt;dbl&gt; | nobaq &lt;dbl&gt; | cons &lt;dbl&gt; | tol &lt;dbl&gt; |\n",
       "|---|---|---|---|---|---|---|---|\n",
       "\n"
      ],
      "text/plain": [
       "     chrom pos REF ALT baq nobaq cons tol"
      ]
     },
     "metadata": {},
     "output_type": "display_data"
    }
   ],
   "source": [
    "filter(den8, cons != tol)"
   ]
  },
  {
   "cell_type": "code",
   "execution_count": 30,
   "metadata": {},
   "outputs": [
    {
     "data": {
      "text/html": [
       "<table>\n",
       "<caption>A tibble: 6 × 8</caption>\n",
       "<thead>\n",
       "\t<tr><th scope=col>chrom</th><th scope=col>pos</th><th scope=col>REF</th><th scope=col>ALT</th><th scope=col>baq</th><th scope=col>nobaq</th><th scope=col>cons</th><th scope=col>tol</th></tr>\n",
       "\t<tr><th scope=col>&lt;chr&gt;</th><th scope=col>&lt;int&gt;</th><th scope=col>&lt;chr&gt;</th><th scope=col>&lt;chr&gt;</th><th scope=col>&lt;dbl&gt;</th><th scope=col>&lt;dbl&gt;</th><th scope=col>&lt;dbl&gt;</th><th scope=col>&lt;dbl&gt;</th></tr>\n",
       "</thead>\n",
       "<tbody>\n",
       "\t<tr><td>Y</td><td> 8396636</td><td>A</td><td>G</td><td>1</td><td>1</td><td>NA</td><td>1</td></tr>\n",
       "\t<tr><td>Y</td><td>17517362</td><td>A</td><td>G</td><td>1</td><td>1</td><td>NA</td><td>1</td></tr>\n",
       "\t<tr><td>Y</td><td>18759298</td><td>A</td><td>G</td><td>1</td><td>1</td><td>NA</td><td>1</td></tr>\n",
       "\t<tr><td>Y</td><td> 9640642</td><td>C</td><td> </td><td>0</td><td>0</td><td>NA</td><td>0</td></tr>\n",
       "\t<tr><td>Y</td><td> 8859053</td><td>C</td><td> </td><td>0</td><td>0</td><td>NA</td><td>0</td></tr>\n",
       "\t<tr><td>Y</td><td>15689844</td><td>A</td><td> </td><td>0</td><td>0</td><td>NA</td><td>0</td></tr>\n",
       "</tbody>\n",
       "</table>\n"
      ],
      "text/latex": [
       "A tibble: 6 × 8\n",
       "\\begin{tabular}{r|llllllll}\n",
       " chrom & pos & REF & ALT & baq & nobaq & cons & tol\\\\\n",
       " <chr> & <int> & <chr> & <chr> & <dbl> & <dbl> & <dbl> & <dbl>\\\\\n",
       "\\hline\n",
       "\t Y &  8396636 & A & G & 1 & 1 & NA & 1\\\\\n",
       "\t Y & 17517362 & A & G & 1 & 1 & NA & 1\\\\\n",
       "\t Y & 18759298 & A & G & 1 & 1 & NA & 1\\\\\n",
       "\t Y &  9640642 & C &   & 0 & 0 & NA & 0\\\\\n",
       "\t Y &  8859053 & C &   & 0 & 0 & NA & 0\\\\\n",
       "\t Y & 15689844 & A &   & 0 & 0 & NA & 0\\\\\n",
       "\\end{tabular}\n"
      ],
      "text/markdown": [
       "\n",
       "A tibble: 6 × 8\n",
       "\n",
       "| chrom &lt;chr&gt; | pos &lt;int&gt; | REF &lt;chr&gt; | ALT &lt;chr&gt; | baq &lt;dbl&gt; | nobaq &lt;dbl&gt; | cons &lt;dbl&gt; | tol &lt;dbl&gt; |\n",
       "|---|---|---|---|---|---|---|---|\n",
       "| Y |  8396636 | A | G | 1 | 1 | NA | 1 |\n",
       "| Y | 17517362 | A | G | 1 | 1 | NA | 1 |\n",
       "| Y | 18759298 | A | G | 1 | 1 | NA | 1 |\n",
       "| Y |  9640642 | C | <!----> | 0 | 0 | NA | 0 |\n",
       "| Y |  8859053 | C | <!----> | 0 | 0 | NA | 0 |\n",
       "| Y | 15689844 | A | <!----> | 0 | 0 | NA | 0 |\n",
       "\n"
      ],
      "text/plain": [
       "  chrom pos      REF ALT baq nobaq cons tol\n",
       "1 Y      8396636 A   G   1   1     NA   1  \n",
       "2 Y     17517362 A   G   1   1     NA   1  \n",
       "3 Y     18759298 A   G   1   1     NA   1  \n",
       "4 Y      9640642 C       0   0     NA   0  \n",
       "5 Y      8859053 C       0   0     NA   0  \n",
       "6 Y     15689844 A       0   0     NA   0  "
      ]
     },
     "metadata": {},
     "output_type": "display_data"
    }
   ],
   "source": [
    "filter(den8, is.na(cons) & !(is.na(cons) & is.na(tol))) %>%\n",
    "    group_by(alts = ALT == \"\") %>% sample_n(3) %>% ungroup %>% select(-alts)"
   ]
  },
  {
   "cell_type": "markdown",
   "metadata": {},
   "source": [
    "# Spy 1 (low coverage archaic, even more extreme case)\n",
    "\n",
    "At 90% consensus cutoff we expect the lower coverage genotypes to be the same as strict 100% consensus."
   ]
  },
  {
   "cell_type": "code",
   "execution_count": 31,
   "metadata": {},
   "outputs": [
    {
     "data": {
      "text/html": [
       "3559111"
      ],
      "text/latex": [
       "3559111"
      ],
      "text/markdown": [
       "3559111"
      ],
      "text/plain": [
       "[1] 3559111"
      ]
     },
     "metadata": {},
     "output_type": "display_data"
    }
   ],
   "source": [
    "read_vcf(here(\"test/spy1_baq.vcf.gz\"), mindp = 3, maxdp = 0.98) %>% nrow"
   ]
  },
  {
   "cell_type": "code",
   "execution_count": 32,
   "metadata": {},
   "outputs": [
    {
     "data": {
      "text/html": [
       "3559111"
      ],
      "text/latex": [
       "3559111"
      ],
      "text/markdown": [
       "3559111"
      ],
      "text/plain": [
       "[1] 3559111"
      ]
     },
     "metadata": {},
     "output_type": "display_data"
    }
   ],
   "source": [
    "read_vcf(here(\"test/spy1_nobaq.vcf.gz\"), mindp = 3, maxdp = 0.98) %>% nrow"
   ]
  },
  {
   "cell_type": "code",
   "execution_count": 33,
   "metadata": {},
   "outputs": [
    {
     "data": {
      "text/html": [
       "3502296"
      ],
      "text/latex": [
       "3502296"
      ],
      "text/markdown": [
       "3502296"
      ],
      "text/plain": [
       "[1] 3502296"
      ]
     },
     "metadata": {},
     "output_type": "display_data"
    }
   ],
   "source": [
    "read_vcf(here(\"test/spy1_consensus.vcf.gz\"), mindp = 3, maxdp = 0.98) %>% nrow"
   ]
  },
  {
   "cell_type": "code",
   "execution_count": 34,
   "metadata": {},
   "outputs": [
    {
     "data": {
      "text/html": [
       "3502527"
      ],
      "text/latex": [
       "3502527"
      ],
      "text/markdown": [
       "3502527"
      ],
      "text/plain": [
       "[1] 3502527"
      ]
     },
     "metadata": {},
     "output_type": "display_data"
    }
   ],
   "source": [
    "read_vcf(here(\"test/spy1_tolerance.vcf.gz\"), mindp = 3, maxdp = 0.98) %>% nrow"
   ]
  },
  {
   "cell_type": "code",
   "execution_count": 35,
   "metadata": {},
   "outputs": [],
   "source": [
    "spy1 <- read_vcf(here(\"test/genotyping_spy1.vcf.gz\"), mindp = 3, maxdp = 0.98) %>%\n",
    "    filter(!is.na(baq) | !is.na(nobaq) | !is.na(cons) | !is.na(tol))"
   ]
  },
  {
   "cell_type": "code",
   "execution_count": 36,
   "metadata": {},
   "outputs": [
    {
     "data": {
      "text/html": [
       "611901"
      ],
      "text/latex": [
       "611901"
      ],
      "text/markdown": [
       "611901"
      ],
      "text/plain": [
       "[1] 611901"
      ]
     },
     "metadata": {},
     "output_type": "display_data"
    }
   ],
   "source": [
    "nrow(spy1)"
   ]
  },
  {
   "cell_type": "code",
   "execution_count": 37,
   "metadata": {},
   "outputs": [
    {
     "data": {
      "text/html": [
       "<table>\n",
       "<caption>A tibble: 20 × 8</caption>\n",
       "<thead>\n",
       "\t<tr><th scope=col>chrom</th><th scope=col>pos</th><th scope=col>REF</th><th scope=col>ALT</th><th scope=col>baq</th><th scope=col>nobaq</th><th scope=col>cons</th><th scope=col>tol</th></tr>\n",
       "\t<tr><th scope=col>&lt;chr&gt;</th><th scope=col>&lt;int&gt;</th><th scope=col>&lt;chr&gt;</th><th scope=col>&lt;chr&gt;</th><th scope=col>&lt;dbl&gt;</th><th scope=col>&lt;dbl&gt;</th><th scope=col>&lt;dbl&gt;</th><th scope=col>&lt;dbl&gt;</th></tr>\n",
       "</thead>\n",
       "<tbody>\n",
       "\t<tr><td>Y</td><td>17180462</td><td>C</td><td>T</td><td>0</td><td>1</td><td>NA</td><td>NA</td></tr>\n",
       "\t<tr><td>Y</td><td> 8299933</td><td>G</td><td>T</td><td>0</td><td>1</td><td>NA</td><td>NA</td></tr>\n",
       "\t<tr><td>Y</td><td>15315939</td><td>G</td><td>A</td><td>0</td><td>1</td><td>NA</td><td>NA</td></tr>\n",
       "\t<tr><td>Y</td><td>21843326</td><td>G</td><td>A</td><td>1</td><td>0</td><td>NA</td><td>NA</td></tr>\n",
       "\t<tr><td>Y</td><td>22748900</td><td>C</td><td>T</td><td>0</td><td>1</td><td>NA</td><td>NA</td></tr>\n",
       "\t<tr><td>Y</td><td>15241736</td><td>G</td><td>A</td><td>0</td><td>1</td><td>NA</td><td>NA</td></tr>\n",
       "\t<tr><td>Y</td><td>21242313</td><td>C</td><td>T</td><td>0</td><td>1</td><td>NA</td><td>NA</td></tr>\n",
       "\t<tr><td>Y</td><td>18184489</td><td>C</td><td>G</td><td>0</td><td>1</td><td>NA</td><td>NA</td></tr>\n",
       "\t<tr><td>Y</td><td> 8707564</td><td>G</td><td>A</td><td>0</td><td>1</td><td>NA</td><td>NA</td></tr>\n",
       "\t<tr><td>Y</td><td> 2740233</td><td>C</td><td>T</td><td>0</td><td>1</td><td>NA</td><td>NA</td></tr>\n",
       "\t<tr><td>Y</td><td>23030051</td><td>C</td><td>T</td><td>0</td><td>1</td><td>NA</td><td>NA</td></tr>\n",
       "\t<tr><td>Y</td><td> 7720986</td><td>C</td><td>T</td><td>0</td><td>1</td><td>NA</td><td>NA</td></tr>\n",
       "\t<tr><td>Y</td><td>15833781</td><td>G</td><td>A</td><td>1</td><td>0</td><td>NA</td><td>NA</td></tr>\n",
       "\t<tr><td>Y</td><td>17906889</td><td>G</td><td>A</td><td>0</td><td>1</td><td>NA</td><td>NA</td></tr>\n",
       "\t<tr><td>Y</td><td> 7682667</td><td>G</td><td>A</td><td>0</td><td>1</td><td>NA</td><td>NA</td></tr>\n",
       "\t<tr><td>Y</td><td>18831943</td><td>G</td><td>A</td><td>0</td><td>1</td><td>NA</td><td>NA</td></tr>\n",
       "\t<tr><td>Y</td><td> 8597913</td><td>C</td><td>T</td><td>0</td><td>1</td><td>NA</td><td>NA</td></tr>\n",
       "\t<tr><td>Y</td><td>18126700</td><td>G</td><td>A</td><td>0</td><td>1</td><td>NA</td><td>NA</td></tr>\n",
       "\t<tr><td>Y</td><td>19519649</td><td>C</td><td>T</td><td>0</td><td>1</td><td>NA</td><td>NA</td></tr>\n",
       "\t<tr><td>Y</td><td> 7135630</td><td>C</td><td>A</td><td>0</td><td>1</td><td>NA</td><td>NA</td></tr>\n",
       "</tbody>\n",
       "</table>\n"
      ],
      "text/latex": [
       "A tibble: 20 × 8\n",
       "\\begin{tabular}{r|llllllll}\n",
       " chrom & pos & REF & ALT & baq & nobaq & cons & tol\\\\\n",
       " <chr> & <int> & <chr> & <chr> & <dbl> & <dbl> & <dbl> & <dbl>\\\\\n",
       "\\hline\n",
       "\t Y & 17180462 & C & T & 0 & 1 & NA & NA\\\\\n",
       "\t Y &  8299933 & G & T & 0 & 1 & NA & NA\\\\\n",
       "\t Y & 15315939 & G & A & 0 & 1 & NA & NA\\\\\n",
       "\t Y & 21843326 & G & A & 1 & 0 & NA & NA\\\\\n",
       "\t Y & 22748900 & C & T & 0 & 1 & NA & NA\\\\\n",
       "\t Y & 15241736 & G & A & 0 & 1 & NA & NA\\\\\n",
       "\t Y & 21242313 & C & T & 0 & 1 & NA & NA\\\\\n",
       "\t Y & 18184489 & C & G & 0 & 1 & NA & NA\\\\\n",
       "\t Y &  8707564 & G & A & 0 & 1 & NA & NA\\\\\n",
       "\t Y &  2740233 & C & T & 0 & 1 & NA & NA\\\\\n",
       "\t Y & 23030051 & C & T & 0 & 1 & NA & NA\\\\\n",
       "\t Y &  7720986 & C & T & 0 & 1 & NA & NA\\\\\n",
       "\t Y & 15833781 & G & A & 1 & 0 & NA & NA\\\\\n",
       "\t Y & 17906889 & G & A & 0 & 1 & NA & NA\\\\\n",
       "\t Y &  7682667 & G & A & 0 & 1 & NA & NA\\\\\n",
       "\t Y & 18831943 & G & A & 0 & 1 & NA & NA\\\\\n",
       "\t Y &  8597913 & C & T & 0 & 1 & NA & NA\\\\\n",
       "\t Y & 18126700 & G & A & 0 & 1 & NA & NA\\\\\n",
       "\t Y & 19519649 & C & T & 0 & 1 & NA & NA\\\\\n",
       "\t Y &  7135630 & C & A & 0 & 1 & NA & NA\\\\\n",
       "\\end{tabular}\n"
      ],
      "text/markdown": [
       "\n",
       "A tibble: 20 × 8\n",
       "\n",
       "| chrom &lt;chr&gt; | pos &lt;int&gt; | REF &lt;chr&gt; | ALT &lt;chr&gt; | baq &lt;dbl&gt; | nobaq &lt;dbl&gt; | cons &lt;dbl&gt; | tol &lt;dbl&gt; |\n",
       "|---|---|---|---|---|---|---|---|\n",
       "| Y | 17180462 | C | T | 0 | 1 | NA | NA |\n",
       "| Y |  8299933 | G | T | 0 | 1 | NA | NA |\n",
       "| Y | 15315939 | G | A | 0 | 1 | NA | NA |\n",
       "| Y | 21843326 | G | A | 1 | 0 | NA | NA |\n",
       "| Y | 22748900 | C | T | 0 | 1 | NA | NA |\n",
       "| Y | 15241736 | G | A | 0 | 1 | NA | NA |\n",
       "| Y | 21242313 | C | T | 0 | 1 | NA | NA |\n",
       "| Y | 18184489 | C | G | 0 | 1 | NA | NA |\n",
       "| Y |  8707564 | G | A | 0 | 1 | NA | NA |\n",
       "| Y |  2740233 | C | T | 0 | 1 | NA | NA |\n",
       "| Y | 23030051 | C | T | 0 | 1 | NA | NA |\n",
       "| Y |  7720986 | C | T | 0 | 1 | NA | NA |\n",
       "| Y | 15833781 | G | A | 1 | 0 | NA | NA |\n",
       "| Y | 17906889 | G | A | 0 | 1 | NA | NA |\n",
       "| Y |  7682667 | G | A | 0 | 1 | NA | NA |\n",
       "| Y | 18831943 | G | A | 0 | 1 | NA | NA |\n",
       "| Y |  8597913 | C | T | 0 | 1 | NA | NA |\n",
       "| Y | 18126700 | G | A | 0 | 1 | NA | NA |\n",
       "| Y | 19519649 | C | T | 0 | 1 | NA | NA |\n",
       "| Y |  7135630 | C | A | 0 | 1 | NA | NA |\n",
       "\n"
      ],
      "text/plain": [
       "   chrom pos      REF ALT baq nobaq cons tol\n",
       "1  Y     17180462 C   T   0   1     NA   NA \n",
       "2  Y      8299933 G   T   0   1     NA   NA \n",
       "3  Y     15315939 G   A   0   1     NA   NA \n",
       "4  Y     21843326 G   A   1   0     NA   NA \n",
       "5  Y     22748900 C   T   0   1     NA   NA \n",
       "6  Y     15241736 G   A   0   1     NA   NA \n",
       "7  Y     21242313 C   T   0   1     NA   NA \n",
       "8  Y     18184489 C   G   0   1     NA   NA \n",
       "9  Y      8707564 G   A   0   1     NA   NA \n",
       "10 Y      2740233 C   T   0   1     NA   NA \n",
       "11 Y     23030051 C   T   0   1     NA   NA \n",
       "12 Y      7720986 C   T   0   1     NA   NA \n",
       "13 Y     15833781 G   A   1   0     NA   NA \n",
       "14 Y     17906889 G   A   0   1     NA   NA \n",
       "15 Y      7682667 G   A   0   1     NA   NA \n",
       "16 Y     18831943 G   A   0   1     NA   NA \n",
       "17 Y      8597913 C   T   0   1     NA   NA \n",
       "18 Y     18126700 G   A   0   1     NA   NA \n",
       "19 Y     19519649 C   T   0   1     NA   NA \n",
       "20 Y      7135630 C   A   0   1     NA   NA "
      ]
     },
     "metadata": {},
     "output_type": "display_data"
    }
   ],
   "source": [
    "filter(spy1, baq != nobaq) %>% sample_n(20)"
   ]
  },
  {
   "cell_type": "code",
   "execution_count": 38,
   "metadata": {},
   "outputs": [
    {
     "data": {
      "text/html": [
       "<table>\n",
       "<caption>A grouped_df: 2 × 3</caption>\n",
       "<thead>\n",
       "\t<tr><th scope=col>baq</th><th scope=col>nobaq</th><th scope=col>n</th></tr>\n",
       "\t<tr><th scope=col>&lt;dbl&gt;</th><th scope=col>&lt;dbl&gt;</th><th scope=col>&lt;int&gt;</th></tr>\n",
       "</thead>\n",
       "<tbody>\n",
       "\t<tr><td>0</td><td>1</td><td>61</td></tr>\n",
       "\t<tr><td>1</td><td>0</td><td>14</td></tr>\n",
       "</tbody>\n",
       "</table>\n"
      ],
      "text/latex": [
       "A grouped_df: 2 × 3\n",
       "\\begin{tabular}{r|lll}\n",
       " baq & nobaq & n\\\\\n",
       " <dbl> & <dbl> & <int>\\\\\n",
       "\\hline\n",
       "\t 0 & 1 & 61\\\\\n",
       "\t 1 & 0 & 14\\\\\n",
       "\\end{tabular}\n"
      ],
      "text/markdown": [
       "\n",
       "A grouped_df: 2 × 3\n",
       "\n",
       "| baq &lt;dbl&gt; | nobaq &lt;dbl&gt; | n &lt;int&gt; |\n",
       "|---|---|---|\n",
       "| 0 | 1 | 61 |\n",
       "| 1 | 0 | 14 |\n",
       "\n"
      ],
      "text/plain": [
       "  baq nobaq n \n",
       "1 0   1     61\n",
       "2 1   0     14"
      ]
     },
     "metadata": {},
     "output_type": "display_data"
    }
   ],
   "source": [
    "filter(spy1, baq != nobaq) %>% group_by(baq, nobaq) %>% tally"
   ]
  },
  {
   "cell_type": "code",
   "execution_count": 39,
   "metadata": {},
   "outputs": [
    {
     "data": {
      "text/html": [
       "<table>\n",
       "<caption>A tibble: 0 × 8</caption>\n",
       "<thead>\n",
       "\t<tr><th scope=col>chrom</th><th scope=col>pos</th><th scope=col>REF</th><th scope=col>ALT</th><th scope=col>baq</th><th scope=col>nobaq</th><th scope=col>cons</th><th scope=col>tol</th></tr>\n",
       "\t<tr><th scope=col>&lt;chr&gt;</th><th scope=col>&lt;int&gt;</th><th scope=col>&lt;chr&gt;</th><th scope=col>&lt;chr&gt;</th><th scope=col>&lt;dbl&gt;</th><th scope=col>&lt;dbl&gt;</th><th scope=col>&lt;dbl&gt;</th><th scope=col>&lt;dbl&gt;</th></tr>\n",
       "</thead>\n",
       "<tbody>\n",
       "</tbody>\n",
       "</table>\n"
      ],
      "text/latex": [
       "A tibble: 0 × 8\n",
       "\\begin{tabular}{r|llllllll}\n",
       " chrom & pos & REF & ALT & baq & nobaq & cons & tol\\\\\n",
       " <chr> & <int> & <chr> & <chr> & <dbl> & <dbl> & <dbl> & <dbl>\\\\\n",
       "\\hline\n",
       "\\end{tabular}\n"
      ],
      "text/markdown": [
       "\n",
       "A tibble: 0 × 8\n",
       "\n",
       "| chrom &lt;chr&gt; | pos &lt;int&gt; | REF &lt;chr&gt; | ALT &lt;chr&gt; | baq &lt;dbl&gt; | nobaq &lt;dbl&gt; | cons &lt;dbl&gt; | tol &lt;dbl&gt; |\n",
       "|---|---|---|---|---|---|---|---|\n",
       "\n"
      ],
      "text/plain": [
       "     chrom pos REF ALT baq nobaq cons tol"
      ]
     },
     "metadata": {},
     "output_type": "display_data"
    }
   ],
   "source": [
    "filter(spy1, cons != tol)"
   ]
  },
  {
   "cell_type": "code",
   "execution_count": 40,
   "metadata": {},
   "outputs": [
    {
     "data": {
      "text/html": [
       "<table>\n",
       "<caption>A tibble: 0 × 8</caption>\n",
       "<thead>\n",
       "\t<tr><th scope=col>chrom</th><th scope=col>pos</th><th scope=col>REF</th><th scope=col>ALT</th><th scope=col>baq</th><th scope=col>nobaq</th><th scope=col>cons</th><th scope=col>tol</th></tr>\n",
       "\t<tr><th scope=col>&lt;chr&gt;</th><th scope=col>&lt;int&gt;</th><th scope=col>&lt;chr&gt;</th><th scope=col>&lt;chr&gt;</th><th scope=col>&lt;dbl&gt;</th><th scope=col>&lt;dbl&gt;</th><th scope=col>&lt;dbl&gt;</th><th scope=col>&lt;dbl&gt;</th></tr>\n",
       "</thead>\n",
       "<tbody>\n",
       "</tbody>\n",
       "</table>\n"
      ],
      "text/latex": [
       "A tibble: 0 × 8\n",
       "\\begin{tabular}{r|llllllll}\n",
       " chrom & pos & REF & ALT & baq & nobaq & cons & tol\\\\\n",
       " <chr> & <int> & <chr> & <chr> & <dbl> & <dbl> & <dbl> & <dbl>\\\\\n",
       "\\hline\n",
       "\\end{tabular}\n"
      ],
      "text/markdown": [
       "\n",
       "A tibble: 0 × 8\n",
       "\n",
       "| chrom &lt;chr&gt; | pos &lt;int&gt; | REF &lt;chr&gt; | ALT &lt;chr&gt; | baq &lt;dbl&gt; | nobaq &lt;dbl&gt; | cons &lt;dbl&gt; | tol &lt;dbl&gt; |\n",
       "|---|---|---|---|---|---|---|---|\n",
       "\n"
      ],
      "text/plain": [
       "     chrom pos REF ALT baq nobaq cons tol"
      ]
     },
     "metadata": {},
     "output_type": "display_data"
    }
   ],
   "source": [
    "filter(spy1, is.na(cons) & !(is.na(cons) & is.na(tol))) %>%\n",
    "    group_by(alts = ALT == \"\") %>% sample_n(10) %>% ungroup %>% select(-alts)"
   ]
  }
 ],
 "metadata": {
  "kernelspec": {
   "display_name": "R",
   "language": "R",
   "name": "ir"
  },
  "language_info": {
   "codemirror_mode": "r",
   "file_extension": ".r",
   "mimetype": "text/x-r-source",
   "name": "R",
   "pygments_lexer": "r",
   "version": "3.6.0"
  }
 },
 "nbformat": 4,
 "nbformat_minor": 2
}
