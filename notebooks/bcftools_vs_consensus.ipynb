{
 "cells": [
  {
   "cell_type": "markdown",
   "metadata": {},
   "source": [
    "# Test the consistency between bcftools calls and my own consensus caller"
   ]
  },
  {
   "cell_type": "markdown",
   "metadata": {},
   "source": [
    "Given how easy it is to genotype Y chromosomes, there shouldn't be significant differences between consensus calling and bcftools genotypes. Let's make sure of that."
   ]
  },
  {
   "cell_type": "code",
   "execution_count": 1,
   "metadata": {},
   "outputs": [
    {
     "name": "stderr",
     "output_type": "stream",
     "text": [
      "── \u001b[1mAttaching packages\u001b[22m ─────────────────────────────────────── tidyverse 1.2.1 ──\n",
      "\u001b[32m✔\u001b[39m \u001b[34mggplot2\u001b[39m 3.2.1     \u001b[32m✔\u001b[39m \u001b[34mpurrr  \u001b[39m 0.3.2\n",
      "\u001b[32m✔\u001b[39m \u001b[34mtibble \u001b[39m 2.1.3     \u001b[32m✔\u001b[39m \u001b[34mdplyr  \u001b[39m 0.8.3\n",
      "\u001b[32m✔\u001b[39m \u001b[34mtidyr  \u001b[39m 1.0.0     \u001b[32m✔\u001b[39m \u001b[34mstringr\u001b[39m 1.4.0\n",
      "\u001b[32m✔\u001b[39m \u001b[34mreadr  \u001b[39m 1.3.1     \u001b[32m✔\u001b[39m \u001b[34mforcats\u001b[39m 0.4.0\n",
      "── \u001b[1mConflicts\u001b[22m ────────────────────────────────────────── tidyverse_conflicts() ──\n",
      "\u001b[31m✖\u001b[39m \u001b[34mdplyr\u001b[39m::\u001b[32mfilter()\u001b[39m masks \u001b[34mstats\u001b[39m::filter()\n",
      "\u001b[31m✖\u001b[39m \u001b[34mdplyr\u001b[39m::\u001b[32mlag()\u001b[39m    masks \u001b[34mstats\u001b[39m::lag()\n",
      "here() starts at /mnt/expressions/mp/ychr\n",
      "Loading ychr\n"
     ]
    }
   ],
   "source": [
    "library(tidyverse)\n",
    "library(here)\n",
    "\n",
    "devtools::load_all(\".\")"
   ]
  },
  {
   "cell_type": "code",
   "execution_count": 2,
   "metadata": {},
   "outputs": [],
   "source": [
    "gt <- read_vcf(here(\"data/vcf/test_bcftools.vcf.gz\"), mindp = 3, maxdp = 0.98)"
   ]
  },
  {
   "cell_type": "code",
   "execution_count": 3,
   "metadata": {},
   "outputs": [
    {
     "data": {
      "text/html": [
       "<table>\n",
       "<caption>A tibble: 6 × 12</caption>\n",
       "<thead>\n",
       "\t<tr><th scope=col>chrom</th><th scope=col>pos</th><th scope=col>REF</th><th scope=col>ALT</th><th scope=col>consensus_a00</th><th scope=col>bcftools_a00</th><th scope=col>consensus_den8</th><th scope=col>bcftools_den8</th><th scope=col>consensus_mez2</th><th scope=col>bcftools_mez2</th><th scope=col>consensus_ustishim</th><th scope=col>bcftools_ustishim</th></tr>\n",
       "\t<tr><th scope=col>&lt;chr&gt;</th><th scope=col>&lt;int&gt;</th><th scope=col>&lt;chr&gt;</th><th scope=col>&lt;chr&gt;</th><th scope=col>&lt;dbl&gt;</th><th scope=col>&lt;dbl&gt;</th><th scope=col>&lt;dbl&gt;</th><th scope=col>&lt;dbl&gt;</th><th scope=col>&lt;dbl&gt;</th><th scope=col>&lt;dbl&gt;</th><th scope=col>&lt;dbl&gt;</th><th scope=col>&lt;dbl&gt;</th></tr>\n",
       "</thead>\n",
       "<tbody>\n",
       "\t<tr><td>Y</td><td>2649955</td><td>G</td><td>A</td><td>0</td><td>0</td><td>NA</td><td>NA</td><td> 0</td><td> 0</td><td>0</td><td>0</td></tr>\n",
       "\t<tr><td>Y</td><td>2650264</td><td>G</td><td>A</td><td>0</td><td>0</td><td>NA</td><td>NA</td><td> 0</td><td> 0</td><td>0</td><td>0</td></tr>\n",
       "\t<tr><td>Y</td><td>2650414</td><td>T</td><td>C</td><td>1</td><td>1</td><td> 1</td><td> 1</td><td>NA</td><td> 1</td><td>0</td><td>0</td></tr>\n",
       "\t<tr><td>Y</td><td>2651013</td><td>G</td><td>A</td><td>0</td><td>0</td><td>NA</td><td>NA</td><td> 0</td><td> 0</td><td>0</td><td>0</td></tr>\n",
       "\t<tr><td>Y</td><td>2651287</td><td>G</td><td>A</td><td>0</td><td>0</td><td>NA</td><td>NA</td><td>NA</td><td>NA</td><td>0</td><td>0</td></tr>\n",
       "\t<tr><td>Y</td><td>2651289</td><td>G</td><td>A</td><td>0</td><td>0</td><td>NA</td><td>NA</td><td>NA</td><td>NA</td><td>0</td><td>0</td></tr>\n",
       "</tbody>\n",
       "</table>\n"
      ],
      "text/latex": [
       "A tibble: 6 × 12\n",
       "\\begin{tabular}{r|llllllllllll}\n",
       " chrom & pos & REF & ALT & consensus\\_a00 & bcftools\\_a00 & consensus\\_den8 & bcftools\\_den8 & consensus\\_mez2 & bcftools\\_mez2 & consensus\\_ustishim & bcftools\\_ustishim\\\\\n",
       " <chr> & <int> & <chr> & <chr> & <dbl> & <dbl> & <dbl> & <dbl> & <dbl> & <dbl> & <dbl> & <dbl>\\\\\n",
       "\\hline\n",
       "\t Y & 2649955 & G & A & 0 & 0 & NA & NA &  0 &  0 & 0 & 0\\\\\n",
       "\t Y & 2650264 & G & A & 0 & 0 & NA & NA &  0 &  0 & 0 & 0\\\\\n",
       "\t Y & 2650414 & T & C & 1 & 1 &  1 &  1 & NA &  1 & 0 & 0\\\\\n",
       "\t Y & 2651013 & G & A & 0 & 0 & NA & NA &  0 &  0 & 0 & 0\\\\\n",
       "\t Y & 2651287 & G & A & 0 & 0 & NA & NA & NA & NA & 0 & 0\\\\\n",
       "\t Y & 2651289 & G & A & 0 & 0 & NA & NA & NA & NA & 0 & 0\\\\\n",
       "\\end{tabular}\n"
      ],
      "text/markdown": [
       "\n",
       "A tibble: 6 × 12\n",
       "\n",
       "| chrom &lt;chr&gt; | pos &lt;int&gt; | REF &lt;chr&gt; | ALT &lt;chr&gt; | consensus_a00 &lt;dbl&gt; | bcftools_a00 &lt;dbl&gt; | consensus_den8 &lt;dbl&gt; | bcftools_den8 &lt;dbl&gt; | consensus_mez2 &lt;dbl&gt; | bcftools_mez2 &lt;dbl&gt; | consensus_ustishim &lt;dbl&gt; | bcftools_ustishim &lt;dbl&gt; |\n",
       "|---|---|---|---|---|---|---|---|---|---|---|---|\n",
       "| Y | 2649955 | G | A | 0 | 0 | NA | NA |  0 |  0 | 0 | 0 |\n",
       "| Y | 2650264 | G | A | 0 | 0 | NA | NA |  0 |  0 | 0 | 0 |\n",
       "| Y | 2650414 | T | C | 1 | 1 |  1 |  1 | NA |  1 | 0 | 0 |\n",
       "| Y | 2651013 | G | A | 0 | 0 | NA | NA |  0 |  0 | 0 | 0 |\n",
       "| Y | 2651287 | G | A | 0 | 0 | NA | NA | NA | NA | 0 | 0 |\n",
       "| Y | 2651289 | G | A | 0 | 0 | NA | NA | NA | NA | 0 | 0 |\n",
       "\n"
      ],
      "text/plain": [
       "  chrom pos     REF ALT consensus_a00 bcftools_a00 consensus_den8 bcftools_den8\n",
       "1 Y     2649955 G   A   0             0            NA             NA           \n",
       "2 Y     2650264 G   A   0             0            NA             NA           \n",
       "3 Y     2650414 T   C   1             1             1              1           \n",
       "4 Y     2651013 G   A   0             0            NA             NA           \n",
       "5 Y     2651287 G   A   0             0            NA             NA           \n",
       "6 Y     2651289 G   A   0             0            NA             NA           \n",
       "  consensus_mez2 bcftools_mez2 consensus_ustishim bcftools_ustishim\n",
       "1  0              0            0                  0                \n",
       "2  0              0            0                  0                \n",
       "3 NA              1            0                  0                \n",
       "4  0              0            0                  0                \n",
       "5 NA             NA            0                  0                \n",
       "6 NA             NA            0                  0                "
      ]
     },
     "metadata": {},
     "output_type": "display_data"
    }
   ],
   "source": [
    "head(gt)"
   ]
  },
  {
   "cell_type": "code",
   "execution_count": 4,
   "metadata": {},
   "outputs": [
    {
     "data": {
      "text/html": [
       "1"
      ],
      "text/latex": [
       "1"
      ],
      "text/markdown": [
       "1"
      ],
      "text/plain": [
       "[1] 1"
      ]
     },
     "metadata": {},
     "output_type": "display_data"
    }
   ],
   "source": [
    "mean(gt$bcftools_a00 == gt$consensus_a00, na.rm = TRUE)"
   ]
  },
  {
   "cell_type": "code",
   "execution_count": 5,
   "metadata": {},
   "outputs": [
    {
     "data": {
      "text/html": [
       "1"
      ],
      "text/latex": [
       "1"
      ],
      "text/markdown": [
       "1"
      ],
      "text/plain": [
       "[1] 1"
      ]
     },
     "metadata": {},
     "output_type": "display_data"
    }
   ],
   "source": [
    "mean(gt$bcftools_den8 == gt$consensus_den8, na.rm = TRUE)"
   ]
  },
  {
   "cell_type": "code",
   "execution_count": 6,
   "metadata": {},
   "outputs": [
    {
     "data": {
      "text/html": [
       "1"
      ],
      "text/latex": [
       "1"
      ],
      "text/markdown": [
       "1"
      ],
      "text/plain": [
       "[1] 1"
      ]
     },
     "metadata": {},
     "output_type": "display_data"
    }
   ],
   "source": [
    "mean(gt$bcftools_mez2 == gt$consensus_mez2, na.rm = TRUE)"
   ]
  },
  {
   "cell_type": "code",
   "execution_count": 7,
   "metadata": {},
   "outputs": [
    {
     "data": {
      "text/html": [
       "1"
      ],
      "text/latex": [
       "1"
      ],
      "text/markdown": [
       "1"
      ],
      "text/plain": [
       "[1] 1"
      ]
     },
     "metadata": {},
     "output_type": "display_data"
    }
   ],
   "source": [
    "mean(gt$bcftools_ustishim == gt$consensus_ustishim, na.rm = TRUE)"
   ]
  }
 ],
 "metadata": {
  "kernelspec": {
   "display_name": "R",
   "language": "R",
   "name": "ir"
  },
  "language_info": {
   "codemirror_mode": "r",
   "file_extension": ".r",
   "mimetype": "text/x-r-source",
   "name": "R",
   "pygments_lexer": "r",
   "version": "3.6.0"
  }
 },
 "nbformat": 4,
 "nbformat_minor": 2
}
