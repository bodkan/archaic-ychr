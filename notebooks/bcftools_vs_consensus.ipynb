{
 "cells": [
  {
   "cell_type": "markdown",
   "metadata": {},
   "source": [
    "# Test the consistency between bcftools calls and my own consensus caller"
   ]
  },
  {
   "cell_type": "markdown",
   "metadata": {},
   "source": [
    "The idea is to use the consensus script (more straightforward and easier to hack for potential aDNA issues), but it's good to use the comparison between both approaches to discover potential bugs and hidden issues in the data.\n",
    "\n",
    "Right now these issues appear to be fixed and both methods give the same results, as can be seen below."
   ]
  },
  {
   "cell_type": "code",
   "execution_count": 1,
   "metadata": {},
   "outputs": [],
   "source": [
    "suppressPackageStartupMessages({\n",
    "\n",
    "    library(VariantAnnotation)\n",
    "    library(tidyverse)\n",
    "    library(here)\n",
    "    library(bdkn)\n",
    "\n",
    "})"
   ]
  },
  {
   "cell_type": "code",
   "execution_count": 2,
   "metadata": {},
   "outputs": [],
   "source": [
    "vcf <- readVcf(here(\"data/vcf/test_gt.vcf.gz\"))"
   ]
  },
  {
   "cell_type": "code",
   "execution_count": 3,
   "metadata": {},
   "outputs": [],
   "source": [
    "gt_matrix <- geno(vcf)$GT %>% replace(. == \".\", NA)"
   ]
  },
  {
   "cell_type": "code",
   "execution_count": 4,
   "metadata": {},
   "outputs": [],
   "source": [
    "mode(gt_matrix) <- \"numeric\""
   ]
  },
  {
   "cell_type": "code",
   "execution_count": 5,
   "metadata": {},
   "outputs": [
    {
     "data": {
      "text/html": [
       "<table>\n",
       "<thead><tr><th></th><th scope=col>consensus_a00</th><th scope=col>bcftools_a00</th><th scope=col>consensus_denisova8</th><th scope=col>bcftools_denisova8</th><th scope=col>consensus_ustishim</th><th scope=col>bcftools_ustishim</th></tr></thead>\n",
       "<tbody>\n",
       "\t<tr><th scope=row>Y:2649955_G/A</th><td>0 </td><td>0 </td><td>NA</td><td>1 </td><td>0 </td><td>0 </td></tr>\n",
       "\t<tr><th scope=row>Y:2650264_G/A</th><td>0 </td><td>0 </td><td>NA</td><td>1 </td><td>0 </td><td>0 </td></tr>\n",
       "\t<tr><th scope=row>Y:2650414_T/C</th><td>1 </td><td>1 </td><td> 1</td><td>1 </td><td>0 </td><td>0 </td></tr>\n",
       "\t<tr><th scope=row>Y:2651013_G/A</th><td>0 </td><td>0 </td><td>NA</td><td>1 </td><td>0 </td><td>0 </td></tr>\n",
       "\t<tr><th scope=row>Y:2651421_C/T</th><td>0 </td><td>0 </td><td>NA</td><td>1 </td><td>0 </td><td>0 </td></tr>\n",
       "\t<tr><th scope=row>Y:2651422_C/T</th><td>0 </td><td>0 </td><td>NA</td><td>1 </td><td>0 </td><td>0 </td></tr>\n",
       "</tbody>\n",
       "</table>\n"
      ],
      "text/latex": [
       "\\begin{tabular}{r|llllll}\n",
       "  & consensus\\_a00 & bcftools\\_a00 & consensus\\_denisova8 & bcftools\\_denisova8 & consensus\\_ustishim & bcftools\\_ustishim\\\\\n",
       "\\hline\n",
       "\tY:2649955\\_G/A & 0  & 0  & NA & 1  & 0  & 0 \\\\\n",
       "\tY:2650264\\_G/A & 0  & 0  & NA & 1  & 0  & 0 \\\\\n",
       "\tY:2650414\\_T/C & 1  & 1  &  1 & 1  & 0  & 0 \\\\\n",
       "\tY:2651013\\_G/A & 0  & 0  & NA & 1  & 0  & 0 \\\\\n",
       "\tY:2651421\\_C/T & 0  & 0  & NA & 1  & 0  & 0 \\\\\n",
       "\tY:2651422\\_C/T & 0  & 0  & NA & 1  & 0  & 0 \\\\\n",
       "\\end{tabular}\n"
      ],
      "text/markdown": [
       "\n",
       "| <!--/--> | consensus_a00 | bcftools_a00 | consensus_denisova8 | bcftools_denisova8 | consensus_ustishim | bcftools_ustishim |\n",
       "|---|---|---|---|---|---|---|\n",
       "| Y:2649955_G/A | 0  | 0  | NA | 1  | 0  | 0  |\n",
       "| Y:2650264_G/A | 0  | 0  | NA | 1  | 0  | 0  |\n",
       "| Y:2650414_T/C | 1  | 1  |  1 | 1  | 0  | 0  |\n",
       "| Y:2651013_G/A | 0  | 0  | NA | 1  | 0  | 0  |\n",
       "| Y:2651421_C/T | 0  | 0  | NA | 1  | 0  | 0  |\n",
       "| Y:2651422_C/T | 0  | 0  | NA | 1  | 0  | 0  |\n",
       "\n"
      ],
      "text/plain": [
       "              consensus_a00 bcftools_a00 consensus_denisova8 bcftools_denisova8\n",
       "Y:2649955_G/A 0             0            NA                  1                 \n",
       "Y:2650264_G/A 0             0            NA                  1                 \n",
       "Y:2650414_T/C 1             1             1                  1                 \n",
       "Y:2651013_G/A 0             0            NA                  1                 \n",
       "Y:2651421_C/T 0             0            NA                  1                 \n",
       "Y:2651422_C/T 0             0            NA                  1                 \n",
       "              consensus_ustishim bcftools_ustishim\n",
       "Y:2649955_G/A 0                  0                \n",
       "Y:2650264_G/A 0                  0                \n",
       "Y:2650414_T/C 0                  0                \n",
       "Y:2651013_G/A 0                  0                \n",
       "Y:2651421_C/T 0                  0                \n",
       "Y:2651422_C/T 0                  0                "
      ]
     },
     "metadata": {},
     "output_type": "display_data"
    }
   ],
   "source": [
    "head(gt_matrix)"
   ]
  },
  {
   "cell_type": "code",
   "execution_count": 6,
   "metadata": {},
   "outputs": [],
   "source": [
    "gt <- as_tibble(gt_matrix, rownames = \"id\")"
   ]
  },
  {
   "cell_type": "code",
   "execution_count": 7,
   "metadata": {},
   "outputs": [
    {
     "data": {
      "text/html": [
       "<table>\n",
       "<thead><tr><th scope=col>id</th><th scope=col>consensus_a00</th><th scope=col>bcftools_a00</th><th scope=col>consensus_denisova8</th><th scope=col>bcftools_denisova8</th><th scope=col>consensus_ustishim</th><th scope=col>bcftools_ustishim</th></tr></thead>\n",
       "<tbody>\n",
       "\t<tr><td>Y:2649955_G/A</td><td>0            </td><td>0            </td><td>NA           </td><td>1            </td><td>0            </td><td>0            </td></tr>\n",
       "\t<tr><td>Y:2650264_G/A</td><td>0            </td><td>0            </td><td>NA           </td><td>1            </td><td>0            </td><td>0            </td></tr>\n",
       "\t<tr><td>Y:2650414_T/C</td><td>1            </td><td>1            </td><td> 1           </td><td>1            </td><td>0            </td><td>0            </td></tr>\n",
       "\t<tr><td>Y:2651013_G/A</td><td>0            </td><td>0            </td><td>NA           </td><td>1            </td><td>0            </td><td>0            </td></tr>\n",
       "\t<tr><td>Y:2651421_C/T</td><td>0            </td><td>0            </td><td>NA           </td><td>1            </td><td>0            </td><td>0            </td></tr>\n",
       "\t<tr><td>Y:2651422_C/T</td><td>0            </td><td>0            </td><td>NA           </td><td>1            </td><td>0            </td><td>0            </td></tr>\n",
       "</tbody>\n",
       "</table>\n"
      ],
      "text/latex": [
       "\\begin{tabular}{r|lllllll}\n",
       " id & consensus\\_a00 & bcftools\\_a00 & consensus\\_denisova8 & bcftools\\_denisova8 & consensus\\_ustishim & bcftools\\_ustishim\\\\\n",
       "\\hline\n",
       "\t Y:2649955\\_G/A & 0               & 0               & NA              & 1               & 0               & 0              \\\\\n",
       "\t Y:2650264\\_G/A & 0               & 0               & NA              & 1               & 0               & 0              \\\\\n",
       "\t Y:2650414\\_T/C & 1               & 1               &  1              & 1               & 0               & 0              \\\\\n",
       "\t Y:2651013\\_G/A & 0               & 0               & NA              & 1               & 0               & 0              \\\\\n",
       "\t Y:2651421\\_C/T & 0               & 0               & NA              & 1               & 0               & 0              \\\\\n",
       "\t Y:2651422\\_C/T & 0               & 0               & NA              & 1               & 0               & 0              \\\\\n",
       "\\end{tabular}\n"
      ],
      "text/markdown": [
       "\n",
       "| id | consensus_a00 | bcftools_a00 | consensus_denisova8 | bcftools_denisova8 | consensus_ustishim | bcftools_ustishim |\n",
       "|---|---|---|---|---|---|---|\n",
       "| Y:2649955_G/A | 0             | 0             | NA            | 1             | 0             | 0             |\n",
       "| Y:2650264_G/A | 0             | 0             | NA            | 1             | 0             | 0             |\n",
       "| Y:2650414_T/C | 1             | 1             |  1            | 1             | 0             | 0             |\n",
       "| Y:2651013_G/A | 0             | 0             | NA            | 1             | 0             | 0             |\n",
       "| Y:2651421_C/T | 0             | 0             | NA            | 1             | 0             | 0             |\n",
       "| Y:2651422_C/T | 0             | 0             | NA            | 1             | 0             | 0             |\n",
       "\n"
      ],
      "text/plain": [
       "  id            consensus_a00 bcftools_a00 consensus_denisova8\n",
       "1 Y:2649955_G/A 0             0            NA                 \n",
       "2 Y:2650264_G/A 0             0            NA                 \n",
       "3 Y:2650414_T/C 1             1             1                 \n",
       "4 Y:2651013_G/A 0             0            NA                 \n",
       "5 Y:2651421_C/T 0             0            NA                 \n",
       "6 Y:2651422_C/T 0             0            NA                 \n",
       "  bcftools_denisova8 consensus_ustishim bcftools_ustishim\n",
       "1 1                  0                  0                \n",
       "2 1                  0                  0                \n",
       "3 1                  0                  0                \n",
       "4 1                  0                  0                \n",
       "5 1                  0                  0                \n",
       "6 1                  0                  0                "
      ]
     },
     "metadata": {},
     "output_type": "display_data"
    }
   ],
   "source": [
    "head(gt)"
   ]
  },
  {
   "cell_type": "code",
   "execution_count": 8,
   "metadata": {},
   "outputs": [
    {
     "data": {
      "text/html": [
       "1"
      ],
      "text/latex": [
       "1"
      ],
      "text/markdown": [
       "1"
      ],
      "text/plain": [
       "[1] 1"
      ]
     },
     "metadata": {},
     "output_type": "display_data"
    }
   ],
   "source": [
    "mean(gt$bcftools_a00 == gt$consensus_a00, na.rm = TRUE)"
   ]
  },
  {
   "cell_type": "code",
   "execution_count": 9,
   "metadata": {},
   "outputs": [
    {
     "data": {
      "text/html": [
       "1"
      ],
      "text/latex": [
       "1"
      ],
      "text/markdown": [
       "1"
      ],
      "text/plain": [
       "[1] 1"
      ]
     },
     "metadata": {},
     "output_type": "display_data"
    }
   ],
   "source": [
    "mean(gt$bcftools_denisova8 == gt$consensus_denisova8, na.rm = TRUE)"
   ]
  },
  {
   "cell_type": "code",
   "execution_count": 10,
   "metadata": {},
   "outputs": [
    {
     "data": {
      "text/html": [
       "1"
      ],
      "text/latex": [
       "1"
      ],
      "text/markdown": [
       "1"
      ],
      "text/plain": [
       "[1] 1"
      ]
     },
     "metadata": {},
     "output_type": "display_data"
    }
   ],
   "source": [
    "mean(gt$bcftools_ustishim == gt$consensus_ustishim, na.rm = TRUE)"
   ]
  },
  {
   "cell_type": "code",
   "execution_count": null,
   "metadata": {},
   "outputs": [],
   "source": []
  },
  {
   "cell_type": "code",
   "execution_count": 11,
   "metadata": {},
   "outputs": [
    {
     "data": {
      "text/html": [
       "<table>\n",
       "<thead><tr><th scope=col>id</th><th scope=col>bcftools_denisova8</th><th scope=col>consensus_denisova8</th></tr></thead>\n",
       "<tbody>\n",
       "</tbody>\n",
       "</table>\n"
      ],
      "text/latex": [
       "\\begin{tabular}{r|lll}\n",
       " id & bcftools\\_denisova8 & consensus\\_denisova8\\\\\n",
       "\\hline\n",
       "\\end{tabular}\n"
      ],
      "text/markdown": [
       "\n",
       "| id | bcftools_denisova8 | consensus_denisova8 |\n",
       "|---|---|---|\n",
       "\n"
      ],
      "text/plain": [
       "     id bcftools_denisova8 consensus_denisova8"
      ]
     },
     "metadata": {},
     "output_type": "display_data"
    }
   ],
   "source": [
    "gt[, c(\"id\", \"bcftools_denisova8\", \"consensus_denisova8\")] %>%\n",
    ".[complete.cases(.), ] %>%\n",
    ".[(.$bcftools_denisova8 != .$consensus_denisova8), ]"
   ]
  },
  {
   "cell_type": "code",
   "execution_count": 12,
   "metadata": {},
   "outputs": [
    {
     "data": {
      "text/html": [
       "<table>\n",
       "<thead><tr><th scope=col>id</th><th scope=col>bcftools_a00</th><th scope=col>consensus_a00</th></tr></thead>\n",
       "<tbody>\n",
       "</tbody>\n",
       "</table>\n"
      ],
      "text/latex": [
       "\\begin{tabular}{r|lll}\n",
       " id & bcftools\\_a00 & consensus\\_a00\\\\\n",
       "\\hline\n",
       "\\end{tabular}\n"
      ],
      "text/markdown": [
       "\n",
       "| id | bcftools_a00 | consensus_a00 |\n",
       "|---|---|---|\n",
       "\n"
      ],
      "text/plain": [
       "     id bcftools_a00 consensus_a00"
      ]
     },
     "metadata": {},
     "output_type": "display_data"
    }
   ],
   "source": [
    "gt[, c(\"id\", \"bcftools_a00\", \"consensus_a00\")] %>%\n",
    ".[complete.cases(.), ] %>%\n",
    ".[(.$bcftools_a00 != .$consensus_a00), ]"
   ]
  },
  {
   "cell_type": "code",
   "execution_count": 13,
   "metadata": {},
   "outputs": [
    {
     "data": {
      "text/html": [
       "<table>\n",
       "<thead><tr><th scope=col>id</th><th scope=col>bcftools_ustishim</th><th scope=col>consensus_ustishim</th></tr></thead>\n",
       "<tbody>\n",
       "</tbody>\n",
       "</table>\n"
      ],
      "text/latex": [
       "\\begin{tabular}{r|lll}\n",
       " id & bcftools\\_ustishim & consensus\\_ustishim\\\\\n",
       "\\hline\n",
       "\\end{tabular}\n"
      ],
      "text/markdown": [
       "\n",
       "| id | bcftools_ustishim | consensus_ustishim |\n",
       "|---|---|---|\n",
       "\n"
      ],
      "text/plain": [
       "     id bcftools_ustishim consensus_ustishim"
      ]
     },
     "metadata": {},
     "output_type": "display_data"
    }
   ],
   "source": [
    "gt[, c(\"id\", \"bcftools_ustishim\", \"consensus_ustishim\")] %>%\n",
    ".[complete.cases(.), ] %>%\n",
    ".[(.$bcftools_ustishim != .$consensus_ustishim), ]"
   ]
  }
 ],
 "metadata": {
  "kernelspec": {
   "display_name": "R",
   "language": "R",
   "name": "ir"
  },
  "language_info": {
   "codemirror_mode": "r",
   "file_extension": ".r",
   "mimetype": "text/x-r-source",
   "name": "R",
   "pygments_lexer": "r",
   "version": "3.5.2"
  }
 },
 "nbformat": 4,
 "nbformat_minor": 2
}
