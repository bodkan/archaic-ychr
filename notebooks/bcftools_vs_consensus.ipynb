{
 "cells": [
  {
   "cell_type": "code",
   "execution_count": 1,
   "metadata": {},
   "outputs": [],
   "source": [
    "suppressPackageStartupMessages({\n",
    "\n",
    "    library(tidyverse)\n",
    "    library(here)\n",
    "    library(bdkn)\n",
    "    library(VariantAnnotation)\n",
    "\n",
    "})"
   ]
  },
  {
   "cell_type": "code",
   "execution_count": 2,
   "metadata": {},
   "outputs": [],
   "source": [
    "vcf <- readVcf(here(\"data/vcf/test_gt.vcf.gz\"))"
   ]
  },
  {
   "cell_type": "code",
   "execution_count": 3,
   "metadata": {},
   "outputs": [],
   "source": [
    "gt_matrix <- geno(vcf)$GT %>% replace(. == \".\", NA)"
   ]
  },
  {
   "cell_type": "code",
   "execution_count": 4,
   "metadata": {},
   "outputs": [],
   "source": [
    "mode(gt_matrix) <- \"numeric\""
   ]
  },
  {
   "cell_type": "code",
   "execution_count": 5,
   "metadata": {},
   "outputs": [
    {
     "data": {
      "text/html": [
       "<table>\n",
       "<thead><tr><th></th><th scope=col>consensus_a00</th><th scope=col>bcftools_a00</th><th scope=col>consensus_denisova8</th><th scope=col>bcftools_denisova8</th><th scope=col>consensus_ustishim</th><th scope=col>bcftools_ustishim</th></tr></thead>\n",
       "<tbody>\n",
       "\t<tr><th scope=row>Y:2650264_G/A</th><td>0 </td><td>0 </td><td>NA</td><td> 1</td><td> 0</td><td>0 </td></tr>\n",
       "\t<tr><th scope=row>Y:2650414_T/C</th><td>1 </td><td>1 </td><td> 1</td><td> 1</td><td> 0</td><td>0 </td></tr>\n",
       "\t<tr><th scope=row>Y:2652296_C/T</th><td>0 </td><td>0 </td><td>NA</td><td> 1</td><td> 0</td><td>0 </td></tr>\n",
       "\t<tr><th scope=row>Y:2653520_A/T</th><td>0 </td><td>0 </td><td>NA</td><td> 1</td><td> 0</td><td>0 </td></tr>\n",
       "\t<tr><th scope=row>Y:2653597_G/T</th><td>0 </td><td>0 </td><td>NA</td><td> 1</td><td> 0</td><td>0 </td></tr>\n",
       "\t<tr><th scope=row>Y:2656283_G/A</th><td>0 </td><td>0 </td><td> 1</td><td>NA</td><td>NA</td><td>0 </td></tr>\n",
       "</tbody>\n",
       "</table>\n"
      ],
      "text/latex": [
       "\\begin{tabular}{r|llllll}\n",
       "  & consensus\\_a00 & bcftools\\_a00 & consensus\\_denisova8 & bcftools\\_denisova8 & consensus\\_ustishim & bcftools\\_ustishim\\\\\n",
       "\\hline\n",
       "\tY:2650264\\_G/A & 0  & 0  & NA &  1 &  0 & 0 \\\\\n",
       "\tY:2650414\\_T/C & 1  & 1  &  1 &  1 &  0 & 0 \\\\\n",
       "\tY:2652296\\_C/T & 0  & 0  & NA &  1 &  0 & 0 \\\\\n",
       "\tY:2653520\\_A/T & 0  & 0  & NA &  1 &  0 & 0 \\\\\n",
       "\tY:2653597\\_G/T & 0  & 0  & NA &  1 &  0 & 0 \\\\\n",
       "\tY:2656283\\_G/A & 0  & 0  &  1 & NA & NA & 0 \\\\\n",
       "\\end{tabular}\n"
      ],
      "text/markdown": [
       "\n",
       "| <!--/--> | consensus_a00 | bcftools_a00 | consensus_denisova8 | bcftools_denisova8 | consensus_ustishim | bcftools_ustishim |\n",
       "|---|---|---|---|---|---|---|\n",
       "| Y:2650264_G/A | 0  | 0  | NA |  1 |  0 | 0  |\n",
       "| Y:2650414_T/C | 1  | 1  |  1 |  1 |  0 | 0  |\n",
       "| Y:2652296_C/T | 0  | 0  | NA |  1 |  0 | 0  |\n",
       "| Y:2653520_A/T | 0  | 0  | NA |  1 |  0 | 0  |\n",
       "| Y:2653597_G/T | 0  | 0  | NA |  1 |  0 | 0  |\n",
       "| Y:2656283_G/A | 0  | 0  |  1 | NA | NA | 0  |\n",
       "\n"
      ],
      "text/plain": [
       "              consensus_a00 bcftools_a00 consensus_denisova8 bcftools_denisova8\n",
       "Y:2650264_G/A 0             0            NA                   1                \n",
       "Y:2650414_T/C 1             1             1                   1                \n",
       "Y:2652296_C/T 0             0            NA                   1                \n",
       "Y:2653520_A/T 0             0            NA                   1                \n",
       "Y:2653597_G/T 0             0            NA                   1                \n",
       "Y:2656283_G/A 0             0             1                  NA                \n",
       "              consensus_ustishim bcftools_ustishim\n",
       "Y:2650264_G/A  0                 0                \n",
       "Y:2650414_T/C  0                 0                \n",
       "Y:2652296_C/T  0                 0                \n",
       "Y:2653520_A/T  0                 0                \n",
       "Y:2653597_G/T  0                 0                \n",
       "Y:2656283_G/A NA                 0                "
      ]
     },
     "metadata": {},
     "output_type": "display_data"
    }
   ],
   "source": [
    "head(gt_matrix)"
   ]
  },
  {
   "cell_type": "code",
   "execution_count": 6,
   "metadata": {},
   "outputs": [],
   "source": [
    "gt <- as_tibble(gt_matrix, rownames = \"id\")"
   ]
  },
  {
   "cell_type": "code",
   "execution_count": 7,
   "metadata": {},
   "outputs": [
    {
     "data": {
      "text/html": [
       "<table>\n",
       "<thead><tr><th scope=col>id</th><th scope=col>consensus_a00</th><th scope=col>bcftools_a00</th><th scope=col>consensus_denisova8</th><th scope=col>bcftools_denisova8</th><th scope=col>consensus_ustishim</th><th scope=col>bcftools_ustishim</th></tr></thead>\n",
       "<tbody>\n",
       "\t<tr><td>Y:2650264_G/A</td><td>0            </td><td>0            </td><td>NA           </td><td> 1           </td><td> 0           </td><td>0            </td></tr>\n",
       "\t<tr><td>Y:2650414_T/C</td><td>1            </td><td>1            </td><td> 1           </td><td> 1           </td><td> 0           </td><td>0            </td></tr>\n",
       "\t<tr><td>Y:2652296_C/T</td><td>0            </td><td>0            </td><td>NA           </td><td> 1           </td><td> 0           </td><td>0            </td></tr>\n",
       "\t<tr><td>Y:2653520_A/T</td><td>0            </td><td>0            </td><td>NA           </td><td> 1           </td><td> 0           </td><td>0            </td></tr>\n",
       "\t<tr><td>Y:2653597_G/T</td><td>0            </td><td>0            </td><td>NA           </td><td> 1           </td><td> 0           </td><td>0            </td></tr>\n",
       "\t<tr><td>Y:2656283_G/A</td><td>0            </td><td>0            </td><td> 1           </td><td>NA           </td><td>NA           </td><td>0            </td></tr>\n",
       "</tbody>\n",
       "</table>\n"
      ],
      "text/latex": [
       "\\begin{tabular}{r|lllllll}\n",
       " id & consensus\\_a00 & bcftools\\_a00 & consensus\\_denisova8 & bcftools\\_denisova8 & consensus\\_ustishim & bcftools\\_ustishim\\\\\n",
       "\\hline\n",
       "\t Y:2650264\\_G/A & 0               & 0               & NA              &  1              &  0              & 0              \\\\\n",
       "\t Y:2650414\\_T/C & 1               & 1               &  1              &  1              &  0              & 0              \\\\\n",
       "\t Y:2652296\\_C/T & 0               & 0               & NA              &  1              &  0              & 0              \\\\\n",
       "\t Y:2653520\\_A/T & 0               & 0               & NA              &  1              &  0              & 0              \\\\\n",
       "\t Y:2653597\\_G/T & 0               & 0               & NA              &  1              &  0              & 0              \\\\\n",
       "\t Y:2656283\\_G/A & 0               & 0               &  1              & NA              & NA              & 0              \\\\\n",
       "\\end{tabular}\n"
      ],
      "text/markdown": [
       "\n",
       "| id | consensus_a00 | bcftools_a00 | consensus_denisova8 | bcftools_denisova8 | consensus_ustishim | bcftools_ustishim |\n",
       "|---|---|---|---|---|---|---|\n",
       "| Y:2650264_G/A | 0             | 0             | NA            |  1            |  0            | 0             |\n",
       "| Y:2650414_T/C | 1             | 1             |  1            |  1            |  0            | 0             |\n",
       "| Y:2652296_C/T | 0             | 0             | NA            |  1            |  0            | 0             |\n",
       "| Y:2653520_A/T | 0             | 0             | NA            |  1            |  0            | 0             |\n",
       "| Y:2653597_G/T | 0             | 0             | NA            |  1            |  0            | 0             |\n",
       "| Y:2656283_G/A | 0             | 0             |  1            | NA            | NA            | 0             |\n",
       "\n"
      ],
      "text/plain": [
       "  id            consensus_a00 bcftools_a00 consensus_denisova8\n",
       "1 Y:2650264_G/A 0             0            NA                 \n",
       "2 Y:2650414_T/C 1             1             1                 \n",
       "3 Y:2652296_C/T 0             0            NA                 \n",
       "4 Y:2653520_A/T 0             0            NA                 \n",
       "5 Y:2653597_G/T 0             0            NA                 \n",
       "6 Y:2656283_G/A 0             0             1                 \n",
       "  bcftools_denisova8 consensus_ustishim bcftools_ustishim\n",
       "1  1                  0                 0                \n",
       "2  1                  0                 0                \n",
       "3  1                  0                 0                \n",
       "4  1                  0                 0                \n",
       "5  1                  0                 0                \n",
       "6 NA                 NA                 0                "
      ]
     },
     "metadata": {},
     "output_type": "display_data"
    }
   ],
   "source": [
    "head(gt)"
   ]
  },
  {
   "cell_type": "code",
   "execution_count": 8,
   "metadata": {},
   "outputs": [
    {
     "data": {
      "text/html": [
       "0.999579802507178"
      ],
      "text/latex": [
       "0.999579802507178"
      ],
      "text/markdown": [
       "0.999579802507178"
      ],
      "text/plain": [
       "[1] 0.9995798"
      ]
     },
     "metadata": {},
     "output_type": "display_data"
    }
   ],
   "source": [
    "mean(gt$bcftools_a00 == gt$consensus_a00, na.rm = TRUE)"
   ]
  },
  {
   "cell_type": "code",
   "execution_count": 9,
   "metadata": {},
   "outputs": [
    {
     "data": {
      "text/html": [
       "0.985819625638117"
      ],
      "text/latex": [
       "0.985819625638117"
      ],
      "text/markdown": [
       "0.985819625638117"
      ],
      "text/plain": [
       "[1] 0.9858196"
      ]
     },
     "metadata": {},
     "output_type": "display_data"
    }
   ],
   "source": [
    "mean(gt$bcftools_denisova8 == gt$consensus_denisova8, na.rm = TRUE)"
   ]
  },
  {
   "cell_type": "code",
   "execution_count": 10,
   "metadata": {},
   "outputs": [
    {
     "data": {
      "text/html": [
       "0.99992657856094"
      ],
      "text/latex": [
       "0.99992657856094"
      ],
      "text/markdown": [
       "0.99992657856094"
      ],
      "text/plain": [
       "[1] 0.9999266"
      ]
     },
     "metadata": {},
     "output_type": "display_data"
    }
   ],
   "source": [
    "mean(gt$bcftools_ustishim == gt$consensus_ustishim, na.rm = TRUE)"
   ]
  },
  {
   "cell_type": "code",
   "execution_count": null,
   "metadata": {},
   "outputs": [],
   "source": []
  },
  {
   "cell_type": "code",
   "execution_count": null,
   "metadata": {},
   "outputs": [],
   "source": []
  },
  {
   "cell_type": "code",
   "execution_count": 14,
   "metadata": {},
   "outputs": [
    {
     "data": {
      "text/html": [
       "<table>\n",
       "<thead><tr><th scope=col>id</th><th scope=col>bcftools_denisova8</th><th scope=col>consensus_denisova8</th></tr></thead>\n",
       "<tbody>\n",
       "\t<tr><td>Y:2701708_C/T </td><td>0             </td><td>1             </td></tr>\n",
       "\t<tr><td>Y:2764244_T/C </td><td>0             </td><td>1             </td></tr>\n",
       "\t<tr><td>Y:2816357_T/A </td><td>0             </td><td>1             </td></tr>\n",
       "\t<tr><td>Y:3251435_T/C </td><td>0             </td><td>1             </td></tr>\n",
       "\t<tr><td>Y:6878681_G/A </td><td>0             </td><td>1             </td></tr>\n",
       "\t<tr><td>Y:7090237_T/A </td><td>0             </td><td>1             </td></tr>\n",
       "\t<tr><td>Y:7135791_C/T </td><td>0             </td><td>1             </td></tr>\n",
       "\t<tr><td>Y:7386706_A/G </td><td>0             </td><td>1             </td></tr>\n",
       "\t<tr><td>Y:7600413_C/T </td><td>0             </td><td>1             </td></tr>\n",
       "\t<tr><td>Y:7718672_G/A </td><td>0             </td><td>1             </td></tr>\n",
       "\t<tr><td>Y:7911865_T/A </td><td>0             </td><td>1             </td></tr>\n",
       "\t<tr><td>Y:7944563_C/G </td><td>0             </td><td>1             </td></tr>\n",
       "\t<tr><td>Y:8491164_C/A </td><td>0             </td><td>1             </td></tr>\n",
       "\t<tr><td>Y:14158758_C/A</td><td>0             </td><td>1             </td></tr>\n",
       "\t<tr><td>Y:14387313_G/A</td><td>0             </td><td>1             </td></tr>\n",
       "\t<tr><td>Y:14437681_C/T</td><td>0             </td><td>1             </td></tr>\n",
       "\t<tr><td>Y:14708758_C/T</td><td>0             </td><td>1             </td></tr>\n",
       "\t<tr><td>Y:14763923_C/T</td><td>0             </td><td>1             </td></tr>\n",
       "\t<tr><td>Y:15081325_T/C</td><td>0             </td><td>1             </td></tr>\n",
       "\t<tr><td>Y:15662403_C/T</td><td>0             </td><td>1             </td></tr>\n",
       "\t<tr><td>Y:15723473_C/A</td><td>0             </td><td>1             </td></tr>\n",
       "\t<tr><td>Y:15841496_T/C</td><td>0             </td><td>1             </td></tr>\n",
       "\t<tr><td>Y:16273481_G/A</td><td>0             </td><td>1             </td></tr>\n",
       "\t<tr><td>Y:16303760_C/T</td><td>0             </td><td>1             </td></tr>\n",
       "\t<tr><td>Y:16329247_C/T</td><td>0             </td><td>1             </td></tr>\n",
       "\t<tr><td>Y:16385312_G/A</td><td>0             </td><td>1             </td></tr>\n",
       "\t<tr><td>Y:16393801_A/T</td><td>0             </td><td>1             </td></tr>\n",
       "\t<tr><td>Y:17157068_A/G</td><td>0             </td><td>1             </td></tr>\n",
       "\t<tr><td>Y:17216507_A/T</td><td>0             </td><td>1             </td></tr>\n",
       "\t<tr><td>Y:17292365_G/A</td><td>0             </td><td>1             </td></tr>\n",
       "\t<tr><td>Y:17534364_G/T</td><td>0             </td><td>1             </td></tr>\n",
       "\t<tr><td>Y:17602550_C/T</td><td>0             </td><td>1             </td></tr>\n",
       "\t<tr><td>Y:18839176_C/T</td><td>0             </td><td>1             </td></tr>\n",
       "\t<tr><td>Y:18943715_G/T</td><td>0             </td><td>1             </td></tr>\n",
       "\t<tr><td>Y:19003220_G/A</td><td>0             </td><td>1             </td></tr>\n",
       "\t<tr><td>Y:19114569_A/C</td><td>0             </td><td>1             </td></tr>\n",
       "\t<tr><td>Y:19236995_G/A</td><td>0             </td><td>1             </td></tr>\n",
       "\t<tr><td>Y:19312183_T/A</td><td>0             </td><td>1             </td></tr>\n",
       "\t<tr><td>Y:19349615_T/C</td><td>0             </td><td>1             </td></tr>\n",
       "\t<tr><td>Y:21125932_T/A</td><td>0             </td><td>1             </td></tr>\n",
       "\t<tr><td>Y:21226184_C/T</td><td>0             </td><td>1             </td></tr>\n",
       "\t<tr><td>Y:21681137_C/A</td><td>0             </td><td>1             </td></tr>\n",
       "\t<tr><td>Y:21837775_G/A</td><td>0             </td><td>1             </td></tr>\n",
       "\t<tr><td>Y:22098004_G/A</td><td>0             </td><td>1             </td></tr>\n",
       "\t<tr><td>Y:22953614_C/T</td><td>0             </td><td>1             </td></tr>\n",
       "\t<tr><td>Y:23010469_C/T</td><td>0             </td><td>1             </td></tr>\n",
       "\t<tr><td>Y:23010471_T/C</td><td>0             </td><td>1             </td></tr>\n",
       "\t<tr><td>Y:23407242_C/T</td><td>0             </td><td>1             </td></tr>\n",
       "\t<tr><td>Y:23565114_A/T</td><td>0             </td><td>1             </td></tr>\n",
       "\t<tr><td>Y:23991447_T/C</td><td>0             </td><td>1             </td></tr>\n",
       "</tbody>\n",
       "</table>\n"
      ],
      "text/latex": [
       "\\begin{tabular}{r|lll}\n",
       " id & bcftools\\_denisova8 & consensus\\_denisova8\\\\\n",
       "\\hline\n",
       "\t Y:2701708\\_C/T  & 0                & 1               \\\\\n",
       "\t Y:2764244\\_T/C  & 0                & 1               \\\\\n",
       "\t Y:2816357\\_T/A  & 0                & 1               \\\\\n",
       "\t Y:3251435\\_T/C  & 0                & 1               \\\\\n",
       "\t Y:6878681\\_G/A  & 0                & 1               \\\\\n",
       "\t Y:7090237\\_T/A  & 0                & 1               \\\\\n",
       "\t Y:7135791\\_C/T  & 0                & 1               \\\\\n",
       "\t Y:7386706\\_A/G  & 0                & 1               \\\\\n",
       "\t Y:7600413\\_C/T  & 0                & 1               \\\\\n",
       "\t Y:7718672\\_G/A  & 0                & 1               \\\\\n",
       "\t Y:7911865\\_T/A  & 0                & 1               \\\\\n",
       "\t Y:7944563\\_C/G  & 0                & 1               \\\\\n",
       "\t Y:8491164\\_C/A  & 0                & 1               \\\\\n",
       "\t Y:14158758\\_C/A & 0                & 1               \\\\\n",
       "\t Y:14387313\\_G/A & 0                & 1               \\\\\n",
       "\t Y:14437681\\_C/T & 0                & 1               \\\\\n",
       "\t Y:14708758\\_C/T & 0                & 1               \\\\\n",
       "\t Y:14763923\\_C/T & 0                & 1               \\\\\n",
       "\t Y:15081325\\_T/C & 0                & 1               \\\\\n",
       "\t Y:15662403\\_C/T & 0                & 1               \\\\\n",
       "\t Y:15723473\\_C/A & 0                & 1               \\\\\n",
       "\t Y:15841496\\_T/C & 0                & 1               \\\\\n",
       "\t Y:16273481\\_G/A & 0                & 1               \\\\\n",
       "\t Y:16303760\\_C/T & 0                & 1               \\\\\n",
       "\t Y:16329247\\_C/T & 0                & 1               \\\\\n",
       "\t Y:16385312\\_G/A & 0                & 1               \\\\\n",
       "\t Y:16393801\\_A/T & 0                & 1               \\\\\n",
       "\t Y:17157068\\_A/G & 0                & 1               \\\\\n",
       "\t Y:17216507\\_A/T & 0                & 1               \\\\\n",
       "\t Y:17292365\\_G/A & 0                & 1               \\\\\n",
       "\t Y:17534364\\_G/T & 0                & 1               \\\\\n",
       "\t Y:17602550\\_C/T & 0                & 1               \\\\\n",
       "\t Y:18839176\\_C/T & 0                & 1               \\\\\n",
       "\t Y:18943715\\_G/T & 0                & 1               \\\\\n",
       "\t Y:19003220\\_G/A & 0                & 1               \\\\\n",
       "\t Y:19114569\\_A/C & 0                & 1               \\\\\n",
       "\t Y:19236995\\_G/A & 0                & 1               \\\\\n",
       "\t Y:19312183\\_T/A & 0                & 1               \\\\\n",
       "\t Y:19349615\\_T/C & 0                & 1               \\\\\n",
       "\t Y:21125932\\_T/A & 0                & 1               \\\\\n",
       "\t Y:21226184\\_C/T & 0                & 1               \\\\\n",
       "\t Y:21681137\\_C/A & 0                & 1               \\\\\n",
       "\t Y:21837775\\_G/A & 0                & 1               \\\\\n",
       "\t Y:22098004\\_G/A & 0                & 1               \\\\\n",
       "\t Y:22953614\\_C/T & 0                & 1               \\\\\n",
       "\t Y:23010469\\_C/T & 0                & 1               \\\\\n",
       "\t Y:23010471\\_T/C & 0                & 1               \\\\\n",
       "\t Y:23407242\\_C/T & 0                & 1               \\\\\n",
       "\t Y:23565114\\_A/T & 0                & 1               \\\\\n",
       "\t Y:23991447\\_T/C & 0                & 1               \\\\\n",
       "\\end{tabular}\n"
      ],
      "text/markdown": [
       "\n",
       "| id | bcftools_denisova8 | consensus_denisova8 |\n",
       "|---|---|---|\n",
       "| Y:2701708_C/T  | 0              | 1              |\n",
       "| Y:2764244_T/C  | 0              | 1              |\n",
       "| Y:2816357_T/A  | 0              | 1              |\n",
       "| Y:3251435_T/C  | 0              | 1              |\n",
       "| Y:6878681_G/A  | 0              | 1              |\n",
       "| Y:7090237_T/A  | 0              | 1              |\n",
       "| Y:7135791_C/T  | 0              | 1              |\n",
       "| Y:7386706_A/G  | 0              | 1              |\n",
       "| Y:7600413_C/T  | 0              | 1              |\n",
       "| Y:7718672_G/A  | 0              | 1              |\n",
       "| Y:7911865_T/A  | 0              | 1              |\n",
       "| Y:7944563_C/G  | 0              | 1              |\n",
       "| Y:8491164_C/A  | 0              | 1              |\n",
       "| Y:14158758_C/A | 0              | 1              |\n",
       "| Y:14387313_G/A | 0              | 1              |\n",
       "| Y:14437681_C/T | 0              | 1              |\n",
       "| Y:14708758_C/T | 0              | 1              |\n",
       "| Y:14763923_C/T | 0              | 1              |\n",
       "| Y:15081325_T/C | 0              | 1              |\n",
       "| Y:15662403_C/T | 0              | 1              |\n",
       "| Y:15723473_C/A | 0              | 1              |\n",
       "| Y:15841496_T/C | 0              | 1              |\n",
       "| Y:16273481_G/A | 0              | 1              |\n",
       "| Y:16303760_C/T | 0              | 1              |\n",
       "| Y:16329247_C/T | 0              | 1              |\n",
       "| Y:16385312_G/A | 0              | 1              |\n",
       "| Y:16393801_A/T | 0              | 1              |\n",
       "| Y:17157068_A/G | 0              | 1              |\n",
       "| Y:17216507_A/T | 0              | 1              |\n",
       "| Y:17292365_G/A | 0              | 1              |\n",
       "| Y:17534364_G/T | 0              | 1              |\n",
       "| Y:17602550_C/T | 0              | 1              |\n",
       "| Y:18839176_C/T | 0              | 1              |\n",
       "| Y:18943715_G/T | 0              | 1              |\n",
       "| Y:19003220_G/A | 0              | 1              |\n",
       "| Y:19114569_A/C | 0              | 1              |\n",
       "| Y:19236995_G/A | 0              | 1              |\n",
       "| Y:19312183_T/A | 0              | 1              |\n",
       "| Y:19349615_T/C | 0              | 1              |\n",
       "| Y:21125932_T/A | 0              | 1              |\n",
       "| Y:21226184_C/T | 0              | 1              |\n",
       "| Y:21681137_C/A | 0              | 1              |\n",
       "| Y:21837775_G/A | 0              | 1              |\n",
       "| Y:22098004_G/A | 0              | 1              |\n",
       "| Y:22953614_C/T | 0              | 1              |\n",
       "| Y:23010469_C/T | 0              | 1              |\n",
       "| Y:23010471_T/C | 0              | 1              |\n",
       "| Y:23407242_C/T | 0              | 1              |\n",
       "| Y:23565114_A/T | 0              | 1              |\n",
       "| Y:23991447_T/C | 0              | 1              |\n",
       "\n"
      ],
      "text/plain": [
       "   id             bcftools_denisova8 consensus_denisova8\n",
       "1  Y:2701708_C/T  0                  1                  \n",
       "2  Y:2764244_T/C  0                  1                  \n",
       "3  Y:2816357_T/A  0                  1                  \n",
       "4  Y:3251435_T/C  0                  1                  \n",
       "5  Y:6878681_G/A  0                  1                  \n",
       "6  Y:7090237_T/A  0                  1                  \n",
       "7  Y:7135791_C/T  0                  1                  \n",
       "8  Y:7386706_A/G  0                  1                  \n",
       "9  Y:7600413_C/T  0                  1                  \n",
       "10 Y:7718672_G/A  0                  1                  \n",
       "11 Y:7911865_T/A  0                  1                  \n",
       "12 Y:7944563_C/G  0                  1                  \n",
       "13 Y:8491164_C/A  0                  1                  \n",
       "14 Y:14158758_C/A 0                  1                  \n",
       "15 Y:14387313_G/A 0                  1                  \n",
       "16 Y:14437681_C/T 0                  1                  \n",
       "17 Y:14708758_C/T 0                  1                  \n",
       "18 Y:14763923_C/T 0                  1                  \n",
       "19 Y:15081325_T/C 0                  1                  \n",
       "20 Y:15662403_C/T 0                  1                  \n",
       "21 Y:15723473_C/A 0                  1                  \n",
       "22 Y:15841496_T/C 0                  1                  \n",
       "23 Y:16273481_G/A 0                  1                  \n",
       "24 Y:16303760_C/T 0                  1                  \n",
       "25 Y:16329247_C/T 0                  1                  \n",
       "26 Y:16385312_G/A 0                  1                  \n",
       "27 Y:16393801_A/T 0                  1                  \n",
       "28 Y:17157068_A/G 0                  1                  \n",
       "29 Y:17216507_A/T 0                  1                  \n",
       "30 Y:17292365_G/A 0                  1                  \n",
       "31 Y:17534364_G/T 0                  1                  \n",
       "32 Y:17602550_C/T 0                  1                  \n",
       "33 Y:18839176_C/T 0                  1                  \n",
       "34 Y:18943715_G/T 0                  1                  \n",
       "35 Y:19003220_G/A 0                  1                  \n",
       "36 Y:19114569_A/C 0                  1                  \n",
       "37 Y:19236995_G/A 0                  1                  \n",
       "38 Y:19312183_T/A 0                  1                  \n",
       "39 Y:19349615_T/C 0                  1                  \n",
       "40 Y:21125932_T/A 0                  1                  \n",
       "41 Y:21226184_C/T 0                  1                  \n",
       "42 Y:21681137_C/A 0                  1                  \n",
       "43 Y:21837775_G/A 0                  1                  \n",
       "44 Y:22098004_G/A 0                  1                  \n",
       "45 Y:22953614_C/T 0                  1                  \n",
       "46 Y:23010469_C/T 0                  1                  \n",
       "47 Y:23010471_T/C 0                  1                  \n",
       "48 Y:23407242_C/T 0                  1                  \n",
       "49 Y:23565114_A/T 0                  1                  \n",
       "50 Y:23991447_T/C 0                  1                  "
      ]
     },
     "metadata": {},
     "output_type": "display_data"
    }
   ],
   "source": [
    "gt[, c(\"id\", \"bcftools_denisova8\", \"consensus_denisova8\")] %>%\n",
    ".[complete.cases(.), ] %>%\n",
    ".[(.$bcftools_denisova8 != .$consensus_denisova8), ]"
   ]
  },
  {
   "cell_type": "code",
   "execution_count": 17,
   "metadata": {},
   "outputs": [
    {
     "data": {
      "text/html": [
       "<table>\n",
       "<thead><tr><th scope=col>id</th><th scope=col>bcftools_a00</th><th scope=col>consensus_a00</th></tr></thead>\n",
       "<tbody>\n",
       "\t<tr><td>Y:5976705_C/A </td><td>0             </td><td>1             </td></tr>\n",
       "\t<tr><td>Y:6773542_C/T </td><td>0             </td><td>1             </td></tr>\n",
       "\t<tr><td>Y:10017879_T/C</td><td>0             </td><td>1             </td></tr>\n",
       "\t<tr><td>Y:13140125_G/C</td><td>0             </td><td>1             </td></tr>\n",
       "\t<tr><td>Y:16729172_G/T</td><td>0             </td><td>1             </td></tr>\n",
       "\t<tr><td>Y:23482918_A/G</td><td>0             </td><td>1             </td></tr>\n",
       "</tbody>\n",
       "</table>\n"
      ],
      "text/latex": [
       "\\begin{tabular}{r|lll}\n",
       " id & bcftools\\_a00 & consensus\\_a00\\\\\n",
       "\\hline\n",
       "\t Y:5976705\\_C/A  & 0                & 1               \\\\\n",
       "\t Y:6773542\\_C/T  & 0                & 1               \\\\\n",
       "\t Y:10017879\\_T/C & 0                & 1               \\\\\n",
       "\t Y:13140125\\_G/C & 0                & 1               \\\\\n",
       "\t Y:16729172\\_G/T & 0                & 1               \\\\\n",
       "\t Y:23482918\\_A/G & 0                & 1               \\\\\n",
       "\\end{tabular}\n"
      ],
      "text/markdown": [
       "\n",
       "| id | bcftools_a00 | consensus_a00 |\n",
       "|---|---|---|\n",
       "| Y:5976705_C/A  | 0              | 1              |\n",
       "| Y:6773542_C/T  | 0              | 1              |\n",
       "| Y:10017879_T/C | 0              | 1              |\n",
       "| Y:13140125_G/C | 0              | 1              |\n",
       "| Y:16729172_G/T | 0              | 1              |\n",
       "| Y:23482918_A/G | 0              | 1              |\n",
       "\n"
      ],
      "text/plain": [
       "  id             bcftools_a00 consensus_a00\n",
       "1 Y:5976705_C/A  0            1            \n",
       "2 Y:6773542_C/T  0            1            \n",
       "3 Y:10017879_T/C 0            1            \n",
       "4 Y:13140125_G/C 0            1            \n",
       "5 Y:16729172_G/T 0            1            \n",
       "6 Y:23482918_A/G 0            1            "
      ]
     },
     "metadata": {},
     "output_type": "display_data"
    }
   ],
   "source": [
    "gt[, c(\"id\", \"bcftools_a00\", \"consensus_a00\")] %>%\n",
    ".[complete.cases(.), ] %>%\n",
    ".[(.$bcftools_a00 != .$consensus_a00), ]"
   ]
  },
  {
   "cell_type": "code",
   "execution_count": 19,
   "metadata": {},
   "outputs": [
    {
     "data": {
      "text/html": [
       "<table>\n",
       "<thead><tr><th scope=col>id</th><th scope=col>bcftools_ustishim</th><th scope=col>consensus_ustishim</th></tr></thead>\n",
       "<tbody>\n",
       "\t<tr><td>Y:14242418_G/A</td><td>0             </td><td>1             </td></tr>\n",
       "</tbody>\n",
       "</table>\n"
      ],
      "text/latex": [
       "\\begin{tabular}{r|lll}\n",
       " id & bcftools\\_ustishim & consensus\\_ustishim\\\\\n",
       "\\hline\n",
       "\t Y:14242418\\_G/A & 0                & 1               \\\\\n",
       "\\end{tabular}\n"
      ],
      "text/markdown": [
       "\n",
       "| id | bcftools_ustishim | consensus_ustishim |\n",
       "|---|---|---|\n",
       "| Y:14242418_G/A | 0              | 1              |\n",
       "\n"
      ],
      "text/plain": [
       "  id             bcftools_ustishim consensus_ustishim\n",
       "1 Y:14242418_G/A 0                 1                 "
      ]
     },
     "metadata": {},
     "output_type": "display_data"
    }
   ],
   "source": [
    "gt[, c(\"id\", \"bcftools_ustishim\", \"consensus_ustishim\")] %>%\n",
    ".[complete.cases(.), ] %>%\n",
    ".[(.$bcftools_ustishim != .$consensus_ustishim), ]"
   ]
  }
 ],
 "metadata": {
  "kernelspec": {
   "display_name": "R",
   "language": "R",
   "name": "ir"
  },
  "language_info": {
   "codemirror_mode": "r",
   "file_extension": ".r",
   "mimetype": "text/x-r-source",
   "name": "R",
   "pygments_lexer": "r",
   "version": "3.5.1"
  }
 },
 "nbformat": 4,
 "nbformat_minor": 2
}
