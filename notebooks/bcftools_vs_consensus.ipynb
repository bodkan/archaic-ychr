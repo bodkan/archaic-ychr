{
 "cells": [
  {
   "cell_type": "markdown",
   "metadata": {},
   "source": [
    "# Test the consistency between bcftools calls and my own consensus caller"
   ]
  },
  {
   "cell_type": "markdown",
   "metadata": {},
   "source": [
    "The idea is to use the consensus script (more straightforward and easier to hack for potential aDNA issues), but it's good to use the comparison between both approaches to discover potential bugs and hidden issues in the data.\n",
    "\n",
    "Right now these issues appear to be fixed and both methods give the same results, as can be seen below."
   ]
  },
  {
   "cell_type": "code",
   "execution_count": 1,
   "metadata": {},
   "outputs": [
    {
     "name": "stderr",
     "output_type": "stream",
     "text": [
      "── Attaching packages ─────────────────────────────────────── tidyverse 1.2.1 ──\n",
      "✔ ggplot2 3.1.0     ✔ purrr   0.3.0\n",
      "✔ tibble  2.0.1     ✔ dplyr   0.7.8\n",
      "✔ tidyr   0.8.2     ✔ stringr 1.4.0\n",
      "✔ readr   1.3.1     ✔ forcats 0.3.0\n",
      "── Conflicts ────────────────────────────────────────── tidyverse_conflicts() ──\n",
      "✖ dplyr::filter() masks stats::filter()\n",
      "✖ dplyr::lag()    masks stats::lag()\n",
      "here() starts at /mnt/expressions/mp/ychr\n",
      "Loading ychr\n"
     ]
    }
   ],
   "source": [
    "library(tidyverse)\n",
    "library(here)\n",
    "\n",
    "devtools::load_all(\".\")"
   ]
  },
  {
   "cell_type": "code",
   "execution_count": 2,
   "metadata": {},
   "outputs": [],
   "source": [
    "gt <- read_vcf(here(\"data/vcf/test_gt.vcf.gz\"), mindp = 3, maxdp = 0.975)"
   ]
  },
  {
   "cell_type": "code",
   "execution_count": 3,
   "metadata": {},
   "outputs": [
    {
     "data": {
      "text/html": [
       "<table>\n",
       "<thead><tr><th scope=col>chrom</th><th scope=col>pos</th><th scope=col>REF</th><th scope=col>ALT</th><th scope=col>consensus_a00</th><th scope=col>bcftools_a00</th><th scope=col>consensus_den8</th><th scope=col>bcftools_den8</th><th scope=col>consensus_ustishim</th><th scope=col>bcftools_ustishim</th></tr></thead>\n",
       "<tbody>\n",
       "\t<tr><td>Y      </td><td>2649955</td><td>G      </td><td>A      </td><td>0      </td><td>0      </td><td>NA     </td><td>NA     </td><td>0      </td><td>0      </td></tr>\n",
       "\t<tr><td>Y      </td><td>2650264</td><td>G      </td><td>A      </td><td>0      </td><td>0      </td><td>NA     </td><td>NA     </td><td>0      </td><td>0      </td></tr>\n",
       "\t<tr><td>Y      </td><td>2650414</td><td>T      </td><td>C      </td><td>1      </td><td>1      </td><td> 1     </td><td> 1     </td><td>0      </td><td>0      </td></tr>\n",
       "\t<tr><td>Y      </td><td>2651013</td><td>G      </td><td>A      </td><td>0      </td><td>0      </td><td>NA     </td><td>NA     </td><td>0      </td><td>0      </td></tr>\n",
       "\t<tr><td>Y      </td><td>2651421</td><td>C      </td><td>T      </td><td>0      </td><td>0      </td><td>NA     </td><td>NA     </td><td>0      </td><td>0      </td></tr>\n",
       "\t<tr><td>Y      </td><td>2651422</td><td>C      </td><td>T      </td><td>0      </td><td>0      </td><td>NA     </td><td>NA     </td><td>0      </td><td>0      </td></tr>\n",
       "</tbody>\n",
       "</table>\n"
      ],
      "text/latex": [
       "\\begin{tabular}{r|llllllllll}\n",
       " chrom & pos & REF & ALT & consensus\\_a00 & bcftools\\_a00 & consensus\\_den8 & bcftools\\_den8 & consensus\\_ustishim & bcftools\\_ustishim\\\\\n",
       "\\hline\n",
       "\t Y       & 2649955 & G       & A       & 0       & 0       & NA      & NA      & 0       & 0      \\\\\n",
       "\t Y       & 2650264 & G       & A       & 0       & 0       & NA      & NA      & 0       & 0      \\\\\n",
       "\t Y       & 2650414 & T       & C       & 1       & 1       &  1      &  1      & 0       & 0      \\\\\n",
       "\t Y       & 2651013 & G       & A       & 0       & 0       & NA      & NA      & 0       & 0      \\\\\n",
       "\t Y       & 2651421 & C       & T       & 0       & 0       & NA      & NA      & 0       & 0      \\\\\n",
       "\t Y       & 2651422 & C       & T       & 0       & 0       & NA      & NA      & 0       & 0      \\\\\n",
       "\\end{tabular}\n"
      ],
      "text/markdown": [
       "\n",
       "| chrom | pos | REF | ALT | consensus_a00 | bcftools_a00 | consensus_den8 | bcftools_den8 | consensus_ustishim | bcftools_ustishim |\n",
       "|---|---|---|---|---|---|---|---|---|---|\n",
       "| Y       | 2649955 | G       | A       | 0       | 0       | NA      | NA      | 0       | 0       |\n",
       "| Y       | 2650264 | G       | A       | 0       | 0       | NA      | NA      | 0       | 0       |\n",
       "| Y       | 2650414 | T       | C       | 1       | 1       |  1      |  1      | 0       | 0       |\n",
       "| Y       | 2651013 | G       | A       | 0       | 0       | NA      | NA      | 0       | 0       |\n",
       "| Y       | 2651421 | C       | T       | 0       | 0       | NA      | NA      | 0       | 0       |\n",
       "| Y       | 2651422 | C       | T       | 0       | 0       | NA      | NA      | 0       | 0       |\n",
       "\n"
      ],
      "text/plain": [
       "  chrom pos     REF ALT consensus_a00 bcftools_a00 consensus_den8 bcftools_den8\n",
       "1 Y     2649955 G   A   0             0            NA             NA           \n",
       "2 Y     2650264 G   A   0             0            NA             NA           \n",
       "3 Y     2650414 T   C   1             1             1              1           \n",
       "4 Y     2651013 G   A   0             0            NA             NA           \n",
       "5 Y     2651421 C   T   0             0            NA             NA           \n",
       "6 Y     2651422 C   T   0             0            NA             NA           \n",
       "  consensus_ustishim bcftools_ustishim\n",
       "1 0                  0                \n",
       "2 0                  0                \n",
       "3 0                  0                \n",
       "4 0                  0                \n",
       "5 0                  0                \n",
       "6 0                  0                "
      ]
     },
     "metadata": {},
     "output_type": "display_data"
    }
   ],
   "source": [
    "head(gt)"
   ]
  },
  {
   "cell_type": "code",
   "execution_count": 4,
   "metadata": {},
   "outputs": [
    {
     "data": {
      "text/html": [
       "1"
      ],
      "text/latex": [
       "1"
      ],
      "text/markdown": [
       "1"
      ],
      "text/plain": [
       "[1] 1"
      ]
     },
     "metadata": {},
     "output_type": "display_data"
    }
   ],
   "source": [
    "mean(gt$bcftools_a00 == gt$consensus_a00, na.rm = TRUE)"
   ]
  },
  {
   "cell_type": "code",
   "execution_count": 5,
   "metadata": {},
   "outputs": [
    {
     "data": {
      "text/html": [
       "1"
      ],
      "text/latex": [
       "1"
      ],
      "text/markdown": [
       "1"
      ],
      "text/plain": [
       "[1] 1"
      ]
     },
     "metadata": {},
     "output_type": "display_data"
    }
   ],
   "source": [
    "mean(gt$bcftools_den8 == gt$consensus_den8, na.rm = TRUE)"
   ]
  },
  {
   "cell_type": "code",
   "execution_count": 6,
   "metadata": {},
   "outputs": [
    {
     "data": {
      "text/html": [
       "1"
      ],
      "text/latex": [
       "1"
      ],
      "text/markdown": [
       "1"
      ],
      "text/plain": [
       "[1] 1"
      ]
     },
     "metadata": {},
     "output_type": "display_data"
    }
   ],
   "source": [
    "mean(gt$bcftools_ustishim == gt$consensus_ustishim, na.rm = TRUE)"
   ]
  },
  {
   "cell_type": "code",
   "execution_count": 7,
   "metadata": {},
   "outputs": [
    {
     "data": {
      "text/html": [
       "<table>\n",
       "<thead><tr><th scope=col>chrom</th><th scope=col>pos</th><th scope=col>bcftools_den8</th><th scope=col>consensus_den8</th></tr></thead>\n",
       "<tbody>\n",
       "</tbody>\n",
       "</table>\n"
      ],
      "text/latex": [
       "\\begin{tabular}{r|llll}\n",
       " chrom & pos & bcftools\\_den8 & consensus\\_den8\\\\\n",
       "\\hline\n",
       "\\end{tabular}\n"
      ],
      "text/markdown": [
       "\n",
       "| chrom | pos | bcftools_den8 | consensus_den8 |\n",
       "|---|---|---|---|\n",
       "\n"
      ],
      "text/plain": [
       "     chrom pos bcftools_den8 consensus_den8"
      ]
     },
     "metadata": {},
     "output_type": "display_data"
    }
   ],
   "source": [
    "gt[, c(\"chrom\", \"pos\", \"bcftools_den8\", \"consensus_den8\")] %>%\n",
    ".[complete.cases(.), ] %>%\n",
    ".[(.$bcftools_den8 != .$consensus_den8), ]"
   ]
  },
  {
   "cell_type": "code",
   "execution_count": 8,
   "metadata": {},
   "outputs": [
    {
     "data": {
      "text/html": [
       "<table>\n",
       "<thead><tr><th scope=col>chrom</th><th scope=col>pos</th><th scope=col>bcftools_a00</th><th scope=col>consensus_a00</th></tr></thead>\n",
       "<tbody>\n",
       "</tbody>\n",
       "</table>\n"
      ],
      "text/latex": [
       "\\begin{tabular}{r|llll}\n",
       " chrom & pos & bcftools\\_a00 & consensus\\_a00\\\\\n",
       "\\hline\n",
       "\\end{tabular}\n"
      ],
      "text/markdown": [
       "\n",
       "| chrom | pos | bcftools_a00 | consensus_a00 |\n",
       "|---|---|---|---|\n",
       "\n"
      ],
      "text/plain": [
       "     chrom pos bcftools_a00 consensus_a00"
      ]
     },
     "metadata": {},
     "output_type": "display_data"
    }
   ],
   "source": [
    "gt[, c(\"chrom\", \"pos\", \"bcftools_a00\", \"consensus_a00\")] %>%\n",
    ".[complete.cases(.), ] %>%\n",
    ".[(.$bcftools_a00 != .$consensus_a00), ]"
   ]
  },
  {
   "cell_type": "code",
   "execution_count": 9,
   "metadata": {},
   "outputs": [
    {
     "data": {
      "text/html": [
       "<table>\n",
       "<thead><tr><th scope=col>chrom</th><th scope=col>pos</th><th scope=col>bcftools_ustishim</th><th scope=col>consensus_ustishim</th></tr></thead>\n",
       "<tbody>\n",
       "</tbody>\n",
       "</table>\n"
      ],
      "text/latex": [
       "\\begin{tabular}{r|llll}\n",
       " chrom & pos & bcftools\\_ustishim & consensus\\_ustishim\\\\\n",
       "\\hline\n",
       "\\end{tabular}\n"
      ],
      "text/markdown": [
       "\n",
       "| chrom | pos | bcftools_ustishim | consensus_ustishim |\n",
       "|---|---|---|---|\n",
       "\n"
      ],
      "text/plain": [
       "     chrom pos bcftools_ustishim consensus_ustishim"
      ]
     },
     "metadata": {},
     "output_type": "display_data"
    }
   ],
   "source": [
    "gt[, c(\"chrom\", \"pos\", \"bcftools_ustishim\", \"consensus_ustishim\")] %>%\n",
    ".[complete.cases(.), ] %>%\n",
    ".[(.$bcftools_ustishim != .$consensus_ustishim), ]"
   ]
  }
 ],
 "metadata": {
  "kernelspec": {
   "display_name": "R",
   "language": "R",
   "name": "ir"
  },
  "language_info": {
   "codemirror_mode": "r",
   "file_extension": ".r",
   "mimetype": "text/x-r-source",
   "name": "R",
   "pygments_lexer": "r",
   "version": "3.5.1"
  }
 },
 "nbformat": 4,
 "nbformat_minor": 2
}
