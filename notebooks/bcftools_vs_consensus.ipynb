{
 "cells": [
  {
   "cell_type": "code",
   "execution_count": 1,
   "metadata": {},
   "outputs": [],
   "source": [
    "suppressPackageStartupMessages({\n",
    "\n",
    "    library(tidyverse)\n",
    "    library(here)\n",
    "    library(bdkn)\n",
    "    library(VariantAnnotation)\n",
    "\n",
    "})"
   ]
  },
  {
   "cell_type": "code",
   "execution_count": 2,
   "metadata": {},
   "outputs": [],
   "source": [
    "vcf <- readVcf(here(\"data/vcf/test_gt.vcf.gz\"))"
   ]
  },
  {
   "cell_type": "code",
   "execution_count": 3,
   "metadata": {},
   "outputs": [],
   "source": [
    "gt_matrix <- geno(vcf)$GT %>% replace(. == \".\", NA)"
   ]
  },
  {
   "cell_type": "code",
   "execution_count": 4,
   "metadata": {},
   "outputs": [],
   "source": [
    "mode(gt_matrix) <- \"numeric\""
   ]
  },
  {
   "cell_type": "code",
   "execution_count": 5,
   "metadata": {},
   "outputs": [
    {
     "data": {
      "text/html": [
       "<table>\n",
       "<thead><tr><th></th><th scope=col>consensus_a00</th><th scope=col>bcftools_a00</th><th scope=col>consensus_denisova8</th><th scope=col>bcftools_denisova8</th><th scope=col>consensus_ustishim</th><th scope=col>bcftools_ustishim</th></tr></thead>\n",
       "<tbody>\n",
       "\t<tr><th scope=row>Y:2650264_G/A</th><td>0 </td><td> 0</td><td>NA</td><td>1 </td><td>0 </td><td>0 </td></tr>\n",
       "\t<tr><th scope=row>Y:2650414_T/C</th><td>1 </td><td> 1</td><td> 1</td><td>1 </td><td>0 </td><td>0 </td></tr>\n",
       "\t<tr><th scope=row>Y:2652296_C/T</th><td>0 </td><td> 0</td><td>NA</td><td>1 </td><td>0 </td><td>0 </td></tr>\n",
       "\t<tr><th scope=row>Y:2653520_A/T</th><td>0 </td><td> 0</td><td>NA</td><td>1 </td><td>0 </td><td>0 </td></tr>\n",
       "\t<tr><th scope=row>Y:2653597_G/T</th><td>0 </td><td> 0</td><td>NA</td><td>1 </td><td>0 </td><td>0 </td></tr>\n",
       "\t<tr><th scope=row>Y:2656961_G/A</th><td>1 </td><td>NA</td><td>NA</td><td>0 </td><td>0 </td><td>0 </td></tr>\n",
       "</tbody>\n",
       "</table>\n"
      ],
      "text/latex": [
       "\\begin{tabular}{r|llllll}\n",
       "  & consensus\\_a00 & bcftools\\_a00 & consensus\\_denisova8 & bcftools\\_denisova8 & consensus\\_ustishim & bcftools\\_ustishim\\\\\n",
       "\\hline\n",
       "\tY:2650264\\_G/A & 0  &  0 & NA & 1  & 0  & 0 \\\\\n",
       "\tY:2650414\\_T/C & 1  &  1 &  1 & 1  & 0  & 0 \\\\\n",
       "\tY:2652296\\_C/T & 0  &  0 & NA & 1  & 0  & 0 \\\\\n",
       "\tY:2653520\\_A/T & 0  &  0 & NA & 1  & 0  & 0 \\\\\n",
       "\tY:2653597\\_G/T & 0  &  0 & NA & 1  & 0  & 0 \\\\\n",
       "\tY:2656961\\_G/A & 1  & NA & NA & 0  & 0  & 0 \\\\\n",
       "\\end{tabular}\n"
      ],
      "text/markdown": [
       "\n",
       "| <!--/--> | consensus_a00 | bcftools_a00 | consensus_denisova8 | bcftools_denisova8 | consensus_ustishim | bcftools_ustishim |\n",
       "|---|---|---|---|---|---|---|\n",
       "| Y:2650264_G/A | 0  |  0 | NA | 1  | 0  | 0  |\n",
       "| Y:2650414_T/C | 1  |  1 |  1 | 1  | 0  | 0  |\n",
       "| Y:2652296_C/T | 0  |  0 | NA | 1  | 0  | 0  |\n",
       "| Y:2653520_A/T | 0  |  0 | NA | 1  | 0  | 0  |\n",
       "| Y:2653597_G/T | 0  |  0 | NA | 1  | 0  | 0  |\n",
       "| Y:2656961_G/A | 1  | NA | NA | 0  | 0  | 0  |\n",
       "\n"
      ],
      "text/plain": [
       "              consensus_a00 bcftools_a00 consensus_denisova8 bcftools_denisova8\n",
       "Y:2650264_G/A 0              0           NA                  1                 \n",
       "Y:2650414_T/C 1              1            1                  1                 \n",
       "Y:2652296_C/T 0              0           NA                  1                 \n",
       "Y:2653520_A/T 0              0           NA                  1                 \n",
       "Y:2653597_G/T 0              0           NA                  1                 \n",
       "Y:2656961_G/A 1             NA           NA                  0                 \n",
       "              consensus_ustishim bcftools_ustishim\n",
       "Y:2650264_G/A 0                  0                \n",
       "Y:2650414_T/C 0                  0                \n",
       "Y:2652296_C/T 0                  0                \n",
       "Y:2653520_A/T 0                  0                \n",
       "Y:2653597_G/T 0                  0                \n",
       "Y:2656961_G/A 0                  0                "
      ]
     },
     "metadata": {},
     "output_type": "display_data"
    }
   ],
   "source": [
    "head(gt_matrix)"
   ]
  },
  {
   "cell_type": "code",
   "execution_count": 5,
   "metadata": {},
   "outputs": [],
   "source": [
    "gt <- as_tibble(gt_matrix, rownames = \"id\")"
   ]
  },
  {
   "cell_type": "code",
   "execution_count": 6,
   "metadata": {},
   "outputs": [
    {
     "data": {
      "text/html": [
       "<table>\n",
       "<thead><tr><th scope=col>id</th><th scope=col>consensus_a00</th><th scope=col>bcftools_a00</th><th scope=col>consensus_denisova8</th><th scope=col>bcftools_denisova8</th><th scope=col>consensus_ustishim</th><th scope=col>bcftools_ustishim</th></tr></thead>\n",
       "<tbody>\n",
       "\t<tr><td>Y:2650264_G/A</td><td>0            </td><td> 0           </td><td>NA           </td><td>1            </td><td>0            </td><td>0            </td></tr>\n",
       "\t<tr><td>Y:2650414_T/C</td><td>1            </td><td> 1           </td><td> 1           </td><td>1            </td><td>0            </td><td>0            </td></tr>\n",
       "\t<tr><td>Y:2652296_C/T</td><td>0            </td><td> 0           </td><td>NA           </td><td>1            </td><td>0            </td><td>0            </td></tr>\n",
       "\t<tr><td>Y:2653520_A/T</td><td>0            </td><td> 0           </td><td>NA           </td><td>1            </td><td>0            </td><td>0            </td></tr>\n",
       "\t<tr><td>Y:2653597_G/T</td><td>0            </td><td> 0           </td><td>NA           </td><td>1            </td><td>0            </td><td>0            </td></tr>\n",
       "\t<tr><td>Y:2656961_G/A</td><td>1            </td><td>NA           </td><td>NA           </td><td>0            </td><td>0            </td><td>0            </td></tr>\n",
       "</tbody>\n",
       "</table>\n"
      ],
      "text/latex": [
       "\\begin{tabular}{r|lllllll}\n",
       " id & consensus\\_a00 & bcftools\\_a00 & consensus\\_denisova8 & bcftools\\_denisova8 & consensus\\_ustishim & bcftools\\_ustishim\\\\\n",
       "\\hline\n",
       "\t Y:2650264\\_G/A & 0               &  0              & NA              & 1               & 0               & 0              \\\\\n",
       "\t Y:2650414\\_T/C & 1               &  1              &  1              & 1               & 0               & 0              \\\\\n",
       "\t Y:2652296\\_C/T & 0               &  0              & NA              & 1               & 0               & 0              \\\\\n",
       "\t Y:2653520\\_A/T & 0               &  0              & NA              & 1               & 0               & 0              \\\\\n",
       "\t Y:2653597\\_G/T & 0               &  0              & NA              & 1               & 0               & 0              \\\\\n",
       "\t Y:2656961\\_G/A & 1               & NA              & NA              & 0               & 0               & 0              \\\\\n",
       "\\end{tabular}\n"
      ],
      "text/markdown": [
       "\n",
       "| id | consensus_a00 | bcftools_a00 | consensus_denisova8 | bcftools_denisova8 | consensus_ustishim | bcftools_ustishim |\n",
       "|---|---|---|---|---|---|---|\n",
       "| Y:2650264_G/A | 0             |  0            | NA            | 1             | 0             | 0             |\n",
       "| Y:2650414_T/C | 1             |  1            |  1            | 1             | 0             | 0             |\n",
       "| Y:2652296_C/T | 0             |  0            | NA            | 1             | 0             | 0             |\n",
       "| Y:2653520_A/T | 0             |  0            | NA            | 1             | 0             | 0             |\n",
       "| Y:2653597_G/T | 0             |  0            | NA            | 1             | 0             | 0             |\n",
       "| Y:2656961_G/A | 1             | NA            | NA            | 0             | 0             | 0             |\n",
       "\n"
      ],
      "text/plain": [
       "  id            consensus_a00 bcftools_a00 consensus_denisova8\n",
       "1 Y:2650264_G/A 0              0           NA                 \n",
       "2 Y:2650414_T/C 1              1            1                 \n",
       "3 Y:2652296_C/T 0              0           NA                 \n",
       "4 Y:2653520_A/T 0              0           NA                 \n",
       "5 Y:2653597_G/T 0              0           NA                 \n",
       "6 Y:2656961_G/A 1             NA           NA                 \n",
       "  bcftools_denisova8 consensus_ustishim bcftools_ustishim\n",
       "1 1                  0                  0                \n",
       "2 1                  0                  0                \n",
       "3 1                  0                  0                \n",
       "4 1                  0                  0                \n",
       "5 1                  0                  0                \n",
       "6 0                  0                  0                "
      ]
     },
     "metadata": {},
     "output_type": "display_data"
    }
   ],
   "source": [
    "head(gt)"
   ]
  },
  {
   "cell_type": "code",
   "execution_count": 8,
   "metadata": {},
   "outputs": [
    {
     "data": {
      "text/html": [
       "0.999856702729813"
      ],
      "text/latex": [
       "0.999856702729813"
      ],
      "text/markdown": [
       "0.999856702729813"
      ],
      "text/plain": [
       "[1] 0.9998567"
      ]
     },
     "metadata": {},
     "output_type": "display_data"
    }
   ],
   "source": [
    "mean(gt$bcftools_a00 == gt$consensus_a00, na.rm = TRUE)"
   ]
  },
  {
   "cell_type": "code",
   "execution_count": 10,
   "metadata": {},
   "outputs": [
    {
     "data": {
      "text/html": [
       "0.995994659546061"
      ],
      "text/latex": [
       "0.995994659546061"
      ],
      "text/markdown": [
       "0.995994659546061"
      ],
      "text/plain": [
       "[1] 0.9959947"
      ]
     },
     "metadata": {},
     "output_type": "display_data"
    }
   ],
   "source": [
    "mean(gt$bcftools_denisova8 == gt$consensus_denisova8, na.rm = TRUE)"
   ]
  },
  {
   "cell_type": "code",
   "execution_count": 11,
   "metadata": {},
   "outputs": [
    {
     "data": {
      "text/html": [
       "0.99992508240935"
      ],
      "text/latex": [
       "0.99992508240935"
      ],
      "text/markdown": [
       "0.99992508240935"
      ],
      "text/plain": [
       "[1] 0.9999251"
      ]
     },
     "metadata": {},
     "output_type": "display_data"
    }
   ],
   "source": [
    "mean(gt$bcftools_ustishim == gt$consensus_ustishim, na.rm = TRUE)"
   ]
  },
  {
   "cell_type": "code",
   "execution_count": null,
   "metadata": {},
   "outputs": [],
   "source": []
  },
  {
   "cell_type": "code",
   "execution_count": null,
   "metadata": {},
   "outputs": [],
   "source": []
  },
  {
   "cell_type": "code",
   "execution_count": 12,
   "metadata": {},
   "outputs": [
    {
     "data": {
      "text/html": [
       "<table>\n",
       "<thead><tr><th scope=col>id</th><th scope=col>bcftools_denisova8</th><th scope=col>consensus_denisova8</th></tr></thead>\n",
       "<tbody>\n",
       "\t<tr><td>Y:7386706_A/G </td><td>0             </td><td>1             </td></tr>\n",
       "\t<tr><td>Y:16393801_A/T</td><td>0             </td><td>1             </td></tr>\n",
       "\t<tr><td>Y:17216507_A/T</td><td>0             </td><td>1             </td></tr>\n",
       "\t<tr><td>Y:17534364_G/T</td><td>0             </td><td>1             </td></tr>\n",
       "\t<tr><td>Y:19312183_T/A</td><td>0             </td><td>1             </td></tr>\n",
       "\t<tr><td>Y:19349615_T/C</td><td>0             </td><td>1             </td></tr>\n",
       "\t<tr><td>Y:21837775_G/A</td><td>0             </td><td>1             </td></tr>\n",
       "\t<tr><td>Y:22098004_G/A</td><td>0             </td><td>1             </td></tr>\n",
       "\t<tr><td>Y:23565114_A/T</td><td>0             </td><td>1             </td></tr>\n",
       "</tbody>\n",
       "</table>\n"
      ],
      "text/latex": [
       "\\begin{tabular}{r|lll}\n",
       " id & bcftools\\_denisova8 & consensus\\_denisova8\\\\\n",
       "\\hline\n",
       "\t Y:7386706\\_A/G  & 0                & 1               \\\\\n",
       "\t Y:16393801\\_A/T & 0                & 1               \\\\\n",
       "\t Y:17216507\\_A/T & 0                & 1               \\\\\n",
       "\t Y:17534364\\_G/T & 0                & 1               \\\\\n",
       "\t Y:19312183\\_T/A & 0                & 1               \\\\\n",
       "\t Y:19349615\\_T/C & 0                & 1               \\\\\n",
       "\t Y:21837775\\_G/A & 0                & 1               \\\\\n",
       "\t Y:22098004\\_G/A & 0                & 1               \\\\\n",
       "\t Y:23565114\\_A/T & 0                & 1               \\\\\n",
       "\\end{tabular}\n"
      ],
      "text/markdown": [
       "\n",
       "| id | bcftools_denisova8 | consensus_denisova8 |\n",
       "|---|---|---|\n",
       "| Y:7386706_A/G  | 0              | 1              |\n",
       "| Y:16393801_A/T | 0              | 1              |\n",
       "| Y:17216507_A/T | 0              | 1              |\n",
       "| Y:17534364_G/T | 0              | 1              |\n",
       "| Y:19312183_T/A | 0              | 1              |\n",
       "| Y:19349615_T/C | 0              | 1              |\n",
       "| Y:21837775_G/A | 0              | 1              |\n",
       "| Y:22098004_G/A | 0              | 1              |\n",
       "| Y:23565114_A/T | 0              | 1              |\n",
       "\n"
      ],
      "text/plain": [
       "  id             bcftools_denisova8 consensus_denisova8\n",
       "1 Y:7386706_A/G  0                  1                  \n",
       "2 Y:16393801_A/T 0                  1                  \n",
       "3 Y:17216507_A/T 0                  1                  \n",
       "4 Y:17534364_G/T 0                  1                  \n",
       "5 Y:19312183_T/A 0                  1                  \n",
       "6 Y:19349615_T/C 0                  1                  \n",
       "7 Y:21837775_G/A 0                  1                  \n",
       "8 Y:22098004_G/A 0                  1                  \n",
       "9 Y:23565114_A/T 0                  1                  "
      ]
     },
     "metadata": {},
     "output_type": "display_data"
    }
   ],
   "source": [
    "gt[, c(\"id\", \"bcftools_denisova8\", \"consensus_denisova8\")] %>%\n",
    ".[complete.cases(.), ] %>%\n",
    ".[(.$bcftools_denisova8 != .$consensus_denisova8), ]"
   ]
  },
  {
   "cell_type": "code",
   "execution_count": 16,
   "metadata": {},
   "outputs": [
    {
     "data": {
      "text/html": [
       "0.000142775556824672"
      ],
      "text/latex": [
       "0.000142775556824672"
      ],
      "text/markdown": [
       "0.000142775556824672"
      ],
      "text/plain": [
       "[1] 0.0001427756"
      ]
     },
     "metadata": {},
     "output_type": "display_data"
    }
   ],
   "source": [
    "2 / sum(!is.na(gt$consensus_a00))"
   ]
  },
  {
   "cell_type": "code",
   "execution_count": 13,
   "metadata": {},
   "outputs": [
    {
     "data": {
      "text/html": [
       "<table>\n",
       "<thead><tr><th scope=col>id</th><th scope=col>bcftools_a00</th><th scope=col>consensus_a00</th></tr></thead>\n",
       "<tbody>\n",
       "\t<tr><td>Y:5976705_C/A </td><td>0             </td><td>1             </td></tr>\n",
       "\t<tr><td>Y:10017879_T/C</td><td>0             </td><td>1             </td></tr>\n",
       "</tbody>\n",
       "</table>\n"
      ],
      "text/latex": [
       "\\begin{tabular}{r|lll}\n",
       " id & bcftools\\_a00 & consensus\\_a00\\\\\n",
       "\\hline\n",
       "\t Y:5976705\\_C/A  & 0                & 1               \\\\\n",
       "\t Y:10017879\\_T/C & 0                & 1               \\\\\n",
       "\\end{tabular}\n"
      ],
      "text/markdown": [
       "\n",
       "| id | bcftools_a00 | consensus_a00 |\n",
       "|---|---|---|\n",
       "| Y:5976705_C/A  | 0              | 1              |\n",
       "| Y:10017879_T/C | 0              | 1              |\n",
       "\n"
      ],
      "text/plain": [
       "  id             bcftools_a00 consensus_a00\n",
       "1 Y:5976705_C/A  0            1            \n",
       "2 Y:10017879_T/C 0            1            "
      ]
     },
     "metadata": {},
     "output_type": "display_data"
    }
   ],
   "source": [
    "gt[, c(\"id\", \"bcftools_a00\", \"consensus_a00\")] %>%\n",
    ".[complete.cases(.), ] %>%\n",
    ".[(.$bcftools_a00 != .$consensus_a00), ]"
   ]
  },
  {
   "cell_type": "code",
   "execution_count": 14,
   "metadata": {},
   "outputs": [
    {
     "data": {
      "text/html": [
       "<table>\n",
       "<thead><tr><th scope=col>id</th><th scope=col>bcftools_ustishim</th><th scope=col>consensus_ustishim</th></tr></thead>\n",
       "<tbody>\n",
       "\t<tr><td>Y:13142438_G/T</td><td>0             </td><td>1             </td></tr>\n",
       "</tbody>\n",
       "</table>\n"
      ],
      "text/latex": [
       "\\begin{tabular}{r|lll}\n",
       " id & bcftools\\_ustishim & consensus\\_ustishim\\\\\n",
       "\\hline\n",
       "\t Y:13142438\\_G/T & 0                & 1               \\\\\n",
       "\\end{tabular}\n"
      ],
      "text/markdown": [
       "\n",
       "| id | bcftools_ustishim | consensus_ustishim |\n",
       "|---|---|---|\n",
       "| Y:13142438_G/T | 0              | 1              |\n",
       "\n"
      ],
      "text/plain": [
       "  id             bcftools_ustishim consensus_ustishim\n",
       "1 Y:13142438_G/T 0                 1                 "
      ]
     },
     "metadata": {},
     "output_type": "display_data"
    }
   ],
   "source": [
    "gt[, c(\"id\", \"bcftools_ustishim\", \"consensus_ustishim\")] %>%\n",
    ".[complete.cases(.), ] %>%\n",
    ".[(.$bcftools_ustishim != .$consensus_ustishim), ]"
   ]
  }
 ],
 "metadata": {
  "kernelspec": {
   "display_name": "R",
   "language": "R",
   "name": "ir"
  },
  "language_info": {
   "codemirror_mode": "r",
   "file_extension": ".r",
   "mimetype": "text/x-r-source",
   "name": "R",
   "pygments_lexer": "r",
   "version": "3.5.2"
  }
 },
 "nbformat": 4,
 "nbformat_minor": 2
}
