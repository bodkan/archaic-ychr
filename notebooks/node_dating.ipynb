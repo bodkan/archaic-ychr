{
 "cells": [
  {
   "cell_type": "code",
   "execution_count": 1,
   "metadata": {
    "collapsed": false
   },
   "outputs": [
    {
     "name": "stderr",
     "output_type": "stream",
     "text": [
      "── \u001b[1mAttaching packages\u001b[22m ─────────────────────────────────────── tidyverse 1.2.1 ──\n"
     ]
    },
    {
     "name": "stderr",
     "output_type": "stream",
     "text": [
      "\u001b[32m✔\u001b[39m \u001b[34mggplot2\u001b[39m 3.2.1     \u001b[32m✔\u001b[39m \u001b[34mpurrr  \u001b[39m 0.3.2\n",
      "\u001b[32m✔\u001b[39m \u001b[34mtibble \u001b[39m 2.1.3     \u001b[32m✔\u001b[39m \u001b[34mdplyr  \u001b[39m 0.8.3\n",
      "\u001b[32m✔\u001b[39m \u001b[34mtidyr  \u001b[39m 1.0.0     \u001b[32m✔\u001b[39m \u001b[34mstringr\u001b[39m 1.4.0\n",
      "\u001b[32m✔\u001b[39m \u001b[34mreadr  \u001b[39m 1.3.1     \u001b[32m✔\u001b[39m \u001b[34mforcats\u001b[39m 0.4.0\n"
     ]
    },
    {
     "name": "stderr",
     "output_type": "stream",
     "text": [
      "── \u001b[1mConflicts\u001b[22m ────────────────────────────────────────── tidyverse_conflicts() ──\n",
      "\u001b[31m✖\u001b[39m \u001b[34mdplyr\u001b[39m::\u001b[32mfilter()\u001b[39m masks \u001b[34mstats\u001b[39m::filter()\n",
      "\u001b[31m✖\u001b[39m \u001b[34mdplyr\u001b[39m::\u001b[32mlag()\u001b[39m    masks \u001b[34mstats\u001b[39m::lag()\n"
     ]
    },
    {
     "name": "stderr",
     "output_type": "stream",
     "text": [
      "\n",
      "Attaching package: ‘magrittr’\n",
      "\n"
     ]
    },
    {
     "name": "stderr",
     "output_type": "stream",
     "text": [
      "The following object is masked from ‘package:purrr’:\n",
      "\n",
      "    set_names\n",
      "\n"
     ]
    },
    {
     "name": "stderr",
     "output_type": "stream",
     "text": [
      "The following object is masked from ‘package:tidyr’:\n",
      "\n",
      "    extract\n",
      "\n"
     ]
    },
    {
     "name": "stderr",
     "output_type": "stream",
     "text": [
      "here() starts at /mnt/expressions/mp/archaic-ychr\n"
     ]
    },
    {
     "name": "stderr",
     "output_type": "stream",
     "text": [
      "Loading required package: future\n"
     ]
    },
    {
     "name": "stderr",
     "output_type": "stream",
     "text": [
      "Loading ychr\n"
     ]
    }
   ],
   "source": [
    "library(tidyverse)\n",
    "library(magrittr)\n",
    "library(here)\n",
    "library(furrr)\n",
    "library(binom)\n",
    "\n",
    "devtools::load_all(\".\")\n",
    "\n",
    "plan(multiprocess)\n",
    "\n",
    "options(future.globals.maxSize = 1500*1024^2)"
   ]
  },
  {
   "cell_type": "markdown",
   "metadata": {
    "collapsed": false
   },
   "source": [
    "# Lineage assignment (Mez2 vs A00 vs chimp)"
   ]
  },
  {
   "cell_type": "code",
   "execution_count": 2,
   "metadata": {
    "collapsed": false
   },
   "outputs": [],
   "source": [
    "highcov_all %<-% read_genotypes(\"mez2\", \"full\", mindp = 3, maxdp = 0.98, nodmg = F, var_only = T)\n",
    "highcov_nodmg %<-% read_genotypes(\"mez2\", \"full\", mindp = 3, maxdp = 0.98, nodmg = T, var_only = T)"
   ]
  },
  {
   "cell_type": "code",
   "execution_count": 3,
   "metadata": {
    "collapsed": false
   },
   "outputs": [
    {
     "data": {
      "text/html": [
       "220488"
      ],
      "text/latex": [
       "220488"
      ],
      "text/markdown": [
       "220488"
      ],
      "text/plain": [
       "[1] 220488"
      ]
     },
     "metadata": {},
     "output_type": "display_data"
    },
    {
     "data": {
      "text/html": [
       "155326"
      ],
      "text/latex": [
       "155326"
      ],
      "text/markdown": [
       "155326"
      ],
      "text/plain": [
       "[1] 155326"
      ]
     },
     "metadata": {},
     "output_type": "display_data"
    }
   ],
   "source": [
    "nrow(highcov_all)\n",
    "nrow(highcov_nodmg)"
   ]
  },
  {
   "cell_type": "markdown",
   "metadata": {
    "collapsed": false
   },
   "source": [
    "Approximate length of the _Mezmaiskaya 2_ branch in years:"
   ]
  },
  {
   "cell_type": "code",
   "execution_count": 4,
   "metadata": {
    "collapsed": false
   },
   "outputs": [],
   "source": [
    "mez2_branch <- 370 - 44"
   ]
  },
  {
   "cell_type": "code",
   "execution_count": 24,
   "metadata": {
    "collapsed": false
   },
   "outputs": [],
   "source": [
    "#' Get positions at which individual 'ind_b' is derived\n",
    "#' and a set of individuals in 'ancestral_ind' is ancestral (including\n",
    "#' the reference.\n",
    "get_derived <- function(ind_a, ind_b, gt, ancestral_ind, mindp) {\n",
    "    capture <- ifelse(ind_a == \"elsidron2\", \"lippold\", \"full\")\n",
    "\n",
    "    ind_gt <- here(paste0(\"data/vcf/\", capture, \"_\", ind_a, \".vcf.gz\")) %>%\n",
    "        read_vcf(mindp = mindp, maxdp = 0.98) %>%\n",
    "        filter(!is.na(!!sym(ind_a)))\n",
    "\n",
    "    gt <- gt[, c(\"chrom\", \"pos\", \"REF\", \"ALT\", ind_b, ancestral_ind)]\n",
    "    ancestral_freq <- gt[, ancestral_ind] %>% rowMeans\n",
    "    from_derived <- filter(gt, !!sym(ind_b) == 1, ancestral_freq == 0)\n",
    "\n",
    "    joined_gt <- inner_join(from_derived, ind_gt, by = c(\"chrom\", \"pos\", \"REF\")) %>%\n",
    "        filter(complete.cases(.)) %>%\n",
    "        select(-ALT.y) %>%\n",
    "        rename(ALT = ALT.x)\n",
    "\n",
    "    joined_gt\n",
    "}"
   ]
  },
  {
   "cell_type": "code",
   "execution_count": 36,
   "metadata": {
    "collapsed": false
   },
   "outputs": [],
   "source": [
    "tmrca_df <- readRDS(here(\"data/rds/tmrca_df.rds\"))\n",
    "mez2_tmrca <- filter(tmrca_df, afr == \"a00\", arch == \"mez2\", sites == \"all\", dp == 3, filt == \"filt50\", capture == \"full\") %>% .$tmrca_new %>% mean\n",
    "mez2_age <- 44000"
   ]
  },
  {
   "cell_type": "code",
   "execution_count": 51,
   "metadata": {
    "collapsed": false
   },
   "outputs": [],
   "source": [
    "estimate_split <- function(ind, gt, ancestral_ind,  mindp) {\n",
    "  mez2_branch <- 370000\n",
    "\n",
    "  mez2_derived <- get_derived(ind, \"mez2\", gt, ancestral_ind, mindp)\n",
    "\n",
    "  counts <- ifelse(mez2_derived[[ind]] == 0, \"ref\", \"alt\") %>%\n",
    "    factor(levels = c(\"ref\", \"alt\")) %>%\n",
    "    table %>%\n",
    "    as.matrix %>%\n",
    "    t %>%\n",
    "    as.data.frame\n",
    "\n",
    "  ## simulate confidence intervals by sampling REF/ALT counts from Poisson\n",
    "  sample_refs <- rpois(1000, counts$ref)\n",
    "  sample_alts <- rpois(1000, counts$alt)\n",
    "  tmrca_ci <- quantile(\n",
    "    sample_refs / (sample_refs + sample_alts) * (mez2_tmrca - mez2_age) + mez2_age,\n",
    "    c(0.025, 0.975)\n",
    "  )\n",
    "\n",
    "  counts %>%\n",
    "    mutate(\n",
    "      ind = ind,\n",
    "      prop_ref = ref / (ref + alt),\n",
    "      tmrca = prop_ref * (mez2_tmrca - mez2_age) + mez2_age,\n",
    "      tmrca_low = tmrca_ci[1],\n",
    "      tmrca_high = tmrca_ci[2]\n",
    "    ) %>%\n",
    "    select(ind, everything())\n",
    "}  "
   ]
  },
  {
   "cell_type": "code",
   "execution_count": 44,
   "metadata": {
    "collapsed": false
   },
   "outputs": [
    {
     "data": {
      "text/html": [
       "<table>\n",
       "<caption>A data.frame: 1 × 6</caption>\n",
       "<thead>\n",
       "\t<tr><th scope=col>ind</th><th scope=col>ref</th><th scope=col>alt</th><th scope=col>tmrca</th><th scope=col>tmrca_low</th><th scope=col>tmrca_high</th></tr>\n",
       "\t<tr><th scope=col>&lt;chr&gt;</th><th scope=col>&lt;int&gt;</th><th scope=col>&lt;int&gt;</th><th scope=col>&lt;dbl&gt;</th><th scope=col>&lt;dbl&gt;</th><th scope=col>&lt;dbl&gt;</th></tr>\n",
       "</thead>\n",
       "<tbody>\n",
       "\t<tr><td>spy1</td><td>12</td><td>45</td><td>114304.4</td><td>80649.44</td><td>150862.7</td></tr>\n",
       "</tbody>\n",
       "</table>\n"
      ],
      "text/latex": [
       "A data.frame: 1 × 6\n",
       "\\begin{tabular}{llllll}\n",
       " ind & ref & alt & tmrca & tmrca\\_low & tmrca\\_high\\\\\n",
       " <chr> & <int> & <int> & <dbl> & <dbl> & <dbl>\\\\\n",
       "\\hline\n",
       "\t spy1 & 12 & 45 & 114304.4 & 80649.44 & 150862.7\\\\\n",
       "\\end{tabular}\n"
      ],
      "text/markdown": [
       "\n",
       "A data.frame: 1 × 6\n",
       "\n",
       "| ind &lt;chr&gt; | ref &lt;int&gt; | alt &lt;int&gt; | tmrca &lt;dbl&gt; | tmrca_low &lt;dbl&gt; | tmrca_high &lt;dbl&gt; |\n",
       "|---|---|---|---|---|---|\n",
       "| spy1 | 12 | 45 | 114304.4 | 80649.44 | 150862.7 |\n",
       "\n"
      ],
      "text/plain": [
       "  ind  ref alt tmrca    tmrca_low tmrca_high\n",
       "1 spy1 12  45  114304.4 80649.44  150862.7  "
      ]
     },
     "metadata": {},
     "output_type": "display_data"
    }
   ],
   "source": [
    "future_map_dfr(c(\"spy1\", \"elsidron2\", paste0(\"mez2_dp\", 1:10)), ~ estimate_split(\"spy1\", highcov_all, c(\"a00\", \"chimp\", \"S_French_1\"), mindp = 3))"
   ]
  },
  {
   "cell_type": "code",
   "execution_count": 62,
   "metadata": {
    "collapsed": false
   },
   "outputs": [
    {
     "data": {
      "text/html": [
       "<table>\n",
       "<caption>A data.frame: 12 × 7</caption>\n",
       "<thead>\n",
       "\t<tr><th scope=col>ind</th><th scope=col>ref</th><th scope=col>alt</th><th scope=col>prop_ref</th><th scope=col>tmrca</th><th scope=col>tmrca_low</th><th scope=col>tmrca_high</th></tr>\n",
       "\t<tr><th scope=col>&lt;chr&gt;</th><th scope=col>&lt;int&gt;</th><th scope=col>&lt;int&gt;</th><th scope=col>&lt;dbl&gt;</th><th scope=col>&lt;dbl&gt;</th><th scope=col>&lt;dbl&gt;</th><th scope=col>&lt;dbl&gt;</th></tr>\n",
       "</thead>\n",
       "<tbody>\n",
       "\t<tr><td>spy1     </td><td>12</td><td> 45</td><td>0.2105263</td><td>114304.44</td><td>79958.84</td><td>152325.3</td></tr>\n",
       "\t<tr><td>elsidron2</td><td> 8</td><td> 66</td><td>0.1081081</td><td> 80102.28</td><td>57914.42</td><td>105660.8</td></tr>\n",
       "\t<tr><td>mez2_dp1 </td><td> 0</td><td> 43</td><td>0.0000000</td><td> 44000.00</td><td>44000.00</td><td> 44000.0</td></tr>\n",
       "\t<tr><td>mez2_dp2 </td><td> 0</td><td>217</td><td>0.0000000</td><td> 44000.00</td><td>44000.00</td><td> 44000.0</td></tr>\n",
       "\t<tr><td>mez2_dp3 </td><td> 0</td><td>416</td><td>0.0000000</td><td> 44000.00</td><td>44000.00</td><td> 44000.0</td></tr>\n",
       "\t<tr><td>mez2_dp4 </td><td> 0</td><td>601</td><td>0.0000000</td><td> 44000.00</td><td>44000.00</td><td> 44000.0</td></tr>\n",
       "\t<tr><td>mez2_dp5 </td><td> 0</td><td>709</td><td>0.0000000</td><td> 44000.00</td><td>44000.00</td><td> 44000.0</td></tr>\n",
       "\t<tr><td>mez2_dp6 </td><td> 0</td><td>804</td><td>0.0000000</td><td> 44000.00</td><td>44000.00</td><td> 44000.0</td></tr>\n",
       "\t<tr><td>mez2_dp7 </td><td> 0</td><td>880</td><td>0.0000000</td><td> 44000.00</td><td>44000.00</td><td> 44000.0</td></tr>\n",
       "\t<tr><td>mez2_dp8 </td><td> 0</td><td>938</td><td>0.0000000</td><td> 44000.00</td><td>44000.00</td><td> 44000.0</td></tr>\n",
       "\t<tr><td>mez2_dp9 </td><td> 0</td><td>968</td><td>0.0000000</td><td> 44000.00</td><td>44000.00</td><td> 44000.0</td></tr>\n",
       "\t<tr><td>mez2_dp10</td><td> 0</td><td>996</td><td>0.0000000</td><td> 44000.00</td><td>44000.00</td><td> 44000.0</td></tr>\n",
       "</tbody>\n",
       "</table>\n"
      ],
      "text/latex": [
       "A data.frame: 12 × 7\n",
       "\\begin{tabular}{lllllll}\n",
       " ind & ref & alt & prop\\_ref & tmrca & tmrca\\_low & tmrca\\_high\\\\\n",
       " <chr> & <int> & <int> & <dbl> & <dbl> & <dbl> & <dbl>\\\\\n",
       "\\hline\n",
       "\t spy1      & 12 &  45 & 0.2105263 & 114304.44 & 79958.84 & 152325.3\\\\\n",
       "\t elsidron2 &  8 &  66 & 0.1081081 &  80102.28 & 57914.42 & 105660.8\\\\\n",
       "\t mez2\\_dp1  &  0 &  43 & 0.0000000 &  44000.00 & 44000.00 &  44000.0\\\\\n",
       "\t mez2\\_dp2  &  0 & 217 & 0.0000000 &  44000.00 & 44000.00 &  44000.0\\\\\n",
       "\t mez2\\_dp3  &  0 & 416 & 0.0000000 &  44000.00 & 44000.00 &  44000.0\\\\\n",
       "\t mez2\\_dp4  &  0 & 601 & 0.0000000 &  44000.00 & 44000.00 &  44000.0\\\\\n",
       "\t mez2\\_dp5  &  0 & 709 & 0.0000000 &  44000.00 & 44000.00 &  44000.0\\\\\n",
       "\t mez2\\_dp6  &  0 & 804 & 0.0000000 &  44000.00 & 44000.00 &  44000.0\\\\\n",
       "\t mez2\\_dp7  &  0 & 880 & 0.0000000 &  44000.00 & 44000.00 &  44000.0\\\\\n",
       "\t mez2\\_dp8  &  0 & 938 & 0.0000000 &  44000.00 & 44000.00 &  44000.0\\\\\n",
       "\t mez2\\_dp9  &  0 & 968 & 0.0000000 &  44000.00 & 44000.00 &  44000.0\\\\\n",
       "\t mez2\\_dp10 &  0 & 996 & 0.0000000 &  44000.00 & 44000.00 &  44000.0\\\\\n",
       "\\end{tabular}\n"
      ],
      "text/markdown": [
       "\n",
       "A data.frame: 12 × 7\n",
       "\n",
       "| ind &lt;chr&gt; | ref &lt;int&gt; | alt &lt;int&gt; | prop_ref &lt;dbl&gt; | tmrca &lt;dbl&gt; | tmrca_low &lt;dbl&gt; | tmrca_high &lt;dbl&gt; |\n",
       "|---|---|---|---|---|---|---|\n",
       "| spy1      | 12 |  45 | 0.2105263 | 114304.44 | 79958.84 | 152325.3 |\n",
       "| elsidron2 |  8 |  66 | 0.1081081 |  80102.28 | 57914.42 | 105660.8 |\n",
       "| mez2_dp1  |  0 |  43 | 0.0000000 |  44000.00 | 44000.00 |  44000.0 |\n",
       "| mez2_dp2  |  0 | 217 | 0.0000000 |  44000.00 | 44000.00 |  44000.0 |\n",
       "| mez2_dp3  |  0 | 416 | 0.0000000 |  44000.00 | 44000.00 |  44000.0 |\n",
       "| mez2_dp4  |  0 | 601 | 0.0000000 |  44000.00 | 44000.00 |  44000.0 |\n",
       "| mez2_dp5  |  0 | 709 | 0.0000000 |  44000.00 | 44000.00 |  44000.0 |\n",
       "| mez2_dp6  |  0 | 804 | 0.0000000 |  44000.00 | 44000.00 |  44000.0 |\n",
       "| mez2_dp7  |  0 | 880 | 0.0000000 |  44000.00 | 44000.00 |  44000.0 |\n",
       "| mez2_dp8  |  0 | 938 | 0.0000000 |  44000.00 | 44000.00 |  44000.0 |\n",
       "| mez2_dp9  |  0 | 968 | 0.0000000 |  44000.00 | 44000.00 |  44000.0 |\n",
       "| mez2_dp10 |  0 | 996 | 0.0000000 |  44000.00 | 44000.00 |  44000.0 |\n",
       "\n"
      ],
      "text/plain": [
       "   ind       ref alt prop_ref  tmrca     tmrca_low tmrca_high\n",
       "1  spy1      12   45 0.2105263 114304.44 79958.84  152325.3  \n",
       "2  elsidron2  8   66 0.1081081  80102.28 57914.42  105660.8  \n",
       "3  mez2_dp1   0   43 0.0000000  44000.00 44000.00   44000.0  \n",
       "4  mez2_dp2   0  217 0.0000000  44000.00 44000.00   44000.0  \n",
       "5  mez2_dp3   0  416 0.0000000  44000.00 44000.00   44000.0  \n",
       "6  mez2_dp4   0  601 0.0000000  44000.00 44000.00   44000.0  \n",
       "7  mez2_dp5   0  709 0.0000000  44000.00 44000.00   44000.0  \n",
       "8  mez2_dp6   0  804 0.0000000  44000.00 44000.00   44000.0  \n",
       "9  mez2_dp7   0  880 0.0000000  44000.00 44000.00   44000.0  \n",
       "10 mez2_dp8   0  938 0.0000000  44000.00 44000.00   44000.0  \n",
       "11 mez2_dp9   0  968 0.0000000  44000.00 44000.00   44000.0  \n",
       "12 mez2_dp10  0  996 0.0000000  44000.00 44000.00   44000.0  "
      ]
     },
     "metadata": {},
     "output_type": "display_data"
    }
   ],
   "source": [
    "future_map_dfr(c(\"spy1\", \"elsidron2\", paste0(\"mez2_dp\", 1:10)), ~ estimate_split(.x, highcov_all, c(\"a00\", \"chimp\", \"S_French_1\"), mindp = 3))"
   ]
  },
  {
   "cell_type": "code",
   "execution_count": 50,
   "metadata": {
    "collapsed": false
   },
   "outputs": [
    {
     "data": {
      "text/html": [
       "<table>\n",
       "<caption>A data.frame: 5 × 6</caption>\n",
       "<thead>\n",
       "\t<tr><th scope=col>ind</th><th scope=col>ref</th><th scope=col>alt</th><th scope=col>tmrca</th><th scope=col>tmrca_low</th><th scope=col>tmrca_high</th></tr>\n",
       "\t<tr><th scope=col>&lt;chr&gt;</th><th scope=col>&lt;int&gt;</th><th scope=col>&lt;int&gt;</th><th scope=col>&lt;dbl&gt;</th><th scope=col>&lt;dbl&gt;</th><th scope=col>&lt;dbl&gt;</th></tr>\n",
       "</thead>\n",
       "<tbody>\n",
       "\t<tr><td>chag01</td><td>111</td><td>177</td><td>172708.4</td><td>154499.53</td><td>191502.7</td></tr>\n",
       "\t<tr><td>chag41</td><td>146</td><td>549</td><td>114152.7</td><td>103773.98</td><td>124505.3</td></tr>\n",
       "\t<tr><td>chag13</td><td> 58</td><td>206</td><td>117366.9</td><td>100327.48</td><td>133717.8</td></tr>\n",
       "\t<tr><td>chag07</td><td> 46</td><td>209</td><td>104241.3</td><td> 89183.63</td><td>120607.9</td></tr>\n",
       "\t<tr><td>chag19</td><td> 33</td><td>141</td><td>107334.6</td><td> 88985.00</td><td>128544.0</td></tr>\n",
       "</tbody>\n",
       "</table>\n"
      ],
      "text/latex": [
       "A data.frame: 5 × 6\n",
       "\\begin{tabular}{llllll}\n",
       " ind & ref & alt & tmrca & tmrca\\_low & tmrca\\_high\\\\\n",
       " <chr> & <int> & <int> & <dbl> & <dbl> & <dbl>\\\\\n",
       "\\hline\n",
       "\t chag01 & 111 & 177 & 172708.4 & 154499.53 & 191502.7\\\\\n",
       "\t chag41 & 146 & 549 & 114152.7 & 103773.98 & 124505.3\\\\\n",
       "\t chag13 &  58 & 206 & 117366.9 & 100327.48 & 133717.8\\\\\n",
       "\t chag07 &  46 & 209 & 104241.3 &  89183.63 & 120607.9\\\\\n",
       "\t chag19 &  33 & 141 & 107334.6 &  88985.00 & 128544.0\\\\\n",
       "\\end{tabular}\n"
      ],
      "text/markdown": [
       "\n",
       "A data.frame: 5 × 6\n",
       "\n",
       "| ind &lt;chr&gt; | ref &lt;int&gt; | alt &lt;int&gt; | tmrca &lt;dbl&gt; | tmrca_low &lt;dbl&gt; | tmrca_high &lt;dbl&gt; |\n",
       "|---|---|---|---|---|---|\n",
       "| chag01 | 111 | 177 | 172708.4 | 154499.53 | 191502.7 |\n",
       "| chag41 | 146 | 549 | 114152.7 | 103773.98 | 124505.3 |\n",
       "| chag13 |  58 | 206 | 117366.9 | 100327.48 | 133717.8 |\n",
       "| chag07 |  46 | 209 | 104241.3 |  89183.63 | 120607.9 |\n",
       "| chag19 |  33 | 141 | 107334.6 |  88985.00 | 128544.0 |\n",
       "\n"
      ],
      "text/plain": [
       "  ind    ref alt tmrca    tmrca_low tmrca_high\n",
       "1 chag01 111 177 172708.4 154499.53 191502.7  \n",
       "2 chag41 146 549 114152.7 103773.98 124505.3  \n",
       "3 chag13  58 206 117366.9 100327.48 133717.8  \n",
       "4 chag07  46 209 104241.3  89183.63 120607.9  \n",
       "5 chag19  33 141 107334.6  88985.00 128544.0  "
      ]
     },
     "metadata": {},
     "output_type": "display_data"
    }
   ],
   "source": [
    "future_map_dfr(c(\"chag01\", \"chag41\", \"chag13\", \"chag07\", \"chag19\"), ~ estimate_split(.x, highcov_all, c(\"a00\", \"chimp\", \"S_French_1\"), mindp = 2))"
   ]
  },
  {
   "cell_type": "code",
   "execution_count": 60,
   "metadata": {
    "collapsed": false
   },
   "outputs": [
    {
     "data": {
      "image/png": "[encoded data removed]",
      "text/plain": [
       "plot without title"
      ]
     },
     "metadata": {},
     "output_type": "display_data"
    }
   ],
   "source": [
    "plot(1:100)"
   ]
  }
 ],
 "metadata": {
  "kernelspec": {
   "argv": [
    "/usr/local64/opt/R-3.6.0/lib/R/bin/R",
    "--slave",
    "-e",
    "IRkernel::main()",
    "--args",
    "{connection_file}"
   ],
   "display_name": "R",
   "env": null,
   "interrupt_mode": "signal",
   "language": "R",
   "metadata": null,
   "name": "ir"
  },
  "language_info": {
   "codemirror_mode": "r",
   "file_extension": ".r",
   "mimetype": "text/x-r-source",
   "name": "R",
   "pygments_lexer": "r",
   "version": "3.6.0"
  },
  "name": "node_dating.ipynb"
 },
 "nbformat": 4,
 "nbformat_minor": 2
}
