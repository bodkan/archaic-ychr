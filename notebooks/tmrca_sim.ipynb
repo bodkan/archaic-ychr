{
 "cells": [
  {
   "cell_type": "code",
   "execution_count": 1,
   "metadata": {},
   "outputs": [
    {
     "name": "stderr",
     "output_type": "stream",
     "text": [
      "── Attaching packages ─────────────────────────────────────── tidyverse 1.2.1 ──\n",
      "✔ ggplot2 3.1.0       ✔ purrr   0.3.0  \n",
      "✔ tibble  2.0.1       ✔ dplyr   0.8.0.1\n",
      "✔ tidyr   0.8.2       ✔ stringr 1.4.0  \n",
      "✔ readr   1.3.1       ✔ forcats 0.4.0  \n",
      "── Conflicts ────────────────────────────────────────── tidyverse_conflicts() ──\n",
      "✖ dplyr::filter() masks stats::filter()\n",
      "✖ dplyr::lag()    masks stats::lag()\n",
      "\n",
      "Attaching package: ‘magrittr’\n",
      "\n",
      "The following object is masked from ‘package:purrr’:\n",
      "\n",
      "    set_names\n",
      "\n",
      "The following object is masked from ‘package:tidyr’:\n",
      "\n",
      "    extract\n",
      "\n",
      "here() starts at /Users/martin_petr/projects/ychr\n",
      "\n",
      "Attaching package: ‘bdkn’\n",
      "\n",
      "The following object is masked from ‘package:ggplot2’:\n",
      "\n",
      "    %+%\n",
      "\n"
     ]
    }
   ],
   "source": [
    "library(tidyverse)\n",
    "library(magrittr)\n",
    "library(here)\n",
    "library(bdkn)"
   ]
  },
  {
   "cell_type": "code",
   "execution_count": 2,
   "metadata": {
    "scrolled": false
   },
   "outputs": [
    {
     "name": "stderr",
     "output_type": "stream",
     "text": [
      "Loading ychr\n"
     ]
    }
   ],
   "source": [
    "devtools::load_all(\".\")"
   ]
  },
  {
   "cell_type": "code",
   "execution_count": 12,
   "metadata": {},
   "outputs": [],
   "source": [
    "gt <- read_simgt(\"../out.tsv\")"
   ]
  },
  {
   "cell_type": "code",
   "execution_count": 13,
   "metadata": {},
   "outputs": [],
   "source": [
    "samples <- read_siminfo(gt)"
   ]
  },
  {
   "cell_type": "code",
   "execution_count": 14,
   "metadata": {},
   "outputs": [],
   "source": [
    "tAfrRef <- calculate_tAfrRef(gt, samples) %>% select(afr, emh, starts_with(\"tmrca\"), mut_rate, everything())"
   ]
  },
  {
   "cell_type": "code",
   "execution_count": 15,
   "metadata": {},
   "outputs": [
    {
     "data": {
      "text/html": [
       "<table>\n",
       "<thead><tr><th scope=col>afr</th><th scope=col>tmrca_ad</th><th scope=col>tmrca_f</th><th scope=col>tmrca_avg</th><th scope=col>mut_rate</th><th scope=col>a</th><th scope=col>b</th><th scope=col>c</th><th scope=col>d</th><th scope=col>e</th><th scope=col>f</th><th scope=col>total</th><th scope=col>age</th><th scope=col>muts_per_year</th></tr></thead>\n",
       "<tbody>\n",
       "\t<tr><td>afr0        </td><td>217290.2    </td><td>225891.6    </td><td>221590.9    </td><td>3.754053e-11</td><td>44          </td><td>0           </td><td>0           </td><td>12.8        </td><td>1           </td><td>59          </td><td>6985043     </td><td>45000       </td><td>0.0002622222</td></tr>\n",
       "\t<tr><td>afr1        </td><td>217290.2    </td><td>225891.6    </td><td>221590.9    </td><td>3.754053e-11</td><td>44          </td><td>0           </td><td>0           </td><td>12.8        </td><td>1           </td><td>59          </td><td>6985043     </td><td>45000       </td><td>0.0002622222</td></tr>\n",
       "\t<tr><td>afr2        </td><td>217290.2    </td><td>229720.3    </td><td>223505.2    </td><td>3.754053e-11</td><td>44          </td><td>0           </td><td>0           </td><td>12.8        </td><td>1           </td><td>60          </td><td>6985043     </td><td>45000       </td><td>0.0002622222</td></tr>\n",
       "\t<tr><td>afr3        </td><td>217290.2    </td><td>225891.6    </td><td>221590.9    </td><td>3.754053e-11</td><td>44          </td><td>0           </td><td>0           </td><td>12.8        </td><td>1           </td><td>59          </td><td>6985043     </td><td>45000       </td><td>0.0002622222</td></tr>\n",
       "\t<tr><td>afr4        </td><td>217290.2    </td><td>225891.6    </td><td>221590.9    </td><td>3.754053e-11</td><td>44          </td><td>0           </td><td>0           </td><td>12.8        </td><td>1           </td><td>59          </td><td>6985043     </td><td>45000       </td><td>0.0002622222</td></tr>\n",
       "</tbody>\n",
       "</table>\n"
      ],
      "text/latex": [
       "\\begin{tabular}{r|llllllllllllll}\n",
       " afr & tmrca\\_ad & tmrca\\_f & tmrca\\_avg & mut\\_rate & a & b & c & d & e & f & total & age & muts\\_per\\_year\\\\\n",
       "\\hline\n",
       "\t afr0         & 217290.2     & 225891.6     & 221590.9     & 3.754053e-11 & 44           & 0            & 0            & 12.8         & 1            & 59           & 6985043      & 45000        & 0.0002622222\\\\\n",
       "\t afr1         & 217290.2     & 225891.6     & 221590.9     & 3.754053e-11 & 44           & 0            & 0            & 12.8         & 1            & 59           & 6985043      & 45000        & 0.0002622222\\\\\n",
       "\t afr2         & 217290.2     & 229720.3     & 223505.2     & 3.754053e-11 & 44           & 0            & 0            & 12.8         & 1            & 60           & 6985043      & 45000        & 0.0002622222\\\\\n",
       "\t afr3         & 217290.2     & 225891.6     & 221590.9     & 3.754053e-11 & 44           & 0            & 0            & 12.8         & 1            & 59           & 6985043      & 45000        & 0.0002622222\\\\\n",
       "\t afr4         & 217290.2     & 225891.6     & 221590.9     & 3.754053e-11 & 44           & 0            & 0            & 12.8         & 1            & 59           & 6985043      & 45000        & 0.0002622222\\\\\n",
       "\\end{tabular}\n"
      ],
      "text/markdown": [
       "\n",
       "| afr | tmrca_ad | tmrca_f | tmrca_avg | mut_rate | a | b | c | d | e | f | total | age | muts_per_year |\n",
       "|---|---|---|---|---|---|---|---|---|---|---|---|---|---|\n",
       "| afr0         | 217290.2     | 225891.6     | 221590.9     | 3.754053e-11 | 44           | 0            | 0            | 12.8         | 1            | 59           | 6985043      | 45000        | 0.0002622222 |\n",
       "| afr1         | 217290.2     | 225891.6     | 221590.9     | 3.754053e-11 | 44           | 0            | 0            | 12.8         | 1            | 59           | 6985043      | 45000        | 0.0002622222 |\n",
       "| afr2         | 217290.2     | 229720.3     | 223505.2     | 3.754053e-11 | 44           | 0            | 0            | 12.8         | 1            | 60           | 6985043      | 45000        | 0.0002622222 |\n",
       "| afr3         | 217290.2     | 225891.6     | 221590.9     | 3.754053e-11 | 44           | 0            | 0            | 12.8         | 1            | 59           | 6985043      | 45000        | 0.0002622222 |\n",
       "| afr4         | 217290.2     | 225891.6     | 221590.9     | 3.754053e-11 | 44           | 0            | 0            | 12.8         | 1            | 59           | 6985043      | 45000        | 0.0002622222 |\n",
       "\n"
      ],
      "text/plain": [
       "  afr  tmrca_ad tmrca_f  tmrca_avg mut_rate     a  b c d    e f  total   age  \n",
       "1 afr0 217290.2 225891.6 221590.9  3.754053e-11 44 0 0 12.8 1 59 6985043 45000\n",
       "2 afr1 217290.2 225891.6 221590.9  3.754053e-11 44 0 0 12.8 1 59 6985043 45000\n",
       "3 afr2 217290.2 229720.3 223505.2  3.754053e-11 44 0 0 12.8 1 60 6985043 45000\n",
       "4 afr3 217290.2 225891.6 221590.9  3.754053e-11 44 0 0 12.8 1 59 6985043 45000\n",
       "5 afr4 217290.2 225891.6 221590.9  3.754053e-11 44 0 0 12.8 1 59 6985043 45000\n",
       "  muts_per_year\n",
       "1 0.0002622222 \n",
       "2 0.0002622222 \n",
       "3 0.0002622222 \n",
       "4 0.0002622222 \n",
       "5 0.0002622222 "
      ]
     },
     "metadata": {},
     "output_type": "display_data"
    }
   ],
   "source": [
    "tAfrRef %>% group_by(afr) %>% summarise_if(is.numeric, mean)"
   ]
  },
  {
   "cell_type": "code",
   "execution_count": 24,
   "metadata": {},
   "outputs": [
    {
     "data": {
      "text/html": [
       "<table>\n",
       "<thead><tr><th scope=col>afr</th><th scope=col>tmrca_ad</th><th scope=col>tmrca_f</th><th scope=col>tmrca_avg</th><th scope=col>mut_rate</th><th scope=col>a</th><th scope=col>b</th><th scope=col>c</th><th scope=col>d</th><th scope=col>e</th><th scope=col>f</th><th scope=col>total</th><th scope=col>age</th><th scope=col>muts_per_year</th></tr></thead>\n",
       "<tbody>\n",
       "\t<tr><td>afr0        </td><td>239010.1    </td><td>235958.2    </td><td>237484.1    </td><td>3.269892e-10</td><td>439         </td><td>0           </td><td>0           </td><td>108         </td><td>5           </td><td>540         </td><td>6999891     </td><td>45000       </td><td>0.002288889 </td></tr>\n",
       "\t<tr><td>afr1        </td><td>239010.1    </td><td>235084.3    </td><td>237047.2    </td><td>3.269892e-10</td><td>439         </td><td>0           </td><td>0           </td><td>108         </td><td>5           </td><td>538         </td><td>6999891     </td><td>45000       </td><td>0.002288889 </td></tr>\n",
       "\t<tr><td>afr2        </td><td>239010.1    </td><td>235958.2    </td><td>237484.1    </td><td>3.269892e-10</td><td>439         </td><td>0           </td><td>0           </td><td>108         </td><td>5           </td><td>540         </td><td>6999891     </td><td>45000       </td><td>0.002288889 </td></tr>\n",
       "\t<tr><td>afr3        </td><td>239010.1    </td><td>233336.4    </td><td>236173.2    </td><td>3.269892e-10</td><td>439         </td><td>0           </td><td>0           </td><td>108         </td><td>5           </td><td>534         </td><td>6999891     </td><td>45000       </td><td>0.002288889 </td></tr>\n",
       "\t<tr><td>afr4        </td><td>239010.1    </td><td>235958.2    </td><td>237484.1    </td><td>3.269892e-10</td><td>439         </td><td>0           </td><td>0           </td><td>108         </td><td>5           </td><td>540         </td><td>6999891     </td><td>45000       </td><td>0.002288889 </td></tr>\n",
       "</tbody>\n",
       "</table>\n"
      ],
      "text/latex": [
       "\\begin{tabular}{r|llllllllllllll}\n",
       " afr & tmrca\\_ad & tmrca\\_f & tmrca\\_avg & mut\\_rate & a & b & c & d & e & f & total & age & muts\\_per\\_year\\\\\n",
       "\\hline\n",
       "\t afr0         & 239010.1     & 235958.2     & 237484.1     & 3.269892e-10 & 439          & 0            & 0            & 108          & 5            & 540          & 6999891      & 45000        & 0.002288889 \\\\\n",
       "\t afr1         & 239010.1     & 235084.3     & 237047.2     & 3.269892e-10 & 439          & 0            & 0            & 108          & 5            & 538          & 6999891      & 45000        & 0.002288889 \\\\\n",
       "\t afr2         & 239010.1     & 235958.2     & 237484.1     & 3.269892e-10 & 439          & 0            & 0            & 108          & 5            & 540          & 6999891      & 45000        & 0.002288889 \\\\\n",
       "\t afr3         & 239010.1     & 233336.4     & 236173.2     & 3.269892e-10 & 439          & 0            & 0            & 108          & 5            & 534          & 6999891      & 45000        & 0.002288889 \\\\\n",
       "\t afr4         & 239010.1     & 235958.2     & 237484.1     & 3.269892e-10 & 439          & 0            & 0            & 108          & 5            & 540          & 6999891      & 45000        & 0.002288889 \\\\\n",
       "\\end{tabular}\n"
      ],
      "text/markdown": [
       "\n",
       "| afr | tmrca_ad | tmrca_f | tmrca_avg | mut_rate | a | b | c | d | e | f | total | age | muts_per_year |\n",
       "|---|---|---|---|---|---|---|---|---|---|---|---|---|---|\n",
       "| afr0         | 239010.1     | 235958.2     | 237484.1     | 3.269892e-10 | 439          | 0            | 0            | 108          | 5            | 540          | 6999891      | 45000        | 0.002288889  |\n",
       "| afr1         | 239010.1     | 235084.3     | 237047.2     | 3.269892e-10 | 439          | 0            | 0            | 108          | 5            | 538          | 6999891      | 45000        | 0.002288889  |\n",
       "| afr2         | 239010.1     | 235958.2     | 237484.1     | 3.269892e-10 | 439          | 0            | 0            | 108          | 5            | 540          | 6999891      | 45000        | 0.002288889  |\n",
       "| afr3         | 239010.1     | 233336.4     | 236173.2     | 3.269892e-10 | 439          | 0            | 0            | 108          | 5            | 534          | 6999891      | 45000        | 0.002288889  |\n",
       "| afr4         | 239010.1     | 235958.2     | 237484.1     | 3.269892e-10 | 439          | 0            | 0            | 108          | 5            | 540          | 6999891      | 45000        | 0.002288889  |\n",
       "\n"
      ],
      "text/plain": [
       "  afr  tmrca_ad tmrca_f  tmrca_avg mut_rate     a   b c d   e f   total   age  \n",
       "1 afr0 239010.1 235958.2 237484.1  3.269892e-10 439 0 0 108 5 540 6999891 45000\n",
       "2 afr1 239010.1 235084.3 237047.2  3.269892e-10 439 0 0 108 5 538 6999891 45000\n",
       "3 afr2 239010.1 235958.2 237484.1  3.269892e-10 439 0 0 108 5 540 6999891 45000\n",
       "4 afr3 239010.1 233336.4 236173.2  3.269892e-10 439 0 0 108 5 534 6999891 45000\n",
       "5 afr4 239010.1 235958.2 237484.1  3.269892e-10 439 0 0 108 5 540 6999891 45000\n",
       "  muts_per_year\n",
       "1 0.002288889  \n",
       "2 0.002288889  \n",
       "3 0.002288889  \n",
       "4 0.002288889  \n",
       "5 0.002288889  "
      ]
     },
     "metadata": {},
     "output_type": "display_data"
    }
   ],
   "source": [
    "tAfrRef %>% group_by(afr) %>% summarise_if(is.numeric, mean)"
   ]
  },
  {
   "cell_type": "code",
   "execution_count": 25,
   "metadata": {},
   "outputs": [],
   "source": [
    "tArchRef <- calculate_tArchRef(gt, samples, tAfrRef)"
   ]
  },
  {
   "cell_type": "code",
   "execution_count": 26,
   "metadata": {},
   "outputs": [
    {
     "data": {
      "text/html": [
       "<table>\n",
       "<thead><tr><th scope=col>arch</th><th scope=col>tmrca_arch</th><th scope=col>alpha</th><th scope=col>mut_rate</th><th scope=col>tmrca_ad</th><th scope=col>tmrca_f</th><th scope=col>tmrca_avg</th><th scope=col>a</th><th scope=col>b</th><th scope=col>c</th><th scope=col>d</th><th scope=col>e</th><th scope=col>f</th><th scope=col>total</th><th scope=col>p</th></tr></thead>\n",
       "<tbody>\n",
       "\t<tr><td>arch0       </td><td>636078.7    </td><td>2.682339    </td><td>3.269892e-10</td><td>239010.1    </td><td>235259      </td><td>237134.6    </td><td>913         </td><td>0           </td><td>0           </td><td>547         </td><td>538.4       </td><td>1159        </td><td>6999891     </td><td>0.4568663   </td></tr>\n",
       "\t<tr><td>arch1       </td><td>636078.7    </td><td>2.682339    </td><td>3.269892e-10</td><td>239010.1    </td><td>235259      </td><td>237134.6    </td><td>913         </td><td>0           </td><td>0           </td><td>547         </td><td>538.4       </td><td>1348        </td><td>6999891     </td><td>0.4568663   </td></tr>\n",
       "</tbody>\n",
       "</table>\n"
      ],
      "text/latex": [
       "\\begin{tabular}{r|lllllllllllllll}\n",
       " arch & tmrca\\_arch & alpha & mut\\_rate & tmrca\\_ad & tmrca\\_f & tmrca\\_avg & a & b & c & d & e & f & total & p\\\\\n",
       "\\hline\n",
       "\t arch0        & 636078.7     & 2.682339     & 3.269892e-10 & 239010.1     & 235259       & 237134.6     & 913          & 0            & 0            & 547          & 538.4        & 1159         & 6999891      & 0.4568663   \\\\\n",
       "\t arch1        & 636078.7     & 2.682339     & 3.269892e-10 & 239010.1     & 235259       & 237134.6     & 913          & 0            & 0            & 547          & 538.4        & 1348         & 6999891      & 0.4568663   \\\\\n",
       "\\end{tabular}\n"
      ],
      "text/markdown": [
       "\n",
       "| arch | tmrca_arch | alpha | mut_rate | tmrca_ad | tmrca_f | tmrca_avg | a | b | c | d | e | f | total | p |\n",
       "|---|---|---|---|---|---|---|---|---|---|---|---|---|---|---|\n",
       "| arch0        | 636078.7     | 2.682339     | 3.269892e-10 | 239010.1     | 235259       | 237134.6     | 913          | 0            | 0            | 547          | 538.4        | 1159         | 6999891      | 0.4568663    |\n",
       "| arch1        | 636078.7     | 2.682339     | 3.269892e-10 | 239010.1     | 235259       | 237134.6     | 913          | 0            | 0            | 547          | 538.4        | 1348         | 6999891      | 0.4568663    |\n",
       "\n"
      ],
      "text/plain": [
       "  arch  tmrca_arch alpha    mut_rate     tmrca_ad tmrca_f tmrca_avg a   b c d  \n",
       "1 arch0 636078.7   2.682339 3.269892e-10 239010.1 235259  237134.6  913 0 0 547\n",
       "2 arch1 636078.7   2.682339 3.269892e-10 239010.1 235259  237134.6  913 0 0 547\n",
       "  e     f    total   p        \n",
       "1 538.4 1159 6999891 0.4568663\n",
       "2 538.4 1348 6999891 0.4568663"
      ]
     },
     "metadata": {},
     "output_type": "display_data"
    }
   ],
   "source": [
    "tArchRef %>% group_by(arch) %>% summarise_if(is.numeric, mean)"
   ]
  }
 ],
 "metadata": {
  "kernelspec": {
   "display_name": "R",
   "language": "R",
   "name": "ir"
  },
  "language_info": {
   "codemirror_mode": "r",
   "file_extension": ".r",
   "mimetype": "text/x-r-source",
   "name": "R",
   "pygments_lexer": "r",
   "version": "3.5.2"
  }
 },
 "nbformat": 4,
 "nbformat_minor": 2
}
