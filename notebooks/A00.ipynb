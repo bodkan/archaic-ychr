{
 "cells": [
  {
   "cell_type": "markdown",
   "metadata": {},
   "source": [
    "# A00 haplogroup data\n",
    "\n",
    "From [Karmin et al. 2015](http://genome.cshlp.org/content/early/2015/03/13/gr.186684.114.abstract):\n",
    "> ... we sequenced the whole genomes from the buccal swabs of two individuals from the Mbo population, with the prior knowledge of their haplogroup being A00. This in- formation was based on STR profiles and SNP genotyping (Mendez et al. 2013). Sequencing was performed on the Illumina HiSeq 2000 machines at the Genomic Research Center, Gene by Gene, Houston, Texas, at 30× aimed coverage. We used BWA 0.5.9 (Li and Durbin 2009) to map the paired-end reads to the GRCh37 hu- man reference sequence, removing PCR duplicates with SAMtools 0.1.19 rmdupcommand(Li et al. 2009), and then calling Chr Y ge- notypes with SAMtools mpileup and BCFtools (Li et al. 2009), re- sulting in the average coverage for Chr Y of the two individuals 12.7× and 17.2×, respectively.\n",
    "\n",
    "And also\n",
    "\n",
    "> The rawread data on the Y chromosomes extracted from the whole genome sequences from this study have been submitted to the European Nucleotide Archive (ENA; http://www.ebi.ac.uk/ena/) under accession number PRJEB8108. The data are also available at the data repository of the Estonian Biocentre www.ebc.ee/free_data/chrY.\n",
    "\n",
    "[Supplementary Table 6](http://genome.cshlp.org/content/suppl/2015/02/18/gr.186684.114.DC1/Supplemental_Tables_S1-S7.pdf) from the paper shows that the two A00 individuals have IDs GRC13292545 and GRC13292546.\n",
    "\n",
    "On the FTP link above, there is also an [Excel sheet](http://evolbio.ut.ee/chrY/Y_data_metainfo.xlsx) with information about samples, their IDs and geographic origin.\n",
    "\n",
    "Indeed, the FTP contains two BAM files:\n",
    "* http://evolbio.ut.ee/chrY/GRC13292545.chrY.bam\n",
    "* http://evolbio.ut.ee/chrY/GRC13292546.chrY.bam\n",
    "\n",
    "This is what I should use in the further analyses instead of the merged A00 BAM file from Stoneking's group (which has unknown origin and I don't even know how was it processed)."
   ]
  },
  {
   "cell_type": "code",
   "execution_count": null,
   "metadata": {
    "collapsed": true
   },
   "outputs": [],
   "source": []
  }
 ],
 "metadata": {
  "kernelspec": {
   "display_name": "Bash",
   "language": "bash",
   "name": "bash"
  },
  "language_info": {
   "codemirror_mode": "shell",
   "file_extension": ".sh",
   "mimetype": "text/x-sh",
   "name": "bash"
  }
 },
 "nbformat": 4,
 "nbformat_minor": 0
}
