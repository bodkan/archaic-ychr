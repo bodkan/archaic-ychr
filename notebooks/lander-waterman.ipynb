{
 "cells": [
  {
   "cell_type": "markdown",
   "metadata": {},
   "source": [
    "# Reference bias using expected vs observed # of bases with no coverage"
   ]
  },
  {
   "cell_type": "markdown",
   "metadata": {},
   "source": [
    "* https://www.illumina.com/documents/products/technotes/technote_coverage_calculation.pdf\n",
    "* https://en.wikipedia.org/wiki/DNA_sequencing_theory#Early_uses_derived_from_elementary_probability_theory\n",
    "* http://seqanswers.com/forums/showpost.php?p=161353&postcount=2\n",
    "\n",
    "The problem can be boiled down to the following question: given sequence coverage $X$, the proportion of sites with no coverage can be modelled as $Poisson(\\lambda = 0)$. Under ideal conditions and infinite number of sites, the empirical counts of sites with no coverage should be exactly equal to this value.\n",
    "\n",
    "What is the proportion of sites with no coverage in our samples? Are there some worrying differences between Neanderthal and Denisovan samples? Keep in mind that both _Denisova 4_ and _Denisova 8_ have almost the same TMRCA, significantly different from all other Neanderthals, who also give the same values between each other."
   ]
  },
  {
   "cell_type": "code",
   "execution_count": 1,
   "metadata": {
    "scrolled": true
   },
   "outputs": [
    {
     "name": "stderr",
     "output_type": "stream",
     "text": [
      "── \u001b[1mAttaching packages\u001b[22m ─────────────────────────────────────── tidyverse 1.2.1 ──\n",
      "\u001b[32m✔\u001b[39m \u001b[34mggplot2\u001b[39m 3.1.1     \u001b[32m✔\u001b[39m \u001b[34mpurrr  \u001b[39m 0.3.0\n",
      "\u001b[32m✔\u001b[39m \u001b[34mtibble \u001b[39m 2.1.1     \u001b[32m✔\u001b[39m \u001b[34mdplyr  \u001b[39m 0.7.8\n",
      "\u001b[32m✔\u001b[39m \u001b[34mtidyr  \u001b[39m 0.8.2     \u001b[32m✔\u001b[39m \u001b[34mstringr\u001b[39m 1.4.0\n",
      "\u001b[32m✔\u001b[39m \u001b[34mreadr  \u001b[39m 1.3.1     \u001b[32m✔\u001b[39m \u001b[34mforcats\u001b[39m 0.3.0\n",
      "── \u001b[1mConflicts\u001b[22m ────────────────────────────────────────── tidyverse_conflicts() ──\n",
      "\u001b[31m✖\u001b[39m \u001b[34mdplyr\u001b[39m::\u001b[32mfilter()\u001b[39m masks \u001b[34mstats\u001b[39m::filter()\n",
      "\u001b[31m✖\u001b[39m \u001b[34mdplyr\u001b[39m::\u001b[32mlag()\u001b[39m    masks \u001b[34mstats\u001b[39m::lag()\n",
      "\n",
      "Attaching package: ‘glue’\n",
      "\n",
      "The following object is masked from ‘package:dplyr’:\n",
      "\n",
      "    collapse\n",
      "\n",
      "here() starts at /mnt/expressions/mp/ychr\n",
      "Warning message:\n",
      "“no function found corresponding to methods exports from ‘GenomicRanges’ for: ‘concatenateObjects’”Loading ychr\n"
     ]
    }
   ],
   "source": [
    "library(tidyverse)\n",
    "library(glue)\n",
    "library(here)\n",
    "suppressPackageStartupMessages({library(rtracklayer); library(GenomicRanges)})\n",
    "\n",
    "devtools::load_all(\".\")"
   ]
  },
  {
   "cell_type": "code",
   "execution_count": 2,
   "metadata": {},
   "outputs": [],
   "source": [
    "cov_df <- readRDS(here(\"data/rds/cov_df.rds\"))"
   ]
  },
  {
   "cell_type": "code",
   "execution_count": 3,
   "metadata": {},
   "outputs": [],
   "source": [
    "samples <- unique(cov_df$name)"
   ]
  },
  {
   "cell_type": "code",
   "execution_count": 4,
   "metadata": {
    "scrolled": true
   },
   "outputs": [
    {
     "data": {
      "text/html": [
       "<ol class=list-inline>\n",
       "\t<li>'a00'</li>\n",
       "\t<li>'den4'</li>\n",
       "\t<li>'den8'</li>\n",
       "\t<li>'elsidron1'</li>\n",
       "\t<li>'mez2'</li>\n",
       "\t<li>'S_BedouinB-1'</li>\n",
       "\t<li>'S_Burmese-1'</li>\n",
       "\t<li>'S_Dai-2'</li>\n",
       "\t<li>'S_Dinka-1'</li>\n",
       "\t<li>'S_Finnish-2'</li>\n",
       "\t<li>'S_French-1'</li>\n",
       "\t<li>'S_Gambian-1'</li>\n",
       "\t<li>'S_Han-2'</li>\n",
       "\t<li>'S_Ju_hoan_North-1'</li>\n",
       "\t<li>'S_Karitiana-1'</li>\n",
       "\t<li>'S_Mandenka-1'</li>\n",
       "\t<li>'S_Mbuti-1'</li>\n",
       "\t<li>'S_Papuan-2'</li>\n",
       "\t<li>'S_Punjabi-1'</li>\n",
       "\t<li>'S_Saami-2'</li>\n",
       "\t<li>'S_Sardinian-1'</li>\n",
       "\t<li>'S_Thai-1'</li>\n",
       "\t<li>'S_Turkish-1'</li>\n",
       "\t<li>'S_Yoruba-2'</li>\n",
       "\t<li>'spy1'</li>\n",
       "\t<li>'ustishim'</li>\n",
       "\t<li>'shotgun_mez2'</li>\n",
       "\t<li>'shotgun_spy1'</li>\n",
       "\t<li>'elsidron2'</li>\n",
       "</ol>\n"
      ],
      "text/latex": [
       "\\begin{enumerate*}\n",
       "\\item 'a00'\n",
       "\\item 'den4'\n",
       "\\item 'den8'\n",
       "\\item 'elsidron1'\n",
       "\\item 'mez2'\n",
       "\\item 'S\\_BedouinB-1'\n",
       "\\item 'S\\_Burmese-1'\n",
       "\\item 'S\\_Dai-2'\n",
       "\\item 'S\\_Dinka-1'\n",
       "\\item 'S\\_Finnish-2'\n",
       "\\item 'S\\_French-1'\n",
       "\\item 'S\\_Gambian-1'\n",
       "\\item 'S\\_Han-2'\n",
       "\\item 'S\\_Ju\\_hoan\\_North-1'\n",
       "\\item 'S\\_Karitiana-1'\n",
       "\\item 'S\\_Mandenka-1'\n",
       "\\item 'S\\_Mbuti-1'\n",
       "\\item 'S\\_Papuan-2'\n",
       "\\item 'S\\_Punjabi-1'\n",
       "\\item 'S\\_Saami-2'\n",
       "\\item 'S\\_Sardinian-1'\n",
       "\\item 'S\\_Thai-1'\n",
       "\\item 'S\\_Turkish-1'\n",
       "\\item 'S\\_Yoruba-2'\n",
       "\\item 'spy1'\n",
       "\\item 'ustishim'\n",
       "\\item 'shotgun\\_mez2'\n",
       "\\item 'shotgun\\_spy1'\n",
       "\\item 'elsidron2'\n",
       "\\end{enumerate*}\n"
      ],
      "text/markdown": [
       "1. 'a00'\n",
       "2. 'den4'\n",
       "3. 'den8'\n",
       "4. 'elsidron1'\n",
       "5. 'mez2'\n",
       "6. 'S_BedouinB-1'\n",
       "7. 'S_Burmese-1'\n",
       "8. 'S_Dai-2'\n",
       "9. 'S_Dinka-1'\n",
       "10. 'S_Finnish-2'\n",
       "11. 'S_French-1'\n",
       "12. 'S_Gambian-1'\n",
       "13. 'S_Han-2'\n",
       "14. 'S_Ju_hoan_North-1'\n",
       "15. 'S_Karitiana-1'\n",
       "16. 'S_Mandenka-1'\n",
       "17. 'S_Mbuti-1'\n",
       "18. 'S_Papuan-2'\n",
       "19. 'S_Punjabi-1'\n",
       "20. 'S_Saami-2'\n",
       "21. 'S_Sardinian-1'\n",
       "22. 'S_Thai-1'\n",
       "23. 'S_Turkish-1'\n",
       "24. 'S_Yoruba-2'\n",
       "25. 'spy1'\n",
       "26. 'ustishim'\n",
       "27. 'shotgun_mez2'\n",
       "28. 'shotgun_spy1'\n",
       "29. 'elsidron2'\n",
       "\n",
       "\n"
      ],
      "text/plain": [
       " [1] \"a00\"               \"den4\"              \"den8\"             \n",
       " [4] \"elsidron1\"         \"mez2\"              \"S_BedouinB-1\"     \n",
       " [7] \"S_Burmese-1\"       \"S_Dai-2\"           \"S_Dinka-1\"        \n",
       "[10] \"S_Finnish-2\"       \"S_French-1\"        \"S_Gambian-1\"      \n",
       "[13] \"S_Han-2\"           \"S_Ju_hoan_North-1\" \"S_Karitiana-1\"    \n",
       "[16] \"S_Mandenka-1\"      \"S_Mbuti-1\"         \"S_Papuan-2\"       \n",
       "[19] \"S_Punjabi-1\"       \"S_Saami-2\"         \"S_Sardinian-1\"    \n",
       "[22] \"S_Thai-1\"          \"S_Turkish-1\"       \"S_Yoruba-2\"       \n",
       "[25] \"spy1\"              \"ustishim\"          \"shotgun_mez2\"     \n",
       "[28] \"shotgun_spy1\"      \"elsidron2\"        "
      ]
     },
     "metadata": {},
     "output_type": "display_data"
    }
   ],
   "source": [
    "samples"
   ]
  },
  {
   "cell_type": "code",
   "execution_count": 79,
   "metadata": {},
   "outputs": [],
   "source": [
    "avg_cov <- cov_df %>%\n",
    "    group_by(name, regions) %>%\n",
    "    summarise(avg_coverage = mean(coverage)) %>%\n",
    "    spread(regions, avg_coverage) %>%\n",
    "    rename(avg_cov = full) %>%\n",
    "    select(-exome, -lippold) %>%\n",
    "    filter(!str_detect(name, \"elsidron\"))"
   ]
  },
  {
   "cell_type": "code",
   "execution_count": 84,
   "metadata": {},
   "outputs": [],
   "source": [
    "avg_cov <- avg_cov %>%\n",
    "    mutate(observed_zero = round(100 * map_dbl(name, ~ mean(filter(cov_df, name == .x)$coverage == 0)), 2) / 100,\n",
    "           expected_zero = round(100 * dpois(x = 0, lambda = avg_cov), 2) / 100)"
   ]
  },
  {
   "cell_type": "code",
   "execution_count": 89,
   "metadata": {},
   "outputs": [
    {
     "data": {
      "text/html": [
       "<table>\n",
       "<thead><tr><th scope=col>name</th><th scope=col>avg_cov</th><th scope=col>observed_zero</th><th scope=col>expected_zero</th><th scope=col>obs_vs_exp_ratio</th></tr></thead>\n",
       "<tbody>\n",
       "\t<tr><td>shotgun_spy1     </td><td> 0.5218778       </td><td>0.6106           </td><td>0.5934           </td><td>1.028986         </td></tr>\n",
       "\t<tr><td>shotgun_mez2     </td><td> 0.8879353       </td><td>0.4337           </td><td>0.4115           </td><td>1.053949         </td></tr>\n",
       "\t<tr><td>spy1             </td><td> 0.9103632       </td><td>0.4896           </td><td>0.4024           </td><td>1.216700         </td></tr>\n",
       "\t<tr><td>den4             </td><td> 1.6634329       </td><td>0.2601           </td><td>0.1895           </td><td>1.372559         </td></tr>\n",
       "\t<tr><td>den8             </td><td> 3.6038601       </td><td>0.0975           </td><td>0.0272           </td><td>3.584559         </td></tr>\n",
       "\t<tr><td>a00              </td><td>21.2707718       </td><td>0.0005           </td><td>0.0000           </td><td>     Inf         </td></tr>\n",
       "\t<tr><td>mez2             </td><td>14.6456430       </td><td>0.0400           </td><td>0.0000           </td><td>     Inf         </td></tr>\n",
       "\t<tr><td>S_BedouinB-1     </td><td>21.9612670       </td><td>0.0001           </td><td>0.0000           </td><td>     Inf         </td></tr>\n",
       "\t<tr><td>S_Dai-2          </td><td>20.0761092       </td><td>0.0001           </td><td>0.0000           </td><td>     Inf         </td></tr>\n",
       "\t<tr><td>S_Dinka-1        </td><td>21.2868001       </td><td>0.0001           </td><td>0.0000           </td><td>     Inf         </td></tr>\n",
       "\t<tr><td>S_French-1       </td><td>22.1765062       </td><td>0.0001           </td><td>0.0000           </td><td>     Inf         </td></tr>\n",
       "\t<tr><td>S_Gambian-1      </td><td>20.3687313       </td><td>0.0015           </td><td>0.0000           </td><td>     Inf         </td></tr>\n",
       "\t<tr><td>S_Han-2          </td><td>20.9841636       </td><td>0.0001           </td><td>0.0000           </td><td>     Inf         </td></tr>\n",
       "\t<tr><td>S_Ju_hoan_North-1</td><td>22.9778850       </td><td>0.0001           </td><td>0.0000           </td><td>     Inf         </td></tr>\n",
       "\t<tr><td>S_Mandenka-1     </td><td>16.5460985       </td><td>0.0015           </td><td>0.0000           </td><td>     Inf         </td></tr>\n",
       "\t<tr><td>S_Mbuti-1        </td><td>20.6067081       </td><td>0.0015           </td><td>0.0000           </td><td>     Inf         </td></tr>\n",
       "\t<tr><td>S_Papuan-2       </td><td>23.3963696       </td><td>0.0004           </td><td>0.0000           </td><td>     Inf         </td></tr>\n",
       "\t<tr><td>S_Punjabi-1      </td><td>17.3597069       </td><td>0.0001           </td><td>0.0000           </td><td>     Inf         </td></tr>\n",
       "\t<tr><td>S_Saami-2        </td><td>22.9134546       </td><td>0.0003           </td><td>0.0000           </td><td>     Inf         </td></tr>\n",
       "\t<tr><td>S_Sardinian-1    </td><td>18.3378798       </td><td>0.0002           </td><td>0.0000           </td><td>     Inf         </td></tr>\n",
       "\t<tr><td>S_Thai-1         </td><td>25.4108382       </td><td>0.0001           </td><td>0.0000           </td><td>     Inf         </td></tr>\n",
       "\t<tr><td>S_Yoruba-2       </td><td>17.1633397       </td><td>0.0015           </td><td>0.0000           </td><td>     Inf         </td></tr>\n",
       "\t<tr><td>ustishim         </td><td>20.3913371       </td><td>0.0007           </td><td>0.0000           </td><td>     Inf         </td></tr>\n",
       "\t<tr><td>S_Burmese-1      </td><td>29.5273392       </td><td>0.0000           </td><td>0.0000           </td><td>     NaN         </td></tr>\n",
       "\t<tr><td>S_Finnish-2      </td><td>17.2177495       </td><td>0.0000           </td><td>0.0000           </td><td>     NaN         </td></tr>\n",
       "\t<tr><td>S_Karitiana-1    </td><td>22.6298052       </td><td>0.0000           </td><td>0.0000           </td><td>     NaN         </td></tr>\n",
       "\t<tr><td>S_Turkish-1      </td><td>22.7049042       </td><td>0.0000           </td><td>0.0000           </td><td>     NaN         </td></tr>\n",
       "</tbody>\n",
       "</table>\n"
      ],
      "text/latex": [
       "\\begin{tabular}{r|lllll}\n",
       " name & avg\\_cov & observed\\_zero & expected\\_zero & obs\\_vs\\_exp\\_ratio\\\\\n",
       "\\hline\n",
       "\t shotgun\\_spy1      &  0.5218778          & 0.6106              & 0.5934              & 1.028986           \\\\\n",
       "\t shotgun\\_mez2      &  0.8879353          & 0.4337              & 0.4115              & 1.053949           \\\\\n",
       "\t spy1              &  0.9103632        & 0.4896            & 0.4024            & 1.216700         \\\\\n",
       "\t den4              &  1.6634329        & 0.2601            & 0.1895            & 1.372559         \\\\\n",
       "\t den8              &  3.6038601        & 0.0975            & 0.0272            & 3.584559         \\\\\n",
       "\t a00               & 21.2707718        & 0.0005            & 0.0000            &      Inf         \\\\\n",
       "\t mez2              & 14.6456430        & 0.0400            & 0.0000            &      Inf         \\\\\n",
       "\t S\\_BedouinB-1      & 21.9612670          & 0.0001              & 0.0000              &      Inf           \\\\\n",
       "\t S\\_Dai-2           & 20.0761092          & 0.0001              & 0.0000              &      Inf           \\\\\n",
       "\t S\\_Dinka-1         & 21.2868001          & 0.0001              & 0.0000              &      Inf           \\\\\n",
       "\t S\\_French-1        & 22.1765062          & 0.0001              & 0.0000              &      Inf           \\\\\n",
       "\t S\\_Gambian-1       & 20.3687313          & 0.0015              & 0.0000              &      Inf           \\\\\n",
       "\t S\\_Han-2           & 20.9841636          & 0.0001              & 0.0000              &      Inf           \\\\\n",
       "\t S\\_Ju\\_hoan\\_North-1 & 22.9778850              & 0.0001                  & 0.0000                  &      Inf               \\\\\n",
       "\t S\\_Mandenka-1      & 16.5460985          & 0.0015              & 0.0000              &      Inf           \\\\\n",
       "\t S\\_Mbuti-1         & 20.6067081          & 0.0015              & 0.0000              &      Inf           \\\\\n",
       "\t S\\_Papuan-2        & 23.3963696          & 0.0004              & 0.0000              &      Inf           \\\\\n",
       "\t S\\_Punjabi-1       & 17.3597069          & 0.0001              & 0.0000              &      Inf           \\\\\n",
       "\t S\\_Saami-2         & 22.9134546          & 0.0003              & 0.0000              &      Inf           \\\\\n",
       "\t S\\_Sardinian-1     & 18.3378798          & 0.0002              & 0.0000              &      Inf           \\\\\n",
       "\t S\\_Thai-1          & 25.4108382          & 0.0001              & 0.0000              &      Inf           \\\\\n",
       "\t S\\_Yoruba-2        & 17.1633397          & 0.0015              & 0.0000              &      Inf           \\\\\n",
       "\t ustishim          & 20.3913371        & 0.0007            & 0.0000            &      Inf         \\\\\n",
       "\t S\\_Burmese-1       & 29.5273392          & 0.0000              & 0.0000              &      NaN           \\\\\n",
       "\t S\\_Finnish-2       & 17.2177495          & 0.0000              & 0.0000              &      NaN           \\\\\n",
       "\t S\\_Karitiana-1     & 22.6298052          & 0.0000              & 0.0000              &      NaN           \\\\\n",
       "\t S\\_Turkish-1       & 22.7049042          & 0.0000              & 0.0000              &      NaN           \\\\\n",
       "\\end{tabular}\n"
      ],
      "text/markdown": [
       "\n",
       "| name | avg_cov | observed_zero | expected_zero | obs_vs_exp_ratio |\n",
       "|---|---|---|---|---|\n",
       "| shotgun_spy1      |  0.5218778        | 0.6106            | 0.5934            | 1.028986          |\n",
       "| shotgun_mez2      |  0.8879353        | 0.4337            | 0.4115            | 1.053949          |\n",
       "| spy1              |  0.9103632        | 0.4896            | 0.4024            | 1.216700          |\n",
       "| den4              |  1.6634329        | 0.2601            | 0.1895            | 1.372559          |\n",
       "| den8              |  3.6038601        | 0.0975            | 0.0272            | 3.584559          |\n",
       "| a00               | 21.2707718        | 0.0005            | 0.0000            |      Inf          |\n",
       "| mez2              | 14.6456430        | 0.0400            | 0.0000            |      Inf          |\n",
       "| S_BedouinB-1      | 21.9612670        | 0.0001            | 0.0000            |      Inf          |\n",
       "| S_Dai-2           | 20.0761092        | 0.0001            | 0.0000            |      Inf          |\n",
       "| S_Dinka-1         | 21.2868001        | 0.0001            | 0.0000            |      Inf          |\n",
       "| S_French-1        | 22.1765062        | 0.0001            | 0.0000            |      Inf          |\n",
       "| S_Gambian-1       | 20.3687313        | 0.0015            | 0.0000            |      Inf          |\n",
       "| S_Han-2           | 20.9841636        | 0.0001            | 0.0000            |      Inf          |\n",
       "| S_Ju_hoan_North-1 | 22.9778850        | 0.0001            | 0.0000            |      Inf          |\n",
       "| S_Mandenka-1      | 16.5460985        | 0.0015            | 0.0000            |      Inf          |\n",
       "| S_Mbuti-1         | 20.6067081        | 0.0015            | 0.0000            |      Inf          |\n",
       "| S_Papuan-2        | 23.3963696        | 0.0004            | 0.0000            |      Inf          |\n",
       "| S_Punjabi-1       | 17.3597069        | 0.0001            | 0.0000            |      Inf          |\n",
       "| S_Saami-2         | 22.9134546        | 0.0003            | 0.0000            |      Inf          |\n",
       "| S_Sardinian-1     | 18.3378798        | 0.0002            | 0.0000            |      Inf          |\n",
       "| S_Thai-1          | 25.4108382        | 0.0001            | 0.0000            |      Inf          |\n",
       "| S_Yoruba-2        | 17.1633397        | 0.0015            | 0.0000            |      Inf          |\n",
       "| ustishim          | 20.3913371        | 0.0007            | 0.0000            |      Inf          |\n",
       "| S_Burmese-1       | 29.5273392        | 0.0000            | 0.0000            |      NaN          |\n",
       "| S_Finnish-2       | 17.2177495        | 0.0000            | 0.0000            |      NaN          |\n",
       "| S_Karitiana-1     | 22.6298052        | 0.0000            | 0.0000            |      NaN          |\n",
       "| S_Turkish-1       | 22.7049042        | 0.0000            | 0.0000            |      NaN          |\n",
       "\n"
      ],
      "text/plain": [
       "   name              avg_cov    observed_zero expected_zero obs_vs_exp_ratio\n",
       "1  shotgun_spy1       0.5218778 0.6106        0.5934        1.028986        \n",
       "2  shotgun_mez2       0.8879353 0.4337        0.4115        1.053949        \n",
       "3  spy1               0.9103632 0.4896        0.4024        1.216700        \n",
       "4  den4               1.6634329 0.2601        0.1895        1.372559        \n",
       "5  den8               3.6038601 0.0975        0.0272        3.584559        \n",
       "6  a00               21.2707718 0.0005        0.0000             Inf        \n",
       "7  mez2              14.6456430 0.0400        0.0000             Inf        \n",
       "8  S_BedouinB-1      21.9612670 0.0001        0.0000             Inf        \n",
       "9  S_Dai-2           20.0761092 0.0001        0.0000             Inf        \n",
       "10 S_Dinka-1         21.2868001 0.0001        0.0000             Inf        \n",
       "11 S_French-1        22.1765062 0.0001        0.0000             Inf        \n",
       "12 S_Gambian-1       20.3687313 0.0015        0.0000             Inf        \n",
       "13 S_Han-2           20.9841636 0.0001        0.0000             Inf        \n",
       "14 S_Ju_hoan_North-1 22.9778850 0.0001        0.0000             Inf        \n",
       "15 S_Mandenka-1      16.5460985 0.0015        0.0000             Inf        \n",
       "16 S_Mbuti-1         20.6067081 0.0015        0.0000             Inf        \n",
       "17 S_Papuan-2        23.3963696 0.0004        0.0000             Inf        \n",
       "18 S_Punjabi-1       17.3597069 0.0001        0.0000             Inf        \n",
       "19 S_Saami-2         22.9134546 0.0003        0.0000             Inf        \n",
       "20 S_Sardinian-1     18.3378798 0.0002        0.0000             Inf        \n",
       "21 S_Thai-1          25.4108382 0.0001        0.0000             Inf        \n",
       "22 S_Yoruba-2        17.1633397 0.0015        0.0000             Inf        \n",
       "23 ustishim          20.3913371 0.0007        0.0000             Inf        \n",
       "24 S_Burmese-1       29.5273392 0.0000        0.0000             NaN        \n",
       "25 S_Finnish-2       17.2177495 0.0000        0.0000             NaN        \n",
       "26 S_Karitiana-1     22.6298052 0.0000        0.0000             NaN        \n",
       "27 S_Turkish-1       22.7049042 0.0000        0.0000             NaN        "
      ]
     },
     "metadata": {},
     "output_type": "display_data"
    }
   ],
   "source": [
    "avg_cov %>% mutate(obs_vs_exp_ratio = observed_zero / expected_zero) %>% arrange(obs_vs_exp_ratio)"
   ]
  }
 ],
 "metadata": {
  "kernelspec": {
   "display_name": "R",
   "language": "R",
   "name": "ir"
  },
  "language_info": {
   "codemirror_mode": "r",
   "file_extension": ".r",
   "mimetype": "text/x-r-source",
   "name": "R",
   "pygments_lexer": "r",
   "version": "3.5.1"
  }
 },
 "nbformat": 4,
 "nbformat_minor": 2
}
