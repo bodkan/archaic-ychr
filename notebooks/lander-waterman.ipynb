{
 "cells": [
  {
   "cell_type": "markdown",
   "metadata": {},
   "source": [
    "# Reference bias using expected vs observed # of bases with no coverage"
   ]
  },
  {
   "cell_type": "markdown",
   "metadata": {},
   "source": [
    "* https://www.illumina.com/documents/products/technotes/technote_coverage_calculation.pdf\n",
    "* https://en.wikipedia.org/wiki/DNA_sequencing_theory#Early_uses_derived_from_elementary_probability_theory\n",
    "* http://seqanswers.com/forums/showpost.php?p=161353&postcount=2\n",
    "\n",
    "The problem can be boiled down to the following question: given sequence coverage $X$, the proportion of sites with no coverage can be modelled as $Poisson(\\lambda = 0)$. Under ideal conditions and infinite number of sites, the empirical counts of sites with no coverage should be exactly equal to this value.\n",
    "\n",
    "What is the proportion of sites with no coverage in our samples? Are there some worrying differences between Neanderthal and Denisovan samples? Keep in mind that both _Denisova 4_ and _Denisova 8_ have almost the same TMRCA, significantly different from all other Neanderthals, who also give the same values between each other."
   ]
  },
  {
   "cell_type": "code",
   "execution_count": 1,
   "metadata": {
    "scrolled": true
   },
   "outputs": [
    {
     "name": "stderr",
     "output_type": "stream",
     "text": [
      "── \u001b[1mAttaching packages\u001b[22m ─────────────────────────────────────── tidyverse 1.2.1 ──\n",
      "\u001b[32m✔\u001b[39m \u001b[34mggplot2\u001b[39m 3.1.1     \u001b[32m✔\u001b[39m \u001b[34mpurrr  \u001b[39m 0.3.0\n",
      "\u001b[32m✔\u001b[39m \u001b[34mtibble \u001b[39m 2.1.1     \u001b[32m✔\u001b[39m \u001b[34mdplyr  \u001b[39m 0.7.8\n",
      "\u001b[32m✔\u001b[39m \u001b[34mtidyr  \u001b[39m 0.8.2     \u001b[32m✔\u001b[39m \u001b[34mstringr\u001b[39m 1.4.0\n",
      "\u001b[32m✔\u001b[39m \u001b[34mreadr  \u001b[39m 1.3.1     \u001b[32m✔\u001b[39m \u001b[34mforcats\u001b[39m 0.3.0\n",
      "── \u001b[1mConflicts\u001b[22m ────────────────────────────────────────── tidyverse_conflicts() ──\n",
      "\u001b[31m✖\u001b[39m \u001b[34mdplyr\u001b[39m::\u001b[32mfilter()\u001b[39m masks \u001b[34mstats\u001b[39m::filter()\n",
      "\u001b[31m✖\u001b[39m \u001b[34mdplyr\u001b[39m::\u001b[32mlag()\u001b[39m    masks \u001b[34mstats\u001b[39m::lag()\n",
      "\n",
      "Attaching package: ‘glue’\n",
      "\n",
      "The following object is masked from ‘package:dplyr’:\n",
      "\n",
      "    collapse\n",
      "\n",
      "here() starts at /mnt/expressions/mp/ychr\n",
      "Warning message:\n",
      "“no function found corresponding to methods exports from ‘GenomicRanges’ for: ‘concatenateObjects’”Loading ychr\n"
     ]
    }
   ],
   "source": [
    "library(tidyverse)\n",
    "library(glue)\n",
    "library(here)\n",
    "suppressPackageStartupMessages({library(rtracklayer); library(GenomicRanges)})\n",
    "\n",
    "devtools::load_all(\".\")"
   ]
  },
  {
   "cell_type": "code",
   "execution_count": 2,
   "metadata": {},
   "outputs": [],
   "source": [
    "cov_df <- readRDS(here(\"data/rds/cov_df.rds\"))"
   ]
  },
  {
   "cell_type": "code",
   "execution_count": 3,
   "metadata": {},
   "outputs": [],
   "source": [
    "samples <- unique(cov_df$name)"
   ]
  },
  {
   "cell_type": "code",
   "execution_count": 4,
   "metadata": {
    "scrolled": true
   },
   "outputs": [
    {
     "data": {
      "text/html": [
       "<ol class=list-inline>\n",
       "\t<li>'a00'</li>\n",
       "\t<li>'den4'</li>\n",
       "\t<li>'den8'</li>\n",
       "\t<li>'elsidron1'</li>\n",
       "\t<li>'mez2'</li>\n",
       "\t<li>'S_BedouinB-1'</li>\n",
       "\t<li>'S_Burmese-1'</li>\n",
       "\t<li>'S_Dai-2'</li>\n",
       "\t<li>'S_Dinka-1'</li>\n",
       "\t<li>'S_Finnish-2'</li>\n",
       "\t<li>'S_French-1'</li>\n",
       "\t<li>'S_Gambian-1'</li>\n",
       "\t<li>'S_Han-2'</li>\n",
       "\t<li>'S_Ju_hoan_North-1'</li>\n",
       "\t<li>'S_Karitiana-1'</li>\n",
       "\t<li>'S_Mandenka-1'</li>\n",
       "\t<li>'S_Mbuti-1'</li>\n",
       "\t<li>'S_Papuan-2'</li>\n",
       "\t<li>'S_Punjabi-1'</li>\n",
       "\t<li>'S_Saami-2'</li>\n",
       "\t<li>'S_Sardinian-1'</li>\n",
       "\t<li>'S_Thai-1'</li>\n",
       "\t<li>'S_Turkish-1'</li>\n",
       "\t<li>'S_Yoruba-2'</li>\n",
       "\t<li>'spy1'</li>\n",
       "\t<li>'ustishim'</li>\n",
       "\t<li>'shotgun_mez2'</li>\n",
       "\t<li>'shotgun_spy1'</li>\n",
       "\t<li>'elsidron2'</li>\n",
       "</ol>\n"
      ],
      "text/latex": [
       "\\begin{enumerate*}\n",
       "\\item 'a00'\n",
       "\\item 'den4'\n",
       "\\item 'den8'\n",
       "\\item 'elsidron1'\n",
       "\\item 'mez2'\n",
       "\\item 'S\\_BedouinB-1'\n",
       "\\item 'S\\_Burmese-1'\n",
       "\\item 'S\\_Dai-2'\n",
       "\\item 'S\\_Dinka-1'\n",
       "\\item 'S\\_Finnish-2'\n",
       "\\item 'S\\_French-1'\n",
       "\\item 'S\\_Gambian-1'\n",
       "\\item 'S\\_Han-2'\n",
       "\\item 'S\\_Ju\\_hoan\\_North-1'\n",
       "\\item 'S\\_Karitiana-1'\n",
       "\\item 'S\\_Mandenka-1'\n",
       "\\item 'S\\_Mbuti-1'\n",
       "\\item 'S\\_Papuan-2'\n",
       "\\item 'S\\_Punjabi-1'\n",
       "\\item 'S\\_Saami-2'\n",
       "\\item 'S\\_Sardinian-1'\n",
       "\\item 'S\\_Thai-1'\n",
       "\\item 'S\\_Turkish-1'\n",
       "\\item 'S\\_Yoruba-2'\n",
       "\\item 'spy1'\n",
       "\\item 'ustishim'\n",
       "\\item 'shotgun\\_mez2'\n",
       "\\item 'shotgun\\_spy1'\n",
       "\\item 'elsidron2'\n",
       "\\end{enumerate*}\n"
      ],
      "text/markdown": [
       "1. 'a00'\n",
       "2. 'den4'\n",
       "3. 'den8'\n",
       "4. 'elsidron1'\n",
       "5. 'mez2'\n",
       "6. 'S_BedouinB-1'\n",
       "7. 'S_Burmese-1'\n",
       "8. 'S_Dai-2'\n",
       "9. 'S_Dinka-1'\n",
       "10. 'S_Finnish-2'\n",
       "11. 'S_French-1'\n",
       "12. 'S_Gambian-1'\n",
       "13. 'S_Han-2'\n",
       "14. 'S_Ju_hoan_North-1'\n",
       "15. 'S_Karitiana-1'\n",
       "16. 'S_Mandenka-1'\n",
       "17. 'S_Mbuti-1'\n",
       "18. 'S_Papuan-2'\n",
       "19. 'S_Punjabi-1'\n",
       "20. 'S_Saami-2'\n",
       "21. 'S_Sardinian-1'\n",
       "22. 'S_Thai-1'\n",
       "23. 'S_Turkish-1'\n",
       "24. 'S_Yoruba-2'\n",
       "25. 'spy1'\n",
       "26. 'ustishim'\n",
       "27. 'shotgun_mez2'\n",
       "28. 'shotgun_spy1'\n",
       "29. 'elsidron2'\n",
       "\n",
       "\n"
      ],
      "text/plain": [
       " [1] \"a00\"               \"den4\"              \"den8\"             \n",
       " [4] \"elsidron1\"         \"mez2\"              \"S_BedouinB-1\"     \n",
       " [7] \"S_Burmese-1\"       \"S_Dai-2\"           \"S_Dinka-1\"        \n",
       "[10] \"S_Finnish-2\"       \"S_French-1\"        \"S_Gambian-1\"      \n",
       "[13] \"S_Han-2\"           \"S_Ju_hoan_North-1\" \"S_Karitiana-1\"    \n",
       "[16] \"S_Mandenka-1\"      \"S_Mbuti-1\"         \"S_Papuan-2\"       \n",
       "[19] \"S_Punjabi-1\"       \"S_Saami-2\"         \"S_Sardinian-1\"    \n",
       "[22] \"S_Thai-1\"          \"S_Turkish-1\"       \"S_Yoruba-2\"       \n",
       "[25] \"spy1\"              \"ustishim\"          \"shotgun_mez2\"     \n",
       "[28] \"shotgun_spy1\"      \"elsidron2\"        "
      ]
     },
     "metadata": {},
     "output_type": "display_data"
    }
   ],
   "source": [
    "samples"
   ]
  },
  {
   "cell_type": "code",
   "execution_count": 5,
   "metadata": {},
   "outputs": [],
   "source": [
    "avg_cov <- cov_df %>%\n",
    "    group_by(name, regions) %>%\n",
    "    summarise(avg_coverage = mean(coverage)) %>%\n",
    "    spread(regions, avg_coverage) %>%\n",
    "    rename(avg_cov = full) %>%\n",
    "    select(-exome, -lippold) %>%\n",
    "    filter(!str_detect(name, \"elsidron\"))"
   ]
  },
  {
   "cell_type": "code",
   "execution_count": 16,
   "metadata": {},
   "outputs": [],
   "source": [
    "avg_cov <- avg_cov %>%\n",
    "    mutate(observed_zero = round(map_dbl(name, ~ mean(filter(cov_df, name == .x)$coverage == 0)), 5),\n",
    "           expected_zero = round(dpois(x = 0, lambda = avg_cov), 5))"
   ]
  },
  {
   "cell_type": "code",
   "execution_count": 17,
   "metadata": {},
   "outputs": [
    {
     "name": "stdout",
     "output_type": "stream",
     "text": [
      "\u001b[38;5;246m# A tibble: 27 x 5\u001b[39m\n",
      "\u001b[38;5;246m# Groups:   name [27]\u001b[39m\n",
      "   name              avg_cov observed_zero expected_zero difference\n",
      "   \u001b[3m\u001b[38;5;246m<chr>\u001b[39m\u001b[23m               \u001b[3m\u001b[38;5;246m<dbl>\u001b[39m\u001b[23m         \u001b[3m\u001b[38;5;246m<dbl>\u001b[39m\u001b[23m         \u001b[3m\u001b[38;5;246m<dbl>\u001b[39m\u001b[23m      \u001b[3m\u001b[38;5;246m<dbl>\u001b[39m\u001b[23m\n",
      "\u001b[38;5;250m 1\u001b[39m spy1                0.910      0.490           0.402    0.087\u001b[4m2\u001b[24m  \n",
      "\u001b[38;5;250m 2\u001b[39m den4                1.66       0.260           0.189    0.070\u001b[4m6\u001b[24m  \n",
      "\u001b[38;5;250m 3\u001b[39m den8                3.60       0.097\u001b[4m5\u001b[24m          0.027\u001b[4m2\u001b[24m   0.070\u001b[4m2\u001b[24m  \n",
      "\u001b[38;5;250m 4\u001b[39m mez2               14.6        0.040\u001b[4m0\u001b[24m          0        0.040\u001b[4m0\u001b[24m  \n",
      "\u001b[38;5;250m 5\u001b[39m shotgun_mez2        0.888      0.434           0.412    0.022\u001b[4m2\u001b[24m  \n",
      "\u001b[38;5;250m 6\u001b[39m shotgun_spy1        0.522      0.611           0.593    0.017\u001b[4m2\u001b[24m  \n",
      "\u001b[38;5;250m 7\u001b[39m S_Mbuti-1          20.6        0.001\u001b[4m5\u001b[24m\u001b[4m2\u001b[24m         0        0.001\u001b[4m5\u001b[24m\u001b[4m2\u001b[24m \n",
      "\u001b[38;5;250m 8\u001b[39m S_Yoruba-2         17.2        0.001\u001b[4m5\u001b[24m\u001b[4m1\u001b[24m         0        0.001\u001b[4m5\u001b[24m\u001b[4m1\u001b[24m \n",
      "\u001b[38;5;250m 9\u001b[39m S_Mandenka-1       16.5        0.001\u001b[4m5\u001b[24m          0        0.001\u001b[4m5\u001b[24m  \n",
      "\u001b[38;5;250m10\u001b[39m S_Gambian-1        20.4        0.001\u001b[4m4\u001b[24m\u001b[4m9\u001b[24m         0        0.001\u001b[4m4\u001b[24m\u001b[4m9\u001b[24m \n",
      "\u001b[38;5;250m11\u001b[39m ustishim           20.4        0.000\u001b[4m6\u001b[24m\u001b[4m8\u001b[24m         0        0.000\u001b[4m6\u001b[24m\u001b[4m8\u001b[24m \n",
      "\u001b[38;5;250m12\u001b[39m a00                21.3        0.000\u001b[4m4\u001b[24m\u001b[4m6\u001b[24m         0        0.000\u001b[4m4\u001b[24m\u001b[4m6\u001b[24m \n",
      "\u001b[38;5;250m13\u001b[39m S_Papuan-2         23.4        0.000\u001b[4m4\u001b[24m\u001b[4m4\u001b[24m         0        0.000\u001b[4m4\u001b[24m\u001b[4m4\u001b[24m \n",
      "\u001b[38;5;250m14\u001b[39m S_Saami-2          22.9        0.000\u001b[4m3\u001b[24m\u001b[4m1\u001b[24m         0        0.000\u001b[4m3\u001b[24m\u001b[4m1\u001b[24m \n",
      "\u001b[38;5;250m15\u001b[39m S_Sardinian-1      18.3        0.000\u001b[4m1\u001b[24m\u001b[4m6\u001b[24m         0        0.000\u001b[4m1\u001b[24m\u001b[4m6\u001b[24m \n",
      "\u001b[38;5;250m16\u001b[39m S_BedouinB-1       22.0        0.000\u001b[4m1\u001b[24m\u001b[4m5\u001b[24m\u001b[4m0\u001b[24m        0        0.000\u001b[4m1\u001b[24m\u001b[4m5\u001b[24m\u001b[4m0\u001b[24m\n",
      "\u001b[38;5;250m17\u001b[39m S_Punjabi-1        17.4        0.000\u001b[4m1\u001b[24m\u001b[4m5\u001b[24m\u001b[4m0\u001b[24m        0        0.000\u001b[4m1\u001b[24m\u001b[4m5\u001b[24m\u001b[4m0\u001b[24m\n",
      "\u001b[38;5;250m18\u001b[39m S_French-1         22.2        0.000\u001b[4m1\u001b[24m\u001b[4m4\u001b[24m\u001b[4m0\u001b[24m        0        0.000\u001b[4m1\u001b[24m\u001b[4m4\u001b[24m\u001b[4m0\u001b[24m\n",
      "\u001b[38;5;250m19\u001b[39m S_Thai-1           25.4        0.000\u001b[4m1\u001b[24m          0        0.000\u001b[4m1\u001b[24m  \n",
      "\u001b[38;5;250m20\u001b[39m S_Dai-2            20.1        0.000\u001b[4m0\u001b[24m\u001b[4m7\u001b[24m\u001b[4m0\u001b[24m        0        0.000\u001b[4m0\u001b[24m\u001b[4m7\u001b[24m\u001b[4m0\u001b[24m\n",
      "\u001b[38;5;250m21\u001b[39m S_Ju_hoan_North-1  23.0        0.000\u001b[4m0\u001b[24m\u001b[4m7\u001b[24m\u001b[4m0\u001b[24m        0        0.000\u001b[4m0\u001b[24m\u001b[4m7\u001b[24m\u001b[4m0\u001b[24m\n",
      "\u001b[38;5;250m22\u001b[39m S_Dinka-1          21.3        0.000\u001b[4m0\u001b[24m\u001b[4m6\u001b[24m         0        0.000\u001b[4m0\u001b[24m\u001b[4m6\u001b[24m \n",
      "\u001b[38;5;250m23\u001b[39m S_Han-2            21.0        0.000\u001b[4m0\u001b[24m\u001b[4m5\u001b[24m         0        0.000\u001b[4m0\u001b[24m\u001b[4m5\u001b[24m \n",
      "\u001b[38;5;250m24\u001b[39m S_Burmese-1        29.5        0.000\u001b[4m0\u001b[24m\u001b[4m4\u001b[24m         0        0.000\u001b[4m0\u001b[24m\u001b[4m4\u001b[24m \n",
      "\u001b[38;5;250m25\u001b[39m S_Finnish-2        17.2        0.000\u001b[4m0\u001b[24m\u001b[4m4\u001b[24m         0        0.000\u001b[4m0\u001b[24m\u001b[4m4\u001b[24m \n",
      "\u001b[38;5;250m26\u001b[39m S_Karitiana-1      22.6        0.000\u001b[4m0\u001b[24m\u001b[4m4\u001b[24m         0        0.000\u001b[4m0\u001b[24m\u001b[4m4\u001b[24m \n",
      "\u001b[38;5;250m27\u001b[39m S_Turkish-1        22.7        0.000\u001b[4m0\u001b[24m\u001b[4m3\u001b[24m         0        0.000\u001b[4m0\u001b[24m\u001b[4m3\u001b[24m \n"
     ]
    }
   ],
   "source": [
    "avg_cov %>%\n",
    "    mutate(difference = observed_zero - expected_zero) %>% arrange(-difference) %>% print(n=Inf)"
   ]
  },
  {
   "cell_type": "code",
   "execution_count": null,
   "metadata": {},
   "outputs": [],
   "source": []
  }
 ],
 "metadata": {
  "kernelspec": {
   "display_name": "R",
   "language": "R",
   "name": "ir"
  },
  "language_info": {
   "codemirror_mode": "r",
   "file_extension": ".r",
   "mimetype": "text/x-r-source",
   "name": "R",
   "pygments_lexer": "r",
   "version": "3.5.1"
  }
 },
 "nbformat": 4,
 "nbformat_minor": 2
}
