{
 "cells": [
  {
   "cell_type": "markdown",
   "metadata": {},
   "source": [
    "# Estimating archaic TMRCAs from the real data"
   ]
  },
  {
   "cell_type": "code",
   "execution_count": 2,
   "metadata": {
    "scrolled": false
   },
   "outputs": [
    {
     "name": "stderr",
     "output_type": "stream",
     "text": [
      "── \u001b[1mAttaching packages\u001b[22m ─────────────────────────────────────── tidyverse 1.2.1 ──\n",
      "\u001b[32m✔\u001b[39m \u001b[34mggplot2\u001b[39m 3.2.0     \u001b[32m✔\u001b[39m \u001b[34mpurrr  \u001b[39m 0.3.2\n",
      "\u001b[32m✔\u001b[39m \u001b[34mtibble \u001b[39m 2.1.3     \u001b[32m✔\u001b[39m \u001b[34mdplyr  \u001b[39m 0.8.3\n",
      "\u001b[32m✔\u001b[39m \u001b[34mtidyr  \u001b[39m 0.8.3     \u001b[32m✔\u001b[39m \u001b[34mstringr\u001b[39m 1.4.0\n",
      "\u001b[32m✔\u001b[39m \u001b[34mreadr  \u001b[39m 1.3.1     \u001b[32m✔\u001b[39m \u001b[34mforcats\u001b[39m 0.4.0\n",
      "── \u001b[1mConflicts\u001b[22m ────────────────────────────────────────── tidyverse_conflicts() ──\n",
      "\u001b[31m✖\u001b[39m \u001b[34mdplyr\u001b[39m::\u001b[32mfilter()\u001b[39m masks \u001b[34mstats\u001b[39m::filter()\n",
      "\u001b[31m✖\u001b[39m \u001b[34mdplyr\u001b[39m::\u001b[32mlag()\u001b[39m    masks \u001b[34mstats\u001b[39m::lag()\n",
      "\n",
      "Attaching package: ‘magrittr’\n",
      "\n",
      "The following object is masked from ‘package:purrr’:\n",
      "\n",
      "    set_names\n",
      "\n",
      "The following object is masked from ‘package:tidyr’:\n",
      "\n",
      "    extract\n",
      "\n",
      "here() starts at /mnt/expressions/mp/ychr\n",
      "Loading required package: future\n",
      "\n",
      "Attaching package: ‘scales’\n",
      "\n",
      "The following object is masked from ‘package:purrr’:\n",
      "\n",
      "    discard\n",
      "\n",
      "The following object is masked from ‘package:readr’:\n",
      "\n",
      "    col_factor\n",
      "\n",
      "Loading ychr\n"
     ]
    }
   ],
   "source": [
    "library(tidyverse)\n",
    "library(magrittr)\n",
    "library(here)\n",
    "library(furrr)\n",
    "library(scales)\n",
    "\n",
    "devtools::load_all(\".\")\n",
    "\n",
    "plan(multiprocess)"
   ]
  },
  {
   "cell_type": "code",
   "execution_count": null,
   "metadata": {},
   "outputs": [],
   "source": [
    "highcov_gt <- read_vcf(here(\"data/vcf/full_highcov.vcf.gz\"), mindp = 3, maxdp = 0.975)"
   ]
  },
  {
   "cell_type": "code",
   "execution_count": null,
   "metadata": {},
   "outputs": [],
   "source": [
    "tafr <- calculate_tafr(highcov_gt)"
   ]
  },
  {
   "cell_type": "code",
   "execution_count": null,
   "metadata": {},
   "outputs": [],
   "source": [
    "tafr %>% group_by(afr) %>% unnest(counts_afr) %>% summarise_if(is.numeric, mean)"
   ]
  },
  {
   "cell_type": "code",
   "execution_count": null,
   "metadata": {},
   "outputs": [],
   "source": [
    "tmrca_full_low %<-%\n",
    "    map_dfr(c(\"den4\", \"den8\", \"spy1\", \"shotgun_mez2\", \"shotgun_spy1\"), function(arch) {\n",
    "        map_dfr(c(\"all\", \"tv_only\"), function(sites) {\n",
    "            future_map_dfr(1:8, function(dp) {\n",
    "                read_genotypes(arch, \"full\", mindp = dp, maxdp = 0.975, tv_only = sites == \"tv_only\") %>%\n",
    "                    calculate_tarch(tafr) %>%\n",
    "                    mutate(dp = dp, sites = sites)\n",
    "            })\n",
    "        })\n",
    "    })"
   ]
  },
  {
   "cell_type": "code",
   "execution_count": null,
   "metadata": {},
   "outputs": [],
   "source": [
    "tmrca_full_subsampled %<-%\n",
    "    map_dfr(, function(arch) {\n",
    "        map_dfr(c(\"all\", \"tv_only\"), function(sites) {\n",
    "            future_map_dfr(1:8, function(dp) {\n",
    "                read_genotypes(arch, \"full\", mindp = dp, maxdp = 0.975, tv_only = sites == \"tv_only\") %>%\n",
    "                    calculate_tarch(tafr) %>%\n",
    "                    mutate(dp = dp, sites = sites)\n",
    "            })\n",
    "        })\n",
    "    })"
   ]
  },
  {
   "cell_type": "code",
   "execution_count": null,
   "metadata": {},
   "outputs": [],
   "source": [
    "tmrca_full_high %<-%\n",
    "    map_dfr(c(\"mez2\", \"mez2_snpad\"), function(arch) {\n",
    "        map_dfr(c(\"all\", \"tv_only\"), function(sites) {\n",
    "            future_map_dfr(1:20, function(dp) {\n",
    "                read_genotypes(arch, \"full\", mindp = dp, maxdp = 0.975, tv_only = sites == \"tv_only\") %>%\n",
    "                    calculate_tarch(tafr) %>%\n",
    "                    mutate(dp = dp, sites = sites)\n",
    "            })\n",
    "        })\n",
    "    })"
   ]
  },
  {
   "cell_type": "code",
   "execution_count": null,
   "metadata": {},
   "outputs": [],
   "source": [
    "tmrca_lippold %<-%\n",
    "    map_dfr(c(\"elsidron2\"), function(arch) {\n",
    "        map_dfr(c(\"all\", \"tv_only\"), function(sites) {\n",
    "            future_map_dfr(1:20, function(dp) {\n",
    "                read_genotypes(arch, \"lippold\", mindp = dp, maxdp = 0.975, tv_only = sites == \"tv_only\") %>%\n",
    "                    calculate_tarch(tafr) %>%\n",
    "                    mutate(dp = dp, sites = sites)\n",
    "            })\n",
    "        })\n",
    "    })"
   ]
  },
  {
   "cell_type": "code",
   "execution_count": null,
   "metadata": {},
   "outputs": [],
   "source": [
    "tmrca_exome %<-%\n",
    "    map_dfr(c(\"elsidron1\"), function(arch) {\n",
    "        map_dfr(c(\"all\", \"tv_only\"), function(sites) {\n",
    "            future_map_dfr(1:8, function(dp) {\n",
    "                read_genotypes(arch, \"exome\", mindp = dp, maxdp = 0.975, tv_only = sites == \"tv_only\") %>%\n",
    "                    calculate_tarch(tafr) %>%\n",
    "                    mutate(dp = dp, sites = sites)\n",
    "            })\n",
    "        })\n",
    "    })"
   ]
  },
  {
   "cell_type": "code",
   "execution_count": 3,
   "metadata": {},
   "outputs": [
    {
     "ename": "ERROR",
     "evalue": "Error: No such future variable: tmrca_full_low\n",
     "output_type": "error",
     "traceback": [
      "Error: No such future variable: tmrca_full_low\nTraceback:\n",
      "1. resolved(futureOf(tmrca_full_low))",
      "2. futureOf(tmrca_full_low)",
      "3. get_future(target, mustExist = mustExist)",
      "4. stop(msg, call. = FALSE)"
     ]
    }
   ],
   "source": [
    "resolved(futureOf(tmrca_full_low))\n",
    "resolved(futureOf(tmrca_full_subsampled))\n",
    "resolved(futureOf(tmrca_full_high))\n",
    "resolved(futureOf(tmrca_lippold))\n",
    "resolved(futureOf(tmrca_exome))"
   ]
  },
  {
   "cell_type": "code",
   "execution_count": null,
   "metadata": {},
   "outputs": [],
   "source": []
  },
  {
   "cell_type": "code",
   "execution_count": null,
   "metadata": {},
   "outputs": [],
   "source": []
  },
  {
   "cell_type": "code",
   "execution_count": null,
   "metadata": {},
   "outputs": [],
   "source": []
  },
  {
   "cell_type": "code",
   "execution_count": null,
   "metadata": {},
   "outputs": [],
   "source": []
  },
  {
   "cell_type": "code",
   "execution_count": null,
   "metadata": {},
   "outputs": [],
   "source": [
    "tmrca_full_low %<>% mutate(capture = \"full\", tafr = \"all\")\n",
    "tmrca_full_subsampled %<>% mutate(capture = \"full\", tafr = \"all\")\n",
    "tmrca_full_high %<>% mutate(capture = \"full\", tafr = \"all\")\n",
    "tmrca_lippold %<>% mutate(capture = \"lippold\", tafr = \"all\")\n",
    "tmrca_exome %<>% mutate(capture = \"exome\", tafr = \"all\")"
   ]
  },
  {
   "cell_type": "code",
   "execution_count": null,
   "metadata": {},
   "outputs": [],
   "source": [
    "tmrca_df <- bind_rows(tmrca_full_low, tmrca_full_high, tmrca_lippold, tmrca_exome)"
   ]
  },
  {
   "cell_type": "code",
   "execution_count": null,
   "metadata": {},
   "outputs": [],
   "source": [
    "saveRDS(tmrca_df, here(\"data/rds/tmrca_df.rds\"))"
   ]
  },
  {
   "cell_type": "code",
   "execution_count": null,
   "metadata": {},
   "outputs": [],
   "source": [
    "tmrca_df <- readRDS(here(\"data/rds/tmrca_df.rds\"))"
   ]
  },
  {
   "cell_type": "code",
   "execution_count": null,
   "metadata": {},
   "outputs": [],
   "source": []
  },
  {
   "cell_type": "code",
   "execution_count": null,
   "metadata": {},
   "outputs": [],
   "source": []
  },
  {
   "cell_type": "code",
   "execution_count": null,
   "metadata": {},
   "outputs": [],
   "source": []
  },
  {
   "cell_type": "code",
   "execution_count": null,
   "metadata": {},
   "outputs": [],
   "source": []
  },
  {
   "cell_type": "code",
   "execution_count": null,
   "metadata": {},
   "outputs": [],
   "source": [
    "tmrca_df %>% filter(sites == \"tv_only\", arch == \"mez2\", capture == \"full\", dp == 3, afr == \"a00\") %>%\n",
    "unnest(counts_arch) %>% group_by(arch) %>% summarise_if(is.numeric, mean)"
   ]
  },
  {
   "cell_type": "code",
   "execution_count": null,
   "metadata": {},
   "outputs": [],
   "source": []
  },
  {
   "cell_type": "code",
   "execution_count": null,
   "metadata": {
    "scrolled": false
   },
   "outputs": [],
   "source": [
    "set_dim(8, 6)\n",
    "\n",
    "tmrca_df %>%\n",
    "filter(afr == \"a00\") %>%\n",
    "filter(capture == \"full\" & arch %in% c(\"den8\", \"mez2\", \"mez2sub\") | capture == \"lippold\" & arch == \"elsidron2\" | capture == \"exome\" & arch == \"elsidron1\") %>%\n",
    "filter(!is.infinite(alpha), !is.nan(alpha)) %>%\n",
    "unnest(counts_arch) %>%\n",
    "mutate(alpha2 = (a + d) / d, tmrca_arch2 = alpha2 * tmrca_f) %>%\n",
    "select(arch, tmrca_arch, tmrca_arch2, sites, dp) %>%\n",
    "group_by(arch, sites, dp) %>% summarise_all(mean) %>% \n",
    "gather(tmrca, value, -c(arch, sites, dp)) %>%\n",
    "ggplot(aes(dp, value, color = arch)) +\n",
    "    geom_point(aes(as.factor(dp), value), alpha = 1/4) +\n",
    "    geom_smooth(aes(fill = arch), size = 0.5) +\n",
    "    labs(x = \"Minimum coverage required\", y = \"TMRCA estimate\") +\n",
    "    theme_bw() +\n",
    "    coord_cartesian(y = c(200000, 850000)) +\n",
    "    facet_grid(tmrca ~ sites) +\n",
    "    theme(legend.position = \"bottom\") +\n",
    "    ggtitle(\"TMRCAs calculated using two different formulas\") +\n",
    "    geom_hline(yintercept = c(350000, 650000), linetype = 2, size = 1/3)"
   ]
  },
  {
   "cell_type": "code",
   "execution_count": null,
   "metadata": {
    "scrolled": false
   },
   "outputs": [],
   "source": [
    "set_dim(8, 6)\n",
    "\n",
    "tmrca_df %>%\n",
    "filter(afr == \"a00\") %>%\n",
    "filter(capture == \"full\" & arch %in% c(\"den8\", \"mez2\") | capture == \"lippold\" & arch == \"elsidron2\" | capture == \"exome\" & arch == \"elsidron1\") %>%\n",
    "filter(!is.infinite(alpha), !is.nan(alpha)) %>%\n",
    "unnest(counts_arch) %>%\n",
    "mutate(alpha2 = (a + d) / d, tmrca_arch2 = alpha2 * tmrca_f) %>%\n",
    "select(arch, tmrca_arch, tmrca_arch2, sites, dp) %>%\n",
    "group_by(arch, sites, dp) %>% summarise_all(mean) %>% \n",
    "gather(tmrca, value, -c(arch, sites, dp)) %>%\n",
    "ggplot(aes(dp, value, color = arch)) +\n",
    "    geom_point(aes(as.factor(dp), value), alpha = 1/4) +\n",
    "    geom_smooth(aes(fill = arch), size = 0.5) +\n",
    "    labs(x = \"Minimum coverage required\", y = \"TMRCA estimate\") +\n",
    "    theme_bw() +\n",
    "    coord_cartesian(y = c(200000, 850000)) +\n",
    "    facet_grid(tmrca ~ sites) +\n",
    "    theme(legend.position = \"bottom\") +\n",
    "    ggtitle(\"TMRCAs calculated using two different formulas\") +\n",
    "    geom_hline(yintercept = c(350000, 650000), linetype = 2, size = 1/3)"
   ]
  },
  {
   "cell_type": "code",
   "execution_count": null,
   "metadata": {
    "scrolled": false
   },
   "outputs": [],
   "source": [
    "set_dim(8, 5)\n",
    "\n",
    "tmrca_df %>%\n",
    "filter(afr == \"a00\", dp <= 4) %>%\n",
    "filter(capture == \"full\" & arch %in% c(\"den8\", \"mez2\", \"den4\", \"spy1\") |\n",
    "       capture == \"lippold\" & arch == \"elsidron2\" |\n",
    "       capture == \"exome\" & arch == \"elsidron1\") %>%\n",
    "unnest(counts_arch) %>%\n",
    "mutate(alpha2 = (a + d) / d, tmrca_arch2 = alpha2 * tmrca_f) %>%\n",
    "select(arch, tmrca_arch, tmrca_arch2, sites, dp) %>%\n",
    "gather(tmrca, value, -c(arch, sites, dp)) %>%\n",
    "filter(!is.na(value), !is.infinite(value)) %>% {\n",
    "ggplot(., aes(as.factor(dp), value, color = arch, group = arch)) +\n",
    "    geom_point(alpha = 1/4) +\n",
    "    geom_line(data = group_by(., arch, sites, dp, tmrca) %>% summarise_all(mean), size = 1 / 2) +\n",
    "    facet_grid(tmrca ~ sites) +\n",
    "    theme_bw() +\n",
    "    scale_y_continuous(labels = comma) +\n",
    "    xlab(\"Minimum coverage\") +\n",
    "    ylab(\"Proportion of mutations falling on a branch\")\n",
    "}"
   ]
  },
  {
   "cell_type": "code",
   "execution_count": null,
   "metadata": {
    "scrolled": false
   },
   "outputs": [],
   "source": [
    "set_dim(8, 6)\n",
    "\n",
    "tmrca_df %>%\n",
    "filter(afr == \"a00\") %>%\n",
    "filter(capture == \"full\" & arch %in% c(\"den8\", \"mez2\") | capture == \"lippold\" & arch == \"elsidron2\") %>%\n",
    "filter(!is.infinite(alpha), !is.nan(alpha)) %>%\n",
    "unnest(counts_arch) %>%\n",
    "mutate(alpha2 = (a + d) / d, tmrca_arch2 = alpha2 * tmrca_f) %>%\n",
    "select(arch, tmrca_arch, tmrca_arch2, sites, dp) %>%\n",
    "group_by(arch, sites, dp) %>% summarise_all(mean) %>% \n",
    "gather(tmrca, value, -c(arch, sites, dp)) %>%\n",
    "ggplot(aes(dp, value, color = arch)) +\n",
    "    geom_point(aes(as.factor(dp), value), alpha = 1/4) +\n",
    "    geom_smooth(aes(fill = arch), size = 0.5) +\n",
    "    labs(x = \"Minimum coverage required\", y = \"TMRCA estimate\") +\n",
    "    theme_bw() +\n",
    "    coord_cartesian(y = c(100000, 1000000)) +\n",
    "    facet_grid(tmrca ~ sites) +\n",
    "    theme(legend.position = \"bottom\") +\n",
    "    ggtitle(\"TMRCAs calculated using two different formulas\") +\n",
    "    geom_hline(yintercept = c(350000, 650000), linetype = 2, size = 1/3)"
   ]
  },
  {
   "cell_type": "markdown",
   "metadata": {},
   "source": [
    "# Why do `d` and `e` counts differ so much depending on coverage?"
   ]
  },
  {
   "cell_type": "code",
   "execution_count": null,
   "metadata": {},
   "outputs": [],
   "source": [
    "set_dim(6, 3)\n",
    "\n",
    "tmrca_df %>%\n",
    "filter(!is.infinite(alpha), !is.nan(alpha)) %>%\n",
    "filter(afr %in% \"a00\") %>%\n",
    "filter(capture == \"full\" & arch %in% c(\"den8\"), sites == \"all\") %>%\n",
    "unnest(counts_arch) %>%\n",
    "mutate(n_muts = a + b + c + d + e + f) %>% select(-starts_with(\"tmrca\"), -mut_rate) %>%\n",
    "group_by(arch, afr, dp) %>%\n",
    "summarise_if(is.numeric, mean) %>%\n",
    "arrange(dp)"
   ]
  },
  {
   "cell_type": "markdown",
   "metadata": {},
   "source": [
    "^^^ note that the `a` length is getting A LOT shorter as we increase the coverage cutoff"
   ]
  },
  {
   "cell_type": "markdown",
   "metadata": {},
   "source": [
    "d/e ~1 for DP >= 1, as it should be, because there's no reason for them to be different, really"
   ]
  },
  {
   "cell_type": "markdown",
   "metadata": {},
   "source": [
    "### The following means that the `a` branch is getting increasingly shorter than `e` the higher the required coverage cutoff is\n",
    "\n",
    "But note that it's the same even for Mez2! Probably not archaic-caused ref bias?!"
   ]
  },
  {
   "cell_type": "code",
   "execution_count": null,
   "metadata": {
    "scrolled": false
   },
   "outputs": [],
   "source": [
    "set_dim(8, 4)\n",
    "\n",
    "tmrca_df %>%\n",
    "filter(!is.infinite(alpha), !is.nan(alpha)) %>%\n",
    "filter(sites == \"tv_only\", capture == \"full\" & arch %in% c(\"den8\", \"mez2\") | capture == \"lippold\" & arch == \"asd\") %>%\n",
    "unnest(counts_arch) %>%\n",
    "mutate(n_muts = a + b + c + d + e + f) %>%\n",
    "#select(arch, afr, dp, tmrca_arch, alpha, a, b, c, d, e, f, total, n_muts, sites) %>%\n",
    "#gather(branch, count, -c(arch, afr, dp, alpha, tmrca_arch, total, n_muts, sites)) %>% \n",
    "#filter(branch %in% c(\"d\", \"e\")) %>% \n",
    "group_by(arch, afr, dp, sites) %>%\n",
    "summarise_if(is.numeric, mean) %>%\n",
    "mutate(prop = e / a) %>% \n",
    "ggplot(aes(as.factor(dp), prop, color = afr, fill = afr, group = afr)) +\n",
    "    geom_point() +\n",
    "    geom_smooth(size = 1/3, alpha = 1/2) +\n",
    "    facet_wrap(~ arch, scales = \"free_y\") +\n",
    "    theme_bw() + xlab(\"Minimum coverage\") + ylab(\"Proportion e / a\") +\n",
    "    theme(legend.position = \"bottom\", axis.text.x = element_text(hjust = 1, angle = 45))"
   ]
  },
  {
   "cell_type": "markdown",
   "metadata": {},
   "source": [
    "### ... but not the `d` branch... ?"
   ]
  },
  {
   "cell_type": "code",
   "execution_count": null,
   "metadata": {
    "scrolled": false
   },
   "outputs": [],
   "source": [
    "set_dim(8, 4)\n",
    "\n",
    "tmrca_df %>%\n",
    "filter(dp < 9, !is.infinite(alpha), !is.nan(alpha)) %>%\n",
    "filter(sites == \"tv_only\", capture == \"full\" & arch %in% c(\"den8\", \"mez2\") | capture == \"lippold\" & arch == \"asd\") %>%\n",
    "unnest(counts_arch) %>%\n",
    "mutate(n_muts = a + b + c + d + e + f) %>%\n",
    "group_by(arch, afr, dp, sites) %>%\n",
    "summarise_if(is.numeric, mean) %>%\n",
    "mutate(prop = d / a) %>% \n",
    "ggplot(aes(as.factor(dp), prop, color = afr, fill = afr, group = afr)) +\n",
    "    geom_point() +\n",
    "    geom_smooth(size = 1/3, alpha = 1/2) +\n",
    "    facet_wrap(~ arch, scales = \"free_y\") +\n",
    "    theme_bw() + xlab(\"Minimum coverage\") + ylab(\"Proportion d / a\") +\n",
    "    theme(legend.position = \"bottom\", axis.text.x = element_text(hjust = 1, angle = 45))"
   ]
  },
  {
   "cell_type": "markdown",
   "metadata": {},
   "source": [
    "### What about `d` vs `e`? This proportion should be ~1."
   ]
  },
  {
   "cell_type": "code",
   "execution_count": null,
   "metadata": {
    "scrolled": false
   },
   "outputs": [],
   "source": [
    "set_dim(8, 4)\n",
    "\n",
    "tmrca_df %>%\n",
    "filter(!is.infinite(alpha), !is.nan(alpha)) %>%\n",
    "filter(sites == \"tv_only\", capture == \"full\" & arch %in% c(\"den8\", \"mez2\")) %>%\n",
    "unnest(counts_arch) %>%\n",
    "mutate(n_muts = a + b + c + d + e + f) %>%\n",
    "group_by(arch, afr, dp, sites) %>%\n",
    "summarise_if(is.numeric, mean) %>%\n",
    "mutate(prop = e / d) %>% \n",
    "ggplot(aes(as.factor(dp), prop, color = afr, fill = afr, group = afr)) +\n",
    "    geom_point() +\n",
    "    geom_smooth(size = 1/3, alpha = 1/4) +\n",
    "    facet_grid(. ~ arch) +\n",
    "    theme_bw() + xlab(\"Minimum coverage\") + ylab(\"Proportion e / d\") +\n",
    "    theme(legend.position = \"bottom\", axis.text.x = element_text(hjust = 1, angle = 45))"
   ]
  },
  {
   "cell_type": "code",
   "execution_count": null,
   "metadata": {
    "scrolled": false
   },
   "outputs": [],
   "source": [
    "set_dim(8, 4)\n",
    "\n",
    "tmrca_df %>%\n",
    "filter(!is.infinite(alpha), !is.nan(alpha)) %>%\n",
    "filter(sites == \"tv_only\", capture == \"full\" & arch %in% c(\"den8\", \"mez2\")) %>%\n",
    "unnest(counts_arch) %>%\n",
    "mutate(n_muts = a + b + c + d + e + f) %>%\n",
    "group_by(arch, afr, dp, sites) %>%\n",
    "summarise_if(is.numeric, mean) %>%\n",
    "mutate(prop = b / a) %>% \n",
    "ggplot(aes(as.factor(dp), prop, color = afr, fill = afr, group = afr)) +\n",
    "    geom_point() +\n",
    "    geom_smooth(size = 1/3, alpha = 1/4) +\n",
    "    facet_wrap(~ arch, scales = \"free\") +\n",
    "    theme_bw() + xlab(\"Minimum coverage\") + ylab(\"Proportion b / a\") +\n",
    "    theme(legend.position = \"bottom\", axis.text.x = element_text(hjust = 1, angle = 45))"
   ]
  },
  {
   "cell_type": "code",
   "execution_count": null,
   "metadata": {
    "scrolled": false
   },
   "outputs": [],
   "source": [
    "set_dim(8, 4)\n",
    "\n",
    "tmrca_df %>%\n",
    "filter(!is.infinite(alpha), !is.nan(alpha)) %>%\n",
    "filter(sites == \"tv_only\", capture == \"full\" & arch %in% c(\"den8\", \"mez2\")) %>%\n",
    "unnest(counts_arch) %>%\n",
    "mutate(n_muts = a + b + c + d + e + f) %>%\n",
    "group_by(arch, afr, dp, sites) %>%\n",
    "summarise_if(is.numeric, mean) %>%\n",
    "mutate(prop = a / c) %>% \n",
    "ggplot(aes(as.factor(dp), prop, color = afr, fill = afr, group = afr)) +\n",
    "    geom_point() +\n",
    "    geom_smooth(size = 1/3, alpha = 1/4) +\n",
    "    facet_wrap(~ arch, scales = \"free\") +\n",
    "    theme_bw() + xlab(\"Minimum coverage\") + ylab(\"Proportion a / c\") +\n",
    "    theme(legend.position = \"bottom\", axis.text.x = element_text(hjust = 1, angle = 45))"
   ]
  },
  {
   "cell_type": "code",
   "execution_count": null,
   "metadata": {},
   "outputs": [],
   "source": [
    "tmrca_df %>% filter(arch == \"den4\", capture == \"full\", dp == 3, sites == \"all\") %>%\n",
    "unnest(counts_arch) %>% select(-starts_with(\"tmrca\"), -counts_afr) %>% mutate(c / b)"
   ]
  },
  {
   "cell_type": "code",
   "execution_count": null,
   "metadata": {},
   "outputs": [],
   "source": [
    "tmrca_df %>% filter(arch == \"den8\", capture == \"full\", dp == 3, sites == \"all\") %>%\n",
    "unnest(counts_arch) %>% select(-starts_with(\"tmrca\"), -counts_afr) %>% mutate(c / b)"
   ]
  },
  {
   "cell_type": "code",
   "execution_count": null,
   "metadata": {},
   "outputs": [],
   "source": [
    "tmrca_df %>% filter(arch == \"spy1\", capture == \"full\", dp == 3, sites == \"all\") %>%\n",
    "unnest(counts_arch) %>% select(-starts_with(\"tmrca\"), -counts_afr) %>% mutate(c / b)"
   ]
  },
  {
   "cell_type": "code",
   "execution_count": null,
   "metadata": {},
   "outputs": [],
   "source": [
    "tmrca_df %>% filter(arch == \"mez2\", capture == \"full\", dp == 3, sites == \"all\") %>%\n",
    "unnest(counts_arch) %>% select(-starts_with(\"tmrca\"), -counts_afr) %>% mutate(c / b)"
   ]
  },
  {
   "cell_type": "markdown",
   "metadata": {},
   "source": [
    "### A00 - both `a` and `d` relatively stable across coverage, but `e` is increasing"
   ]
  },
  {
   "cell_type": "code",
   "execution_count": null,
   "metadata": {},
   "outputs": [],
   "source": [
    "set_dim(13, 7)\n",
    "\n",
    "tmrca_df %>%\n",
    "filter(!is.infinite(alpha), !is.nan(alpha)) %>%\n",
    "filter(afr %in% \"a00\", dp <= 8) %>%\n",
    "filter(capture == \"full\" & arch %in% c(\"den8\", \"mez2\", \"spy1\", \"den4\") | arch == \"elsidron1\") %>%\n",
    "filter((dp <= 4 & arch == \"den4\") |\n",
    "       (dp <= 10 & arch == \"den8\") |\n",
    "       (dp <= 29 & arch == \"mez2\") |\n",
    "       (dp <= 4 & arch == \"spy1\") |\n",
    "       (dp <= 5 & arch == \"elsidron1\")) %>%\n",
    "unnest(counts_arch) %>%\n",
    "mutate(n_muts = a + b + c + d + e + f) %>%\n",
    "select(arch, afr, dp, tmrca_arch, alpha, a, b, c, d, e, f, total, n_muts, sites) %>%\n",
    "gather(branch, count, -c(arch, afr, dp, alpha, tmrca_arch, total, n_muts, sites)) %>% \n",
    "mutate(prop = count / n_muts) %>% {\n",
    "ggplot(., aes(as.factor(dp), prop, color = branch, fill = branch, group = branch)) +\n",
    "    geom_point() +\n",
    "    geom_line(data = group_by(., arch, afr, dp, sites, branch) %>% summarise_if(is.numeric, mean), size = 1 / 2,\n",
    "              aes(linetype = !branch %in% c(\"a\", \"d\", \"f\"))) +\n",
    "    facet_wrap(sites ~ arch, scales = \"free\", ncol = 5) +\n",
    "    geom_vline(xintercept = 3) +\n",
    "    theme_bw() +\n",
    "    xlab(\"Minimum coverage\") +\n",
    "    ylab(\"Proportion of mutations falling on a branch\") +\n",
    "    theme(legend.position = \"bottom\")\n",
    "}"
   ]
  },
  {
   "cell_type": "code",
   "execution_count": null,
   "metadata": {},
   "outputs": [],
   "source": [
    "set_dim(13, 7)\n",
    "\n",
    "tmrca_df %>%\n",
    "filter(!is.infinite(alpha), !is.nan(alpha)) %>%\n",
    "filter(afr %in% \"a00\") %>%\n",
    "filter(capture == \"full\" & arch %in% c(\"den8\", \"mez2\", \"spy1\", \"den4\")) %>%\n",
    "filter((dp <= 4 & arch == \"den4\") |\n",
    "       (dp <= 10 & arch == \"den8\") |\n",
    "       (dp <= 29 & arch == \"mez2\") |\n",
    "       (dp <= 4 & arch == \"spy1\")) %>%\n",
    "unnest(counts_arch) %>%\n",
    "mutate(n_muts = a + b + c + d + e + f) %>%\n",
    "select(arch, afr, dp, tmrca_arch, alpha, a, b, c, d, e, f, total, n_muts, sites) %>%\n",
    "gather(branch, count, -c(arch, afr, dp, alpha, tmrca_arch, total, n_muts, sites)) %>% \n",
    "mutate(prop = count / n_muts) %>% {\n",
    "ggplot(., aes(as.factor(dp), prop, color = branch, fill = branch, group = branch)) +\n",
    "    geom_point() +\n",
    "    geom_line(data = group_by(., arch, afr, dp, sites, branch) %>% summarise_if(is.numeric, mean), size = 1 / 2,\n",
    "              aes(linetype = !branch %in% c(\"a\", \"d\", \"f\"))) +\n",
    "    facet_wrap(sites ~ arch, scales = \"free\", ncol = 4) +\n",
    "    geom_vline(xintercept = 3) +\n",
    "    theme_bw() +\n",
    "    xlab(\"Minimum coverage\") +\n",
    "    ylab(\"Proportion of mutations falling on a branch\") +\n",
    "    theme(legend.position = \"bottom\")\n",
    "}"
   ]
  },
  {
   "cell_type": "markdown",
   "metadata": {},
   "source": [
    "^^^ `a` and `f` appear to level after `dp >= 3` which seems OK???\n",
    "\n",
    "but `e` is increasing steadily - this is super weird and could be driving `a / (a + d + e)` higher at higher cutoffs?\n",
    "* is the increased proportion of `e` branch the reference bias signal?\n"
   ]
  },
  {
   "cell_type": "code",
   "execution_count": null,
   "metadata": {},
   "outputs": [],
   "source": []
  },
  {
   "cell_type": "code",
   "execution_count": null,
   "metadata": {},
   "outputs": [],
   "source": []
  },
  {
   "cell_type": "code",
   "execution_count": null,
   "metadata": {},
   "outputs": [],
   "source": []
  },
  {
   "cell_type": "code",
   "execution_count": null,
   "metadata": {},
   "outputs": [],
   "source": []
  },
  {
   "cell_type": "code",
   "execution_count": null,
   "metadata": {
    "scrolled": false
   },
   "outputs": [],
   "source": [
    "set_dim(8, 5)\n",
    "\n",
    "tmrca_df %>%\n",
    "filter(dp < 9, capture == \"full\", afr == \"a00\", arch %in% c(\"mez2\", \"den8\")) %>% unnest(counts_arch) %>%\n",
    "select(arch, dp, tmrca_arch, alpha_mendez = alpha, sites, tmrca_f, a, b, c, d, e, f) %>%\n",
    "mutate(\n",
    "    alpha_ad = (a + d) / d,\n",
    "    alpha_ae = (a + e) / e\n",
    ") %>%\n",
    "select(arch, dp, sites, starts_with(\"alpha\")) %>%\n",
    "gather(stat, value, -arch, -dp, -sites) %>%\n",
    "ggplot(aes(as.factor(dp), value, color = stat)) +\n",
    "    geom_point() +\n",
    "    geom_smooth(aes(group = stat)) +\n",
    "    theme_bw() +\n",
    "    facet_wrap(sites ~ arch, scales = \"free\") +\n",
    "    ylab(\"archaic->A00 TMRCA scaling factor 'alpha'\")"
   ]
  },
  {
   "cell_type": "code",
   "execution_count": null,
   "metadata": {},
   "outputs": [],
   "source": []
  },
  {
   "cell_type": "code",
   "execution_count": null,
   "metadata": {},
   "outputs": [],
   "source": []
  },
  {
   "cell_type": "code",
   "execution_count": null,
   "metadata": {},
   "outputs": [],
   "source": []
  },
  {
   "cell_type": "code",
   "execution_count": null,
   "metadata": {},
   "outputs": [],
   "source": []
  },
  {
   "cell_type": "code",
   "execution_count": null,
   "metadata": {},
   "outputs": [],
   "source": []
  },
  {
   "cell_type": "code",
   "execution_count": null,
   "metadata": {},
   "outputs": [],
   "source": []
  },
  {
   "cell_type": "code",
   "execution_count": null,
   "metadata": {},
   "outputs": [],
   "source": []
  },
  {
   "cell_type": "code",
   "execution_count": null,
   "metadata": {},
   "outputs": [],
   "source": []
  },
  {
   "cell_type": "code",
   "execution_count": null,
   "metadata": {},
   "outputs": [],
   "source": []
  },
  {
   "cell_type": "code",
   "execution_count": null,
   "metadata": {},
   "outputs": [],
   "source": []
  },
  {
   "cell_type": "markdown",
   "metadata": {},
   "source": [
    "points here:\n",
    "\n",
    "1. 3X coverage seems to remove most of the error effects nicely - best argument for using this cutoff in the middle panel.\n",
    "2. TV-only removes all erors (TMRCA doesn't change) => sequencing errors minimal beyond aDNA damage.\n",
    "3. Minimal effect of reference bias with increasing coverage??? Based on the Neanderthal line in the center panel, but significant bias in Denisova?"
   ]
  },
  {
   "cell_type": "markdown",
   "metadata": {},
   "source": [
    "TMRCAs of A00 are overlapping the ones of other Africans, especially striking in the Lippold captures, but exome data looks weird too - too much noise in the data or not enough sequence to accumulate enough informative sites?"
   ]
  },
  {
   "cell_type": "code",
   "execution_count": null,
   "metadata": {},
   "outputs": [],
   "source": []
  },
  {
   "cell_type": "code",
   "execution_count": null,
   "metadata": {},
   "outputs": [],
   "source": []
  },
  {
   "cell_type": "code",
   "execution_count": null,
   "metadata": {},
   "outputs": [],
   "source": []
  },
  {
   "cell_type": "code",
   "execution_count": null,
   "metadata": {},
   "outputs": [],
   "source": [
    "library(scales)\n",
    "\n",
    "colors <- c(\"red\", \"#E69F00\", \"#56B4E9\", \"#009E73\", \"#F0E442\", \"#0072B2\", \"#D55E00\", \"#CC79A7\")\n",
    "\n",
    "tafr <- tmrca_df %>%\n",
    "    filter(dp == 3, afr == \"a00\", arch == \"den8\", capture == \"full\", sites == \"all\") %>%\n",
    "    select(name = afr, tmrca = tmrca_afr)\n",
    "\n",
    "tarch <- tmrca_df %>%\n",
    "    filter(afr == \"a00\") %>%\n",
    "    filter(dp == 2 & sites == \"tv_only\" & capture == \"full\" & arch %in% c(\"den4\", \"den8\", \"mez2\", \"spy1\", \"shotgun_spy1\", \"shotgun_mez2\") |\n",
    "           dp == 2 & sites == \"tv_only\" & capture == \"lippold\" & arch == \"elsidron2\" |\n",
    "           dp %in% c(1, 3) & sites == \"all\" & capture == \"exome\" & arch == \"elsidron1\") %>%\n",
    "    mutate(arch = case_when(arch == \"elsidron1\" & dp == 1 ~ \"elsidron_dp1\",\n",
    "                            arch == \"elsidron1\" & dp == 3 ~ \"elsidron_dp3\",\n",
    "                            TRUE ~ arch)) %>%\n",
    "    select(name = arch, tmrca = tmrca_arch, tmrca_arch2)\n",
    "tmrca <- bind_rows(tafr, tarch) %>%\n",
    "    mutate(set = case_when(name == \"a00\" ~ \"A00\",\n",
    "                       name %in% c(\"den4\", \"den8\") ~ \"Denisovan\",\n",
    "                       name %in% c(\"spy1\", \"mez2\", \"elsidron2\", \"shotgun_spy1\", \"shotgun_mez2\") ~ \"Neanderthal\",\n",
    "                       TRUE ~ \"other\")) %>%\n",
    "    mutate(name = case_when(name == \"den4\" ~ \"Denisova 4 (1.6X)\",\n",
    "                            name == \"den8\" ~ \"Denisova 8 (3.6X)\",\n",
    "                            name == \"elsidron2\" ~ \"El Sidron (8X)\",\n",
    "                            name == \"mez2\" ~ \"Mezmaiskaya 2 (15X)\",\n",
    "                            name == \"spy1\" ~ \"Spy 1 (0.9X)\",\n",
    "                            name == \"shotgun_spy1\" ~ \"Spy1 shot\",\n",
    "                            name == \"shotgun_mez2\" ~ \"Mez2 shot\",\n",
    "                            name == \"elsidron_dp1\" ~ \"El Sidron (3X, Mendez et al.)\",\n",
    "                            name == \"elsidron_dp3\" ~ \"El Sidron (3X, Mendez at al., filtered)\",\n",
    "                            name == \"a00\" ~ \"A00 lineage (21X)\")) %>%\n",
    "    mutate(name = fct_relevel(name, \"El Sidron (8X)\", \"El Sidron (3X, Mendez et al.)\",\n",
    "                              \"El Sidron (3X, Mendez at al., filtered)\", \"A00 lineage (21X)\", after = Inf))"
   ]
  },
  {
   "cell_type": "code",
   "execution_count": null,
   "metadata": {},
   "outputs": [],
   "source": [
    "set_dim(5, 4)\n",
    "\n",
    "tmrca %>%\n",
    "ggplot(aes(name, tmrca, color = set)) +\n",
    "    geom_boxplot() +\n",
    "    geom_jitter() + \n",
    "    theme_classic() +\n",
    "    xlab(\"\") + ylab(\"Y chromosome TMRCA [years ago]\") +\n",
    "    expand_limits(y = 130000) +\n",
    "    guides(color = guide_legend(\"archaic human\")) +\n",
    "    scale_y_continuous(labels = comma) +\n",
    "    geom_hline(yintercept = c(630000, 350000)) +\n",
    "    theme(legend.position = \"none\",\n",
    "          axis.text.x = element_text(hjust = 1, angle = 30, size = 12),\n",
    "          axis.title.x = element_blank())"
   ]
  },
  {
   "cell_type": "code",
   "execution_count": null,
   "metadata": {},
   "outputs": [],
   "source": [
    "set_dim(5, 4)\n",
    "\n",
    "tmrca %>%\n",
    "ggplot(aes(name, tmrca_arch2, color = set)) +\n",
    "    geom_boxplot() +\n",
    "    geom_jitter() + \n",
    "    theme_classic() +\n",
    "    xlab(\"\") + ylab(\"Y chromosome TMRCA [years ago]\") +\n",
    "    expand_limits(y = 130000) +\n",
    "    guides(color = guide_legend(\"archaic human\")) +\n",
    "    scale_y_continuous(labels = comma) +\n",
    "    geom_hline(yintercept = c(630000, 350000)) +\n",
    "    theme(legend.position = \"none\",\n",
    "          axis.text.x = element_text(hjust = 1, angle = 30, size = 12),\n",
    "          axis.title.x = element_blank())"
   ]
  },
  {
   "cell_type": "code",
   "execution_count": null,
   "metadata": {},
   "outputs": [],
   "source": []
  },
  {
   "cell_type": "code",
   "execution_count": null,
   "metadata": {},
   "outputs": [],
   "source": []
  },
  {
   "cell_type": "code",
   "execution_count": null,
   "metadata": {},
   "outputs": [],
   "source": []
  },
  {
   "cell_type": "code",
   "execution_count": null,
   "metadata": {},
   "outputs": [],
   "source": []
  },
  {
   "cell_type": "code",
   "execution_count": null,
   "metadata": {},
   "outputs": [],
   "source": []
  },
  {
   "cell_type": "code",
   "execution_count": null,
   "metadata": {},
   "outputs": [],
   "source": []
  },
  {
   "cell_type": "code",
   "execution_count": null,
   "metadata": {},
   "outputs": [],
   "source": []
  },
  {
   "cell_type": "code",
   "execution_count": null,
   "metadata": {},
   "outputs": [],
   "source": []
  },
  {
   "cell_type": "code",
   "execution_count": null,
   "metadata": {},
   "outputs": [],
   "source": [
    "x %<-% read_vcf(\"../data/vcf/full_shotgun_mez2.vcf.gz\", mindp = 3, maxdp = 1)"
   ]
  },
  {
   "cell_type": "code",
   "execution_count": null,
   "metadata": {},
   "outputs": [],
   "source": [
    "y %<-% read_vcf(\"../data/vcf/full_mez2.vcf.gz\", mindp = 3, maxdp = 1)"
   ]
  },
  {
   "cell_type": "code",
   "execution_count": null,
   "metadata": {},
   "outputs": [],
   "source": [
    "head(x)"
   ]
  },
  {
   "cell_type": "code",
   "execution_count": null,
   "metadata": {},
   "outputs": [],
   "source": [
    "df = full_join(x, y)"
   ]
  },
  {
   "cell_type": "code",
   "execution_count": null,
   "metadata": {},
   "outputs": [],
   "source": [
    "head(df)"
   ]
  },
  {
   "cell_type": "code",
   "execution_count": null,
   "metadata": {},
   "outputs": [],
   "source": [
    "filter(df, shotgun_mez2 != mez2)"
   ]
  }
 ],
 "metadata": {
  "kernelspec": {
   "display_name": "R",
   "language": "R",
   "name": "ir"
  }
 },
 "nbformat": 4,
 "nbformat_minor": 2
}
