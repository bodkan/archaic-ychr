{
 "cells": [
  {
   "cell_type": "code",
   "execution_count": 1,
   "metadata": {},
   "outputs": [
    {
     "name": "stderr",
     "output_type": "stream",
     "text": [
      "── \u001b[1mAttaching packages\u001b[22m ─────────────────────────────────────── tidyverse 1.2.1 ──\n",
      "\n",
      "\u001b[32m✔\u001b[39m \u001b[34mggplot2\u001b[39m 3.3.0     \u001b[32m✔\u001b[39m \u001b[34mpurrr  \u001b[39m 0.3.3\n",
      "\u001b[32m✔\u001b[39m \u001b[34mtibble \u001b[39m 3.0.0     \u001b[32m✔\u001b[39m \u001b[34mdplyr  \u001b[39m 0.8.5\n",
      "\u001b[32m✔\u001b[39m \u001b[34mtidyr  \u001b[39m 1.0.0     \u001b[32m✔\u001b[39m \u001b[34mstringr\u001b[39m 1.4.0\n",
      "\u001b[32m✔\u001b[39m \u001b[34mreadr  \u001b[39m 1.3.1     \u001b[32m✔\u001b[39m \u001b[34mforcats\u001b[39m 0.5.0\n",
      "\n",
      "── \u001b[1mConflicts\u001b[22m ────────────────────────────────────────── tidyverse_conflicts() ──\n",
      "\u001b[31m✖\u001b[39m \u001b[34mdplyr\u001b[39m::\u001b[32mfilter()\u001b[39m masks \u001b[34mstats\u001b[39m::filter()\n",
      "\u001b[31m✖\u001b[39m \u001b[34mdplyr\u001b[39m::\u001b[32mlag()\u001b[39m    masks \u001b[34mstats\u001b[39m::lag()\n",
      "\n",
      "\n",
      "Attaching package: ‘glue’\n",
      "\n",
      "\n",
      "The following object is masked from ‘package:dplyr’:\n",
      "\n",
      "    collapse\n",
      "\n",
      "\n",
      "here() starts at /mnt/expressions/mp/archaic-ychr\n",
      "\n",
      "Loading ychr\n",
      "\n"
     ]
    }
   ],
   "source": [
    "library(tidyverse)\n",
    "library(glue)\n",
    "library(here)\n",
    "suppressPackageStartupMessages({library(rtracklayer); library(GenomicRanges)})\n",
    "\n",
    "devtools::load_all(\".\")"
   ]
  },
  {
   "cell_type": "markdown",
   "metadata": {},
   "source": [
    "## Characteristics of three different capture sets after 50% mappability filtering"
   ]
  },
  {
   "cell_type": "markdown",
   "metadata": {},
   "source": [
    "### Exome capture set - not filtered"
   ]
  },
  {
   "cell_type": "code",
   "execution_count": 2,
   "metadata": {},
   "outputs": [],
   "source": [
    "exome50 <- import.bed(here(\"data/coord/capture_exome.bed\"))"
   ]
  },
  {
   "cell_type": "code",
   "execution_count": 3,
   "metadata": {},
   "outputs": [
    {
     "data": {
      "text/html": [
       "2519"
      ],
      "text/latex": [
       "2519"
      ],
      "text/markdown": [
       "2519"
      ],
      "text/plain": [
       "[1] 2519"
      ]
     },
     "metadata": {},
     "output_type": "display_data"
    }
   ],
   "source": [
    "length(exome50)"
   ]
  },
  {
   "cell_type": "code",
   "execution_count": 4,
   "metadata": {},
   "outputs": [
    {
     "data": {
      "text/html": [
       "118643"
      ],
      "text/latex": [
       "118643"
      ],
      "text/markdown": [
       "118643"
      ],
      "text/plain": [
       "[1] 118643"
      ]
     },
     "metadata": {},
     "output_type": "display_data"
    }
   ],
   "source": [
    "width(exome50) %>% sum"
   ]
  },
  {
   "cell_type": "code",
   "execution_count": 5,
   "metadata": {},
   "outputs": [
    {
     "data": {
      "text/html": [
       "118643"
      ],
      "text/latex": [
       "118643"
      ],
      "text/markdown": [
       "118643"
      ],
      "text/plain": [
       "[1] 118643"
      ]
     },
     "metadata": {},
     "output_type": "display_data"
    }
   ],
   "source": [
    "import.bed(\"../tmp/ajhg2064mmc2_V1.txt\") %>% width %>% sum"
   ]
  },
  {
   "cell_type": "code",
   "execution_count": 6,
   "metadata": {},
   "outputs": [
    {
     "data": {
      "text/plain": [
       "   Min. 1st Qu.  Median    Mean 3rd Qu.    Max. \n",
       "    1.0     1.0     3.0    47.1    67.5  1257.0 "
      ]
     },
     "metadata": {},
     "output_type": "display_data"
    }
   ],
   "source": [
    "width(exome50) %>% summary"
   ]
  },
  {
   "cell_type": "markdown",
   "metadata": {},
   "source": [
    "### Lippold capture set"
   ]
  },
  {
   "cell_type": "code",
   "execution_count": 7,
   "metadata": {},
   "outputs": [],
   "source": [
    "lippold50 <- import.bed(here(\"data/coord/capture_lippold.bed\"))"
   ]
  },
  {
   "cell_type": "code",
   "execution_count": 8,
   "metadata": {},
   "outputs": [
    {
     "data": {
      "text/html": [
       "1779"
      ],
      "text/latex": [
       "1779"
      ],
      "text/markdown": [
       "1779"
      ],
      "text/plain": [
       "[1] 1779"
      ]
     },
     "metadata": {},
     "output_type": "display_data"
    }
   ],
   "source": [
    "length(lippold50)"
   ]
  },
  {
   "cell_type": "code",
   "execution_count": 9,
   "metadata": {},
   "outputs": [
    {
     "data": {
      "text/html": [
       "556259"
      ],
      "text/latex": [
       "556259"
      ],
      "text/markdown": [
       "556259"
      ],
      "text/plain": [
       "[1] 556259"
      ]
     },
     "metadata": {},
     "output_type": "display_data"
    }
   ],
   "source": [
    "width(lippold50) %>% sum"
   ]
  },
  {
   "cell_type": "code",
   "execution_count": 10,
   "metadata": {},
   "outputs": [
    {
     "data": {
      "text/plain": [
       "   Min. 1st Qu.  Median    Mean 3rd Qu.    Max. \n",
       "    1.0   107.5   119.0   312.7   418.5  2829.0 "
      ]
     },
     "metadata": {},
     "output_type": "display_data"
    }
   ],
   "source": [
    "width(lippold50) %>% summary"
   ]
  },
  {
   "cell_type": "code",
   "execution_count": 11,
   "metadata": {},
   "outputs": [],
   "source": [
    "lippold50_orig <- import.bed(\"../input/basti_design.bed\")"
   ]
  },
  {
   "cell_type": "code",
   "execution_count": 12,
   "metadata": {},
   "outputs": [
    {
     "data": {
      "text/html": [
       "1251"
      ],
      "text/latex": [
       "1251"
      ],
      "text/markdown": [
       "1251"
      ],
      "text/plain": [
       "[1] 1251"
      ]
     },
     "metadata": {},
     "output_type": "display_data"
    }
   ],
   "source": [
    "length(lippold50_orig)"
   ]
  },
  {
   "cell_type": "code",
   "execution_count": 13,
   "metadata": {},
   "outputs": [
    {
     "data": {
      "text/html": [
       "573657"
      ],
      "text/latex": [
       "573657"
      ],
      "text/markdown": [
       "573657"
      ],
      "text/plain": [
       "[1] 573657"
      ]
     },
     "metadata": {},
     "output_type": "display_data"
    }
   ],
   "source": [
    "width(lippold50_orig) %>% sum"
   ]
  },
  {
   "cell_type": "code",
   "execution_count": 14,
   "metadata": {},
   "outputs": [
    {
     "data": {
      "text/plain": [
       "   Min. 1st Qu.  Median    Mean 3rd Qu.    Max. \n",
       "   60.0   119.0   151.0   458.6   820.0  3899.0 "
      ]
     },
     "metadata": {},
     "output_type": "display_data"
    }
   ],
   "source": [
    "width(lippold50_orig) %>% summary"
   ]
  },
  {
   "cell_type": "code",
   "execution_count": 15,
   "metadata": {},
   "outputs": [
    {
     "data": {
      "text/html": [
       "0.969671772505173"
      ],
      "text/latex": [
       "0.969671772505173"
      ],
      "text/markdown": [
       "0.969671772505173"
      ],
      "text/plain": [
       "[1] 0.9696718"
      ]
     },
     "metadata": {},
     "output_type": "display_data"
    }
   ],
   "source": [
    "556259 / 573657"
   ]
  },
  {
   "cell_type": "markdown",
   "metadata": {},
   "source": [
    "### Full Y chromosome capture set"
   ]
  },
  {
   "cell_type": "code",
   "execution_count": 16,
   "metadata": {},
   "outputs": [],
   "source": [
    "full50 <- import.bed(here(\"data/coord/capture_full.bed\"))"
   ]
  },
  {
   "cell_type": "code",
   "execution_count": 17,
   "metadata": {},
   "outputs": [
    {
     "data": {
      "text/html": [
       "15903"
      ],
      "text/latex": [
       "15903"
      ],
      "text/markdown": [
       "15903"
      ],
      "text/plain": [
       "[1] 15903"
      ]
     },
     "metadata": {},
     "output_type": "display_data"
    }
   ],
   "source": [
    "length(full50)"
   ]
  },
  {
   "cell_type": "code",
   "execution_count": 18,
   "metadata": {},
   "outputs": [
    {
     "data": {
      "text/html": [
       "6912728"
      ],
      "text/latex": [
       "6912728"
      ],
      "text/markdown": [
       "6912728"
      ],
      "text/plain": [
       "[1] 6912728"
      ]
     },
     "metadata": {},
     "output_type": "display_data"
    }
   ],
   "source": [
    "width(full50) %>% sum"
   ]
  },
  {
   "cell_type": "markdown",
   "metadata": {},
   "source": [
    "Original target:"
   ]
  },
  {
   "cell_type": "code",
   "execution_count": 19,
   "metadata": {},
   "outputs": [
    {
     "data": {
      "text/html": [
       "6913053"
      ],
      "text/latex": [
       "6913053"
      ],
      "text/markdown": [
       "6913053"
      ],
      "text/plain": [
       "[1] 6913053"
      ]
     },
     "metadata": {},
     "output_type": "display_data"
    }
   ],
   "source": [
    "read_delim(\"../input/Y.filt35_50_SRepeat_100.bed\", delim = \" \",\n",
    "           col_names = c(\"chrom\", \"start\", \"end\", \"width\"), col_types = \"ciii\") %>%\n",
    "    makeGRangesFromDataFrame(starts.in.df.are.0based = TRUE) %>%\n",
    "    width %>% sum"
   ]
  },
  {
   "cell_type": "code",
   "execution_count": 20,
   "metadata": {},
   "outputs": [
    {
     "data": {
      "text/html": [
       "325"
      ],
      "text/latex": [
       "325"
      ],
      "text/markdown": [
       "325"
      ],
      "text/plain": [
       "[1] 325"
      ]
     },
     "metadata": {},
     "output_type": "display_data"
    }
   ],
   "source": [
    "6913053 - 6912728"
   ]
  },
  {
   "cell_type": "code",
   "execution_count": 21,
   "metadata": {},
   "outputs": [
    {
     "data": {
      "text/plain": [
       "   Min. 1st Qu.  Median    Mean 3rd Qu.    Max. \n",
       "   99.0   145.0   240.0   434.7   490.0  9425.0 "
      ]
     },
     "metadata": {},
     "output_type": "display_data"
    }
   ],
   "source": [
    "width(full50) %>% summary"
   ]
  },
  {
   "cell_type": "code",
   "execution_count": 22,
   "metadata": {},
   "outputs": [
    {
     "data": {
      "text/html": [
       "0"
      ],
      "text/latex": [
       "0"
      ],
      "text/markdown": [
       "0"
      ],
      "text/plain": [
       "[1] 0"
      ]
     },
     "metadata": {},
     "output_type": "display_data"
    }
   ],
   "source": [
    "which(width(full50) < 99) %>% length"
   ]
  },
  {
   "cell_type": "code",
   "execution_count": 23,
   "metadata": {},
   "outputs": [
    {
     "data": {
      "text/html": [
       "124"
      ],
      "text/latex": [
       "124"
      ],
      "text/markdown": [
       "124"
      ],
      "text/plain": [
       "[1] 124"
      ]
     },
     "metadata": {},
     "output_type": "display_data"
    }
   ],
   "source": [
    "which(width(full50) == 99) %>% length"
   ]
  },
  {
   "cell_type": "code",
   "execution_count": 24,
   "metadata": {},
   "outputs": [
    {
     "data": {
      "image/png": "[encoded data removed]",
      "text/plain": [
       "plot without title"
      ]
     },
     "metadata": {
      "image/png": {
       "height": 600,
       "width": 900
      },
      "text/plain": {
       "height": 600,
       "width": 900
      }
     },
     "output_type": "display_data"
    }
   ],
   "source": [
    "set_dim(6, 4)\n",
    "\n",
    "ggplot() + geom_histogram(aes(width(full50)), binwidth = 50) +\n",
    "    theme_minimal()"
   ]
  },
  {
   "cell_type": "markdown",
   "metadata": {},
   "source": [
    "## Comparison with Davalos *et al.*, 2018"
   ]
  },
  {
   "cell_type": "markdown",
   "metadata": {},
   "source": [
    "Load coordinates of their capture regions:"
   ]
  },
  {
   "cell_type": "code",
   "execution_count": 25,
   "metadata": {},
   "outputs": [],
   "source": [
    "df_davalos <- read_tsv(url(\"https://static-content.springer.com/esm/art%3A10.1186%2Fs12864-018-4945-x/MediaObjects/12864_2018_4945_MOESM1_ESM.bed\"),\n",
    "             col_names = c(\"chrom\", \"start\", \"end\"), col_types = \"cii\") %>%\n",
    "    mutate(chrom = str_replace(chrom, \"chr\", \"\"))"
   ]
  },
  {
   "cell_type": "code",
   "execution_count": 26,
   "metadata": {},
   "outputs": [],
   "source": [
    "davalos <- makeGRangesFromDataFrame(df_davalos, starts.in.df.are.0based = T)"
   ]
  },
  {
   "cell_type": "markdown",
   "metadata": {},
   "source": [
    "Capture region characteristics:"
   ]
  },
  {
   "cell_type": "code",
   "execution_count": 27,
   "metadata": {},
   "outputs": [
    {
     "data": {
      "text/html": [
       "4109"
      ],
      "text/latex": [
       "4109"
      ],
      "text/markdown": [
       "4109"
      ],
      "text/plain": [
       "[1] 4109"
      ]
     },
     "metadata": {},
     "output_type": "display_data"
    }
   ],
   "source": [
    "length(davalos)"
   ]
  },
  {
   "cell_type": "code",
   "execution_count": 28,
   "metadata": {},
   "outputs": [
    {
     "data": {
      "text/plain": [
       "   Min. 1st Qu.  Median    Mean 3rd Qu.    Max. \n",
       "    259     503    1171    2157    2686   93458 "
      ]
     },
     "metadata": {},
     "output_type": "display_data"
    }
   ],
   "source": [
    "width(davalos) %>% summary"
   ]
  },
  {
   "cell_type": "code",
   "execution_count": 29,
   "metadata": {},
   "outputs": [
    {
     "data": {
      "text/html": [
       "8864429"
      ],
      "text/latex": [
       "8864429"
      ],
      "text/markdown": [
       "8864429"
      ],
      "text/plain": [
       "[1] 8864429"
      ]
     },
     "metadata": {},
     "output_type": "display_data"
    }
   ],
   "source": [
    "(total_davalos <- sum(width(davalos)))"
   ]
  },
  {
   "cell_type": "code",
   "execution_count": 30,
   "metadata": {},
   "outputs": [
    {
     "data": {
      "text/html": [
       "6912728"
      ],
      "text/latex": [
       "6912728"
      ],
      "text/markdown": [
       "6912728"
      ],
      "text/plain": [
       "[1] 6912728"
      ]
     },
     "metadata": {},
     "output_type": "display_data"
    }
   ],
   "source": [
    "(total_full <- sum(width(full50)))"
   ]
  },
  {
   "cell_type": "markdown",
   "metadata": {},
   "source": [
    "What is the overlap between our design and that of Davalos *et al.*?"
   ]
  },
  {
   "cell_type": "code",
   "execution_count": 31,
   "metadata": {},
   "outputs": [
    {
     "data": {
      "text/html": [
       "6274901"
      ],
      "text/latex": [
       "6274901"
      ],
      "text/markdown": [
       "6274901"
      ],
      "text/plain": [
       "[1] 6274901"
      ]
     },
     "metadata": {},
     "output_type": "display_data"
    }
   ],
   "source": [
    "(total_overlap <- sum(width(intersect(full50, davalos))))"
   ]
  },
  {
   "cell_type": "code",
   "execution_count": 32,
   "metadata": {},
   "outputs": [
    {
     "data": {
      "text/html": [
       "0.907731506288111"
      ],
      "text/latex": [
       "0.907731506288111"
      ],
      "text/markdown": [
       "0.907731506288111"
      ],
      "text/plain": [
       "[1] 0.9077315"
      ]
     },
     "metadata": {},
     "output_type": "display_data"
    }
   ],
   "source": [
    "total_overlap / total_full"
   ]
  },
  {
   "cell_type": "markdown",
   "metadata": {},
   "source": [
    "#### Davos regions after using a mappability filter"
   ]
  },
  {
   "cell_type": "code",
   "execution_count": 33,
   "metadata": {},
   "outputs": [],
   "source": [
    "davalos_map50 <- import.bed(\"../revisions/davalos_map50.bed\")"
   ]
  },
  {
   "cell_type": "code",
   "execution_count": 34,
   "metadata": {},
   "outputs": [
    {
     "data": {
      "text/html": [
       "30102"
      ],
      "text/latex": [
       "30102"
      ],
      "text/markdown": [
       "30102"
      ],
      "text/plain": [
       "[1] 30102"
      ]
     },
     "metadata": {},
     "output_type": "display_data"
    }
   ],
   "source": [
    "length(davalos_map50)"
   ]
  },
  {
   "cell_type": "code",
   "execution_count": 35,
   "metadata": {},
   "outputs": [
    {
     "data": {
      "text/plain": [
       "   Min. 1st Qu.  Median    Mean 3rd Qu.    Max. \n",
       "    1.0    35.0    80.0   236.9   225.0 10290.0 "
      ]
     },
     "metadata": {},
     "output_type": "display_data"
    }
   ],
   "source": [
    "width(davalos_map50) %>% summary"
   ]
  },
  {
   "cell_type": "code",
   "execution_count": 36,
   "metadata": {},
   "outputs": [
    {
     "data": {
      "text/html": [
       "7130632"
      ],
      "text/latex": [
       "7130632"
      ],
      "text/markdown": [
       "7130632"
      ],
      "text/plain": [
       "[1] 7130632"
      ]
     },
     "metadata": {},
     "output_type": "display_data"
    }
   ],
   "source": [
    "(total_davalos_map50 <- sum(width(davalos_map50)))"
   ]
  },
  {
   "cell_type": "code",
   "execution_count": 37,
   "metadata": {},
   "outputs": [
    {
     "data": {
      "text/html": [
       "1733797"
      ],
      "text/latex": [
       "1733797"
      ],
      "text/markdown": [
       "1733797"
      ],
      "text/plain": [
       "[1] 1733797"
      ]
     },
     "metadata": {},
     "output_type": "display_data"
    }
   ],
   "source": [
    "total_davalos - total_davalos_map50"
   ]
  },
  {
   "cell_type": "code",
   "execution_count": 38,
   "metadata": {},
   "outputs": [
    {
     "data": {
      "text/html": [
       "0.195590375871926"
      ],
      "text/latex": [
       "0.195590375871926"
      ],
      "text/markdown": [
       "0.195590375871926"
      ],
      "text/plain": [
       "[1] 0.1955904"
      ]
     },
     "metadata": {},
     "output_type": "display_data"
    }
   ],
   "source": [
    "1 - total_davalos_map50 / total_davalos"
   ]
  },
  {
   "cell_type": "markdown",
   "metadata": {},
   "source": [
    "#### Davos regions after using a mappability filter and minimum 99 bp regions"
   ]
  },
  {
   "cell_type": "code",
   "execution_count": 39,
   "metadata": {},
   "outputs": [],
   "source": [
    "davalos_map50_99 <- davalos_map50[width(davalos_map50) >= 99]"
   ]
  },
  {
   "cell_type": "code",
   "execution_count": 40,
   "metadata": {},
   "outputs": [
    {
     "data": {
      "text/html": [
       "13322"
      ],
      "text/latex": [
       "13322"
      ],
      "text/markdown": [
       "13322"
      ],
      "text/plain": [
       "[1] 13322"
      ]
     },
     "metadata": {},
     "output_type": "display_data"
    }
   ],
   "source": [
    "length(davalos_map50_99)"
   ]
  },
  {
   "cell_type": "code",
   "execution_count": 41,
   "metadata": {},
   "outputs": [
    {
     "data": {
      "text/plain": [
       "   Min. 1st Qu.  Median    Mean 3rd Qu.    Max. \n",
       "   99.0   154.0   263.0   480.3   541.0 10290.0 "
      ]
     },
     "metadata": {},
     "output_type": "display_data"
    }
   ],
   "source": [
    "width(davalos_map50_99) %>% summary"
   ]
  },
  {
   "cell_type": "code",
   "execution_count": 42,
   "metadata": {},
   "outputs": [
    {
     "data": {
      "text/html": [
       "6398623"
      ],
      "text/latex": [
       "6398623"
      ],
      "text/markdown": [
       "6398623"
      ],
      "text/plain": [
       "[1] 6398623"
      ]
     },
     "metadata": {},
     "output_type": "display_data"
    }
   ],
   "source": [
    "(total_davalos_map50_99 <- sum(width(davalos_map50_99)))"
   ]
  },
  {
   "cell_type": "code",
   "execution_count": 43,
   "metadata": {},
   "outputs": [
    {
     "data": {
      "text/html": [
       "0.278168622028559"
      ],
      "text/latex": [
       "0.278168622028559"
      ],
      "text/markdown": [
       "0.278168622028559"
      ],
      "text/plain": [
       "[1] 0.2781686"
      ]
     },
     "metadata": {},
     "output_type": "display_data"
    }
   ],
   "source": [
    "1 - total_davalos_map50_99 / total_davalos"
   ]
  },
  {
   "cell_type": "code",
   "execution_count": 44,
   "metadata": {},
   "outputs": [
    {
     "data": {
      "text/html": [
       "6250705"
      ],
      "text/latex": [
       "6250705"
      ],
      "text/markdown": [
       "6250705"
      ],
      "text/plain": [
       "[1] 6250705"
      ]
     },
     "metadata": {},
     "output_type": "display_data"
    }
   ],
   "source": [
    "sum(width(intersect(davalos_map50_99, full50)))"
   ]
  },
  {
   "cell_type": "code",
   "execution_count": 45,
   "metadata": {},
   "outputs": [
    {
     "data": {
      "text/html": [
       "0.904231296240789"
      ],
      "text/latex": [
       "0.904231296240789"
      ],
      "text/markdown": [
       "0.904231296240789"
      ],
      "text/plain": [
       "[1] 0.9042313"
      ]
     },
     "metadata": {},
     "output_type": "display_data"
    }
   ],
   "source": [
    "sum(width(intersect(davalos_map50_99, full50))) / sum(width(full50))"
   ]
  },
  {
   "cell_type": "code",
   "execution_count": 46,
   "metadata": {},
   "outputs": [
    {
     "data": {
      "image/png": "[encoded data removed]",
      "text/plain": [
       "plot without title"
      ]
     },
     "metadata": {
      "image/png": {
       "height": 750,
       "width": 1200
      },
      "text/plain": {
       "height": 750,
       "width": 1200
      }
     },
     "output_type": "display_data"
    }
   ],
   "source": [
    "set_dim(8, 5)\n",
    "\n",
    "ggplot() +\n",
    "    geom_density(aes(width(davalos), color = \"Cruz-Davalos (original)\"), size = 0.25) +\n",
    "    geom_density(aes(width(davalos_map50), color = \"Cruz-Davalos (map. 50%)\"), size = 0.25) +\n",
    "    geom_density(aes(width(davalos_map50_99), color = \"Cruz-Davalos (map. 50%, >= 99 bp)\"), size = 0.25) +\n",
    "    geom_density(aes(width(full50), color = \"this study\"), size = 0.25) +\n",
    "    coord_cartesian(x = c(0, 10000)) +\n",
    "    xlab(\"region width [bp]\") +\n",
    "    theme_minimal() +\n",
    "    guides(color = guide_legend(title = \"\"))"
   ]
  },
  {
   "cell_type": "markdown",
   "metadata": {},
   "source": [
    "<br><br><br><br><br>\n",
    "## Characteristics after 100% mappability filtering"
   ]
  },
  {
   "cell_type": "markdown",
   "metadata": {},
   "source": [
    "### Lippold capture set"
   ]
  },
  {
   "cell_type": "code",
   "execution_count": 51,
   "metadata": {},
   "outputs": [],
   "source": [
    "bed <- import.bed(here(\"data/coord/capture_lippold.bed\"))"
   ]
  },
  {
   "cell_type": "code",
   "execution_count": 52,
   "metadata": {},
   "outputs": [
    {
     "data": {
      "text/html": [
       "3657"
      ],
      "text/latex": [
       "3657"
      ],
      "text/markdown": [
       "3657"
      ],
      "text/plain": [
       "[1] 3657"
      ]
     },
     "metadata": {},
     "output_type": "display_data"
    }
   ],
   "source": [
    "length(bed)"
   ]
  },
  {
   "cell_type": "code",
   "execution_count": 53,
   "metadata": {},
   "outputs": [
    {
     "data": {
      "text/html": [
       "433416"
      ],
      "text/latex": [
       "433416"
      ],
      "text/markdown": [
       "433416"
      ],
      "text/plain": [
       "[1] 433416"
      ]
     },
     "metadata": {},
     "output_type": "display_data"
    }
   ],
   "source": [
    "width(bed) %>% sum"
   ]
  },
  {
   "cell_type": "code",
   "execution_count": 54,
   "metadata": {},
   "outputs": [
    {
     "data": {
      "text/html": [
       "573657"
      ],
      "text/latex": [
       "573657"
      ],
      "text/markdown": [
       "573657"
      ],
      "text/plain": [
       "[1] 573657"
      ]
     },
     "metadata": {},
     "output_type": "display_data"
    }
   ],
   "source": [
    "import.bed(\"../input/basti_design.bed\") %>% width %>% sum"
   ]
  },
  {
   "cell_type": "code",
   "execution_count": 56,
   "metadata": {},
   "outputs": [
    {
     "data": {
      "text/html": [
       "0.755531615582134"
      ],
      "text/latex": [
       "0.755531615582134"
      ],
      "text/markdown": [
       "0.755531615582134"
      ],
      "text/plain": [
       "[1] 0.7555316"
      ]
     },
     "metadata": {},
     "output_type": "display_data"
    }
   ],
   "source": [
    "433416 / 573657"
   ]
  },
  {
   "cell_type": "markdown",
   "metadata": {},
   "source": [
    "### Full Y chromosome capture set"
   ]
  },
  {
   "cell_type": "code",
   "execution_count": 41,
   "metadata": {},
   "outputs": [],
   "source": [
    "bed <- import.bed(here(\"data/coord/capture_full.bed\"))"
   ]
  },
  {
   "cell_type": "code",
   "execution_count": 42,
   "metadata": {},
   "outputs": [
    {
     "data": {
      "text/html": [
       "48998"
      ],
      "text/latex": [
       "48998"
      ],
      "text/markdown": [
       "48998"
      ],
      "text/plain": [
       "[1] 48998"
      ]
     },
     "metadata": {},
     "output_type": "display_data"
    }
   ],
   "source": [
    "length(bed)"
   ]
  },
  {
   "cell_type": "code",
   "execution_count": 43,
   "metadata": {},
   "outputs": [
    {
     "data": {
      "text/html": [
       "4602444"
      ],
      "text/latex": [
       "4602444"
      ],
      "text/markdown": [
       "4602444"
      ],
      "text/plain": [
       "[1] 4602444"
      ]
     },
     "metadata": {},
     "output_type": "display_data"
    }
   ],
   "source": [
    "width(bed) %>% sum"
   ]
  },
  {
   "cell_type": "code",
   "execution_count": 44,
   "metadata": {},
   "outputs": [
    {
     "data": {
      "text/html": [
       "6913053"
      ],
      "text/latex": [
       "6913053"
      ],
      "text/markdown": [
       "6913053"
      ],
      "text/plain": [
       "[1] 6913053"
      ]
     },
     "metadata": {},
     "output_type": "display_data"
    }
   ],
   "source": [
    "read_delim(\"../input/Y.filt35_50_SRepeat_100.bed\", delim = \" \",\n",
    "           col_names = c(\"chrom\", \"start\", \"end\", \"width\"), col_types = \"ciii\") %>%\n",
    "    makeGRangesFromDataFrame(starts.in.df.are.0based = TRUE) %>%\n",
    "    width %>% sum"
   ]
  },
  {
   "cell_type": "code",
   "execution_count": 45,
   "metadata": {},
   "outputs": [
    {
     "data": {
      "text/html": [
       "0.665761422630493"
      ],
      "text/latex": [
       "0.665761422630493"
      ],
      "text/markdown": [
       "0.665761422630493"
      ],
      "text/plain": [
       "[1] 0.6657614"
      ]
     },
     "metadata": {},
     "output_type": "display_data"
    }
   ],
   "source": [
    "4602444 / 6913053"
   ]
  },
  {
   "cell_type": "code",
   "execution_count": 14,
   "metadata": {},
   "outputs": [
    {
     "data": {
      "text/plain": [
       "   Min. 1st Qu.  Median    Mean 3rd Qu.    Max. \n",
       "   99.0   145.0   240.0   434.6   489.8  9425.0 "
      ]
     },
     "metadata": {},
     "output_type": "display_data"
    }
   ],
   "source": [
    "width(bed) %>% summary"
   ]
  }
 ],
 "metadata": {
  "kernelspec": {
   "display_name": "R",
   "language": "R",
   "name": "ir"
  },
  "language_info": {
   "codemirror_mode": "r",
   "file_extension": ".r",
   "mimetype": "text/x-r-source",
   "name": "R",
   "pygments_lexer": "r",
   "version": "3.6.0"
  }
 },
 "nbformat": 4,
 "nbformat_minor": 2
}
