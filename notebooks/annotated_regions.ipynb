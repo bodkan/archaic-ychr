{
 "cells": [
  {
   "cell_type": "markdown",
   "metadata": {},
   "source": [
    "# Download genome annotations for the Y chromosome"
   ]
  },
  {
   "cell_type": "markdown",
   "metadata": {},
   "source": [
    "Links:\n",
    "\n",
    "* info about different coordinate types: https://groups.google.com/forum/#!msg/biomart-users/OtQbAx3y9CA/wrF19ID1AgAJ\n",
    "* https://www.biostars.org/p/2005/\n",
    "* http://www.bioconductor.org/packages/release/bioc/vignettes/biomaRt/inst/doc/biomaRt.html\n",
    "* http://www.ensembl.org/info/data/biomart/biomart_r_package.html\n",
    "* http://www.ensembl.info/blog/2015/06/01/biomart-or-how-to-access-the-ensembl-data-from-r/\n",
    "* for checking with manually downloaded data: http://www.ensembl.org/info/data/biomart/how_to_use_biomart.html\n",
    "* biotypes FAQ: http://www.ensembl.org/Help/Glossary\n",
    "* http://www.ensembl.org/info/genome/funcgen/regulatory_build.html"
   ]
  },
  {
   "cell_type": "raw",
   "metadata": {},
   "source": [
    "source(\"http://bioconductor.org/biocLite.R\")\n",
    "biocLite(\"biomaRt\")\n",
    "biocLite(\"VariantAnnotation\")\n",
    "biocLite(\"GenomicRanges\")\n",
    "biocLite(\"rtracklayer\")\n",
    "biocLite(\"BSgenome.Hsapiens.UCSC.hg19\")\n",
    "biocLite(\"BSgenome.Hsapiens.UCSC.hg18\")"
   ]
  },
  {
   "cell_type": "markdown",
   "metadata": {},
   "source": [
    "Following [this](http://www.ensembl.org/info/data/biomart/biomart_r_package.html) tutorial, I want to extract coordinates of exonic and regulatory regions from the Ensembl database and then calculate the density of such regions in a defined window around each SNP.\n",
    "\n",
    "These densities will they be used as predictors in a linear model, predicting the Nea. ancestry at each site.\n",
    "\n",
    "Alternatively, I could just test if the distribution of densities for different regions differ based on frequency of Nea. alleles at each site."
   ]
  },
  {
   "cell_type": "markdown",
   "metadata": {},
   "source": [
    "# Fetch coordinates of different genomic regions"
   ]
  },
  {
   "cell_type": "code",
   "execution_count": 1,
   "metadata": {},
   "outputs": [],
   "source": [
    "suppressMessages(suppressWarnings({\n",
    "    library(biomaRt)\n",
    "    library(rtracklayer)\n",
    "    library(BSgenome.Hsapiens.UCSC.hg19)\n",
    "    library(tidyverse)\n",
    "    library(stringr)\n",
    "    library(magrittr)\n",
    "    library(here)\n",
    "}))"
   ]
  },
  {
   "cell_type": "markdown",
   "metadata": {},
   "source": [
    "Show all the available biomarts for hg19:"
   ]
  },
  {
   "cell_type": "code",
   "execution_count": 2,
   "metadata": {},
   "outputs": [
    {
     "data": {
      "text/html": [
       "<table>\n",
       "<caption>A data.frame: 3 × 2</caption>\n",
       "<thead>\n",
       "\t<tr><th scope=col>biomart</th><th scope=col>version</th></tr>\n",
       "\t<tr><th scope=col>&lt;chr&gt;</th><th scope=col>&lt;chr&gt;</th></tr>\n",
       "</thead>\n",
       "<tbody>\n",
       "\t<tr><td>ENSEMBL_MART_ENSEMBL</td><td>Ensembl Genes 97     </td></tr>\n",
       "\t<tr><td>ENSEMBL_MART_SNP    </td><td>Ensembl Variation 97 </td></tr>\n",
       "\t<tr><td>ENSEMBL_MART_FUNCGEN</td><td>Ensembl Regulation 97</td></tr>\n",
       "</tbody>\n",
       "</table>\n"
      ],
      "text/latex": [
       "A data.frame: 3 × 2\n",
       "\\begin{tabular}{r|ll}\n",
       " biomart & version\\\\\n",
       " <chr> & <chr>\\\\\n",
       "\\hline\n",
       "\t ENSEMBL\\_MART\\_ENSEMBL & Ensembl Genes 97     \\\\\n",
       "\t ENSEMBL\\_MART\\_SNP     & Ensembl Variation 97 \\\\\n",
       "\t ENSEMBL\\_MART\\_FUNCGEN & Ensembl Regulation 97\\\\\n",
       "\\end{tabular}\n"
      ],
      "text/markdown": [
       "\n",
       "A data.frame: 3 × 2\n",
       "\n",
       "| biomart &lt;chr&gt; | version &lt;chr&gt; |\n",
       "|---|---|\n",
       "| ENSEMBL_MART_ENSEMBL | Ensembl Genes 97      |\n",
       "| ENSEMBL_MART_SNP     | Ensembl Variation 97  |\n",
       "| ENSEMBL_MART_FUNCGEN | Ensembl Regulation 97 |\n",
       "\n"
      ],
      "text/plain": [
       "  biomart              version              \n",
       "1 ENSEMBL_MART_ENSEMBL Ensembl Genes 97     \n",
       "2 ENSEMBL_MART_SNP     Ensembl Variation 97 \n",
       "3 ENSEMBL_MART_FUNCGEN Ensembl Regulation 97"
      ]
     },
     "metadata": {},
     "output_type": "display_data"
    }
   ],
   "source": [
    "listMarts(host=\"grch37.ensembl.org\")"
   ]
  },
  {
   "cell_type": "markdown",
   "metadata": {},
   "source": [
    "Connect to the human gene Ensembl dataset:"
   ]
  },
  {
   "cell_type": "code",
   "execution_count": 3,
   "metadata": {},
   "outputs": [
    {
     "data": {
      "text/html": [
       "<table>\n",
       "<caption>A data.frame: 1 × 3</caption>\n",
       "<thead>\n",
       "\t<tr><th scope=col>dataset</th><th scope=col>description</th><th scope=col>version</th></tr>\n",
       "\t<tr><th scope=col>&lt;I&lt;chr&gt;&gt;</th><th scope=col>&lt;I&lt;chr&gt;&gt;</th><th scope=col>&lt;I&lt;chr&gt;&gt;</th></tr>\n",
       "</thead>\n",
       "<tbody>\n",
       "\t<tr><td>hsapiens_gene_ensembl</td><td>Human genes (GRCh37.p13)</td><td>GRCh37.p13</td></tr>\n",
       "</tbody>\n",
       "</table>\n"
      ],
      "text/latex": [
       "A data.frame: 1 × 3\n",
       "\\begin{tabular}{r|lll}\n",
       " dataset & description & version\\\\\n",
       " <I<chr>> & <I<chr>> & <I<chr>>\\\\\n",
       "\\hline\n",
       "\t hsapiens\\_gene\\_ensembl & Human genes (GRCh37.p13) & GRCh37.p13\\\\\n",
       "\\end{tabular}\n"
      ],
      "text/markdown": [
       "\n",
       "A data.frame: 1 × 3\n",
       "\n",
       "| dataset &lt;I&lt;chr&gt;&gt; | description &lt;I&lt;chr&gt;&gt; | version &lt;I&lt;chr&gt;&gt; |\n",
       "|---|---|---|\n",
       "| hsapiens_gene_ensembl | Human genes (GRCh37.p13) | GRCh37.p13 |\n",
       "\n"
      ],
      "text/plain": [
       "  dataset               description              version   \n",
       "1 hsapiens_gene_ensembl Human genes (GRCh37.p13) GRCh37.p13"
      ]
     },
     "metadata": {},
     "output_type": "display_data"
    }
   ],
   "source": [
    "ensembl_mart_genes <- useMart(\"ENSEMBL_MART_ENSEMBL\", host=\"grch37.ensembl.org\")\n",
    "listDatasets(ensembl_mart_genes) %>% filter(str_detect(dataset, \"sapiens\"))"
   ]
  },
  {
   "cell_type": "code",
   "execution_count": 4,
   "metadata": {},
   "outputs": [],
   "source": [
    "mart <- useDataset(dataset = \"hsapiens_gene_ensembl\", mart = ensembl_mart_genes)"
   ]
  },
  {
   "cell_type": "markdown",
   "metadata": {},
   "source": [
    "### What is the number of genes and pseudogenes on the chromosome Y"
   ]
  },
  {
   "cell_type": "code",
   "execution_count": 5,
   "metadata": {},
   "outputs": [
    {
     "data": {
      "text/html": [
       "<table>\n",
       "<caption>A tibble: 1 × 2</caption>\n",
       "<thead>\n",
       "\t<tr><th scope=col>chromosome_name</th><th scope=col>n</th></tr>\n",
       "\t<tr><th scope=col>&lt;chr&gt;</th><th scope=col>&lt;int&gt;</th></tr>\n",
       "</thead>\n",
       "<tbody>\n",
       "\t<tr><td>Y</td><td>54</td></tr>\n",
       "</tbody>\n",
       "</table>\n"
      ],
      "text/latex": [
       "A tibble: 1 × 2\n",
       "\\begin{tabular}{r|ll}\n",
       " chromosome\\_name & n\\\\\n",
       " <chr> & <int>\\\\\n",
       "\\hline\n",
       "\t Y & 54\\\\\n",
       "\\end{tabular}\n"
      ],
      "text/markdown": [
       "\n",
       "A tibble: 1 × 2\n",
       "\n",
       "| chromosome_name &lt;chr&gt; | n &lt;int&gt; |\n",
       "|---|---|\n",
       "| Y | 54 |\n",
       "\n"
      ],
      "text/plain": [
       "  chromosome_name n \n",
       "1 Y               54"
      ]
     },
     "metadata": {},
     "output_type": "display_data"
    }
   ],
   "source": [
    "getBM(c(\"chromosome_name\", \"ensembl_gene_id\"),\n",
    "      filters = c(\"chromosome_name\", \"biotype\"),\n",
    "      values = list(\"Y\", \"protein_coding\"),\n",
    "      mart = mart) %>%\n",
    "count(chromosome_name)"
   ]
  },
  {
   "cell_type": "markdown",
   "metadata": {},
   "source": [
    "### Protein coding gene coordinates on the Y"
   ]
  },
  {
   "cell_type": "code",
   "execution_count": 6,
   "metadata": {},
   "outputs": [],
   "source": [
    "genes <-\n",
    "    getBM(c(\"chromosome_name\", \"start_position\", \"end_position\"),\n",
    "    filters = c(\"chromosome_name\", \"biotype\"),\n",
    "    values = list(\"Y\", \"protein_coding\"),\n",
    "    mart = mart) %>%\n",
    "    filter(complete.cases(.)) %>%\n",
    "    select(chrom = chromosome_name, start = start_position, end = end_position) %>%\n",
    "    arrange(chrom, start) %>%\n",
    "    makeGRangesFromDataFrame %>%\n",
    "    IRanges::reduce()"
   ]
  },
  {
   "cell_type": "markdown",
   "metadata": {},
   "source": [
    "### Total size of CDS sequence on both chromosomes?"
   ]
  },
  {
   "cell_type": "code",
   "execution_count": 7,
   "metadata": {},
   "outputs": [
    {
     "data": {
      "text/html": [
       "<table>\n",
       "<caption>A tibble: 1 × 2</caption>\n",
       "<thead>\n",
       "\t<tr><th scope=col>seqnames</th><th scope=col>total</th></tr>\n",
       "\t<tr><th scope=col>&lt;fct&gt;</th><th scope=col>&lt;int&gt;</th></tr>\n",
       "</thead>\n",
       "<tbody>\n",
       "\t<tr><td>Y</td><td>2836755</td></tr>\n",
       "</tbody>\n",
       "</table>\n"
      ],
      "text/latex": [
       "A tibble: 1 × 2\n",
       "\\begin{tabular}{r|ll}\n",
       " seqnames & total\\\\\n",
       " <fct> & <int>\\\\\n",
       "\\hline\n",
       "\t Y & 2836755\\\\\n",
       "\\end{tabular}\n"
      ],
      "text/markdown": [
       "\n",
       "A tibble: 1 × 2\n",
       "\n",
       "| seqnames &lt;fct&gt; | total &lt;int&gt; |\n",
       "|---|---|\n",
       "| Y | 2836755 |\n",
       "\n"
      ],
      "text/plain": [
       "  seqnames total  \n",
       "1 Y        2836755"
      ]
     },
     "metadata": {},
     "output_type": "display_data"
    }
   ],
   "source": [
    "genes %>% as.data.frame %>% group_by(seqnames) %>% summarise(total = sum(width))"
   ]
  },
  {
   "cell_type": "markdown",
   "metadata": {},
   "source": [
    "## Coordinates of primate phastCons elements"
   ]
  },
  {
   "cell_type": "markdown",
   "metadata": {},
   "source": [
    "How to retrieve them: https://support.bioconductor.org/p/25587/\n",
    "\n",
    "Per-base vs elements diference: https://www.biostars.org/p/2129/#2143"
   ]
  },
  {
   "cell_type": "markdown",
   "metadata": {},
   "source": [
    "[From](http://rohsdb.cmb.usc.edu/GBshape/cgi-bin/hgTables?db=hg19&hgta_group=compGeno&hgta_track=cons46way&hgta_table=phastConsElements46wayPrimates&hgta_doSchema=describe+table+schema):\n",
    "\n",
    "_PhastCons (which has been used in previous Conservation tracks) is a hidden Markov model-based method that estimates the probability that each nucleotide belongs to a conserved element, based on the multiple alignment. It considers not just each individual alignment column, but also its flanking columns. By contrast, phyloP separately measures conservation at individual columns, ignoring the effects of their neighbors. As a consequence, the phyloP plots have a less smooth appearance than the phastCons plots, with more \"texture\" at individual sites. The two methods have different strengths and weaknesses. **PhastCons is sensitive to \"runs\" of conserved sites, and is therefore effective for picking out conserved elements.** PhyloP, on the other hand, is more appropriate for evaluating signatures of selection at particular nucleotides or classes of nucleotides (e.g., third codon positions, or first positions of miRNA target sites)._\n",
    "\n",
    "_Another important difference is that phyloP can measure acceleration (faster evolution than expected under neutral drift) as well as conservation (slower than expected evolution). In the phyloP plots, sites predicted to be conserved are assigned positive scores (and shown in blue), while sites predicted to be fast-evolving are assigned negative scores (and shown in red). The absolute values of the scores represent -log p-values under a null hypothesis of neutral evolution. The **phastCons scores, by contrast, represent probabilities of negative selection and range between 0 and 1.**_\n",
    "\n",
    "[...]\n",
    "\n",
    "#### Conserved Elements\n",
    "\n",
    "_The conserved elements were predicted by running phastCons with the --viterbi option. **The predicted elements are segments of the alignment that are likely to have been \"generated\" by the conserved state of the phylo-HMM.** Each element is assigned a log-odds score equal to its log probability under the conserved model minus its log probability under the non-conserved model. The \"score\" field associated with this track contains transformed log-odds scores, taking values between 0 and 1000. (The scores are transformed using a monotonic function of the form a * log(x) + b.) The raw log odds scores are retained in the \"name\" field and can be seen on the details page or in the browser when the track's display mode is set to \"pack\" or \"full\"._\n"
   ]
  },
  {
   "cell_type": "code",
   "execution_count": 8,
   "metadata": {},
   "outputs": [],
   "source": [
    "library(rtracklayer)"
   ]
  },
  {
   "cell_type": "code",
   "execution_count": 9,
   "metadata": {},
   "outputs": [],
   "source": [
    "session <- browserSession()\n",
    "genome(session) <- \"hg19\""
   ]
  },
  {
   "cell_type": "raw",
   "metadata": {},
   "source": [
    "# trackNames(session) # show the available track names -- look for conservation track"
   ]
  },
  {
   "cell_type": "code",
   "execution_count": 10,
   "metadata": {},
   "outputs": [],
   "source": [
    "query <- ucscTableQuery(session, \"cons46way\", GRangesForUCSCGenome(\"hg19\", chrom = c(\"chr21\", \"chrY\")))"
   ]
  },
  {
   "cell_type": "code",
   "execution_count": 11,
   "metadata": {},
   "outputs": [
    {
     "data": {
      "text/html": [
       "<ol class=list-inline>\n",
       "\t<li>'phyloP46wayPrimates'</li>\n",
       "\t<li>'phyloP46wayPlacental'</li>\n",
       "\t<li>'phyloP46wayAll'</li>\n",
       "\t<li>'phastCons46wayPrimates'</li>\n",
       "\t<li>'phastCons46wayPlacental'</li>\n",
       "\t<li>'phastCons46way'</li>\n",
       "\t<li>'phastConsElements46wayPrimates'</li>\n",
       "\t<li>'phastConsElements46wayPlacental'</li>\n",
       "\t<li>'phastConsElements46way'</li>\n",
       "\t<li>'multiz46way'</li>\n",
       "</ol>\n"
      ],
      "text/latex": [
       "\\begin{enumerate*}\n",
       "\\item 'phyloP46wayPrimates'\n",
       "\\item 'phyloP46wayPlacental'\n",
       "\\item 'phyloP46wayAll'\n",
       "\\item 'phastCons46wayPrimates'\n",
       "\\item 'phastCons46wayPlacental'\n",
       "\\item 'phastCons46way'\n",
       "\\item 'phastConsElements46wayPrimates'\n",
       "\\item 'phastConsElements46wayPlacental'\n",
       "\\item 'phastConsElements46way'\n",
       "\\item 'multiz46way'\n",
       "\\end{enumerate*}\n"
      ],
      "text/markdown": [
       "1. 'phyloP46wayPrimates'\n",
       "2. 'phyloP46wayPlacental'\n",
       "3. 'phyloP46wayAll'\n",
       "4. 'phastCons46wayPrimates'\n",
       "5. 'phastCons46wayPlacental'\n",
       "6. 'phastCons46way'\n",
       "7. 'phastConsElements46wayPrimates'\n",
       "8. 'phastConsElements46wayPlacental'\n",
       "9. 'phastConsElements46way'\n",
       "10. 'multiz46way'\n",
       "\n",
       "\n"
      ],
      "text/plain": [
       " [1] \"phyloP46wayPrimates\"             \"phyloP46wayPlacental\"           \n",
       " [3] \"phyloP46wayAll\"                  \"phastCons46wayPrimates\"         \n",
       " [5] \"phastCons46wayPlacental\"         \"phastCons46way\"                 \n",
       " [7] \"phastConsElements46wayPrimates\"  \"phastConsElements46wayPlacental\"\n",
       " [9] \"phastConsElements46way\"          \"multiz46way\"                    "
      ]
     },
     "metadata": {},
     "output_type": "display_data"
    }
   ],
   "source": [
    "tableNames(query)"
   ]
  },
  {
   "cell_type": "code",
   "execution_count": 12,
   "metadata": {},
   "outputs": [],
   "source": [
    "tableName(query) <- \"phastConsElements46way\""
   ]
  },
  {
   "cell_type": "code",
   "execution_count": 13,
   "metadata": {},
   "outputs": [],
   "source": [
    "phastcons <-\n",
    "    getTable(query) %>%\n",
    "    select(-bin, -name, -score) %>%\n",
    "    makeGRangesFromDataFrame(starts.in.df.are.0based = TRUE) %>%\n",
    "    .[seqnames(.) == \"chrY\"]\n",
    "seqlevels(phastcons) <- \"chrY\""
   ]
  },
  {
   "cell_type": "markdown",
   "metadata": {},
   "source": [
    "### Total size of phastCons sequence on both chromosomes?"
   ]
  },
  {
   "cell_type": "code",
   "execution_count": 14,
   "metadata": {},
   "outputs": [
    {
     "data": {
      "text/html": [
       "<table>\n",
       "<caption>A tibble: 1 × 2</caption>\n",
       "<thead>\n",
       "\t<tr><th scope=col>seqnames</th><th scope=col>total</th></tr>\n",
       "\t<tr><th scope=col>&lt;fct&gt;</th><th scope=col>&lt;int&gt;</th></tr>\n",
       "</thead>\n",
       "<tbody>\n",
       "\t<tr><td>chrY</td><td>1212827</td></tr>\n",
       "</tbody>\n",
       "</table>\n"
      ],
      "text/latex": [
       "A tibble: 1 × 2\n",
       "\\begin{tabular}{r|ll}\n",
       " seqnames & total\\\\\n",
       " <fct> & <int>\\\\\n",
       "\\hline\n",
       "\t chrY & 1212827\\\\\n",
       "\\end{tabular}\n"
      ],
      "text/markdown": [
       "\n",
       "A tibble: 1 × 2\n",
       "\n",
       "| seqnames &lt;fct&gt; | total &lt;int&gt; |\n",
       "|---|---|\n",
       "| chrY | 1212827 |\n",
       "\n"
      ],
      "text/plain": [
       "  seqnames total  \n",
       "1 chrY     1212827"
      ]
     },
     "metadata": {},
     "output_type": "display_data"
    }
   ],
   "source": [
    "phastcons %>% as.data.frame %>% group_by(seqnames) %>% summarise(total = sum(width))"
   ]
  }
 ],
 "metadata": {
  "kernelspec": {
   "display_name": "R",
   "language": "R",
   "name": "ir"
  },
  "language_info": {
   "codemirror_mode": "r",
   "file_extension": ".r",
   "mimetype": "text/x-r-source",
   "name": "R",
   "pygments_lexer": "r",
   "version": "3.5.3"
  }
 },
 "nbformat": 4,
 "nbformat_minor": 2
}
