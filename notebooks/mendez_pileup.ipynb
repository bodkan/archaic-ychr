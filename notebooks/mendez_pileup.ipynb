{
 "cells": [
  {
   "cell_type": "markdown",
   "metadata": {},
   "source": [
    "There is a surprising difference between the TMRCA estimates by Mendez et al. and my numbers, on the same exome capture data.\n",
    "\n",
    "I suspect the difference is due to different filters. I'm, for instance, requiring >= 3X coverage for all data, including the exome capture (which is 3.3X). What about Mendez? Their paper does not mention explicitly any lower cutoff for coverage.\n",
    "\n",
    "Mendez published his mpileup output. Let's compare this data to the exome genotype calls that I made myself."
   ]
  },
  {
   "cell_type": "code",
   "execution_count": 1,
   "metadata": {},
   "outputs": [
    {
     "name": "stderr",
     "output_type": "stream",
     "text": [
      "── \u001b[1mAttaching packages\u001b[22m ─────────────────────────────────────── tidyverse 1.2.1 ──\n",
      "\u001b[32m✔\u001b[39m \u001b[34mggplot2\u001b[39m 3.1.1     \u001b[32m✔\u001b[39m \u001b[34mpurrr  \u001b[39m 0.3.0\n",
      "\u001b[32m✔\u001b[39m \u001b[34mtibble \u001b[39m 2.1.1     \u001b[32m✔\u001b[39m \u001b[34mdplyr  \u001b[39m 0.7.8\n",
      "\u001b[32m✔\u001b[39m \u001b[34mtidyr  \u001b[39m 0.8.2     \u001b[32m✔\u001b[39m \u001b[34mstringr\u001b[39m 1.4.0\n",
      "\u001b[32m✔\u001b[39m \u001b[34mreadr  \u001b[39m 1.3.1     \u001b[32m✔\u001b[39m \u001b[34mforcats\u001b[39m 0.3.0\n",
      "── \u001b[1mConflicts\u001b[22m ────────────────────────────────────────── tidyverse_conflicts() ──\n",
      "\u001b[31m✖\u001b[39m \u001b[34mdplyr\u001b[39m::\u001b[32mfilter()\u001b[39m masks \u001b[34mstats\u001b[39m::filter()\n",
      "\u001b[31m✖\u001b[39m \u001b[34mdplyr\u001b[39m::\u001b[32mlag()\u001b[39m    masks \u001b[34mstats\u001b[39m::lag()\n",
      "here() starts at /mnt/expressions/mp/ychr\n",
      "Loading ychr\n",
      "Warning message:\n",
      "“no function found corresponding to methods exports from ‘GenomicRanges’ for: ‘concatenateObjects’”"
     ]
    }
   ],
   "source": [
    "library(tidyverse)\n",
    "library(here)\n",
    "\n",
    "devtools::load_all(\".\")"
   ]
  },
  {
   "cell_type": "code",
   "execution_count": 2,
   "metadata": {
    "scrolled": false
   },
   "outputs": [
    {
     "name": "stderr",
     "output_type": "stream",
     "text": [
      "Parsed with column specification:\n",
      "cols(\n",
      "  chrom = \u001b[31mcol_character()\u001b[39m,\n",
      "  pos = \u001b[32mcol_double()\u001b[39m,\n",
      "  ref = \u001b[31mcol_character()\u001b[39m,\n",
      "  coverage = \u001b[32mcol_double()\u001b[39m,\n",
      "  pileup = \u001b[31mcol_character()\u001b[39m,\n",
      "  qual = \u001b[31mcol_character()\u001b[39m\n",
      ")\n"
     ]
    }
   ],
   "source": [
    "mendez <- read_tsv(here(\"input/mendez_counts.txt\"),\n",
    "                   col_names = c(\"chrom\", \"pos\", \"ref\", \"coverage\", \"pileup\", \"qual\")) %>%\n",
    "    mutate(ref = toupper(ref)) %>%\n",
    "    select(-qual) %>%\n",
    "    mutate(pileup = count_bases(pileup, ref)) %>% \n",
    "    unnest"
   ]
  },
  {
   "cell_type": "code",
   "execution_count": 3,
   "metadata": {},
   "outputs": [
    {
     "data": {
      "text/html": [
       "146"
      ],
      "text/latex": [
       "146"
      ],
      "text/markdown": [
       "146"
      ],
      "text/plain": [
       "[1] 146"
      ]
     },
     "metadata": {},
     "output_type": "display_data"
    }
   ],
   "source": [
    "nrow(mendez)"
   ]
  },
  {
   "cell_type": "code",
   "execution_count": 4,
   "metadata": {},
   "outputs": [
    {
     "data": {
      "text/html": [
       "<table>\n",
       "<thead><tr><th scope=col>chrom</th><th scope=col>pos</th><th scope=col>ref</th><th scope=col>coverage</th><th scope=col>a</th><th scope=col>c</th><th scope=col>g</th><th scope=col>t</th></tr></thead>\n",
       "<tbody>\n",
       "\t<tr><td>Y      </td><td>2710154</td><td>G      </td><td>1      </td><td>0      </td><td>0      </td><td>1      </td><td>0      </td></tr>\n",
       "\t<tr><td>Y      </td><td>2712091</td><td>T      </td><td>6      </td><td>6      </td><td>0      </td><td>0      </td><td>0      </td></tr>\n",
       "\t<tr><td>Y      </td><td>2722524</td><td>A      </td><td>1      </td><td>0      </td><td>0      </td><td>1      </td><td>0      </td></tr>\n",
       "\t<tr><td>Y      </td><td>2751547</td><td>C      </td><td>1      </td><td>0      </td><td>0      </td><td>0      </td><td>1      </td></tr>\n",
       "\t<tr><td>Y      </td><td>2844774</td><td>T      </td><td>1      </td><td>0      </td><td>1      </td><td>0      </td><td>0      </td></tr>\n",
       "\t<tr><td>Y      </td><td>2847322</td><td>T      </td><td>9      </td><td>0      </td><td>0      </td><td>0      </td><td>9      </td></tr>\n",
       "</tbody>\n",
       "</table>\n"
      ],
      "text/latex": [
       "\\begin{tabular}{r|llllllll}\n",
       " chrom & pos & ref & coverage & a & c & g & t\\\\\n",
       "\\hline\n",
       "\t Y       & 2710154 & G       & 1       & 0       & 0       & 1       & 0      \\\\\n",
       "\t Y       & 2712091 & T       & 6       & 6       & 0       & 0       & 0      \\\\\n",
       "\t Y       & 2722524 & A       & 1       & 0       & 0       & 1       & 0      \\\\\n",
       "\t Y       & 2751547 & C       & 1       & 0       & 0       & 0       & 1      \\\\\n",
       "\t Y       & 2844774 & T       & 1       & 0       & 1       & 0       & 0      \\\\\n",
       "\t Y       & 2847322 & T       & 9       & 0       & 0       & 0       & 9      \\\\\n",
       "\\end{tabular}\n"
      ],
      "text/markdown": [
       "\n",
       "| chrom | pos | ref | coverage | a | c | g | t |\n",
       "|---|---|---|---|---|---|---|---|\n",
       "| Y       | 2710154 | G       | 1       | 0       | 0       | 1       | 0       |\n",
       "| Y       | 2712091 | T       | 6       | 6       | 0       | 0       | 0       |\n",
       "| Y       | 2722524 | A       | 1       | 0       | 0       | 1       | 0       |\n",
       "| Y       | 2751547 | C       | 1       | 0       | 0       | 0       | 1       |\n",
       "| Y       | 2844774 | T       | 1       | 0       | 1       | 0       | 0       |\n",
       "| Y       | 2847322 | T       | 9       | 0       | 0       | 0       | 9       |\n",
       "\n"
      ],
      "text/plain": [
       "  chrom pos     ref coverage a c g t\n",
       "1 Y     2710154 G   1        0 0 1 0\n",
       "2 Y     2712091 T   6        6 0 0 0\n",
       "3 Y     2722524 A   1        0 0 1 0\n",
       "4 Y     2751547 C   1        0 0 0 1\n",
       "5 Y     2844774 T   1        0 1 0 0\n",
       "6 Y     2847322 T   9        0 0 0 9"
      ]
     },
     "metadata": {},
     "output_type": "display_data"
    }
   ],
   "source": [
    "mendez %>% head"
   ]
  },
  {
   "cell_type": "code",
   "execution_count": 5,
   "metadata": {},
   "outputs": [],
   "source": [
    "neand <- read_vcf(here(\"data/vcf/exome_elsidron1.vcf.gz\"), mindp = 3, maxdp = 0.975) %>%\n",
    "    select(chrom, pos, REF, ALT, elsidron1)"
   ]
  },
  {
   "cell_type": "code",
   "execution_count": 6,
   "metadata": {},
   "outputs": [
    {
     "name": "stderr",
     "output_type": "stream",
     "text": [
      "Joining, by = c(\"chrom\", \"pos\")\n"
     ]
    }
   ],
   "source": [
    "df <- full_join(neand, mendez)"
   ]
  },
  {
   "cell_type": "code",
   "execution_count": 7,
   "metadata": {},
   "outputs": [
    {
     "data": {
      "text/html": [
       "<table>\n",
       "<thead><tr><th scope=col>chrom</th><th scope=col>pos</th><th scope=col>REF</th><th scope=col>ALT</th><th scope=col>elsidron1</th><th scope=col>ref</th><th scope=col>coverage</th><th scope=col>a</th><th scope=col>c</th><th scope=col>g</th><th scope=col>t</th></tr></thead>\n",
       "<tbody>\n",
       "\t<tr><td>Y       </td><td> 2710154</td><td>NA      </td><td>NA      </td><td>NA      </td><td>G       </td><td>1       </td><td>0       </td><td>0       </td><td>1       </td><td>0       </td></tr>\n",
       "\t<tr><td>Y       </td><td> 2722524</td><td>NA      </td><td>NA      </td><td>NA      </td><td>A       </td><td>1       </td><td>0       </td><td>0       </td><td>1       </td><td>0       </td></tr>\n",
       "\t<tr><td>Y       </td><td> 2751547</td><td>NA      </td><td>NA      </td><td>NA      </td><td>C       </td><td>1       </td><td>0       </td><td>0       </td><td>0       </td><td>1       </td></tr>\n",
       "\t<tr><td>Y       </td><td> 2844774</td><td>NA      </td><td>NA      </td><td>NA      </td><td>T       </td><td>1       </td><td>0       </td><td>1       </td><td>0       </td><td>0       </td></tr>\n",
       "\t<tr><td>Y       </td><td> 4967724</td><td>NA      </td><td>NA      </td><td>NA      </td><td>A       </td><td>1       </td><td>0       </td><td>1       </td><td>0       </td><td>0       </td></tr>\n",
       "\t<tr><td>Y       </td><td> 5092904</td><td>NA      </td><td>NA      </td><td>NA      </td><td>T       </td><td>1       </td><td>0       </td><td>1       </td><td>0       </td><td>0       </td></tr>\n",
       "\t<tr><td>Y       </td><td> 5605569</td><td>NA      </td><td>NA      </td><td>NA      </td><td>C       </td><td>1       </td><td>0       </td><td>0       </td><td>1       </td><td>0       </td></tr>\n",
       "\t<tr><td>Y       </td><td> 6024539</td><td>NA      </td><td>NA      </td><td>NA      </td><td>T       </td><td>1       </td><td>0       </td><td>1       </td><td>0       </td><td>0       </td></tr>\n",
       "\t<tr><td>Y       </td><td> 7590048</td><td>NA      </td><td>NA      </td><td>NA      </td><td>T       </td><td>1       </td><td>0       </td><td>1       </td><td>0       </td><td>0       </td></tr>\n",
       "\t<tr><td>Y       </td><td> 9004284</td><td>NA      </td><td>NA      </td><td>NA      </td><td>A       </td><td>1       </td><td>0       </td><td>0       </td><td>1       </td><td>0       </td></tr>\n",
       "\t<tr><td>Y       </td><td> 9005137</td><td>NA      </td><td>NA      </td><td>NA      </td><td>T       </td><td>1       </td><td>0       </td><td>0       </td><td>0       </td><td>1       </td></tr>\n",
       "\t<tr><td>Y       </td><td> 9149780</td><td>NA      </td><td>NA      </td><td>NA      </td><td>C       </td><td>1       </td><td>0       </td><td>0       </td><td>0       </td><td>1       </td></tr>\n",
       "\t<tr><td>Y       </td><td> 9868226</td><td>NA      </td><td>NA      </td><td>NA      </td><td>G       </td><td>1       </td><td>1       </td><td>0       </td><td>0       </td><td>0       </td></tr>\n",
       "\t<tr><td>Y       </td><td> 9967962</td><td>NA      </td><td>NA      </td><td>NA      </td><td>G       </td><td>1       </td><td>1       </td><td>0       </td><td>0       </td><td>0       </td></tr>\n",
       "\t<tr><td>Y       </td><td> 9967978</td><td>NA      </td><td>NA      </td><td>NA      </td><td>C       </td><td>1       </td><td>0       </td><td>0       </td><td>0       </td><td>1       </td></tr>\n",
       "\t<tr><td>Y       </td><td> 9967979</td><td>NA      </td><td>NA      </td><td>NA      </td><td>C       </td><td>1       </td><td>0       </td><td>0       </td><td>1       </td><td>0       </td></tr>\n",
       "\t<tr><td>Y       </td><td>10010219</td><td>NA      </td><td>NA      </td><td>NA      </td><td>T       </td><td>1       </td><td>0       </td><td>1       </td><td>0       </td><td>0       </td></tr>\n",
       "\t<tr><td>Y       </td><td>10010289</td><td>NA      </td><td>NA      </td><td>NA      </td><td>A       </td><td>1       </td><td>0       </td><td>0       </td><td>1       </td><td>0       </td></tr>\n",
       "\t<tr><td>Y       </td><td>10029514</td><td>NA      </td><td>NA      </td><td>NA      </td><td>C       </td><td>1       </td><td>0       </td><td>0       </td><td>0       </td><td>1       </td></tr>\n",
       "\t<tr><td>Y       </td><td>10033862</td><td>NA      </td><td>NA      </td><td>NA      </td><td>A       </td><td>1       </td><td>0       </td><td>0       </td><td>1       </td><td>0       </td></tr>\n",
       "\t<tr><td>Y       </td><td>10033962</td><td>NA      </td><td>NA      </td><td>NA      </td><td>T       </td><td>1       </td><td>1       </td><td>0       </td><td>0       </td><td>0       </td></tr>\n",
       "\t<tr><td>Y       </td><td>13309457</td><td>NA      </td><td>NA      </td><td>NA      </td><td>G       </td><td>1       </td><td>1       </td><td>0       </td><td>0       </td><td>0       </td></tr>\n",
       "\t<tr><td>Y       </td><td>13310748</td><td>NA      </td><td>NA      </td><td>NA      </td><td>G       </td><td>1       </td><td>0       </td><td>0       </td><td>0       </td><td>1       </td></tr>\n",
       "\t<tr><td>Y       </td><td>13311618</td><td>NA      </td><td>NA      </td><td>NA      </td><td>C       </td><td>1       </td><td>0       </td><td>0       </td><td>0       </td><td>1       </td></tr>\n",
       "\t<tr><td>Y       </td><td>13312219</td><td>NA      </td><td>NA      </td><td>NA      </td><td>C       </td><td>1       </td><td>0       </td><td>0       </td><td>0       </td><td>1       </td></tr>\n",
       "\t<tr><td>Y       </td><td>13458931</td><td>NA      </td><td>NA      </td><td>NA      </td><td>C       </td><td>1       </td><td>0       </td><td>0       </td><td>0       </td><td>1       </td></tr>\n",
       "\t<tr><td>Y       </td><td>13458964</td><td>NA      </td><td>NA      </td><td>NA      </td><td>T       </td><td>1       </td><td>1       </td><td>0       </td><td>0       </td><td>0       </td></tr>\n",
       "\t<tr><td>Y       </td><td>13459171</td><td>NA      </td><td>NA      </td><td>NA      </td><td>C       </td><td>1       </td><td>0       </td><td>0       </td><td>1       </td><td>0       </td></tr>\n",
       "\t<tr><td>Y       </td><td>13463231</td><td>NA      </td><td>NA      </td><td>NA      </td><td>A       </td><td>1       </td><td>0       </td><td>0       </td><td>1       </td><td>0       </td></tr>\n",
       "\t<tr><td>Y       </td><td>13471218</td><td>NA      </td><td>NA      </td><td>NA      </td><td>A       </td><td>1       </td><td>0       </td><td>0       </td><td>1       </td><td>0       </td></tr>\n",
       "\t<tr><td>⋮</td><td>⋮</td><td>⋮</td><td>⋮</td><td>⋮</td><td>⋮</td><td>⋮</td><td>⋮</td><td>⋮</td><td>⋮</td><td>⋮</td></tr>\n",
       "\t<tr><td>Y       </td><td>23545399</td><td>G       </td><td>        </td><td> 0      </td><td>G       </td><td> 4      </td><td> 0      </td><td>0       </td><td> 4      </td><td> 0      </td></tr>\n",
       "\t<tr><td>Y       </td><td>28654384</td><td>T       </td><td>A       </td><td> 1      </td><td>T       </td><td> 4      </td><td> 4      </td><td>0       </td><td> 0      </td><td> 0      </td></tr>\n",
       "\t<tr><td>Y       </td><td>28773188</td><td>A       </td><td>G       </td><td> 1      </td><td>A       </td><td> 4      </td><td> 0      </td><td>0       </td><td> 4      </td><td> 0      </td></tr>\n",
       "\t<tr><td>Y       </td><td>13463576</td><td>NA      </td><td>NA      </td><td>NA      </td><td>G       </td><td> 4      </td><td> 3      </td><td>0       </td><td> 1      </td><td> 0      </td></tr>\n",
       "\t<tr><td>Y       </td><td>14089063</td><td>NA      </td><td>NA      </td><td>NA      </td><td>C       </td><td> 4      </td><td> 4      </td><td>0       </td><td> 0      </td><td> 0      </td></tr>\n",
       "\t<tr><td>Y       </td><td>14107836</td><td>NA      </td><td>NA      </td><td>NA      </td><td>A       </td><td> 4      </td><td> 0      </td><td>0       </td><td> 4      </td><td> 0      </td></tr>\n",
       "\t<tr><td>Y       </td><td> 6932032</td><td>G       </td><td>C       </td><td> 1      </td><td>G       </td><td> 5      </td><td> 0      </td><td>5       </td><td> 0      </td><td> 0      </td></tr>\n",
       "\t<tr><td>Y       </td><td>14089676</td><td>C       </td><td>T       </td><td> 1      </td><td>C       </td><td> 5      </td><td> 0      </td><td>0       </td><td> 0      </td><td> 5      </td></tr>\n",
       "\t<tr><td>Y       </td><td>23005081</td><td>T       </td><td>G       </td><td> 1      </td><td>T       </td><td> 5      </td><td> 0      </td><td>0       </td><td> 5      </td><td> 0      </td></tr>\n",
       "\t<tr><td>Y       </td><td>23557806</td><td>A       </td><td>C       </td><td> 1      </td><td>A       </td><td> 5      </td><td> 0      </td><td>5       </td><td> 0      </td><td> 0      </td></tr>\n",
       "\t<tr><td>Y       </td><td> 2712091</td><td>T       </td><td>A       </td><td> 1      </td><td>T       </td><td> 6      </td><td> 6      </td><td>0       </td><td> 0      </td><td> 0      </td></tr>\n",
       "\t<tr><td>Y       </td><td> 9150283</td><td>A       </td><td>G       </td><td> 1      </td><td>A       </td><td> 6      </td><td> 0      </td><td>0       </td><td> 6      </td><td> 0      </td></tr>\n",
       "\t<tr><td>Y       </td><td> 9905318</td><td>C       </td><td>        </td><td> 0      </td><td>C       </td><td> 6      </td><td> 0      </td><td>6       </td><td> 0      </td><td> 0      </td></tr>\n",
       "\t<tr><td>Y       </td><td>15028570</td><td>T       </td><td>C       </td><td> 1      </td><td>T       </td><td> 6      </td><td> 0      </td><td>6       </td><td> 0      </td><td> 0      </td></tr>\n",
       "\t<tr><td>Y       </td><td>21749329</td><td>A       </td><td>G       </td><td> 1      </td><td>A       </td><td> 6      </td><td> 0      </td><td>0       </td><td> 6      </td><td> 0      </td></tr>\n",
       "\t<tr><td>Y       </td><td>21869315</td><td>C       </td><td>        </td><td> 0      </td><td>C       </td><td> 6      </td><td> 0      </td><td>6       </td><td> 0      </td><td> 0      </td></tr>\n",
       "\t<tr><td>Y       </td><td>21894527</td><td>T       </td><td>C       </td><td> 1      </td><td>T       </td><td> 6      </td><td> 0      </td><td>6       </td><td> 0      </td><td> 0      </td></tr>\n",
       "\t<tr><td>Y       </td><td>21905071</td><td>C       </td><td>T       </td><td> 1      </td><td>C       </td><td> 6      </td><td> 0      </td><td>0       </td><td> 0      </td><td> 6      </td></tr>\n",
       "\t<tr><td>Y       </td><td>23631629</td><td>A       </td><td>C       </td><td> 1      </td><td>A       </td><td> 6      </td><td> 0      </td><td>6       </td><td> 0      </td><td> 0      </td></tr>\n",
       "\t<tr><td>Y       </td><td>23563407</td><td>NA      </td><td>NA      </td><td>NA      </td><td>T       </td><td> 6      </td><td> 0      </td><td>5       </td><td> 0      </td><td> 1      </td></tr>\n",
       "\t<tr><td>Y       </td><td> 9386252</td><td>A       </td><td>        </td><td> 0      </td><td>A       </td><td> 7      </td><td> 7      </td><td>0       </td><td> 0      </td><td> 0      </td></tr>\n",
       "\t<tr><td>Y       </td><td> 9386255</td><td>T       </td><td>        </td><td> 0      </td><td>T       </td><td> 7      </td><td> 0      </td><td>0       </td><td> 0      </td><td> 7      </td></tr>\n",
       "\t<tr><td>Y       </td><td>16953007</td><td>A       </td><td>G       </td><td> 1      </td><td>A       </td><td> 7      </td><td> 0      </td><td>0       </td><td> 7      </td><td> 0      </td></tr>\n",
       "\t<tr><td>Y       </td><td> 2847322</td><td>T       </td><td>        </td><td> 0      </td><td>T       </td><td> 9      </td><td> 0      </td><td>0       </td><td> 0      </td><td> 9      </td></tr>\n",
       "\t<tr><td>Y       </td><td>14043535</td><td>C       </td><td>A       </td><td> 1      </td><td>C       </td><td> 9      </td><td> 9      </td><td>0       </td><td> 0      </td><td> 0      </td></tr>\n",
       "\t<tr><td>Y       </td><td>14374858</td><td>A       </td><td>G       </td><td> 1      </td><td>A       </td><td> 9      </td><td> 0      </td><td>0       </td><td> 9      </td><td> 0      </td></tr>\n",
       "\t<tr><td>Y       </td><td>21868167</td><td>C       </td><td>T       </td><td> 1      </td><td>C       </td><td> 9      </td><td> 0      </td><td>0       </td><td> 0      </td><td> 9      </td></tr>\n",
       "\t<tr><td>Y       </td><td> 6736327</td><td>T       </td><td>        </td><td> 0      </td><td>T       </td><td>10      </td><td> 0      </td><td>0       </td><td> 0      </td><td>10      </td></tr>\n",
       "\t<tr><td>Y       </td><td> 9386241</td><td>A       </td><td>        </td><td> 0      </td><td>A       </td><td>10      </td><td>10      </td><td>0       </td><td> 0      </td><td> 0      </td></tr>\n",
       "\t<tr><td>Y       </td><td>21883138</td><td>G       </td><td>        </td><td> 0      </td><td>G       </td><td>11      </td><td> 0      </td><td>0       </td><td>11      </td><td> 0      </td></tr>\n",
       "</tbody>\n",
       "</table>\n"
      ],
      "text/latex": [
       "\\begin{tabular}{r|lllllllllll}\n",
       " chrom & pos & REF & ALT & elsidron1 & ref & coverage & a & c & g & t\\\\\n",
       "\\hline\n",
       "\t Y        &  2710154 & NA       & NA       & NA       & G        & 1        & 0        & 0        & 1        & 0       \\\\\n",
       "\t Y        &  2722524 & NA       & NA       & NA       & A        & 1        & 0        & 0        & 1        & 0       \\\\\n",
       "\t Y        &  2751547 & NA       & NA       & NA       & C        & 1        & 0        & 0        & 0        & 1       \\\\\n",
       "\t Y        &  2844774 & NA       & NA       & NA       & T        & 1        & 0        & 1        & 0        & 0       \\\\\n",
       "\t Y        &  4967724 & NA       & NA       & NA       & A        & 1        & 0        & 1        & 0        & 0       \\\\\n",
       "\t Y        &  5092904 & NA       & NA       & NA       & T        & 1        & 0        & 1        & 0        & 0       \\\\\n",
       "\t Y        &  5605569 & NA       & NA       & NA       & C        & 1        & 0        & 0        & 1        & 0       \\\\\n",
       "\t Y        &  6024539 & NA       & NA       & NA       & T        & 1        & 0        & 1        & 0        & 0       \\\\\n",
       "\t Y        &  7590048 & NA       & NA       & NA       & T        & 1        & 0        & 1        & 0        & 0       \\\\\n",
       "\t Y        &  9004284 & NA       & NA       & NA       & A        & 1        & 0        & 0        & 1        & 0       \\\\\n",
       "\t Y        &  9005137 & NA       & NA       & NA       & T        & 1        & 0        & 0        & 0        & 1       \\\\\n",
       "\t Y        &  9149780 & NA       & NA       & NA       & C        & 1        & 0        & 0        & 0        & 1       \\\\\n",
       "\t Y        &  9868226 & NA       & NA       & NA       & G        & 1        & 1        & 0        & 0        & 0       \\\\\n",
       "\t Y        &  9967962 & NA       & NA       & NA       & G        & 1        & 1        & 0        & 0        & 0       \\\\\n",
       "\t Y        &  9967978 & NA       & NA       & NA       & C        & 1        & 0        & 0        & 0        & 1       \\\\\n",
       "\t Y        &  9967979 & NA       & NA       & NA       & C        & 1        & 0        & 0        & 1        & 0       \\\\\n",
       "\t Y        & 10010219 & NA       & NA       & NA       & T        & 1        & 0        & 1        & 0        & 0       \\\\\n",
       "\t Y        & 10010289 & NA       & NA       & NA       & A        & 1        & 0        & 0        & 1        & 0       \\\\\n",
       "\t Y        & 10029514 & NA       & NA       & NA       & C        & 1        & 0        & 0        & 0        & 1       \\\\\n",
       "\t Y        & 10033862 & NA       & NA       & NA       & A        & 1        & 0        & 0        & 1        & 0       \\\\\n",
       "\t Y        & 10033962 & NA       & NA       & NA       & T        & 1        & 1        & 0        & 0        & 0       \\\\\n",
       "\t Y        & 13309457 & NA       & NA       & NA       & G        & 1        & 1        & 0        & 0        & 0       \\\\\n",
       "\t Y        & 13310748 & NA       & NA       & NA       & G        & 1        & 0        & 0        & 0        & 1       \\\\\n",
       "\t Y        & 13311618 & NA       & NA       & NA       & C        & 1        & 0        & 0        & 0        & 1       \\\\\n",
       "\t Y        & 13312219 & NA       & NA       & NA       & C        & 1        & 0        & 0        & 0        & 1       \\\\\n",
       "\t Y        & 13458931 & NA       & NA       & NA       & C        & 1        & 0        & 0        & 0        & 1       \\\\\n",
       "\t Y        & 13458964 & NA       & NA       & NA       & T        & 1        & 1        & 0        & 0        & 0       \\\\\n",
       "\t Y        & 13459171 & NA       & NA       & NA       & C        & 1        & 0        & 0        & 1        & 0       \\\\\n",
       "\t Y        & 13463231 & NA       & NA       & NA       & A        & 1        & 0        & 0        & 1        & 0       \\\\\n",
       "\t Y        & 13471218 & NA       & NA       & NA       & A        & 1        & 0        & 0        & 1        & 0       \\\\\n",
       "\t ⋮ & ⋮ & ⋮ & ⋮ & ⋮ & ⋮ & ⋮ & ⋮ & ⋮ & ⋮ & ⋮\\\\\n",
       "\t Y        & 23545399 & G        &          &  0       & G        &  4       &  0       & 0        &  4       &  0      \\\\\n",
       "\t Y        & 28654384 & T        & A        &  1       & T        &  4       &  4       & 0        &  0       &  0      \\\\\n",
       "\t Y        & 28773188 & A        & G        &  1       & A        &  4       &  0       & 0        &  4       &  0      \\\\\n",
       "\t Y        & 13463576 & NA       & NA       & NA       & G        &  4       &  3       & 0        &  1       &  0      \\\\\n",
       "\t Y        & 14089063 & NA       & NA       & NA       & C        &  4       &  4       & 0        &  0       &  0      \\\\\n",
       "\t Y        & 14107836 & NA       & NA       & NA       & A        &  4       &  0       & 0        &  4       &  0      \\\\\n",
       "\t Y        &  6932032 & G        & C        &  1       & G        &  5       &  0       & 5        &  0       &  0      \\\\\n",
       "\t Y        & 14089676 & C        & T        &  1       & C        &  5       &  0       & 0        &  0       &  5      \\\\\n",
       "\t Y        & 23005081 & T        & G        &  1       & T        &  5       &  0       & 0        &  5       &  0      \\\\\n",
       "\t Y        & 23557806 & A        & C        &  1       & A        &  5       &  0       & 5        &  0       &  0      \\\\\n",
       "\t Y        &  2712091 & T        & A        &  1       & T        &  6       &  6       & 0        &  0       &  0      \\\\\n",
       "\t Y        &  9150283 & A        & G        &  1       & A        &  6       &  0       & 0        &  6       &  0      \\\\\n",
       "\t Y        &  9905318 & C        &          &  0       & C        &  6       &  0       & 6        &  0       &  0      \\\\\n",
       "\t Y        & 15028570 & T        & C        &  1       & T        &  6       &  0       & 6        &  0       &  0      \\\\\n",
       "\t Y        & 21749329 & A        & G        &  1       & A        &  6       &  0       & 0        &  6       &  0      \\\\\n",
       "\t Y        & 21869315 & C        &          &  0       & C        &  6       &  0       & 6        &  0       &  0      \\\\\n",
       "\t Y        & 21894527 & T        & C        &  1       & T        &  6       &  0       & 6        &  0       &  0      \\\\\n",
       "\t Y        & 21905071 & C        & T        &  1       & C        &  6       &  0       & 0        &  0       &  6      \\\\\n",
       "\t Y        & 23631629 & A        & C        &  1       & A        &  6       &  0       & 6        &  0       &  0      \\\\\n",
       "\t Y        & 23563407 & NA       & NA       & NA       & T        &  6       &  0       & 5        &  0       &  1      \\\\\n",
       "\t Y        &  9386252 & A        &          &  0       & A        &  7       &  7       & 0        &  0       &  0      \\\\\n",
       "\t Y        &  9386255 & T        &          &  0       & T        &  7       &  0       & 0        &  0       &  7      \\\\\n",
       "\t Y        & 16953007 & A        & G        &  1       & A        &  7       &  0       & 0        &  7       &  0      \\\\\n",
       "\t Y        &  2847322 & T        &          &  0       & T        &  9       &  0       & 0        &  0       &  9      \\\\\n",
       "\t Y        & 14043535 & C        & A        &  1       & C        &  9       &  9       & 0        &  0       &  0      \\\\\n",
       "\t Y        & 14374858 & A        & G        &  1       & A        &  9       &  0       & 0        &  9       &  0      \\\\\n",
       "\t Y        & 21868167 & C        & T        &  1       & C        &  9       &  0       & 0        &  0       &  9      \\\\\n",
       "\t Y        &  6736327 & T        &          &  0       & T        & 10       &  0       & 0        &  0       & 10      \\\\\n",
       "\t Y        &  9386241 & A        &          &  0       & A        & 10       & 10       & 0        &  0       &  0      \\\\\n",
       "\t Y        & 21883138 & G        &          &  0       & G        & 11       &  0       & 0        & 11       &  0      \\\\\n",
       "\\end{tabular}\n"
      ],
      "text/markdown": [
       "\n",
       "| chrom | pos | REF | ALT | elsidron1 | ref | coverage | a | c | g | t |\n",
       "|---|---|---|---|---|---|---|---|---|---|---|\n",
       "| Y        |  2710154 | NA       | NA       | NA       | G        | 1        | 0        | 0        | 1        | 0        |\n",
       "| Y        |  2722524 | NA       | NA       | NA       | A        | 1        | 0        | 0        | 1        | 0        |\n",
       "| Y        |  2751547 | NA       | NA       | NA       | C        | 1        | 0        | 0        | 0        | 1        |\n",
       "| Y        |  2844774 | NA       | NA       | NA       | T        | 1        | 0        | 1        | 0        | 0        |\n",
       "| Y        |  4967724 | NA       | NA       | NA       | A        | 1        | 0        | 1        | 0        | 0        |\n",
       "| Y        |  5092904 | NA       | NA       | NA       | T        | 1        | 0        | 1        | 0        | 0        |\n",
       "| Y        |  5605569 | NA       | NA       | NA       | C        | 1        | 0        | 0        | 1        | 0        |\n",
       "| Y        |  6024539 | NA       | NA       | NA       | T        | 1        | 0        | 1        | 0        | 0        |\n",
       "| Y        |  7590048 | NA       | NA       | NA       | T        | 1        | 0        | 1        | 0        | 0        |\n",
       "| Y        |  9004284 | NA       | NA       | NA       | A        | 1        | 0        | 0        | 1        | 0        |\n",
       "| Y        |  9005137 | NA       | NA       | NA       | T        | 1        | 0        | 0        | 0        | 1        |\n",
       "| Y        |  9149780 | NA       | NA       | NA       | C        | 1        | 0        | 0        | 0        | 1        |\n",
       "| Y        |  9868226 | NA       | NA       | NA       | G        | 1        | 1        | 0        | 0        | 0        |\n",
       "| Y        |  9967962 | NA       | NA       | NA       | G        | 1        | 1        | 0        | 0        | 0        |\n",
       "| Y        |  9967978 | NA       | NA       | NA       | C        | 1        | 0        | 0        | 0        | 1        |\n",
       "| Y        |  9967979 | NA       | NA       | NA       | C        | 1        | 0        | 0        | 1        | 0        |\n",
       "| Y        | 10010219 | NA       | NA       | NA       | T        | 1        | 0        | 1        | 0        | 0        |\n",
       "| Y        | 10010289 | NA       | NA       | NA       | A        | 1        | 0        | 0        | 1        | 0        |\n",
       "| Y        | 10029514 | NA       | NA       | NA       | C        | 1        | 0        | 0        | 0        | 1        |\n",
       "| Y        | 10033862 | NA       | NA       | NA       | A        | 1        | 0        | 0        | 1        | 0        |\n",
       "| Y        | 10033962 | NA       | NA       | NA       | T        | 1        | 1        | 0        | 0        | 0        |\n",
       "| Y        | 13309457 | NA       | NA       | NA       | G        | 1        | 1        | 0        | 0        | 0        |\n",
       "| Y        | 13310748 | NA       | NA       | NA       | G        | 1        | 0        | 0        | 0        | 1        |\n",
       "| Y        | 13311618 | NA       | NA       | NA       | C        | 1        | 0        | 0        | 0        | 1        |\n",
       "| Y        | 13312219 | NA       | NA       | NA       | C        | 1        | 0        | 0        | 0        | 1        |\n",
       "| Y        | 13458931 | NA       | NA       | NA       | C        | 1        | 0        | 0        | 0        | 1        |\n",
       "| Y        | 13458964 | NA       | NA       | NA       | T        | 1        | 1        | 0        | 0        | 0        |\n",
       "| Y        | 13459171 | NA       | NA       | NA       | C        | 1        | 0        | 0        | 1        | 0        |\n",
       "| Y        | 13463231 | NA       | NA       | NA       | A        | 1        | 0        | 0        | 1        | 0        |\n",
       "| Y        | 13471218 | NA       | NA       | NA       | A        | 1        | 0        | 0        | 1        | 0        |\n",
       "| ⋮ | ⋮ | ⋮ | ⋮ | ⋮ | ⋮ | ⋮ | ⋮ | ⋮ | ⋮ | ⋮ |\n",
       "| Y        | 23545399 | G        |          |  0       | G        |  4       |  0       | 0        |  4       |  0       |\n",
       "| Y        | 28654384 | T        | A        |  1       | T        |  4       |  4       | 0        |  0       |  0       |\n",
       "| Y        | 28773188 | A        | G        |  1       | A        |  4       |  0       | 0        |  4       |  0       |\n",
       "| Y        | 13463576 | NA       | NA       | NA       | G        |  4       |  3       | 0        |  1       |  0       |\n",
       "| Y        | 14089063 | NA       | NA       | NA       | C        |  4       |  4       | 0        |  0       |  0       |\n",
       "| Y        | 14107836 | NA       | NA       | NA       | A        |  4       |  0       | 0        |  4       |  0       |\n",
       "| Y        |  6932032 | G        | C        |  1       | G        |  5       |  0       | 5        |  0       |  0       |\n",
       "| Y        | 14089676 | C        | T        |  1       | C        |  5       |  0       | 0        |  0       |  5       |\n",
       "| Y        | 23005081 | T        | G        |  1       | T        |  5       |  0       | 0        |  5       |  0       |\n",
       "| Y        | 23557806 | A        | C        |  1       | A        |  5       |  0       | 5        |  0       |  0       |\n",
       "| Y        |  2712091 | T        | A        |  1       | T        |  6       |  6       | 0        |  0       |  0       |\n",
       "| Y        |  9150283 | A        | G        |  1       | A        |  6       |  0       | 0        |  6       |  0       |\n",
       "| Y        |  9905318 | C        |          |  0       | C        |  6       |  0       | 6        |  0       |  0       |\n",
       "| Y        | 15028570 | T        | C        |  1       | T        |  6       |  0       | 6        |  0       |  0       |\n",
       "| Y        | 21749329 | A        | G        |  1       | A        |  6       |  0       | 0        |  6       |  0       |\n",
       "| Y        | 21869315 | C        |          |  0       | C        |  6       |  0       | 6        |  0       |  0       |\n",
       "| Y        | 21894527 | T        | C        |  1       | T        |  6       |  0       | 6        |  0       |  0       |\n",
       "| Y        | 21905071 | C        | T        |  1       | C        |  6       |  0       | 0        |  0       |  6       |\n",
       "| Y        | 23631629 | A        | C        |  1       | A        |  6       |  0       | 6        |  0       |  0       |\n",
       "| Y        | 23563407 | NA       | NA       | NA       | T        |  6       |  0       | 5        |  0       |  1       |\n",
       "| Y        |  9386252 | A        |          |  0       | A        |  7       |  7       | 0        |  0       |  0       |\n",
       "| Y        |  9386255 | T        |          |  0       | T        |  7       |  0       | 0        |  0       |  7       |\n",
       "| Y        | 16953007 | A        | G        |  1       | A        |  7       |  0       | 0        |  7       |  0       |\n",
       "| Y        |  2847322 | T        |          |  0       | T        |  9       |  0       | 0        |  0       |  9       |\n",
       "| Y        | 14043535 | C        | A        |  1       | C        |  9       |  9       | 0        |  0       |  0       |\n",
       "| Y        | 14374858 | A        | G        |  1       | A        |  9       |  0       | 0        |  9       |  0       |\n",
       "| Y        | 21868167 | C        | T        |  1       | C        |  9       |  0       | 0        |  0       |  9       |\n",
       "| Y        |  6736327 | T        |          |  0       | T        | 10       |  0       | 0        |  0       | 10       |\n",
       "| Y        |  9386241 | A        |          |  0       | A        | 10       | 10       | 0        |  0       |  0       |\n",
       "| Y        | 21883138 | G        |          |  0       | G        | 11       |  0       | 0        | 11       |  0       |\n",
       "\n"
      ],
      "text/plain": [
       "    chrom pos      REF ALT elsidron1 ref coverage a  c g  t \n",
       "1   Y      2710154 NA  NA  NA        G   1        0  0 1  0 \n",
       "2   Y      2722524 NA  NA  NA        A   1        0  0 1  0 \n",
       "3   Y      2751547 NA  NA  NA        C   1        0  0 0  1 \n",
       "4   Y      2844774 NA  NA  NA        T   1        0  1 0  0 \n",
       "5   Y      4967724 NA  NA  NA        A   1        0  1 0  0 \n",
       "6   Y      5092904 NA  NA  NA        T   1        0  1 0  0 \n",
       "7   Y      5605569 NA  NA  NA        C   1        0  0 1  0 \n",
       "8   Y      6024539 NA  NA  NA        T   1        0  1 0  0 \n",
       "9   Y      7590048 NA  NA  NA        T   1        0  1 0  0 \n",
       "10  Y      9004284 NA  NA  NA        A   1        0  0 1  0 \n",
       "11  Y      9005137 NA  NA  NA        T   1        0  0 0  1 \n",
       "12  Y      9149780 NA  NA  NA        C   1        0  0 0  1 \n",
       "13  Y      9868226 NA  NA  NA        G   1        1  0 0  0 \n",
       "14  Y      9967962 NA  NA  NA        G   1        1  0 0  0 \n",
       "15  Y      9967978 NA  NA  NA        C   1        0  0 0  1 \n",
       "16  Y      9967979 NA  NA  NA        C   1        0  0 1  0 \n",
       "17  Y     10010219 NA  NA  NA        T   1        0  1 0  0 \n",
       "18  Y     10010289 NA  NA  NA        A   1        0  0 1  0 \n",
       "19  Y     10029514 NA  NA  NA        C   1        0  0 0  1 \n",
       "20  Y     10033862 NA  NA  NA        A   1        0  0 1  0 \n",
       "21  Y     10033962 NA  NA  NA        T   1        1  0 0  0 \n",
       "22  Y     13309457 NA  NA  NA        G   1        1  0 0  0 \n",
       "23  Y     13310748 NA  NA  NA        G   1        0  0 0  1 \n",
       "24  Y     13311618 NA  NA  NA        C   1        0  0 0  1 \n",
       "25  Y     13312219 NA  NA  NA        C   1        0  0 0  1 \n",
       "26  Y     13458931 NA  NA  NA        C   1        0  0 0  1 \n",
       "27  Y     13458964 NA  NA  NA        T   1        1  0 0  0 \n",
       "28  Y     13459171 NA  NA  NA        C   1        0  0 1  0 \n",
       "29  Y     13463231 NA  NA  NA        A   1        0  0 1  0 \n",
       "30  Y     13471218 NA  NA  NA        A   1        0  0 1  0 \n",
       "⋮   ⋮     ⋮        ⋮   ⋮   ⋮         ⋮   ⋮        ⋮  ⋮ ⋮  ⋮ \n",
       "117 Y     23545399 G        0        G    4        0 0  4  0\n",
       "118 Y     28654384 T   A    1        T    4        4 0  0  0\n",
       "119 Y     28773188 A   G    1        A    4        0 0  4  0\n",
       "120 Y     13463576 NA  NA  NA        G    4        3 0  1  0\n",
       "121 Y     14089063 NA  NA  NA        C    4        4 0  0  0\n",
       "122 Y     14107836 NA  NA  NA        A    4        0 0  4  0\n",
       "123 Y      6932032 G   C    1        G    5        0 5  0  0\n",
       "124 Y     14089676 C   T    1        C    5        0 0  0  5\n",
       "125 Y     23005081 T   G    1        T    5        0 0  5  0\n",
       "126 Y     23557806 A   C    1        A    5        0 5  0  0\n",
       "127 Y      2712091 T   A    1        T    6        6 0  0  0\n",
       "128 Y      9150283 A   G    1        A    6        0 0  6  0\n",
       "129 Y      9905318 C        0        C    6        0 6  0  0\n",
       "130 Y     15028570 T   C    1        T    6        0 6  0  0\n",
       "131 Y     21749329 A   G    1        A    6        0 0  6  0\n",
       "132 Y     21869315 C        0        C    6        0 6  0  0\n",
       "133 Y     21894527 T   C    1        T    6        0 6  0  0\n",
       "134 Y     21905071 C   T    1        C    6        0 0  0  6\n",
       "135 Y     23631629 A   C    1        A    6        0 6  0  0\n",
       "136 Y     23563407 NA  NA  NA        T    6        0 5  0  1\n",
       "137 Y      9386252 A        0        A    7        7 0  0  0\n",
       "138 Y      9386255 T        0        T    7        0 0  0  7\n",
       "139 Y     16953007 A   G    1        A    7        0 0  7  0\n",
       "140 Y      2847322 T        0        T    9        0 0  0  9\n",
       "141 Y     14043535 C   A    1        C    9        9 0  0  0\n",
       "142 Y     14374858 A   G    1        A    9        0 0  9  0\n",
       "143 Y     21868167 C   T    1        C    9        0 0  0  9\n",
       "144 Y      6736327 T        0        T   10        0 0  0 10\n",
       "145 Y      9386241 A        0        A   10       10 0  0  0\n",
       "146 Y     21883138 G        0        G   11        0 0 11  0"
      ]
     },
     "metadata": {},
     "output_type": "display_data"
    }
   ],
   "source": [
    "df %>% filter(!is.na(ref)) %>% arrange(coverage)"
   ]
  },
  {
   "cell_type": "markdown",
   "metadata": {},
   "source": [
    "# It's clear that Mendez filtering used even sites covered by just one read!\n",
    "\n",
    "This introduces a lot of errors!"
   ]
  }
 ],
 "metadata": {
  "kernelspec": {
   "display_name": "R",
   "language": "R",
   "name": "ir"
  },
  "language_info": {
   "codemirror_mode": "r",
   "file_extension": ".r",
   "mimetype": "text/x-r-source",
   "name": "R",
   "pygments_lexer": "r",
   "version": "3.5.1"
  }
 },
 "nbformat": 4,
 "nbformat_minor": 2
}
