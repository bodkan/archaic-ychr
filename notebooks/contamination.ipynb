{
 "cells": [
  {
   "cell_type": "code",
   "execution_count": 1,
   "metadata": {},
   "outputs": [
    {
     "name": "stderr",
     "output_type": "stream",
     "text": [
      "── \u001b[1mAttaching packages\u001b[22m ─────────────────────────────────────── tidyverse 1.2.1 ──\n",
      "\u001b[32m✔\u001b[39m \u001b[34mggplot2\u001b[39m 3.2.0     \u001b[32m✔\u001b[39m \u001b[34mpurrr  \u001b[39m 0.3.2\n",
      "\u001b[32m✔\u001b[39m \u001b[34mtibble \u001b[39m 2.1.3     \u001b[32m✔\u001b[39m \u001b[34mdplyr  \u001b[39m 0.8.1\n",
      "\u001b[32m✔\u001b[39m \u001b[34mtidyr  \u001b[39m 0.8.3     \u001b[32m✔\u001b[39m \u001b[34mstringr\u001b[39m 1.4.0\n",
      "\u001b[32m✔\u001b[39m \u001b[34mreadr  \u001b[39m 1.3.1     \u001b[32m✔\u001b[39m \u001b[34mforcats\u001b[39m 0.4.0\n",
      "── \u001b[1mConflicts\u001b[22m ────────────────────────────────────────── tidyverse_conflicts() ──\n",
      "\u001b[31m✖\u001b[39m \u001b[34mdplyr\u001b[39m::\u001b[32mfilter()\u001b[39m masks \u001b[34mstats\u001b[39m::filter()\n",
      "\u001b[31m✖\u001b[39m \u001b[34mdplyr\u001b[39m::\u001b[32mlag()\u001b[39m    masks \u001b[34mstats\u001b[39m::lag()\n",
      "\n",
      "Attaching package: ‘magrittr’\n",
      "\n",
      "The following object is masked from ‘package:purrr’:\n",
      "\n",
      "    set_names\n",
      "\n",
      "The following object is masked from ‘package:tidyr’:\n",
      "\n",
      "    extract\n",
      "\n",
      "here() starts at /mnt/expressions/mp/ychr\n",
      "Loading required package: ape\n",
      "Loading ychr\n"
     ]
    }
   ],
   "source": [
    "library(tidyverse)\n",
    "library(magrittr)\n",
    "library(here)\n",
    "library(phangorn)\n",
    "\n",
    "devtools::load_all(\".\")"
   ]
  },
  {
   "cell_type": "markdown",
   "metadata": {},
   "source": [
    "## Process the genotypes into a table of human variable SNPs"
   ]
  },
  {
   "cell_type": "code",
   "execution_count": 2,
   "metadata": {},
   "outputs": [],
   "source": [
    "highcov <- read_genotypes(\"spy1\", \"full\", mindp = 3, maxdp = 0.975, var_only = TRUE)"
   ]
  },
  {
   "cell_type": "code",
   "execution_count": 3,
   "metadata": {},
   "outputs": [],
   "source": [
    "pops <- read_info(highcov)"
   ]
  },
  {
   "cell_type": "code",
   "execution_count": 4,
   "metadata": {},
   "outputs": [],
   "source": [
    "gt <- select(highcov, -c(chrom, pos, REF, ALT, ustishim))"
   ]
  },
  {
   "cell_type": "code",
   "execution_count": 5,
   "metadata": {},
   "outputs": [
    {
     "data": {
      "text/html": [
       "<table>\n",
       "<caption>A tibble: 6 × 17</caption>\n",
       "<thead>\n",
       "\t<tr><th scope=col>spy1</th><th scope=col>chimp</th><th scope=col>a00</th><th scope=col>S_BedouinB_1</th><th scope=col>S_Turkish_1</th><th scope=col>S_French_1</th><th scope=col>S_Burmese_1</th><th scope=col>S_Thai_1</th><th scope=col>S_Finnish_2</th><th scope=col>S_Sardinian_1</th><th scope=col>S_Han_2</th><th scope=col>S_Dai_2</th><th scope=col>S_Punjabi_1</th><th scope=col>S_Saami_2</th><th scope=col>S_Papuan_2</th><th scope=col>S_Karitiana_1</th><th scope=col>S_Ju_hoan_North_1</th></tr>\n",
       "\t<tr><th scope=col>&lt;dbl&gt;</th><th scope=col>&lt;dbl&gt;</th><th scope=col>&lt;dbl&gt;</th><th scope=col>&lt;dbl&gt;</th><th scope=col>&lt;dbl&gt;</th><th scope=col>&lt;dbl&gt;</th><th scope=col>&lt;dbl&gt;</th><th scope=col>&lt;dbl&gt;</th><th scope=col>&lt;dbl&gt;</th><th scope=col>&lt;dbl&gt;</th><th scope=col>&lt;dbl&gt;</th><th scope=col>&lt;dbl&gt;</th><th scope=col>&lt;dbl&gt;</th><th scope=col>&lt;dbl&gt;</th><th scope=col>&lt;dbl&gt;</th><th scope=col>&lt;dbl&gt;</th><th scope=col>&lt;dbl&gt;</th></tr>\n",
       "</thead>\n",
       "<tbody>\n",
       "\t<tr><td>NA</td><td>1</td><td>0</td><td>0</td><td>0</td><td> 0</td><td>0</td><td>0</td><td>0</td><td>0</td><td>0</td><td>0</td><td>0</td><td>0</td><td>0</td><td>0</td><td>0</td></tr>\n",
       "\t<tr><td>NA</td><td>1</td><td>0</td><td>0</td><td>0</td><td> 0</td><td>0</td><td>0</td><td>0</td><td>0</td><td>0</td><td>0</td><td>0</td><td>0</td><td>0</td><td>0</td><td>0</td></tr>\n",
       "\t<tr><td>NA</td><td>0</td><td>0</td><td>0</td><td>0</td><td> 0</td><td>0</td><td>0</td><td>0</td><td>0</td><td>0</td><td>0</td><td>0</td><td>0</td><td>0</td><td>0</td><td>0</td></tr>\n",
       "\t<tr><td>NA</td><td>0</td><td>0</td><td>0</td><td>0</td><td>NA</td><td>0</td><td>0</td><td>0</td><td>0</td><td>0</td><td>0</td><td>0</td><td>0</td><td>0</td><td>0</td><td>0</td></tr>\n",
       "\t<tr><td>NA</td><td>0</td><td>0</td><td>0</td><td>0</td><td> 0</td><td>0</td><td>0</td><td>0</td><td>0</td><td>0</td><td>0</td><td>0</td><td>0</td><td>0</td><td>0</td><td>0</td></tr>\n",
       "\t<tr><td>NA</td><td>1</td><td>0</td><td>0</td><td>0</td><td> 0</td><td>0</td><td>0</td><td>0</td><td>0</td><td>0</td><td>0</td><td>0</td><td>0</td><td>0</td><td>0</td><td>0</td></tr>\n",
       "</tbody>\n",
       "</table>\n"
      ],
      "text/latex": [
       "A tibble: 6 × 17\n",
       "\\begin{tabular}{r|lllllllllllllllll}\n",
       " spy1 & chimp & a00 & S\\_BedouinB\\_1 & S\\_Turkish\\_1 & S\\_French\\_1 & S\\_Burmese\\_1 & S\\_Thai\\_1 & S\\_Finnish\\_2 & S\\_Sardinian\\_1 & S\\_Han\\_2 & S\\_Dai\\_2 & S\\_Punjabi\\_1 & S\\_Saami\\_2 & S\\_Papuan\\_2 & S\\_Karitiana\\_1 & S\\_Ju\\_hoan\\_North\\_1\\\\\n",
       " <dbl> & <dbl> & <dbl> & <dbl> & <dbl> & <dbl> & <dbl> & <dbl> & <dbl> & <dbl> & <dbl> & <dbl> & <dbl> & <dbl> & <dbl> & <dbl> & <dbl>\\\\\n",
       "\\hline\n",
       "\t NA & 1 & 0 & 0 & 0 &  0 & 0 & 0 & 0 & 0 & 0 & 0 & 0 & 0 & 0 & 0 & 0\\\\\n",
       "\t NA & 1 & 0 & 0 & 0 &  0 & 0 & 0 & 0 & 0 & 0 & 0 & 0 & 0 & 0 & 0 & 0\\\\\n",
       "\t NA & 0 & 0 & 0 & 0 &  0 & 0 & 0 & 0 & 0 & 0 & 0 & 0 & 0 & 0 & 0 & 0\\\\\n",
       "\t NA & 0 & 0 & 0 & 0 & NA & 0 & 0 & 0 & 0 & 0 & 0 & 0 & 0 & 0 & 0 & 0\\\\\n",
       "\t NA & 0 & 0 & 0 & 0 &  0 & 0 & 0 & 0 & 0 & 0 & 0 & 0 & 0 & 0 & 0 & 0\\\\\n",
       "\t NA & 1 & 0 & 0 & 0 &  0 & 0 & 0 & 0 & 0 & 0 & 0 & 0 & 0 & 0 & 0 & 0\\\\\n",
       "\\end{tabular}\n"
      ],
      "text/markdown": [
       "\n",
       "A tibble: 6 × 17\n",
       "\n",
       "| spy1 &lt;dbl&gt; | chimp &lt;dbl&gt; | a00 &lt;dbl&gt; | S_BedouinB_1 &lt;dbl&gt; | S_Turkish_1 &lt;dbl&gt; | S_French_1 &lt;dbl&gt; | S_Burmese_1 &lt;dbl&gt; | S_Thai_1 &lt;dbl&gt; | S_Finnish_2 &lt;dbl&gt; | S_Sardinian_1 &lt;dbl&gt; | S_Han_2 &lt;dbl&gt; | S_Dai_2 &lt;dbl&gt; | S_Punjabi_1 &lt;dbl&gt; | S_Saami_2 &lt;dbl&gt; | S_Papuan_2 &lt;dbl&gt; | S_Karitiana_1 &lt;dbl&gt; | S_Ju_hoan_North_1 &lt;dbl&gt; |\n",
       "|---|---|---|---|---|---|---|---|---|---|---|---|---|---|---|---|---|\n",
       "| NA | 1 | 0 | 0 | 0 |  0 | 0 | 0 | 0 | 0 | 0 | 0 | 0 | 0 | 0 | 0 | 0 |\n",
       "| NA | 1 | 0 | 0 | 0 |  0 | 0 | 0 | 0 | 0 | 0 | 0 | 0 | 0 | 0 | 0 | 0 |\n",
       "| NA | 0 | 0 | 0 | 0 |  0 | 0 | 0 | 0 | 0 | 0 | 0 | 0 | 0 | 0 | 0 | 0 |\n",
       "| NA | 0 | 0 | 0 | 0 | NA | 0 | 0 | 0 | 0 | 0 | 0 | 0 | 0 | 0 | 0 | 0 |\n",
       "| NA | 0 | 0 | 0 | 0 |  0 | 0 | 0 | 0 | 0 | 0 | 0 | 0 | 0 | 0 | 0 | 0 |\n",
       "| NA | 1 | 0 | 0 | 0 |  0 | 0 | 0 | 0 | 0 | 0 | 0 | 0 | 0 | 0 | 0 | 0 |\n",
       "\n"
      ],
      "text/plain": [
       "  spy1 chimp a00 S_BedouinB_1 S_Turkish_1 S_French_1 S_Burmese_1 S_Thai_1\n",
       "1 NA   1     0   0            0            0         0           0       \n",
       "2 NA   1     0   0            0            0         0           0       \n",
       "3 NA   0     0   0            0            0         0           0       \n",
       "4 NA   0     0   0            0           NA         0           0       \n",
       "5 NA   0     0   0            0            0         0           0       \n",
       "6 NA   1     0   0            0            0         0           0       \n",
       "  S_Finnish_2 S_Sardinian_1 S_Han_2 S_Dai_2 S_Punjabi_1 S_Saami_2 S_Papuan_2\n",
       "1 0           0             0       0       0           0         0         \n",
       "2 0           0             0       0       0           0         0         \n",
       "3 0           0             0       0       0           0         0         \n",
       "4 0           0             0       0       0           0         0         \n",
       "5 0           0             0       0       0           0         0         \n",
       "6 0           0             0       0       0           0         0         \n",
       "  S_Karitiana_1 S_Ju_hoan_North_1\n",
       "1 0             0                \n",
       "2 0             0                \n",
       "3 0             0                \n",
       "4 0             0                \n",
       "5 0             0                \n",
       "6 0             0                "
      ]
     },
     "metadata": {},
     "output_type": "display_data"
    }
   ],
   "source": [
    "head(gt)"
   ]
  },
  {
   "cell_type": "code",
   "execution_count": 6,
   "metadata": {},
   "outputs": [],
   "source": [
    "freqs <- select(gt, -chimp) %>% rowMeans(na.rm = TRUE)"
   ]
  },
  {
   "cell_type": "markdown",
   "metadata": {},
   "source": [
    "Keep only variable sites (excluding chimp-unique variants):"
   ]
  },
  {
   "cell_type": "code",
   "execution_count": 7,
   "metadata": {},
   "outputs": [],
   "source": [
    "gt <- filter(gt, freqs > 0 & freqs < 1)"
   ]
  },
  {
   "cell_type": "code",
   "execution_count": 8,
   "metadata": {},
   "outputs": [],
   "source": [
    "vcf <- filter(highcov, freqs > 0 & freqs < 1)"
   ]
  },
  {
   "cell_type": "code",
   "execution_count": 9,
   "metadata": {},
   "outputs": [],
   "source": [
    "derived <- mutate_all(gt, ~ as.integer(.x != gt$chimp))"
   ]
  },
  {
   "cell_type": "code",
   "execution_count": 11,
   "metadata": {},
   "outputs": [
    {
     "data": {
      "text/html": [
       "6095"
      ],
      "text/latex": [
       "6095"
      ],
      "text/markdown": [
       "6095"
      ],
      "text/plain": [
       "[1] 6095"
      ]
     },
     "metadata": {},
     "output_type": "display_data"
    }
   ],
   "source": [
    "nrow(derived)"
   ]
  },
  {
   "cell_type": "markdown",
   "metadata": {},
   "source": [
    "### Load the alignment for building a tree"
   ]
  },
  {
   "cell_type": "code",
   "execution_count": 12,
   "metadata": {},
   "outputs": [],
   "source": [
    "aln <- read.phyDat(here(\"data/fasta/all_modern_full.fa\"), format = \"fasta\")\n",
    "aln$ustishim <- NULL\n",
    "\n",
    "tree <- NJ(dist.ml(aln))\n",
    "tree$tip.label <- str_replace(tree$tip.label, \"-\", \"_\")\n",
    "\n",
    "rooted_tree <- root(tree, outgroup = c(\"a00\"), resolve.root = TRUE)"
   ]
  },
  {
   "cell_type": "markdown",
   "metadata": {},
   "source": [
    "## Count MH contaminant SNPs using fixed African ancestral vs derived non-African sites"
   ]
  },
  {
   "cell_type": "code",
   "execution_count": 12,
   "metadata": {},
   "outputs": [
    {
     "data": {
      "text/html": [
       "<ol class=list-inline>\n",
       "\t<li>'S_Ju_hoan_North_1'</li>\n",
       "\t<li>'a00'</li>\n",
       "</ol>\n"
      ],
      "text/latex": [
       "\\begin{enumerate*}\n",
       "\\item 'S\\_Ju\\_hoan\\_North\\_1'\n",
       "\\item 'a00'\n",
       "\\end{enumerate*}\n"
      ],
      "text/markdown": [
       "1. 'S_Ju_hoan_North_1'\n",
       "2. 'a00'\n",
       "\n",
       "\n"
      ],
      "text/plain": [
       "[1] \"S_Ju_hoan_North_1\" \"a00\"              "
      ]
     },
     "metadata": {},
     "output_type": "display_data"
    },
    {
     "data": {
      "text/html": [
       "<ol class=list-inline>\n",
       "\t<li>'S_BedouinB_1'</li>\n",
       "\t<li>'S_Turkish_1'</li>\n",
       "\t<li>'S_French_1'</li>\n",
       "\t<li>'S_Burmese_1'</li>\n",
       "\t<li>'S_Thai_1'</li>\n",
       "\t<li>'S_Finnish_2'</li>\n",
       "\t<li>'S_Sardinian_1'</li>\n",
       "\t<li>'S_Han_2'</li>\n",
       "\t<li>'S_Dai_2'</li>\n",
       "\t<li>'S_Punjabi_1'</li>\n",
       "\t<li>'S_Saami_2'</li>\n",
       "\t<li>'S_Papuan_2'</li>\n",
       "\t<li>'S_Karitiana_1'</li>\n",
       "</ol>\n"
      ],
      "text/latex": [
       "\\begin{enumerate*}\n",
       "\\item 'S\\_BedouinB\\_1'\n",
       "\\item 'S\\_Turkish\\_1'\n",
       "\\item 'S\\_French\\_1'\n",
       "\\item 'S\\_Burmese\\_1'\n",
       "\\item 'S\\_Thai\\_1'\n",
       "\\item 'S\\_Finnish\\_2'\n",
       "\\item 'S\\_Sardinian\\_1'\n",
       "\\item 'S\\_Han\\_2'\n",
       "\\item 'S\\_Dai\\_2'\n",
       "\\item 'S\\_Punjabi\\_1'\n",
       "\\item 'S\\_Saami\\_2'\n",
       "\\item 'S\\_Papuan\\_2'\n",
       "\\item 'S\\_Karitiana\\_1'\n",
       "\\end{enumerate*}\n"
      ],
      "text/markdown": [
       "1. 'S_BedouinB_1'\n",
       "2. 'S_Turkish_1'\n",
       "3. 'S_French_1'\n",
       "4. 'S_Burmese_1'\n",
       "5. 'S_Thai_1'\n",
       "6. 'S_Finnish_2'\n",
       "7. 'S_Sardinian_1'\n",
       "8. 'S_Han_2'\n",
       "9. 'S_Dai_2'\n",
       "10. 'S_Punjabi_1'\n",
       "11. 'S_Saami_2'\n",
       "12. 'S_Papuan_2'\n",
       "13. 'S_Karitiana_1'\n",
       "\n",
       "\n"
      ],
      "text/plain": [
       " [1] \"S_BedouinB_1\"  \"S_Turkish_1\"   \"S_French_1\"    \"S_Burmese_1\"  \n",
       " [5] \"S_Thai_1\"      \"S_Finnish_2\"   \"S_Sardinian_1\" \"S_Han_2\"      \n",
       " [9] \"S_Dai_2\"       \"S_Punjabi_1\"   \"S_Saami_2\"     \"S_Papuan_2\"   \n",
       "[13] \"S_Karitiana_1\""
      ]
     },
     "metadata": {},
     "output_type": "display_data"
    }
   ],
   "source": [
    "(outgroup <- filter(pops, pop == \"Africa\")$name)\n",
    "(ingroup <- filter(pops, pop %in% c(\"WestEur\", \"EastEur\"))$name)"
   ]
  },
  {
   "cell_type": "code",
   "execution_count": 18,
   "metadata": {},
   "outputs": [
    {
     "data": {
      "image/png": "[encoded data removed]",
      "text/plain": [
       "Plot with title “Red - derived, blue - ancestral”"
      ]
     },
     "metadata": {},
     "output_type": "display_data"
    }
   ],
   "source": [
    "set_dim(6, 5, 300)\n",
    "\n",
    "cols <- map_chr(rooted_tree$tip.label, ~ ifelse(.x %in% ingroup, \"red\", \"blue\"))\n",
    "\n",
    "plot(rooted_tree, use.edge.length = FALSE, tip.color = cols, cex = 0.5)\n",
    "title(\"Red - derived, blue - ancestral\")"
   ]
  },
  {
   "cell_type": "code",
   "execution_count": 13,
   "metadata": {},
   "outputs": [],
   "source": [
    "out_anc <- (rowMeans(derived[, outgroup]) == 0)\n",
    "in_der <- (rowMeans(derived[, ingroup]) == 1)"
   ]
  },
  {
   "cell_type": "code",
   "execution_count": 14,
   "metadata": {},
   "outputs": [
    {
     "data": {
      "text/html": [
       "<table>\n",
       "<caption>A tibble: 6 × 17</caption>\n",
       "<thead>\n",
       "\t<tr><th scope=col>spy1</th><th scope=col>chimp</th><th scope=col>a00</th><th scope=col>S_BedouinB_1</th><th scope=col>S_Turkish_1</th><th scope=col>S_French_1</th><th scope=col>S_Burmese_1</th><th scope=col>S_Thai_1</th><th scope=col>S_Finnish_2</th><th scope=col>S_Sardinian_1</th><th scope=col>S_Han_2</th><th scope=col>S_Dai_2</th><th scope=col>S_Punjabi_1</th><th scope=col>S_Saami_2</th><th scope=col>S_Papuan_2</th><th scope=col>S_Karitiana_1</th><th scope=col>S_Ju_hoan_North_1</th></tr>\n",
       "\t<tr><th scope=col>&lt;int&gt;</th><th scope=col>&lt;int&gt;</th><th scope=col>&lt;int&gt;</th><th scope=col>&lt;int&gt;</th><th scope=col>&lt;int&gt;</th><th scope=col>&lt;int&gt;</th><th scope=col>&lt;int&gt;</th><th scope=col>&lt;int&gt;</th><th scope=col>&lt;int&gt;</th><th scope=col>&lt;int&gt;</th><th scope=col>&lt;int&gt;</th><th scope=col>&lt;int&gt;</th><th scope=col>&lt;int&gt;</th><th scope=col>&lt;int&gt;</th><th scope=col>&lt;int&gt;</th><th scope=col>&lt;int&gt;</th><th scope=col>&lt;int&gt;</th></tr>\n",
       "</thead>\n",
       "<tbody>\n",
       "\t<tr><td>NA</td><td>NA</td><td>NA</td><td>NA</td><td>NA</td><td>NA</td><td>NA</td><td>NA</td><td>NA</td><td>NA</td><td>NA</td><td>NA</td><td>NA</td><td>NA</td><td>NA</td><td>NA</td><td>NA</td></tr>\n",
       "\t<tr><td>NA</td><td>NA</td><td>NA</td><td>NA</td><td>NA</td><td>NA</td><td>NA</td><td>NA</td><td>NA</td><td>NA</td><td>NA</td><td>NA</td><td>NA</td><td>NA</td><td>NA</td><td>NA</td><td>NA</td></tr>\n",
       "\t<tr><td> 0</td><td> 0</td><td> 0</td><td> 1</td><td> 1</td><td> 1</td><td> 1</td><td> 1</td><td> 1</td><td> 1</td><td> 1</td><td> 1</td><td> 1</td><td> 1</td><td> 1</td><td> 1</td><td> 0</td></tr>\n",
       "\t<tr><td>NA</td><td>NA</td><td>NA</td><td>NA</td><td>NA</td><td>NA</td><td>NA</td><td>NA</td><td>NA</td><td>NA</td><td>NA</td><td>NA</td><td>NA</td><td>NA</td><td>NA</td><td>NA</td><td>NA</td></tr>\n",
       "\t<tr><td>NA</td><td> 0</td><td> 0</td><td> 1</td><td> 1</td><td> 1</td><td> 1</td><td> 1</td><td> 1</td><td> 1</td><td> 1</td><td> 1</td><td> 1</td><td> 1</td><td> 1</td><td> 1</td><td> 0</td></tr>\n",
       "\t<tr><td>NA</td><td>NA</td><td>NA</td><td>NA</td><td>NA</td><td>NA</td><td>NA</td><td>NA</td><td>NA</td><td>NA</td><td>NA</td><td>NA</td><td>NA</td><td>NA</td><td>NA</td><td>NA</td><td>NA</td></tr>\n",
       "</tbody>\n",
       "</table>\n"
      ],
      "text/latex": [
       "A tibble: 6 × 17\n",
       "\\begin{tabular}{r|lllllllllllllllll}\n",
       " spy1 & chimp & a00 & S\\_BedouinB\\_1 & S\\_Turkish\\_1 & S\\_French\\_1 & S\\_Burmese\\_1 & S\\_Thai\\_1 & S\\_Finnish\\_2 & S\\_Sardinian\\_1 & S\\_Han\\_2 & S\\_Dai\\_2 & S\\_Punjabi\\_1 & S\\_Saami\\_2 & S\\_Papuan\\_2 & S\\_Karitiana\\_1 & S\\_Ju\\_hoan\\_North\\_1\\\\\n",
       " <int> & <int> & <int> & <int> & <int> & <int> & <int> & <int> & <int> & <int> & <int> & <int> & <int> & <int> & <int> & <int> & <int>\\\\\n",
       "\\hline\n",
       "\t NA & NA & NA & NA & NA & NA & NA & NA & NA & NA & NA & NA & NA & NA & NA & NA & NA\\\\\n",
       "\t NA & NA & NA & NA & NA & NA & NA & NA & NA & NA & NA & NA & NA & NA & NA & NA & NA\\\\\n",
       "\t  0 &  0 &  0 &  1 &  1 &  1 &  1 &  1 &  1 &  1 &  1 &  1 &  1 &  1 &  1 &  1 &  0\\\\\n",
       "\t NA & NA & NA & NA & NA & NA & NA & NA & NA & NA & NA & NA & NA & NA & NA & NA & NA\\\\\n",
       "\t NA &  0 &  0 &  1 &  1 &  1 &  1 &  1 &  1 &  1 &  1 &  1 &  1 &  1 &  1 &  1 &  0\\\\\n",
       "\t NA & NA & NA & NA & NA & NA & NA & NA & NA & NA & NA & NA & NA & NA & NA & NA & NA\\\\\n",
       "\\end{tabular}\n"
      ],
      "text/markdown": [
       "\n",
       "A tibble: 6 × 17\n",
       "\n",
       "| spy1 &lt;int&gt; | chimp &lt;int&gt; | a00 &lt;int&gt; | S_BedouinB_1 &lt;int&gt; | S_Turkish_1 &lt;int&gt; | S_French_1 &lt;int&gt; | S_Burmese_1 &lt;int&gt; | S_Thai_1 &lt;int&gt; | S_Finnish_2 &lt;int&gt; | S_Sardinian_1 &lt;int&gt; | S_Han_2 &lt;int&gt; | S_Dai_2 &lt;int&gt; | S_Punjabi_1 &lt;int&gt; | S_Saami_2 &lt;int&gt; | S_Papuan_2 &lt;int&gt; | S_Karitiana_1 &lt;int&gt; | S_Ju_hoan_North_1 &lt;int&gt; |\n",
       "|---|---|---|---|---|---|---|---|---|---|---|---|---|---|---|---|---|\n",
       "| NA | NA | NA | NA | NA | NA | NA | NA | NA | NA | NA | NA | NA | NA | NA | NA | NA |\n",
       "| NA | NA | NA | NA | NA | NA | NA | NA | NA | NA | NA | NA | NA | NA | NA | NA | NA |\n",
       "|  0 |  0 |  0 |  1 |  1 |  1 |  1 |  1 |  1 |  1 |  1 |  1 |  1 |  1 |  1 |  1 |  0 |\n",
       "| NA | NA | NA | NA | NA | NA | NA | NA | NA | NA | NA | NA | NA | NA | NA | NA | NA |\n",
       "| NA |  0 |  0 |  1 |  1 |  1 |  1 |  1 |  1 |  1 |  1 |  1 |  1 |  1 |  1 |  1 |  0 |\n",
       "| NA | NA | NA | NA | NA | NA | NA | NA | NA | NA | NA | NA | NA | NA | NA | NA | NA |\n",
       "\n"
      ],
      "text/plain": [
       "  spy1 chimp a00 S_BedouinB_1 S_Turkish_1 S_French_1 S_Burmese_1 S_Thai_1\n",
       "1 NA   NA    NA  NA           NA          NA         NA          NA      \n",
       "2 NA   NA    NA  NA           NA          NA         NA          NA      \n",
       "3  0    0     0   1            1           1          1           1      \n",
       "4 NA   NA    NA  NA           NA          NA         NA          NA      \n",
       "5 NA    0     0   1            1           1          1           1      \n",
       "6 NA   NA    NA  NA           NA          NA         NA          NA      \n",
       "  S_Finnish_2 S_Sardinian_1 S_Han_2 S_Dai_2 S_Punjabi_1 S_Saami_2 S_Papuan_2\n",
       "1 NA          NA            NA      NA      NA          NA        NA        \n",
       "2 NA          NA            NA      NA      NA          NA        NA        \n",
       "3  1           1             1       1       1           1         1        \n",
       "4 NA          NA            NA      NA      NA          NA        NA        \n",
       "5  1           1             1       1       1           1         1        \n",
       "6 NA          NA            NA      NA      NA          NA        NA        \n",
       "  S_Karitiana_1 S_Ju_hoan_North_1\n",
       "1 NA            NA               \n",
       "2 NA            NA               \n",
       "3  1             0               \n",
       "4 NA            NA               \n",
       "5  1             0               \n",
       "6 NA            NA               "
      ]
     },
     "metadata": {},
     "output_type": "display_data"
    }
   ],
   "source": [
    "derived[out_anc & in_der, ] %>% head"
   ]
  },
  {
   "cell_type": "code",
   "execution_count": 20,
   "metadata": {},
   "outputs": [
    {
     "data": {
      "text/html": [
       "<table>\n",
       "<caption>A tibble: 10 × 17</caption>\n",
       "<thead>\n",
       "\t<tr><th scope=col>spy1</th><th scope=col>chimp</th><th scope=col>a00</th><th scope=col>S_BedouinB_1</th><th scope=col>S_Turkish_1</th><th scope=col>S_French_1</th><th scope=col>S_Burmese_1</th><th scope=col>S_Thai_1</th><th scope=col>S_Finnish_2</th><th scope=col>S_Sardinian_1</th><th scope=col>S_Han_2</th><th scope=col>S_Dai_2</th><th scope=col>S_Punjabi_1</th><th scope=col>S_Saami_2</th><th scope=col>S_Papuan_2</th><th scope=col>S_Karitiana_1</th><th scope=col>S_Ju_hoan_North_1</th></tr>\n",
       "\t<tr><th scope=col>&lt;int&gt;</th><th scope=col>&lt;int&gt;</th><th scope=col>&lt;int&gt;</th><th scope=col>&lt;int&gt;</th><th scope=col>&lt;int&gt;</th><th scope=col>&lt;int&gt;</th><th scope=col>&lt;int&gt;</th><th scope=col>&lt;int&gt;</th><th scope=col>&lt;int&gt;</th><th scope=col>&lt;int&gt;</th><th scope=col>&lt;int&gt;</th><th scope=col>&lt;int&gt;</th><th scope=col>&lt;int&gt;</th><th scope=col>&lt;int&gt;</th><th scope=col>&lt;int&gt;</th><th scope=col>&lt;int&gt;</th><th scope=col>&lt;int&gt;</th></tr>\n",
       "</thead>\n",
       "<tbody>\n",
       "\t<tr><td>0</td><td>0</td><td>0</td><td>1</td><td>1</td><td>1</td><td>1</td><td>1</td><td>1</td><td>1</td><td>1</td><td>1</td><td>1</td><td>1</td><td>1</td><td>1</td><td>0</td></tr>\n",
       "\t<tr><td>0</td><td>0</td><td>0</td><td>1</td><td>1</td><td>1</td><td>1</td><td>1</td><td>1</td><td>1</td><td>1</td><td>1</td><td>1</td><td>1</td><td>1</td><td>1</td><td>0</td></tr>\n",
       "\t<tr><td>1</td><td>0</td><td>0</td><td>1</td><td>1</td><td>1</td><td>1</td><td>1</td><td>1</td><td>1</td><td>1</td><td>1</td><td>1</td><td>1</td><td>1</td><td>1</td><td>0</td></tr>\n",
       "\t<tr><td>0</td><td>0</td><td>0</td><td>1</td><td>1</td><td>1</td><td>1</td><td>1</td><td>1</td><td>1</td><td>1</td><td>1</td><td>1</td><td>1</td><td>1</td><td>1</td><td>0</td></tr>\n",
       "\t<tr><td>0</td><td>0</td><td>0</td><td>1</td><td>1</td><td>1</td><td>1</td><td>1</td><td>1</td><td>1</td><td>1</td><td>1</td><td>1</td><td>1</td><td>1</td><td>1</td><td>0</td></tr>\n",
       "\t<tr><td>0</td><td>0</td><td>0</td><td>1</td><td>1</td><td>1</td><td>1</td><td>1</td><td>1</td><td>1</td><td>1</td><td>1</td><td>1</td><td>1</td><td>1</td><td>1</td><td>0</td></tr>\n",
       "\t<tr><td>0</td><td>0</td><td>0</td><td>1</td><td>1</td><td>1</td><td>1</td><td>1</td><td>1</td><td>1</td><td>1</td><td>1</td><td>1</td><td>1</td><td>1</td><td>1</td><td>0</td></tr>\n",
       "\t<tr><td>0</td><td>0</td><td>0</td><td>1</td><td>1</td><td>1</td><td>1</td><td>1</td><td>1</td><td>1</td><td>1</td><td>1</td><td>1</td><td>1</td><td>1</td><td>1</td><td>0</td></tr>\n",
       "\t<tr><td>0</td><td>0</td><td>0</td><td>1</td><td>1</td><td>1</td><td>1</td><td>1</td><td>1</td><td>1</td><td>1</td><td>1</td><td>1</td><td>1</td><td>1</td><td>1</td><td>0</td></tr>\n",
       "\t<tr><td>0</td><td>0</td><td>0</td><td>1</td><td>1</td><td>1</td><td>1</td><td>1</td><td>1</td><td>1</td><td>1</td><td>1</td><td>1</td><td>1</td><td>1</td><td>1</td><td>0</td></tr>\n",
       "</tbody>\n",
       "</table>\n"
      ],
      "text/latex": [
       "A tibble: 10 × 17\n",
       "\\begin{tabular}{r|lllllllllllllllll}\n",
       " spy1 & chimp & a00 & S\\_BedouinB\\_1 & S\\_Turkish\\_1 & S\\_French\\_1 & S\\_Burmese\\_1 & S\\_Thai\\_1 & S\\_Finnish\\_2 & S\\_Sardinian\\_1 & S\\_Han\\_2 & S\\_Dai\\_2 & S\\_Punjabi\\_1 & S\\_Saami\\_2 & S\\_Papuan\\_2 & S\\_Karitiana\\_1 & S\\_Ju\\_hoan\\_North\\_1\\\\\n",
       " <int> & <int> & <int> & <int> & <int> & <int> & <int> & <int> & <int> & <int> & <int> & <int> & <int> & <int> & <int> & <int> & <int>\\\\\n",
       "\\hline\n",
       "\t 0 & 0 & 0 & 1 & 1 & 1 & 1 & 1 & 1 & 1 & 1 & 1 & 1 & 1 & 1 & 1 & 0\\\\\n",
       "\t 0 & 0 & 0 & 1 & 1 & 1 & 1 & 1 & 1 & 1 & 1 & 1 & 1 & 1 & 1 & 1 & 0\\\\\n",
       "\t 1 & 0 & 0 & 1 & 1 & 1 & 1 & 1 & 1 & 1 & 1 & 1 & 1 & 1 & 1 & 1 & 0\\\\\n",
       "\t 0 & 0 & 0 & 1 & 1 & 1 & 1 & 1 & 1 & 1 & 1 & 1 & 1 & 1 & 1 & 1 & 0\\\\\n",
       "\t 0 & 0 & 0 & 1 & 1 & 1 & 1 & 1 & 1 & 1 & 1 & 1 & 1 & 1 & 1 & 1 & 0\\\\\n",
       "\t 0 & 0 & 0 & 1 & 1 & 1 & 1 & 1 & 1 & 1 & 1 & 1 & 1 & 1 & 1 & 1 & 0\\\\\n",
       "\t 0 & 0 & 0 & 1 & 1 & 1 & 1 & 1 & 1 & 1 & 1 & 1 & 1 & 1 & 1 & 1 & 0\\\\\n",
       "\t 0 & 0 & 0 & 1 & 1 & 1 & 1 & 1 & 1 & 1 & 1 & 1 & 1 & 1 & 1 & 1 & 0\\\\\n",
       "\t 0 & 0 & 0 & 1 & 1 & 1 & 1 & 1 & 1 & 1 & 1 & 1 & 1 & 1 & 1 & 1 & 0\\\\\n",
       "\t 0 & 0 & 0 & 1 & 1 & 1 & 1 & 1 & 1 & 1 & 1 & 1 & 1 & 1 & 1 & 1 & 0\\\\\n",
       "\\end{tabular}\n"
      ],
      "text/markdown": [
       "\n",
       "A tibble: 10 × 17\n",
       "\n",
       "| spy1 &lt;int&gt; | chimp &lt;int&gt; | a00 &lt;int&gt; | S_BedouinB_1 &lt;int&gt; | S_Turkish_1 &lt;int&gt; | S_French_1 &lt;int&gt; | S_Burmese_1 &lt;int&gt; | S_Thai_1 &lt;int&gt; | S_Finnish_2 &lt;int&gt; | S_Sardinian_1 &lt;int&gt; | S_Han_2 &lt;int&gt; | S_Dai_2 &lt;int&gt; | S_Punjabi_1 &lt;int&gt; | S_Saami_2 &lt;int&gt; | S_Papuan_2 &lt;int&gt; | S_Karitiana_1 &lt;int&gt; | S_Ju_hoan_North_1 &lt;int&gt; |\n",
       "|---|---|---|---|---|---|---|---|---|---|---|---|---|---|---|---|---|\n",
       "| 0 | 0 | 0 | 1 | 1 | 1 | 1 | 1 | 1 | 1 | 1 | 1 | 1 | 1 | 1 | 1 | 0 |\n",
       "| 0 | 0 | 0 | 1 | 1 | 1 | 1 | 1 | 1 | 1 | 1 | 1 | 1 | 1 | 1 | 1 | 0 |\n",
       "| 1 | 0 | 0 | 1 | 1 | 1 | 1 | 1 | 1 | 1 | 1 | 1 | 1 | 1 | 1 | 1 | 0 |\n",
       "| 0 | 0 | 0 | 1 | 1 | 1 | 1 | 1 | 1 | 1 | 1 | 1 | 1 | 1 | 1 | 1 | 0 |\n",
       "| 0 | 0 | 0 | 1 | 1 | 1 | 1 | 1 | 1 | 1 | 1 | 1 | 1 | 1 | 1 | 1 | 0 |\n",
       "| 0 | 0 | 0 | 1 | 1 | 1 | 1 | 1 | 1 | 1 | 1 | 1 | 1 | 1 | 1 | 1 | 0 |\n",
       "| 0 | 0 | 0 | 1 | 1 | 1 | 1 | 1 | 1 | 1 | 1 | 1 | 1 | 1 | 1 | 1 | 0 |\n",
       "| 0 | 0 | 0 | 1 | 1 | 1 | 1 | 1 | 1 | 1 | 1 | 1 | 1 | 1 | 1 | 1 | 0 |\n",
       "| 0 | 0 | 0 | 1 | 1 | 1 | 1 | 1 | 1 | 1 | 1 | 1 | 1 | 1 | 1 | 1 | 0 |\n",
       "| 0 | 0 | 0 | 1 | 1 | 1 | 1 | 1 | 1 | 1 | 1 | 1 | 1 | 1 | 1 | 1 | 0 |\n",
       "\n"
      ],
      "text/plain": [
       "   spy1 chimp a00 S_BedouinB_1 S_Turkish_1 S_French_1 S_Burmese_1 S_Thai_1\n",
       "1  0    0     0   1            1           1          1           1       \n",
       "2  0    0     0   1            1           1          1           1       \n",
       "3  1    0     0   1            1           1          1           1       \n",
       "4  0    0     0   1            1           1          1           1       \n",
       "5  0    0     0   1            1           1          1           1       \n",
       "6  0    0     0   1            1           1          1           1       \n",
       "7  0    0     0   1            1           1          1           1       \n",
       "8  0    0     0   1            1           1          1           1       \n",
       "9  0    0     0   1            1           1          1           1       \n",
       "10 0    0     0   1            1           1          1           1       \n",
       "   S_Finnish_2 S_Sardinian_1 S_Han_2 S_Dai_2 S_Punjabi_1 S_Saami_2 S_Papuan_2\n",
       "1  1           1             1       1       1           1         1         \n",
       "2  1           1             1       1       1           1         1         \n",
       "3  1           1             1       1       1           1         1         \n",
       "4  1           1             1       1       1           1         1         \n",
       "5  1           1             1       1       1           1         1         \n",
       "6  1           1             1       1       1           1         1         \n",
       "7  1           1             1       1       1           1         1         \n",
       "8  1           1             1       1       1           1         1         \n",
       "9  1           1             1       1       1           1         1         \n",
       "10 1           1             1       1       1           1         1         \n",
       "   S_Karitiana_1 S_Ju_hoan_North_1\n",
       "1  1             0                \n",
       "2  1             0                \n",
       "3  1             0                \n",
       "4  1             0                \n",
       "5  1             0                \n",
       "6  1             0                \n",
       "7  1             0                \n",
       "8  1             0                \n",
       "9  1             0                \n",
       "10 1             0                "
      ]
     },
     "metadata": {},
     "output_type": "display_data"
    }
   ],
   "source": [
    "derived[out_anc & in_der, ] %>% filter(!is.na(spy1))"
   ]
  },
  {
   "cell_type": "code",
   "execution_count": 15,
   "metadata": {},
   "outputs": [],
   "source": [
    "fixed <- derived[out_anc & in_der, ] %>% select(-one_of(c(outgroup, ingroup)))"
   ]
  },
  {
   "cell_type": "code",
   "execution_count": 16,
   "metadata": {},
   "outputs": [
    {
     "data": {
      "text/html": [
       "1659"
      ],
      "text/latex": [
       "1659"
      ],
      "text/markdown": [
       "1659"
      ],
      "text/plain": [
       "[1] 1659"
      ]
     },
     "metadata": {},
     "output_type": "display_data"
    }
   ],
   "source": [
    "nrow(fixed)"
   ]
  },
  {
   "cell_type": "markdown",
   "metadata": {},
   "source": [
    "Proportion of sites in an aDNA sample carrying the derived allele shared with the <font color=\"red\">red individuals</font>:"
   ]
  },
  {
   "cell_type": "code",
   "execution_count": 17,
   "metadata": {},
   "outputs": [
    {
     "data": {
      "text/html": [
       "<table>\n",
       "<caption>A tibble: 1 × 2</caption>\n",
       "<thead>\n",
       "\t<tr><th scope=col>spy1</th><th scope=col>chimp</th></tr>\n",
       "\t<tr><th scope=col>&lt;dbl&gt;</th><th scope=col>&lt;dbl&gt;</th></tr>\n",
       "</thead>\n",
       "<tbody>\n",
       "\t<tr><td>0.1</td><td>0</td></tr>\n",
       "</tbody>\n",
       "</table>\n"
      ],
      "text/latex": [
       "A tibble: 1 × 2\n",
       "\\begin{tabular}{r|ll}\n",
       " spy1 & chimp\\\\\n",
       " <dbl> & <dbl>\\\\\n",
       "\\hline\n",
       "\t 0.1 & 0\\\\\n",
       "\\end{tabular}\n"
      ],
      "text/markdown": [
       "\n",
       "A tibble: 1 × 2\n",
       "\n",
       "| spy1 &lt;dbl&gt; | chimp &lt;dbl&gt; |\n",
       "|---|---|\n",
       "| 0.1 | 0 |\n",
       "\n"
      ],
      "text/plain": [
       "  spy1 chimp\n",
       "1 0.1  0    "
      ]
     },
     "metadata": {},
     "output_type": "display_data"
    }
   ],
   "source": [
    "fixed %>% summarise_all(mean, na.rm = TRUE)"
   ]
  },
  {
   "cell_type": "code",
   "execution_count": 17,
   "metadata": {},
   "outputs": [
    {
     "data": {
      "text/html": [
       "<table>\n",
       "<caption>A tibble: 1 × 2</caption>\n",
       "<thead>\n",
       "\t<tr><th scope=col>mez2</th><th scope=col>chimp</th></tr>\n",
       "\t<tr><th scope=col>&lt;dbl&gt;</th><th scope=col>&lt;dbl&gt;</th></tr>\n",
       "</thead>\n",
       "<tbody>\n",
       "\t<tr><td>0.05854801</td><td>0</td></tr>\n",
       "</tbody>\n",
       "</table>\n"
      ],
      "text/latex": [
       "A tibble: 1 × 2\n",
       "\\begin{tabular}{r|ll}\n",
       " mez2 & chimp\\\\\n",
       " <dbl> & <dbl>\\\\\n",
       "\\hline\n",
       "\t 0.05854801 & 0\\\\\n",
       "\\end{tabular}\n"
      ],
      "text/markdown": [
       "\n",
       "A tibble: 1 × 2\n",
       "\n",
       "| mez2 &lt;dbl&gt; | chimp &lt;dbl&gt; |\n",
       "|---|---|\n",
       "| 0.05854801 | 0 |\n",
       "\n"
      ],
      "text/plain": [
       "  mez2       chimp\n",
       "1 0.05854801 0    "
      ]
     },
     "metadata": {},
     "output_type": "display_data"
    }
   ],
   "source": [
    "fixed %>% summarise_all(mean, na.rm = TRUE)"
   ]
  },
  {
   "cell_type": "code",
   "execution_count": 17,
   "metadata": {},
   "outputs": [
    {
     "data": {
      "text/html": [
       "<table>\n",
       "<caption>A tibble: 1 × 2</caption>\n",
       "<thead>\n",
       "\t<tr><th scope=col>den8</th><th scope=col>chimp</th></tr>\n",
       "\t<tr><th scope=col>&lt;dbl&gt;</th><th scope=col>&lt;dbl&gt;</th></tr>\n",
       "</thead>\n",
       "<tbody>\n",
       "\t<tr><td>0.09057971</td><td>0</td></tr>\n",
       "</tbody>\n",
       "</table>\n"
      ],
      "text/latex": [
       "A tibble: 1 × 2\n",
       "\\begin{tabular}{r|ll}\n",
       " den8 & chimp\\\\\n",
       " <dbl> & <dbl>\\\\\n",
       "\\hline\n",
       "\t 0.09057971 & 0\\\\\n",
       "\\end{tabular}\n"
      ],
      "text/markdown": [
       "\n",
       "A tibble: 1 × 2\n",
       "\n",
       "| den8 &lt;dbl&gt; | chimp &lt;dbl&gt; |\n",
       "|---|---|\n",
       "| 0.09057971 | 0 |\n",
       "\n"
      ],
      "text/plain": [
       "  den8       chimp\n",
       "1 0.09057971 0    "
      ]
     },
     "metadata": {},
     "output_type": "display_data"
    }
   ],
   "source": [
    "fixed %>% summarise_all(mean, na.rm = TRUE)"
   ]
  },
  {
   "cell_type": "code",
   "execution_count": 16,
   "metadata": {},
   "outputs": [
    {
     "data": {
      "text/html": [
       "<table>\n",
       "<caption>A tibble: 1 × 2</caption>\n",
       "<thead>\n",
       "\t<tr><th scope=col>spy1</th><th scope=col>chimp</th></tr>\n",
       "\t<tr><th scope=col>&lt;dbl&gt;</th><th scope=col>&lt;dbl&gt;</th></tr>\n",
       "</thead>\n",
       "<tbody>\n",
       "\t<tr><td>0.1764706</td><td>0</td></tr>\n",
       "</tbody>\n",
       "</table>\n"
      ],
      "text/latex": [
       "A tibble: 1 × 2\n",
       "\\begin{tabular}{r|ll}\n",
       " spy1 & chimp\\\\\n",
       " <dbl> & <dbl>\\\\\n",
       "\\hline\n",
       "\t 0.1764706 & 0\\\\\n",
       "\\end{tabular}\n"
      ],
      "text/markdown": [
       "\n",
       "A tibble: 1 × 2\n",
       "\n",
       "| spy1 &lt;dbl&gt; | chimp &lt;dbl&gt; |\n",
       "|---|---|\n",
       "| 0.1764706 | 0 |\n",
       "\n"
      ],
      "text/plain": [
       "  spy1      chimp\n",
       "1 0.1764706 0    "
      ]
     },
     "metadata": {},
     "output_type": "display_data"
    }
   ],
   "source": [
    "fixed %>% summarise_all(mean, na.rm = TRUE)"
   ]
  },
  {
   "cell_type": "code",
   "execution_count": 22,
   "metadata": {},
   "outputs": [
    {
     "data": {
      "text/html": [
       "<table>\n",
       "<thead><tr><th scope=col>chimp</th><th scope=col>spy1</th><th scope=col>mez2</th><th scope=col>neand</th><th scope=col>den8</th><th scope=col>ustishim</th><th scope=col>kk1</th><th scope=col>mota</th><th scope=col>bichon</th><th scope=col>loschbour</th></tr></thead>\n",
       "<tbody>\n",
       "\t<tr><td>0</td><td>0</td><td>0</td><td>0</td><td>0</td><td>1</td><td>1</td><td>0</td><td>1</td><td>1</td></tr>\n",
       "</tbody>\n",
       "</table>\n"
      ],
      "text/latex": [
       "\\begin{tabular}{r|llllllllll}\n",
       " chimp & spy1 & mez2 & neand & den8 & ustishim & kk1 & mota & bichon & loschbour\\\\\n",
       "\\hline\n",
       "\t 0 & 0 & 0 & 0 & 0 & 1 & 1 & 0 & 1 & 1\\\\\n",
       "\\end{tabular}\n"
      ],
      "text/markdown": [
       "\n",
       "| chimp | spy1 | mez2 | neand | den8 | ustishim | kk1 | mota | bichon | loschbour |\n",
       "|---|---|---|---|---|---|---|---|---|---|\n",
       "| 0 | 0 | 0 | 0 | 0 | 1 | 1 | 0 | 1 | 1 |\n",
       "\n"
      ],
      "text/plain": [
       "  chimp spy1 mez2 neand den8 ustishim kk1 mota bichon loschbour\n",
       "1 0     0    0    0     0    1        1   0    1      1        "
      ]
     },
     "metadata": {},
     "output_type": "display_data"
    }
   ],
   "source": [
    "fixed %>% summarise_all(mean, na.rm = TRUE)"
   ]
  },
  {
   "cell_type": "markdown",
   "metadata": {},
   "source": [
    "Total number of such informative sites:"
   ]
  },
  {
   "cell_type": "code",
   "execution_count": 23,
   "metadata": {},
   "outputs": [
    {
     "data": {
      "text/html": [
       "<table>\n",
       "<thead><tr><th scope=col>chimp</th><th scope=col>spy1</th><th scope=col>mez2</th><th scope=col>neand</th><th scope=col>den8</th><th scope=col>ustishim</th><th scope=col>kk1</th><th scope=col>mota</th><th scope=col>bichon</th><th scope=col>loschbour</th></tr></thead>\n",
       "<tbody>\n",
       "\t<tr><td>51</td><td>2 </td><td>10</td><td>13</td><td>16</td><td>45</td><td>48</td><td>35</td><td>38</td><td>48</td></tr>\n",
       "</tbody>\n",
       "</table>\n"
      ],
      "text/latex": [
       "\\begin{tabular}{r|llllllllll}\n",
       " chimp & spy1 & mez2 & neand & den8 & ustishim & kk1 & mota & bichon & loschbour\\\\\n",
       "\\hline\n",
       "\t 51 & 2  & 10 & 13 & 16 & 45 & 48 & 35 & 38 & 48\\\\\n",
       "\\end{tabular}\n"
      ],
      "text/markdown": [
       "\n",
       "| chimp | spy1 | mez2 | neand | den8 | ustishim | kk1 | mota | bichon | loschbour |\n",
       "|---|---|---|---|---|---|---|---|---|---|\n",
       "| 51 | 2  | 10 | 13 | 16 | 45 | 48 | 35 | 38 | 48 |\n",
       "\n"
      ],
      "text/plain": [
       "  chimp spy1 mez2 neand den8 ustishim kk1 mota bichon loschbour\n",
       "1 51    2    10   13    16   45       48  35   38     48       "
      ]
     },
     "metadata": {},
     "output_type": "display_data"
    }
   ],
   "source": [
    "fixed %>% summarise_all(~sum(!is.na(.x)))"
   ]
  },
  {
   "cell_type": "markdown",
   "metadata": {},
   "source": [
    "## Count MH contaminant SNPs using fixed A00&San ancestral vs derived non-A00&San sites"
   ]
  },
  {
   "cell_type": "code",
   "execution_count": 24,
   "metadata": {},
   "outputs": [
    {
     "data": {
      "text/html": [
       "<ol class=list-inline>\n",
       "\t<li>'a00'</li>\n",
       "\t<li>'S_Ju_hoan_North_1'</li>\n",
       "</ol>\n"
      ],
      "text/latex": [
       "\\begin{enumerate*}\n",
       "\\item 'a00'\n",
       "\\item 'S\\_Ju\\_hoan\\_North\\_1'\n",
       "\\end{enumerate*}\n"
      ],
      "text/markdown": [
       "1. 'a00'\n",
       "2. 'S_Ju_hoan_North_1'\n",
       "\n",
       "\n"
      ],
      "text/plain": [
       "[1] \"a00\"               \"S_Ju_hoan_North_1\""
      ]
     },
     "metadata": {},
     "output_type": "display_data"
    },
    {
     "data": {
      "text/html": [
       "<ol class=list-inline>\n",
       "\t<li>'S_BedouinB_1'</li>\n",
       "\t<li>'S_Turkish_1'</li>\n",
       "\t<li>'S_French_1'</li>\n",
       "\t<li>'S_Burmese_1'</li>\n",
       "\t<li>'S_Thai_1'</li>\n",
       "\t<li>'S_Finnish_2'</li>\n",
       "\t<li>'S_Sardinian_1'</li>\n",
       "\t<li>'S_Han_2'</li>\n",
       "\t<li>'S_Dai_2'</li>\n",
       "\t<li>'S_Punjabi_1'</li>\n",
       "\t<li>'S_Saami_2'</li>\n",
       "\t<li>'S_Papuan_2'</li>\n",
       "\t<li>'S_Karitiana_1'</li>\n",
       "\t<li>'S_Dinka_1'</li>\n",
       "\t<li>'S_Mbuti_1'</li>\n",
       "\t<li>'S_Yoruba_2'</li>\n",
       "\t<li>'S_Gambian_1'</li>\n",
       "\t<li>'S_Mandenka_1'</li>\n",
       "</ol>\n"
      ],
      "text/latex": [
       "\\begin{enumerate*}\n",
       "\\item 'S\\_BedouinB\\_1'\n",
       "\\item 'S\\_Turkish\\_1'\n",
       "\\item 'S\\_French\\_1'\n",
       "\\item 'S\\_Burmese\\_1'\n",
       "\\item 'S\\_Thai\\_1'\n",
       "\\item 'S\\_Finnish\\_2'\n",
       "\\item 'S\\_Sardinian\\_1'\n",
       "\\item 'S\\_Han\\_2'\n",
       "\\item 'S\\_Dai\\_2'\n",
       "\\item 'S\\_Punjabi\\_1'\n",
       "\\item 'S\\_Saami\\_2'\n",
       "\\item 'S\\_Papuan\\_2'\n",
       "\\item 'S\\_Karitiana\\_1'\n",
       "\\item 'S\\_Dinka\\_1'\n",
       "\\item 'S\\_Mbuti\\_1'\n",
       "\\item 'S\\_Yoruba\\_2'\n",
       "\\item 'S\\_Gambian\\_1'\n",
       "\\item 'S\\_Mandenka\\_1'\n",
       "\\end{enumerate*}\n"
      ],
      "text/markdown": [
       "1. 'S_BedouinB_1'\n",
       "2. 'S_Turkish_1'\n",
       "3. 'S_French_1'\n",
       "4. 'S_Burmese_1'\n",
       "5. 'S_Thai_1'\n",
       "6. 'S_Finnish_2'\n",
       "7. 'S_Sardinian_1'\n",
       "8. 'S_Han_2'\n",
       "9. 'S_Dai_2'\n",
       "10. 'S_Punjabi_1'\n",
       "11. 'S_Saami_2'\n",
       "12. 'S_Papuan_2'\n",
       "13. 'S_Karitiana_1'\n",
       "14. 'S_Dinka_1'\n",
       "15. 'S_Mbuti_1'\n",
       "16. 'S_Yoruba_2'\n",
       "17. 'S_Gambian_1'\n",
       "18. 'S_Mandenka_1'\n",
       "\n",
       "\n"
      ],
      "text/plain": [
       " [1] \"S_BedouinB_1\"  \"S_Turkish_1\"   \"S_French_1\"    \"S_Burmese_1\"  \n",
       " [5] \"S_Thai_1\"      \"S_Finnish_2\"   \"S_Sardinian_1\" \"S_Han_2\"      \n",
       " [9] \"S_Dai_2\"       \"S_Punjabi_1\"   \"S_Saami_2\"     \"S_Papuan_2\"   \n",
       "[13] \"S_Karitiana_1\" \"S_Dinka_1\"     \"S_Mbuti_1\"     \"S_Yoruba_2\"   \n",
       "[17] \"S_Gambian_1\"   \"S_Mandenka_1\" "
      ]
     },
     "metadata": {},
     "output_type": "display_data"
    }
   ],
   "source": [
    "(outgroup <- c(\"a00\", \"S_Ju_hoan_North_1\"))\n",
    "(ingroup <- filter(pops, !pop %in% c(\"EMH\", \"reference\"), !name %in% c(\"a00\", \"S_Ju_hoan_North_1\"))$name)"
   ]
  },
  {
   "cell_type": "code",
   "execution_count": 25,
   "metadata": {},
   "outputs": [
    {
     "data": {
      "image/png": "[encoded data removed]",
      "text/plain": [
       "Plot with title “Red - derived, blue - ancestral”"
      ]
     },
     "metadata": {},
     "output_type": "display_data"
    }
   ],
   "source": [
    "set_dim(6, 5, 300)\n",
    "\n",
    "cols <- map_chr(rooted_tree$tip.label, ~ ifelse(.x %in% ingroup, \"red\", \"blue\"))\n",
    "\n",
    "plot(rooted_tree, use.edge.length = FALSE, tip.color = cols, cex = 0.5)\n",
    "title(\"Red - derived, blue - ancestral\")"
   ]
  },
  {
   "cell_type": "code",
   "execution_count": 26,
   "metadata": {},
   "outputs": [],
   "source": [
    "out_anc <- (rowMeans(derived[, outgroup]) == 0)\n",
    "in_der <- (rowMeans(derived[, ingroup]) == 1)"
   ]
  },
  {
   "cell_type": "code",
   "execution_count": 27,
   "metadata": {},
   "outputs": [],
   "source": [
    "fixed <- derived[out_anc & in_der, ] %>% select(-one_of(filter(pops, pop %in% c(\"Africa\", \"WestEur\", \"EastEur\"))$name))"
   ]
  },
  {
   "cell_type": "markdown",
   "metadata": {},
   "source": [
    "# dp >= 3"
   ]
  },
  {
   "cell_type": "markdown",
   "metadata": {},
   "source": [
    "Proportion of sites in an aDNA sample carrying the derived allele shared with the <font color=\"red\">red individuals</font>:"
   ]
  },
  {
   "cell_type": "code",
   "execution_count": 28,
   "metadata": {},
   "outputs": [
    {
     "data": {
      "text/html": [
       "<table>\n",
       "<thead><tr><th scope=col>chimp</th><th scope=col>spy1</th><th scope=col>mez2</th><th scope=col>neand</th><th scope=col>den8</th><th scope=col>ustishim</th><th scope=col>kk1</th><th scope=col>mota</th><th scope=col>bichon</th><th scope=col>loschbour</th></tr></thead>\n",
       "<tbody>\n",
       "\t<tr><td>0         </td><td>0.2       </td><td>0         </td><td>0.05555556</td><td>0         </td><td>1         </td><td>1         </td><td>1         </td><td>1         </td><td>1         </td></tr>\n",
       "</tbody>\n",
       "</table>\n"
      ],
      "text/latex": [
       "\\begin{tabular}{r|llllllllll}\n",
       " chimp & spy1 & mez2 & neand & den8 & ustishim & kk1 & mota & bichon & loschbour\\\\\n",
       "\\hline\n",
       "\t 0          & 0.2        & 0          & 0.05555556 & 0          & 1          & 1          & 1          & 1          & 1         \\\\\n",
       "\\end{tabular}\n"
      ],
      "text/markdown": [
       "\n",
       "| chimp | spy1 | mez2 | neand | den8 | ustishim | kk1 | mota | bichon | loschbour |\n",
       "|---|---|---|---|---|---|---|---|---|---|\n",
       "| 0          | 0.2        | 0          | 0.05555556 | 0          | 1          | 1          | 1          | 1          | 1          |\n",
       "\n"
      ],
      "text/plain": [
       "  chimp spy1 mez2 neand      den8 ustishim kk1 mota bichon loschbour\n",
       "1 0     0.2  0    0.05555556 0    1        1   1    1      1        "
      ]
     },
     "metadata": {},
     "output_type": "display_data"
    }
   ],
   "source": [
    "fixed %>% summarise_all(mean, na.rm = TRUE)"
   ]
  },
  {
   "cell_type": "markdown",
   "metadata": {},
   "source": [
    "Total number of such informative sites:"
   ]
  },
  {
   "cell_type": "code",
   "execution_count": 30,
   "metadata": {},
   "outputs": [
    {
     "data": {
      "text/html": [
       "<table>\n",
       "<thead><tr><th scope=col>chimp</th><th scope=col>spy1</th><th scope=col>mez2</th><th scope=col>neand</th><th scope=col>den8</th><th scope=col>ustishim</th><th scope=col>kk1</th><th scope=col>mota</th><th scope=col>bichon</th><th scope=col>loschbour</th></tr></thead>\n",
       "<tbody>\n",
       "\t<tr><td>90</td><td>5 </td><td>10</td><td>18</td><td>38</td><td>85</td><td>72</td><td>78</td><td>67</td><td>86</td></tr>\n",
       "</tbody>\n",
       "</table>\n"
      ],
      "text/latex": [
       "\\begin{tabular}{r|llllllllll}\n",
       " chimp & spy1 & mez2 & neand & den8 & ustishim & kk1 & mota & bichon & loschbour\\\\\n",
       "\\hline\n",
       "\t 90 & 5  & 10 & 18 & 38 & 85 & 72 & 78 & 67 & 86\\\\\n",
       "\\end{tabular}\n"
      ],
      "text/markdown": [
       "\n",
       "| chimp | spy1 | mez2 | neand | den8 | ustishim | kk1 | mota | bichon | loschbour |\n",
       "|---|---|---|---|---|---|---|---|---|---|\n",
       "| 90 | 5  | 10 | 18 | 38 | 85 | 72 | 78 | 67 | 86 |\n",
       "\n"
      ],
      "text/plain": [
       "  chimp spy1 mez2 neand den8 ustishim kk1 mota bichon loschbour\n",
       "1 90    5    10   18    38   85       72  78   67     86       "
      ]
     },
     "metadata": {},
     "output_type": "display_data"
    }
   ],
   "source": [
    "fixed %>% summarise_all(~sum(!is.na(.x)))"
   ]
  },
  {
   "cell_type": "markdown",
   "metadata": {},
   "source": [
    "# dp >= 4"
   ]
  },
  {
   "cell_type": "code",
   "execution_count": 29,
   "metadata": {},
   "outputs": [
    {
     "data": {
      "text/html": [
       "<table>\n",
       "<thead><tr><th scope=col>chimp</th><th scope=col>spy1</th><th scope=col>mez2</th><th scope=col>neand</th><th scope=col>den8</th><th scope=col>ustishim</th><th scope=col>kk1</th><th scope=col>mota</th><th scope=col>bichon</th><th scope=col>loschbour</th></tr></thead>\n",
       "<tbody>\n",
       "\t<tr><td>0</td><td>0</td><td>0</td><td>0</td><td>0</td><td>1</td><td>1</td><td>1</td><td>1</td><td>1</td></tr>\n",
       "</tbody>\n",
       "</table>\n"
      ],
      "text/latex": [
       "\\begin{tabular}{r|llllllllll}\n",
       " chimp & spy1 & mez2 & neand & den8 & ustishim & kk1 & mota & bichon & loschbour\\\\\n",
       "\\hline\n",
       "\t 0 & 0 & 0 & 0 & 0 & 1 & 1 & 1 & 1 & 1\\\\\n",
       "\\end{tabular}\n"
      ],
      "text/markdown": [
       "\n",
       "| chimp | spy1 | mez2 | neand | den8 | ustishim | kk1 | mota | bichon | loschbour |\n",
       "|---|---|---|---|---|---|---|---|---|---|\n",
       "| 0 | 0 | 0 | 0 | 0 | 1 | 1 | 1 | 1 | 1 |\n",
       "\n"
      ],
      "text/plain": [
       "  chimp spy1 mez2 neand den8 ustishim kk1 mota bichon loschbour\n",
       "1 0     0    0    0     0    1        1   1    1      1        "
      ]
     },
     "metadata": {},
     "output_type": "display_data"
    }
   ],
   "source": [
    "fixed %>% summarise_all(mean, na.rm = TRUE)"
   ]
  },
  {
   "cell_type": "markdown",
   "metadata": {},
   "source": [
    "Total number of such informative sites:"
   ]
  },
  {
   "cell_type": "code",
   "execution_count": 30,
   "metadata": {},
   "outputs": [
    {
     "data": {
      "text/html": [
       "<table>\n",
       "<thead><tr><th scope=col>chimp</th><th scope=col>spy1</th><th scope=col>mez2</th><th scope=col>neand</th><th scope=col>den8</th><th scope=col>ustishim</th><th scope=col>kk1</th><th scope=col>mota</th><th scope=col>bichon</th><th scope=col>loschbour</th></tr></thead>\n",
       "<tbody>\n",
       "\t<tr><td>121</td><td>1  </td><td>7  </td><td>12 </td><td>30 </td><td>117</td><td>90 </td><td>102</td><td>67 </td><td>115</td></tr>\n",
       "</tbody>\n",
       "</table>\n"
      ],
      "text/latex": [
       "\\begin{tabular}{r|llllllllll}\n",
       " chimp & spy1 & mez2 & neand & den8 & ustishim & kk1 & mota & bichon & loschbour\\\\\n",
       "\\hline\n",
       "\t 121 & 1   & 7   & 12  & 30  & 117 & 90  & 102 & 67  & 115\\\\\n",
       "\\end{tabular}\n"
      ],
      "text/markdown": [
       "\n",
       "| chimp | spy1 | mez2 | neand | den8 | ustishim | kk1 | mota | bichon | loschbour |\n",
       "|---|---|---|---|---|---|---|---|---|---|\n",
       "| 121 | 1   | 7   | 12  | 30  | 117 | 90  | 102 | 67  | 115 |\n",
       "\n"
      ],
      "text/plain": [
       "  chimp spy1 mez2 neand den8 ustishim kk1 mota bichon loschbour\n",
       "1 121   1    7    12    30   117      90  102  67     115      "
      ]
     },
     "metadata": {},
     "output_type": "display_data"
    }
   ],
   "source": [
    "fixed %>% summarise_all(~sum(!is.na(.x)))"
   ]
  },
  {
   "cell_type": "markdown",
   "metadata": {},
   "source": [
    "# Read-based contamination estimate"
   ]
  },
  {
   "cell_type": "code",
   "execution_count": 164,
   "metadata": {},
   "outputs": [],
   "source": [
    "p <- read_tsv(\"../data/pileup//full_spy1.txt.gz\", col_types = \"cicciiii\")"
   ]
  },
  {
   "cell_type": "code",
   "execution_count": 165,
   "metadata": {},
   "outputs": [
    {
     "data": {
      "text/html": [
       "<table>\n",
       "<thead><tr><th scope=col>chrom</th><th scope=col>pos</th><th scope=col>ref</th><th scope=col>pileup</th><th scope=col>A</th><th scope=col>C</th><th scope=col>G</th><th scope=col>T</th></tr></thead>\n",
       "<tbody>\n",
       "\t<tr><td>Y      </td><td>2649852</td><td>A      </td><td>A      </td><td>1      </td><td>0      </td><td>0      </td><td>0      </td></tr>\n",
       "\t<tr><td>Y      </td><td>2649853</td><td>T      </td><td>T      </td><td>0      </td><td>0      </td><td>0      </td><td>1      </td></tr>\n",
       "\t<tr><td>Y      </td><td>2649854</td><td>G      </td><td>G      </td><td>0      </td><td>0      </td><td>1      </td><td>0      </td></tr>\n",
       "\t<tr><td>Y      </td><td>2649855</td><td>G      </td><td>G      </td><td>0      </td><td>0      </td><td>1      </td><td>0      </td></tr>\n",
       "\t<tr><td>Y      </td><td>2649856</td><td>G      </td><td>G      </td><td>0      </td><td>0      </td><td>1      </td><td>0      </td></tr>\n",
       "\t<tr><td>Y      </td><td>2649857</td><td>C      </td><td>C      </td><td>0      </td><td>1      </td><td>0      </td><td>0      </td></tr>\n",
       "</tbody>\n",
       "</table>\n"
      ],
      "text/latex": [
       "\\begin{tabular}{r|llllllll}\n",
       " chrom & pos & ref & pileup & A & C & G & T\\\\\n",
       "\\hline\n",
       "\t Y       & 2649852 & A       & A       & 1       & 0       & 0       & 0      \\\\\n",
       "\t Y       & 2649853 & T       & T       & 0       & 0       & 0       & 1      \\\\\n",
       "\t Y       & 2649854 & G       & G       & 0       & 0       & 1       & 0      \\\\\n",
       "\t Y       & 2649855 & G       & G       & 0       & 0       & 1       & 0      \\\\\n",
       "\t Y       & 2649856 & G       & G       & 0       & 0       & 1       & 0      \\\\\n",
       "\t Y       & 2649857 & C       & C       & 0       & 1       & 0       & 0      \\\\\n",
       "\\end{tabular}\n"
      ],
      "text/markdown": [
       "\n",
       "| chrom | pos | ref | pileup | A | C | G | T |\n",
       "|---|---|---|---|---|---|---|---|\n",
       "| Y       | 2649852 | A       | A       | 1       | 0       | 0       | 0       |\n",
       "| Y       | 2649853 | T       | T       | 0       | 0       | 0       | 1       |\n",
       "| Y       | 2649854 | G       | G       | 0       | 0       | 1       | 0       |\n",
       "| Y       | 2649855 | G       | G       | 0       | 0       | 1       | 0       |\n",
       "| Y       | 2649856 | G       | G       | 0       | 0       | 1       | 0       |\n",
       "| Y       | 2649857 | C       | C       | 0       | 1       | 0       | 0       |\n",
       "\n"
      ],
      "text/plain": [
       "  chrom pos     ref pileup A C G T\n",
       "1 Y     2649852 A   A      1 0 0 0\n",
       "2 Y     2649853 T   T      0 0 0 1\n",
       "3 Y     2649854 G   G      0 0 1 0\n",
       "4 Y     2649855 G   G      0 0 1 0\n",
       "5 Y     2649856 G   G      0 0 1 0\n",
       "6 Y     2649857 C   C      0 1 0 0"
      ]
     },
     "metadata": {},
     "output_type": "display_data"
    }
   ],
   "source": [
    "head(p)"
   ]
  },
  {
   "cell_type": "code",
   "execution_count": 166,
   "metadata": {},
   "outputs": [
    {
     "data": {
      "text/plain": [
       "   Min. 1st Qu.  Median    Mean 3rd Qu.    Max. \n",
       "0.03448 0.04000 0.04167 0.08716 0.04762 0.96296 "
      ]
     },
     "metadata": {},
     "output_type": "display_data"
    }
   ],
   "source": [
    "select(gt, -chimp) %>% rowMeans(na.rm=T) %>% summary"
   ]
  },
  {
   "cell_type": "code",
   "execution_count": 167,
   "metadata": {},
   "outputs": [
    {
     "data": {
      "text/html": [
       "<ol class=list-inline>\n",
       "\t<li>'a00'</li>\n",
       "\t<li>'S_Ju_hoan_North_1'</li>\n",
       "</ol>\n"
      ],
      "text/latex": [
       "\\begin{enumerate*}\n",
       "\\item 'a00'\n",
       "\\item 'S\\_Ju\\_hoan\\_North\\_1'\n",
       "\\end{enumerate*}\n"
      ],
      "text/markdown": [
       "1. 'a00'\n",
       "2. 'S_Ju_hoan_North_1'\n",
       "\n",
       "\n"
      ],
      "text/plain": [
       "[1] \"a00\"               \"S_Ju_hoan_North_1\""
      ]
     },
     "metadata": {},
     "output_type": "display_data"
    },
    {
     "data": {
      "text/html": [
       "<ol class=list-inline>\n",
       "\t<li>'S_BedouinB_1'</li>\n",
       "\t<li>'S_Turkish_1'</li>\n",
       "\t<li>'S_French_1'</li>\n",
       "\t<li>'S_Burmese_1'</li>\n",
       "\t<li>'S_Thai_1'</li>\n",
       "\t<li>'S_Finnish_2'</li>\n",
       "\t<li>'S_Sardinian_1'</li>\n",
       "\t<li>'S_Han_2'</li>\n",
       "\t<li>'S_Dai_2'</li>\n",
       "\t<li>'S_Punjabi_1'</li>\n",
       "\t<li>'S_Saami_2'</li>\n",
       "\t<li>'S_Papuan_2'</li>\n",
       "\t<li>'S_Karitiana_1'</li>\n",
       "\t<li>'S_Dinka_1'</li>\n",
       "\t<li>'S_Mbuti_1'</li>\n",
       "\t<li>'S_Yoruba_2'</li>\n",
       "\t<li>'S_Gambian_1'</li>\n",
       "\t<li>'S_Mandenka_1'</li>\n",
       "</ol>\n"
      ],
      "text/latex": [
       "\\begin{enumerate*}\n",
       "\\item 'S\\_BedouinB\\_1'\n",
       "\\item 'S\\_Turkish\\_1'\n",
       "\\item 'S\\_French\\_1'\n",
       "\\item 'S\\_Burmese\\_1'\n",
       "\\item 'S\\_Thai\\_1'\n",
       "\\item 'S\\_Finnish\\_2'\n",
       "\\item 'S\\_Sardinian\\_1'\n",
       "\\item 'S\\_Han\\_2'\n",
       "\\item 'S\\_Dai\\_2'\n",
       "\\item 'S\\_Punjabi\\_1'\n",
       "\\item 'S\\_Saami\\_2'\n",
       "\\item 'S\\_Papuan\\_2'\n",
       "\\item 'S\\_Karitiana\\_1'\n",
       "\\item 'S\\_Dinka\\_1'\n",
       "\\item 'S\\_Mbuti\\_1'\n",
       "\\item 'S\\_Yoruba\\_2'\n",
       "\\item 'S\\_Gambian\\_1'\n",
       "\\item 'S\\_Mandenka\\_1'\n",
       "\\end{enumerate*}\n"
      ],
      "text/markdown": [
       "1. 'S_BedouinB_1'\n",
       "2. 'S_Turkish_1'\n",
       "3. 'S_French_1'\n",
       "4. 'S_Burmese_1'\n",
       "5. 'S_Thai_1'\n",
       "6. 'S_Finnish_2'\n",
       "7. 'S_Sardinian_1'\n",
       "8. 'S_Han_2'\n",
       "9. 'S_Dai_2'\n",
       "10. 'S_Punjabi_1'\n",
       "11. 'S_Saami_2'\n",
       "12. 'S_Papuan_2'\n",
       "13. 'S_Karitiana_1'\n",
       "14. 'S_Dinka_1'\n",
       "15. 'S_Mbuti_1'\n",
       "16. 'S_Yoruba_2'\n",
       "17. 'S_Gambian_1'\n",
       "18. 'S_Mandenka_1'\n",
       "\n",
       "\n"
      ],
      "text/plain": [
       " [1] \"S_BedouinB_1\"  \"S_Turkish_1\"   \"S_French_1\"    \"S_Burmese_1\"  \n",
       " [5] \"S_Thai_1\"      \"S_Finnish_2\"   \"S_Sardinian_1\" \"S_Han_2\"      \n",
       " [9] \"S_Dai_2\"       \"S_Punjabi_1\"   \"S_Saami_2\"     \"S_Papuan_2\"   \n",
       "[13] \"S_Karitiana_1\" \"S_Dinka_1\"     \"S_Mbuti_1\"     \"S_Yoruba_2\"   \n",
       "[17] \"S_Gambian_1\"   \"S_Mandenka_1\" "
      ]
     },
     "metadata": {},
     "output_type": "display_data"
    }
   ],
   "source": [
    "(outgroup <- c(\"a00\", \"S_Ju_hoan_North_1\"))\n",
    "(ingroup <- filter(pops, !pop %in% c(\"EMH\", \"reference\"), !name %in% c(\"a00\", \"S_Ju_hoan_North_1\"))$name)"
   ]
  },
  {
   "cell_type": "code",
   "execution_count": 168,
   "metadata": {},
   "outputs": [],
   "source": [
    "out_anc <- (rowMeans(derived[, outgroup]) == 0)\n",
    "in_der <- (rowMeans(derived[, ingroup]) == 1)"
   ]
  },
  {
   "cell_type": "code",
   "execution_count": 169,
   "metadata": {},
   "outputs": [],
   "source": [
    "genotypes <-  vcf[out_anc & in_der, ] %>% filter(!is.na(pos)) %>% select(-one_of(c(ingroup)))"
   ]
  },
  {
   "cell_type": "code",
   "execution_count": 170,
   "metadata": {},
   "outputs": [],
   "source": [
    "df <- inner_join(genotypes, p, by = c(\"chrom\", \"pos\", \"REF\" = \"ref\"))"
   ]
  },
  {
   "cell_type": "code",
   "execution_count": 173,
   "metadata": {},
   "outputs": [
    {
     "data": {
      "text/html": [
       "53"
      ],
      "text/latex": [
       "53"
      ],
      "text/markdown": [
       "53"
      ],
      "text/plain": [
       "[1] 53"
      ]
     },
     "metadata": {},
     "output_type": "display_data"
    }
   ],
   "source": [
    "nrow(df)"
   ]
  },
  {
   "cell_type": "code",
   "execution_count": 171,
   "metadata": {},
   "outputs": [
    {
     "data": {
      "text/html": [
       "<table>\n",
       "<thead><tr><th scope=col>chrom</th><th scope=col>pos</th><th scope=col>REF</th><th scope=col>ALT</th><th scope=col>chimp</th><th scope=col>spy1</th><th scope=col>mez2</th><th scope=col>neand</th><th scope=col>den8</th><th scope=col>S_Ju_hoan_North_1</th><th scope=col>⋯</th><th scope=col>kk1</th><th scope=col>mota</th><th scope=col>bichon</th><th scope=col>loschbour</th><th scope=col>reference</th><th scope=col>pileup</th><th scope=col>A</th><th scope=col>C</th><th scope=col>G</th><th scope=col>T</th></tr></thead>\n",
       "<tbody>\n",
       "\t<tr><td>Y      </td><td>2744386</td><td>T      </td><td>G      </td><td>1      </td><td>NA     </td><td>NA     </td><td>NA     </td><td>NA     </td><td>1      </td><td>⋯      </td><td>NA     </td><td>0      </td><td>NA     </td><td>0      </td><td>0      </td><td>G      </td><td>0      </td><td>0      </td><td>1      </td><td>0      </td></tr>\n",
       "\t<tr><td>Y      </td><td>6864267</td><td>G      </td><td>A      </td><td>1      </td><td>NA     </td><td>NA     </td><td>NA     </td><td>NA     </td><td>1      </td><td>⋯      </td><td> 0     </td><td>0      </td><td> 0     </td><td>0      </td><td>0      </td><td>A      </td><td>1      </td><td>0      </td><td>0      </td><td>0      </td></tr>\n",
       "\t<tr><td>Y      </td><td>6991000</td><td>A      </td><td>C      </td><td>1      </td><td>NA     </td><td>NA     </td><td>NA     </td><td> 1     </td><td>1      </td><td>⋯      </td><td> 0     </td><td>0      </td><td> 0     </td><td>0      </td><td>0      </td><td>T      </td><td>0      </td><td>0      </td><td>0      </td><td>1      </td></tr>\n",
       "\t<tr><td>Y      </td><td>7153375</td><td>T      </td><td>C      </td><td>1      </td><td>NA     </td><td>NA     </td><td>NA     </td><td>NA     </td><td>1      </td><td>⋯      </td><td>NA     </td><td>0      </td><td> 0     </td><td>0      </td><td>0      </td><td>CC     </td><td>0      </td><td>2      </td><td>0      </td><td>0      </td></tr>\n",
       "\t<tr><td>Y      </td><td>7256433</td><td>T      </td><td>A      </td><td>1      </td><td>NA     </td><td>NA     </td><td>NA     </td><td>NA     </td><td>1      </td><td>⋯      </td><td>NA     </td><td>0      </td><td>NA     </td><td>0      </td><td>0      </td><td>A      </td><td>1      </td><td>0      </td><td>0      </td><td>0      </td></tr>\n",
       "\t<tr><td>Y      </td><td>7740081</td><td>A      </td><td>G      </td><td>1      </td><td>NA     </td><td>NA     </td><td>NA     </td><td>NA     </td><td>1      </td><td>⋯      </td><td> 0     </td><td>0      </td><td> 0     </td><td>0      </td><td>0      </td><td>AG     </td><td>1      </td><td>0      </td><td>1      </td><td>0      </td></tr>\n",
       "</tbody>\n",
       "</table>\n"
      ],
      "text/latex": [
       "\\begin{tabular}{r|llllllllllllllllllllll}\n",
       " chrom & pos & REF & ALT & chimp & spy1 & mez2 & neand & den8 & S\\_Ju\\_hoan\\_North\\_1 & ⋯ & kk1 & mota & bichon & loschbour & reference & pileup & A & C & G & T\\\\\n",
       "\\hline\n",
       "\t Y       & 2744386 & T       & G       & 1       & NA      & NA      & NA      & NA      & 1       & ⋯       & NA      & 0       & NA      & 0       & 0       & G       & 0       & 0       & 1       & 0      \\\\\n",
       "\t Y       & 6864267 & G       & A       & 1       & NA      & NA      & NA      & NA      & 1       & ⋯       &  0      & 0       &  0      & 0       & 0       & A       & 1       & 0       & 0       & 0      \\\\\n",
       "\t Y       & 6991000 & A       & C       & 1       & NA      & NA      & NA      &  1      & 1       & ⋯       &  0      & 0       &  0      & 0       & 0       & T       & 0       & 0       & 0       & 1      \\\\\n",
       "\t Y       & 7153375 & T       & C       & 1       & NA      & NA      & NA      & NA      & 1       & ⋯       & NA      & 0       &  0      & 0       & 0       & CC      & 0       & 2       & 0       & 0      \\\\\n",
       "\t Y       & 7256433 & T       & A       & 1       & NA      & NA      & NA      & NA      & 1       & ⋯       & NA      & 0       & NA      & 0       & 0       & A       & 1       & 0       & 0       & 0      \\\\\n",
       "\t Y       & 7740081 & A       & G       & 1       & NA      & NA      & NA      & NA      & 1       & ⋯       &  0      & 0       &  0      & 0       & 0       & AG      & 1       & 0       & 1       & 0      \\\\\n",
       "\\end{tabular}\n"
      ],
      "text/markdown": [
       "\n",
       "| chrom | pos | REF | ALT | chimp | spy1 | mez2 | neand | den8 | S_Ju_hoan_North_1 | ⋯ | kk1 | mota | bichon | loschbour | reference | pileup | A | C | G | T |\n",
       "|---|---|---|---|---|---|---|---|---|---|---|---|---|---|---|---|---|---|---|---|---|\n",
       "| Y       | 2744386 | T       | G       | 1       | NA      | NA      | NA      | NA      | 1       | ⋯       | NA      | 0       | NA      | 0       | 0       | G       | 0       | 0       | 1       | 0       |\n",
       "| Y       | 6864267 | G       | A       | 1       | NA      | NA      | NA      | NA      | 1       | ⋯       |  0      | 0       |  0      | 0       | 0       | A       | 1       | 0       | 0       | 0       |\n",
       "| Y       | 6991000 | A       | C       | 1       | NA      | NA      | NA      |  1      | 1       | ⋯       |  0      | 0       |  0      | 0       | 0       | T       | 0       | 0       | 0       | 1       |\n",
       "| Y       | 7153375 | T       | C       | 1       | NA      | NA      | NA      | NA      | 1       | ⋯       | NA      | 0       |  0      | 0       | 0       | CC      | 0       | 2       | 0       | 0       |\n",
       "| Y       | 7256433 | T       | A       | 1       | NA      | NA      | NA      | NA      | 1       | ⋯       | NA      | 0       | NA      | 0       | 0       | A       | 1       | 0       | 0       | 0       |\n",
       "| Y       | 7740081 | A       | G       | 1       | NA      | NA      | NA      | NA      | 1       | ⋯       |  0      | 0       |  0      | 0       | 0       | AG      | 1       | 0       | 1       | 0       |\n",
       "\n"
      ],
      "text/plain": [
       "  chrom pos     REF ALT chimp spy1 mez2 neand den8 S_Ju_hoan_North_1 ⋯ kk1 mota\n",
       "1 Y     2744386 T   G   1     NA   NA   NA    NA   1                 ⋯ NA  0   \n",
       "2 Y     6864267 G   A   1     NA   NA   NA    NA   1                 ⋯  0  0   \n",
       "3 Y     6991000 A   C   1     NA   NA   NA     1   1                 ⋯  0  0   \n",
       "4 Y     7153375 T   C   1     NA   NA   NA    NA   1                 ⋯ NA  0   \n",
       "5 Y     7256433 T   A   1     NA   NA   NA    NA   1                 ⋯ NA  0   \n",
       "6 Y     7740081 A   G   1     NA   NA   NA    NA   1                 ⋯  0  0   \n",
       "  bichon loschbour reference pileup A C G T\n",
       "1 NA     0         0         G      0 0 1 0\n",
       "2  0     0         0         A      1 0 0 0\n",
       "3  0     0         0         T      0 0 0 1\n",
       "4  0     0         0         CC     0 2 0 0\n",
       "5 NA     0         0         A      1 0 0 0\n",
       "6  0     0         0         AG     1 0 1 0"
      ]
     },
     "metadata": {},
     "output_type": "display_data"
    }
   ],
   "source": [
    "df %>% head"
   ]
  },
  {
   "cell_type": "code",
   "execution_count": 132,
   "metadata": {},
   "outputs": [
    {
     "data": {
      "text/html": [
       "<table>\n",
       "<thead><tr><th scope=col>chrom</th><th scope=col>pos</th><th scope=col>REF</th><th scope=col>ALT</th><th scope=col>chimp</th><th scope=col>spy1</th><th scope=col>mez2</th><th scope=col>neand</th><th scope=col>den8</th><th scope=col>S_Ju_hoan_North_1</th><th scope=col>⋯</th><th scope=col>kk1</th><th scope=col>mota</th><th scope=col>bichon</th><th scope=col>loschbour</th><th scope=col>reference</th><th scope=col>pileup</th><th scope=col>A</th><th scope=col>C</th><th scope=col>G</th><th scope=col>T</th></tr></thead>\n",
       "<tbody>\n",
       "\t<tr><td>Y                </td><td>22850240         </td><td>G                </td><td>A                </td><td>1                </td><td>NA               </td><td>NA               </td><td>NA               </td><td>NA               </td><td>1                </td><td>⋯                </td><td>0                </td><td>0                </td><td>NA               </td><td>0                </td><td>0                </td><td>GGGGGGGGAGGGGGGGG</td><td>1                </td><td>0                </td><td>16               </td><td>0                </td></tr>\n",
       "</tbody>\n",
       "</table>\n"
      ],
      "text/latex": [
       "\\begin{tabular}{r|llllllllllllllllllllll}\n",
       " chrom & pos & REF & ALT & chimp & spy1 & mez2 & neand & den8 & S\\_Ju\\_hoan\\_North\\_1 & ⋯ & kk1 & mota & bichon & loschbour & reference & pileup & A & C & G & T\\\\\n",
       "\\hline\n",
       "\t Y                 & 22850240          & G                 & A                 & 1                 & NA                & NA                & NA                & NA                & 1                 & ⋯                 & 0                 & 0                 & NA                & 0                 & 0                 & GGGGGGGGAGGGGGGGG & 1                 & 0                 & 16                & 0                \\\\\n",
       "\\end{tabular}\n"
      ],
      "text/markdown": [
       "\n",
       "| chrom | pos | REF | ALT | chimp | spy1 | mez2 | neand | den8 | S_Ju_hoan_North_1 | ⋯ | kk1 | mota | bichon | loschbour | reference | pileup | A | C | G | T |\n",
       "|---|---|---|---|---|---|---|---|---|---|---|---|---|---|---|---|---|---|---|---|---|\n",
       "| Y                 | 22850240          | G                 | A                 | 1                 | NA                | NA                | NA                | NA                | 1                 | ⋯                 | 0                 | 0                 | NA                | 0                 | 0                 | GGGGGGGGAGGGGGGGG | 1                 | 0                 | 16                | 0                 |\n",
       "\n"
      ],
      "text/plain": [
       "  chrom pos      REF ALT chimp spy1 mez2 neand den8 S_Ju_hoan_North_1 ⋯ kk1\n",
       "1 Y     22850240 G   A   1     NA   NA   NA    NA   1                 ⋯ 0  \n",
       "  mota bichon loschbour reference pileup            A C G  T\n",
       "1 0    NA     0         0         GGGGGGGGAGGGGGGGG 1 0 16 0"
      ]
     },
     "metadata": {},
     "output_type": "display_data"
    }
   ],
   "source": [
    "filter(df, pos == 22850240)"
   ]
  },
  {
   "cell_type": "code",
   "execution_count": 129,
   "metadata": {},
   "outputs": [
    {
     "data": {
      "text/html": [
       "<table>\n",
       "<thead><tr><th scope=col>pos</th><th scope=col>REF</th><th scope=col>n</th><th scope=col>base</th><th scope=col>count</th></tr></thead>\n",
       "<tbody>\n",
       "\t<tr><td> 6864267</td><td>G       </td><td>24      </td><td>G       </td><td>23      </td></tr>\n",
       "\t<tr><td>14308595</td><td>G       </td><td>25      </td><td>G       </td><td>24      </td></tr>\n",
       "\t<tr><td>22850240</td><td>G       </td><td>17      </td><td>G       </td><td>16      </td></tr>\n",
       "\t<tr><td>14079528</td><td>T       </td><td>18      </td><td>T       </td><td>17      </td></tr>\n",
       "</tbody>\n",
       "</table>\n"
      ],
      "text/latex": [
       "\\begin{tabular}{r|lllll}\n",
       " pos & REF & n & base & count\\\\\n",
       "\\hline\n",
       "\t  6864267 & G        & 24       & G        & 23      \\\\\n",
       "\t 14308595 & G        & 25       & G        & 24      \\\\\n",
       "\t 22850240 & G        & 17       & G        & 16      \\\\\n",
       "\t 14079528 & T        & 18       & T        & 17      \\\\\n",
       "\\end{tabular}\n"
      ],
      "text/markdown": [
       "\n",
       "| pos | REF | n | base | count |\n",
       "|---|---|---|---|---|\n",
       "|  6864267 | G        | 24       | G        | 23       |\n",
       "| 14308595 | G        | 25       | G        | 24       |\n",
       "| 22850240 | G        | 17       | G        | 16       |\n",
       "| 14079528 | T        | 18       | T        | 17       |\n",
       "\n"
      ],
      "text/plain": [
       "  pos      REF n  base count\n",
       "1  6864267 G   24 G    23   \n",
       "2 14308595 G   25 G    24   \n",
       "3 22850240 G   17 G    16   \n",
       "4 14079528 T   18 T    17   "
      ]
     },
     "metadata": {},
     "output_type": "display_data"
    }
   ],
   "source": [
    "select(df, pos, REF, A, C, G, T) %>%\n",
    "    mutate(n = A + C + G + T) %>%\n",
    "    gather(base, count, -REF, -n, -pos) %>%\n",
    "    filter(REF == base, count != n)"
   ]
  },
  {
   "cell_type": "code",
   "execution_count": 154,
   "metadata": {},
   "outputs": [
    {
     "data": {
      "text/html": [
       "<table>\n",
       "<thead><tr><th scope=col>prop</th></tr></thead>\n",
       "<tbody>\n",
       "\t<tr><td>0.04506692</td></tr>\n",
       "</tbody>\n",
       "</table>\n"
      ],
      "text/latex": [
       "\\begin{tabular}{r|l}\n",
       " prop\\\\\n",
       "\\hline\n",
       "\t 0.04506692\\\\\n",
       "\\end{tabular}\n"
      ],
      "text/markdown": [
       "\n",
       "| prop |\n",
       "|---|\n",
       "| 0.04506692 |\n",
       "\n"
      ],
      "text/plain": [
       "  prop      \n",
       "1 0.04506692"
      ]
     },
     "metadata": {},
     "output_type": "display_data"
    }
   ],
   "source": [
    "select(df, pos, REF, A, C, G, T) %>%\n",
    "    mutate(n = A + C + G + T) %>%\n",
    "    gather(base, count, -REF, -n, -pos) %>%\n",
    "    filter(REF == base) %>%\n",
    "    mutate(prop = count / n) %>%\n",
    "    summarise_at(vars(prop), mean)"
   ]
  },
  {
   "cell_type": "code",
   "execution_count": 163,
   "metadata": {},
   "outputs": [
    {
     "data": {
      "text/html": [
       "<table>\n",
       "<thead><tr><th scope=col>prop</th></tr></thead>\n",
       "<tbody>\n",
       "\t<tr><td>0.0399061</td></tr>\n",
       "</tbody>\n",
       "</table>\n"
      ],
      "text/latex": [
       "\\begin{tabular}{r|l}\n",
       " prop\\\\\n",
       "\\hline\n",
       "\t 0.0399061\\\\\n",
       "\\end{tabular}\n"
      ],
      "text/markdown": [
       "\n",
       "| prop |\n",
       "|---|\n",
       "| 0.0399061 |\n",
       "\n"
      ],
      "text/plain": [
       "  prop     \n",
       "1 0.0399061"
      ]
     },
     "metadata": {},
     "output_type": "display_data"
    }
   ],
   "source": [
    "select(df, pos, REF, A, C, G, T) %>%\n",
    "    mutate(n = A + C + G + T) %>%\n",
    "    gather(base, count, -REF, -n, -pos) %>%\n",
    "    filter(REF == base) %>%\n",
    "    mutate(prop = count / n) %>%\n",
    "    summarise_at(vars(prop), mean)"
   ]
  },
  {
   "cell_type": "code",
   "execution_count": 172,
   "metadata": {},
   "outputs": [
    {
     "data": {
      "text/html": [
       "<table>\n",
       "<thead><tr><th scope=col>prop</th></tr></thead>\n",
       "<tbody>\n",
       "\t<tr><td>0.06839623</td></tr>\n",
       "</tbody>\n",
       "</table>\n"
      ],
      "text/latex": [
       "\\begin{tabular}{r|l}\n",
       " prop\\\\\n",
       "\\hline\n",
       "\t 0.06839623\\\\\n",
       "\\end{tabular}\n"
      ],
      "text/markdown": [
       "\n",
       "| prop |\n",
       "|---|\n",
       "| 0.06839623 |\n",
       "\n"
      ],
      "text/plain": [
       "  prop      \n",
       "1 0.06839623"
      ]
     },
     "metadata": {},
     "output_type": "display_data"
    }
   ],
   "source": [
    "select(df, pos, REF, A, C, G, T) %>%\n",
    "    mutate(n = A + C + G + T) %>%\n",
    "    gather(base, count, -REF, -n, -pos) %>%\n",
    "    filter(REF == base) %>%\n",
    "    mutate(prop = count / n) %>%\n",
    "    summarise_at(vars(prop), mean)"
   ]
  }
 ],
 "metadata": {
  "kernelspec": {
   "display_name": "R",
   "language": "R",
   "name": "ir"
  },
  "language_info": {
   "codemirror_mode": "r",
   "file_extension": ".r",
   "mimetype": "text/x-r-source",
   "name": "R",
   "pygments_lexer": "r",
   "version": "3.6.0"
  }
 },
 "nbformat": 4,
 "nbformat_minor": 2
}
