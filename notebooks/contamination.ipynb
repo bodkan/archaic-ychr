{
 "cells": [
  {
   "cell_type": "code",
   "execution_count": 1,
   "metadata": {},
   "outputs": [
    {
     "name": "stderr",
     "output_type": "stream",
     "text": [
      "── \u001b[1mAttaching packages\u001b[22m ─────────────────────────────────────── tidyverse 1.2.1 ──\n",
      "\u001b[32m✔\u001b[39m \u001b[34mggplot2\u001b[39m 3.2.1     \u001b[32m✔\u001b[39m \u001b[34mpurrr  \u001b[39m 0.3.2\n",
      "\u001b[32m✔\u001b[39m \u001b[34mtibble \u001b[39m 2.1.3     \u001b[32m✔\u001b[39m \u001b[34mdplyr  \u001b[39m 0.8.3\n",
      "\u001b[32m✔\u001b[39m \u001b[34mtidyr  \u001b[39m 1.0.0     \u001b[32m✔\u001b[39m \u001b[34mstringr\u001b[39m 1.4.0\n",
      "\u001b[32m✔\u001b[39m \u001b[34mreadr  \u001b[39m 1.3.1     \u001b[32m✔\u001b[39m \u001b[34mforcats\u001b[39m 0.4.0\n",
      "── \u001b[1mConflicts\u001b[22m ────────────────────────────────────────── tidyverse_conflicts() ──\n",
      "\u001b[31m✖\u001b[39m \u001b[34mdplyr\u001b[39m::\u001b[32mfilter()\u001b[39m masks \u001b[34mstats\u001b[39m::filter()\n",
      "\u001b[31m✖\u001b[39m \u001b[34mdplyr\u001b[39m::\u001b[32mlag()\u001b[39m    masks \u001b[34mstats\u001b[39m::lag()\n",
      "\n",
      "Attaching package: ‘magrittr’\n",
      "\n",
      "The following object is masked from ‘package:purrr’:\n",
      "\n",
      "    set_names\n",
      "\n",
      "The following object is masked from ‘package:tidyr’:\n",
      "\n",
      "    extract\n",
      "\n",
      "here() starts at /mnt/expressions/mp/archaic-ychr\n",
      "Loading required package: ape\n",
      "Loading required package: future\n",
      "Loading ychr\n"
     ]
    }
   ],
   "source": [
    "library(tidyverse)\n",
    "library(magrittr)\n",
    "library(here)\n",
    "library(phangorn)\n",
    "library(furrr)\n",
    "\n",
    "devtools::load_all(\".\")\n",
    "\n",
    "plan(multiprocess)"
   ]
  },
  {
   "cell_type": "markdown",
   "metadata": {},
   "source": [
    "Extract sample names from the AMH high-coverage VCF:"
   ]
  },
  {
   "cell_type": "code",
   "execution_count": 2,
   "metadata": {},
   "outputs": [],
   "source": [
    "highcov <- read_vcf(here(\"data/vcf/full_modern.vcf.gz\"), mindp = 3, maxdp = 0.98, var_only = TRUE) %>%\n",
    "    select(-ustishim, -a00_1, -a00_2)"
   ]
  },
  {
   "cell_type": "code",
   "execution_count": 3,
   "metadata": {},
   "outputs": [],
   "source": [
    "pops <- read_info(highcov)"
   ]
  },
  {
   "cell_type": "markdown",
   "metadata": {},
   "source": [
    "Define two population groups to polarize the human derived/ancestral state:"
   ]
  },
  {
   "cell_type": "code",
   "execution_count": 4,
   "metadata": {
    "scrolled": true
   },
   "outputs": [
    {
     "data": {
      "text/html": [
       "<style>\n",
       ".list-inline {list-style: none; margin:0; padding: 0}\n",
       ".list-inline>li {display: inline-block}\n",
       ".list-inline>li:not(:last-child)::after {content: \"\\00b7\"; padding: 0 .5ex}\n",
       "</style>\n",
       "<ol class=list-inline><li>'a00'</li><li>'S_Ju_hoan_North_1'</li></ol>\n"
      ],
      "text/latex": [
       "\\begin{enumerate*}\n",
       "\\item 'a00'\n",
       "\\item 'S\\_Ju\\_hoan\\_North\\_1'\n",
       "\\end{enumerate*}\n"
      ],
      "text/markdown": [
       "1. 'a00'\n",
       "2. 'S_Ju_hoan_North_1'\n",
       "\n",
       "\n"
      ],
      "text/plain": [
       "[1] \"a00\"               \"S_Ju_hoan_North_1\""
      ]
     },
     "metadata": {},
     "output_type": "display_data"
    },
    {
     "data": {
      "text/html": [
       "<style>\n",
       ".list-inline {list-style: none; margin:0; padding: 0}\n",
       ".list-inline>li {display: inline-block}\n",
       ".list-inline>li:not(:last-child)::after {content: \"\\00b7\"; padding: 0 .5ex}\n",
       "</style>\n",
       "<ol class=list-inline><li>'S_BedouinB_1'</li><li>'S_Turkish_1'</li><li>'S_French_1'</li><li>'S_Burmese_1'</li><li>'S_Thai_1'</li><li>'S_Finnish_2'</li><li>'S_Sardinian_1'</li><li>'S_Han_2'</li><li>'S_Dai_2'</li><li>'S_Punjabi_1'</li><li>'S_Saami_2'</li><li>'S_Papuan_2'</li><li>'S_Karitiana_1'</li></ol>\n"
      ],
      "text/latex": [
       "\\begin{enumerate*}\n",
       "\\item 'S\\_BedouinB\\_1'\n",
       "\\item 'S\\_Turkish\\_1'\n",
       "\\item 'S\\_French\\_1'\n",
       "\\item 'S\\_Burmese\\_1'\n",
       "\\item 'S\\_Thai\\_1'\n",
       "\\item 'S\\_Finnish\\_2'\n",
       "\\item 'S\\_Sardinian\\_1'\n",
       "\\item 'S\\_Han\\_2'\n",
       "\\item 'S\\_Dai\\_2'\n",
       "\\item 'S\\_Punjabi\\_1'\n",
       "\\item 'S\\_Saami\\_2'\n",
       "\\item 'S\\_Papuan\\_2'\n",
       "\\item 'S\\_Karitiana\\_1'\n",
       "\\end{enumerate*}\n"
      ],
      "text/markdown": [
       "1. 'S_BedouinB_1'\n",
       "2. 'S_Turkish_1'\n",
       "3. 'S_French_1'\n",
       "4. 'S_Burmese_1'\n",
       "5. 'S_Thai_1'\n",
       "6. 'S_Finnish_2'\n",
       "7. 'S_Sardinian_1'\n",
       "8. 'S_Han_2'\n",
       "9. 'S_Dai_2'\n",
       "10. 'S_Punjabi_1'\n",
       "11. 'S_Saami_2'\n",
       "12. 'S_Papuan_2'\n",
       "13. 'S_Karitiana_1'\n",
       "\n",
       "\n"
      ],
      "text/plain": [
       " [1] \"S_BedouinB_1\"  \"S_Turkish_1\"   \"S_French_1\"    \"S_Burmese_1\"  \n",
       " [5] \"S_Thai_1\"      \"S_Finnish_2\"   \"S_Sardinian_1\" \"S_Han_2\"      \n",
       " [9] \"S_Dai_2\"       \"S_Punjabi_1\"   \"S_Saami_2\"     \"S_Papuan_2\"   \n",
       "[13] \"S_Karitiana_1\""
      ]
     },
     "metadata": {},
     "output_type": "display_data"
    }
   ],
   "source": [
    "(outgroup <- c(\"a00\", \"S_Ju_hoan_North_1\"))\n",
    "(ingroup <- filter(pops, pop %in% c(\"WestEur\", \"EastEur\"))$name)"
   ]
  },
  {
   "cell_type": "markdown",
   "metadata": {},
   "source": [
    "Process the genotypes into a table of human variable SNPs:"
   ]
  },
  {
   "cell_type": "code",
   "execution_count": 5,
   "metadata": {},
   "outputs": [],
   "source": [
    "filter_derived <- function(df) {\n",
    "    # keep only variable sites (excluding chimp-unique variants)\n",
    "    freqs <- select(df, -c(chrom, pos, REF, ALT, chimp)) %>% rowMeans(na.rm = TRUE)\n",
    "    \n",
    "    filter(df, freqs > 0 & freqs < 1) %>%\n",
    "        mutate_at(vars(-one_of(c(\"chrom\", \"pos\", \"REF\", \"ALT\", \"chimp\"))),\n",
    "                  ~ as.integer(.x != chimp))\n",
    "}"
   ]
  },
  {
   "cell_type": "code",
   "execution_count": 6,
   "metadata": {},
   "outputs": [],
   "source": [
    "# Count derived alleles in an archaic sample\n",
    "count_derived <- function(gt_derived, ind, outgroup, ingroup) {\n",
    "    out_anc <- (rowMeans(gt_derived[, outgroup]) == 0)\n",
    "    in_der <- (rowMeans(gt_derived[, ingroup]) == 1)\n",
    "\n",
    "    alleles <- gt_derived[out_anc & in_der, ] %>% .[[ind]] %>% .[!is.na(.)]\n",
    "    \n",
    "    counts <- alleles %>% factor(levels = c(0, 1)) %>% table %>% as.data.frame\n",
    "    names(counts) <- c(\"allele\", \"count\")\n",
    "\n",
    "    counts %>%\n",
    "        mutate(allele = ifelse(allele == 0, \"ancestral\", \"derived\")) %>%\n",
    "        spread(allele, count) %>%\n",
    "        mutate(name = fix_name(ind),\n",
    "               total = length(alleles)) %>%\n",
    "        select(name, everything())\n",
    "}"
   ]
  },
  {
   "cell_type": "markdown",
   "metadata": {},
   "source": [
    "### Total number of informative non-African derived sites?"
   ]
  },
  {
   "cell_type": "code",
   "execution_count": 7,
   "metadata": {},
   "outputs": [
    {
     "data": {
      "text/html": [
       "199"
      ],
      "text/latex": [
       "199"
      ],
      "text/markdown": [
       "199"
      ],
      "text/plain": [
       "[1] 199"
      ]
     },
     "metadata": {},
     "output_type": "display_data"
    }
   ],
   "source": [
    "highcov_derived <- filter_derived(highcov)\n",
    "\n",
    "out_anc <- (rowMeans(highcov_derived[, outgroup]) == 0)\n",
    "in_der <- (rowMeans(highcov_derived[, ingroup]) == 1)\n",
    "\n",
    "highcov_derived[out_anc & in_der, ] %>%\n",
    "    filter(!is.na(chimp)) %>%\n",
    "    nrow"
   ]
  },
  {
   "cell_type": "markdown",
   "metadata": {},
   "source": [
    "### Count non-African derived SNPs in each archaic sample at sites with African ancestral alleles"
   ]
  },
  {
   "cell_type": "code",
   "execution_count": 8,
   "metadata": {},
   "outputs": [],
   "source": [
    "counts <- future_map_dfr(c(\"spy1\", \"mez2\", \"den4\", \"den8\", \"elsidron2\"), function(arch) {\n",
    "    capture <- ifelse(arch == \"elsidron2\", \"lippold\", \"full\")\n",
    "\n",
    "    gt <- read_genotypes(arch, capture, mindp = 3, maxdp = 0.98, var_only = TRUE) %>% select(-ustishim, -a00_1, -a00_2)\n",
    "    gt_derived <- filter_derived(gt)\n",
    "\n",
    "    count_derived(gt_derived, arch, outgroup, ingroup)\n",
    "})"
   ]
  },
  {
   "cell_type": "code",
   "execution_count": 9,
   "metadata": {},
   "outputs": [
    {
     "data": {
      "text/html": [
       "<table>\n",
       "<caption>A data.frame: 5 × 5</caption>\n",
       "<thead>\n",
       "\t<tr><th scope=col>name</th><th scope=col>ancestral</th><th scope=col>derived</th><th scope=col>total</th><th scope=col>derived/total</th></tr>\n",
       "\t<tr><th scope=col>&lt;chr&gt;</th><th scope=col>&lt;int&gt;</th><th scope=col>&lt;int&gt;</th><th scope=col>&lt;int&gt;</th><th scope=col>&lt;dbl&gt;</th></tr>\n",
       "</thead>\n",
       "<tbody>\n",
       "\t<tr><td>Spy 94a                </td><td>  9</td><td>1</td><td> 10</td><td>0.1</td></tr>\n",
       "\t<tr><td>Mezmaiskaya 2          </td><td>148</td><td>0</td><td>148</td><td>0.0</td></tr>\n",
       "\t<tr><td>Denisova 4             </td><td> 10</td><td>0</td><td> 10</td><td>0.0</td></tr>\n",
       "\t<tr><td>Denisova 8             </td><td> 71</td><td>0</td><td> 71</td><td>0.0</td></tr>\n",
       "\t<tr><td>El Sidrón 1253 (560 kb)</td><td> 26</td><td>0</td><td> 26</td><td>0.0</td></tr>\n",
       "</tbody>\n",
       "</table>\n"
      ],
      "text/latex": [
       "A data.frame: 5 × 5\n",
       "\\begin{tabular}{lllll}\n",
       " name & ancestral & derived & total & derived/total\\\\\n",
       " <chr> & <int> & <int> & <int> & <dbl>\\\\\n",
       "\\hline\n",
       "\t Spy 94a                 &   9 & 1 &  10 & 0.1\\\\\n",
       "\t Mezmaiskaya 2           & 148 & 0 & 148 & 0.0\\\\\n",
       "\t Denisova 4              &  10 & 0 &  10 & 0.0\\\\\n",
       "\t Denisova 8              &  71 & 0 &  71 & 0.0\\\\\n",
       "\t El Sidrón 1253 (560 kb) &  26 & 0 &  26 & 0.0\\\\\n",
       "\\end{tabular}\n"
      ],
      "text/markdown": [
       "\n",
       "A data.frame: 5 × 5\n",
       "\n",
       "| name &lt;chr&gt; | ancestral &lt;int&gt; | derived &lt;int&gt; | total &lt;int&gt; | derived/total &lt;dbl&gt; |\n",
       "|---|---|---|---|---|\n",
       "| Spy 94a                 |   9 | 1 |  10 | 0.1 |\n",
       "| Mezmaiskaya 2           | 148 | 0 | 148 | 0.0 |\n",
       "| Denisova 4              |  10 | 0 |  10 | 0.0 |\n",
       "| Denisova 8              |  71 | 0 |  71 | 0.0 |\n",
       "| El Sidrón 1253 (560 kb) |  26 | 0 |  26 | 0.0 |\n",
       "\n"
      ],
      "text/plain": [
       "  name                    ancestral derived total derived/total\n",
       "1 Spy 94a                   9       1        10   0.1          \n",
       "2 Mezmaiskaya 2           148       0       148   0.0          \n",
       "3 Denisova 4               10       0        10   0.0          \n",
       "4 Denisova 8               71       0        71   0.0          \n",
       "5 El Sidrón 1253 (560 kb)  26       0        26   0.0          "
      ]
     },
     "metadata": {},
     "output_type": "display_data"
    }
   ],
   "source": [
    "counts %>% mutate(derived / total)"
   ]
  },
  {
   "cell_type": "code",
   "execution_count": null,
   "metadata": {},
   "outputs": [],
   "source": []
  },
  {
   "cell_type": "code",
   "execution_count": 2,
   "metadata": {},
   "outputs": [],
   "source": [
    "estimate_cont <- function(individual, gt) {\n",
    "    # get names of outgroup and ingroup individuals\n",
    "    samples <- read_info(gt)\n",
    "    outgroup <- c(\"a00\", \"S_Ju_hoan_North_1\")\n",
    "    ingroup <- filter(samples, pop %in% c(\"WestEur\", \"EastEur\"))$name\n",
    "\n",
    "    # subset only to relevant individuals\n",
    "    gt <- gt[, c(\"chrom\", \"pos\", \"REF\", \"ALT\", unique(c(individual, outgroup, ingroup)))]\n",
    "\n",
    "    # define diagnostic positions (outgroup pops different from ingroup pops)\n",
    "    outgroup_pos <- rowMeans(gt[, outgroup])\n",
    "    ingroup_pos <- rowMeans(gt[, ingroup], na.rm = T)\n",
    "    info_gt <- gt[abs(outgroup_pos - ingroup_pos) == 1, ]\n",
    "\n",
    "    # extract a vector of alleles for the tested individual\n",
    "    alleles <- info_gt[[individual]] %>% .[!is.na(.)]\n",
    "\n",
    "    # convert the vector of alleles to counts of ancestral and derived alleles\n",
    "    counts <- factor(alleles, levels = c(0, 1)) %>% table %>% as.data.frame\n",
    "    names(counts) <- c(\"allele\", \"count\")\n",
    "    counts %>%\n",
    "        mutate(allele = ifelse(allele == 0, \"derived\", \"ancestral\")) %>%\n",
    "        spread(allele, count) %>%\n",
    "        mutate(name = fix_name(individual),\n",
    "               total = length(alleles),\n",
    "               derived / total) %>%\n",
    "        select(name, everything())\n",
    "}"
   ]
  },
  {
   "cell_type": "code",
   "execution_count": 3,
   "metadata": {},
   "outputs": [],
   "source": [
    "counts <- future_map_dfr(c(\"spy1\", \"mez2\", \"den4\", \"den8\", \"elsidron2\"), function(individual) {\n",
    "    capture <- ifelse(individual == \"elsidron2\", \"lippold\", \"full\")\n",
    "\n",
    "    gt <- read_genotypes(individual, capture, mindp = 3, maxdp = 0.98, var_only = TRUE)\n",
    "\n",
    "    estimate_cont(individual, gt)\n",
    "})"
   ]
  },
  {
   "cell_type": "code",
   "execution_count": 4,
   "metadata": {},
   "outputs": [
    {
     "data": {
      "text/html": [
       "<table>\n",
       "<caption>A data.frame: 5 × 5</caption>\n",
       "<thead>\n",
       "\t<tr><th scope=col>name</th><th scope=col>ancestral</th><th scope=col>derived</th><th scope=col>total</th><th scope=col>derived/total</th></tr>\n",
       "\t<tr><th scope=col>&lt;chr&gt;</th><th scope=col>&lt;int&gt;</th><th scope=col>&lt;int&gt;</th><th scope=col>&lt;int&gt;</th><th scope=col>&lt;dbl&gt;</th></tr>\n",
       "</thead>\n",
       "<tbody>\n",
       "\t<tr><td>Spy 94a                </td><td> 15</td><td>1</td><td> 16</td><td>0.0625</td></tr>\n",
       "\t<tr><td>Mezmaiskaya 2          </td><td>189</td><td>0</td><td>189</td><td>0.0000</td></tr>\n",
       "\t<tr><td>Denisova 4             </td><td> 14</td><td>0</td><td> 14</td><td>0.0000</td></tr>\n",
       "\t<tr><td>Denisova 8             </td><td> 90</td><td>0</td><td> 90</td><td>0.0000</td></tr>\n",
       "\t<tr><td>El Sidrón 1253 (560 kb)</td><td> 29</td><td>0</td><td> 29</td><td>0.0000</td></tr>\n",
       "</tbody>\n",
       "</table>\n"
      ],
      "text/latex": [
       "A data.frame: 5 × 5\n",
       "\\begin{tabular}{lllll}\n",
       " name & ancestral & derived & total & derived/total\\\\\n",
       " <chr> & <int> & <int> & <int> & <dbl>\\\\\n",
       "\\hline\n",
       "\t Spy 94a                 &  15 & 1 &  16 & 0.0625\\\\\n",
       "\t Mezmaiskaya 2           & 189 & 0 & 189 & 0.0000\\\\\n",
       "\t Denisova 4              &  14 & 0 &  14 & 0.0000\\\\\n",
       "\t Denisova 8              &  90 & 0 &  90 & 0.0000\\\\\n",
       "\t El Sidrón 1253 (560 kb) &  29 & 0 &  29 & 0.0000\\\\\n",
       "\\end{tabular}\n"
      ],
      "text/markdown": [
       "\n",
       "A data.frame: 5 × 5\n",
       "\n",
       "| name &lt;chr&gt; | ancestral &lt;int&gt; | derived &lt;int&gt; | total &lt;int&gt; | derived/total &lt;dbl&gt; |\n",
       "|---|---|---|---|---|\n",
       "| Spy 94a                 |  15 | 1 |  16 | 0.0625 |\n",
       "| Mezmaiskaya 2           | 189 | 0 | 189 | 0.0000 |\n",
       "| Denisova 4              |  14 | 0 |  14 | 0.0000 |\n",
       "| Denisova 8              |  90 | 0 |  90 | 0.0000 |\n",
       "| El Sidrón 1253 (560 kb) |  29 | 0 |  29 | 0.0000 |\n",
       "\n"
      ],
      "text/plain": [
       "  name                    ancestral derived total derived/total\n",
       "1 Spy 94a                  15       1        16   0.0625       \n",
       "2 Mezmaiskaya 2           189       0       189   0.0000       \n",
       "3 Denisova 4               14       0        14   0.0000       \n",
       "4 Denisova 8               90       0        90   0.0000       \n",
       "5 El Sidrón 1253 (560 kb)  29       0        29   0.0000       "
      ]
     },
     "metadata": {},
     "output_type": "display_data"
    }
   ],
   "source": [
    "counts"
   ]
  },
  {
   "cell_type": "markdown",
   "metadata": {},
   "source": [
    "### Sanity check - derived-allele counts in present-day SGDP samples"
   ]
  },
  {
   "cell_type": "code",
   "execution_count": 10,
   "metadata": {},
   "outputs": [],
   "source": [
    "derived <- filter_derived(highcov)"
   ]
  },
  {
   "cell_type": "code",
   "execution_count": 11,
   "metadata": {},
   "outputs": [],
   "source": [
    "counts_sgdp <- pops$name %>% future_map_dfr(~ count_derived(derived, .x, outgroup, ingroup))"
   ]
  },
  {
   "cell_type": "code",
   "execution_count": 12,
   "metadata": {
    "scrolled": false
   },
   "outputs": [
    {
     "data": {
      "text/html": [
       "<table>\n",
       "<caption>A data.frame: 23 × 5</caption>\n",
       "<thead>\n",
       "\t<tr><th scope=col>name</th><th scope=col>ancestral</th><th scope=col>derived</th><th scope=col>total</th><th scope=col>derived/total</th></tr>\n",
       "\t<tr><th scope=col>&lt;chr&gt;</th><th scope=col>&lt;int&gt;</th><th scope=col>&lt;int&gt;</th><th scope=col>&lt;int&gt;</th><th scope=col>&lt;dbl&gt;</th></tr>\n",
       "</thead>\n",
       "<tbody>\n",
       "\t<tr><td>Ust'-Ishim       </td><td>  0</td><td>196</td><td>196</td><td>1.0000000</td></tr>\n",
       "\t<tr><td>S_BedouinB_1     </td><td>  0</td><td>199</td><td>199</td><td>1.0000000</td></tr>\n",
       "\t<tr><td>S_Turkish_1      </td><td>  0</td><td>199</td><td>199</td><td>1.0000000</td></tr>\n",
       "\t<tr><td>S_French_1       </td><td>  0</td><td>199</td><td>199</td><td>1.0000000</td></tr>\n",
       "\t<tr><td>S_Burmese_1      </td><td>  0</td><td>199</td><td>199</td><td>1.0000000</td></tr>\n",
       "\t<tr><td>S_Thai_1         </td><td>  0</td><td>199</td><td>199</td><td>1.0000000</td></tr>\n",
       "\t<tr><td>S_Finnish_2      </td><td>  0</td><td>199</td><td>199</td><td>1.0000000</td></tr>\n",
       "\t<tr><td>S_Sardinian_1    </td><td>  0</td><td>199</td><td>199</td><td>1.0000000</td></tr>\n",
       "\t<tr><td>S_Han_2          </td><td>  0</td><td>199</td><td>199</td><td>1.0000000</td></tr>\n",
       "\t<tr><td>S_Dai_2          </td><td>  0</td><td>199</td><td>199</td><td>1.0000000</td></tr>\n",
       "\t<tr><td>S_Punjabi_1      </td><td>  0</td><td>199</td><td>199</td><td>1.0000000</td></tr>\n",
       "\t<tr><td>S_Saami_2        </td><td>  0</td><td>199</td><td>199</td><td>1.0000000</td></tr>\n",
       "\t<tr><td>S_Papuan_2       </td><td>  0</td><td>199</td><td>199</td><td>1.0000000</td></tr>\n",
       "\t<tr><td>S_Karitiana_1    </td><td>  0</td><td>199</td><td>199</td><td>1.0000000</td></tr>\n",
       "\t<tr><td>S_Ju_hoan_North_1</td><td>199</td><td>  0</td><td>199</td><td>0.0000000</td></tr>\n",
       "\t<tr><td>S_Dinka_1        </td><td> 73</td><td>122</td><td>195</td><td>0.6256410</td></tr>\n",
       "\t<tr><td>S_Mbuti_1        </td><td> 71</td><td>125</td><td>196</td><td>0.6377551</td></tr>\n",
       "\t<tr><td>S_Yoruba_2       </td><td> 74</td><td>125</td><td>199</td><td>0.6281407</td></tr>\n",
       "\t<tr><td>S_Gambian_1      </td><td> 73</td><td>124</td><td>197</td><td>0.6294416</td></tr>\n",
       "\t<tr><td>S_Mandenka_1     </td><td> 74</td><td>122</td><td>196</td><td>0.6224490</td></tr>\n",
       "\t<tr><td>A00              </td><td>199</td><td>  0</td><td>199</td><td>0.0000000</td></tr>\n",
       "\t<tr><td>A00-1            </td><td>186</td><td>  0</td><td>186</td><td>0.0000000</td></tr>\n",
       "\t<tr><td>A00-2            </td><td>196</td><td>  0</td><td>196</td><td>0.0000000</td></tr>\n",
       "</tbody>\n",
       "</table>\n"
      ],
      "text/latex": [
       "A data.frame: 23 × 5\n",
       "\\begin{tabular}{lllll}\n",
       " name & ancestral & derived & total & derived/total\\\\\n",
       " <chr> & <int> & <int> & <int> & <dbl>\\\\\n",
       "\\hline\n",
       "\t Ust'-Ishim        &   0 & 196 & 196 & 1.0000000\\\\\n",
       "\t S\\_BedouinB\\_1      &   0 & 199 & 199 & 1.0000000\\\\\n",
       "\t S\\_Turkish\\_1       &   0 & 199 & 199 & 1.0000000\\\\\n",
       "\t S\\_French\\_1        &   0 & 199 & 199 & 1.0000000\\\\\n",
       "\t S\\_Burmese\\_1       &   0 & 199 & 199 & 1.0000000\\\\\n",
       "\t S\\_Thai\\_1          &   0 & 199 & 199 & 1.0000000\\\\\n",
       "\t S\\_Finnish\\_2       &   0 & 199 & 199 & 1.0000000\\\\\n",
       "\t S\\_Sardinian\\_1     &   0 & 199 & 199 & 1.0000000\\\\\n",
       "\t S\\_Han\\_2           &   0 & 199 & 199 & 1.0000000\\\\\n",
       "\t S\\_Dai\\_2           &   0 & 199 & 199 & 1.0000000\\\\\n",
       "\t S\\_Punjabi\\_1       &   0 & 199 & 199 & 1.0000000\\\\\n",
       "\t S\\_Saami\\_2         &   0 & 199 & 199 & 1.0000000\\\\\n",
       "\t S\\_Papuan\\_2        &   0 & 199 & 199 & 1.0000000\\\\\n",
       "\t S\\_Karitiana\\_1     &   0 & 199 & 199 & 1.0000000\\\\\n",
       "\t S\\_Ju\\_hoan\\_North\\_1 & 199 &   0 & 199 & 0.0000000\\\\\n",
       "\t S\\_Dinka\\_1         &  73 & 122 & 195 & 0.6256410\\\\\n",
       "\t S\\_Mbuti\\_1         &  71 & 125 & 196 & 0.6377551\\\\\n",
       "\t S\\_Yoruba\\_2        &  74 & 125 & 199 & 0.6281407\\\\\n",
       "\t S\\_Gambian\\_1       &  73 & 124 & 197 & 0.6294416\\\\\n",
       "\t S\\_Mandenka\\_1      &  74 & 122 & 196 & 0.6224490\\\\\n",
       "\t A00               & 199 &   0 & 199 & 0.0000000\\\\\n",
       "\t A00-1             & 186 &   0 & 186 & 0.0000000\\\\\n",
       "\t A00-2             & 196 &   0 & 196 & 0.0000000\\\\\n",
       "\\end{tabular}\n"
      ],
      "text/markdown": [
       "\n",
       "A data.frame: 23 × 5\n",
       "\n",
       "| name &lt;chr&gt; | ancestral &lt;int&gt; | derived &lt;int&gt; | total &lt;int&gt; | derived/total &lt;dbl&gt; |\n",
       "|---|---|---|---|---|\n",
       "| Ust'-Ishim        |   0 | 196 | 196 | 1.0000000 |\n",
       "| S_BedouinB_1      |   0 | 199 | 199 | 1.0000000 |\n",
       "| S_Turkish_1       |   0 | 199 | 199 | 1.0000000 |\n",
       "| S_French_1        |   0 | 199 | 199 | 1.0000000 |\n",
       "| S_Burmese_1       |   0 | 199 | 199 | 1.0000000 |\n",
       "| S_Thai_1          |   0 | 199 | 199 | 1.0000000 |\n",
       "| S_Finnish_2       |   0 | 199 | 199 | 1.0000000 |\n",
       "| S_Sardinian_1     |   0 | 199 | 199 | 1.0000000 |\n",
       "| S_Han_2           |   0 | 199 | 199 | 1.0000000 |\n",
       "| S_Dai_2           |   0 | 199 | 199 | 1.0000000 |\n",
       "| S_Punjabi_1       |   0 | 199 | 199 | 1.0000000 |\n",
       "| S_Saami_2         |   0 | 199 | 199 | 1.0000000 |\n",
       "| S_Papuan_2        |   0 | 199 | 199 | 1.0000000 |\n",
       "| S_Karitiana_1     |   0 | 199 | 199 | 1.0000000 |\n",
       "| S_Ju_hoan_North_1 | 199 |   0 | 199 | 0.0000000 |\n",
       "| S_Dinka_1         |  73 | 122 | 195 | 0.6256410 |\n",
       "| S_Mbuti_1         |  71 | 125 | 196 | 0.6377551 |\n",
       "| S_Yoruba_2        |  74 | 125 | 199 | 0.6281407 |\n",
       "| S_Gambian_1       |  73 | 124 | 197 | 0.6294416 |\n",
       "| S_Mandenka_1      |  74 | 122 | 196 | 0.6224490 |\n",
       "| A00               | 199 |   0 | 199 | 0.0000000 |\n",
       "| A00-1             | 186 |   0 | 186 | 0.0000000 |\n",
       "| A00-2             | 196 |   0 | 196 | 0.0000000 |\n",
       "\n"
      ],
      "text/plain": [
       "   name              ancestral derived total derived/total\n",
       "1  Ust'-Ishim          0       196     196   1.0000000    \n",
       "2  S_BedouinB_1        0       199     199   1.0000000    \n",
       "3  S_Turkish_1         0       199     199   1.0000000    \n",
       "4  S_French_1          0       199     199   1.0000000    \n",
       "5  S_Burmese_1         0       199     199   1.0000000    \n",
       "6  S_Thai_1            0       199     199   1.0000000    \n",
       "7  S_Finnish_2         0       199     199   1.0000000    \n",
       "8  S_Sardinian_1       0       199     199   1.0000000    \n",
       "9  S_Han_2             0       199     199   1.0000000    \n",
       "10 S_Dai_2             0       199     199   1.0000000    \n",
       "11 S_Punjabi_1         0       199     199   1.0000000    \n",
       "12 S_Saami_2           0       199     199   1.0000000    \n",
       "13 S_Papuan_2          0       199     199   1.0000000    \n",
       "14 S_Karitiana_1       0       199     199   1.0000000    \n",
       "15 S_Ju_hoan_North_1 199         0     199   0.0000000    \n",
       "16 S_Dinka_1          73       122     195   0.6256410    \n",
       "17 S_Mbuti_1          71       125     196   0.6377551    \n",
       "18 S_Yoruba_2         74       125     199   0.6281407    \n",
       "19 S_Gambian_1        73       124     197   0.6294416    \n",
       "20 S_Mandenka_1       74       122     196   0.6224490    \n",
       "21 A00               199         0     199   0.0000000    \n",
       "22 A00-1             186         0     186   0.0000000    \n",
       "23 A00-2             196         0     196   0.0000000    "
      ]
     },
     "metadata": {},
     "output_type": "display_data"
    }
   ],
   "source": [
    "counts_sgdp %>% mutate(derived / total)"
   ]
  },
  {
   "cell_type": "code",
   "execution_count": null,
   "metadata": {},
   "outputs": [],
   "source": []
  },
  {
   "cell_type": "code",
   "execution_count": null,
   "metadata": {},
   "outputs": [],
   "source": []
  },
  {
   "cell_type": "code",
   "execution_count": null,
   "metadata": {},
   "outputs": [],
   "source": []
  },
  {
   "cell_type": "markdown",
   "metadata": {},
   "source": [
    "# Estimate contamination based on a pileup"
   ]
  },
  {
   "cell_type": "code",
   "execution_count": null,
   "metadata": {},
   "outputs": [],
   "source": [
    "highcov_derived <- filter_derived(highcov)\n",
    "\n",
    "out_anc <- (rowMeans(highcov_derived[, outgroup]) == 0)\n",
    "in_der <- (rowMeans(highcov_derived[, ingroup]) == 1)\n",
    "\n",
    "highcov_derived[out_anc & in_der, ] %>% filter(!is.na(chimp)) %>% nrow"
   ]
  },
  {
   "cell_type": "code",
   "execution_count": null,
   "metadata": {},
   "outputs": [],
   "source": []
  },
  {
   "cell_type": "code",
   "execution_count": null,
   "metadata": {},
   "outputs": [],
   "source": []
  },
  {
   "cell_type": "code",
   "execution_count": 74,
   "metadata": {},
   "outputs": [],
   "source": [
    "x <- highcov_derived[out_anc & in_der, ]"
   ]
  },
  {
   "cell_type": "code",
   "execution_count": 75,
   "metadata": {},
   "outputs": [
    {
     "data": {
      "text/html": [
       "<table>\n",
       "<caption>A tibble: 6 × 28</caption>\n",
       "<thead>\n",
       "\t<tr><th scope=col>chrom</th><th scope=col>pos</th><th scope=col>REF</th><th scope=col>ALT</th><th scope=col>chimp</th><th scope=col>ustishim</th><th scope=col>a00</th><th scope=col>a00_1</th><th scope=col>a00_2</th><th scope=col>S_BedouinB_1</th><th scope=col>⋯</th><th scope=col>S_Punjabi_1</th><th scope=col>S_Saami_2</th><th scope=col>S_Papuan_2</th><th scope=col>S_Karitiana_1</th><th scope=col>S_Ju_hoan_North_1</th><th scope=col>S_Dinka_1</th><th scope=col>S_Mbuti_1</th><th scope=col>S_Yoruba_2</th><th scope=col>S_Gambian_1</th><th scope=col>S_Mandenka_1</th></tr>\n",
       "\t<tr><th scope=col>&lt;chr&gt;</th><th scope=col>&lt;int&gt;</th><th scope=col>&lt;chr&gt;</th><th scope=col>&lt;chr&gt;</th><th scope=col>&lt;dbl&gt;</th><th scope=col>&lt;int&gt;</th><th scope=col>&lt;int&gt;</th><th scope=col>&lt;int&gt;</th><th scope=col>&lt;int&gt;</th><th scope=col>&lt;int&gt;</th><th scope=col>⋯</th><th scope=col>&lt;int&gt;</th><th scope=col>&lt;int&gt;</th><th scope=col>&lt;int&gt;</th><th scope=col>&lt;int&gt;</th><th scope=col>&lt;int&gt;</th><th scope=col>&lt;int&gt;</th><th scope=col>&lt;int&gt;</th><th scope=col>&lt;int&gt;</th><th scope=col>&lt;int&gt;</th><th scope=col>&lt;int&gt;</th></tr>\n",
       "</thead>\n",
       "<tbody>\n",
       "\t<tr><td>NA</td><td>     NA</td><td>NA</td><td>NA</td><td>NA</td><td>NA</td><td>NA</td><td>NA</td><td>NA</td><td>NA</td><td>⋯</td><td>NA</td><td>NA</td><td>NA</td><td>NA</td><td>NA</td><td>NA</td><td>NA</td><td>NA</td><td>NA</td><td>NA</td></tr>\n",
       "\t<tr><td>NA</td><td>     NA</td><td>NA</td><td>NA</td><td>NA</td><td>NA</td><td>NA</td><td>NA</td><td>NA</td><td>NA</td><td>⋯</td><td>NA</td><td>NA</td><td>NA</td><td>NA</td><td>NA</td><td>NA</td><td>NA</td><td>NA</td><td>NA</td><td>NA</td></tr>\n",
       "\t<tr><td>Y </td><td>2707859</td><td>G </td><td>C </td><td> 1</td><td> 1</td><td> 0</td><td>NA</td><td> 0</td><td> 1</td><td>⋯</td><td> 1</td><td> 1</td><td> 1</td><td> 1</td><td> 0</td><td> 0</td><td> 0</td><td> 0</td><td> 0</td><td> 0</td></tr>\n",
       "\t<tr><td>Y </td><td>2722506</td><td>A </td><td>G </td><td> 1</td><td> 1</td><td> 0</td><td> 0</td><td> 0</td><td> 1</td><td>⋯</td><td> 1</td><td> 1</td><td> 1</td><td> 1</td><td> 0</td><td> 0</td><td> 0</td><td> 0</td><td> 0</td><td> 0</td></tr>\n",
       "\t<tr><td>Y </td><td>2733618</td><td>A </td><td>C </td><td> 1</td><td> 1</td><td> 0</td><td> 0</td><td> 0</td><td> 1</td><td>⋯</td><td> 1</td><td> 1</td><td> 1</td><td> 1</td><td> 0</td><td> 1</td><td> 1</td><td> 1</td><td> 1</td><td> 1</td></tr>\n",
       "\t<tr><td>NA</td><td>     NA</td><td>NA</td><td>NA</td><td>NA</td><td>NA</td><td>NA</td><td>NA</td><td>NA</td><td>NA</td><td>⋯</td><td>NA</td><td>NA</td><td>NA</td><td>NA</td><td>NA</td><td>NA</td><td>NA</td><td>NA</td><td>NA</td><td>NA</td></tr>\n",
       "</tbody>\n",
       "</table>\n"
      ],
      "text/latex": [
       "A tibble: 6 × 28\n",
       "\\begin{tabular}{lllllllllllllllllllll}\n",
       " chrom & pos & REF & ALT & chimp & ustishim & a00 & a00\\_1 & a00\\_2 & S\\_BedouinB\\_1 & ⋯ & S\\_Punjabi\\_1 & S\\_Saami\\_2 & S\\_Papuan\\_2 & S\\_Karitiana\\_1 & S\\_Ju\\_hoan\\_North\\_1 & S\\_Dinka\\_1 & S\\_Mbuti\\_1 & S\\_Yoruba\\_2 & S\\_Gambian\\_1 & S\\_Mandenka\\_1\\\\\n",
       " <chr> & <int> & <chr> & <chr> & <dbl> & <int> & <int> & <int> & <int> & <int> & ⋯ & <int> & <int> & <int> & <int> & <int> & <int> & <int> & <int> & <int> & <int>\\\\\n",
       "\\hline\n",
       "\t NA &      NA & NA & NA & NA & NA & NA & NA & NA & NA & ⋯ & NA & NA & NA & NA & NA & NA & NA & NA & NA & NA\\\\\n",
       "\t NA &      NA & NA & NA & NA & NA & NA & NA & NA & NA & ⋯ & NA & NA & NA & NA & NA & NA & NA & NA & NA & NA\\\\\n",
       "\t Y  & 2707859 & G  & C  &  1 &  1 &  0 & NA &  0 &  1 & ⋯ &  1 &  1 &  1 &  1 &  0 &  0 &  0 &  0 &  0 &  0\\\\\n",
       "\t Y  & 2722506 & A  & G  &  1 &  1 &  0 &  0 &  0 &  1 & ⋯ &  1 &  1 &  1 &  1 &  0 &  0 &  0 &  0 &  0 &  0\\\\\n",
       "\t Y  & 2733618 & A  & C  &  1 &  1 &  0 &  0 &  0 &  1 & ⋯ &  1 &  1 &  1 &  1 &  0 &  1 &  1 &  1 &  1 &  1\\\\\n",
       "\t NA &      NA & NA & NA & NA & NA & NA & NA & NA & NA & ⋯ & NA & NA & NA & NA & NA & NA & NA & NA & NA & NA\\\\\n",
       "\\end{tabular}\n"
      ],
      "text/markdown": [
       "\n",
       "A tibble: 6 × 28\n",
       "\n",
       "| chrom &lt;chr&gt; | pos &lt;int&gt; | REF &lt;chr&gt; | ALT &lt;chr&gt; | chimp &lt;dbl&gt; | ustishim &lt;int&gt; | a00 &lt;int&gt; | a00_1 &lt;int&gt; | a00_2 &lt;int&gt; | S_BedouinB_1 &lt;int&gt; | ⋯ ⋯ | S_Punjabi_1 &lt;int&gt; | S_Saami_2 &lt;int&gt; | S_Papuan_2 &lt;int&gt; | S_Karitiana_1 &lt;int&gt; | S_Ju_hoan_North_1 &lt;int&gt; | S_Dinka_1 &lt;int&gt; | S_Mbuti_1 &lt;int&gt; | S_Yoruba_2 &lt;int&gt; | S_Gambian_1 &lt;int&gt; | S_Mandenka_1 &lt;int&gt; |\n",
       "|---|---|---|---|---|---|---|---|---|---|---|---|---|---|---|---|---|---|---|---|---|\n",
       "| NA |      NA | NA | NA | NA | NA | NA | NA | NA | NA | ⋯ | NA | NA | NA | NA | NA | NA | NA | NA | NA | NA |\n",
       "| NA |      NA | NA | NA | NA | NA | NA | NA | NA | NA | ⋯ | NA | NA | NA | NA | NA | NA | NA | NA | NA | NA |\n",
       "| Y  | 2707859 | G  | C  |  1 |  1 |  0 | NA |  0 |  1 | ⋯ |  1 |  1 |  1 |  1 |  0 |  0 |  0 |  0 |  0 |  0 |\n",
       "| Y  | 2722506 | A  | G  |  1 |  1 |  0 |  0 |  0 |  1 | ⋯ |  1 |  1 |  1 |  1 |  0 |  0 |  0 |  0 |  0 |  0 |\n",
       "| Y  | 2733618 | A  | C  |  1 |  1 |  0 |  0 |  0 |  1 | ⋯ |  1 |  1 |  1 |  1 |  0 |  1 |  1 |  1 |  1 |  1 |\n",
       "| NA |      NA | NA | NA | NA | NA | NA | NA | NA | NA | ⋯ | NA | NA | NA | NA | NA | NA | NA | NA | NA | NA |\n",
       "\n"
      ],
      "text/plain": [
       "  chrom pos     REF ALT chimp ustishim a00 a00_1 a00_2 S_BedouinB_1 ⋯\n",
       "1 NA         NA NA  NA  NA    NA       NA  NA    NA    NA           ⋯\n",
       "2 NA         NA NA  NA  NA    NA       NA  NA    NA    NA           ⋯\n",
       "3 Y     2707859 G   C    1     1        0  NA     0     1           ⋯\n",
       "4 Y     2722506 A   G    1     1        0   0     0     1           ⋯\n",
       "5 Y     2733618 A   C    1     1        0   0     0     1           ⋯\n",
       "6 NA         NA NA  NA  NA    NA       NA  NA    NA    NA           ⋯\n",
       "  S_Punjabi_1 S_Saami_2 S_Papuan_2 S_Karitiana_1 S_Ju_hoan_North_1 S_Dinka_1\n",
       "1 NA          NA        NA         NA            NA                NA       \n",
       "2 NA          NA        NA         NA            NA                NA       \n",
       "3  1           1         1          1             0                 0       \n",
       "4  1           1         1          1             0                 0       \n",
       "5  1           1         1          1             0                 1       \n",
       "6 NA          NA        NA         NA            NA                NA       \n",
       "  S_Mbuti_1 S_Yoruba_2 S_Gambian_1 S_Mandenka_1\n",
       "1 NA        NA         NA          NA          \n",
       "2 NA        NA         NA          NA          \n",
       "3  0         0          0           0          \n",
       "4  0         0          0           0          \n",
       "5  1         1          1           1          \n",
       "6 NA        NA         NA          NA          "
      ]
     },
     "metadata": {},
     "output_type": "display_data"
    }
   ],
   "source": [
    "filter(x, chimp)"
   ]
  },
  {
   "cell_type": "code",
   "execution_count": 23,
   "metadata": {},
   "outputs": [],
   "source": [
    "xder <- x %>% select(chrom, pos, REF, ALT)"
   ]
  },
  {
   "cell_type": "code",
   "execution_count": 25,
   "metadata": {},
   "outputs": [
    {
     "data": {
      "text/html": [
       "<table>\n",
       "<caption>A tibble: 6 × 4</caption>\n",
       "<thead>\n",
       "\t<tr><th scope=col>chrom</th><th scope=col>pos</th><th scope=col>REF</th><th scope=col>ALT</th></tr>\n",
       "\t<tr><th scope=col>&lt;chr&gt;</th><th scope=col>&lt;int&gt;</th><th scope=col>&lt;chr&gt;</th><th scope=col>&lt;chr&gt;</th></tr>\n",
       "</thead>\n",
       "<tbody>\n",
       "\t<tr><td>Y</td><td>2707859</td><td>G</td><td>C</td></tr>\n",
       "\t<tr><td>Y</td><td>2722506</td><td>A</td><td>G</td></tr>\n",
       "\t<tr><td>Y</td><td>2733618</td><td>A</td><td>C</td></tr>\n",
       "\t<tr><td>Y</td><td>2756471</td><td>T</td><td>A</td></tr>\n",
       "\t<tr><td>Y</td><td>2863665</td><td>G</td><td>A</td></tr>\n",
       "\t<tr><td>Y</td><td>6744622</td><td>G</td><td>C</td></tr>\n",
       "</tbody>\n",
       "</table>\n"
      ],
      "text/latex": [
       "A tibble: 6 × 4\n",
       "\\begin{tabular}{llll}\n",
       " chrom & pos & REF & ALT\\\\\n",
       " <chr> & <int> & <chr> & <chr>\\\\\n",
       "\\hline\n",
       "\t Y & 2707859 & G & C\\\\\n",
       "\t Y & 2722506 & A & G\\\\\n",
       "\t Y & 2733618 & A & C\\\\\n",
       "\t Y & 2756471 & T & A\\\\\n",
       "\t Y & 2863665 & G & A\\\\\n",
       "\t Y & 6744622 & G & C\\\\\n",
       "\\end{tabular}\n"
      ],
      "text/markdown": [
       "\n",
       "A tibble: 6 × 4\n",
       "\n",
       "| chrom &lt;chr&gt; | pos &lt;int&gt; | REF &lt;chr&gt; | ALT &lt;chr&gt; |\n",
       "|---|---|---|---|\n",
       "| Y | 2707859 | G | C |\n",
       "| Y | 2722506 | A | G |\n",
       "| Y | 2733618 | A | C |\n",
       "| Y | 2756471 | T | A |\n",
       "| Y | 2863665 | G | A |\n",
       "| Y | 6744622 | G | C |\n",
       "\n"
      ],
      "text/plain": [
       "  chrom pos     REF ALT\n",
       "1 Y     2707859 G   C  \n",
       "2 Y     2722506 A   G  \n",
       "3 Y     2733618 A   C  \n",
       "4 Y     2756471 T   A  \n",
       "5 Y     2863665 G   A  \n",
       "6 Y     6744622 G   C  "
      ]
     },
     "metadata": {},
     "output_type": "display_data"
    }
   ],
   "source": [
    "xder %>% head"
   ]
  },
  {
   "cell_type": "code",
   "execution_count": null,
   "metadata": {},
   "outputs": [],
   "source": [
    "df_der <- "
   ]
  },
  {
   "cell_type": "code",
   "execution_count": 69,
   "metadata": {},
   "outputs": [
    {
     "name": "stderr",
     "output_type": "stream",
     "text": [
      "Parsed with column specification:\n",
      "cols(\n",
      "  chrom = \u001b[31mcol_character()\u001b[39m,\n",
      "  pos = \u001b[32mcol_double()\u001b[39m,\n",
      "  ref = \u001b[31mcol_character()\u001b[39m,\n",
      "  pileup = \u001b[31mcol_character()\u001b[39m,\n",
      "  A = \u001b[32mcol_double()\u001b[39m,\n",
      "  C = \u001b[32mcol_double()\u001b[39m,\n",
      "  G = \u001b[32mcol_double()\u001b[39m,\n",
      "  T = \u001b[32mcol_double()\u001b[39m\n",
      ")\n"
     ]
    }
   ],
   "source": [
    "df_pileup <- read_tsv(\"../data/pileup/full_spy1.txt.gz\")"
   ]
  },
  {
   "cell_type": "code",
   "execution_count": 65,
   "metadata": {},
   "outputs": [
    {
     "name": "stderr",
     "output_type": "stream",
     "text": [
      "Joining, by = c(\"chrom\", \"pos\")\n"
     ]
    }
   ],
   "source": [
    "df <- left_join(xder, df_pileup) %>% select(-ref) %>% filter(nchar(pileup) >= 3)"
   ]
  },
  {
   "cell_type": "code",
   "execution_count": 66,
   "metadata": {},
   "outputs": [],
   "source": [
    "cont <- df %>% mutate(\n",
    "    prop = case_when(\n",
    "        REF == \"A\" ~ A / (A + C + G + T),\n",
    "        REF == \"C\" ~ C / (A + C + G + T),\n",
    "        REF == \"G\" ~ G / (A + C + G + T),\n",
    "        REF == \"T\" ~ T / (A + C + G + T)\n",
    "    )\n",
    ")"
   ]
  },
  {
   "cell_type": "code",
   "execution_count": 68,
   "metadata": {},
   "outputs": [
    {
     "data": {
      "text/html": [
       "<table>\n",
       "<caption>A tibble: 13 × 10</caption>\n",
       "<thead>\n",
       "\t<tr><th scope=col>chrom</th><th scope=col>pos</th><th scope=col>REF</th><th scope=col>ALT</th><th scope=col>pileup</th><th scope=col>A</th><th scope=col>C</th><th scope=col>G</th><th scope=col>T</th><th scope=col>prop</th></tr>\n",
       "\t<tr><th scope=col>&lt;chr&gt;</th><th scope=col>&lt;dbl&gt;</th><th scope=col>&lt;chr&gt;</th><th scope=col>&lt;chr&gt;</th><th scope=col>&lt;chr&gt;</th><th scope=col>&lt;dbl&gt;</th><th scope=col>&lt;dbl&gt;</th><th scope=col>&lt;dbl&gt;</th><th scope=col>&lt;dbl&gt;</th><th scope=col>&lt;dbl&gt;</th></tr>\n",
       "</thead>\n",
       "<tbody>\n",
       "\t<tr><td>Y</td><td> 2707859</td><td>G</td><td>C</td><td>CCC </td><td>0</td><td>3</td><td>0</td><td>0</td><td>0.0000000</td></tr>\n",
       "\t<tr><td>Y</td><td> 7173143</td><td>A</td><td>G</td><td>GGG </td><td>0</td><td>0</td><td>3</td><td>0</td><td>0.0000000</td></tr>\n",
       "\t<tr><td>Y</td><td>14079528</td><td>T</td><td>C</td><td>TTT </td><td>0</td><td>0</td><td>0</td><td>3</td><td>1.0000000</td></tr>\n",
       "\t<tr><td>Y</td><td>14149010</td><td>A</td><td>G</td><td>GGG </td><td>0</td><td>0</td><td>3</td><td>0</td><td>0.0000000</td></tr>\n",
       "\t<tr><td>Y</td><td>14324714</td><td>T</td><td>C</td><td>TTC </td><td>0</td><td>1</td><td>0</td><td>2</td><td>0.6666667</td></tr>\n",
       "\t<tr><td>Y</td><td>16364286</td><td>A</td><td>C</td><td>CCC </td><td>0</td><td>3</td><td>0</td><td>0</td><td>0.0000000</td></tr>\n",
       "\t<tr><td>Y</td><td>17186912</td><td>T</td><td>C</td><td>CCC </td><td>0</td><td>3</td><td>0</td><td>0</td><td>0.0000000</td></tr>\n",
       "\t<tr><td>Y</td><td>17464197</td><td>C</td><td>T</td><td>CTT </td><td>0</td><td>1</td><td>0</td><td>2</td><td>0.3333333</td></tr>\n",
       "\t<tr><td>Y</td><td>17493513</td><td>T</td><td>C</td><td>CCC </td><td>0</td><td>3</td><td>0</td><td>0</td><td>0.0000000</td></tr>\n",
       "\t<tr><td>Y</td><td>17753650</td><td>G</td><td>A</td><td>AAA </td><td>3</td><td>0</td><td>0</td><td>0</td><td>0.0000000</td></tr>\n",
       "\t<tr><td>Y</td><td>19205814</td><td>T</td><td>A</td><td>GAA </td><td>2</td><td>0</td><td>1</td><td>0</td><td>0.0000000</td></tr>\n",
       "\t<tr><td>Y</td><td>21080707</td><td>G</td><td>A</td><td>AAAA</td><td>4</td><td>0</td><td>0</td><td>0</td><td>0.0000000</td></tr>\n",
       "\t<tr><td>Y</td><td>22086350</td><td>C</td><td>G</td><td>GGGG</td><td>0</td><td>0</td><td>4</td><td>0</td><td>0.0000000</td></tr>\n",
       "</tbody>\n",
       "</table>\n"
      ],
      "text/latex": [
       "A tibble: 13 × 10\n",
       "\\begin{tabular}{llllllllll}\n",
       " chrom & pos & REF & ALT & pileup & A & C & G & T & prop\\\\\n",
       " <chr> & <dbl> & <chr> & <chr> & <chr> & <dbl> & <dbl> & <dbl> & <dbl> & <dbl>\\\\\n",
       "\\hline\n",
       "\t Y &  2707859 & G & C & CCC  & 0 & 3 & 0 & 0 & 0.0000000\\\\\n",
       "\t Y &  7173143 & A & G & GGG  & 0 & 0 & 3 & 0 & 0.0000000\\\\\n",
       "\t Y & 14079528 & T & C & TTT  & 0 & 0 & 0 & 3 & 1.0000000\\\\\n",
       "\t Y & 14149010 & A & G & GGG  & 0 & 0 & 3 & 0 & 0.0000000\\\\\n",
       "\t Y & 14324714 & T & C & TTC  & 0 & 1 & 0 & 2 & 0.6666667\\\\\n",
       "\t Y & 16364286 & A & C & CCC  & 0 & 3 & 0 & 0 & 0.0000000\\\\\n",
       "\t Y & 17186912 & T & C & CCC  & 0 & 3 & 0 & 0 & 0.0000000\\\\\n",
       "\t Y & 17464197 & C & T & CTT  & 0 & 1 & 0 & 2 & 0.3333333\\\\\n",
       "\t Y & 17493513 & T & C & CCC  & 0 & 3 & 0 & 0 & 0.0000000\\\\\n",
       "\t Y & 17753650 & G & A & AAA  & 3 & 0 & 0 & 0 & 0.0000000\\\\\n",
       "\t Y & 19205814 & T & A & GAA  & 2 & 0 & 1 & 0 & 0.0000000\\\\\n",
       "\t Y & 21080707 & G & A & AAAA & 4 & 0 & 0 & 0 & 0.0000000\\\\\n",
       "\t Y & 22086350 & C & G & GGGG & 0 & 0 & 4 & 0 & 0.0000000\\\\\n",
       "\\end{tabular}\n"
      ],
      "text/markdown": [
       "\n",
       "A tibble: 13 × 10\n",
       "\n",
       "| chrom &lt;chr&gt; | pos &lt;dbl&gt; | REF &lt;chr&gt; | ALT &lt;chr&gt; | pileup &lt;chr&gt; | A &lt;dbl&gt; | C &lt;dbl&gt; | G &lt;dbl&gt; | T &lt;dbl&gt; | prop &lt;dbl&gt; |\n",
       "|---|---|---|---|---|---|---|---|---|---|\n",
       "| Y |  2707859 | G | C | CCC  | 0 | 3 | 0 | 0 | 0.0000000 |\n",
       "| Y |  7173143 | A | G | GGG  | 0 | 0 | 3 | 0 | 0.0000000 |\n",
       "| Y | 14079528 | T | C | TTT  | 0 | 0 | 0 | 3 | 1.0000000 |\n",
       "| Y | 14149010 | A | G | GGG  | 0 | 0 | 3 | 0 | 0.0000000 |\n",
       "| Y | 14324714 | T | C | TTC  | 0 | 1 | 0 | 2 | 0.6666667 |\n",
       "| Y | 16364286 | A | C | CCC  | 0 | 3 | 0 | 0 | 0.0000000 |\n",
       "| Y | 17186912 | T | C | CCC  | 0 | 3 | 0 | 0 | 0.0000000 |\n",
       "| Y | 17464197 | C | T | CTT  | 0 | 1 | 0 | 2 | 0.3333333 |\n",
       "| Y | 17493513 | T | C | CCC  | 0 | 3 | 0 | 0 | 0.0000000 |\n",
       "| Y | 17753650 | G | A | AAA  | 3 | 0 | 0 | 0 | 0.0000000 |\n",
       "| Y | 19205814 | T | A | GAA  | 2 | 0 | 1 | 0 | 0.0000000 |\n",
       "| Y | 21080707 | G | A | AAAA | 4 | 0 | 0 | 0 | 0.0000000 |\n",
       "| Y | 22086350 | C | G | GGGG | 0 | 0 | 4 | 0 | 0.0000000 |\n",
       "\n"
      ],
      "text/plain": [
       "   chrom pos      REF ALT pileup A C G T prop     \n",
       "1  Y      2707859 G   C   CCC    0 3 0 0 0.0000000\n",
       "2  Y      7173143 A   G   GGG    0 0 3 0 0.0000000\n",
       "3  Y     14079528 T   C   TTT    0 0 0 3 1.0000000\n",
       "4  Y     14149010 A   G   GGG    0 0 3 0 0.0000000\n",
       "5  Y     14324714 T   C   TTC    0 1 0 2 0.6666667\n",
       "6  Y     16364286 A   C   CCC    0 3 0 0 0.0000000\n",
       "7  Y     17186912 T   C   CCC    0 3 0 0 0.0000000\n",
       "8  Y     17464197 C   T   CTT    0 1 0 2 0.3333333\n",
       "9  Y     17493513 T   C   CCC    0 3 0 0 0.0000000\n",
       "10 Y     17753650 G   A   AAA    3 0 0 0 0.0000000\n",
       "11 Y     19205814 T   A   GAA    2 0 1 0 0.0000000\n",
       "12 Y     21080707 G   A   AAAA   4 0 0 0 0.0000000\n",
       "13 Y     22086350 C   G   GGGG   0 0 4 0 0.0000000"
      ]
     },
     "metadata": {},
     "output_type": "display_data"
    }
   ],
   "source": [
    "cont"
   ]
  },
  {
   "cell_type": "code",
   "execution_count": 67,
   "metadata": {},
   "outputs": [
    {
     "data": {
      "text/html": [
       "0.153846153846154"
      ],
      "text/latex": [
       "0.153846153846154"
      ],
      "text/markdown": [
       "0.153846153846154"
      ],
      "text/plain": [
       "[1] 0.1538462"
      ]
     },
     "metadata": {},
     "output_type": "display_data"
    }
   ],
   "source": [
    "mean(cont$prop, na.rm=T)"
   ]
  },
  {
   "cell_type": "code",
   "execution_count": 54,
   "metadata": {},
   "outputs": [
    {
     "data": {
      "text/html": [
       "0.0336951244240518"
      ],
      "text/latex": [
       "0.0336951244240518"
      ],
      "text/markdown": [
       "0.0336951244240518"
      ],
      "text/plain": [
       "[1] 0.03369512"
      ]
     },
     "metadata": {},
     "output_type": "display_data"
    }
   ],
   "source": [
    "mean(cont$prop, na.rm=T)"
   ]
  }
 ],
 "metadata": {
  "kernelspec": {
   "display_name": "R",
   "language": "R",
   "name": "ir"
  },
  "language_info": {
   "codemirror_mode": "r",
   "file_extension": ".r",
   "mimetype": "text/x-r-source",
   "name": "R",
   "pygments_lexer": "r",
   "version": "3.6.0"
  }
 },
 "nbformat": 4,
 "nbformat_minor": 2
}
