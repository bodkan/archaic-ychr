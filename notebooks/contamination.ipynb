{
 "cells": [
  {
   "cell_type": "code",
   "execution_count": 1,
   "metadata": {},
   "outputs": [
    {
     "name": "stderr",
     "output_type": "stream",
     "text": [
      "── \u001b[1mAttaching packages\u001b[22m ─────────────────────────────────────── tidyverse 1.2.1 ──\n",
      "\u001b[32m✔\u001b[39m \u001b[34mggplot2\u001b[39m 3.2.1     \u001b[32m✔\u001b[39m \u001b[34mpurrr  \u001b[39m 0.3.2\n",
      "\u001b[32m✔\u001b[39m \u001b[34mtibble \u001b[39m 2.1.3     \u001b[32m✔\u001b[39m \u001b[34mdplyr  \u001b[39m 0.8.3\n",
      "\u001b[32m✔\u001b[39m \u001b[34mtidyr  \u001b[39m 1.0.0     \u001b[32m✔\u001b[39m \u001b[34mstringr\u001b[39m 1.4.0\n",
      "\u001b[32m✔\u001b[39m \u001b[34mreadr  \u001b[39m 1.3.1     \u001b[32m✔\u001b[39m \u001b[34mforcats\u001b[39m 0.4.0\n",
      "── \u001b[1mConflicts\u001b[22m ────────────────────────────────────────── tidyverse_conflicts() ──\n",
      "\u001b[31m✖\u001b[39m \u001b[34mdplyr\u001b[39m::\u001b[32mfilter()\u001b[39m masks \u001b[34mstats\u001b[39m::filter()\n",
      "\u001b[31m✖\u001b[39m \u001b[34mdplyr\u001b[39m::\u001b[32mlag()\u001b[39m    masks \u001b[34mstats\u001b[39m::lag()\n",
      "\n",
      "Attaching package: ‘magrittr’\n",
      "\n",
      "The following object is masked from ‘package:purrr’:\n",
      "\n",
      "    set_names\n",
      "\n",
      "The following object is masked from ‘package:tidyr’:\n",
      "\n",
      "    extract\n",
      "\n",
      "here() starts at /mnt/expressions/mp/archaic-ychr\n",
      "Loading required package: ape\n",
      "Loading required package: future\n",
      "Loading ychr\n"
     ]
    }
   ],
   "source": [
    "library(tidyverse)\n",
    "library(magrittr)\n",
    "library(here)\n",
    "library(phangorn)\n",
    "library(furrr)\n",
    "\n",
    "devtools::load_all(\".\")\n",
    "\n",
    "plan(multiprocess)"
   ]
  },
  {
   "cell_type": "markdown",
   "metadata": {},
   "source": [
    "### Total number of informative non-African derived sites?"
   ]
  },
  {
   "cell_type": "code",
   "execution_count": 2,
   "metadata": {},
   "outputs": [],
   "source": [
    "highcov <- read_vcf(here(\"data/vcf/full_modern.vcf.gz\"), mindp = 3, maxdp = 0.98, var_only = TRUE)"
   ]
  },
  {
   "cell_type": "code",
   "execution_count": 3,
   "metadata": {},
   "outputs": [],
   "source": [
    "samples <- read_info(highcov)\n",
    "outgroup <- c(\"a00\", \"S_Ju_hoan_North_1\")\n",
    "ingroup <- filter(samples, pop %in% c(\"WestEur\", \"EastEur\"))$name\n",
    "\n",
    "# define diagnostic positions (outgroup pops different from ingroup pops)\n",
    "outgroup_pos <- rowMeans(highcov[, outgroup])\n",
    "ingroup_pos <- rowMeans(highcov[, ingroup], na.rm = T)\n",
    "info_highcov <- highcov[abs(outgroup_pos - ingroup_pos) == 1, ] %>% filter(!is.na(chrom))"
   ]
  },
  {
   "cell_type": "code",
   "execution_count": 4,
   "metadata": {},
   "outputs": [
    {
     "data": {
      "text/html": [
       "268"
      ],
      "text/latex": [
       "268"
      ],
      "text/markdown": [
       "268"
      ],
      "text/plain": [
       "[1] 268"
      ]
     },
     "metadata": {},
     "output_type": "display_data"
    }
   ],
   "source": [
    "nrow(info_highcov)"
   ]
  },
  {
   "cell_type": "markdown",
   "metadata": {},
   "source": [
    "### Count non-African derived SNPs in each individual"
   ]
  },
  {
   "cell_type": "code",
   "execution_count": 5,
   "metadata": {},
   "outputs": [],
   "source": [
    "estimate_cont <- function(individual, gt) {\n",
    "    # get names of outgroup and ingroup individuals\n",
    "    samples <- read_info(gt)\n",
    "    outgroup <- c(\"a00\", \"S_Ju_hoan_North_1\")\n",
    "    ingroup <- filter(samples, pop %in% c(\"WestEur\", \"EastEur\"))$name\n",
    "\n",
    "    # subset only to relevant individuals\n",
    "    gt <- gt[, c(\"chrom\", \"pos\", \"REF\", \"ALT\", unique(c(individual, outgroup, ingroup)))]\n",
    "\n",
    "    # define diagnostic positions (outgroup pops different from ingroup pops)\n",
    "    outgroup_pos <- rowMeans(gt[, outgroup])\n",
    "    ingroup_pos <- rowMeans(gt[, ingroup], na.rm = T)\n",
    "    info_gt <- gt[abs(outgroup_pos - ingroup_pos) == 1, ]\n",
    "\n",
    "    # extract a vector of alleles for the tested individual\n",
    "    alleles <- info_gt[[individual]] %>% .[!is.na(.)]\n",
    "\n",
    "    # convert the vector of alleles to counts of ancestral and derived alleles\n",
    "    counts <- factor(alleles, levels = c(0, 1)) %>% table %>% as.data.frame\n",
    "    names(counts) <- c(\"allele\", \"count\")\n",
    "    counts %>%\n",
    "        mutate(allele = ifelse(allele == 0, \"derived\", \"ancestral\")) %>%\n",
    "        spread(allele, count) %>%\n",
    "        mutate(name = fix_name(individual),\n",
    "               total = length(alleles),\n",
    "               derived / total) %>%\n",
    "        select(name, everything())\n",
    "}"
   ]
  },
  {
   "cell_type": "code",
   "execution_count": 6,
   "metadata": {},
   "outputs": [],
   "source": [
    "counts <- future_map_dfr(c(\"spy1\", \"mez2\", \"den4\", \"den8\", \"elsidron2\"), function(individual) {\n",
    "    capture <- ifelse(individual == \"elsidron2\", \"lippold\", \"full\")\n",
    "\n",
    "    gt <- read_genotypes(individual, capture, mindp = 3, maxdp = 0.98, var_only = TRUE)\n",
    "\n",
    "    estimate_cont(individual, gt)\n",
    "})"
   ]
  },
  {
   "cell_type": "code",
   "execution_count": 7,
   "metadata": {},
   "outputs": [
    {
     "data": {
      "text/html": [
       "<table>\n",
       "<caption>A data.frame: 5 × 5</caption>\n",
       "<thead>\n",
       "\t<tr><th scope=col>name</th><th scope=col>ancestral</th><th scope=col>derived</th><th scope=col>total</th><th scope=col>derived/total</th></tr>\n",
       "\t<tr><th scope=col>&lt;chr&gt;</th><th scope=col>&lt;int&gt;</th><th scope=col>&lt;int&gt;</th><th scope=col>&lt;int&gt;</th><th scope=col>&lt;dbl&gt;</th></tr>\n",
       "</thead>\n",
       "<tbody>\n",
       "\t<tr><td>Spy 94a                </td><td> 15</td><td>1</td><td> 16</td><td>0.0625</td></tr>\n",
       "\t<tr><td>Mezmaiskaya 2          </td><td>189</td><td>0</td><td>189</td><td>0.0000</td></tr>\n",
       "\t<tr><td>Denisova 4             </td><td> 14</td><td>0</td><td> 14</td><td>0.0000</td></tr>\n",
       "\t<tr><td>Denisova 8             </td><td> 90</td><td>0</td><td> 90</td><td>0.0000</td></tr>\n",
       "\t<tr><td>El Sidrón 1253 (560 kb)</td><td> 29</td><td>0</td><td> 29</td><td>0.0000</td></tr>\n",
       "</tbody>\n",
       "</table>\n"
      ],
      "text/latex": [
       "A data.frame: 5 × 5\n",
       "\\begin{tabular}{lllll}\n",
       " name & ancestral & derived & total & derived/total\\\\\n",
       " <chr> & <int> & <int> & <int> & <dbl>\\\\\n",
       "\\hline\n",
       "\t Spy 94a                 &  15 & 1 &  16 & 0.0625\\\\\n",
       "\t Mezmaiskaya 2           & 189 & 0 & 189 & 0.0000\\\\\n",
       "\t Denisova 4              &  14 & 0 &  14 & 0.0000\\\\\n",
       "\t Denisova 8              &  90 & 0 &  90 & 0.0000\\\\\n",
       "\t El Sidrón 1253 (560 kb) &  29 & 0 &  29 & 0.0000\\\\\n",
       "\\end{tabular}\n"
      ],
      "text/markdown": [
       "\n",
       "A data.frame: 5 × 5\n",
       "\n",
       "| name &lt;chr&gt; | ancestral &lt;int&gt; | derived &lt;int&gt; | total &lt;int&gt; | derived/total &lt;dbl&gt; |\n",
       "|---|---|---|---|---|\n",
       "| Spy 94a                 |  15 | 1 |  16 | 0.0625 |\n",
       "| Mezmaiskaya 2           | 189 | 0 | 189 | 0.0000 |\n",
       "| Denisova 4              |  14 | 0 |  14 | 0.0000 |\n",
       "| Denisova 8              |  90 | 0 |  90 | 0.0000 |\n",
       "| El Sidrón 1253 (560 kb) |  29 | 0 |  29 | 0.0000 |\n",
       "\n"
      ],
      "text/plain": [
       "  name                    ancestral derived total derived/total\n",
       "1 Spy 94a                  15       1        16   0.0625       \n",
       "2 Mezmaiskaya 2           189       0       189   0.0000       \n",
       "3 Denisova 4               14       0        14   0.0000       \n",
       "4 Denisova 8               90       0        90   0.0000       \n",
       "5 El Sidrón 1253 (560 kb)  29       0        29   0.0000       "
      ]
     },
     "metadata": {},
     "output_type": "display_data"
    }
   ],
   "source": [
    "counts"
   ]
  },
  {
   "cell_type": "markdown",
   "metadata": {},
   "source": [
    "### Sanity check - derived-allele counts in present-day SGDP samples"
   ]
  },
  {
   "cell_type": "code",
   "execution_count": 8,
   "metadata": {},
   "outputs": [],
   "source": [
    "counts_sgdp <- samples$name %>% future_map_dfr(~ estimate_cont(.x, highcov))"
   ]
  },
  {
   "cell_type": "code",
   "execution_count": 9,
   "metadata": {},
   "outputs": [
    {
     "data": {
      "text/html": [
       "<table>\n",
       "<caption>A data.frame: 23 × 5</caption>\n",
       "<thead>\n",
       "\t<tr><th scope=col>name</th><th scope=col>ancestral</th><th scope=col>derived</th><th scope=col>total</th><th scope=col>derived/total</th></tr>\n",
       "\t<tr><th scope=col>&lt;chr&gt;</th><th scope=col>&lt;int&gt;</th><th scope=col>&lt;int&gt;</th><th scope=col>&lt;int&gt;</th><th scope=col>&lt;dbl&gt;</th></tr>\n",
       "</thead>\n",
       "<tbody>\n",
       "\t<tr><td>S_Ju_hoan_North_1</td><td>268</td><td>  0</td><td>268</td><td>0.0000000</td></tr>\n",
       "\t<tr><td>A00              </td><td>268</td><td>  0</td><td>268</td><td>0.0000000</td></tr>\n",
       "\t<tr><td>A00-1            </td><td>249</td><td>  0</td><td>249</td><td>0.0000000</td></tr>\n",
       "\t<tr><td>A00-2            </td><td>265</td><td>  0</td><td>265</td><td>0.0000000</td></tr>\n",
       "\t<tr><td>S_Dinka_1        </td><td>106</td><td>153</td><td>259</td><td>0.5907336</td></tr>\n",
       "\t<tr><td>S_Mandenka_1     </td><td>107</td><td>156</td><td>263</td><td>0.5931559</td></tr>\n",
       "\t<tr><td>S_Gambian_1      </td><td>106</td><td>158</td><td>264</td><td>0.5984848</td></tr>\n",
       "\t<tr><td>S_Yoruba_2       </td><td>107</td><td>159</td><td>266</td><td>0.5977444</td></tr>\n",
       "\t<tr><td>S_Mbuti_1        </td><td>105</td><td>160</td><td>265</td><td>0.6037736</td></tr>\n",
       "\t<tr><td>S_Burmese_1      </td><td>  0</td><td>260</td><td>260</td><td>1.0000000</td></tr>\n",
       "\t<tr><td>S_Sardinian_1    </td><td>  0</td><td>262</td><td>262</td><td>1.0000000</td></tr>\n",
       "\t<tr><td>S_Saami_2        </td><td>  0</td><td>262</td><td>262</td><td>1.0000000</td></tr>\n",
       "\t<tr><td>Ust'-Ishim       </td><td>  0</td><td>263</td><td>263</td><td>1.0000000</td></tr>\n",
       "\t<tr><td>S_BedouinB_1     </td><td>  0</td><td>263</td><td>263</td><td>1.0000000</td></tr>\n",
       "\t<tr><td>S_Turkish_1      </td><td>  0</td><td>263</td><td>263</td><td>1.0000000</td></tr>\n",
       "\t<tr><td>S_French_1       </td><td>  0</td><td>263</td><td>263</td><td>1.0000000</td></tr>\n",
       "\t<tr><td>S_Han_2          </td><td>  0</td><td>263</td><td>263</td><td>1.0000000</td></tr>\n",
       "\t<tr><td>S_Dai_2          </td><td>  0</td><td>263</td><td>263</td><td>1.0000000</td></tr>\n",
       "\t<tr><td>S_Karitiana_1    </td><td>  0</td><td>263</td><td>263</td><td>1.0000000</td></tr>\n",
       "\t<tr><td>S_Papuan_2       </td><td>  0</td><td>264</td><td>264</td><td>1.0000000</td></tr>\n",
       "\t<tr><td>S_Finnish_2      </td><td>  0</td><td>265</td><td>265</td><td>1.0000000</td></tr>\n",
       "\t<tr><td>S_Punjabi_1      </td><td>  0</td><td>265</td><td>265</td><td>1.0000000</td></tr>\n",
       "\t<tr><td>S_Thai_1         </td><td>  0</td><td>267</td><td>267</td><td>1.0000000</td></tr>\n",
       "</tbody>\n",
       "</table>\n"
      ],
      "text/latex": [
       "A data.frame: 23 × 5\n",
       "\\begin{tabular}{lllll}\n",
       " name & ancestral & derived & total & derived/total\\\\\n",
       " <chr> & <int> & <int> & <int> & <dbl>\\\\\n",
       "\\hline\n",
       "\t S\\_Ju\\_hoan\\_North\\_1 & 268 &   0 & 268 & 0.0000000\\\\\n",
       "\t A00               & 268 &   0 & 268 & 0.0000000\\\\\n",
       "\t A00-1             & 249 &   0 & 249 & 0.0000000\\\\\n",
       "\t A00-2             & 265 &   0 & 265 & 0.0000000\\\\\n",
       "\t S\\_Dinka\\_1         & 106 & 153 & 259 & 0.5907336\\\\\n",
       "\t S\\_Mandenka\\_1      & 107 & 156 & 263 & 0.5931559\\\\\n",
       "\t S\\_Gambian\\_1       & 106 & 158 & 264 & 0.5984848\\\\\n",
       "\t S\\_Yoruba\\_2        & 107 & 159 & 266 & 0.5977444\\\\\n",
       "\t S\\_Mbuti\\_1         & 105 & 160 & 265 & 0.6037736\\\\\n",
       "\t S\\_Burmese\\_1       &   0 & 260 & 260 & 1.0000000\\\\\n",
       "\t S\\_Sardinian\\_1     &   0 & 262 & 262 & 1.0000000\\\\\n",
       "\t S\\_Saami\\_2         &   0 & 262 & 262 & 1.0000000\\\\\n",
       "\t Ust'-Ishim        &   0 & 263 & 263 & 1.0000000\\\\\n",
       "\t S\\_BedouinB\\_1      &   0 & 263 & 263 & 1.0000000\\\\\n",
       "\t S\\_Turkish\\_1       &   0 & 263 & 263 & 1.0000000\\\\\n",
       "\t S\\_French\\_1        &   0 & 263 & 263 & 1.0000000\\\\\n",
       "\t S\\_Han\\_2           &   0 & 263 & 263 & 1.0000000\\\\\n",
       "\t S\\_Dai\\_2           &   0 & 263 & 263 & 1.0000000\\\\\n",
       "\t S\\_Karitiana\\_1     &   0 & 263 & 263 & 1.0000000\\\\\n",
       "\t S\\_Papuan\\_2        &   0 & 264 & 264 & 1.0000000\\\\\n",
       "\t S\\_Finnish\\_2       &   0 & 265 & 265 & 1.0000000\\\\\n",
       "\t S\\_Punjabi\\_1       &   0 & 265 & 265 & 1.0000000\\\\\n",
       "\t S\\_Thai\\_1          &   0 & 267 & 267 & 1.0000000\\\\\n",
       "\\end{tabular}\n"
      ],
      "text/markdown": [
       "\n",
       "A data.frame: 23 × 5\n",
       "\n",
       "| name &lt;chr&gt; | ancestral &lt;int&gt; | derived &lt;int&gt; | total &lt;int&gt; | derived/total &lt;dbl&gt; |\n",
       "|---|---|---|---|---|\n",
       "| S_Ju_hoan_North_1 | 268 |   0 | 268 | 0.0000000 |\n",
       "| A00               | 268 |   0 | 268 | 0.0000000 |\n",
       "| A00-1             | 249 |   0 | 249 | 0.0000000 |\n",
       "| A00-2             | 265 |   0 | 265 | 0.0000000 |\n",
       "| S_Dinka_1         | 106 | 153 | 259 | 0.5907336 |\n",
       "| S_Mandenka_1      | 107 | 156 | 263 | 0.5931559 |\n",
       "| S_Gambian_1       | 106 | 158 | 264 | 0.5984848 |\n",
       "| S_Yoruba_2        | 107 | 159 | 266 | 0.5977444 |\n",
       "| S_Mbuti_1         | 105 | 160 | 265 | 0.6037736 |\n",
       "| S_Burmese_1       |   0 | 260 | 260 | 1.0000000 |\n",
       "| S_Sardinian_1     |   0 | 262 | 262 | 1.0000000 |\n",
       "| S_Saami_2         |   0 | 262 | 262 | 1.0000000 |\n",
       "| Ust'-Ishim        |   0 | 263 | 263 | 1.0000000 |\n",
       "| S_BedouinB_1      |   0 | 263 | 263 | 1.0000000 |\n",
       "| S_Turkish_1       |   0 | 263 | 263 | 1.0000000 |\n",
       "| S_French_1        |   0 | 263 | 263 | 1.0000000 |\n",
       "| S_Han_2           |   0 | 263 | 263 | 1.0000000 |\n",
       "| S_Dai_2           |   0 | 263 | 263 | 1.0000000 |\n",
       "| S_Karitiana_1     |   0 | 263 | 263 | 1.0000000 |\n",
       "| S_Papuan_2        |   0 | 264 | 264 | 1.0000000 |\n",
       "| S_Finnish_2       |   0 | 265 | 265 | 1.0000000 |\n",
       "| S_Punjabi_1       |   0 | 265 | 265 | 1.0000000 |\n",
       "| S_Thai_1          |   0 | 267 | 267 | 1.0000000 |\n",
       "\n"
      ],
      "text/plain": [
       "   name              ancestral derived total derived/total\n",
       "1  S_Ju_hoan_North_1 268         0     268   0.0000000    \n",
       "2  A00               268         0     268   0.0000000    \n",
       "3  A00-1             249         0     249   0.0000000    \n",
       "4  A00-2             265         0     265   0.0000000    \n",
       "5  S_Dinka_1         106       153     259   0.5907336    \n",
       "6  S_Mandenka_1      107       156     263   0.5931559    \n",
       "7  S_Gambian_1       106       158     264   0.5984848    \n",
       "8  S_Yoruba_2        107       159     266   0.5977444    \n",
       "9  S_Mbuti_1         105       160     265   0.6037736    \n",
       "10 S_Burmese_1         0       260     260   1.0000000    \n",
       "11 S_Sardinian_1       0       262     262   1.0000000    \n",
       "12 S_Saami_2           0       262     262   1.0000000    \n",
       "13 Ust'-Ishim          0       263     263   1.0000000    \n",
       "14 S_BedouinB_1        0       263     263   1.0000000    \n",
       "15 S_Turkish_1         0       263     263   1.0000000    \n",
       "16 S_French_1          0       263     263   1.0000000    \n",
       "17 S_Han_2             0       263     263   1.0000000    \n",
       "18 S_Dai_2             0       263     263   1.0000000    \n",
       "19 S_Karitiana_1       0       263     263   1.0000000    \n",
       "20 S_Papuan_2          0       264     264   1.0000000    \n",
       "21 S_Finnish_2         0       265     265   1.0000000    \n",
       "22 S_Punjabi_1         0       265     265   1.0000000    \n",
       "23 S_Thai_1            0       267     267   1.0000000    "
      ]
     },
     "metadata": {},
     "output_type": "display_data"
    }
   ],
   "source": [
    "counts_sgdp %>% arrange(derived)"
   ]
  },
  {
   "cell_type": "markdown",
   "metadata": {},
   "source": [
    "# Estimate contamination based on a pileup"
   ]
  },
  {
   "cell_type": "code",
   "execution_count": 33,
   "metadata": {},
   "outputs": [],
   "source": [
    "info_pos <- info_highcov %>% select(chrom, pos, REF, ALT)"
   ]
  },
  {
   "cell_type": "code",
   "execution_count": 54,
   "metadata": {},
   "outputs": [],
   "source": [
    "df_pileups <- future_map_dfr(c(\"spy1\", \"mez2\", \"den4\", \"den8\", \"elsidron2\"), function(individual) {\n",
    "    capture <- ifelse(individual == \"elsidron2\", \"lippold\", \"full\")\n",
    "    df_pileup <- read_tsv(here(paste0(\"data/pileup/\", capture, \"_\", individual, \".txt.gz\")),\n",
    "                          col_type = \"cicciiii\")\n",
    "\n",
    "    left_join(info_pos, df_pileup, by = c(\"chrom\", \"pos\")) %>%\n",
    "        select(-ref) %>%\n",
    "        filter(nchar(pileup) >= 3) %>%\n",
    "        mutate(\n",
    "            prop = case_when(\n",
    "                REF == \"A\" ~ A / (A + C + G + T),\n",
    "                REF == \"C\" ~ C / (A + C + G + T),\n",
    "                REF == \"G\" ~ G / (A + C + G + T),\n",
    "                REF == \"T\" ~ T / (A + C + G + T)\n",
    "            ),\n",
    "            name = fix_name(individual)\n",
    "        )\n",
    "    }\n",
    ")"
   ]
  },
  {
   "cell_type": "code",
   "execution_count": 55,
   "metadata": {},
   "outputs": [
    {
     "data": {
      "text/html": [
       "<table>\n",
       "<caption>A tibble: 5 × 2</caption>\n",
       "<thead>\n",
       "\t<tr><th scope=col>name</th><th scope=col>cont</th></tr>\n",
       "\t<tr><th scope=col>&lt;chr&gt;</th><th scope=col>&lt;dbl&gt;</th></tr>\n",
       "</thead>\n",
       "<tbody>\n",
       "\t<tr><td>Denisova 4             </td><td>0.19479167</td></tr>\n",
       "\t<tr><td>Denisova 8             </td><td>0.03354257</td></tr>\n",
       "\t<tr><td>El Sidrón 1253 (560 kb)</td><td>0.02967033</td></tr>\n",
       "\t<tr><td>Mezmaiskaya 2          </td><td>0.03860624</td></tr>\n",
       "\t<tr><td>Spy 94a                </td><td>0.10625000</td></tr>\n",
       "</tbody>\n",
       "</table>\n"
      ],
      "text/latex": [
       "A tibble: 5 × 2\n",
       "\\begin{tabular}{ll}\n",
       " name & cont\\\\\n",
       " <chr> & <dbl>\\\\\n",
       "\\hline\n",
       "\t Denisova 4              & 0.19479167\\\\\n",
       "\t Denisova 8              & 0.03354257\\\\\n",
       "\t El Sidrón 1253 (560 kb) & 0.02967033\\\\\n",
       "\t Mezmaiskaya 2           & 0.03860624\\\\\n",
       "\t Spy 94a                 & 0.10625000\\\\\n",
       "\\end{tabular}\n"
      ],
      "text/markdown": [
       "\n",
       "A tibble: 5 × 2\n",
       "\n",
       "| name &lt;chr&gt; | cont &lt;dbl&gt; |\n",
       "|---|---|\n",
       "| Denisova 4              | 0.19479167 |\n",
       "| Denisova 8              | 0.03354257 |\n",
       "| El Sidrón 1253 (560 kb) | 0.02967033 |\n",
       "| Mezmaiskaya 2           | 0.03860624 |\n",
       "| Spy 94a                 | 0.10625000 |\n",
       "\n"
      ],
      "text/plain": [
       "  name                    cont      \n",
       "1 Denisova 4              0.19479167\n",
       "2 Denisova 8              0.03354257\n",
       "3 El Sidrón 1253 (560 kb) 0.02967033\n",
       "4 Mezmaiskaya 2           0.03860624\n",
       "5 Spy 94a                 0.10625000"
      ]
     },
     "metadata": {},
     "output_type": "display_data"
    }
   ],
   "source": [
    "df_pileups %>%\n",
    "    group_by(name) %>%\n",
    "    summarise(cont = mean(prop))"
   ]
  },
  {
   "cell_type": "code",
   "execution_count": 56,
   "metadata": {},
   "outputs": [
    {
     "data": {
      "text/html": [
       "<table>\n",
       "<caption>A tibble: 32 × 11</caption>\n",
       "<thead>\n",
       "\t<tr><th scope=col>chrom</th><th scope=col>pos</th><th scope=col>REF</th><th scope=col>ALT</th><th scope=col>pileup</th><th scope=col>A</th><th scope=col>C</th><th scope=col>G</th><th scope=col>T</th><th scope=col>prop</th><th scope=col>name</th></tr>\n",
       "\t<tr><th scope=col>&lt;chr&gt;</th><th scope=col>&lt;int&gt;</th><th scope=col>&lt;chr&gt;</th><th scope=col>&lt;chr&gt;</th><th scope=col>&lt;chr&gt;</th><th scope=col>&lt;int&gt;</th><th scope=col>&lt;int&gt;</th><th scope=col>&lt;int&gt;</th><th scope=col>&lt;int&gt;</th><th scope=col>&lt;dbl&gt;</th><th scope=col>&lt;chr&gt;</th></tr>\n",
       "</thead>\n",
       "<tbody>\n",
       "\t<tr><td>Y</td><td> 2707859</td><td>G</td><td>C</td><td>TCC   </td><td>0</td><td>2</td><td>0</td><td>1</td><td>0.0000000</td><td>Denisova 4</td></tr>\n",
       "\t<tr><td>Y</td><td> 2757670</td><td>T</td><td>C</td><td>TCC   </td><td>0</td><td>2</td><td>0</td><td>1</td><td>0.3333333</td><td>Denisova 4</td></tr>\n",
       "\t<tr><td>Y</td><td> 7173143</td><td>A</td><td>G</td><td>GGG   </td><td>0</td><td>0</td><td>3</td><td>0</td><td>0.0000000</td><td>Denisova 4</td></tr>\n",
       "\t<tr><td>Y</td><td> 7533511</td><td>A</td><td>G</td><td>GGAA  </td><td>2</td><td>0</td><td>2</td><td>0</td><td>0.5000000</td><td>Denisova 4</td></tr>\n",
       "\t<tr><td>Y</td><td> 7740081</td><td>A</td><td>G</td><td>GGG   </td><td>0</td><td>0</td><td>3</td><td>0</td><td>0.0000000</td><td>Denisova 4</td></tr>\n",
       "\t<tr><td>Y</td><td> 7778691</td><td>T</td><td>C</td><td>CCCT  </td><td>0</td><td>3</td><td>0</td><td>1</td><td>0.2500000</td><td>Denisova 4</td></tr>\n",
       "\t<tr><td>Y</td><td> 7796647</td><td>T</td><td>C</td><td>CCT   </td><td>0</td><td>2</td><td>0</td><td>1</td><td>0.3333333</td><td>Denisova 4</td></tr>\n",
       "\t<tr><td>Y</td><td> 7887815</td><td>T</td><td>A</td><td>TAA   </td><td>2</td><td>0</td><td>0</td><td>1</td><td>0.3333333</td><td>Denisova 4</td></tr>\n",
       "\t<tr><td>Y</td><td> 8474189</td><td>C</td><td>A</td><td>AAAA  </td><td>4</td><td>0</td><td>0</td><td>0</td><td>0.0000000</td><td>Denisova 4</td></tr>\n",
       "\t<tr><td>Y</td><td> 8526565</td><td>A</td><td>G</td><td>GAG   </td><td>1</td><td>0</td><td>2</td><td>0</td><td>0.3333333</td><td>Denisova 4</td></tr>\n",
       "\t<tr><td>Y</td><td> 8543804</td><td>A</td><td>G</td><td>GGG   </td><td>0</td><td>0</td><td>3</td><td>0</td><td>0.0000000</td><td>Denisova 4</td></tr>\n",
       "\t<tr><td>Y</td><td> 8589031</td><td>T</td><td>C</td><td>CCC   </td><td>0</td><td>3</td><td>0</td><td>0</td><td>0.0000000</td><td>Denisova 4</td></tr>\n",
       "\t<tr><td>Y</td><td> 8602415</td><td>T</td><td>C</td><td>CTT   </td><td>0</td><td>1</td><td>0</td><td>2</td><td>0.6666667</td><td>Denisova 4</td></tr>\n",
       "\t<tr><td>Y</td><td>14079528</td><td>T</td><td>C</td><td>TCC   </td><td>0</td><td>2</td><td>0</td><td>1</td><td>0.3333333</td><td>Denisova 4</td></tr>\n",
       "\t<tr><td>Y</td><td>14197867</td><td>A</td><td>G</td><td>AGA   </td><td>2</td><td>0</td><td>1</td><td>0</td><td>0.6666667</td><td>Denisova 4</td></tr>\n",
       "\t<tr><td>Y</td><td>15553123</td><td>T</td><td>C</td><td>CTC   </td><td>0</td><td>2</td><td>0</td><td>1</td><td>0.3333333</td><td>Denisova 4</td></tr>\n",
       "\t<tr><td>Y</td><td>15614295</td><td>T</td><td>C</td><td>TTCC  </td><td>0</td><td>2</td><td>0</td><td>2</td><td>0.5000000</td><td>Denisova 4</td></tr>\n",
       "\t<tr><td>Y</td><td>16567551</td><td>A</td><td>G</td><td>AGGGGG</td><td>1</td><td>0</td><td>5</td><td>0</td><td>0.1666667</td><td>Denisova 4</td></tr>\n",
       "\t<tr><td>Y</td><td>17493513</td><td>T</td><td>C</td><td>TCC   </td><td>0</td><td>2</td><td>0</td><td>1</td><td>0.3333333</td><td>Denisova 4</td></tr>\n",
       "\t<tr><td>Y</td><td>17897543</td><td>T</td><td>C</td><td>CCCCC </td><td>0</td><td>5</td><td>0</td><td>0</td><td>0.0000000</td><td>Denisova 4</td></tr>\n",
       "\t<tr><td>Y</td><td>18051289</td><td>G</td><td>C</td><td>CCC   </td><td>0</td><td>3</td><td>0</td><td>0</td><td>0.0000000</td><td>Denisova 4</td></tr>\n",
       "\t<tr><td>Y</td><td>18592845</td><td>A</td><td>G</td><td>GAGG  </td><td>1</td><td>0</td><td>3</td><td>0</td><td>0.2500000</td><td>Denisova 4</td></tr>\n",
       "\t<tr><td>Y</td><td>18765649</td><td>C</td><td>T</td><td>TTTT  </td><td>0</td><td>0</td><td>0</td><td>4</td><td>0.0000000</td><td>Denisova 4</td></tr>\n",
       "\t<tr><td>Y</td><td>19077394</td><td>G</td><td>A</td><td>AAA   </td><td>3</td><td>0</td><td>0</td><td>0</td><td>0.0000000</td><td>Denisova 4</td></tr>\n",
       "\t<tr><td>Y</td><td>19220444</td><td>G</td><td>A</td><td>AAAA  </td><td>4</td><td>0</td><td>0</td><td>0</td><td>0.0000000</td><td>Denisova 4</td></tr>\n",
       "\t<tr><td>Y</td><td>21249694</td><td>A</td><td>G</td><td>GGAG  </td><td>1</td><td>0</td><td>3</td><td>0</td><td>0.2500000</td><td>Denisova 4</td></tr>\n",
       "\t<tr><td>Y</td><td>21429988</td><td>G</td><td>A</td><td>AAA   </td><td>3</td><td>0</td><td>0</td><td>0</td><td>0.0000000</td><td>Denisova 4</td></tr>\n",
       "\t<tr><td>Y</td><td>21650381</td><td>G</td><td>A</td><td>AAGA  </td><td>3</td><td>0</td><td>1</td><td>0</td><td>0.2500000</td><td>Denisova 4</td></tr>\n",
       "\t<tr><td>Y</td><td>22156498</td><td>A</td><td>C</td><td>CCC   </td><td>0</td><td>3</td><td>0</td><td>0</td><td>0.0000000</td><td>Denisova 4</td></tr>\n",
       "\t<tr><td>Y</td><td>22176853</td><td>A</td><td>G</td><td>GGGG  </td><td>0</td><td>0</td><td>4</td><td>0</td><td>0.0000000</td><td>Denisova 4</td></tr>\n",
       "\t<tr><td>Y</td><td>23555082</td><td>A</td><td>T</td><td>TTT   </td><td>0</td><td>0</td><td>0</td><td>3</td><td>0.0000000</td><td>Denisova 4</td></tr>\n",
       "\t<tr><td>Y</td><td>24443898</td><td>T</td><td>C</td><td>CCCTT </td><td>0</td><td>3</td><td>0</td><td>2</td><td>0.4000000</td><td>Denisova 4</td></tr>\n",
       "</tbody>\n",
       "</table>\n"
      ],
      "text/latex": [
       "A tibble: 32 × 11\n",
       "\\begin{tabular}{lllllllllll}\n",
       " chrom & pos & REF & ALT & pileup & A & C & G & T & prop & name\\\\\n",
       " <chr> & <int> & <chr> & <chr> & <chr> & <int> & <int> & <int> & <int> & <dbl> & <chr>\\\\\n",
       "\\hline\n",
       "\t Y &  2707859 & G & C & TCC    & 0 & 2 & 0 & 1 & 0.0000000 & Denisova 4\\\\\n",
       "\t Y &  2757670 & T & C & TCC    & 0 & 2 & 0 & 1 & 0.3333333 & Denisova 4\\\\\n",
       "\t Y &  7173143 & A & G & GGG    & 0 & 0 & 3 & 0 & 0.0000000 & Denisova 4\\\\\n",
       "\t Y &  7533511 & A & G & GGAA   & 2 & 0 & 2 & 0 & 0.5000000 & Denisova 4\\\\\n",
       "\t Y &  7740081 & A & G & GGG    & 0 & 0 & 3 & 0 & 0.0000000 & Denisova 4\\\\\n",
       "\t Y &  7778691 & T & C & CCCT   & 0 & 3 & 0 & 1 & 0.2500000 & Denisova 4\\\\\n",
       "\t Y &  7796647 & T & C & CCT    & 0 & 2 & 0 & 1 & 0.3333333 & Denisova 4\\\\\n",
       "\t Y &  7887815 & T & A & TAA    & 2 & 0 & 0 & 1 & 0.3333333 & Denisova 4\\\\\n",
       "\t Y &  8474189 & C & A & AAAA   & 4 & 0 & 0 & 0 & 0.0000000 & Denisova 4\\\\\n",
       "\t Y &  8526565 & A & G & GAG    & 1 & 0 & 2 & 0 & 0.3333333 & Denisova 4\\\\\n",
       "\t Y &  8543804 & A & G & GGG    & 0 & 0 & 3 & 0 & 0.0000000 & Denisova 4\\\\\n",
       "\t Y &  8589031 & T & C & CCC    & 0 & 3 & 0 & 0 & 0.0000000 & Denisova 4\\\\\n",
       "\t Y &  8602415 & T & C & CTT    & 0 & 1 & 0 & 2 & 0.6666667 & Denisova 4\\\\\n",
       "\t Y & 14079528 & T & C & TCC    & 0 & 2 & 0 & 1 & 0.3333333 & Denisova 4\\\\\n",
       "\t Y & 14197867 & A & G & AGA    & 2 & 0 & 1 & 0 & 0.6666667 & Denisova 4\\\\\n",
       "\t Y & 15553123 & T & C & CTC    & 0 & 2 & 0 & 1 & 0.3333333 & Denisova 4\\\\\n",
       "\t Y & 15614295 & T & C & TTCC   & 0 & 2 & 0 & 2 & 0.5000000 & Denisova 4\\\\\n",
       "\t Y & 16567551 & A & G & AGGGGG & 1 & 0 & 5 & 0 & 0.1666667 & Denisova 4\\\\\n",
       "\t Y & 17493513 & T & C & TCC    & 0 & 2 & 0 & 1 & 0.3333333 & Denisova 4\\\\\n",
       "\t Y & 17897543 & T & C & CCCCC  & 0 & 5 & 0 & 0 & 0.0000000 & Denisova 4\\\\\n",
       "\t Y & 18051289 & G & C & CCC    & 0 & 3 & 0 & 0 & 0.0000000 & Denisova 4\\\\\n",
       "\t Y & 18592845 & A & G & GAGG   & 1 & 0 & 3 & 0 & 0.2500000 & Denisova 4\\\\\n",
       "\t Y & 18765649 & C & T & TTTT   & 0 & 0 & 0 & 4 & 0.0000000 & Denisova 4\\\\\n",
       "\t Y & 19077394 & G & A & AAA    & 3 & 0 & 0 & 0 & 0.0000000 & Denisova 4\\\\\n",
       "\t Y & 19220444 & G & A & AAAA   & 4 & 0 & 0 & 0 & 0.0000000 & Denisova 4\\\\\n",
       "\t Y & 21249694 & A & G & GGAG   & 1 & 0 & 3 & 0 & 0.2500000 & Denisova 4\\\\\n",
       "\t Y & 21429988 & G & A & AAA    & 3 & 0 & 0 & 0 & 0.0000000 & Denisova 4\\\\\n",
       "\t Y & 21650381 & G & A & AAGA   & 3 & 0 & 1 & 0 & 0.2500000 & Denisova 4\\\\\n",
       "\t Y & 22156498 & A & C & CCC    & 0 & 3 & 0 & 0 & 0.0000000 & Denisova 4\\\\\n",
       "\t Y & 22176853 & A & G & GGGG   & 0 & 0 & 4 & 0 & 0.0000000 & Denisova 4\\\\\n",
       "\t Y & 23555082 & A & T & TTT    & 0 & 0 & 0 & 3 & 0.0000000 & Denisova 4\\\\\n",
       "\t Y & 24443898 & T & C & CCCTT  & 0 & 3 & 0 & 2 & 0.4000000 & Denisova 4\\\\\n",
       "\\end{tabular}\n"
      ],
      "text/markdown": [
       "\n",
       "A tibble: 32 × 11\n",
       "\n",
       "| chrom &lt;chr&gt; | pos &lt;int&gt; | REF &lt;chr&gt; | ALT &lt;chr&gt; | pileup &lt;chr&gt; | A &lt;int&gt; | C &lt;int&gt; | G &lt;int&gt; | T &lt;int&gt; | prop &lt;dbl&gt; | name &lt;chr&gt; |\n",
       "|---|---|---|---|---|---|---|---|---|---|---|\n",
       "| Y |  2707859 | G | C | TCC    | 0 | 2 | 0 | 1 | 0.0000000 | Denisova 4 |\n",
       "| Y |  2757670 | T | C | TCC    | 0 | 2 | 0 | 1 | 0.3333333 | Denisova 4 |\n",
       "| Y |  7173143 | A | G | GGG    | 0 | 0 | 3 | 0 | 0.0000000 | Denisova 4 |\n",
       "| Y |  7533511 | A | G | GGAA   | 2 | 0 | 2 | 0 | 0.5000000 | Denisova 4 |\n",
       "| Y |  7740081 | A | G | GGG    | 0 | 0 | 3 | 0 | 0.0000000 | Denisova 4 |\n",
       "| Y |  7778691 | T | C | CCCT   | 0 | 3 | 0 | 1 | 0.2500000 | Denisova 4 |\n",
       "| Y |  7796647 | T | C | CCT    | 0 | 2 | 0 | 1 | 0.3333333 | Denisova 4 |\n",
       "| Y |  7887815 | T | A | TAA    | 2 | 0 | 0 | 1 | 0.3333333 | Denisova 4 |\n",
       "| Y |  8474189 | C | A | AAAA   | 4 | 0 | 0 | 0 | 0.0000000 | Denisova 4 |\n",
       "| Y |  8526565 | A | G | GAG    | 1 | 0 | 2 | 0 | 0.3333333 | Denisova 4 |\n",
       "| Y |  8543804 | A | G | GGG    | 0 | 0 | 3 | 0 | 0.0000000 | Denisova 4 |\n",
       "| Y |  8589031 | T | C | CCC    | 0 | 3 | 0 | 0 | 0.0000000 | Denisova 4 |\n",
       "| Y |  8602415 | T | C | CTT    | 0 | 1 | 0 | 2 | 0.6666667 | Denisova 4 |\n",
       "| Y | 14079528 | T | C | TCC    | 0 | 2 | 0 | 1 | 0.3333333 | Denisova 4 |\n",
       "| Y | 14197867 | A | G | AGA    | 2 | 0 | 1 | 0 | 0.6666667 | Denisova 4 |\n",
       "| Y | 15553123 | T | C | CTC    | 0 | 2 | 0 | 1 | 0.3333333 | Denisova 4 |\n",
       "| Y | 15614295 | T | C | TTCC   | 0 | 2 | 0 | 2 | 0.5000000 | Denisova 4 |\n",
       "| Y | 16567551 | A | G | AGGGGG | 1 | 0 | 5 | 0 | 0.1666667 | Denisova 4 |\n",
       "| Y | 17493513 | T | C | TCC    | 0 | 2 | 0 | 1 | 0.3333333 | Denisova 4 |\n",
       "| Y | 17897543 | T | C | CCCCC  | 0 | 5 | 0 | 0 | 0.0000000 | Denisova 4 |\n",
       "| Y | 18051289 | G | C | CCC    | 0 | 3 | 0 | 0 | 0.0000000 | Denisova 4 |\n",
       "| Y | 18592845 | A | G | GAGG   | 1 | 0 | 3 | 0 | 0.2500000 | Denisova 4 |\n",
       "| Y | 18765649 | C | T | TTTT   | 0 | 0 | 0 | 4 | 0.0000000 | Denisova 4 |\n",
       "| Y | 19077394 | G | A | AAA    | 3 | 0 | 0 | 0 | 0.0000000 | Denisova 4 |\n",
       "| Y | 19220444 | G | A | AAAA   | 4 | 0 | 0 | 0 | 0.0000000 | Denisova 4 |\n",
       "| Y | 21249694 | A | G | GGAG   | 1 | 0 | 3 | 0 | 0.2500000 | Denisova 4 |\n",
       "| Y | 21429988 | G | A | AAA    | 3 | 0 | 0 | 0 | 0.0000000 | Denisova 4 |\n",
       "| Y | 21650381 | G | A | AAGA   | 3 | 0 | 1 | 0 | 0.2500000 | Denisova 4 |\n",
       "| Y | 22156498 | A | C | CCC    | 0 | 3 | 0 | 0 | 0.0000000 | Denisova 4 |\n",
       "| Y | 22176853 | A | G | GGGG   | 0 | 0 | 4 | 0 | 0.0000000 | Denisova 4 |\n",
       "| Y | 23555082 | A | T | TTT    | 0 | 0 | 0 | 3 | 0.0000000 | Denisova 4 |\n",
       "| Y | 24443898 | T | C | CCCTT  | 0 | 3 | 0 | 2 | 0.4000000 | Denisova 4 |\n",
       "\n"
      ],
      "text/plain": [
       "   chrom pos      REF ALT pileup A C G T prop      name      \n",
       "1  Y      2707859 G   C   TCC    0 2 0 1 0.0000000 Denisova 4\n",
       "2  Y      2757670 T   C   TCC    0 2 0 1 0.3333333 Denisova 4\n",
       "3  Y      7173143 A   G   GGG    0 0 3 0 0.0000000 Denisova 4\n",
       "4  Y      7533511 A   G   GGAA   2 0 2 0 0.5000000 Denisova 4\n",
       "5  Y      7740081 A   G   GGG    0 0 3 0 0.0000000 Denisova 4\n",
       "6  Y      7778691 T   C   CCCT   0 3 0 1 0.2500000 Denisova 4\n",
       "7  Y      7796647 T   C   CCT    0 2 0 1 0.3333333 Denisova 4\n",
       "8  Y      7887815 T   A   TAA    2 0 0 1 0.3333333 Denisova 4\n",
       "9  Y      8474189 C   A   AAAA   4 0 0 0 0.0000000 Denisova 4\n",
       "10 Y      8526565 A   G   GAG    1 0 2 0 0.3333333 Denisova 4\n",
       "11 Y      8543804 A   G   GGG    0 0 3 0 0.0000000 Denisova 4\n",
       "12 Y      8589031 T   C   CCC    0 3 0 0 0.0000000 Denisova 4\n",
       "13 Y      8602415 T   C   CTT    0 1 0 2 0.6666667 Denisova 4\n",
       "14 Y     14079528 T   C   TCC    0 2 0 1 0.3333333 Denisova 4\n",
       "15 Y     14197867 A   G   AGA    2 0 1 0 0.6666667 Denisova 4\n",
       "16 Y     15553123 T   C   CTC    0 2 0 1 0.3333333 Denisova 4\n",
       "17 Y     15614295 T   C   TTCC   0 2 0 2 0.5000000 Denisova 4\n",
       "18 Y     16567551 A   G   AGGGGG 1 0 5 0 0.1666667 Denisova 4\n",
       "19 Y     17493513 T   C   TCC    0 2 0 1 0.3333333 Denisova 4\n",
       "20 Y     17897543 T   C   CCCCC  0 5 0 0 0.0000000 Denisova 4\n",
       "21 Y     18051289 G   C   CCC    0 3 0 0 0.0000000 Denisova 4\n",
       "22 Y     18592845 A   G   GAGG   1 0 3 0 0.2500000 Denisova 4\n",
       "23 Y     18765649 C   T   TTTT   0 0 0 4 0.0000000 Denisova 4\n",
       "24 Y     19077394 G   A   AAA    3 0 0 0 0.0000000 Denisova 4\n",
       "25 Y     19220444 G   A   AAAA   4 0 0 0 0.0000000 Denisova 4\n",
       "26 Y     21249694 A   G   GGAG   1 0 3 0 0.2500000 Denisova 4\n",
       "27 Y     21429988 G   A   AAA    3 0 0 0 0.0000000 Denisova 4\n",
       "28 Y     21650381 G   A   AAGA   3 0 1 0 0.2500000 Denisova 4\n",
       "29 Y     22156498 A   C   CCC    0 3 0 0 0.0000000 Denisova 4\n",
       "30 Y     22176853 A   G   GGGG   0 0 4 0 0.0000000 Denisova 4\n",
       "31 Y     23555082 A   T   TTT    0 0 0 3 0.0000000 Denisova 4\n",
       "32 Y     24443898 T   C   CCCTT  0 3 0 2 0.4000000 Denisova 4"
      ]
     },
     "metadata": {},
     "output_type": "display_data"
    }
   ],
   "source": [
    "df_pileups %>% filter(name == \"Denisova 4\")"
   ]
  },
  {
   "cell_type": "code",
   "execution_count": null,
   "metadata": {},
   "outputs": [],
   "source": []
  },
  {
   "cell_type": "code",
   "execution_count": null,
   "metadata": {},
   "outputs": [],
   "source": []
  },
  {
   "cell_type": "code",
   "execution_count": null,
   "metadata": {},
   "outputs": [],
   "source": []
  },
  {
   "cell_type": "code",
   "execution_count": null,
   "metadata": {},
   "outputs": [],
   "source": []
  },
  {
   "cell_type": "code",
   "execution_count": null,
   "metadata": {},
   "outputs": [],
   "source": []
  },
  {
   "cell_type": "code",
   "execution_count": 59,
   "metadata": {},
   "outputs": [],
   "source": [
    "chag_pileups <- future_map_dfr(paste0(\"chag\", c(\"01\", \"02\", \"06\", \"07\", \"09\", \"1141\", \"13\", \"14\", \"19\", \"41\")),\n",
    "                                    function(individual) {\n",
    "    capture <- ifelse(individual == \"elsidron2\", \"lippold\", \"full\")\n",
    "    df_pileup <- read_tsv(paste0(\"../../chag-ychr/data/pileup/\", capture, \"_\", individual, \".txt.gz\"),\n",
    "                          col_type = \"cicciiii\")\n",
    "\n",
    "    left_join(info_pos, df_pileup, by = c(\"chrom\", \"pos\")) %>%\n",
    "        select(-ref) %>%\n",
    "        filter(nchar(pileup) >= 3) %>%\n",
    "        mutate(\n",
    "            prop = case_when(\n",
    "                REF == \"A\" ~ A / (A + C + G + T),\n",
    "                REF == \"C\" ~ C / (A + C + G + T),\n",
    "                REF == \"G\" ~ G / (A + C + G + T),\n",
    "                REF == \"T\" ~ T / (A + C + G + T)\n",
    "            ),\n",
    "            name = fix_name(individual)\n",
    "        )\n",
    "    }\n",
    ")"
   ]
  },
  {
   "cell_type": "code",
   "execution_count": 60,
   "metadata": {},
   "outputs": [
    {
     "data": {
      "text/html": [
       "<table>\n",
       "<caption>A tibble: 8 × 2</caption>\n",
       "<thead>\n",
       "\t<tr><th scope=col>name</th><th scope=col>cont</th></tr>\n",
       "\t<tr><th scope=col>&lt;chr&gt;</th><th scope=col>&lt;dbl&gt;</th></tr>\n",
       "</thead>\n",
       "<tbody>\n",
       "\t<tr><td>chag01  </td><td>0.25528455</td></tr>\n",
       "\t<tr><td>chag02  </td><td>0.00000000</td></tr>\n",
       "\t<tr><td>chag07  </td><td>0.01960784</td></tr>\n",
       "\t<tr><td>chag09  </td><td>0.12500000</td></tr>\n",
       "\t<tr><td>chag1141</td><td>0.00000000</td></tr>\n",
       "\t<tr><td>chag13  </td><td>0.01666667</td></tr>\n",
       "\t<tr><td>chag19  </td><td>0.07692308</td></tr>\n",
       "\t<tr><td>chag41  </td><td>0.06435971</td></tr>\n",
       "</tbody>\n",
       "</table>\n"
      ],
      "text/latex": [
       "A tibble: 8 × 2\n",
       "\\begin{tabular}{ll}\n",
       " name & cont\\\\\n",
       " <chr> & <dbl>\\\\\n",
       "\\hline\n",
       "\t chag01   & 0.25528455\\\\\n",
       "\t chag02   & 0.00000000\\\\\n",
       "\t chag07   & 0.01960784\\\\\n",
       "\t chag09   & 0.12500000\\\\\n",
       "\t chag1141 & 0.00000000\\\\\n",
       "\t chag13   & 0.01666667\\\\\n",
       "\t chag19   & 0.07692308\\\\\n",
       "\t chag41   & 0.06435971\\\\\n",
       "\\end{tabular}\n"
      ],
      "text/markdown": [
       "\n",
       "A tibble: 8 × 2\n",
       "\n",
       "| name &lt;chr&gt; | cont &lt;dbl&gt; |\n",
       "|---|---|\n",
       "| chag01   | 0.25528455 |\n",
       "| chag02   | 0.00000000 |\n",
       "| chag07   | 0.01960784 |\n",
       "| chag09   | 0.12500000 |\n",
       "| chag1141 | 0.00000000 |\n",
       "| chag13   | 0.01666667 |\n",
       "| chag19   | 0.07692308 |\n",
       "| chag41   | 0.06435971 |\n",
       "\n"
      ],
      "text/plain": [
       "  name     cont      \n",
       "1 chag01   0.25528455\n",
       "2 chag02   0.00000000\n",
       "3 chag07   0.01960784\n",
       "4 chag09   0.12500000\n",
       "5 chag1141 0.00000000\n",
       "6 chag13   0.01666667\n",
       "7 chag19   0.07692308\n",
       "8 chag41   0.06435971"
      ]
     },
     "metadata": {},
     "output_type": "display_data"
    }
   ],
   "source": [
    "chag_pileups %>%\n",
    "    group_by(name) %>%\n",
    "    summarise(cont = mean(prop))"
   ]
  }
 ],
 "metadata": {
  "kernelspec": {
   "display_name": "R",
   "language": "R",
   "name": "ir"
  },
  "language_info": {
   "codemirror_mode": "r",
   "file_extension": ".r",
   "mimetype": "text/x-r-source",
   "name": "R",
   "pygments_lexer": "r",
   "version": "3.6.0"
  }
 },
 "nbformat": 4,
 "nbformat_minor": 2
}
