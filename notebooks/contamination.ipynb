{
 "cells": [
  {
   "cell_type": "code",
   "execution_count": 1,
   "metadata": {},
   "outputs": [
    {
     "name": "stderr",
     "output_type": "stream",
     "text": [
      "── \u001b[1mAttaching packages\u001b[22m ─────────────────────────────────────── tidyverse 1.2.1 ──\n",
      "\u001b[32m✔\u001b[39m \u001b[34mggplot2\u001b[39m 3.2.1     \u001b[32m✔\u001b[39m \u001b[34mpurrr  \u001b[39m 0.3.2\n",
      "\u001b[32m✔\u001b[39m \u001b[34mtibble \u001b[39m 2.1.3     \u001b[32m✔\u001b[39m \u001b[34mdplyr  \u001b[39m 0.8.3\n",
      "\u001b[32m✔\u001b[39m \u001b[34mtidyr  \u001b[39m 1.0.0     \u001b[32m✔\u001b[39m \u001b[34mstringr\u001b[39m 1.4.0\n",
      "\u001b[32m✔\u001b[39m \u001b[34mreadr  \u001b[39m 1.3.1     \u001b[32m✔\u001b[39m \u001b[34mforcats\u001b[39m 0.4.0\n",
      "── \u001b[1mConflicts\u001b[22m ────────────────────────────────────────── tidyverse_conflicts() ──\n",
      "\u001b[31m✖\u001b[39m \u001b[34mdplyr\u001b[39m::\u001b[32mfilter()\u001b[39m masks \u001b[34mstats\u001b[39m::filter()\n",
      "\u001b[31m✖\u001b[39m \u001b[34mdplyr\u001b[39m::\u001b[32mlag()\u001b[39m    masks \u001b[34mstats\u001b[39m::lag()\n",
      "\n",
      "Attaching package: ‘magrittr’\n",
      "\n",
      "The following object is masked from ‘package:purrr’:\n",
      "\n",
      "    set_names\n",
      "\n",
      "The following object is masked from ‘package:tidyr’:\n",
      "\n",
      "    extract\n",
      "\n",
      "here() starts at /mnt/expressions/mp/ychr\n",
      "Loading required package: ape\n",
      "Loading required package: future\n",
      "Loading ychr\n"
     ]
    }
   ],
   "source": [
    "library(tidyverse)\n",
    "library(magrittr)\n",
    "library(here)\n",
    "library(phangorn)\n",
    "library(furrr)\n",
    "\n",
    "devtools::load_all(\".\")\n",
    "\n",
    "plan(multiprocess)"
   ]
  },
  {
   "cell_type": "markdown",
   "metadata": {},
   "source": [
    "Extract sample names from the AMH high-coverage VCF:"
   ]
  },
  {
   "cell_type": "code",
   "execution_count": 2,
   "metadata": {},
   "outputs": [],
   "source": [
    "highcov <- read_vcf(here(\"data/vcf/full_modern.vcf.gz\"), mindp = 3, maxdp = 0.98, var_only = TRUE)"
   ]
  },
  {
   "cell_type": "code",
   "execution_count": 3,
   "metadata": {},
   "outputs": [],
   "source": [
    "pops <- read_info(highcov)"
   ]
  },
  {
   "cell_type": "markdown",
   "metadata": {},
   "source": [
    "Define two population groups to polarize the human derived/ancestral state:"
   ]
  },
  {
   "cell_type": "code",
   "execution_count": 4,
   "metadata": {
    "scrolled": true
   },
   "outputs": [
    {
     "data": {
      "text/html": [
       "<ol class=list-inline>\n",
       "\t<li>'a00'</li>\n",
       "\t<li>'S_Ju_hoan_North_1'</li>\n",
       "</ol>\n"
      ],
      "text/latex": [
       "\\begin{enumerate*}\n",
       "\\item 'a00'\n",
       "\\item 'S\\_Ju\\_hoan\\_North\\_1'\n",
       "\\end{enumerate*}\n"
      ],
      "text/markdown": [
       "1. 'a00'\n",
       "2. 'S_Ju_hoan_North_1'\n",
       "\n",
       "\n"
      ],
      "text/plain": [
       "[1] \"a00\"               \"S_Ju_hoan_North_1\""
      ]
     },
     "metadata": {},
     "output_type": "display_data"
    },
    {
     "data": {
      "text/html": [
       "<ol class=list-inline>\n",
       "\t<li>'S_BedouinB_1'</li>\n",
       "\t<li>'S_Turkish_1'</li>\n",
       "\t<li>'S_French_1'</li>\n",
       "\t<li>'S_Burmese_1'</li>\n",
       "\t<li>'S_Thai_1'</li>\n",
       "\t<li>'S_Finnish_2'</li>\n",
       "\t<li>'S_Sardinian_1'</li>\n",
       "\t<li>'S_Han_2'</li>\n",
       "\t<li>'S_Dai_2'</li>\n",
       "\t<li>'S_Punjabi_1'</li>\n",
       "\t<li>'S_Saami_2'</li>\n",
       "\t<li>'S_Papuan_2'</li>\n",
       "\t<li>'S_Karitiana_1'</li>\n",
       "</ol>\n"
      ],
      "text/latex": [
       "\\begin{enumerate*}\n",
       "\\item 'S\\_BedouinB\\_1'\n",
       "\\item 'S\\_Turkish\\_1'\n",
       "\\item 'S\\_French\\_1'\n",
       "\\item 'S\\_Burmese\\_1'\n",
       "\\item 'S\\_Thai\\_1'\n",
       "\\item 'S\\_Finnish\\_2'\n",
       "\\item 'S\\_Sardinian\\_1'\n",
       "\\item 'S\\_Han\\_2'\n",
       "\\item 'S\\_Dai\\_2'\n",
       "\\item 'S\\_Punjabi\\_1'\n",
       "\\item 'S\\_Saami\\_2'\n",
       "\\item 'S\\_Papuan\\_2'\n",
       "\\item 'S\\_Karitiana\\_1'\n",
       "\\end{enumerate*}\n"
      ],
      "text/markdown": [
       "1. 'S_BedouinB_1'\n",
       "2. 'S_Turkish_1'\n",
       "3. 'S_French_1'\n",
       "4. 'S_Burmese_1'\n",
       "5. 'S_Thai_1'\n",
       "6. 'S_Finnish_2'\n",
       "7. 'S_Sardinian_1'\n",
       "8. 'S_Han_2'\n",
       "9. 'S_Dai_2'\n",
       "10. 'S_Punjabi_1'\n",
       "11. 'S_Saami_2'\n",
       "12. 'S_Papuan_2'\n",
       "13. 'S_Karitiana_1'\n",
       "\n",
       "\n"
      ],
      "text/plain": [
       " [1] \"S_BedouinB_1\"  \"S_Turkish_1\"   \"S_French_1\"    \"S_Burmese_1\"  \n",
       " [5] \"S_Thai_1\"      \"S_Finnish_2\"   \"S_Sardinian_1\" \"S_Han_2\"      \n",
       " [9] \"S_Dai_2\"       \"S_Punjabi_1\"   \"S_Saami_2\"     \"S_Papuan_2\"   \n",
       "[13] \"S_Karitiana_1\""
      ]
     },
     "metadata": {},
     "output_type": "display_data"
    }
   ],
   "source": [
    "(outgroup <- c(\"a00\", \"S_Ju_hoan_North_1\"))\n",
    "(ingroup <- filter(pops, pop %in% c(\"WestEur\", \"EastEur\"))$name)"
   ]
  },
  {
   "cell_type": "markdown",
   "metadata": {},
   "source": [
    "Load the alignment and plot the tree:"
   ]
  },
  {
   "cell_type": "code",
   "execution_count": 5,
   "metadata": {},
   "outputs": [
    {
     "name": "stderr",
     "output_type": "stream",
     "text": [
      "Warning message in file(con, \"rb\"):\n",
      "“cannot open file '/mnt/expressions/mp/ychr/data/fasta/full_highcov.fa': No such file or directory”"
     ]
    },
    {
     "ename": "ERROR",
     "evalue": "Error in file(con, \"rb\"): cannot open the connection\n",
     "output_type": "error",
     "traceback": [
      "Error in file(con, \"rb\"): cannot open the connection\nTraceback:\n",
      "1. read.phyDat(here(\"data/fasta/full_highcov.fa\"), format = \"fasta\")",
      "2. read.dna(file, format, as.character = TRUE, ...)",
      "3. read.FASTA(file)",
      "4. readBin(file, \"raw\", sz)",
      "5. file(con, \"rb\")"
     ]
    }
   ],
   "source": [
    "set_dim(3, 2)\n",
    "\n",
    "aln <- read.phyDat(here(\"data/fasta/full_highcov.fa\"), format = \"fasta\")\n",
    "aln$ustishim <- NULL\n",
    "\n",
    "tree <- NJ(dist.ml(aln))\n",
    "\n",
    "cols <- map_chr(tree$tip.label,\n",
    "                ~ case_when(.x %in% ingroup ~ \"red\",\n",
    "                            .x %in% outgroup ~ \"blue\",\n",
    "                            .x == \"chimp\" ~ \"blue\",\n",
    "                            TRUE ~ \"black\"))\n",
    "\n",
    "tree$tip.label <-\n",
    "    str_replace_all(tree$tip.label, \"S_\", \"\") %>%\n",
    "    str_replace_all(\"_\\\\d$\", \"\") %>%\n",
    "    str_replace(\"a00\", \"A00\")\n",
    "\n",
    "rooted_tree <- root(tree, outgroup = c(\"chimp\"), resolve.root = TRUE)\n",
    "\n",
    "plot(rooted_tree, use.edge.length = FALSE, tip.color = cols, no.margin = TRUE)\n",
    "\n",
    "png(here(\"figures/contamination_tree.png\"), 1400, 800, res = 300)\n",
    "plot(rooted_tree, use.edge.length = FALSE, tip.color = cols, no.margin = TRUE)\n",
    "dev.off()"
   ]
  },
  {
   "cell_type": "markdown",
   "metadata": {},
   "source": [
    "## Process the genotypes into a table of human variable SNPs"
   ]
  },
  {
   "cell_type": "code",
   "execution_count": 6,
   "metadata": {},
   "outputs": [],
   "source": [
    "filter_derived <- function(df) {\n",
    "    # keep only variable sites (excluding chimp-unique variants)\n",
    "    freqs <- select(df, -c(chrom, pos, REF, ALT, chimp)) %>% rowMeans(na.rm = TRUE)\n",
    "    \n",
    "    filter(df, freqs > 0 & freqs < 1) %>%\n",
    "        mutate_at(vars(-one_of(c(\"chrom\", \"pos\", \"REF\", \"ALT\", \"chimp\"))),\n",
    "                  ~ as.integer(.x != chimp))\n",
    "}"
   ]
  },
  {
   "cell_type": "code",
   "execution_count": 7,
   "metadata": {},
   "outputs": [],
   "source": [
    "# Count derived alleles in an archaic sample\n",
    "count_derived <- function(gt_derived, ind, outgroup, ingroup) {\n",
    "    out_anc <- (rowMeans(gt_derived[, outgroup]) == 0)\n",
    "    in_der <- (rowMeans(gt_derived[, ingroup]) == 1)\n",
    "\n",
    "    alleles <- gt_derived[out_anc & in_der, ] %>% .[[ind]] %>% .[!is.na(.)]\n",
    "    \n",
    "    counts <- alleles %>% factor(levels = c(0, 1)) %>% table %>% as.data.frame\n",
    "    names(counts) <- c(\"allele\", \"count\")\n",
    "\n",
    "    counts %>%\n",
    "        mutate(allele = ifelse(allele == 0, \"ancestral\", \"derived\")) %>%\n",
    "        spread(allele, count) %>%\n",
    "        mutate(name = fix_name(ind),\n",
    "               total = length(alleles)) %>%\n",
    "        select(name, everything())\n",
    "}"
   ]
  },
  {
   "cell_type": "markdown",
   "metadata": {},
   "source": [
    "### Total number of informative non-African derived sites?"
   ]
  },
  {
   "cell_type": "code",
   "execution_count": 8,
   "metadata": {},
   "outputs": [
    {
     "data": {
      "text/html": [
       "177"
      ],
      "text/latex": [
       "177"
      ],
      "text/markdown": [
       "177"
      ],
      "text/plain": [
       "[1] 177"
      ]
     },
     "metadata": {},
     "output_type": "display_data"
    }
   ],
   "source": [
    "highcov_derived <- filter_derived(highcov)\n",
    "\n",
    "out_anc <- (rowMeans(highcov_derived[, outgroup]) == 0)\n",
    "in_der <- (rowMeans(highcov_derived[, ingroup]) == 1)\n",
    "\n",
    "highcov_derived[out_anc & in_der, ] %>%\n",
    "    filter(!is.na(chimp)) %>%\n",
    "    nrow"
   ]
  },
  {
   "cell_type": "markdown",
   "metadata": {},
   "source": [
    "### Count non-African derived SNPs in each archaic sample at sites with African ancestral alleles"
   ]
  },
  {
   "cell_type": "code",
   "execution_count": 9,
   "metadata": {},
   "outputs": [],
   "source": [
    "counts <- future_map_dfr(c(\"spy1\", \"mez2\", \"den4\", \"den8\", \"elsidron2\"), function(arch) {\n",
    "    capture <- ifelse(arch == \"elsidron2\", \"lippold\", \"full\")\n",
    "\n",
    "    gt <- read_genotypes(arch, capture, mindp = 3, maxdp = 0.98, var_only = TRUE)\n",
    "    gt_derived <- filter_derived(gt)\n",
    "\n",
    "    count_derived(gt_derived, arch, outgroup, ingroup)\n",
    "})"
   ]
  },
  {
   "cell_type": "code",
   "execution_count": 10,
   "metadata": {},
   "outputs": [
    {
     "data": {
      "text/html": [
       "<table>\n",
       "<caption>A data.frame: 5 × 5</caption>\n",
       "<thead>\n",
       "\t<tr><th scope=col>name</th><th scope=col>ancestral</th><th scope=col>derived</th><th scope=col>total</th><th scope=col>derived/total</th></tr>\n",
       "\t<tr><th scope=col>&lt;chr&gt;</th><th scope=col>&lt;int&gt;</th><th scope=col>&lt;int&gt;</th><th scope=col>&lt;int&gt;</th><th scope=col>&lt;dbl&gt;</th></tr>\n",
       "</thead>\n",
       "<tbody>\n",
       "\t<tr><td>Spy 94a       </td><td>  9</td><td>1</td><td> 10</td><td>0.1</td></tr>\n",
       "\t<tr><td>Mezmaiskaya 2 </td><td>111</td><td>0</td><td>111</td><td>0.0</td></tr>\n",
       "\t<tr><td>Denisova 4    </td><td>  9</td><td>0</td><td>  9</td><td>0.0</td></tr>\n",
       "\t<tr><td>Denisova 8    </td><td> 62</td><td>0</td><td> 62</td><td>0.0</td></tr>\n",
       "\t<tr><td>El Sidrón 1253</td><td> 24</td><td>0</td><td> 24</td><td>0.0</td></tr>\n",
       "</tbody>\n",
       "</table>\n"
      ],
      "text/latex": [
       "A data.frame: 5 × 5\n",
       "\\begin{tabular}{r|lllll}\n",
       " name & ancestral & derived & total & derived/total\\\\\n",
       " <chr> & <int> & <int> & <int> & <dbl>\\\\\n",
       "\\hline\n",
       "\t Spy 94a        &   9 & 1 &  10 & 0.1\\\\\n",
       "\t Mezmaiskaya 2  & 111 & 0 & 111 & 0.0\\\\\n",
       "\t Denisova 4     &   9 & 0 &   9 & 0.0\\\\\n",
       "\t Denisova 8     &  62 & 0 &  62 & 0.0\\\\\n",
       "\t El Sidrón 1253 &  24 & 0 &  24 & 0.0\\\\\n",
       "\\end{tabular}\n"
      ],
      "text/markdown": [
       "\n",
       "A data.frame: 5 × 5\n",
       "\n",
       "| name &lt;chr&gt; | ancestral &lt;int&gt; | derived &lt;int&gt; | total &lt;int&gt; | derived/total &lt;dbl&gt; |\n",
       "|---|---|---|---|---|\n",
       "| Spy 94a        |   9 | 1 |  10 | 0.1 |\n",
       "| Mezmaiskaya 2  | 111 | 0 | 111 | 0.0 |\n",
       "| Denisova 4     |   9 | 0 |   9 | 0.0 |\n",
       "| Denisova 8     |  62 | 0 |  62 | 0.0 |\n",
       "| El Sidrón 1253 |  24 | 0 |  24 | 0.0 |\n",
       "\n"
      ],
      "text/plain": [
       "  name           ancestral derived total derived/total\n",
       "1 Spy 94a          9       1        10   0.1          \n",
       "2 Mezmaiskaya 2  111       0       111   0.0          \n",
       "3 Denisova 4       9       0         9   0.0          \n",
       "4 Denisova 8      62       0        62   0.0          \n",
       "5 El Sidrón 1253  24       0        24   0.0          "
      ]
     },
     "metadata": {},
     "output_type": "display_data"
    }
   ],
   "source": [
    "counts %>% mutate(derived / total)"
   ]
  },
  {
   "cell_type": "markdown",
   "metadata": {},
   "source": [
    "### Sanity check - derived-allele counts in present-day SGDP samples"
   ]
  },
  {
   "cell_type": "code",
   "execution_count": 11,
   "metadata": {},
   "outputs": [],
   "source": [
    "derived <- filter_derived(highcov)"
   ]
  },
  {
   "cell_type": "code",
   "execution_count": 12,
   "metadata": {},
   "outputs": [],
   "source": [
    "counts_sgdp <- pops$name %>% future_map_dfr(~ count_derived(derived, .x, outgroup, ingroup))"
   ]
  },
  {
   "cell_type": "code",
   "execution_count": 13,
   "metadata": {},
   "outputs": [
    {
     "data": {
      "text/html": [
       "<table>\n",
       "<caption>A data.frame: 23 × 5</caption>\n",
       "<thead>\n",
       "\t<tr><th scope=col>name</th><th scope=col>ancestral</th><th scope=col>derived</th><th scope=col>total</th><th scope=col>derived/total</th></tr>\n",
       "\t<tr><th scope=col>&lt;chr&gt;</th><th scope=col>&lt;int&gt;</th><th scope=col>&lt;int&gt;</th><th scope=col>&lt;int&gt;</th><th scope=col>&lt;dbl&gt;</th></tr>\n",
       "</thead>\n",
       "<tbody>\n",
       "\t<tr><td>Ust'-Ishim       </td><td>  0</td><td>165</td><td>165</td><td>1.0000000</td></tr>\n",
       "\t<tr><td>S_BedouinB_1     </td><td>  0</td><td>177</td><td>177</td><td>1.0000000</td></tr>\n",
       "\t<tr><td>S_Turkish_1      </td><td>  0</td><td>177</td><td>177</td><td>1.0000000</td></tr>\n",
       "\t<tr><td>S_French_1       </td><td>  0</td><td>177</td><td>177</td><td>1.0000000</td></tr>\n",
       "\t<tr><td>S_Burmese_1      </td><td>  0</td><td>177</td><td>177</td><td>1.0000000</td></tr>\n",
       "\t<tr><td>S_Thai_1         </td><td>  0</td><td>177</td><td>177</td><td>1.0000000</td></tr>\n",
       "\t<tr><td>S_Finnish_2      </td><td>  0</td><td>177</td><td>177</td><td>1.0000000</td></tr>\n",
       "\t<tr><td>S_Sardinian_1    </td><td>  0</td><td>177</td><td>177</td><td>1.0000000</td></tr>\n",
       "\t<tr><td>S_Han_2          </td><td>  0</td><td>177</td><td>177</td><td>1.0000000</td></tr>\n",
       "\t<tr><td>S_Dai_2          </td><td>  0</td><td>177</td><td>177</td><td>1.0000000</td></tr>\n",
       "\t<tr><td>S_Punjabi_1      </td><td>  0</td><td>177</td><td>177</td><td>1.0000000</td></tr>\n",
       "\t<tr><td>S_Saami_2        </td><td>  0</td><td>177</td><td>177</td><td>1.0000000</td></tr>\n",
       "\t<tr><td>S_Papuan_2       </td><td>  0</td><td>177</td><td>177</td><td>1.0000000</td></tr>\n",
       "\t<tr><td>S_Karitiana_1    </td><td>  0</td><td>177</td><td>177</td><td>1.0000000</td></tr>\n",
       "\t<tr><td>S_Ju_hoan_North_1</td><td>177</td><td>  0</td><td>177</td><td>0.0000000</td></tr>\n",
       "\t<tr><td>S_Dinka_1        </td><td> 64</td><td>104</td><td>168</td><td>0.6190476</td></tr>\n",
       "\t<tr><td>S_Mbuti_1        </td><td> 67</td><td>108</td><td>175</td><td>0.6171429</td></tr>\n",
       "\t<tr><td>S_Yoruba_2       </td><td> 68</td><td>108</td><td>176</td><td>0.6136364</td></tr>\n",
       "\t<tr><td>S_Gambian_1      </td><td> 66</td><td>106</td><td>172</td><td>0.6162791</td></tr>\n",
       "\t<tr><td>S_Mandenka_1     </td><td> 69</td><td>105</td><td>174</td><td>0.6034483</td></tr>\n",
       "\t<tr><td>A00              </td><td>177</td><td>  0</td><td>177</td><td>0.0000000</td></tr>\n",
       "\t<tr><td>a00_1            </td><td>168</td><td>  0</td><td>168</td><td>0.0000000</td></tr>\n",
       "\t<tr><td>a00_2            </td><td>175</td><td>  0</td><td>175</td><td>0.0000000</td></tr>\n",
       "</tbody>\n",
       "</table>\n"
      ],
      "text/latex": [
       "A data.frame: 23 × 5\n",
       "\\begin{tabular}{r|lllll}\n",
       " name & ancestral & derived & total & derived/total\\\\\n",
       " <chr> & <int> & <int> & <int> & <dbl>\\\\\n",
       "\\hline\n",
       "\t Ust'-Ishim        &   0 & 165 & 165 & 1.0000000\\\\\n",
       "\t S\\_BedouinB\\_1      &   0 & 177 & 177 & 1.0000000\\\\\n",
       "\t S\\_Turkish\\_1       &   0 & 177 & 177 & 1.0000000\\\\\n",
       "\t S\\_French\\_1        &   0 & 177 & 177 & 1.0000000\\\\\n",
       "\t S\\_Burmese\\_1       &   0 & 177 & 177 & 1.0000000\\\\\n",
       "\t S\\_Thai\\_1          &   0 & 177 & 177 & 1.0000000\\\\\n",
       "\t S\\_Finnish\\_2       &   0 & 177 & 177 & 1.0000000\\\\\n",
       "\t S\\_Sardinian\\_1     &   0 & 177 & 177 & 1.0000000\\\\\n",
       "\t S\\_Han\\_2           &   0 & 177 & 177 & 1.0000000\\\\\n",
       "\t S\\_Dai\\_2           &   0 & 177 & 177 & 1.0000000\\\\\n",
       "\t S\\_Punjabi\\_1       &   0 & 177 & 177 & 1.0000000\\\\\n",
       "\t S\\_Saami\\_2         &   0 & 177 & 177 & 1.0000000\\\\\n",
       "\t S\\_Papuan\\_2        &   0 & 177 & 177 & 1.0000000\\\\\n",
       "\t S\\_Karitiana\\_1     &   0 & 177 & 177 & 1.0000000\\\\\n",
       "\t S\\_Ju\\_hoan\\_North\\_1 & 177 &   0 & 177 & 0.0000000\\\\\n",
       "\t S\\_Dinka\\_1         &  64 & 104 & 168 & 0.6190476\\\\\n",
       "\t S\\_Mbuti\\_1         &  67 & 108 & 175 & 0.6171429\\\\\n",
       "\t S\\_Yoruba\\_2        &  68 & 108 & 176 & 0.6136364\\\\\n",
       "\t S\\_Gambian\\_1       &  66 & 106 & 172 & 0.6162791\\\\\n",
       "\t S\\_Mandenka\\_1      &  69 & 105 & 174 & 0.6034483\\\\\n",
       "\t A00               & 177 &   0 & 177 & 0.0000000\\\\\n",
       "\t a00\\_1             & 168 &   0 & 168 & 0.0000000\\\\\n",
       "\t a00\\_2             & 175 &   0 & 175 & 0.0000000\\\\\n",
       "\\end{tabular}\n"
      ],
      "text/markdown": [
       "\n",
       "A data.frame: 23 × 5\n",
       "\n",
       "| name &lt;chr&gt; | ancestral &lt;int&gt; | derived &lt;int&gt; | total &lt;int&gt; | derived/total &lt;dbl&gt; |\n",
       "|---|---|---|---|---|\n",
       "| Ust'-Ishim        |   0 | 165 | 165 | 1.0000000 |\n",
       "| S_BedouinB_1      |   0 | 177 | 177 | 1.0000000 |\n",
       "| S_Turkish_1       |   0 | 177 | 177 | 1.0000000 |\n",
       "| S_French_1        |   0 | 177 | 177 | 1.0000000 |\n",
       "| S_Burmese_1       |   0 | 177 | 177 | 1.0000000 |\n",
       "| S_Thai_1          |   0 | 177 | 177 | 1.0000000 |\n",
       "| S_Finnish_2       |   0 | 177 | 177 | 1.0000000 |\n",
       "| S_Sardinian_1     |   0 | 177 | 177 | 1.0000000 |\n",
       "| S_Han_2           |   0 | 177 | 177 | 1.0000000 |\n",
       "| S_Dai_2           |   0 | 177 | 177 | 1.0000000 |\n",
       "| S_Punjabi_1       |   0 | 177 | 177 | 1.0000000 |\n",
       "| S_Saami_2         |   0 | 177 | 177 | 1.0000000 |\n",
       "| S_Papuan_2        |   0 | 177 | 177 | 1.0000000 |\n",
       "| S_Karitiana_1     |   0 | 177 | 177 | 1.0000000 |\n",
       "| S_Ju_hoan_North_1 | 177 |   0 | 177 | 0.0000000 |\n",
       "| S_Dinka_1         |  64 | 104 | 168 | 0.6190476 |\n",
       "| S_Mbuti_1         |  67 | 108 | 175 | 0.6171429 |\n",
       "| S_Yoruba_2        |  68 | 108 | 176 | 0.6136364 |\n",
       "| S_Gambian_1       |  66 | 106 | 172 | 0.6162791 |\n",
       "| S_Mandenka_1      |  69 | 105 | 174 | 0.6034483 |\n",
       "| A00               | 177 |   0 | 177 | 0.0000000 |\n",
       "| a00_1             | 168 |   0 | 168 | 0.0000000 |\n",
       "| a00_2             | 175 |   0 | 175 | 0.0000000 |\n",
       "\n"
      ],
      "text/plain": [
       "   name              ancestral derived total derived/total\n",
       "1  Ust'-Ishim          0       165     165   1.0000000    \n",
       "2  S_BedouinB_1        0       177     177   1.0000000    \n",
       "3  S_Turkish_1         0       177     177   1.0000000    \n",
       "4  S_French_1          0       177     177   1.0000000    \n",
       "5  S_Burmese_1         0       177     177   1.0000000    \n",
       "6  S_Thai_1            0       177     177   1.0000000    \n",
       "7  S_Finnish_2         0       177     177   1.0000000    \n",
       "8  S_Sardinian_1       0       177     177   1.0000000    \n",
       "9  S_Han_2             0       177     177   1.0000000    \n",
       "10 S_Dai_2             0       177     177   1.0000000    \n",
       "11 S_Punjabi_1         0       177     177   1.0000000    \n",
       "12 S_Saami_2           0       177     177   1.0000000    \n",
       "13 S_Papuan_2          0       177     177   1.0000000    \n",
       "14 S_Karitiana_1       0       177     177   1.0000000    \n",
       "15 S_Ju_hoan_North_1 177         0     177   0.0000000    \n",
       "16 S_Dinka_1          64       104     168   0.6190476    \n",
       "17 S_Mbuti_1          67       108     175   0.6171429    \n",
       "18 S_Yoruba_2         68       108     176   0.6136364    \n",
       "19 S_Gambian_1        66       106     172   0.6162791    \n",
       "20 S_Mandenka_1       69       105     174   0.6034483    \n",
       "21 A00               177         0     177   0.0000000    \n",
       "22 a00_1             168         0     168   0.0000000    \n",
       "23 a00_2             175         0     175   0.0000000    "
      ]
     },
     "metadata": {},
     "output_type": "display_data"
    }
   ],
   "source": [
    "counts_sgdp %>% mutate(derived / total)"
   ]
  }
 ],
 "metadata": {
  "kernelspec": {
   "display_name": "R",
   "language": "R",
   "name": "ir"
  },
  "language_info": {
   "codemirror_mode": "r",
   "file_extension": ".r",
   "mimetype": "text/x-r-source",
   "name": "R",
   "pygments_lexer": "r",
   "version": "3.6.0"
  }
 },
 "nbformat": 4,
 "nbformat_minor": 2
}
