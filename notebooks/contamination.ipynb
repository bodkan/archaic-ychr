{
 "cells": [
  {
   "cell_type": "code",
   "execution_count": 1,
   "metadata": {},
   "outputs": [],
   "source": [
    "suppressPackageStartupMessages({\n",
    "\n",
    "    library(VariantAnnotation)\n",
    "    library(tidyverse)\n",
    "    library(magrittr)\n",
    "    library(here)\n",
    "    library(bdkn)\n",
    "    library(rtracklayer)\n",
    "\n",
    "})"
   ]
  },
  {
   "cell_type": "code",
   "execution_count": 2,
   "metadata": {},
   "outputs": [],
   "source": [
    "source(here(\"src/utils.R\"))"
   ]
  },
  {
   "cell_type": "code",
   "execution_count": 3,
   "metadata": {},
   "outputs": [],
   "source": [
    "vcf <- read_gt(here(\"data/vcf/merged_full.vcf.gz\"), var_only = TRUE)"
   ]
  },
  {
   "cell_type": "code",
   "execution_count": 4,
   "metadata": {},
   "outputs": [],
   "source": [
    "pops <- tibble(\n",
    "    name = c(str_subset(colnames(vcf), \"^S_\"), \"a00\"),\n",
    "    pop = case_when(\n",
    "        name %in% c(\"S_Burmese_1\", \"S_Thai_1\", \"S_Han_2\", \"S_Dai_2\", \"S_Punjabi_1\", \"S_Papuan_2\", \"S_Karitiana_1\") ~ \"EastEur\",\n",
    "        name %in% c(\"S_BedouinB_1\", \"S_Turkish_1\", \"S_French_1\", \"S_Finnish_2\", \"S_Sardinian_1\", \"S_Saami_2\") ~ \"WestEur\",\n",
    "        TRUE ~ \"Africa\"\n",
    "    )\n",
    ")"
   ]
  },
  {
   "cell_type": "raw",
   "metadata": {},
   "source": [
    "vcf <- select(vcf, one_of(c(\"chimp\", pops$name))) %>% filter(complete.cases(.))"
   ]
  },
  {
   "cell_type": "code",
   "execution_count": 5,
   "metadata": {},
   "outputs": [],
   "source": [
    "vcf <- select(vcf, -c(chrom, pos, REF, ALT, reference, a00_1, a00_2, denisova8sub))"
   ]
  },
  {
   "cell_type": "code",
   "execution_count": 6,
   "metadata": {},
   "outputs": [],
   "source": [
    "counts <- select(vcf, -chimp) %>% rowSums(na.rm = TRUE)"
   ]
  },
  {
   "cell_type": "code",
   "execution_count": 7,
   "metadata": {},
   "outputs": [],
   "source": [
    "gt <- filter(vcf, counts > 0 & counts < (ncol(vcf) - 1))"
   ]
  },
  {
   "cell_type": "code",
   "execution_count": 8,
   "metadata": {},
   "outputs": [],
   "source": [
    "derived <- mutate_all(gt, ~ as.integer(.x != gt$chimp))"
   ]
  },
  {
   "cell_type": "code",
   "execution_count": 9,
   "metadata": {},
   "outputs": [
    {
     "data": {
      "text/html": [
       "<table>\n",
       "<thead><tr><th scope=col>chimp</th><th scope=col>spy1</th><th scope=col>mez2</th><th scope=col>comb_neand</th><th scope=col>denisova8</th><th scope=col>S_BedouinB_1</th><th scope=col>S_Turkish_1</th><th scope=col>S_French_1</th><th scope=col>S_Burmese_1</th><th scope=col>S_Thai_1</th><th scope=col>⋯</th><th scope=col>S_Yoruba_2</th><th scope=col>S_Gambian_1</th><th scope=col>S_Mandenka_1</th><th scope=col>S_Ju_hoan_North_1</th><th scope=col>ustishim</th><th scope=col>a00</th><th scope=col>kk1</th><th scope=col>mota</th><th scope=col>bichon</th><th scope=col>loschbour</th></tr></thead>\n",
       "<tbody>\n",
       "\t<tr><td>0 </td><td>NA</td><td>NA</td><td>NA</td><td>NA</td><td>0 </td><td>0 </td><td>0 </td><td>0 </td><td>0 </td><td>⋯ </td><td>0 </td><td>0 </td><td>0 </td><td>0 </td><td> 0</td><td>1 </td><td> 0</td><td>0 </td><td>NA</td><td>0 </td></tr>\n",
       "\t<tr><td>0 </td><td>NA</td><td>NA</td><td>NA</td><td> 0</td><td>1 </td><td>1 </td><td>1 </td><td>1 </td><td>1 </td><td>⋯ </td><td>1 </td><td>1 </td><td>1 </td><td>1 </td><td> 1</td><td>1 </td><td> 1</td><td>1 </td><td>NA</td><td>1 </td></tr>\n",
       "\t<tr><td>0 </td><td>NA</td><td> 1</td><td> 1</td><td> 0</td><td>1 </td><td>1 </td><td>1 </td><td>1 </td><td>1 </td><td>⋯ </td><td>1 </td><td>1 </td><td>1 </td><td>1 </td><td> 1</td><td>1 </td><td> 1</td><td>1 </td><td>NA</td><td>1 </td></tr>\n",
       "\t<tr><td>0 </td><td>NA</td><td>NA</td><td>NA</td><td>NA</td><td>0 </td><td>0 </td><td>0 </td><td>0 </td><td>0 </td><td>⋯ </td><td>0 </td><td>0 </td><td>0 </td><td>0 </td><td>NA</td><td>1 </td><td> 0</td><td>0 </td><td>NA</td><td>0 </td></tr>\n",
       "\t<tr><td>0 </td><td>NA</td><td>NA</td><td>NA</td><td> 0</td><td>1 </td><td>1 </td><td>1 </td><td>1 </td><td>1 </td><td>⋯ </td><td>1 </td><td>1 </td><td>1 </td><td>1 </td><td> 1</td><td>1 </td><td>NA</td><td>1 </td><td> 1</td><td>1 </td></tr>\n",
       "\t<tr><td>0 </td><td>NA</td><td>NA</td><td>NA</td><td>NA</td><td>0 </td><td>0 </td><td>0 </td><td>0 </td><td>0 </td><td>⋯ </td><td>0 </td><td>0 </td><td>0 </td><td>0 </td><td> 0</td><td>1 </td><td> 0</td><td>0 </td><td>NA</td><td>0 </td></tr>\n",
       "</tbody>\n",
       "</table>\n"
      ],
      "text/latex": [
       "\\begin{tabular}{r|llllllllllllllllllllllllllllll}\n",
       " chimp & spy1 & mez2 & comb\\_neand & denisova8 & S\\_BedouinB\\_1 & S\\_Turkish\\_1 & S\\_French\\_1 & S\\_Burmese\\_1 & S\\_Thai\\_1 & ⋯ & S\\_Yoruba\\_2 & S\\_Gambian\\_1 & S\\_Mandenka\\_1 & S\\_Ju\\_hoan\\_North\\_1 & ustishim & a00 & kk1 & mota & bichon & loschbour\\\\\n",
       "\\hline\n",
       "\t 0  & NA & NA & NA & NA & 0  & 0  & 0  & 0  & 0  & ⋯  & 0  & 0  & 0  & 0  &  0 & 1  &  0 & 0  & NA & 0 \\\\\n",
       "\t 0  & NA & NA & NA &  0 & 1  & 1  & 1  & 1  & 1  & ⋯  & 1  & 1  & 1  & 1  &  1 & 1  &  1 & 1  & NA & 1 \\\\\n",
       "\t 0  & NA &  1 &  1 &  0 & 1  & 1  & 1  & 1  & 1  & ⋯  & 1  & 1  & 1  & 1  &  1 & 1  &  1 & 1  & NA & 1 \\\\\n",
       "\t 0  & NA & NA & NA & NA & 0  & 0  & 0  & 0  & 0  & ⋯  & 0  & 0  & 0  & 0  & NA & 1  &  0 & 0  & NA & 0 \\\\\n",
       "\t 0  & NA & NA & NA &  0 & 1  & 1  & 1  & 1  & 1  & ⋯  & 1  & 1  & 1  & 1  &  1 & 1  & NA & 1  &  1 & 1 \\\\\n",
       "\t 0  & NA & NA & NA & NA & 0  & 0  & 0  & 0  & 0  & ⋯  & 0  & 0  & 0  & 0  &  0 & 1  &  0 & 0  & NA & 0 \\\\\n",
       "\\end{tabular}\n"
      ],
      "text/markdown": [
       "\n",
       "| chimp | spy1 | mez2 | comb_neand | denisova8 | S_BedouinB_1 | S_Turkish_1 | S_French_1 | S_Burmese_1 | S_Thai_1 | ⋯ | S_Yoruba_2 | S_Gambian_1 | S_Mandenka_1 | S_Ju_hoan_North_1 | ustishim | a00 | kk1 | mota | bichon | loschbour |\n",
       "|---|---|---|---|---|---|---|---|---|---|---|---|---|---|---|---|---|---|---|---|---|\n",
       "| 0  | NA | NA | NA | NA | 0  | 0  | 0  | 0  | 0  | ⋯  | 0  | 0  | 0  | 0  |  0 | 1  |  0 | 0  | NA | 0  |\n",
       "| 0  | NA | NA | NA |  0 | 1  | 1  | 1  | 1  | 1  | ⋯  | 1  | 1  | 1  | 1  |  1 | 1  |  1 | 1  | NA | 1  |\n",
       "| 0  | NA |  1 |  1 |  0 | 1  | 1  | 1  | 1  | 1  | ⋯  | 1  | 1  | 1  | 1  |  1 | 1  |  1 | 1  | NA | 1  |\n",
       "| 0  | NA | NA | NA | NA | 0  | 0  | 0  | 0  | 0  | ⋯  | 0  | 0  | 0  | 0  | NA | 1  |  0 | 0  | NA | 0  |\n",
       "| 0  | NA | NA | NA |  0 | 1  | 1  | 1  | 1  | 1  | ⋯  | 1  | 1  | 1  | 1  |  1 | 1  | NA | 1  |  1 | 1  |\n",
       "| 0  | NA | NA | NA | NA | 0  | 0  | 0  | 0  | 0  | ⋯  | 0  | 0  | 0  | 0  |  0 | 1  |  0 | 0  | NA | 0  |\n",
       "\n"
      ],
      "text/plain": [
       "  chimp spy1 mez2 comb_neand denisova8 S_BedouinB_1 S_Turkish_1 S_French_1\n",
       "1 0     NA   NA   NA         NA        0            0           0         \n",
       "2 0     NA   NA   NA          0        1            1           1         \n",
       "3 0     NA    1    1          0        1            1           1         \n",
       "4 0     NA   NA   NA         NA        0            0           0         \n",
       "5 0     NA   NA   NA          0        1            1           1         \n",
       "6 0     NA   NA   NA         NA        0            0           0         \n",
       "  S_Burmese_1 S_Thai_1 ⋯ S_Yoruba_2 S_Gambian_1 S_Mandenka_1 S_Ju_hoan_North_1\n",
       "1 0           0        ⋯ 0          0           0            0                \n",
       "2 1           1        ⋯ 1          1           1            1                \n",
       "3 1           1        ⋯ 1          1           1            1                \n",
       "4 0           0        ⋯ 0          0           0            0                \n",
       "5 1           1        ⋯ 1          1           1            1                \n",
       "6 0           0        ⋯ 0          0           0            0                \n",
       "  ustishim a00 kk1 mota bichon loschbour\n",
       "1  0       1    0  0    NA     0        \n",
       "2  1       1    1  1    NA     1        \n",
       "3  1       1    1  1    NA     1        \n",
       "4 NA       1    0  0    NA     0        \n",
       "5  1       1   NA  1     1     1        \n",
       "6  0       1    0  0    NA     0        "
      ]
     },
     "metadata": {},
     "output_type": "display_data"
    }
   ],
   "source": [
    "derived %>% filter(a00 == 1) %>% head"
   ]
  },
  {
   "cell_type": "markdown",
   "metadata": {},
   "source": [
    "### What is the rate of back mutations/errors estimated using the high-quality samples?"
   ]
  },
  {
   "cell_type": "code",
   "execution_count": 37,
   "metadata": {},
   "outputs": [],
   "source": [
    "africans <- filter(pops, pop == \"Africa\")$name\n",
    "nonafricans <- filter(pops, pop != \"Africa\")$name"
   ]
  },
  {
   "cell_type": "code",
   "execution_count": 39,
   "metadata": {},
   "outputs": [],
   "source": [
    "africans <- c(\"a00\", \"S_Ju_hoan_North_1\")\n",
    "nonafricans <- c(nonafricans, \"S_Dinka_1\", \"S_Mbuti_1\", \"S_Yoruba_2\", \"S_Gambian_1\", \"S_Mandenka_1\")"
   ]
  },
  {
   "cell_type": "code",
   "execution_count": 68,
   "metadata": {},
   "outputs": [],
   "source": [
    "afr_anc <- (rowSums(derived[, africans]) == 0)"
   ]
  },
  {
   "cell_type": "code",
   "execution_count": 69,
   "metadata": {},
   "outputs": [],
   "source": [
    "nonafr_der <- (rowSums(derived[, nonafricans]) == length(nonafricans))"
   ]
  },
  {
   "cell_type": "raw",
   "metadata": {},
   "source": [
    "derived[afr_anc & nonafr_der, c(africans, nonafricans)] %>% filter(complete.cases(.))"
   ]
  },
  {
   "cell_type": "code",
   "execution_count": 70,
   "metadata": {},
   "outputs": [],
   "source": [
    "fixed <- derived[afr_anc & nonafr_der, ] %>% select(-one_of(pops$name))"
   ]
  },
  {
   "cell_type": "code",
   "execution_count": 71,
   "metadata": {},
   "outputs": [
    {
     "data": {
      "text/html": [
       "<table>\n",
       "<thead><tr><th scope=col>chimp</th><th scope=col>spy1</th><th scope=col>mez2</th><th scope=col>comb_neand</th><th scope=col>denisova8</th><th scope=col>ustishim</th><th scope=col>kk1</th><th scope=col>mota</th><th scope=col>bichon</th><th scope=col>loschbour</th></tr></thead>\n",
       "<tbody>\n",
       "\t<tr><td>0</td><td>0</td><td>0</td><td>0</td><td>0</td><td>1</td><td>1</td><td>1</td><td>1</td><td>1</td></tr>\n",
       "</tbody>\n",
       "</table>\n"
      ],
      "text/latex": [
       "\\begin{tabular}{r|llllllllll}\n",
       " chimp & spy1 & mez2 & comb\\_neand & denisova8 & ustishim & kk1 & mota & bichon & loschbour\\\\\n",
       "\\hline\n",
       "\t 0 & 0 & 0 & 0 & 0 & 1 & 1 & 1 & 1 & 1\\\\\n",
       "\\end{tabular}\n"
      ],
      "text/markdown": [
       "\n",
       "| chimp | spy1 | mez2 | comb_neand | denisova8 | ustishim | kk1 | mota | bichon | loschbour |\n",
       "|---|---|---|---|---|---|---|---|---|---|\n",
       "| 0 | 0 | 0 | 0 | 0 | 1 | 1 | 1 | 1 | 1 |\n",
       "\n"
      ],
      "text/plain": [
       "  chimp spy1 mez2 comb_neand denisova8 ustishim kk1 mota bichon loschbour\n",
       "1 0     0    0    0          0         1        1   1    1      1        "
      ]
     },
     "metadata": {},
     "output_type": "display_data"
    }
   ],
   "source": [
    "fixed %>% summarise_all(mean, na.rm = TRUE)"
   ]
  },
  {
   "cell_type": "code",
   "execution_count": null,
   "metadata": {},
   "outputs": [],
   "source": []
  },
  {
   "cell_type": "code",
   "execution_count": null,
   "metadata": {},
   "outputs": [],
   "source": []
  },
  {
   "cell_type": "code",
   "execution_count": null,
   "metadata": {},
   "outputs": [],
   "source": []
  },
  {
   "cell_type": "code",
   "execution_count": 38,
   "metadata": {},
   "outputs": [
    {
     "data": {
      "text/html": [
       "<table>\n",
       "<thead><tr><th scope=col>ind</th><th scope=col>prop</th></tr></thead>\n",
       "<tbody>\n",
       "\t<tr><td>a00              </td><td>1.00000000       </td></tr>\n",
       "\t<tr><td>denisova8        </td><td>0.02863436       </td></tr>\n",
       "\t<tr><td>spy1             </td><td>0.02702703       </td></tr>\n",
       "\t<tr><td>comb_neand       </td><td>0.02586207       </td></tr>\n",
       "\t<tr><td>mez2             </td><td>0.02173913       </td></tr>\n",
       "\t<tr><td>bichon           </td><td>0.01870748       </td></tr>\n",
       "\t<tr><td>S_Turkish-1      </td><td>0.01704036       </td></tr>\n",
       "\t<tr><td>S_Karitiana-1    </td><td>0.01697945       </td></tr>\n",
       "\t<tr><td>S_Sardinian-1    </td><td>0.01626016       </td></tr>\n",
       "\t<tr><td>S_Burmese-1      </td><td>0.01623084       </td></tr>\n",
       "\t<tr><td>S_Saami-2        </td><td>0.01620162       </td></tr>\n",
       "\t<tr><td>S_BedouinB-1     </td><td>0.01618705       </td></tr>\n",
       "\t<tr><td>S_French-1       </td><td>0.01615799       </td></tr>\n",
       "\t<tr><td>ustishim         </td><td>0.01614435       </td></tr>\n",
       "\t<tr><td>S_Gambian-1      </td><td>0.01614350       </td></tr>\n",
       "\t<tr><td>S_Han-2          </td><td>0.01612903       </td></tr>\n",
       "\t<tr><td>S_Papuan-2       </td><td>0.01612903       </td></tr>\n",
       "\t<tr><td>S_Punjabi-1      </td><td>0.01610018       </td></tr>\n",
       "\t<tr><td>loschbour        </td><td>0.01591760       </td></tr>\n",
       "\t<tr><td>S_Thai-1         </td><td>0.01542650       </td></tr>\n",
       "\t<tr><td>S_Finnish-2      </td><td>0.01528777       </td></tr>\n",
       "\t<tr><td>S_Dinka-1        </td><td>0.01528777       </td></tr>\n",
       "\t<tr><td>S_Mbuti-1        </td><td>0.01527403       </td></tr>\n",
       "\t<tr><td>S_Mandenka-1     </td><td>0.01524664       </td></tr>\n",
       "\t<tr><td>S_Dai-2          </td><td>0.01523297       </td></tr>\n",
       "\t<tr><td>S_Yoruba-2       </td><td>0.01523297       </td></tr>\n",
       "\t<tr><td>kk1              </td><td>0.01484018       </td></tr>\n",
       "\t<tr><td>mota             </td><td>0.01286174       </td></tr>\n",
       "\t<tr><td>chimp            </td><td>0.00000000       </td></tr>\n",
       "\t<tr><td>S_Ju_hoan_North-1</td><td>0.00000000       </td></tr>\n",
       "</tbody>\n",
       "</table>\n"
      ],
      "text/latex": [
       "\\begin{tabular}{r|ll}\n",
       " ind & prop\\\\\n",
       "\\hline\n",
       "\t a00               & 1.00000000       \\\\\n",
       "\t denisova8         & 0.02863436       \\\\\n",
       "\t spy1              & 0.02702703       \\\\\n",
       "\t comb\\_neand        & 0.02586207         \\\\\n",
       "\t mez2              & 0.02173913       \\\\\n",
       "\t bichon            & 0.01870748       \\\\\n",
       "\t S\\_Turkish-1       & 0.01704036         \\\\\n",
       "\t S\\_Karitiana-1     & 0.01697945         \\\\\n",
       "\t S\\_Sardinian-1     & 0.01626016         \\\\\n",
       "\t S\\_Burmese-1       & 0.01623084         \\\\\n",
       "\t S\\_Saami-2         & 0.01620162         \\\\\n",
       "\t S\\_BedouinB-1      & 0.01618705         \\\\\n",
       "\t S\\_French-1        & 0.01615799         \\\\\n",
       "\t ustishim          & 0.01614435       \\\\\n",
       "\t S\\_Gambian-1       & 0.01614350         \\\\\n",
       "\t S\\_Han-2           & 0.01612903         \\\\\n",
       "\t S\\_Papuan-2        & 0.01612903         \\\\\n",
       "\t S\\_Punjabi-1       & 0.01610018         \\\\\n",
       "\t loschbour         & 0.01591760       \\\\\n",
       "\t S\\_Thai-1          & 0.01542650         \\\\\n",
       "\t S\\_Finnish-2       & 0.01528777         \\\\\n",
       "\t S\\_Dinka-1         & 0.01528777         \\\\\n",
       "\t S\\_Mbuti-1         & 0.01527403         \\\\\n",
       "\t S\\_Mandenka-1      & 0.01524664         \\\\\n",
       "\t S\\_Dai-2           & 0.01523297         \\\\\n",
       "\t S\\_Yoruba-2        & 0.01523297         \\\\\n",
       "\t kk1               & 0.01484018       \\\\\n",
       "\t mota              & 0.01286174       \\\\\n",
       "\t chimp             & 0.00000000       \\\\\n",
       "\t S\\_Ju\\_hoan\\_North-1 & 0.00000000             \\\\\n",
       "\\end{tabular}\n"
      ],
      "text/markdown": [
       "\n",
       "| ind | prop |\n",
       "|---|---|\n",
       "| a00               | 1.00000000        |\n",
       "| denisova8         | 0.02863436        |\n",
       "| spy1              | 0.02702703        |\n",
       "| comb_neand        | 0.02586207        |\n",
       "| mez2              | 0.02173913        |\n",
       "| bichon            | 0.01870748        |\n",
       "| S_Turkish-1       | 0.01704036        |\n",
       "| S_Karitiana-1     | 0.01697945        |\n",
       "| S_Sardinian-1     | 0.01626016        |\n",
       "| S_Burmese-1       | 0.01623084        |\n",
       "| S_Saami-2         | 0.01620162        |\n",
       "| S_BedouinB-1      | 0.01618705        |\n",
       "| S_French-1        | 0.01615799        |\n",
       "| ustishim          | 0.01614435        |\n",
       "| S_Gambian-1       | 0.01614350        |\n",
       "| S_Han-2           | 0.01612903        |\n",
       "| S_Papuan-2        | 0.01612903        |\n",
       "| S_Punjabi-1       | 0.01610018        |\n",
       "| loschbour         | 0.01591760        |\n",
       "| S_Thai-1          | 0.01542650        |\n",
       "| S_Finnish-2       | 0.01528777        |\n",
       "| S_Dinka-1         | 0.01528777        |\n",
       "| S_Mbuti-1         | 0.01527403        |\n",
       "| S_Mandenka-1      | 0.01524664        |\n",
       "| S_Dai-2           | 0.01523297        |\n",
       "| S_Yoruba-2        | 0.01523297        |\n",
       "| kk1               | 0.01484018        |\n",
       "| mota              | 0.01286174        |\n",
       "| chimp             | 0.00000000        |\n",
       "| S_Ju_hoan_North-1 | 0.00000000        |\n",
       "\n"
      ],
      "text/plain": [
       "   ind               prop      \n",
       "1  a00               1.00000000\n",
       "2  denisova8         0.02863436\n",
       "3  spy1              0.02702703\n",
       "4  comb_neand        0.02586207\n",
       "5  mez2              0.02173913\n",
       "6  bichon            0.01870748\n",
       "7  S_Turkish-1       0.01704036\n",
       "8  S_Karitiana-1     0.01697945\n",
       "9  S_Sardinian-1     0.01626016\n",
       "10 S_Burmese-1       0.01623084\n",
       "11 S_Saami-2         0.01620162\n",
       "12 S_BedouinB-1      0.01618705\n",
       "13 S_French-1        0.01615799\n",
       "14 ustishim          0.01614435\n",
       "15 S_Gambian-1       0.01614350\n",
       "16 S_Han-2           0.01612903\n",
       "17 S_Papuan-2        0.01612903\n",
       "18 S_Punjabi-1       0.01610018\n",
       "19 loschbour         0.01591760\n",
       "20 S_Thai-1          0.01542650\n",
       "21 S_Finnish-2       0.01528777\n",
       "22 S_Dinka-1         0.01528777\n",
       "23 S_Mbuti-1         0.01527403\n",
       "24 S_Mandenka-1      0.01524664\n",
       "25 S_Dai-2           0.01523297\n",
       "26 S_Yoruba-2        0.01523297\n",
       "27 kk1               0.01484018\n",
       "28 mota              0.01286174\n",
       "29 chimp             0.00000000\n",
       "30 S_Ju_hoan_North-1 0.00000000"
      ]
     },
     "metadata": {},
     "output_type": "display_data"
    }
   ],
   "source": [
    "filter(derived, vars()) %>%\n",
    "    summarise_all(mean, na.rm = TRUE) %>%\n",
    "    gather(ind, prop) %>%\n",
    "    arrange(desc(prop))"
   ]
  }
 ],
 "metadata": {
  "kernelspec": {
   "display_name": "R",
   "language": "R",
   "name": "ir"
  },
  "language_info": {
   "codemirror_mode": "r",
   "file_extension": ".r",
   "mimetype": "text/x-r-source",
   "name": "R",
   "pygments_lexer": "r",
   "version": "3.5.1"
  }
 },
 "nbformat": 4,
 "nbformat_minor": 2
}
