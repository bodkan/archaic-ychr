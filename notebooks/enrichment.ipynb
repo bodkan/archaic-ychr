{
 "cells": [
  {
   "cell_type": "code",
   "execution_count": 1,
   "metadata": {},
   "outputs": [],
   "source": [
    "cd /mnt/expressions/mp/archaic-ychr/tmp"
   ]
  },
  {
   "cell_type": "code",
   "execution_count": 2,
   "metadata": {},
   "outputs": [],
   "source": [
    "bed=\"/mnt/expressions/mp/archaic-ychr/data/coord/capture_full.bed\""
   ]
  },
  {
   "cell_type": "code",
   "execution_count": 4,
   "metadata": {},
   "outputs": [],
   "source": [
    "mkdir -p enrichment_all"
   ]
  },
  {
   "cell_type": "markdown",
   "metadata": {},
   "source": [
    "# First make a copy of all per-library BAM files\n",
    "\n",
    "(BAMs after splitting based on index combinations)"
   ]
  },
  {
   "cell_type": "markdown",
   "metadata": {},
   "source": [
    "## Denisova 4"
   ]
  },
  {
   "cell_type": "code",
   "execution_count": 4,
   "metadata": {},
   "outputs": [],
   "source": [
    "mkdir -p enrichment_all/den4"
   ]
  },
  {
   "cell_type": "code",
   "execution_count": 10,
   "metadata": {},
   "outputs": [
    {
     "name": "stdout",
     "output_type": "stream",
     "text": [
      "den4_capture2_lane1/A11437.bam\n"
     ]
    }
   ],
   "source": [
    "ls den4_capture2_lane1/A*.bam"
   ]
  },
  {
   "cell_type": "code",
   "execution_count": 11,
   "metadata": {},
   "outputs": [],
   "source": [
    "cp den4_capture2_lane1/A*.bam enrichment_all/den4"
   ]
  },
  {
   "cell_type": "code",
   "execution_count": 12,
   "metadata": {},
   "outputs": [
    {
     "name": "stdout",
     "output_type": "stream",
     "text": [
      "den4_capture2_lane2/A19116.bam  den4_capture2_lane2/A19443.bam\n",
      "den4_capture2_lane2/A19248.bam  den4_capture2_lane2/A19637.bam\n"
     ]
    }
   ],
   "source": [
    "ls den4_capture2_lane2/A*.bam"
   ]
  },
  {
   "cell_type": "code",
   "execution_count": 13,
   "metadata": {},
   "outputs": [],
   "source": [
    "cp den4_capture2_lane2/A*.bam enrichment_all/den4"
   ]
  },
  {
   "cell_type": "markdown",
   "metadata": {},
   "source": [
    "**Final set of BAMs:**"
   ]
  },
  {
   "cell_type": "code",
   "execution_count": 5,
   "metadata": {},
   "outputs": [
    {
     "name": "stdout",
     "output_type": "stream",
     "text": [
      "total 1.6G\n",
      "-rw-r--r-- 1 public staff 488M Jun  9 15:43 A11437.bam\n",
      "-rw-r--r-- 1 public staff 234M Jun  9 15:44 A19116.bam\n",
      "-rw-r--r-- 1 public staff 313M Jun  9 15:44 A19248.bam\n",
      "-rw-r--r-- 1 public staff 241M Jun  9 15:44 A19443.bam\n",
      "-rw-r--r-- 1 public staff 337M Jun  9 15:44 A19637.bam\n"
     ]
    }
   ],
   "source": [
    "ll enrichment_all/den4"
   ]
  },
  {
   "cell_type": "markdown",
   "metadata": {},
   "source": [
    "## Denisova 8"
   ]
  },
  {
   "cell_type": "code",
   "execution_count": 6,
   "metadata": {},
   "outputs": [],
   "source": [
    "mkdir -p enrichment_all/den8"
   ]
  },
  {
   "cell_type": "code",
   "execution_count": 8,
   "metadata": {},
   "outputs": [
    {
     "name": "stdout",
     "output_type": "stream",
     "text": [
      "den8/den8.bam   den8/F9038.bam  den8/F9040.bam  den8/F9042.bam\n",
      "den8/F9037.bam  den8/F9039.bam  den8/F9041.bam  den8/F9043.bam\n"
     ]
    }
   ],
   "source": [
    "ls den8/*.bam"
   ]
  },
  {
   "cell_type": "code",
   "execution_count": 9,
   "metadata": {},
   "outputs": [],
   "source": [
    "cp den8/F*.bam enrichment_all/den8"
   ]
  },
  {
   "cell_type": "markdown",
   "metadata": {},
   "source": [
    "**Final set of BAMs:**"
   ]
  },
  {
   "cell_type": "code",
   "execution_count": 10,
   "metadata": {},
   "outputs": [
    {
     "name": "stdout",
     "output_type": "stream",
     "text": [
      "total 5.3G\n",
      "-rw-r--r-- 1 public staff 851M Jun  9 16:05 F9037.bam\n",
      "-rw-r--r-- 1 public staff 765M Jun  9 16:06 F9038.bam\n",
      "-rw-r--r-- 1 public staff 684M Jun  9 16:06 F9039.bam\n",
      "-rw-r--r-- 1 public staff 720M Jun  9 16:06 F9040.bam\n",
      "-rw-r--r-- 1 public staff 745M Jun  9 16:06 F9041.bam\n",
      "-rw-r--r-- 1 public staff 809M Jun  9 16:07 F9042.bam\n",
      "-rw-r--r-- 1 public staff 801M Jun  9 16:07 F9043.bam\n"
     ]
    }
   ],
   "source": [
    "ll enrichment_all/den8"
   ]
  },
  {
   "cell_type": "markdown",
   "metadata": {},
   "source": [
    "## Spy 94a"
   ]
  },
  {
   "cell_type": "code",
   "execution_count": 11,
   "metadata": {},
   "outputs": [],
   "source": [
    "mkdir -p enrichment_all/spy94a"
   ]
  },
  {
   "cell_type": "code",
   "execution_count": 12,
   "metadata": {},
   "outputs": [
    {
     "name": "stdout",
     "output_type": "stream",
     "text": [
      "spy1/A9416.bam  spy1/A9418.bam  spy1/F9033.bam\n",
      "spy1/A9417.bam  spy1/A9419.bam  spy1/spy1.bam\n"
     ]
    }
   ],
   "source": [
    "ls spy1/*.bam"
   ]
  },
  {
   "cell_type": "code",
   "execution_count": 14,
   "metadata": {},
   "outputs": [],
   "source": [
    "cp spy1/F*.bam spy1/A*.bam enrichment_all/spy94a"
   ]
  },
  {
   "cell_type": "markdown",
   "metadata": {},
   "source": [
    "**Final set of BAMs:**"
   ]
  },
  {
   "cell_type": "code",
   "execution_count": 16,
   "metadata": {},
   "outputs": [
    {
     "name": "stdout",
     "output_type": "stream",
     "text": [
      "total 4.7G\n",
      "-rw-r--r-- 1 public staff 685M Jun  9 16:08 A9416.bam\n",
      "-rw-r--r-- 1 public staff 1.1G Jun  9 16:08 A9417.bam\n",
      "-rw-r--r-- 1 public staff 1.1G Jun  9 16:08 A9418.bam\n",
      "-rw-r--r-- 1 public staff 1.1G Jun  9 16:09 A9419.bam\n",
      "-rw-r--r-- 1 public staff 722M Jun  9 16:08 F9033.bam\n"
     ]
    }
   ],
   "source": [
    "ll enrichment_all/spy94a"
   ]
  },
  {
   "cell_type": "markdown",
   "metadata": {},
   "source": [
    "## Mezmaiskaya 2"
   ]
  },
  {
   "cell_type": "code",
   "execution_count": 17,
   "metadata": {},
   "outputs": [],
   "source": [
    "mkdir -p enrichment_all/mez2"
   ]
  },
  {
   "cell_type": "code",
   "execution_count": 18,
   "metadata": {},
   "outputs": [
    {
     "name": "stdout",
     "output_type": "stream",
     "text": [
      "F9034.bam  F9035.bam  F9036.bam  index_stats.txt  mez2_capture1.bam\n"
     ]
    }
   ],
   "source": [
    "ls mez2_capture1"
   ]
  },
  {
   "cell_type": "code",
   "execution_count": 20,
   "metadata": {},
   "outputs": [],
   "source": [
    "cp mez2_capture1/F*.bam enrichment_all/mez2"
   ]
  },
  {
   "cell_type": "code",
   "execution_count": 21,
   "metadata": {},
   "outputs": [
    {
     "name": "stdout",
     "output_type": "stream",
     "text": [
      "A13742.bam  A18478.bam  A18865.bam       mez2_capture2_lane1.bam\n",
      "A13743.bam  A18563.bam  index_stats.txt\n"
     ]
    }
   ],
   "source": [
    "ls mez2_capture2_lane1"
   ]
  },
  {
   "cell_type": "code",
   "execution_count": 24,
   "metadata": {},
   "outputs": [],
   "source": [
    "cp mez2_capture2_lane1/A*.bam enrichment_all/mez2"
   ]
  },
  {
   "cell_type": "code",
   "execution_count": 23,
   "metadata": {},
   "outputs": [
    {
     "name": "stdout",
     "output_type": "stream",
     "text": [
      "A19113.bam  A19246.bam  A19634.bam  G8910.bam\n",
      "A19114.bam  A19440.bam  A19635.bam  index_stats.txt\n",
      "A19245.bam  A19441.bam  G8908.bam   mez2_capture2_lane2.bam\n"
     ]
    }
   ],
   "source": [
    "ls mez2_capture2_lane2"
   ]
  },
  {
   "cell_type": "code",
   "execution_count": 25,
   "metadata": {},
   "outputs": [],
   "source": [
    "cp mez2_capture2_lane2/A*.bam mez2_capture2_lane2/G*.bam enrichment_all/mez2"
   ]
  },
  {
   "cell_type": "markdown",
   "metadata": {},
   "source": [
    "**Final set of BAMs:**"
   ]
  },
  {
   "cell_type": "code",
   "execution_count": 28,
   "metadata": {},
   "outputs": [
    {
     "name": "stdout",
     "output_type": "stream",
     "text": [
      "total 7.5G\n",
      "-rw-r--r-- 1 public staff  384M Jun  9 16:11 A13742.bam\n",
      "-rw-r--r-- 1 public staff  362M Jun  9 16:11 A13743.bam\n",
      "-rw-r--r-- 1 public staff  454M Jun  9 16:11 A18478.bam\n",
      "-rw-r--r-- 1 public staff  489M Jun  9 16:11 A18563.bam\n",
      "-rw-r--r-- 1 public staff  429M Jun  9 16:11 A18865.bam\n",
      "-rw-r--r-- 1 public staff  270M Jun  9 16:11 A19113.bam\n",
      "-rw-r--r-- 1 public staff  361M Jun  9 16:11 A19114.bam\n",
      "-rw-r--r-- 1 public staff  285M Jun  9 16:12 A19245.bam\n",
      "-rw-r--r-- 1 public staff  295M Jun  9 16:12 A19246.bam\n",
      "-rw-r--r-- 1 public staff  265M Jun  9 16:12 A19440.bam\n",
      "-rw-r--r-- 1 public staff  272M Jun  9 16:12 A19441.bam\n",
      "-rw-r--r-- 1 public staff  279M Jun  9 16:12 A19634.bam\n",
      "-rw-r--r-- 1 public staff  306M Jun  9 16:12 A19635.bam\n",
      "-rw-r--r-- 1 public staff 1007M Jun  9 16:10 F9034.bam\n",
      "-rw-r--r-- 1 public staff  840M Jun  9 16:10 F9035.bam\n",
      "-rw-r--r-- 1 public staff  705M Jun  9 16:10 F9036.bam\n",
      "-rw-r--r-- 1 public staff  331M Jun  9 16:12 G8908.bam\n",
      "-rw-r--r-- 1 public staff  341M Jun  9 16:12 G8910.bam\n"
     ]
    }
   ],
   "source": [
    "ll enrichment_all/mez2"
   ]
  },
  {
   "cell_type": "markdown",
   "metadata": {},
   "source": [
    "## List of all copied BAMs"
   ]
  },
  {
   "cell_type": "code",
   "execution_count": 37,
   "metadata": {},
   "outputs": [
    {
     "name": "stdout",
     "output_type": "stream",
     "text": [
      "enrichment\n",
      "├── den4\n",
      "│   ├── A11437.bam\n",
      "│   ├── A19116.bam\n",
      "│   ├── A19248.bam\n",
      "│   ├── A19443.bam\n",
      "│   └── A19637.bam\n",
      "├── den8\n",
      "│   ├── F9037.bam\n",
      "│   ├── F9038.bam\n",
      "│   ├── F9039.bam\n",
      "│   ├── F9040.bam\n",
      "│   ├── F9041.bam\n",
      "│   ├── F9042.bam\n",
      "│   └── F9043.bam\n",
      "├── mez2\n",
      "│   ├── A13742.bam\n",
      "│   ├── A13743.bam\n",
      "│   ├── A18478.bam\n",
      "│   ├── A18563.bam\n",
      "│   ├── A18865.bam\n",
      "│   ├── A19113.bam\n",
      "│   ├── A19114.bam\n",
      "│   ├── A19245.bam\n",
      "│   ├── A19246.bam\n",
      "│   ├── A19440.bam\n",
      "│   ├── A19441.bam\n",
      "│   ├── A19634.bam\n",
      "│   ├── A19635.bam\n",
      "│   ├── F9034.bam\n",
      "│   ├── F9035.bam\n",
      "│   ├── F9036.bam\n",
      "│   ├── G8908.bam\n",
      "│   └── G8910.bam\n",
      "└── spy94a\n",
      "    ├── A9416.bam\n",
      "    ├── A9417.bam\n",
      "    ├── A9418.bam\n",
      "    ├── A9419.bam\n",
      "    └── F9033.bam\n",
      "\n",
      "4 directories, 35 files\n"
     ]
    }
   ],
   "source": [
    "tree enrichment_all"
   ]
  },
  {
   "cell_type": "markdown",
   "metadata": {},
   "source": [
    "# Filter for L35 and MQ 25"
   ]
  },
  {
   "cell_type": "code",
   "execution_count": 38,
   "metadata": {},
   "outputs": [
    {
     "name": "stdout",
     "output_type": "stream",
     "text": [
      "/mnt/expressions/mp/archaic-ychr/tmp/enrichment/den4 /mnt/expressions/mp/archaic-ychr/tmp\n",
      "[analyzeBAM] processing A11437.bam\n",
      "[samopen] SAM header is present: 87 sequences.\n",
      " 14600000\u001b[K#RG\tin\tout\tin@MQ20\tsingle@MQ20\tunseen\ttotal\t%unique\t%exhausted\n",
      "--\t4,834,137\t371,906\t371,906\t204,429\t180k\t550k\t7.7\t66.6\n",
      "[analyzeBAM] processing A19116.bam\n",
      "[samopen] SAM header is present: 87 sequences.\n",
      " 6600000\u001b[K#RG\tin\tout\tin@MQ20\tsingle@MQ20\tunseen\ttotal\t%unique\t%exhausted\n",
      "--\t2,168,087\t210,888\t210,888\t116,987\t100k\t310k\t9.7\t66.1\n",
      "[analyzeBAM] processing A19248.bam\n",
      "[samopen] SAM header is present: 87 sequences.\n",
      " 8900000\u001b[K#RG\tin\tout\tin@MQ20\tsingle@MQ20\tunseen\ttotal\t%unique\t%exhausted\n",
      "--\t2,992,778\t270,998\t270,998\t153,508\t140k\t410k\t9.1\t64.9\n",
      "[analyzeBAM] processing A19443.bam\n",
      "[samopen] SAM header is present: 87 sequences.\n",
      " 6700000\u001b[K#RG\tin\tout\tin@MQ20\tsingle@MQ20\tunseen\ttotal\t%unique\t%exhausted\n",
      "--\t2,224,149\t233,434\t233,434\t131,475\t120k\t350k\t10.5\t65.2\n",
      "[analyzeBAM] processing A19637.bam\n",
      "[samopen] SAM header is present: 87 sequences.\n",
      " 9600000\u001b[K#RG\tin\tout\tin@MQ20\tsingle@MQ20\tunseen\ttotal\t%unique\t%exhausted\n",
      "--\t3,120,744\t272,288\t272,288\t153,681\t140k\t410k\t8.7\t65.1\n",
      "/mnt/expressions/mp/archaic-ychr/tmp\n"
     ]
    }
   ],
   "source": [
    "pushd enrichment_all/den4\n",
    "\n",
    "for bam in *.bam; do\n",
    "    /home/mmeyer/perlscripts/solexa/analysis/analyzeBAM.pl -qual 25 -minlength 35 $bam\n",
    "done\n",
    "\n",
    "popd"
   ]
  },
  {
   "cell_type": "code",
   "execution_count": 42,
   "metadata": {},
   "outputs": [
    {
     "name": "stdout",
     "output_type": "stream",
     "text": [
      "/mnt/expressions/mp/archaic-ychr/tmp/enrichment/den8 /mnt/expressions/mp/archaic-ychr/tmp\n",
      "[analyzeBAM] processing F9037.bam\n",
      "[samopen] SAM header is present: 87 sequences.\n",
      " 26500000\u001b[K#RG\tin\tout\tin@MQ20\tsingle@MQ20\tunseen\ttotal\t%unique\t%exhausted\n",
      "--\t6,361,117\t673,239\t673,239\t406,063\t430k\t1M1\t10.6\t60.9\n",
      "[analyzeBAM] processing F9038.bam\n",
      "[samopen] SAM header is present: 87 sequences.\n",
      " 23700000\u001b[K#RG\tin\tout\tin@MQ20\tsingle@MQ20\tunseen\ttotal\t%unique\t%exhausted\n",
      "--\t4,807,781\t495,337\t495,337\t238,512\t180k\t670k\t10.3\t73.3\n",
      "[analyzeBAM] processing F9039.bam\n",
      "[samopen] SAM header is present: 87 sequences.\n",
      " 21300000\u001b[K#RG\tin\tout\tin@MQ20\tsingle@MQ20\tunseen\ttotal\t%unique\t%exhausted\n",
      "--\t5,569,402\t575,401\t575,401\t335,331\t330k\t910k\t10.3\t63.1\n",
      "[analyzeBAM] processing F9040.bam\n",
      "[samopen] SAM header is present: 87 sequences.\n",
      " 22800000\u001b[K#RG\tin\tout\tin@MQ20\tsingle@MQ20\tunseen\ttotal\t%unique\t%exhausted\n",
      "--\t5,110,621\t486,807\t486,807\t231,999\t170k\t660k\t9.5\t73.7\n",
      "[analyzeBAM] processing F9041.bam\n",
      "[samopen] SAM header is present: 87 sequences.\n",
      " 23500000\u001b[K#RG\tin\tout\tin@MQ20\tsingle@MQ20\tunseen\ttotal\t%unique\t%exhausted\n",
      "--\t5,892,993\t520,047\t520,047\t315,663\t340k\t860k\t8.8\t60.4\n",
      "[analyzeBAM] processing F9042.bam\n",
      "[samopen] SAM header is present: 87 sequences.\n",
      " 25300000\u001b[K#RG\tin\tout\tin@MQ20\tsingle@MQ20\tunseen\ttotal\t%unique\t%exhausted\n",
      "--\t6,295,713\t628,966\t628,966\t371,616\t380k\t1M\t10.0\t62.2\n",
      "[analyzeBAM] processing F9043.bam\n",
      "[samopen] SAM header is present: 87 sequences.\n",
      " 24600000\u001b[K#RG\tin\tout\tin@MQ20\tsingle@MQ20\tunseen\ttotal\t%unique\t%exhausted\n",
      "--\t5,946,206\t537,267\t537,267\t326,056\t350k\t880k\t9.0\t60.5\n",
      "/mnt/expressions/mp/archaic-ychr/tmp\n"
     ]
    }
   ],
   "source": [
    "pushd enrichment_all/den8\n",
    "\n",
    "for bam in *.bam; do\n",
    "    /home/mmeyer/perlscripts/solexa/analysis/analyzeBAM.pl -qual 25 -minlength 35 $bam\n",
    "done\n",
    "\n",
    "popd"
   ]
  },
  {
   "cell_type": "code",
   "execution_count": 43,
   "metadata": {},
   "outputs": [
    {
     "name": "stdout",
     "output_type": "stream",
     "text": [
      "/mnt/expressions/mp/archaic-ychr/tmp/enrichment/spy94a /mnt/expressions/mp/archaic-ychr/tmp\n",
      "[analyzeBAM] processing A9416.bam\n",
      "[samopen] SAM header is present: 87 sequences.\n",
      " 18200000\u001b[K#RG\tin\tout\tin@MQ20\tsingle@MQ20\tunseen\ttotal\t%unique\t%exhausted\n",
      "--\t7,678,867\t965,207\t965,207\t713,465\t1M2\t2M2\t12.6\t43.8\n",
      "[analyzeBAM] processing A9417.bam\n",
      "[samopen] SAM header is present: 87 sequences.\n",
      " 30800000\u001b[K#RG\tin\tout\tin@MQ20\tsingle@MQ20\tunseen\ttotal\t%unique\t%exhausted\n",
      "--\t12,996,175\t1,314,526\t1,314,526\t824,003\t940k\t2M3\t10.1\t58.2\n",
      "[analyzeBAM] processing A9418.bam\n",
      "[samopen] SAM header is present: 87 sequences.\n",
      " 30300000\u001b[K#RG\tin\tout\tin@MQ20\tsingle@MQ20\tunseen\ttotal\t%unique\t%exhausted\n",
      "--\t12,734,706\t1,261,005\t1,261,005\t766,578\t820k\t2M1\t9.9\t60.3\n",
      "[analyzeBAM] processing A9419.bam\n",
      "[samopen] SAM header is present: 87 sequences.\n",
      " 31800000\u001b[K#RG\tin\tout\tin@MQ20\tsingle@MQ20\tunseen\ttotal\t%unique\t%exhausted\n",
      "--\t13,267,154\t1,273,831\t1,273,831\t869,170\t1M2\t2M5\t9.6\t51.4\n",
      "[analyzeBAM] processing F9033.bam\n",
      "[samopen] SAM header is present: 87 sequences.\n",
      " 18900000\u001b[K#RG\tin\tout\tin@MQ20\tsingle@MQ20\tunseen\ttotal\t%unique\t%exhausted\n",
      "--\t8,016,687\t1,130,790\t1,130,790\t848,243\t1M5\t2M7\t14.1\t42.3\n",
      "/mnt/expressions/mp/archaic-ychr/tmp\n"
     ]
    }
   ],
   "source": [
    "pushd enrichment_all/spy94a\n",
    "\n",
    "for bam in *.bam; do\n",
    "    /home/mmeyer/perlscripts/solexa/analysis/analyzeBAM.pl -qual 25 -minlength 35 $bam\n",
    "done\n",
    "\n",
    "popd"
   ]
  },
  {
   "cell_type": "code",
   "execution_count": 44,
   "metadata": {},
   "outputs": [
    {
     "name": "stdout",
     "output_type": "stream",
     "text": [
      "/mnt/expressions/mp/archaic-ychr/tmp/enrichment/mez2 /mnt/expressions/mp/archaic-ychr/tmp\n",
      "[analyzeBAM] processing A13742.bam\n",
      "[samopen] SAM header is present: 87 sequences.\n",
      " 10500000\u001b[K#RG\tin\tout\tin@MQ20\tsingle@MQ20\tunseen\ttotal\t%unique\t%exhausted\n",
      "--\t4,946,988\t1,011,698\t1,011,698\t704,476\t1M\t2M\t20.5\t49.6\n",
      "[analyzeBAM] processing A13743.bam\n",
      "[samopen] SAM header is present: 87 sequences.\n",
      " 10300000\u001b[K#RG\tin\tout\tin@MQ20\tsingle@MQ20\tunseen\ttotal\t%unique\t%exhausted\n",
      "--\t4,205,461\t749,054\t749,054\t475,951\t560k\t1M3\t17.8\t57.2\n",
      "[analyzeBAM] processing A18478.bam\n",
      "[samopen] SAM header is present: 87 sequences.\n",
      " 12500000\u001b[K#RG\tin\tout\tin@MQ20\tsingle@MQ20\tunseen\ttotal\t%unique\t%exhausted\n",
      "--\t5,928,721\t1,182,349\t1,182,349\t833,842\t1M3\t2M4\t19.9\t48.4\n",
      "[analyzeBAM] processing A18563.bam\n",
      "[samopen] SAM header is present: 87 sequences.\n",
      " 13800000\u001b[K#RG\tin\tout\tin@MQ20\tsingle@MQ20\tunseen\ttotal\t%unique\t%exhausted\n",
      "--\t5,855,902\t1,073,190\t1,073,190\t708,078\t900k\t2M\t18.3\t54.2\n",
      "[analyzeBAM] processing A18865.bam\n",
      "[samopen] SAM header is present: 87 sequences.\n",
      " 11900000\u001b[K#RG\tin\tout\tin@MQ20\tsingle@MQ20\tunseen\ttotal\t%unique\t%exhausted\n",
      "--\t4,790,864\t722,538\t722,538\t434,444\t460k\t1M2\t15.1\t61.1\n",
      "[analyzeBAM] processing A19113.bam\n",
      "[samopen] SAM header is present: 87 sequences.\n",
      " 8300000\u001b[K#RG\tin\tout\tin@MQ20\tsingle@MQ20\tunseen\ttotal\t%unique\t%exhausted\n",
      "--\t3,051,313\t159,600\t159,600\t99,106\t110k\t270k\t5.2\t58.8\n",
      "[analyzeBAM] processing A19114.bam\n",
      "[samopen] SAM header is present: 87 sequences.\n",
      " 9800000\u001b[K#RG\tin\tout\tin@MQ20\tsingle@MQ20\tunseen\ttotal\t%unique\t%exhausted\n",
      "--\t3,830,583\t641,578\t641,578\t394,282\t430k\t1M1\t16.7\t59.6\n",
      "[analyzeBAM] processing A19245.bam\n",
      "[samopen] SAM header is present: 87 sequences.\n",
      " 8400000\u001b[K#RG\tin\tout\tin@MQ20\tsingle@MQ20\tunseen\ttotal\t%unique\t%exhausted\n",
      "--\t3,130,879\t318,876\t318,876\t185,918\t180k\t500k\t10.2\t63.1\n",
      "[analyzeBAM] processing A19246.bam\n",
      "[samopen] SAM header is present: 87 sequences.\n",
      " 8200000\u001b[K#RG\tin\tout\tin@MQ20\tsingle@MQ20\tunseen\ttotal\t%unique\t%exhausted\n",
      "--\t3,190,205\t525,377\t525,377\t304,820\t300k\t820k\t16.5\t63.4\n",
      "[analyzeBAM] processing A19440.bam\n",
      "[samopen] SAM header is present: 87 sequences.\n",
      " 8300000\u001b[K#RG\tin\tout\tin@MQ20\tsingle@MQ20\tunseen\ttotal\t%unique\t%exhausted\n",
      "--\t3,117,030\t96,243\t96,243\t66,277\t94k\t190k\t3.1\t50.6\n",
      "[analyzeBAM] processing A19441.bam\n",
      "[samopen] SAM header is present: 87 sequences.\n",
      " 8100000\u001b[K#RG\tin\tout\tin@MQ20\tsingle@MQ20\tunseen\ttotal\t%unique\t%exhausted\n",
      "--\t3,068,855\t355,548\t355,548\t215,305\t230k\t580k\t11.6\t60.6\n",
      "[analyzeBAM] processing A19634.bam\n",
      "[samopen] SAM header is present: 87 sequences.\n",
      " 8800000\u001b[K#RG\tin\tout\tin@MQ20\tsingle@MQ20\tunseen\ttotal\t%unique\t%exhausted\n",
      "--\t3,140,136\t107,619\t107,619\t73,343\t100k\t200k\t3.4\t51.5\n",
      "[analyzeBAM] processing A19635.bam\n",
      "[samopen] SAM header is present: 87 sequences.\n",
      " 9100000\u001b[K#RG\tin\tout\tin@MQ20\tsingle@MQ20\tunseen\ttotal\t%unique\t%exhausted\n",
      "--\t3,231,096\t196,581\t196,581\t123,772\t140k\t330k\t6.1\t57.8\n",
      "[analyzeBAM] processing F9034.bam\n",
      "[samopen] SAM header is present: 87 sequences.\n",
      " 26000000\u001b[K#RG\tin\tout\tin@MQ20\tsingle@MQ20\tunseen\ttotal\t%unique\t%exhausted\n",
      "--\t10,133,113\t1,319,854\t1,319,854\t716,379\t640k\t2M\t13.0\t67.3\n",
      "[analyzeBAM] processing F9035.bam\n",
      "[samopen] SAM header is present: 87 sequences.\n",
      " 21900000\u001b[K#RG\tin\tout\tin@MQ20\tsingle@MQ20\tunseen\ttotal\t%unique\t%exhausted\n",
      "--\t8,817,802\t1,231,234\t1,231,234\t749,319\t810k\t2M\t14.0\t60.3\n",
      "[analyzeBAM] processing F9036.bam\n",
      "[samopen] SAM header is present: 87 sequences.\n",
      " 17600000\u001b[K#RG\tin\tout\tin@MQ20\tsingle@MQ20\tunseen\ttotal\t%unique\t%exhausted\n",
      "--\t6,642,453\t950,556\t950,556\t582,236\t630k\t1M6\t14.3\t59.8\n",
      "[analyzeBAM] processing G8908.bam\n",
      "[samopen] SAM header is present: 87 sequences.\n",
      " 8800000\u001b[K#RG\tin\tout\tin@MQ20\tsingle@MQ20\tunseen\ttotal\t%unique\t%exhausted\n",
      "--\t3,373,483\t708,565\t708,565\t399,926\t380k\t1M1\t21.0\t65.1\n",
      "[analyzeBAM] processing G8910.bam\n",
      "[samopen] SAM header is present: 87 sequences.\n",
      " 8900000\u001b[K#RG\tin\tout\tin@MQ20\tsingle@MQ20\tunseen\ttotal\t%unique\t%exhausted\n",
      "--\t3,378,095\t787,837\t787,837\t446,948\t420k\t1M2\t23.3\t64.8\n",
      "/mnt/expressions/mp/archaic-ychr/tmp\n"
     ]
    }
   ],
   "source": [
    "pushd enrichment_all/mez2\n",
    "\n",
    "for bam in *.bam; do\n",
    "    /home/mmeyer/perlscripts/solexa/analysis/analyzeBAM.pl -qual 25 -minlength 35 $bam\n",
    "done\n",
    "\n",
    "popd"
   ]
  },
  {
   "cell_type": "markdown",
   "metadata": {},
   "source": [
    "## Combine the per-individual analyzeBAM statistics into one table"
   ]
  },
  {
   "cell_type": "code",
   "execution_count": 76,
   "metadata": {},
   "outputs": [],
   "source": [
    "awk -vOFS=\"\\t\" '\n",
    "NR == 1 {\n",
    "    $1 = \"file\"; print \"#sample\", $0; next\n",
    "}\n",
    "!($0 ~ /#/) { print \"Denisova 4\", $0}' enrichment_all/den4/summary_stats_L35MQ25.txt >> enrichment_all/stats.txt"
   ]
  },
  {
   "cell_type": "code",
   "execution_count": 77,
   "metadata": {},
   "outputs": [],
   "source": [
    "awk -vOFS=\"\\t\"  '!($0 ~ /#/) { print \"Denisova 8\", $0}' enrichment_all/den8/summary_stats_L35MQ25.txt >> enrichment_all/stats.txt"
   ]
  },
  {
   "cell_type": "code",
   "execution_count": 78,
   "metadata": {},
   "outputs": [],
   "source": [
    "awk -vOFS=\"\\t\"  '!($0 ~ /#/) { print \"Spy 94a\", $0}' enrichment_all/spy94a/summary_stats_L35MQ25.txt >> enrichment_all/stats.txt"
   ]
  },
  {
   "cell_type": "code",
   "execution_count": 79,
   "metadata": {},
   "outputs": [],
   "source": [
    "awk -vOFS=\"\\t\"  '!($0 ~ /#/) { print \"Mezmaiskaya 2\", $0}' enrichment_all/mez2/summary_stats_L35MQ25.txt >> enrichment_all/stats.txt"
   ]
  },
  {
   "cell_type": "markdown",
   "metadata": {},
   "source": [
    "## Calculate on-target read counts and average length as one table"
   ]
  },
  {
   "cell_type": "code",
   "execution_count": 4,
   "metadata": {},
   "outputs": [],
   "source": [
    "mkdir -p enrichment_ontarget"
   ]
  },
  {
   "cell_type": "code",
   "execution_count": 5,
   "metadata": {},
   "outputs": [],
   "source": [
    "mkdir -p enrichment_ontarget/den4\n",
    "cp `find enrichment_all/den4 -name \"*.bam\" | grep -v \"uniq\"` enrichment_ontarget/den4"
   ]
  },
  {
   "cell_type": "code",
   "execution_count": 6,
   "metadata": {},
   "outputs": [],
   "source": [
    "mkdir -p enrichment_ontarget/den8\n",
    "cp `find enrichment_all/den8 -name \"*.bam\" | grep -v \"uniq\"` enrichment_ontarget/den8"
   ]
  },
  {
   "cell_type": "code",
   "execution_count": 7,
   "metadata": {},
   "outputs": [],
   "source": [
    "mkdir -p enrichment_ontarget/spy94a\n",
    "cp `find enrichment_all/spy94a -name \"*.bam\" | grep -v \"uniq\"` enrichment_ontarget/spy94a"
   ]
  },
  {
   "cell_type": "code",
   "execution_count": 8,
   "metadata": {},
   "outputs": [],
   "source": [
    "mkdir -p enrichment_ontarget/mez2\n",
    "cp `find enrichment_all/mez2 -name \"*.bam\" | grep -v \"uniq\"` enrichment_ontarget/mez2"
   ]
  },
  {
   "cell_type": "code",
   "execution_count": 10,
   "metadata": {},
   "outputs": [
    {
     "name": "stdout",
     "output_type": "stream",
     "text": [
      "/mnt/expressions/mp/archaic-ychr/tmp/enrichment_ontarget/den4 /mnt/expressions/mp/archaic-ychr/tmp\n",
      "[target_check.pm] Reading targetfile\n",
      "[analyzeBAM] processing A11437.bam\n",
      "[target_check.pm] Rebuilding target list\n",
      " 3300000[samopen] SAM header is present: 87 sequences.\n",
      " 14600000\u001b[K#RG\tin\tout\tin@MQ20\tsingle@MQ20\tunseen\ttotal\t%unique\t%exhausted\n",
      "--\t3,491,809\t42,702\t42,702\t4,435\t1k2\t43k\t1.2\t97.2\n",
      "[target_check.pm] Reading targetfile\n",
      "[analyzeBAM] processing A19116.bam\n",
      "[target_check.pm] Rebuilding target list\n",
      " 1500000[samopen] SAM header is present: 87 sequences.\n",
      " 6600000\u001b[K#RG\tin\tout\tin@MQ20\tsingle@MQ20\tunseen\ttotal\t%unique\t%exhausted\n",
      "--\t1,610,416\t35,609\t35,609\t3,879\t1k1\t36k\t2.2\t97.0\n",
      "[target_check.pm] Reading targetfile\n",
      "[analyzeBAM] processing A19248.bam\n",
      "[target_check.pm] Rebuilding target list\n",
      " 2000000[samopen] SAM header is present: 87 sequences.\n",
      " 8900000\u001b[K#RG\tin\tout\tin@MQ20\tsingle@MQ20\tunseen\ttotal\t%unique\t%exhausted\n",
      "--\t2,251,467\t41,531\t41,531\t4,370\t1k2\t42k\t1.8\t97.1\n",
      "[target_check.pm] Reading targetfile\n",
      "[analyzeBAM] processing A19443.bam\n",
      "[target_check.pm] Rebuilding target list\n",
      " 1600000[samopen] SAM header is present: 87 sequences.\n",
      " 6700000\u001b[K#RG\tin\tout\tin@MQ20\tsingle@MQ20\tunseen\ttotal\t%unique\t%exhausted\n",
      "--\t1,612,262\t36,895\t36,895\t3,784\t1k1\t38k\t2.3\t97.2\n",
      "[target_check.pm] Reading targetfile\n",
      "[analyzeBAM] processing A19637.bam\n",
      "[target_check.pm] Rebuilding target list\n",
      " 2200000[samopen] SAM header is present: 87 sequences.\n",
      " 9600000\u001b[K#RG\tin\tout\tin@MQ20\tsingle@MQ20\tunseen\ttotal\t%unique\t%exhausted\n",
      "--\t2,241,585\t32,917\t32,917\t3,428\t960\t33k\t1.5\t97.2\n",
      "/mnt/expressions/mp/archaic-ychr/tmp\n"
     ]
    }
   ],
   "source": [
    "pushd enrichment_ontarget/den4\n",
    "\n",
    "for bam in *.bam; do\n",
    "    /home/mmeyer/perlscripts/solexa/analysis/analyzeBAM.pl -qual 25 -minlength 35 -targetfile $bed $bam\n",
    "done\n",
    "\n",
    "popd"
   ]
  },
  {
   "cell_type": "code",
   "execution_count": 11,
   "metadata": {},
   "outputs": [
    {
     "name": "stdout",
     "output_type": "stream",
     "text": [
      "/mnt/expressions/mp/archaic-ychr/tmp/enrichment_ontarget/den8 /mnt/expressions/mp/archaic-ychr/tmp\n",
      "[target_check.pm] Reading targetfile\n",
      "[analyzeBAM] processing F9037.bam\n",
      "[target_check.pm] Rebuilding target list\n",
      " 7500000[samopen] SAM header is present: 87 sequences.\n",
      " 26500000\u001b[K#RG\tin\tout\tin@MQ20\tsingle@MQ20\tunseen\ttotal\t%unique\t%exhausted\n",
      "--\t4,055,947\t71,230\t71,230\t7,310\t2k\t73k\t1.8\t97.2\n",
      "[target_check.pm] Reading targetfile\n",
      "[analyzeBAM] processing F9038.bam\n",
      "[target_check.pm] Rebuilding target list\n",
      " 5200000[samopen] SAM header is present: 87 sequences.\n",
      " 23700000\u001b[K#RG\tin\tout\tin@MQ20\tsingle@MQ20\tunseen\ttotal\t%unique\t%exhausted\n",
      "--\t3,364,980\t100,770\t100,770\t11,085\t3k2\t100k\t3.0\t96.9\n",
      "[target_check.pm] Reading targetfile\n",
      "[analyzeBAM] processing F9039.bam\n",
      "[target_check.pm] Rebuilding target list\n",
      " 7000000[samopen] SAM header is present: 87 sequences.\n",
      " 21300000\u001b[K#RG\tin\tout\tin@MQ20\tsingle@MQ20\tunseen\ttotal\t%unique\t%exhausted\n",
      "--\t3,796,440\t79,185\t79,185\t8,611\t2k5\t81k\t2.1\t97.0\n",
      "[target_check.pm] Reading targetfile\n",
      "[analyzeBAM] processing F9040.bam\n",
      "[target_check.pm] Rebuilding target list\n",
      " 5500000[samopen] SAM header is present: 87 sequences.\n",
      " 22800000\u001b[K#RG\tin\tout\tin@MQ20\tsingle@MQ20\tunseen\ttotal\t%unique\t%exhausted\n",
      "--\t3,770,733\t113,486\t113,486\t12,298\t3k5\t110k\t3.0\t97.0\n",
      "[target_check.pm] Reading targetfile\n",
      "[analyzeBAM] processing F9041.bam\n",
      "[target_check.pm] Rebuilding target list\n",
      " 7200000[samopen] SAM header is present: 87 sequences.\n",
      " 23500000\u001b[K#RG\tin\tout\tin@MQ20\tsingle@MQ20\tunseen\ttotal\t%unique\t%exhausted\n",
      "--\t4,047,432\t59,217\t59,217\t6,580\t1k9\t61k\t1.5\t96.9\n",
      "[target_check.pm] Reading targetfile\n",
      "[analyzeBAM] processing F9042.bam\n",
      "[target_check.pm] Rebuilding target list\n",
      " 7800000[samopen] SAM header is present: 87 sequences.\n",
      " 25300000\u001b[K#RG\tin\tout\tin@MQ20\tsingle@MQ20\tunseen\ttotal\t%unique\t%exhausted\n",
      "--\t4,291,262\t82,029\t82,029\t8,987\t2k6\t84k\t1.9\t97.0\n",
      "[target_check.pm] Reading targetfile\n",
      "[analyzeBAM] processing F9043.bam\n",
      "[target_check.pm] Rebuilding target list\n",
      " 7300000[samopen] SAM header is present: 87 sequences.\n",
      " 24600000\u001b[K#RG\tin\tout\tin@MQ20\tsingle@MQ20\tunseen\ttotal\t%unique\t%exhausted\n",
      "--\t4,024,401\t58,651\t58,651\t6,401\t1k8\t60k\t1.5\t97.0\n",
      "/mnt/expressions/mp/archaic-ychr/tmp\n"
     ]
    }
   ],
   "source": [
    "pushd enrichment_ontarget/den8\n",
    "\n",
    "for bam in *.bam; do\n",
    "    /home/mmeyer/perlscripts/solexa/analysis/analyzeBAM.pl -qual 25 -minlength 35 -targetfile $bed $bam\n",
    "done\n",
    "\n",
    "popd"
   ]
  },
  {
   "cell_type": "code",
   "execution_count": 12,
   "metadata": {},
   "outputs": [
    {
     "name": "stdout",
     "output_type": "stream",
     "text": [
      "/mnt/expressions/mp/archaic-ychr/tmp/enrichment_ontarget/spy94a /mnt/expressions/mp/archaic-ychr/tmp\n",
      "[target_check.pm] Reading targetfile\n",
      "[analyzeBAM] processing A9416.bam\n",
      "[target_check.pm] Rebuilding target list\n",
      " 8400000[samopen] SAM header is present: 87 sequences.\n",
      " 18200000\u001b[K#RG\tin\tout\tin@MQ20\tsingle@MQ20\tunseen\ttotal\t%unique\t%exhausted\n",
      "--\t4,735,306\t24,677\t24,677\t3,512\t1k1\t25k\t0.5\t95.7\n",
      "[target_check.pm] Reading targetfile\n",
      "[analyzeBAM] processing A9417.bam\n",
      "[target_check.pm] Rebuilding target list\n",
      " 14300000[samopen] SAM header is present: 87 sequences.\n",
      " 30800000\u001b[K#RG\tin\tout\tin@MQ20\tsingle@MQ20\tunseen\ttotal\t%unique\t%exhausted\n",
      "--\t8,030,352\t28,039\t28,039\t4,359\t1k4\t29k\t0.3\t95.1\n",
      "[target_check.pm] Reading targetfile\n",
      "[analyzeBAM] processing A9418.bam\n",
      "[target_check.pm] Rebuilding target list\n",
      " 14000000[samopen] SAM header is present: 87 sequences.\n",
      " 30300000\u001b[K#RG\tin\tout\tin@MQ20\tsingle@MQ20\tunseen\ttotal\t%unique\t%exhausted\n",
      "--\t7,851,018\t27,023\t27,023\t4,095\t1k3\t28k\t0.3\t95.3\n",
      "[target_check.pm] Reading targetfile\n",
      "[analyzeBAM] processing A9419.bam\n",
      "[target_check.pm] Rebuilding target list\n",
      " 15100000[samopen] SAM header is present: 87 sequences.\n",
      " 31800000\u001b[K#RG\tin\tout\tin@MQ20\tsingle@MQ20\tunseen\ttotal\t%unique\t%exhausted\n",
      "--\t8,065,420\t20,826\t20,826\t3,639\t1k3\t22k\t0.3\t94.2\n",
      "[target_check.pm] Reading targetfile\n",
      "[analyzeBAM] processing F9033.bam\n",
      "[target_check.pm] Rebuilding target list\n",
      " 8700000[samopen] SAM header is present: 87 sequences.\n",
      " 18900000\u001b[K#RG\tin\tout\tin@MQ20\tsingle@MQ20\tunseen\ttotal\t%unique\t%exhausted\n",
      "--\t4,685,611\t25,837\t25,837\t3,667\t1k2\t27k\t0.6\t95.7\n",
      "/mnt/expressions/mp/archaic-ychr/tmp\n"
     ]
    }
   ],
   "source": [
    "pushd enrichment_ontarget/spy94a\n",
    "\n",
    "for bam in *.bam; do\n",
    "    /home/mmeyer/perlscripts/solexa/analysis/analyzeBAM.pl -qual 25 -minlength 35 -targetfile $bed $bam\n",
    "done\n",
    "\n",
    "popd"
   ]
  },
  {
   "cell_type": "code",
   "execution_count": 13,
   "metadata": {
    "scrolled": false
   },
   "outputs": [
    {
     "name": "stdout",
     "output_type": "stream",
     "text": [
      "/mnt/expressions/mp/archaic-ychr/tmp/enrichment_ontarget/mez2 /mnt/expressions/mp/archaic-ychr/tmp\n",
      "[target_check.pm] Reading targetfile\n",
      "[analyzeBAM] processing A13742.bam\n",
      "[target_check.pm] Rebuilding target list\n",
      " 3600000[samopen] SAM header is present: 87 sequences.\n",
      " 10500000\u001b[K#RG\tin\tout\tin@MQ20\tsingle@MQ20\tunseen\ttotal\t%unique\t%exhausted\n",
      "--\t3,531,856\t172,161\t172,161\t23,034\t7k1\t170k\t4.9\t96.0\n",
      "[target_check.pm] Reading targetfile\n",
      "[analyzeBAM] processing A13743.bam\n",
      "[target_check.pm] Rebuilding target list\n",
      " 2900000[samopen] SAM header is present: 87 sequences.\n",
      " 10300000\u001b[K#RG\tin\tout\tin@MQ20\tsingle@MQ20\tunseen\ttotal\t%unique\t%exhausted\n",
      "--\t3,128,690\t165,374\t165,374\t22,963\t7k2\t170k\t5.3\t95.8\n",
      "[target_check.pm] Reading targetfile\n",
      "[analyzeBAM] processing A18478.bam\n",
      "[target_check.pm] Rebuilding target list\n",
      " 4600000[samopen] SAM header is present: 87 sequences.\n",
      " 12500000\u001b[K#RG\tin\tout\tin@MQ20\tsingle@MQ20\tunseen\ttotal\t%unique\t%exhausted\n",
      "--\t3,966,194\t140,331\t140,331\t16,519\t4k9\t140k\t3.5\t96.7\n",
      "[target_check.pm] Reading targetfile\n",
      "[analyzeBAM] processing A18563.bam\n",
      "[target_check.pm] Rebuilding target list\n",
      " 4000000[samopen] SAM header is present: 87 sequences.\n",
      " 13800000\u001b[K#RG\tin\tout\tin@MQ20\tsingle@MQ20\tunseen\ttotal\t%unique\t%exhausted\n",
      "--\t4,114,957\t175,371\t175,371\t21,722\t6k5\t180k\t4.3\t96.4\n",
      "[target_check.pm] Reading targetfile\n",
      "[analyzeBAM] processing A18865.bam\n",
      "[target_check.pm] Rebuilding target list\n",
      " 2800000[samopen] SAM header is present: 87 sequences.\n",
      " 11900000\u001b[K#RG\tin\tout\tin@MQ20\tsingle@MQ20\tunseen\ttotal\t%unique\t%exhausted\n",
      "--\t3,583,445\t147,065\t147,065\t17,253\t5k1\t150k\t4.1\t96.7\n",
      "[target_check.pm] Reading targetfile\n",
      "[analyzeBAM] processing A19113.bam\n",
      "[target_check.pm] Rebuilding target list\n",
      " 2200000[samopen] SAM header is present: 87 sequences.\n",
      " 8300000\u001b[K#RG\tin\tout\tin@MQ20\tsingle@MQ20\tunseen\ttotal\t%unique\t%exhausted\n",
      "--\t2,347,568\t14,524\t14,524\t2,153\t690\t15k\t0.6\t95.4\n",
      "[target_check.pm] Reading targetfile\n",
      "[analyzeBAM] processing A19114.bam\n",
      "[target_check.pm] Rebuilding target list\n",
      " 2300000[samopen] SAM header is present: 87 sequences.\n",
      " 9800000\u001b[K#RG\tin\tout\tin@MQ20\tsingle@MQ20\tunseen\ttotal\t%unique\t%exhausted\n",
      "--\t2,811,111\t132,424\t132,424\t16,285\t4k9\t130k\t4.7\t96.4\n",
      "[target_check.pm] Reading targetfile\n",
      "[analyzeBAM] processing A19245.bam\n",
      "[target_check.pm] Rebuilding target list\n",
      " 2000000[samopen] SAM header is present: 87 sequences.\n",
      " 8400000\u001b[K#RG\tin\tout\tin@MQ20\tsingle@MQ20\tunseen\ttotal\t%unique\t%exhausted\n",
      "--\t2,457,581\t65,976\t65,976\t7,664\t2k2\t68k\t2.7\t96.7\n",
      "[target_check.pm] Reading targetfile\n",
      "[analyzeBAM] processing A19246.bam\n",
      "[target_check.pm] Rebuilding target list\n",
      " 2000000[samopen] SAM header is present: 87 sequences.\n",
      " 8200000\u001b[K#RG\tin\tout\tin@MQ20\tsingle@MQ20\tunseen\ttotal\t%unique\t%exhausted\n",
      "--\t2,427,534\t138,898\t138,898\t18,665\t5k8\t140k\t5.7\t96.0\n",
      "[target_check.pm] Reading targetfile\n",
      "[analyzeBAM] processing A19440.bam\n",
      "[target_check.pm] Rebuilding target list\n",
      " 2400000[samopen] SAM header is present: 87 sequences.\n",
      " 8300000\u001b[K#RG\tin\tout\tin@MQ20\tsingle@MQ20\tunseen\ttotal\t%unique\t%exhausted\n",
      "--\t2,244,359\t2,768\t2,768\t765\t340\t3k1\t0.1\t88.8\n",
      "[target_check.pm] Reading targetfile\n",
      "[analyzeBAM] processing A19441.bam\n",
      "[target_check.pm] Rebuilding target list\n",
      " 1900000[samopen] SAM header is present: 87 sequences.\n",
      " 8100000\u001b[K#RG\tin\tout\tin@MQ20\tsingle@MQ20\tunseen\ttotal\t%unique\t%exhausted\n",
      "--\t2,388,590\t70,590\t70,590\t8,097\t2k4\t72k\t3.0\t96.8\n",
      "[target_check.pm] Reading targetfile\n",
      "[analyzeBAM] processing A19634.bam\n",
      "[target_check.pm] Rebuilding target list\n",
      " 2500000[samopen] SAM header is present: 87 sequences.\n",
      " 8800000\u001b[K#RG\tin\tout\tin@MQ20\tsingle@MQ20\tunseen\ttotal\t%unique\t%exhausted\n",
      "--\t2,298,107\t3,526\t3,526\t786\t310\t3k8\t0.2\t91.8\n",
      "[target_check.pm] Reading targetfile\n",
      "[analyzeBAM] processing A19635.bam\n",
      "[target_check.pm] Rebuilding target list\n",
      " 2500000[samopen] SAM header is present: 87 sequences.\n",
      " 9100000\u001b[K#RG\tin\tout\tin@MQ20\tsingle@MQ20\tunseen\ttotal\t%unique\t%exhausted\n",
      "--\t2,392,302\t16,133\t16,133\t2,644\t890\t17k\t0.7\t94.7\n",
      "[target_check.pm] Reading targetfile\n",
      "[analyzeBAM] processing F9034.bam\n",
      "[target_check.pm] Rebuilding target list\n",
      " 9700000[samopen] SAM header is present: 87 sequences.\n",
      " 26000000\u001b[K#RG\tin\tout\tin@MQ20\tsingle@MQ20\tunseen\ttotal\t%unique\t%exhausted\n",
      "--\t5,926,107\t85,183\t85,183\t8,104\t2k2\t87k\t1.4\t97.5\n",
      "[target_check.pm] Reading targetfile\n",
      "[analyzeBAM] processing F9035.bam\n",
      "[target_check.pm] Rebuilding target list\n",
      " 8100000[samopen] SAM header is present: 87 sequences.\n",
      " 21900000\u001b[K#RG\tin\tout\tin@MQ20\tsingle@MQ20\tunseen\ttotal\t%unique\t%exhausted\n",
      "--\t4,897,606\t59,018\t59,018\t5,757\t1k6\t60k\t1.2\t97.4\n",
      "[target_check.pm] Reading targetfile\n",
      "[analyzeBAM] processing F9036.bam\n",
      "[target_check.pm] Rebuilding target list\n",
      " 6100000[samopen] SAM header is present: 87 sequences.\n",
      " 17600000\u001b[K#RG\tin\tout\tin@MQ20\tsingle@MQ20\tunseen\ttotal\t%unique\t%exhausted\n",
      "--\t3,799,289\t50,604\t50,604\t5,074\t1k4\t52k\t1.3\t97.3\n",
      "[target_check.pm] Reading targetfile\n",
      "[analyzeBAM] processing G8908.bam\n",
      "[target_check.pm] Rebuilding target list\n",
      " 2000000[samopen] SAM header is present: 87 sequences.\n",
      " 8800000\u001b[K#RG\tin\tout\tin@MQ20\tsingle@MQ20\tunseen\ttotal\t%unique\t%exhausted\n",
      "--\t2,501,718\t221,890\t221,890\t35,494\t11k\t230k\t8.9\t94.9\n",
      "[target_check.pm] Reading targetfile\n",
      "[analyzeBAM] processing G8910.bam\n",
      "[target_check.pm] Rebuilding target list\n",
      " 2100000[samopen] SAM header is present: 87 sequences.\n",
      " 8900000\u001b[K#RG\tin\tout\tin@MQ20\tsingle@MQ20\tunseen\ttotal\t%unique\t%exhausted\n",
      "--\t2,478,012\t256,314\t256,314\t44,165\t15k\t270k\t10.3\t94.3\n",
      "/mnt/expressions/mp/archaic-ychr/tmp\n"
     ]
    }
   ],
   "source": [
    "pushd enrichment_ontarget/mez2\n",
    "\n",
    "for bam in *.bam; do\n",
    "    /home/mmeyer/perlscripts/solexa/analysis/analyzeBAM.pl -qual 25 -minlength 35 -targetfile $bed $bam\n",
    "done\n",
    "\n",
    "popd"
   ]
  },
  {
   "cell_type": "markdown",
   "metadata": {},
   "source": [
    "## Combine the per-individual analyzeBAM statistics into one table"
   ]
  },
  {
   "cell_type": "code",
   "execution_count": 17,
   "metadata": {},
   "outputs": [],
   "source": [
    "awk -vOFS=\"\\t\" '\n",
    "NR == 1 {\n",
    "    $1 = \"file\"; print \"#sample\", $0; next\n",
    "}\n",
    "!($0 ~ /#/) { print \"Denisova 4\", $0}' enrichment_ontarget/den4/summary_stats_L35MQ25.txt >> enrichment_ontarget/stats.txt"
   ]
  },
  {
   "cell_type": "code",
   "execution_count": 18,
   "metadata": {},
   "outputs": [],
   "source": [
    "awk -vOFS=\"\\t\"  '!($0 ~ /#/) { print \"Denisova 8\", $0}' enrichment_ontarget/den8/summary_stats_L35MQ25.txt >> enrichment_ontarget/stats.txt"
   ]
  },
  {
   "cell_type": "code",
   "execution_count": 19,
   "metadata": {},
   "outputs": [],
   "source": [
    "awk -vOFS=\"\\t\"  '!($0 ~ /#/) { print \"Spy 94a\", $0}' enrichment_ontarget/spy94a/summary_stats_L35MQ25.txt >> enrichment_ontarget/stats.txt"
   ]
  },
  {
   "cell_type": "code",
   "execution_count": 20,
   "metadata": {},
   "outputs": [],
   "source": [
    "awk -vOFS=\"\\t\"  '!($0 ~ /#/) { print \"Mezmaiskaya 2\", $0}' enrichment_ontarget/mez2/summary_stats_L35MQ25.txt >> enrichment_ontarget/stats.txt"
   ]
  },
  {
   "cell_type": "markdown",
   "metadata": {},
   "source": [
    "## Calculate on-target read counts and average length as one table"
   ]
  },
  {
   "cell_type": "code",
   "execution_count": 25,
   "metadata": {},
   "outputs": [],
   "source": [
    "echo -e \"#file\\tsamtools_ontarget_count\\tsamtools_average_length\" > enrichment_ontarget/samtools.txt\n",
    "for bam in `find enrichment_ontarget/ -name \"*.bam\" | grep \"uniq\"`; do\n",
    "    echo -ne \"`basename $bam .ontarget.uniq.L35MQ25.bam`\\t\" >> enrichment_ontarget/samtools.txt\n",
    "    samtools view -L $bed $bam | awk '{sum += length($10)} END {print NR \"\\t\" sum/NR}' >> enrichment_ontarget/samtools.txt\n",
    "done"
   ]
  },
  {
   "cell_type": "markdown",
   "metadata": {},
   "source": [
    "## Combine both tables into one, joining them on libraryID column"
   ]
  },
  {
   "cell_type": "code",
   "execution_count": 26,
   "metadata": {},
   "outputs": [
    {
     "name": "stdout",
     "output_type": "stream",
     "text": [
      "\n",
      "R version 3.6.0 (2019-04-26) -- \"Planting of a Tree\"\n",
      "Copyright (C) 2019 The R Foundation for Statistical Computing\n",
      "Platform: x86_64-pc-linux-gnu (64-bit)\n",
      "\n",
      "R is free software and comes with ABSOLUTELY NO WARRANTY.\n",
      "You are welcome to redistribute it under certain conditions.\n",
      "Type 'license()' or 'licence()' for distribution details.\n",
      "\n",
      "  Natural language support but running in an English locale\n",
      "\n",
      "R is a collaborative project with many contributors.\n",
      "Type 'contributors()' for more information and\n",
      "'citation()' on how to cite R or R packages in publications.\n",
      "\n",
      "Type 'demo()' for some demos, 'help()' for on-line help, or\n",
      "'help.start()' for an HTML browser interface to help.\n",
      "Type 'q()' to quit R.\n",
      "\n",
      "> \n",
      "> x <- readr::read_tsv(\"enrichment_ontarget/stats.txt\");\n",
      "Parsed with column specification:\n",
      "cols(\n",
      "  `#sample` = col_character(),\n",
      "  file = col_character(),\n",
      "  raw = col_double(),\n",
      "  `&merged` = col_double(),\n",
      "  `&filter_passed` = col_double(),\n",
      "  `&L35` = col_double(),\n",
      "  mappedL35 = col_double(),\n",
      "  mappedL35MQ25 = col_double(),\n",
      "  `%mappedL35MQ25` = col_double(),\n",
      "  targetL35MQ25 = col_double(),\n",
      "  unique.ontargetL35MQ25 = col_double(),\n",
      "  average_dups = col_double(),\n",
      "  singletons = col_double()\n",
      ")\n",
      "> y <- readr::read_tsv(\"enrichment_ontarget/samtools.txt\");\n",
      "Parsed with column specification:\n",
      "cols(\n",
      "  `#file` = col_character(),\n",
      "  samtools_ontarget_count = col_double(),\n",
      "  samtools_average_length = col_double()\n",
      ")\n",
      "> xy <- dplyr::inner_join(x, y, by = c(\"file\" = \"#file\"));\n",
      "> readr::write_tsv(xy, \"enrichment_ontarget/capture.tsv\")\n",
      "> \n",
      "> \n",
      "> \n"
     ]
    }
   ],
   "source": [
    "R -e '\n",
    "x <- readr::read_tsv(\"enrichment_ontarget/stats.txt\");\n",
    "y <- readr::read_tsv(\"enrichment_ontarget/samtools.txt\");\n",
    "xy <- dplyr::inner_join(x, y, by = c(\"file\" = \"#file\"));\n",
    "readr::write_tsv(xy, \"enrichment_ontarget/capture.tsv\")\n",
    "'"
   ]
  }
 ],
 "metadata": {
  "kernelspec": {
   "display_name": "Bash",
   "language": "bash",
   "name": "bash"
  },
  "language_info": {
   "codemirror_mode": "shell",
   "file_extension": ".sh",
   "mimetype": "text/x-sh",
   "name": "bash"
  }
 },
 "nbformat": 4,
 "nbformat_minor": 2
}
