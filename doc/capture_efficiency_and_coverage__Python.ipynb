{
 "cells": [
  {
   "cell_type": "code",
   "execution_count": 1,
   "metadata": {
    "collapsed": false
   },
   "outputs": [],
   "source": [
    "from pybedtools import BedTool\n",
    "import numpy as np\n",
    "import pandas as pd\n",
    "import seaborn as sns\n",
    "import matplotlib.pyplot as plt\n",
    "import scipy.stats as stats"
   ]
  },
  {
   "cell_type": "code",
   "execution_count": 2,
   "metadata": {
    "collapsed": true
   },
   "outputs": [],
   "source": [
    "%matplotlib inline"
   ]
  },
  {
   "cell_type": "code",
   "execution_count": 3,
   "metadata": {
    "collapsed": true
   },
   "outputs": [],
   "source": [
    "plt.rcParams['figure.figsize'] = (10, 6)"
   ]
  },
  {
   "cell_type": "code",
   "execution_count": 4,
   "metadata": {
    "collapsed": false
   },
   "outputs": [],
   "source": [
    "bam_dir = '../bam'"
   ]
  },
  {
   "cell_type": "markdown",
   "metadata": {},
   "source": [
    "## Characteristics of the capture design"
   ]
  },
  {
   "cell_type": "code",
   "execution_count": 5,
   "metadata": {
    "collapsed": false
   },
   "outputs": [
    {
     "data": {
      "text/plain": [
       "1251"
      ]
     },
     "execution_count": 5,
     "metadata": {},
     "output_type": "execute_result"
    }
   ],
   "source": [
    "target_regions = BedTool('../input/target_regions.bed')\n",
    "len(target_regions)"
   ]
  },
  {
   "cell_type": "markdown",
   "metadata": {},
   "source": [
    "### Total length of target regions"
   ]
  },
  {
   "cell_type": "code",
   "execution_count": 6,
   "metadata": {
    "collapsed": false
   },
   "outputs": [
    {
     "data": {
      "text/plain": [
       "573657"
      ]
     },
     "execution_count": 6,
     "metadata": {},
     "output_type": "execute_result"
    }
   ],
   "source": [
    "target_regions.total_coverage()"
   ]
  },
  {
   "cell_type": "markdown",
   "metadata": {},
   "source": [
    "### Size distribution of target regions (all numbers in bp)"
   ]
  },
  {
   "cell_type": "code",
   "execution_count": 7,
   "metadata": {
    "collapsed": true
   },
   "outputs": [],
   "source": [
    "lengths = pd.Series(i.length for i in target_regions)"
   ]
  },
  {
   "cell_type": "code",
   "execution_count": 8,
   "metadata": {
    "collapsed": false
   },
   "outputs": [
    {
     "data": {
      "text/plain": [
       "count    1251.000000\n",
       "mean      458.558753\n",
       "std       474.844826\n",
       "min        60.000000\n",
       "25%       119.000000\n",
       "50%       151.000000\n",
       "75%       820.000000\n",
       "max      3899.000000\n",
       "dtype: float64"
      ]
     },
     "execution_count": 8,
     "metadata": {},
     "output_type": "execute_result"
    }
   ],
   "source": [
    "lengths.describe()"
   ]
  },
  {
   "cell_type": "code",
   "execution_count": 9,
   "metadata": {
    "collapsed": false
   },
   "outputs": [
    {
     "data": {
      "text/plain": [
       "<matplotlib.text.Text at 0x7fb3a68f7ef0>"
      ]
     },
     "execution_count": 9,
     "metadata": {},
     "output_type": "execute_result"
    },
    {
     "data": {
      "image/png": "[encoded data removed]",
      "text/plain": [
       "<matplotlib.figure.Figure at 0x7fb3a692b2b0>"
      ]
     },
     "metadata": {},
     "output_type": "display_data"
    }
   ],
   "source": [
    "sns.distplot(lengths, kde=False)\n",
    "plt.title('Target region size distribution', fontsize=20)"
   ]
  },
  {
   "cell_type": "code",
   "execution_count": 10,
   "metadata": {
    "collapsed": false
   },
   "outputs": [],
   "source": [
    "def analyze_coverage(bam_file, target_regions):\n",
    "    bam = BedTool(bam_file)\n",
    "    cov = target_regions.coverage(bam, d=True).to_dataframe()\n",
    "    \n",
    "    print(bam_file, '\\n========================================')\n",
    "    print('Number of bases in target regions covered:', len(cov.query('score > 0')))\n",
    "    print('Fraction of target regions covered:', (cov.score > 0).mean() * 100, '%')\n",
    "    print('\\nSummary of coverage at sites in target regions:\\n')\n",
    "    print(cov.score.describe())\n",
    "    \n",
    "    sns.distplot(cov.score, kde=False)\n",
    "    plt.title('Coverage distribution', fontsize=20)\n",
    "    plt.tick_params(labelsize=15)\n",
    "    plt.xlabel('coverage', fontsize=20)\n",
    "    plt.xlim(0, cov.score.max())"
   ]
  },
  {
   "cell_type": "markdown",
   "metadata": {},
   "source": [
    "# El Sidron 570kb capture"
   ]
  },
  {
   "cell_type": "markdown",
   "metadata": {},
   "source": [
    "## Proportion of on-target reads"
   ]
  },
  {
   "cell_type": "code",
   "execution_count": 11,
   "metadata": {
    "collapsed": false
   },
   "outputs": [
    {
     "name": "stdout",
     "output_type": "stream",
     "text": [
      "on-target read count:  92352\n",
      "total read count:  244170\n",
      "37.822828357292046 %\n"
     ]
    }
   ],
   "source": [
    "on = ! samtools view ../bam/sidron_ontarget.bam | wc -l\n",
    "total = ! samtools view ../tmp/sidron_rmdup_len35mapq37_sorted.bam | wc -l\n",
    "\n",
    "print('on-target read count: ', on[0])\n",
    "print('total read count: ', total[0])\n",
    "print(int(on[0]) / int(total[0]) * 100, '%')"
   ]
  },
  {
   "cell_type": "code",
   "execution_count": 12,
   "metadata": {
    "collapsed": false
   },
   "outputs": [
    {
     "name": "stdout",
     "output_type": "stream",
     "text": [
      "../bam/sidron_ontarget.bam \n",
      "========================================\n",
      "Number of bases in target regions covered: 549351\n",
      "Fraction of target regions covered: 95.7629733447 %\n",
      "\n",
      "Summary of coverage at sites in target regions:\n",
      "\n",
      "count    573657.000000\n",
      "mean          8.425742\n",
      "std           5.475308\n",
      "min           0.000000\n",
      "25%           4.000000\n",
      "50%           8.000000\n",
      "75%          12.000000\n",
      "max          53.000000\n",
      "Name: score, dtype: float64\n"
     ]
    },
    {
     "data": {
      "image/png": "[encoded data removed]",
      "text/plain": [
       "<matplotlib.figure.Figure at 0x7fb3a6887b70>"
      ]
     },
     "metadata": {},
     "output_type": "display_data"
    }
   ],
   "source": [
    "analyze_coverage('../bam/sidron_ontarget.bam', target_regions)"
   ]
  },
  {
   "cell_type": "markdown",
   "metadata": {},
   "source": [
    "# Denisova 8 shotgun (all fragments)"
   ]
  },
  {
   "cell_type": "code",
   "execution_count": 13,
   "metadata": {
    "collapsed": false
   },
   "outputs": [
    {
     "name": "stdout",
     "output_type": "stream",
     "text": [
      "Number of reads:  561\n"
     ]
    }
   ],
   "source": [
    "read_count = ! samtools view ../bam/den8_ontarget.bam | wc -l\n",
    "print('Number of reads: ', read_count[0])"
   ]
  },
  {
   "cell_type": "code",
   "execution_count": 14,
   "metadata": {
    "collapsed": false
   },
   "outputs": [
    {
     "name": "stdout",
     "output_type": "stream",
     "text": [
      "../bam/den8_ontarget.bam \n",
      "========================================\n",
      "Number of bases in target regions covered: 22376\n",
      "Fraction of target regions covered: 3.9005886793 %\n",
      "\n",
      "Summary of coverage at sites in target regions:\n",
      "\n",
      "count    573657.000000\n",
      "mean          0.041147\n",
      "std           0.209512\n",
      "min           0.000000\n",
      "25%           0.000000\n",
      "50%           0.000000\n",
      "75%           0.000000\n",
      "max           3.000000\n",
      "Name: score, dtype: float64\n"
     ]
    },
    {
     "data": {
      "image/png": "[encoded data removed]",
      "text/plain": [
       "<matplotlib.figure.Figure at 0x7fb3a676ba58>"
      ]
     },
     "metadata": {},
     "output_type": "display_data"
    }
   ],
   "source": [
    "analyze_coverage('../bam/den8_ontarget.bam', target_regions)"
   ]
  },
  {
   "cell_type": "markdown",
   "metadata": {},
   "source": [
    "# Denisova 8 shotgun (damaged fragments only)"
   ]
  },
  {
   "cell_type": "code",
   "execution_count": 15,
   "metadata": {
    "collapsed": false
   },
   "outputs": [
    {
     "name": "stdout",
     "output_type": "stream",
     "text": [
      "Number of reads:  102\n"
     ]
    }
   ],
   "source": [
    "read_count = ! samtools view ../bam/deam_den8_ontarget.bam | wc -l\n",
    "print('Number of reads: ', read_count[0])"
   ]
  },
  {
   "cell_type": "code",
   "execution_count": 16,
   "metadata": {
    "collapsed": false,
    "scrolled": false
   },
   "outputs": [
    {
     "name": "stdout",
     "output_type": "stream",
     "text": [
      "../bam/deam_den8_ontarget.bam \n",
      "========================================\n",
      "Number of bases in target regions covered: 4227\n",
      "Fraction of target regions covered: 0.736851463505 %\n",
      "\n",
      "Summary of coverage at sites in target regions:\n",
      "\n",
      "count    573657.000000\n",
      "mean          0.007369\n",
      "std           0.085523\n",
      "min           0.000000\n",
      "25%           0.000000\n",
      "50%           0.000000\n",
      "75%           0.000000\n",
      "max           1.000000\n",
      "Name: score, dtype: float64\n"
     ]
    },
    {
     "data": {
      "image/png": "[encoded data removed]",
      "text/plain": [
       "<matplotlib.figure.Figure at 0x7fb3a5518ac8>"
      ]
     },
     "metadata": {},
     "output_type": "display_data"
    }
   ],
   "source": [
    "analyze_coverage('../bam/deam_den8_ontarget.bam', target_regions)"
   ]
  },
  {
   "cell_type": "markdown",
   "metadata": {},
   "source": [
    "# Denisova 4 shotgun (all fragments)"
   ]
  },
  {
   "cell_type": "code",
   "execution_count": 17,
   "metadata": {
    "collapsed": false
   },
   "outputs": [
    {
     "name": "stdout",
     "output_type": "stream",
     "text": [
      "Number of reads:  77\n"
     ]
    }
   ],
   "source": [
    "read_count = ! samtools view ../bam/den4_ontarget.bam | wc -l\n",
    "print('Number of reads: ', read_count[0])"
   ]
  },
  {
   "cell_type": "code",
   "execution_count": 18,
   "metadata": {
    "collapsed": false
   },
   "outputs": [
    {
     "name": "stdout",
     "output_type": "stream",
     "text": [
      "../bam/den4_ontarget.bam \n",
      "========================================\n",
      "Number of bases in target regions covered: 4207\n",
      "Fraction of target regions covered: 0.733365059609 %\n",
      "\n",
      "Summary of coverage at sites in target regions:\n",
      "\n",
      "count    573657.000000\n",
      "mean          0.007470\n",
      "std           0.087669\n",
      "min           0.000000\n",
      "25%           0.000000\n",
      "50%           0.000000\n",
      "75%           0.000000\n",
      "max           2.000000\n",
      "Name: score, dtype: float64\n"
     ]
    },
    {
     "data": {
      "image/png": "[encoded data removed]",
      "text/plain": [
       "<matplotlib.figure.Figure at 0x7fb3a540e908>"
      ]
     },
     "metadata": {},
     "output_type": "display_data"
    }
   ],
   "source": [
    "analyze_coverage('../bam/den4_ontarget.bam', target_regions)"
   ]
  },
  {
   "cell_type": "markdown",
   "metadata": {},
   "source": [
    "# Denisova 4 shotgun (damaged fragments only)"
   ]
  },
  {
   "cell_type": "code",
   "execution_count": 19,
   "metadata": {
    "collapsed": false
   },
   "outputs": [
    {
     "name": "stdout",
     "output_type": "stream",
     "text": [
      "Number of reads:  3\n"
     ]
    }
   ],
   "source": [
    "read_count = ! samtools view ../bam/deam_den4_ontarget.bam | wc -l\n",
    "print('Number of reads: ', read_count[0])"
   ]
  },
  {
   "cell_type": "code",
   "execution_count": 20,
   "metadata": {
    "collapsed": false
   },
   "outputs": [
    {
     "name": "stdout",
     "output_type": "stream",
     "text": [
      "../bam/deam_den4_ontarget.bam \n",
      "========================================\n",
      "Number of bases in target regions covered: 156\n",
      "Fraction of target regions covered: 0.027193950392 %\n",
      "\n",
      "Summary of coverage at sites in target regions:\n",
      "\n",
      "count    573657.000000\n",
      "mean          0.000272\n",
      "std           0.016488\n",
      "min           0.000000\n",
      "25%           0.000000\n",
      "50%           0.000000\n",
      "75%           0.000000\n",
      "max           1.000000\n",
      "Name: score, dtype: float64\n"
     ]
    },
    {
     "data": {
      "image/png": "[encoded data removed]",
      "text/plain": [
       "<matplotlib.figure.Figure at 0x7fb3a53b9cf8>"
      ]
     },
     "metadata": {},
     "output_type": "display_data"
    }
   ],
   "source": [
    "analyze_coverage('../bam/deam_den4_ontarget.bam', target_regions)"
   ]
  },
  {
   "cell_type": "markdown",
   "metadata": {},
   "source": [
    "# El Sidron exome capture"
   ]
  },
  {
   "cell_type": "code",
   "execution_count": 21,
   "metadata": {
    "collapsed": false
   },
   "outputs": [
    {
     "name": "stdout",
     "output_type": "stream",
     "text": [
      "../bam/exome_sidron_ontarget.bam \n",
      "========================================\n",
      "Number of bases in target regions covered: 20746\n",
      "Fraction of target regions covered: 3.61644676174 %\n",
      "\n",
      "Summary of coverage at sites in target regions:\n",
      "\n",
      "count    573657.000000\n",
      "mean          0.215787\n",
      "std           2.287567\n",
      "min           0.000000\n",
      "25%           0.000000\n",
      "50%           0.000000\n",
      "75%           0.000000\n",
      "max         158.000000\n",
      "Name: score, dtype: float64\n"
     ]
    },
    {
     "data": {
      "image/png": "[encoded data removed]",
      "text/plain": [
       "<matplotlib.figure.Figure at 0x7fb3a540e8d0>"
      ]
     },
     "metadata": {},
     "output_type": "display_data"
    }
   ],
   "source": [
    "analyze_coverage('../bam/exome_sidron_ontarget.bam', target_regions)"
   ]
  },
  {
   "cell_type": "markdown",
   "metadata": {},
   "source": [
    "# A00 Y chromosome data"
   ]
  },
  {
   "cell_type": "code",
   "execution_count": 22,
   "metadata": {
    "collapsed": false
   },
   "outputs": [
    {
     "name": "stdout",
     "output_type": "stream",
     "text": [
      "../bam/a00_ontarget.bam \n",
      "========================================\n",
      "Number of bases in target regions covered: 573656\n",
      "Fraction of target regions covered: 99.9998256798 %\n",
      "\n",
      "Summary of coverage at sites in target regions:\n",
      "\n",
      "count    573657.000000\n",
      "mean         21.815273\n",
      "std           6.579486\n",
      "min           0.000000\n",
      "25%          17.000000\n",
      "50%          21.000000\n",
      "75%          26.000000\n",
      "max         154.000000\n",
      "Name: score, dtype: float64\n"
     ]
    },
    {
     "data": {
      "image/png": "[encoded data removed]",
      "text/plain": [
       "<matplotlib.figure.Figure at 0x7fb3a67fc160>"
      ]
     },
     "metadata": {},
     "output_type": "display_data"
    }
   ],
   "source": [
    "analyze_coverage('../bam/a00_ontarget.bam', target_regions)"
   ]
  },
  {
   "cell_type": "markdown",
   "metadata": {
    "collapsed": true
   },
   "source": [
    "<br><br><br><br><br><br><br><br><br><br>\n",
    "# Y capture regions from the Lippold et al. 2014 paper"
   ]
  },
  {
   "cell_type": "code",
   "execution_count": 23,
   "metadata": {
    "collapsed": false
   },
   "outputs": [],
   "source": [
    "# load the data from the publisher's server\n",
    "basti_targets = pd.read_excel('http://static-content.springer.com/esm/art%3A10.1186%2F2041-2223-5-13/MediaObjects/13323_2014_104_MOESM2_ESM.xlsx', skiprows=4)\n",
    "\n",
    "# add a chromosome column to make a valid BED file\n",
    "basti_targets['Chrom'] = 'Y'\n",
    "\n",
    "# convert the dataframe to a BedTool object\n",
    "basti_targets = BedTool.from_dataframe(basti_targets[['Chrom', 'Start', 'End']])"
   ]
  },
  {
   "cell_type": "code",
   "execution_count": 24,
   "metadata": {
    "collapsed": false
   },
   "outputs": [
    {
     "data": {
      "text/plain": [
       "501108"
      ]
     },
     "execution_count": 24,
     "metadata": {},
     "output_type": "execute_result"
    }
   ],
   "source": [
    "basti_targets.total_coverage()"
   ]
  },
  {
   "cell_type": "markdown",
   "metadata": {},
   "source": [
    "That is quite smaller than the target regions in BED file provided by Qiaomei."
   ]
  },
  {
   "cell_type": "markdown",
   "metadata": {},
   "source": [
    "### What is the intersect between the published regions and the one provided by Qiaomei?"
   ]
  },
  {
   "cell_type": "code",
   "execution_count": 25,
   "metadata": {
    "collapsed": false
   },
   "outputs": [
    {
     "data": {
      "text/plain": [
       "501108"
      ]
     },
     "execution_count": 25,
     "metadata": {},
     "output_type": "execute_result"
    }
   ],
   "source": [
    "target_regions.intersect(basti_targets).total_coverage()"
   ]
  },
  {
   "cell_type": "code",
   "execution_count": 26,
   "metadata": {
    "collapsed": false
   },
   "outputs": [
    {
     "name": "stdout",
     "output_type": "stream",
     "text": [
      "87.3532441859857 %\n"
     ]
    }
   ],
   "source": [
    "print(basti_targets.total_coverage() / target_regions.total_coverage() * 100, '%')"
   ]
  },
  {
   "cell_type": "markdown",
   "metadata": {},
   "source": [
    "So, although it is the same design, the actual coordinates published by Lippold et al. are quite smaller."
   ]
  },
  {
   "cell_type": "markdown",
   "metadata": {},
   "source": [
    "## Alternative BED file\n",
    "\n",
    "There also seems to be a BED file burried in Stoneking group's folder with a familiar name: `/mnt/genotyping/sendru/basti_design.bed`\n",
    "\n",
    "Let's test this one:"
   ]
  },
  {
   "cell_type": "code",
   "execution_count": 27,
   "metadata": {
    "collapsed": false
   },
   "outputs": [
    {
     "data": {
      "text/plain": [
       "573657"
      ]
     },
     "execution_count": 27,
     "metadata": {},
     "output_type": "execute_result"
    }
   ],
   "source": [
    "basti_design = BedTool('/mnt/genotyping/sendru/basti_design.bed')\n",
    "basti_design.total_coverage()"
   ]
  },
  {
   "cell_type": "code",
   "execution_count": 28,
   "metadata": {
    "collapsed": false
   },
   "outputs": [
    {
     "data": {
      "text/plain": [
       "1251"
      ]
     },
     "execution_count": 28,
     "metadata": {},
     "output_type": "execute_result"
    }
   ],
   "source": [
    "len(basti_design)"
   ]
  },
  {
   "cell_type": "code",
   "execution_count": 29,
   "metadata": {
    "collapsed": false
   },
   "outputs": [
    {
     "data": {
      "text/plain": [
       "573657"
      ]
     },
     "execution_count": 29,
     "metadata": {},
     "output_type": "execute_result"
    }
   ],
   "source": [
    "target_regions.intersect(basti_design).total_coverage()"
   ]
  },
  {
   "cell_type": "markdown",
   "metadata": {},
   "source": [
    "So this file is the same one as provided by Qiaomei."
   ]
  }
 ],
 "metadata": {
  "kernelspec": {
   "display_name": "Python 3",
   "language": "python",
   "name": "python3"
  },
  "language_info": {
   "codemirror_mode": {
    "name": "ipython",
    "version": 3
   },
   "file_extension": ".py",
   "mimetype": "text/x-python",
   "name": "python",
   "nbconvert_exporter": "python",
   "pygments_lexer": "ipython3",
   "version": "3.5.1"
  }
 },
 "nbformat": 4,
 "nbformat_minor": 0
}
