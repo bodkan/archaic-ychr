{
 "cells": [
  {
   "cell_type": "code",
   "execution_count": 1,
   "metadata": {
    "collapsed": false
   },
   "outputs": [
    {
     "name": "stdout",
     "output_type": "stream",
     "text": [
      "make[1]: Entering directory `/mnt/expressions/mp/archaic-y'\r\n",
      "make[1]: Nothing to be done for `init'.\r\n",
      "make[1]: Leaving directory `/mnt/expressions/mp/archaic-y'\r\n"
     ]
    }
   ],
   "source": [
    "# make sure dependencies have been generated (they should have been\n",
    "# if this notebook is run in batch mode by make)\n",
    "(cd ../; make init)"
   ]
  },
  {
   "cell_type": "markdown",
   "metadata": {},
   "source": [
    "# Processing of the Denisova 8 shotgun data\n",
    "\n",
    "Two folders are relevant here:\n",
    "\n",
    "* `/home/susanna_sawyer/Neandertal/Denisova_Molar_paper`\n",
    "* `/mnt/expressions/susanna/Denisova_Molar_2_L9133/`\n",
    "\n",
    "Readme file for processing is here: `/mnt/expressions/susanna/Denisova_Molar_2_L9133/read_me_HiSeq_L9133`\n",
    "\n",
    "It contains so many things, that re-processing the runs again (as for El Sidron capture data) does not make any sense. It will be better to use the published data, which is here:\n",
    "\n",
    "`/home/susanna_sawyer/Neandertal/Denisova_Molar_paper/final_data`\n",
    "\n",
    "These are the same BAM files as the ones in here (with the same name):\n",
    "\n",
    "`/mnt/expressions/susanna/Denisova_Molar_2_L9133/separate_damage`"
   ]
  },
  {
   "cell_type": "code",
   "execution_count": 2,
   "metadata": {
    "collapsed": false
   },
   "outputs": [
    {
     "name": "stdout",
     "output_type": "stream",
     "text": [
      "/home/susanna_sawyer/Neandertal/Denisova_Molar_paper/final_data/Den8_l35q37.bam\r\n",
      "/home/susanna_sawyer/Neandertal/Denisova_Molar_paper/final_data/Den8_l35q37_deam.bam\r\n"
     ]
    }
   ],
   "source": [
    "ls /home/susanna_sawyer/Neandertal/Denisova_Molar_paper/final_data/*.bam"
   ]
  },
  {
   "cell_type": "markdown",
   "metadata": {},
   "source": [
    "Let's just use both files as they were filtered (length >= 35, mapping quality 37) and save us lot of work."
   ]
  },
  {
   "cell_type": "code",
   "execution_count": 3,
   "metadata": {
    "collapsed": false
   },
   "outputs": [
    {
     "name": "stdout",
     "output_type": "stream",
     "text": []
    }
   ],
   "source": [
    "bam_dir=\"../bam\""
   ]
  },
  {
   "cell_type": "code",
   "execution_count": 4,
   "metadata": {
    "collapsed": false
   },
   "outputs": [
    {
     "name": "stdout",
     "output_type": "stream",
     "text": []
    }
   ],
   "source": [
    "targets_bed=\"../input/target_regions_map35-99.bed\""
   ]
  },
  {
   "cell_type": "markdown",
   "metadata": {},
   "source": [
    "## Extract only reads which overlap target regions from the capture array "
   ]
  },
  {
   "cell_type": "markdown",
   "metadata": {},
   "source": [
    "### All reads"
   ]
  },
  {
   "cell_type": "code",
   "execution_count": 5,
   "metadata": {
    "collapsed": false
   },
   "outputs": [
    {
     "name": "stdout",
     "output_type": "stream",
     "text": []
    }
   ],
   "source": [
    "bedtools intersect \\\n",
    "    -a /home/susanna_sawyer/Neandertal/Denisova_Molar_paper/final_data/Den8_l35q37.bam \\\n",
    "    -b $targets_bed \\\n",
    "    > $bam_dir/den8_ontarget.bam"
   ]
  },
  {
   "cell_type": "code",
   "execution_count": 6,
   "metadata": {
    "collapsed": false
   },
   "outputs": [
    {
     "name": "stdout",
     "output_type": "stream",
     "text": []
    }
   ],
   "source": [
    "samtools index $bam_dir/den8_ontarget.bam"
   ]
  },
  {
   "cell_type": "markdown",
   "metadata": {},
   "source": [
    "### Deaminated read only"
   ]
  },
  {
   "cell_type": "code",
   "execution_count": 7,
   "metadata": {
    "collapsed": false
   },
   "outputs": [
    {
     "name": "stdout",
     "output_type": "stream",
     "text": []
    }
   ],
   "source": [
    "bedtools intersect \\\n",
    "    -a /home/susanna_sawyer/Neandertal/Denisova_Molar_paper/final_data/Den8_l35q37_deam.bam \\\n",
    "    -b $targets_bed \\\n",
    "    > $bam_dir/deam_den8_ontarget.bam"
   ]
  },
  {
   "cell_type": "code",
   "execution_count": 8,
   "metadata": {
    "collapsed": false
   },
   "outputs": [
    {
     "name": "stdout",
     "output_type": "stream",
     "text": []
    }
   ],
   "source": [
    "samtools index $bam_dir/deam_den8_ontarget.bam"
   ]
  },
  {
   "cell_type": "markdown",
   "metadata": {},
   "source": [
    "# Processing of the Denisova 4 shotgun data\n",
    "\n",
    "It is a bit more trouble to find the final Denisova 4 data. The deaminated only fragments were published in the archive here: http://www.ebi.ac.uk/ena/data/view/PRJEB10828\n",
    "\n",
    "The downloaded BAM file for Denisova 4 has 2877362 bytes.\n",
    "\n",
    "Checking this directory `/mnt/expressions/susanna/Denisova_Molar_1_L9351/separate_damage` shows:"
   ]
  },
  {
   "cell_type": "code",
   "execution_count": 9,
   "metadata": {
    "collapsed": false
   },
   "outputs": [
    {
     "name": "stdout",
     "output_type": "stream",
     "text": [
      "-rw-r--r-- 1 public staff  2857946 Oct 22  2012 /mnt/expressions/susanna/Denisova_Molar_1_L9351/separate_damage/DenMol1_uniq_l35q37_deam.bam\r\n",
      "-rw-r--r-- 1 public staff  2877362 Oct 22  2012 /mnt/expressions/susanna/Denisova_Molar_1_L9351/separate_damage/DenMol1_uniq_l35q37_deam_clipped.bam\r\n",
      "-rw-r--r-- 1 public staff 74248791 Oct 22  2012 /mnt/expressions/susanna/Denisova_Molar_1_L9351/separate_damage/DenMol1_uniq_l35q37_notDeam.bam\r\n",
      "-rw-r--r-- 1 public staff 77094232 Oct 22  2012 /mnt/expressions/susanna/Denisova_Molar_1_L9351/separate_damage/DenMol1_uniq_repaired_l35q37.bam\r\n"
     ]
    }
   ],
   "source": [
    "ls -l /mnt/expressions/susanna/Denisova_Molar_1_L9351/separate_damage/*.bam"
   ]
  },
  {
   "cell_type": "markdown",
   "metadata": {},
   "source": [
    "The file `DenMol1_uniq_l35q37_deam.bam` therefore seems to be the one that was uploaded to the archive as deaminated-only fragments. This is in agreement with a README file in `/mnt/expressions/susanna/Denisova_Molar_1_L9351/read_me_HiSeq_L9351` which described the process of separation of damaged reads.\n",
    "\n",
    "This README also describes how the `DenMol1_uniq_l35q37_notDeam.bam` was generated. This is the file with all fragments.\n",
    "\n",
    "Therefore, for further analysis, these two files will be used:\n",
    "* `/mnt/expressions/susanna/Denisova_Molar_1_L9351/separate_damage/DenMol1_uniq_l35q37_deam_clipped.bam`\n",
    "* `/mnt/expressions/susanna/Denisova_Molar_1_L9351/separate_damage/DenMol1_uniq_l35q37_notDeam.bam`"
   ]
  },
  {
   "cell_type": "markdown",
   "metadata": {},
   "source": [
    "**Importantly** the readme in `/mnt/expressions/susanna/Denisova_Molar_1_L9351/separate_damage/read_me_separate_damage` also describes how the base quality of terminal bases was decreased for the deaminated-only fragments. This is where the \"clipped\" suffix comes from."
   ]
  },
  {
   "cell_type": "markdown",
   "metadata": {},
   "source": [
    "## Extract only reads which overlap target regions from the capture array "
   ]
  },
  {
   "cell_type": "markdown",
   "metadata": {},
   "source": [
    "### All reads"
   ]
  },
  {
   "cell_type": "code",
   "execution_count": 10,
   "metadata": {
    "collapsed": false
   },
   "outputs": [
    {
     "name": "stdout",
     "output_type": "stream",
     "text": []
    }
   ],
   "source": [
    "bedtools intersect \\\n",
    "    -a /mnt/expressions/susanna/Denisova_Molar_1_L9351/separate_damage/DenMol1_uniq_l35q37_notDeam.bam \\\n",
    "    -b $targets_bed \\\n",
    "    > $bam_dir/den4_ontarget.bam"
   ]
  },
  {
   "cell_type": "code",
   "execution_count": 11,
   "metadata": {
    "collapsed": false
   },
   "outputs": [
    {
     "name": "stdout",
     "output_type": "stream",
     "text": []
    }
   ],
   "source": [
    "samtools index $bam_dir/den4_ontarget.bam"
   ]
  },
  {
   "cell_type": "markdown",
   "metadata": {},
   "source": [
    "### Deaminated read only"
   ]
  },
  {
   "cell_type": "code",
   "execution_count": 12,
   "metadata": {
    "collapsed": false
   },
   "outputs": [
    {
     "name": "stdout",
     "output_type": "stream",
     "text": []
    }
   ],
   "source": [
    "bedtools intersect \\\n",
    "    -a /mnt/expressions/susanna/Denisova_Molar_1_L9351/separate_damage/DenMol1_uniq_l35q37_deam_clipped.bam \\\n",
    "    -b $targets_bed \\\n",
    "    > $bam_dir/deam_den4_ontarget.bam"
   ]
  },
  {
   "cell_type": "code",
   "execution_count": 13,
   "metadata": {
    "collapsed": false
   },
   "outputs": [
    {
     "name": "stdout",
     "output_type": "stream",
     "text": []
    }
   ],
   "source": [
    "samtools index $bam_dir/deam_den4_ontarget.bam"
   ]
  }
 ],
 "metadata": {
  "kernelspec": {
   "display_name": "Bash",
   "language": "bash",
   "name": "bash"
  },
  "language_info": {
   "codemirror_mode": "shell",
   "file_extension": ".sh",
   "mimetype": "text/x-sh",
   "name": "bash"
  }
 },
 "nbformat": 4,
 "nbformat_minor": 0
}