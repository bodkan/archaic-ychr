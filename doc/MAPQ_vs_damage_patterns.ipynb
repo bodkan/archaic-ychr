{
 "cells": [
  {
   "cell_type": "markdown",
   "metadata": {},
   "source": [
    "# Influence of MAPQ filtering, on-/off-target on substitution patterns"
   ]
  },
  {
   "cell_type": "markdown",
   "metadata": {},
   "source": [
    "## MAPQ37"
   ]
  },
  {
   "cell_type": "markdown",
   "metadata": {},
   "source": [
    "![](../figures/subst_from_5_prime_end__sidron_rmdup_len35mapq37_sorted.bam.svg)"
   ]
  },
  {
   "cell_type": "code",
   "execution_count": 13,
   "metadata": {
    "collapsed": false
   },
   "outputs": [
    {
     "name": "stdout",
     "output_type": "stream",
     "text": [
      "244170\r\n"
     ]
    }
   ],
   "source": [
    "! samtools view ../tmp/sidron_rmdup_len35mapq37_sorted.bam | wc -l"
   ]
  },
  {
   "cell_type": "markdown",
   "metadata": {},
   "source": [
    "![](../figures/subst_from_5_prime_end__sidron_rmdup_len35mapq37_sorted_chrY.bam.svg)"
   ]
  },
  {
   "cell_type": "code",
   "execution_count": 14,
   "metadata": {
    "collapsed": false
   },
   "outputs": [
    {
     "name": "stdout",
     "output_type": "stream",
     "text": [
      "113993\r\n"
     ]
    }
   ],
   "source": [
    "! samtools view ../tmp/sidron_rmdup_len35mapq37_sorted_chrY.bam | wc -l"
   ]
  },
  {
   "cell_type": "markdown",
   "metadata": {},
   "source": [
    "![](../figures/subst_from_5_prime_end__lippold_sidron_mapq37.bam.svg)"
   ]
  },
  {
   "cell_type": "code",
   "execution_count": 15,
   "metadata": {
    "collapsed": false
   },
   "outputs": [
    {
     "name": "stdout",
     "output_type": "stream",
     "text": [
      "92183\r\n"
     ]
    }
   ],
   "source": [
    "! samtools view ../bam/lippold_sidron_mapq37.bam | wc -l"
   ]
  },
  {
   "cell_type": "markdown",
   "metadata": {},
   "source": [
    "![](../figures/subst_from_5_prime_end__subset_on_exome_mapq37.bam.svg)"
   ]
  },
  {
   "cell_type": "code",
   "execution_count": 16,
   "metadata": {
    "collapsed": false
   },
   "outputs": [
    {
     "name": "stdout",
     "output_type": "stream",
     "text": [
      "5968\r\n"
     ]
    }
   ],
   "source": [
    "! samtools view ../bam/subset_on_exome_mapq37.bam | wc -l"
   ]
  },
  {
   "cell_type": "markdown",
   "metadata": {},
   "source": [
    "## MAPQ25"
   ]
  },
  {
   "cell_type": "markdown",
   "metadata": {},
   "source": [
    "![](../figures/subst_from_5_prime_end__sidron_rmdup_len35mapq25_sorted.bam.svg)"
   ]
  },
  {
   "cell_type": "code",
   "execution_count": 9,
   "metadata": {
    "collapsed": false
   },
   "outputs": [
    {
     "name": "stdout",
     "output_type": "stream",
     "text": [
      "248986\r\n"
     ]
    }
   ],
   "source": [
    "! samtools view ../tmp/sidron_rmdup_len35mapq25_sorted.bam | wc -l"
   ]
  },
  {
   "cell_type": "markdown",
   "metadata": {},
   "source": [
    "![](../figures/subst_from_5_prime_end__sidron_rmdup_len35mapq25_sorted_chrY.bam.svg)"
   ]
  },
  {
   "cell_type": "code",
   "execution_count": 10,
   "metadata": {
    "collapsed": false
   },
   "outputs": [
    {
     "name": "stdout",
     "output_type": "stream",
     "text": [
      "114278\r\n"
     ]
    }
   ],
   "source": [
    "! samtools view ../tmp/sidron_rmdup_len35mapq25_sorted_chrY.bam | wc -l"
   ]
  },
  {
   "cell_type": "markdown",
   "metadata": {},
   "source": [
    "![](../figures/subst_from_5_prime_end__lippold_sidron_mapq25.bam.svg)"
   ]
  },
  {
   "cell_type": "code",
   "execution_count": 11,
   "metadata": {
    "collapsed": false
   },
   "outputs": [
    {
     "name": "stdout",
     "output_type": "stream",
     "text": [
      "92316\r\n"
     ]
    }
   ],
   "source": [
    "! samtools view ../bam/lippold_sidron_mapq25.bam | wc -l"
   ]
  },
  {
   "cell_type": "markdown",
   "metadata": {},
   "source": [
    "![](../figures/subst_from_5_prime_end__subset_on_exome_mapq25.bam.svg)"
   ]
  },
  {
   "cell_type": "code",
   "execution_count": 12,
   "metadata": {
    "collapsed": false
   },
   "outputs": [
    {
     "name": "stdout",
     "output_type": "stream",
     "text": [
      "6013\r\n"
     ]
    }
   ],
   "source": [
    "! samtools view ../bam/subset_on_exome_mapq25.bam | wc -l"
   ]
  }
 ],
 "metadata": {
  "kernelspec": {
   "display_name": "Python 3",
   "language": "python",
   "name": "python3"
  },
  "language_info": {
   "codemirror_mode": {
    "name": "ipython",
    "version": 3
   },
   "file_extension": ".py",
   "mimetype": "text/x-python",
   "name": "python",
   "nbconvert_exporter": "python",
   "pygments_lexer": "ipython3",
   "version": "3.5.1"
  }
 },
 "nbformat": 4,
 "nbformat_minor": 0
}
