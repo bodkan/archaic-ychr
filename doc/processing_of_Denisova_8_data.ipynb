{
 "cells": [
  {
   "cell_type": "code",
   "execution_count": 1,
   "metadata": {
    "collapsed": false
   },
   "outputs": [
    {
     "name": "stdout",
     "output_type": "stream",
     "text": [
      "make[1]: Entering directory `/mnt/expressions/mp/y'\r\n",
      "make[1]: *** No rule to make target `init'.  Stop.\r\n",
      "make[1]: Leaving directory `/mnt/expressions/mp/y'\r\n"
     ]
    }
   ],
   "source": [
    "# make sure dependencies have been generated (they should have been\n",
    "# if this notebook is run in batch mode by make)\n",
    "(cd ../; make init)"
   ]
  },
  {
   "cell_type": "markdown",
   "metadata": {},
   "source": [
    "# Processing of the Denisova 8 shotgun data\n",
    "\n",
    "Two folders are relevant here:\n",
    "\n",
    "* `/home/susanna_sawyer/Neandertal/Denisova_Molar_paper`\n",
    "* `/mnt/expressions/susanna/Denisova_Molar_2_L9133/`\n",
    "\n",
    "Readme file for processing is here: `/mnt/expressions/susanna/Denisova_Molar_2_L9133/read_me_HiSeq_L9133`\n",
    "\n",
    "It contains so many things, that re-processing the runs again (as for El Sidron capture data) does not make any sense. It will be better to use the published data, which is here:\n",
    "\n",
    "`/home/susanna_sawyer/Neandertal/Denisova_Molar_paper/final_data`"
   ]
  },
  {
   "cell_type": "code",
   "execution_count": 2,
   "metadata": {
    "collapsed": false
   },
   "outputs": [
    {
     "name": "stdout",
     "output_type": "stream",
     "text": [
      "\u001b[0m\u001b[00;38;5;244m/home/susanna_sawyer/Neandertal/Denisova_Molar_paper/final_data/Den8_l35q37.bam\u001b[0m\r\n",
      "\u001b[00;38;5;244m/home/susanna_sawyer/Neandertal/Denisova_Molar_paper/final_data/Den8_l35q37_deam.bam\u001b[0m\u001b[K\r\n"
     ]
    }
   ],
   "source": [
    "ls /home/susanna_sawyer/Neandertal/Denisova_Molar_paper/final_data/*.bam"
   ]
  },
  {
   "cell_type": "markdown",
   "metadata": {},
   "source": [
    "Let's just use both files as they were filtered (length >= 35, mapping quality 37) and save us lot of work."
   ]
  },
  {
   "cell_type": "code",
   "execution_count": 3,
   "metadata": {
    "collapsed": false
   },
   "outputs": [
    {
     "name": "stdout",
     "output_type": "stream",
     "text": []
    }
   ],
   "source": [
    "bam_dir=\"../bam\""
   ]
  },
  {
   "cell_type": "markdown",
   "metadata": {},
   "source": [
    "## Extract only reads which overlap target regions from the capture array "
   ]
  },
  {
   "cell_type": "code",
   "execution_count": 4,
   "metadata": {
    "collapsed": false
   },
   "outputs": [
    {
     "name": "stdout",
     "output_type": "stream",
     "text": []
    }
   ],
   "source": [
    "targets_bed=\"../input/target_regions.bed\""
   ]
  },
  {
   "cell_type": "markdown",
   "metadata": {},
   "source": [
    "### All reads"
   ]
  },
  {
   "cell_type": "code",
   "execution_count": 5,
   "metadata": {
    "collapsed": false
   },
   "outputs": [
    {
     "name": "stdout",
     "output_type": "stream",
     "text": []
    }
   ],
   "source": [
    "bedtools intersect \\\n",
    "    -a /home/susanna_sawyer/Neandertal/Denisova_Molar_paper/final_data/Den8_l35q37.bam \\\n",
    "    -b $targets_bed \\\n",
    "    > $bam_dir/den8_ontarget.bam"
   ]
  },
  {
   "cell_type": "code",
   "execution_count": 6,
   "metadata": {
    "collapsed": false
   },
   "outputs": [
    {
     "name": "stdout",
     "output_type": "stream",
     "text": []
    }
   ],
   "source": [
    "samtools index $bam_dir/den8_ontarget.bam"
   ]
  },
  {
   "cell_type": "markdown",
   "metadata": {},
   "source": [
    "### Deaminated read only"
   ]
  },
  {
   "cell_type": "code",
   "execution_count": 7,
   "metadata": {
    "collapsed": false
   },
   "outputs": [
    {
     "name": "stdout",
     "output_type": "stream",
     "text": []
    }
   ],
   "source": [
    "bedtools intersect \\\n",
    "    -a /home/susanna_sawyer/Neandertal/Denisova_Molar_paper/final_data/Den8_l35q37_deam.bam \\\n",
    "    -b $targets_bed \\\n",
    "    > $bam_dir/deam_den8_ontarget.bam"
   ]
  },
  {
   "cell_type": "code",
   "execution_count": 8,
   "metadata": {
    "collapsed": false
   },
   "outputs": [
    {
     "name": "stdout",
     "output_type": "stream",
     "text": []
    }
   ],
   "source": [
    "samtools index $bam_dir/deam_den8_ontarget.bam"
   ]
  }
 ],
 "metadata": {
  "kernelspec": {
   "display_name": "Bash",
   "language": "bash",
   "name": "bash"
  },
  "language_info": {
   "codemirror_mode": "shell",
   "file_extension": ".sh",
   "mimetype": "text/x-sh",
   "name": "bash"
  }
 },
 "nbformat": 4,
 "nbformat_minor": 0
}