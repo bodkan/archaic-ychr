{
 "cells": [
  {
   "cell_type": "code",
   "execution_count": 2,
   "metadata": {
    "collapsed": true
   },
   "outputs": [],
   "source": [
    "import vcf"
   ]
  },
  {
   "cell_type": "markdown",
   "metadata": {},
   "source": [
    "### Time to the most recent common ancestor of all anatomically modern humans"
   ]
  },
  {
   "cell_type": "code",
   "execution_count": 21,
   "metadata": {
    "collapsed": true
   },
   "outputs": [],
   "source": [
    "a00_tmrca = 275"
   ]
  },
  {
   "cell_type": "markdown",
   "metadata": {},
   "source": [
    "### Function definitions"
   ]
  },
  {
   "cell_type": "code",
   "execution_count": 3,
   "metadata": {
    "collapsed": true
   },
   "outputs": [],
   "source": [
    "def get_base(sample_id, vcf_rec):\n",
    "    '''Return the base of a given sample in a VCF record.'''\n",
    "    return vcf_rec.genotype(sample_id).gt_bases"
   ]
  },
  {
   "cell_type": "code",
   "execution_count": 4,
   "metadata": {
    "collapsed": false
   },
   "outputs": [],
   "source": [
    "def update_counter(vcf_rec, counter):\n",
    "    '''Update the counter of mutations on each possible branch.'''\n",
    "    ref = vcf_rec.REF\n",
    "    chimp, nea, a00 = (get_base(s, vcf_rec) for s in ['Chimp', 'ElSidron', 'A00'])\n",
    "    \n",
    "    # skip sites with missing base in any of the samples\n",
    "    if not (chimp and nea and a00): return\n",
    "    # skip non-variable sites\n",
    "    if (ref == nea == a00): return\n",
    "    \n",
    "    # branch a mutation\n",
    "    if chimp == nea != ref == a00:\n",
    "        counter['a'] += 1\n",
    "    \n",
    "    # branch b mutation\n",
    "    elif chimp == a00 != nea == ref:\n",
    "        counter['b'] += 1\n",
    "    \n",
    "    # branch c mutation\n",
    "    elif chimp == ref != a00 == nea:\n",
    "        counter['c'] += 1\n",
    "        \n",
    "    # branch d mutation\n",
    "    elif ref != chimp == a00 == nea:\n",
    "        counter['d'] += 1\n",
    "    \n",
    "    # branch e mutation\n",
    "    elif a00 != chimp == nea == ref:\n",
    "        counter['e'] += 1\n",
    "        \n",
    "    # branch f mutation\n",
    "    elif nea != chimp == a00 == ref:\n",
    "        counter['f'] += 1\n",
    "        \n",
    "    # inconsistent site\n",
    "    else:\n",
    "        print(vcf_rec.POS, 'chimp: {}\\tnea: {}\\ta00: {}\\tref: {}'.format(chimp, nea, a00, ref))\n",
    "        counter['inconsistent'] += 1\n",
    "    \n",
    "    counter['variable'] += 1"
   ]
  },
  {
   "cell_type": "code",
   "execution_count": 8,
   "metadata": {
    "collapsed": false
   },
   "outputs": [],
   "source": [
    "def count_mutations_in_vcf(vcf_file):\n",
    "    '''Count the number of mutations on all possible branches\n",
    "    of the tree with chimpanzee, El Sidron, A00 and hg19 in\n",
    "    a given VCF.\n",
    "    '''\n",
    "    vcf_reader = vcf.Reader(open(vcf_file, 'rb'))\n",
    "    counter = {i : 0 for i in list('abcdef') + ['inconsistent', 'variable']}\n",
    "    \n",
    "    for rec in vcf_reader.fetch('Y'):\n",
    "        update_counter(rec, counter)\n",
    "        \n",
    "    return counter"
   ]
  },
  {
   "cell_type": "code",
   "execution_count": 16,
   "metadata": {
    "collapsed": true
   },
   "outputs": [],
   "source": [
    "def calc_proportions(counter):\n",
    "    for i in list('abcdef'):\n",
    "        print('proportion of mutations on branch {}: {:.2%}'.format(i, counter[i] / counter['variable']))"
   ]
  },
  {
   "cell_type": "code",
   "execution_count": 23,
   "metadata": {
    "collapsed": true
   },
   "outputs": [],
   "source": [
    "def branch_a_prop(counter):\n",
    "    a, d, e = counter['a'], counter['d'], counter['e']\n",
    "    return a / (a + d + e)\n",
    "\n",
    "def calc_alpha_1(counter):\n",
    "    p = branch_a_prop(counter)\n",
    "    return (1 + p) / (1 - p)"
   ]
  },
  {
   "cell_type": "markdown",
   "metadata": {},
   "source": [
    "### Analysis of exome data"
   ]
  },
  {
   "cell_type": "code",
   "execution_count": 9,
   "metadata": {
    "collapsed": false
   },
   "outputs": [],
   "source": [
    "exome_counts = count_mutations_in_vcf('../vcf/merged_exome.vcf.gz')"
   ]
  },
  {
   "cell_type": "code",
   "execution_count": 10,
   "metadata": {
    "collapsed": false,
    "scrolled": false
   },
   "outputs": [
    {
     "data": {
      "text/plain": [
       "{'a': 15,\n",
       " 'b': 3,\n",
       " 'c': 0,\n",
       " 'd': 15,\n",
       " 'e': 18,\n",
       " 'f': 48,\n",
       " 'inconsistent': 0,\n",
       " 'variable': 99}"
      ]
     },
     "execution_count": 10,
     "metadata": {},
     "output_type": "execute_result"
    }
   ],
   "source": [
    "exome_counts"
   ]
  },
  {
   "cell_type": "markdown",
   "metadata": {},
   "source": [
    "### Counts from Mendez et al."
   ]
  },
  {
   "cell_type": "code",
   "execution_count": 15,
   "metadata": {
    "collapsed": false
   },
   "outputs": [
    {
     "data": {
      "text/plain": [
       "{'a': 24,\n",
       " 'b': 4,\n",
       " 'c': 0,\n",
       " 'd': 16,\n",
       " 'e': 22,\n",
       " 'f': 77,\n",
       " 'inconsistent': 0,\n",
       " 'variable': 146}"
      ]
     },
     "execution_count": 15,
     "metadata": {},
     "output_type": "execute_result"
    }
   ],
   "source": [
    "mendez_counts = {i : 0 for i in list('abcdef') + ['inconsistent', 'variable']}\n",
    "mendez_counts['a'] = 24\n",
    "mendez_counts['b'] = 4\n",
    "mendez_counts['c'] = 0\n",
    "mendez_counts['d'] = 16\n",
    "mendez_counts['e'] = 22\n",
    "mendez_counts['f'] = 77\n",
    "mendez_counts['variable'] = 146\n",
    "\n",
    "mendez_counts"
   ]
  },
  {
   "cell_type": "markdown",
   "metadata": {},
   "source": [
    "### Proportions of branch mutations in our analysis of exome data"
   ]
  },
  {
   "cell_type": "code",
   "execution_count": 17,
   "metadata": {
    "collapsed": false
   },
   "outputs": [
    {
     "name": "stdout",
     "output_type": "stream",
     "text": [
      "proportion of mutations on branch a: 15.15%\n",
      "proportion of mutations on branch b: 3.03%\n",
      "proportion of mutations on branch c: 0.00%\n",
      "proportion of mutations on branch d: 15.15%\n",
      "proportion of mutations on branch e: 18.18%\n",
      "proportion of mutations on branch f: 48.48%\n"
     ]
    }
   ],
   "source": [
    "calc_proportions(exome_counts)"
   ]
  },
  {
   "cell_type": "markdown",
   "metadata": {},
   "source": [
    "### Proportions of branch mutations in Mendez et al. data"
   ]
  },
  {
   "cell_type": "code",
   "execution_count": 18,
   "metadata": {
    "collapsed": false
   },
   "outputs": [
    {
     "name": "stdout",
     "output_type": "stream",
     "text": [
      "proportion of mutations on branch a: 16.44%\n",
      "proportion of mutations on branch b: 2.74%\n",
      "proportion of mutations on branch c: 0.00%\n",
      "proportion of mutations on branch d: 10.96%\n",
      "proportion of mutations on branch e: 15.07%\n",
      "proportion of mutations on branch f: 52.74%\n"
     ]
    }
   ],
   "source": [
    "calc_proportions(mendez_counts)"
   ]
  },
  {
   "cell_type": "markdown",
   "metadata": {},
   "source": [
    "# Estimation of $\\alpha$ &mdash; method 1"
   ]
  },
  {
   "cell_type": "code",
   "execution_count": 28,
   "metadata": {
    "collapsed": false
   },
   "outputs": [],
   "source": [
    "exome_alpha = calc_alpha_1(exome_counts)"
   ]
  },
  {
   "cell_type": "code",
   "execution_count": 40,
   "metadata": {
    "collapsed": false
   },
   "outputs": [
    {
     "data": {
      "text/plain": [
       "1.9090909090909092"
      ]
     },
     "execution_count": 40,
     "metadata": {},
     "output_type": "execute_result"
    }
   ],
   "source": [
    "exome_alpha"
   ]
  },
  {
   "cell_type": "code",
   "execution_count": 29,
   "metadata": {
    "collapsed": false
   },
   "outputs": [
    {
     "data": {
      "text/plain": [
       "(451.0, 588.5, 794.75)"
      ]
     },
     "execution_count": 29,
     "metadata": {},
     "output_type": "execute_result"
    }
   ],
   "source": [
    "1.64 * a00_tmrca, 2.14 * a00_tmrca, 2.89 * a00_tmrca"
   ]
  },
  {
   "cell_type": "code",
   "execution_count": 30,
   "metadata": {
    "collapsed": false
   },
   "outputs": [
    {
     "data": {
      "text/plain": [
       "525.0"
      ]
     },
     "execution_count": 30,
     "metadata": {},
     "output_type": "execute_result"
    }
   ],
   "source": [
    "exome_alpha * a00_tmrca"
   ]
  },
  {
   "cell_type": "markdown",
   "metadata": {},
   "source": [
    "# 570 kb data"
   ]
  },
  {
   "cell_type": "code",
   "execution_count": 31,
   "metadata": {
    "collapsed": false
   },
   "outputs": [],
   "source": [
    "lippold_counts = count_mutations_in_vcf('../vcf/merged_lippold.vcf.gz')"
   ]
  },
  {
   "cell_type": "code",
   "execution_count": 34,
   "metadata": {
    "collapsed": false
   },
   "outputs": [
    {
     "data": {
      "text/plain": [
       "{'a': 62,\n",
       " 'b': 4,\n",
       " 'c': 12,\n",
       " 'd': 180,\n",
       " 'e': 87,\n",
       " 'f': 131,\n",
       " 'inconsistent': 0,\n",
       " 'variable': 476}"
      ]
     },
     "execution_count": 34,
     "metadata": {},
     "output_type": "execute_result"
    }
   ],
   "source": [
    "lippold_counts"
   ]
  },
  {
   "cell_type": "markdown",
   "metadata": {},
   "source": [
    "### Proportions of branch mutations in our data"
   ]
  },
  {
   "cell_type": "code",
   "execution_count": 36,
   "metadata": {
    "collapsed": false
   },
   "outputs": [
    {
     "name": "stdout",
     "output_type": "stream",
     "text": [
      "proportion of mutations on branch a: 13.03%\n",
      "proportion of mutations on branch b: 0.84%\n",
      "proportion of mutations on branch c: 2.52%\n",
      "proportion of mutations on branch d: 37.82%\n",
      "proportion of mutations on branch e: 18.28%\n",
      "proportion of mutations on branch f: 27.52%\n"
     ]
    }
   ],
   "source": [
    "calc_proportions(lippold_counts)"
   ]
  },
  {
   "cell_type": "markdown",
   "metadata": {},
   "source": [
    "# Estimation of $\\alpha$ &mdash; method 1"
   ]
  },
  {
   "cell_type": "code",
   "execution_count": 37,
   "metadata": {
    "collapsed": false
   },
   "outputs": [],
   "source": [
    "lippold_alpha = calc_alpha_1(lippold_counts)"
   ]
  },
  {
   "cell_type": "code",
   "execution_count": 38,
   "metadata": {
    "collapsed": false
   },
   "outputs": [
    {
     "data": {
      "text/plain": [
       "1.4644194756554307"
      ]
     },
     "execution_count": 38,
     "metadata": {},
     "output_type": "execute_result"
    }
   ],
   "source": [
    "lippold_alpha"
   ]
  },
  {
   "cell_type": "code",
   "execution_count": 39,
   "metadata": {
    "collapsed": false
   },
   "outputs": [
    {
     "data": {
      "text/plain": [
       "402.71535580524346"
      ]
     },
     "execution_count": 39,
     "metadata": {},
     "output_type": "execute_result"
    }
   ],
   "source": [
    "lippold_alpha * 275"
   ]
  }
 ],
 "metadata": {
  "kernelspec": {
   "display_name": "Python 3",
   "language": "python",
   "name": "python3"
  },
  "language_info": {
   "codemirror_mode": {
    "name": "ipython",
    "version": 3
   },
   "file_extension": ".py",
   "mimetype": "text/x-python",
   "name": "python",
   "nbconvert_exporter": "python",
   "pygments_lexer": "ipython3",
   "version": "3.5.1"
  }
 },
 "nbformat": 4,
 "nbformat_minor": 0
}
