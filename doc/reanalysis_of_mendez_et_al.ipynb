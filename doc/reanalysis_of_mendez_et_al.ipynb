{
 "cells": [
  {
   "cell_type": "code",
   "execution_count": 38,
   "metadata": {
    "collapsed": true
   },
   "outputs": [],
   "source": [
    "from statistics import mean, stdev\n",
    "from math import sqrt\n",
    "import vcf"
   ]
  },
  {
   "cell_type": "markdown",
   "metadata": {},
   "source": [
    "### Time to the most recent common ancestor of all anatomically modern humans"
   ]
  },
  {
   "cell_type": "code",
   "execution_count": 2,
   "metadata": {
    "collapsed": true
   },
   "outputs": [],
   "source": [
    "genome_a00_tmrca = 275\n",
    "exome_a00_tmrca = 120"
   ]
  },
  {
   "cell_type": "markdown",
   "metadata": {},
   "source": [
    "### Counts of branch mutations published by Mendez et al."
   ]
  },
  {
   "cell_type": "code",
   "execution_count": 3,
   "metadata": {
    "collapsed": false
   },
   "outputs": [
    {
     "data": {
      "text/plain": [
       "{'a': 24,\n",
       " 'b': 4,\n",
       " 'c': 0,\n",
       " 'd': 16,\n",
       " 'e': 22,\n",
       " 'f': 77,\n",
       " 'inconsistent': 0,\n",
       " 'variable': 146}"
      ]
     },
     "execution_count": 3,
     "metadata": {},
     "output_type": "execute_result"
    }
   ],
   "source": [
    "mendez_counts = {i : 0 for i in list('abcdef') + ['inconsistent', 'variable']}\n",
    "mendez_counts['a'] = 24\n",
    "mendez_counts['b'] = 4\n",
    "mendez_counts['c'] = 0\n",
    "mendez_counts['d'] = 16\n",
    "mendez_counts['e'] = 22\n",
    "mendez_counts['f'] = 77\n",
    "mendez_counts['variable'] = 146\n",
    "\n",
    "mendez_counts"
   ]
  },
  {
   "cell_type": "markdown",
   "metadata": {},
   "source": [
    "### Function definitions"
   ]
  },
  {
   "cell_type": "code",
   "execution_count": 4,
   "metadata": {
    "collapsed": true
   },
   "outputs": [],
   "source": [
    "def get_base(sample_id, vcf_rec):\n",
    "    '''Return the base of a given sample in a VCF record.'''\n",
    "    if sample_id == 'ref':\n",
    "        return vcf_rec.REF\n",
    "    else:\n",
    "        return vcf_rec.genotype(sample_id).gt_bases"
   ]
  },
  {
   "cell_type": "code",
   "execution_count": 5,
   "metadata": {
    "collapsed": false
   },
   "outputs": [],
   "source": [
    "def update_counter(vcf_rec, counter, human):\n",
    "    '''Update the counter of mutations on each possible branch.'''\n",
    "    chimp, hum, nea, a00 = (get_base(s, vcf_rec) for s in ['Chimp', human, 'ElSidron', 'A00'])\n",
    "    \n",
    "    # skip sites with missing base in any of the samples\n",
    "    if not (chimp and hum and nea and a00): return\n",
    "    # skip non-variable sites\n",
    "    if (hum == nea == a00): return\n",
    "    \n",
    "    # branch a mutation\n",
    "    if chimp == nea != hum == a00:\n",
    "        counter['a'] += 1\n",
    "    \n",
    "    # branch b mutation\n",
    "    elif chimp == a00 != nea == hum:\n",
    "        counter['b'] += 1\n",
    "    \n",
    "    # branch c mutation\n",
    "    elif chimp == hum != a00 == nea:\n",
    "        counter['c'] += 1\n",
    "        \n",
    "    # branch d mutation\n",
    "    elif hum != chimp == a00 == nea:\n",
    "        counter['d'] += 1\n",
    "    \n",
    "    # branch e mutation\n",
    "    elif a00 != chimp == nea == hum:\n",
    "        counter['e'] += 1\n",
    "        \n",
    "    # branch f mutation\n",
    "    elif nea != chimp == a00 == hum:\n",
    "        counter['f'] += 1\n",
    "        \n",
    "    # inconsistent site\n",
    "    else:\n",
    "        print(vcf_rec.POS, 'chimp: {}\\tnea: {}\\ta00: {}\\hum: {}'.format(chimp, nea, a00, ref))\n",
    "        counter['inconsistent'] += 1\n",
    "    \n",
    "    counter['variable'] += 1"
   ]
  },
  {
   "cell_type": "code",
   "execution_count": 6,
   "metadata": {
    "collapsed": false
   },
   "outputs": [],
   "source": [
    "def count_mutations_in_vcf(vcf_file, human='ref'):\n",
    "    '''Count the number of mutations on all possible branches\n",
    "    of the tree with chimpanzee, El Sidron, A00 and hg19 in\n",
    "    a given VCF.\n",
    "    '''\n",
    "    vcf_reader = vcf.Reader(open(vcf_file, 'rb'))\n",
    "    counter = {i : 0 for i in list('abcdef') + ['inconsistent', 'variable']}\n",
    "    \n",
    "    for rec in vcf_reader.fetch('Y'):\n",
    "        update_counter(rec, counter, human)\n",
    "        \n",
    "    return counter"
   ]
  },
  {
   "cell_type": "code",
   "execution_count": 7,
   "metadata": {
    "collapsed": true
   },
   "outputs": [],
   "source": [
    "def calc_proportions(counter):\n",
    "    for i in list('abcdef'):\n",
    "        print('number of mutations on branch {}: \\t{}\\t({:.2%})'.format(i, counter[i], counter[i] / counter['variable']))"
   ]
  },
  {
   "cell_type": "code",
   "execution_count": 8,
   "metadata": {
    "collapsed": true
   },
   "outputs": [],
   "source": [
    "def branch_a_prop(counter):\n",
    "    a, d, e = counter['a'], counter['d'], counter['e']\n",
    "    return a / (a + d + e)\n",
    "\n",
    "def calc_alpha_1(counter):\n",
    "    p = branch_a_prop(counter)\n",
    "    return (1 + p) / (1 - p)"
   ]
  },
  {
   "cell_type": "markdown",
   "metadata": {},
   "source": [
    "### Proportions of branch mutations in Mendez et al. data"
   ]
  },
  {
   "cell_type": "code",
   "execution_count": 29,
   "metadata": {
    "collapsed": false
   },
   "outputs": [
    {
     "name": "stdout",
     "output_type": "stream",
     "text": [
      "number of mutations on branch a: \t24\t(16.44%)\n",
      "number of mutations on branch b: \t4\t(2.74%)\n",
      "number of mutations on branch c: \t0\t(0.00%)\n",
      "number of mutations on branch d: \t16\t(10.96%)\n",
      "number of mutations on branch e: \t22\t(15.07%)\n",
      "number of mutations on branch f: \t77\t(52.74%)\n"
     ]
    }
   ],
   "source": [
    "calc_proportions(mendez_counts)"
   ]
  },
  {
   "cell_type": "markdown",
   "metadata": {},
   "source": [
    "# exome 120 kb &mdash; using different modern humans as 'ref'"
   ]
  },
  {
   "cell_type": "code",
   "execution_count": 11,
   "metadata": {
    "collapsed": true
   },
   "outputs": [],
   "source": [
    "samples = ['ref', 'Dai', 'French', 'Han', 'Mandenka', 'Mbuti', 'Papuan', 'San', 'Sardinian', 'Yoruba', 'Karitiana', 'Australian', 'Dinka']"
   ]
  },
  {
   "cell_type": "code",
   "execution_count": 12,
   "metadata": {
    "collapsed": true
   },
   "outputs": [],
   "source": [
    "exome_alphas = []"
   ]
  },
  {
   "cell_type": "code",
   "execution_count": 13,
   "metadata": {
    "collapsed": false,
    "scrolled": false
   },
   "outputs": [
    {
     "name": "stdout",
     "output_type": "stream",
     "text": [
      "ref\n",
      "\n",
      "number of mutations on branch a: \t15\t(15.15%)\n",
      "number of mutations on branch b: \t3\t(3.03%)\n",
      "number of mutations on branch c: \t0\t(0.00%)\n",
      "number of mutations on branch d: \t15\t(15.15%)\n",
      "number of mutations on branch e: \t18\t(18.18%)\n",
      "number of mutations on branch f: \t48\t(48.48%)\n",
      "\n",
      "alpha: 1.9\n",
      "T_NR: 229.0909090909091\n",
      "======================================\n",
      "\n",
      "\n",
      "Dai\n",
      "\n",
      "number of mutations on branch a: \t14\t(13.86%)\n",
      "number of mutations on branch b: \t3\t(2.97%)\n",
      "number of mutations on branch c: \t1\t(0.99%)\n",
      "number of mutations on branch d: \t17\t(16.83%)\n",
      "number of mutations on branch e: \t18\t(17.82%)\n",
      "number of mutations on branch f: \t48\t(47.52%)\n",
      "\n",
      "alpha: 1.8\n",
      "T_NR: 215.99999999999997\n",
      "======================================\n",
      "\n",
      "\n",
      "French\n",
      "\n",
      "number of mutations on branch a: \t14\t(14.43%)\n",
      "number of mutations on branch b: \t3\t(3.09%)\n",
      "number of mutations on branch c: \t0\t(0.00%)\n",
      "number of mutations on branch d: \t14\t(14.43%)\n",
      "number of mutations on branch e: \t18\t(18.56%)\n",
      "number of mutations on branch f: \t48\t(49.48%)\n",
      "\n",
      "alpha: 1.9\n",
      "T_NR: 225.0\n",
      "======================================\n",
      "\n",
      "\n",
      "Han\n",
      "\n",
      "number of mutations on branch a: \t15\t(15.15%)\n",
      "number of mutations on branch b: \t3\t(3.03%)\n",
      "number of mutations on branch c: \t0\t(0.00%)\n",
      "number of mutations on branch d: \t16\t(16.16%)\n",
      "number of mutations on branch e: \t17\t(17.17%)\n",
      "number of mutations on branch f: \t48\t(48.48%)\n",
      "\n",
      "alpha: 1.9\n",
      "T_NR: 229.0909090909091\n",
      "======================================\n",
      "\n",
      "\n",
      "Mandenka\n",
      "\n",
      "number of mutations on branch a: \t15\t(14.42%)\n",
      "number of mutations on branch b: \t4\t(3.85%)\n",
      "number of mutations on branch c: \t0\t(0.00%)\n",
      "number of mutations on branch d: \t21\t(20.19%)\n",
      "number of mutations on branch e: \t18\t(17.31%)\n",
      "number of mutations on branch f: \t46\t(44.23%)\n",
      "\n",
      "alpha: 1.8\n",
      "T_NR: 212.3076923076923\n",
      "======================================\n",
      "\n",
      "\n",
      "Mbuti\n",
      "\n",
      "number of mutations on branch a: \t15\t(15.00%)\n",
      "number of mutations on branch b: \t4\t(4.00%)\n",
      "number of mutations on branch c: \t0\t(0.00%)\n",
      "number of mutations on branch d: \t16\t(16.00%)\n",
      "number of mutations on branch e: \t18\t(18.00%)\n",
      "number of mutations on branch f: \t47\t(47.00%)\n",
      "\n",
      "alpha: 1.9\n",
      "T_NR: 225.8823529411765\n",
      "======================================\n",
      "\n",
      "\n",
      "Papuan\n",
      "\n",
      "number of mutations on branch a: \t14\t(14.89%)\n",
      "number of mutations on branch b: \t3\t(3.19%)\n",
      "number of mutations on branch c: \t0\t(0.00%)\n",
      "number of mutations on branch d: \t13\t(13.83%)\n",
      "number of mutations on branch e: \t17\t(18.09%)\n",
      "number of mutations on branch f: \t47\t(50.00%)\n",
      "\n",
      "alpha: 1.9\n",
      "T_NR: 231.99999999999997\n",
      "======================================\n",
      "\n",
      "\n",
      "San\n",
      "\n",
      "number of mutations on branch a: \t15\t(14.56%)\n",
      "number of mutations on branch b: \t2\t(1.94%)\n",
      "number of mutations on branch c: \t0\t(0.00%)\n",
      "number of mutations on branch d: \t19\t(18.45%)\n",
      "number of mutations on branch e: \t18\t(17.48%)\n",
      "number of mutations on branch f: \t49\t(47.57%)\n",
      "\n",
      "alpha: 1.8\n",
      "T_NR: 217.29729729729726\n",
      "======================================\n",
      "\n",
      "\n",
      "Sardinian\n",
      "\n",
      "number of mutations on branch a: \t15\t(14.85%)\n",
      "number of mutations on branch b: \t3\t(2.97%)\n",
      "number of mutations on branch c: \t0\t(0.00%)\n",
      "number of mutations on branch d: \t17\t(16.83%)\n",
      "number of mutations on branch e: \t18\t(17.82%)\n",
      "number of mutations on branch f: \t48\t(47.52%)\n",
      "\n",
      "alpha: 1.9\n",
      "T_NR: 222.8571428571429\n",
      "======================================\n",
      "\n",
      "\n",
      "Yoruba\n",
      "\n",
      "number of mutations on branch a: \t15\t(14.71%)\n",
      "number of mutations on branch b: \t4\t(3.92%)\n",
      "number of mutations on branch c: \t1\t(0.98%)\n",
      "number of mutations on branch d: \t17\t(16.67%)\n",
      "number of mutations on branch e: \t18\t(17.65%)\n",
      "number of mutations on branch f: \t47\t(46.08%)\n",
      "\n",
      "alpha: 1.9\n",
      "T_NR: 222.8571428571429\n",
      "======================================\n",
      "\n",
      "\n",
      "Karitiana\n",
      "\n",
      "number of mutations on branch a: \t14\t(14.29%)\n",
      "number of mutations on branch b: \t3\t(3.06%)\n",
      "number of mutations on branch c: \t0\t(0.00%)\n",
      "number of mutations on branch d: \t15\t(15.31%)\n",
      "number of mutations on branch e: \t18\t(18.37%)\n",
      "number of mutations on branch f: \t48\t(48.98%)\n",
      "\n",
      "alpha: 1.8\n",
      "T_NR: 221.8181818181818\n",
      "======================================\n",
      "\n",
      "\n",
      "Australian\n",
      "\n",
      "number of mutations on branch a: \t15\t(15.62%)\n",
      "number of mutations on branch b: \t3\t(3.12%)\n",
      "number of mutations on branch c: \t0\t(0.00%)\n",
      "number of mutations on branch d: \t12\t(12.50%)\n",
      "number of mutations on branch e: \t18\t(18.75%)\n",
      "number of mutations on branch f: \t48\t(50.00%)\n",
      "\n",
      "alpha: 2.0\n",
      "T_NR: 239.99999999999997\n",
      "======================================\n",
      "\n",
      "\n",
      "Dinka\n",
      "\n",
      "number of mutations on branch a: \t14\t(13.73%)\n",
      "number of mutations on branch b: \t2\t(1.96%)\n",
      "number of mutations on branch c: \t1\t(0.98%)\n",
      "number of mutations on branch d: \t19\t(18.63%)\n",
      "number of mutations on branch e: \t18\t(17.65%)\n",
      "number of mutations on branch f: \t48\t(47.06%)\n",
      "\n",
      "alpha: 1.8\n",
      "T_NR: 210.8108108108108\n",
      "======================================\n",
      "\n",
      "\n"
     ]
    }
   ],
   "source": [
    "for s in samples:\n",
    "    print(s, end='\\n\\n')\n",
    "    counts = count_mutations_in_vcf('../vcf/merged_exome.vcf.gz', s)\n",
    "    calc_proportions(counts)\n",
    "    print()\n",
    "    alpha = calc_alpha_1(counts)\n",
    "    print('alpha: {:.2}\\nT_NR: {:.2}'.format(alpha, alpha * exome_a00_tmrca))\n",
    "    print('======================================\\n\\n')\n",
    "    \n",
    "    exome_alphas.append(alpha)"
   ]
  },
  {
   "cell_type": "code",
   "execution_count": 47,
   "metadata": {
    "collapsed": false
   },
   "outputs": [
    {
     "data": {
      "text/plain": [
       "1.8621874609431173"
      ]
     },
     "execution_count": 47,
     "metadata": {},
     "output_type": "execute_result"
    }
   ],
   "source": [
    "mean(exome_alphas)"
   ]
  },
  {
   "cell_type": "code",
   "execution_count": 23,
   "metadata": {
    "collapsed": false
   },
   "outputs": [
    {
     "data": {
      "text/plain": [
       "223.46249531317406"
      ]
     },
     "execution_count": 23,
     "metadata": {},
     "output_type": "execute_result"
    }
   ],
   "source": [
    "mean(exome_alphas) * exome_a00_tmrca"
   ]
  },
  {
   "cell_type": "code",
   "execution_count": 46,
   "metadata": {
    "collapsed": false
   },
   "outputs": [
    {
     "data": {
      "text/plain": [
       "512.1015517593572"
      ]
     },
     "execution_count": 46,
     "metadata": {},
     "output_type": "execute_result"
    }
   ],
   "source": [
    "mean(exome_alphas) * genome_a00_tmrca"
   ]
  },
  {
   "cell_type": "code",
   "execution_count": 49,
   "metadata": {
    "collapsed": false
   },
   "outputs": [
    {
     "data": {
      "text/plain": [
       "228.0"
      ]
     },
     "execution_count": 49,
     "metadata": {},
     "output_type": "execute_result"
    }
   ],
   "source": [
    "1.9 * exome_a00_tmrca"
   ]
  },
  {
   "cell_type": "code",
   "execution_count": 50,
   "metadata": {
    "collapsed": false
   },
   "outputs": [
    {
     "data": {
      "text/plain": [
       "522.5"
      ]
     },
     "execution_count": 50,
     "metadata": {},
     "output_type": "execute_result"
    }
   ],
   "source": [
    "1.9 * genome_a00_tmrca"
   ]
  },
  {
   "cell_type": "markdown",
   "metadata": {},
   "source": [
    "# 560 kb &mdash; using different modern humans as 'ref'"
   ]
  },
  {
   "cell_type": "code",
   "execution_count": 17,
   "metadata": {
    "collapsed": true
   },
   "outputs": [],
   "source": [
    "samples = ['ref', 'Dai', 'French', 'Han', 'Mandenka', 'Mbuti', 'Papuan', 'San', 'Sardinian', 'Yoruba', 'Karitiana', 'Australian', 'Dinka']\n",
    "lippold_alphas = []"
   ]
  },
  {
   "cell_type": "code",
   "execution_count": 18,
   "metadata": {
    "collapsed": false,
    "scrolled": false
   },
   "outputs": [
    {
     "name": "stdout",
     "output_type": "stream",
     "text": [
      "ref\n",
      "\n",
      "number of mutations on branch a: \t62\t(13.03%)\n",
      "number of mutations on branch b: \t4\t(0.84%)\n",
      "number of mutations on branch c: \t12\t(2.52%)\n",
      "number of mutations on branch d: \t180\t(37.82%)\n",
      "number of mutations on branch e: \t87\t(18.28%)\n",
      "number of mutations on branch f: \t131\t(27.52%)\n",
      "\n",
      "alpha: 1.5\tT_NR: 402.71535580524346\n",
      "======================================\n",
      "\n",
      "\n",
      "Dai\n",
      "\n",
      "number of mutations on branch a: \t55\t(15.15%)\n",
      "number of mutations on branch b: \t4\t(1.10%)\n",
      "number of mutations on branch c: \t3\t(0.83%)\n",
      "number of mutations on branch d: \t84\t(23.14%)\n",
      "number of mutations on branch e: \t88\t(24.24%)\n",
      "number of mutations on branch f: \t129\t(35.54%)\n",
      "\n",
      "alpha: 1.6\tT_NR: 450.8720930232558\n",
      "======================================\n",
      "\n",
      "\n",
      "French\n",
      "\n",
      "number of mutations on branch a: \t62\t(13.28%)\n",
      "number of mutations on branch b: \t4\t(0.86%)\n",
      "number of mutations on branch c: \t13\t(2.78%)\n",
      "number of mutations on branch d: \t170\t(36.40%)\n",
      "number of mutations on branch e: \t87\t(18.63%)\n",
      "number of mutations on branch f: \t131\t(28.05%)\n",
      "\n",
      "alpha: 1.5\tT_NR: 407.6848249027237\n",
      "======================================\n",
      "\n",
      "\n",
      "Han\n",
      "\n",
      "number of mutations on branch a: \t55\t(13.82%)\n",
      "number of mutations on branch b: \t4\t(1.01%)\n",
      "number of mutations on branch c: \t5\t(1.26%)\n",
      "number of mutations on branch d: \t118\t(29.65%)\n",
      "number of mutations on branch e: \t88\t(22.11%)\n",
      "number of mutations on branch f: \t128\t(32.16%)\n",
      "\n",
      "alpha: 1.5\tT_NR: 421.84466019417476\n",
      "======================================\n",
      "\n",
      "\n",
      "Mandenka\n",
      "\n",
      "number of mutations on branch a: \t55\t(14.32%)\n",
      "number of mutations on branch b: \t4\t(1.04%)\n",
      "number of mutations on branch c: \t5\t(1.30%)\n",
      "number of mutations on branch d: \t103\t(26.82%)\n",
      "number of mutations on branch e: \t88\t(22.92%)\n",
      "number of mutations on branch f: \t129\t(33.59%)\n",
      "\n",
      "alpha: 1.6\tT_NR: 433.3769633507854\n",
      "======================================\n",
      "\n",
      "\n",
      "Mbuti\n",
      "\n",
      "number of mutations on branch a: \t55\t(14.71%)\n",
      "number of mutations on branch b: \t4\t(1.07%)\n",
      "number of mutations on branch c: \t3\t(0.80%)\n",
      "number of mutations on branch d: \t95\t(25.40%)\n",
      "number of mutations on branch e: \t88\t(23.53%)\n",
      "number of mutations on branch f: \t129\t(34.49%)\n",
      "\n",
      "alpha: 1.6\tT_NR: 440.3005464480875\n",
      "======================================\n",
      "\n",
      "\n",
      "Papuan\n",
      "\n",
      "number of mutations on branch a: \t61\t(16.80%)\n",
      "number of mutations on branch b: \t4\t(1.10%)\n",
      "number of mutations on branch c: \t5\t(1.38%)\n",
      "number of mutations on branch d: \t74\t(20.39%)\n",
      "number of mutations on branch e: \t88\t(24.24%)\n",
      "number of mutations on branch f: \t131\t(36.09%)\n",
      "\n",
      "alpha: 1.8\tT_NR: 482.09876543209884\n",
      "======================================\n",
      "\n",
      "\n",
      "San\n",
      "\n",
      "number of mutations on branch a: \t54\t(14.71%)\n",
      "number of mutations on branch b: \t4\t(1.09%)\n",
      "number of mutations on branch c: \t6\t(1.63%)\n",
      "number of mutations on branch d: \t85\t(23.16%)\n",
      "number of mutations on branch e: \t89\t(24.25%)\n",
      "number of mutations on branch f: \t129\t(35.15%)\n",
      "\n",
      "alpha: 1.6\tT_NR: 445.6896551724138\n",
      "======================================\n",
      "\n",
      "\n",
      "Sardinian\n",
      "\n",
      "number of mutations on branch a: \t55\t(13.78%)\n",
      "number of mutations on branch b: \t4\t(1.00%)\n",
      "number of mutations on branch c: \t7\t(1.75%)\n",
      "number of mutations on branch d: \t116\t(29.07%)\n",
      "number of mutations on branch e: \t88\t(22.06%)\n",
      "number of mutations on branch f: \t129\t(32.33%)\n",
      "\n",
      "alpha: 1.5\tT_NR: 423.2843137254902\n",
      "======================================\n",
      "\n",
      "\n",
      "Yoruba\n",
      "\n",
      "number of mutations on branch a: \t55\t(12.94%)\n",
      "number of mutations on branch b: \t4\t(0.94%)\n",
      "number of mutations on branch c: \t7\t(1.65%)\n",
      "number of mutations on branch d: \t142\t(33.41%)\n",
      "number of mutations on branch e: \t88\t(20.71%)\n",
      "number of mutations on branch f: \t129\t(30.35%)\n",
      "\n",
      "alpha: 1.5\tT_NR: 406.52173913043475\n",
      "======================================\n",
      "\n",
      "\n",
      "Karitiana\n",
      "\n",
      "number of mutations on branch a: \t62\t(14.80%)\n",
      "number of mutations on branch b: \t4\t(0.95%)\n",
      "number of mutations on branch c: \t6\t(1.43%)\n",
      "number of mutations on branch d: \t129\t(30.79%)\n",
      "number of mutations on branch e: \t87\t(20.76%)\n",
      "number of mutations on branch f: \t131\t(31.26%)\n",
      "\n",
      "alpha: 1.6\tT_NR: 432.8703703703703\n",
      "======================================\n",
      "\n",
      "\n",
      "Australian\n",
      "\n",
      "number of mutations on branch a: \t55\t(15.15%)\n",
      "number of mutations on branch b: \t4\t(1.10%)\n",
      "number of mutations on branch c: \t3\t(0.83%)\n",
      "number of mutations on branch d: \t84\t(23.14%)\n",
      "number of mutations on branch e: \t88\t(24.24%)\n",
      "number of mutations on branch f: \t129\t(35.54%)\n",
      "\n",
      "alpha: 1.6\tT_NR: 450.8720930232558\n",
      "======================================\n",
      "\n",
      "\n",
      "Dinka\n",
      "\n",
      "number of mutations on branch a: \t54\t(14.92%)\n",
      "number of mutations on branch b: \t4\t(1.10%)\n",
      "number of mutations on branch c: \t5\t(1.38%)\n",
      "number of mutations on branch d: \t82\t(22.65%)\n",
      "number of mutations on branch e: \t89\t(24.59%)\n",
      "number of mutations on branch f: \t128\t(35.36%)\n",
      "\n",
      "alpha: 1.6\tT_NR: 448.6842105263158\n",
      "======================================\n",
      "\n",
      "\n"
     ]
    }
   ],
   "source": [
    "for s in samples:\n",
    "    print(s, end='\\n\\n')\n",
    "    counts = count_mutations_in_vcf('../vcf/merged_lippold.vcf.gz', s)\n",
    "    calc_proportions(counts)\n",
    "    print()\n",
    "    alpha = calc_alpha_1(counts)\n",
    "    print('alpha: {:.2}\\nT_NR: {:.2}'.format(alpha, alpha * genome_a00_tmrca))\n",
    "    print('======================================\\n\\n')\n",
    "    \n",
    "    lippold_alphas.append(alpha)"
   ]
  },
  {
   "cell_type": "code",
   "execution_count": 48,
   "metadata": {
    "collapsed": false
   },
   "outputs": [
    {
     "data": {
      "text/plain": [
       "1.5795288366726294"
      ]
     },
     "execution_count": 48,
     "metadata": {},
     "output_type": "execute_result"
    }
   ],
   "source": [
    "mean(lippold_alphas)"
   ]
  },
  {
   "cell_type": "code",
   "execution_count": 25,
   "metadata": {
    "collapsed": false
   },
   "outputs": [
    {
     "data": {
      "text/plain": [
       "434.3704300849731"
      ]
     },
     "execution_count": 25,
     "metadata": {},
     "output_type": "execute_result"
    }
   ],
   "source": [
    "mean(lippold_alphas) * genome_a00_tmrca"
   ]
  }
 ],
 "metadata": {
  "kernelspec": {
   "display_name": "Python 3",
   "language": "python",
   "name": "python3"
  },
  "language_info": {
   "codemirror_mode": {
    "name": "ipython",
    "version": 3
   },
   "file_extension": ".py",
   "mimetype": "text/x-python",
   "name": "python",
   "nbconvert_exporter": "python",
   "pygments_lexer": "ipython3",
   "version": "3.5.1"
  }
 },
 "nbformat": 4,
 "nbformat_minor": 0
}
