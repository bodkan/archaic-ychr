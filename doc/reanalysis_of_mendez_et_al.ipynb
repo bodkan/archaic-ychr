{
 "cells": [
  {
   "cell_type": "code",
   "execution_count": 29,
   "metadata": {
    "collapsed": true
   },
   "outputs": [],
   "source": [
    "from statistics import mean, stdev\n",
    "from math import sqrt\n",
    "import vcf"
   ]
  },
  {
   "cell_type": "code",
   "execution_count": 30,
   "metadata": {
    "collapsed": true
   },
   "outputs": [],
   "source": [
    "def get_base(sample_id, vcf_rec):\n",
    "    '''Return the base of a given sample in a VCF record.'''\n",
    "    if sample_id == 'ref':\n",
    "        return vcf_rec.REF\n",
    "    else:\n",
    "        return vcf_rec.genotype(sample_id).gt_bases"
   ]
  },
  {
   "cell_type": "code",
   "execution_count": 31,
   "metadata": {
    "collapsed": true
   },
   "outputs": [],
   "source": [
    "mutation_rate = 7.4e-10"
   ]
  },
  {
   "cell_type": "code",
   "execution_count": 32,
   "metadata": {
    "collapsed": true
   },
   "outputs": [],
   "source": [
    "exome_length   = 118643\n",
    "lippold_length = 556259\n",
    "ychr_length    = 6913053"
   ]
  },
  {
   "cell_type": "markdown",
   "metadata": {},
   "source": [
    "# Re-analysis of Mendez et al. approach to time the A00 divergence"
   ]
  },
  {
   "cell_type": "code",
   "execution_count": 5,
   "metadata": {
    "collapsed": false
   },
   "outputs": [],
   "source": [
    "vcf_file = '../../y-selection/vcf/merged_y.vcf.gz'\n",
    "reader = vcf.Reader(open(vcf_file, 'rb'))"
   ]
  },
  {
   "cell_type": "code",
   "execution_count": 6,
   "metadata": {
    "collapsed": false
   },
   "outputs": [],
   "source": [
    "counter = {i : 0 for i in list('adef') + ['inconsistent', 'variable']}\n",
    "\n",
    "for vcf_rec in reader.fetch('Y'):\n",
    "    chimp, a00, ui, hum = (get_base(s, vcf_rec) for s in ['Chimp', 'A00', 'Ust_Ishim', 'ref'])\n",
    "    \n",
    "    # skip sites with missing base in any of the samples\n",
    "    if not (chimp and a00 and ui and hum): continue\n",
    "    # skip non-variable sites\n",
    "    if (a00 == ui == hum): continue\n",
    "    \n",
    "    # branch a mutation\n",
    "    if chimp == a00 != hum == ui:\n",
    "        counter['a'] += 1\n",
    "\n",
    "    # branch d mutation\n",
    "    elif chimp == a00 == ui != hum:\n",
    "        counter['d'] += 1\n",
    "\n",
    "    # branch e mutation\n",
    "    elif chimp == a00 == hum != ui:\n",
    "        counter['e'] += 1\n",
    "\n",
    "    # branch f mutation\n",
    "    elif chimp == hum == ui != a00:\n",
    "        counter['f'] += 1\n",
    "        \n",
    "    else:\n",
    "        # print(vcf_rec.POS, '\\tchimp: {}\\ta00: {}\\tui: {}\\thum: {}'.format(chimp, a00, ui, hum))\n",
    "        counter['inconsistent'] += 1\n",
    "\n",
    "    counter['variable'] += 1"
   ]
  },
  {
   "cell_type": "code",
   "execution_count": 7,
   "metadata": {
    "collapsed": false
   },
   "outputs": [
    {
     "data": {
      "text/plain": [
       "{'a': 1136, 'd': 253, 'e': 56, 'f': 1187, 'inconsistent': 43, 'variable': 2675}"
      ]
     },
     "execution_count": 7,
     "metadata": {},
     "output_type": "execute_result"
    }
   ],
   "source": [
    "counter"
   ]
  },
  {
   "cell_type": "code",
   "execution_count": 8,
   "metadata": {
    "collapsed": false
   },
   "outputs": [
    {
     "data": {
      "text/plain": [
       "251775.95782074006"
      ]
     },
     "execution_count": 8,
     "metadata": {},
     "output_type": "execute_result"
    }
   ],
   "source": [
    "mean([counter['a'] + counter['d'], counter['f']]) / (ychr_length * mutation_rate)"
   ]
  },
  {
   "cell_type": "code",
   "execution_count": 35,
   "metadata": {
    "collapsed": false
   },
   "outputs": [
    {
     "data": {
      "text/plain": [
       "271519.25886103103"
      ]
     },
     "execution_count": 35,
     "metadata": {},
     "output_type": "execute_result"
    }
   ],
   "source": [
    "(1136 + 253) / (ychr_length * mutation_rate)"
   ]
  },
  {
   "cell_type": "code",
   "execution_count": 36,
   "metadata": {
    "collapsed": false
   },
   "outputs": [
    {
     "data": {
      "text/plain": [
       "232032.65678044912"
      ]
     },
     "execution_count": 36,
     "metadata": {},
     "output_type": "execute_result"
    }
   ],
   "source": [
    "1187 / (ychr_length * mutation_rate)"
   ]
  },
  {
   "cell_type": "markdown",
   "metadata": {},
   "source": [
    "# Direct estimate of A00/B-team divergence time\n",
    "\n",
    "Using counts of private mutations on the A00 lineage."
   ]
  },
  {
   "cell_type": "markdown",
   "metadata": {},
   "source": [
    "## Exome"
   ]
  },
  {
   "cell_type": "code",
   "execution_count": 9,
   "metadata": {
    "collapsed": false
   },
   "outputs": [],
   "source": [
    "vcf_file = '../vcf/merged_exome.vcf.gz'\n",
    "reader = vcf.Reader(open(vcf_file, 'rb'))"
   ]
  },
  {
   "cell_type": "code",
   "execution_count": 10,
   "metadata": {
    "collapsed": true
   },
   "outputs": [],
   "source": [
    "samples = ['ref', 'Dai', 'French', 'Han', 'Mandenka', 'Mbuti', 'Papuan', 'San', 'Sardinian', 'Yoruba', 'Karitiana', 'Australian', 'Dinka']\n",
    "exome_counts = []"
   ]
  },
  {
   "cell_type": "code",
   "execution_count": 11,
   "metadata": {
    "collapsed": false
   },
   "outputs": [],
   "source": [
    "for s in samples:\n",
    "    counter = {'a00' : 0, 'hum' : 0, 'both' : 0, 'total' : 0}\n",
    "\n",
    "    for vcf_rec in reader.fetch('Y'):\n",
    "        chimp, a00, hum = (get_base(s, vcf_rec) for s in ['Chimp', 'A00', s])\n",
    "\n",
    "        # skip sites with missing base in any of the samples\n",
    "        if not (chimp and a00 and hum): continue\n",
    "\n",
    "        # shared mutation\n",
    "        if chimp != a00 == hum:\n",
    "            counter['both'] += 1\n",
    "\n",
    "        # A00-specific mutation\n",
    "        elif chimp == hum != a00:\n",
    "            counter['a00'] += 1\n",
    "\n",
    "        # ref-specific mutation\n",
    "        elif chimp == a00 != hum:\n",
    "            counter['hum'] += 1\n",
    "\n",
    "        counter['total'] += 1\n",
    "    \n",
    "    exome_counts.append((counter['a00'], counter['hum']))"
   ]
  },
  {
   "cell_type": "code",
   "execution_count": 12,
   "metadata": {
    "collapsed": false
   },
   "outputs": [
    {
     "data": {
      "text/plain": [
       "[(19, 19),\n",
       " (20, 20),\n",
       " (19, 18),\n",
       " (18, 20),\n",
       " (19, 25),\n",
       " (19, 20),\n",
       " (18, 16),\n",
       " (19, 22),\n",
       " (19, 20),\n",
       " (20, 21),\n",
       " (19, 18),\n",
       " (19, 15),\n",
       " (20, 22)]"
      ]
     },
     "execution_count": 12,
     "metadata": {},
     "output_type": "execute_result"
    }
   ],
   "source": [
    "exome_counts"
   ]
  },
  {
   "cell_type": "code",
   "execution_count": 13,
   "metadata": {
    "collapsed": false
   },
   "outputs": [],
   "source": [
    "exome_a00_tmrca = mean(mean(x) for x in exome_counts) / (exome_length * mutation_rate)"
   ]
  },
  {
   "cell_type": "code",
   "execution_count": 14,
   "metadata": {
    "collapsed": false
   },
   "outputs": [
    {
     "data": {
      "text/plain": [
       "220792.00791809204"
      ]
     },
     "execution_count": 14,
     "metadata": {},
     "output_type": "execute_result"
    }
   ],
   "source": [
    "exome_a00_tmrca"
   ]
  },
  {
   "cell_type": "markdown",
   "metadata": {},
   "source": [
    "## Lippold"
   ]
  },
  {
   "cell_type": "code",
   "execution_count": 15,
   "metadata": {
    "collapsed": false
   },
   "outputs": [],
   "source": [
    "vcf_file = '../vcf/merged_lippold.vcf.gz'\n",
    "reader = vcf.Reader(open(vcf_file, 'rb'))"
   ]
  },
  {
   "cell_type": "code",
   "execution_count": 16,
   "metadata": {
    "collapsed": true
   },
   "outputs": [],
   "source": [
    "samples = ['ref', 'Dai', 'French', 'Han', 'Mandenka', 'Mbuti', 'Papuan', 'San', 'Sardinian', 'Yoruba', 'Karitiana', 'Australian', 'Dinka']\n",
    "lippold_counts = []"
   ]
  },
  {
   "cell_type": "code",
   "execution_count": 17,
   "metadata": {
    "collapsed": false
   },
   "outputs": [],
   "source": [
    "for s in samples:\n",
    "    counter = {'a00' : 0, 'hum' : 0, 'both' : 0, 'total' : 0}\n",
    "\n",
    "    for vcf_rec in reader.fetch('Y'):\n",
    "        chimp, a00, hum = (get_base(s, vcf_rec) for s in ['Chimp', 'A00', s])\n",
    "\n",
    "        # skip sites with missing base in any of the samples\n",
    "        if not (chimp and a00 and hum): continue\n",
    "\n",
    "        # shared mutation\n",
    "        if chimp != a00 == hum:\n",
    "            counter['both'] += 1\n",
    "\n",
    "        # A00-specific mutation\n",
    "        elif chimp == hum != a00:\n",
    "            counter['a00'] += 1\n",
    "\n",
    "        # ref-specific mutation\n",
    "        elif chimp == a00 != hum:\n",
    "            counter['hum'] += 1\n",
    "\n",
    "        counter['total'] += 1\n",
    "    \n",
    "    lippold_counts.append((counter['a00'], counter['hum']))"
   ]
  },
  {
   "cell_type": "code",
   "execution_count": 18,
   "metadata": {
    "collapsed": false,
    "scrolled": true
   },
   "outputs": [
    {
     "data": {
      "text/plain": [
       "[(101, 197),\n",
       " (93, 96),\n",
       " (102, 187),\n",
       " (95, 131),\n",
       " (95, 118),\n",
       " (93, 108),\n",
       " (95, 88),\n",
       " (97, 96),\n",
       " (97, 131),\n",
       " (97, 158),\n",
       " (95, 145),\n",
       " (93, 98),\n",
       " (96, 92)]"
      ]
     },
     "execution_count": 18,
     "metadata": {},
     "output_type": "execute_result"
    }
   ],
   "source": [
    "lippold_counts"
   ]
  },
  {
   "cell_type": "code",
   "execution_count": 19,
   "metadata": {
    "collapsed": false
   },
   "outputs": [],
   "source": [
    "lippold_a00_tmrca = mean(mean(x) for x in lippold_counts) / (lippold_length * mutation_rate)"
   ]
  },
  {
   "cell_type": "code",
   "execution_count": 20,
   "metadata": {
    "collapsed": false
   },
   "outputs": [
    {
     "data": {
      "text/plain": [
       "270406.05260463274"
      ]
     },
     "execution_count": 20,
     "metadata": {},
     "output_type": "execute_result"
    }
   ],
   "source": [
    "lippold_a00_tmrca"
   ]
  },
  {
   "cell_type": "markdown",
   "metadata": {},
   "source": [
    "## Whole Y chromosome"
   ]
  },
  {
   "cell_type": "code",
   "execution_count": 21,
   "metadata": {
    "collapsed": false
   },
   "outputs": [],
   "source": [
    "vcf_file = '../../y-selection/vcf/merged_y.vcf.gz'\n",
    "reader = vcf.Reader(open(vcf_file, 'rb'))"
   ]
  },
  {
   "cell_type": "code",
   "execution_count": 22,
   "metadata": {
    "collapsed": true
   },
   "outputs": [],
   "source": [
    "samples = ['ref', 'Dai', 'French', 'Han', 'Mandenka', 'Mbuti', 'Papuan', 'San', 'Sardinian', 'Yoruba', 'Karitiana', 'Australian', 'Dinka']\n",
    "genome_counts = []"
   ]
  },
  {
   "cell_type": "code",
   "execution_count": 23,
   "metadata": {
    "collapsed": false
   },
   "outputs": [],
   "source": [
    "for s in samples:\n",
    "    counter = {'a00' : 0, 'hum' : 0, 'both' : 0, 'total' : 0}\n",
    "\n",
    "    for vcf_rec in reader.fetch('Y'):\n",
    "        chimp, a00, hum = (get_base(s, vcf_rec) for s in ['Chimp', 'A00', s])\n",
    "\n",
    "        # skip sites with missing base in any of the samples\n",
    "        if not (chimp and a00 and hum): continue\n",
    "\n",
    "        # shared mutation\n",
    "        if chimp != a00 == hum:\n",
    "            counter['both'] += 1\n",
    "\n",
    "        # A00-specific mutation\n",
    "        elif chimp == hum != a00:\n",
    "            counter['a00'] += 1\n",
    "\n",
    "        # ref-specific mutation\n",
    "        elif chimp == a00 != hum:\n",
    "            counter['hum'] += 1\n",
    "\n",
    "        counter['total'] += 1\n",
    "    \n",
    "    genome_counts.append((counter['a00'], counter['hum']))"
   ]
  },
  {
   "cell_type": "code",
   "execution_count": 24,
   "metadata": {
    "collapsed": false
   },
   "outputs": [
    {
     "data": {
      "text/plain": [
       "[(1212, 1388),\n",
       " (1188, 1343),\n",
       " (1192, 1365),\n",
       " (1185, 1344),\n",
       " (1194, 1378),\n",
       " (1190, 1362),\n",
       " (1195, 1328),\n",
       " (1193, 1296),\n",
       " (1189, 1376),\n",
       " (1196, 1375),\n",
       " (1194, 1362),\n",
       " (1189, 1362),\n",
       " (1207, 1293)]"
      ]
     },
     "execution_count": 24,
     "metadata": {},
     "output_type": "execute_result"
    }
   ],
   "source": [
    "genome_counts"
   ]
  },
  {
   "cell_type": "code",
   "execution_count": 25,
   "metadata": {
    "collapsed": false
   },
   "outputs": [],
   "source": [
    "chromosome_a00_tmrca = mean(mean(x) for x in genome_counts) / (ychr_length * mutation_rate)"
   ]
  },
  {
   "cell_type": "code",
   "execution_count": 26,
   "metadata": {
    "collapsed": false
   },
   "outputs": [
    {
     "data": {
      "text/plain": [
       "248828.7476121361"
      ]
     },
     "execution_count": 26,
     "metadata": {},
     "output_type": "execute_result"
    }
   ],
   "source": [
    "chromosome_a00_tmrca"
   ]
  },
  {
   "cell_type": "code",
   "execution_count": 41,
   "metadata": {
    "collapsed": false
   },
   "outputs": [
    {
     "data": {
      "text/plain": [
       "271323.78063290933"
      ]
     },
     "execution_count": 41,
     "metadata": {},
     "output_type": "execute_result"
    }
   ],
   "source": [
    "1388 / (ychr_length * mutation_rate)"
   ]
  },
  {
   "cell_type": "markdown",
   "metadata": {},
   "source": [
    "# Re-analysis of Mendez et al. approach to time the Neanderthal divergence\n",
    "\n",
    "Using A00 TMRCAs estimated above."
   ]
  },
  {
   "cell_type": "markdown",
   "metadata": {},
   "source": [
    "### Time to the most recent common ancestor of all anatomically modern humans"
   ]
  },
  {
   "cell_type": "code",
   "execution_count": 175,
   "metadata": {
    "collapsed": true
   },
   "outputs": [],
   "source": [
    "beast_genome_a00_tmrca = 275\n",
    "beast_exome_a00_tmrca = 120"
   ]
  },
  {
   "cell_type": "markdown",
   "metadata": {},
   "source": [
    "### Function definitions"
   ]
  },
  {
   "cell_type": "code",
   "execution_count": 56,
   "metadata": {
    "collapsed": false
   },
   "outputs": [],
   "source": [
    "def update_counter(vcf_rec, counter, human):\n",
    "    '''Update the counter of mutations on each possible branch.'''\n",
    "    chimp, hum, nea, a00 = (get_base(s, vcf_rec) for s in ['Chimp', human, 'ElSidron', 'A00'])\n",
    "    \n",
    "    # skip sites with missing base in any of the samples\n",
    "    if not (chimp and hum and nea and a00): return\n",
    "    # skip non-variable sites\n",
    "    if (hum == nea == a00): return\n",
    "    \n",
    "    # branch a mutation\n",
    "    if chimp == nea != hum == a00:\n",
    "        counter['a'] += 1\n",
    "    \n",
    "    # branch b mutation\n",
    "    elif chimp == a00 != nea == hum:\n",
    "        counter['b'] += 1\n",
    "    \n",
    "    # branch c mutation\n",
    "    elif chimp == hum != a00 == nea:\n",
    "        counter['c'] += 1\n",
    "        \n",
    "    # branch d mutation\n",
    "    elif hum != chimp == a00 == nea:\n",
    "        counter['d'] += 1\n",
    "    \n",
    "    # branch e mutation\n",
    "    elif a00 != chimp == nea == hum:\n",
    "        counter['e'] += 1\n",
    "        \n",
    "    # branch f mutation\n",
    "    elif nea != chimp == a00 == hum:\n",
    "        counter['f'] += 1\n",
    "        \n",
    "    # inconsistent site\n",
    "    else:\n",
    "        print(vcf_rec.POS, 'chimp: {}\\tnea: {}\\ta00: {}\\hum: {}'.format(chimp, nea, a00, ref))\n",
    "        counter['inconsistent'] += 1\n",
    "    \n",
    "    counter['variable'] += 1"
   ]
  },
  {
   "cell_type": "code",
   "execution_count": 57,
   "metadata": {
    "collapsed": false
   },
   "outputs": [],
   "source": [
    "def count_mutations_in_vcf(vcf_file, human='ref'):\n",
    "    '''Count the number of mutations on all possible branches\n",
    "    of the tree with chimpanzee, El Sidron, A00 and hg19 in\n",
    "    a given VCF.\n",
    "    '''\n",
    "    vcf_reader = vcf.Reader(open(vcf_file, 'rb'))\n",
    "    counter = {i : 0 for i in list('abcdef') + ['inconsistent', 'variable']}\n",
    "    \n",
    "    for rec in vcf_reader.fetch('Y'):\n",
    "        update_counter(rec, counter, human)\n",
    "        \n",
    "    return counter"
   ]
  },
  {
   "cell_type": "code",
   "execution_count": 58,
   "metadata": {
    "collapsed": true
   },
   "outputs": [],
   "source": [
    "def calc_proportions(counter):\n",
    "    for i in list('abcdef'):\n",
    "        print('number of mutations on branch {}: \\t{}\\t({:.2%})'.format(i, counter[i], counter[i] / counter['variable']))"
   ]
  },
  {
   "cell_type": "code",
   "execution_count": 59,
   "metadata": {
    "collapsed": true
   },
   "outputs": [],
   "source": [
    "def branch_a_prop(counter):\n",
    "    a, d, e = counter['a'], counter['d'], counter['e']\n",
    "    return a / (a + d + e)\n",
    "\n",
    "def calc_alpha_1(counter):\n",
    "    p = branch_a_prop(counter)\n",
    "    return (1 + p) / (1 - p)"
   ]
  },
  {
   "cell_type": "markdown",
   "metadata": {},
   "source": [
    "### Counts of branch mutations published by Mendez et al."
   ]
  },
  {
   "cell_type": "code",
   "execution_count": 38,
   "metadata": {
    "collapsed": false
   },
   "outputs": [
    {
     "data": {
      "text/plain": [
       "{'a': 24,\n",
       " 'b': 4,\n",
       " 'c': 0,\n",
       " 'd': 16,\n",
       " 'e': 22,\n",
       " 'f': 77,\n",
       " 'inconsistent': 0,\n",
       " 'variable': 146}"
      ]
     },
     "execution_count": 38,
     "metadata": {},
     "output_type": "execute_result"
    }
   ],
   "source": [
    "mendez_counts = {i : 0 for i in list('abcdef') + ['inconsistent', 'variable']}\n",
    "mendez_counts['a'] = 24\n",
    "mendez_counts['b'] = 4\n",
    "mendez_counts['c'] = 0\n",
    "mendez_counts['d'] = 16\n",
    "mendez_counts['e'] = 22\n",
    "mendez_counts['f'] = 77\n",
    "mendez_counts['variable'] = 146\n",
    "\n",
    "mendez_counts"
   ]
  },
  {
   "cell_type": "code",
   "execution_count": 60,
   "metadata": {
    "collapsed": false
   },
   "outputs": [
    {
     "name": "stdout",
     "output_type": "stream",
     "text": [
      "number of mutations on branch a: \t24\t(16.44%)\n",
      "number of mutations on branch b: \t4\t(2.74%)\n",
      "number of mutations on branch c: \t0\t(0.00%)\n",
      "number of mutations on branch d: \t16\t(10.96%)\n",
      "number of mutations on branch e: \t22\t(15.07%)\n",
      "number of mutations on branch f: \t77\t(52.74%)\n"
     ]
    }
   ],
   "source": [
    "calc_proportions(mendez_counts)"
   ]
  },
  {
   "cell_type": "markdown",
   "metadata": {},
   "source": [
    "# exome 120 kb &mdash; using different modern humans as 'ref'"
   ]
  },
  {
   "cell_type": "code",
   "execution_count": 166,
   "metadata": {
    "collapsed": true
   },
   "outputs": [],
   "source": [
    "samples = ['ref', 'Dai', 'French', 'Han', 'Mandenka', 'Mbuti', 'Papuan', 'San', 'Sardinian', 'Yoruba', 'Karitiana', 'Australian', 'Dinka']"
   ]
  },
  {
   "cell_type": "code",
   "execution_count": 167,
   "metadata": {
    "collapsed": true
   },
   "outputs": [],
   "source": [
    "exome_alphas = []"
   ]
  },
  {
   "cell_type": "code",
   "execution_count": 168,
   "metadata": {
    "collapsed": false,
    "scrolled": false
   },
   "outputs": [
    {
     "name": "stdout",
     "output_type": "stream",
     "text": [
      "ref\n",
      "\n",
      "number of mutations on branch a: \t15\t(15.15%)\n",
      "number of mutations on branch b: \t3\t(3.03%)\n",
      "number of mutations on branch c: \t0\t(0.00%)\n",
      "number of mutations on branch d: \t15\t(15.15%)\n",
      "number of mutations on branch e: \t18\t(18.18%)\n",
      "number of mutations on branch f: \t48\t(48.48%)\n",
      "\n",
      "alpha: 1.9\n",
      "T_NR: 4.2e+05\n",
      "======================================\n",
      "\n",
      "\n",
      "Dai\n",
      "\n",
      "number of mutations on branch a: \t14\t(13.86%)\n",
      "number of mutations on branch b: \t3\t(2.97%)\n",
      "number of mutations on branch c: \t1\t(0.99%)\n",
      "number of mutations on branch d: \t17\t(16.83%)\n",
      "number of mutations on branch e: \t18\t(17.82%)\n",
      "number of mutations on branch f: \t48\t(47.52%)\n",
      "\n",
      "alpha: 1.8\n",
      "T_NR: 3.9e+05\n",
      "======================================\n",
      "\n",
      "\n",
      "French\n",
      "\n",
      "number of mutations on branch a: \t14\t(14.43%)\n",
      "number of mutations on branch b: \t3\t(3.09%)\n",
      "number of mutations on branch c: \t0\t(0.00%)\n",
      "number of mutations on branch d: \t14\t(14.43%)\n",
      "number of mutations on branch e: \t18\t(18.56%)\n",
      "number of mutations on branch f: \t48\t(49.48%)\n",
      "\n",
      "alpha: 1.9\n",
      "T_NR: 4.1e+05\n",
      "======================================\n",
      "\n",
      "\n",
      "Han\n",
      "\n",
      "number of mutations on branch a: \t15\t(15.15%)\n",
      "number of mutations on branch b: \t3\t(3.03%)\n",
      "number of mutations on branch c: \t0\t(0.00%)\n",
      "number of mutations on branch d: \t16\t(16.16%)\n",
      "number of mutations on branch e: \t17\t(17.17%)\n",
      "number of mutations on branch f: \t48\t(48.48%)\n",
      "\n",
      "alpha: 1.9\n",
      "T_NR: 4.2e+05\n",
      "======================================\n",
      "\n",
      "\n",
      "Mandenka\n",
      "\n",
      "number of mutations on branch a: \t15\t(14.42%)\n",
      "number of mutations on branch b: \t4\t(3.85%)\n",
      "number of mutations on branch c: \t0\t(0.00%)\n",
      "number of mutations on branch d: \t21\t(20.19%)\n",
      "number of mutations on branch e: \t18\t(17.31%)\n",
      "number of mutations on branch f: \t46\t(44.23%)\n",
      "\n",
      "alpha: 1.8\n",
      "T_NR: 3.9e+05\n",
      "======================================\n",
      "\n",
      "\n",
      "Mbuti\n",
      "\n",
      "number of mutations on branch a: \t15\t(15.00%)\n",
      "number of mutations on branch b: \t4\t(4.00%)\n",
      "number of mutations on branch c: \t0\t(0.00%)\n",
      "number of mutations on branch d: \t16\t(16.00%)\n",
      "number of mutations on branch e: \t18\t(18.00%)\n",
      "number of mutations on branch f: \t47\t(47.00%)\n",
      "\n",
      "alpha: 1.9\n",
      "T_NR: 4.1e+05\n",
      "======================================\n",
      "\n",
      "\n",
      "Papuan\n",
      "\n",
      "number of mutations on branch a: \t14\t(14.89%)\n",
      "number of mutations on branch b: \t3\t(3.19%)\n",
      "number of mutations on branch c: \t0\t(0.00%)\n",
      "number of mutations on branch d: \t13\t(13.83%)\n",
      "number of mutations on branch e: \t17\t(18.09%)\n",
      "number of mutations on branch f: \t47\t(50.00%)\n",
      "\n",
      "alpha: 1.9\n",
      "T_NR: 4.2e+05\n",
      "======================================\n",
      "\n",
      "\n",
      "San\n",
      "\n",
      "number of mutations on branch a: \t15\t(14.56%)\n",
      "number of mutations on branch b: \t2\t(1.94%)\n",
      "number of mutations on branch c: \t0\t(0.00%)\n",
      "number of mutations on branch d: \t19\t(18.45%)\n",
      "number of mutations on branch e: \t18\t(17.48%)\n",
      "number of mutations on branch f: \t49\t(47.57%)\n",
      "\n",
      "alpha: 1.8\n",
      "T_NR: 4e+05\n",
      "======================================\n",
      "\n",
      "\n",
      "Sardinian\n",
      "\n",
      "number of mutations on branch a: \t15\t(14.85%)\n",
      "number of mutations on branch b: \t3\t(2.97%)\n",
      "number of mutations on branch c: \t0\t(0.00%)\n",
      "number of mutations on branch d: \t17\t(16.83%)\n",
      "number of mutations on branch e: \t18\t(17.82%)\n",
      "number of mutations on branch f: \t48\t(47.52%)\n",
      "\n",
      "alpha: 1.9\n",
      "T_NR: 4.1e+05\n",
      "======================================\n",
      "\n",
      "\n",
      "Yoruba\n",
      "\n",
      "number of mutations on branch a: \t15\t(14.71%)\n",
      "number of mutations on branch b: \t4\t(3.92%)\n",
      "number of mutations on branch c: \t1\t(0.98%)\n",
      "number of mutations on branch d: \t17\t(16.67%)\n",
      "number of mutations on branch e: \t18\t(17.65%)\n",
      "number of mutations on branch f: \t47\t(46.08%)\n",
      "\n",
      "alpha: 1.9\n",
      "T_NR: 4.1e+05\n",
      "======================================\n",
      "\n",
      "\n",
      "Karitiana\n",
      "\n",
      "number of mutations on branch a: \t14\t(14.29%)\n",
      "number of mutations on branch b: \t3\t(3.06%)\n",
      "number of mutations on branch c: \t0\t(0.00%)\n",
      "number of mutations on branch d: \t15\t(15.31%)\n",
      "number of mutations on branch e: \t18\t(18.37%)\n",
      "number of mutations on branch f: \t48\t(48.98%)\n",
      "\n",
      "alpha: 1.8\n",
      "T_NR: 4e+05\n",
      "======================================\n",
      "\n",
      "\n",
      "Australian\n",
      "\n",
      "number of mutations on branch a: \t15\t(15.62%)\n",
      "number of mutations on branch b: \t3\t(3.12%)\n",
      "number of mutations on branch c: \t0\t(0.00%)\n",
      "number of mutations on branch d: \t12\t(12.50%)\n",
      "number of mutations on branch e: \t18\t(18.75%)\n",
      "number of mutations on branch f: \t48\t(50.00%)\n",
      "\n",
      "alpha: 2.0\n",
      "T_NR: 4.4e+05\n",
      "======================================\n",
      "\n",
      "\n",
      "Dinka\n",
      "\n",
      "number of mutations on branch a: \t14\t(13.73%)\n",
      "number of mutations on branch b: \t2\t(1.96%)\n",
      "number of mutations on branch c: \t1\t(0.98%)\n",
      "number of mutations on branch d: \t19\t(18.63%)\n",
      "number of mutations on branch e: \t18\t(17.65%)\n",
      "number of mutations on branch f: \t48\t(47.06%)\n",
      "\n",
      "alpha: 1.8\n",
      "T_NR: 3.8e+05\n",
      "======================================\n",
      "\n",
      "\n"
     ]
    }
   ],
   "source": [
    "for s in samples:\n",
    "    print(s, end='\\n\\n')\n",
    "    counts = count_mutations_in_vcf('../vcf/merged_exome.vcf.gz', s)\n",
    "    calc_proportions(counts)\n",
    "    print()\n",
    "    alpha = calc_alpha_1(counts)\n",
    "    print('alpha: {:.2}\\nT_NR: {:.2}'.format(alpha, alpha * exome_a00_tmrca))\n",
    "    print('======================================\\n\\n')\n",
    "    \n",
    "    exome_alphas.append(alpha)"
   ]
  },
  {
   "cell_type": "markdown",
   "metadata": {},
   "source": [
    "#### Mean alpha estimate"
   ]
  },
  {
   "cell_type": "code",
   "execution_count": 169,
   "metadata": {
    "collapsed": false,
    "scrolled": true
   },
   "outputs": [
    {
     "data": {
      "text/plain": [
       "1.8621874609431173"
      ]
     },
     "execution_count": 169,
     "metadata": {},
     "output_type": "execute_result"
    }
   ],
   "source": [
    "mean(exome_alphas)"
   ]
  },
  {
   "cell_type": "markdown",
   "metadata": {},
   "source": [
    "#### Estimate of Neanderthal divergence time based on exome-specific value of A00 divergence"
   ]
  },
  {
   "cell_type": "code",
   "execution_count": 180,
   "metadata": {
    "collapsed": false,
    "scrolled": true
   },
   "outputs": [
    {
     "data": {
      "text/plain": [
       "406506.618293196"
      ]
     },
     "execution_count": 180,
     "metadata": {},
     "output_type": "execute_result"
    }
   ],
   "source": [
    "mean(exome_alphas) * exome_a00_tmrca"
   ]
  },
  {
   "cell_type": "markdown",
   "metadata": {},
   "source": [
    "#### Estimate of Neanderthal divergence time based on whole Y chromosome value of A00 divergence"
   ]
  },
  {
   "cell_type": "code",
   "execution_count": 179,
   "metadata": {
    "collapsed": false
   },
   "outputs": [
    {
     "data": {
      "text/plain": [
       "512.1015517593572"
      ]
     },
     "execution_count": 179,
     "metadata": {},
     "output_type": "execute_result"
    }
   ],
   "source": [
    "mean(exome_alphas) * beast_genome_a00_tmrca"
   ]
  },
  {
   "cell_type": "code",
   "execution_count": 188,
   "metadata": {
    "collapsed": false
   },
   "outputs": [
    {
     "data": {
      "text/plain": [
       "510339.32283932285"
      ]
     },
     "execution_count": 188,
     "metadata": {},
     "output_type": "execute_result"
    }
   ],
   "source": [
    "1.9 * genome_a00_tmrca"
   ]
  },
  {
   "cell_type": "markdown",
   "metadata": {},
   "source": [
    "# 560 kb &mdash; using different modern humans as 'ref'"
   ]
  },
  {
   "cell_type": "code",
   "execution_count": 186,
   "metadata": {
    "collapsed": true
   },
   "outputs": [],
   "source": [
    "samples = ['ref', 'Dai', 'French', 'Han', 'Mandenka', 'Mbuti', 'Papuan', 'San', 'Sardinian', 'Yoruba', 'Karitiana', 'Australian', 'Dinka']\n",
    "lippold_alphas = []"
   ]
  },
  {
   "cell_type": "code",
   "execution_count": 187,
   "metadata": {
    "collapsed": false,
    "scrolled": false
   },
   "outputs": [
    {
     "name": "stdout",
     "output_type": "stream",
     "text": [
      "ref\n",
      "\n",
      "number of mutations on branch a: \t62\t(13.03%)\n",
      "number of mutations on branch b: \t4\t(0.84%)\n",
      "number of mutations on branch c: \t12\t(2.52%)\n",
      "number of mutations on branch d: \t180\t(37.82%)\n",
      "number of mutations on branch e: \t87\t(18.28%)\n",
      "number of mutations on branch f: \t131\t(27.52%)\n",
      "\n",
      "alpha: 1.5\n",
      "T_NR: 3.9e+05\n",
      "======================================\n",
      "\n",
      "\n",
      "Dai\n",
      "\n",
      "number of mutations on branch a: \t55\t(15.15%)\n",
      "number of mutations on branch b: \t4\t(1.10%)\n",
      "number of mutations on branch c: \t3\t(0.83%)\n",
      "number of mutations on branch d: \t84\t(23.14%)\n",
      "number of mutations on branch e: \t88\t(24.24%)\n",
      "number of mutations on branch f: \t129\t(35.54%)\n",
      "\n",
      "alpha: 1.6\n",
      "T_NR: 4.4e+05\n",
      "======================================\n",
      "\n",
      "\n",
      "French\n",
      "\n",
      "number of mutations on branch a: \t62\t(13.28%)\n",
      "number of mutations on branch b: \t4\t(0.86%)\n",
      "number of mutations on branch c: \t13\t(2.78%)\n",
      "number of mutations on branch d: \t170\t(36.40%)\n",
      "number of mutations on branch e: \t87\t(18.63%)\n",
      "number of mutations on branch f: \t131\t(28.05%)\n",
      "\n",
      "alpha: 1.5\n",
      "T_NR: 4e+05\n",
      "======================================\n",
      "\n",
      "\n",
      "Han\n",
      "\n",
      "number of mutations on branch a: \t55\t(13.82%)\n",
      "number of mutations on branch b: \t4\t(1.01%)\n",
      "number of mutations on branch c: \t5\t(1.26%)\n",
      "number of mutations on branch d: \t118\t(29.65%)\n",
      "number of mutations on branch e: \t88\t(22.11%)\n",
      "number of mutations on branch f: \t128\t(32.16%)\n",
      "\n",
      "alpha: 1.5\n",
      "T_NR: 4.1e+05\n",
      "======================================\n",
      "\n",
      "\n",
      "Mandenka\n",
      "\n",
      "number of mutations on branch a: \t55\t(14.32%)\n",
      "number of mutations on branch b: \t4\t(1.04%)\n",
      "number of mutations on branch c: \t5\t(1.30%)\n",
      "number of mutations on branch d: \t103\t(26.82%)\n",
      "number of mutations on branch e: \t88\t(22.92%)\n",
      "number of mutations on branch f: \t129\t(33.59%)\n",
      "\n",
      "alpha: 1.6\n",
      "T_NR: 4.2e+05\n",
      "======================================\n",
      "\n",
      "\n",
      "Mbuti\n",
      "\n",
      "number of mutations on branch a: \t55\t(14.71%)\n",
      "number of mutations on branch b: \t4\t(1.07%)\n",
      "number of mutations on branch c: \t3\t(0.80%)\n",
      "number of mutations on branch d: \t95\t(25.40%)\n",
      "number of mutations on branch e: \t88\t(23.53%)\n",
      "number of mutations on branch f: \t129\t(34.49%)\n",
      "\n",
      "alpha: 1.6\n",
      "T_NR: 4.3e+05\n",
      "======================================\n",
      "\n",
      "\n",
      "Papuan\n",
      "\n",
      "number of mutations on branch a: \t61\t(16.80%)\n",
      "number of mutations on branch b: \t4\t(1.10%)\n",
      "number of mutations on branch c: \t5\t(1.38%)\n",
      "number of mutations on branch d: \t74\t(20.39%)\n",
      "number of mutations on branch e: \t88\t(24.24%)\n",
      "number of mutations on branch f: \t131\t(36.09%)\n",
      "\n",
      "alpha: 1.8\n",
      "T_NR: 4.7e+05\n",
      "======================================\n",
      "\n",
      "\n",
      "San\n",
      "\n",
      "number of mutations on branch a: \t54\t(14.71%)\n",
      "number of mutations on branch b: \t4\t(1.09%)\n",
      "number of mutations on branch c: \t6\t(1.63%)\n",
      "number of mutations on branch d: \t85\t(23.16%)\n",
      "number of mutations on branch e: \t89\t(24.25%)\n",
      "number of mutations on branch f: \t129\t(35.15%)\n",
      "\n",
      "alpha: 1.6\n",
      "T_NR: 4.4e+05\n",
      "======================================\n",
      "\n",
      "\n",
      "Sardinian\n",
      "\n",
      "number of mutations on branch a: \t55\t(13.78%)\n",
      "number of mutations on branch b: \t4\t(1.00%)\n",
      "number of mutations on branch c: \t7\t(1.75%)\n",
      "number of mutations on branch d: \t116\t(29.07%)\n",
      "number of mutations on branch e: \t88\t(22.06%)\n",
      "number of mutations on branch f: \t129\t(32.33%)\n",
      "\n",
      "alpha: 1.5\n",
      "T_NR: 4.1e+05\n",
      "======================================\n",
      "\n",
      "\n",
      "Yoruba\n",
      "\n",
      "number of mutations on branch a: \t55\t(12.94%)\n",
      "number of mutations on branch b: \t4\t(0.94%)\n",
      "number of mutations on branch c: \t7\t(1.65%)\n",
      "number of mutations on branch d: \t142\t(33.41%)\n",
      "number of mutations on branch e: \t88\t(20.71%)\n",
      "number of mutations on branch f: \t129\t(30.35%)\n",
      "\n",
      "alpha: 1.5\n",
      "T_NR: 4e+05\n",
      "======================================\n",
      "\n",
      "\n",
      "Karitiana\n",
      "\n",
      "number of mutations on branch a: \t62\t(14.80%)\n",
      "number of mutations on branch b: \t4\t(0.95%)\n",
      "number of mutations on branch c: \t6\t(1.43%)\n",
      "number of mutations on branch d: \t129\t(30.79%)\n",
      "number of mutations on branch e: \t87\t(20.76%)\n",
      "number of mutations on branch f: \t131\t(31.26%)\n",
      "\n",
      "alpha: 1.6\n",
      "T_NR: 4.2e+05\n",
      "======================================\n",
      "\n",
      "\n",
      "Australian\n",
      "\n",
      "number of mutations on branch a: \t55\t(15.15%)\n",
      "number of mutations on branch b: \t4\t(1.10%)\n",
      "number of mutations on branch c: \t3\t(0.83%)\n",
      "number of mutations on branch d: \t84\t(23.14%)\n",
      "number of mutations on branch e: \t88\t(24.24%)\n",
      "number of mutations on branch f: \t129\t(35.54%)\n",
      "\n",
      "alpha: 1.6\n",
      "T_NR: 4.4e+05\n",
      "======================================\n",
      "\n",
      "\n",
      "Dinka\n",
      "\n",
      "number of mutations on branch a: \t54\t(14.92%)\n",
      "number of mutations on branch b: \t4\t(1.10%)\n",
      "number of mutations on branch c: \t5\t(1.38%)\n",
      "number of mutations on branch d: \t82\t(22.65%)\n",
      "number of mutations on branch e: \t89\t(24.59%)\n",
      "number of mutations on branch f: \t128\t(35.36%)\n",
      "\n",
      "alpha: 1.6\n",
      "T_NR: 4.4e+05\n",
      "======================================\n",
      "\n",
      "\n"
     ]
    }
   ],
   "source": [
    "for s in samples:\n",
    "    print(s, end='\\n\\n')\n",
    "    counts = count_mutations_in_vcf('../vcf/merged_lippold.vcf.gz', s)\n",
    "    calc_proportions(counts)\n",
    "    print()\n",
    "    alpha = calc_alpha_1(counts)\n",
    "    print('alpha: {:.2}\\nT_NR: {:.2}'.format(alpha, alpha * genome_a00_tmrca))\n",
    "    print('======================================\\n\\n')\n",
    "    \n",
    "    lippold_alphas.append(alpha)"
   ]
  },
  {
   "cell_type": "code",
   "execution_count": 189,
   "metadata": {
    "collapsed": false
   },
   "outputs": [
    {
     "data": {
      "text/plain": [
       "1.5795288366726294"
      ]
     },
     "execution_count": 189,
     "metadata": {},
     "output_type": "execute_result"
    }
   ],
   "source": [
    "mean(lippold_alphas)"
   ]
  },
  {
   "cell_type": "code",
   "execution_count": 190,
   "metadata": {
    "collapsed": false
   },
   "outputs": [
    {
     "data": {
      "text/plain": [
       "424260.88258562796"
      ]
     },
     "execution_count": 190,
     "metadata": {},
     "output_type": "execute_result"
    }
   ],
   "source": [
    "mean(lippold_alphas) * genome_a00_tmrca"
   ]
  },
  {
   "cell_type": "code",
   "execution_count": 25,
   "metadata": {
    "collapsed": false
   },
   "outputs": [
    {
     "data": {
      "text/plain": [
       "434.3704300849731"
      ]
     },
     "execution_count": 25,
     "metadata": {},
     "output_type": "execute_result"
    }
   ],
   "source": [
    "mean(lippold_alphas) * genome_a00_tmrca"
   ]
  }
 ],
 "metadata": {
  "kernelspec": {
   "display_name": "Python 3",
   "language": "python",
   "name": "python3"
  },
  "language_info": {
   "codemirror_mode": {
    "name": "ipython",
    "version": 3
   },
   "file_extension": ".py",
   "mimetype": "text/x-python",
   "name": "python",
   "nbconvert_exporter": "python",
   "pygments_lexer": "ipython3",
   "version": "3.5.1"
  }
 },
 "nbformat": 4,
 "nbformat_minor": 0
}
