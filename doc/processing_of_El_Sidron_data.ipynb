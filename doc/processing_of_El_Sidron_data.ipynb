{
 "cells": [
  {
   "cell_type": "markdown",
   "metadata": {},
   "source": [
    "# Processing of the El Sidron Y chromosome capture data"
   ]
  },
  {
   "cell_type": "code",
   "execution_count": 1,
   "metadata": {
    "collapsed": false
   },
   "outputs": [
    {
     "name": "stdout",
     "output_type": "stream",
     "text": [
      "make: Nothing to be done for `init'.\r\n"
     ]
    }
   ],
   "source": [
    "# make sure dependencies have been generated (they should have been\n",
    "# if this notebook is run in batch mode by make)\n",
    "(cd ../; make init)"
   ]
  },
  {
   "cell_type": "code",
   "execution_count": 2,
   "metadata": {
    "collapsed": false
   },
   "outputs": [
    {
     "name": "stdout",
     "output_type": "stream",
     "text": []
    }
   ],
   "source": [
    "bam_dir=\"../bam\"\n",
    "input_dir=\"../input\"\n",
    "tmp_dir=\"../tmp\""
   ]
  },
  {
   "cell_type": "markdown",
   "metadata": {},
   "source": [
    "I found this directory, which seems to contain some Y chromosome El Sidron data:"
   ]
  },
  {
   "cell_type": "code",
   "execution_count": 3,
   "metadata": {
    "collapsed": false
   },
   "outputs": [
    {
     "name": "stdout",
     "output_type": "stream",
     "text": []
    }
   ],
   "source": [
    "qiaomeis_dir=\"/mnt/454/Carbon_beast_QM/Y_Sidron_TY\""
   ]
  },
  {
   "cell_type": "code",
   "execution_count": 4,
   "metadata": {
    "collapsed": false
   },
   "outputs": [
    {
     "name": "stdout",
     "output_type": "stream",
     "text": [
      "10M_all.fasta\t\t\t   snps2hg.R\r\n",
      "10M_all.fasta.gz\t\t   Tianyuan_haplo_dirved.txt\r\n",
      "1_Extended_VCF\t\t\t   Tianyuan-Y-alllib.intervals\r\n",
      "BS11_haplo_dirved.txt\t\t   Tianyuan-Y-alllib.realigned.bai\r\n",
      "core\t\t\t\t   Tianyuan_Y_l30_map40.base\r\n",
      "cteam\t\t\t\t   tree.txt\r\n",
      "damage\t\t\t\t   Ust_haplo_dirved.txt\r\n",
      "Dolni16_haplo_dirved.txt\t   Y_haplo.BS11.2.hg\r\n",
      "EMH_HGDP\t\t\t   Y_haplo.BS11.snps\r\n",
      "fas\t\t\t\t   Y_haplo.Dolni16.2.hg\r\n",
      "final_bam\t\t\t   Y_haplo.Dolni16.snps\r\n",
      "getBase_vcf_chrY_proceed.py\t   Y_haplo.Kos14.2.hg\r\n",
      "getBase_vcf_chrY.py\t\t   Y_haplo.Kos14.snps\r\n",
      "haplo\t\t\t\t   Y_haplo.LD1.2.hg\r\n",
      "HGDP\t\t\t\t   Y_haplo.LD1.snps\r\n",
      "isogg_version_9.22.csv\t\t   Y_haplo.Losch2.2.hg\r\n",
      "isogg_version_9.22.processed\t   Y_haplo.Losch2.snps\r\n",
      "isogg_version_9.22_v2.order.txt    Y_haplo.Losch.hd\r\n",
      "Kos14_haplo_dirved.txt\t\t   Y_haplo.Losch.snps\r\n",
      "LD1_haplo_dirved.txt\t\t   Y_haplo.Sidron.2.hg\r\n",
      "LD1_Y.l35q30.rd.reference_aln.bam  Y_haplo.Sidron.3.hg\r\n",
      "logs\t\t\t\t   Y_haplo.Sidron.snps\r\n",
      "Losch_haplo_dirved.txt\t\t   Y_haplo.Tianyuan.3.hg\r\n",
      "mergelane\t\t\t   Y_haplo.Tianyuan.snps\r\n",
      "mutation_Y\t\t\t   Y_haplo.Ust\r\n",
      "others\t\t\t\t   Y_haplo.Ust2.2.hg\r\n",
      "rmdup.txt\t\t\t   Y_haplo.Ust2.snps\r\n",
      "run_damage.sh\t\t\t   Y_haplo.Ust.snps\r\n",
      "Sidron_haplo_dirved.txt\t\t   Y_l30_map40.base\r\n"
     ]
    }
   ],
   "source": [
    "ls $qiaomeis_dir"
   ]
  },
  {
   "cell_type": "markdown",
   "metadata": {},
   "source": [
    "There are bunch of BAM files in Qiaomei's directory and it's not clear if/how/why there were processed, filtered etc. No README file to be found either."
   ]
  },
  {
   "cell_type": "markdown",
   "metadata": {},
   "source": [
    "What relevant BAM files could be in here?"
   ]
  },
  {
   "cell_type": "code",
   "execution_count": 5,
   "metadata": {
    "collapsed": false,
    "scrolled": false
   },
   "outputs": [
    {
     "name": "stdout",
     "output_type": "stream",
     "text": [
      "-rw-r--r-- 1 public staff           0 Mar 11  2014 /mnt/454/Carbon_beast_QM/Y_Sidron_TY/fas/Sidron_Y.rd.bam\r\n",
      "-rw-r--r-- 1 public staff           0 Mar 12  2014 /mnt/454/Carbon_beast_QM/Y_Sidron_TY/final_bam/hg19_evan/Sidron.hg19_evan.Y.bam\r\n",
      "-rw-r--r-- 1 public staff    15794513 Mar  5  2014 /mnt/454/Carbon_beast_QM/Y_Sidron_TY/final_bam/hg19_evan/Sidron.hg19_evan.Y.dq.bam\r\n",
      "-rw-r--r-- 1 public staff    15628473 Mar  5  2014 /mnt/454/Carbon_beast_QM/Y_Sidron_TY/mergelane/Sidron.hg19_evan.Y.bam\r\n",
      "-rw-r--r-- 1 public staff 17048090508 Mar  5  2014 /mnt/454/Carbon_beast_QM/Y_Sidron_TY/mergelane/Sidron_Y.bam\r\n",
      "-rw-r--r-- 1 public staff         127 Mar  6  2014 /mnt/454/Carbon_beast_QM/Y_Sidron_TY/mergelane/Sidron_Y.rd.bam\r\n",
      "-rw-r--r-- 1 public staff         127 Mar 10  2014 /mnt/454/Carbon_beast_QM/Y_Sidron_TY/mergelane/Sidron_Y.rd.l35q30.bam\r\n",
      "-rw-r--r-- 1 public staff     2390108 Nov 28  2013 /mnt/454/Carbon_beast_QM/Y_Sidron_TY/mutation_Y/Y_Tianyuan_Sidron_hg19_1000g/Sidron.bam\r\n",
      "-rw-r--r-- 1 public staff      683549 Nov 28  2013 /mnt/454/Carbon_beast_QM/Y_Sidron_TY/mutation_Y/Y_Tianyuan_Sidron_hg19_1000g/Sidron_Y.rd.bam\r\n",
      "-rw-r--r-- 1 public staff    22981521 Dec  1  2013 /mnt/454/Carbon_beast_QM/Y_Sidron_TY/mutation_Y/Y_Tianyuan_Sidron/Sidron.bam\r\n",
      "-rw-r--r-- 1 public staff  1293439881 Oct 28  2013 /mnt/454/Carbon_beast_QM/Y_Sidron_TY/mutation_Y/Y_Tianyuan_Sidron/Sidron_Mt.bam\r\n",
      "-rw-r--r-- 1 public staff      132557 Dec  1  2013 /mnt/454/Carbon_beast_QM/Y_Sidron_TY/mutation_Y/Y_Tianyuan_Sidron/Sidron_Mt.rd.bam\r\n",
      "-rw-r--r-- 1 public staff  9939951191 Oct 28  2013 /mnt/454/Carbon_beast_QM/Y_Sidron_TY/mutation_Y/Y_Tianyuan_Sidron/Sidron_Y.bam\r\n",
      "-rw-r--r-- 1 public staff     9365309 Dec  1  2013 /mnt/454/Carbon_beast_QM/Y_Sidron_TY/mutation_Y/Y_Tianyuan_Sidron/Sidron_Y.rd.bam\r\n"
     ]
    }
   ],
   "source": [
    "find ${qiaomeis_dir} -type f -name \"*Sidron*.bam\" | xargs ls -l"
   ]
  },
  {
   "cell_type": "markdown",
   "metadata": {},
   "source": [
    "Many different files, hard to know which is which. Now, let's assume that the biggest file (`/mnt/454/Carbon_beast_QM/Y_Sidron_TY/mergelane/Sidron_Y.bam`) is closest to the original sequence data.\n",
    "\n",
    "### Which runs does the data come from?"
   ]
  },
  {
   "cell_type": "code",
   "execution_count": 6,
   "metadata": {
    "collapsed": false
   },
   "outputs": [
    {
     "name": "stdout",
     "output_type": "stream",
     "text": [
      "SN7001204_0235_BH72E4ADXX_R_PEdi_A3601_A3605\r\n",
      "SN7001204_0228_BH06Y0ADXX_R_PEdi_A3207_A3208\r\n"
     ]
    }
   ],
   "source": [
    "sam view -n100000 /mnt/454/Carbon_beast_QM/Y_Sidron_TY/mergelane/Sidron_Y.bam \\\n",
    "    | awk -F':' '{ n[$1]++ } ; END {for(k in n){print k}}'"
   ]
  },
  {
   "cell_type": "markdown",
   "metadata": {},
   "source": [
    "### What are the read groups of interest?\n",
    "\n",
    "Save them to a file too."
   ]
  },
  {
   "cell_type": "code",
   "execution_count": 7,
   "metadata": {
    "collapsed": false
   },
   "outputs": [
    {
     "name": "stdout",
     "output_type": "stream",
     "text": []
    }
   ],
   "source": [
    "read_groups=$tmp_dir/sidron_read_groups.txt"
   ]
  },
  {
   "cell_type": "code",
   "execution_count": 8,
   "metadata": {
    "collapsed": false,
    "scrolled": false
   },
   "outputs": [
    {
     "name": "stdout",
     "output_type": "stream",
     "text": [
      "A3134\r\n",
      "A3135\r\n",
      "A3136\r\n",
      "A3137\r\n",
      "A3138\r\n",
      "A3139\r\n",
      "A3140\r\n",
      "A3141\r\n",
      "A3142\r\n",
      "A3143\r\n",
      "A3144\r\n",
      "A3145\r\n",
      "A3146\r\n",
      "A3147\r\n",
      "A3148\r\n",
      "A3149\r\n",
      "A3150\r\n",
      "A3151\r\n",
      "A3152\r\n",
      "A3153\r\n",
      "A3154\r\n",
      "A3155\r\n",
      "A3156\r\n",
      "A3157\r\n",
      "A3158\r\n",
      "A3159\r\n",
      "A3160\r\n",
      "A3161\r\n",
      "A3162\r\n",
      "A3163\r\n",
      "A3164\r\n",
      "A3165\r\n",
      "A3166\r\n",
      "A3167\r\n",
      "A3168\r\n",
      "A3169\r\n",
      "A3170\r\n",
      "A3171\r\n",
      "A3172\r\n",
      "A3173\r\n",
      "A3174\r\n",
      "A3175\r\n",
      "A3176\r\n",
      "A3177\r\n",
      "A3178\r\n",
      "A3179\r\n",
      "A3180\r\n",
      "A3181\r\n",
      "A3182\r\n",
      "A3183\r\n",
      "A3184\r\n",
      "A3185\r\n",
      "A3186\r\n",
      "A3187\r\n",
      "A3188\r\n",
      "A3189\r\n",
      "A3190\r\n",
      "A3191\r\n",
      "A3192\r\n",
      "A3193\r\n"
     ]
    }
   ],
   "source": [
    "samtools view -H /mnt/454/Carbon_beast_QM/Y_Sidron_TY/mergelane/Sidron_Y.bam \\\n",
    "    | grep '@RG' \\\n",
    "    | awk -F':' '{print $2}' | tee $read_groups"
   ]
  },
  {
   "cell_type": "markdown",
   "metadata": {},
   "source": [
    "Here's a link to the database entries for these libraries: http://bioaps01:5984/default/_design/lims/_list/web/libs.csv?startkey_plain=A3193&limit=60&include_docs=true&startkey=[%22A%22%2C3193]&descending=true"
   ]
  },
  {
   "cell_type": "markdown",
   "metadata": {},
   "source": [
    "According to the database, the libraries were prepared from a Neandertal sample: **El Sidron 1253**\n",
    "\n",
    ">An adult male bone flake, labelled as SD 1253, is one of the best El Sidrón samples in terms of genetic content and low DNA contamination. In a recent massively parallel sequencing approach for this sample, only 0.27 per cent of the mitochondrial sequences obtained were exogenous contaminants (Briggs et al. 2009 - http://www.sciencemag.org/content/325/5938/318.long), the lowest level for any Neanderthal sample studied so far.\n",
    "\n",
    "(Quote from http://www.ncbi.nlm.nih.gov/pmc/articles/PMC2828008/)"
   ]
  },
  {
   "cell_type": "markdown",
   "metadata": {
    "collapsed": true
   },
   "source": [
    "### Which of the four lanes (from two runs determined above) contain the libraries of interest?"
   ]
  },
  {
   "cell_type": "markdown",
   "metadata": {},
   "source": [
    "#### First run"
   ]
  },
  {
   "cell_type": "code",
   "execution_count": 9,
   "metadata": {
    "collapsed": false
   },
   "outputs": [
    {
     "name": "stdout",
     "output_type": "stream",
     "text": [
      "ls: cannot access /mnt/ngs_data/*SN7001204_0228_BH06Y0ADXX_R_PEdi_A3207_A3208/Bustard/BWA/*.bam: No such file or directory\r\n",
      "/mnt/ngs_data/130917_SN7001204_0228_BH06Y0ADXX_R_PEdi_A3207_A3208/Ibis/BWA/s_1-hg19_evan.bam\r\n",
      "/mnt/ngs_data/130917_SN7001204_0228_BH06Y0ADXX_R_PEdi_A3207_A3208/Ibis/BWA/s_2-hg19_evan.bam\r\n"
     ]
    }
   ],
   "source": [
    "ls /mnt/ngs_data/*SN7001204_0228_BH06Y0ADXX_R_PEdi_A3207_A3208/{Ibis,Bustard}/BWA/*.bam"
   ]
  },
  {
   "cell_type": "markdown",
   "metadata": {},
   "source": [
    "Seems the Bustard data are not there..."
   ]
  },
  {
   "cell_type": "markdown",
   "metadata": {},
   "source": [
    "#### Second run"
   ]
  },
  {
   "cell_type": "code",
   "execution_count": 10,
   "metadata": {
    "collapsed": false
   },
   "outputs": [
    {
     "name": "stdout",
     "output_type": "stream",
     "text": [
      "ls: cannot access /mnt/ngs_data/*SN7001204_0235_BH72E4ADXX_R_PEdi_A3601_A3605/Ibis/BWA/*.bam: No such file or directory\r\n",
      "/mnt/ngs_data/131129_SN7001204_0235_BH72E4ADXX_R_PEdi_A3601_A3605/Bustard/BWA/s_1_sequence_ancient_hg19_evan.newrg.bam\r\n",
      "/mnt/ngs_data/131129_SN7001204_0235_BH72E4ADXX_R_PEdi_A3601_A3605/Bustard/BWA/s_2_sequence_ancient_hg19_evan.bam\r\n"
     ]
    }
   ],
   "source": [
    "ls /mnt/ngs_data/*SN7001204_0235_BH72E4ADXX_R_PEdi_A3601_A3605/{Ibis,Bustard}/BWA/*.bam"
   ]
  },
  {
   "cell_type": "markdown",
   "metadata": {},
   "source": [
    "And here, for a change, Ibis data are missing..."
   ]
  },
  {
   "cell_type": "markdown",
   "metadata": {},
   "source": [
    "After checking manually the headers, only two of the four BAM files from the four lanes above contain read groups A3134-A3193 determined above:\n",
    "* `/mnt/ngs_data/130917_SN7001204_0228_BH06Y0ADXX_R_PEdi_A3207_A3208/Ibis/BWA/s_2-hg19_evan.bam`\n",
    "* `/mnt/ngs_data/131129_SN7001204_0235_BH72E4ADXX_R_PEdi_A3601_A3605/Bustard/BWA/s_2_sequence_ancient_hg19_evan.bam`"
   ]
  },
  {
   "cell_type": "markdown",
   "metadata": {},
   "source": [
    "# Extract the read groups of interest and merge the data"
   ]
  },
  {
   "cell_type": "markdown",
   "metadata": {},
   "source": [
    "### Extract reads from the first lane"
   ]
  },
  {
   "cell_type": "code",
   "execution_count": 11,
   "metadata": {
    "collapsed": false
   },
   "outputs": [
    {
     "name": "stdout",
     "output_type": "stream",
     "text": []
    }
   ],
   "source": [
    "samtools view -bhR $read_groups /mnt/ngs_data/130917_SN7001204_0228_BH06Y0ADXX_R_PEdi_A3207_A3208/Ibis/BWA/s_2-hg19_evan.bam \\\n",
    "    > $tmp_dir/130917_SN7001204_0228_BH06Y0ADXX_R_PEdi_A3207_A3208___A3134-A3193.bam"
   ]
  },
  {
   "cell_type": "markdown",
   "metadata": {},
   "source": [
    "### Extract reads from the second lane"
   ]
  },
  {
   "cell_type": "code",
   "execution_count": 12,
   "metadata": {
    "collapsed": false
   },
   "outputs": [
    {
     "name": "stdout",
     "output_type": "stream",
     "text": []
    }
   ],
   "source": [
    "samtools view -bhR $read_groups /mnt/ngs_data/131129_SN7001204_0235_BH72E4ADXX_R_PEdi_A3601_A3605/Bustard/BWA/s_2_sequence_ancient_hg19_evan.bam \\\n",
    "    > $tmp_dir/131129_SN7001204_0235_BH72E4ADXX_R_PEdi_A3601_A3605___A3134-A3193.bam"
   ]
  },
  {
   "cell_type": "markdown",
   "metadata": {},
   "source": [
    "### Merge data from both lanes"
   ]
  },
  {
   "cell_type": "code",
   "execution_count": 13,
   "metadata": {
    "collapsed": false
   },
   "outputs": [
    {
     "name": "stdout",
     "output_type": "stream",
     "text": []
    }
   ],
   "source": [
    "samtools merge $tmp_dir/sidron_merged_lanes.bam $tmp_dir/130917_SN7001204_0228_BH06Y0ADXX_R_PEdi_A3207_A3208___A3134-A3193.bam $tmp_dir/131129_SN7001204_0235_BH72E4ADXX_R_PEdi_A3601_A3605___A3134-A3193.bam"
   ]
  },
  {
   "cell_type": "code",
   "execution_count": 14,
   "metadata": {
    "collapsed": false
   },
   "outputs": [
    {
     "name": "stdout",
     "output_type": "stream",
     "text": [
      "232663077\r\n"
     ]
    }
   ],
   "source": [
    "# what is the total number of reads in the merged BAM file?\n",
    "samtools view $tmp_dir/sidron_merged_lanes.bam | wc -l"
   ]
  },
  {
   "cell_type": "markdown",
   "metadata": {},
   "source": [
    "# Remove duplicates and perform filtering"
   ]
  },
  {
   "cell_type": "markdown",
   "metadata": {},
   "source": [
    "## length >= 35 and MQ >= 37"
   ]
  },
  {
   "cell_type": "code",
   "execution_count": 15,
   "metadata": {
    "collapsed": false
   },
   "outputs": [
    {
     "name": "stdout",
     "output_type": "stream",
     "text": [
      "\u001b[K#RG\tin\tout\tin@MQ20\tsingle@MQ20\tunseen\ttotal\t%unique\t%exhausted\r\n",
      "--\t1,641,444\t243,473\t243,473\t86,817\t48k\t290k\t14.8\t83.5\r\n"
     ]
    }
   ],
   "source": [
    "bam-rmdup -l 35 -q 37 -r -o $tmp_dir/sidron_rmdup_len35mapq37_unsorted.bam $tmp_dir/sidron_merged_lanes.bam"
   ]
  },
  {
   "cell_type": "code",
   "execution_count": 16,
   "metadata": {
    "collapsed": false
   },
   "outputs": [
    {
     "name": "stdout",
     "output_type": "stream",
     "text": []
    }
   ],
   "source": [
    "samtools sort $tmp_dir/sidron_rmdup_len35mapq37_unsorted.bam -o $tmp_dir/sidron_rmdup_len35mapq37_sorted.bam"
   ]
  },
  {
   "cell_type": "code",
   "execution_count": 17,
   "metadata": {
    "collapsed": false
   },
   "outputs": [
    {
     "name": "stdout",
     "output_type": "stream",
     "text": []
    }
   ],
   "source": [
    "samtools index $tmp_dir/sidron_rmdup_len35mapq37_sorted.bam"
   ]
  },
  {
   "cell_type": "code",
   "execution_count": 18,
   "metadata": {
    "collapsed": false
   },
   "outputs": [
    {
     "name": "stdout",
     "output_type": "stream",
     "text": [
      "244170\r\n"
     ]
    }
   ],
   "source": [
    "samtools view $tmp_dir/sidron_rmdup_len35mapq37_sorted.bam | wc -l"
   ]
  },
  {
   "cell_type": "markdown",
   "metadata": {},
   "source": [
    "## length >= 35 and MQ >= 30"
   ]
  },
  {
   "cell_type": "code",
   "execution_count": 10,
   "metadata": {
    "collapsed": false
   },
   "outputs": [
    {
     "name": "stdout",
     "output_type": "stream",
     "text": [
      "\u001b[K#RG\tin\tout\tin@MQ20\tsingle@MQ20\tunseen\ttotal\t%unique\t%exhausted\r\n",
      "--\t1,641,446\t243,476\t243,476\t86,820\t48k\t290k\t14.8\t83.5\r\n"
     ]
    }
   ],
   "source": [
    "bam-rmdup -l 35 -q 30 -r -o $tmp_dir/sidron_rmdup_len35mapq30_unsorted.bam $tmp_dir/sidron_merged_lanes.bam"
   ]
  },
  {
   "cell_type": "code",
   "execution_count": 11,
   "metadata": {
    "collapsed": false
   },
   "outputs": [
    {
     "name": "stdout",
     "output_type": "stream",
     "text": []
    }
   ],
   "source": [
    "samtools sort $tmp_dir/sidron_rmdup_len35mapq30_unsorted.bam -o $tmp_dir/sidron_rmdup_len35mapq30_sorted.bam"
   ]
  },
  {
   "cell_type": "code",
   "execution_count": 12,
   "metadata": {
    "collapsed": false
   },
   "outputs": [
    {
     "name": "stdout",
     "output_type": "stream",
     "text": []
    }
   ],
   "source": [
    "samtools index $tmp_dir/sidron_rmdup_len35mapq30_sorted.bam"
   ]
  },
  {
   "cell_type": "code",
   "execution_count": 13,
   "metadata": {
    "collapsed": false
   },
   "outputs": [
    {
     "name": "stdout",
     "output_type": "stream",
     "text": [
      "244175\r\n"
     ]
    }
   ],
   "source": [
    "samtools view $tmp_dir/sidron_rmdup_len35mapq30_sorted.bam | wc -l"
   ]
  },
  {
   "cell_type": "markdown",
   "metadata": {},
   "source": [
    "## length >= 35 and MQ >= 25"
   ]
  },
  {
   "cell_type": "code",
   "execution_count": 16,
   "metadata": {
    "collapsed": false
   },
   "outputs": [
    {
     "name": "stdout",
     "output_type": "stream",
     "text": [
      "\u001b[K#RG\tin\tout\tin@MQ20\tsingle@MQ20\tunseen\ttotal\t%unique\t%exhausted\r\n",
      "--\t1,656,862\t248,271\t248,271\t89,935\t50k\t290k\t15.0\t83.1\r\n"
     ]
    }
   ],
   "source": [
    "bam-rmdup -l 35 -q 25 -r -o $tmp_dir/sidron_rmdup_len35mapq25_unsorted.bam $tmp_dir/sidron_merged_lanes.bam"
   ]
  },
  {
   "cell_type": "code",
   "execution_count": 17,
   "metadata": {
    "collapsed": false
   },
   "outputs": [
    {
     "name": "stdout",
     "output_type": "stream",
     "text": []
    }
   ],
   "source": [
    "samtools sort $tmp_dir/sidron_rmdup_len35mapq25_unsorted.bam -o $tmp_dir/sidron_rmdup_len35mapq25_sorted.bam"
   ]
  },
  {
   "cell_type": "code",
   "execution_count": 18,
   "metadata": {
    "collapsed": false
   },
   "outputs": [
    {
     "name": "stdout",
     "output_type": "stream",
     "text": []
    }
   ],
   "source": [
    "samtools index $tmp_dir/sidron_rmdup_len35mapq25_sorted.bam"
   ]
  },
  {
   "cell_type": "code",
   "execution_count": 19,
   "metadata": {
    "collapsed": false
   },
   "outputs": [
    {
     "name": "stdout",
     "output_type": "stream",
     "text": [
      "248986\r\n"
     ]
    }
   ],
   "source": [
    "samtools view $tmp_dir/sidron_rmdup_len35mapq25_sorted.bam | wc -l"
   ]
  },
  {
   "cell_type": "markdown",
   "metadata": {},
   "source": [
    "## length >= 35 and MQ >= 20"
   ]
  },
  {
   "cell_type": "code",
   "execution_count": 29,
   "metadata": {
    "collapsed": false
   },
   "outputs": [
    {
     "name": "stdout",
     "output_type": "stream",
     "text": [
      "\u001b[K#RG\tin\tout\tin@MQ20\tsingle@MQ20\tunseen\ttotal\t%unique\t%exhausted\r\n",
      "--\t1,776,218\t275,887\t275,887\t103,519\t60k\t330k\t15.5\t82.1\r\n"
     ]
    }
   ],
   "source": [
    "bam-rmdup -l 35 -q 20 -r -o $tmp_dir/sidron_rmdup_len35mapq20_unsorted.bam $tmp_dir/sidron_merged_lanes.bam"
   ]
  },
  {
   "cell_type": "code",
   "execution_count": 30,
   "metadata": {
    "collapsed": false
   },
   "outputs": [
    {
     "name": "stdout",
     "output_type": "stream",
     "text": []
    }
   ],
   "source": [
    "samtools sort $tmp_dir/sidron_rmdup_len35mapq20_unsorted.bam -o $tmp_dir/sidron_rmdup_len35mapq20_sorted.bam"
   ]
  },
  {
   "cell_type": "code",
   "execution_count": 31,
   "metadata": {
    "collapsed": false
   },
   "outputs": [
    {
     "name": "stdout",
     "output_type": "stream",
     "text": []
    }
   ],
   "source": [
    "samtools index $tmp_dir/sidron_rmdup_len35mapq20_sorted.bam"
   ]
  },
  {
   "cell_type": "code",
   "execution_count": 32,
   "metadata": {
    "collapsed": false
   },
   "outputs": [
    {
     "name": "stdout",
     "output_type": "stream",
     "text": [
      "276610\r\n"
     ]
    }
   ],
   "source": [
    "samtools view $tmp_dir/sidron_rmdup_len35mapq20_sorted.bam | wc -l"
   ]
  },
  {
   "cell_type": "markdown",
   "metadata": {},
   "source": [
    "# Subset only to reads mapped to the Y chromosome"
   ]
  },
  {
   "cell_type": "markdown",
   "metadata": {},
   "source": [
    "## MQ >= 37"
   ]
  },
  {
   "cell_type": "code",
   "execution_count": 20,
   "metadata": {
    "collapsed": false
   },
   "outputs": [
    {
     "name": "stdout",
     "output_type": "stream",
     "text": []
    }
   ],
   "source": [
    "samtools view $tmp_dir/sidron_rmdup_len35mapq37_sorted.bam Y -o $tmp_dir/sidron_rmdup_len35mapq37_sorted_chrY.bam"
   ]
  },
  {
   "cell_type": "code",
   "execution_count": 21,
   "metadata": {
    "collapsed": false
   },
   "outputs": [
    {
     "name": "stdout",
     "output_type": "stream",
     "text": []
    }
   ],
   "source": [
    "samtools index $tmp_dir/sidron_rmdup_len35mapq37_sorted_chrY.bam"
   ]
  },
  {
   "cell_type": "code",
   "execution_count": 26,
   "metadata": {
    "collapsed": false
   },
   "outputs": [
    {
     "name": "stdout",
     "output_type": "stream",
     "text": [
      "113993\r\n"
     ]
    }
   ],
   "source": [
    "samtools view $tmp_dir/sidron_rmdup_len35mapq37_sorted_chrY.bam | wc -l"
   ]
  },
  {
   "cell_type": "markdown",
   "metadata": {},
   "source": [
    "## MQ >= 30"
   ]
  },
  {
   "cell_type": "code",
   "execution_count": 22,
   "metadata": {
    "collapsed": false
   },
   "outputs": [
    {
     "name": "stdout",
     "output_type": "stream",
     "text": []
    }
   ],
   "source": [
    "samtools view $tmp_dir/sidron_rmdup_len35mapq30_sorted.bam Y -o $tmp_dir/sidron_rmdup_len35mapq30_sorted_chrY.bam"
   ]
  },
  {
   "cell_type": "code",
   "execution_count": 23,
   "metadata": {
    "collapsed": false
   },
   "outputs": [
    {
     "name": "stdout",
     "output_type": "stream",
     "text": []
    }
   ],
   "source": [
    "samtools index $tmp_dir/sidron_rmdup_len35mapq30_sorted_chrY.bam"
   ]
  },
  {
   "cell_type": "code",
   "execution_count": 27,
   "metadata": {
    "collapsed": false
   },
   "outputs": [
    {
     "name": "stdout",
     "output_type": "stream",
     "text": [
      "113993\r\n"
     ]
    }
   ],
   "source": [
    "samtools view $tmp_dir/sidron_rmdup_len35mapq30_sorted_chrY.bam | wc -l"
   ]
  },
  {
   "cell_type": "markdown",
   "metadata": {},
   "source": [
    "## MQ >= 25"
   ]
  },
  {
   "cell_type": "code",
   "execution_count": 24,
   "metadata": {
    "collapsed": false
   },
   "outputs": [
    {
     "name": "stdout",
     "output_type": "stream",
     "text": []
    }
   ],
   "source": [
    "samtools view $tmp_dir/sidron_rmdup_len35mapq25_sorted.bam Y -o $tmp_dir/sidron_rmdup_len35mapq25_sorted_chrY.bam"
   ]
  },
  {
   "cell_type": "code",
   "execution_count": 25,
   "metadata": {
    "collapsed": false
   },
   "outputs": [
    {
     "name": "stdout",
     "output_type": "stream",
     "text": []
    }
   ],
   "source": [
    "samtools index $tmp_dir/sidron_rmdup_len35mapq25_sorted_chrY.bam"
   ]
  },
  {
   "cell_type": "code",
   "execution_count": 28,
   "metadata": {
    "collapsed": false
   },
   "outputs": [
    {
     "name": "stdout",
     "output_type": "stream",
     "text": [
      "114278\r\n"
     ]
    }
   ],
   "source": [
    "samtools view $tmp_dir/sidron_rmdup_len35mapq25_sorted_chrY.bam | wc -l"
   ]
  },
  {
   "cell_type": "markdown",
   "metadata": {},
   "source": [
    "## MQ >= 20"
   ]
  },
  {
   "cell_type": "code",
   "execution_count": 33,
   "metadata": {
    "collapsed": false
   },
   "outputs": [
    {
     "name": "stdout",
     "output_type": "stream",
     "text": []
    }
   ],
   "source": [
    "samtools view $tmp_dir/sidron_rmdup_len35mapq20_sorted.bam Y -o $tmp_dir/sidron_rmdup_len35mapq20_sorted_chrY.bam"
   ]
  },
  {
   "cell_type": "code",
   "execution_count": 34,
   "metadata": {
    "collapsed": false
   },
   "outputs": [
    {
     "name": "stdout",
     "output_type": "stream",
     "text": []
    }
   ],
   "source": [
    "samtools index $tmp_dir/sidron_rmdup_len35mapq20_sorted_chrY.bam"
   ]
  },
  {
   "cell_type": "code",
   "execution_count": 35,
   "metadata": {
    "collapsed": false
   },
   "outputs": [
    {
     "name": "stdout",
     "output_type": "stream",
     "text": [
      "117799\r\n"
     ]
    }
   ],
   "source": [
    "samtools view $tmp_dir/sidron_rmdup_len35mapq20_sorted_chrY.bam | wc -l"
   ]
  },
  {
   "cell_type": "markdown",
   "metadata": {},
   "source": [
    "<br><br><br><br><br>\n",
    "# Extract reads falling within Lippold et al. target regions"
   ]
  },
  {
   "cell_type": "code",
   "execution_count": 19,
   "metadata": {
    "collapsed": false
   },
   "outputs": [
    {
     "name": "stdout",
     "output_type": "stream",
     "text": []
    }
   ],
   "source": [
    "lippold_targets_bed=$input_dir/lippold_regions.bed"
   ]
  },
  {
   "cell_type": "markdown",
   "metadata": {},
   "source": [
    "## Length >= 35, MQ >= 37"
   ]
  },
  {
   "cell_type": "markdown",
   "metadata": {},
   "source": [
    "Filtering for both MAPQ >= 30 and MAPQ >= 37 gave the same numbers of reads. In order to keep the analysis consistent with Susanna's Denisovan 8 data (which are filtered for MAPQ >= 37), I will keep the El Sidron data just for MAPQ37 as well."
   ]
  },
  {
   "cell_type": "code",
   "execution_count": 20,
   "metadata": {
    "collapsed": false
   },
   "outputs": [
    {
     "name": "stdout",
     "output_type": "stream",
     "text": []
    }
   ],
   "source": [
    "bedtools intersect -a $tmp_dir/sidron_rmdup_len35mapq37_sorted.bam -b $lippold_targets_bed \\\n",
    "    > $bam_dir/sidron_rmdup_len35mapq37_sorted_lippold.bam"
   ]
  },
  {
   "cell_type": "code",
   "execution_count": 21,
   "metadata": {
    "collapsed": false
   },
   "outputs": [
    {
     "name": "stdout",
     "output_type": "stream",
     "text": []
    }
   ],
   "source": [
    "samtools index $bam_dir/sidron_rmdup_len35mapq37_sorted_lippold.bam"
   ]
  },
  {
   "cell_type": "code",
   "execution_count": 22,
   "metadata": {
    "collapsed": false
   },
   "outputs": [
    {
     "name": "stdout",
     "output_type": "stream",
     "text": [
      "89488\r\n"
     ]
    }
   ],
   "source": [
    "samtools view $bam_dir/sidron_rmdup_len35mapq37_sorted_lippold.bam | wc -l"
   ]
  },
  {
   "cell_type": "markdown",
   "metadata": {},
   "source": [
    "# Rename the final on-target BAM file"
   ]
  },
  {
   "cell_type": "code",
   "execution_count": 23,
   "metadata": {
    "collapsed": false
   },
   "outputs": [
    {
     "name": "stdout",
     "output_type": "stream",
     "text": []
    }
   ],
   "source": [
    "rename 's/sidron_rmdup_len35mapq37_sorted_lippold/lippold_sidron/' $bam_dir/sidron_rmdup_len35mapq37_sorted_lippold.bam*"
   ]
  },
  {
   "cell_type": "markdown",
   "metadata": {},
   "source": [
    "<br><br><br><br><br><br><br><br><br><br>\n",
    "<hr>\n",
    "# Notes\n",
    "\n",
    "* Would it be possible to include El Sidron Y chromosome data from the exome capture? This could increase the coverage a little bit.\n",
    "\n",
    "* Is filtering for read groups A3134-A3193 enough or is a more strict method necessary?\n",
    "\n",
    "```\n",
    "usage:\n",
    "./splitBAM.pl [options] in.bam\n",
    "\n",
    "options:\n",
    "-byreadgroup        write one BAM file for each read group identifier present in BAM file [default]\n",
    "-byfile             read a list of index combinations (#LibID P7 P5) and determine readgroup again, \n",
    "                    ignores readgroup assignment in BAM file, requires perfect index matching \n",
    "-statsonly [int]    only print statistics for first [int] sequences\n",
    "-z0                 maximum Z0 value (~unknownness of index) [inf]\n",
    "-minscore           phred score cutoff for index base quality [0]\n",
    "-maxnumber          allowed number of index base quality scores below cutoff [inf]\n",
    "-p7only             split based on p7 index only\n",
    "-p5only             split based on p5 index only\n",
    "-perfect            filter single index data for perfect index matches\n",
    "-mapped             output mapped sequences only\n",
    "-paired             output overlap-merged sequences only\n",
    "-minlength          minimum sequence length\n",
    "\n",
    "output:\n",
    "-out.bam            BAM files\n",
    "-screen             statistics for all index combinations identified\n",
    "```\n",
    "\n",
    "* For genotyping: lower the quality of T/A terminal nucleotides? From Sergi's exome paper:\n",
    "\n",
    "> Fragments may carry residual cytosine deamination in the first positions of the 5’ end\n",
    "and the last positions in the 3’ end in spite of the UDG treatment (Figure S2A). These\n",
    "bases are read as thymine and adenosine, respectively. Because the deamination\n",
    "process does not affect the qualities of these bases, deamination can potentially\n",
    "influence downstream analyses. To mitigate this problem, we lower the base quality\n",
    "score in the phred scale (14) to 2 for any ‘T’ nucleotide occurring within the first five\n",
    "bases or ‘A’ nucleotide within the last five positions in a sequence.\n",
    "\n",
    "Note that this would work only for USER-treated data. Find out what was the library prep method for this."
   ]
  },
  {
   "cell_type": "markdown",
   "metadata": {},
   "source": [
    "## More samples?\n",
    "\n",
    "Mez 2\n",
    "\n",
    "Feldhofer 1\n",
    "\n",
    "Denisova 4 and 8\n",
    "\n",
    "2 other sidrons \n",
    "\n",
    "**Chagyrkskaya ulna** is SP3394\n",
    "* Sequencing runs with shotgun data:\n",
    "* 141128 -> library pool L5128\n",
    "* 150212-> library pool  R1928 (this is Petra's data used for the washing paper)\n",
    "* 150330 -> library pool L5300 (lane 2)\n",
    " \n",
    "**Hohlenstein-Stadel** is SP3363\n",
    "* Sequencing runs with shotgun data:\n",
    "* 150330 -> library pool L5300 (lane 2)\n",
    "* 150623 -> library pool L5406\n",
    "* 152810 -> library pool L5512 (lane2) (This one I have not processed yet)\n",
    " \n",
    "There are excel sheets with the specific library numbers and index combinations per sample for each of these sequencing runs in the public->AncientDNA->sequencing_runs folder\n",
    "\n",
    "The bam files are in /home/viviane_slon/PhD/ and then either Chagyrskaya or Hohlenstein_Stadel; in sub-folders \"split\" for each sequencing run.\n",
    "  "
   ]
  },
  {
   "cell_type": "markdown",
   "metadata": {},
   "source": [
    "### Susanna's samples\n",
    "\n",
    "Saturation plots for the two libraries: '/r1/people/susanna_sawyer/Neandertal/Denisova_Molar_paper/figures/library saturation figure.tif'\n",
    "\n",
    "Data is in\n",
    "/mnt/expressions/susanna/Denisova_Molar_2_L9133 (+ README file in read_me_HiSeq_L9133)\n",
    "/mnt/expressions/susanna/Denisova_Molar_2_L9133 (+ README file in read_me_HiSeq_L9351)"
   ]
  },
  {
   "cell_type": "markdown",
   "metadata": {},
   "source": [
    "### Different options how to do library prep:\n",
    "\n",
    "* double stranded library UDG treated - very efficient to remove uracils, very little damage persists\n",
    "* single stranded library UDG treated - strong deamination patterns persist"
   ]
  }
 ],
 "metadata": {
  "kernelspec": {
   "display_name": "Bash",
   "language": "bash",
   "name": "bash"
  },
  "language_info": {
   "codemirror_mode": "shell",
   "file_extension": ".sh",
   "mimetype": "text/x-sh",
   "name": "bash"
  }
 },
 "nbformat": 4,
 "nbformat_minor": 0
}
