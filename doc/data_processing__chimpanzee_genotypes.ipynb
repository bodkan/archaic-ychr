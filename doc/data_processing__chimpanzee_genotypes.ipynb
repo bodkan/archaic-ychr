{
 "cells": [
  {
   "cell_type": "markdown",
   "metadata": {},
   "source": [
    "# Get the chimpanzee alleles for each variable position in Y chromosomes"
   ]
  },
  {
   "cell_type": "code",
   "execution_count": 1,
   "metadata": {
    "collapsed": false
   },
   "outputs": [
    {
     "name": "stdout",
     "output_type": "stream",
     "text": [
      "make[1]: Entering directory `/mnt/expressions/mp/archaic-y'\r\n",
      "make[1]: Nothing to be done for `init'.\r\n",
      "make[1]: Leaving directory `/mnt/expressions/mp/archaic-y'\r\n"
     ]
    }
   ],
   "source": [
    "(cd ..; make init)"
   ]
  },
  {
   "cell_type": "code",
   "execution_count": 2,
   "metadata": {
    "collapsed": false
   },
   "outputs": [
    {
     "name": "stdout",
     "output_type": "stream",
     "text": []
    }
   ],
   "source": [
    "cd ../tmp"
   ]
  },
  {
   "cell_type": "markdown",
   "metadata": {},
   "source": [
    "## Download the UCSC utilities fetchChromSizes and axtToMaf\n",
    "\n",
    "Can be downloaded from [here](http://hgdownload.cse.ucsc.edu/downloads.html#source_downloads)."
   ]
  },
  {
   "cell_type": "markdown",
   "metadata": {},
   "source": [
    "### fetchChromSizes"
   ]
  },
  {
   "cell_type": "code",
   "execution_count": 3,
   "metadata": {
    "collapsed": false
   },
   "outputs": [
    {
     "name": "stdout",
     "output_type": "stream",
     "text": []
    }
   ],
   "source": [
    "curl -s http://hgdownload.cse.ucsc.edu/admin/exe/linux.x86_64/fetchChromSizes > fetchChromSizes"
   ]
  },
  {
   "cell_type": "code",
   "execution_count": 4,
   "metadata": {
    "collapsed": false
   },
   "outputs": [
    {
     "name": "stdout",
     "output_type": "stream",
     "text": []
    }
   ],
   "source": [
    "chmod +x fetchChromSizes"
   ]
  },
  {
   "cell_type": "markdown",
   "metadata": {},
   "source": [
    "### axtToMaf"
   ]
  },
  {
   "cell_type": "code",
   "execution_count": 5,
   "metadata": {
    "collapsed": false
   },
   "outputs": [
    {
     "name": "stdout",
     "output_type": "stream",
     "text": []
    }
   ],
   "source": [
    "curl -s http://hgdownload.cse.ucsc.edu/admin/exe/linux.x86_64/axtToMaf > axtToMaf"
   ]
  },
  {
   "cell_type": "code",
   "execution_count": 6,
   "metadata": {
    "collapsed": false
   },
   "outputs": [
    {
     "name": "stdout",
     "output_type": "stream",
     "text": []
    }
   ],
   "source": [
    "chmod +x axtToMaf"
   ]
  },
  {
   "cell_type": "markdown",
   "metadata": {},
   "source": [
    "## Download the human-chimp alignment for Y chromosome\n",
    "\n",
    "The data is in the [AXT format](https://genome.ucsc.edu/goldenPath/help/axt.html) and it will be necessary to convert it to a [MAF format](https://genome.ucsc.edu/FAQ/FAQformat.html#format5) for further processing.\n",
    "\n",
    "AXT files can be downloaded from [here](\n",
    "Source: http://hgdownload.cse.ucsc.edu/downloads.html#human)."
   ]
  },
  {
   "cell_type": "code",
   "execution_count": 7,
   "metadata": {
    "collapsed": false
   },
   "outputs": [
    {
     "name": "stdout",
     "output_type": "stream",
     "text": []
    }
   ],
   "source": [
    "curl -s -O http://hgdownload.cse.ucsc.edu/goldenpath/hg19/vsPanTro4/axtNet/chrY.hg19.panTro4.net.axt.gz"
   ]
  },
  {
   "cell_type": "markdown",
   "metadata": {},
   "source": [
    "## Get sizes of all chromosomes for hg19 and chimp for `axtToMaf`\n",
    "\n",
    "Database names to fetch the information from are here: https://genome.ucsc.edu/FAQ/FAQreleases.html#release1 (hg19 is easy, but was not sure about the exact name of the most recent chimp database - panTro4)."
   ]
  },
  {
   "cell_type": "markdown",
   "metadata": {},
   "source": [
    "### hg19 chromosome sizes"
   ]
  },
  {
   "cell_type": "code",
   "execution_count": 8,
   "metadata": {
    "collapsed": false
   },
   "outputs": [
    {
     "name": "stdout",
     "output_type": "stream",
     "text": [
      "INFO: trying WGET /usr/bin/wget for database hg19\r\n",
      "url: http://hgdownload.cse.ucsc.edu/goldenPath/hg19/bigZips/hg19.chrom.sizes\r\n"
     ]
    }
   ],
   "source": [
    "./fetchChromSizes hg19 > hg19.chrom.sizes"
   ]
  },
  {
   "cell_type": "markdown",
   "metadata": {},
   "source": [
    "### chimpanzee chromosome sizes"
   ]
  },
  {
   "cell_type": "code",
   "execution_count": 9,
   "metadata": {
    "collapsed": false
   },
   "outputs": [
    {
     "name": "stdout",
     "output_type": "stream",
     "text": [
      "INFO: trying WGET /usr/bin/wget for database panTro4\r\n",
      "url: http://hgdownload.cse.ucsc.edu/goldenPath/panTro4/bigZips/panTro4.chrom.sizes\r\n"
     ]
    }
   ],
   "source": [
    "./fetchChromSizes panTro4 > panTro4.chrom.sizes"
   ]
  },
  {
   "cell_type": "markdown",
   "metadata": {},
   "source": [
    "## Convert AXT file to MAF format"
   ]
  },
  {
   "cell_type": "code",
   "execution_count": 10,
   "metadata": {
    "collapsed": false
   },
   "outputs": [
    {
     "name": "stdout",
     "output_type": "stream",
     "text": []
    }
   ],
   "source": [
    "./axtToMaf chrY.hg19.panTro4.net.axt.gz hg19.chrom.sizes panTro4.chrom.sizes chrY.hg19.panTro4.maf -tPrefix=hg19. -qPrefix=panTro4. "
   ]
  },
  {
   "cell_type": "markdown",
   "metadata": {},
   "source": [
    "# Generate a VCF file with chimpanzee states from a MAF alignment file"
   ]
  },
  {
   "cell_type": "code",
   "execution_count": 11,
   "metadata": {
    "collapsed": false
   },
   "outputs": [
    {
     "name": "stdout",
     "output_type": "stream",
     "text": []
    }
   ],
   "source": [
    "chimp_hg19_alignment=\"../tmp/chrY.hg19.panTro4.maf\""
   ]
  },
  {
   "cell_type": "markdown",
   "metadata": {},
   "source": [
    "### Lippold et al sites"
   ]
  },
  {
   "cell_type": "code",
   "execution_count": 12,
   "metadata": {
    "collapsed": false
   },
   "outputs": [
    {
     "name": "stdout",
     "output_type": "stream",
     "text": []
    }
   ],
   "source": [
    "lippold_chimp_vcf=\"../vcf/lippold_chimp.vcf\"\n",
    "lippold_sites=\"../input/lippold_sites.bed\""
   ]
  },
  {
   "cell_type": "code",
   "execution_count": 13,
   "metadata": {
    "collapsed": false
   },
   "outputs": [
    {
     "name": "stdout",
     "output_type": "stream",
     "text": []
    }
   ],
   "source": [
    "echo \"##fileformat=VCFv4.1\" >> ${lippold_chimp_vcf}\n",
    "echo \"##FORMAT=<ID=GT,Number=1,Type=String,Description=\\\"Genotype\\\">\" >> ${lippold_chimp_vcf}\n",
    "echo -e \"#CHROM\\tPOS\\tID\\tREF\\tALT\\tQUAL\\tFILTER\\tINFO\\tFORMAT\\tChimp\" >> ${lippold_chimp_vcf}"
   ]
  },
  {
   "cell_type": "code",
   "execution_count": 14,
   "metadata": {
    "collapsed": false
   },
   "outputs": [
    {
     "name": "stdout",
     "output_type": "stream",
     "text": []
    }
   ],
   "source": [
    "cut -f1,3 $lippold_sites \\\n",
    "    | /home/pruefer/src/BamSNPTool/BamSNPAddMaf $chimp_hg19_alignment hg19 panTro4 \\\n",
    "    | awk '{print toupper($0)}' \\\n",
    "    | awk -vOFS=\"\\t\" '\n",
    "        {\n",
    "            if ($3 == \"N\") {\n",
    "                next\n",
    "            }\n",
    "            else if ($4 == \"N\" || $4 == \"-\") {\n",
    "                alt = \".\"\n",
    "                gt = \".\"\n",
    "            } else if ($3 == $4) {\n",
    "                alt = \".\"\n",
    "                gt = \"0\"\n",
    "            } else {\n",
    "                alt = $4\n",
    "                gt = \"1\"\n",
    "            }\n",
    "            { print $1, $2, \".\", $3, alt, \".\", \".\", \".\", \"GT\", gt}\n",
    "        }' \\\n",
    "    >> $lippold_chimp_vcf"
   ]
  },
  {
   "cell_type": "code",
   "execution_count": 15,
   "metadata": {
    "collapsed": false
   },
   "outputs": [
    {
     "name": "stdout",
     "output_type": "stream",
     "text": []
    }
   ],
   "source": [
    "bgzip $lippold_chimp_vcf"
   ]
  },
  {
   "cell_type": "code",
   "execution_count": 16,
   "metadata": {
    "collapsed": false
   },
   "outputs": [
    {
     "name": "stdout",
     "output_type": "stream",
     "text": []
    }
   ],
   "source": [
    "tabix $lippold_chimp_vcf.gz"
   ]
  },
  {
   "cell_type": "markdown",
   "metadata": {},
   "source": [
    "### Exome sites"
   ]
  },
  {
   "cell_type": "code",
   "execution_count": 17,
   "metadata": {
    "collapsed": false
   },
   "outputs": [
    {
     "name": "stdout",
     "output_type": "stream",
     "text": []
    }
   ],
   "source": [
    "exome_chimp_vcf=\"../vcf/exome_chimp.vcf\"\n",
    "exome_sites=\"../input/exome_sites.bed\""
   ]
  },
  {
   "cell_type": "code",
   "execution_count": 18,
   "metadata": {
    "collapsed": false
   },
   "outputs": [
    {
     "name": "stdout",
     "output_type": "stream",
     "text": []
    }
   ],
   "source": [
    "echo \"##fileformat=VCFv4.1\" >> ${exome_chimp_vcf}\n",
    "echo \"##FORMAT=<ID=GT,Number=1,Type=String,Description=\\\"Genotype\\\">\" >> ${exome_chimp_vcf}\n",
    "echo -e \"#CHROM\\tPOS\\tID\\tREF\\tALT\\tQUAL\\tFILTER\\tINFO\\tFORMAT\\tChimp\" >> ${exome_chimp_vcf}"
   ]
  },
  {
   "cell_type": "code",
   "execution_count": 19,
   "metadata": {
    "collapsed": false
   },
   "outputs": [
    {
     "name": "stdout",
     "output_type": "stream",
     "text": []
    }
   ],
   "source": [
    "cut -f1,3 $exome_sites \\\n",
    "    | /home/pruefer/src/BamSNPTool/BamSNPAddMaf $chimp_hg19_alignment hg19 panTro4 \\\n",
    "    | awk '{print toupper($0)}' \\\n",
    "    | awk -vOFS=\"\\t\" '\n",
    "        {\n",
    "            if ($3 == \"N\") {\n",
    "                next\n",
    "            }\n",
    "            else if ($4 == \"N\" || $4 == \"-\") {\n",
    "                alt = \".\"\n",
    "                gt = \".\"\n",
    "            } else if ($3 == $4) {\n",
    "                alt = \".\"\n",
    "                gt = \"0\"\n",
    "            } else {\n",
    "                alt = $4\n",
    "                gt = \"1\"\n",
    "            }\n",
    "            { print $1, $2, \".\", $3, alt, \".\", \".\", \".\", \"GT\", gt}\n",
    "        }' \\\n",
    "    >> $exome_chimp_vcf"
   ]
  },
  {
   "cell_type": "code",
   "execution_count": 20,
   "metadata": {
    "collapsed": false
   },
   "outputs": [
    {
     "name": "stdout",
     "output_type": "stream",
     "text": []
    }
   ],
   "source": [
    "bgzip $exome_chimp_vcf"
   ]
  },
  {
   "cell_type": "code",
   "execution_count": 21,
   "metadata": {
    "collapsed": false
   },
   "outputs": [
    {
     "name": "stdout",
     "output_type": "stream",
     "text": []
    }
   ],
   "source": [
    "tabix $exome_chimp_vcf.gz"
   ]
  }
 ],
 "metadata": {
  "kernelspec": {
   "display_name": "Bash",
   "language": "bash",
   "name": "bash"
  },
  "language_info": {
   "codemirror_mode": "shell",
   "file_extension": ".sh",
   "mimetype": "text/x-sh",
   "name": "bash"
  }
 },
 "nbformat": 4,
 "nbformat_minor": 0
}