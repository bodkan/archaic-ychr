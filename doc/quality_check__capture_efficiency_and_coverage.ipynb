{
 "cells": [
  {
   "cell_type": "code",
   "execution_count": 1,
   "metadata": {
    "collapsed": false,
    "scrolled": false
   },
   "outputs": [
    {
     "name": "stderr",
     "output_type": "stream",
     "text": [
      "Creating a generic function for ‘nchar’ from package ‘base’ in package ‘S4Vectors’\n"
     ]
    }
   ],
   "source": [
    "library(magrittr)\n",
    "suppressPackageStartupMessages(library(dplyr))\n",
    "suppressPackageStartupMessages(library(GenomicRanges))\n",
    "library(rtracklayer)\n",
    "library(ggplot2)"
   ]
  },
  {
   "cell_type": "code",
   "execution_count": 2,
   "metadata": {
    "collapsed": true
   },
   "outputs": [],
   "source": [
    "options(repr.plot.width=6, repr.plot.height=4)\n",
    "options(jupyter.plot_mimetypes = setdiff(getOption('jupyter.plot_mimetypes'), 'image/svg+xml'))"
   ]
  },
  {
   "cell_type": "code",
   "execution_count": 3,
   "metadata": {
    "collapsed": true
   },
   "outputs": [],
   "source": [
    "target_regions_file <- \"../input/target_regions.bed\"\n",
    "\n",
    "sidron_bam <- \"../bam/sidron_ontarget.bam\"\n",
    "exome_sidron_bam <- \"../bam/exome_sidron_ontarget.bam\"\n",
    "den8_bam <- \"../bam/den8_ontarget.bam\"\n",
    "den8_deam_bam <- \"../bam/deam_den8_ontarget.bam\""
   ]
  },
  {
   "cell_type": "markdown",
   "metadata": {},
   "source": [
    "## Characteristics of the capture design"
   ]
  },
  {
   "cell_type": "code",
   "execution_count": 26,
   "metadata": {
    "collapsed": false
   },
   "outputs": [
    {
     "data": {
      "text/plain": [
       "GRanges object with 1251 ranges and 0 metadata columns:\n",
       "         seqnames               ranges strand\n",
       "            <Rle>            <IRanges>  <Rle>\n",
       "     [1]        Y   [2654558, 2655025]      *\n",
       "     [2]        Y   [2655283, 2656016]      *\n",
       "     [3]        Y   [2657115, 2657233]      *\n",
       "     [4]        Y   [2658211, 2658329]      *\n",
       "     [5]        Y   [2660554, 2661015]      *\n",
       "     ...      ...                  ...    ...\n",
       "  [1247]        Y [24484138, 24484256]      *\n",
       "  [1248]        Y [28622412, 28622530]      *\n",
       "  [1249]        Y [28733041, 28733159]      *\n",
       "  [1250]        Y [28771055, 28771173]      *\n",
       "  [1251]        Y [28788582, 28788700]      *\n",
       "  -------\n",
       "  seqinfo: 1 sequence from an unspecified genome; no seqlengths"
      ]
     },
     "execution_count": 26,
     "metadata": {},
     "output_type": "execute_result"
    }
   ],
   "source": [
    "(target_regions <- import.bed(target_regions_file))"
   ]
  },
  {
   "cell_type": "markdown",
   "metadata": {},
   "source": [
    "### Size distribution of target regions (all numbers in bp)"
   ]
  },
  {
   "cell_type": "markdown",
   "metadata": {},
   "source": [
    "Total size:"
   ]
  },
  {
   "cell_type": "code",
   "execution_count": 5,
   "metadata": {
    "collapsed": false
   },
   "outputs": [
    {
     "data": {
      "text/html": [
       "573657"
      ],
      "text/latex": [
       "573657"
      ],
      "text/markdown": [
       "573657"
      ],
      "text/plain": [
       "[1] 573657"
      ]
     },
     "execution_count": 5,
     "metadata": {},
     "output_type": "execute_result"
    }
   ],
   "source": [
    "sum(width(target_regions))"
   ]
  },
  {
   "cell_type": "code",
   "execution_count": 6,
   "metadata": {
    "collapsed": false
   },
   "outputs": [
    {
     "data": {
      "text/plain": [
       "   Min. 1st Qu.  Median    Mean 3rd Qu.    Max. \n",
       "   60.0   119.0   151.0   458.6   820.0  3899.0 "
      ]
     },
     "execution_count": 6,
     "metadata": {},
     "output_type": "execute_result"
    }
   ],
   "source": [
    "summary(width(target_regions))"
   ]
  },
  {
   "cell_type": "code",
   "execution_count": 7,
   "metadata": {
    "collapsed": false,
    "scrolled": false
   },
   "outputs": [
    {
     "data": {
      "image/png": "[encoded data removed]",
      "text/plain": [
       "plot without title"
      ]
     },
     "metadata": {},
     "output_type": "display_data"
    }
   ],
   "source": [
    "qplot(width(target_regions), binwidth=50, xlab=\"length [bp]\", main=\"Distribution of sizes of target regions\")"
   ]
  },
  {
   "cell_type": "code",
   "execution_count": 8,
   "metadata": {
    "collapsed": true
   },
   "outputs": [],
   "source": [
    "get_coverage_info <- function(target_bed_file, bam_file) { \n",
    "    paste(\"bedtools coverage -a\", target_bed_file, \"-b\", bam_file, \"-d\") %>%\n",
    "        pipe %>%\n",
    "        read.table(col.names=c(\"chr\", \"start\", \"end\", \"pos\", \"cvg\")) %>%\n",
    "            makeGRangesFromDataFrame(starts.in.df.are.0based=TRUE, keep.extra.columns=TRUE)\n",
    "}"
   ]
  },
  {
   "cell_type": "markdown",
   "metadata": {},
   "source": [
    "# El Sidron 570kb capture"
   ]
  },
  {
   "cell_type": "code",
   "execution_count": 9,
   "metadata": {
    "collapsed": false
   },
   "outputs": [],
   "source": [
    "sidron_captured_sites <- get_coverage_info(target_regions_file, sidron_bam)"
   ]
  },
  {
   "cell_type": "markdown",
   "metadata": {},
   "source": [
    "### Summary of coverage per site in target regions"
   ]
  },
  {
   "cell_type": "code",
   "execution_count": 10,
   "metadata": {
    "collapsed": false
   },
   "outputs": [
    {
     "data": {
      "text/plain": [
       "   Min. 1st Qu.  Median    Mean 3rd Qu.    Max. \n",
       "  0.000   4.000   8.000   8.426  12.000  53.000 "
      ]
     },
     "execution_count": 10,
     "metadata": {},
     "output_type": "execute_result"
    }
   ],
   "source": [
    "summary(sidron_captured_sites$cvg)"
   ]
  },
  {
   "cell_type": "markdown",
   "metadata": {},
   "source": [
    "### What is the number of bases covered?"
   ]
  },
  {
   "cell_type": "code",
   "execution_count": 11,
   "metadata": {
    "collapsed": false
   },
   "outputs": [
    {
     "data": {
      "text/html": [
       "549351"
      ],
      "text/latex": [
       "549351"
      ],
      "text/markdown": [
       "549351"
      ],
      "text/plain": [
       "[1] 549351"
      ]
     },
     "execution_count": 11,
     "metadata": {},
     "output_type": "execute_result"
    }
   ],
   "source": [
    "length(sidron_captured_sites[sidron_captured_sites$cvg > 0])"
   ]
  },
  {
   "cell_type": "markdown",
   "metadata": {},
   "source": [
    "### What fraction of target regions is covered? (in %)"
   ]
  },
  {
   "cell_type": "code",
   "execution_count": 12,
   "metadata": {
    "collapsed": false
   },
   "outputs": [
    {
     "data": {
      "text/html": [
       "95.762973344699"
      ],
      "text/latex": [
       "95.762973344699"
      ],
      "text/markdown": [
       "95.762973344699"
      ],
      "text/plain": [
       "[1] 95.76297"
      ]
     },
     "execution_count": 12,
     "metadata": {},
     "output_type": "execute_result"
    }
   ],
   "source": [
    "mean(sidron_captured_sites$cvg > 0) * 100"
   ]
  },
  {
   "cell_type": "markdown",
   "metadata": {},
   "source": [
    "### Coverage plot"
   ]
  },
  {
   "cell_type": "code",
   "execution_count": 13,
   "metadata": {
    "collapsed": false,
    "scrolled": false
   },
   "outputs": [
    {
     "data": {
      "image/png": "[encoded data removed]",
      "text/plain": [
       "plot without title"
      ]
     },
     "metadata": {},
     "output_type": "display_data"
    }
   ],
   "source": [
    "qplot(sidron_captured_sites$cvg, binwidth=1, xlab=\"number of reads per site\", main=\"El Sidron coverage distribution\")"
   ]
  },
  {
   "cell_type": "markdown",
   "metadata": {},
   "source": [
    "# Denisova 8"
   ]
  },
  {
   "cell_type": "code",
   "execution_count": 14,
   "metadata": {
    "collapsed": false
   },
   "outputs": [],
   "source": [
    "den8_captured_sites <- get_coverage_info(target_regions_file, den8_bam)"
   ]
  },
  {
   "cell_type": "markdown",
   "metadata": {},
   "source": [
    "### Summary of coverage per site in target regions"
   ]
  },
  {
   "cell_type": "code",
   "execution_count": 15,
   "metadata": {
    "collapsed": false
   },
   "outputs": [
    {
     "data": {
      "text/plain": [
       "   Min. 1st Qu.  Median    Mean 3rd Qu.    Max. \n",
       "0.00000 0.00000 0.00000 0.04115 0.00000 3.00000 "
      ]
     },
     "execution_count": 15,
     "metadata": {},
     "output_type": "execute_result"
    }
   ],
   "source": [
    "summary(den8_captured_sites$cvg)"
   ]
  },
  {
   "cell_type": "markdown",
   "metadata": {},
   "source": [
    "### What is the number of bases covered?"
   ]
  },
  {
   "cell_type": "code",
   "execution_count": 16,
   "metadata": {
    "collapsed": false
   },
   "outputs": [
    {
     "data": {
      "text/html": [
       "22376"
      ],
      "text/latex": [
       "22376"
      ],
      "text/markdown": [
       "22376"
      ],
      "text/plain": [
       "[1] 22376"
      ]
     },
     "execution_count": 16,
     "metadata": {},
     "output_type": "execute_result"
    }
   ],
   "source": [
    "length(den8_captured_sites[den8_captured_sites$cvg > 0])"
   ]
  },
  {
   "cell_type": "markdown",
   "metadata": {},
   "source": [
    "### What fraction of target regions is covered? (in %)"
   ]
  },
  {
   "cell_type": "code",
   "execution_count": 17,
   "metadata": {
    "collapsed": false
   },
   "outputs": [
    {
     "data": {
      "text/html": [
       "3.90058867929791"
      ],
      "text/latex": [
       "3.90058867929791"
      ],
      "text/markdown": [
       "3.90058867929791"
      ],
      "text/plain": [
       "[1] 3.900589"
      ]
     },
     "execution_count": 17,
     "metadata": {},
     "output_type": "execute_result"
    }
   ],
   "source": [
    "mean(den8_captured_sites$cvg > 0) * 100"
   ]
  },
  {
   "cell_type": "markdown",
   "metadata": {},
   "source": [
    "### Coverage plot"
   ]
  },
  {
   "cell_type": "code",
   "execution_count": 18,
   "metadata": {
    "collapsed": false,
    "scrolled": false
   },
   "outputs": [
    {
     "data": {
      "image/png": "[encoded data removed]",
      "text/plain": [
       "plot without title"
      ]
     },
     "metadata": {},
     "output_type": "display_data"
    }
   ],
   "source": [
    "qplot(den8_captured_sites$cvg, binwidth=1, xlab=\"number of reads per site\", main=\"Denisova 8 (ALL) coverage distribution\")"
   ]
  },
  {
   "cell_type": "markdown",
   "metadata": {},
   "source": [
    "# Denisova 8 deam"
   ]
  },
  {
   "cell_type": "code",
   "execution_count": 19,
   "metadata": {
    "collapsed": false
   },
   "outputs": [],
   "source": [
    "den8_deam_captured_sites <- get_coverage_info(target_regions_file, den8_deam_bam)"
   ]
  },
  {
   "cell_type": "markdown",
   "metadata": {},
   "source": [
    "### Summary of coverage per site in target regions"
   ]
  },
  {
   "cell_type": "code",
   "execution_count": 20,
   "metadata": {
    "collapsed": false
   },
   "outputs": [
    {
     "data": {
      "text/plain": [
       "    Min.  1st Qu.   Median     Mean  3rd Qu.     Max. \n",
       "0.000000 0.000000 0.000000 0.007369 0.000000 1.000000 "
      ]
     },
     "execution_count": 20,
     "metadata": {},
     "output_type": "execute_result"
    }
   ],
   "source": [
    "summary(den8_deam_captured_sites$cvg)"
   ]
  },
  {
   "cell_type": "markdown",
   "metadata": {},
   "source": [
    "### What is the number of bases covered?"
   ]
  },
  {
   "cell_type": "code",
   "execution_count": 21,
   "metadata": {
    "collapsed": false
   },
   "outputs": [
    {
     "data": {
      "text/html": [
       "4227"
      ],
      "text/latex": [
       "4227"
      ],
      "text/markdown": [
       "4227"
      ],
      "text/plain": [
       "[1] 4227"
      ]
     },
     "execution_count": 21,
     "metadata": {},
     "output_type": "execute_result"
    }
   ],
   "source": [
    "length(den8_deam_captured_sites[den8_deam_captured_sites$cvg > 0])"
   ]
  },
  {
   "cell_type": "markdown",
   "metadata": {},
   "source": [
    "### What fraction of target regions is covered? (in %)"
   ]
  },
  {
   "cell_type": "code",
   "execution_count": 22,
   "metadata": {
    "collapsed": false
   },
   "outputs": [
    {
     "data": {
      "text/html": [
       "0.736851463505196"
      ],
      "text/latex": [
       "0.736851463505196"
      ],
      "text/markdown": [
       "0.736851463505196"
      ],
      "text/plain": [
       "[1] 0.7368515"
      ]
     },
     "execution_count": 22,
     "metadata": {},
     "output_type": "execute_result"
    }
   ],
   "source": [
    "mean(den8_deam_captured_sites$cvg > 0) * 100"
   ]
  },
  {
   "cell_type": "markdown",
   "metadata": {},
   "source": [
    "### Coverage plot"
   ]
  },
  {
   "cell_type": "code",
   "execution_count": 23,
   "metadata": {
    "collapsed": false,
    "scrolled": false
   },
   "outputs": [
    {
     "data": {
      "image/png": "[encoded data removed]",
      "text/plain": [
       "plot without title"
      ]
     },
     "metadata": {},
     "output_type": "display_data"
    }
   ],
   "source": [
    "qplot(den8_deam_captured_sites$cvg, binwidth=1, xlab=\"number of reads per site\", main=\"Denisova 8 (DEAM ONLY) coverage distribution\")"
   ]
  },
  {
   "cell_type": "markdown",
   "metadata": {},
   "source": [
    "# El Sidron exome"
   ]
  },
  {
   "cell_type": "code",
   "execution_count": 24,
   "metadata": {
    "collapsed": false
   },
   "outputs": [],
   "source": [
    "exome_sidron_captured_sites <- get_coverage_info(target_regions_file, exome_sidron_bam)"
   ]
  },
  {
   "cell_type": "markdown",
   "metadata": {},
   "source": [
    "### Summary of coverage per site in target regions"
   ]
  },
  {
   "cell_type": "code",
   "execution_count": 25,
   "metadata": {
    "collapsed": false
   },
   "outputs": [
    {
     "data": {
      "text/plain": [
       "    Min.  1st Qu.   Median     Mean  3rd Qu.     Max. \n",
       "  0.0000   0.0000   0.0000   0.2158   0.0000 158.0000 "
      ]
     },
     "execution_count": 25,
     "metadata": {},
     "output_type": "execute_result"
    }
   ],
   "source": [
    "summary(exome_sidron_captured_sites$cvg)"
   ]
  },
  {
   "cell_type": "markdown",
   "metadata": {},
   "source": [
    "### What is the number of bases covered?"
   ]
  },
  {
   "cell_type": "code",
   "execution_count": 26,
   "metadata": {
    "collapsed": false
   },
   "outputs": [
    {
     "data": {
      "text/html": [
       "20746"
      ],
      "text/latex": [
       "20746"
      ],
      "text/markdown": [
       "20746"
      ],
      "text/plain": [
       "[1] 20746"
      ]
     },
     "execution_count": 26,
     "metadata": {},
     "output_type": "execute_result"
    }
   ],
   "source": [
    "length(sidron_captured_sites[exome_sidron_captured_sites$cvg > 0])"
   ]
  },
  {
   "cell_type": "markdown",
   "metadata": {},
   "source": [
    "### What fraction of target regions is covered? (in %)"
   ]
  },
  {
   "cell_type": "code",
   "execution_count": 27,
   "metadata": {
    "collapsed": false
   },
   "outputs": [
    {
     "data": {
      "text/html": [
       "3.6164467617409"
      ],
      "text/latex": [
       "3.6164467617409"
      ],
      "text/markdown": [
       "3.6164467617409"
      ],
      "text/plain": [
       "[1] 3.616447"
      ]
     },
     "execution_count": 27,
     "metadata": {},
     "output_type": "execute_result"
    }
   ],
   "source": [
    "mean(exome_sidron_captured_sites$cvg > 0) * 100"
   ]
  },
  {
   "cell_type": "markdown",
   "metadata": {},
   "source": [
    "### Coverage plot"
   ]
  },
  {
   "cell_type": "code",
   "execution_count": 30,
   "metadata": {
    "collapsed": false,
    "scrolled": false
   },
   "outputs": [
    {
     "data": {
      "image/png": "[encoded data removed]",
      "text/plain": [
       "plot without title"
      ]
     },
     "metadata": {},
     "output_type": "display_data"
    }
   ],
   "source": [
    "qplot(exome_sidron_captured_sites$cvg, binwidth=1, xlab=\"number of reads per site\", main=\"El Sidron Y/exome coverage distribution\")"
   ]
  },
  {
   "cell_type": "markdown",
   "metadata": {},
   "source": [
    "### Coverage plot for sites with > 0 coverage"
   ]
  },
  {
   "cell_type": "code",
   "execution_count": 33,
   "metadata": {
    "collapsed": false
   },
   "outputs": [
    {
     "data": {
      "image/png": "[encoded data removed]",
      "text/plain": [
       "plot without title"
      ]
     },
     "metadata": {},
     "output_type": "display_data"
    }
   ],
   "source": [
    "qplot(exome_sidron_captured_sites$cvg[exome_sidron_captured_sites$cvg > 0], binwidth=1, xlim=c(0, 45),\n",
    "      xlab=\"number of reads per site\", main=\"El Sidron Y/exome coverage distribution\")"
   ]
  },
  {
   "cell_type": "code",
   "execution_count": null,
   "metadata": {
    "collapsed": true
   },
   "outputs": [],
   "source": []
  },
  {
   "cell_type": "code",
   "execution_count": null,
   "metadata": {
    "collapsed": true
   },
   "outputs": [],
   "source": []
  },
  {
   "cell_type": "code",
   "execution_count": null,
   "metadata": {
    "collapsed": true
   },
   "outputs": [],
   "source": []
  },
  {
   "cell_type": "code",
   "execution_count": null,
   "metadata": {
    "collapsed": true
   },
   "outputs": [],
   "source": []
  },
  {
   "cell_type": "code",
   "execution_count": null,
   "metadata": {
    "collapsed": true
   },
   "outputs": [],
   "source": []
  },
  {
   "cell_type": "markdown",
   "metadata": {},
   "source": [
    "# Y capture regions from the Lippold et al. 2014 paper"
   ]
  },
  {
   "cell_type": "markdown",
   "metadata": {},
   "source": [
    "paper: http://investigativegenetics.biomedcentral.com/articles/10.1186/2041-2223-5-13\n",
    "\n",
    "XLSX file with coordinates of regions: http://static-content.springer.com/esm/art%3A10.1186%2F2041-2223-5-13/MediaObjects/13323_2014_104_MOESM2_ESM.xlsx"
   ]
  },
  {
   "cell_type": "code",
   "execution_count": 7,
   "metadata": {
    "collapsed": false
   },
   "outputs": [
    {
     "name": "stderr",
     "output_type": "stream",
     "text": [
      "Loading required package: rJava\n",
      "Loading required package: xlsxjars\n"
     ]
    }
   ],
   "source": [
    "library(xlsx)"
   ]
  },
  {
   "cell_type": "code",
   "execution_count": 16,
   "metadata": {
    "collapsed": false
   },
   "outputs": [
    {
     "data": {
      "text/plain": [
       "GRanges object with 655 ranges and 0 metadata columns:\n",
       "        seqnames               ranges strand\n",
       "           <Rle>            <IRanges>  <Rle>\n",
       "    [1]        Y   [2654558, 2655025]      *\n",
       "    [2]        Y   [2655283, 2656016]      *\n",
       "    [3]        Y   [2660554, 2661015]      *\n",
       "    [4]        Y   [2661213, 2661456]      *\n",
       "    [5]        Y   [2661759, 2662110]      *\n",
       "    ...      ...                  ...    ...\n",
       "  [651]        Y [23634463, 23634818]      *\n",
       "  [652]        Y [23766774, 23766892]      *\n",
       "  [653]        Y [23767155, 23767229]      *\n",
       "  [654]        Y [23767320, 23767502]      *\n",
       "  [655]        Y [24441937, 24443041]      *\n",
       "  -------\n",
       "  seqinfo: 1 sequence from an unspecified genome; no seqlengths"
      ]
     },
     "execution_count": 16,
     "metadata": {},
     "output_type": "execute_result"
    }
   ],
   "source": [
    "(basti_targets <-\n",
    "    read.xlsx(\"../13323_2014_104_MOESM2_ESM.xlsx\", sheetIndex=1, startRow=6, colClasses=rep(\"integer\", 3), header=FALSE) %>%\n",
    "    dplyr::select(start=X1, end=X2) %>%\n",
    "    mutate(chr=\"Y\") %>%\n",
    "    select(chr, start, end) %>%\n",
    "    makeGRangesFromDataFrame(starts.in.df.are.0based=TRUE))"
   ]
  },
  {
   "cell_type": "code",
   "execution_count": 17,
   "metadata": {
    "collapsed": false
   },
   "outputs": [
    {
     "data": {
      "text/html": [
       "501108"
      ],
      "text/latex": [
       "501108"
      ],
      "text/markdown": [
       "501108"
      ],
      "text/plain": [
       "[1] 501108"
      ]
     },
     "execution_count": 17,
     "metadata": {},
     "output_type": "execute_result"
    }
   ],
   "source": [
    "sum(width(basti_targets))"
   ]
  },
  {
   "cell_type": "markdown",
   "metadata": {},
   "source": [
    "### What is the length of shared regions between El Sidron Y capture array and Basti's capture?"
   ]
  },
  {
   "cell_type": "code",
   "execution_count": 18,
   "metadata": {
    "collapsed": true
   },
   "outputs": [],
   "source": [
    "shared_regions <- GenomicRanges::intersect(target_regions, basti_targets)"
   ]
  },
  {
   "cell_type": "code",
   "execution_count": 19,
   "metadata": {
    "collapsed": false
   },
   "outputs": [
    {
     "data": {
      "text/html": [
       "501108"
      ],
      "text/latex": [
       "501108"
      ],
      "text/markdown": [
       "501108"
      ],
      "text/plain": [
       "[1] 501108"
      ]
     },
     "execution_count": 19,
     "metadata": {},
     "output_type": "execute_result"
    }
   ],
   "source": [
    "sum(width(shared_regions))"
   ]
  },
  {
   "cell_type": "code",
   "execution_count": 20,
   "metadata": {
    "collapsed": false
   },
   "outputs": [
    {
     "data": {
      "text/html": [
       "87.3532441859857"
      ],
      "text/latex": [
       "87.3532441859857"
      ],
      "text/markdown": [
       "87.3532441859857"
      ],
      "text/plain": [
       "[1] 87.35324"
      ]
     },
     "execution_count": 20,
     "metadata": {},
     "output_type": "execute_result"
    }
   ],
   "source": [
    "sum(width(shared_regions)) / sum(width(target_regions)) * 100"
   ]
  },
  {
   "cell_type": "code",
   "execution_count": 21,
   "metadata": {
    "collapsed": false
   },
   "outputs": [
    {
     "data": {
      "text/html": [
       "100"
      ],
      "text/latex": [
       "100"
      ],
      "text/markdown": [
       "100"
      ],
      "text/plain": [
       "[1] 100"
      ]
     },
     "execution_count": 21,
     "metadata": {},
     "output_type": "execute_result"
    }
   ],
   "source": [
    "sum(width(shared_regions)) / sum(width(basti_targets)) * 100"
   ]
  },
  {
   "cell_type": "markdown",
   "metadata": {},
   "source": [
    "# Basti's original capture design?"
   ]
  },
  {
   "cell_type": "code",
   "execution_count": 31,
   "metadata": {
    "collapsed": true
   },
   "outputs": [],
   "source": [
    "basti_targets2 <- import.bed(\"/mnt/genotyping/sendru/basti_design.bed\")"
   ]
  },
  {
   "cell_type": "code",
   "execution_count": 32,
   "metadata": {
    "collapsed": false
   },
   "outputs": [
    {
     "data": {
      "text/html": [
       "573657"
      ],
      "text/latex": [
       "573657"
      ],
      "text/markdown": [
       "573657"
      ],
      "text/plain": [
       "[1] 573657"
      ]
     },
     "execution_count": 32,
     "metadata": {},
     "output_type": "execute_result"
    }
   ],
   "source": [
    "sum(width(basti_targets2))"
   ]
  },
  {
   "cell_type": "code",
   "execution_count": 33,
   "metadata": {
    "collapsed": true
   },
   "outputs": [],
   "source": [
    "i <- GenomicRanges::intersect(basti_targets, basti_targets2)"
   ]
  },
  {
   "cell_type": "code",
   "execution_count": 34,
   "metadata": {
    "collapsed": false
   },
   "outputs": [
    {
     "data": {
      "text/html": [
       "501108"
      ],
      "text/latex": [
       "501108"
      ],
      "text/markdown": [
       "501108"
      ],
      "text/plain": [
       "[1] 501108"
      ]
     },
     "execution_count": 34,
     "metadata": {},
     "output_type": "execute_result"
    }
   ],
   "source": [
    "sum(width(i))"
   ]
  },
  {
   "cell_type": "raw",
   "metadata": {
    "collapsed": false
   },
   "source": [
    "# /mnt/genotyping/sendru/Chiara/freeze"
   ]
  }
 ],
 "metadata": {
  "kernelspec": {
   "display_name": "R",
   "language": "R",
   "name": "ir"
  },
  "language_info": {
   "codemirror_mode": "r",
   "file_extension": ".r",
   "mimetype": "text/x-r-source",
   "name": "R",
   "pygments_lexer": "r",
   "version": "3.2.0"
  }
 },
 "nbformat": 4,
 "nbformat_minor": 0
}
