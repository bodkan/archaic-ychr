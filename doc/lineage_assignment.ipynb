{
 "cells": [
  {
   "cell_type": "code",
   "execution_count": 1,
   "metadata": {
    "collapsed": true
   },
   "outputs": [],
   "source": [
    "import vcf\n",
    "import pandas as pd\n",
    "import matplotlib.pyplot as plt\n",
    "import seaborn as sns"
   ]
  },
  {
   "cell_type": "code",
   "execution_count": 2,
   "metadata": {
    "collapsed": true
   },
   "outputs": [],
   "source": [
    "%matplotlib inline"
   ]
  },
  {
   "cell_type": "code",
   "execution_count": 4,
   "metadata": {
    "collapsed": false
   },
   "outputs": [],
   "source": [
    "def get_base(sample_id, rec):\n",
    "    return rec.genotype(sample_id).gt_bases\n",
    "\n",
    "def print_matches(sample_name, matches, total):\n",
    "    print('Proportions of matches of {} to different individuals:'.format(sample_name))\n",
    "    print(matches / total)\n",
    "    print('\\ntotal # of sites: ', total, '\\n')"
   ]
  },
  {
   "cell_type": "markdown",
   "metadata": {},
   "source": [
    "<br><br><br><br><br>\n",
    "# All sites from VCF"
   ]
  },
  {
   "cell_type": "markdown",
   "metadata": {},
   "source": [
    "### Using all fragments in Denisova 8"
   ]
  },
  {
   "cell_type": "code",
   "execution_count": 3,
   "metadata": {
    "collapsed": true
   },
   "outputs": [],
   "source": [
    "vcf_reader = vcf.Reader(open('../vcf/merged_all_ontarget.vcf.gz', 'rb'))"
   ]
  },
  {
   "cell_type": "code",
   "execution_count": 6,
   "metadata": {
    "collapsed": false,
    "scrolled": false
   },
   "outputs": [],
   "source": [
    "hum_count, nea_count, humnea_count, = 0, 0, 0\n",
    "hum_tot, nea_tot, humnea_tot = 0, 0, 0\n",
    "\n",
    "for rec in vcf_reader.fetch('Y'):\n",
    "    chimp = get_base('Chimp', rec)\n",
    "    den = get_base('Den8', rec)\n",
    "    nea = get_base('ElSidron', rec)\n",
    "    hum = get_base('HGDP00449', rec)\n",
    "    \n",
    "    # skip sites with missing information in relevant samples\n",
    "    if not (chimp and nea and den and hum): continue\n",
    "    \n",
    "    # Denisova is on human lineage\n",
    "    if hum != (nea == chimp):\n",
    "        hum_tot += 1\n",
    "        if den == hum: hum_count += 1\n",
    "    \n",
    "    # Denisova is on nea lineage\n",
    "    if nea != (hum == chimp):\n",
    "        nea_tot += 1\n",
    "        if den == nea: nea_count += 1\n",
    "    \n",
    "    # Denisova is on shared hum-nea lineage\n",
    "    if (hum == nea) != chimp:\n",
    "        humnea_tot += 1\n",
    "        if den == hum: humnea_count += 1"
   ]
  },
  {
   "cell_type": "code",
   "execution_count": 15,
   "metadata": {
    "collapsed": false
   },
   "outputs": [
    {
     "name": "stdout",
     "output_type": "stream",
     "text": [
      "# of human alleles: 1 out of 6 (16.67%%)\n",
      "# of nea alleles: 1 out of 6 (16.67%%)\n",
      "\n",
      "# of hum-nea alleles: 18942 out of 18985 (99.77%%)\n"
     ]
    }
   ],
   "source": [
    "print('# of human-like alleles: {} out of {} ({:.2%}%)'.format(hum_count, hum_tot, hum_count / hum_tot))\n",
    "print('# of nea-like alleles: {} out of {} ({:.2%}%)'.format(nea_count, nea_tot, nea_count / nea_tot))\n",
    "print()\n",
    "print('# of hum-nea-like alleles: {} out of {} ({:.2%}%)'.format(humnea_count, humnea_tot, humnea_count / humnea_tot))"
   ]
  },
  {
   "cell_type": "markdown",
   "metadata": {},
   "source": [
    "### Using damaged fragments in Denisova 8"
   ]
  },
  {
   "cell_type": "code",
   "execution_count": 17,
   "metadata": {
    "collapsed": false,
    "scrolled": false
   },
   "outputs": [],
   "source": [
    "hum_count, nea_count, humnea_count, = 0, 0, 0\n",
    "hum_tot, nea_tot, humnea_tot = 0, 0, 0\n",
    "\n",
    "for rec in vcf_reader.fetch('Y'):\n",
    "    chimp = get_base('Chimp', rec)\n",
    "    den = get_base('Den8_deam', rec)\n",
    "    nea = get_base('ElSidron', rec)\n",
    "    hum = get_base('HGDP00449', rec)\n",
    "    \n",
    "    # skip sites with missing information in relevant samples\n",
    "    if not (chimp and nea and den and hum): continue\n",
    "    \n",
    "    # Denisova is on human lineage\n",
    "    if hum != (nea == chimp):\n",
    "        hum_tot += 1\n",
    "        if den == hum: hum_count += 1\n",
    "    \n",
    "    # Denisova is on nea lineage\n",
    "    if nea != (hum == chimp):\n",
    "        nea_tot += 1\n",
    "        if den == nea: nea_count += 1\n",
    "    \n",
    "    # Denisova is on shared hum-nea lineage\n",
    "    if (hum == nea) != chimp:\n",
    "        humnea_tot += 1\n",
    "        if den == hum: humnea_count += 1"
   ]
  },
  {
   "cell_type": "code",
   "execution_count": 20,
   "metadata": {
    "collapsed": false
   },
   "outputs": [
    {
     "name": "stdout",
     "output_type": "stream",
     "text": [
      "# of human alleles: 0 out of 0\n",
      "# of nea alleles: 0 out of 0\n",
      "\n",
      "# of hum-nea alleles: 3531 out of 3542\n"
     ]
    }
   ],
   "source": [
    "print('# of human alleles: {} out of {}'.format(hum_count, hum_tot))\n",
    "print('# of nea alleles: {} out of {}'.format(nea_count, nea_tot))\n",
    "print()\n",
    "print('# of hum-nea-like alleles: {} out of {} ({:.2%}%)'.format(humnea_count, humnea_tot, humnea_count / humnea_tot))"
   ]
  },
  {
   "cell_type": "markdown",
   "metadata": {},
   "source": [
    "<br><br><br><br><br>\n",
    "# Only variable sites from VCF"
   ]
  },
  {
   "cell_type": "markdown",
   "metadata": {},
   "source": [
    "### Using all fragments in Denisova 8"
   ]
  },
  {
   "cell_type": "code",
   "execution_count": 21,
   "metadata": {
    "collapsed": true
   },
   "outputs": [],
   "source": [
    "vcf_reader = vcf.Reader(open('../vcf/merged_var_ontarget.vcf.gz', 'rb'))"
   ]
  },
  {
   "cell_type": "code",
   "execution_count": 22,
   "metadata": {
    "collapsed": false,
    "scrolled": false
   },
   "outputs": [],
   "source": [
    "hum_count, nea_count, humnea_count, = 0, 0, 0\n",
    "hum_tot, nea_tot, humnea_tot = 0, 0, 0\n",
    "\n",
    "for rec in vcf_reader.fetch('Y'):\n",
    "    chimp = get_base('Chimp', rec)\n",
    "    den = get_base('Den8', rec)\n",
    "    nea = get_base('ElSidron', rec)\n",
    "    hum = get_base('HGDP00449', rec)\n",
    "    \n",
    "    # skip sites with missing information in relevant samples\n",
    "    if not (chimp and nea and den and hum): continue\n",
    "    \n",
    "    # Denisova is on human lineage\n",
    "    if hum != (nea == chimp):\n",
    "        hum_tot += 1\n",
    "        if den == hum: hum_count += 1\n",
    "    \n",
    "    # Denisova is on nea lineage\n",
    "    if nea != (hum == chimp):\n",
    "        nea_tot += 1\n",
    "        if den == nea: nea_count += 1\n",
    "    \n",
    "    # Denisova is on shared hum-nea lineage\n",
    "    if (hum == nea) != chimp:\n",
    "        humnea_tot += 1\n",
    "        if den == hum: humnea_count += 1"
   ]
  },
  {
   "cell_type": "code",
   "execution_count": 26,
   "metadata": {
    "collapsed": false
   },
   "outputs": [
    {
     "name": "stdout",
     "output_type": "stream",
     "text": [
      "# of human alleles: 0 out of 0\n",
      "# of nea alleles: 0 out of 0\n",
      "\n"
     ]
    },
    {
     "ename": "ZeroDivisionError",
     "evalue": "division by zero",
     "output_type": "error",
     "traceback": [
      "\u001b[1;31m---------------------------------------------------------------------------\u001b[0m",
      "\u001b[1;31mZeroDivisionError\u001b[0m                         Traceback (most recent call last)",
      "\u001b[1;32m<ipython-input-26-e71a484752f2>\u001b[0m in \u001b[0;36m<module>\u001b[1;34m()\u001b[0m\n\u001b[0;32m      2\u001b[0m \u001b[0mprint\u001b[0m\u001b[1;33m(\u001b[0m\u001b[1;34m'# of nea alleles: {} out of {}'\u001b[0m\u001b[1;33m.\u001b[0m\u001b[0mformat\u001b[0m\u001b[1;33m(\u001b[0m\u001b[0mnea_count\u001b[0m\u001b[1;33m,\u001b[0m \u001b[0mnea_tot\u001b[0m\u001b[1;33m)\u001b[0m\u001b[1;33m)\u001b[0m\u001b[1;33m\u001b[0m\u001b[0m\n\u001b[0;32m      3\u001b[0m \u001b[0mprint\u001b[0m\u001b[1;33m(\u001b[0m\u001b[1;33m)\u001b[0m\u001b[1;33m\u001b[0m\u001b[0m\n\u001b[1;32m----> 4\u001b[1;33m \u001b[0mprint\u001b[0m\u001b[1;33m(\u001b[0m\u001b[1;34m'# of hum-nea-lile alleles: {} out of {} ({:.2%}%)'\u001b[0m\u001b[1;33m.\u001b[0m\u001b[0mformat\u001b[0m\u001b[1;33m(\u001b[0m\u001b[0mhumnea_count\u001b[0m\u001b[1;33m,\u001b[0m \u001b[0mhumnea_tot\u001b[0m\u001b[1;33m,\u001b[0m \u001b[0mhumnea_count\u001b[0m \u001b[1;33m/\u001b[0m \u001b[0mhumnea_tot\u001b[0m\u001b[1;33m)\u001b[0m\u001b[1;33m)\u001b[0m\u001b[1;33m\u001b[0m\u001b[0m\n\u001b[0m",
      "\u001b[1;31mZeroDivisionError\u001b[0m: division by zero"
     ]
    }
   ],
   "source": [
    "print('# of human alleles: {} out of {}'.format(hum_count, hum_tot))\n",
    "print('# of nea alleles: {} out of {}'.format(nea_count, nea_tot))\n",
    "print()\n",
    "print('# of hum-nea-like alleles: {} out of {} ({:.2%}%)'.format(humnea_count, humnea_tot, humnea_count / humnea_tot))"
   ]
  },
  {
   "cell_type": "markdown",
   "metadata": {},
   "source": [
    "### Using damaged fragments in Denisova 8"
   ]
  },
  {
   "cell_type": "code",
   "execution_count": 24,
   "metadata": {
    "collapsed": false,
    "scrolled": false
   },
   "outputs": [],
   "source": [
    "hum_count, nea_count, humnea_count, = 0, 0, 0\n",
    "hum_tot, nea_tot, humnea_tot = 0, 0, 0\n",
    "\n",
    "for rec in vcf_reader.fetch('Y'):\n",
    "    chimp = get_base('Chimp', rec)\n",
    "    den = get_base('Den8_deam', rec)\n",
    "    nea = get_base('ElSidron', rec)\n",
    "    hum = get_base('HGDP00449', rec)\n",
    "    \n",
    "    # skip sites with missing information in relevant samples\n",
    "    if not (chimp and nea and den and hum): continue\n",
    "    \n",
    "    # Denisova is on human lineage\n",
    "    if hum != (nea == chimp):\n",
    "        hum_tot += 1\n",
    "        if den == hum: hum_count += 1\n",
    "    \n",
    "    # Denisova is on nea lineage\n",
    "    if nea != (hum == chimp):\n",
    "        nea_tot += 1\n",
    "        if den == nea: nea_count += 1\n",
    "    \n",
    "    # Denisova is on shared hum-nea lineage\n",
    "    if (hum == nea) != chimp:\n",
    "        humnea_tot += 1\n",
    "        if den == hum: humnea_count += 1"
   ]
  },
  {
   "cell_type": "code",
   "execution_count": 25,
   "metadata": {
    "collapsed": false
   },
   "outputs": [
    {
     "name": "stdout",
     "output_type": "stream",
     "text": [
      "# of human alleles: 0 out of 0\n",
      "# of nea alleles: 0 out of 0\n",
      "\n",
      "# of hum-nea alleles: 0 out of 0\n"
     ]
    }
   ],
   "source": [
    "print('# of human alleles: {} out of {}'.format(hum_count, hum_tot))\n",
    "print('# of nea alleles: {} out of {}'.format(nea_count, nea_tot))\n",
    "print()\n",
    "print('# of hum-nea-like alleles: {} out of {}'.format(humnea_count, humnea_tot))"
   ]
  },
  {
   "cell_type": "code",
   "execution_count": null,
   "metadata": {
    "collapsed": true
   },
   "outputs": [],
   "source": []
  }
 ],
 "metadata": {
  "kernelspec": {
   "display_name": "Python 3",
   "language": "python",
   "name": "python3"
  },
  "language_info": {
   "codemirror_mode": {
    "name": "ipython",
    "version": 3
   },
   "file_extension": ".py",
   "mimetype": "text/x-python",
   "name": "python",
   "nbconvert_exporter": "python",
   "pygments_lexer": "ipython3",
   "version": "3.5.1"
  }
 },
 "nbformat": 4,
 "nbformat_minor": 0
}
