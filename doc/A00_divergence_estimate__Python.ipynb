{
 "cells": [
  {
   "cell_type": "markdown",
   "metadata": {},
   "source": [
    "# Maximum likelihood estimate of A00 divergence time using Ust'-Ishim\n",
    "\n",
    "Using method described by Mendez et al. 2016:\n",
    "\n",
    "> Using the known age of the Ust’-Ishim individual and the constrained optimization procedure described in Rasmussen et al., we obtained parametric bootstrap estimates for $T_{AR}$ as well as for the mutation rate and the TMRCA of haplogroup K-M526 (Appendix A).\n",
    "\n",
    "> Briefly, we sampled from the process that generated the observed tree (Figure S2) by simulating the number of single nucleotide variants (SNVs) on each branch as a Poisson draw with mean equal to the observed number of mutations. To obtain bootstrap samples of the three parameters, we maximized their joint likelihood for each tree replicate.\n",
    "\n",
    "From Rasmussen et al 2014:\n",
    "\n",
    "> [...] we implemented a Poisson process model for mutations on the tree and used the `constrOptim()` function in R to compute a maximum likelihood TMRCA estimate of 16.9 ky. We then repeated this for 100,000 bootstrap simulations to yield a 95% confidence interval."
   ]
  },
  {
   "cell_type": "code",
   "execution_count": 22,
   "metadata": {
    "collapsed": false
   },
   "outputs": [],
   "source": [
    "import numpy as np"
   ]
  },
  {
   "cell_type": "code",
   "execution_count": 149,
   "metadata": {
    "collapsed": true
   },
   "outputs": [],
   "source": [
    "import pandas as pd"
   ]
  },
  {
   "cell_type": "code",
   "execution_count": 24,
   "metadata": {
    "collapsed": false
   },
   "outputs": [],
   "source": [
    "from scipy import stats\n",
    "from scipy import optimize"
   ]
  },
  {
   "cell_type": "code",
   "execution_count": 25,
   "metadata": {
    "collapsed": true
   },
   "outputs": [],
   "source": [
    "# total length of the analyzed segment (bp)\n",
    "LENGTH = 7830000\n",
    "\n",
    "# known age of Ust'-Ishim (years ago)\n",
    "UST_ISHIM_AGE = 45000\n",
    "\n",
    "# counts of mutations on branches observed from the data\n",
    "OBSERVED_COUNTS = {'a' : 1434, 'd' : 305, 'e' : 19, 'f' : 1591}"
   ]
  },
  {
   "cell_type": "code",
   "execution_count": 26,
   "metadata": {
    "collapsed": true
   },
   "outputs": [],
   "source": [
    "def sample_mutations(branch):\n",
    "    '''Sample mutations on a given branch from a Poisson distribution\n",
    "    with a mean equal to the observed count on that branch.\n",
    "    '''\n",
    "    return stats.poisson.rvs(mu=OBSERVED_COUNTS[branch])"
   ]
  },
  {
   "cell_type": "code",
   "execution_count": 27,
   "metadata": {
    "collapsed": true
   },
   "outputs": [],
   "source": [
    "def branch_loglikelihood(mutation_rate, branch_time, sampled_count):\n",
    "    '''Log-probability of observing a specified number of mutations on\n",
    "    a branch of a tree given the mutation rate and time.\n",
    "    '''\n",
    "    return stats.poisson.logpmf(k=sampled_count, mu=int(mutation_rate * branch_time * LENGTH))"
   ]
  },
  {
   "cell_type": "code",
   "execution_count": 165,
   "metadata": {
    "collapsed": false
   },
   "outputs": [],
   "source": [
    "def optim_func(x, sampled_counts):\n",
    "    '''Function that needs to be optimized.\n",
    "    \n",
    "    This is just a sum of the four log-likelihood functions, each for one\n",
    "    of the four branches in a tree.\n",
    "    '''\n",
    "    mutation_rate, branch_time_a, branch_time_d, branch_time_f = x\n",
    "    \n",
    "    return -(branch_loglikelihood(mutation_rate, branch_time_a, sampled_counts['a']) + \\\n",
    "             branch_loglikelihood(mutation_rate, branch_time_d, sampled_counts['d']) + \\\n",
    "             branch_loglikelihood(mutation_rate, UST_ISHIM_AGE, sampled_counts['d'] - sampled_counts['e']) + \\\n",
    "             branch_loglikelihood(mutation_rate, branch_time_f, sampled_counts['f']))"
   ]
  },
  {
   "cell_type": "code",
   "execution_count": 155,
   "metadata": {
    "collapsed": true
   },
   "outputs": [],
   "source": [
    "def direct_estimation(mutation_counts):\n",
    "    '''Calculate the estimates of the mutation rate and times of all branches\n",
    "    by simple cross-multiplication.\n",
    "    '''\n",
    "    x = (mutation_counts['d'] - OBSERVED_COUNTS['e']) / UST_ISHIM_AGE\n",
    "    \n",
    "    return pd.Series([x / LENGTH] + [mutation_counts[branch] / x for branch in 'adf'],\n",
    "                     index=['mutation_rate', 'a', 'd', 'f'])"
   ]
  },
  {
   "cell_type": "code",
   "execution_count": 50,
   "metadata": {
    "collapsed": true
   },
   "outputs": [],
   "source": [
    "def print_optim_result(res):\n",
    "    '''Print result of the optimization procedure (one row of a dataframe).'''\n",
    "    fmt_str = '\\u00B5: {:.5}\\ta: {:.1f}\\td: {:.1f}\\tf: {:.1f}\\t(a+d): {:.1f} \\tmean(a+d, f): {:.1f}'\n",
    "    print(fmt_str.format(res.mutation_rate,\n",
    "                         res.a,\n",
    "                         res.d,\n",
    "                         res.f,\n",
    "                         res.a + res.d,\n",
    "                         np.mean([res.a + res.d, res.f])))"
   ]
  },
  {
   "cell_type": "code",
   "execution_count": 51,
   "metadata": {
    "collapsed": true
   },
   "outputs": [],
   "source": [
    "def ci_95(x):\n",
    "    return stats.norm.interval(0.95, loc=np.mean(x), scale=np.std(x)/np.sqrt(len(x)))"
   ]
  },
  {
   "cell_type": "markdown",
   "metadata": {},
   "source": [
    "# Generating trees by modeling mutation counts from a Poisson distribution\n",
    "The time on the branch leading to Ust'-Ishim is not estimated. Instead, it is expressed as time leading to the human reference - 45,000 years ago."
   ]
  },
  {
   "cell_type": "code",
   "execution_count": 67,
   "metadata": {
    "collapsed": true
   },
   "outputs": [],
   "source": [
    "num_replicates = 10000"
   ]
  },
  {
   "cell_type": "markdown",
   "metadata": {},
   "source": [
    "### Initial conditions for the optimization algorithm:"
   ]
  },
  {
   "cell_type": "code",
   "execution_count": 68,
   "metadata": {
    "collapsed": true
   },
   "outputs": [],
   "source": [
    "x0 = (\n",
    "    7e-5,  # mutation rate\n",
    "    100000, # time on branch a\n",
    "    100000, # time on branch d\n",
    "    100000  # time on branch f\n",
    ")"
   ]
  },
  {
   "cell_type": "code",
   "execution_count": 69,
   "metadata": {
    "collapsed": true
   },
   "outputs": [],
   "source": [
    "# dataframe to accumulate results of sampling in\n",
    "mle_results = pd.DataFrame(columns=['mutation_rate', 'a', 'd', 'f'],\n",
    "                          index=range(num_replicates),\n",
    "                          dtype=float)"
   ]
  },
  {
   "cell_type": "code",
   "execution_count": 70,
   "metadata": {
    "collapsed": false
   },
   "outputs": [],
   "source": [
    "for i in range(num_replicates):\n",
    "    sampled_counts = {branch : sample_mutations(branch) for branch in 'adef'}\n",
    "    mle_results.iloc[i] = optimize.minimize(optim_func1, x0, args=sampled_counts,\n",
    "                                            method='Nelder-Mead').x\n",
    "    # print_optim_result(results.iloc[i])"
   ]
  },
  {
   "cell_type": "code",
   "execution_count": 71,
   "metadata": {
    "collapsed": false
   },
   "outputs": [],
   "source": [
    "mle_results['a+d'] = mle_results['a'] + mle_results['d']"
   ]
  },
  {
   "cell_type": "code",
   "execution_count": 72,
   "metadata": {
    "collapsed": false,
    "scrolled": true
   },
   "outputs": [
    {
     "data": {
      "text/html": [
       "<div>\n",
       "<table border=\"1\" class=\"dataframe\">\n",
       "  <thead>\n",
       "    <tr style=\"text-align: right;\">\n",
       "      <th></th>\n",
       "      <th>mutation_rate</th>\n",
       "      <th>a</th>\n",
       "      <th>d</th>\n",
       "      <th>f</th>\n",
       "      <th>a+d</th>\n",
       "    </tr>\n",
       "  </thead>\n",
       "  <tbody>\n",
       "    <tr>\n",
       "      <th>count</th>\n",
       "      <td>1.000000e+04</td>\n",
       "      <td>10000.000000</td>\n",
       "      <td>10000.000000</td>\n",
       "      <td>10000.000000</td>\n",
       "      <td>10000.000000</td>\n",
       "    </tr>\n",
       "    <tr>\n",
       "      <th>mean</th>\n",
       "      <td>1.024810e-09</td>\n",
       "      <td>133612.054090</td>\n",
       "      <td>103949.346780</td>\n",
       "      <td>120967.646317</td>\n",
       "      <td>237561.400870</td>\n",
       "    </tr>\n",
       "    <tr>\n",
       "      <th>std</th>\n",
       "      <td>1.808750e-11</td>\n",
       "      <td>684.032017</td>\n",
       "      <td>3.363692</td>\n",
       "      <td>684.011205</td>\n",
       "      <td>684.007951</td>\n",
       "    </tr>\n",
       "    <tr>\n",
       "      <th>min</th>\n",
       "      <td>9.529377e-10</td>\n",
       "      <td>120929.635605</td>\n",
       "      <td>103942.575369</td>\n",
       "      <td>120929.309131</td>\n",
       "      <td>224873.775408</td>\n",
       "    </tr>\n",
       "    <tr>\n",
       "      <th>25%</th>\n",
       "      <td>1.015960e-09</td>\n",
       "      <td>133640.605200</td>\n",
       "      <td>103946.358052</td>\n",
       "      <td>120930.233508</td>\n",
       "      <td>237592.434582</td>\n",
       "    </tr>\n",
       "    <tr>\n",
       "      <th>50%</th>\n",
       "      <td>1.024686e-09</td>\n",
       "      <td>133650.854118</td>\n",
       "      <td>103948.694881</td>\n",
       "      <td>120930.351307</td>\n",
       "      <td>237599.396957</td>\n",
       "    </tr>\n",
       "    <tr>\n",
       "      <th>75%</th>\n",
       "      <td>1.033247e-09</td>\n",
       "      <td>133659.025314</td>\n",
       "      <td>103951.594908</td>\n",
       "      <td>120930.736803</td>\n",
       "      <td>237605.545313</td>\n",
       "    </tr>\n",
       "    <tr>\n",
       "      <th>max</th>\n",
       "      <td>1.093423e-09</td>\n",
       "      <td>133673.222641</td>\n",
       "      <td>103959.087455</td>\n",
       "      <td>133670.974999</td>\n",
       "      <td>237615.798009</td>\n",
       "    </tr>\n",
       "  </tbody>\n",
       "</table>\n",
       "</div>"
      ],
      "text/plain": [
       "       mutation_rate              a              d              f  \\\n",
       "count   1.000000e+04   10000.000000   10000.000000   10000.000000   \n",
       "mean    1.024810e-09  133612.054090  103949.346780  120967.646317   \n",
       "std     1.808750e-11     684.032017       3.363692     684.011205   \n",
       "min     9.529377e-10  120929.635605  103942.575369  120929.309131   \n",
       "25%     1.015960e-09  133640.605200  103946.358052  120930.233508   \n",
       "50%     1.024686e-09  133650.854118  103948.694881  120930.351307   \n",
       "75%     1.033247e-09  133659.025314  103951.594908  120930.736803   \n",
       "max     1.093423e-09  133673.222641  103959.087455  133670.974999   \n",
       "\n",
       "                 a+d  \n",
       "count   10000.000000  \n",
       "mean   237561.400870  \n",
       "std       684.007951  \n",
       "min    224873.775408  \n",
       "25%    237592.434582  \n",
       "50%    237599.396957  \n",
       "75%    237605.545313  \n",
       "max    237615.798009  "
      ]
     },
     "execution_count": 72,
     "metadata": {},
     "output_type": "execute_result"
    }
   ],
   "source": [
    "mle_results.describe()"
   ]
  },
  {
   "cell_type": "markdown",
   "metadata": {},
   "source": [
    "### Initial conditions for the optimization algorithm:"
   ]
  },
  {
   "cell_type": "code",
   "execution_count": 78,
   "metadata": {
    "collapsed": true
   },
   "outputs": [],
   "source": [
    "x0 = (\n",
    "    7.8e-10,   # mutation rate\n",
    "    100000, # time on branch a\n",
    "    100000, # time on branch d\n",
    "    100000  # time on branch f\n",
    ")"
   ]
  },
  {
   "cell_type": "code",
   "execution_count": 79,
   "metadata": {
    "collapsed": true
   },
   "outputs": [],
   "source": [
    "# dataframe to accumulate results of sampling in\n",
    "mle_results = pd.DataFrame(columns=['mutation_rate', 'a', 'd', 'f'],\n",
    "                           index=range(num_replicates),\n",
    "                           dtype=float)"
   ]
  },
  {
   "cell_type": "code",
   "execution_count": 80,
   "metadata": {
    "collapsed": false
   },
   "outputs": [],
   "source": [
    "for i in range(num_replicates):\n",
    "    sampled_counts = {branch : sample_mutations(branch) for branch in 'adef'}\n",
    "    mle_results.iloc[i] = optimize.minimize(optim_func1, x0, args=sampled_counts,\n",
    "                                            method='Nelder-Mead').x\n",
    "    # print_optim_result(results.iloc[i])"
   ]
  },
  {
   "cell_type": "code",
   "execution_count": 81,
   "metadata": {
    "collapsed": false
   },
   "outputs": [],
   "source": [
    "mle_results['a+d'] = mle_results['a'] + mle_results['d']"
   ]
  },
  {
   "cell_type": "code",
   "execution_count": 82,
   "metadata": {
    "collapsed": false
   },
   "outputs": [
    {
     "data": {
      "text/html": [
       "<div>\n",
       "<table border=\"1\" class=\"dataframe\">\n",
       "  <thead>\n",
       "    <tr style=\"text-align: right;\">\n",
       "      <th></th>\n",
       "      <th>mutation_rate</th>\n",
       "      <th>a</th>\n",
       "      <th>d</th>\n",
       "      <th>f</th>\n",
       "      <th>a+d</th>\n",
       "    </tr>\n",
       "  </thead>\n",
       "  <tbody>\n",
       "    <tr>\n",
       "      <th>count</th>\n",
       "      <td>1.000000e+04</td>\n",
       "      <td>10000.000000</td>\n",
       "      <td>10000.000000</td>\n",
       "      <td>10000.000000</td>\n",
       "      <td>10000.000000</td>\n",
       "    </tr>\n",
       "    <tr>\n",
       "      <th>mean</th>\n",
       "      <td>1.196351e-09</td>\n",
       "      <td>157698.653380</td>\n",
       "      <td>46658.267649</td>\n",
       "      <td>163066.737894</td>\n",
       "      <td>204356.921029</td>\n",
       "    </tr>\n",
       "    <tr>\n",
       "      <th>std</th>\n",
       "      <td>8.634518e-11</td>\n",
       "      <td>15878.901719</td>\n",
       "      <td>550.225229</td>\n",
       "      <td>18701.663389</td>\n",
       "      <td>16268.369357</td>\n",
       "    </tr>\n",
       "    <tr>\n",
       "      <th>min</th>\n",
       "      <td>6.536203e-10</td>\n",
       "      <td>120419.360414</td>\n",
       "      <td>45423.218251</td>\n",
       "      <td>134062.693590</td>\n",
       "      <td>167140.739471</td>\n",
       "    </tr>\n",
       "    <tr>\n",
       "      <th>25%</th>\n",
       "      <td>1.188600e-09</td>\n",
       "      <td>150175.007877</td>\n",
       "      <td>46353.585574</td>\n",
       "      <td>156922.667377</td>\n",
       "      <td>196629.817454</td>\n",
       "    </tr>\n",
       "    <tr>\n",
       "      <th>50%</th>\n",
       "      <td>1.208811e-09</td>\n",
       "      <td>155131.642320</td>\n",
       "      <td>46547.815800</td>\n",
       "      <td>159354.103337</td>\n",
       "      <td>201706.246694</td>\n",
       "    </tr>\n",
       "    <tr>\n",
       "      <th>75%</th>\n",
       "      <td>1.231468e-09</td>\n",
       "      <td>160209.583796</td>\n",
       "      <td>46885.230339</td>\n",
       "      <td>161833.213275</td>\n",
       "      <td>206870.822515</td>\n",
       "    </tr>\n",
       "    <tr>\n",
       "      <th>max</th>\n",
       "      <td>1.432944e-09</td>\n",
       "      <td>285401.691139</td>\n",
       "      <td>51269.614505</td>\n",
       "      <td>299019.871787</td>\n",
       "      <td>336671.305644</td>\n",
       "    </tr>\n",
       "  </tbody>\n",
       "</table>\n",
       "</div>"
      ],
      "text/plain": [
       "       mutation_rate              a             d              f  \\\n",
       "count   1.000000e+04   10000.000000  10000.000000   10000.000000   \n",
       "mean    1.196351e-09  157698.653380  46658.267649  163066.737894   \n",
       "std     8.634518e-11   15878.901719    550.225229   18701.663389   \n",
       "min     6.536203e-10  120419.360414  45423.218251  134062.693590   \n",
       "25%     1.188600e-09  150175.007877  46353.585574  156922.667377   \n",
       "50%     1.208811e-09  155131.642320  46547.815800  159354.103337   \n",
       "75%     1.231468e-09  160209.583796  46885.230339  161833.213275   \n",
       "max     1.432944e-09  285401.691139  51269.614505  299019.871787   \n",
       "\n",
       "                 a+d  \n",
       "count   10000.000000  \n",
       "mean   204356.921029  \n",
       "std     16268.369357  \n",
       "min    167140.739471  \n",
       "25%    196629.817454  \n",
       "50%    201706.246694  \n",
       "75%    206870.822515  \n",
       "max    336671.305644  "
      ]
     },
     "execution_count": 82,
     "metadata": {},
     "output_type": "execute_result"
    }
   ],
   "source": [
    "mle_results.describe()"
   ]
  },
  {
   "cell_type": "markdown",
   "metadata": {},
   "source": [
    "### Initial conditions for the optimization algorithm:"
   ]
  },
  {
   "cell_type": "code",
   "execution_count": 73,
   "metadata": {
    "collapsed": true
   },
   "outputs": [],
   "source": [
    "x0 = (\n",
    "    7e-5,  # mutation rate\n",
    "    100000, # time on branch a\n",
    "    100000, # time on branch d\n",
    "    100000  # time on branch f\n",
    ")"
   ]
  },
  {
   "cell_type": "code",
   "execution_count": 74,
   "metadata": {
    "collapsed": true
   },
   "outputs": [],
   "source": [
    "# dataframe to accumulate results of sampling in\n",
    "mle_results = pd.DataFrame(columns=['mutation_rate', 'a', 'd', 'f'],\n",
    "                           index=range(num_replicates),\n",
    "                           dtype=float)"
   ]
  },
  {
   "cell_type": "code",
   "execution_count": 75,
   "metadata": {
    "collapsed": false
   },
   "outputs": [],
   "source": [
    "for i in range(num_replicates):\n",
    "    sampled_counts = {branch : sample_mutations(branch) for branch in 'adef'}\n",
    "    mle_results.iloc[i] = optimize.minimize(optim_func, x0, args=sampled_counts,\n",
    "                                            method='Nelder-Mead').x\n",
    "    # print_optim_result(results.iloc[i])"
   ]
  },
  {
   "cell_type": "code",
   "execution_count": 76,
   "metadata": {
    "collapsed": false
   },
   "outputs": [],
   "source": [
    "mle_results['a+d'] = mle_results['a'] + mle_results['d']"
   ]
  },
  {
   "cell_type": "code",
   "execution_count": 77,
   "metadata": {
    "collapsed": false,
    "scrolled": true
   },
   "outputs": [
    {
     "data": {
      "text/html": [
       "<div>\n",
       "<table border=\"1\" class=\"dataframe\">\n",
       "  <thead>\n",
       "    <tr style=\"text-align: right;\">\n",
       "      <th></th>\n",
       "      <th>mutation_rate</th>\n",
       "      <th>a</th>\n",
       "      <th>d</th>\n",
       "      <th>f</th>\n",
       "      <th>a+d</th>\n",
       "    </tr>\n",
       "  </thead>\n",
       "  <tbody>\n",
       "    <tr>\n",
       "      <th>count</th>\n",
       "      <td>1.000000e+04</td>\n",
       "      <td>10000.000000</td>\n",
       "      <td>10000.000000</td>\n",
       "      <td>10000.000000</td>\n",
       "      <td>10000.000000</td>\n",
       "    </tr>\n",
       "    <tr>\n",
       "      <th>mean</th>\n",
       "      <td>1.144602e-09</td>\n",
       "      <td>133615.920383</td>\n",
       "      <td>103950.074009</td>\n",
       "      <td>120952.352750</td>\n",
       "      <td>237565.994392</td>\n",
       "    </tr>\n",
       "    <tr>\n",
       "      <th>std</th>\n",
       "      <td>2.161650e-11</td>\n",
       "      <td>553.691483</td>\n",
       "      <td>2.684890</td>\n",
       "      <td>553.310926</td>\n",
       "      <td>553.580119</td>\n",
       "    </tr>\n",
       "    <tr>\n",
       "      <th>min</th>\n",
       "      <td>1.063822e-09</td>\n",
       "      <td>120927.358622</td>\n",
       "      <td>103934.858369</td>\n",
       "      <td>120927.217143</td>\n",
       "      <td>224874.426244</td>\n",
       "    </tr>\n",
       "    <tr>\n",
       "      <th>25%</th>\n",
       "      <td>1.131495e-09</td>\n",
       "      <td>133632.807942</td>\n",
       "      <td>103948.813628</td>\n",
       "      <td>120927.758017</td>\n",
       "      <td>237584.840336</td>\n",
       "    </tr>\n",
       "    <tr>\n",
       "      <th>50%</th>\n",
       "      <td>1.145002e-09</td>\n",
       "      <td>133638.291030</td>\n",
       "      <td>103950.648775</td>\n",
       "      <td>120928.074945</td>\n",
       "      <td>237589.037348</td>\n",
       "    </tr>\n",
       "    <tr>\n",
       "      <th>75%</th>\n",
       "      <td>1.159657e-09</td>\n",
       "      <td>133644.836217</td>\n",
       "      <td>103952.032395</td>\n",
       "      <td>120928.516583</td>\n",
       "      <td>237593.649256</td>\n",
       "    </tr>\n",
       "    <tr>\n",
       "      <th>max</th>\n",
       "      <td>1.235816e-09</td>\n",
       "      <td>133694.414492</td>\n",
       "      <td>103955.674846</td>\n",
       "      <td>133651.624638</td>\n",
       "      <td>237629.272861</td>\n",
       "    </tr>\n",
       "  </tbody>\n",
       "</table>\n",
       "</div>"
      ],
      "text/plain": [
       "       mutation_rate              a              d              f  \\\n",
       "count   1.000000e+04   10000.000000   10000.000000   10000.000000   \n",
       "mean    1.144602e-09  133615.920383  103950.074009  120952.352750   \n",
       "std     2.161650e-11     553.691483       2.684890     553.310926   \n",
       "min     1.063822e-09  120927.358622  103934.858369  120927.217143   \n",
       "25%     1.131495e-09  133632.807942  103948.813628  120927.758017   \n",
       "50%     1.145002e-09  133638.291030  103950.648775  120928.074945   \n",
       "75%     1.159657e-09  133644.836217  103952.032395  120928.516583   \n",
       "max     1.235816e-09  133694.414492  103955.674846  133651.624638   \n",
       "\n",
       "                 a+d  \n",
       "count   10000.000000  \n",
       "mean   237565.994392  \n",
       "std       553.580119  \n",
       "min    224874.426244  \n",
       "25%    237584.840336  \n",
       "50%    237589.037348  \n",
       "75%    237593.649256  \n",
       "max    237629.272861  "
      ]
     },
     "execution_count": 77,
     "metadata": {},
     "output_type": "execute_result"
    }
   ],
   "source": [
    "mle_results.describe()"
   ]
  },
  {
   "cell_type": "markdown",
   "metadata": {},
   "source": [
    "### Initial conditions for the optimization algorithm:"
   ]
  },
  {
   "cell_type": "code",
   "execution_count": 83,
   "metadata": {
    "collapsed": true
   },
   "outputs": [],
   "source": [
    "x0 = (\n",
    "    7.8e-10,   # mutation rate\n",
    "    100000, # time on branch a\n",
    "    100000, # time on branch d\n",
    "    100000  # time on branch f\n",
    ")"
   ]
  },
  {
   "cell_type": "code",
   "execution_count": 84,
   "metadata": {
    "collapsed": true
   },
   "outputs": [],
   "source": [
    "# dataframe to accumulate results of sampling in\n",
    "mle_results = DataFrame(columns=['mutation_rate', 'a', 'd', 'f'],\n",
    "                        index=range(num_replicates),\n",
    "                        dtype=float)"
   ]
  },
  {
   "cell_type": "code",
   "execution_count": 85,
   "metadata": {
    "collapsed": false
   },
   "outputs": [],
   "source": [
    "for i in range(num_replicates):\n",
    "    sampled_counts = {branch : sample_mutations(branch) for branch in 'adef'}\n",
    "    mle_results.iloc[i] = optimize.minimize(optim_func, x0, args=sampled_counts,\n",
    "                                            method='Nelder-Mead').x\n",
    "    # print_optim_result(results.iloc[i])"
   ]
  },
  {
   "cell_type": "code",
   "execution_count": 86,
   "metadata": {
    "collapsed": false
   },
   "outputs": [],
   "source": [
    "mle_results['a+d'] = mle_results['a'] + mle_results['d']"
   ]
  },
  {
   "cell_type": "code",
   "execution_count": 90,
   "metadata": {
    "collapsed": false
   },
   "outputs": [
    {
     "data": {
      "text/html": [
       "<div>\n",
       "<table border=\"1\" class=\"dataframe\">\n",
       "  <thead>\n",
       "    <tr style=\"text-align: right;\">\n",
       "      <th></th>\n",
       "      <th>mutation_rate</th>\n",
       "      <th>a</th>\n",
       "      <th>d</th>\n",
       "      <th>f</th>\n",
       "      <th>a+d</th>\n",
       "    </tr>\n",
       "  </thead>\n",
       "  <tbody>\n",
       "    <tr>\n",
       "      <th>count</th>\n",
       "      <td>1.000000e+04</td>\n",
       "      <td>10000.000000</td>\n",
       "      <td>10000.000000</td>\n",
       "      <td>10000.000000</td>\n",
       "      <td>10000.000000</td>\n",
       "    </tr>\n",
       "    <tr>\n",
       "      <th>mean</th>\n",
       "      <td>8.128490e-10</td>\n",
       "      <td>226385.369699</td>\n",
       "      <td>47986.979620</td>\n",
       "      <td>251135.615604</td>\n",
       "      <td>274372.349319</td>\n",
       "    </tr>\n",
       "    <tr>\n",
       "      <th>std</th>\n",
       "      <td>5.318047e-11</td>\n",
       "      <td>15844.012245</td>\n",
       "      <td>1039.900221</td>\n",
       "      <td>17282.954313</td>\n",
       "      <td>16343.609478</td>\n",
       "    </tr>\n",
       "    <tr>\n",
       "      <th>min</th>\n",
       "      <td>6.314286e-10</td>\n",
       "      <td>113142.767739</td>\n",
       "      <td>21651.861321</td>\n",
       "      <td>130048.034541</td>\n",
       "      <td>134794.629060</td>\n",
       "    </tr>\n",
       "    <tr>\n",
       "      <th>50%</th>\n",
       "      <td>8.116688e-10</td>\n",
       "      <td>225784.848911</td>\n",
       "      <td>47955.585081</td>\n",
       "      <td>250470.507409</td>\n",
       "      <td>273729.482092</td>\n",
       "    </tr>\n",
       "    <tr>\n",
       "      <th>max</th>\n",
       "      <td>1.416153e-09</td>\n",
       "      <td>302396.416621</td>\n",
       "      <td>51473.873611</td>\n",
       "      <td>332056.285984</td>\n",
       "      <td>352054.033677</td>\n",
       "    </tr>\n",
       "  </tbody>\n",
       "</table>\n",
       "</div>"
      ],
      "text/plain": [
       "       mutation_rate              a             d              f  \\\n",
       "count   1.000000e+04   10000.000000  10000.000000   10000.000000   \n",
       "mean    8.128490e-10  226385.369699  47986.979620  251135.615604   \n",
       "std     5.318047e-11   15844.012245   1039.900221   17282.954313   \n",
       "min     6.314286e-10  113142.767739  21651.861321  130048.034541   \n",
       "50%     8.116688e-10  225784.848911  47955.585081  250470.507409   \n",
       "max     1.416153e-09  302396.416621  51473.873611  332056.285984   \n",
       "\n",
       "                 a+d  \n",
       "count   10000.000000  \n",
       "mean   274372.349319  \n",
       "std     16343.609478  \n",
       "min    134794.629060  \n",
       "50%    273729.482092  \n",
       "max    352054.033677  "
      ]
     },
     "execution_count": 90,
     "metadata": {},
     "output_type": "execute_result"
    }
   ],
   "source": [
    "mle_results.describe(percentiles=[])"
   ]
  },
  {
   "cell_type": "markdown",
   "metadata": {},
   "source": [
    "# Counting using stupid cross-multiplication 'method'"
   ]
  },
  {
   "cell_type": "code",
   "execution_count": 22,
   "metadata": {
    "collapsed": true
   },
   "outputs": [],
   "source": [
    "num_replicates = 10000"
   ]
  },
  {
   "cell_type": "code",
   "execution_count": 23,
   "metadata": {
    "collapsed": true
   },
   "outputs": [],
   "source": [
    "# dataframe to accumulate results of sampling in\n",
    "direct_results = pd.DataFrame(columns=['mutation_rate', 'a', 'd', 'f'],\n",
    "                              index=range(num_replicates),\n",
    "                              dtype=float)"
   ]
  },
  {
   "cell_type": "code",
   "execution_count": 24,
   "metadata": {
    "collapsed": false
   },
   "outputs": [],
   "source": [
    "for i in range(num_replicates):\n",
    "    sampled_counts = {branch : sample_mutations(branch) for branch in 'adef'}\n",
    "    direct_results.iloc[i] = direct_estimation(sampled_counts)"
   ]
  },
  {
   "cell_type": "code",
   "execution_count": 25,
   "metadata": {
    "collapsed": false
   },
   "outputs": [],
   "source": [
    "direct_results['a+d'] = direct_results['a'] + direct_results['d']"
   ]
  },
  {
   "cell_type": "code",
   "execution_count": 26,
   "metadata": {
    "collapsed": false
   },
   "outputs": [
    {
     "data": {
      "text/html": [
       "<div>\n",
       "<table border=\"1\" class=\"dataframe\">\n",
       "  <thead>\n",
       "    <tr style=\"text-align: right;\">\n",
       "      <th></th>\n",
       "      <th>mutation_rate</th>\n",
       "      <th>a</th>\n",
       "      <th>d</th>\n",
       "      <th>f</th>\n",
       "      <th>a+d</th>\n",
       "    </tr>\n",
       "  </thead>\n",
       "  <tbody>\n",
       "    <tr>\n",
       "      <th>count</th>\n",
       "      <td>1.000000e+04</td>\n",
       "      <td>10000.000000</td>\n",
       "      <td>10000.000000</td>\n",
       "      <td>10000.000000</td>\n",
       "      <td>10000.000000</td>\n",
       "    </tr>\n",
       "    <tr>\n",
       "      <th>mean</th>\n",
       "      <td>8.112513e-10</td>\n",
       "      <td>226547.281960</td>\n",
       "      <td>48002.113373</td>\n",
       "      <td>251402.574098</td>\n",
       "      <td>274549.395334</td>\n",
       "    </tr>\n",
       "    <tr>\n",
       "      <th>std</th>\n",
       "      <td>4.897956e-11</td>\n",
       "      <td>15028.002233</td>\n",
       "      <td>182.461663</td>\n",
       "      <td>16526.710615</td>\n",
       "      <td>15195.173404</td>\n",
       "    </tr>\n",
       "    <tr>\n",
       "      <th>min</th>\n",
       "      <td>6.101887e-10</td>\n",
       "      <td>176109.510086</td>\n",
       "      <td>47422.096317</td>\n",
       "      <td>196699.716714</td>\n",
       "      <td>223573.487032</td>\n",
       "    </tr>\n",
       "    <tr>\n",
       "      <th>25%</th>\n",
       "      <td>7.776359e-10</td>\n",
       "      <td>216151.906780</td>\n",
       "      <td>47878.787879</td>\n",
       "      <td>239657.136658</td>\n",
       "      <td>264027.089415</td>\n",
       "    </tr>\n",
       "    <tr>\n",
       "      <th>50%</th>\n",
       "      <td>8.116929e-10</td>\n",
       "      <td>225929.434767</td>\n",
       "      <td>47989.510490</td>\n",
       "      <td>250648.464164</td>\n",
       "      <td>273882.101216</td>\n",
       "    </tr>\n",
       "    <tr>\n",
       "      <th>75%</th>\n",
       "      <td>8.429119e-10</td>\n",
       "      <td>236372.747037</td>\n",
       "      <td>48120.437956</td>\n",
       "      <td>262087.912088</td>\n",
       "      <td>284494.382022</td>\n",
       "    </tr>\n",
       "    <tr>\n",
       "      <th>max</th>\n",
       "      <td>1.001845e-09</td>\n",
       "      <td>293860.465116</td>\n",
       "      <td>48976.744186</td>\n",
       "      <td>336767.441860</td>\n",
       "      <td>342837.209302</td>\n",
       "    </tr>\n",
       "  </tbody>\n",
       "</table>\n",
       "</div>"
      ],
      "text/plain": [
       "       mutation_rate              a             d              f  \\\n",
       "count   1.000000e+04   10000.000000  10000.000000   10000.000000   \n",
       "mean    8.112513e-10  226547.281960  48002.113373  251402.574098   \n",
       "std     4.897956e-11   15028.002233    182.461663   16526.710615   \n",
       "min     6.101887e-10  176109.510086  47422.096317  196699.716714   \n",
       "25%     7.776359e-10  216151.906780  47878.787879  239657.136658   \n",
       "50%     8.116929e-10  225929.434767  47989.510490  250648.464164   \n",
       "75%     8.429119e-10  236372.747037  48120.437956  262087.912088   \n",
       "max     1.001845e-09  293860.465116  48976.744186  336767.441860   \n",
       "\n",
       "                 a+d  \n",
       "count   10000.000000  \n",
       "mean   274549.395334  \n",
       "std     15195.173404  \n",
       "min    223573.487032  \n",
       "25%    264027.089415  \n",
       "50%    273882.101216  \n",
       "75%    284494.382022  \n",
       "max    342837.209302  "
      ]
     },
     "execution_count": 26,
     "metadata": {},
     "output_type": "execute_result"
    }
   ],
   "source": [
    "direct_results.describe()"
   ]
  },
  {
   "cell_type": "code",
   "execution_count": 27,
   "metadata": {
    "collapsed": false
   },
   "outputs": [
    {
     "data": {
      "text/plain": [
       "[8.116929189726124e-10,\n",
       " 225629.37062937065,\n",
       " 47989.51048951049,\n",
       " 250332.16783216785]"
      ]
     },
     "execution_count": 27,
     "metadata": {},
     "output_type": "execute_result"
    }
   ],
   "source": [
    "direct_estimation(OBSERVED_COUNTS)"
   ]
  },
  {
   "cell_type": "markdown",
   "metadata": {},
   "source": [
    "# Estimations based on original counts"
   ]
  },
  {
   "cell_type": "code",
   "execution_count": 216,
   "metadata": {
    "collapsed": false,
    "scrolled": true
   },
   "outputs": [
    {
     "data": {
      "text/plain": [
       "{'a': 1434, 'd': 305, 'e': 19, 'f': 1591}"
      ]
     },
     "execution_count": 216,
     "metadata": {},
     "output_type": "execute_result"
    }
   ],
   "source": [
    "OBSERVED_COUNTS"
   ]
  },
  {
   "cell_type": "code",
   "execution_count": 237,
   "metadata": {
    "collapsed": false
   },
   "outputs": [
    {
     "name": "stdout",
     "output_type": "stream",
     "text": [
      " final_simplex: (array([[  8.13183106e-10,   2.25299226e+05,   4.79237806e+04,\n",
      "          2.49912609e+05],\n",
      "       [  8.13183106e-10,   2.25299226e+05,   4.79237807e+04,\n",
      "          2.49912609e+05],\n",
      "       [  8.13183106e-10,   2.25299226e+05,   4.79237806e+04,\n",
      "          2.49912609e+05],\n",
      "       [  8.13183106e-10,   2.25299226e+05,   4.79237807e+04,\n",
      "          2.49912609e+05],\n",
      "       [  8.13183106e-10,   2.25299226e+05,   4.79237806e+04,\n",
      "          2.49912609e+05]]), array([ 16.68475154,  16.68475154,  16.68475154,  16.68475154,  16.68475154]))\n",
      "           fun: 16.684751540865591\n",
      "       message: 'Optimization terminated successfully.'\n",
      "          nfev: 420\n",
      "           nit: 188\n",
      "        status: 0\n",
      "       success: True\n",
      "             x: array([  8.13183106e-10,   2.25299226e+05,   4.79237806e+04,\n",
      "         2.49912609e+05])\n"
     ]
    },
    {
     "data": {
      "text/plain": [
       "array([ 1434.53057874,   305.1414329 ,  1591.24948984])"
      ]
     },
     "execution_count": 237,
     "metadata": {},
     "output_type": "execute_result"
    }
   ],
   "source": [
    "res = optimize.minimize(optim_func, (2e-10, 100000, 100000, 100000), args=OBSERVED_COUNTS, method='Nelder-Mead')\n",
    "print(res)\n",
    "LENGTH * res.x[0] * res.x[1:]"
   ]
  },
  {
   "cell_type": "code",
   "execution_count": 247,
   "metadata": {
    "collapsed": false
   },
   "outputs": [
    {
     "name": "stdout",
     "output_type": "stream",
     "text": [
      "     fun: 16.684751540865591\n",
      " message: 'Optimization terminated successfully.'\n",
      "    nfev: 3785\n",
      "     nit: 62\n",
      " success: True\n",
      "       x: array([  8.13489847e-10,   2.25219191e+05,   4.79476587e+04,\n",
      "         2.49913221e+05])\n"
     ]
    },
    {
     "data": {
      "text/plain": [
       "array([ 1434.56190029,   305.40862936,  1591.85362665])"
      ]
     },
     "execution_count": 247,
     "metadata": {},
     "output_type": "execute_result"
    }
   ],
   "source": [
    "res = optimize.differential_evolution(optim_func, bounds=[(1e-11, 9e-9), (100, 500000), (100, 500000), (100, 500000)],\n",
    "                                      args=(OBSERVED_COUNTS, ), tol=1e-10)\n",
    "print(res)\n",
    "LENGTH * res.x[0] * res.x[1:]"
   ]
  },
  {
   "cell_type": "code",
   "execution_count": 248,
   "metadata": {
    "collapsed": false
   },
   "outputs": [
    {
     "name": "stdout",
     "output_type": "stream",
     "text": [
      "     fun: 16.713742690063327\n",
      " message: 'Optimization terminated successfully.'\n",
      "    nfev: 1925\n",
      "     nit: 31\n",
      " success: True\n",
      "       x: array([  8.18315735e-10,   2.23689581e+05,   4.78394620e+04,\n",
      "         2.49710372e+05])\n"
     ]
    },
    {
     "data": {
      "text/plain": [
       "array([ 1433.27135304,   306.52715264,  1599.99728791])"
      ]
     },
     "execution_count": 248,
     "metadata": {},
     "output_type": "execute_result"
    }
   ],
   "source": [
    "res = optimize.differential_evolution(optim_func, bounds=[(1e-11, 9e-9), (100, 500000), (100, 500000), (100, 500000)],\n",
    "                                      args=(OBSERVED_COUNTS, ))\n",
    "print(res)\n",
    "LENGTH * res.x[0] * res.x[1:]"
   ]
  },
  {
   "cell_type": "code",
   "execution_count": 224,
   "metadata": {
    "collapsed": false
   },
   "outputs": [
    {
     "data": {
      "text/plain": [
       "mutation_rate    8.116929e-10\n",
       "a                2.256294e+05\n",
       "d                4.798951e+04\n",
       "f                2.503322e+05\n",
       "dtype: float64"
      ]
     },
     "execution_count": 224,
     "metadata": {},
     "output_type": "execute_result"
    }
   ],
   "source": [
    "direct_estimation(OBSERVED_COUNTS)"
   ]
  },
  {
   "cell_type": "code",
   "execution_count": 230,
   "metadata": {
    "collapsed": false
   },
   "outputs": [
    {
     "data": {
      "text/plain": [
       "16.688146814872198"
      ]
     },
     "execution_count": 230,
     "metadata": {},
     "output_type": "execute_result"
    }
   ],
   "source": [
    "optim_func([8.116929e-10, 2.256294e+05,  4.798951e+04, 2.503322e+05], OBSERVED_COUNTS)"
   ]
  }
 ],
 "metadata": {
  "kernelspec": {
   "display_name": "Python 3",
   "language": "python",
   "name": "python3"
  },
  "language_info": {
   "codemirror_mode": {
    "name": "ipython",
    "version": 3
   },
   "file_extension": ".py",
   "mimetype": "text/x-python",
   "name": "python",
   "nbconvert_exporter": "python",
   "pygments_lexer": "ipython3",
   "version": "3.5.1"
  }
 },
 "nbformat": 4,
 "nbformat_minor": 0
}
