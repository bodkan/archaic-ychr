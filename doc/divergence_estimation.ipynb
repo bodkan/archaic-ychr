{
 "cells": [
  {
   "cell_type": "code",
   "execution_count": 1,
   "metadata": {
    "collapsed": true
   },
   "outputs": [],
   "source": [
    "import vcf\n",
    "import pandas as pd\n",
    "import matplotlib.pyplot as plt\n",
    "import seaborn as sns"
   ]
  },
  {
   "cell_type": "code",
   "execution_count": 2,
   "metadata": {
    "collapsed": true
   },
   "outputs": [],
   "source": [
    "%matplotlib inline"
   ]
  },
  {
   "cell_type": "code",
   "execution_count": 3,
   "metadata": {
    "collapsed": true
   },
   "outputs": [],
   "source": [
    "vcf_reader = vcf.Reader(open('../vcf/merged_all_ontarget.vcf.gz', 'rb'))"
   ]
  },
  {
   "cell_type": "code",
   "execution_count": 4,
   "metadata": {
    "collapsed": false
   },
   "outputs": [],
   "source": [
    "def get_base(rec, sample_id):\n",
    "    return rec.genotype(sample_id).gt_bases\n",
    "\n",
    "def is_called(rec, sample_id):\n",
    "    return rec.genotype(sample_id).called\n",
    "\n",
    "\n",
    "def print_matches(sample_name, matches, total):\n",
    "    print('Proportions of matches of {} to different individuals:'.format(sample_name))\n",
    "    print(matches / total)\n",
    "    print('\\ntotal # of sites: ', total, '\\n')"
   ]
  },
  {
   "cell_type": "markdown",
   "metadata": {},
   "source": [
    "# Using all fragments in Denisova 8"
   ]
  },
  {
   "cell_type": "code",
   "execution_count": 5,
   "metadata": {
    "collapsed": false
   },
   "outputs": [],
   "source": [
    "sample_ids = ['Chimp', 'ElSidron', 'A00', 'HGDP00001', 'HGDP00099', 'HGDP00449',\n",
    "              'HGDP00511', 'HGDP00540', 'HGDP00608', 'HGDP00703', 'HGDP00786']\n",
    "\n",
    "nea_matches = pd.Series({ s : 0 for s in sample_ids + ['Den8']})\n",
    "den_matches = pd.Series({ s : 0 for s in sample_ids + ['Den8']})"
   ]
  },
  {
   "cell_type": "code",
   "execution_count": 6,
   "metadata": {
    "collapsed": false,
    "scrolled": false
   },
   "outputs": [],
   "source": [
    "total = 0\n",
    "for rec in vcf_reader.fetch('Y'):\n",
    "    # skip sites with missing information in relevant samples\n",
    "    if not (all(is_called(rec, s) for s in sample_ids + ['Den8'])):\n",
    "        continue\n",
    "    \n",
    "    sidron = get_base(rec, 'ElSidron')\n",
    "    den = get_base(rec, 'Den8')\n",
    "    \n",
    "    for s in sample_ids + ['Den8']:\n",
    "        if sidron   == get_base(rec, s): nea_matches[s] += 1\n",
    "        if den      == get_base(rec, s): den_matches[s] += 1\n",
    "    \n",
    "    total += 1"
   ]
  },
  {
   "cell_type": "code",
   "execution_count": 7,
   "metadata": {
    "collapsed": false,
    "scrolled": false
   },
   "outputs": [
    {
     "name": "stdout",
     "output_type": "stream",
     "text": [
      "Proportions of matches of El Sidron to different individuals:\n",
      "A00          0.999665\n",
      "Chimp        0.961633\n",
      "Den8         0.997825\n",
      "ElSidron     1.000000\n",
      "HGDP00001    0.999387\n",
      "HGDP00099    0.999331\n",
      "HGDP00449    0.999387\n",
      "HGDP00511    0.999387\n",
      "HGDP00540    0.999387\n",
      "HGDP00608    0.999387\n",
      "HGDP00703    0.999331\n",
      "HGDP00786    0.999442\n",
      "dtype: float64\n",
      "\n",
      "total # of sites:  17932 \n",
      "\n",
      "Proportions of matches of Denisova to different individuals:\n",
      "A00          0.997937\n",
      "Chimp        0.960462\n",
      "Den8         1.000000\n",
      "ElSidron     0.997825\n",
      "HGDP00001    0.997992\n",
      "HGDP00099    0.997825\n",
      "HGDP00449    0.997769\n",
      "HGDP00511    0.997881\n",
      "HGDP00540    0.997881\n",
      "HGDP00608    0.997881\n",
      "HGDP00703    0.997825\n",
      "HGDP00786    0.997937\n",
      "dtype: float64\n",
      "\n",
      "total # of sites:  17932 \n",
      "\n"
     ]
    }
   ],
   "source": [
    "print_matches('El Sidron', nea_matches, total)\n",
    "print_matches('Denisova', den_matches, total)"
   ]
  },
  {
   "cell_type": "markdown",
   "metadata": {},
   "source": [
    "# Using damaged fragments in Denisova 8 only"
   ]
  },
  {
   "cell_type": "code",
   "execution_count": 17,
   "metadata": {
    "collapsed": true
   },
   "outputs": [],
   "source": [
    "dmg_nea_matches = pd.Series({ s : 0 for s in sample_ids + ['Den8_deam']})\n",
    "dmg_den_matches = pd.Series({ s : 0 for s in sample_ids + ['Den8_deam']})"
   ]
  },
  {
   "cell_type": "code",
   "execution_count": 18,
   "metadata": {
    "collapsed": false,
    "scrolled": false
   },
   "outputs": [],
   "source": [
    "dmg_total = 0\n",
    "for rec in vcf_reader.fetch('Y'):\n",
    "    # skip sites with missing information in relevant samples\n",
    "    if not (all(is_called(rec, s) for s in ['Den8_deam'] + sample_ids)):\n",
    "        continue\n",
    "\n",
    "    sidron = get_base(rec, 'ElSidron')\n",
    "    den = get_base(rec, 'Den8_deam')\n",
    "    \n",
    "    for s in sample_ids + ['Den8_deam']:\n",
    "        if sidron   == get_base(rec, s): dmg_nea_matches[s] += 1\n",
    "        if den      == get_base(rec, s): dmg_den_matches[s] += 1\n",
    "\n",
    "    dmg_total += 1"
   ]
  },
  {
   "cell_type": "code",
   "execution_count": 19,
   "metadata": {
    "collapsed": false
   },
   "outputs": [
    {
     "name": "stdout",
     "output_type": "stream",
     "text": [
      "Proportions of matches of El Sidron to different individuals:\n",
      "A00          1.000000\n",
      "Chimp        0.947152\n",
      "Den8_deam    0.996770\n",
      "ElSidron     1.000000\n",
      "HGDP00001    1.000000\n",
      "HGDP00099    0.999706\n",
      "HGDP00449    1.000000\n",
      "HGDP00511    1.000000\n",
      "HGDP00540    0.999706\n",
      "HGDP00608    0.999706\n",
      "HGDP00703    1.000000\n",
      "HGDP00786    1.000000\n",
      "dtype: float64\n",
      "\n",
      "total # of sites:  3406 \n",
      "\n",
      "Proportions of matches of Denisova DEAM to different individuals:\n",
      "A00          0.996770\n",
      "Chimp        0.945097\n",
      "Den8_deam    1.000000\n",
      "ElSidron     0.996770\n",
      "HGDP00001    0.996770\n",
      "HGDP00099    0.996477\n",
      "HGDP00449    0.996770\n",
      "HGDP00511    0.996770\n",
      "HGDP00540    0.996477\n",
      "HGDP00608    0.996477\n",
      "HGDP00703    0.996770\n",
      "HGDP00786    0.996770\n",
      "dtype: float64\n",
      "\n",
      "total # of sites:  3406 \n",
      "\n"
     ]
    }
   ],
   "source": [
    "print_matches('El Sidron', dmg_nea_matches, dmg_total)\n",
    "print_matches('Denisova DEAM', dmg_den_matches, dmg_total)"
   ]
  }
 ],
 "metadata": {
  "kernelspec": {
   "display_name": "Python 3",
   "language": "python",
   "name": "python3"
  },
  "language_info": {
   "codemirror_mode": {
    "name": "ipython",
    "version": 3
   },
   "file_extension": ".py",
   "mimetype": "text/x-python",
   "name": "python",
   "nbconvert_exporter": "python",
   "pygments_lexer": "ipython3",
   "version": "3.5.1"
  }
 },
 "nbformat": 4,
 "nbformat_minor": 0
}
