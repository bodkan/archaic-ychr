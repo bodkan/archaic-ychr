{
 "cells": [
  {
   "cell_type": "markdown",
   "metadata": {},
   "source": [
    "# The quest to find data analyzed in the [Lippold et al., 2014](http://investigativegenetics.biomedcentral.com/articles/10.1186/2041-2223-5-13) paper\n",
    "\n",
    "Chiara pointed me to this directory: `/mnt/scratch/basti/` where I should do some digging to find the published final SNP calls.\n",
    "\n",
    "There's a lot of stuff in there, but here are some relevant files and directories:\n",
    "\n",
    "**Directory with 623 BAM files**\n",
    "\n",
    "* `/mnt/scratch/basti/HGDP_chrY_data/raw_data_submission`\n",
    "* The same BAMs are here too `/mnt/scratch/basti/HGDP_chrY_data/HGDP_files`\n",
    "\n",
    "**BAM merging and sorting README**\n",
    "\n",
    " * `/mnt/scratch/basti/HGDP_chrY_data/final_bam/readme.19Dec12.txt`\n",
    " * According to this, the final merged sorted BAM file with all 623 individuals is here: `/mnt/scratch/basti/HGDP_chrY_data/final_bam/HGDP.ReA.tr575.DR.623ind.bam` and this is the file used for GATK genotyping bellow\n",
    "\n",
    "**SNP calling README**\n",
    "* `/mnt/scratch/basti/HGDP_chrY_data/snp_call/readme.SNPcall.txt`\n",
    "* This describes the GATK run: the output is in `/mnt/scratch/basti/HGDP_chrY_data/snp_call/GATK2.SNP.confidentSites.ReA.tr575.mbq20.vcf.gz`\n",
    "* Also the following processing of the VCF file (imputation, removal of recurrent mutation etc.). Unfortunately, many of the processed files have non-existent destinations so it's impossible to track them down from this further on.\n",
    "\n",
    "**README with analysis pipeline after all processing has been finished**\n",
    "* `/mnt/scratch/basti/HGDP_analysis/readme_Jan2013.txt`\n",
    "* This describes the actual analysis and also generating the input files (FASTA from VCF). It seems that the VCF files referenced here are the ones that were impossible to find in the previous README file (some must have moved them before this analysis).\n",
    "\n",
    "**Positions of recurrent mutations mentioned in the paper (48 in total):**\n",
    "`/mnt/scratch/basti/HGDP_chrY_data/snp_call/recurrency.test.pos.list`"
   ]
  },
  {
   "cell_type": "markdown",
   "metadata": {},
   "source": [
    "## Enrico to the rescue!\n",
    "\n",
    "Enrico did some more digging and found a directory where Basti himself probably put a \"backup\" of some important files before he left:\n",
    "* `/mnt/expressions/basti/sammelsurium/vcf`\n",
    "\n",
    "There is even a VCF file which has exactly 2,228 SNPs as described in the manuscript:\n",
    "* `/mnt/expressions/basti/sammelsurium/vcf/HGDP.2228pos.vcf`\n",
    "\n",
    "I have already finished genotyping from the raw BAM files using samtools/bcftools to keep everything consistent with the rest of the SNP data (A00 and El Sidron) but it is useful to have the original VCF call set available in case I want to make a comparison between Lippold et al. results and my results."
   ]
  }
 ],
 "metadata": {
  "kernelspec": {
   "display_name": "Bash",
   "language": "bash",
   "name": "bash"
  },
  "language_info": {
   "codemirror_mode": "shell",
   "file_extension": ".sh",
   "mimetype": "text/x-sh",
   "name": "bash"
  }
 },
 "nbformat": 4,
 "nbformat_minor": 0
}
